{
 "cells": [
  {
   "cell_type": "markdown",
   "metadata": {},
   "source": [
    "# 4. PostProccess\n",
    "Kaggle score: 0.000"
   ]
  },
  {
   "cell_type": "markdown",
   "metadata": {},
   "source": [
    "## Run name"
   ]
  },
  {
   "cell_type": "code",
   "execution_count": 1,
   "metadata": {},
   "outputs": [
    {
     "name": "stdout",
     "output_type": "stream",
     "text": [
      "run_name: Google_LandMark_Rec_PostProccess_20180417_202850\n"
     ]
    }
   ],
   "source": [
    "import time\n",
    "import os\n",
    "import pandas as pd\n",
    "\n",
    "project_name = 'Google_LandMark_Rec'\n",
    "step_name = 'PostProccess'\n",
    "time_str = time.strftime(\"%Y%m%d_%H%M%S\", time.localtime())\n",
    "run_name = project_name + '_' + step_name + '_' + time_str\n",
    "print('run_name: ' + run_name)"
   ]
  },
  {
   "cell_type": "markdown",
   "metadata": {},
   "source": [
    "## Project folder"
   ]
  },
  {
   "cell_type": "code",
   "execution_count": 2,
   "metadata": {},
   "outputs": [
    {
     "name": "stdout",
     "output_type": "stream",
     "text": [
      "input_folder: \tD:\\bitbucket\\kaggle\\landmark-recognition-challenge\\input\n",
      "output_folder: \tD:\\bitbucket\\kaggle\\landmark-recognition-challenge\\output\n",
      "model_folder: \tD:\\bitbucket\\kaggle\\landmark-recognition-challenge\\model\n",
      "feature_folder: \tD:\\bitbucket\\kaggle\\landmark-recognition-challenge\\feature\n",
      "post_pca_feature_folder: \tD:\\bitbucket\\kaggle\\landmark-recognition-challenge\\post_pca_feature\n",
      "log_folder: \tD:\\bitbucket\\kaggle\\landmark-recognition-challenge\\log\n"
     ]
    }
   ],
   "source": [
    "cwd = os.getcwd()\n",
    "input_folder = os.path.join(cwd, 'input')\n",
    "output_folder = os.path.join(cwd, 'output')\n",
    "model_folder = os.path.join(cwd, 'model')\n",
    "feature_folder = os.path.join(cwd, 'feature')\n",
    "post_pca_feature_folder = os.path.join(cwd, 'post_pca_feature')\n",
    "log_folder = os.path.join(cwd, 'log')\n",
    "print('input_folder: \\t' + input_folder)\n",
    "print('output_folder: \\t' + output_folder)\n",
    "print('model_folder: \\t' + model_folder)\n",
    "print('feature_folder: \\t' + feature_folder)\n",
    "print('post_pca_feature_folder: \\t' + post_pca_feature_folder)\n",
    "print('log_folder: \\t' + log_folder)\n",
    "\n",
    "org_train_folder = os.path.join(input_folder, 'org_train')\n",
    "org_test_folder = os.path.join(input_folder, 'org_test')\n",
    "train_folder = os.path.join(input_folder, 'data_train')\n",
    "test_folder = os.path.join(input_folder, 'data_test')\n",
    "test_sub_folder = os.path.join(test_folder, 'test')\n",
    "\n",
    "if not os.path.exists(post_pca_feature_folder):\n",
    "    os.mkdir(post_pca_feature_folder)\n",
    "    print('Create folder: %s' % post_pca_feature_folder)"
   ]
  },
  {
   "cell_type": "code",
   "execution_count": 3,
   "metadata": {},
   "outputs": [],
   "source": [
    "train_csv_file = os.path.join(input_folder, 'train.csv')\n",
    "test_csv_file = os.path.join(input_folder, 'test.csv')\n",
    "sample_submission_file = os.path.join(input_folder, 'sample_submission.csv')"
   ]
  },
  {
   "cell_type": "markdown",
   "metadata": {},
   "source": [
    "## Proccess result"
   ]
  },
  {
   "cell_type": "code",
   "execution_count": 4,
   "metadata": {},
   "outputs": [
    {
     "name": "stdout",
     "output_type": "stream",
     "text": [
      "(117703, 2)\n",
      "                 id     landmarks\n",
      "0  000088da12d664db   2080 0.7491\n",
      "1  0001623c6d808702  14918 0.1574\n"
     ]
    }
   ],
   "source": [
    "submission_csv_file = os.path.join(output_folder, 'pred_Google_LandMark_Rec_Train-Predict_20180311_104053_10136.csv')\n",
    "submission_csv = pd.read_csv(submission_csv_file)\n",
    "print(submission_csv.shape)\n",
    "print(submission_csv.head(2))"
   ]
  },
  {
   "cell_type": "code",
   "execution_count": 5,
   "metadata": {},
   "outputs": [
    {
     "name": "stdout",
     "output_type": "stream",
     "text": [
      "0 1 2 3 4 5 6 7 8 9 10 11 12 13 14 15 16 17 18 19 20 21 22 23 24 25 26 27 28 29 30 31 32 33 34 35 36 37 38 39 40 41 42 43 44 45 46 47 48 49 50 51 52 53 54 55 56 57 58 59 60 61 62 63 64 65 66 67 68 69 70 71 72 73 74 75 76 77 78 79 80 81 82 83 84 85 86 87 88 89 90 91 92 93 94 95 96 97 98 99 100 101 102 103 104 105 106 107 108 109 110 111 112 113 114 115 116 117 \n",
      "float_count: \t1761\n",
      "str_count: \t115942\n",
      "empty_str_count: \t0\n",
      "less_than_count: \t0\n",
      "larger_than_count: \t0\n"
     ]
    }
   ],
   "source": [
    "float_count = 0\n",
    "str_count = 0\n",
    "empty_str_count = 0\n",
    "less_than_count = 0\n",
    "larger_than_count = 0\n",
    "\n",
    "for i in range(submission_csv.shape[0]):\n",
    "    landmarks = submission_csv['landmarks'][i]\n",
    "#     print(landmarks, end='  ')\n",
    "    if type(landmarks) == float:\n",
    "        float_count = float_count + 1\n",
    "        submission_csv['landmarks'][i] = ''\n",
    "    else:\n",
    "        str_count = str_count + 1\n",
    "        if landmarks != '':\n",
    "            proba_strs = landmarks.split(' ')\n",
    "            proba = float(proba_strs[1])\n",
    "            submission_csv['landmarks'][i] = '%s %s' % (proba_strs[0], '1')\n",
    "#             if proba < 0.7:\n",
    "#                 less_than_count = less_than_count + 1\n",
    "#                 submission_csv['landmarks'][i] = ''\n",
    "#             else:\n",
    "#                 larger_than_count = larger_than_count + 1\n",
    "#                 submission_csv['landmarks'][i] = '%s %s' % (proba_strs[0], '1')\n",
    "        else:\n",
    "            empty_str_count = empty_str_count + 1\n",
    "    if i % 1000 == 0:\n",
    "        print(i // 1000, end=' ')\n",
    "\n",
    "print('\\nfloat_count: \\t%s' % float_count)\n",
    "print('str_count: \\t%s' % str_count)\n",
    "print('empty_str_count: \\t%s' % empty_str_count)\n",
    "print('less_than_count: \\t%s' % less_than_count)\n",
    "print('larger_than_count: \\t%s' % larger_than_count)"
   ]
  },
  {
   "cell_type": "code",
   "execution_count": 6,
   "metadata": {},
   "outputs": [
    {
     "name": "stdout",
     "output_type": "stream",
     "text": [
      "(117703, 2)\n",
      "                 id landmarks\n",
      "0  000088da12d664db    2080 1\n",
      "1  0001623c6d808702   14918 1\n"
     ]
    }
   ],
   "source": [
    "print(submission_csv.shape)\n",
    "print(submission_csv.head(2))"
   ]
  },
  {
   "cell_type": "code",
   "execution_count": 7,
   "metadata": {},
   "outputs": [
    {
     "name": "stdout",
     "output_type": "stream",
     "text": [
      "D:\\bitbucket\\kaggle\\landmark-recognition-challenge\\output\\Google_LandMark_Rec_PostProccess_20180417_202850.csv\n"
     ]
    }
   ],
   "source": [
    "pred_file = os.path.join(output_folder, run_name + '.csv')\n",
    "print(pred_file)\n",
    "submission_csv.to_csv(pred_file, index=None)"
   ]
  },
  {
   "cell_type": "code",
   "execution_count": 8,
   "metadata": {},
   "outputs": [
    {
     "name": "stdout",
     "output_type": "stream",
     "text": [
      "Done!\n"
     ]
    }
   ],
   "source": [
    "print('Done!')"
   ]
  },
  {
   "cell_type": "code",
   "execution_count": null,
   "metadata": {},
   "outputs": [],
   "source": []
  }
 ],
 "metadata": {
  "kernelspec": {
   "display_name": "Python 3",
   "language": "python",
   "name": "python3"
  },
  "language_info": {
   "codemirror_mode": {
    "name": "ipython",
    "version": 3
   },
   "file_extension": ".py",
   "mimetype": "text/x-python",
   "name": "python",
   "nbconvert_exporter": "python",
   "pygments_lexer": "ipython3",
   "version": "3.6.4"
  }
 },
 "nbformat": 4,
 "nbformat_minor": 2
}
