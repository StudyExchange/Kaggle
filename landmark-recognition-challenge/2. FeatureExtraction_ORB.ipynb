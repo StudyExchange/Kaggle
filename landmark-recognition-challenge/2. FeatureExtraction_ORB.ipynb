{
 "cells": [
  {
   "cell_type": "markdown",
   "metadata": {},
   "source": [
    "## 2. FeatureExtraction_ORB"
   ]
  },
  {
   "cell_type": "markdown",
   "metadata": {},
   "source": [
    "## Run name"
   ]
  },
  {
   "cell_type": "code",
   "execution_count": 1,
   "metadata": {},
   "outputs": [
    {
     "name": "stdout",
     "output_type": "stream",
     "text": [
      "run_name: Google_LandMark_Rec_FeatureExtraction_ORB_20180510_092824\n"
     ]
    }
   ],
   "source": [
    "import time\n",
    "\n",
    "project_name = 'Google_LandMark_Rec'\n",
    "step_name = 'FeatureExtraction_ORB'\n",
    "time_str = time.strftime(\"%Y%m%d_%H%M%S\", time.localtime())\n",
    "run_name = project_name + '_' + step_name + '_' + time_str\n",
    "print('run_name: ' + run_name)\n",
    "t0 = time.time()"
   ]
  },
  {
   "cell_type": "markdown",
   "metadata": {},
   "source": [
    "## Import PKGs"
   ]
  },
  {
   "cell_type": "code",
   "execution_count": 2,
   "metadata": {},
   "outputs": [
    {
     "name": "stderr",
     "output_type": "stream",
     "text": [
      "/home/ubuntu/anaconda3/envs/tensorflow_p36/lib/python3.6/site-packages/h5py/__init__.py:36: FutureWarning: Conversion of the second argument of issubdtype from `float` to `np.floating` is deprecated. In future, it will be treated as `np.float64 == np.dtype(float).type`.\n",
      "  from ._conv import register_converters as _register_converters\n"
     ]
    },
    {
     "name": "stdout",
     "output_type": "stream",
     "text": [
      "cpu_amount:  4\n"
     ]
    }
   ],
   "source": [
    "import numpy as np\n",
    "import pandas as pd\n",
    "import matplotlib.pyplot as plt\n",
    "import matplotlib.image as mpimg\n",
    "%matplotlib inline\n",
    "from IPython.display import display\n",
    "\n",
    "import os\n",
    "import sys\n",
    "import gc\n",
    "import math\n",
    "import shutil\n",
    "import zipfile\n",
    "import pickle\n",
    "import h5py\n",
    "import cv2\n",
    "from PIL import Image\n",
    "\n",
    "from tqdm import tqdm\n",
    "import multiprocessing\n",
    "\n",
    "from sklearn.model_selection import train_test_split\n",
    "from sklearn.metrics import confusion_matrix, accuracy_score\n",
    "\n",
    "cpu_amount = multiprocessing.cpu_count()\n",
    "print('cpu_amount: ', cpu_amount)"
   ]
  },
  {
   "cell_type": "markdown",
   "metadata": {},
   "source": [
    "## Project folders"
   ]
  },
  {
   "cell_type": "code",
   "execution_count": 3,
   "metadata": {},
   "outputs": [],
   "source": [
    "cwd = os.getcwd()\n",
    "feature_folder = os.path.join(cwd, 'feature')\n",
    "input_folder = os.path.join(cwd, 'input')\n",
    "output_folder = os.path.join(cwd, 'output')\n",
    "model_folder = os.path.join(cwd, 'model')\n",
    "\n",
    "org_train_folder = os.path.join(input_folder, 'org_train')\n",
    "org_test_folder = os.path.join(input_folder, 'org_test')\n",
    "train_folder = os.path.join(input_folder, 'data_train')\n",
    "val_folder = os.path.join(input_folder, 'data_val')\n",
    "test_folder = os.path.join(input_folder, 'data_test')\n",
    "test_sub_folder = os.path.join(test_folder, 'test')\n",
    "\n",
    "train_csv_file = os.path.join(input_folder, 'train.csv')\n",
    "test_csv_file = os.path.join(input_folder, 'test.csv')\n",
    "sample_submission_folder = os.path.join(input_folder, 'sample_submission.csv')"
   ]
  },
  {
   "cell_type": "markdown",
   "metadata": {},
   "source": [
    "## Preview csv"
   ]
  },
  {
   "cell_type": "code",
   "execution_count": 4,
   "metadata": {},
   "outputs": [
    {
     "name": "stdout",
     "output_type": "stream",
     "text": [
      "train_csv.shape is (1225029, 3).\n"
     ]
    },
    {
     "data": {
      "text/html": [
       "<div>\n",
       "<style scoped>\n",
       "    .dataframe tbody tr th:only-of-type {\n",
       "        vertical-align: middle;\n",
       "    }\n",
       "\n",
       "    .dataframe tbody tr th {\n",
       "        vertical-align: top;\n",
       "    }\n",
       "\n",
       "    .dataframe thead th {\n",
       "        text-align: right;\n",
       "    }\n",
       "</style>\n",
       "<table border=\"1\" class=\"dataframe\">\n",
       "  <thead>\n",
       "    <tr style=\"text-align: right;\">\n",
       "      <th></th>\n",
       "      <th>id</th>\n",
       "      <th>url</th>\n",
       "      <th>landmark_id</th>\n",
       "    </tr>\n",
       "  </thead>\n",
       "  <tbody>\n",
       "    <tr>\n",
       "      <th>0</th>\n",
       "      <td>cacf8152e2d2ae60</td>\n",
       "      <td>http://static.panoramio.com/photos/original/70...</td>\n",
       "      <td>4676</td>\n",
       "    </tr>\n",
       "    <tr>\n",
       "      <th>1</th>\n",
       "      <td>0a58358a2afd3e4e</td>\n",
       "      <td>http://lh6.ggpht.com/-igpT6wu0mIA/ROV8HnUuABI/...</td>\n",
       "      <td>6651</td>\n",
       "    </tr>\n",
       "  </tbody>\n",
       "</table>\n",
       "</div>"
      ],
      "text/plain": [
       "                 id                                                url  \\\n",
       "0  cacf8152e2d2ae60  http://static.panoramio.com/photos/original/70...   \n",
       "1  0a58358a2afd3e4e  http://lh6.ggpht.com/-igpT6wu0mIA/ROV8HnUuABI/...   \n",
       "\n",
       "   landmark_id  \n",
       "0         4676  \n",
       "1         6651  "
      ]
     },
     "metadata": {},
     "output_type": "display_data"
    },
    {
     "name": "stdout",
     "output_type": "stream",
     "text": [
      "test_csv.shape is (117703, 2).\n"
     ]
    },
    {
     "data": {
      "text/html": [
       "<div>\n",
       "<style scoped>\n",
       "    .dataframe tbody tr th:only-of-type {\n",
       "        vertical-align: middle;\n",
       "    }\n",
       "\n",
       "    .dataframe tbody tr th {\n",
       "        vertical-align: top;\n",
       "    }\n",
       "\n",
       "    .dataframe thead th {\n",
       "        text-align: right;\n",
       "    }\n",
       "</style>\n",
       "<table border=\"1\" class=\"dataframe\">\n",
       "  <thead>\n",
       "    <tr style=\"text-align: right;\">\n",
       "      <th></th>\n",
       "      <th>id</th>\n",
       "      <th>url</th>\n",
       "    </tr>\n",
       "  </thead>\n",
       "  <tbody>\n",
       "    <tr>\n",
       "      <th>0</th>\n",
       "      <td>000088da12d664db</td>\n",
       "      <td>https://lh3.googleusercontent.com/-k45wfamuhT8...</td>\n",
       "    </tr>\n",
       "    <tr>\n",
       "      <th>1</th>\n",
       "      <td>0001623c6d808702</td>\n",
       "      <td>https://lh3.googleusercontent.com/-OQ0ywv8KVIA...</td>\n",
       "    </tr>\n",
       "  </tbody>\n",
       "</table>\n",
       "</div>"
      ],
      "text/plain": [
       "                 id                                                url\n",
       "0  000088da12d664db  https://lh3.googleusercontent.com/-k45wfamuhT8...\n",
       "1  0001623c6d808702  https://lh3.googleusercontent.com/-OQ0ywv8KVIA..."
      ]
     },
     "metadata": {},
     "output_type": "display_data"
    }
   ],
   "source": [
    "train_csv = pd.read_csv(train_csv_file)\n",
    "print('train_csv.shape is {0}.'.format(train_csv.shape))\n",
    "display(train_csv.head(2))\n",
    "\n",
    "test_csv = pd.read_csv(test_csv_file)\n",
    "print('test_csv.shape is {0}.'.format(test_csv.shape))\n",
    "display(test_csv.head(2))"
   ]
  },
  {
   "cell_type": "code",
   "execution_count": 5,
   "metadata": {},
   "outputs": [
    {
     "name": "stdout",
     "output_type": "stream",
     "text": [
      "len(train_landmark_id) = \t14951\n",
      "len(id_2_landmark_id_dict) = \t1225029\n",
      "id: cacf8152e2d2ae60, \tlandmark_id:4676\n",
      "id: 0a58358a2afd3e4e, \tlandmark_id:6651\n"
     ]
    }
   ],
   "source": [
    "train_id = train_csv['id']\n",
    "train_landmark_id = train_csv['landmark_id']\n",
    "print('len(train_landmark_id) = \\t%s' % len(list(set(train_landmark_id))))\n",
    "\n",
    "id_2_landmark_id_dict = dict(zip(train_id, train_landmark_id))\n",
    "print('len(id_2_landmark_id_dict) = \\t%d' % len(id_2_landmark_id_dict))\n",
    "\n",
    "index = 0\n",
    "print('id: %s, \\tlandmark_id:%s' % (train_id[index], id_2_landmark_id_dict[train_id[index]]))\n",
    "index = 1\n",
    "print('id: %s, \\tlandmark_id:%s' % (train_id[index], id_2_landmark_id_dict[train_id[index]]))"
   ]
  },
  {
   "cell_type": "markdown",
   "metadata": {},
   "source": [
    "## FeatureExtraction_ORB"
   ]
  },
  {
   "cell_type": "code",
   "execution_count": 6,
   "metadata": {},
   "outputs": [
    {
     "name": "stdout",
     "output_type": "stream",
     "text": [
      "10\n",
      "/data1/kaggle/landmark-recognition-challenge/input/org_train/69b846bd58c3f09a.jpg\n"
     ]
    }
   ],
   "source": [
    "def image_detect_and_compute(image_file, clf):\n",
    "    \"\"\"Detect and compute interest points and their descriptors.\"\"\"\n",
    "    img = cv2.imread(image_file)\n",
    "    img = cv2.cvtColor(img, cv2.COLOR_BGR2GRAY)\n",
    "    kp, des = clf.detectAndCompute(img, None)\n",
    "    return des\n",
    "\n",
    "n_features = 500\n",
    "clf = cv2.ORB_create(n_features)\n",
    "\n",
    "org_train_images = os.listdir(org_train_folder)[:10]\n",
    "print(len(org_train_images))\n",
    "image_file = os.path.join(org_train_folder, org_train_images[0])\n",
    "print(image_file)"
   ]
  },
  {
   "cell_type": "markdown",
   "metadata": {},
   "source": [
    "### Basic process"
   ]
  },
  {
   "cell_type": "code",
   "execution_count": 7,
   "metadata": {},
   "outputs": [
    {
     "name": "stdout",
     "output_type": "stream",
     "text": [
      "<class 'numpy.ndarray'>\n",
      "(500, 32)\n",
      "0.02 Mb\n"
     ]
    }
   ],
   "source": [
    "des = image_detect_and_compute(image_file, clf)\n",
    "print(type(des))\n",
    "print(des.shape)\n",
    "print('%.2f Mb' % (sys.getsizeof(des)/1024/1024))"
   ]
  },
  {
   "cell_type": "code",
   "execution_count": 8,
   "metadata": {},
   "outputs": [
    {
     "name": "stdout",
     "output_type": "stream",
     "text": [
      "69b846bd58c3f09a.jpg 69b846bd58c3f09a\n",
      "(500, 32)\n",
      "[128 230 157 251 108 201 109 205  86 119  69 146 183 195 250]\n",
      "19a1de4f08cd0305.jpg 19a1de4f08cd0305\n",
      "(500, 32)\n",
      "[139 120 170 191  44 191 187 208  30 235  87 183 253 252 243]\n",
      "4ee821754ef5fd83.jpg 4ee821754ef5fd83\n",
      "(500, 32)\n",
      "[148 167   6 171 154  11 110 105  46  49 227 210 197  67   8]\n",
      "5f7f65b33582323e.jpg 5f7f65b33582323e\n",
      "(495, 32)\n",
      "[148 221  91 175 148 199 103 253  20   0  91  66 119 119  40]\n",
      "c1943ca95701cbc7.jpg c1943ca95701cbc7\n",
      "(500, 32)\n",
      "[247 164 132 147 137  61 136   9 139 241 141 220 194 236  94]\n",
      "96f38f15ea1a0731.jpg 96f38f15ea1a0731\n",
      "(500, 32)\n",
      "[184  73 118 253  21 214  86 244  85  12 242   3 107  25  53]\n",
      "1a4b8561cb5f267b.jpg 1a4b8561cb5f267b\n",
      "(500, 32)\n",
      "[252 188 254 122 171 249  85 222 243  31 164  56  59 255  66]\n",
      "2a85b4b43c7f7c83.jpg 2a85b4b43c7f7c83\n",
      "(500, 32)\n",
      "[ 41 169  51  91  77 221 224 197 239  73 228   8 162 152  86]\n",
      "d18895737fe52d04.jpg d18895737fe52d04\n",
      "(500, 32)\n",
      "[216 156  21 248 139 228  17 166 164  23 130  56 159  55   1]\n",
      "af89b3a1428973b4.jpg af89b3a1428973b4\n",
      "(500, 32)\n",
      "[182  19 252 154 175 249 144   4 223  85 213 191 238 204 254]\n",
      "********************************************************************************\n",
      "len_image_features= 10\n",
      "image_id: 69b846bd58c3f09a, \tlandmark_id:6051,\t feature_shape: \t (500, 32)\n",
      "image_id: 19a1de4f08cd0305, \tlandmark_id:9179,\t feature_shape: \t (500, 32)\n",
      "image_id: 4ee821754ef5fd83, \tlandmark_id:11301,\t feature_shape: \t (500, 32)\n",
      "image_id: 5f7f65b33582323e, \tlandmark_id:9633,\t feature_shape: \t (495, 32)\n",
      "image_id: c1943ca95701cbc7, \tlandmark_id:9119,\t feature_shape: \t (500, 32)\n",
      "image_id: 96f38f15ea1a0731, \tlandmark_id:9779,\t feature_shape: \t (500, 32)\n",
      "image_id: 1a4b8561cb5f267b, \tlandmark_id:10914,\t feature_shape: \t (500, 32)\n",
      "image_id: 2a85b4b43c7f7c83, \tlandmark_id:2949,\t feature_shape: \t (500, 32)\n",
      "image_id: d18895737fe52d04, \tlandmark_id:13526,\t feature_shape: \t (500, 32)\n",
      "image_id: af89b3a1428973b4, \tlandmark_id:4734,\t feature_shape: \t (500, 32)\n"
     ]
    }
   ],
   "source": [
    "image_features = {}\n",
    "n_rows = 10\n",
    "for i, image_name in enumerate(os.listdir(org_train_folder)[:n_rows]):\n",
    "    image_id = image_name[:-4]\n",
    "    print(image_name, image_id)\n",
    "    image_file = os.path.join(org_train_folder, image_name)\n",
    "    des = image_detect_and_compute(image_file, clf)\n",
    "    print(des.shape)\n",
    "    print(des[0][:15])\n",
    "    image_features[image_id] = des\n",
    "\n",
    "print('*'*80)\n",
    "print('len_image_features=', len(image_features.keys()))\n",
    "for i, image_id in enumerate(image_features.keys()):\n",
    "    print('image_id: %s, \\tlandmark_id:%s,\\t feature_shape: \\t' % (image_id, id_2_landmark_id_dict[image_id]), image_features[image_id].shape)\n"
   ]
  },
  {
   "cell_type": "code",
   "execution_count": 9,
   "metadata": {},
   "outputs": [
    {
     "name": "stdout",
     "output_type": "stream",
     "text": [
      "/data1/kaggle/landmark-recognition-challenge/feature/feature_Google_LandMark_Rec_FeatureExtraction_ORB_20180510_092824.pickle\n",
      "len_image_features= 10\n",
      "image_id: 69b846bd58c3f09a, \tlandmark_id:6051,\t feature_shape: \t (500, 32)\n",
      "image_id: 19a1de4f08cd0305, \tlandmark_id:9179,\t feature_shape: \t (500, 32)\n",
      "image_id: 4ee821754ef5fd83, \tlandmark_id:11301,\t feature_shape: \t (500, 32)\n",
      "image_id: 5f7f65b33582323e, \tlandmark_id:9633,\t feature_shape: \t (495, 32)\n",
      "image_id: c1943ca95701cbc7, \tlandmark_id:9119,\t feature_shape: \t (500, 32)\n",
      "image_id: 96f38f15ea1a0731, \tlandmark_id:9779,\t feature_shape: \t (500, 32)\n",
      "image_id: 1a4b8561cb5f267b, \tlandmark_id:10914,\t feature_shape: \t (500, 32)\n",
      "image_id: 2a85b4b43c7f7c83, \tlandmark_id:2949,\t feature_shape: \t (500, 32)\n",
      "image_id: d18895737fe52d04, \tlandmark_id:13526,\t feature_shape: \t (500, 32)\n",
      "image_id: af89b3a1428973b4, \tlandmark_id:4734,\t feature_shape: \t (500, 32)\n",
      "CPU times: user 4 ms, sys: 0 ns, total: 4 ms\n",
      "Wall time: 727 µs\n"
     ]
    }
   ],
   "source": [
    "%%time\n",
    "image_features_file = os.path.join(feature_folder, 'feature_%s.pickle' % run_name)\n",
    "print(image_features_file)\n",
    "# pickle.dump(image_features, open(image_features_file, \"wb\"), True)\n",
    "# image_features = pickle.load(open(image_features_file, \"rb\"))\n",
    "\n",
    "print('len_image_features=', len(image_features.keys()))\n",
    "for i, image_id in enumerate(image_features.keys()):\n",
    "    print('image_id: %s, \\tlandmark_id:%s,\\t feature_shape: \\t' % (image_id, id_2_landmark_id_dict[image_id]), image_features[image_id].shape)\n"
   ]
  },
  {
   "cell_type": "code",
   "execution_count": 10,
   "metadata": {},
   "outputs": [
    {
     "name": "stdout",
     "output_type": "stream",
     "text": [
      "CPU times: user 0 ns, sys: 0 ns, total: 0 ns\n",
      "Wall time: 5.25 µs\n"
     ]
    }
   ],
   "source": [
    "%%time\n",
    "def dump_pickle_feature(run_name, image_features):\n",
    "    image_features_file = os.path.join(feature_folder, 'feature_%s.pickle' % run_name)\n",
    "    print('Dump: ', image_features_file, end='  ')\n",
    "    print(len(image_features.keys()))\n",
    "    pickle.dump(image_features, open(image_features_file, \"wb\"), True)\n",
    "\n",
    "def load_pickle_feature(run_name):\n",
    "    image_features_file = os.path.join(feature_folder, 'feature_%s.pickle' % run_name)\n",
    "    image_features = pickle.load(open(image_features_file, \"rb\"))\n",
    "    print('Load: ', image_features_file, end='  ')\n",
    "    print(len(image_features.keys()))\n",
    "    return image_features\n",
    "\n",
    "# dump_pickle_feature(run_name, image_features)\n",
    "# image_features = load_pickle_feature(run_name)"
   ]
  },
  {
   "cell_type": "markdown",
   "metadata": {},
   "source": [
    "## Official code"
   ]
  },
  {
   "cell_type": "code",
   "execution_count": 11,
   "metadata": {},
   "outputs": [
    {
     "name": "stdout",
     "output_type": "stream",
     "text": [
      "69b846bd58c3f09a.jpg 69b846bd58c3f09a (500, 32) [128 230 157 251 108 201 109 205  86 119]\n",
      "19a1de4f08cd0305.jpg 19a1de4f08cd0305 (500, 32) [139 120 170 191  44 191 187 208  30 235]\n",
      "4ee821754ef5fd83.jpg 4ee821754ef5fd83 (500, 32) [148 167   6 171 154  11 110 105  46  49]\n",
      "1 2 3 4 5 6 7 8 9 10 11 12 13 14 15 16 17 18 19 20 21 22 23 24 25 26 27 28 29 30 31 32 33 34 35 36 37 38 39 40 41 42 43 44 45 46 47 48 49 50 ********************************************************************************\n",
      "len_image_features= 50000\n",
      "image_id: 69b846bd58c3f09a, \tlandmark_id:6051,\t feature_shape:  (500, 32)\n",
      "image_id: 19a1de4f08cd0305, \tlandmark_id:9179,\t feature_shape:  (500, 32)\n",
      "image_id: 4ee821754ef5fd83, \tlandmark_id:11301,\t feature_shape:  (500, 32)\n"
     ]
    }
   ],
   "source": [
    "image_features = {}\n",
    "n_rows = 5*10000\n",
    "for i, image_name in enumerate(os.listdir(org_train_folder)[:n_rows]):\n",
    "    image_id = image_name[:-4]\n",
    "    image_file = os.path.join(org_train_folder, image_name)\n",
    "    des = image_detect_and_compute(image_file, clf)\n",
    "    image_features[image_id] = des\n",
    "    if i < 3:\n",
    "        print(image_name, image_id, end=' ')\n",
    "        print(des.shape, end=' ')\n",
    "        print(des[0][:10])\n",
    "    if (i+1) % 1000 == 0:\n",
    "        print(int((i+1)/1000), end=' ')\n",
    "        \n",
    "\n",
    "print('*'*80)\n",
    "print('len_image_features=', len(image_features.keys()))\n",
    "for i, image_id in enumerate(list(image_features.keys())[:3]):\n",
    "    print('image_id: %s, \\tlandmark_id:%s,\\t feature_shape: ' % (image_id, id_2_landmark_id_dict[image_id]), image_features[image_id].shape)\n"
   ]
  },
  {
   "cell_type": "code",
   "execution_count": 12,
   "metadata": {},
   "outputs": [
    {
     "name": "stdout",
     "output_type": "stream",
     "text": [
      "Dump:  /data1/kaggle/landmark-recognition-challenge/feature/feature_Google_LandMark_Rec_FeatureExtraction_ORB_20180510_092824.pickle  50000\n",
      "Load:  /data1/kaggle/landmark-recognition-challenge/feature/feature_Google_LandMark_Rec_FeatureExtraction_ORB_20180510_092824.pickle  50000\n",
      "CPU times: user 9.21 s, sys: 3.16 s, total: 12.4 s\n",
      "Wall time: 30 s\n"
     ]
    }
   ],
   "source": [
    "%%time\n",
    "dump_pickle_feature(run_name, image_features)\n",
    "image_features = load_pickle_feature(run_name)"
   ]
  },
  {
   "cell_type": "code",
   "execution_count": 13,
   "metadata": {},
   "outputs": [
    {
     "name": "stdout",
     "output_type": "stream",
     "text": [
      "********************************************************************************\n",
      "len_image_features= 50000\n",
      "image_id: 69b846bd58c3f09a, \tlandmark_id:6051,\t feature_shape:  (500, 32) [128 230 157 251 108 201 109 205  86 119]\n",
      "image_id: 19a1de4f08cd0305, \tlandmark_id:9179,\t feature_shape:  (500, 32) [139 120 170 191  44 191 187 208  30 235]\n",
      "image_id: 4ee821754ef5fd83, \tlandmark_id:11301,\t feature_shape:  (500, 32) [148 167   6 171 154  11 110 105  46  49]\n"
     ]
    }
   ],
   "source": [
    "print('*'*80)\n",
    "print('len_image_features=', len(image_features.keys()))\n",
    "for i, image_id in enumerate(list(image_features.keys())[:3]):\n",
    "    print('image_id: %s, \\tlandmark_id:%s,\\t feature_shape: ' % (image_id, id_2_landmark_id_dict[image_id]), image_features[image_id].shape, end=' ')\n",
    "    print(image_features[image_id][0][:10])"
   ]
  },
  {
   "cell_type": "code",
   "execution_count": null,
   "metadata": {},
   "outputs": [],
   "source": []
  }
 ],
 "metadata": {
  "kernelspec": {
   "display_name": "Python 3",
   "language": "python",
   "name": "python3"
  },
  "language_info": {
   "codemirror_mode": {
    "name": "ipython",
    "version": 3
   },
   "file_extension": ".py",
   "mimetype": "text/x-python",
   "name": "python",
   "nbconvert_exporter": "python",
   "pygments_lexer": "ipython3",
   "version": "3.7.3"
  }
 },
 "nbformat": 4,
 "nbformat_minor": 2
}
