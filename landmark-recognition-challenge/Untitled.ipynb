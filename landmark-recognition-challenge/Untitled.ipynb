{
 "cells": [
  {
   "cell_type": "code",
   "execution_count": 1,
   "metadata": {},
   "outputs": [
    {
     "name": "stdout",
     "output_type": "stream",
     "text": [
      "features: ['CRIM' 'ZN' 'INDUS' 'CHAS' 'NOX' 'RM' 'AGE' 'DIS' 'RAD' 'TAX' 'PTRATIO'\n",
      " 'B' 'LSTAT']\n",
      "x_data.shape: \t (506, 13)\n",
      "y_data.shape: \t (506,)\n"
     ]
    },
    {
     "name": "stderr",
     "output_type": "stream",
     "text": [
      "C:\\Users\\study\\Anaconda3\\lib\\site-packages\\sklearn\\cross_validation.py:41: DeprecationWarning: This module was deprecated in version 0.18 in favor of the model_selection module into which all the refactored classes and functions are moved. Also note that the interface of the new CV iterators are different from that of this module. This module will be removed in 0.20.\n",
      "  \"This module will be removed in 0.20.\", DeprecationWarning)\n"
     ]
    }
   ],
   "source": [
    "import numpy as np\n",
    "import pandas as pd\n",
    "import xgboost as xgb\n",
    "from sklearn.datasets import load_boston\n",
    "from sklearn.metrics import mean_squared_error as mse\n",
    "from sklearn.model_selection import train_test_split\n",
    "from sklearn.cross_validation import KFold\n",
    "random_num = np.random.randint(10000)\n",
    "\n",
    "boston = load_boston()\n",
    "features = boston.feature_names\n",
    "x_data = boston.data\n",
    "y_data = boston.target\n",
    "print('features:', features)\n",
    "print('x_data.shape: \\t', x_data.shape)\n",
    "print('y_data.shape: \\t', y_data.shape)"
   ]
  },
  {
   "cell_type": "code",
   "execution_count": 2,
   "metadata": {},
   "outputs": [
    {
     "name": "stdout",
     "output_type": "stream",
     "text": [
      "x_train.shape: \t (404, 13)\n",
      "x_val.shape: \t (102, 13)\n",
      "y_train.shape: \t (404,)\n",
      "y_val.shape: \t (102,)\n"
     ]
    }
   ],
   "source": [
    "x_train, x_val, y_train, y_val = train_test_split(x_data, y_data, test_size=0.2, random_state=random_num, shuffle=True)\n",
    "print('x_train.shape: \\t', x_train.shape)\n",
    "print('x_val.shape: \\t', x_val.shape)\n",
    "print('y_train.shape: \\t', y_train.shape)\n",
    "print('y_val.shape: \\t', y_val.shape)"
   ]
  },
  {
   "cell_type": "code",
   "execution_count": 3,
   "metadata": {},
   "outputs": [],
   "source": [
    "xg_val = xgb.DMatrix(x_val, label=y_val)"
   ]
  },
  {
   "cell_type": "code",
   "execution_count": 4,
   "metadata": {},
   "outputs": [
    {
     "name": "stdout",
     "output_type": "stream",
     "text": [
      "mse_train: \t0.1323, mse_val: \t6.2348\n"
     ]
    }
   ],
   "source": [
    "xg_train_0 = xgb.DMatrix(x_train, label=y_train)\n",
    "watchlist = [(xg_train_0, 'train'), (xg_val, 'val')]\n",
    "params = {'objective': 'reg:linear', 'verbose': False}\n",
    "model_0 = xgb.train(params, xg_train_0, 30)\n",
    "\n",
    "mse_train = mse(model_0.predict(xg_train_0), y_train)\n",
    "mse_val = mse(model_0.predict(xg_val), y_val)\n",
    "print('mse_train: \\t%.4f, mse_val: \\t%.4f' % (mse_train, mse_val))"
   ]
  },
  {
   "cell_type": "code",
   "execution_count": 5,
   "metadata": {},
   "outputs": [
    {
     "name": "stdout",
     "output_type": "stream",
     "text": [
      "mse_train: \t0.0752, mse_val: \t14.8576\n",
      "mse_train: \t0.0720, mse_val: \t9.5229\n"
     ]
    }
   ],
   "source": [
    "kf = KFold(len(x_train), n_folds=2)\n",
    "for train_index, val_index in kf:\n",
    "    x_train_kf, y_train_kf = x_train[val_index], y_train[val_index]\n",
    "    xg_train_kf = xgb.DMatrix(x_train_kf, label=y_train_kf)\n",
    "    model_kf = xgb.train(params, xg_train_kf, 30)\n",
    "\n",
    "    mse_train = mse(model_kf.predict(xg_train_kf), y_train_kf)\n",
    "    mse_val = mse(model_kf.predict(xg_val), y_val)\n",
    "    print('mse_train: \\t%.4f, mse_val: \\t%.4f' % (mse_train, mse_val))\n",
    "#     del xg_train_kf\n",
    "#     del model_kf"
   ]
  },
  {
   "cell_type": "code",
   "execution_count": null,
   "metadata": {},
   "outputs": [],
   "source": []
  },
  {
   "cell_type": "code",
   "execution_count": null,
   "metadata": {},
   "outputs": [],
   "source": []
  }
 ],
 "metadata": {
  "kernelspec": {
   "display_name": "Python 3",
   "language": "python",
   "name": "python3"
  },
  "language_info": {
   "codemirror_mode": {
    "name": "ipython",
    "version": 3
   },
   "file_extension": ".py",
   "mimetype": "text/x-python",
   "name": "python",
   "nbconvert_exporter": "python",
   "pygments_lexer": "ipython3",
   "version": "3.6.4"
  }
 },
 "nbformat": 4,
 "nbformat_minor": 2
}
