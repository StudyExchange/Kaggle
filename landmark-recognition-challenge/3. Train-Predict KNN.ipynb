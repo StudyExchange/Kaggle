{
 "cells": [
  {
   "cell_type": "markdown",
   "metadata": {},
   "source": [
    "# 3. Train-Predict KNN\n",
    "Result:\n",
    "- Kaggle score:\n",
    "\n",
    "Reference:\n",
    "- http://scikit-learn.org/stable/modules/generated/sklearn.neighbors.KNeighborsClassifier.html#sklearn.neighbors.KNeighborsClassifier\n",
    "- http://scikit-learn.org/stable/modules/model_evaluation.html#model-evaluation"
   ]
  },
  {
   "cell_type": "markdown",
   "metadata": {},
   "source": [
    "## Run name"
   ]
  },
  {
   "cell_type": "code",
   "execution_count": 19,
   "metadata": {},
   "outputs": [
    {
     "name": "stdout",
     "output_type": "stream",
     "text": [
      "run_name: Google_LandMark_Rec_Train-Predict_KNN_20180322_133359\n"
     ]
    }
   ],
   "source": [
    "import time\n",
    "import os\n",
    "import pandas as pd\n",
    "import gc\n",
    "\n",
    "project_name = 'Google_LandMark_Rec'\n",
    "step_name = 'Train-Predict_KNN'\n",
    "time_str = time.strftime(\"%Y%m%d_%H%M%S\", time.localtime())\n",
    "run_name = project_name + '_' + step_name + '_' + time_str\n",
    "print('run_name: ' + run_name)"
   ]
  },
  {
   "cell_type": "markdown",
   "metadata": {},
   "source": [
    "## 项目文件夹"
   ]
  },
  {
   "cell_type": "code",
   "execution_count": 20,
   "metadata": {},
   "outputs": [
    {
     "name": "stdout",
     "output_type": "stream",
     "text": [
      "input_folder: \t/data1/kaggle/landmark-recognition-challenge/input\n",
      "output_folder: \t/data2/kaggle/landmark-recognition-challenge/output\n",
      "model_folder: \t/data2/kaggle/landmark-recognition-challenge/model\n",
      "feature_folder: \t/data2/kaggle/landmark-recognition-challenge/feature\n",
      "post_pca_feature_folder: \t/data2/kaggle/landmark-recognition-challenge/post_pca_feature\n",
      "log_folder: \t/data2/kaggle/landmark-recognition-challenge/log\n"
     ]
    }
   ],
   "source": [
    "cwd = os.getcwd()\n",
    "data1_folder = '/data1/kaggle/landmark-recognition-challenge/'\n",
    "input_folder = os.path.join(data1_folder, 'input')\n",
    "output_folder = os.path.join(cwd, 'output')\n",
    "model_folder = os.path.join(cwd, 'model')\n",
    "feature_folder = os.path.join(cwd, 'feature')\n",
    "post_pca_feature_folder = os.path.join(cwd, 'post_pca_feature')\n",
    "log_folder = os.path.join(cwd, 'log')\n",
    "print('input_folder: \\t' + input_folder)\n",
    "print('output_folder: \\t' + output_folder)\n",
    "print('model_folder: \\t' + model_folder)\n",
    "print('feature_folder: \\t' + feature_folder)\n",
    "print('post_pca_feature_folder: \\t' + post_pca_feature_folder)\n",
    "print('log_folder: \\t' + log_folder)\n",
    "\n",
    "org_train_folder = os.path.join(input_folder, 'org_train')\n",
    "org_test_folder = os.path.join(input_folder, 'org_test')\n",
    "train_folder = os.path.join(input_folder, 'data_train')\n",
    "test_folder = os.path.join(input_folder, 'data_test')\n",
    "test_sub_folder = os.path.join(test_folder, 'test')\n",
    "\n",
    "if not os.path.exists(post_pca_feature_folder):\n",
    "    os.mkdir(post_pca_feature_folder)\n",
    "    print('Create folder: %s' % post_pca_feature_folder)"
   ]
  },
  {
   "cell_type": "code",
   "execution_count": 21,
   "metadata": {},
   "outputs": [],
   "source": [
    "train_csv_file = os.path.join(input_folder, 'train.csv')\n",
    "test_csv_file = os.path.join(input_folder, 'test.csv')\n",
    "sample_submission_folder = os.path.join(input_folder, 'sample_submission.csv')"
   ]
  },
  {
   "cell_type": "markdown",
   "metadata": {},
   "source": [
    "## 加载feature"
   ]
  },
  {
   "cell_type": "code",
   "execution_count": 22,
   "metadata": {},
   "outputs": [
    {
     "name": "stdout",
     "output_type": "stream",
     "text": [
      "CPU times: user 76 ms, sys: 356 ms, total: 432 ms\n",
      "Wall time: 431 ms\n"
     ]
    }
   ],
   "source": [
    "%%time\n",
    "import h5py\n",
    "import numpy as np\n",
    "from sklearn.utils import shuffle\n",
    "np.random.seed(2018)\n",
    "\n",
    "x_data = []\n",
    "y_data = {}\n",
    "x_test = []\n",
    "\n",
    "\n",
    "image_size = 150\n",
    "time_str = '20180311-151108'\n",
    "cwd = os.getcwd()\n",
    "# feature_cgg16 = os.path.join(cwd, 'feature', 'feature_VGG16_{}.h5'.format(20180219))\n",
    "# feature_cgg19 = os.path.join(cwd, 'feature', 'feature_VGG19_{}.h5'.format(20180219))\n",
    "# feature_resnet50 = os.path.join(cwd, 'feature', 'feature_ResNet50_{}.h5'.format(20180220))\n",
    "# feature_xception = os.path.join(cwd, 'feature', 'feature_Xception_{}.h5'.format(20180221))\n",
    "feature_inceptionV3 = os.path.join(cwd, 'post_pca_feature', 'post_pca_feature_InceptionV3_%s_%s.h5' % (image_size, time_str))\n",
    "# feature_inceptionResNetV2 = os.path.join(cwd, 'feature', 'feature_InceptionResNetV2_%s.h5' % time_str)\n",
    "# for filename in [feature_cgg16, feature_cgg19, feature_resnet50, feature_xception, feature_inception, feature_inceptionResNetV2]:\n",
    "for filename in [feature_inceptionV3]:\n",
    "    with h5py.File(filename, 'r') as h:\n",
    "        x_data.append(np.array(h['train']))\n",
    "        y_data = np.array(h['train_labels'])\n",
    "#         x_val.append(np.array(h['val']))\n",
    "#         y_val = np.array(h['val_labels'])\n",
    "        x_test.append(np.array(h['test']))"
   ]
  },
  {
   "cell_type": "code",
   "execution_count": 23,
   "metadata": {},
   "outputs": [
    {
     "name": "stdout",
     "output_type": "stream",
     "text": [
      "(1219426, 32)\n",
      "1219426\n",
      "(115942, 32)\n"
     ]
    }
   ],
   "source": [
    "print(x_data[0].shape)\n",
    "print(len(y_data))\n",
    "print(x_test[0].shape)"
   ]
  },
  {
   "cell_type": "code",
   "execution_count": 24,
   "metadata": {},
   "outputs": [
    {
     "name": "stdout",
     "output_type": "stream",
     "text": [
      "(1219426, 32)\n",
      "(115942, 32)\n",
      "CPU times: user 92 ms, sys: 132 ms, total: 224 ms\n",
      "Wall time: 221 ms\n"
     ]
    }
   ],
   "source": [
    "%%time\n",
    "x_data = np.concatenate(x_data, axis=-1)\n",
    "x_test = np.concatenate(x_test, axis=-1)\n",
    "print(x_data.shape)\n",
    "print(x_test.shape)"
   ]
  },
  {
   "cell_type": "code",
   "execution_count": null,
   "metadata": {},
   "outputs": [],
   "source": []
  },
  {
   "cell_type": "code",
   "execution_count": 25,
   "metadata": {},
   "outputs": [],
   "source": [
    "# from sklearn.model_selection import train_test_split\n",
    "# x_train, x_val, y_train, y_val = train_test_split(x_data, y_data, test_size=0.0025, random_state=5)\n",
    "\n",
    "# print(x_train.shape)\n",
    "# print(x_val.shape)\n",
    "# print(y_train.shape)\n",
    "# print(y_val.shape)"
   ]
  },
  {
   "cell_type": "markdown",
   "metadata": {},
   "source": [
    "## Train"
   ]
  },
  {
   "cell_type": "code",
   "execution_count": 26,
   "metadata": {},
   "outputs": [
    {
     "name": "stdout",
     "output_type": "stream",
     "text": [
      "14951\n"
     ]
    }
   ],
   "source": [
    "set_y_data = list(set(y_data))\n",
    "print(len(set_y_data))"
   ]
  },
  {
   "cell_type": "code",
   "execution_count": 27,
   "metadata": {},
   "outputs": [
    {
     "name": "stdout",
     "output_type": "stream",
     "text": [
      "(1097483, 32)\n",
      "(121943, 32)\n",
      "(1097483,)\n",
      "(121943,)\n",
      "(115942, 32)\n"
     ]
    }
   ],
   "source": [
    "import numpy as np\n",
    "from sklearn.metrics import accuracy_score\n",
    "from sklearn.model_selection import train_test_split\n",
    "\n",
    "\n",
    "x_train, x_val, y_train, y_val = train_test_split(x_data, y_data, test_size=0.1, random_state=2017)\n",
    "print(x_train.shape)\n",
    "print(x_val.shape)\n",
    "print(y_train.shape)\n",
    "print(y_val.shape)\n",
    "print(x_test.shape)\n"
   ]
  },
  {
   "cell_type": "code",
   "execution_count": 28,
   "metadata": {},
   "outputs": [
    {
     "name": "stdout",
     "output_type": "stream",
     "text": [
      "14935\n"
     ]
    }
   ],
   "source": [
    "set_y_train = list(set(y_train))\n",
    "print(len(set_y_train))"
   ]
  },
  {
   "cell_type": "code",
   "execution_count": 29,
   "metadata": {},
   "outputs": [
    {
     "name": "stdout",
     "output_type": "stream",
     "text": [
      "CPU times: user 24 ms, sys: 0 ns, total: 24 ms\n",
      "Wall time: 23.3 ms\n"
     ]
    }
   ],
   "source": [
    "%%time\n",
    "from sklearn.neighbors import NearestNeighbors\n",
    "\n",
    "clf = NearestNeighbors(\n",
    "    radius=2,\n",
    "    algorithm='brute',\n",
    "    leaf_size=10,\n",
    "    metric='cosine',\n",
    "    n_jobs=-1\n",
    ")\n",
    "clf.fit(x_train, y_train)"
   ]
  },
  {
   "cell_type": "code",
   "execution_count": 59,
   "metadata": {},
   "outputs": [
    {
     "name": "stdout",
     "output_type": "stream",
     "text": [
      "(100, 20)\n",
      "(100, 20)\n",
      "CPU times: user 2.56 s, sys: 2.9 s, total: 5.46 s\n",
      "Wall time: 6.35 s\n"
     ]
    }
   ],
   "source": [
    "%%time\n",
    "from sklearn.metrics import accuracy_score\n",
    "y_train_pred = clf.kneighbors(x_train[:100], 20, True)\n",
    "print(y_train_pred[0].shape)\n",
    "print(y_train_pred[1].shape)"
   ]
  },
  {
   "cell_type": "code",
   "execution_count": 64,
   "metadata": {},
   "outputs": [
    {
     "name": "stdout",
     "output_type": "stream",
     "text": [
      "[0.0, 0.06538951683659111, 0.06976698678855286, 0.06549858852544566, 0.07565495677697354, 0.07852375768471087, 0.07917262147236381, 0.08025981783868485, 0.08280597356697061, 0.08461551578116666, 0.0881239217552593, 0.08893575436149581, 0.0895788925283868, 0.09348210533366663, 0.09239025829460157, 0.08668538853937968, 0.08760842962674009, 0.08951283647733077, 0.09247505259113598, 0.09182362162577673]\n",
      "[684352, 1, 231906, 168261, 823398, 762919, 621341, 383481, 921486, 867992, 888368, 869745, 11439, 347317, 274230, 769495, 557277, 801529, 682525, 1036511]\n"
     ]
    }
   ],
   "source": []
  },
  {
   "cell_type": "code",
   "execution_count": 31,
   "metadata": {},
   "outputs": [
    {
     "name": "stdout",
     "output_type": "stream",
     "text": [
      "[3063, 2257, 2241, 6716, 8776, 12172, 585, 12965, 6669, 12988]\n",
      "1.0\n"
     ]
    }
   ],
   "source": [
    "y_train_pred1 = [y_train[i] for i in y_train_pred[1][:, 0]]\n",
    "# print(y_train_pred1.shape)\n",
    "print(y_train_pred1[:10])\n",
    "print(accuracy_score(y_train[:100], y_train_pred1))"
   ]
  },
  {
   "cell_type": "code",
   "execution_count": null,
   "metadata": {},
   "outputs": [],
   "source": []
  },
  {
   "cell_type": "code",
   "execution_count": null,
   "metadata": {},
   "outputs": [],
   "source": []
  },
  {
   "cell_type": "code",
   "execution_count": 69,
   "metadata": {},
   "outputs": [
    {
     "name": "stdout",
     "output_type": "stream",
     "text": [
      "(100, 10)\n",
      "(100, 10)\n",
      "CPU times: user 2.64 s, sys: 2.9 s, total: 5.54 s\n",
      "Wall time: 6.46 s\n"
     ]
    }
   ],
   "source": [
    "%%time\n",
    "from sklearn.metrics import accuracy_score\n",
    "count = 100\n",
    "# count = len(y_val)\n",
    "\n",
    "y_val_nbs = clf.kneighbors(x_val[:count], 10, True)\n",
    "print(y_val_nbs[0].shape)\n",
    "print(y_val_nbs[1].shape)"
   ]
  },
  {
   "cell_type": "code",
   "execution_count": 71,
   "metadata": {},
   "outputs": [
    {
     "name": "stdout",
     "output_type": "stream",
     "text": [
      "0.29\n",
      "CPU times: user 0 ns, sys: 0 ns, total: 0 ns\n",
      "Wall time: 553 µs\n"
     ]
    }
   ],
   "source": [
    "%%time\n",
    "y_val_pred = [y_train[i] for i in y_val_nbs[1][:, 0]]\n",
    "\n",
    "# for i in range(count):\n",
    "#     print((y_val[i], y_val_pred1[i]), end=' ')\n",
    "#     if y_val[i] == y_val_pred1[i]:\n",
    "#         print('*')\n",
    "#     else:\n",
    "#         print(' ')\n",
    "\n",
    "val_acc = accuracy_score(y_val[:count], y_val_pred)\n",
    "print(val_acc)"
   ]
  },
  {
   "cell_type": "code",
   "execution_count": 72,
   "metadata": {
    "scrolled": true
   },
   "outputs": [
    {
     "name": "stdout",
     "output_type": "stream",
     "text": [
      "[0.024222510077095305, 0.030797483111828616, 0.03797095245108939, 0.04052729766744845, 0.03930628382825674, 0.040626142672073096, 0.040736926042068244, 0.04152736515826572, 0.04306521695107457, 0.04306807037333271]\n",
      "[1027454, 393475, 859748, 991173, 675247, 129392, 938225, 767762, 448667, 76254]\n"
     ]
    }
   ],
   "source": [
    "print(list(set(y_val_nbs[0][1])))\n",
    "print(list(set(y_val_nbs[1][1])))"
   ]
  },
  {
   "cell_type": "code",
   "execution_count": null,
   "metadata": {},
   "outputs": [],
   "source": []
  },
  {
   "cell_type": "code",
   "execution_count": 38,
   "metadata": {},
   "outputs": [
    {
     "ename": "JoblibMemoryError",
     "evalue": "JoblibMemoryError\n___________________________________________________________________________\nMultiprocessing exception:\n...........................................................................\n/home/ec2-user/anaconda3/envs/tensorflow_p36/lib/python3.6/runpy.py in _run_module_as_main(mod_name='ipykernel.__main__', alter_argv=1)\n    188         sys.exit(msg)\n    189     main_globals = sys.modules[\"__main__\"].__dict__\n    190     if alter_argv:\n    191         sys.argv[0] = mod_spec.origin\n    192     return _run_code(code, main_globals, None,\n--> 193                      \"__main__\", mod_spec)\n        mod_spec = ModuleSpec(name='ipykernel.__main__', loader=<_f...b/python3.6/site-packages/ipykernel/__main__.py')\n    194 \n    195 def run_module(mod_name, init_globals=None,\n    196                run_name=None, alter_sys=False):\n    197     \"\"\"Execute a module's code without importing it\n\n...........................................................................\n/home/ec2-user/anaconda3/envs/tensorflow_p36/lib/python3.6/runpy.py in _run_code(code=<code object <module> at 0x7f390d6f48a0, file \"/...3.6/site-packages/ipykernel/__main__.py\", line 1>, run_globals={'__annotations__': {}, '__builtins__': <module 'builtins' (built-in)>, '__cached__': '/home/ec2-user/anaconda3/envs/tensorflow_p36/lib...ges/ipykernel/__pycache__/__main__.cpython-36.pyc', '__doc__': None, '__file__': '/home/ec2-user/anaconda3/envs/tensorflow_p36/lib/python3.6/site-packages/ipykernel/__main__.py', '__loader__': <_frozen_importlib_external.SourceFileLoader object>, '__name__': '__main__', '__package__': 'ipykernel', '__spec__': ModuleSpec(name='ipykernel.__main__', loader=<_f...b/python3.6/site-packages/ipykernel/__main__.py'), 'app': <module 'ipykernel.kernelapp' from '/home/ec2-us.../python3.6/site-packages/ipykernel/kernelapp.py'>}, init_globals=None, mod_name='__main__', mod_spec=ModuleSpec(name='ipykernel.__main__', loader=<_f...b/python3.6/site-packages/ipykernel/__main__.py'), pkg_name='ipykernel', script_name=None)\n     80                        __cached__ = cached,\n     81                        __doc__ = None,\n     82                        __loader__ = loader,\n     83                        __package__ = pkg_name,\n     84                        __spec__ = mod_spec)\n---> 85     exec(code, run_globals)\n        code = <code object <module> at 0x7f390d6f48a0, file \"/...3.6/site-packages/ipykernel/__main__.py\", line 1>\n        run_globals = {'__annotations__': {}, '__builtins__': <module 'builtins' (built-in)>, '__cached__': '/home/ec2-user/anaconda3/envs/tensorflow_p36/lib...ges/ipykernel/__pycache__/__main__.cpython-36.pyc', '__doc__': None, '__file__': '/home/ec2-user/anaconda3/envs/tensorflow_p36/lib/python3.6/site-packages/ipykernel/__main__.py', '__loader__': <_frozen_importlib_external.SourceFileLoader object>, '__name__': '__main__', '__package__': 'ipykernel', '__spec__': ModuleSpec(name='ipykernel.__main__', loader=<_f...b/python3.6/site-packages/ipykernel/__main__.py'), 'app': <module 'ipykernel.kernelapp' from '/home/ec2-us.../python3.6/site-packages/ipykernel/kernelapp.py'>}\n     86     return run_globals\n     87 \n     88 def _run_module_code(code, init_globals=None,\n     89                     mod_name=None, mod_spec=None,\n\n...........................................................................\n/home/ec2-user/anaconda3/envs/tensorflow_p36/lib/python3.6/site-packages/ipykernel/__main__.py in <module>()\n      1 if __name__ == '__main__':\n      2     from ipykernel import kernelapp as app\n----> 3     app.launch_new_instance()\n\n...........................................................................\n/home/ec2-user/anaconda3/envs/tensorflow_p36/lib/python3.6/site-packages/traitlets/config/application.py in launch_instance(cls=<class 'ipykernel.kernelapp.IPKernelApp'>, argv=None, **kwargs={})\n    653 \n    654         If a global instance already exists, this reinitializes and starts it\n    655         \"\"\"\n    656         app = cls.instance(**kwargs)\n    657         app.initialize(argv)\n--> 658         app.start()\n        app.start = <bound method IPKernelApp.start of <ipykernel.kernelapp.IPKernelApp object>>\n    659 \n    660 #-----------------------------------------------------------------------------\n    661 # utility functions, for convenience\n    662 #-----------------------------------------------------------------------------\n\n...........................................................................\n/home/ec2-user/anaconda3/envs/tensorflow_p36/lib/python3.6/site-packages/ipykernel/kernelapp.py in start(self=<ipykernel.kernelapp.IPKernelApp object>)\n    481         if self.poller is not None:\n    482             self.poller.start()\n    483         self.kernel.start()\n    484         self.io_loop = ioloop.IOLoop.current()\n    485         try:\n--> 486             self.io_loop.start()\n        self.io_loop.start = <bound method PollIOLoop.start of <zmq.eventloop.ioloop.ZMQIOLoop object>>\n    487         except KeyboardInterrupt:\n    488             pass\n    489 \n    490 launch_new_instance = IPKernelApp.launch_instance\n\n...........................................................................\n/home/ec2-user/anaconda3/envs/tensorflow_p36/lib/python3.6/site-packages/tornado/ioloop.py in start(self=<zmq.eventloop.ioloop.ZMQIOLoop object>)\n    883                 self._events.update(event_pairs)\n    884                 while self._events:\n    885                     fd, events = self._events.popitem()\n    886                     try:\n    887                         fd_obj, handler_func = self._handlers[fd]\n--> 888                         handler_func(fd_obj, events)\n        handler_func = <function wrap.<locals>.null_wrapper>\n        fd_obj = <zmq.sugar.socket.Socket object>\n        events = 1\n    889                     except (OSError, IOError) as e:\n    890                         if errno_from_exception(e) == errno.EPIPE:\n    891                             # Happens when the client closes the connection\n    892                             pass\n\n...........................................................................\n/home/ec2-user/anaconda3/envs/tensorflow_p36/lib/python3.6/site-packages/tornado/stack_context.py in null_wrapper(*args=(<zmq.sugar.socket.Socket object>, 1), **kwargs={})\n    272         # Fast path when there are no active contexts.\n    273         def null_wrapper(*args, **kwargs):\n    274             try:\n    275                 current_state = _state.contexts\n    276                 _state.contexts = cap_contexts[0]\n--> 277                 return fn(*args, **kwargs)\n        args = (<zmq.sugar.socket.Socket object>, 1)\n        kwargs = {}\n    278             finally:\n    279                 _state.contexts = current_state\n    280         null_wrapper._wrapped = True\n    281         return null_wrapper\n\n...........................................................................\n/home/ec2-user/anaconda3/envs/tensorflow_p36/lib/python3.6/site-packages/zmq/eventloop/zmqstream.py in _handle_events(self=<zmq.eventloop.zmqstream.ZMQStream object>, fd=<zmq.sugar.socket.Socket object>, events=1)\n    445             return\n    446         zmq_events = self.socket.EVENTS\n    447         try:\n    448             # dispatch events:\n    449             if zmq_events & zmq.POLLIN and self.receiving():\n--> 450                 self._handle_recv()\n        self._handle_recv = <bound method ZMQStream._handle_recv of <zmq.eventloop.zmqstream.ZMQStream object>>\n    451                 if not self.socket:\n    452                     return\n    453             if zmq_events & zmq.POLLOUT and self.sending():\n    454                 self._handle_send()\n\n...........................................................................\n/home/ec2-user/anaconda3/envs/tensorflow_p36/lib/python3.6/site-packages/zmq/eventloop/zmqstream.py in _handle_recv(self=<zmq.eventloop.zmqstream.ZMQStream object>)\n    475             else:\n    476                 raise\n    477         else:\n    478             if self._recv_callback:\n    479                 callback = self._recv_callback\n--> 480                 self._run_callback(callback, msg)\n        self._run_callback = <bound method ZMQStream._run_callback of <zmq.eventloop.zmqstream.ZMQStream object>>\n        callback = <function wrap.<locals>.null_wrapper>\n        msg = [<zmq.sugar.frame.Frame object>, <zmq.sugar.frame.Frame object>, <zmq.sugar.frame.Frame object>, <zmq.sugar.frame.Frame object>, <zmq.sugar.frame.Frame object>, <zmq.sugar.frame.Frame object>, <zmq.sugar.frame.Frame object>]\n    481         \n    482 \n    483     def _handle_send(self):\n    484         \"\"\"Handle a send event.\"\"\"\n\n...........................................................................\n/home/ec2-user/anaconda3/envs/tensorflow_p36/lib/python3.6/site-packages/zmq/eventloop/zmqstream.py in _run_callback(self=<zmq.eventloop.zmqstream.ZMQStream object>, callback=<function wrap.<locals>.null_wrapper>, *args=([<zmq.sugar.frame.Frame object>, <zmq.sugar.frame.Frame object>, <zmq.sugar.frame.Frame object>, <zmq.sugar.frame.Frame object>, <zmq.sugar.frame.Frame object>, <zmq.sugar.frame.Frame object>, <zmq.sugar.frame.Frame object>],), **kwargs={})\n    427         close our socket.\"\"\"\n    428         try:\n    429             # Use a NullContext to ensure that all StackContexts are run\n    430             # inside our blanket exception handler rather than outside.\n    431             with stack_context.NullContext():\n--> 432                 callback(*args, **kwargs)\n        callback = <function wrap.<locals>.null_wrapper>\n        args = ([<zmq.sugar.frame.Frame object>, <zmq.sugar.frame.Frame object>, <zmq.sugar.frame.Frame object>, <zmq.sugar.frame.Frame object>, <zmq.sugar.frame.Frame object>, <zmq.sugar.frame.Frame object>, <zmq.sugar.frame.Frame object>],)\n        kwargs = {}\n    433         except:\n    434             gen_log.error(\"Uncaught exception in ZMQStream callback\",\n    435                           exc_info=True)\n    436             # Re-raise the exception so that IOLoop.handle_callback_exception\n\n...........................................................................\n/home/ec2-user/anaconda3/envs/tensorflow_p36/lib/python3.6/site-packages/tornado/stack_context.py in null_wrapper(*args=([<zmq.sugar.frame.Frame object>, <zmq.sugar.frame.Frame object>, <zmq.sugar.frame.Frame object>, <zmq.sugar.frame.Frame object>, <zmq.sugar.frame.Frame object>, <zmq.sugar.frame.Frame object>, <zmq.sugar.frame.Frame object>],), **kwargs={})\n    272         # Fast path when there are no active contexts.\n    273         def null_wrapper(*args, **kwargs):\n    274             try:\n    275                 current_state = _state.contexts\n    276                 _state.contexts = cap_contexts[0]\n--> 277                 return fn(*args, **kwargs)\n        args = ([<zmq.sugar.frame.Frame object>, <zmq.sugar.frame.Frame object>, <zmq.sugar.frame.Frame object>, <zmq.sugar.frame.Frame object>, <zmq.sugar.frame.Frame object>, <zmq.sugar.frame.Frame object>, <zmq.sugar.frame.Frame object>],)\n        kwargs = {}\n    278             finally:\n    279                 _state.contexts = current_state\n    280         null_wrapper._wrapped = True\n    281         return null_wrapper\n\n...........................................................................\n/home/ec2-user/anaconda3/envs/tensorflow_p36/lib/python3.6/site-packages/ipykernel/kernelbase.py in dispatcher(msg=[<zmq.sugar.frame.Frame object>, <zmq.sugar.frame.Frame object>, <zmq.sugar.frame.Frame object>, <zmq.sugar.frame.Frame object>, <zmq.sugar.frame.Frame object>, <zmq.sugar.frame.Frame object>, <zmq.sugar.frame.Frame object>])\n    278         if self.control_stream:\n    279             self.control_stream.on_recv(self.dispatch_control, copy=False)\n    280 \n    281         def make_dispatcher(stream):\n    282             def dispatcher(msg):\n--> 283                 return self.dispatch_shell(stream, msg)\n        msg = [<zmq.sugar.frame.Frame object>, <zmq.sugar.frame.Frame object>, <zmq.sugar.frame.Frame object>, <zmq.sugar.frame.Frame object>, <zmq.sugar.frame.Frame object>, <zmq.sugar.frame.Frame object>, <zmq.sugar.frame.Frame object>]\n    284             return dispatcher\n    285 \n    286         for s in self.shell_streams:\n    287             s.on_recv(make_dispatcher(s), copy=False)\n\n...........................................................................\n/home/ec2-user/anaconda3/envs/tensorflow_p36/lib/python3.6/site-packages/ipykernel/kernelbase.py in dispatch_shell(self=<ipykernel.ipkernel.IPythonKernel object>, stream=<zmq.eventloop.zmqstream.ZMQStream object>, msg={'buffers': [], 'content': {'allow_stdin': True, 'code': '%%time\\ny_test_nbs = clf.kneighbors(x_test, 1, Tr...t(y_test_nbs[0].shape)\\nprint(y_test_nbs[1].shape)', 'silent': False, 'stop_on_error': True, 'store_history': True, 'user_expressions': {}}, 'header': {'date': datetime.datetime(2018, 3, 22, 13, 37, 2, 501970, tzinfo=tzlocal()), 'msg_id': 'c5be12cf1ed7488e848fc1b958750e79', 'msg_type': 'execute_request', 'session': 'cb8d405994bf4ed8a9316817685138b8', 'username': 'username', 'version': '5.2'}, 'metadata': {}, 'msg_id': 'c5be12cf1ed7488e848fc1b958750e79', 'msg_type': 'execute_request', 'parent_header': {}})\n    228             self.log.warn(\"Unknown message type: %r\", msg_type)\n    229         else:\n    230             self.log.debug(\"%s: %s\", msg_type, msg)\n    231             self.pre_handler_hook()\n    232             try:\n--> 233                 handler(stream, idents, msg)\n        handler = <bound method Kernel.execute_request of <ipykernel.ipkernel.IPythonKernel object>>\n        stream = <zmq.eventloop.zmqstream.ZMQStream object>\n        idents = [b'cb8d405994bf4ed8a9316817685138b8']\n        msg = {'buffers': [], 'content': {'allow_stdin': True, 'code': '%%time\\ny_test_nbs = clf.kneighbors(x_test, 1, Tr...t(y_test_nbs[0].shape)\\nprint(y_test_nbs[1].shape)', 'silent': False, 'stop_on_error': True, 'store_history': True, 'user_expressions': {}}, 'header': {'date': datetime.datetime(2018, 3, 22, 13, 37, 2, 501970, tzinfo=tzlocal()), 'msg_id': 'c5be12cf1ed7488e848fc1b958750e79', 'msg_type': 'execute_request', 'session': 'cb8d405994bf4ed8a9316817685138b8', 'username': 'username', 'version': '5.2'}, 'metadata': {}, 'msg_id': 'c5be12cf1ed7488e848fc1b958750e79', 'msg_type': 'execute_request', 'parent_header': {}}\n    234             except Exception:\n    235                 self.log.error(\"Exception in message handler:\", exc_info=True)\n    236             finally:\n    237                 self.post_handler_hook()\n\n...........................................................................\n/home/ec2-user/anaconda3/envs/tensorflow_p36/lib/python3.6/site-packages/ipykernel/kernelbase.py in execute_request(self=<ipykernel.ipkernel.IPythonKernel object>, stream=<zmq.eventloop.zmqstream.ZMQStream object>, ident=[b'cb8d405994bf4ed8a9316817685138b8'], parent={'buffers': [], 'content': {'allow_stdin': True, 'code': '%%time\\ny_test_nbs = clf.kneighbors(x_test, 1, Tr...t(y_test_nbs[0].shape)\\nprint(y_test_nbs[1].shape)', 'silent': False, 'stop_on_error': True, 'store_history': True, 'user_expressions': {}}, 'header': {'date': datetime.datetime(2018, 3, 22, 13, 37, 2, 501970, tzinfo=tzlocal()), 'msg_id': 'c5be12cf1ed7488e848fc1b958750e79', 'msg_type': 'execute_request', 'session': 'cb8d405994bf4ed8a9316817685138b8', 'username': 'username', 'version': '5.2'}, 'metadata': {}, 'msg_id': 'c5be12cf1ed7488e848fc1b958750e79', 'msg_type': 'execute_request', 'parent_header': {}})\n    394         if not silent:\n    395             self.execution_count += 1\n    396             self._publish_execute_input(code, parent, self.execution_count)\n    397 \n    398         reply_content = self.do_execute(code, silent, store_history,\n--> 399                                         user_expressions, allow_stdin)\n        user_expressions = {}\n        allow_stdin = True\n    400 \n    401         # Flush output before sending the reply.\n    402         sys.stdout.flush()\n    403         sys.stderr.flush()\n\n...........................................................................\n/home/ec2-user/anaconda3/envs/tensorflow_p36/lib/python3.6/site-packages/ipykernel/ipkernel.py in do_execute(self=<ipykernel.ipkernel.IPythonKernel object>, code='%%time\\ny_test_nbs = clf.kneighbors(x_test, 1, Tr...t(y_test_nbs[0].shape)\\nprint(y_test_nbs[1].shape)', silent=False, store_history=True, user_expressions={}, allow_stdin=True)\n    203 \n    204         self._forward_input(allow_stdin)\n    205 \n    206         reply_content = {}\n    207         try:\n--> 208             res = shell.run_cell(code, store_history=store_history, silent=silent)\n        res = undefined\n        shell.run_cell = <bound method ZMQInteractiveShell.run_cell of <ipykernel.zmqshell.ZMQInteractiveShell object>>\n        code = '%%time\\ny_test_nbs = clf.kneighbors(x_test, 1, Tr...t(y_test_nbs[0].shape)\\nprint(y_test_nbs[1].shape)'\n        store_history = True\n        silent = False\n    209         finally:\n    210             self._restore_input()\n    211 \n    212         if res.error_before_exec is not None:\n\n...........................................................................\n/home/ec2-user/anaconda3/envs/tensorflow_p36/lib/python3.6/site-packages/ipykernel/zmqshell.py in run_cell(self=<ipykernel.zmqshell.ZMQInteractiveShell object>, *args=('%%time\\ny_test_nbs = clf.kneighbors(x_test, 1, Tr...t(y_test_nbs[0].shape)\\nprint(y_test_nbs[1].shape)',), **kwargs={'silent': False, 'store_history': True})\n    532             )\n    533         self.payload_manager.write_payload(payload)\n    534 \n    535     def run_cell(self, *args, **kwargs):\n    536         self._last_traceback = None\n--> 537         return super(ZMQInteractiveShell, self).run_cell(*args, **kwargs)\n        self.run_cell = <bound method ZMQInteractiveShell.run_cell of <ipykernel.zmqshell.ZMQInteractiveShell object>>\n        args = ('%%time\\ny_test_nbs = clf.kneighbors(x_test, 1, Tr...t(y_test_nbs[0].shape)\\nprint(y_test_nbs[1].shape)',)\n        kwargs = {'silent': False, 'store_history': True}\n    538 \n    539     def _showtraceback(self, etype, evalue, stb):\n    540         # try to preserve ordering of tracebacks and print statements\n    541         sys.stdout.flush()\n\n...........................................................................\n/home/ec2-user/anaconda3/envs/tensorflow_p36/lib/python3.6/site-packages/IPython/core/interactiveshell.py in run_cell(self=<ipykernel.zmqshell.ZMQInteractiveShell object>, raw_cell='%%time\\ny_test_nbs = clf.kneighbors(x_test, 1, Tr...t(y_test_nbs[0].shape)\\nprint(y_test_nbs[1].shape)', store_history=True, silent=False, shell_futures=True)\n   2723                 self.displayhook.exec_result = result\n   2724 \n   2725                 # Execute the user code\n   2726                 interactivity = \"none\" if silent else self.ast_node_interactivity\n   2727                 has_raised = self.run_ast_nodes(code_ast.body, cell_name,\n-> 2728                    interactivity=interactivity, compiler=compiler, result=result)\n        interactivity = 'last_expr'\n        compiler = <IPython.core.compilerop.CachingCompiler object>\n   2729                 \n   2730                 self.last_execution_succeeded = not has_raised\n   2731                 self.last_execution_result = result\n   2732 \n\n...........................................................................\n/home/ec2-user/anaconda3/envs/tensorflow_p36/lib/python3.6/site-packages/IPython/core/interactiveshell.py in run_ast_nodes(self=<ipykernel.zmqshell.ZMQInteractiveShell object>, nodelist=[<_ast.Expr object>], cell_name='<ipython-input-38-89a42292bd7f>', interactivity='last', compiler=<IPython.core.compilerop.CachingCompiler object>, result=<ExecutionResult object at 7f38f4cb4128, executi..._before_exec=None error_in_exec=None result=None>)\n   2851                     return True\n   2852 \n   2853             for i, node in enumerate(to_run_interactive):\n   2854                 mod = ast.Interactive([node])\n   2855                 code = compiler(mod, cell_name, \"single\")\n-> 2856                 if self.run_code(code, result):\n        self.run_code = <bound method InteractiveShell.run_code of <ipykernel.zmqshell.ZMQInteractiveShell object>>\n        code = <code object <module> at 0x7f38f4b738a0, file \"<ipython-input-38-89a42292bd7f>\", line 1>\n        result = <ExecutionResult object at 7f38f4cb4128, executi..._before_exec=None error_in_exec=None result=None>\n   2857                     return True\n   2858 \n   2859             # Flush softspace\n   2860             if softspace(sys.stdout, 0):\n\n...........................................................................\n/home/ec2-user/anaconda3/envs/tensorflow_p36/lib/python3.6/site-packages/IPython/core/interactiveshell.py in run_code(self=<ipykernel.zmqshell.ZMQInteractiveShell object>, code_obj=<code object <module> at 0x7f38f4b738a0, file \"<ipython-input-38-89a42292bd7f>\", line 1>, result=<ExecutionResult object at 7f38f4cb4128, executi..._before_exec=None error_in_exec=None result=None>)\n   2905         outflag = True  # happens in more places, so it's easier as default\n   2906         try:\n   2907             try:\n   2908                 self.hooks.pre_run_code_hook()\n   2909                 #rprint('Running code', repr(code_obj)) # dbg\n-> 2910                 exec(code_obj, self.user_global_ns, self.user_ns)\n        code_obj = <code object <module> at 0x7f38f4b738a0, file \"<ipython-input-38-89a42292bd7f>\", line 1>\n        self.user_global_ns = {'In': ['', \"import time\\nimport os\\nimport pandas as pd\\nimport...e + '_' + time_str\\nprint('run_name: ' + run_name)\", \"cwd = os.getcwd()\\ndata1_folder = '/data1/kaggle/...nt('Create folder: %s' % post_pca_feature_folder)\", \"train_csv_file = os.path.join(input_folder, 'tra....path.join(input_folder, 'sample_submission.csv')\", 'get_ipython().run_cell_magic(\\'time\\', \\'\\', \"import...\\'])\\\\n        x_test.append(np.array(h[\\'test\\']))\")', 'print(x_data[0].shape)\\nprint(len(y_data))\\nprint(x_test[0].shape)', r\"get_ipython().run_cell_magic('time', '', 'x_data...s=-1)\\nprint(x_data.shape)\\nprint(x_test.shape)')\", '# from sklearn.model_selection import train_test...hape)\\n# print(y_train.shape)\\n# print(y_val.shape)', 'set_y_data = list(set(y_data))\\nprint(len(set_y_data))', 'import numpy as np\\nfrom sklearn.metrics import a...ain.shape)\\nprint(y_val.shape)\\nprint(x_test.shape)', 'set_y_train = list(set(y_train))\\nprint(len(set_y_train))', 'get_ipython().run_cell_magic(\\'time\\', \\'\\', \"from s...\\',\\\\n    n_jobs=-1\\\\n)\\\\nclf.fit(x_train, y_train)\")', r\"get_ipython().run_cell_magic('time', '', 'from s...in_pred[0].shape)\\nprint(y_train_pred[1].shape)')\", 'y_train_pred1 = [y_train[i] for i in y_train_pre...int(accuracy_score(y_train[:100], y_train_pred1))', r\"get_ipython().run_cell_magic('time', '', 'from s...(y_val_nbs[0].shape)\\nprint(y_val_nbs[1].shape)')\", 'get_ipython().run_cell_magic(\\'time\\', \\'\\', \"y_val_...core(y_val[:count], y_val_pred)\\\\nprint(val_acc)\")', r\"get_ipython().run_cell_magic('time', '', 'y_test..._test_nbs[0].shape)\\nprint(y_test_nbs[1].shape)')\", \"get_ipython().run_cell_magic('time', '', 'y_test_pred = [y_train[i] for i in y_test_nbs[1][:, 0]]')\", 'print(len(y_test_pred))\\nprint(y_test_pred[:10])', \"import time\\nimport os\\nimport pandas as pd\\nimport...e + '_' + time_str\\nprint('run_name: ' + run_name)\", ...], 'NearestNeighbors': <class 'sklearn.neighbors.unsupervised.NearestNeighbors'>, 'Out': {}, '_': '', '__': '', '___': '', '__builtin__': <module 'builtins' (built-in)>, '__builtins__': <module 'builtins' (built-in)>, '__doc__': 'Automatically created module for IPython interactive environment', '__loader__': None, ...}\n        self.user_ns = {'In': ['', \"import time\\nimport os\\nimport pandas as pd\\nimport...e + '_' + time_str\\nprint('run_name: ' + run_name)\", \"cwd = os.getcwd()\\ndata1_folder = '/data1/kaggle/...nt('Create folder: %s' % post_pca_feature_folder)\", \"train_csv_file = os.path.join(input_folder, 'tra....path.join(input_folder, 'sample_submission.csv')\", 'get_ipython().run_cell_magic(\\'time\\', \\'\\', \"import...\\'])\\\\n        x_test.append(np.array(h[\\'test\\']))\")', 'print(x_data[0].shape)\\nprint(len(y_data))\\nprint(x_test[0].shape)', r\"get_ipython().run_cell_magic('time', '', 'x_data...s=-1)\\nprint(x_data.shape)\\nprint(x_test.shape)')\", '# from sklearn.model_selection import train_test...hape)\\n# print(y_train.shape)\\n# print(y_val.shape)', 'set_y_data = list(set(y_data))\\nprint(len(set_y_data))', 'import numpy as np\\nfrom sklearn.metrics import a...ain.shape)\\nprint(y_val.shape)\\nprint(x_test.shape)', 'set_y_train = list(set(y_train))\\nprint(len(set_y_train))', 'get_ipython().run_cell_magic(\\'time\\', \\'\\', \"from s...\\',\\\\n    n_jobs=-1\\\\n)\\\\nclf.fit(x_train, y_train)\")', r\"get_ipython().run_cell_magic('time', '', 'from s...in_pred[0].shape)\\nprint(y_train_pred[1].shape)')\", 'y_train_pred1 = [y_train[i] for i in y_train_pre...int(accuracy_score(y_train[:100], y_train_pred1))', r\"get_ipython().run_cell_magic('time', '', 'from s...(y_val_nbs[0].shape)\\nprint(y_val_nbs[1].shape)')\", 'get_ipython().run_cell_magic(\\'time\\', \\'\\', \"y_val_...core(y_val[:count], y_val_pred)\\\\nprint(val_acc)\")', r\"get_ipython().run_cell_magic('time', '', 'y_test..._test_nbs[0].shape)\\nprint(y_test_nbs[1].shape)')\", \"get_ipython().run_cell_magic('time', '', 'y_test_pred = [y_train[i] for i in y_test_nbs[1][:, 0]]')\", 'print(len(y_test_pred))\\nprint(y_test_pred[:10])', \"import time\\nimport os\\nimport pandas as pd\\nimport...e + '_' + time_str\\nprint('run_name: ' + run_name)\", ...], 'NearestNeighbors': <class 'sklearn.neighbors.unsupervised.NearestNeighbors'>, 'Out': {}, '_': '', '__': '', '___': '', '__builtin__': <module 'builtins' (built-in)>, '__builtins__': <module 'builtins' (built-in)>, '__doc__': 'Automatically created module for IPython interactive environment', '__loader__': None, ...}\n   2911             finally:\n   2912                 # Reset our crash handler in place\n   2913                 sys.excepthook = old_excepthook\n   2914         except SystemExit as e:\n\n...........................................................................\n/data2/kaggle/landmark-recognition-challenge/<ipython-input-38-89a42292bd7f> in <module>()\n----> 1 get_ipython().run_cell_magic('time', '', 'y_test_nbs = clf.kneighbors(x_test, 1, True)\\nprint(y_test_nbs[0].shape)\\nprint(y_test_nbs[1].shape)')\n\n...........................................................................\n/home/ec2-user/anaconda3/envs/tensorflow_p36/lib/python3.6/site-packages/IPython/core/interactiveshell.py in run_cell_magic(self=<ipykernel.zmqshell.ZMQInteractiveShell object>, magic_name='time', line='', cell='y_test_nbs = clf.kneighbors(x_test, 1, True)\\nprint(y_test_nbs[0].shape)\\nprint(y_test_nbs[1].shape)')\n   2126             # This will need to be updated if the internal calling logic gets\n   2127             # refactored, or else we'll be expanding the wrong variables.\n   2128             stack_depth = 2\n   2129             magic_arg_s = self.var_expand(line, stack_depth)\n   2130             with self.builtin_trap:\n-> 2131                 result = fn(magic_arg_s, cell)\n        result = undefined\n        fn = <bound method ExecutionMagics.time of <IPython.core.magics.execution.ExecutionMagics object>>\n        magic_arg_s = ''\n        cell = 'y_test_nbs = clf.kneighbors(x_test, 1, True)\\nprint(y_test_nbs[0].shape)\\nprint(y_test_nbs[1].shape)'\n   2132             return result\n   2133 \n   2134     def find_line_magic(self, magic_name):\n   2135         \"\"\"Find and return a line magic by name.\n\n...........................................................................\n/data2/kaggle/landmark-recognition-challenge/<decorator-gen-62> in time(self=<IPython.core.magics.execution.ExecutionMagics object>, line='', cell='y_test_nbs = clf.kneighbors(x_test, 1, True)\\nprint(y_test_nbs[0].shape)\\nprint(y_test_nbs[1].shape)', local_ns=None)\n\n...........................................................................\n/home/ec2-user/anaconda3/envs/tensorflow_p36/lib/python3.6/site-packages/IPython/core/magic.py in <lambda>(f=<function ExecutionMagics.time>, *a=(<IPython.core.magics.execution.ExecutionMagics object>, '', 'y_test_nbs = clf.kneighbors(x_test, 1, True)\\nprint(y_test_nbs[0].shape)\\nprint(y_test_nbs[1].shape)', None), **k={})\n    182     validate_type(magic_kind)\n    183 \n    184     # This is a closure to capture the magic_kind.  We could also use a class,\n    185     # but it's overkill for just that one bit of state.\n    186     def magic_deco(arg):\n--> 187         call = lambda f, *a, **k: f(*a, **k)\n        f = <function ExecutionMagics.time>\n        a = (<IPython.core.magics.execution.ExecutionMagics object>, '', 'y_test_nbs = clf.kneighbors(x_test, 1, True)\\nprint(y_test_nbs[0].shape)\\nprint(y_test_nbs[1].shape)', None)\n        k = {}\n    188 \n    189         if callable(arg):\n    190             # \"Naked\" decorator call (just @foo, no args)\n    191             func = arg\n\n...........................................................................\n/home/ec2-user/anaconda3/envs/tensorflow_p36/lib/python3.6/site-packages/IPython/core/magics/execution.py in time(self=<IPython.core.magics.execution.ExecutionMagics object>, line='', cell='y_test_nbs = clf.kneighbors(x_test, 1, True)\\nprint(y_test_nbs[0].shape)\\nprint(y_test_nbs[1].shape)', local_ns=None)\n   1233                 return\n   1234             end = clock2()\n   1235         else:\n   1236             st = clock2()\n   1237             try:\n-> 1238                 exec(code, glob, local_ns)\n        code = <code object <module> at 0x7f38f4ba95d0, file \"<timed exec>\", line 1>\n        glob = {'In': ['', \"import time\\nimport os\\nimport pandas as pd\\nimport...e + '_' + time_str\\nprint('run_name: ' + run_name)\", \"cwd = os.getcwd()\\ndata1_folder = '/data1/kaggle/...nt('Create folder: %s' % post_pca_feature_folder)\", \"train_csv_file = os.path.join(input_folder, 'tra....path.join(input_folder, 'sample_submission.csv')\", 'get_ipython().run_cell_magic(\\'time\\', \\'\\', \"import...\\'])\\\\n        x_test.append(np.array(h[\\'test\\']))\")', 'print(x_data[0].shape)\\nprint(len(y_data))\\nprint(x_test[0].shape)', r\"get_ipython().run_cell_magic('time', '', 'x_data...s=-1)\\nprint(x_data.shape)\\nprint(x_test.shape)')\", '# from sklearn.model_selection import train_test...hape)\\n# print(y_train.shape)\\n# print(y_val.shape)', 'set_y_data = list(set(y_data))\\nprint(len(set_y_data))', 'import numpy as np\\nfrom sklearn.metrics import a...ain.shape)\\nprint(y_val.shape)\\nprint(x_test.shape)', 'set_y_train = list(set(y_train))\\nprint(len(set_y_train))', 'get_ipython().run_cell_magic(\\'time\\', \\'\\', \"from s...\\',\\\\n    n_jobs=-1\\\\n)\\\\nclf.fit(x_train, y_train)\")', r\"get_ipython().run_cell_magic('time', '', 'from s...in_pred[0].shape)\\nprint(y_train_pred[1].shape)')\", 'y_train_pred1 = [y_train[i] for i in y_train_pre...int(accuracy_score(y_train[:100], y_train_pred1))', r\"get_ipython().run_cell_magic('time', '', 'from s...(y_val_nbs[0].shape)\\nprint(y_val_nbs[1].shape)')\", 'get_ipython().run_cell_magic(\\'time\\', \\'\\', \"y_val_...core(y_val[:count], y_val_pred)\\\\nprint(val_acc)\")', r\"get_ipython().run_cell_magic('time', '', 'y_test..._test_nbs[0].shape)\\nprint(y_test_nbs[1].shape)')\", \"get_ipython().run_cell_magic('time', '', 'y_test_pred = [y_train[i] for i in y_test_nbs[1][:, 0]]')\", 'print(len(y_test_pred))\\nprint(y_test_pred[:10])', \"import time\\nimport os\\nimport pandas as pd\\nimport...e + '_' + time_str\\nprint('run_name: ' + run_name)\", ...], 'NearestNeighbors': <class 'sklearn.neighbors.unsupervised.NearestNeighbors'>, 'Out': {}, '_': '', '__': '', '___': '', '__builtin__': <module 'builtins' (built-in)>, '__builtins__': <module 'builtins' (built-in)>, '__doc__': 'Automatically created module for IPython interactive environment', '__loader__': None, ...}\n        local_ns = None\n   1239             except:\n   1240                 self.shell.showtraceback()\n   1241                 return\n   1242             end = clock2()\n\n...........................................................................\n/data2/kaggle/landmark-recognition-challenge/<timed exec> in <module>()\n\n...........................................................................\n/home/ec2-user/anaconda3/envs/tensorflow_p36/lib/python3.6/site-packages/sklearn/neighbors/base.py in kneighbors(self=NearestNeighbors(algorithm='brute', leaf_size=10...ms=None, n_jobs=-1, n_neighbors=5, p=2, radius=2), X=array([[ -4.1808158 ,  -2.45387033,  -2.21467926...2.2558095 ,\n          3.23124027,   0.60419135]]), n_neighbors=1, return_distance=True)\n    356                 dist = pairwise_distances(X, self._fit_X, 'euclidean',\n    357                                           n_jobs=n_jobs, squared=True)\n    358             else:\n    359                 dist = pairwise_distances(\n    360                     X, self._fit_X, self.effective_metric_, n_jobs=n_jobs,\n--> 361                     **self.effective_metric_params_)\n        self.effective_metric_params_ = {}\n    362 \n    363             neigh_ind = np.argpartition(dist, n_neighbors - 1, axis=1)\n    364             neigh_ind = neigh_ind[:, :n_neighbors]\n    365             # argpartition doesn't guarantee sorted order, so we sort again\n\n...........................................................................\n/home/ec2-user/anaconda3/envs/tensorflow_p36/lib/python3.6/site-packages/sklearn/metrics/pairwise.py in pairwise_distances(X=array([[ -4.1808158 ,  -2.45387033,  -2.21467926...2.2558095 ,\n          3.23124027,   0.60419135]]), Y=array([[ -0.91026343,   0.6302994 ,  -4.76333452...4.02564973,\n         -0.14400833,  -0.32452219]]), metric='cosine', n_jobs=16, **kwds={})\n   1242         if n_jobs == 1 and X is Y:\n   1243             return distance.squareform(distance.pdist(X, metric=metric,\n   1244                                                       **kwds))\n   1245         func = partial(distance.cdist, metric=metric, **kwds)\n   1246 \n-> 1247     return _parallel_pairwise(X, Y, func, n_jobs, **kwds)\n        X = array([[ -4.1808158 ,  -2.45387033,  -2.21467926...2.2558095 ,\n          3.23124027,   0.60419135]])\n        Y = array([[ -0.91026343,   0.6302994 ,  -4.76333452...4.02564973,\n         -0.14400833,  -0.32452219]])\n        func = <function cosine_distances>\n        n_jobs = 16\n        kwds = {}\n   1248 \n   1249 \n   1250 # These distances recquire boolean arrays, when using scipy.spatial.distance\n   1251 PAIRWISE_BOOLEAN_FUNCTIONS = [\n\n...........................................................................\n/home/ec2-user/anaconda3/envs/tensorflow_p36/lib/python3.6/site-packages/sklearn/metrics/pairwise.py in _parallel_pairwise(X=array([[ -4.1808158 ,  -2.45387033,  -2.21467926...2.2558095 ,\n          3.23124027,   0.60419135]]), Y=array([[ -0.91026343,   0.6302994 ,  -4.76333452...4.02564973,\n         -0.14400833,  -0.32452219]]), func=<function cosine_distances>, n_jobs=16, **kwds={})\n   1091 \n   1092     # TODO: in some cases, backend='threading' may be appropriate\n   1093     fd = delayed(func)\n   1094     ret = Parallel(n_jobs=n_jobs, verbose=0)(\n   1095         fd(X, Y[s], **kwds)\n-> 1096         for s in gen_even_slices(Y.shape[0], n_jobs))\n        Y.shape = (1097483, 32)\n        n_jobs = 16\n   1097 \n   1098     return np.hstack(ret)\n   1099 \n   1100 \n\n...........................................................................\n/home/ec2-user/anaconda3/envs/tensorflow_p36/lib/python3.6/site-packages/sklearn/externals/joblib/parallel.py in __call__(self=Parallel(n_jobs=16), iterable=<generator object _parallel_pairwise.<locals>.<genexpr>>)\n    784             if pre_dispatch == \"all\" or n_jobs == 1:\n    785                 # The iterable was consumed all at once by the above for loop.\n    786                 # No need to wait for async callbacks to trigger to\n    787                 # consumption.\n    788                 self._iterating = False\n--> 789             self.retrieve()\n        self.retrieve = <bound method Parallel.retrieve of Parallel(n_jobs=16)>\n    790             # Make sure that we get a last message telling us we are done\n    791             elapsed_time = time.time() - self._start_time\n    792             self._print('Done %3i out of %3i | elapsed: %s finished',\n    793                         (len(self._output), len(self._output),\n\n---------------------------------------------------------------------------\nSub-process traceback:\n---------------------------------------------------------------------------\nMemoryError                                        Thu Mar 22 13:37:02 2018\nPID: 18588Python 3.6.4: /home/ec2-user/anaconda3/envs/tensorflow_p36/bin/python\n...........................................................................\n/home/ec2-user/anaconda3/envs/tensorflow_p36/lib/python3.6/site-packages/sklearn/externals/joblib/parallel.py in __call__(self=<sklearn.externals.joblib.parallel.BatchedCalls object>)\n    126     def __init__(self, iterator_slice):\n    127         self.items = list(iterator_slice)\n    128         self._size = len(self.items)\n    129 \n    130     def __call__(self):\n--> 131         return [func(*args, **kwargs) for func, args, kwargs in self.items]\n        self.items = [(<function cosine_distances>, (memmap([[ -4.1808158 ,  -2.45387033,  -2.2146792....2558095 ,\n           3.23124027,   0.60419135]]), memmap([[ -0.91026343,   0.6302994 ,  -4.7633345....27959936,\n           1.465019  ,   5.95011416]])), {})]\n    132 \n    133     def __len__(self):\n    134         return self._size\n    135 \n\n...........................................................................\n/home/ec2-user/anaconda3/envs/tensorflow_p36/lib/python3.6/site-packages/sklearn/externals/joblib/parallel.py in <listcomp>(.0=<list_iterator object>)\n    126     def __init__(self, iterator_slice):\n    127         self.items = list(iterator_slice)\n    128         self._size = len(self.items)\n    129 \n    130     def __call__(self):\n--> 131         return [func(*args, **kwargs) for func, args, kwargs in self.items]\n        func = <function cosine_distances>\n        args = (memmap([[ -4.1808158 ,  -2.45387033,  -2.2146792....2558095 ,\n           3.23124027,   0.60419135]]), memmap([[ -0.91026343,   0.6302994 ,  -4.7633345....27959936,\n           1.465019  ,   5.95011416]]))\n        kwargs = {}\n    132 \n    133     def __len__(self):\n    134         return self._size\n    135 \n\n...........................................................................\n/home/ec2-user/anaconda3/envs/tensorflow_p36/lib/python3.6/site-packages/sklearn/metrics/pairwise.py in cosine_distances(X=memmap([[ -4.1808158 ,  -2.45387033,  -2.2146792....2558095 ,\n           3.23124027,   0.60419135]]), Y=memmap([[ -0.91026343,   0.6302994 ,  -4.7633345....27959936,\n           1.465019  ,   5.95011416]]))\n    572     --------\n    573     sklearn.metrics.pairwise.cosine_similarity\n    574     scipy.spatial.distance.cosine (dense matrices only)\n    575     \"\"\"\n    576     # 1.0 - cosine_similarity(X, Y) without copy\n--> 577     S = cosine_similarity(X, Y)\n        S = undefined\n        X = memmap([[ -4.1808158 ,  -2.45387033,  -2.2146792....2558095 ,\n           3.23124027,   0.60419135]])\n        Y = memmap([[ -0.91026343,   0.6302994 ,  -4.7633345....27959936,\n           1.465019  ,   5.95011416]])\n    578     S *= -1\n    579     S += 1\n    580     np.clip(S, 0, 2, out=S)\n    581     if X is Y or Y is None:\n\n...........................................................................\n/home/ec2-user/anaconda3/envs/tensorflow_p36/lib/python3.6/site-packages/sklearn/metrics/pairwise.py in cosine_similarity(X=array([[ -4.1808158 ,  -2.45387033,  -2.21467926...2.2558095 ,\n          3.23124027,   0.60419135]]), Y=array([[ -0.91026343,   0.6302994 ,  -4.76333452...0.27959936,\n          1.465019  ,   5.95011416]]), dense_output=True)\n    920     if X is Y:\n    921         Y_normalized = X_normalized\n    922     else:\n    923         Y_normalized = normalize(Y, copy=True)\n    924 \n--> 925     K = safe_sparse_dot(X_normalized, Y_normalized.T, dense_output=dense_output)\n        K = undefined\n        X_normalized = array([[-0.2721134 , -0.15971309, -0.14414505, ....  0.1076025 ,\n         0.15413072,  0.02882003]])\n        Y_normalized.T = array([[-0.03459719, -0.09560562, -0.63940943, ....  0.06646341,\n         0.00416268,  0.17570553]])\n        dense_output = True\n    926 \n    927     return K\n    928 \n    929 \n\n...........................................................................\n/home/ec2-user/anaconda3/envs/tensorflow_p36/lib/python3.6/site-packages/sklearn/utils/extmath.py in safe_sparse_dot(a=array([[-0.2721134 , -0.15971309, -0.14414505, ....  0.1076025 ,\n         0.15413072,  0.02882003]]), b=array([[-0.03459719, -0.09560562, -0.63940943, ....  0.06646341,\n         0.00416268,  0.17570553]]), dense_output=True)\n    135         ret = a * b\n    136         if dense_output and hasattr(ret, \"toarray\"):\n    137             ret = ret.toarray()\n    138         return ret\n    139     else:\n--> 140         return np.dot(a, b)\n        a = array([[-0.2721134 , -0.15971309, -0.14414505, ....  0.1076025 ,\n         0.15413072,  0.02882003]])\n        b = array([[-0.03459719, -0.09560562, -0.63940943, ....  0.06646341,\n         0.00416268,  0.17570553]])\n    141 \n    142 \n    143 def randomized_range_finder(A, size, n_iter,\n    144                             power_iteration_normalizer='auto',\n\nMemoryError: \n___________________________________________________________________________",
     "output_type": "error",
     "traceback": [
      "\u001b[0;31m---------------------------------------------------------------------------\u001b[0m",
      "\u001b[0;31mRemoteTraceback\u001b[0m                           Traceback (most recent call last)",
      "\u001b[0;31mRemoteTraceback\u001b[0m: \n\"\"\"\nTraceback (most recent call last):\n  File \"/home/ec2-user/anaconda3/envs/tensorflow_p36/lib/python3.6/site-packages/sklearn/externals/joblib/_parallel_backends.py\", line 350, in __call__\n    return self.func(*args, **kwargs)\n  File \"/home/ec2-user/anaconda3/envs/tensorflow_p36/lib/python3.6/site-packages/sklearn/externals/joblib/parallel.py\", line 131, in __call__\n    return [func(*args, **kwargs) for func, args, kwargs in self.items]\n  File \"/home/ec2-user/anaconda3/envs/tensorflow_p36/lib/python3.6/site-packages/sklearn/externals/joblib/parallel.py\", line 131, in <listcomp>\n    return [func(*args, **kwargs) for func, args, kwargs in self.items]\n  File \"/home/ec2-user/anaconda3/envs/tensorflow_p36/lib/python3.6/site-packages/sklearn/metrics/pairwise.py\", line 577, in cosine_distances\n    S = cosine_similarity(X, Y)\n  File \"/home/ec2-user/anaconda3/envs/tensorflow_p36/lib/python3.6/site-packages/sklearn/metrics/pairwise.py\", line 925, in cosine_similarity\n    K = safe_sparse_dot(X_normalized, Y_normalized.T, dense_output=dense_output)\n  File \"/home/ec2-user/anaconda3/envs/tensorflow_p36/lib/python3.6/site-packages/sklearn/utils/extmath.py\", line 140, in safe_sparse_dot\n    return np.dot(a, b)\nMemoryError\n\nDuring handling of the above exception, another exception occurred:\n\nTraceback (most recent call last):\n  File \"/home/ec2-user/anaconda3/envs/tensorflow_p36/lib/python3.6/multiprocessing/pool.py\", line 119, in worker\n    result = (True, func(*args, **kwds))\n  File \"/home/ec2-user/anaconda3/envs/tensorflow_p36/lib/python3.6/site-packages/sklearn/externals/joblib/_parallel_backends.py\", line 359, in __call__\n    raise TransportableException(text, e_type)\nsklearn.externals.joblib.my_exceptions.TransportableException: TransportableException\n___________________________________________________________________________\nMemoryError                                        Thu Mar 22 13:37:02 2018\nPID: 18588Python 3.6.4: /home/ec2-user/anaconda3/envs/tensorflow_p36/bin/python\n...........................................................................\n/home/ec2-user/anaconda3/envs/tensorflow_p36/lib/python3.6/site-packages/sklearn/externals/joblib/parallel.py in __call__(self=<sklearn.externals.joblib.parallel.BatchedCalls object>)\n    126     def __init__(self, iterator_slice):\n    127         self.items = list(iterator_slice)\n    128         self._size = len(self.items)\n    129 \n    130     def __call__(self):\n--> 131         return [func(*args, **kwargs) for func, args, kwargs in self.items]\n        self.items = [(<function cosine_distances>, (memmap([[ -4.1808158 ,  -2.45387033,  -2.2146792....2558095 ,\n           3.23124027,   0.60419135]]), memmap([[ -0.91026343,   0.6302994 ,  -4.7633345....27959936,\n           1.465019  ,   5.95011416]])), {})]\n    132 \n    133     def __len__(self):\n    134         return self._size\n    135 \n\n...........................................................................\n/home/ec2-user/anaconda3/envs/tensorflow_p36/lib/python3.6/site-packages/sklearn/externals/joblib/parallel.py in <listcomp>(.0=<list_iterator object>)\n    126     def __init__(self, iterator_slice):\n    127         self.items = list(iterator_slice)\n    128         self._size = len(self.items)\n    129 \n    130     def __call__(self):\n--> 131         return [func(*args, **kwargs) for func, args, kwargs in self.items]\n        func = <function cosine_distances>\n        args = (memmap([[ -4.1808158 ,  -2.45387033,  -2.2146792....2558095 ,\n           3.23124027,   0.60419135]]), memmap([[ -0.91026343,   0.6302994 ,  -4.7633345....27959936,\n           1.465019  ,   5.95011416]]))\n        kwargs = {}\n    132 \n    133     def __len__(self):\n    134         return self._size\n    135 \n\n...........................................................................\n/home/ec2-user/anaconda3/envs/tensorflow_p36/lib/python3.6/site-packages/sklearn/metrics/pairwise.py in cosine_distances(X=memmap([[ -4.1808158 ,  -2.45387033,  -2.2146792....2558095 ,\n           3.23124027,   0.60419135]]), Y=memmap([[ -0.91026343,   0.6302994 ,  -4.7633345....27959936,\n           1.465019  ,   5.95011416]]))\n    572     --------\n    573     sklearn.metrics.pairwise.cosine_similarity\n    574     scipy.spatial.distance.cosine (dense matrices only)\n    575     \"\"\"\n    576     # 1.0 - cosine_similarity(X, Y) without copy\n--> 577     S = cosine_similarity(X, Y)\n        S = undefined\n        X = memmap([[ -4.1808158 ,  -2.45387033,  -2.2146792....2558095 ,\n           3.23124027,   0.60419135]])\n        Y = memmap([[ -0.91026343,   0.6302994 ,  -4.7633345....27959936,\n           1.465019  ,   5.95011416]])\n    578     S *= -1\n    579     S += 1\n    580     np.clip(S, 0, 2, out=S)\n    581     if X is Y or Y is None:\n\n...........................................................................\n/home/ec2-user/anaconda3/envs/tensorflow_p36/lib/python3.6/site-packages/sklearn/metrics/pairwise.py in cosine_similarity(X=array([[ -4.1808158 ,  -2.45387033,  -2.21467926...2.2558095 ,\n          3.23124027,   0.60419135]]), Y=array([[ -0.91026343,   0.6302994 ,  -4.76333452...0.27959936,\n          1.465019  ,   5.95011416]]), dense_output=True)\n    920     if X is Y:\n    921         Y_normalized = X_normalized\n    922     else:\n    923         Y_normalized = normalize(Y, copy=True)\n    924 \n--> 925     K = safe_sparse_dot(X_normalized, Y_normalized.T, dense_output=dense_output)\n        K = undefined\n        X_normalized = array([[-0.2721134 , -0.15971309, -0.14414505, ....  0.1076025 ,\n         0.15413072,  0.02882003]])\n        Y_normalized.T = array([[-0.03459719, -0.09560562, -0.63940943, ....  0.06646341,\n         0.00416268,  0.17570553]])\n        dense_output = True\n    926 \n    927     return K\n    928 \n    929 \n\n...........................................................................\n/home/ec2-user/anaconda3/envs/tensorflow_p36/lib/python3.6/site-packages/sklearn/utils/extmath.py in safe_sparse_dot(a=array([[-0.2721134 , -0.15971309, -0.14414505, ....  0.1076025 ,\n         0.15413072,  0.02882003]]), b=array([[-0.03459719, -0.09560562, -0.63940943, ....  0.06646341,\n         0.00416268,  0.17570553]]), dense_output=True)\n    135         ret = a * b\n    136         if dense_output and hasattr(ret, \"toarray\"):\n    137             ret = ret.toarray()\n    138         return ret\n    139     else:\n--> 140         return np.dot(a, b)\n        a = array([[-0.2721134 , -0.15971309, -0.14414505, ....  0.1076025 ,\n         0.15413072,  0.02882003]])\n        b = array([[-0.03459719, -0.09560562, -0.63940943, ....  0.06646341,\n         0.00416268,  0.17570553]])\n    141 \n    142 \n    143 def randomized_range_finder(A, size, n_iter,\n    144                             power_iteration_normalizer='auto',\n\nMemoryError: \n___________________________________________________________________________\n\"\"\"",
      "\nThe above exception was the direct cause of the following exception:\n",
      "\u001b[0;31mTransportableException\u001b[0m                    Traceback (most recent call last)",
      "\u001b[0;32m/home/ec2-user/anaconda3/envs/tensorflow_p36/lib/python3.6/site-packages/sklearn/externals/joblib/parallel.py\u001b[0m in \u001b[0;36mretrieve\u001b[0;34m(self)\u001b[0m\n\u001b[1;32m    698\u001b[0m                 \u001b[0;32mif\u001b[0m \u001b[0mgetattr\u001b[0m\u001b[0;34m(\u001b[0m\u001b[0mself\u001b[0m\u001b[0;34m.\u001b[0m\u001b[0m_backend\u001b[0m\u001b[0;34m,\u001b[0m \u001b[0;34m'supports_timeout'\u001b[0m\u001b[0;34m,\u001b[0m \u001b[0;32mFalse\u001b[0m\u001b[0;34m)\u001b[0m\u001b[0;34m:\u001b[0m\u001b[0;34m\u001b[0m\u001b[0m\n\u001b[0;32m--> 699\u001b[0;31m                     \u001b[0mself\u001b[0m\u001b[0;34m.\u001b[0m\u001b[0m_output\u001b[0m\u001b[0;34m.\u001b[0m\u001b[0mextend\u001b[0m\u001b[0;34m(\u001b[0m\u001b[0mjob\u001b[0m\u001b[0;34m.\u001b[0m\u001b[0mget\u001b[0m\u001b[0;34m(\u001b[0m\u001b[0mtimeout\u001b[0m\u001b[0;34m=\u001b[0m\u001b[0mself\u001b[0m\u001b[0;34m.\u001b[0m\u001b[0mtimeout\u001b[0m\u001b[0;34m)\u001b[0m\u001b[0;34m)\u001b[0m\u001b[0;34m\u001b[0m\u001b[0m\n\u001b[0m\u001b[1;32m    700\u001b[0m                 \u001b[0;32melse\u001b[0m\u001b[0;34m:\u001b[0m\u001b[0;34m\u001b[0m\u001b[0m\n",
      "\u001b[0;32m/home/ec2-user/anaconda3/envs/tensorflow_p36/lib/python3.6/multiprocessing/pool.py\u001b[0m in \u001b[0;36mget\u001b[0;34m(self, timeout)\u001b[0m\n\u001b[1;32m    643\u001b[0m         \u001b[0;32melse\u001b[0m\u001b[0;34m:\u001b[0m\u001b[0;34m\u001b[0m\u001b[0m\n\u001b[0;32m--> 644\u001b[0;31m             \u001b[0;32mraise\u001b[0m \u001b[0mself\u001b[0m\u001b[0;34m.\u001b[0m\u001b[0m_value\u001b[0m\u001b[0;34m\u001b[0m\u001b[0m\n\u001b[0m\u001b[1;32m    645\u001b[0m \u001b[0;34m\u001b[0m\u001b[0m\n",
      "\u001b[0;31mTransportableException\u001b[0m: TransportableException\n___________________________________________________________________________\nMemoryError                                        Thu Mar 22 13:37:02 2018\nPID: 18588Python 3.6.4: /home/ec2-user/anaconda3/envs/tensorflow_p36/bin/python\n...........................................................................\n/home/ec2-user/anaconda3/envs/tensorflow_p36/lib/python3.6/site-packages/sklearn/externals/joblib/parallel.py in __call__(self=<sklearn.externals.joblib.parallel.BatchedCalls object>)\n    126     def __init__(self, iterator_slice):\n    127         self.items = list(iterator_slice)\n    128         self._size = len(self.items)\n    129 \n    130     def __call__(self):\n--> 131         return [func(*args, **kwargs) for func, args, kwargs in self.items]\n        self.items = [(<function cosine_distances>, (memmap([[ -4.1808158 ,  -2.45387033,  -2.2146792....2558095 ,\n           3.23124027,   0.60419135]]), memmap([[ -0.91026343,   0.6302994 ,  -4.7633345....27959936,\n           1.465019  ,   5.95011416]])), {})]\n    132 \n    133     def __len__(self):\n    134         return self._size\n    135 \n\n...........................................................................\n/home/ec2-user/anaconda3/envs/tensorflow_p36/lib/python3.6/site-packages/sklearn/externals/joblib/parallel.py in <listcomp>(.0=<list_iterator object>)\n    126     def __init__(self, iterator_slice):\n    127         self.items = list(iterator_slice)\n    128         self._size = len(self.items)\n    129 \n    130     def __call__(self):\n--> 131         return [func(*args, **kwargs) for func, args, kwargs in self.items]\n        func = <function cosine_distances>\n        args = (memmap([[ -4.1808158 ,  -2.45387033,  -2.2146792....2558095 ,\n           3.23124027,   0.60419135]]), memmap([[ -0.91026343,   0.6302994 ,  -4.7633345....27959936,\n           1.465019  ,   5.95011416]]))\n        kwargs = {}\n    132 \n    133     def __len__(self):\n    134         return self._size\n    135 \n\n...........................................................................\n/home/ec2-user/anaconda3/envs/tensorflow_p36/lib/python3.6/site-packages/sklearn/metrics/pairwise.py in cosine_distances(X=memmap([[ -4.1808158 ,  -2.45387033,  -2.2146792....2558095 ,\n           3.23124027,   0.60419135]]), Y=memmap([[ -0.91026343,   0.6302994 ,  -4.7633345....27959936,\n           1.465019  ,   5.95011416]]))\n    572     --------\n    573     sklearn.metrics.pairwise.cosine_similarity\n    574     scipy.spatial.distance.cosine (dense matrices only)\n    575     \"\"\"\n    576     # 1.0 - cosine_similarity(X, Y) without copy\n--> 577     S = cosine_similarity(X, Y)\n        S = undefined\n        X = memmap([[ -4.1808158 ,  -2.45387033,  -2.2146792....2558095 ,\n           3.23124027,   0.60419135]])\n        Y = memmap([[ -0.91026343,   0.6302994 ,  -4.7633345....27959936,\n           1.465019  ,   5.95011416]])\n    578     S *= -1\n    579     S += 1\n    580     np.clip(S, 0, 2, out=S)\n    581     if X is Y or Y is None:\n\n...........................................................................\n/home/ec2-user/anaconda3/envs/tensorflow_p36/lib/python3.6/site-packages/sklearn/metrics/pairwise.py in cosine_similarity(X=array([[ -4.1808158 ,  -2.45387033,  -2.21467926...2.2558095 ,\n          3.23124027,   0.60419135]]), Y=array([[ -0.91026343,   0.6302994 ,  -4.76333452...0.27959936,\n          1.465019  ,   5.95011416]]), dense_output=True)\n    920     if X is Y:\n    921         Y_normalized = X_normalized\n    922     else:\n    923         Y_normalized = normalize(Y, copy=True)\n    924 \n--> 925     K = safe_sparse_dot(X_normalized, Y_normalized.T, dense_output=dense_output)\n        K = undefined\n        X_normalized = array([[-0.2721134 , -0.15971309, -0.14414505, ....  0.1076025 ,\n         0.15413072,  0.02882003]])\n        Y_normalized.T = array([[-0.03459719, -0.09560562, -0.63940943, ....  0.06646341,\n         0.00416268,  0.17570553]])\n        dense_output = True\n    926 \n    927     return K\n    928 \n    929 \n\n...........................................................................\n/home/ec2-user/anaconda3/envs/tensorflow_p36/lib/python3.6/site-packages/sklearn/utils/extmath.py in safe_sparse_dot(a=array([[-0.2721134 , -0.15971309, -0.14414505, ....  0.1076025 ,\n         0.15413072,  0.02882003]]), b=array([[-0.03459719, -0.09560562, -0.63940943, ....  0.06646341,\n         0.00416268,  0.17570553]]), dense_output=True)\n    135         ret = a * b\n    136         if dense_output and hasattr(ret, \"toarray\"):\n    137             ret = ret.toarray()\n    138         return ret\n    139     else:\n--> 140         return np.dot(a, b)\n        a = array([[-0.2721134 , -0.15971309, -0.14414505, ....  0.1076025 ,\n         0.15413072,  0.02882003]])\n        b = array([[-0.03459719, -0.09560562, -0.63940943, ....  0.06646341,\n         0.00416268,  0.17570553]])\n    141 \n    142 \n    143 def randomized_range_finder(A, size, n_iter,\n    144                             power_iteration_normalizer='auto',\n\nMemoryError: \n___________________________________________________________________________",
      "\nDuring handling of the above exception, another exception occurred:\n",
      "\u001b[0;31mJoblibMemoryError\u001b[0m                         Traceback (most recent call last)",
      "\u001b[0;32m<timed exec>\u001b[0m in \u001b[0;36m<module>\u001b[0;34m()\u001b[0m\n",
      "\u001b[0;32m/home/ec2-user/anaconda3/envs/tensorflow_p36/lib/python3.6/site-packages/sklearn/neighbors/base.py\u001b[0m in \u001b[0;36mkneighbors\u001b[0;34m(self, X, n_neighbors, return_distance)\u001b[0m\n\u001b[1;32m    359\u001b[0m                 dist = pairwise_distances(\n\u001b[1;32m    360\u001b[0m                     \u001b[0mX\u001b[0m\u001b[0;34m,\u001b[0m \u001b[0mself\u001b[0m\u001b[0;34m.\u001b[0m\u001b[0m_fit_X\u001b[0m\u001b[0;34m,\u001b[0m \u001b[0mself\u001b[0m\u001b[0;34m.\u001b[0m\u001b[0meffective_metric_\u001b[0m\u001b[0;34m,\u001b[0m \u001b[0mn_jobs\u001b[0m\u001b[0;34m=\u001b[0m\u001b[0mn_jobs\u001b[0m\u001b[0;34m,\u001b[0m\u001b[0;34m\u001b[0m\u001b[0m\n\u001b[0;32m--> 361\u001b[0;31m                     **self.effective_metric_params_)\n\u001b[0m\u001b[1;32m    362\u001b[0m \u001b[0;34m\u001b[0m\u001b[0m\n\u001b[1;32m    363\u001b[0m             \u001b[0mneigh_ind\u001b[0m \u001b[0;34m=\u001b[0m \u001b[0mnp\u001b[0m\u001b[0;34m.\u001b[0m\u001b[0margpartition\u001b[0m\u001b[0;34m(\u001b[0m\u001b[0mdist\u001b[0m\u001b[0;34m,\u001b[0m \u001b[0mn_neighbors\u001b[0m \u001b[0;34m-\u001b[0m \u001b[0;36m1\u001b[0m\u001b[0;34m,\u001b[0m \u001b[0maxis\u001b[0m\u001b[0;34m=\u001b[0m\u001b[0;36m1\u001b[0m\u001b[0;34m)\u001b[0m\u001b[0;34m\u001b[0m\u001b[0m\n",
      "\u001b[0;32m/home/ec2-user/anaconda3/envs/tensorflow_p36/lib/python3.6/site-packages/sklearn/metrics/pairwise.py\u001b[0m in \u001b[0;36mpairwise_distances\u001b[0;34m(X, Y, metric, n_jobs, **kwds)\u001b[0m\n\u001b[1;32m   1245\u001b[0m         \u001b[0mfunc\u001b[0m \u001b[0;34m=\u001b[0m \u001b[0mpartial\u001b[0m\u001b[0;34m(\u001b[0m\u001b[0mdistance\u001b[0m\u001b[0;34m.\u001b[0m\u001b[0mcdist\u001b[0m\u001b[0;34m,\u001b[0m \u001b[0mmetric\u001b[0m\u001b[0;34m=\u001b[0m\u001b[0mmetric\u001b[0m\u001b[0;34m,\u001b[0m \u001b[0;34m**\u001b[0m\u001b[0mkwds\u001b[0m\u001b[0;34m)\u001b[0m\u001b[0;34m\u001b[0m\u001b[0m\n\u001b[1;32m   1246\u001b[0m \u001b[0;34m\u001b[0m\u001b[0m\n\u001b[0;32m-> 1247\u001b[0;31m     \u001b[0;32mreturn\u001b[0m \u001b[0m_parallel_pairwise\u001b[0m\u001b[0;34m(\u001b[0m\u001b[0mX\u001b[0m\u001b[0;34m,\u001b[0m \u001b[0mY\u001b[0m\u001b[0;34m,\u001b[0m \u001b[0mfunc\u001b[0m\u001b[0;34m,\u001b[0m \u001b[0mn_jobs\u001b[0m\u001b[0;34m,\u001b[0m \u001b[0;34m**\u001b[0m\u001b[0mkwds\u001b[0m\u001b[0;34m)\u001b[0m\u001b[0;34m\u001b[0m\u001b[0m\n\u001b[0m\u001b[1;32m   1248\u001b[0m \u001b[0;34m\u001b[0m\u001b[0m\n\u001b[1;32m   1249\u001b[0m \u001b[0;34m\u001b[0m\u001b[0m\n",
      "\u001b[0;32m/home/ec2-user/anaconda3/envs/tensorflow_p36/lib/python3.6/site-packages/sklearn/metrics/pairwise.py\u001b[0m in \u001b[0;36m_parallel_pairwise\u001b[0;34m(X, Y, func, n_jobs, **kwds)\u001b[0m\n\u001b[1;32m   1094\u001b[0m     ret = Parallel(n_jobs=n_jobs, verbose=0)(\n\u001b[1;32m   1095\u001b[0m         \u001b[0mfd\u001b[0m\u001b[0;34m(\u001b[0m\u001b[0mX\u001b[0m\u001b[0;34m,\u001b[0m \u001b[0mY\u001b[0m\u001b[0;34m[\u001b[0m\u001b[0ms\u001b[0m\u001b[0;34m]\u001b[0m\u001b[0;34m,\u001b[0m \u001b[0;34m**\u001b[0m\u001b[0mkwds\u001b[0m\u001b[0;34m)\u001b[0m\u001b[0;34m\u001b[0m\u001b[0m\n\u001b[0;32m-> 1096\u001b[0;31m         for s in gen_even_slices(Y.shape[0], n_jobs))\n\u001b[0m\u001b[1;32m   1097\u001b[0m \u001b[0;34m\u001b[0m\u001b[0m\n\u001b[1;32m   1098\u001b[0m     \u001b[0;32mreturn\u001b[0m \u001b[0mnp\u001b[0m\u001b[0;34m.\u001b[0m\u001b[0mhstack\u001b[0m\u001b[0;34m(\u001b[0m\u001b[0mret\u001b[0m\u001b[0;34m)\u001b[0m\u001b[0;34m\u001b[0m\u001b[0m\n",
      "\u001b[0;32m/home/ec2-user/anaconda3/envs/tensorflow_p36/lib/python3.6/site-packages/sklearn/externals/joblib/parallel.py\u001b[0m in \u001b[0;36m__call__\u001b[0;34m(self, iterable)\u001b[0m\n\u001b[1;32m    787\u001b[0m                 \u001b[0;31m# consumption.\u001b[0m\u001b[0;34m\u001b[0m\u001b[0;34m\u001b[0m\u001b[0m\n\u001b[1;32m    788\u001b[0m                 \u001b[0mself\u001b[0m\u001b[0;34m.\u001b[0m\u001b[0m_iterating\u001b[0m \u001b[0;34m=\u001b[0m \u001b[0;32mFalse\u001b[0m\u001b[0;34m\u001b[0m\u001b[0m\n\u001b[0;32m--> 789\u001b[0;31m             \u001b[0mself\u001b[0m\u001b[0;34m.\u001b[0m\u001b[0mretrieve\u001b[0m\u001b[0;34m(\u001b[0m\u001b[0;34m)\u001b[0m\u001b[0;34m\u001b[0m\u001b[0m\n\u001b[0m\u001b[1;32m    790\u001b[0m             \u001b[0;31m# Make sure that we get a last message telling us we are done\u001b[0m\u001b[0;34m\u001b[0m\u001b[0;34m\u001b[0m\u001b[0m\n\u001b[1;32m    791\u001b[0m             \u001b[0melapsed_time\u001b[0m \u001b[0;34m=\u001b[0m \u001b[0mtime\u001b[0m\u001b[0;34m.\u001b[0m\u001b[0mtime\u001b[0m\u001b[0;34m(\u001b[0m\u001b[0;34m)\u001b[0m \u001b[0;34m-\u001b[0m \u001b[0mself\u001b[0m\u001b[0;34m.\u001b[0m\u001b[0m_start_time\u001b[0m\u001b[0;34m\u001b[0m\u001b[0m\n",
      "\u001b[0;32m/home/ec2-user/anaconda3/envs/tensorflow_p36/lib/python3.6/site-packages/sklearn/externals/joblib/parallel.py\u001b[0m in \u001b[0;36mretrieve\u001b[0;34m(self)\u001b[0m\n\u001b[1;32m    738\u001b[0m                     \u001b[0mexception\u001b[0m \u001b[0;34m=\u001b[0m \u001b[0mexception_type\u001b[0m\u001b[0;34m(\u001b[0m\u001b[0mreport\u001b[0m\u001b[0;34m)\u001b[0m\u001b[0;34m\u001b[0m\u001b[0m\n\u001b[1;32m    739\u001b[0m \u001b[0;34m\u001b[0m\u001b[0m\n\u001b[0;32m--> 740\u001b[0;31m                     \u001b[0;32mraise\u001b[0m \u001b[0mexception\u001b[0m\u001b[0;34m\u001b[0m\u001b[0m\n\u001b[0m\u001b[1;32m    741\u001b[0m \u001b[0;34m\u001b[0m\u001b[0m\n\u001b[1;32m    742\u001b[0m     \u001b[0;32mdef\u001b[0m \u001b[0m__call__\u001b[0m\u001b[0;34m(\u001b[0m\u001b[0mself\u001b[0m\u001b[0;34m,\u001b[0m \u001b[0miterable\u001b[0m\u001b[0;34m)\u001b[0m\u001b[0;34m:\u001b[0m\u001b[0;34m\u001b[0m\u001b[0m\n",
      "\u001b[0;31mJoblibMemoryError\u001b[0m: JoblibMemoryError\n___________________________________________________________________________\nMultiprocessing exception:\n...........................................................................\n/home/ec2-user/anaconda3/envs/tensorflow_p36/lib/python3.6/runpy.py in _run_module_as_main(mod_name='ipykernel.__main__', alter_argv=1)\n    188         sys.exit(msg)\n    189     main_globals = sys.modules[\"__main__\"].__dict__\n    190     if alter_argv:\n    191         sys.argv[0] = mod_spec.origin\n    192     return _run_code(code, main_globals, None,\n--> 193                      \"__main__\", mod_spec)\n        mod_spec = ModuleSpec(name='ipykernel.__main__', loader=<_f...b/python3.6/site-packages/ipykernel/__main__.py')\n    194 \n    195 def run_module(mod_name, init_globals=None,\n    196                run_name=None, alter_sys=False):\n    197     \"\"\"Execute a module's code without importing it\n\n...........................................................................\n/home/ec2-user/anaconda3/envs/tensorflow_p36/lib/python3.6/runpy.py in _run_code(code=<code object <module> at 0x7f390d6f48a0, file \"/...3.6/site-packages/ipykernel/__main__.py\", line 1>, run_globals={'__annotations__': {}, '__builtins__': <module 'builtins' (built-in)>, '__cached__': '/home/ec2-user/anaconda3/envs/tensorflow_p36/lib...ges/ipykernel/__pycache__/__main__.cpython-36.pyc', '__doc__': None, '__file__': '/home/ec2-user/anaconda3/envs/tensorflow_p36/lib/python3.6/site-packages/ipykernel/__main__.py', '__loader__': <_frozen_importlib_external.SourceFileLoader object>, '__name__': '__main__', '__package__': 'ipykernel', '__spec__': ModuleSpec(name='ipykernel.__main__', loader=<_f...b/python3.6/site-packages/ipykernel/__main__.py'), 'app': <module 'ipykernel.kernelapp' from '/home/ec2-us.../python3.6/site-packages/ipykernel/kernelapp.py'>}, init_globals=None, mod_name='__main__', mod_spec=ModuleSpec(name='ipykernel.__main__', loader=<_f...b/python3.6/site-packages/ipykernel/__main__.py'), pkg_name='ipykernel', script_name=None)\n     80                        __cached__ = cached,\n     81                        __doc__ = None,\n     82                        __loader__ = loader,\n     83                        __package__ = pkg_name,\n     84                        __spec__ = mod_spec)\n---> 85     exec(code, run_globals)\n        code = <code object <module> at 0x7f390d6f48a0, file \"/...3.6/site-packages/ipykernel/__main__.py\", line 1>\n        run_globals = {'__annotations__': {}, '__builtins__': <module 'builtins' (built-in)>, '__cached__': '/home/ec2-user/anaconda3/envs/tensorflow_p36/lib...ges/ipykernel/__pycache__/__main__.cpython-36.pyc', '__doc__': None, '__file__': '/home/ec2-user/anaconda3/envs/tensorflow_p36/lib/python3.6/site-packages/ipykernel/__main__.py', '__loader__': <_frozen_importlib_external.SourceFileLoader object>, '__name__': '__main__', '__package__': 'ipykernel', '__spec__': ModuleSpec(name='ipykernel.__main__', loader=<_f...b/python3.6/site-packages/ipykernel/__main__.py'), 'app': <module 'ipykernel.kernelapp' from '/home/ec2-us.../python3.6/site-packages/ipykernel/kernelapp.py'>}\n     86     return run_globals\n     87 \n     88 def _run_module_code(code, init_globals=None,\n     89                     mod_name=None, mod_spec=None,\n\n...........................................................................\n/home/ec2-user/anaconda3/envs/tensorflow_p36/lib/python3.6/site-packages/ipykernel/__main__.py in <module>()\n      1 if __name__ == '__main__':\n      2     from ipykernel import kernelapp as app\n----> 3     app.launch_new_instance()\n\n...........................................................................\n/home/ec2-user/anaconda3/envs/tensorflow_p36/lib/python3.6/site-packages/traitlets/config/application.py in launch_instance(cls=<class 'ipykernel.kernelapp.IPKernelApp'>, argv=None, **kwargs={})\n    653 \n    654         If a global instance already exists, this reinitializes and starts it\n    655         \"\"\"\n    656         app = cls.instance(**kwargs)\n    657         app.initialize(argv)\n--> 658         app.start()\n        app.start = <bound method IPKernelApp.start of <ipykernel.kernelapp.IPKernelApp object>>\n    659 \n    660 #-----------------------------------------------------------------------------\n    661 # utility functions, for convenience\n    662 #-----------------------------------------------------------------------------\n\n...........................................................................\n/home/ec2-user/anaconda3/envs/tensorflow_p36/lib/python3.6/site-packages/ipykernel/kernelapp.py in start(self=<ipykernel.kernelapp.IPKernelApp object>)\n    481         if self.poller is not None:\n    482             self.poller.start()\n    483         self.kernel.start()\n    484         self.io_loop = ioloop.IOLoop.current()\n    485         try:\n--> 486             self.io_loop.start()\n        self.io_loop.start = <bound method PollIOLoop.start of <zmq.eventloop.ioloop.ZMQIOLoop object>>\n    487         except KeyboardInterrupt:\n    488             pass\n    489 \n    490 launch_new_instance = IPKernelApp.launch_instance\n\n...........................................................................\n/home/ec2-user/anaconda3/envs/tensorflow_p36/lib/python3.6/site-packages/tornado/ioloop.py in start(self=<zmq.eventloop.ioloop.ZMQIOLoop object>)\n    883                 self._events.update(event_pairs)\n    884                 while self._events:\n    885                     fd, events = self._events.popitem()\n    886                     try:\n    887                         fd_obj, handler_func = self._handlers[fd]\n--> 888                         handler_func(fd_obj, events)\n        handler_func = <function wrap.<locals>.null_wrapper>\n        fd_obj = <zmq.sugar.socket.Socket object>\n        events = 1\n    889                     except (OSError, IOError) as e:\n    890                         if errno_from_exception(e) == errno.EPIPE:\n    891                             # Happens when the client closes the connection\n    892                             pass\n\n...........................................................................\n/home/ec2-user/anaconda3/envs/tensorflow_p36/lib/python3.6/site-packages/tornado/stack_context.py in null_wrapper(*args=(<zmq.sugar.socket.Socket object>, 1), **kwargs={})\n    272         # Fast path when there are no active contexts.\n    273         def null_wrapper(*args, **kwargs):\n    274             try:\n    275                 current_state = _state.contexts\n    276                 _state.contexts = cap_contexts[0]\n--> 277                 return fn(*args, **kwargs)\n        args = (<zmq.sugar.socket.Socket object>, 1)\n        kwargs = {}\n    278             finally:\n    279                 _state.contexts = current_state\n    280         null_wrapper._wrapped = True\n    281         return null_wrapper\n\n...........................................................................\n/home/ec2-user/anaconda3/envs/tensorflow_p36/lib/python3.6/site-packages/zmq/eventloop/zmqstream.py in _handle_events(self=<zmq.eventloop.zmqstream.ZMQStream object>, fd=<zmq.sugar.socket.Socket object>, events=1)\n    445             return\n    446         zmq_events = self.socket.EVENTS\n    447         try:\n    448             # dispatch events:\n    449             if zmq_events & zmq.POLLIN and self.receiving():\n--> 450                 self._handle_recv()\n        self._handle_recv = <bound method ZMQStream._handle_recv of <zmq.eventloop.zmqstream.ZMQStream object>>\n    451                 if not self.socket:\n    452                     return\n    453             if zmq_events & zmq.POLLOUT and self.sending():\n    454                 self._handle_send()\n\n...........................................................................\n/home/ec2-user/anaconda3/envs/tensorflow_p36/lib/python3.6/site-packages/zmq/eventloop/zmqstream.py in _handle_recv(self=<zmq.eventloop.zmqstream.ZMQStream object>)\n    475             else:\n    476                 raise\n    477         else:\n    478             if self._recv_callback:\n    479                 callback = self._recv_callback\n--> 480                 self._run_callback(callback, msg)\n        self._run_callback = <bound method ZMQStream._run_callback of <zmq.eventloop.zmqstream.ZMQStream object>>\n        callback = <function wrap.<locals>.null_wrapper>\n        msg = [<zmq.sugar.frame.Frame object>, <zmq.sugar.frame.Frame object>, <zmq.sugar.frame.Frame object>, <zmq.sugar.frame.Frame object>, <zmq.sugar.frame.Frame object>, <zmq.sugar.frame.Frame object>, <zmq.sugar.frame.Frame object>]\n    481         \n    482 \n    483     def _handle_send(self):\n    484         \"\"\"Handle a send event.\"\"\"\n\n...........................................................................\n/home/ec2-user/anaconda3/envs/tensorflow_p36/lib/python3.6/site-packages/zmq/eventloop/zmqstream.py in _run_callback(self=<zmq.eventloop.zmqstream.ZMQStream object>, callback=<function wrap.<locals>.null_wrapper>, *args=([<zmq.sugar.frame.Frame object>, <zmq.sugar.frame.Frame object>, <zmq.sugar.frame.Frame object>, <zmq.sugar.frame.Frame object>, <zmq.sugar.frame.Frame object>, <zmq.sugar.frame.Frame object>, <zmq.sugar.frame.Frame object>],), **kwargs={})\n    427         close our socket.\"\"\"\n    428         try:\n    429             # Use a NullContext to ensure that all StackContexts are run\n    430             # inside our blanket exception handler rather than outside.\n    431             with stack_context.NullContext():\n--> 432                 callback(*args, **kwargs)\n        callback = <function wrap.<locals>.null_wrapper>\n        args = ([<zmq.sugar.frame.Frame object>, <zmq.sugar.frame.Frame object>, <zmq.sugar.frame.Frame object>, <zmq.sugar.frame.Frame object>, <zmq.sugar.frame.Frame object>, <zmq.sugar.frame.Frame object>, <zmq.sugar.frame.Frame object>],)\n        kwargs = {}\n    433         except:\n    434             gen_log.error(\"Uncaught exception in ZMQStream callback\",\n    435                           exc_info=True)\n    436             # Re-raise the exception so that IOLoop.handle_callback_exception\n\n...........................................................................\n/home/ec2-user/anaconda3/envs/tensorflow_p36/lib/python3.6/site-packages/tornado/stack_context.py in null_wrapper(*args=([<zmq.sugar.frame.Frame object>, <zmq.sugar.frame.Frame object>, <zmq.sugar.frame.Frame object>, <zmq.sugar.frame.Frame object>, <zmq.sugar.frame.Frame object>, <zmq.sugar.frame.Frame object>, <zmq.sugar.frame.Frame object>],), **kwargs={})\n    272         # Fast path when there are no active contexts.\n    273         def null_wrapper(*args, **kwargs):\n    274             try:\n    275                 current_state = _state.contexts\n    276                 _state.contexts = cap_contexts[0]\n--> 277                 return fn(*args, **kwargs)\n        args = ([<zmq.sugar.frame.Frame object>, <zmq.sugar.frame.Frame object>, <zmq.sugar.frame.Frame object>, <zmq.sugar.frame.Frame object>, <zmq.sugar.frame.Frame object>, <zmq.sugar.frame.Frame object>, <zmq.sugar.frame.Frame object>],)\n        kwargs = {}\n    278             finally:\n    279                 _state.contexts = current_state\n    280         null_wrapper._wrapped = True\n    281         return null_wrapper\n\n...........................................................................\n/home/ec2-user/anaconda3/envs/tensorflow_p36/lib/python3.6/site-packages/ipykernel/kernelbase.py in dispatcher(msg=[<zmq.sugar.frame.Frame object>, <zmq.sugar.frame.Frame object>, <zmq.sugar.frame.Frame object>, <zmq.sugar.frame.Frame object>, <zmq.sugar.frame.Frame object>, <zmq.sugar.frame.Frame object>, <zmq.sugar.frame.Frame object>])\n    278         if self.control_stream:\n    279             self.control_stream.on_recv(self.dispatch_control, copy=False)\n    280 \n    281         def make_dispatcher(stream):\n    282             def dispatcher(msg):\n--> 283                 return self.dispatch_shell(stream, msg)\n        msg = [<zmq.sugar.frame.Frame object>, <zmq.sugar.frame.Frame object>, <zmq.sugar.frame.Frame object>, <zmq.sugar.frame.Frame object>, <zmq.sugar.frame.Frame object>, <zmq.sugar.frame.Frame object>, <zmq.sugar.frame.Frame object>]\n    284             return dispatcher\n    285 \n    286         for s in self.shell_streams:\n    287             s.on_recv(make_dispatcher(s), copy=False)\n\n...........................................................................\n/home/ec2-user/anaconda3/envs/tensorflow_p36/lib/python3.6/site-packages/ipykernel/kernelbase.py in dispatch_shell(self=<ipykernel.ipkernel.IPythonKernel object>, stream=<zmq.eventloop.zmqstream.ZMQStream object>, msg={'buffers': [], 'content': {'allow_stdin': True, 'code': '%%time\\ny_test_nbs = clf.kneighbors(x_test, 1, Tr...t(y_test_nbs[0].shape)\\nprint(y_test_nbs[1].shape)', 'silent': False, 'stop_on_error': True, 'store_history': True, 'user_expressions': {}}, 'header': {'date': datetime.datetime(2018, 3, 22, 13, 37, 2, 501970, tzinfo=tzlocal()), 'msg_id': 'c5be12cf1ed7488e848fc1b958750e79', 'msg_type': 'execute_request', 'session': 'cb8d405994bf4ed8a9316817685138b8', 'username': 'username', 'version': '5.2'}, 'metadata': {}, 'msg_id': 'c5be12cf1ed7488e848fc1b958750e79', 'msg_type': 'execute_request', 'parent_header': {}})\n    228             self.log.warn(\"Unknown message type: %r\", msg_type)\n    229         else:\n    230             self.log.debug(\"%s: %s\", msg_type, msg)\n    231             self.pre_handler_hook()\n    232             try:\n--> 233                 handler(stream, idents, msg)\n        handler = <bound method Kernel.execute_request of <ipykernel.ipkernel.IPythonKernel object>>\n        stream = <zmq.eventloop.zmqstream.ZMQStream object>\n        idents = [b'cb8d405994bf4ed8a9316817685138b8']\n        msg = {'buffers': [], 'content': {'allow_stdin': True, 'code': '%%time\\ny_test_nbs = clf.kneighbors(x_test, 1, Tr...t(y_test_nbs[0].shape)\\nprint(y_test_nbs[1].shape)', 'silent': False, 'stop_on_error': True, 'store_history': True, 'user_expressions': {}}, 'header': {'date': datetime.datetime(2018, 3, 22, 13, 37, 2, 501970, tzinfo=tzlocal()), 'msg_id': 'c5be12cf1ed7488e848fc1b958750e79', 'msg_type': 'execute_request', 'session': 'cb8d405994bf4ed8a9316817685138b8', 'username': 'username', 'version': '5.2'}, 'metadata': {}, 'msg_id': 'c5be12cf1ed7488e848fc1b958750e79', 'msg_type': 'execute_request', 'parent_header': {}}\n    234             except Exception:\n    235                 self.log.error(\"Exception in message handler:\", exc_info=True)\n    236             finally:\n    237                 self.post_handler_hook()\n\n...........................................................................\n/home/ec2-user/anaconda3/envs/tensorflow_p36/lib/python3.6/site-packages/ipykernel/kernelbase.py in execute_request(self=<ipykernel.ipkernel.IPythonKernel object>, stream=<zmq.eventloop.zmqstream.ZMQStream object>, ident=[b'cb8d405994bf4ed8a9316817685138b8'], parent={'buffers': [], 'content': {'allow_stdin': True, 'code': '%%time\\ny_test_nbs = clf.kneighbors(x_test, 1, Tr...t(y_test_nbs[0].shape)\\nprint(y_test_nbs[1].shape)', 'silent': False, 'stop_on_error': True, 'store_history': True, 'user_expressions': {}}, 'header': {'date': datetime.datetime(2018, 3, 22, 13, 37, 2, 501970, tzinfo=tzlocal()), 'msg_id': 'c5be12cf1ed7488e848fc1b958750e79', 'msg_type': 'execute_request', 'session': 'cb8d405994bf4ed8a9316817685138b8', 'username': 'username', 'version': '5.2'}, 'metadata': {}, 'msg_id': 'c5be12cf1ed7488e848fc1b958750e79', 'msg_type': 'execute_request', 'parent_header': {}})\n    394         if not silent:\n    395             self.execution_count += 1\n    396             self._publish_execute_input(code, parent, self.execution_count)\n    397 \n    398         reply_content = self.do_execute(code, silent, store_history,\n--> 399                                         user_expressions, allow_stdin)\n        user_expressions = {}\n        allow_stdin = True\n    400 \n    401         # Flush output before sending the reply.\n    402         sys.stdout.flush()\n    403         sys.stderr.flush()\n\n...........................................................................\n/home/ec2-user/anaconda3/envs/tensorflow_p36/lib/python3.6/site-packages/ipykernel/ipkernel.py in do_execute(self=<ipykernel.ipkernel.IPythonKernel object>, code='%%time\\ny_test_nbs = clf.kneighbors(x_test, 1, Tr...t(y_test_nbs[0].shape)\\nprint(y_test_nbs[1].shape)', silent=False, store_history=True, user_expressions={}, allow_stdin=True)\n    203 \n    204         self._forward_input(allow_stdin)\n    205 \n    206         reply_content = {}\n    207         try:\n--> 208             res = shell.run_cell(code, store_history=store_history, silent=silent)\n        res = undefined\n        shell.run_cell = <bound method ZMQInteractiveShell.run_cell of <ipykernel.zmqshell.ZMQInteractiveShell object>>\n        code = '%%time\\ny_test_nbs = clf.kneighbors(x_test, 1, Tr...t(y_test_nbs[0].shape)\\nprint(y_test_nbs[1].shape)'\n        store_history = True\n        silent = False\n    209         finally:\n    210             self._restore_input()\n    211 \n    212         if res.error_before_exec is not None:\n\n...........................................................................\n/home/ec2-user/anaconda3/envs/tensorflow_p36/lib/python3.6/site-packages/ipykernel/zmqshell.py in run_cell(self=<ipykernel.zmqshell.ZMQInteractiveShell object>, *args=('%%time\\ny_test_nbs = clf.kneighbors(x_test, 1, Tr...t(y_test_nbs[0].shape)\\nprint(y_test_nbs[1].shape)',), **kwargs={'silent': False, 'store_history': True})\n    532             )\n    533         self.payload_manager.write_payload(payload)\n    534 \n    535     def run_cell(self, *args, **kwargs):\n    536         self._last_traceback = None\n--> 537         return super(ZMQInteractiveShell, self).run_cell(*args, **kwargs)\n        self.run_cell = <bound method ZMQInteractiveShell.run_cell of <ipykernel.zmqshell.ZMQInteractiveShell object>>\n        args = ('%%time\\ny_test_nbs = clf.kneighbors(x_test, 1, Tr...t(y_test_nbs[0].shape)\\nprint(y_test_nbs[1].shape)',)\n        kwargs = {'silent': False, 'store_history': True}\n    538 \n    539     def _showtraceback(self, etype, evalue, stb):\n    540         # try to preserve ordering of tracebacks and print statements\n    541         sys.stdout.flush()\n\n...........................................................................\n/home/ec2-user/anaconda3/envs/tensorflow_p36/lib/python3.6/site-packages/IPython/core/interactiveshell.py in run_cell(self=<ipykernel.zmqshell.ZMQInteractiveShell object>, raw_cell='%%time\\ny_test_nbs = clf.kneighbors(x_test, 1, Tr...t(y_test_nbs[0].shape)\\nprint(y_test_nbs[1].shape)', store_history=True, silent=False, shell_futures=True)\n   2723                 self.displayhook.exec_result = result\n   2724 \n   2725                 # Execute the user code\n   2726                 interactivity = \"none\" if silent else self.ast_node_interactivity\n   2727                 has_raised = self.run_ast_nodes(code_ast.body, cell_name,\n-> 2728                    interactivity=interactivity, compiler=compiler, result=result)\n        interactivity = 'last_expr'\n        compiler = <IPython.core.compilerop.CachingCompiler object>\n   2729                 \n   2730                 self.last_execution_succeeded = not has_raised\n   2731                 self.last_execution_result = result\n   2732 \n\n...........................................................................\n/home/ec2-user/anaconda3/envs/tensorflow_p36/lib/python3.6/site-packages/IPython/core/interactiveshell.py in run_ast_nodes(self=<ipykernel.zmqshell.ZMQInteractiveShell object>, nodelist=[<_ast.Expr object>], cell_name='<ipython-input-38-89a42292bd7f>', interactivity='last', compiler=<IPython.core.compilerop.CachingCompiler object>, result=<ExecutionResult object at 7f38f4cb4128, executi..._before_exec=None error_in_exec=None result=None>)\n   2851                     return True\n   2852 \n   2853             for i, node in enumerate(to_run_interactive):\n   2854                 mod = ast.Interactive([node])\n   2855                 code = compiler(mod, cell_name, \"single\")\n-> 2856                 if self.run_code(code, result):\n        self.run_code = <bound method InteractiveShell.run_code of <ipykernel.zmqshell.ZMQInteractiveShell object>>\n        code = <code object <module> at 0x7f38f4b738a0, file \"<ipython-input-38-89a42292bd7f>\", line 1>\n        result = <ExecutionResult object at 7f38f4cb4128, executi..._before_exec=None error_in_exec=None result=None>\n   2857                     return True\n   2858 \n   2859             # Flush softspace\n   2860             if softspace(sys.stdout, 0):\n\n...........................................................................\n/home/ec2-user/anaconda3/envs/tensorflow_p36/lib/python3.6/site-packages/IPython/core/interactiveshell.py in run_code(self=<ipykernel.zmqshell.ZMQInteractiveShell object>, code_obj=<code object <module> at 0x7f38f4b738a0, file \"<ipython-input-38-89a42292bd7f>\", line 1>, result=<ExecutionResult object at 7f38f4cb4128, executi..._before_exec=None error_in_exec=None result=None>)\n   2905         outflag = True  # happens in more places, so it's easier as default\n   2906         try:\n   2907             try:\n   2908                 self.hooks.pre_run_code_hook()\n   2909                 #rprint('Running code', repr(code_obj)) # dbg\n-> 2910                 exec(code_obj, self.user_global_ns, self.user_ns)\n        code_obj = <code object <module> at 0x7f38f4b738a0, file \"<ipython-input-38-89a42292bd7f>\", line 1>\n        self.user_global_ns = {'In': ['', \"import time\\nimport os\\nimport pandas as pd\\nimport...e + '_' + time_str\\nprint('run_name: ' + run_name)\", \"cwd = os.getcwd()\\ndata1_folder = '/data1/kaggle/...nt('Create folder: %s' % post_pca_feature_folder)\", \"train_csv_file = os.path.join(input_folder, 'tra....path.join(input_folder, 'sample_submission.csv')\", 'get_ipython().run_cell_magic(\\'time\\', \\'\\', \"import...\\'])\\\\n        x_test.append(np.array(h[\\'test\\']))\")', 'print(x_data[0].shape)\\nprint(len(y_data))\\nprint(x_test[0].shape)', r\"get_ipython().run_cell_magic('time', '', 'x_data...s=-1)\\nprint(x_data.shape)\\nprint(x_test.shape)')\", '# from sklearn.model_selection import train_test...hape)\\n# print(y_train.shape)\\n# print(y_val.shape)', 'set_y_data = list(set(y_data))\\nprint(len(set_y_data))', 'import numpy as np\\nfrom sklearn.metrics import a...ain.shape)\\nprint(y_val.shape)\\nprint(x_test.shape)', 'set_y_train = list(set(y_train))\\nprint(len(set_y_train))', 'get_ipython().run_cell_magic(\\'time\\', \\'\\', \"from s...\\',\\\\n    n_jobs=-1\\\\n)\\\\nclf.fit(x_train, y_train)\")', r\"get_ipython().run_cell_magic('time', '', 'from s...in_pred[0].shape)\\nprint(y_train_pred[1].shape)')\", 'y_train_pred1 = [y_train[i] for i in y_train_pre...int(accuracy_score(y_train[:100], y_train_pred1))', r\"get_ipython().run_cell_magic('time', '', 'from s...(y_val_nbs[0].shape)\\nprint(y_val_nbs[1].shape)')\", 'get_ipython().run_cell_magic(\\'time\\', \\'\\', \"y_val_...core(y_val[:count], y_val_pred)\\\\nprint(val_acc)\")', r\"get_ipython().run_cell_magic('time', '', 'y_test..._test_nbs[0].shape)\\nprint(y_test_nbs[1].shape)')\", \"get_ipython().run_cell_magic('time', '', 'y_test_pred = [y_train[i] for i in y_test_nbs[1][:, 0]]')\", 'print(len(y_test_pred))\\nprint(y_test_pred[:10])', \"import time\\nimport os\\nimport pandas as pd\\nimport...e + '_' + time_str\\nprint('run_name: ' + run_name)\", ...], 'NearestNeighbors': <class 'sklearn.neighbors.unsupervised.NearestNeighbors'>, 'Out': {}, '_': '', '__': '', '___': '', '__builtin__': <module 'builtins' (built-in)>, '__builtins__': <module 'builtins' (built-in)>, '__doc__': 'Automatically created module for IPython interactive environment', '__loader__': None, ...}\n        self.user_ns = {'In': ['', \"import time\\nimport os\\nimport pandas as pd\\nimport...e + '_' + time_str\\nprint('run_name: ' + run_name)\", \"cwd = os.getcwd()\\ndata1_folder = '/data1/kaggle/...nt('Create folder: %s' % post_pca_feature_folder)\", \"train_csv_file = os.path.join(input_folder, 'tra....path.join(input_folder, 'sample_submission.csv')\", 'get_ipython().run_cell_magic(\\'time\\', \\'\\', \"import...\\'])\\\\n        x_test.append(np.array(h[\\'test\\']))\")', 'print(x_data[0].shape)\\nprint(len(y_data))\\nprint(x_test[0].shape)', r\"get_ipython().run_cell_magic('time', '', 'x_data...s=-1)\\nprint(x_data.shape)\\nprint(x_test.shape)')\", '# from sklearn.model_selection import train_test...hape)\\n# print(y_train.shape)\\n# print(y_val.shape)', 'set_y_data = list(set(y_data))\\nprint(len(set_y_data))', 'import numpy as np\\nfrom sklearn.metrics import a...ain.shape)\\nprint(y_val.shape)\\nprint(x_test.shape)', 'set_y_train = list(set(y_train))\\nprint(len(set_y_train))', 'get_ipython().run_cell_magic(\\'time\\', \\'\\', \"from s...\\',\\\\n    n_jobs=-1\\\\n)\\\\nclf.fit(x_train, y_train)\")', r\"get_ipython().run_cell_magic('time', '', 'from s...in_pred[0].shape)\\nprint(y_train_pred[1].shape)')\", 'y_train_pred1 = [y_train[i] for i in y_train_pre...int(accuracy_score(y_train[:100], y_train_pred1))', r\"get_ipython().run_cell_magic('time', '', 'from s...(y_val_nbs[0].shape)\\nprint(y_val_nbs[1].shape)')\", 'get_ipython().run_cell_magic(\\'time\\', \\'\\', \"y_val_...core(y_val[:count], y_val_pred)\\\\nprint(val_acc)\")', r\"get_ipython().run_cell_magic('time', '', 'y_test..._test_nbs[0].shape)\\nprint(y_test_nbs[1].shape)')\", \"get_ipython().run_cell_magic('time', '', 'y_test_pred = [y_train[i] for i in y_test_nbs[1][:, 0]]')\", 'print(len(y_test_pred))\\nprint(y_test_pred[:10])', \"import time\\nimport os\\nimport pandas as pd\\nimport...e + '_' + time_str\\nprint('run_name: ' + run_name)\", ...], 'NearestNeighbors': <class 'sklearn.neighbors.unsupervised.NearestNeighbors'>, 'Out': {}, '_': '', '__': '', '___': '', '__builtin__': <module 'builtins' (built-in)>, '__builtins__': <module 'builtins' (built-in)>, '__doc__': 'Automatically created module for IPython interactive environment', '__loader__': None, ...}\n   2911             finally:\n   2912                 # Reset our crash handler in place\n   2913                 sys.excepthook = old_excepthook\n   2914         except SystemExit as e:\n\n...........................................................................\n/data2/kaggle/landmark-recognition-challenge/<ipython-input-38-89a42292bd7f> in <module>()\n----> 1 get_ipython().run_cell_magic('time', '', 'y_test_nbs = clf.kneighbors(x_test, 1, True)\\nprint(y_test_nbs[0].shape)\\nprint(y_test_nbs[1].shape)')\n\n...........................................................................\n/home/ec2-user/anaconda3/envs/tensorflow_p36/lib/python3.6/site-packages/IPython/core/interactiveshell.py in run_cell_magic(self=<ipykernel.zmqshell.ZMQInteractiveShell object>, magic_name='time', line='', cell='y_test_nbs = clf.kneighbors(x_test, 1, True)\\nprint(y_test_nbs[0].shape)\\nprint(y_test_nbs[1].shape)')\n   2126             # This will need to be updated if the internal calling logic gets\n   2127             # refactored, or else we'll be expanding the wrong variables.\n   2128             stack_depth = 2\n   2129             magic_arg_s = self.var_expand(line, stack_depth)\n   2130             with self.builtin_trap:\n-> 2131                 result = fn(magic_arg_s, cell)\n        result = undefined\n        fn = <bound method ExecutionMagics.time of <IPython.core.magics.execution.ExecutionMagics object>>\n        magic_arg_s = ''\n        cell = 'y_test_nbs = clf.kneighbors(x_test, 1, True)\\nprint(y_test_nbs[0].shape)\\nprint(y_test_nbs[1].shape)'\n   2132             return result\n   2133 \n   2134     def find_line_magic(self, magic_name):\n   2135         \"\"\"Find and return a line magic by name.\n\n...........................................................................\n/data2/kaggle/landmark-recognition-challenge/<decorator-gen-62> in time(self=<IPython.core.magics.execution.ExecutionMagics object>, line='', cell='y_test_nbs = clf.kneighbors(x_test, 1, True)\\nprint(y_test_nbs[0].shape)\\nprint(y_test_nbs[1].shape)', local_ns=None)\n\n...........................................................................\n/home/ec2-user/anaconda3/envs/tensorflow_p36/lib/python3.6/site-packages/IPython/core/magic.py in <lambda>(f=<function ExecutionMagics.time>, *a=(<IPython.core.magics.execution.ExecutionMagics object>, '', 'y_test_nbs = clf.kneighbors(x_test, 1, True)\\nprint(y_test_nbs[0].shape)\\nprint(y_test_nbs[1].shape)', None), **k={})\n    182     validate_type(magic_kind)\n    183 \n    184     # This is a closure to capture the magic_kind.  We could also use a class,\n    185     # but it's overkill for just that one bit of state.\n    186     def magic_deco(arg):\n--> 187         call = lambda f, *a, **k: f(*a, **k)\n        f = <function ExecutionMagics.time>\n        a = (<IPython.core.magics.execution.ExecutionMagics object>, '', 'y_test_nbs = clf.kneighbors(x_test, 1, True)\\nprint(y_test_nbs[0].shape)\\nprint(y_test_nbs[1].shape)', None)\n        k = {}\n    188 \n    189         if callable(arg):\n    190             # \"Naked\" decorator call (just @foo, no args)\n    191             func = arg\n\n...........................................................................\n/home/ec2-user/anaconda3/envs/tensorflow_p36/lib/python3.6/site-packages/IPython/core/magics/execution.py in time(self=<IPython.core.magics.execution.ExecutionMagics object>, line='', cell='y_test_nbs = clf.kneighbors(x_test, 1, True)\\nprint(y_test_nbs[0].shape)\\nprint(y_test_nbs[1].shape)', local_ns=None)\n   1233                 return\n   1234             end = clock2()\n   1235         else:\n   1236             st = clock2()\n   1237             try:\n-> 1238                 exec(code, glob, local_ns)\n        code = <code object <module> at 0x7f38f4ba95d0, file \"<timed exec>\", line 1>\n        glob = {'In': ['', \"import time\\nimport os\\nimport pandas as pd\\nimport...e + '_' + time_str\\nprint('run_name: ' + run_name)\", \"cwd = os.getcwd()\\ndata1_folder = '/data1/kaggle/...nt('Create folder: %s' % post_pca_feature_folder)\", \"train_csv_file = os.path.join(input_folder, 'tra....path.join(input_folder, 'sample_submission.csv')\", 'get_ipython().run_cell_magic(\\'time\\', \\'\\', \"import...\\'])\\\\n        x_test.append(np.array(h[\\'test\\']))\")', 'print(x_data[0].shape)\\nprint(len(y_data))\\nprint(x_test[0].shape)', r\"get_ipython().run_cell_magic('time', '', 'x_data...s=-1)\\nprint(x_data.shape)\\nprint(x_test.shape)')\", '# from sklearn.model_selection import train_test...hape)\\n# print(y_train.shape)\\n# print(y_val.shape)', 'set_y_data = list(set(y_data))\\nprint(len(set_y_data))', 'import numpy as np\\nfrom sklearn.metrics import a...ain.shape)\\nprint(y_val.shape)\\nprint(x_test.shape)', 'set_y_train = list(set(y_train))\\nprint(len(set_y_train))', 'get_ipython().run_cell_magic(\\'time\\', \\'\\', \"from s...\\',\\\\n    n_jobs=-1\\\\n)\\\\nclf.fit(x_train, y_train)\")', r\"get_ipython().run_cell_magic('time', '', 'from s...in_pred[0].shape)\\nprint(y_train_pred[1].shape)')\", 'y_train_pred1 = [y_train[i] for i in y_train_pre...int(accuracy_score(y_train[:100], y_train_pred1))', r\"get_ipython().run_cell_magic('time', '', 'from s...(y_val_nbs[0].shape)\\nprint(y_val_nbs[1].shape)')\", 'get_ipython().run_cell_magic(\\'time\\', \\'\\', \"y_val_...core(y_val[:count], y_val_pred)\\\\nprint(val_acc)\")', r\"get_ipython().run_cell_magic('time', '', 'y_test..._test_nbs[0].shape)\\nprint(y_test_nbs[1].shape)')\", \"get_ipython().run_cell_magic('time', '', 'y_test_pred = [y_train[i] for i in y_test_nbs[1][:, 0]]')\", 'print(len(y_test_pred))\\nprint(y_test_pred[:10])', \"import time\\nimport os\\nimport pandas as pd\\nimport...e + '_' + time_str\\nprint('run_name: ' + run_name)\", ...], 'NearestNeighbors': <class 'sklearn.neighbors.unsupervised.NearestNeighbors'>, 'Out': {}, '_': '', '__': '', '___': '', '__builtin__': <module 'builtins' (built-in)>, '__builtins__': <module 'builtins' (built-in)>, '__doc__': 'Automatically created module for IPython interactive environment', '__loader__': None, ...}\n        local_ns = None\n   1239             except:\n   1240                 self.shell.showtraceback()\n   1241                 return\n   1242             end = clock2()\n\n...........................................................................\n/data2/kaggle/landmark-recognition-challenge/<timed exec> in <module>()\n\n...........................................................................\n/home/ec2-user/anaconda3/envs/tensorflow_p36/lib/python3.6/site-packages/sklearn/neighbors/base.py in kneighbors(self=NearestNeighbors(algorithm='brute', leaf_size=10...ms=None, n_jobs=-1, n_neighbors=5, p=2, radius=2), X=array([[ -4.1808158 ,  -2.45387033,  -2.21467926...2.2558095 ,\n          3.23124027,   0.60419135]]), n_neighbors=1, return_distance=True)\n    356                 dist = pairwise_distances(X, self._fit_X, 'euclidean',\n    357                                           n_jobs=n_jobs, squared=True)\n    358             else:\n    359                 dist = pairwise_distances(\n    360                     X, self._fit_X, self.effective_metric_, n_jobs=n_jobs,\n--> 361                     **self.effective_metric_params_)\n        self.effective_metric_params_ = {}\n    362 \n    363             neigh_ind = np.argpartition(dist, n_neighbors - 1, axis=1)\n    364             neigh_ind = neigh_ind[:, :n_neighbors]\n    365             # argpartition doesn't guarantee sorted order, so we sort again\n\n...........................................................................\n/home/ec2-user/anaconda3/envs/tensorflow_p36/lib/python3.6/site-packages/sklearn/metrics/pairwise.py in pairwise_distances(X=array([[ -4.1808158 ,  -2.45387033,  -2.21467926...2.2558095 ,\n          3.23124027,   0.60419135]]), Y=array([[ -0.91026343,   0.6302994 ,  -4.76333452...4.02564973,\n         -0.14400833,  -0.32452219]]), metric='cosine', n_jobs=16, **kwds={})\n   1242         if n_jobs == 1 and X is Y:\n   1243             return distance.squareform(distance.pdist(X, metric=metric,\n   1244                                                       **kwds))\n   1245         func = partial(distance.cdist, metric=metric, **kwds)\n   1246 \n-> 1247     return _parallel_pairwise(X, Y, func, n_jobs, **kwds)\n        X = array([[ -4.1808158 ,  -2.45387033,  -2.21467926...2.2558095 ,\n          3.23124027,   0.60419135]])\n        Y = array([[ -0.91026343,   0.6302994 ,  -4.76333452...4.02564973,\n         -0.14400833,  -0.32452219]])\n        func = <function cosine_distances>\n        n_jobs = 16\n        kwds = {}\n   1248 \n   1249 \n   1250 # These distances recquire boolean arrays, when using scipy.spatial.distance\n   1251 PAIRWISE_BOOLEAN_FUNCTIONS = [\n\n...........................................................................\n/home/ec2-user/anaconda3/envs/tensorflow_p36/lib/python3.6/site-packages/sklearn/metrics/pairwise.py in _parallel_pairwise(X=array([[ -4.1808158 ,  -2.45387033,  -2.21467926...2.2558095 ,\n          3.23124027,   0.60419135]]), Y=array([[ -0.91026343,   0.6302994 ,  -4.76333452...4.02564973,\n         -0.14400833,  -0.32452219]]), func=<function cosine_distances>, n_jobs=16, **kwds={})\n   1091 \n   1092     # TODO: in some cases, backend='threading' may be appropriate\n   1093     fd = delayed(func)\n   1094     ret = Parallel(n_jobs=n_jobs, verbose=0)(\n   1095         fd(X, Y[s], **kwds)\n-> 1096         for s in gen_even_slices(Y.shape[0], n_jobs))\n        Y.shape = (1097483, 32)\n        n_jobs = 16\n   1097 \n   1098     return np.hstack(ret)\n   1099 \n   1100 \n\n...........................................................................\n/home/ec2-user/anaconda3/envs/tensorflow_p36/lib/python3.6/site-packages/sklearn/externals/joblib/parallel.py in __call__(self=Parallel(n_jobs=16), iterable=<generator object _parallel_pairwise.<locals>.<genexpr>>)\n    784             if pre_dispatch == \"all\" or n_jobs == 1:\n    785                 # The iterable was consumed all at once by the above for loop.\n    786                 # No need to wait for async callbacks to trigger to\n    787                 # consumption.\n    788                 self._iterating = False\n--> 789             self.retrieve()\n        self.retrieve = <bound method Parallel.retrieve of Parallel(n_jobs=16)>\n    790             # Make sure that we get a last message telling us we are done\n    791             elapsed_time = time.time() - self._start_time\n    792             self._print('Done %3i out of %3i | elapsed: %s finished',\n    793                         (len(self._output), len(self._output),\n\n---------------------------------------------------------------------------\nSub-process traceback:\n---------------------------------------------------------------------------\nMemoryError                                        Thu Mar 22 13:37:02 2018\nPID: 18588Python 3.6.4: /home/ec2-user/anaconda3/envs/tensorflow_p36/bin/python\n...........................................................................\n/home/ec2-user/anaconda3/envs/tensorflow_p36/lib/python3.6/site-packages/sklearn/externals/joblib/parallel.py in __call__(self=<sklearn.externals.joblib.parallel.BatchedCalls object>)\n    126     def __init__(self, iterator_slice):\n    127         self.items = list(iterator_slice)\n    128         self._size = len(self.items)\n    129 \n    130     def __call__(self):\n--> 131         return [func(*args, **kwargs) for func, args, kwargs in self.items]\n        self.items = [(<function cosine_distances>, (memmap([[ -4.1808158 ,  -2.45387033,  -2.2146792....2558095 ,\n           3.23124027,   0.60419135]]), memmap([[ -0.91026343,   0.6302994 ,  -4.7633345....27959936,\n           1.465019  ,   5.95011416]])), {})]\n    132 \n    133     def __len__(self):\n    134         return self._size\n    135 \n\n...........................................................................\n/home/ec2-user/anaconda3/envs/tensorflow_p36/lib/python3.6/site-packages/sklearn/externals/joblib/parallel.py in <listcomp>(.0=<list_iterator object>)\n    126     def __init__(self, iterator_slice):\n    127         self.items = list(iterator_slice)\n    128         self._size = len(self.items)\n    129 \n    130     def __call__(self):\n--> 131         return [func(*args, **kwargs) for func, args, kwargs in self.items]\n        func = <function cosine_distances>\n        args = (memmap([[ -4.1808158 ,  -2.45387033,  -2.2146792....2558095 ,\n           3.23124027,   0.60419135]]), memmap([[ -0.91026343,   0.6302994 ,  -4.7633345....27959936,\n           1.465019  ,   5.95011416]]))\n        kwargs = {}\n    132 \n    133     def __len__(self):\n    134         return self._size\n    135 \n\n...........................................................................\n/home/ec2-user/anaconda3/envs/tensorflow_p36/lib/python3.6/site-packages/sklearn/metrics/pairwise.py in cosine_distances(X=memmap([[ -4.1808158 ,  -2.45387033,  -2.2146792....2558095 ,\n           3.23124027,   0.60419135]]), Y=memmap([[ -0.91026343,   0.6302994 ,  -4.7633345....27959936,\n           1.465019  ,   5.95011416]]))\n    572     --------\n    573     sklearn.metrics.pairwise.cosine_similarity\n    574     scipy.spatial.distance.cosine (dense matrices only)\n    575     \"\"\"\n    576     # 1.0 - cosine_similarity(X, Y) without copy\n--> 577     S = cosine_similarity(X, Y)\n        S = undefined\n        X = memmap([[ -4.1808158 ,  -2.45387033,  -2.2146792....2558095 ,\n           3.23124027,   0.60419135]])\n        Y = memmap([[ -0.91026343,   0.6302994 ,  -4.7633345....27959936,\n           1.465019  ,   5.95011416]])\n    578     S *= -1\n    579     S += 1\n    580     np.clip(S, 0, 2, out=S)\n    581     if X is Y or Y is None:\n\n...........................................................................\n/home/ec2-user/anaconda3/envs/tensorflow_p36/lib/python3.6/site-packages/sklearn/metrics/pairwise.py in cosine_similarity(X=array([[ -4.1808158 ,  -2.45387033,  -2.21467926...2.2558095 ,\n          3.23124027,   0.60419135]]), Y=array([[ -0.91026343,   0.6302994 ,  -4.76333452...0.27959936,\n          1.465019  ,   5.95011416]]), dense_output=True)\n    920     if X is Y:\n    921         Y_normalized = X_normalized\n    922     else:\n    923         Y_normalized = normalize(Y, copy=True)\n    924 \n--> 925     K = safe_sparse_dot(X_normalized, Y_normalized.T, dense_output=dense_output)\n        K = undefined\n        X_normalized = array([[-0.2721134 , -0.15971309, -0.14414505, ....  0.1076025 ,\n         0.15413072,  0.02882003]])\n        Y_normalized.T = array([[-0.03459719, -0.09560562, -0.63940943, ....  0.06646341,\n         0.00416268,  0.17570553]])\n        dense_output = True\n    926 \n    927     return K\n    928 \n    929 \n\n...........................................................................\n/home/ec2-user/anaconda3/envs/tensorflow_p36/lib/python3.6/site-packages/sklearn/utils/extmath.py in safe_sparse_dot(a=array([[-0.2721134 , -0.15971309, -0.14414505, ....  0.1076025 ,\n         0.15413072,  0.02882003]]), b=array([[-0.03459719, -0.09560562, -0.63940943, ....  0.06646341,\n         0.00416268,  0.17570553]]), dense_output=True)\n    135         ret = a * b\n    136         if dense_output and hasattr(ret, \"toarray\"):\n    137             ret = ret.toarray()\n    138         return ret\n    139     else:\n--> 140         return np.dot(a, b)\n        a = array([[-0.2721134 , -0.15971309, -0.14414505, ....  0.1076025 ,\n         0.15413072,  0.02882003]])\n        b = array([[-0.03459719, -0.09560562, -0.63940943, ....  0.06646341,\n         0.00416268,  0.17570553]])\n    141 \n    142 \n    143 def randomized_range_finder(A, size, n_iter,\n    144                             power_iteration_normalizer='auto',\n\nMemoryError: \n___________________________________________________________________________"
     ]
    }
   ],
   "source": [
    "%%time\n",
    "y_test_nbs = clf.kneighbors(x_test, 1, True)\n",
    "print(y_test_nbs[0].shape)\n",
    "print(y_test_nbs[1].shape)"
   ]
  },
  {
   "cell_type": "code",
   "execution_count": 17,
   "metadata": {},
   "outputs": [
    {
     "ename": "NameError",
     "evalue": "name 'y_test_nbs' is not defined",
     "output_type": "error",
     "traceback": [
      "\u001b[0;31m---------------------------------------------------------------------------\u001b[0m",
      "\u001b[0;31mNameError\u001b[0m                                 Traceback (most recent call last)",
      "\u001b[0;32m<timed exec>\u001b[0m in \u001b[0;36m<module>\u001b[0;34m()\u001b[0m\n",
      "\u001b[0;31mNameError\u001b[0m: name 'y_test_nbs' is not defined"
     ]
    }
   ],
   "source": [
    "%%time\n",
    "y_test_pred = [y_train[i] for i in y_test_nbs[1][:, 0]]"
   ]
  },
  {
   "cell_type": "code",
   "execution_count": 18,
   "metadata": {},
   "outputs": [
    {
     "ename": "NameError",
     "evalue": "name 'y_test_pred' is not defined",
     "output_type": "error",
     "traceback": [
      "\u001b[0;31m---------------------------------------------------------------------------\u001b[0m",
      "\u001b[0;31mNameError\u001b[0m                                 Traceback (most recent call last)",
      "\u001b[0;32m<ipython-input-18-99ae2b9a3d98>\u001b[0m in \u001b[0;36m<module>\u001b[0;34m()\u001b[0m\n\u001b[0;32m----> 1\u001b[0;31m \u001b[0mprint\u001b[0m\u001b[0;34m(\u001b[0m\u001b[0mlen\u001b[0m\u001b[0;34m(\u001b[0m\u001b[0my_test_pred\u001b[0m\u001b[0;34m)\u001b[0m\u001b[0;34m)\u001b[0m\u001b[0;34m\u001b[0m\u001b[0m\n\u001b[0m\u001b[1;32m      2\u001b[0m \u001b[0mprint\u001b[0m\u001b[0;34m(\u001b[0m\u001b[0my_test_pred\u001b[0m\u001b[0;34m[\u001b[0m\u001b[0;34m:\u001b[0m\u001b[0;36m10\u001b[0m\u001b[0;34m]\u001b[0m\u001b[0;34m)\u001b[0m\u001b[0;34m\u001b[0m\u001b[0m\n",
      "\u001b[0;31mNameError\u001b[0m: name 'y_test_pred' is not defined"
     ]
    }
   ],
   "source": [
    "print(len(y_test_pred))\n",
    "print(y_test_pred[:10])"
   ]
  },
  {
   "cell_type": "code",
   "execution_count": null,
   "metadata": {},
   "outputs": [],
   "source": []
  },
  {
   "cell_type": "markdown",
   "metadata": {},
   "source": [
    "## Predict"
   ]
  },
  {
   "cell_type": "code",
   "execution_count": null,
   "metadata": {},
   "outputs": [],
   "source": [
    "sample_submission_csv = pd.read_csv(sample_submission_folder)\n",
    "print('sample_submission_csv.shape is {0}.'.format(sample_submission_csv.shape))\n",
    "display(sample_submission_csv.head(2))"
   ]
  },
  {
   "cell_type": "code",
   "execution_count": null,
   "metadata": {},
   "outputs": [],
   "source": [
    "# 这里证明os.listdir()得到的图片名称list不正确\n",
    "files = os.listdir(os.path.join(input_folder, 'data_test', 'test'))\n",
    "print(files[:10])"
   ]
  },
  {
   "cell_type": "code",
   "execution_count": 47,
   "metadata": {},
   "outputs": [
    {
     "name": "stderr",
     "output_type": "stream",
     "text": [
      "Using TensorFlow backend.\n"
     ]
    },
    {
     "name": "stdout",
     "output_type": "stream",
     "text": [
      "Found 115942 images belonging to 1 classes.\n",
      "test_generator\n",
      "115942\n",
      "['test/000088da12d664db.jpg', 'test/0001623c6d808702.jpg', 'test/0001bbb682d45002.jpg', 'test/0002362830cfe3a3.jpg', 'test/000270c9100de789.jpg', 'test/0002b0fab5d3ccc4.jpg', 'test/000396be3c24830a.jpg', 'test/000506dc6ab3a40e.jpg', 'test/0005292fc4b005a3.jpg', 'test/0005456a82264bc8.jpg']\n"
     ]
    }
   ],
   "source": [
    "# 这里证明ImageDataGenerator()得到的图片名称list才是正确\n",
    "from keras.preprocessing.image import ImageDataGenerator\n",
    "gen = ImageDataGenerator()\n",
    "image_size = (299, 299)\n",
    "batch_size = 128\n",
    "test_generator  = gen.flow_from_directory(test_folder, image_size, shuffle=False, batch_size=batch_size)\n",
    "print('test_generator')\n",
    "print(len(test_generator.filenames))\n",
    "print(test_generator.filenames[:10])"
   ]
  },
  {
   "cell_type": "code",
   "execution_count": 53,
   "metadata": {},
   "outputs": [],
   "source": [
    "# test_generator_filenames = np.array(test_generator.filenames)\n",
    "# test_generator_filenames_file = os.path.join(output_folder, 'test_generator_filenames.npy')\n",
    "\n",
    "# np.save(test_generator_filenames_file, test_generator_filenames)"
   ]
  },
  {
   "cell_type": "code",
   "execution_count": null,
   "metadata": {},
   "outputs": [],
   "source": [
    "%%time\n",
    "\n",
    "test_dict = {}\n",
    "for i, paire in enumerate(zip(test_generator.filenames, y_test_pred)):\n",
    "    image_name, label = paire[0], paire[1]\n",
    "    image_id = image_name[5:-4]\n",
    "    test_dict[image_id] = '%d %.4f' % (label, 1)\n",
    "\n",
    "#确认图片的id是否能与ImageDataGenerator()对应上\n",
    "for key in list(test_dict.keys())[:10]:\n",
    "    print('%s  %s' % (key, test_dict[key]))"
   ]
  },
  {
   "cell_type": "code",
   "execution_count": null,
   "metadata": {},
   "outputs": [],
   "source": [
    "%%time\n",
    "len_sample_submission_csv = len(sample_submission_csv)\n",
    "print('len(len_sample_submission_csv)=%d' % len_sample_submission_csv)\n",
    "count = 0\n",
    "for i in range(len_sample_submission_csv):\n",
    "    image_id = sample_submission_csv.iloc[i, 0]\n",
    "#     landmarks = sample_submission_csv.iloc[i, 1]\n",
    "    if image_id in test_dict:\n",
    "        pred_landmarks = test_dict[image_id]\n",
    "#         print('%s  %s' % (image_id, pred_landmarks))\n",
    "        sample_submission_csv.iloc[i, 1] = pred_landmarks\n",
    "    else:\n",
    "#         print(image_id)\n",
    "#         sample_submission_csv.iloc[i, 1] = '9633 1.0' # 属于9633的类最多，所以全都设置成这个类，可能会比设置成空得到的结果好\n",
    "        sample_submission_csv.iloc[i, 1] = '' # 设置成空\n",
    "    count += 1\n",
    "    if count % 10000 == 0:\n",
    "        print(int(count/10000), end=' ')\n",
    "display(sample_submission_csv.head(2))"
   ]
  },
  {
   "cell_type": "code",
   "execution_count": null,
   "metadata": {},
   "outputs": [],
   "source": [
    "run_name_acc = run_name + '_' + str(int(val_acc*10000)).zfill(4)\n",
    "pred_file = os.path.join(output_folder, 'pred_' + run_name_acc + '.csv')\n",
    "print(pred_file)\n",
    "\n",
    "sample_submission_csv.to_csv(pred_file, index=None)"
   ]
  },
  {
   "cell_type": "code",
   "execution_count": null,
   "metadata": {},
   "outputs": [],
   "source": [
    "print(run_name_acc)\n",
    "print('Done !')"
   ]
  },
  {
   "cell_type": "code",
   "execution_count": null,
   "metadata": {},
   "outputs": [],
   "source": []
  }
 ],
 "metadata": {
  "kernelspec": {
   "display_name": "Python 3",
   "language": "python",
   "name": "python3"
  },
  "language_info": {
   "codemirror_mode": {
    "name": "ipython",
    "version": 3
   },
   "file_extension": ".py",
   "mimetype": "text/x-python",
   "name": "python",
   "nbconvert_exporter": "python",
   "pygments_lexer": "ipython3",
   "version": "3.6.4"
  }
 },
 "nbformat": 4,
 "nbformat_minor": 2
}
