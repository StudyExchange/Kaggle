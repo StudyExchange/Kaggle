{
 "cells": [
  {
   "cell_type": "markdown",
   "metadata": {},
   "source": [
    "# 2. FeatureExtraction_from_VGG16_InceptionResNetV2\n",
    "\n",
    "References:\n",
    "- https://github.com/ypwhs/dogs_vs_cats\n",
    "- https://www.kaggle.com/yangpeiwen/keras-inception-xception-0-47"
   ]
  },
  {
   "cell_type": "markdown",
   "metadata": {},
   "source": [
    "## Import PKGs"
   ]
  },
  {
   "cell_type": "code",
   "execution_count": 1,
   "metadata": {},
   "outputs": [
    {
     "name": "stderr",
     "output_type": "stream",
     "text": [
      "/home/ec2-user/anaconda3/envs/tensorflow_p36/lib/python3.6/site-packages/h5py/__init__.py:36: FutureWarning: Conversion of the second argument of issubdtype from `float` to `np.floating` is deprecated. In future, it will be treated as `np.float64 == np.dtype(float).type`.\n",
      "  from ._conv import register_converters as _register_converters\n",
      "Using TensorFlow backend.\n"
     ]
    }
   ],
   "source": [
    "import h5py\n",
    "import os\n",
    "import time\n",
    "import math\n",
    "import numpy as np\n",
    "\n",
    "from keras.layers import *\n",
    "from keras.models import *\n",
    "from keras.applications import *\n",
    "from keras.optimizers import *\n",
    "from keras.regularizers import *\n",
    "from keras.preprocessing.image import *"
   ]
  },
  {
   "cell_type": "markdown",
   "metadata": {},
   "source": [
    "## Import PKGs"
   ]
  },
  {
   "cell_type": "code",
   "execution_count": 2,
   "metadata": {},
   "outputs": [
    {
     "name": "stdout",
     "output_type": "stream",
     "text": [
      "run_name: ic_furniture2018_FeatureExtraction_20180406_100859\n"
     ]
    }
   ],
   "source": [
    "project_name = 'ic_furniture2018'\n",
    "step_name = 'FeatureExtraction'\n",
    "time_str = time.strftime(\"%Y%m%d_%H%M%S\", time.localtime())\n",
    "run_name = project_name + '_' + step_name + '_' + time_str\n",
    "print('run_name: ' + run_name)"
   ]
  },
  {
   "cell_type": "markdown",
   "metadata": {
    "collapsed": true
   },
   "source": [
    "## 使用预训练权重的VGG16、VGG19、ResNet50、Xception、InceptionV3和InceptionResNetV2模型提取特征¶"
   ]
  },
  {
   "cell_type": "code",
   "execution_count": 3,
   "metadata": {},
   "outputs": [],
   "source": [
    "def get_features(MODEL, image_size, date_str, lambda_func=None, batch_size=1, is_aug=False):\n",
    "    print('{0} start.'.format(MODEL.__name__))\n",
    "    start_time = time.time()\n",
    "    \n",
    "    cwd = os.getcwd()\n",
    "    folder_path = os.path.join(cwd, 'feature')\n",
    "    if not os.path.exists(folder_path):\n",
    "        os.mkdir(folder_path)\n",
    "        print('Created folder: %s' % folder_path)\n",
    "    else:\n",
    "        print('Existed folder: %s' % folder_path)\n",
    "    file_name = os.path.join(folder_path, 'feature_{0}_{1}.h5'.format(MODEL.__name__, date_str))\n",
    "    print(file_name)\n",
    "    if os.path.exists(file_name):\n",
    "        os.remove(file_name)\n",
    "    \n",
    "    width = image_size[0]\n",
    "    height = image_size[1]\n",
    "    input_tensor = Input((height, width, 3))\n",
    "    x = input_tensor\n",
    "    if lambda_func:\n",
    "        print(lambda_func.__name__)\n",
    "        x = Lambda(lambda_func)(x)\n",
    "    base_model = MODEL(input_tensor=x, weights='imagenet', input_shape=(height, width, 3), include_top=False)\n",
    "    model = Model(base_model.input, GlobalAveragePooling2D()(base_model.output))\n",
    "    \n",
    "    data_train_path = os.path.join(cwd, 'input', 'data_train')\n",
    "    data_val_path = os.path.join(cwd, 'input', 'data_val')\n",
    "    data_test_path  = os.path.join(cwd, 'input', 'data_test')\n",
    "    \n",
    "    if is_aug:\n",
    "        print('have augumentation')\n",
    "        gen = ImageDataGenerator(zoom_range = 0.2,\n",
    "                                 height_shift_range = 0.2,\n",
    "                                 width_shift_range = 0.2,\n",
    "                                 horizontal_flip = True,\n",
    "                                 vertical_flip = True,\n",
    "                                 fill_mode = 'wrap',\n",
    "                                 rotation_range = 20)\n",
    "    else:\n",
    "        print('do not have augumentation')\n",
    "        gen = ImageDataGenerator()\n",
    "\n",
    "    train_generator = gen.flow_from_directory(data_train_path, image_size, shuffle=False, \n",
    "                                              batch_size=batch_size)\n",
    "    val_generator = gen.flow_from_directory(data_val_path, image_size, shuffle=False, \n",
    "                                              batch_size=batch_size)\n",
    "    test_generator  = gen.flow_from_directory(data_test_path,  image_size, shuffle=False, \n",
    "                                              batch_size=batch_size)\n",
    "    \n",
    "    \n",
    "    print('train_generator')\n",
    "    print(len(train_generator.filenames))\n",
    "    train_generator_steps = math.ceil(len(train_generator.filenames)/batch_size)\n",
    "    print('train_generator_steps=%d' % train_generator_steps)\n",
    "    train = model.predict_generator(train_generator, verbose=1, steps=train_generator_steps, max_queue_size=2, workers=4)\n",
    "    \n",
    "    print('val_generator')\n",
    "    print(len(val_generator.filenames))\n",
    "    val_generator_steps = math.ceil(len(val_generator.filenames)/batch_size)\n",
    "    print('val_generator_steps=%d' % val_generator_steps)\n",
    "    val = model.predict_generator(val_generator, verbose=1, steps=val_generator_steps, max_queue_size=2, workers=4)\n",
    "    \n",
    "    print('test_generator')\n",
    "    print(len(test_generator.filenames))\n",
    "    test_generator_steps = math.ceil(len(test_generator.filenames)/batch_size)\n",
    "    print('test_generator_steps=%d' % test_generator_steps)\n",
    "    test = model.predict_generator(test_generator, verbose=1, steps=test_generator_steps, max_queue_size=2, workers=4)\n",
    "\n",
    "    \n",
    "    with h5py.File(file_name) as h:\n",
    "        h.create_dataset(\"train\", data=train)\n",
    "        h.create_dataset(\"train_labels\", data=train_generator.classes)\n",
    "        h.create_dataset(\"val\", data=val)\n",
    "        h.create_dataset(\"val_labels\", data=val_generator.classes)\n",
    "        h.create_dataset(\"test\", data=test)\n",
    "    \n",
    "    print(train.shape)\n",
    "    print(train_generator.classes)\n",
    "    print(val.shape)\n",
    "    print(val_generator.classes)\n",
    "    print(test.shape)\n",
    "    \n",
    "    end_time = time.time()\n",
    "    print('Spend time: {0} s'.format(end_time-start_time))"
   ]
  },
  {
   "cell_type": "code",
   "execution_count": 4,
   "metadata": {},
   "outputs": [],
   "source": [
    "def get_all_features(batch_size=1, is_aug=False):\n",
    "    time_str = time.strftime(\"%Y%m%d-%H%M%S\", time.localtime())\n",
    "    print(time_str)\n",
    "\n",
    "#     get_features(MobileNet, (224, 224), time_str, mobilenet.preprocess_input, batch_size, is_aug)\n",
    "\n",
    "#     get_features(VGG16, (224, 224), time_str, vgg16.preprocess_input, batch_size, is_aug)\n",
    "#     get_features(VGG19, (224, 224), time_str, vgg19.preprocess_input, batch_size, is_aug)\n",
    "#     get_features(ResNet50, (224, 224), time_str, resnet50.preprocess_input, batch_size, is_aug)\n",
    "    \n",
    "#     get_features(DenseNet121, (224, 224), time_str, densenet.preprocess_input, batch_size, is_aug)\n",
    "#     get_features(DenseNet169, (224, 224), time_str, densenet.preprocess_input, batch_size, is_aug)\n",
    "#     get_features(DenseNet201, (224, 224), time_str, densenet.preprocess_input, batch_size, is_aug)\n",
    "    \n",
    "    get_features(Xception, (150, 150), time_str, xception.preprocess_input, batch_size, is_aug)\n",
    "    get_features(InceptionV3, (150, 150), time_str, inception_v3.preprocess_input, batch_size, is_aug)\n",
    "    get_features(InceptionResNetV2, (150, 150), time_str, inception_resnet_v2.preprocess_input, batch_size, is_aug)\n"
   ]
  },
  {
   "cell_type": "code",
   "execution_count": 5,
   "metadata": {},
   "outputs": [],
   "source": [
    "# get_all_features(128, False)"
   ]
  },
  {
   "cell_type": "code",
   "execution_count": null,
   "metadata": {},
   "outputs": [
    {
     "name": "stdout",
     "output_type": "stream",
     "text": [
      "********************************************************************************  0\n",
      "20180406-100859\n",
      "Xception start.\n",
      "Existed folder: /data1/kaggle/imaterialist-challenge-furniture-2018/feature\n",
      "/data1/kaggle/imaterialist-challenge-furniture-2018/feature/feature_Xception_20180406-100859.h5\n",
      "preprocess_input\n",
      "have augumentation\n",
      "Found 191261 images belonging to 128 classes.\n",
      "Found 6301 images belonging to 128 classes.\n",
      "Found 12652 images belonging to 1 classes.\n",
      "train_generator\n",
      "191261\n",
      "train_generator_steps=1495\n",
      " 240/1495 [===>..........................] - ETA: 35:41"
     ]
    }
   ],
   "source": [
    "for i in range(9):\n",
    "    print('*'*80, end='  ')\n",
    "    print('%s' % i)\n",
    "    get_all_features(128, True)"
   ]
  },
  {
   "cell_type": "code",
   "execution_count": null,
   "metadata": {},
   "outputs": [],
   "source": [
    "print('Done!')"
   ]
  },
  {
   "cell_type": "code",
   "execution_count": null,
   "metadata": {},
   "outputs": [],
   "source": []
  },
  {
   "cell_type": "code",
   "execution_count": null,
   "metadata": {},
   "outputs": [],
   "source": []
  }
 ],
 "metadata": {
  "kernelspec": {
   "display_name": "Python 3",
   "language": "python",
   "name": "python3"
  },
  "language_info": {
   "codemirror_mode": {
    "name": "ipython",
    "version": 3
   },
   "file_extension": ".py",
   "mimetype": "text/x-python",
   "name": "python",
   "nbconvert_exporter": "python",
   "pygments_lexer": "ipython3",
   "version": "3.6.4"
  }
 },
 "nbformat": 4,
 "nbformat_minor": 2
}
