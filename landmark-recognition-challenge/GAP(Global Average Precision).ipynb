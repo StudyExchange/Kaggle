{
 "cells": [
  {
   "cell_type": "markdown",
   "metadata": {},
   "source": [
    "# GAP(Global Average Precision)\n",
    "Reference:\n",
    "- [Suspected error in the leaderboard score calculator (solved)](https://www.kaggle.com/c/landmark-recognition-challenge/discussion/52080)"
   ]
  },
  {
   "cell_type": "code",
   "execution_count": 1,
   "metadata": {},
   "outputs": [],
   "source": [
    "import os\n",
    "import random\n",
    "import numpy as np\n",
    "import pandas as pd"
   ]
  },
  {
   "cell_type": "code",
   "execution_count": 2,
   "metadata": {},
   "outputs": [
    {
     "data": {
      "text/plain": [
       "0.24809426294073644"
      ]
     },
     "execution_count": 2,
     "metadata": {},
     "output_type": "execute_result"
    }
   ],
   "source": [
    "P = []\n",
    "hits = 0\n",
    "N = 117703\n",
    "testset_landmark_ratio = 1.0\n",
    "M = testset_landmark_ratio * (N - 1)\n",
    "for i in range(1, N):\n",
    "  rel = 1.0 * (random.uniform(0.0, 1.0) < 0.5)\n",
    "  hits = hits + rel\n",
    "  P.append(rel * hits / i)\n",
    "\n",
    "sum(P) / M"
   ]
  },
  {
   "cell_type": "code",
   "execution_count": 3,
   "metadata": {},
   "outputs": [
    {
     "name": "stdout",
     "output_type": "stream",
     "text": [
      "(False, 0.0)\n",
      "(False, 0.0)\n",
      "(False, 0.0)\n",
      "(True, 0.2)\n",
      "(True, 0.2)\n",
      "(False, 0.0)\n"
     ]
    }
   ],
   "source": [
    "def comp_landmark(landmark_true, landmark_pred):\n",
    "    landmark_true = landmark_true.strip()\n",
    "    landmark_pred = landmark_pred.strip()\n",
    "    if len(landmark_true) > 0 and len(landmark_pred) > 0:\n",
    "        pair = ' '.join(filter(lambda x: x, landmark_pred.split(' '))).split(' ')\n",
    "        if landmark_true == pair[0]:\n",
    "#             print(landmark_true, pair[0])\n",
    "            return True, float(pair[1])\n",
    "    return False, 0.\n",
    "\n",
    "print(comp_landmark('', ''))\n",
    "print(comp_landmark(' ', ' '))\n",
    "print(comp_landmark('   ', '   '))\n",
    "print(comp_landmark('0012', '0012 0.2'))\n",
    "print(comp_landmark('   0012   ', '   0012   0.2   '))\n",
    "print(comp_landmark('   0012   ', '   0013   0.2   '))"
   ]
  },
  {
   "cell_type": "code",
   "execution_count": 4,
   "metadata": {},
   "outputs": [],
   "source": [
    "import numpy as np\n",
    "import pandas as pd\n",
    "\n",
    "\n",
    "            \n",
    "def gap(y_true, y_pred):\n",
    "    if len(y_true) != len(y_pred):\n",
    "        raise Exception('len(y_true) and len(y_pred) should be equal!')\n",
    "        \n",
    "    # Convert y_pred pandas.DataFrame to dict\n",
    "    y_pred_dict = {}\n",
    "    for i in range(len(y_pred)):\n",
    "        y_pred_dict[y_pred['id'][i]] = y_pred['landmarks'][i]\n",
    "    print(y_pred_dict)\n",
    "    \n",
    "    n = len(y_true)\n",
    "    m = 0.\n",
    "    n_correct = 0\n",
    "    p_arr = []\n",
    "    for i in range(n):\n",
    "#         print('*' * 20)\n",
    "        y_true_landmark = y_true['landmarks'][i]\n",
    "        if y_true['id'][i] not in y_pred_dict:\n",
    "            raise Exception('Can not find id in y_pred: %s' % y_true['id'][i])\n",
    "        y_pred_landmarks_pair = y_pred_dict[y_true['id'][i]]\n",
    "#         print(y_true_landmark, y_pred_landmarks_pair)\n",
    "        is_equal, rel = comp_landmark(y_true_landmark, y_pred_landmarks_pair)\n",
    "#         print('is_equal, rel: ', is_equal, rel)\n",
    "        if is_equal:\n",
    "            m = m + 1.\n",
    "            p = m / (i + 1)\n",
    "        else:\n",
    "            p = 0.\n",
    "        p_arr.append(p * rel)\n",
    "    print('p_arr', p_arr)\n",
    "    return sum(p_arr) / m"
   ]
  },
  {
   "cell_type": "code",
   "execution_count": 5,
   "metadata": {},
   "outputs": [
    {
     "data": {
      "text/html": [
       "<div>\n",
       "<style scoped>\n",
       "    .dataframe tbody tr th:only-of-type {\n",
       "        vertical-align: middle;\n",
       "    }\n",
       "\n",
       "    .dataframe tbody tr th {\n",
       "        vertical-align: top;\n",
       "    }\n",
       "\n",
       "    .dataframe thead th {\n",
       "        text-align: right;\n",
       "    }\n",
       "</style>\n",
       "<table border=\"1\" class=\"dataframe\">\n",
       "  <thead>\n",
       "    <tr style=\"text-align: right;\">\n",
       "      <th></th>\n",
       "      <th>id</th>\n",
       "      <th>landmarks</th>\n",
       "    </tr>\n",
       "  </thead>\n",
       "  <tbody>\n",
       "    <tr>\n",
       "      <th>0</th>\n",
       "      <td>a1</td>\n",
       "      <td>1</td>\n",
       "    </tr>\n",
       "    <tr>\n",
       "      <th>1</th>\n",
       "      <td>a2</td>\n",
       "      <td>15</td>\n",
       "    </tr>\n",
       "    <tr>\n",
       "      <th>2</th>\n",
       "      <td>a3</td>\n",
       "      <td></td>\n",
       "    </tr>\n",
       "    <tr>\n",
       "      <th>3</th>\n",
       "      <td>a4</td>\n",
       "      <td></td>\n",
       "    </tr>\n",
       "    <tr>\n",
       "      <th>4</th>\n",
       "      <td>a5</td>\n",
       "      <td>11</td>\n",
       "    </tr>\n",
       "    <tr>\n",
       "      <th>5</th>\n",
       "      <td>a6</td>\n",
       "      <td>1</td>\n",
       "    </tr>\n",
       "  </tbody>\n",
       "</table>\n",
       "</div>"
      ],
      "text/plain": [
       "   id landmarks\n",
       "0  a1         1\n",
       "1  a2        15\n",
       "2  a3          \n",
       "3  a4          \n",
       "4  a5        11\n",
       "5  a6         1"
      ]
     },
     "metadata": {},
     "output_type": "display_data"
    },
    {
     "data": {
      "text/html": [
       "<div>\n",
       "<style scoped>\n",
       "    .dataframe tbody tr th:only-of-type {\n",
       "        vertical-align: middle;\n",
       "    }\n",
       "\n",
       "    .dataframe tbody tr th {\n",
       "        vertical-align: top;\n",
       "    }\n",
       "\n",
       "    .dataframe thead th {\n",
       "        text-align: right;\n",
       "    }\n",
       "</style>\n",
       "<table border=\"1\" class=\"dataframe\">\n",
       "  <thead>\n",
       "    <tr style=\"text-align: right;\">\n",
       "      <th></th>\n",
       "      <th>id</th>\n",
       "      <th>landmarks</th>\n",
       "    </tr>\n",
       "  </thead>\n",
       "  <tbody>\n",
       "    <tr>\n",
       "      <th>0</th>\n",
       "      <td>a1</td>\n",
       "      <td>1 1</td>\n",
       "    </tr>\n",
       "    <tr>\n",
       "      <th>1</th>\n",
       "      <td>a2</td>\n",
       "      <td>15 1</td>\n",
       "    </tr>\n",
       "    <tr>\n",
       "      <th>2</th>\n",
       "      <td>a3</td>\n",
       "      <td></td>\n",
       "    </tr>\n",
       "    <tr>\n",
       "      <th>3</th>\n",
       "      <td>a4</td>\n",
       "      <td></td>\n",
       "    </tr>\n",
       "    <tr>\n",
       "      <th>4</th>\n",
       "      <td>a5</td>\n",
       "      <td>11 1</td>\n",
       "    </tr>\n",
       "    <tr>\n",
       "      <th>5</th>\n",
       "      <td>a6</td>\n",
       "      <td>1 1</td>\n",
       "    </tr>\n",
       "  </tbody>\n",
       "</table>\n",
       "</div>"
      ],
      "text/plain": [
       "   id landmarks\n",
       "0  a1       1 1\n",
       "1  a2      15 1\n",
       "2  a3          \n",
       "3  a4          \n",
       "4  a5      11 1\n",
       "5  a6       1 1"
      ]
     },
     "metadata": {},
     "output_type": "display_data"
    },
    {
     "name": "stdout",
     "output_type": "stream",
     "text": [
      "{'a1': '1 1', 'a2': '15 1', 'a3': '', 'a4': '', 'a5': '11 1', 'a6': '1 1'}\n",
      "p_arr [1.0, 1.0, 0.0, 0.0, 0.6, 0.6666666666666666]\n",
      "0.8166666666666667\n"
     ]
    }
   ],
   "source": [
    "data_true = {\n",
    "    'id': [\n",
    "        'a1', \n",
    "        'a2', \n",
    "        'a3',\n",
    "        'a4', \n",
    "        'a5', \n",
    "        'a6'\n",
    "    ],\n",
    "    'landmarks': [\n",
    "        '1',\n",
    "        '15',\n",
    "        '',\n",
    "        '',\n",
    "        '11',\n",
    "        '1'\n",
    "    ]\n",
    "}\n",
    "\n",
    "data_pred = {\n",
    "    'id': [\n",
    "        'a1', \n",
    "        'a2', \n",
    "        'a3',\n",
    "        'a4', \n",
    "        'a5', \n",
    "        'a6'\n",
    "    ],\n",
    "    'landmarks': [\n",
    "        '1 1',\n",
    "        '15 1',\n",
    "        '',\n",
    "        '',\n",
    "        '11 1',\n",
    "        '1 1'\n",
    "    ]\n",
    "}\n",
    "\n",
    "y_true = pd.DataFrame(data_true)\n",
    "y_pred = pd.DataFrame(data_pred)\n",
    "display(y_true)\n",
    "display(y_pred)\n",
    "print(gap(y_true, y_pred))"
   ]
  },
  {
   "cell_type": "code",
   "execution_count": 6,
   "metadata": {},
   "outputs": [
    {
     "name": "stdout",
     "output_type": "stream",
     "text": [
      "{'a1': '1 0.5', 'a2': '15 0.5', 'a3': '', 'a4': '', 'a5': '11 0.5', 'a6': '1 0.5'}\n",
      "p_arr [0.5, 0.5, 0.0, 0.0, 0.3, 0.3333333333333333]\n",
      "0.4083333333333333\n"
     ]
    }
   ],
   "source": [
    "## Try to proof: use less than 1.0 probability will reduce the gap score, should all use 1.0 as predict probability\n",
    "data_pred = {\n",
    "    'id': [\n",
    "        'a1', \n",
    "        'a2', \n",
    "        'a3',\n",
    "        'a4', \n",
    "        'a5', \n",
    "        'a6'\n",
    "    ],\n",
    "    'landmarks': [\n",
    "        '1 0.5',\n",
    "        '15 0.5',\n",
    "        '',\n",
    "        '',\n",
    "        '11 0.5',\n",
    "        '1 0.5'\n",
    "    ]\n",
    "}\n",
    "y_pred = pd.DataFrame(data_pred)\n",
    "print(gap(y_true, y_pred))"
   ]
  },
  {
   "cell_type": "code",
   "execution_count": 7,
   "metadata": {},
   "outputs": [
    {
     "name": "stdout",
     "output_type": "stream",
     "text": [
      "{'a1': '1 1', 'a2': '15 1', 'a3': '', 'a4': '12 1', 'a5': '11 1', 'a6': '1 1'}\n",
      "p_arr [1.0, 1.0, 0.0, 0.0, 0.6, 0.6666666666666666]\n",
      "0.8166666666666667\n"
     ]
    }
   ],
   "source": [
    "# Try to proof: predict some thing at empty y_true landmark will not reduce the gap score\n",
    "data_pred = {\n",
    "    'id': [\n",
    "        'a1', \n",
    "        'a2', \n",
    "        'a3',\n",
    "        'a4', \n",
    "        'a5', \n",
    "        'a6'\n",
    "    ],\n",
    "    'landmarks': [\n",
    "        '1 1',\n",
    "        '15 1',\n",
    "        '',\n",
    "        '12 1',\n",
    "        '11 1',\n",
    "        '1 1'\n",
    "    ]\n",
    "}\n",
    "y_pred = pd.DataFrame(data_pred)\n",
    "print(gap(y_true, y_pred))"
   ]
  },
  {
   "cell_type": "code",
   "execution_count": null,
   "metadata": {},
   "outputs": [],
   "source": []
  }
 ],
 "metadata": {
  "kernelspec": {
   "display_name": "Python 3",
   "language": "python",
   "name": "python3"
  },
  "language_info": {
   "codemirror_mode": {
    "name": "ipython",
    "version": 3
   },
   "file_extension": ".py",
   "mimetype": "text/x-python",
   "name": "python",
   "nbconvert_exporter": "python",
   "pygments_lexer": "ipython3",
   "version": "3.6.4"
  }
 },
 "nbformat": 4,
 "nbformat_minor": 2
}
