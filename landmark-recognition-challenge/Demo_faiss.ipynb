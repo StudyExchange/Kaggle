{
 "cells": [
  {
   "cell_type": "markdown",
   "metadata": {},
   "source": [
    "## Demo_faiss\n",
    "\n",
    "Abstract:\n",
    "- [facebook Faiss的基本使用示例(逐步深入）](https://blog.csdn.net/sparkexpert/article/details/68922307)"
   ]
  },
  {
   "cell_type": "code",
   "execution_count": 1,
   "metadata": {},
   "outputs": [],
   "source": [
    "import numpy as np\n",
    "d = 64\n",
    "nb = 100000\n",
    "nq = 10000\n",
    "np.random.seed(1234)\n",
    "xb = np.random.random((nb, d)).astype('float32')\n",
    "xb[:, 0] += np.arange(nb) / 1000.\n",
    "xq = np.random.random((nq, d)).astype('float32')\n",
    "xq[:, 0] += np.arange(nq) / 1000."
   ]
  },
  {
   "cell_type": "code",
   "execution_count": 2,
   "metadata": {},
   "outputs": [
    {
     "name": "stdout",
     "output_type": "stream",
     "text": [
      "True\n",
      "100000\n"
     ]
    }
   ],
   "source": [
    "import faiss\n",
    "indx = faiss.IndexFlatL2(d)\n",
    "print(indx.is_trained)\n",
    "indx.add(xb)\n",
    "print(indx.ntotal)"
   ]
  },
  {
   "cell_type": "code",
   "execution_count": 3,
   "metadata": {},
   "outputs": [
    {
     "name": "stdout",
     "output_type": "stream",
     "text": [
      "[[0.        7.1751738 7.20763   7.2511625]\n",
      " [0.        6.3235645 6.684581  6.799946 ]\n",
      " [0.        5.7964087 6.391736  7.2815123]\n",
      " [0.        7.2779055 7.527987  7.6628466]\n",
      " [0.        6.7638035 7.2951202 7.3688145]]\n",
      "[[  0 393 363  78]\n",
      " [  1 555 277 364]\n",
      " [  2 304 101  13]\n",
      " [  3 173  18 182]\n",
      " [  4 288 370 531]]\n",
      "[[6.8155107 6.889466  7.3956785 7.429021 ]\n",
      " [6.604111  6.6797004 6.7209654 6.82868  ]\n",
      " [6.470383  6.8578625 7.0043745 7.036566 ]\n",
      " [5.573686  6.4075484 7.1395154 7.3555965]\n",
      " [5.409403  6.232215  6.4173393 6.5743637]]\n",
      "[[ 381  207  210  477]\n",
      " [ 526  911  142   72]\n",
      " [ 838  527 1290  425]\n",
      " [ 196  184  164  359]\n",
      " [ 526  377  120  425]]\n"
     ]
    }
   ],
   "source": [
    "k = 4\n",
    "D, I = indx.search(xb[:5], k)\n",
    "print(D)\n",
    "print(I)\n",
    "D, I = indx.search(xq[:5], k)\n",
    "print(D)\n",
    "print(I)"
   ]
  },
  {
   "cell_type": "code",
   "execution_count": 11,
   "metadata": {},
   "outputs": [
    {
     "name": "stdout",
     "output_type": "stream",
     "text": [
      "[0, 0, 0, 0, 0, 0, 0, 0, 0, 0, 0, 0, 5.573686, 0, 0, 0, 5.409403, 0, 0, 0]\n",
      "[12 16]\n",
      "[196 526]\n"
     ]
    }
   ],
   "source": [
    "minlength = 6\n",
    "y = list(map(lambda n: n if n <= minlength else 0, D.reshape(-1)))\n",
    "ii = np.nonzero(y)[0]\n",
    "print(y)\n",
    "print(ii)\n",
    "print(I.reshape(-1)[ii])"
   ]
  },
  {
   "cell_type": "code",
   "execution_count": null,
   "metadata": {},
   "outputs": [],
   "source": []
  }
 ],
 "metadata": {
  "kernelspec": {
   "display_name": "Python 3",
   "language": "python",
   "name": "python3"
  },
  "language_info": {
   "codemirror_mode": {
    "name": "ipython",
    "version": 3
   },
   "file_extension": ".py",
   "mimetype": "text/x-python",
   "name": "python",
   "nbconvert_exporter": "python",
   "pygments_lexer": "ipython3",
   "version": "3.6.4"
  }
 },
 "nbformat": 4,
 "nbformat_minor": 2
}
