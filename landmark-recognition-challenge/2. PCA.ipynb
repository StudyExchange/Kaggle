{
 "cells": [
  {
   "cell_type": "markdown",
   "metadata": {},
   "source": [
    "# 2. PCA\n",
    "\n",
    "Reference：\n",
    "- http://scikit-learn.org/stable/modules/generated/sklearn.decomposition.IncrementalPCA.html#sklearn.decomposition.IncrementalPCA"
   ]
  },
  {
   "cell_type": "markdown",
   "metadata": {},
   "source": [
    "## Run name"
   ]
  },
  {
   "cell_type": "code",
   "execution_count": 1,
   "metadata": {},
   "outputs": [
    {
     "name": "stdout",
     "output_type": "stream",
     "text": [
      "run_name: Google_LandMark_Rec_PCA_20180326_123654\n"
     ]
    }
   ],
   "source": [
    "import time\n",
    "import os\n",
    "import pandas as pd\n",
    "\n",
    "project_name = 'Google_LandMark_Rec'\n",
    "step_name = 'PCA'\n",
    "time_str = time.strftime(\"%Y%m%d_%H%M%S\", time.localtime())\n",
    "run_name = project_name + '_' + step_name + '_' + time_str\n",
    "print('run_name: ' + run_name)"
   ]
  },
  {
   "cell_type": "markdown",
   "metadata": {},
   "source": [
    "## 项目文件夹"
   ]
  },
  {
   "cell_type": "code",
   "execution_count": 2,
   "metadata": {},
   "outputs": [
    {
     "name": "stdout",
     "output_type": "stream",
     "text": [
      "input_folder: \t\t\t/data1/kaggle/landmark-recognition-challenge/input\n",
      "output_folder: \t\t\t/data1/kaggle/landmark-recognition-challenge/output\n",
      "model_folder: \t\t\t/data1/kaggle/landmark-recognition-challenge/model\n",
      "feature_folder: \t\t/data1/kaggle/landmark-recognition-challenge/feature\n",
      "post_pca_feature_folder: \t/data1/kaggle/landmark-recognition-challenge/post_pca_feature\n",
      "log_folder: \t\t\t/data1/kaggle/landmark-recognition-challenge/log\n"
     ]
    }
   ],
   "source": [
    "cwd = os.getcwd()\n",
    "input_folder = os.path.join(cwd, 'input')\n",
    "output_folder = os.path.join(cwd, 'output')\n",
    "model_folder = os.path.join(cwd, 'model')\n",
    "feature_folder = os.path.join(cwd, 'feature')\n",
    "post_pca_feature_folder = os.path.join(cwd, 'post_pca_feature')\n",
    "log_folder = os.path.join(cwd, 'log')\n",
    "print('input_folder: \\t\\t\\t' + input_folder)\n",
    "print('output_folder: \\t\\t\\t' + output_folder)\n",
    "print('model_folder: \\t\\t\\t' + model_folder)\n",
    "print('feature_folder: \\t\\t' + feature_folder)\n",
    "print('post_pca_feature_folder: \\t' + post_pca_feature_folder)\n",
    "print('log_folder: \\t\\t\\t' + log_folder)\n",
    "\n",
    "org_train_folder = os.path.join(input_folder, 'org_train')\n",
    "org_test_folder = os.path.join(input_folder, 'org_test')\n",
    "train_folder = os.path.join(input_folder, 'data_train')\n",
    "test_folder = os.path.join(input_folder, 'data_test')\n",
    "test_sub_folder = os.path.join(test_folder, 'test')\n",
    "\n",
    "if not os.path.exists(post_pca_feature_folder):\n",
    "    os.mkdir(post_pca_feature_folder)\n",
    "    print('Create folder: %s' % post_pca_feature_folder)"
   ]
  },
  {
   "cell_type": "markdown",
   "metadata": {},
   "source": [
    "## 加载feature"
   ]
  },
  {
   "cell_type": "code",
   "execution_count": 3,
   "metadata": {},
   "outputs": [
    {
     "name": "stderr",
     "output_type": "stream",
     "text": [
      "/home/ec2-user/anaconda3/envs/tensorflow_p36/lib/python3.6/site-packages/h5py/__init__.py:36: FutureWarning: Conversion of the second argument of issubdtype from `float` to `np.floating` is deprecated. In future, it will be treated as `np.float64 == np.dtype(float).type`.\n",
      "  from ._conv import register_converters as _register_converters\n"
     ]
    },
    {
     "name": "stdout",
     "output_type": "stream",
     "text": [
      "CPU times: user 2.62 s, sys: 9.49 s, total: 12.1 s\n",
      "Wall time: 5min 3s\n"
     ]
    }
   ],
   "source": [
    "%%time\n",
    "import h5py\n",
    "import numpy as np\n",
    "from sklearn.utils import shuffle\n",
    "np.random.seed(2018)\n",
    "\n",
    "x_train = []\n",
    "y_train = {}\n",
    "x_val = []\n",
    "y_val = {}\n",
    "x_test = []\n",
    "\n",
    "model_name = 'InceptionResNetV2'\n",
    "image_size = 200\n",
    "time_str = '20180312-050926'\n",
    "cwd = os.getcwd()\n",
    "\n",
    "feature_model = os.path.join(cwd, 'feature', 'feature_%s_%s_%s.h5' % (model_name, image_size, time_str))\n",
    "\n",
    "# feature_cgg16 = os.path.join(cwd, 'feature', 'feature_VGG16_{}.h5'.format(20180219))\n",
    "# feature_cgg19 = os.path.join(cwd, 'feature', 'feature_VGG19_{}.h5'.format(20180219))\n",
    "# feature_resnet50 = os.path.join(cwd, 'feature', 'feature_ResNet50_{}.h5'.format(20180220))\n",
    "# feature_xception = os.path.join(cwd, 'feature', 'feature_Xception_%s_%s.h5' % (image_size, time_str))\n",
    "# feature_inceptionV3 = os.path.join(cwd, 'feature', 'feature_InceptionV3_%s_%s.h5' % (image_size, time_str))\n",
    "# feature_inceptionResNetV2 = os.path.join(cwd, 'feature', 'feature_InceptionResNetV2_%s_%s.h5' % (image_size, time_str))\n",
    "# for filename in [feature_cgg16, feature_cgg19, feature_resnet50, feature_xception, feature_inception, feature_inceptionResNetV2]:\n",
    "for filename in [feature_model]:\n",
    "    with h5py.File(filename, 'r') as h:\n",
    "        x_train.append(np.array(h['train']))\n",
    "        y_train = np.array(h['train_labels'])\n",
    "#         x_val.append(np.array(h['val']))\n",
    "#         y_val = np.array(h['val_labels'])\n",
    "        x_test.append(np.array(h['test']))"
   ]
  },
  {
   "cell_type": "code",
   "execution_count": 4,
   "metadata": {},
   "outputs": [
    {
     "name": "stdout",
     "output_type": "stream",
     "text": [
      "(1219426, 1536)\n",
      "1219426\n",
      "(115942, 1536)\n"
     ]
    }
   ],
   "source": [
    "print(x_train[0].shape)\n",
    "print(len(y_train))\n",
    "print(x_test[0].shape)"
   ]
  },
  {
   "cell_type": "code",
   "execution_count": 5,
   "metadata": {},
   "outputs": [
    {
     "name": "stdout",
     "output_type": "stream",
     "text": [
      "(1219426, 1536)\n",
      "(115942, 1536)\n",
      "CPU times: user 2.05 s, sys: 3.23 s, total: 5.28 s\n",
      "Wall time: 5.27 s\n"
     ]
    }
   ],
   "source": [
    "%%time\n",
    "x_train = np.concatenate(x_train, axis=-1)\n",
    "x_test = np.concatenate(x_test, axis=-1)\n",
    "print(x_train.shape)\n",
    "print(x_test.shape)"
   ]
  },
  {
   "cell_type": "code",
   "execution_count": 6,
   "metadata": {},
   "outputs": [],
   "source": [
    "# %%time\n",
    "# from sklearn.utils import shuffle\n",
    "# (x_train, y_train) = shuffle(x_train, y_train)"
   ]
  },
  {
   "cell_type": "markdown",
   "metadata": {},
   "source": [
    "## PCA降维"
   ]
  },
  {
   "cell_type": "code",
   "execution_count": null,
   "metadata": {},
   "outputs": [
    {
     "name": "stdout",
     "output_type": "stream",
     "text": [
      "CPU times: user 0 ns, sys: 0 ns, total: 0 ns\n",
      "Wall time: 5.25 µs\n"
     ]
    }
   ],
   "source": [
    "%time\n",
    "from sklearn.decomposition import IncrementalPCA, PCA\n",
    "t0 = time.time()\n",
    "n_components = 32\n",
    "\n",
    "ipca = IncrementalPCA(n_components=n_components, batch_size=512, copy=False)\n",
    "ipca.fit(x_train)\n",
    "ipca.fit(x_test)\n",
    "red_x_train = ipca.transform(x_train)\n",
    "red_x_test = ipca.transform(x_test)\n",
    "\n",
    "print(red_x_train.shape)\n",
    "print(red_x_test.shape)\n",
    "t1 = time.time()\n",
    "print('Spend time: {0} s'.format(t1-t0))"
   ]
  },
  {
   "cell_type": "code",
   "execution_count": null,
   "metadata": {},
   "outputs": [],
   "source": [
    "def save_2_h5py(file_name, x_train, y_train, x_test):\n",
    "    if os.path.exists(file_name):\n",
    "        print('Remove file: %s' % file_name)\n",
    "        os.remove(file_name)\n",
    "    with h5py.File(file_name) as h:\n",
    "        h.create_dataset(\"train\", data=x_train)\n",
    "        h.create_dataset(\"train_labels\", data=y_train)\n",
    "        h.create_dataset(\"test\", data=x_test)"
   ]
  },
  {
   "cell_type": "code",
   "execution_count": null,
   "metadata": {},
   "outputs": [],
   "source": [
    "%%time\n",
    "post_pca_feature_file = os.path.join(cwd, 'post_pca_feature', 'post_pca_feature_%s_%s_%s_%s.h5' % (model_name, n_components, image_size, time_str))\n",
    "print(post_pca_feature_file)\n",
    "save_2_h5py(post_pca_feature_file, red_x_train, y_train, red_x_test)"
   ]
  },
  {
   "cell_type": "code",
   "execution_count": null,
   "metadata": {},
   "outputs": [],
   "source": [
    "print('Done!')"
   ]
  },
  {
   "cell_type": "code",
   "execution_count": null,
   "metadata": {},
   "outputs": [],
   "source": []
  }
 ],
 "metadata": {
  "kernelspec": {
   "display_name": "Python [conda env:tensorflow_p36]",
   "language": "python",
   "name": "conda-env-tensorflow_p36-py"
  },
  "language_info": {
   "codemirror_mode": {
    "name": "ipython",
    "version": 3
   },
   "file_extension": ".py",
   "mimetype": "text/x-python",
   "name": "python",
   "nbconvert_exporter": "python",
   "pygments_lexer": "ipython3",
   "version": "3.6.4"
  }
 },
 "nbformat": 4,
 "nbformat_minor": 2
}
