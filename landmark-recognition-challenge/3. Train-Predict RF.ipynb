{
 "cells": [
  {
   "cell_type": "markdown",
   "metadata": {},
   "source": [
    "# 3. Train-Predict RF\n",
    "Result:\n",
    "- Kaggle score:\n",
    "\n",
    "Reference:\n",
    "- http://scikit-learn.org/stable/modules/generated/sklearn.neighbors.KNeighborsClassifier.html#sklearn.neighbors.KNeighborsClassifier\n",
    "- http://scikit-learn.org/stable/modules/model_evaluation.html#model-evaluation"
   ]
  },
  {
   "cell_type": "markdown",
   "metadata": {},
   "source": [
    "## Run name"
   ]
  },
  {
   "cell_type": "code",
   "execution_count": 1,
   "metadata": {},
   "outputs": [
    {
     "name": "stdout",
     "output_type": "stream",
     "text": [
      "run_name: Google_LandMark_Rec_RF_20180321_141332\n"
     ]
    }
   ],
   "source": [
    "import time\n",
    "import os\n",
    "import pandas as pd\n",
    "import gc\n",
    "\n",
    "project_name = 'Google_LandMark_Rec'\n",
    "step_name = 'RF'\n",
    "time_str = time.strftime(\"%Y%m%d_%H%M%S\", time.localtime())\n",
    "run_name = project_name + '_' + step_name + '_' + time_str\n",
    "print('run_name: ' + run_name)"
   ]
  },
  {
   "cell_type": "markdown",
   "metadata": {},
   "source": [
    "## 项目文件夹"
   ]
  },
  {
   "cell_type": "code",
   "execution_count": 2,
   "metadata": {},
   "outputs": [
    {
     "name": "stdout",
     "output_type": "stream",
     "text": [
      "input_folder: \t/data1/kaggle/landmark-recognition-challenge/input\n",
      "output_folder: \t/data2/kaggle/landmark-recognition-challenge/output\n",
      "model_folder: \t/data2/kaggle/landmark-recognition-challenge/model\n",
      "feature_folder: \t/data2/kaggle/landmark-recognition-challenge/feature\n",
      "post_pca_feature_folder: \t/data2/kaggle/landmark-recognition-challenge/post_pca_feature\n",
      "log_folder: \t/data2/kaggle/landmark-recognition-challenge/log\n"
     ]
    }
   ],
   "source": [
    "cwd = os.getcwd()\n",
    "data1_folder = '/data1/kaggle/landmark-recognition-challenge/'\n",
    "input_folder = os.path.join(data1_folder, 'input')\n",
    "output_folder = os.path.join(cwd, 'output')\n",
    "model_folder = os.path.join(cwd, 'model')\n",
    "feature_folder = os.path.join(cwd, 'feature')\n",
    "post_pca_feature_folder = os.path.join(cwd, 'post_pca_feature')\n",
    "log_folder = os.path.join(cwd, 'log')\n",
    "print('input_folder: \\t' + input_folder)\n",
    "print('output_folder: \\t' + output_folder)\n",
    "print('model_folder: \\t' + model_folder)\n",
    "print('feature_folder: \\t' + feature_folder)\n",
    "print('post_pca_feature_folder: \\t' + post_pca_feature_folder)\n",
    "print('log_folder: \\t' + log_folder)\n",
    "\n",
    "org_train_folder = os.path.join(input_folder, 'org_train')\n",
    "org_test_folder = os.path.join(input_folder, 'org_test')\n",
    "train_folder = os.path.join(input_folder, 'data_train')\n",
    "test_folder = os.path.join(input_folder, 'data_test')\n",
    "test_sub_folder = os.path.join(test_folder, 'test')\n",
    "\n",
    "if not os.path.exists(post_pca_feature_folder):\n",
    "    os.mkdir(post_pca_feature_folder)\n",
    "    print('Create folder: %s' % post_pca_feature_folder)"
   ]
  },
  {
   "cell_type": "code",
   "execution_count": 3,
   "metadata": {},
   "outputs": [],
   "source": [
    "train_csv_file = os.path.join(input_folder, 'train.csv')\n",
    "test_csv_file = os.path.join(input_folder, 'test.csv')\n",
    "sample_submission_folder = os.path.join(input_folder, 'sample_submission.csv')"
   ]
  },
  {
   "cell_type": "markdown",
   "metadata": {},
   "source": [
    "## 加载feature"
   ]
  },
  {
   "cell_type": "code",
   "execution_count": 4,
   "metadata": {},
   "outputs": [
    {
     "name": "stderr",
     "output_type": "stream",
     "text": [
      "/home/ec2-user/anaconda3/envs/tensorflow_p36/lib/python3.6/site-packages/h5py/__init__.py:36: FutureWarning: Conversion of the second argument of issubdtype from `float` to `np.floating` is deprecated. In future, it will be treated as `np.float64 == np.dtype(float).type`.\n",
      "  from ._conv import register_converters as _register_converters\n"
     ]
    },
    {
     "name": "stdout",
     "output_type": "stream",
     "text": [
      "CPU times: user 1.94 s, sys: 4.24 s, total: 6.17 s\n",
      "Wall time: 13.7 s\n"
     ]
    }
   ],
   "source": [
    "%%time\n",
    "import h5py\n",
    "import numpy as np\n",
    "from sklearn.utils import shuffle\n",
    "np.random.seed(2018)\n",
    "\n",
    "x_data = []\n",
    "y_data = {}\n",
    "x_test = []\n",
    "\n",
    "\n",
    "image_size = 150\n",
    "time_str = '20180311-151108'\n",
    "cwd = os.getcwd()\n",
    "# feature_cgg16 = os.path.join(cwd, 'feature', 'feature_VGG16_{}.h5'.format(20180219))\n",
    "# feature_cgg19 = os.path.join(cwd, 'feature', 'feature_VGG19_{}.h5'.format(20180219))\n",
    "# feature_resnet50 = os.path.join(cwd, 'feature', 'feature_ResNet50_{}.h5'.format(20180220))\n",
    "# feature_xception = os.path.join(cwd, 'feature', 'feature_Xception_{}.h5'.format(20180221))\n",
    "feature_inceptionV3 = os.path.join(cwd, 'post_pca_feature', 'post_pca_feature_InceptionV3_%s_%s.h5' % (image_size, time_str))\n",
    "# feature_inceptionResNetV2 = os.path.join(cwd, 'feature', 'feature_InceptionResNetV2_%s.h5' % time_str)\n",
    "# for filename in [feature_cgg16, feature_cgg19, feature_resnet50, feature_xception, feature_inception, feature_inceptionResNetV2]:\n",
    "for filename in [feature_inceptionV3]:\n",
    "    with h5py.File(filename, 'r') as h:\n",
    "        x_data.append(np.array(h['train']))\n",
    "        y_data = np.array(h['train_labels'])\n",
    "#         x_val.append(np.array(h['val']))\n",
    "#         y_val = np.array(h['val_labels'])\n",
    "        x_test.append(np.array(h['test']))"
   ]
  },
  {
   "cell_type": "code",
   "execution_count": 5,
   "metadata": {},
   "outputs": [
    {
     "name": "stdout",
     "output_type": "stream",
     "text": [
      "(1219426, 32)\n",
      "1219426\n",
      "(115942, 32)\n"
     ]
    }
   ],
   "source": [
    "print(x_data[0].shape)\n",
    "print(len(y_data))\n",
    "print(x_test[0].shape)"
   ]
  },
  {
   "cell_type": "code",
   "execution_count": 6,
   "metadata": {},
   "outputs": [
    {
     "name": "stdout",
     "output_type": "stream",
     "text": [
      "(1219426, 32)\n",
      "(115942, 32)\n",
      "CPU times: user 92 ms, sys: 140 ms, total: 232 ms\n",
      "Wall time: 231 ms\n"
     ]
    }
   ],
   "source": [
    "%%time\n",
    "x_data = np.concatenate(x_data, axis=-1)\n",
    "x_test = np.concatenate(x_test, axis=-1)\n",
    "print(x_data.shape)\n",
    "print(x_test.shape)"
   ]
  },
  {
   "cell_type": "code",
   "execution_count": null,
   "metadata": {},
   "outputs": [],
   "source": []
  },
  {
   "cell_type": "code",
   "execution_count": 7,
   "metadata": {},
   "outputs": [],
   "source": [
    "# from sklearn.model_selection import train_test_split\n",
    "# x_train, x_val, y_train, y_val = train_test_split(x_data, y_data, test_size=0.0025, random_state=5)\n",
    "\n",
    "# print(x_train.shape)\n",
    "# print(x_val.shape)\n",
    "# print(y_train.shape)\n",
    "# print(y_val.shape)"
   ]
  },
  {
   "cell_type": "markdown",
   "metadata": {},
   "source": [
    "## Train KNN with GridSearchCV"
   ]
  },
  {
   "cell_type": "code",
   "execution_count": 8,
   "metadata": {},
   "outputs": [
    {
     "name": "stdout",
     "output_type": "stream",
     "text": [
      "14951\n"
     ]
    }
   ],
   "source": [
    "set_y_data = list(set(y_data))\n",
    "print(len(set_y_data))"
   ]
  },
  {
   "cell_type": "code",
   "execution_count": 9,
   "metadata": {},
   "outputs": [
    {
     "name": "stdout",
     "output_type": "stream",
     "text": [
      "(1207231, 32)\n",
      "(12195, 32)\n",
      "(1207231,)\n",
      "(12195,)\n",
      "(115942, 32)\n"
     ]
    }
   ],
   "source": [
    "import numpy as np\n",
    "from sklearn.metrics import accuracy_score\n",
    "from sklearn.model_selection import train_test_split\n",
    "\n",
    "x_train, x_val, y_train, y_val = train_test_split(x_data, y_data, test_size=0.01, random_state=2017)\n",
    "print(x_train.shape)\n",
    "print(x_val.shape)\n",
    "print(y_train.shape)\n",
    "print(y_val.shape)\n",
    "print(x_test.shape)\n"
   ]
  },
  {
   "cell_type": "code",
   "execution_count": 10,
   "metadata": {},
   "outputs": [
    {
     "name": "stdout",
     "output_type": "stream",
     "text": [
      "14950\n"
     ]
    }
   ],
   "source": [
    "set_y_train = list(set(y_train))\n",
    "print(len(set_y_train))"
   ]
  },
  {
   "cell_type": "code",
   "execution_count": 11,
   "metadata": {},
   "outputs": [
    {
     "name": "stderr",
     "output_type": "stream",
     "text": [
      "[Parallel(n_jobs=50)]: Done   2 out of  50 | elapsed:   32.7s remaining: 13.1min\n"
     ]
    },
    {
     "name": "stdout",
     "output_type": "stream",
     "text": [
      "CPU times: user 28min 18s, sys: 18.5 s, total: 28min 37s\n",
      "Wall time: 37.1 s\n"
     ]
    },
    {
     "name": "stderr",
     "output_type": "stream",
     "text": [
      "[Parallel(n_jobs=50)]: Done  50 out of  50 | elapsed:   37.0s finished\n"
     ]
    }
   ],
   "source": [
    "%%time\n",
    "from sklearn.ensemble import RandomForestClassifier\n",
    "\n",
    "clf = RandomForestClassifier(\n",
    "    n_estimators=50,\n",
    "    min_samples_split=5,\n",
    "    min_samples_leaf=10,\n",
    "    max_depth=20, \n",
    "    random_state=0, \n",
    "    n_jobs=50,\n",
    "    verbose=1\n",
    ")\n",
    "clf.fit(x_data[:50000], y_data[:50000])"
   ]
  },
  {
   "cell_type": "code",
   "execution_count": null,
   "metadata": {},
   "outputs": [],
   "source": [
    "%%time\n",
    "from sklearn.metrics import accuracy_score\n",
    "y_data_pred = clf.predict(x_data[:50000])\n",
    "print(y_data_pred.shape)"
   ]
  },
  {
   "cell_type": "code",
   "execution_count": null,
   "metadata": {},
   "outputs": [],
   "source": [
    "print(clf.feature_importances_)\n",
    "\n",
    "print(accuracy_score(y_data[:50000], y_data_pred))"
   ]
  },
  {
   "cell_type": "code",
   "execution_count": null,
   "metadata": {},
   "outputs": [],
   "source": [
    "print(clf.n_classes_)"
   ]
  },
  {
   "cell_type": "code",
   "execution_count": null,
   "metadata": {},
   "outputs": [],
   "source": [
    "print(clf.classes_)"
   ]
  },
  {
   "cell_type": "code",
   "execution_count": null,
   "metadata": {},
   "outputs": [],
   "source": []
  },
  {
   "cell_type": "code",
   "execution_count": null,
   "metadata": {},
   "outputs": [],
   "source": [
    "%%time\n",
    "import time\n",
    "import os\n",
    "\n",
    "selected_clf_name = 'RandomForestClassifier'\n",
    "clf = clfs[selected_clf_name]\n",
    "run_name_acc = run_name + '_' + str(int(preds[selected_clf_name]*10000)).zfill(4)\n",
    "print(run_name_acc)\n",
    "\n",
    "pred_file = os.path.join(output_folder, run_name_acc + '.csv')\n",
    "print(pred_file)"
   ]
  },
  {
   "cell_type": "code",
   "execution_count": null,
   "metadata": {},
   "outputs": [],
   "source": []
  },
  {
   "cell_type": "code",
   "execution_count": null,
   "metadata": {},
   "outputs": [],
   "source": []
  },
  {
   "cell_type": "code",
   "execution_count": null,
   "metadata": {},
   "outputs": [],
   "source": []
  },
  {
   "cell_type": "markdown",
   "metadata": {},
   "source": [
    "## Predict"
   ]
  },
  {
   "cell_type": "code",
   "execution_count": null,
   "metadata": {},
   "outputs": [],
   "source": [
    "%%time\n",
    "y_test = clf.predict(x_test)\n",
    "print(y_test.shape)"
   ]
  },
  {
   "cell_type": "code",
   "execution_count": null,
   "metadata": {},
   "outputs": [],
   "source": [
    "print(clf.best_estimator_)"
   ]
  },
  {
   "cell_type": "code",
   "execution_count": null,
   "metadata": {},
   "outputs": [],
   "source": [
    "# a = list(set(y_test))\n",
    "print(len(a))\n",
    "print(a[:10])"
   ]
  },
  {
   "cell_type": "code",
   "execution_count": null,
   "metadata": {},
   "outputs": [],
   "source": [
    "%%time\n",
    "y_test = clf.predict_proba(x_test)\n",
    "print(y_test.shape)"
   ]
  },
  {
   "cell_type": "code",
   "execution_count": null,
   "metadata": {},
   "outputs": [],
   "source": [
    "print(y_test[0])"
   ]
  },
  {
   "cell_type": "code",
   "execution_count": null,
   "metadata": {},
   "outputs": [],
   "source": [
    "sample_submission_csv = pd.read_csv(sample_submission_folder)\n",
    "print('sample_submission_csv.shape is {0}.'.format(sample_submission_csv.shape))\n",
    "display(sample_submission_csv.head(2))"
   ]
  },
  {
   "cell_type": "code",
   "execution_count": null,
   "metadata": {},
   "outputs": [],
   "source": [
    "# 这里证明os.listdir()得到的图片名称list不正确\n",
    "files = os.listdir(os.path.join(input_folder, 'data_test', 'test'))\n",
    "print(files[:10])"
   ]
  },
  {
   "cell_type": "code",
   "execution_count": null,
   "metadata": {},
   "outputs": [],
   "source": [
    "# 这里证明ImageDataGenerator()得到的图片名称list才是正确\n",
    "from keras.preprocessing.image import ImageDataGenerator\n",
    "gen = ImageDataGenerator()\n",
    "image_size = (299, 299)\n",
    "batch_size = 128\n",
    "test_generator  = gen.flow_from_directory(test_folder, image_size, shuffle=False, batch_size=batch_size)\n",
    "print('test_generator')\n",
    "print(len(test_generator.filenames))\n",
    "print(test_generator.filenames[:10])"
   ]
  },
  {
   "cell_type": "code",
   "execution_count": null,
   "metadata": {},
   "outputs": [],
   "source": [
    "%%time\n",
    "max_indexes = np.argmax(y_test, -1)\n",
    "print(max_indexes.shape)\n",
    "\n",
    "test_dict = {}\n",
    "for i, paire in enumerate(zip(test_generator.filenames, max_indexes)):\n",
    "    image_name, label = paire[0], paire[1]\n",
    "    image_id = image_name[5:-4]\n",
    "    test_dict[image_id] = '%d %.4f' % (indx, y_pred[i, indx])\n",
    "    test_dict[image_id] = '%d %.4f' % (label, 1)\n",
    "\n",
    "#确认图片的id是否能与ImageDataGenerator()对应上\n",
    "for key in list(test_dict.keys())[:10]:\n",
    "    print('%s  %s' % (key, test_dict[key]))"
   ]
  },
  {
   "cell_type": "code",
   "execution_count": null,
   "metadata": {},
   "outputs": [],
   "source": [
    "%%time\n",
    "len_sample_submission_csv = len(sample_submission_csv)\n",
    "print('len(len_sample_submission_csv)=%d' % len_sample_submission_csv)\n",
    "count = 0\n",
    "for i in range(len_sample_submission_csv):\n",
    "    image_id = sample_submission_csv.iloc[i, 0]\n",
    "#     landmarks = sample_submission_csv.iloc[i, 1]\n",
    "    if image_id in test_dict:\n",
    "        pred_landmarks = test_dict[image_id]\n",
    "#         print('%s  %s' % (image_id, pred_landmarks))\n",
    "        sample_submission_csv.iloc[i, 1] = pred_landmarks\n",
    "    else:\n",
    "#         print(image_id)\n",
    "#         sample_submission_csv.iloc[i, 1] = '9633 1.0' # 属于9633的类最多，所以全都设置成这个类，可能会比设置成空得到的结果好\n",
    "        sample_submission_csv.iloc[i, 1] = '' # 设置成空\n",
    "    count += 1\n",
    "    if count % 10000 == 0:\n",
    "        print(int(count/10000), end=' ')\n",
    "display(sample_submission_csv.head(2))"
   ]
  },
  {
   "cell_type": "code",
   "execution_count": null,
   "metadata": {},
   "outputs": [],
   "source": [
    "pred_file = os.path.join(output_folder, 'pred_' + run_name_acc + '.csv')\n",
    "sample_submission_csv.to_csv(pred_file, index=None)"
   ]
  },
  {
   "cell_type": "code",
   "execution_count": null,
   "metadata": {},
   "outputs": [],
   "source": [
    "print(run_name_acc)\n",
    "print('Done !')"
   ]
  },
  {
   "cell_type": "code",
   "execution_count": null,
   "metadata": {},
   "outputs": [],
   "source": []
  }
 ],
 "metadata": {
  "kernelspec": {
   "display_name": "Python 3",
   "language": "python",
   "name": "python3"
  },
  "language_info": {
   "codemirror_mode": {
    "name": "ipython",
    "version": 3
   },
   "file_extension": ".py",
   "mimetype": "text/x-python",
   "name": "python",
   "nbconvert_exporter": "python",
   "pygments_lexer": "ipython3",
   "version": "3.7.3"
  }
 },
 "nbformat": 4,
 "nbformat_minor": 2
}
