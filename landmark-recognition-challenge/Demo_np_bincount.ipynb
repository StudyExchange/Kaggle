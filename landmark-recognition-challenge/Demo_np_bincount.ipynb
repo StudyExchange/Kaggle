{
 "cells": [
  {
   "cell_type": "markdown",
   "metadata": {},
   "source": [
    "## Demo_np_bincount\n",
    "\n",
    "Reference:\n",
    "- https://docs.scipy.org/doc/numpy/reference/generated/numpy.bincount.html"
   ]
  },
  {
   "cell_type": "code",
   "execution_count": 1,
   "metadata": {},
   "outputs": [
    {
     "name": "stdout",
     "output_type": "stream",
     "text": [
      "[0 5 3 0 0 1 0 0 0 0 0 0 0 0 0 0 0 0 0 0 0 0 0 0 0 1]\n",
      "[ 1  2  5 25]\n"
     ]
    }
   ],
   "source": [
    "import numpy as np\n",
    "x = np.array([1, 1, 1, 2, 2, 2, 5, 25, 1, 1])\n",
    "y = np.bincount(x)\n",
    "ii = np.nonzero(y)[0]\n",
    "print(y)\n",
    "print(ii)"
   ]
  },
  {
   "cell_type": "code",
   "execution_count": 2,
   "metadata": {},
   "outputs": [
    {
     "name": "stdout",
     "output_type": "stream",
     "text": [
      "[3 5 3 1 0 0 0 1]\n",
      "[0 1 2 3 7]\n"
     ]
    }
   ],
   "source": [
    "# minlength do not work\n",
    "x = np.array([0, 0, 0, 1, 1, 3, 2, 1, 2, 2, 1, 1, 7])\n",
    "y = np.bincount(x, minlength=4)\n",
    "ii = np.nonzero(y)[0]\n",
    "print(y)\n",
    "print(ii)"
   ]
  },
  {
   "cell_type": "code",
   "execution_count": 3,
   "metadata": {},
   "outputs": [
    {
     "name": "stdout",
     "output_type": "stream",
     "text": [
      "[0, 5, 3, 0, 0, 0, 0, 3]\n",
      "[1 2 7]\n"
     ]
    }
   ],
   "source": [
    "# use map to implemente this minlength\n",
    "minlength = 3\n",
    "x = np.array([0, 0, 1, 1, 3, 2, 1, 2, 2, 1, 1, 7, 7, 7])\n",
    "y = np.bincount(x)\n",
    "y = list(map(lambda n: n if n >= minlength else 0, y))\n",
    "ii = np.nonzero(y)[0]\n",
    "print(y)\n",
    "print(ii)"
   ]
  },
  {
   "cell_type": "code",
   "execution_count": null,
   "metadata": {},
   "outputs": [],
   "source": []
  }
 ],
 "metadata": {
  "kernelspec": {
   "display_name": "Python 3",
   "language": "python",
   "name": "python3"
  },
  "language_info": {
   "codemirror_mode": {
    "name": "ipython",
    "version": 3
   },
   "file_extension": ".py",
   "mimetype": "text/x-python",
   "name": "python",
   "nbconvert_exporter": "python",
   "pygments_lexer": "ipython3",
   "version": "3.6.4"
  }
 },
 "nbformat": 4,
 "nbformat_minor": 2
}
