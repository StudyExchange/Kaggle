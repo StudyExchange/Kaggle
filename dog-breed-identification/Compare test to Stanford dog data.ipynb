{
 "cells": [
  {
   "cell_type": "markdown",
   "metadata": {},
   "source": [
    "# Compare test to Stanford dog data"
   ]
  },
  {
   "cell_type": "code",
   "execution_count": 5,
   "metadata": {},
   "outputs": [],
   "source": [
    "import os\n",
    "import time\n",
    "import sys\n",
    "\n",
    "import skimage.io as skio\n",
    "\n",
    "import numpy as np"
   ]
  },
  {
   "cell_type": "code",
   "execution_count": 2,
   "metadata": {},
   "outputs": [],
   "source": [
    "def describe(arr):\n",
    "    print(arr.shape, arr.min(), arr.max(), sys.getsizeof(arr))"
   ]
  },
  {
   "cell_type": "code",
   "execution_count": 38,
   "metadata": {},
   "outputs": [
    {
     "name": "stdout",
     "output_type": "stream",
     "text": [
      "20580\n",
      "20580\n"
     ]
    }
   ],
   "source": [
    "cwd = os.getcwd()\n",
    "input_folder = os.path.join(cwd, 'input')\n",
    "stanford_img_folder = os.path.join(input_folder, 'images')\n",
    "\n",
    "stanford_img_name_arr = []\n",
    "stanford_img_arr = []\n",
    "\n",
    "for breed_folder_name in os.listdir(stanford_img_folder):\n",
    "    breed_folder = os.path.join(stanford_img_folder, breed_folder_name)\n",
    "    for img_name in os.listdir(breed_folder):\n",
    "        stanford_img_name_arr.append(img_name)\n",
    "        img_file = os.path.join(breed_folder, img_name)\n",
    "        img = skio.imread(img_file)\n",
    "#         print(img.shape)\n",
    "        stanford_img_arr.append(img)\n",
    "print(len(stanford_img_name_arr))\n",
    "print(len(stanford_img_arr))"
   ]
  },
  {
   "cell_type": "code",
   "execution_count": 39,
   "metadata": {},
   "outputs": [
    {
     "data": {
      "text/plain": [
       "(5, 5)"
      ]
     },
     "execution_count": 39,
     "metadata": {},
     "output_type": "execute_result"
    }
   ],
   "source": [
    "np.array(stanford_img_arr[0][:5, :5, 0]).shape"
   ]
  },
  {
   "cell_type": "code",
   "execution_count": 40,
   "metadata": {},
   "outputs": [
    {
     "name": "stdout",
     "output_type": "stream",
     "text": [
      "20580\n",
      "(5, 5)\n"
     ]
    }
   ],
   "source": [
    "stanford_img_part_arr = []\n",
    "for img in stanford_img_arr:\n",
    "#     print(img[0, :3, :].shape)\n",
    "    stanford_img_part_arr.append(np.array(img[:5, :5, 0]))\n",
    "# imgs = np.concatenate(imgs, axis=0)\n",
    "print(len(stanford_img_part_arr))\n",
    "print(stanford_img_part_arr[0].shape)"
   ]
  },
  {
   "cell_type": "code",
   "execution_count": null,
   "metadata": {},
   "outputs": [],
   "source": []
  }
 ],
 "metadata": {
  "kernelspec": {
   "display_name": "Python 3",
   "language": "python",
   "name": "python3"
  },
  "language_info": {
   "codemirror_mode": {
    "name": "ipython",
    "version": 3
   },
   "file_extension": ".py",
   "mimetype": "text/x-python",
   "name": "python",
   "nbconvert_exporter": "python",
   "pygments_lexer": "ipython3",
   "version": "3.6.3"
  }
 },
 "nbformat": 4,
 "nbformat_minor": 2
}
