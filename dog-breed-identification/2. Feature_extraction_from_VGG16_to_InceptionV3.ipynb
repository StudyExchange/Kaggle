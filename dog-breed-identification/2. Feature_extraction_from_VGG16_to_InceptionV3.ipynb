{
 "cells": [
  {
   "cell_type": "markdown",
   "metadata": {
    "collapsed": true
   },
   "source": [
    "## 2. Feature_Extraction_from_VGG16_to_InceptionV3"
   ]
  },
  {
   "cell_type": "markdown",
   "metadata": {},
   "source": [
    "### References:\n",
    "1. https://github.com/ypwhs/dogs_vs_cats\n",
    "2. https://www.kaggle.com/yangpeiwen/keras-inception-xception-0-47"
   ]
  },
  {
   "cell_type": "markdown",
   "metadata": {
    "collapsed": true
   },
   "source": [
    "### Import pkgs"
   ]
  },
  {
   "cell_type": "code",
   "execution_count": 1,
   "metadata": {},
   "outputs": [
    {
     "name": "stderr",
     "output_type": "stream",
     "text": [
      "Using TensorFlow backend.\n"
     ]
    }
   ],
   "source": [
    "import os, time, math, h5py, pickle\n",
    "\n",
    "from keras.layers import *\n",
    "from keras.models import *\n",
    "from keras.applications import *\n",
    "from keras.optimizers import *\n",
    "from keras.regularizers import *\n",
    "from keras.preprocessing.image import *\n",
    "from keras.applications.vgg16 import preprocess_input as preprocess_input_vgg16\n",
    "from keras.applications.vgg19 import preprocess_input as preprocess_input_vgg19\n",
    "from keras.applications.inception_v3 import preprocess_input as preprocess_input_inception_v3"
   ]
  },
  {
   "cell_type": "code",
   "execution_count": 2,
   "metadata": {},
   "outputs": [
    {
     "name": "stdout",
     "output_type": "stream",
     "text": [
      "[0, 1, 2, 3, 4, 5, 6, 7, 8, 9]\n",
      "D:\\Kaggle\\dog-breed-identification\\temp\\pickle_demo.pkl\n",
      "[0, 1, 2, 3, 4, 5, 6, 7, 8, 9]\n"
     ]
    }
   ],
   "source": [
    "def pickle_dump(data, file):\n",
    "    with open(file, 'wb') as f:\n",
    "        pickle.dump(data, f)\n",
    "\n",
    "def pickle_load(file):\n",
    "    with open(file, 'rb') as f:\n",
    "        data = pickle.load(f)\n",
    "    return data\n",
    "\n",
    "a = list(range(10))\n",
    "print(a)\n",
    "demo_file = os.path.join(os.getcwd(), 'temp', 'pickle_demo.pkl')\n",
    "print(demo_file)\n",
    "pickle_dump(a, demo_file)\n",
    "new_a = pickle_load(demo_file)\n",
    "print(new_a)"
   ]
  },
  {
   "cell_type": "code",
   "execution_count": 3,
   "metadata": {},
   "outputs": [],
   "source": [
    "def get_features(MODEL, model_name, image_size, folder_name, batch_size=1, lambda_func=None):\n",
    "    print('{0} start.'.format(model_name))\n",
    "    start_time = time.time()\n",
    "    \n",
    "    width = image_size[0]\n",
    "    height = image_size[1]\n",
    "    input_tensor = Input((height, width, 3))\n",
    "    x = input_tensor\n",
    "    if lambda_func:\n",
    "        print(lambda_func.__name__)\n",
    "        x = Lambda(lambda_func)(x)\n",
    "    base_model = MODEL(input_tensor=x, weights='imagenet', include_top=False)\n",
    "    model = Model(base_model.input, GlobalAveragePooling2D()(base_model.output))\n",
    "\n",
    "    cwd = os.getcwd()\n",
    "    data_train_path = os.path.join(cwd, 'input', folder_name)\n",
    "    \n",
    "    gen = ImageDataGenerator(zoom_range = 0.1,\n",
    "                            height_shift_range = 0.1,\n",
    "                            width_shift_range = 0.1,\n",
    "                            rotation_range = 10)\n",
    "    train_generator = gen.flow_from_directory(\n",
    "        data_train_path, \n",
    "        image_size, \n",
    "        shuffle=False, \n",
    "        batch_size=batch_size\n",
    "    )\n",
    "#     val_generator  = gen.flow_from_directory(data_val_path,  image_size, shuffle=False, \n",
    "#                                               batch_size=batch_size)\n",
    "#     test_generator  = gen.flow_from_directory(data_test_path,  image_size, shuffle=False, \n",
    "#                                               batch_size=batch_size)\n",
    "    train_steps = 63 #math.ceil(len(train_generator.classes)/batch_size)\n",
    "    print('train_steps:', train_steps)\n",
    "#     train = model.predict_generator(train_generator, verbose=1, steps=len(train_generator.classes))\n",
    "    train = model.predict_generator(train_generator, verbose=1, steps=train_steps)\n",
    "#     val = model.predict_generator(val_generator, verbose=1, steps=len(val_generator.classes))\n",
    "#     test = model.predict_generator(test_generator, verbose=1, steps=10357)\n",
    "#     train = model.predict_generator(train_generator, verbose=1, steps=10)\n",
    "#     val = model.predict_generator(val_generator, verbose=1, steps=10)\n",
    "#     test = model.predict_generator(test_generator, verbose=1, steps=10)\n",
    "#     print(test_generator.filenames)\n",
    "    \n",
    "    class_indices_file = os.path.join(cwd, 'feature', 'feature_{0}_{1}_{2}_class_indices.pkl'.format(model_name, folder_name, 171023))\n",
    "    if os.path.exists(class_indices_file):\n",
    "        os.remove(class_indices_file)\n",
    "    print(class_indices_file)\n",
    "    pickle_dump(train_generator.class_indices, class_indices_file)\n",
    "\n",
    "    h5py_file_name = os.path.join(cwd, 'feature', 'feature_{0}_{1}_{2}.h5'.format(model_name, folder_name, 171023))\n",
    "    print(h5py_file_name)\n",
    "    if os.path.exists(h5py_file_name):\n",
    "        os.remove(h5py_file_name)\n",
    "    with h5py.File(h5py_file_name) as h:\n",
    "        h.create_dataset('x_%s' % folder_name, data=train)\n",
    "        h.create_dataset('classes_%s' % folder_name, data=train_generator.classes)\n",
    "#         h.create_dataset(\"val\", data=val)\n",
    "#         h.create_dataset(\"val_label\", data=val_generator.classes)\n",
    "#         h.create_dataset(\"test\", data=test)\n",
    "\n",
    "    print(train.shape)\n",
    "    print(len(train_generator.classes))\n",
    "#     print(val.shape)\n",
    "#     print(len(val_generator.classes))\n",
    "#     print(test.shape)\n",
    "    \n",
    "    print(dir(train_generator))\n",
    "#     print(train_generator.filenames)\n",
    "    print(train_generator.samples)\n",
    "    print(len(train_generator.classes))\n",
    "    print(len(train_generator.class_indices))\n",
    "    print(train_generator.num_classes)\n",
    "    print(len(train_generator.image_shape))\n",
    "    print(train_generator.batch_index)\n",
    "#     print(len(list(train_generator.index_generator)))\n",
    "    print(len(train_generator.index_array))\n",
    "    print(type(train_generator.class_indices))\n",
    "    end_time = time.time()\n",
    "    print('Spend time: {0} s'.format(end_time-start_time))\n",
    "    \n",
    "    return train_generator\n",
    "    "
   ]
  },
  {
   "cell_type": "code",
   "execution_count": 4,
   "metadata": {},
   "outputs": [
    {
     "name": "stdout",
     "output_type": "stream",
     "text": [
      "Automatic pdb calling has been turned OFF\n"
     ]
    }
   ],
   "source": [
    "%pdb off"
   ]
  },
  {
   "cell_type": "code",
   "execution_count": 5,
   "metadata": {},
   "outputs": [
    {
     "name": "stdout",
     "output_type": "stream",
     "text": [
      "VGG16 start.\n",
      "wrapper\n",
      "WARNING:tensorflow:From C:\\Users\\study\\Anaconda3\\lib\\site-packages\\tensorflow\\python\\framework\\op_def_library.py:263: colocate_with (from tensorflow.python.framework.ops) is deprecated and will be removed in a future version.\n",
      "Instructions for updating:\n",
      "Colocations handled automatically by placer.\n",
      "Found 1023 images belonging to 120 classes.\n",
      "train_steps: 63\n",
      "63/63 [==============================] - 665s 11s/step\n",
      "D:\\Kaggle\\dog-breed-identification\\feature\\feature_VGG16_data_val_171023_class_indices.pkl\n",
      "D:\\Kaggle\\dog-breed-identification\\feature\\feature_VGG16_data_val_171023.h5\n",
      "(1057, 512)\n",
      "1023\n",
      "['__class__', '__delattr__', '__dict__', '__dir__', '__doc__', '__eq__', '__format__', '__ge__', '__getattribute__', '__getitem__', '__gt__', '__hash__', '__init__', '__init_subclass__', '__iter__', '__le__', '__len__', '__lt__', '__module__', '__ne__', '__new__', '__next__', '__reduce__', '__reduce_ex__', '__repr__', '__setattr__', '__sizeof__', '__str__', '__subclasshook__', '__weakref__', '_flow_index', '_get_batches_of_transformed_samples', '_set_index_array', '_tf_api_names', '_tf_api_names_v1', 'allowed_class_modes', 'batch_index', 'batch_size', 'class_indices', 'class_mode', 'classes', 'color_mode', 'data', 'data_format', 'directory', 'dtype', 'filenames', 'filepaths', 'image_data_generator', 'image_shape', 'index_array', 'index_generator', 'interpolation', 'labels', 'lock', 'n', 'next', 'num_classes', 'on_epoch_end', 'reset', 'samples', 'save_format', 'save_prefix', 'save_to_dir', 'seed', 'set_processing_attrs', 'shuffle', 'split', 'subset', 'target_size', 'total_batches_seen', 'white_list_formats']\n",
      "1023\n",
      "1023\n",
      "120\n",
      "120\n",
      "3\n",
      "13\n",
      "1023\n",
      "<class 'dict'>\n",
      "Spend time: 666.612021446228 s\n"
     ]
    }
   ],
   "source": [
    "# get_features(VGG16, 'VGG16', (224, 224), 'data_train', 1)\n",
    "train_generator = get_features(VGG16, 'VGG16', (224, 224), 'data_val', 17, preprocess_input_vgg16)\n",
    "# get_features(VGG16, (224, 224), 'data_test', 1)"
   ]
  },
  {
   "cell_type": "code",
   "execution_count": 6,
   "metadata": {},
   "outputs": [
    {
     "name": "stdout",
     "output_type": "stream",
     "text": [
      "120\n",
      "1023\n",
      "1023\n"
     ]
    }
   ],
   "source": [
    "print(len(train_generator.class_indices))\n",
    "print(len(train_generator.classes))\n",
    "print(len(train_generator.index_array))"
   ]
  },
  {
   "cell_type": "code",
   "execution_count": 7,
   "metadata": {},
   "outputs": [
    {
     "name": "stdout",
     "output_type": "stream",
     "text": [
      "D:\\Kaggle\\dog-breed-identification\\feature\\feature_VGG16_data_val_171023_class_indices.pkl\n",
      "{'affenpinscher': 0, 'afghan_hound': 1, 'african_hunting_dog': 2, 'airedale': 3, 'american_staffordshire_terrier': 4, 'appenzeller': 5, 'australian_terrier': 6, 'basenji': 7, 'basset': 8, 'beagle': 9, 'bedlington_terrier': 10, 'bernese_mountain_dog': 11, 'black-and-tan_coonhound': 12, 'blenheim_spaniel': 13, 'bloodhound': 14, 'bluetick': 15, 'border_collie': 16, 'border_terrier': 17, 'borzoi': 18, 'boston_bull': 19, 'bouvier_des_flandres': 20, 'boxer': 21, 'brabancon_griffon': 22, 'briard': 23, 'brittany_spaniel': 24, 'bull_mastiff': 25, 'cairn': 26, 'cardigan': 27, 'chesapeake_bay_retriever': 28, 'chihuahua': 29, 'chow': 30, 'clumber': 31, 'cocker_spaniel': 32, 'collie': 33, 'curly-coated_retriever': 34, 'dandie_dinmont': 35, 'dhole': 36, 'dingo': 37, 'doberman': 38, 'english_foxhound': 39, 'english_setter': 40, 'english_springer': 41, 'entlebucher': 42, 'eskimo_dog': 43, 'flat-coated_retriever': 44, 'french_bulldog': 45, 'german_shepherd': 46, 'german_short-haired_pointer': 47, 'giant_schnauzer': 48, 'golden_retriever': 49, 'gordon_setter': 50, 'great_dane': 51, 'great_pyrenees': 52, 'greater_swiss_mountain_dog': 53, 'groenendael': 54, 'ibizan_hound': 55, 'irish_setter': 56, 'irish_terrier': 57, 'irish_water_spaniel': 58, 'irish_wolfhound': 59, 'italian_greyhound': 60, 'japanese_spaniel': 61, 'keeshond': 62, 'kelpie': 63, 'kerry_blue_terrier': 64, 'komondor': 65, 'kuvasz': 66, 'labrador_retriever': 67, 'lakeland_terrier': 68, 'leonberg': 69, 'lhasa': 70, 'malamute': 71, 'malinois': 72, 'maltese_dog': 73, 'mexican_hairless': 74, 'miniature_pinscher': 75, 'miniature_poodle': 76, 'miniature_schnauzer': 77, 'newfoundland': 78, 'norfolk_terrier': 79, 'norwegian_elkhound': 80, 'norwich_terrier': 81, 'old_english_sheepdog': 82, 'otterhound': 83, 'papillon': 84, 'pekinese': 85, 'pembroke': 86, 'pomeranian': 87, 'pug': 88, 'redbone': 89, 'rhodesian_ridgeback': 90, 'rottweiler': 91, 'saint_bernard': 92, 'saluki': 93, 'samoyed': 94, 'schipperke': 95, 'scotch_terrier': 96, 'scottish_deerhound': 97, 'sealyham_terrier': 98, 'shetland_sheepdog': 99, 'shih-tzu': 100, 'siberian_husky': 101, 'silky_terrier': 102, 'soft-coated_wheaten_terrier': 103, 'staffordshire_bullterrier': 104, 'standard_poodle': 105, 'standard_schnauzer': 106, 'sussex_spaniel': 107, 'tibetan_mastiff': 108, 'tibetan_terrier': 109, 'toy_poodle': 110, 'toy_terrier': 111, 'vizsla': 112, 'walker_hound': 113, 'weimaraner': 114, 'welsh_springer_spaniel': 115, 'west_highland_white_terrier': 116, 'whippet': 117, 'wire-haired_fox_terrier': 118, 'yorkshire_terrier': 119}\n"
     ]
    }
   ],
   "source": [
    "demo_file = os.path.join(os.getcwd(), 'feature', 'feature_VGG16_data_val_171023_class_indices.pkl')\n",
    "print(demo_file)\n",
    "# pickle_dump(a, demo_file)\n",
    "new_a = pickle_load(demo_file)\n",
    "print(new_a)"
   ]
  },
  {
   "cell_type": "code",
   "execution_count": 8,
   "metadata": {},
   "outputs": [],
   "source": [
    "# get_features(VGG19, 'VGG19', (224, 224), 'data_train', 1)\n",
    "# get_features(VGG19, 'VGG19', (224, 224), 'data_val', 1)"
   ]
  },
  {
   "cell_type": "code",
   "execution_count": 9,
   "metadata": {},
   "outputs": [],
   "source": [
    "# get_features(ResNet50, (224, 224), 1)"
   ]
  },
  {
   "cell_type": "code",
   "execution_count": 10,
   "metadata": {},
   "outputs": [],
   "source": [
    "# get_features(Xception, (299, 299), 1, xception.preprocess_input)"
   ]
  },
  {
   "cell_type": "code",
   "execution_count": 11,
   "metadata": {},
   "outputs": [],
   "source": [
    "# get_features(InceptionV3, (299, 299), 1, inception_v3.preprocess_input)"
   ]
  },
  {
   "cell_type": "code",
   "execution_count": 12,
   "metadata": {},
   "outputs": [],
   "source": [
    "# get_features(InceptionResNetV2, (299, 299), 1, inception_v3.preprocess_input)"
   ]
  },
  {
   "cell_type": "code",
   "execution_count": 13,
   "metadata": {},
   "outputs": [
    {
     "name": "stdout",
     "output_type": "stream",
     "text": [
      "Done !\n"
     ]
    }
   ],
   "source": [
    "print('Done !')"
   ]
  },
  {
   "cell_type": "code",
   "execution_count": null,
   "metadata": {},
   "outputs": [],
   "source": []
  }
 ],
 "metadata": {
  "kernelspec": {
   "display_name": "Python 3",
   "language": "python",
   "name": "python3"
  },
  "language_info": {
   "codemirror_mode": {
    "name": "ipython",
    "version": 3
   },
   "file_extension": ".py",
   "mimetype": "text/x-python",
   "name": "python",
   "nbconvert_exporter": "python",
   "pygments_lexer": "ipython3",
   "version": "3.7.3"
  }
 },
 "nbformat": 4,
 "nbformat_minor": 2
}
