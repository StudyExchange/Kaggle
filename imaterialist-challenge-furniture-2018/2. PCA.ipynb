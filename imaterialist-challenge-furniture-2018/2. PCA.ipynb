{
 "cells": [
  {
   "cell_type": "markdown",
   "metadata": {},
   "source": [
    "# 2. PCA\n",
    "Reference：\n",
    "- http://scikit-learn.org/stable/modules/generated/sklearn.decomposition.IncrementalPCA.html#sklearn.decomposition.IncrementalPCA"
   ]
  },
  {
   "cell_type": "markdown",
   "metadata": {},
   "source": [
    "## Import PKGs"
   ]
  },
  {
   "cell_type": "code",
   "execution_count": 1,
   "metadata": {},
   "outputs": [],
   "source": [
    "import numpy as np\n",
    "import pandas as pd\n",
    "import matplotlib.pyplot as plt\n",
    "import matplotlib.image as mpimg\n",
    "%matplotlib inline\n",
    "from IPython.display import display\n",
    "\n",
    "import os\n",
    "import gc\n",
    "import time\n",
    "import zipfile\n",
    "import pickle\n",
    "from PIL import Image\n",
    "import shutil\n",
    "\n",
    "from tqdm import tqdm\n",
    "import multiprocessing"
   ]
  },
  {
   "cell_type": "markdown",
   "metadata": {},
   "source": [
    "## Run name"
   ]
  },
  {
   "cell_type": "code",
   "execution_count": 2,
   "metadata": {},
   "outputs": [
    {
     "name": "stdout",
     "output_type": "stream",
     "text": [
      "run_name: ic_furniture2018_PCA_20180331_153834\n"
     ]
    }
   ],
   "source": [
    "project_name = 'ic_furniture2018'\n",
    "step_name = 'PCA'\n",
    "time_str = time.strftime(\"%Y%m%d_%H%M%S\", time.localtime())\n",
    "run_name = project_name + '_' + step_name + '_' + time_str\n",
    "print('run_name: ' + run_name)"
   ]
  },
  {
   "cell_type": "markdown",
   "metadata": {},
   "source": [
    "## Project folders"
   ]
  },
  {
   "cell_type": "code",
   "execution_count": 3,
   "metadata": {},
   "outputs": [
    {
     "name": "stdout",
     "output_type": "stream",
     "text": [
      "input_folder: \t\t\t/data1/kaggle/imaterialist-challenge-furniture-2018/input\n",
      "output_folder: \t\t\t/data1/kaggle/imaterialist-challenge-furniture-2018/output\n",
      "model_folder: \t\t\t/data1/kaggle/imaterialist-challenge-furniture-2018/model\n",
      "feature_folder: \t\t/data1/kaggle/imaterialist-challenge-furniture-2018/feature\n",
      "post_pca_feature_folder: \t/data1/kaggle/imaterialist-challenge-furniture-2018/post_pca_feature\n",
      "log_folder: \t\t\t/data1/kaggle/imaterialist-challenge-furniture-2018/log\n",
      "\n",
      "train_json_file: \t\t/data1/kaggle/imaterialist-challenge-furniture-2018/input/train.json\n",
      "val_json_file: \t\t\t/data1/kaggle/imaterialist-challenge-furniture-2018/input/validation.json\n",
      "test_json_file: \t\t/data1/kaggle/imaterialist-challenge-furniture-2018/input/test.json\n",
      "\n",
      "train_csv_file: \t\t/data1/kaggle/imaterialist-challenge-furniture-2018/input/train.csv\n",
      "val_csv_file: \t\t\t/data1/kaggle/imaterialist-challenge-furniture-2018/input/validation.csv\n",
      "test_csv_file: \t\t\t/data1/kaggle/imaterialist-challenge-furniture-2018/input/test.csv\n",
      "\n",
      "sample_submission_csv_file: \t/data1/kaggle/imaterialist-challenge-furniture-2018/input/sample_submission_randomlabel.csv\n"
     ]
    }
   ],
   "source": [
    "cwd = os.getcwd()\n",
    "input_folder = os.path.join(cwd, 'input')\n",
    "output_folder = os.path.join(cwd, 'output')\n",
    "model_folder = os.path.join(cwd, 'model')\n",
    "feature_folder = os.path.join(cwd, 'feature')\n",
    "post_pca_feature_folder = os.path.join(cwd, 'post_pca_feature')\n",
    "log_folder = os.path.join(cwd, 'log')\n",
    "print('input_folder: \\t\\t\\t%s' % input_folder)\n",
    "print('output_folder: \\t\\t\\t%s' % output_folder)\n",
    "print('model_folder: \\t\\t\\t%s' % model_folder)\n",
    "print('feature_folder: \\t\\t%s' % feature_folder)\n",
    "print('post_pca_feature_folder: \\t%s' % post_pca_feature_folder)\n",
    "print('log_folder: \\t\\t\\t%s' % log_folder)\n",
    "\n",
    "org_train_folder = os.path.join(input_folder, 'org_train')\n",
    "org_val_folder = os.path.join(input_folder, 'org_val')\n",
    "org_test_folder = os.path.join(input_folder, 'org_test')\n",
    "train_folder = os.path.join(input_folder, 'data_train')\n",
    "val_folder = os.path.join(input_folder, 'data_val')\n",
    "test_folder = os.path.join(input_folder, 'data_test')\n",
    "test_sub_folder = os.path.join(test_folder, 'test')\n",
    "\n",
    "if not os.path.exists(post_pca_feature_folder):\n",
    "    os.mkdir(post_pca_feature_folder)\n",
    "    print('Create folder: %s' % post_pca_feature_folder)\n",
    "\n",
    "train_json_file = os.path.join(input_folder, 'train.json')\n",
    "val_json_file = os.path.join(input_folder, 'validation.json')\n",
    "test_json_file = os.path.join(input_folder, 'test.json')\n",
    "print('\\ntrain_json_file: \\t\\t%s' % train_json_file)\n",
    "print('val_json_file: \\t\\t\\t%s' % val_json_file)\n",
    "print('test_json_file: \\t\\t%s' % test_json_file)\n",
    "\n",
    "train_csv_file = os.path.join(input_folder, 'train.csv')\n",
    "val_csv_file = os.path.join(input_folder, 'validation.csv')\n",
    "test_csv_file = os.path.join(input_folder, 'test.csv')\n",
    "print('\\ntrain_csv_file: \\t\\t%s' % train_csv_file)\n",
    "print('val_csv_file: \\t\\t\\t%s' % val_csv_file)\n",
    "print('test_csv_file: \\t\\t\\t%s' % test_csv_file)\n",
    "\n",
    "sample_submission_csv_file = os.path.join(input_folder, 'sample_submission_randomlabel.csv')\n",
    "print('\\nsample_submission_csv_file: \\t%s' % sample_submission_csv_file)"
   ]
  },
  {
   "cell_type": "markdown",
   "metadata": {},
   "source": [
    "## Load feature"
   ]
  },
  {
   "cell_type": "code",
   "execution_count": 4,
   "metadata": {},
   "outputs": [
    {
     "name": "stdout",
     "output_type": "stream",
     "text": [
      "CPU times: user 48 ms, sys: 8 ms, total: 56 ms\n",
      "Wall time: 52.5 ms\n"
     ]
    },
    {
     "name": "stderr",
     "output_type": "stream",
     "text": [
      "/home/ec2-user/anaconda3/envs/tensorflow_p36/lib/python3.6/site-packages/h5py/__init__.py:36: FutureWarning: Conversion of the second argument of issubdtype from `float` to `np.floating` is deprecated. In future, it will be treated as `np.float64 == np.dtype(float).type`.\n",
      "  from ._conv import register_converters as _register_converters\n"
     ]
    }
   ],
   "source": [
    "%%time\n",
    "import h5py\n",
    "import numpy as np\n",
    "np.random.seed(2018)\n",
    "\n",
    "\n",
    "def load_h5(model_name, time_str):\n",
    "    x_train = {}\n",
    "    y_train = {}\n",
    "    x_val = {}\n",
    "    y_val = {}\n",
    "    x_test = {}\n",
    "    \n",
    "    feature_h5_file = os.path.join(feature_folder, 'feature_%s_%s.h5' % (model_name, time_str))\n",
    "    print(feature_h5_file)\n",
    "    for filename in [feature_h5_file]:\n",
    "        with h5py.File(filename, 'r') as h:\n",
    "            x_train = np.array(h['train'])\n",
    "            y_train = np.array(h['train_labels'])\n",
    "            x_val = np.array(h['val'])\n",
    "            y_val = np.array(h['val_labels'])\n",
    "            x_test = np.array(h['test'])\n",
    "    return x_train, y_train, x_val, y_val, x_test\n",
    "\n",
    "def save_h5(n_components, model_name, time_str, x_train, y_train, x_val, y_val, x_test):\n",
    "    feature_h5_file = os.path.join(post_pca_feature_folder, 'post_pca_feature_%s_%s_%s.h5' % (model_name, n_components, time_str))\n",
    "    print(feature_h5_file)\n",
    "    if os.path.exists(feature_h5_file):\n",
    "        os.remove(feature_h5_file)\n",
    "        print('File removed: %s' % feature_h5_file)\n",
    "        \n",
    "    with h5py.File(feature_h5_file) as h:\n",
    "        h.create_dataset(\"train\", data=x_train)\n",
    "        h.create_dataset(\"train_labels\", data=y_train)\n",
    "        h.create_dataset(\"val\", data=x_val)\n",
    "        h.create_dataset(\"val_labels\", data=y_val)\n",
    "        h.create_dataset(\"test\", data=x_test)\n",
    "\n",
    "def reduce_demension(n_components, model_name, time_str):\n",
    "    t0 = time.time()\n",
    "    x_train, y_train, x_val, y_val, x_test = load_h5(model_name, time_str)\n",
    "    ipca = IncrementalPCA(n_components=n_components, batch_size=512, copy=False)\n",
    "    ipca.fit(x_train)\n",
    "    ipca.fit(x_val)\n",
    "    ipca.fit(x_test)\n",
    "    red_x_train = ipca.transform(x_train)\n",
    "    red_x_val = ipca.transform(x_val)\n",
    "    red_x_test = ipca.transform(x_test)\n",
    "    print(red_x_train.shape)\n",
    "    print(red_x_val.shape)\n",
    "    print(red_x_test.shape)\n",
    "    save_h5(n_components, model_name, time_str, red_x_train, y_train, red_x_val, y_val, red_x_test)\n",
    "    t1 = time.time()\n",
    "    print('Spend time: %.2f s' % (t1 - t0))"
   ]
  },
  {
   "cell_type": "markdown",
   "metadata": {},
   "source": [
    "## PCA reduce dimension"
   ]
  },
  {
   "cell_type": "code",
   "execution_count": 5,
   "metadata": {},
   "outputs": [
    {
     "name": "stdout",
     "output_type": "stream",
     "text": [
      "CPU times: user 0 ns, sys: 0 ns, total: 0 ns\n",
      "Wall time: 5.25 µs\n",
      "/data1/kaggle/imaterialist-challenge-furniture-2018/feature/feature_Xception_20180329-164850.h5\n"
     ]
    },
    {
     "name": "stderr",
     "output_type": "stream",
     "text": [
      "/home/ec2-user/anaconda3/envs/tensorflow_p36/lib/python3.6/site-packages/sklearn/decomposition/incremental_pca.py:271: RuntimeWarning: Mean of empty slice.\n",
      "  explained_variance[self.n_components_:].mean()\n",
      "/home/ec2-user/anaconda3/envs/tensorflow_p36/lib/python3.6/site-packages/numpy/core/_methods.py:80: RuntimeWarning: invalid value encountered in true_divide\n",
      "  ret = ret.dtype.type(ret / rcount)\n"
     ]
    },
    {
     "name": "stdout",
     "output_type": "stream",
     "text": [
      "(191261, 512)\n",
      "(6301, 512)\n",
      "(12652, 512)\n",
      "/data1/kaggle/imaterialist-challenge-furniture-2018/post_pca_feature/post_pca_feature_Xception_512_20180329-164850.h5\n",
      "File removed: /data1/kaggle/imaterialist-challenge-furniture-2018/post_pca_feature/post_pca_feature_Xception_512_20180329-164850.h5\n",
      "Spend time: 890.27 s\n",
      "/data1/kaggle/imaterialist-challenge-furniture-2018/feature/feature_InceptionV3_20180329-164850.h5\n",
      "(191261, 512)\n",
      "(6301, 512)\n",
      "(12652, 512)\n",
      "/data1/kaggle/imaterialist-challenge-furniture-2018/post_pca_feature/post_pca_feature_InceptionV3_512_20180329-164850.h5\n",
      "File removed: /data1/kaggle/imaterialist-challenge-furniture-2018/post_pca_feature/post_pca_feature_InceptionV3_512_20180329-164850.h5\n",
      "Spend time: 496.58 s\n",
      "/data1/kaggle/imaterialist-challenge-furniture-2018/feature/feature_InceptionResNetV2_20180329-164850.h5\n",
      "(191261, 512)\n",
      "(6301, 512)\n",
      "(12652, 512)\n",
      "/data1/kaggle/imaterialist-challenge-furniture-2018/post_pca_feature/post_pca_feature_InceptionResNetV2_512_20180329-164850.h5\n",
      "File removed: /data1/kaggle/imaterialist-challenge-furniture-2018/post_pca_feature/post_pca_feature_InceptionResNetV2_512_20180329-164850.h5\n",
      "Spend time: 527.78 s\n",
      "Spend time: 1914.85\n"
     ]
    }
   ],
   "source": [
    "%time\n",
    "from sklearn.decomposition import IncrementalPCA, PCA\n",
    "\n",
    "t00 = time.time()\n",
    "n_components = 512\n",
    "\n",
    "model_names = ['Xception', 'InceptionV3', 'InceptionResNetV2']\n",
    "# time_strs = ['20180329-164850']\n",
    "time_strs = ['20180329-164850']\n",
    "\n",
    "for time_str in time_strs:\n",
    "    for model_name in model_names:\n",
    "        reduce_demension(n_components, model_name, time_str)\n",
    "\n",
    "t01 = time.time()\n",
    "print('Spend time: %.2f' % (t01 - t00))"
   ]
  },
  {
   "cell_type": "code",
   "execution_count": null,
   "metadata": {},
   "outputs": [],
   "source": []
  }
 ],
 "metadata": {
  "kernelspec": {
   "display_name": "Python 3",
   "language": "python",
   "name": "python3"
  },
  "language_info": {
   "codemirror_mode": {
    "name": "ipython",
    "version": 3
   },
   "file_extension": ".py",
   "mimetype": "text/x-python",
   "name": "python",
   "nbconvert_exporter": "python",
   "pygments_lexer": "ipython3",
   "version": "3.6.4"
  }
 },
 "nbformat": 4,
 "nbformat_minor": 2
}
