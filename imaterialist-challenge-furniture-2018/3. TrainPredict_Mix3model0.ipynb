{
 "cells": [
  {
   "cell_type": "markdown",
   "metadata": {},
   "source": [
    "# 3. TrainPredict_Mix3model0\n",
    "## Result:\n",
    "- Kaggle score:\n",
    "\n",
    "## Tensorboard:\n",
    "- Input at command: tensorboard --logdir=./log\n",
    "- Input at browser: http://127.0.0.1:6006\n",
    "\n",
    "## Reference:\n",
    "- https://www.kaggle.com/codename007/a-very-extensive-landmark-exploratory-analysis\n"
   ]
  },
  {
   "cell_type": "markdown",
   "metadata": {},
   "source": [
    "## Run name"
   ]
  },
  {
   "cell_type": "code",
   "execution_count": 1,
   "metadata": {},
   "outputs": [
    {
     "name": "stdout",
     "output_type": "stream",
     "text": [
      "run_name: ic_furniture2018_TrainPredict_Mix3model_20180429_112205\n"
     ]
    }
   ],
   "source": [
    "import time\n",
    "\n",
    "project_name = 'ic_furniture2018'\n",
    "step_name = 'TrainPredict_Mix3model'\n",
    "time_str = time.strftime(\"%Y%m%d_%H%M%S\", time.localtime())\n",
    "run_name = project_name + '_' + step_name + '_' + time_str\n",
    "print('run_name: ' + run_name)\n",
    "t0 = time.time()"
   ]
  },
  {
   "cell_type": "markdown",
   "metadata": {},
   "source": [
    "## Import params"
   ]
  },
  {
   "cell_type": "code",
   "execution_count": 2,
   "metadata": {},
   "outputs": [
    {
     "name": "stdout",
     "output_type": "stream",
     "text": [
      "epochs:  15\n"
     ]
    }
   ],
   "source": [
    "epochs = 15\n",
    "print('epochs: ', epochs)"
   ]
  },
  {
   "cell_type": "markdown",
   "metadata": {},
   "source": [
    "## Import PKGs"
   ]
  },
  {
   "cell_type": "code",
   "execution_count": 3,
   "metadata": {},
   "outputs": [],
   "source": [
    "import numpy as np\n",
    "import pandas as pd\n",
    "import matplotlib.pyplot as plt\n",
    "import matplotlib.image as mpimg\n",
    "%matplotlib inline\n",
    "from IPython.display import display\n",
    "\n",
    "import os\n",
    "import gc\n",
    "import zipfile\n",
    "import pickle\n",
    "import math\n",
    "from PIL import Image\n",
    "import shutil\n",
    "\n",
    "from tqdm import tqdm\n",
    "from multiprocessing import cpu_count\n",
    "\n",
    "from sklearn.metrics import confusion_matrix, accuracy_score"
   ]
  },
  {
   "cell_type": "markdown",
   "metadata": {},
   "source": [
    "## Important Params"
   ]
  },
  {
   "cell_type": "code",
   "execution_count": 4,
   "metadata": {},
   "outputs": [],
   "source": [
    "batch_size = 1024"
   ]
  },
  {
   "cell_type": "markdown",
   "metadata": {},
   "source": [
    "## Project folders"
   ]
  },
  {
   "cell_type": "code",
   "execution_count": 5,
   "metadata": {},
   "outputs": [
    {
     "name": "stdout",
     "output_type": "stream",
     "text": [
      "input_folder: \t\t\t/data1/kaggle/imaterialist-challenge-furniture-2018/input\n",
      "output_folder: \t\t\t/data1/kaggle/imaterialist-challenge-furniture-2018/output\n",
      "model_folder: \t\t\t/data1/kaggle/imaterialist-challenge-furniture-2018/model\n",
      "feature_folder: \t\t/data1/kaggle/imaterialist-challenge-furniture-2018/feature\n",
      "post_pca_feature_folder: \t/data1/kaggle/imaterialist-challenge-furniture-2018/post_pca_feature\n",
      "log_folder: \t\t\t/data1/kaggle/imaterialist-challenge-furniture-2018/log\n",
      "\n",
      "train_json_file: \t\t/data1/kaggle/imaterialist-challenge-furniture-2018/input/train.json\n",
      "val_json_file: \t\t\t/data1/kaggle/imaterialist-challenge-furniture-2018/input/validation.json\n",
      "test_json_file: \t\t/data1/kaggle/imaterialist-challenge-furniture-2018/input/test.json\n",
      "\n",
      "train_csv_file: \t\t/data1/kaggle/imaterialist-challenge-furniture-2018/input/train.csv\n",
      "val_csv_file: \t\t\t/data1/kaggle/imaterialist-challenge-furniture-2018/input/validation.csv\n",
      "test_csv_file: \t\t\t/data1/kaggle/imaterialist-challenge-furniture-2018/input/test.csv\n",
      "\n",
      "sample_submission_csv_file: \t/data1/kaggle/imaterialist-challenge-furniture-2018/input/sample_submission_randomlabel.csv\n"
     ]
    }
   ],
   "source": [
    "cwd = os.getcwd()\n",
    "input_folder = os.path.join(cwd, 'input')\n",
    "output_folder = os.path.join(cwd, 'output')\n",
    "model_folder = os.path.join(cwd, 'model')\n",
    "feature_folder = os.path.join(cwd, 'feature')\n",
    "post_pca_feature_folder = os.path.join(cwd, 'post_pca_feature')\n",
    "log_folder = os.path.join(cwd, 'log')\n",
    "print('input_folder: \\t\\t\\t%s' % input_folder)\n",
    "print('output_folder: \\t\\t\\t%s' % output_folder)\n",
    "print('model_folder: \\t\\t\\t%s' % model_folder)\n",
    "print('feature_folder: \\t\\t%s' % feature_folder)\n",
    "print('post_pca_feature_folder: \\t%s' % post_pca_feature_folder)\n",
    "print('log_folder: \\t\\t\\t%s' % log_folder)\n",
    "\n",
    "org_train_folder = os.path.join(input_folder, 'org_train')\n",
    "org_val_folder = os.path.join(input_folder, 'org_val')\n",
    "org_test_folder = os.path.join(input_folder, 'org_test')\n",
    "train_folder = os.path.join(input_folder, 'data_train')\n",
    "val_folder = os.path.join(input_folder, 'data_val')\n",
    "test_folder = os.path.join(input_folder, 'data_test')\n",
    "test_sub_folder = os.path.join(test_folder, 'test')\n",
    "\n",
    "if not os.path.exists(post_pca_feature_folder):\n",
    "    os.mkdir(post_pca_feature_folder)\n",
    "    print('Create folder: %s' % post_pca_feature_folder)\n",
    "\n",
    "train_json_file = os.path.join(input_folder, 'train.json')\n",
    "val_json_file = os.path.join(input_folder, 'validation.json')\n",
    "test_json_file = os.path.join(input_folder, 'test.json')\n",
    "print('\\ntrain_json_file: \\t\\t%s' % train_json_file)\n",
    "print('val_json_file: \\t\\t\\t%s' % val_json_file)\n",
    "print('test_json_file: \\t\\t%s' % test_json_file)\n",
    "\n",
    "train_csv_file = os.path.join(input_folder, 'train.csv')\n",
    "val_csv_file = os.path.join(input_folder, 'validation.csv')\n",
    "test_csv_file = os.path.join(input_folder, 'test.csv')\n",
    "print('\\ntrain_csv_file: \\t\\t%s' % train_csv_file)\n",
    "print('val_csv_file: \\t\\t\\t%s' % val_csv_file)\n",
    "print('test_csv_file: \\t\\t\\t%s' % test_csv_file)\n",
    "\n",
    "sample_submission_csv_file = os.path.join(input_folder, 'sample_submission_randomlabel.csv')\n",
    "print('\\nsample_submission_csv_file: \\t%s' % sample_submission_csv_file)"
   ]
  },
  {
   "cell_type": "markdown",
   "metadata": {},
   "source": [
    "## Preview data"
   ]
  },
  {
   "cell_type": "code",
   "execution_count": 6,
   "metadata": {},
   "outputs": [
    {
     "name": "stdout",
     "output_type": "stream",
     "text": [
      "train_csv.shape is (194828, 3).\n"
     ]
    },
    {
     "data": {
      "text/html": [
       "<div>\n",
       "<style scoped>\n",
       "    .dataframe tbody tr th:only-of-type {\n",
       "        vertical-align: middle;\n",
       "    }\n",
       "\n",
       "    .dataframe tbody tr th {\n",
       "        vertical-align: top;\n",
       "    }\n",
       "\n",
       "    .dataframe thead th {\n",
       "        text-align: right;\n",
       "    }\n",
       "</style>\n",
       "<table border=\"1\" class=\"dataframe\">\n",
       "  <thead>\n",
       "    <tr style=\"text-align: right;\">\n",
       "      <th></th>\n",
       "      <th>image_id</th>\n",
       "      <th>label_id</th>\n",
       "      <th>url</th>\n",
       "    </tr>\n",
       "  </thead>\n",
       "  <tbody>\n",
       "    <tr>\n",
       "      <th>0</th>\n",
       "      <td>1</td>\n",
       "      <td>5</td>\n",
       "      <td>https://img13.360buyimg.com/imgzone/jfs/t2857/...</td>\n",
       "    </tr>\n",
       "    <tr>\n",
       "      <th>1</th>\n",
       "      <td>2</td>\n",
       "      <td>5</td>\n",
       "      <td>http://www.tengdakeli.cn/350/timg01/uploaded/i...</td>\n",
       "    </tr>\n",
       "  </tbody>\n",
       "</table>\n",
       "</div>"
      ],
      "text/plain": [
       "   image_id  label_id                                                url\n",
       "0         1         5  https://img13.360buyimg.com/imgzone/jfs/t2857/...\n",
       "1         2         5  http://www.tengdakeli.cn/350/timg01/uploaded/i..."
      ]
     },
     "metadata": {},
     "output_type": "display_data"
    },
    {
     "name": "stdout",
     "output_type": "stream",
     "text": [
      "val_csv.shape is (6400, 3).\n"
     ]
    },
    {
     "data": {
      "text/html": [
       "<div>\n",
       "<style scoped>\n",
       "    .dataframe tbody tr th:only-of-type {\n",
       "        vertical-align: middle;\n",
       "    }\n",
       "\n",
       "    .dataframe tbody tr th {\n",
       "        vertical-align: top;\n",
       "    }\n",
       "\n",
       "    .dataframe thead th {\n",
       "        text-align: right;\n",
       "    }\n",
       "</style>\n",
       "<table border=\"1\" class=\"dataframe\">\n",
       "  <thead>\n",
       "    <tr style=\"text-align: right;\">\n",
       "      <th></th>\n",
       "      <th>image_id</th>\n",
       "      <th>label_id</th>\n",
       "      <th>url</th>\n",
       "    </tr>\n",
       "  </thead>\n",
       "  <tbody>\n",
       "    <tr>\n",
       "      <th>0</th>\n",
       "      <td>1</td>\n",
       "      <td>38</td>\n",
       "      <td>http://www.ghs.net/public/images/fb/3d/51/3beb...</td>\n",
       "    </tr>\n",
       "    <tr>\n",
       "      <th>1</th>\n",
       "      <td>2</td>\n",
       "      <td>63</td>\n",
       "      <td>https://img.alicdn.com/imgextra/TB2chFei9YH8KJ...</td>\n",
       "    </tr>\n",
       "  </tbody>\n",
       "</table>\n",
       "</div>"
      ],
      "text/plain": [
       "   image_id  label_id                                                url\n",
       "0         1        38  http://www.ghs.net/public/images/fb/3d/51/3beb...\n",
       "1         2        63  https://img.alicdn.com/imgextra/TB2chFei9YH8KJ..."
      ]
     },
     "metadata": {},
     "output_type": "display_data"
    },
    {
     "name": "stdout",
     "output_type": "stream",
     "text": [
      "test_csv.shape is (12800, 2).\n"
     ]
    },
    {
     "data": {
      "text/html": [
       "<div>\n",
       "<style scoped>\n",
       "    .dataframe tbody tr th:only-of-type {\n",
       "        vertical-align: middle;\n",
       "    }\n",
       "\n",
       "    .dataframe tbody tr th {\n",
       "        vertical-align: top;\n",
       "    }\n",
       "\n",
       "    .dataframe thead th {\n",
       "        text-align: right;\n",
       "    }\n",
       "</style>\n",
       "<table border=\"1\" class=\"dataframe\">\n",
       "  <thead>\n",
       "    <tr style=\"text-align: right;\">\n",
       "      <th></th>\n",
       "      <th>image_id</th>\n",
       "      <th>url</th>\n",
       "    </tr>\n",
       "  </thead>\n",
       "  <tbody>\n",
       "    <tr>\n",
       "      <th>0</th>\n",
       "      <td>1</td>\n",
       "      <td>https://img13.360buyimg.com/imgzone/jfs/t13174...</td>\n",
       "    </tr>\n",
       "    <tr>\n",
       "      <th>1</th>\n",
       "      <td>2</td>\n",
       "      <td>http://img35.ddimg.cn/79/22/1258168705-1_u.jpg</td>\n",
       "    </tr>\n",
       "  </tbody>\n",
       "</table>\n",
       "</div>"
      ],
      "text/plain": [
       "   image_id                                                url\n",
       "0         1  https://img13.360buyimg.com/imgzone/jfs/t13174...\n",
       "1         2     http://img35.ddimg.cn/79/22/1258168705-1_u.jpg"
      ]
     },
     "metadata": {},
     "output_type": "display_data"
    },
    {
     "name": "stdout",
     "output_type": "stream",
     "text": [
      "test_csv.shape is (12800, 2).\n"
     ]
    },
    {
     "data": {
      "text/html": [
       "<div>\n",
       "<style scoped>\n",
       "    .dataframe tbody tr th:only-of-type {\n",
       "        vertical-align: middle;\n",
       "    }\n",
       "\n",
       "    .dataframe tbody tr th {\n",
       "        vertical-align: top;\n",
       "    }\n",
       "\n",
       "    .dataframe thead th {\n",
       "        text-align: right;\n",
       "    }\n",
       "</style>\n",
       "<table border=\"1\" class=\"dataframe\">\n",
       "  <thead>\n",
       "    <tr style=\"text-align: right;\">\n",
       "      <th></th>\n",
       "      <th>image_id</th>\n",
       "      <th>url</th>\n",
       "    </tr>\n",
       "  </thead>\n",
       "  <tbody>\n",
       "    <tr>\n",
       "      <th>0</th>\n",
       "      <td>1</td>\n",
       "      <td>https://img13.360buyimg.com/imgzone/jfs/t13174...</td>\n",
       "    </tr>\n",
       "    <tr>\n",
       "      <th>1</th>\n",
       "      <td>2</td>\n",
       "      <td>http://img35.ddimg.cn/79/22/1258168705-1_u.jpg</td>\n",
       "    </tr>\n",
       "  </tbody>\n",
       "</table>\n",
       "</div>"
      ],
      "text/plain": [
       "   image_id                                                url\n",
       "0         1  https://img13.360buyimg.com/imgzone/jfs/t13174...\n",
       "1         2     http://img35.ddimg.cn/79/22/1258168705-1_u.jpg"
      ]
     },
     "metadata": {},
     "output_type": "display_data"
    },
    {
     "name": "stdout",
     "output_type": "stream",
     "text": [
      "sample_submission_csv.shape is (12800, 2).\n"
     ]
    },
    {
     "data": {
      "text/html": [
       "<div>\n",
       "<style scoped>\n",
       "    .dataframe tbody tr th:only-of-type {\n",
       "        vertical-align: middle;\n",
       "    }\n",
       "\n",
       "    .dataframe tbody tr th {\n",
       "        vertical-align: top;\n",
       "    }\n",
       "\n",
       "    .dataframe thead th {\n",
       "        text-align: right;\n",
       "    }\n",
       "</style>\n",
       "<table border=\"1\" class=\"dataframe\">\n",
       "  <thead>\n",
       "    <tr style=\"text-align: right;\">\n",
       "      <th></th>\n",
       "      <th>id</th>\n",
       "      <th>predicted</th>\n",
       "    </tr>\n",
       "  </thead>\n",
       "  <tbody>\n",
       "    <tr>\n",
       "      <th>0</th>\n",
       "      <td>1</td>\n",
       "      <td>57</td>\n",
       "    </tr>\n",
       "    <tr>\n",
       "      <th>1</th>\n",
       "      <td>2</td>\n",
       "      <td>74</td>\n",
       "    </tr>\n",
       "  </tbody>\n",
       "</table>\n",
       "</div>"
      ],
      "text/plain": [
       "   id  predicted\n",
       "0   1         57\n",
       "1   2         74"
      ]
     },
     "metadata": {},
     "output_type": "display_data"
    }
   ],
   "source": [
    "train_csv = pd.read_csv(train_csv_file)\n",
    "print('train_csv.shape is {0}.'.format(train_csv.shape))\n",
    "display(train_csv.head(2))\n",
    "\n",
    "val_csv = pd.read_csv(val_csv_file)\n",
    "print('val_csv.shape is {0}.'.format(val_csv.shape))\n",
    "display(val_csv.head(2))\n",
    "\n",
    "test_csv = pd.read_csv(test_csv_file)\n",
    "print('test_csv.shape is {0}.'.format(test_csv.shape))\n",
    "display(test_csv.head(2))\n",
    "\n",
    "test_csv = pd.read_csv(test_csv_file)\n",
    "print('test_csv.shape is {0}.'.format(test_csv.shape))\n",
    "display(test_csv.head(2))\n",
    "\n",
    "sample_submission_csv = pd.read_csv(sample_submission_csv_file)\n",
    "print('sample_submission_csv.shape is {0}.'.format(sample_submission_csv.shape))\n",
    "display(sample_submission_csv.head(2))"
   ]
  },
  {
   "cell_type": "code",
   "execution_count": 7,
   "metadata": {},
   "outputs": [
    {
     "name": "stdout",
     "output_type": "stream",
     "text": [
      "len(id_2_train_label_id_dict)=194828\n",
      "id: 1, \tlandmark_id:5\n",
      "id: 2, \tlandmark_id:5\n",
      "2_5.jpg\n"
     ]
    }
   ],
   "source": [
    "train_id = train_csv['image_id']\n",
    "train_label_id = train_csv['label_id']\n",
    "\n",
    "id_2_train_label_id_dict = dict(zip(train_id, train_label_id))\n",
    "print('len(id_2_train_label_id_dict)=%d' % len(id_2_train_label_id_dict))\n",
    "\n",
    "index = 0\n",
    "print('id: %s, \\tlandmark_id:%s' % (train_id[index], id_2_train_label_id_dict[train_id[index]]))\n",
    "index = 1\n",
    "print('id: %s, \\tlandmark_id:%s' % (train_id[index], id_2_train_label_id_dict[train_id[index]]))\n",
    "\n",
    "image_file = '%s_%s.jpg' % (train_id[index], id_2_train_label_id_dict[train_id[index]])\n",
    "print(image_file)"
   ]
  },
  {
   "cell_type": "code",
   "execution_count": 8,
   "metadata": {},
   "outputs": [
    {
     "name": "stdout",
     "output_type": "stream",
     "text": [
      "len(id_2_val_label_id_dict)=6400\n",
      "id: 1, \tlandmark_id:38\n",
      "id: 2, \tlandmark_id:63\n",
      "2_63.jpg\n"
     ]
    }
   ],
   "source": [
    "val_id = val_csv['image_id']\n",
    "val_label_id = val_csv['label_id']\n",
    "\n",
    "id_2_val_label_id_dict = dict(zip(val_id, val_label_id))\n",
    "print('len(id_2_val_label_id_dict)=%d' % len(id_2_val_label_id_dict))\n",
    "\n",
    "index = 0\n",
    "print('id: %s, \\tlandmark_id:%s' % (val_id[index], id_2_val_label_id_dict[val_id[index]]))\n",
    "index = 1\n",
    "print('id: %s, \\tlandmark_id:%s' % (val_id[index], id_2_val_label_id_dict[val_id[index]]))\n",
    "\n",
    "image_file = '%s_%s.jpg' % (val_id[index], id_2_val_label_id_dict[val_id[index]])\n",
    "print(image_file)"
   ]
  },
  {
   "cell_type": "code",
   "execution_count": 9,
   "metadata": {},
   "outputs": [
    {
     "name": "stdout",
     "output_type": "stream",
     "text": [
      "id: 1\n",
      "id: 2\n",
      "2.jpg\n"
     ]
    }
   ],
   "source": [
    "test_id = test_csv['image_id']\n",
    "\n",
    "index = 0\n",
    "print('id: %s' % (test_id[index]))\n",
    "index = 1\n",
    "print('id: %s' % (test_id[index]))\n",
    "\n",
    "image_file = '%s.jpg' % (test_id[index])\n",
    "print(image_file)"
   ]
  },
  {
   "cell_type": "markdown",
   "metadata": {},
   "source": [
    "## Load feature"
   ]
  },
  {
   "cell_type": "code",
   "execution_count": 10,
   "metadata": {},
   "outputs": [
    {
     "name": "stdout",
     "output_type": "stream",
     "text": [
      "CPU times: user 68 ms, sys: 12 ms, total: 80 ms\n",
      "Wall time: 96.7 ms\n"
     ]
    },
    {
     "name": "stderr",
     "output_type": "stream",
     "text": [
      "/home/ubuntu/anaconda3/envs/tensorflow_p36/lib/python3.6/site-packages/h5py/__init__.py:36: FutureWarning: Conversion of the second argument of issubdtype from `float` to `np.floating` is deprecated. In future, it will be treated as `np.float64 == np.dtype(float).type`.\n",
      "  from ._conv import register_converters as _register_converters\n"
     ]
    }
   ],
   "source": [
    "%%time\n",
    "import h5py\n",
    "import numpy as np\n",
    "np.random.seed(2018)\n",
    "\n",
    "\n",
    "def load_h5_data(data_str, feature_folder, file_reg, model_name, time_str):\n",
    "    x_data = {}\n",
    "    y_data = {}\n",
    "    \n",
    "    feature_model = os.path.join(feature_folder, file_reg % (model_name, time_str))\n",
    "    for filename in [feature_model]:\n",
    "        with h5py.File(filename, 'r') as h:\n",
    "            x_data = np.array(h[data_str])\n",
    "            y_data = np.array(h['%s_labels' % data_str])\n",
    "    return x_data, y_data\n",
    "\n",
    "def load_h5_test(feature_folder, file_reg, model_name, time_str):\n",
    "    x_test = {}\n",
    "    \n",
    "    feature_model = os.path.join(feature_folder, file_reg % (model_name, time_str))\n",
    "    for filename in [feature_model]:\n",
    "        with h5py.File(filename, 'r') as h:\n",
    "            x_test = np.array(h['test'])\n",
    "    return x_test"
   ]
  },
  {
   "cell_type": "code",
   "execution_count": 11,
   "metadata": {},
   "outputs": [
    {
     "name": "stdout",
     "output_type": "stream",
     "text": [
      "****************************************************************************************************\n",
      "File existed: /data1/kaggle/imaterialist-challenge-furniture-2018/feature/feature_Xception_300_20180415-150022.h5\n",
      "File existed: /data1/kaggle/imaterialist-challenge-furniture-2018/feature/feature_Xception_200_20180415-140848.h5\n",
      "File existed: /data1/kaggle/imaterialist-challenge-furniture-2018/feature/feature_Xception_150_20180415-131901.h5\n",
      "File existed: /data1/kaggle/imaterialist-challenge-furniture-2018/feature/feature_Xception_300_20180415-111333.h5\n",
      "File existed: /data1/kaggle/imaterialist-challenge-furniture-2018/feature/feature_Xception_450_20180409-115039.h5\n",
      "File existed: /data1/kaggle/imaterialist-challenge-furniture-2018/feature/feature_Xception_450_20180409-191753.h5\n",
      "File existed: /data1/kaggle/imaterialist-challenge-furniture-2018/feature/feature_Xception_450_20180410-032144.h5\n",
      "File existed: /data1/kaggle/imaterialist-challenge-furniture-2018/feature/feature_Xception_450_20180410-112448.h5\n",
      "File existed: /data1/kaggle/imaterialist-challenge-furniture-2018/feature/feature_Xception_450_20180410-193018.h5\n",
      "File existed: /data1/kaggle/imaterialist-challenge-furniture-2018/feature/feature_Xception_20180331-163122.h5\n",
      "File existed: /data1/kaggle/imaterialist-challenge-furniture-2018/feature/feature_Xception_20180401-185347.h5\n",
      "File existed: /data1/kaggle/imaterialist-challenge-furniture-2018/feature/feature_Xception_20180401-224426.h5\n",
      "File existed: /data1/kaggle/imaterialist-challenge-furniture-2018/feature/feature_Xception_20180402-023138.h5\n",
      "File existed: /data1/kaggle/imaterialist-challenge-furniture-2018/feature/feature_Xception_20180402-062014.h5\n",
      "File existed: /data1/kaggle/imaterialist-challenge-furniture-2018/feature/feature_Xception_20180402-101021.h5\n",
      "File existed: /data1/kaggle/imaterialist-challenge-furniture-2018/feature/feature_Xception_20180402-140156.h5\n",
      "File existed: /data1/kaggle/imaterialist-challenge-furniture-2018/feature/feature_Xception_20180402-175506.h5\n",
      "File existed: /data1/kaggle/imaterialist-challenge-furniture-2018/feature/feature_Xception_20180402-214919.h5\n",
      "File existed: /data1/kaggle/imaterialist-challenge-furniture-2018/feature/feature_Xception_20180403-014551.h5\n",
      "File existed: /data1/kaggle/imaterialist-challenge-furniture-2018/feature/feature_Xception_20180406-070324.h5\n",
      "File existed: /data1/kaggle/imaterialist-challenge-furniture-2018/feature/feature_Xception_20180406-102130.h5\n",
      "File existed: /data1/kaggle/imaterialist-challenge-furniture-2018/feature/feature_Xception_20180406-123522.h5\n",
      "File existed: /data1/kaggle/imaterialist-challenge-furniture-2018/feature/feature_Xception_20180406-144857.h5\n",
      "File existed: /data1/kaggle/imaterialist-challenge-furniture-2018/feature/feature_Xception_150_20180406-230352.h5\n",
      "File existed: /data1/kaggle/imaterialist-challenge-furniture-2018/feature/feature_Xception_150_20180407-010446.h5\n",
      "File existed: /data1/kaggle/imaterialist-challenge-furniture-2018/feature/feature_Xception_150_20180407-031951.h5\n",
      "File existed: /data1/kaggle/imaterialist-challenge-furniture-2018/feature/feature_Xception_150_20180407-053509.h5\n",
      "File existed: /data1/kaggle/imaterialist-challenge-furniture-2018/feature/feature_Xception_150_20180407-075132.h5\n",
      "File existed: /data1/kaggle/imaterialist-challenge-furniture-2018/feature/feature_Xception_150_20180407-100849.h5\n",
      "File existed: /data1/kaggle/imaterialist-challenge-furniture-2018/feature/feature_Xception_150_20180407-122723.h5\n",
      "File existed: /data1/kaggle/imaterialist-challenge-furniture-2018/feature/feature_Xception_150_20180407-144712.h5\n",
      "File existed: /data1/kaggle/imaterialist-challenge-furniture-2018/feature/feature_Xception_150_20180407-170832.h5\n",
      "File existed: /data1/kaggle/imaterialist-challenge-furniture-2018/feature/feature_Xception_150_20180407-193230.h5\n",
      "File existed: /data1/kaggle/imaterialist-challenge-furniture-2018/feature/feature_InceptionV3_300_20180415-150022.h5\n",
      "File existed: /data1/kaggle/imaterialist-challenge-furniture-2018/feature/feature_InceptionV3_200_20180415-140848.h5\n",
      "File existed: /data1/kaggle/imaterialist-challenge-furniture-2018/feature/feature_InceptionV3_150_20180415-131901.h5\n",
      "File existed: /data1/kaggle/imaterialist-challenge-furniture-2018/feature/feature_InceptionV3_300_20180415-111333.h5\n",
      "File existed: /data1/kaggle/imaterialist-challenge-furniture-2018/feature/feature_InceptionV3_450_20180409-115039.h5\n",
      "File existed: /data1/kaggle/imaterialist-challenge-furniture-2018/feature/feature_InceptionV3_450_20180409-191753.h5\n",
      "File existed: /data1/kaggle/imaterialist-challenge-furniture-2018/feature/feature_InceptionV3_450_20180410-032144.h5\n",
      "File existed: /data1/kaggle/imaterialist-challenge-furniture-2018/feature/feature_InceptionV3_450_20180410-112448.h5\n",
      "File existed: /data1/kaggle/imaterialist-challenge-furniture-2018/feature/feature_InceptionV3_450_20180410-193018.h5\n",
      "File existed: /data1/kaggle/imaterialist-challenge-furniture-2018/feature/feature_InceptionV3_20180331-163122.h5\n",
      "File existed: /data1/kaggle/imaterialist-challenge-furniture-2018/feature/feature_InceptionV3_20180401-185347.h5\n",
      "File existed: /data1/kaggle/imaterialist-challenge-furniture-2018/feature/feature_InceptionV3_20180401-224426.h5\n",
      "File existed: /data1/kaggle/imaterialist-challenge-furniture-2018/feature/feature_InceptionV3_20180402-023138.h5\n",
      "File existed: /data1/kaggle/imaterialist-challenge-furniture-2018/feature/feature_InceptionV3_20180402-062014.h5\n",
      "File existed: /data1/kaggle/imaterialist-challenge-furniture-2018/feature/feature_InceptionV3_20180402-101021.h5\n",
      "File existed: /data1/kaggle/imaterialist-challenge-furniture-2018/feature/feature_InceptionV3_20180402-140156.h5\n",
      "File existed: /data1/kaggle/imaterialist-challenge-furniture-2018/feature/feature_InceptionV3_20180402-175506.h5\n",
      "File existed: /data1/kaggle/imaterialist-challenge-furniture-2018/feature/feature_InceptionV3_20180402-214919.h5\n",
      "File existed: /data1/kaggle/imaterialist-challenge-furniture-2018/feature/feature_InceptionV3_20180403-014551.h5\n",
      "File existed: /data1/kaggle/imaterialist-challenge-furniture-2018/feature/feature_InceptionV3_20180406-070324.h5\n",
      "File existed: /data1/kaggle/imaterialist-challenge-furniture-2018/feature/feature_InceptionV3_20180406-102130.h5\n",
      "File existed: /data1/kaggle/imaterialist-challenge-furniture-2018/feature/feature_InceptionV3_20180406-123522.h5\n",
      "File existed: /data1/kaggle/imaterialist-challenge-furniture-2018/feature/feature_InceptionV3_20180406-144857.h5\n",
      "File existed: /data1/kaggle/imaterialist-challenge-furniture-2018/feature/feature_InceptionV3_150_20180406-230352.h5\n",
      "File existed: /data1/kaggle/imaterialist-challenge-furniture-2018/feature/feature_InceptionV3_150_20180407-010446.h5\n",
      "File existed: /data1/kaggle/imaterialist-challenge-furniture-2018/feature/feature_InceptionV3_150_20180407-031951.h5\n",
      "File existed: /data1/kaggle/imaterialist-challenge-furniture-2018/feature/feature_InceptionV3_150_20180407-053509.h5\n",
      "File existed: /data1/kaggle/imaterialist-challenge-furniture-2018/feature/feature_InceptionV3_150_20180407-075132.h5\n",
      "File existed: /data1/kaggle/imaterialist-challenge-furniture-2018/feature/feature_InceptionV3_150_20180407-100849.h5\n",
      "File existed: /data1/kaggle/imaterialist-challenge-furniture-2018/feature/feature_InceptionV3_150_20180407-122723.h5\n",
      "File existed: /data1/kaggle/imaterialist-challenge-furniture-2018/feature/feature_InceptionV3_150_20180407-144712.h5\n",
      "File existed: /data1/kaggle/imaterialist-challenge-furniture-2018/feature/feature_InceptionV3_150_20180407-170832.h5\n",
      "File existed: /data1/kaggle/imaterialist-challenge-furniture-2018/feature/feature_InceptionV3_150_20180407-193230.h5\n",
      "File existed: /data1/kaggle/imaterialist-challenge-furniture-2018/feature/feature_InceptionResNetV2_300_20180415-150022.h5\n",
      "File existed: /data1/kaggle/imaterialist-challenge-furniture-2018/feature/feature_InceptionResNetV2_200_20180415-140848.h5\n",
      "File existed: /data1/kaggle/imaterialist-challenge-furniture-2018/feature/feature_InceptionResNetV2_150_20180415-131901.h5\n",
      "File existed: /data1/kaggle/imaterialist-challenge-furniture-2018/feature/feature_InceptionResNetV2_300_20180415-111333.h5\n",
      "File existed: /data1/kaggle/imaterialist-challenge-furniture-2018/feature/feature_InceptionResNetV2_450_20180409-115039.h5\n",
      "File existed: /data1/kaggle/imaterialist-challenge-furniture-2018/feature/feature_InceptionResNetV2_450_20180409-191753.h5\n",
      "File existed: /data1/kaggle/imaterialist-challenge-furniture-2018/feature/feature_InceptionResNetV2_450_20180410-032144.h5\n",
      "File existed: /data1/kaggle/imaterialist-challenge-furniture-2018/feature/feature_InceptionResNetV2_450_20180410-112448.h5\n",
      "File existed: /data1/kaggle/imaterialist-challenge-furniture-2018/feature/feature_InceptionResNetV2_450_20180410-193018.h5\n",
      "File existed: /data1/kaggle/imaterialist-challenge-furniture-2018/feature/feature_InceptionResNetV2_20180331-163122.h5\n",
      "File existed: /data1/kaggle/imaterialist-challenge-furniture-2018/feature/feature_InceptionResNetV2_20180401-185347.h5\n",
      "File existed: /data1/kaggle/imaterialist-challenge-furniture-2018/feature/feature_InceptionResNetV2_20180401-224426.h5\n",
      "File existed: /data1/kaggle/imaterialist-challenge-furniture-2018/feature/feature_InceptionResNetV2_20180402-023138.h5\n",
      "File existed: /data1/kaggle/imaterialist-challenge-furniture-2018/feature/feature_InceptionResNetV2_20180402-062014.h5\n",
      "File existed: /data1/kaggle/imaterialist-challenge-furniture-2018/feature/feature_InceptionResNetV2_20180402-101021.h5\n",
      "File existed: /data1/kaggle/imaterialist-challenge-furniture-2018/feature/feature_InceptionResNetV2_20180402-140156.h5\n",
      "File existed: /data1/kaggle/imaterialist-challenge-furniture-2018/feature/feature_InceptionResNetV2_20180402-175506.h5\n",
      "File existed: /data1/kaggle/imaterialist-challenge-furniture-2018/feature/feature_InceptionResNetV2_20180402-214919.h5\n",
      "File existed: /data1/kaggle/imaterialist-challenge-furniture-2018/feature/feature_InceptionResNetV2_20180403-014551.h5\n",
      "File existed: /data1/kaggle/imaterialist-challenge-furniture-2018/feature/feature_InceptionResNetV2_20180406-070324.h5\n",
      "File existed: /data1/kaggle/imaterialist-challenge-furniture-2018/feature/feature_InceptionResNetV2_20180406-102130.h5\n",
      "File existed: /data1/kaggle/imaterialist-challenge-furniture-2018/feature/feature_InceptionResNetV2_20180406-123522.h5\n",
      "File existed: /data1/kaggle/imaterialist-challenge-furniture-2018/feature/feature_InceptionResNetV2_20180406-144857.h5\n",
      "File existed: /data1/kaggle/imaterialist-challenge-furniture-2018/feature/feature_InceptionResNetV2_150_20180406-230352.h5\n",
      "File existed: /data1/kaggle/imaterialist-challenge-furniture-2018/feature/feature_InceptionResNetV2_150_20180407-010446.h5\n",
      "File existed: /data1/kaggle/imaterialist-challenge-furniture-2018/feature/feature_InceptionResNetV2_150_20180407-031951.h5\n",
      "File existed: /data1/kaggle/imaterialist-challenge-furniture-2018/feature/feature_InceptionResNetV2_150_20180407-053509.h5\n",
      "File existed: /data1/kaggle/imaterialist-challenge-furniture-2018/feature/feature_InceptionResNetV2_150_20180407-075132.h5\n",
      "File existed: /data1/kaggle/imaterialist-challenge-furniture-2018/feature/feature_InceptionResNetV2_150_20180407-100849.h5\n",
      "File existed: /data1/kaggle/imaterialist-challenge-furniture-2018/feature/feature_InceptionResNetV2_150_20180407-122723.h5\n",
      "File existed: /data1/kaggle/imaterialist-challenge-furniture-2018/feature/feature_InceptionResNetV2_150_20180407-144712.h5\n",
      "File existed: /data1/kaggle/imaterialist-challenge-furniture-2018/feature/feature_InceptionResNetV2_150_20180407-170832.h5\n",
      "File existed: /data1/kaggle/imaterialist-challenge-furniture-2018/feature/feature_InceptionResNetV2_150_20180407-193230.h5\n",
      "True\n",
      "  300_20180415-150022\n",
      "  200_20180415-140848\n",
      "  150_20180415-131901\n",
      "  300_20180415-111333\n",
      "  450_20180409-115039\n",
      "  450_20180409-191753\n",
      "  450_20180410-032144\n",
      "  450_20180410-112448\n",
      "  450_20180410-193018\n",
      "  20180331-163122\n",
      "  20180401-185347\n",
      "  20180401-224426\n",
      "  20180402-023138\n",
      "  20180402-062014\n",
      "  20180402-101021\n",
      "  20180402-140156\n",
      "  20180402-175506\n",
      "  20180402-214919\n",
      "  20180403-014551\n",
      "  20180406-070324\n",
      "  20180406-102130\n",
      "  20180406-123522\n",
      "  20180406-144857\n",
      "  150_20180406-230352\n",
      "  150_20180407-010446\n",
      "  150_20180407-031951\n",
      "  150_20180407-053509\n",
      "  150_20180407-075132\n",
      "  150_20180407-100849\n",
      "  150_20180407-122723\n",
      "  150_20180407-144712\n",
      "  150_20180407-170832\n",
      "  150_20180407-193230\n"
     ]
    }
   ],
   "source": [
    "def is_files_existed(feature_folder, file_reg, model_names, time_strs):\n",
    "    for model_name in model_names:\n",
    "        for time_str in time_strs:\n",
    "            file_name = file_reg % (model_name, time_str)\n",
    "            file_path = os.path.join(feature_folder, file_name)\n",
    "            if not os.path.exists(file_path):\n",
    "                print('File not existed: %s' % file_path)\n",
    "                return False\n",
    "            else:\n",
    "                print('File existed: %s' % file_path)\n",
    "    return True\n",
    "\n",
    "# Test\n",
    "file_reg = 'feature_%s_%s.h5'\n",
    "model_names = [\n",
    "#     'MobileNet', \n",
    "#     'VGG16',\n",
    "#     'VGG19',\n",
    "#     'ResNet50',\n",
    "#     'DenseNet121',\n",
    "#     'DenseNet169',\n",
    "#     'DenseNet201',\n",
    "    'Xception',\n",
    "    'InceptionV3',\n",
    "    'InceptionResNetV2'\n",
    "]\n",
    "time_strs = [\n",
    "    '300_20180415-150022',\n",
    "    '200_20180415-140848',\n",
    "    '150_20180415-131901',\n",
    "    '300_20180415-111333',   \n",
    "    \n",
    "    '450_20180409-115039',\n",
    "    '450_20180409-191753',\n",
    "    '450_20180410-032144',\n",
    "    '450_20180410-112448',\n",
    "    '450_20180410-193018',\n",
    "    \n",
    "    '20180331-163122',\n",
    "    '20180401-185347',\n",
    "    '20180401-224426',\n",
    "    '20180402-023138',\n",
    "    '20180402-062014',\n",
    "    '20180402-101021',\n",
    "    '20180402-140156',\n",
    "    '20180402-175506',\n",
    "    '20180402-214919',\n",
    "    '20180403-014551',\n",
    "    \n",
    "    '20180406-070324',\n",
    "    '20180406-102130',\n",
    "    '20180406-123522',\n",
    "    '20180406-144857',\n",
    "    \n",
    "    '150_20180406-230352',\n",
    "    '150_20180407-010446',\n",
    "    '150_20180407-031951',\n",
    "    '150_20180407-053509',\n",
    "    '150_20180407-075132',\n",
    "    '150_20180407-100849',\n",
    "    '150_20180407-122723',\n",
    "    '150_20180407-144712',\n",
    "    '150_20180407-170832',\n",
    "    '150_20180407-193230'\n",
    "]\n",
    "\n",
    "print('*'*100)\n",
    "print(is_files_existed(feature_folder, file_reg, model_names, time_strs))\n",
    "\n",
    "\n",
    "def time_str_generator(time_strs):\n",
    "    while(1):\n",
    "        for time_str in time_strs:\n",
    "            print('  ' + time_str)\n",
    "            yield time_str\n",
    "            \n",
    "# Test\n",
    "time_str_gen = time_str_generator(time_strs)\n",
    "for i in range(len(time_strs)):\n",
    "    next(time_str_gen)"
   ]
  },
  {
   "cell_type": "code",
   "execution_count": 12,
   "metadata": {},
   "outputs": [
    {
     "name": "stderr",
     "output_type": "stream",
     "text": [
      "Using TensorFlow backend.\n"
     ]
    },
    {
     "name": "stdout",
     "output_type": "stream",
     "text": [
      "num_classes: 128\n",
      "********************************************************************************\n",
      "len(train_data): 194828\n",
      "batch_size: 1024\n",
      "steps_per_epoch_train: 950\n",
      "File existed: /data1/kaggle/imaterialist-challenge-furniture-2018/feature/feature_Xception_450_20180409-115039.h5\n",
      "File existed: /data1/kaggle/imaterialist-challenge-furniture-2018/feature/feature_Xception_450_20180409-191753.h5\n",
      "File existed: /data1/kaggle/imaterialist-challenge-furniture-2018/feature/feature_Xception_450_20180410-032144.h5\n",
      "File existed: /data1/kaggle/imaterialist-challenge-furniture-2018/feature/feature_Xception_450_20180410-112448.h5\n",
      "File existed: /data1/kaggle/imaterialist-challenge-furniture-2018/feature/feature_Xception_450_20180410-193018.h5\n",
      "File existed: /data1/kaggle/imaterialist-challenge-furniture-2018/feature/feature_InceptionV3_450_20180409-115039.h5\n",
      "File existed: /data1/kaggle/imaterialist-challenge-furniture-2018/feature/feature_InceptionV3_450_20180409-191753.h5\n",
      "File existed: /data1/kaggle/imaterialist-challenge-furniture-2018/feature/feature_InceptionV3_450_20180410-032144.h5\n",
      "File existed: /data1/kaggle/imaterialist-challenge-furniture-2018/feature/feature_InceptionV3_450_20180410-112448.h5\n",
      "File existed: /data1/kaggle/imaterialist-challenge-furniture-2018/feature/feature_InceptionV3_450_20180410-193018.h5\n",
      "File existed: /data1/kaggle/imaterialist-challenge-furniture-2018/feature/feature_InceptionResNetV2_450_20180409-115039.h5\n",
      "File existed: /data1/kaggle/imaterialist-challenge-furniture-2018/feature/feature_InceptionResNetV2_450_20180409-191753.h5\n",
      "File existed: /data1/kaggle/imaterialist-challenge-furniture-2018/feature/feature_InceptionResNetV2_450_20180410-032144.h5\n",
      "File existed: /data1/kaggle/imaterialist-challenge-furniture-2018/feature/feature_InceptionResNetV2_450_20180410-112448.h5\n",
      "File existed: /data1/kaggle/imaterialist-challenge-furniture-2018/feature/feature_InceptionResNetV2_450_20180410-193018.h5\n",
      "  450_20180409-115039\n",
      "(1024, 5632) (1024, 128)\n",
      "(1024, 5632) (1024, 128)\n",
      "********************************************************************************\n",
      "len(val_data): 6400\n",
      "batch_size: 1024\n",
      "steps_per_epoch_val: 6\n",
      "File existed: /data1/kaggle/imaterialist-challenge-furniture-2018/feature/feature_Xception_450_20180409-115039.h5\n",
      "File existed: /data1/kaggle/imaterialist-challenge-furniture-2018/feature/feature_Xception_450_20180409-191753.h5\n",
      "File existed: /data1/kaggle/imaterialist-challenge-furniture-2018/feature/feature_Xception_450_20180410-032144.h5\n",
      "File existed: /data1/kaggle/imaterialist-challenge-furniture-2018/feature/feature_Xception_450_20180410-112448.h5\n",
      "File existed: /data1/kaggle/imaterialist-challenge-furniture-2018/feature/feature_Xception_450_20180410-193018.h5\n",
      "File existed: /data1/kaggle/imaterialist-challenge-furniture-2018/feature/feature_InceptionV3_450_20180409-115039.h5\n",
      "File existed: /data1/kaggle/imaterialist-challenge-furniture-2018/feature/feature_InceptionV3_450_20180409-191753.h5\n",
      "File existed: /data1/kaggle/imaterialist-challenge-furniture-2018/feature/feature_InceptionV3_450_20180410-032144.h5\n",
      "File existed: /data1/kaggle/imaterialist-challenge-furniture-2018/feature/feature_InceptionV3_450_20180410-112448.h5\n",
      "File existed: /data1/kaggle/imaterialist-challenge-furniture-2018/feature/feature_InceptionV3_450_20180410-193018.h5\n",
      "File existed: /data1/kaggle/imaterialist-challenge-furniture-2018/feature/feature_InceptionResNetV2_450_20180409-115039.h5\n",
      "File existed: /data1/kaggle/imaterialist-challenge-furniture-2018/feature/feature_InceptionResNetV2_450_20180409-191753.h5\n",
      "File existed: /data1/kaggle/imaterialist-challenge-furniture-2018/feature/feature_InceptionResNetV2_450_20180410-032144.h5\n",
      "File existed: /data1/kaggle/imaterialist-challenge-furniture-2018/feature/feature_InceptionResNetV2_450_20180410-112448.h5\n",
      "File existed: /data1/kaggle/imaterialist-challenge-furniture-2018/feature/feature_InceptionResNetV2_450_20180410-193018.h5\n",
      "  450_20180409-115039\n",
      "(1024, 5632) (1024, 128)\n",
      "(1024, 5632) (1024, 128)\n",
      "data_dim: 5632\n",
      "********************************************************************************\n",
      "(191261, 5632)\n",
      "191261\n",
      "(6301, 5632)\n",
      "6301\n",
      "CPU times: user 14.8 s, sys: 10.6 s, total: 25.3 s\n",
      "Wall time: 25.9 s\n"
     ]
    }
   ],
   "source": [
    "%%time\n",
    "from keras.utils.np_utils import to_categorical\n",
    "from sklearn.utils import shuffle\n",
    "\n",
    "def load_time_str_feature_data(data_str, feature_folder, file_reg, model_names, time_str):\n",
    "    x_data_time_strs = []\n",
    "    y_data_time_strs = None\n",
    "    for model_name in model_names:\n",
    "        x_data_time_str, y_data_time_str = load_h5_data(data_str, feature_folder, file_reg, model_name, time_str)\n",
    "        # Around data to 3 decimals to calculate computation\n",
    "        x_data_time_str = np.round(x_data_time_str, decimals=3)\n",
    "        x_data_time_strs.append(x_data_time_str)\n",
    "        y_data_time_strs = y_data_time_str\n",
    "    x_data_time_strs = np.concatenate(x_data_time_strs, axis=-1)\n",
    "#     print(x_data_time_strs.shape)\n",
    "#     print(y_data_time_strs.shape)\n",
    "    return x_data_time_strs, y_data_time_strs\n",
    "\n",
    "def data_generator_folder(data_str, feature_folder, file_reg, model_names, time_strs, batch_size, num_classes):\n",
    "    assert is_files_existed(feature_folder, file_reg, model_names, time_strs)\n",
    "\n",
    "    time_str_gen = time_str_generator(time_strs)\n",
    "    x_data, y_data = load_time_str_feature_data(data_str, feature_folder, file_reg, model_names, next(time_str_gen))\n",
    "#     x_data, y_data = shuffle(x_data, y_data, random_state=2018)\n",
    "    x_data, y_data = shuffle(x_data, y_data, random_state=None)\n",
    "    len_x_data = len(x_data)\n",
    "    start_index = 0\n",
    "    end_index = 0\n",
    "    while(1):\n",
    "        end_index = start_index + batch_size\n",
    "        if end_index < len_x_data:\n",
    "#             print(start_index, end_index, end=' ')\n",
    "            x_batch = x_data[start_index: end_index, :]\n",
    "            y_batch = y_data[start_index: end_index]\n",
    "            y_batch_cat = to_categorical(y_batch, num_classes)\n",
    "            \n",
    "            start_index = start_index + batch_size\n",
    "#             print(x_batch.shape, y_batch_cat.shape)\n",
    "            yield x_batch, y_batch_cat\n",
    "        else:\n",
    "            end_index = end_index-len_x_data\n",
    "#             print(start_index, end_index, end=' ')\n",
    "            x_data_old = np.array(x_data[start_index:, :], copy=True)\n",
    "            y_data_old = np.array(y_data[start_index:], copy=True)\n",
    "            # Load new datas\n",
    "            x_data, y_data = load_time_str_feature_data(data_str, feature_folder, file_reg, model_names, next(time_str_gen))\n",
    "#             x_data, y_data = shuffle(x_data, y_data, random_state=2018)\n",
    "            x_data, y_data = shuffle(x_data, y_data, random_state=None)\n",
    "            len_x_data = len(x_data)\n",
    "            gc.collect()\n",
    "            x_batch = np.vstack((x_data_old, x_data[:end_index, :]))\n",
    "            y_batch = np.concatenate([y_data_old, y_data[:end_index]])\n",
    "            y_batch_cat = to_categorical(y_batch, num_classes)\n",
    "            \n",
    "            start_index = end_index\n",
    "#             print(x_batch.shape, y_batch_cat.shape)\n",
    "            yield x_batch, y_batch_cat\n",
    "        \n",
    "    \n",
    "# x_train = np.concatenate([x_train_Xception, x_train_InceptionV3, x_train_InceptionResNetV2], axis=-1)\n",
    "\n",
    "num_classes = len(list(set(train_label_id)))\n",
    "print('num_classes: %s' % num_classes)\n",
    "\n",
    "# Test\n",
    "file_reg = 'feature_%s_%s.h5'\n",
    "model_names = [\n",
    "#     'MobileNet', \n",
    "#     'VGG16',\n",
    "#     'VGG19',\n",
    "#     'ResNet50',\n",
    "#     'DenseNet121',\n",
    "#     'DenseNet169',\n",
    "#     'DenseNet201',\n",
    "    'Xception',\n",
    "    'InceptionV3',\n",
    "    'InceptionResNetV2'\n",
    "]\n",
    "time_strs = [\n",
    "#     '300_20180415-150022',\n",
    "#     '200_20180415-140848',\n",
    "#     '150_20180415-131901',\n",
    "#     '300_20180415-111333',\n",
    "\n",
    "    '450_20180409-115039',\n",
    "    '450_20180409-191753',\n",
    "    '450_20180410-032144',\n",
    "    '450_20180410-112448',\n",
    "    '450_20180410-193018',\n",
    "    \n",
    "#     '20180331-163122',\n",
    "#     '20180401-185347',\n",
    "#     '20180401-224426',\n",
    "#     '20180402-023138',\n",
    "#     '20180402-062014',\n",
    "#     '20180402-101021',\n",
    "#     '20180402-140156',\n",
    "#     '20180402-175506',\n",
    "#     '20180402-214919',\n",
    "#     '20180403-014551',\n",
    "    \n",
    "#     '20180406-070324',\n",
    "#     '20180406-102130',\n",
    "#     '20180406-123522',\n",
    "#     '20180406-144857',\n",
    "    \n",
    "#     '150_20180406-230352',\n",
    "#     '150_20180407-010446',\n",
    "#     '150_20180407-031951',\n",
    "#     '150_20180407-053509',\n",
    "#     '150_20180407-075132',\n",
    "#     '150_20180407-100849',\n",
    "#     '150_20180407-122723',\n",
    "#     '150_20180407-144712',\n",
    "#     '150_20180407-170832',\n",
    "#     '150_20180407-193230'\n",
    "]\n",
    "\n",
    "print('*' * 80)\n",
    "len_train_csv = train_csv.shape[0]\n",
    "steps_per_epoch_train = int(len_train_csv/batch_size) * len(time_strs)\n",
    "print('len(train_data): %s' % len_train_csv)\n",
    "print('batch_size: %s' % batch_size)\n",
    "print('steps_per_epoch_train: %s' % steps_per_epoch_train)\n",
    "\n",
    "train_gen = data_generator_folder('train', feature_folder, file_reg, model_names, time_strs, batch_size, num_classes)\n",
    "batch_data = next(train_gen)\n",
    "print(batch_data[0].shape, batch_data[1].shape)\n",
    "batch_data = next(train_gen)\n",
    "print(batch_data[0].shape, batch_data[1].shape)\n",
    "# for i in range(steps_per_epoch_train*5):\n",
    "#     next(train_gen)\n",
    "\n",
    "print('*' * 80)\n",
    "len_val_csv = val_csv.shape[0]\n",
    "steps_per_epoch_val = int(len_val_csv/batch_size)\n",
    "print('len(val_data): %s' % len_val_csv)\n",
    "print('batch_size: %s' % batch_size)\n",
    "print('steps_per_epoch_val: %s' % steps_per_epoch_val)\n",
    "val_gen = data_generator_folder('val', feature_folder, file_reg, model_names, time_strs, batch_size, num_classes)\n",
    "batch_data = next(val_gen)\n",
    "print(batch_data[0].shape, batch_data[1].shape)\n",
    "batch_data = next(val_gen)\n",
    "print(batch_data[0].shape, batch_data[1].shape)\n",
    "\n",
    "data_dim = batch_data[0].shape[1]\n",
    "print('data_dim: %s' % data_dim)\n",
    "\n",
    "print('*' * 80)\n",
    "x_train, y_train = load_time_str_feature_data('train', feature_folder, file_reg, model_names, time_strs[0])\n",
    "x_val, y_val = load_time_str_feature_data('val', feature_folder, file_reg, model_names, time_strs[0])\n",
    "print(x_train.shape)\n",
    "print(len(y_train))\n",
    "print(x_val.shape)\n",
    "print(len(y_val))"
   ]
  },
  {
   "cell_type": "code",
   "execution_count": 13,
   "metadata": {},
   "outputs": [
    {
     "name": "stdout",
     "output_type": "stream",
     "text": [
      "(12652, 5632)\n"
     ]
    }
   ],
   "source": [
    "def load_time_str_feature_test(feature_folder, file_reg, model_names, time_str):\n",
    "    x_test_time_strs = []\n",
    "    for model_name in model_names:\n",
    "        file_name = file_reg % (model_name, time_str)\n",
    "        file_path = os.path.join(feature_folder, file_name)\n",
    "        x_test_time_str = load_h5_test(feature_folder, file_reg, model_name, time_str)\n",
    "        x_test_time_str = np.round(x_test_time_str, decimals=3)\n",
    "        x_test_time_strs.append(x_test_time_str)\n",
    "    x_test_time_strs = np.concatenate(x_test_time_strs, axis=-1)\n",
    "#     print(x_test_time_strs.shape)\n",
    "    return x_test_time_strs\n",
    "\n",
    "x_test = load_time_str_feature_test(feature_folder, file_reg, model_names, time_strs[0])\n",
    "print(x_test.shape)"
   ]
  },
  {
   "cell_type": "code",
   "execution_count": null,
   "metadata": {},
   "outputs": [],
   "source": []
  },
  {
   "cell_type": "markdown",
   "metadata": {},
   "source": [
    "## Build NN"
   ]
  },
  {
   "cell_type": "code",
   "execution_count": 14,
   "metadata": {},
   "outputs": [],
   "source": [
    "from keras.utils.np_utils import to_categorical # convert to one-hot-encoding\n",
    "from keras.models import Sequential\n",
    "from keras.layers import Dense, Dropout, Input, Flatten, Conv2D, MaxPooling2D, BatchNormalization, LSTM\n",
    "from keras.optimizers import Adam\n",
    "from keras.preprocessing.image import ImageDataGenerator\n",
    "from keras.callbacks import LearningRateScheduler, TensorBoard, EarlyStopping"
   ]
  },
  {
   "cell_type": "code",
   "execution_count": 15,
   "metadata": {},
   "outputs": [
    {
     "name": "stdout",
     "output_type": "stream",
     "text": [
      "0.0001  0.0001 0.0001  0.0001 0.0001  0.0001 0.0001  0.0001 0.0001  0.0001 0.0001  0.0001 0.0001  0.0001 0.0001  0.0001 0.0001  0.0001 0.0001  0.0001 0.0001  0.0001 0.0001  0.0001 0.0001  0.0001 0.0001  0.0001 0.0001  0.0001 \n",
      "log_dir:/data1/kaggle/imaterialist-challenge-furniture-2018/log/ic_furniture2018_TrainPredict_Mix3model_20180429_112205\n"
     ]
    }
   ],
   "source": [
    "def get_lr(x):\n",
    "#     lr = round(3e-4 * 0.96 ** x, 6)\n",
    "    if x <= 10:\n",
    "        lr = 3e-4\n",
    "    \n",
    "    if x <= 15:\n",
    "        lr = 1e-4\n",
    "    else:\n",
    "        lr = 5e-5\n",
    "\n",
    "#     lr = 3e-4\n",
    "    print(lr, end='  ')\n",
    "    return lr\n",
    "\n",
    "for i in range(epochs):\n",
    "    print(get_lr(i), end=' ')\n",
    "# annealer = LearningRateScheduler(lambda x: 1e-3 * 0.9 ** x)\n",
    "annealer = LearningRateScheduler(get_lr)\n",
    "\n",
    "# early_stop = EarlyStopping(monitor='acc', min_delta=0.001, patience=0.0005, verbose=0, mode='auto')\n",
    "\n",
    "log_dir = os.path.join(log_folder, run_name)\n",
    "print('\\nlog_dir:' + log_dir)\n",
    "tensorBoard = TensorBoard(log_dir=log_dir)\n",
    "\n",
    "callbacks = []\n",
    "# callbacks = [early_stop]"
   ]
  },
  {
   "cell_type": "code",
   "execution_count": 16,
   "metadata": {},
   "outputs": [
    {
     "name": "stdout",
     "output_type": "stream",
     "text": [
      "_________________________________________________________________\n",
      "Layer (type)                 Output Shape              Param #   \n",
      "=================================================================\n",
      "dense_1 (Dense)              (None, 1024)              5768192   \n",
      "_________________________________________________________________\n",
      "batch_normalization_1 (Batch (None, 1024)              4096      \n",
      "_________________________________________________________________\n",
      "dropout_1 (Dropout)          (None, 1024)              0         \n",
      "_________________________________________________________________\n",
      "dense_2 (Dense)              (None, 1024)              1049600   \n",
      "_________________________________________________________________\n",
      "batch_normalization_2 (Batch (None, 1024)              4096      \n",
      "_________________________________________________________________\n",
      "dropout_2 (Dropout)          (None, 1024)              0         \n",
      "_________________________________________________________________\n",
      "dense_3 (Dense)              (None, 128)               131200    \n",
      "=================================================================\n",
      "Total params: 6,957,184\n",
      "Trainable params: 6,953,088\n",
      "Non-trainable params: 4,096\n",
      "_________________________________________________________________\n"
     ]
    }
   ],
   "source": [
    "# expected input data shape: (batch_size, timesteps, data_dim)\n",
    "model = Sequential()\n",
    "model.add(Dense(1024, input_shape=(data_dim,)))\n",
    "model.add(BatchNormalization())\n",
    "model.add(Dropout(0.3))\n",
    "model.add(Dense(1024, activation='relu'))\n",
    "model.add(BatchNormalization())\n",
    "model.add(Dropout(0.3))\n",
    "model.add(Dense(num_classes, activation='softmax'))\n",
    "\n",
    "# model.compile(loss='categorical_crossentropy',\n",
    "#               optimizer='rmsprop',\n",
    "#               metrics=['accuracy'])\n",
    "model.compile(optimizer=Adam(lr=1e-4),\n",
    "              loss='categorical_crossentropy',\n",
    "              metrics=['accuracy'])\n",
    "\n",
    "model.summary()"
   ]
  },
  {
   "cell_type": "code",
   "execution_count": 17,
   "metadata": {},
   "outputs": [
    {
     "name": "stdout",
     "output_type": "stream",
     "text": [
      "8\n"
     ]
    }
   ],
   "source": [
    "cpu_amount = cpu_count()\n",
    "print(cpu_amount)"
   ]
  },
  {
   "cell_type": "code",
   "execution_count": 18,
   "metadata": {},
   "outputs": [
    {
     "name": "stdout",
     "output_type": "stream",
     "text": [
      "Epoch 1/15\n",
      "  450_20180409-191753\n",
      "185/950 [====>.........................] - ETA: 12:16 - loss: 1.4950 - acc: 0.6157  450_20180410-032144\n",
      "375/950 [==========>...................] - ETA: 9:20 - loss: 1.4540 - acc: 0.6166  450_20180410-112448\n",
      "559/950 [================>.............] - ETA: 6:25 - loss: 1.3578 - acc: 0.6359  450_20180410-193018\n",
      "746/950 [======================>.......] - ETA: 3:23 - loss: 1.2828 - acc: 0.6516  450_20180409-115039\n",
      "932/950 [============================>.] - ETA: 14s - loss: 1.2255 - acc: 0.6642  450_20180409-191753\n",
      "949/950 [============================>.] - ETA: 0s - loss: 1.2169 - acc: 0.6662  450_20180409-191753\n",
      "  450_20180410-032144\n",
      "  450_20180410-112448\n",
      "950/950 [==============================] - 823s 866ms/step - loss: 1.2164 - acc: 0.6663 - val_loss: 0.9011 - val_acc: 0.7396\n",
      "Epoch 2/15\n",
      "135/950 [===>..........................] - ETA: 30s - loss: 0.7062 - acc: 0.7876  450_20180410-032144\n",
      "356/950 [==========>...................] - ETA: 5:09 - loss: 0.8141 - acc: 0.7599  450_20180410-112448\n",
      "543/950 [================>.............] - ETA: 4:38 - loss: 0.8334 - acc: 0.7547  450_20180410-193018\n",
      "730/950 [======================>.......] - ETA: 2:45 - loss: 0.8337 - acc: 0.7543  450_20180409-115039\n",
      "916/950 [===========================>..] - ETA: 27s - loss: 0.8292 - acc: 0.7554  450_20180409-191753\n",
      "947/950 [============================>.] - ETA: 2s - loss: 0.8226 - acc: 0.7571  450_20180410-193018\n",
      "  450_20180409-115039\n",
      "  450_20180409-191753\n",
      "950/950 [==============================] - 921s 970ms/step - loss: 0.8219 - acc: 0.7573 - val_loss: 1.0111 - val_acc: 0.7096\n",
      "Epoch 3/15\n",
      "153/950 [===>..........................] - ETA: 17s - loss: 0.5941 - acc: 0.8175  450_20180410-032144\n",
      "340/950 [=========>....................] - ETA: 28s - loss: 0.6928 - acc: 0.7911  450_20180410-112448\n",
      "527/950 [===============>..............] - ETA: 22s - loss: 0.7125 - acc: 0.7855  450_20180410-193018\n",
      "713/950 [=====================>........] - ETA: 13s - loss: 0.7161 - acc: 0.7845  450_20180409-115039\n",
      "900/950 [===========================>..] - ETA: 2s - loss: 0.7156 - acc: 0.7846  450_20180409-191753\n",
      "949/950 [============================>.] - ETA: 0s - loss: 0.7076 - acc: 0.7868  450_20180410-032144\n",
      "  450_20180410-112448\n",
      "  450_20180410-193018\n",
      "950/950 [==============================] - 69s 73ms/step - loss: 0.7075 - acc: 0.7868 - val_loss: 0.9648 - val_acc: 0.7277\n",
      "Epoch 4/15\n",
      "137/950 [===>..........................] - ETA: 30s - loss: 0.5305 - acc: 0.8344  450_20180410-032144\n",
      "324/950 [=========>....................] - ETA: 35s - loss: 0.6205 - acc: 0.8099  450_20180410-112448\n",
      "511/950 [===============>..............] - ETA: 26s - loss: 0.6383 - acc: 0.8048  450_20180410-193018\n",
      "697/950 [=====================>........] - ETA: 15s - loss: 0.6425 - acc: 0.8036  450_20180409-115039\n",
      "884/950 [==========================>...] - ETA: 4s - loss: 0.6425 - acc: 0.8035  450_20180409-191753\n",
      "949/950 [============================>.] - ETA: 0s - loss: 0.6335 - acc: 0.8060  450_20180409-115039\n",
      "  450_20180409-191753\n",
      "  450_20180410-032144\n",
      "950/950 [==============================] - 61s 64ms/step - loss: 0.6334 - acc: 0.8060 - val_loss: 0.8917 - val_acc: 0.7419\n",
      "Epoch 5/15\n",
      "121/950 [==>...........................] - ETA: 6:30 - loss: 0.4860 - acc: 0.8474  450_20180410-032144\n",
      "311/950 [========>.....................] - ETA: 8:09 - loss: 0.5690 - acc: 0.8241  450_20180410-112448\n",
      "494/950 [==============>...............] - ETA: 6:26 - loss: 0.5833 - acc: 0.8203  450_20180410-193018\n",
      "681/950 [====================>.........] - ETA: 3:56 - loss: 0.5870 - acc: 0.8192  450_20180409-115039\n",
      "868/950 [==========================>...] - ETA: 1:13 - loss: 0.5874 - acc: 0.8190  450_20180409-191753\n",
      "949/950 [============================>.] - ETA: 0s - loss: 0.5774 - acc: 0.8217  450_20180410-112448\n",
      "  450_20180410-193018\n",
      "  450_20180409-115039\n",
      "950/950 [==============================] - 914s 962ms/step - loss: 0.5773 - acc: 0.8218 - val_loss: 0.9567 - val_acc: 0.7339\n",
      "Epoch 6/15\n",
      "105/950 [==>...........................] - ETA: 1:44 - loss: 0.4538 - acc: 0.8560  450_20180410-032144\n",
      "292/950 [========>.....................] - ETA: 5:18 - loss: 0.5309 - acc: 0.8344  450_20180410-112448\n",
      "478/950 [==============>...............] - ETA: 4:21 - loss: 0.5435 - acc: 0.8307  450_20180410-193018\n",
      "665/950 [====================>.........] - ETA: 2:44 - loss: 0.5455 - acc: 0.8301  450_20180409-115039\n",
      "852/950 [=========================>....] - ETA: 1:05 - loss: 0.5456 - acc: 0.8301  450_20180409-191753\n",
      "949/950 [============================>.] - ETA: 0s - loss: 0.5345 - acc: 0.8332  450_20180409-191753\n",
      "  450_20180410-032144\n",
      "  450_20180410-112448\n",
      "950/950 [==============================] - 696s 733ms/step - loss: 0.5345 - acc: 0.8332 - val_loss: 0.7380 - val_acc: 0.7917\n",
      "Epoch 7/15\n",
      " 91/950 [=>............................] - ETA: 36s - loss: 0.4318 - acc: 0.8631  450_20180410-032144\n",
      "275/950 [=======>......................] - ETA: 7:34 - loss: 0.4987 - acc: 0.8435  450_20180410-112448\n",
      "462/950 [=============>................] - ETA: 6:30 - loss: 0.5093 - acc: 0.840  450_20180410-193018\n",
      "649/950 [===================>..........] - ETA: 4:20 - loss: 0.5107 - acc: 0.8400  450_20180409-115039\n",
      "836/950 [=========================>....] - ETA: 1:32 - loss: 0.5104 - acc: 0.8399  450_20180409-191753\n",
      "948/950 [============================>.] - ETA: 1s - loss: 0.4986 - acc: 0.8432  450_20180410-193018\n",
      "  450_20180409-115039\n",
      "  450_20180409-191753\n",
      "950/950 [==============================] - 804s 846ms/step - loss: 0.4984 - acc: 0.8433 - val_loss: 0.9383 - val_acc: 0.7419\n",
      "Epoch 8/15\n",
      " 50/950 [>.............................] - ETA: 26s - loss: 0.4068 - acc: 0.8694  450_20180410-032144\n",
      "259/950 [=======>......................] - ETA: 8:23 - loss: 0.4746 - acc: 0.8502  450_20180410-112448\n",
      "446/950 [=============>................] - ETA: 6:48 - loss: 0.4819 - acc: 0.8479  450_20180410-193018\n",
      "633/950 [==================>...........] - ETA: 4:33 - loss: 0.4818 - acc: 0.8480  450_20180409-115039\n",
      "822/950 [========================>.....] - ETA: 1:54 - loss: 0.4812 - acc: 0.8481  450_20180409-191753\n",
      "948/950 [============================>.] - ETA: 1s - loss: 0.4696 - acc: 0.8514  450_20180410-032144\n",
      "  450_20180410-112448\n",
      "  450_20180410-193018\n",
      "950/950 [==============================] - 874s 920ms/step - loss: 0.4695 - acc: 0.8514 - val_loss: 0.9410 - val_acc: 0.7424\n",
      "Epoch 9/15\n",
      " 53/950 [>.............................] - ETA: 26s - loss: 0.3802 - acc: 0.8775  450_20180410-032144\n",
      "243/950 [======>.......................] - ETA: 8:43 - loss: 0.4509 - acc: 0.8573  450_20180410-112448\n",
      "430/950 [============>.................] - ETA: 8:06 - loss: 0.4572 - acc: 0.8550  450_20180410-193018\n",
      "617/950 [==================>...........] - ETA: 5:18 - loss: 0.4567 - acc: 0.8550  450_20180409-115039\n",
      "804/950 [========================>.....] - ETA: 2:21 - loss: 0.4560 - acc: 0.8552  450_20180409-191753\n",
      "948/950 [============================>.] - ETA: 1s - loss: 0.4434 - acc: 0.8587  450_20180409-115039\n",
      "  450_20180409-191753\n",
      "  450_20180410-032144\n",
      "950/950 [==============================] - 972s 1s/step - loss: 0.4433 - acc: 0.8588 - val_loss: 0.8801 - val_acc: 0.7568\n",
      "Epoch 10/15\n",
      " 40/950 [>.............................] - ETA: 2:16 - loss: 0.3687 - acc: 0.8794  450_20180410-032144\n",
      "227/950 [======>.......................] - ETA: 11:02 - loss: 0.4337 - acc: 0.8610  450_20180410-112448\n",
      "414/950 [============>.................] - ETA: 8:16 - loss: 0.4359 - acc: 0.8608  450_20180410-193018\n",
      "603/950 [==================>...........] - ETA: 5:38 - loss: 0.4339 - acc: 0.8613  450_20180409-115039\n",
      "789/950 [=======================>......] - ETA: 2:39 - loss: 0.4326 - acc: 0.8615  450_20180409-191753\n",
      "948/950 [============================>.] - ETA: 1s - loss: 0.4199 - acc: 0.8652  450_20180410-112448\n",
      "  450_20180410-193018\n",
      "  450_20180409-115039\n",
      "950/950 [==============================] - 984s 1s/step - loss: 0.4197 - acc: 0.8653 - val_loss: 0.9589 - val_acc: 0.7349\n",
      "Epoch 11/15\n",
      " 24/950 [..............................] - ETA: 55s - loss: 0.3625 - acc: 0.8825  450_20180410-032144\n",
      "213/950 [=====>........................] - ETA: 7:47 - loss: 0.4152 - acc: 0.8662  450_20180410-112448\n"
     ]
    },
    {
     "name": "stdout",
     "output_type": "stream",
     "text": [
      "398/950 [===========>..................] - ETA: 3:33 - loss: 0.4147 - acc: 0.8663  450_20180410-193018\n",
      "587/950 [=================>............] - ETA: 3:04 - loss: 0.4129 - acc: 0.8670  450_20180409-115039\n",
      "771/950 [=======================>......] - ETA: 1:42 - loss: 0.4116 - acc: 0.8674  450_20180409-191753\n",
      "948/950 [============================>.] - ETA: 1s - loss: 0.3986 - acc: 0.8713  450_20180409-191753\n",
      "  450_20180410-032144\n",
      "  450_20180410-112448\n",
      "950/950 [==============================] - 584s 615ms/step - loss: 0.3985 - acc: 0.8713 - val_loss: 0.7214 - val_acc: 0.7998\n",
      "Epoch 12/15\n",
      "  8/950 [..............................] - ETA: 4:47 - loss: 0.3549 - acc: 0.8866  450_20180410-032144\n",
      "197/950 [=====>........................] - ETA: 57s - loss: 0.3996 - acc: 0.8713  450_20180410-112448\n",
      "382/950 [===========>..................] - ETA: 41s - loss: 0.3979 - acc: 0.8715  450_20180410-193018\n",
      "570/950 [=================>............] - ETA: 27s - loss: 0.3954 - acc: 0.8721  450_20180409-115039\n",
      "757/950 [======================>.......] - ETA: 13s - loss: 0.3932 - acc: 0.8728  450_20180409-191753\n",
      "944/950 [============================>.] - ETA: 0s - loss: 0.3811 - acc: 0.8764  450_20180410-032144\n",
      "949/950 [============================>.] - ETA: 0s - loss: 0.3811 - acc: 0.8764  450_20180410-193018\n",
      "  450_20180409-115039\n",
      "  450_20180409-191753\n",
      "950/950 [==============================] - 69s 72ms/step - loss: 0.3811 - acc: 0.8764 - val_loss: 0.9846 - val_acc: 0.7415\n",
      "Epoch 13/15\n",
      "179/950 [====>.........................] - ETA: 1:32 - loss: 0.3819 - acc: 0.8769  450_20180410-112448\n",
      "366/950 [==========>...................] - ETA: 4:21 - loss: 0.3801 - acc: 0.8770  450_20180410-193018\n",
      "554/950 [================>.............] - ETA: 3:38 - loss: 0.3772 - acc: 0.8777  450_20180409-115039\n",
      "739/950 [======================>.......] - ETA: 2:04 - loss: 0.3754 - acc: 0.8782  450_20180409-191753\n",
      "926/950 [============================>.] - ETA: 11s - loss: 0.3638 - acc: 0.8816  450_20180410-032144\n",
      "949/950 [============================>.] - ETA: 0s - loss: 0.3637 - acc: 0.8817  450_20180410-032144\n",
      "  450_20180410-112448\n",
      "  450_20180410-193018\n",
      "950/950 [==============================] - 463s 487ms/step - loss: 0.3637 - acc: 0.8817 - val_loss: 0.9505 - val_acc: 0.7498\n",
      "Epoch 14/15\n",
      "163/950 [====>.........................] - ETA: 35s - loss: 0.3665 - acc: 0.8807  450_20180410-112448\n",
      "351/950 [==========>...................] - ETA: 34s - loss: 0.3637 - acc: 0.8813  450_20180410-193018\n",
      "536/950 [===============>..............] - ETA: 33s - loss: 0.3615 - acc: 0.8819  450_20180409-115039\n",
      "723/950 [=====================>........] - ETA: 18s - loss: 0.3598 - acc: 0.8823  450_20180409-191753\n",
      "910/950 [===========================>..] - ETA: 3s - loss: 0.3489 - acc: 0.8857  450_20180410-032144\n",
      "949/950 [============================>.] - ETA: 0s - loss: 0.3491 - acc: 0.8856  450_20180409-115039\n",
      "  450_20180409-191753\n",
      "  450_20180410-032144\n",
      "950/950 [==============================] - 144s 151ms/step - loss: 0.3491 - acc: 0.8856 - val_loss: 0.9269 - val_acc: 0.7567\n",
      "Epoch 15/15\n",
      "147/950 [===>..........................] - ETA: 57s - loss: 0.3516 - acc: 0.8841  450_20180410-112448\n",
      "333/950 [=========>....................] - ETA: 4:02 - loss: 0.3484 - acc: 0.8860  450_20180410-193018\n",
      "520/950 [===============>..............] - ETA: 2:06 - loss: 0.3462 - acc: 0.8865  450_20180409-115039\n",
      "709/950 [=====================>........] - ETA: 1:36 - loss: 0.3444 - acc: 0.8870  450_20180409-191753\n",
      "894/950 [===========================>..] - ETA: 25s - loss: 0.3350 - acc: 0.8897  450_20180410-032144\n",
      "948/950 [============================>.] - ETA: 1s - loss: 0.3352 - acc: 0.8897  450_20180410-112448\n",
      "  450_20180410-193018\n",
      "  450_20180409-115039\n",
      "950/950 [==============================] - 597s 628ms/step - loss: 0.3352 - acc: 0.8897 - val_loss: 0.9636 - val_acc: 0.7498\n",
      "CPU times: user 15min 43s, sys: 17min 33s, total: 33min 17s\n",
      "Wall time: 2h 29min 38s\n"
     ]
    }
   ],
   "source": [
    "%%time\n",
    "hist = model.fit_generator(train_gen,\n",
    "    steps_per_epoch=steps_per_epoch_train,\n",
    "    epochs=epochs, #Increase this when not on Kaggle kernel\n",
    "    verbose=1,  #1 for ETA, 0 for silent\n",
    "    callbacks=callbacks,\n",
    "    max_queue_size=batch_size,\n",
    "    workers=cpu_amount,\n",
    "    use_multiprocessing=False,\n",
    "    validation_data=val_gen,\n",
    "    validation_steps=steps_per_epoch_val)"
   ]
  },
  {
   "cell_type": "code",
   "execution_count": 19,
   "metadata": {},
   "outputs": [
    {
     "name": "stdout",
     "output_type": "stream",
     "text": [
      "  450_20180409-191753\n",
      "  450_20180410-032144\n",
      "  450_20180410-112448\n",
      "  450_20180410-193018\n",
      "  450_20180409-115039\n",
      "  450_20180409-191753\n",
      "Final loss: 0.9117, final accuracy: 0.7595\n"
     ]
    }
   ],
   "source": [
    "final_loss, final_acc = model.evaluate_generator(val_gen, steps=steps_per_epoch_val * len(time_strs))\n",
    "print(\"Final loss: {0:.4f}, final accuracy: {1:.4f}\".format(final_loss, final_acc))"
   ]
  },
  {
   "cell_type": "code",
   "execution_count": 20,
   "metadata": {},
   "outputs": [
    {
     "name": "stdout",
     "output_type": "stream",
     "text": [
      "ic_furniture2018_TrainPredict_Mix3model_20180429_112205_7594\n"
     ]
    }
   ],
   "source": [
    "run_name_acc = run_name + '_' + str(int(final_acc*10000)).zfill(4)\n",
    "print(run_name_acc)"
   ]
  },
  {
   "cell_type": "code",
   "execution_count": 21,
   "metadata": {},
   "outputs": [
    {
     "name": "stdout",
     "output_type": "stream",
     "text": [
      "Index(['acc', 'loss', 'val_acc', 'val_loss', 'epoch'], dtype='object')\n"
     ]
    }
   ],
   "source": [
    "histories = pd.DataFrame(hist.history)\n",
    "histories['epoch'] = hist.epoch\n",
    "print(histories.columns)\n",
    "histories_file = os.path.join(model_folder,  'hist_%s.csv' % run_name_acc)\n",
    "histories.to_csv(histories_file, index=False)"
   ]
  },
  {
   "cell_type": "code",
   "execution_count": 22,
   "metadata": {},
   "outputs": [
    {
     "data": {
      "image/png": "[encoded data removed]",
      "text/plain": [
       "<Figure size 432x288 with 1 Axes>"
      ]
     },
     "metadata": {},
     "output_type": "display_data"
    },
    {
     "data": {
      "image/png": "[encoded data removed]",
      "text/plain": [
       "<Figure size 432x288 with 1 Axes>"
      ]
     },
     "metadata": {},
     "output_type": "display_data"
    }
   ],
   "source": [
    "import matplotlib.pyplot as plt\n",
    "%matplotlib inline\n",
    "\n",
    "plt.plot(hist.history['loss'], color='b')\n",
    "plt.plot(hist.history['val_loss'], color='r')\n",
    "plt.show()\n",
    "plt.plot(hist.history['acc'], color='b')\n",
    "plt.plot(hist.history['val_acc'], color='r')\n",
    "plt.show()"
   ]
  },
  {
   "cell_type": "code",
   "execution_count": 23,
   "metadata": {},
   "outputs": [],
   "source": [
    "def save_network(model, run_name):\n",
    "    cwd = os.getcwd()\n",
    "    modelPath = os.path.join(cwd, 'model')\n",
    "    if not os.path.isdir(modelPath):\n",
    "        os.mkdir(modelPath)\n",
    "    weigthsFile = os.path.join(modelPath, run_name + '.h5')\n",
    "    model.save(weigthsFile)\n",
    "save_network(model, run_name_acc)"
   ]
  },
  {
   "cell_type": "markdown",
   "metadata": {},
   "source": [
    "## Predict"
   ]
  },
  {
   "cell_type": "code",
   "execution_count": 24,
   "metadata": {},
   "outputs": [
    {
     "name": "stdout",
     "output_type": "stream",
     "text": [
      "(191261, 128)\n",
      "(191261,)\n",
      "0.9311203015774256\n",
      "CPU times: user 9.26 s, sys: 3.6 s, total: 12.9 s\n",
      "Wall time: 8.93 s\n"
     ]
    }
   ],
   "source": [
    "%%time\n",
    "y_train_proba = model.predict(x_train)\n",
    "print(y_train_proba.shape)\n",
    "y_train_pred = np.argmax(y_train_proba, -1)\n",
    "print(y_train_pred.shape)\n",
    "print(accuracy_score(y_train, y_train_pred))"
   ]
  },
  {
   "cell_type": "code",
   "execution_count": 25,
   "metadata": {},
   "outputs": [
    {
     "name": "stdout",
     "output_type": "stream",
     "text": [
      "(6301, 128)\n",
      "(6301,)\n",
      "0.8066973496270433\n",
      "CPU times: user 304 ms, sys: 112 ms, total: 416 ms\n",
      "Wall time: 286 ms\n"
     ]
    }
   ],
   "source": [
    "%%time\n",
    "y_val_proba = model.predict(x_val)\n",
    "print(y_val_proba.shape)\n",
    "y_val_pred = np.argmax(y_val_proba, -1)\n",
    "print(y_val_pred.shape)\n",
    "print(accuracy_score(y_val, y_val_pred))"
   ]
  },
  {
   "cell_type": "code",
   "execution_count": 26,
   "metadata": {},
   "outputs": [
    {
     "name": "stdout",
     "output_type": "stream",
     "text": [
      "(12652, 128)\n",
      "(12652,)\n",
      "CPU times: user 636 ms, sys: 216 ms, total: 852 ms\n",
      "Wall time: 588 ms\n"
     ]
    }
   ],
   "source": [
    "%%time\n",
    "y_test_proba = model.predict(x_test)\n",
    "print(y_test_proba.shape)\n",
    "y_test_pred = np.argmax(y_test_proba, -1)\n",
    "print(y_test_pred.shape)"
   ]
  },
  {
   "cell_type": "code",
   "execution_count": 27,
   "metadata": {},
   "outputs": [
    {
     "name": "stdout",
     "output_type": "stream",
     "text": [
      "['7349.jpg', '8809.jpg', '6409.jpg', '5631.jpg', '9579.jpg', '7198.jpg', '6107.jpg', '10190.jpg', '5354.jpg', '10962.jpg']\n",
      "Found 12652 images belonging to 1 classes.\n",
      "test_generator\n",
      "12652\n"
     ]
    }
   ],
   "source": [
    "# 这里证明os.listdir()得到的图片名称list不正确\n",
    "files = os.listdir(os.path.join(test_folder, 'test'))\n",
    "print(files[:10])\n",
    "\n",
    "# 这里证明ImageDataGenerator()得到的图片名称list才是正确\n",
    "gen = ImageDataGenerator()\n",
    "image_size = (299, 299)\n",
    "test_generator  = gen.flow_from_directory(test_folder, image_size, shuffle=False, batch_size=batch_size)\n",
    "print('test_generator')\n",
    "print(len(test_generator.filenames))"
   ]
  },
  {
   "cell_type": "code",
   "execution_count": 28,
   "metadata": {},
   "outputs": [
    {
     "name": "stdout",
     "output_type": "stream",
     "text": [
      "[b'test/1.jpg', b'test/10.jpg', b'test/100.jpg', b'test/1000.jpg', b'test/10000.jpg', b'test/10001.jpg', b'test/10002.jpg', b'test/10003.jpg', b'test/10004.jpg', b'test/10005.jpg']\n",
      "File saved: \t/data1/kaggle/imaterialist-challenge-furniture-2018/model/proba_ic_furniture2018_TrainPredict_Mix3model_20180429_112205_7594.p\n",
      "File loaded: \t/data1/kaggle/imaterialist-challenge-furniture-2018/model/proba_ic_furniture2018_TrainPredict_Mix3model_20180429_112205_7594.p\n",
      "['test/1.jpg', 'test/10.jpg', 'test/100.jpg', 'test/1000.jpg', 'test/10000.jpg', 'test/10001.jpg', 'test/10002.jpg', 'test/10003.jpg', 'test/10004.jpg', 'test/10005.jpg']\n",
      "(191261, 128)\n",
      "(191261,)\n",
      "(6301, 128)\n",
      "(6301,)\n",
      "(12652, 128)\n",
      "12652\n"
     ]
    }
   ],
   "source": [
    "def save_proba(y_train_proba, y_train, y_val_proba, y_val, y_test_proba, test_filenames, file_name):\n",
    "    test_filenames = [n.encode('utf8') for n in test_filenames]\n",
    "    print(test_filenames[:10])\n",
    "    if os.path.exists(file_name):\n",
    "        os.remove(file_name)\n",
    "        print('File removed: \\t%s' % file_name)\n",
    "    with h5py.File(file_name) as h:\n",
    "        h.create_dataset('y_train_proba', data=y_train_proba)\n",
    "        h.create_dataset('y_train', data=y_train)\n",
    "        h.create_dataset('y_val_proba', data=y_val_proba)\n",
    "        h.create_dataset('y_val', data=y_val)\n",
    "        h.create_dataset('y_test_proba', data=y_test_proba)\n",
    "        h.create_dataset('test_filenames', data=test_filenames)\n",
    "    print('File saved: \\t%s' % file_name)\n",
    "\n",
    "def load_proba(file_name):\n",
    "    with h5py.File(file_name, 'r') as h:\n",
    "        y_train_proba = np.array(h['y_train_proba'])\n",
    "        y_train = np.array(h['y_train'])\n",
    "        y_val_proba = np.array(h['y_val_proba'])\n",
    "        y_val = np.array(h['y_val'])\n",
    "        y_test_proba = np.array(h['y_test_proba'])\n",
    "        test_filenames = np.array(h['test_filenames'])\n",
    "    print('File loaded: \\t%s' % file_name)\n",
    "    test_filenames = [n.decode('utf8') for n in test_filenames]\n",
    "    print(test_filenames[:10])\n",
    "    \n",
    "    return y_train_proba, y_train, y_val_proba, y_val, y_test_proba, test_filenames\n",
    "\n",
    "\n",
    "y_proba_file = os.path.join(model_folder, 'proba_%s.p' % run_name_acc)\n",
    "save_proba(y_train_proba, y_train, y_val_proba, y_val, y_test_proba, test_generator.filenames, y_proba_file)\n",
    "y_train_proba, y_train, y_val_proba, y_val, y_test_proba, test_filenames = load_proba(y_proba_file)\n",
    "\n",
    "print(y_train_proba.shape)\n",
    "print(y_train.shape)\n",
    "print(y_val_proba.shape)\n",
    "print(y_val.shape)\n",
    "print(y_test_proba.shape)\n",
    "print(len(test_filenames))"
   ]
  },
  {
   "cell_type": "code",
   "execution_count": 29,
   "metadata": {},
   "outputs": [
    {
     "name": "stdout",
     "output_type": "stream",
     "text": [
      "(12652,)\n",
      "CPU times: user 20 ms, sys: 0 ns, total: 20 ms\n",
      "Wall time: 20.3 ms\n"
     ]
    }
   ],
   "source": [
    "%%time\n",
    "max_indexes = np.argmax(y_test_proba, -1)\n",
    "print(max_indexes.shape)\n",
    "\n",
    "test_dict = {}\n",
    "for pair in zip(test_filenames, max_indexes):\n",
    "    image_name, indx = pair[0], int(pair[1])\n",
    "    image_name = image_name.split('/')[-1]\n",
    "    image_id = int(image_name.split('.')[0])\n",
    "#     print(pair[0], image_name, image_id, indx, indx+1, type(image_id), type(indx))\n",
    "    test_dict[image_id] = indx + 1\n",
    "\n",
    "#确认图片的id是否能与ImageDataGenerator()对应上\n",
    "for name in test_generator.filenames[:10]:\n",
    "    image_name = name.split('/')[-1]\n",
    "    image_id = int(image_name.split('.')[0])\n",
    "#     print('%s\\t%s\\t%s' % (name, image_id, test_dict[image_id]))"
   ]
  },
  {
   "cell_type": "code",
   "execution_count": 30,
   "metadata": {},
   "outputs": [
    {
     "data": {
      "text/html": [
       "<div>\n",
       "<style scoped>\n",
       "    .dataframe tbody tr th:only-of-type {\n",
       "        vertical-align: middle;\n",
       "    }\n",
       "\n",
       "    .dataframe tbody tr th {\n",
       "        vertical-align: top;\n",
       "    }\n",
       "\n",
       "    .dataframe thead th {\n",
       "        text-align: right;\n",
       "    }\n",
       "</style>\n",
       "<table border=\"1\" class=\"dataframe\">\n",
       "  <thead>\n",
       "    <tr style=\"text-align: right;\">\n",
       "      <th></th>\n",
       "      <th>id</th>\n",
       "      <th>predicted</th>\n",
       "    </tr>\n",
       "  </thead>\n",
       "  <tbody>\n",
       "    <tr>\n",
       "      <th>0</th>\n",
       "      <td>1</td>\n",
       "      <td>57</td>\n",
       "    </tr>\n",
       "    <tr>\n",
       "      <th>1</th>\n",
       "      <td>2</td>\n",
       "      <td>74</td>\n",
       "    </tr>\n",
       "  </tbody>\n",
       "</table>\n",
       "</div>"
      ],
      "text/plain": [
       "   id  predicted\n",
       "0   1         57\n",
       "1   2         74"
      ]
     },
     "metadata": {},
     "output_type": "display_data"
    }
   ],
   "source": [
    "display(sample_submission_csv.head(2))"
   ]
  },
  {
   "cell_type": "code",
   "execution_count": 31,
   "metadata": {},
   "outputs": [
    {
     "name": "stdout",
     "output_type": "stream",
     "text": [
      "len(len_sample_submission_csv)=12800\n",
      "1 2 3 4 5 6 7 8 9 10 11 12 "
     ]
    },
    {
     "data": {
      "text/html": [
       "<div>\n",
       "<style scoped>\n",
       "    .dataframe tbody tr th:only-of-type {\n",
       "        vertical-align: middle;\n",
       "    }\n",
       "\n",
       "    .dataframe tbody tr th {\n",
       "        vertical-align: top;\n",
       "    }\n",
       "\n",
       "    .dataframe thead th {\n",
       "        text-align: right;\n",
       "    }\n",
       "</style>\n",
       "<table border=\"1\" class=\"dataframe\">\n",
       "  <thead>\n",
       "    <tr style=\"text-align: right;\">\n",
       "      <th></th>\n",
       "      <th>id</th>\n",
       "      <th>predicted</th>\n",
       "    </tr>\n",
       "  </thead>\n",
       "  <tbody>\n",
       "    <tr>\n",
       "      <th>0</th>\n",
       "      <td>1</td>\n",
       "      <td>12</td>\n",
       "    </tr>\n",
       "    <tr>\n",
       "      <th>1</th>\n",
       "      <td>2</td>\n",
       "      <td>61</td>\n",
       "    </tr>\n",
       "  </tbody>\n",
       "</table>\n",
       "</div>"
      ],
      "text/plain": [
       "   id  predicted\n",
       "0   1         12\n",
       "1   2         61"
      ]
     },
     "metadata": {},
     "output_type": "display_data"
    },
    {
     "name": "stdout",
     "output_type": "stream",
     "text": [
      "CPU times: user 12.5 s, sys: 544 ms, total: 13 s\n",
      "Wall time: 12.9 s\n"
     ]
    }
   ],
   "source": [
    "%%time\n",
    "len_sample_submission_csv = len(sample_submission_csv)\n",
    "print('len(len_sample_submission_csv)=%d' % len_sample_submission_csv)\n",
    "count = 0\n",
    "for i in range(len_sample_submission_csv):\n",
    "    image_id = int(sample_submission_csv.iloc[i, 0])\n",
    "    if image_id in test_dict:\n",
    "        pred_label = test_dict[image_id]\n",
    "#         print('%s\\t%s' % (image_id, pred_label))\n",
    "        sample_submission_csv.iloc[i, 1] = pred_label\n",
    "    else:\n",
    "#         print('%s\\t%s' % (image_id, 20))\n",
    "        sample_submission_csv.iloc[i, 1] = 20 # 属于20的类最多，所以全都设置成这个类，可能会比设置成其他得到的结果好\n",
    "    count += 1\n",
    "    if count % 1000 == 0:\n",
    "        print(int(count/1000), end=' ')\n",
    "display(sample_submission_csv.head(2))"
   ]
  },
  {
   "cell_type": "code",
   "execution_count": 32,
   "metadata": {},
   "outputs": [
    {
     "name": "stdout",
     "output_type": "stream",
     "text": [
      "[1, 2, 3, 4, 5, 6, 7, 8, 9, 10, 11, 12, 13, 14, 15, 16, 17, 18, 19, 20, 21, 22, 23, 24, 25, 26, 27, 28, 29, 30, 31, 32, 33, 34, 35, 36, 37, 38, 39, 40, 41, 42, 43, 44, 45, 46, 47, 48, 49, 50, 51, 52, 53, 54, 55, 56, 57, 58, 59, 60, 61, 62, 63, 64, 65, 66, 67, 68, 69, 70, 71, 72, 73, 74, 75, 76, 77, 78, 79, 80, 81, 82, 83, 84, 85, 86, 87, 88, 89, 90, 91, 92, 93, 94, 95, 96, 97, 98, 99, 100, 101, 102, 103, 104, 105, 106, 107, 108, 109, 110, 111, 112, 113, 114, 115, 116, 117, 118, 119, 120, 121, 122, 123, 124, 125, 126, 127, 128]\n"
     ]
    }
   ],
   "source": [
    "print(list(set(sample_submission_csv['predicted'])))"
   ]
  },
  {
   "cell_type": "code",
   "execution_count": 33,
   "metadata": {},
   "outputs": [],
   "source": [
    "pred_file = os.path.join(output_folder, 'pred_%s.csv' % run_name_acc)\n",
    "sample_submission_csv.to_csv(pred_file, index=None)"
   ]
  },
  {
   "cell_type": "code",
   "execution_count": 34,
   "metadata": {},
   "outputs": [
    {
     "name": "stdout",
     "output_type": "stream",
     "text": [
      "ic_furniture2018_TrainPredict_Mix3model_20180429_112205_7594\n",
      "time cost: 9061.06 s\n",
      "Done!\n"
     ]
    }
   ],
   "source": [
    "print(run_name_acc)\n",
    "\n",
    "t1 = time.time()\n",
    "print('time cost: %.2f s' % (t1-t0))\n",
    "print('Done!')"
   ]
  },
  {
   "cell_type": "code",
   "execution_count": null,
   "metadata": {},
   "outputs": [],
   "source": []
  }
 ],
 "metadata": {
  "kernelspec": {
   "display_name": "Python 3",
   "language": "python",
   "name": "python3"
  },
  "language_info": {
   "codemirror_mode": {
    "name": "ipython",
    "version": 3
   },
   "file_extension": ".py",
   "mimetype": "text/x-python",
   "name": "python",
   "nbconvert_exporter": "python",
   "pygments_lexer": "ipython3",
   "version": "3.6.4"
  }
 },
 "nbformat": 4,
 "nbformat_minor": 2
}
