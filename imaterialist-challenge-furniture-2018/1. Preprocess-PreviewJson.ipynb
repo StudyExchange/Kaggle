{
 "cells": [
  {
   "cell_type": "markdown",
   "metadata": {},
   "source": [
    "# 1. Preprocess-PreviewJson\n",
    "\n",
    "Reference：https://www.kaggle.com/codename007/simple-exploration-notebook-furniture"
   ]
  },
  {
   "cell_type": "markdown",
   "metadata": {},
   "source": [
    "## Import PKGs"
   ]
  },
  {
   "cell_type": "code",
   "execution_count": 1,
   "metadata": {
    "collapsed": true
   },
   "outputs": [],
   "source": [
    "import time\n",
    "import os\n",
    "import json\n",
    "import csv\n",
    "import zipfile\n",
    "import pickle\n",
    "from PIL import Image\n",
    "import shutil\n",
    "\n",
    "\n",
    "import numpy as np # linear algebra\n",
    "import pandas as pd # data processing, CSV file I/O (e.g. pd.read_csv)\n",
    "import matplotlib.pyplot as plt\n",
    "import matplotlib.image as mpimg\n",
    "import seaborn as sns\n",
    "%matplotlib inline\n",
    "from IPython.display import display"
   ]
  },
  {
   "cell_type": "markdown",
   "metadata": {},
   "source": [
    "## Run name"
   ]
  },
  {
   "cell_type": "code",
   "execution_count": 2,
   "metadata": {},
   "outputs": [
    {
     "name": "stdout",
     "output_type": "stream",
     "text": [
      "run_name: ic_furniture2018_Preprocess-PreviewJson_20180329_114646\n"
     ]
    }
   ],
   "source": [
    "project_name = 'ic_furniture2018'\n",
    "step_name = 'Preprocess-PreviewJson'\n",
    "time_str = time.strftime(\"%Y%m%d_%H%M%S\", time.localtime())\n",
    "run_name = project_name + '_' + step_name + '_' + time_str\n",
    "print('run_name: ' + run_name)"
   ]
  },
  {
   "cell_type": "markdown",
   "metadata": {},
   "source": [
    "## Project folder"
   ]
  },
  {
   "cell_type": "code",
   "execution_count": 3,
   "metadata": {},
   "outputs": [
    {
     "name": "stdout",
     "output_type": "stream",
     "text": [
      "input_folder: \t\t\t/data1/kaggle/imaterialist-challenge-furniture-2018/input\n",
      "output_folder: \t\t\t/data1/kaggle/imaterialist-challenge-furniture-2018/output\n",
      "model_folder: \t\t\t/data1/kaggle/imaterialist-challenge-furniture-2018/model\n",
      "feature_folder: \t\t/data1/kaggle/imaterialist-challenge-furniture-2018/feature\n",
      "post_pca_feature_folder: \t/data1/kaggle/imaterialist-challenge-furniture-2018/post_pca_feature\n",
      "log_folder: \t\t\t/data1/kaggle/imaterialist-challenge-furniture-2018/log\n",
      "\n",
      "train_json_file: \t\t/data1/kaggle/imaterialist-challenge-furniture-2018/input/train.json\n",
      "val_json_file: \t\t\t/data1/kaggle/imaterialist-challenge-furniture-2018/input/validation.json\n",
      "test_json_file: \t\t/data1/kaggle/imaterialist-challenge-furniture-2018/input/test.json\n",
      "\n",
      "train_csv_file: \t\t/data1/kaggle/imaterialist-challenge-furniture-2018/input/train.csv\n",
      "val_csv_file: \t\t\t/data1/kaggle/imaterialist-challenge-furniture-2018/input/validation.csv\n",
      "test_csv_file: \t\t\t/data1/kaggle/imaterialist-challenge-furniture-2018/input/test.csv\n",
      "\n",
      "sample_submission_csv_file: \t/data1/kaggle/imaterialist-challenge-furniture-2018/input/sample_submission_randomlabel.csv\n"
     ]
    }
   ],
   "source": [
    "cwd = os.getcwd()\n",
    "input_folder = os.path.join(cwd, 'input')\n",
    "output_folder = os.path.join(cwd, 'output')\n",
    "model_folder = os.path.join(cwd, 'model')\n",
    "feature_folder = os.path.join(cwd, 'feature')\n",
    "post_pca_feature_folder = os.path.join(cwd, 'post_pca_feature')\n",
    "log_folder = os.path.join(cwd, 'log')\n",
    "print('input_folder: \\t\\t\\t%s' % input_folder)\n",
    "print('output_folder: \\t\\t\\t%s' % output_folder)\n",
    "print('model_folder: \\t\\t\\t%s' % model_folder)\n",
    "print('feature_folder: \\t\\t%s' % feature_folder)\n",
    "print('post_pca_feature_folder: \\t%s' % post_pca_feature_folder)\n",
    "print('log_folder: \\t\\t\\t%s' % log_folder)\n",
    "\n",
    "org_train_folder = os.path.join(input_folder, 'org_train')\n",
    "org_val_folder = os.path.join(input_folder, 'org_val')\n",
    "org_test_folder = os.path.join(input_folder, 'org_test')\n",
    "train_folder = os.path.join(input_folder, 'data_train')\n",
    "val_folder = os.path.join(input_folder, 'data_val')\n",
    "test_folder = os.path.join(input_folder, 'data_test')\n",
    "test_sub_folder = os.path.join(test_folder, 'test')\n",
    "\n",
    "if not os.path.exists(post_pca_feature_folder):\n",
    "    os.mkdir(post_pca_feature_folder)\n",
    "    print('Create folder: %s' % post_pca_feature_folder)\n",
    "\n",
    "train_json_file = os.path.join(input_folder, 'train.json')\n",
    "val_json_file = os.path.join(input_folder, 'validation.json')\n",
    "test_json_file = os.path.join(input_folder, 'test.json')\n",
    "print('\\ntrain_json_file: \\t\\t%s' % train_json_file)\n",
    "print('val_json_file: \\t\\t\\t%s' % val_json_file)\n",
    "print('test_json_file: \\t\\t%s' % test_json_file)\n",
    "\n",
    "train_csv_file = os.path.join(input_folder, 'train.csv')\n",
    "val_csv_file = os.path.join(input_folder, 'validation.csv')\n",
    "test_csv_file = os.path.join(input_folder, 'test.csv')\n",
    "print('\\ntrain_csv_file: \\t\\t%s' % train_csv_file)\n",
    "print('val_csv_file: \\t\\t\\t%s' % val_csv_file)\n",
    "print('test_csv_file: \\t\\t\\t%s' % test_csv_file)\n",
    "\n",
    "sample_submission_csv_file = os.path.join(input_folder, 'sample_submission_randomlabel.csv')\n",
    "print('\\nsample_submission_csv_file: \\t%s' % sample_submission_csv_file)"
   ]
  },
  {
   "cell_type": "markdown",
   "metadata": {},
   "source": [
    "# Retrieving the Data"
   ]
  },
  {
   "cell_type": "code",
   "execution_count": 4,
   "metadata": {
    "collapsed": true
   },
   "outputs": [],
   "source": [
    "with open(train_json_file) as datafile1: #first check if it's a valid json file or not\n",
    "    data1 = json.load(datafile1)\n",
    "with open(val_json_file) as datafile2: #first check if it's a valid json file or not\n",
    "    data2 = json.load(datafile2)\n",
    "with open(test_json_file) as datafile3: #first check if it's a valid json file or not\n",
    "    data3 = json.load(datafile3)\n",
    "# test = pd.DataFrame(data2)    \n",
    "# test.shape"
   ]
  },
  {
   "cell_type": "markdown",
   "metadata": {},
   "source": [
    "## Convertng JSON format data into Tabular data"
   ]
  },
  {
   "cell_type": "code",
   "execution_count": 5,
   "metadata": {},
   "outputs": [
    {
     "data": {
      "text/plain": [
       "'df2'"
      ]
     },
     "metadata": {},
     "output_type": "display_data"
    },
    {
     "data": {
      "text/html": [
       "<div>\n",
       "<style>\n",
       "    .dataframe thead tr:only-child th {\n",
       "        text-align: right;\n",
       "    }\n",
       "\n",
       "    .dataframe thead th {\n",
       "        text-align: left;\n",
       "    }\n",
       "\n",
       "    .dataframe tbody tr th {\n",
       "        vertical-align: top;\n",
       "    }\n",
       "</style>\n",
       "<table border=\"1\" class=\"dataframe\">\n",
       "  <thead>\n",
       "    <tr style=\"text-align: right;\">\n",
       "      <th></th>\n",
       "      <th>image_id</th>\n",
       "      <th>label_id</th>\n",
       "    </tr>\n",
       "  </thead>\n",
       "  <tbody>\n",
       "    <tr>\n",
       "      <th>0</th>\n",
       "      <td>1</td>\n",
       "      <td>5</td>\n",
       "    </tr>\n",
       "    <tr>\n",
       "      <th>1</th>\n",
       "      <td>2</td>\n",
       "      <td>5</td>\n",
       "    </tr>\n",
       "    <tr>\n",
       "      <th>2</th>\n",
       "      <td>3</td>\n",
       "      <td>5</td>\n",
       "    </tr>\n",
       "    <tr>\n",
       "      <th>3</th>\n",
       "      <td>4</td>\n",
       "      <td>5</td>\n",
       "    </tr>\n",
       "    <tr>\n",
       "      <th>4</th>\n",
       "      <td>5</td>\n",
       "      <td>5</td>\n",
       "    </tr>\n",
       "  </tbody>\n",
       "</table>\n",
       "</div>"
      ],
      "text/plain": [
       "   image_id  label_id\n",
       "0         1         5\n",
       "1         2         5\n",
       "2         3         5\n",
       "3         4         5\n",
       "4         5         5"
      ]
     },
     "metadata": {},
     "output_type": "display_data"
    },
    {
     "data": {
      "text/plain": [
       "'fd2'"
      ]
     },
     "metadata": {},
     "output_type": "display_data"
    },
    {
     "data": {
      "text/html": [
       "<div>\n",
       "<style>\n",
       "    .dataframe thead tr:only-child th {\n",
       "        text-align: right;\n",
       "    }\n",
       "\n",
       "    .dataframe thead th {\n",
       "        text-align: left;\n",
       "    }\n",
       "\n",
       "    .dataframe tbody tr th {\n",
       "        vertical-align: top;\n",
       "    }\n",
       "</style>\n",
       "<table border=\"1\" class=\"dataframe\">\n",
       "  <thead>\n",
       "    <tr style=\"text-align: right;\">\n",
       "      <th></th>\n",
       "      <th>image_id</th>\n",
       "      <th>url</th>\n",
       "    </tr>\n",
       "  </thead>\n",
       "  <tbody>\n",
       "    <tr>\n",
       "      <th>0</th>\n",
       "      <td>1</td>\n",
       "      <td>[https://img13.360buyimg.com/imgzone/jfs/t2857...</td>\n",
       "    </tr>\n",
       "    <tr>\n",
       "      <th>1</th>\n",
       "      <td>2</td>\n",
       "      <td>[http://www.tengdakeli.cn/350/timg01/uploaded/...</td>\n",
       "    </tr>\n",
       "    <tr>\n",
       "      <th>2</th>\n",
       "      <td>3</td>\n",
       "      <td>[https://img13.360buyimg.com/imgzone/jfs/t8899...</td>\n",
       "    </tr>\n",
       "    <tr>\n",
       "      <th>3</th>\n",
       "      <td>4</td>\n",
       "      <td>[http://img4.tbcdn.cn/tfscom/i1/2855447419/TB2...</td>\n",
       "    </tr>\n",
       "    <tr>\n",
       "      <th>4</th>\n",
       "      <td>5</td>\n",
       "      <td>[http://a.vpimg4.com/upload/merchandise/287883...</td>\n",
       "    </tr>\n",
       "  </tbody>\n",
       "</table>\n",
       "</div>"
      ],
      "text/plain": [
       "   image_id                                                url\n",
       "0         1  [https://img13.360buyimg.com/imgzone/jfs/t2857...\n",
       "1         2  [http://www.tengdakeli.cn/350/timg01/uploaded/...\n",
       "2         3  [https://img13.360buyimg.com/imgzone/jfs/t8899...\n",
       "3         4  [http://img4.tbcdn.cn/tfscom/i1/2855447419/TB2...\n",
       "4         5  [http://a.vpimg4.com/upload/merchandise/287883..."
      ]
     },
     "metadata": {},
     "output_type": "display_data"
    },
    {
     "data": {
      "text/plain": [
       "'df2'"
      ]
     },
     "metadata": {},
     "output_type": "display_data"
    },
    {
     "data": {
      "text/html": [
       "<div>\n",
       "<style>\n",
       "    .dataframe thead tr:only-child th {\n",
       "        text-align: right;\n",
       "    }\n",
       "\n",
       "    .dataframe thead th {\n",
       "        text-align: left;\n",
       "    }\n",
       "\n",
       "    .dataframe tbody tr th {\n",
       "        vertical-align: top;\n",
       "    }\n",
       "</style>\n",
       "<table border=\"1\" class=\"dataframe\">\n",
       "  <thead>\n",
       "    <tr style=\"text-align: right;\">\n",
       "      <th></th>\n",
       "      <th>image_id</th>\n",
       "      <th>label_id</th>\n",
       "    </tr>\n",
       "  </thead>\n",
       "  <tbody>\n",
       "    <tr>\n",
       "      <th>0</th>\n",
       "      <td>1</td>\n",
       "      <td>38</td>\n",
       "    </tr>\n",
       "    <tr>\n",
       "      <th>1</th>\n",
       "      <td>2</td>\n",
       "      <td>63</td>\n",
       "    </tr>\n",
       "    <tr>\n",
       "      <th>2</th>\n",
       "      <td>3</td>\n",
       "      <td>33</td>\n",
       "    </tr>\n",
       "    <tr>\n",
       "      <th>3</th>\n",
       "      <td>4</td>\n",
       "      <td>126</td>\n",
       "    </tr>\n",
       "    <tr>\n",
       "      <th>4</th>\n",
       "      <td>5</td>\n",
       "      <td>18</td>\n",
       "    </tr>\n",
       "  </tbody>\n",
       "</table>\n",
       "</div>"
      ],
      "text/plain": [
       "   image_id  label_id\n",
       "0         1        38\n",
       "1         2        63\n",
       "2         3        33\n",
       "3         4       126\n",
       "4         5        18"
      ]
     },
     "metadata": {},
     "output_type": "display_data"
    },
    {
     "data": {
      "text/plain": [
       "'fd2'"
      ]
     },
     "metadata": {},
     "output_type": "display_data"
    },
    {
     "data": {
      "text/html": [
       "<div>\n",
       "<style>\n",
       "    .dataframe thead tr:only-child th {\n",
       "        text-align: right;\n",
       "    }\n",
       "\n",
       "    .dataframe thead th {\n",
       "        text-align: left;\n",
       "    }\n",
       "\n",
       "    .dataframe tbody tr th {\n",
       "        vertical-align: top;\n",
       "    }\n",
       "</style>\n",
       "<table border=\"1\" class=\"dataframe\">\n",
       "  <thead>\n",
       "    <tr style=\"text-align: right;\">\n",
       "      <th></th>\n",
       "      <th>image_id</th>\n",
       "      <th>url</th>\n",
       "    </tr>\n",
       "  </thead>\n",
       "  <tbody>\n",
       "    <tr>\n",
       "      <th>0</th>\n",
       "      <td>1</td>\n",
       "      <td>[http://www.ghs.net/public/images/fb/3d/51/3be...</td>\n",
       "    </tr>\n",
       "    <tr>\n",
       "      <th>1</th>\n",
       "      <td>2</td>\n",
       "      <td>[https://img.alicdn.com/imgextra/TB2chFei9YH8K...</td>\n",
       "    </tr>\n",
       "    <tr>\n",
       "      <th>2</th>\n",
       "      <td>3</td>\n",
       "      <td>[http://static-news.17house.com/web/news/20160...</td>\n",
       "    </tr>\n",
       "    <tr>\n",
       "      <th>3</th>\n",
       "      <td>4</td>\n",
       "      <td>[http://img000.hc360.cn/g6/M07/CB/88/wKhQsFNNV...</td>\n",
       "    </tr>\n",
       "    <tr>\n",
       "      <th>4</th>\n",
       "      <td>5</td>\n",
       "      <td>[https://img.alicdn.com/imgextra/T1sLtpFH8aXXX...</td>\n",
       "    </tr>\n",
       "  </tbody>\n",
       "</table>\n",
       "</div>"
      ],
      "text/plain": [
       "   image_id                                                url\n",
       "0         1  [http://www.ghs.net/public/images/fb/3d/51/3be...\n",
       "1         2  [https://img.alicdn.com/imgextra/TB2chFei9YH8K...\n",
       "2         3  [http://static-news.17house.com/web/news/20160...\n",
       "3         4  [http://img000.hc360.cn/g6/M07/CB/88/wKhQsFNNV...\n",
       "4         5  [https://img.alicdn.com/imgextra/T1sLtpFH8aXXX..."
      ]
     },
     "metadata": {},
     "output_type": "display_data"
    },
    {
     "name": "stdout",
     "output_type": "stream",
     "text": [
      "CPU times: user 1min 36s, sys: 1.74 s, total: 1min 37s\n",
      "Wall time: 1min 36s\n"
     ]
    }
   ],
   "source": [
    "%%time\n",
    "# for training data\n",
    "my_dic_data = data1\n",
    "keys = my_dic_data.keys()\n",
    "dict_you_want1 = {'my_items1': my_dic_data['annotations'] for key in keys}\n",
    "dict_you_want2 = {'my_items2': my_dic_data['images'] for key in keys}\n",
    "df = pd.DataFrame(dict_you_want1)\n",
    "fd = pd.DataFrame(dict_you_want2)\n",
    "\n",
    "df2 = df['my_items1'].apply(pd.Series)\n",
    "display(\"df2\", df2.head())\n",
    "fd2 = fd['my_items2'].apply(pd.Series)\n",
    "display(\"fd2\", fd2.head())\n",
    "train_data = pd.merge(df2, fd2, on='image_id', how='outer')\n",
    "\n",
    "# for val data\n",
    "my_dic_data = data2\n",
    "keys = my_dic_data.keys()\n",
    "dict_you_want1 = {'my_items1': my_dic_data['annotations'] for key in keys}\n",
    "dict_you_want2 = {'my_items2': my_dic_data['images'] for key in keys}\n",
    "df = pd.DataFrame(dict_you_want1)\n",
    "fd = pd.DataFrame(dict_you_want2)\n",
    "\n",
    "df2 = df['my_items1'].apply(pd.Series)\n",
    "display(\"df2\", df2.head())\n",
    "fd2 = fd['my_items2'].apply(pd.Series)\n",
    "display(\"fd2\", fd2.head())\n",
    "val_data = pd.merge(df2, fd2, on='image_id', how='outer')\n",
    "\n",
    "# for test data\n",
    "my_dic_data = data3\n",
    "keys = my_dic_data.keys()\n",
    "dict_you_want2 = {'my_items2': my_dic_data['images'] for key in keys}\n",
    "fd = pd.DataFrame(dict_you_want2)\n",
    "test_data = fd['my_items2'].apply(pd.Series)"
   ]
  },
  {
   "cell_type": "code",
   "execution_count": 6,
   "metadata": {
    "collapsed": true
   },
   "outputs": [],
   "source": [
    "train_data['url'] = train_data['url'].apply(lambda x:str(x[0]))\n",
    "val_data['url'] = val_data['url'].apply(lambda x:str(x[0]))\n",
    "test_data['url'] = test_data['url'].apply(lambda x:str(x[0]))"
   ]
  },
  {
   "cell_type": "markdown",
   "metadata": {},
   "source": [
    "## Save to csv"
   ]
  },
  {
   "cell_type": "code",
   "execution_count": 7,
   "metadata": {},
   "outputs": [
    {
     "name": "stdout",
     "output_type": "stream",
     "text": [
      "size of training data (194828, 3)\n",
      "size of val data (6400, 3)\n",
      "size of test data (12800, 2)\n"
     ]
    },
    {
     "data": {
      "text/html": [
       "<div>\n",
       "<style>\n",
       "    .dataframe thead tr:only-child th {\n",
       "        text-align: right;\n",
       "    }\n",
       "\n",
       "    .dataframe thead th {\n",
       "        text-align: left;\n",
       "    }\n",
       "\n",
       "    .dataframe tbody tr th {\n",
       "        vertical-align: top;\n",
       "    }\n",
       "</style>\n",
       "<table border=\"1\" class=\"dataframe\">\n",
       "  <thead>\n",
       "    <tr style=\"text-align: right;\">\n",
       "      <th></th>\n",
       "      <th>image_id</th>\n",
       "      <th>label_id</th>\n",
       "      <th>url</th>\n",
       "    </tr>\n",
       "  </thead>\n",
       "  <tbody>\n",
       "    <tr>\n",
       "      <th>0</th>\n",
       "      <td>1</td>\n",
       "      <td>5</td>\n",
       "      <td>https://img13.360buyimg.com/imgzone/jfs/t2857/...</td>\n",
       "    </tr>\n",
       "    <tr>\n",
       "      <th>1</th>\n",
       "      <td>2</td>\n",
       "      <td>5</td>\n",
       "      <td>http://www.tengdakeli.cn/350/timg01/uploaded/i...</td>\n",
       "    </tr>\n",
       "    <tr>\n",
       "      <th>2</th>\n",
       "      <td>3</td>\n",
       "      <td>5</td>\n",
       "      <td>https://img13.360buyimg.com/imgzone/jfs/t8899/...</td>\n",
       "    </tr>\n",
       "    <tr>\n",
       "      <th>3</th>\n",
       "      <td>4</td>\n",
       "      <td>5</td>\n",
       "      <td>http://img4.tbcdn.cn/tfscom/i1/2855447419/TB2S...</td>\n",
       "    </tr>\n",
       "    <tr>\n",
       "      <th>4</th>\n",
       "      <td>5</td>\n",
       "      <td>5</td>\n",
       "      <td>http://a.vpimg4.com/upload/merchandise/287883/...</td>\n",
       "    </tr>\n",
       "  </tbody>\n",
       "</table>\n",
       "</div>"
      ],
      "text/plain": [
       "   image_id  label_id                                                url\n",
       "0         1         5  https://img13.360buyimg.com/imgzone/jfs/t2857/...\n",
       "1         2         5  http://www.tengdakeli.cn/350/timg01/uploaded/i...\n",
       "2         3         5  https://img13.360buyimg.com/imgzone/jfs/t8899/...\n",
       "3         4         5  http://img4.tbcdn.cn/tfscom/i1/2855447419/TB2S...\n",
       "4         5         5  http://a.vpimg4.com/upload/merchandise/287883/..."
      ]
     },
     "metadata": {},
     "output_type": "display_data"
    },
    {
     "data": {
      "text/html": [
       "<div>\n",
       "<style>\n",
       "    .dataframe thead tr:only-child th {\n",
       "        text-align: right;\n",
       "    }\n",
       "\n",
       "    .dataframe thead th {\n",
       "        text-align: left;\n",
       "    }\n",
       "\n",
       "    .dataframe tbody tr th {\n",
       "        vertical-align: top;\n",
       "    }\n",
       "</style>\n",
       "<table border=\"1\" class=\"dataframe\">\n",
       "  <thead>\n",
       "    <tr style=\"text-align: right;\">\n",
       "      <th></th>\n",
       "      <th>image_id</th>\n",
       "      <th>label_id</th>\n",
       "      <th>url</th>\n",
       "    </tr>\n",
       "  </thead>\n",
       "  <tbody>\n",
       "    <tr>\n",
       "      <th>0</th>\n",
       "      <td>1</td>\n",
       "      <td>38</td>\n",
       "      <td>http://www.ghs.net/public/images/fb/3d/51/3beb...</td>\n",
       "    </tr>\n",
       "    <tr>\n",
       "      <th>1</th>\n",
       "      <td>2</td>\n",
       "      <td>63</td>\n",
       "      <td>https://img.alicdn.com/imgextra/TB2chFei9YH8KJ...</td>\n",
       "    </tr>\n",
       "    <tr>\n",
       "      <th>2</th>\n",
       "      <td>3</td>\n",
       "      <td>33</td>\n",
       "      <td>http://static-news.17house.com/web/news/201602...</td>\n",
       "    </tr>\n",
       "    <tr>\n",
       "      <th>3</th>\n",
       "      <td>4</td>\n",
       "      <td>126</td>\n",
       "      <td>http://img000.hc360.cn/g6/M07/CB/88/wKhQsFNNVJ...</td>\n",
       "    </tr>\n",
       "    <tr>\n",
       "      <th>4</th>\n",
       "      <td>5</td>\n",
       "      <td>18</td>\n",
       "      <td>https://img.alicdn.com/imgextra/T1sLtpFH8aXXXX...</td>\n",
       "    </tr>\n",
       "  </tbody>\n",
       "</table>\n",
       "</div>"
      ],
      "text/plain": [
       "   image_id  label_id                                                url\n",
       "0         1        38  http://www.ghs.net/public/images/fb/3d/51/3beb...\n",
       "1         2        63  https://img.alicdn.com/imgextra/TB2chFei9YH8KJ...\n",
       "2         3        33  http://static-news.17house.com/web/news/201602...\n",
       "3         4       126  http://img000.hc360.cn/g6/M07/CB/88/wKhQsFNNVJ...\n",
       "4         5        18  https://img.alicdn.com/imgextra/T1sLtpFH8aXXXX..."
      ]
     },
     "metadata": {},
     "output_type": "display_data"
    },
    {
     "data": {
      "text/html": [
       "<div>\n",
       "<style>\n",
       "    .dataframe thead tr:only-child th {\n",
       "        text-align: right;\n",
       "    }\n",
       "\n",
       "    .dataframe thead th {\n",
       "        text-align: left;\n",
       "    }\n",
       "\n",
       "    .dataframe tbody tr th {\n",
       "        vertical-align: top;\n",
       "    }\n",
       "</style>\n",
       "<table border=\"1\" class=\"dataframe\">\n",
       "  <thead>\n",
       "    <tr style=\"text-align: right;\">\n",
       "      <th></th>\n",
       "      <th>image_id</th>\n",
       "      <th>url</th>\n",
       "    </tr>\n",
       "  </thead>\n",
       "  <tbody>\n",
       "    <tr>\n",
       "      <th>0</th>\n",
       "      <td>1</td>\n",
       "      <td>https://img13.360buyimg.com/imgzone/jfs/t13174...</td>\n",
       "    </tr>\n",
       "    <tr>\n",
       "      <th>1</th>\n",
       "      <td>2</td>\n",
       "      <td>http://img35.ddimg.cn/79/22/1258168705-1_u.jpg</td>\n",
       "    </tr>\n",
       "    <tr>\n",
       "      <th>2</th>\n",
       "      <td>3</td>\n",
       "      <td>https://img.alicdn.com/imgextra/TB19HtjKXXXXXc...</td>\n",
       "    </tr>\n",
       "    <tr>\n",
       "      <th>3</th>\n",
       "      <td>4</td>\n",
       "      <td>https://img13.360buyimg.com/imgzone/jfs/t16498...</td>\n",
       "    </tr>\n",
       "    <tr>\n",
       "      <th>4</th>\n",
       "      <td>5</td>\n",
       "      <td>http://img4.99114.com/group1/M00/7D/C5/wKgGTFf...</td>\n",
       "    </tr>\n",
       "  </tbody>\n",
       "</table>\n",
       "</div>"
      ],
      "text/plain": [
       "   image_id                                                url\n",
       "0         1  https://img13.360buyimg.com/imgzone/jfs/t13174...\n",
       "1         2     http://img35.ddimg.cn/79/22/1258168705-1_u.jpg\n",
       "2         3  https://img.alicdn.com/imgextra/TB19HtjKXXXXXc...\n",
       "3         4  https://img13.360buyimg.com/imgzone/jfs/t16498...\n",
       "4         5  http://img4.99114.com/group1/M00/7D/C5/wKgGTFf..."
      ]
     },
     "metadata": {},
     "output_type": "display_data"
    },
    {
     "name": "stdout",
     "output_type": "stream",
     "text": [
      "CPU times: user 592 ms, sys: 40 ms, total: 632 ms\n",
      "Wall time: 626 ms\n"
     ]
    }
   ],
   "source": [
    "%%time\n",
    "train_data.head()\n",
    "val_data.head()\n",
    "test_data.head()\n",
    "\n",
    "print(\"size of training data\", train_data.shape)\n",
    "print(\"size of val data\", val_data.shape)\n",
    "print(\"size of test data\", test_data.shape)\n",
    "\n",
    "train_data.to_csv(train_csv_file, index=False)\n",
    "val_data.to_csv(val_csv_file, index=False)\n",
    "test_data.to_csv(test_csv_file, index=False)\n",
    "\n",
    "display(train_data.head())\n",
    "display(val_data.head())\n",
    "display(test_data.head())"
   ]
  },
  {
   "cell_type": "markdown",
   "metadata": {},
   "source": [
    "## Checking for missing data"
   ]
  },
  {
   "cell_type": "code",
   "execution_count": 8,
   "metadata": {},
   "outputs": [
    {
     "data": {
      "text/html": [
       "<div>\n",
       "<style>\n",
       "    .dataframe thead tr:only-child th {\n",
       "        text-align: right;\n",
       "    }\n",
       "\n",
       "    .dataframe thead th {\n",
       "        text-align: left;\n",
       "    }\n",
       "\n",
       "    .dataframe tbody tr th {\n",
       "        vertical-align: top;\n",
       "    }\n",
       "</style>\n",
       "<table border=\"1\" class=\"dataframe\">\n",
       "  <thead>\n",
       "    <tr style=\"text-align: right;\">\n",
       "      <th></th>\n",
       "      <th>Total</th>\n",
       "      <th>Percent</th>\n",
       "    </tr>\n",
       "  </thead>\n",
       "  <tbody>\n",
       "    <tr>\n",
       "      <th>url</th>\n",
       "      <td>0</td>\n",
       "      <td>0.0</td>\n",
       "    </tr>\n",
       "    <tr>\n",
       "      <th>label_id</th>\n",
       "      <td>0</td>\n",
       "      <td>0.0</td>\n",
       "    </tr>\n",
       "    <tr>\n",
       "      <th>image_id</th>\n",
       "      <td>0</td>\n",
       "      <td>0.0</td>\n",
       "    </tr>\n",
       "  </tbody>\n",
       "</table>\n",
       "</div>"
      ],
      "text/plain": [
       "          Total  Percent\n",
       "url           0      0.0\n",
       "label_id      0      0.0\n",
       "image_id      0      0.0"
      ]
     },
     "metadata": {},
     "output_type": "display_data"
    },
    {
     "data": {
      "text/html": [
       "<div>\n",
       "<style>\n",
       "    .dataframe thead tr:only-child th {\n",
       "        text-align: right;\n",
       "    }\n",
       "\n",
       "    .dataframe thead th {\n",
       "        text-align: left;\n",
       "    }\n",
       "\n",
       "    .dataframe tbody tr th {\n",
       "        vertical-align: top;\n",
       "    }\n",
       "</style>\n",
       "<table border=\"1\" class=\"dataframe\">\n",
       "  <thead>\n",
       "    <tr style=\"text-align: right;\">\n",
       "      <th></th>\n",
       "      <th>Total</th>\n",
       "      <th>Percent</th>\n",
       "    </tr>\n",
       "  </thead>\n",
       "  <tbody>\n",
       "    <tr>\n",
       "      <th>url</th>\n",
       "      <td>0</td>\n",
       "      <td>0.0</td>\n",
       "    </tr>\n",
       "    <tr>\n",
       "      <th>label_id</th>\n",
       "      <td>0</td>\n",
       "      <td>0.0</td>\n",
       "    </tr>\n",
       "    <tr>\n",
       "      <th>image_id</th>\n",
       "      <td>0</td>\n",
       "      <td>0.0</td>\n",
       "    </tr>\n",
       "  </tbody>\n",
       "</table>\n",
       "</div>"
      ],
      "text/plain": [
       "          Total  Percent\n",
       "url           0      0.0\n",
       "label_id      0      0.0\n",
       "image_id      0      0.0"
      ]
     },
     "metadata": {},
     "output_type": "display_data"
    },
    {
     "data": {
      "text/html": [
       "<div>\n",
       "<style>\n",
       "    .dataframe thead tr:only-child th {\n",
       "        text-align: right;\n",
       "    }\n",
       "\n",
       "    .dataframe thead th {\n",
       "        text-align: left;\n",
       "    }\n",
       "\n",
       "    .dataframe tbody tr th {\n",
       "        vertical-align: top;\n",
       "    }\n",
       "</style>\n",
       "<table border=\"1\" class=\"dataframe\">\n",
       "  <thead>\n",
       "    <tr style=\"text-align: right;\">\n",
       "      <th></th>\n",
       "      <th>Total</th>\n",
       "      <th>Percent</th>\n",
       "    </tr>\n",
       "  </thead>\n",
       "  <tbody>\n",
       "    <tr>\n",
       "      <th>url</th>\n",
       "      <td>0</td>\n",
       "      <td>0.0</td>\n",
       "    </tr>\n",
       "    <tr>\n",
       "      <th>image_id</th>\n",
       "      <td>0</td>\n",
       "      <td>0.0</td>\n",
       "    </tr>\n",
       "  </tbody>\n",
       "</table>\n",
       "</div>"
      ],
      "text/plain": [
       "          Total  Percent\n",
       "url           0      0.0\n",
       "image_id      0      0.0"
      ]
     },
     "metadata": {},
     "output_type": "display_data"
    }
   ],
   "source": [
    "# missing data in training data set\n",
    "total = train_data.isnull().sum().sort_values(ascending = False)\n",
    "percent = (train_data.isnull().sum()/train_data.isnull().count()).sort_values(ascending = False)\n",
    "missing_train_data = pd.concat([total, percent], axis=1, keys=['Total', 'Percent'])\n",
    "display(missing_train_data.head())\n",
    "\n",
    "\n",
    "# missing data in val data set\n",
    "total = val_data.isnull().sum().sort_values(ascending = False)\n",
    "percent = (val_data.isnull().sum()/val_data.isnull().count()).sort_values(ascending = False)\n",
    "missing_val_data = pd.concat([total, percent], axis=1, keys=['Total', 'Percent'])\n",
    "display(missing_val_data.head())\n",
    "\n",
    "\n",
    "# missing data in test data \n",
    "total = test_data.isnull().sum().sort_values(ascending = False)\n",
    "percent = (test_data.isnull().sum()/test_data.isnull().count()).sort_values(ascending = False)\n",
    "missing_test_data = pd.concat([total, percent], axis=1, keys=['Total', 'Percent'])\n",
    "display(missing_test_data.head())"
   ]
  },
  {
   "cell_type": "markdown",
   "metadata": {},
   "source": [
    "## Open the URL"
   ]
  },
  {
   "cell_type": "code",
   "execution_count": 9,
   "metadata": {},
   "outputs": [
    {
     "name": "stdout",
     "output_type": "stream",
     "text": [
      "image_id 5\n",
      "url: http://a.vpimg4.com/upload/merchandise/287883/QQI-390870207-1.jpg\n"
     ]
    }
   ],
   "source": [
    "# now open the URL\n",
    "temp = 4\n",
    "print('image_id', train_data['image_id'][temp])\n",
    "print('url:', train_data['url'][temp])"
   ]
  },
  {
   "cell_type": "markdown",
   "metadata": {},
   "source": [
    "## Lets display some images from URLs"
   ]
  },
  {
   "cell_type": "code",
   "execution_count": 10,
   "metadata": {
    "collapsed": true
   },
   "outputs": [],
   "source": [
    "from IPython.display import Image\n",
    "from IPython.core.display import HTML \n",
    "\n",
    "def display_category(urls, category_name):\n",
    "    img_style = \"width: 180px; margin: 0px; float: left; border: 1px solid black;\"\n",
    "    images_list = ''.join([f\"<img style='{img_style}' src='{u}' />\" for _, u in urls.head(12).iteritems()])\n",
    "\n",
    "    display(HTML(images_list))"
   ]
  },
  {
   "cell_type": "code",
   "execution_count": 11,
   "metadata": {},
   "outputs": [
    {
     "data": {
      "text/html": [
       "<img style='width: 180px; margin: 0px; float: left; border: 1px solid black;' src='https://img14.360buyimg.com/imgzone/jfs/t2977/13/524816924/267512/8767617a/575d3181Na7521aa3.jpg' /><img style='width: 180px; margin: 0px; float: left; border: 1px solid black;' src='http://img10.360buyimg.com/n1/jfs/t310/302/1523049725/285648/6568c8bc/543c90eaNeb4ac6c1.jpg' /><img style='width: 180px; margin: 0px; float: left; border: 1px solid black;' src='https://img.alicdn.com/imgextra/TB2_XBfq.dnpuFjSZPhXXbChpXa_!!920073637.jpg' /><img style='width: 180px; margin: 0px; float: left; border: 1px solid black;' src='http://www.szthks.com/localimg/687474703a2f2f6777322e616c6963646e2e636f6d2f62616f2f75706c6f616465642f69322f544231724b49374b7058585858636b5846585858585858585858585f2121322d6974656d5f7069632e706e67.jpg' /><img style='width: 180px; margin: 0px; float: left; border: 1px solid black;' src='http://m.360buyimg.com/n12/jfs/t2101/214/715609835/47728/7f0486da/5625b2bdN18e4d410.jpg%21q70.jpg' /><img style='width: 180px; margin: 0px; float: left; border: 1px solid black;' src='https://img12.360buyimg.com/imgzone/jfs/t11368/362/1155588747/405688/609d7bc1/59fecc32N34051738.jpg' /><img style='width: 180px; margin: 0px; float: left; border: 1px solid black;' src='https://img.alicdn.com/imgextra/TB2YmWcdmhlpuFjSspkXXa1ApXa_!!2907128884.jpg' /><img style='width: 180px; margin: 0px; float: left; border: 1px solid black;' src='https://img11.360buyimg.com/imgzone/jfs/t4060/166/1100411758/125652/51d7be37/58675f96N6c9eadc4.jpg' /><img style='width: 180px; margin: 0px; float: left; border: 1px solid black;' src='http://m.360buyimg.com/n12/jfs/t2353/228/552420432/445413/3dbefbc7/56174e4dN141ea647.jpg%21q70.jpg' /><img style='width: 180px; margin: 0px; float: left; border: 1px solid black;' src='http://img.alicdn.com/imgextra/i4/2924705071/TB2ApMHcHeI.eBjSspkXXaXqVXa_%21%212924705071.jpg_480x480.jpg' /><img style='width: 180px; margin: 0px; float: left; border: 1px solid black;' src='https://img13.360buyimg.com/imgzone/jfs/t769/46/988501895/185297/aee214c3/55126144N1a7d2cd2.jpg' /><img style='width: 180px; margin: 0px; float: left; border: 1px solid black;' src='https://img.yzcdn.cn/upload_files/2017/07/10/149965644516671772.jpg?imageView2/2/w/580/h/580/q/75/format/jpg' />"
      ],
      "text/plain": [
       "<IPython.core.display.HTML object>"
      ]
     },
     "metadata": {},
     "output_type": "display_data"
    },
    {
     "data": {
      "text/html": [
       "<img style='width: 180px; margin: 0px; float: left; border: 1px solid black;' src='http://www.szjyjiaju.com/uploads/allimg/170810/1-1FQ0111150300.jpg' /><img style='width: 180px; margin: 0px; float: left; border: 1px solid black;' src='https://img11.360buyimg.com/imgzone/jfs/t11107/164/1097968960/86569/9572baee/59fdaceeNf2af78f9.jpg' /><img style='width: 180px; margin: 0px; float: left; border: 1px solid black;' src='http://img.pconline.com.cn/images/upload/upc/tx/house_youpin/1402/03/c0/30992624_1391396841156_300x300.jpg' /><img style='width: 180px; margin: 0px; float: left; border: 1px solid black;' src='https://img12.360buyimg.com/imgzone/jfs/t12538/63/774452467/72710/e57aed87/5a1398b5Nedc275db.jpg' /><img style='width: 180px; margin: 0px; float: left; border: 1px solid black;' src='https://img10.360buyimg.com/imgzone/jfs/t4837/70/2356160945/249378/cc9fda33/58fd65f1Nb1548361.jpg' /><img style='width: 180px; margin: 0px; float: left; border: 1px solid black;' src='https://img14.360buyimg.com/imgzone/jfs/t1012/356/242651690/149630/1f773982/550eaa9aN415a33e6.jpg' /><img style='width: 180px; margin: 0px; float: left; border: 1px solid black;' src='http://d11.yihaodianimg.com/N00/M03/64/61/CgMBmFOWnfOAFQsTAAEKb6P6NZM22500_320x320.jpg' /><img style='width: 180px; margin: 0px; float: left; border: 1px solid black;' src='http://img1.wutuojia.com/cms/articleDetail/20151209/154452_508571.jpg' /><img style='width: 180px; margin: 0px; float: left; border: 1px solid black;' src='https://img.alicdn.com/imgextra/TB2pwusXFXXXXbQXpXXXXXXXXXX_!!78720919.jpg' /><img style='width: 180px; margin: 0px; float: left; border: 1px solid black;' src='https://img.alicdn.com/imgextra/TB2ZX5ygdRopuFjSZFtXXcanpXa_!!570297792.jpg' /><img style='width: 180px; margin: 0px; float: left; border: 1px solid black;' src='http://img003.hc360.cn/hb/MTQ1OTI3OTk3MzI0MS0yODk3OTU4MTM=.jpg' /><img style='width: 180px; margin: 0px; float: left; border: 1px solid black;' src='http://image5.huangye88.com/2014/10/22/768d5ca7e199cb93.JPG' />"
      ],
      "text/plain": [
       "<IPython.core.display.HTML object>"
      ]
     },
     "metadata": {},
     "output_type": "display_data"
    },
    {
     "data": {
      "text/html": [
       "<img style='width: 180px; margin: 0px; float: left; border: 1px solid black;' src='https://img.alicdn.com/imgextra/TB29FgocLjM8KJjSZFsXXXdZpXa_!!3395481681.jpg' /><img style='width: 180px; margin: 0px; float: left; border: 1px solid black;' src='http://img.shushi100.com/images/0c867d62-2d36-431f-884c-585c429a34bb.jpg' /><img style='width: 180px; margin: 0px; float: left; border: 1px solid black;' src='http://img.fuwo.com/tuce/1603/23/cb8be97af0c111e5bb8100163e00254c.jpg' /><img style='width: 180px; margin: 0px; float: left; border: 1px solid black;' src='https://img11.360buyimg.com/imgzone/jfs/t9958/113/2403311229/105133/8afdd188/59f51020N07fb86d5.jpg' /><img style='width: 180px; margin: 0px; float: left; border: 1px solid black;' src='http://shop.gctc.cn/images/201702/goods_img/163_P_1487419176132.jpg' /><img style='width: 180px; margin: 0px; float: left; border: 1px solid black;' src='https://img.alicdn.com/imgextra/TB2HpDIjIjI8KJjSsppXXXbyVXa_!!3029150826.jpg' /><img style='width: 180px; margin: 0px; float: left; border: 1px solid black;' src='http://image1.yihaojiaju.com/upload/Collected/440_280_686ceed7dd9dc5d2b0b844ef3cbe79.jpg' /><img style='width: 180px; margin: 0px; float: left; border: 1px solid black;' src='http://img.haolivshop.com/upload/store/goods/31/f362d7d03273dd0926ac0f6a52020425.jpg_max.jpg' /><img style='width: 180px; margin: 0px; float: left; border: 1px solid black;' src='https://img12.360buyimg.com/imgzone/jfs/t9976/28/2083690219/392816/1e972390/59ed832dN2dfc690c.jpg' /><img style='width: 180px; margin: 0px; float: left; border: 1px solid black;' src='https://img12.360buyimg.com/imgzone/jfs/t5605/187/376144632/254157/7a55374a/591eeecfN8bca7510.jpg' /><img style='width: 180px; margin: 0px; float: left; border: 1px solid black;' src='https://img.alicdn.com/imgextra/TB2MfbggEF7MKJjSZFLXXcMBVXa_!!96008366.jpg' /><img style='width: 180px; margin: 0px; float: left; border: 1px solid black;' src='http://img4.wuhoo.cn/i3/763770457/TB2Tk.DlpXXXXXlXpXXXXXXXXXX_%21%21763770457.jpg_300x300.jpg' />"
      ],
      "text/plain": [
       "<IPython.core.display.HTML object>"
      ]
     },
     "metadata": {},
     "output_type": "display_data"
    }
   ],
   "source": [
    "# Training data images\n",
    "urls = train_data['url'][15:30]\n",
    "display_category(urls, \"\")\n",
    "\n",
    "\n",
    "# Validation data images\n",
    "urls = val_data['url'][15:30]\n",
    "display_category(urls, \"\")\n",
    "\n",
    "\n",
    "# Test data images\n",
    "urls = test_data['url'][15:30]\n",
    "display_category(urls, \"\")"
   ]
  },
  {
   "cell_type": "code",
   "execution_count": 12,
   "metadata": {
    "collapsed": true
   },
   "outputs": [],
   "source": [
    "# Unique URL's\n",
    "# train_data.nunique()"
   ]
  },
  {
   "cell_type": "markdown",
   "metadata": {},
   "source": [
    "## Distribution of labels in training data set"
   ]
  },
  {
   "cell_type": "code",
   "execution_count": 13,
   "metadata": {},
   "outputs": [
    {
     "data": {
      "image/png": "[encoded data removed]",
      "text/plain": [
       "<matplotlib.figure.Figure at 0x7f9fed9ba6a0>"
      ]
     },
     "metadata": {},
     "output_type": "display_data"
    }
   ],
   "source": [
    "#Class distribution\n",
    "plt.figure(figsize = (10, 8))\n",
    "plt.title('Category Distribuition')\n",
    "sns.distplot(train_data['label_id'])\n",
    "\n",
    "plt.show()"
   ]
  },
  {
   "cell_type": "markdown",
   "metadata": {},
   "source": [
    "## Most frequent labels in training data set"
   ]
  },
  {
   "cell_type": "code",
   "execution_count": 14,
   "metadata": {},
   "outputs": [
    {
     "data": {
      "text/html": [
       "<div>\n",
       "<style>\n",
       "    .dataframe thead tr:only-child th {\n",
       "        text-align: right;\n",
       "    }\n",
       "\n",
       "    .dataframe thead th {\n",
       "        text-align: left;\n",
       "    }\n",
       "\n",
       "    .dataframe tbody tr th {\n",
       "        vertical-align: top;\n",
       "    }\n",
       "</style>\n",
       "<table border=\"1\" class=\"dataframe\">\n",
       "  <thead>\n",
       "    <tr style=\"text-align: right;\">\n",
       "      <th></th>\n",
       "      <th>label_id</th>\n",
       "      <th>count</th>\n",
       "    </tr>\n",
       "  </thead>\n",
       "  <tbody>\n",
       "    <tr>\n",
       "      <th>0</th>\n",
       "      <td>20</td>\n",
       "      <td>3996</td>\n",
       "    </tr>\n",
       "    <tr>\n",
       "      <th>1</th>\n",
       "      <td>42</td>\n",
       "      <td>3973</td>\n",
       "    </tr>\n",
       "    <tr>\n",
       "      <th>2</th>\n",
       "      <td>92</td>\n",
       "      <td>2666</td>\n",
       "    </tr>\n",
       "    <tr>\n",
       "      <th>3</th>\n",
       "      <td>12</td>\n",
       "      <td>2609</td>\n",
       "    </tr>\n",
       "    <tr>\n",
       "      <th>4</th>\n",
       "      <td>125</td>\n",
       "      <td>2598</td>\n",
       "    </tr>\n",
       "    <tr>\n",
       "      <th>5</th>\n",
       "      <td>21</td>\n",
       "      <td>2577</td>\n",
       "    </tr>\n",
       "    <tr>\n",
       "      <th>6</th>\n",
       "      <td>122</td>\n",
       "      <td>2462</td>\n",
       "    </tr>\n",
       "    <tr>\n",
       "      <th>7</th>\n",
       "      <td>3</td>\n",
       "      <td>2368</td>\n",
       "    </tr>\n",
       "  </tbody>\n",
       "</table>\n",
       "</div>"
      ],
      "text/plain": [
       "   label_id  count\n",
       "0        20   3996\n",
       "1        42   3973\n",
       "2        92   2666\n",
       "3        12   2609\n",
       "4       125   2598\n",
       "5        21   2577\n",
       "6       122   2462\n",
       "7         3   2368"
      ]
     },
     "metadata": {},
     "output_type": "display_data"
    }
   ],
   "source": [
    "# Occurance of label_id in decreasing order(Top categories)\n",
    "temp = pd.DataFrame(train_data.label_id.value_counts().head(8))\n",
    "temp.reset_index(inplace=True)\n",
    "temp.columns = ['label_id','count']\n",
    "display(temp)"
   ]
  },
  {
   "cell_type": "code",
   "execution_count": 15,
   "metadata": {},
   "outputs": [
    {
     "name": "stdout",
     "output_type": "stream",
     "text": [
      "[1, 2, 3, 4, 5, 6, 7, 8, 9, 10, 11, 12, 13, 14, 15, 16, 17, 18, 19, 20, 21, 22, 23, 24, 25, 26, 27, 28, 29, 30, 31, 32, 33, 34, 35, 36, 37, 38, 39, 40, 41, 42, 43, 44, 45, 46, 47, 48, 49, 50, 51, 52, 53, 54, 55, 56, 57, 58, 59, 60, 61, 62, 63, 64, 65, 66, 67, 68, 69, 70, 71, 72, 73, 74, 75, 76, 77, 78, 79, 80, 81, 82, 83, 84, 85, 86, 87, 88, 89, 90, 91, 92, 93, 94, 95, 96, 97, 98, 99, 100, 101, 102, 103, 104, 105, 106, 107, 108, 109, 110, 111, 112, 113, 114, 115, 116, 117, 118, 119, 120, 121, 122, 123, 124, 125, 126, 127, 128]\n",
      "[1, 2, 3, 4, 5, 6, 7, 8, 9, 10, 11, 12, 13, 14, 15, 16, 17, 18, 19, 20, 21, 22, 23, 24, 25, 26, 27, 28, 29, 30, 31, 32, 33, 34, 35, 36, 37, 38, 39, 40, 41, 42, 43, 44, 45, 46, 47, 48, 49, 50, 51, 52, 53, 54, 55, 56, 57, 58, 59, 60, 61, 62, 63, 64, 65, 66, 67, 68, 69, 70, 71, 72, 73, 74, 75, 76, 77, 78, 79, 80, 81, 82, 83, 84, 85, 86, 87, 88, 89, 90, 91, 92, 93, 94, 95, 96, 97, 98, 99, 100, 101, 102, 103, 104, 105, 106, 107, 108, 109, 110, 111, 112, 113, 114, 115, 116, 117, 118, 119, 120, 121, 122, 123, 124, 125, 126, 127, 128]\n"
     ]
    }
   ],
   "source": [
    "print(list(set(train_data.label_id)))\n",
    "print(list(set(val_data.label_id)))"
   ]
  },
  {
   "cell_type": "code",
   "execution_count": null,
   "metadata": {
    "collapsed": true
   },
   "outputs": [],
   "source": []
  }
 ],
 "metadata": {
  "kernelspec": {
   "display_name": "Python 3",
   "language": "python",
   "name": "python3"
  },
  "language_info": {
   "codemirror_mode": {
    "name": "ipython",
    "version": 3
   },
   "file_extension": ".py",
   "mimetype": "text/x-python",
   "name": "python",
   "nbconvert_exporter": "python",
   "pygments_lexer": "ipython3",
   "version": "3.6.4"
  }
 },
 "nbformat": 4,
 "nbformat_minor": 2
}
