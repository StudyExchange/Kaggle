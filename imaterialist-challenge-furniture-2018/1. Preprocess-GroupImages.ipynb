{
 "cells": [
  {
   "cell_type": "markdown",
   "metadata": {},
   "source": [
    "# 1. Preprocess-GroupImages\n",
    "\n",
    "数据预处理：主要是将图片数据解压，然后复制到ImageDataGenerator需要的文件目录中。"
   ]
  },
  {
   "cell_type": "markdown",
   "metadata": {},
   "source": [
    "## Import PKGs"
   ]
  },
  {
   "cell_type": "code",
   "execution_count": 1,
   "metadata": {
    "collapsed": true
   },
   "outputs": [],
   "source": [
    "import time\n",
    "import os\n",
    "import json\n",
    "import csv\n",
    "import zipfile\n",
    "import pickle\n",
    "from PIL import Image\n",
    "import shutil\n",
    "\n",
    "\n",
    "import numpy as np # linear algebra\n",
    "import pandas as pd # data processing, CSV file I/O (e.g. pd.read_csv)\n",
    "import matplotlib.pyplot as plt\n",
    "import matplotlib.image as mpimg\n",
    "import seaborn as sns\n",
    "%matplotlib inline\n",
    "from IPython.display import display"
   ]
  },
  {
   "cell_type": "markdown",
   "metadata": {},
   "source": [
    "## Run name"
   ]
  },
  {
   "cell_type": "code",
   "execution_count": 2,
   "metadata": {},
   "outputs": [
    {
     "name": "stdout",
     "output_type": "stream",
     "text": [
      "run_name: ic_furniture2018_Preprocess-GroupImages_20180329_114847\n"
     ]
    }
   ],
   "source": [
    "project_name = 'ic_furniture2018'\n",
    "step_name = 'Preprocess-GroupImages'\n",
    "time_str = time.strftime(\"%Y%m%d_%H%M%S\", time.localtime())\n",
    "run_name = project_name + '_' + step_name + '_' + time_str\n",
    "print('run_name: ' + run_name)"
   ]
  },
  {
   "cell_type": "markdown",
   "metadata": {},
   "source": [
    "## Project folders"
   ]
  },
  {
   "cell_type": "code",
   "execution_count": 3,
   "metadata": {},
   "outputs": [
    {
     "name": "stdout",
     "output_type": "stream",
     "text": [
      "input_folder: \t\t\t/data1/kaggle/imaterialist-challenge-furniture-2018/input\n",
      "output_folder: \t\t\t/data1/kaggle/imaterialist-challenge-furniture-2018/output\n",
      "model_folder: \t\t\t/data1/kaggle/imaterialist-challenge-furniture-2018/model\n",
      "feature_folder: \t\t/data1/kaggle/imaterialist-challenge-furniture-2018/feature\n",
      "post_pca_feature_folder: \t/data1/kaggle/imaterialist-challenge-furniture-2018/post_pca_feature\n",
      "log_folder: \t\t\t/data1/kaggle/imaterialist-challenge-furniture-2018/log\n",
      "\n",
      "train_json_file: \t\t/data1/kaggle/imaterialist-challenge-furniture-2018/input/train.json\n",
      "val_json_file: \t\t/data1/kaggle/imaterialist-challenge-furniture-2018/input/validation.json\n",
      "test_json_file: \t\t/data1/kaggle/imaterialist-challenge-furniture-2018/input/test.json\n",
      "\n",
      "train_csv_file: \t\t/data1/kaggle/imaterialist-challenge-furniture-2018/input/train.csv\n",
      "val_csv_file: \t\t/data1/kaggle/imaterialist-challenge-furniture-2018/input/validation.csv\n",
      "test_csv_file: \t\t\t/data1/kaggle/imaterialist-challenge-furniture-2018/input/test.csv\n",
      "\n",
      "sample_submission_csv_file: \t/data1/kaggle/imaterialist-challenge-furniture-2018/input/sample_submission_randomlabel.csv\n"
     ]
    }
   ],
   "source": [
    "cwd = os.getcwd()\n",
    "input_folder = os.path.join(cwd, 'input')\n",
    "output_folder = os.path.join(cwd, 'output')\n",
    "model_folder = os.path.join(cwd, 'model')\n",
    "feature_folder = os.path.join(cwd, 'feature')\n",
    "post_pca_feature_folder = os.path.join(cwd, 'post_pca_feature')\n",
    "log_folder = os.path.join(cwd, 'log')\n",
    "print('input_folder: \\t\\t\\t%s' % input_folder)\n",
    "print('output_folder: \\t\\t\\t%s' % output_folder)\n",
    "print('model_folder: \\t\\t\\t%s' % model_folder)\n",
    "print('feature_folder: \\t\\t%s' % feature_folder)\n",
    "print('post_pca_feature_folder: \\t%s' % post_pca_feature_folder)\n",
    "print('log_folder: \\t\\t\\t%s' % log_folder)\n",
    "\n",
    "org_train_folder = os.path.join(input_folder, 'org_train')\n",
    "org_val_folder = os.path.join(input_folder, 'org_val')\n",
    "org_test_folder = os.path.join(input_folder, 'org_test')\n",
    "train_folder = os.path.join(input_folder, 'data_train')\n",
    "val_folder = os.path.join(input_folder, 'data_val')\n",
    "test_folder = os.path.join(input_folder, 'data_test')\n",
    "test_sub_folder = os.path.join(test_folder, 'test')\n",
    "\n",
    "if not os.path.exists(post_pca_feature_folder):\n",
    "    os.mkdir(post_pca_feature_folder)\n",
    "    print('Create folder: %s' % post_pca_feature_folder)\n",
    "\n",
    "train_json_file = os.path.join(input_folder, 'train.json')\n",
    "val_json_file = os.path.join(input_folder, 'validation.json')\n",
    "test_json_file = os.path.join(input_folder, 'test.json')\n",
    "print('\\ntrain_json_file: \\t\\t%s' % train_json_file)\n",
    "print('val_json_file: \\t\\t%s' % val_json_file)\n",
    "print('test_json_file: \\t\\t%s' % test_json_file)\n",
    "\n",
    "train_csv_file = os.path.join(input_folder, 'train.csv')\n",
    "val_csv_file = os.path.join(input_folder, 'validation.csv')\n",
    "test_csv_file = os.path.join(input_folder, 'test.csv')\n",
    "print('\\ntrain_csv_file: \\t\\t%s' % train_csv_file)\n",
    "print('val_csv_file: \\t\\t%s' % val_csv_file)\n",
    "print('test_csv_file: \\t\\t\\t%s' % test_csv_file)\n",
    "\n",
    "sample_submission_csv_file = os.path.join(input_folder, 'sample_submission_randomlabel.csv')\n",
    "print('\\nsample_submission_csv_file: \\t%s' % sample_submission_csv_file)"
   ]
  },
  {
   "cell_type": "markdown",
   "metadata": {},
   "source": [
    "## Preview data"
   ]
  },
  {
   "cell_type": "code",
   "execution_count": 4,
   "metadata": {},
   "outputs": [
    {
     "name": "stdout",
     "output_type": "stream",
     "text": [
      "train_csv.shape is (194828, 3).\n"
     ]
    },
    {
     "data": {
      "text/html": [
       "<div>\n",
       "<style>\n",
       "    .dataframe thead tr:only-child th {\n",
       "        text-align: right;\n",
       "    }\n",
       "\n",
       "    .dataframe thead th {\n",
       "        text-align: left;\n",
       "    }\n",
       "\n",
       "    .dataframe tbody tr th {\n",
       "        vertical-align: top;\n",
       "    }\n",
       "</style>\n",
       "<table border=\"1\" class=\"dataframe\">\n",
       "  <thead>\n",
       "    <tr style=\"text-align: right;\">\n",
       "      <th></th>\n",
       "      <th>image_id</th>\n",
       "      <th>label_id</th>\n",
       "      <th>url</th>\n",
       "    </tr>\n",
       "  </thead>\n",
       "  <tbody>\n",
       "    <tr>\n",
       "      <th>0</th>\n",
       "      <td>1</td>\n",
       "      <td>5</td>\n",
       "      <td>https://img13.360buyimg.com/imgzone/jfs/t2857/...</td>\n",
       "    </tr>\n",
       "    <tr>\n",
       "      <th>1</th>\n",
       "      <td>2</td>\n",
       "      <td>5</td>\n",
       "      <td>http://www.tengdakeli.cn/350/timg01/uploaded/i...</td>\n",
       "    </tr>\n",
       "  </tbody>\n",
       "</table>\n",
       "</div>"
      ],
      "text/plain": [
       "   image_id  label_id                                                url\n",
       "0         1         5  https://img13.360buyimg.com/imgzone/jfs/t2857/...\n",
       "1         2         5  http://www.tengdakeli.cn/350/timg01/uploaded/i..."
      ]
     },
     "metadata": {},
     "output_type": "display_data"
    },
    {
     "name": "stdout",
     "output_type": "stream",
     "text": [
      "train_csv.shape is (6400, 3).\n"
     ]
    },
    {
     "data": {
      "text/html": [
       "<div>\n",
       "<style>\n",
       "    .dataframe thead tr:only-child th {\n",
       "        text-align: right;\n",
       "    }\n",
       "\n",
       "    .dataframe thead th {\n",
       "        text-align: left;\n",
       "    }\n",
       "\n",
       "    .dataframe tbody tr th {\n",
       "        vertical-align: top;\n",
       "    }\n",
       "</style>\n",
       "<table border=\"1\" class=\"dataframe\">\n",
       "  <thead>\n",
       "    <tr style=\"text-align: right;\">\n",
       "      <th></th>\n",
       "      <th>image_id</th>\n",
       "      <th>label_id</th>\n",
       "      <th>url</th>\n",
       "    </tr>\n",
       "  </thead>\n",
       "  <tbody>\n",
       "    <tr>\n",
       "      <th>0</th>\n",
       "      <td>1</td>\n",
       "      <td>38</td>\n",
       "      <td>http://www.ghs.net/public/images/fb/3d/51/3beb...</td>\n",
       "    </tr>\n",
       "    <tr>\n",
       "      <th>1</th>\n",
       "      <td>2</td>\n",
       "      <td>63</td>\n",
       "      <td>https://img.alicdn.com/imgextra/TB2chFei9YH8KJ...</td>\n",
       "    </tr>\n",
       "  </tbody>\n",
       "</table>\n",
       "</div>"
      ],
      "text/plain": [
       "   image_id  label_id                                                url\n",
       "0         1        38  http://www.ghs.net/public/images/fb/3d/51/3beb...\n",
       "1         2        63  https://img.alicdn.com/imgextra/TB2chFei9YH8KJ..."
      ]
     },
     "metadata": {},
     "output_type": "display_data"
    },
    {
     "name": "stdout",
     "output_type": "stream",
     "text": [
      "test_csv.shape is (12800, 2).\n"
     ]
    },
    {
     "data": {
      "text/html": [
       "<div>\n",
       "<style>\n",
       "    .dataframe thead tr:only-child th {\n",
       "        text-align: right;\n",
       "    }\n",
       "\n",
       "    .dataframe thead th {\n",
       "        text-align: left;\n",
       "    }\n",
       "\n",
       "    .dataframe tbody tr th {\n",
       "        vertical-align: top;\n",
       "    }\n",
       "</style>\n",
       "<table border=\"1\" class=\"dataframe\">\n",
       "  <thead>\n",
       "    <tr style=\"text-align: right;\">\n",
       "      <th></th>\n",
       "      <th>image_id</th>\n",
       "      <th>url</th>\n",
       "    </tr>\n",
       "  </thead>\n",
       "  <tbody>\n",
       "    <tr>\n",
       "      <th>0</th>\n",
       "      <td>1</td>\n",
       "      <td>https://img13.360buyimg.com/imgzone/jfs/t13174...</td>\n",
       "    </tr>\n",
       "    <tr>\n",
       "      <th>1</th>\n",
       "      <td>2</td>\n",
       "      <td>http://img35.ddimg.cn/79/22/1258168705-1_u.jpg</td>\n",
       "    </tr>\n",
       "  </tbody>\n",
       "</table>\n",
       "</div>"
      ],
      "text/plain": [
       "   image_id                                                url\n",
       "0         1  https://img13.360buyimg.com/imgzone/jfs/t13174...\n",
       "1         2     http://img35.ddimg.cn/79/22/1258168705-1_u.jpg"
      ]
     },
     "metadata": {},
     "output_type": "display_data"
    },
    {
     "name": "stdout",
     "output_type": "stream",
     "text": [
      "test_csv.shape is (12800, 2).\n"
     ]
    },
    {
     "data": {
      "text/html": [
       "<div>\n",
       "<style>\n",
       "    .dataframe thead tr:only-child th {\n",
       "        text-align: right;\n",
       "    }\n",
       "\n",
       "    .dataframe thead th {\n",
       "        text-align: left;\n",
       "    }\n",
       "\n",
       "    .dataframe tbody tr th {\n",
       "        vertical-align: top;\n",
       "    }\n",
       "</style>\n",
       "<table border=\"1\" class=\"dataframe\">\n",
       "  <thead>\n",
       "    <tr style=\"text-align: right;\">\n",
       "      <th></th>\n",
       "      <th>image_id</th>\n",
       "      <th>url</th>\n",
       "    </tr>\n",
       "  </thead>\n",
       "  <tbody>\n",
       "    <tr>\n",
       "      <th>0</th>\n",
       "      <td>1</td>\n",
       "      <td>https://img13.360buyimg.com/imgzone/jfs/t13174...</td>\n",
       "    </tr>\n",
       "    <tr>\n",
       "      <th>1</th>\n",
       "      <td>2</td>\n",
       "      <td>http://img35.ddimg.cn/79/22/1258168705-1_u.jpg</td>\n",
       "    </tr>\n",
       "  </tbody>\n",
       "</table>\n",
       "</div>"
      ],
      "text/plain": [
       "   image_id                                                url\n",
       "0         1  https://img13.360buyimg.com/imgzone/jfs/t13174...\n",
       "1         2     http://img35.ddimg.cn/79/22/1258168705-1_u.jpg"
      ]
     },
     "metadata": {},
     "output_type": "display_data"
    },
    {
     "name": "stdout",
     "output_type": "stream",
     "text": [
      "sample_submission_csv.shape is (12800, 2).\n"
     ]
    },
    {
     "data": {
      "text/html": [
       "<div>\n",
       "<style>\n",
       "    .dataframe thead tr:only-child th {\n",
       "        text-align: right;\n",
       "    }\n",
       "\n",
       "    .dataframe thead th {\n",
       "        text-align: left;\n",
       "    }\n",
       "\n",
       "    .dataframe tbody tr th {\n",
       "        vertical-align: top;\n",
       "    }\n",
       "</style>\n",
       "<table border=\"1\" class=\"dataframe\">\n",
       "  <thead>\n",
       "    <tr style=\"text-align: right;\">\n",
       "      <th></th>\n",
       "      <th>id</th>\n",
       "      <th>predicted</th>\n",
       "    </tr>\n",
       "  </thead>\n",
       "  <tbody>\n",
       "    <tr>\n",
       "      <th>0</th>\n",
       "      <td>1</td>\n",
       "      <td>57</td>\n",
       "    </tr>\n",
       "    <tr>\n",
       "      <th>1</th>\n",
       "      <td>2</td>\n",
       "      <td>74</td>\n",
       "    </tr>\n",
       "  </tbody>\n",
       "</table>\n",
       "</div>"
      ],
      "text/plain": [
       "   id  predicted\n",
       "0   1         57\n",
       "1   2         74"
      ]
     },
     "metadata": {},
     "output_type": "display_data"
    }
   ],
   "source": [
    "train_csv = pd.read_csv(train_csv_file)\n",
    "print('train_csv.shape is {0}.'.format(train_csv.shape))\n",
    "display(train_csv.head(2))\n",
    "\n",
    "val_csv = pd.read_csv(val_csv_file)\n",
    "print('train_csv.shape is {0}.'.format(val_csv.shape))\n",
    "display(val_csv.head(2))\n",
    "\n",
    "test_csv = pd.read_csv(test_csv_file)\n",
    "print('test_csv.shape is {0}.'.format(test_csv.shape))\n",
    "display(test_csv.head(2))\n",
    "\n",
    "test_csv = pd.read_csv(test_csv_file)\n",
    "print('test_csv.shape is {0}.'.format(test_csv.shape))\n",
    "display(test_csv.head(2))\n",
    "\n",
    "sample_submission_csv = pd.read_csv(sample_submission_csv_file)\n",
    "print('sample_submission_csv.shape is {0}.'.format(sample_submission_csv.shape))\n",
    "display(sample_submission_csv.head(2))"
   ]
  },
  {
   "cell_type": "code",
   "execution_count": 5,
   "metadata": {},
   "outputs": [
    {
     "name": "stdout",
     "output_type": "stream",
     "text": [
      "len(id_2_train_label_id_dict)=194828\n",
      "id: 1, \tlandmark_id:5\n",
      "id: 2, \tlandmark_id:5\n",
      "2_5.jpg\n"
     ]
    }
   ],
   "source": [
    "train_id = train_csv['image_id']\n",
    "train_label_id = train_csv['label_id']\n",
    "\n",
    "id_2_train_label_id_dict = dict(zip(train_id, train_label_id))\n",
    "print('len(id_2_train_label_id_dict)=%d' % len(id_2_train_label_id_dict))\n",
    "\n",
    "index = 0\n",
    "print('id: %s, \\tlandmark_id:%s' % (train_id[index], id_2_train_label_id_dict[train_id[index]]))\n",
    "index = 1\n",
    "print('id: %s, \\tlandmark_id:%s' % (train_id[index], id_2_train_label_id_dict[train_id[index]]))\n",
    "\n",
    "image_file = '%s_%s.jpg' % (train_id[index], id_2_train_label_id_dict[train_id[index]])\n",
    "print(image_file)"
   ]
  },
  {
   "cell_type": "code",
   "execution_count": 6,
   "metadata": {},
   "outputs": [
    {
     "name": "stdout",
     "output_type": "stream",
     "text": [
      "len(id_2_val_label_id_dict)=6400\n",
      "id: 1, \tlandmark_id:38\n",
      "id: 2, \tlandmark_id:63\n",
      "2_63.jpg\n"
     ]
    }
   ],
   "source": [
    "val_id = val_csv['image_id']\n",
    "val_label_id = val_csv['label_id']\n",
    "\n",
    "id_2_val_label_id_dict = dict(zip(val_id, val_label_id))\n",
    "print('len(id_2_val_label_id_dict)=%d' % len(id_2_val_label_id_dict))\n",
    "\n",
    "index = 0\n",
    "print('id: %s, \\tlandmark_id:%s' % (val_id[index], id_2_val_label_id_dict[val_id[index]]))\n",
    "index = 1\n",
    "print('id: %s, \\tlandmark_id:%s' % (val_id[index], id_2_val_label_id_dict[val_id[index]]))\n",
    "\n",
    "image_file = '%s_%s.jpg' % (val_id[index], id_2_val_label_id_dict[val_id[index]])\n",
    "print(image_file)"
   ]
  },
  {
   "cell_type": "code",
   "execution_count": 7,
   "metadata": {},
   "outputs": [
    {
     "name": "stdout",
     "output_type": "stream",
     "text": [
      "id: 1\n",
      "id: 2\n",
      "2.jpg\n"
     ]
    }
   ],
   "source": [
    "test_id = test_csv['image_id']\n",
    "\n",
    "index = 0\n",
    "print('id: %s' % (test_id[index]))\n",
    "index = 1\n",
    "print('id: %s' % (test_id[index]))\n",
    "\n",
    "image_file = '%s.jpg' % (test_id[index])\n",
    "print(image_file)"
   ]
  },
  {
   "cell_type": "markdown",
   "metadata": {},
   "source": [
    "## Create data_train，data_val, data_test folders and their subfolders"
   ]
  },
  {
   "cell_type": "code",
   "execution_count": 8,
   "metadata": {},
   "outputs": [
    {
     "name": "stdout",
     "output_type": "stream",
     "text": [
      "Folder exists: /data1/kaggle/imaterialist-challenge-furniture-2018/input/data_train\n",
      "Folder exists: /data1/kaggle/imaterialist-challenge-furniture-2018/input/data_train\n",
      "Folder exists: /data1/kaggle/imaterialist-challenge-furniture-2018/input/data_test\n",
      "Folder exists: /data1/kaggle/imaterialist-challenge-furniture-2018/input/data_test/test\n"
     ]
    }
   ],
   "source": [
    "if not os.path.exists(train_folder):\n",
    "    print('Create folder: %s' % train_folder)\n",
    "    os.mkdir(train_folder)\n",
    "else:\n",
    "    print('Folder exists: %s' % train_folder)\n",
    "\n",
    "if not os.path.exists(val_folder):\n",
    "    print('Create folder: %s' % val_folder)\n",
    "    os.mkdir(val_folder)\n",
    "else:\n",
    "    print('Folder exists: %s' % train_folder)\n",
    "\n",
    "    \n",
    "if not os.path.exists(test_folder):\n",
    "    print('Create folder: %s' % test_folder)\n",
    "    os.mkdir(test_folder)\n",
    "else:\n",
    "    print('Folder exists: %s' % test_folder)\n",
    "\n",
    "if not os.path.exists(test_sub_folder):\n",
    "    print('Create folder: %s' % test_sub_folder)\n",
    "    os.mkdir(test_sub_folder)\n",
    "else:\n",
    "    print('Folder exists: %s' % test_sub_folder)"
   ]
  },
  {
   "cell_type": "code",
   "execution_count": 9,
   "metadata": {},
   "outputs": [
    {
     "name": "stdout",
     "output_type": "stream",
     "text": [
      "len(unique_train_label_ids)=128\n",
      "sub_folder_name_len=3\n"
     ]
    }
   ],
   "source": [
    "unique_train_label_ids = list(set(train_label_id))\n",
    "print('len(unique_train_label_ids)=%d' % len(unique_train_label_ids))\n",
    "sub_folder_name_len = len(str(len(unique_train_label_ids)))\n",
    "print('sub_folder_name_len=%d' % sub_folder_name_len)"
   ]
  },
  {
   "cell_type": "code",
   "execution_count": 10,
   "metadata": {},
   "outputs": [
    {
     "name": "stdout",
     "output_type": "stream",
     "text": [
      "Folder exists: /data1/kaggle/imaterialist-challenge-furniture-2018/input/data_train/001\n",
      "Folder exists: /data1/kaggle/imaterialist-challenge-furniture-2018/input/data_train/002\n",
      "Folder exists: /data1/kaggle/imaterialist-challenge-furniture-2018/input/data_train/003\n",
      "Folder exists: /data1/kaggle/imaterialist-challenge-furniture-2018/input/data_train/004\n",
      "Folder exists: /data1/kaggle/imaterialist-challenge-furniture-2018/input/data_train/005\n",
      "Folder exists: /data1/kaggle/imaterialist-challenge-furniture-2018/input/data_train/006\n",
      "Folder exists: /data1/kaggle/imaterialist-challenge-furniture-2018/input/data_train/007\n",
      "Folder exists: /data1/kaggle/imaterialist-challenge-furniture-2018/input/data_train/008\n",
      "Folder exists: /data1/kaggle/imaterialist-challenge-furniture-2018/input/data_train/009\n",
      "Folder exists: /data1/kaggle/imaterialist-challenge-furniture-2018/input/data_train/010\n",
      "Folder exists: /data1/kaggle/imaterialist-challenge-furniture-2018/input/data_train/011\n",
      "Folder exists: /data1/kaggle/imaterialist-challenge-furniture-2018/input/data_train/012\n",
      "Folder exists: /data1/kaggle/imaterialist-challenge-furniture-2018/input/data_train/013\n",
      "Folder exists: /data1/kaggle/imaterialist-challenge-furniture-2018/input/data_train/014\n",
      "Folder exists: /data1/kaggle/imaterialist-challenge-furniture-2018/input/data_train/015\n",
      "Folder exists: /data1/kaggle/imaterialist-challenge-furniture-2018/input/data_train/016\n",
      "Folder exists: /data1/kaggle/imaterialist-challenge-furniture-2018/input/data_train/017\n",
      "Folder exists: /data1/kaggle/imaterialist-challenge-furniture-2018/input/data_train/018\n",
      "Folder exists: /data1/kaggle/imaterialist-challenge-furniture-2018/input/data_train/019\n",
      "Folder exists: /data1/kaggle/imaterialist-challenge-furniture-2018/input/data_train/020\n",
      "Folder exists: /data1/kaggle/imaterialist-challenge-furniture-2018/input/data_train/021\n",
      "Folder exists: /data1/kaggle/imaterialist-challenge-furniture-2018/input/data_train/022\n",
      "Folder exists: /data1/kaggle/imaterialist-challenge-furniture-2018/input/data_train/023\n",
      "Folder exists: /data1/kaggle/imaterialist-challenge-furniture-2018/input/data_train/024\n",
      "Folder exists: /data1/kaggle/imaterialist-challenge-furniture-2018/input/data_train/025\n",
      "Folder exists: /data1/kaggle/imaterialist-challenge-furniture-2018/input/data_train/026\n",
      "Folder exists: /data1/kaggle/imaterialist-challenge-furniture-2018/input/data_train/027\n",
      "Folder exists: /data1/kaggle/imaterialist-challenge-furniture-2018/input/data_train/028\n",
      "Folder exists: /data1/kaggle/imaterialist-challenge-furniture-2018/input/data_train/029\n",
      "Folder exists: /data1/kaggle/imaterialist-challenge-furniture-2018/input/data_train/030\n",
      "Folder exists: /data1/kaggle/imaterialist-challenge-furniture-2018/input/data_train/031\n",
      "Folder exists: /data1/kaggle/imaterialist-challenge-furniture-2018/input/data_train/032\n",
      "Folder exists: /data1/kaggle/imaterialist-challenge-furniture-2018/input/data_train/033\n",
      "Folder exists: /data1/kaggle/imaterialist-challenge-furniture-2018/input/data_train/034\n",
      "Folder exists: /data1/kaggle/imaterialist-challenge-furniture-2018/input/data_train/035\n",
      "Folder exists: /data1/kaggle/imaterialist-challenge-furniture-2018/input/data_train/036\n",
      "Folder exists: /data1/kaggle/imaterialist-challenge-furniture-2018/input/data_train/037\n",
      "Folder exists: /data1/kaggle/imaterialist-challenge-furniture-2018/input/data_train/038\n",
      "Folder exists: /data1/kaggle/imaterialist-challenge-furniture-2018/input/data_train/039\n",
      "Folder exists: /data1/kaggle/imaterialist-challenge-furniture-2018/input/data_train/040\n",
      "Folder exists: /data1/kaggle/imaterialist-challenge-furniture-2018/input/data_train/041\n",
      "Folder exists: /data1/kaggle/imaterialist-challenge-furniture-2018/input/data_train/042\n",
      "Folder exists: /data1/kaggle/imaterialist-challenge-furniture-2018/input/data_train/043\n",
      "Folder exists: /data1/kaggle/imaterialist-challenge-furniture-2018/input/data_train/044\n",
      "Folder exists: /data1/kaggle/imaterialist-challenge-furniture-2018/input/data_train/045\n",
      "Folder exists: /data1/kaggle/imaterialist-challenge-furniture-2018/input/data_train/046\n",
      "Folder exists: /data1/kaggle/imaterialist-challenge-furniture-2018/input/data_train/047\n",
      "Folder exists: /data1/kaggle/imaterialist-challenge-furniture-2018/input/data_train/048\n",
      "Folder exists: /data1/kaggle/imaterialist-challenge-furniture-2018/input/data_train/049\n",
      "Folder exists: /data1/kaggle/imaterialist-challenge-furniture-2018/input/data_train/050\n",
      "Folder exists: /data1/kaggle/imaterialist-challenge-furniture-2018/input/data_train/051\n",
      "Folder exists: /data1/kaggle/imaterialist-challenge-furniture-2018/input/data_train/052\n",
      "Folder exists: /data1/kaggle/imaterialist-challenge-furniture-2018/input/data_train/053\n",
      "Folder exists: /data1/kaggle/imaterialist-challenge-furniture-2018/input/data_train/054\n",
      "Folder exists: /data1/kaggle/imaterialist-challenge-furniture-2018/input/data_train/055\n",
      "Folder exists: /data1/kaggle/imaterialist-challenge-furniture-2018/input/data_train/056\n",
      "Folder exists: /data1/kaggle/imaterialist-challenge-furniture-2018/input/data_train/057\n",
      "Folder exists: /data1/kaggle/imaterialist-challenge-furniture-2018/input/data_train/058\n",
      "Folder exists: /data1/kaggle/imaterialist-challenge-furniture-2018/input/data_train/059\n",
      "Folder exists: /data1/kaggle/imaterialist-challenge-furniture-2018/input/data_train/060\n",
      "Folder exists: /data1/kaggle/imaterialist-challenge-furniture-2018/input/data_train/061\n",
      "Folder exists: /data1/kaggle/imaterialist-challenge-furniture-2018/input/data_train/062\n",
      "Folder exists: /data1/kaggle/imaterialist-challenge-furniture-2018/input/data_train/063\n",
      "Folder exists: /data1/kaggle/imaterialist-challenge-furniture-2018/input/data_train/064\n",
      "Folder exists: /data1/kaggle/imaterialist-challenge-furniture-2018/input/data_train/065\n",
      "Folder exists: /data1/kaggle/imaterialist-challenge-furniture-2018/input/data_train/066\n",
      "Folder exists: /data1/kaggle/imaterialist-challenge-furniture-2018/input/data_train/067\n",
      "Folder exists: /data1/kaggle/imaterialist-challenge-furniture-2018/input/data_train/068\n",
      "Folder exists: /data1/kaggle/imaterialist-challenge-furniture-2018/input/data_train/069\n",
      "Folder exists: /data1/kaggle/imaterialist-challenge-furniture-2018/input/data_train/070\n",
      "Folder exists: /data1/kaggle/imaterialist-challenge-furniture-2018/input/data_train/071\n",
      "Folder exists: /data1/kaggle/imaterialist-challenge-furniture-2018/input/data_train/072\n",
      "Folder exists: /data1/kaggle/imaterialist-challenge-furniture-2018/input/data_train/073\n",
      "Folder exists: /data1/kaggle/imaterialist-challenge-furniture-2018/input/data_train/074\n",
      "Folder exists: /data1/kaggle/imaterialist-challenge-furniture-2018/input/data_train/075\n",
      "Folder exists: /data1/kaggle/imaterialist-challenge-furniture-2018/input/data_train/076\n",
      "Folder exists: /data1/kaggle/imaterialist-challenge-furniture-2018/input/data_train/077\n",
      "Folder exists: /data1/kaggle/imaterialist-challenge-furniture-2018/input/data_train/078\n",
      "Folder exists: /data1/kaggle/imaterialist-challenge-furniture-2018/input/data_train/079\n",
      "Folder exists: /data1/kaggle/imaterialist-challenge-furniture-2018/input/data_train/080\n",
      "Folder exists: /data1/kaggle/imaterialist-challenge-furniture-2018/input/data_train/081\n",
      "Folder exists: /data1/kaggle/imaterialist-challenge-furniture-2018/input/data_train/082\n",
      "Folder exists: /data1/kaggle/imaterialist-challenge-furniture-2018/input/data_train/083\n",
      "Folder exists: /data1/kaggle/imaterialist-challenge-furniture-2018/input/data_train/084\n",
      "Folder exists: /data1/kaggle/imaterialist-challenge-furniture-2018/input/data_train/085\n",
      "Folder exists: /data1/kaggle/imaterialist-challenge-furniture-2018/input/data_train/086\n",
      "Folder exists: /data1/kaggle/imaterialist-challenge-furniture-2018/input/data_train/087\n",
      "Folder exists: /data1/kaggle/imaterialist-challenge-furniture-2018/input/data_train/088\n",
      "Folder exists: /data1/kaggle/imaterialist-challenge-furniture-2018/input/data_train/089\n",
      "Folder exists: /data1/kaggle/imaterialist-challenge-furniture-2018/input/data_train/090\n",
      "Folder exists: /data1/kaggle/imaterialist-challenge-furniture-2018/input/data_train/091\n",
      "Folder exists: /data1/kaggle/imaterialist-challenge-furniture-2018/input/data_train/092\n",
      "Folder exists: /data1/kaggle/imaterialist-challenge-furniture-2018/input/data_train/093\n",
      "Folder exists: /data1/kaggle/imaterialist-challenge-furniture-2018/input/data_train/094\n",
      "Folder exists: /data1/kaggle/imaterialist-challenge-furniture-2018/input/data_train/095\n",
      "Folder exists: /data1/kaggle/imaterialist-challenge-furniture-2018/input/data_train/096\n",
      "Folder exists: /data1/kaggle/imaterialist-challenge-furniture-2018/input/data_train/097\n",
      "Folder exists: /data1/kaggle/imaterialist-challenge-furniture-2018/input/data_train/098\n",
      "Folder exists: /data1/kaggle/imaterialist-challenge-furniture-2018/input/data_train/099\n",
      "Folder exists: /data1/kaggle/imaterialist-challenge-furniture-2018/input/data_train/100\n",
      "Folder exists: /data1/kaggle/imaterialist-challenge-furniture-2018/input/data_train/101\n",
      "Folder exists: /data1/kaggle/imaterialist-challenge-furniture-2018/input/data_train/102\n",
      "Folder exists: /data1/kaggle/imaterialist-challenge-furniture-2018/input/data_train/103\n",
      "Folder exists: /data1/kaggle/imaterialist-challenge-furniture-2018/input/data_train/104\n",
      "Folder exists: /data1/kaggle/imaterialist-challenge-furniture-2018/input/data_train/105\n",
      "Folder exists: /data1/kaggle/imaterialist-challenge-furniture-2018/input/data_train/106\n",
      "Folder exists: /data1/kaggle/imaterialist-challenge-furniture-2018/input/data_train/107\n",
      "Folder exists: /data1/kaggle/imaterialist-challenge-furniture-2018/input/data_train/108\n",
      "Folder exists: /data1/kaggle/imaterialist-challenge-furniture-2018/input/data_train/109\n",
      "Folder exists: /data1/kaggle/imaterialist-challenge-furniture-2018/input/data_train/110\n",
      "Folder exists: /data1/kaggle/imaterialist-challenge-furniture-2018/input/data_train/111\n",
      "Folder exists: /data1/kaggle/imaterialist-challenge-furniture-2018/input/data_train/112\n",
      "Folder exists: /data1/kaggle/imaterialist-challenge-furniture-2018/input/data_train/113\n",
      "Folder exists: /data1/kaggle/imaterialist-challenge-furniture-2018/input/data_train/114\n",
      "Folder exists: /data1/kaggle/imaterialist-challenge-furniture-2018/input/data_train/115\n",
      "Folder exists: /data1/kaggle/imaterialist-challenge-furniture-2018/input/data_train/116\n",
      "Folder exists: /data1/kaggle/imaterialist-challenge-furniture-2018/input/data_train/117\n",
      "Folder exists: /data1/kaggle/imaterialist-challenge-furniture-2018/input/data_train/118\n",
      "Folder exists: /data1/kaggle/imaterialist-challenge-furniture-2018/input/data_train/119\n",
      "Folder exists: /data1/kaggle/imaterialist-challenge-furniture-2018/input/data_train/120\n",
      "Folder exists: /data1/kaggle/imaterialist-challenge-furniture-2018/input/data_train/121\n",
      "Folder exists: /data1/kaggle/imaterialist-challenge-furniture-2018/input/data_train/122\n",
      "Folder exists: /data1/kaggle/imaterialist-challenge-furniture-2018/input/data_train/123\n",
      "Folder exists: /data1/kaggle/imaterialist-challenge-furniture-2018/input/data_train/124\n",
      "Folder exists: /data1/kaggle/imaterialist-challenge-furniture-2018/input/data_train/125\n",
      "Folder exists: /data1/kaggle/imaterialist-challenge-furniture-2018/input/data_train/126\n",
      "Folder exists: /data1/kaggle/imaterialist-challenge-furniture-2018/input/data_train/127\n",
      "Folder exists: /data1/kaggle/imaterialist-challenge-furniture-2018/input/data_train/128\n"
     ]
    }
   ],
   "source": [
    "for c in unique_train_label_ids:\n",
    "    train_sub_folder = os.path.join(train_folder, str(c).zfill(sub_folder_name_len))\n",
    "    if not os.path.exists(train_sub_folder):\n",
    "        print('Create folder: %s' % train_sub_folder)\n",
    "        os.mkdir(train_sub_folder)\n",
    "    else:\n",
    "        print('Folder exists: %s' % train_sub_folder)"
   ]
  },
  {
   "cell_type": "code",
   "execution_count": 11,
   "metadata": {},
   "outputs": [
    {
     "name": "stdout",
     "output_type": "stream",
     "text": [
      "Folder exists: /data1/kaggle/imaterialist-challenge-furniture-2018/input/data_val/001\n",
      "Folder exists: /data1/kaggle/imaterialist-challenge-furniture-2018/input/data_val/002\n",
      "Folder exists: /data1/kaggle/imaterialist-challenge-furniture-2018/input/data_val/003\n",
      "Folder exists: /data1/kaggle/imaterialist-challenge-furniture-2018/input/data_val/004\n",
      "Folder exists: /data1/kaggle/imaterialist-challenge-furniture-2018/input/data_val/005\n",
      "Folder exists: /data1/kaggle/imaterialist-challenge-furniture-2018/input/data_val/006\n",
      "Folder exists: /data1/kaggle/imaterialist-challenge-furniture-2018/input/data_val/007\n",
      "Folder exists: /data1/kaggle/imaterialist-challenge-furniture-2018/input/data_val/008\n",
      "Folder exists: /data1/kaggle/imaterialist-challenge-furniture-2018/input/data_val/009\n",
      "Folder exists: /data1/kaggle/imaterialist-challenge-furniture-2018/input/data_val/010\n",
      "Folder exists: /data1/kaggle/imaterialist-challenge-furniture-2018/input/data_val/011\n",
      "Folder exists: /data1/kaggle/imaterialist-challenge-furniture-2018/input/data_val/012\n",
      "Folder exists: /data1/kaggle/imaterialist-challenge-furniture-2018/input/data_val/013\n",
      "Folder exists: /data1/kaggle/imaterialist-challenge-furniture-2018/input/data_val/014\n",
      "Folder exists: /data1/kaggle/imaterialist-challenge-furniture-2018/input/data_val/015\n",
      "Folder exists: /data1/kaggle/imaterialist-challenge-furniture-2018/input/data_val/016\n",
      "Folder exists: /data1/kaggle/imaterialist-challenge-furniture-2018/input/data_val/017\n",
      "Folder exists: /data1/kaggle/imaterialist-challenge-furniture-2018/input/data_val/018\n",
      "Folder exists: /data1/kaggle/imaterialist-challenge-furniture-2018/input/data_val/019\n",
      "Folder exists: /data1/kaggle/imaterialist-challenge-furniture-2018/input/data_val/020\n",
      "Folder exists: /data1/kaggle/imaterialist-challenge-furniture-2018/input/data_val/021\n",
      "Folder exists: /data1/kaggle/imaterialist-challenge-furniture-2018/input/data_val/022\n",
      "Folder exists: /data1/kaggle/imaterialist-challenge-furniture-2018/input/data_val/023\n",
      "Folder exists: /data1/kaggle/imaterialist-challenge-furniture-2018/input/data_val/024\n",
      "Folder exists: /data1/kaggle/imaterialist-challenge-furniture-2018/input/data_val/025\n",
      "Folder exists: /data1/kaggle/imaterialist-challenge-furniture-2018/input/data_val/026\n",
      "Folder exists: /data1/kaggle/imaterialist-challenge-furniture-2018/input/data_val/027\n",
      "Folder exists: /data1/kaggle/imaterialist-challenge-furniture-2018/input/data_val/028\n",
      "Folder exists: /data1/kaggle/imaterialist-challenge-furniture-2018/input/data_val/029\n",
      "Folder exists: /data1/kaggle/imaterialist-challenge-furniture-2018/input/data_val/030\n",
      "Folder exists: /data1/kaggle/imaterialist-challenge-furniture-2018/input/data_val/031\n",
      "Folder exists: /data1/kaggle/imaterialist-challenge-furniture-2018/input/data_val/032\n",
      "Folder exists: /data1/kaggle/imaterialist-challenge-furniture-2018/input/data_val/033\n",
      "Folder exists: /data1/kaggle/imaterialist-challenge-furniture-2018/input/data_val/034\n",
      "Folder exists: /data1/kaggle/imaterialist-challenge-furniture-2018/input/data_val/035\n",
      "Folder exists: /data1/kaggle/imaterialist-challenge-furniture-2018/input/data_val/036\n",
      "Folder exists: /data1/kaggle/imaterialist-challenge-furniture-2018/input/data_val/037\n",
      "Folder exists: /data1/kaggle/imaterialist-challenge-furniture-2018/input/data_val/038\n",
      "Folder exists: /data1/kaggle/imaterialist-challenge-furniture-2018/input/data_val/039\n",
      "Folder exists: /data1/kaggle/imaterialist-challenge-furniture-2018/input/data_val/040\n",
      "Folder exists: /data1/kaggle/imaterialist-challenge-furniture-2018/input/data_val/041\n",
      "Folder exists: /data1/kaggle/imaterialist-challenge-furniture-2018/input/data_val/042\n",
      "Folder exists: /data1/kaggle/imaterialist-challenge-furniture-2018/input/data_val/043\n",
      "Folder exists: /data1/kaggle/imaterialist-challenge-furniture-2018/input/data_val/044\n",
      "Folder exists: /data1/kaggle/imaterialist-challenge-furniture-2018/input/data_val/045\n",
      "Folder exists: /data1/kaggle/imaterialist-challenge-furniture-2018/input/data_val/046\n",
      "Folder exists: /data1/kaggle/imaterialist-challenge-furniture-2018/input/data_val/047\n",
      "Folder exists: /data1/kaggle/imaterialist-challenge-furniture-2018/input/data_val/048\n",
      "Folder exists: /data1/kaggle/imaterialist-challenge-furniture-2018/input/data_val/049\n",
      "Folder exists: /data1/kaggle/imaterialist-challenge-furniture-2018/input/data_val/050\n",
      "Folder exists: /data1/kaggle/imaterialist-challenge-furniture-2018/input/data_val/051\n",
      "Folder exists: /data1/kaggle/imaterialist-challenge-furniture-2018/input/data_val/052\n",
      "Folder exists: /data1/kaggle/imaterialist-challenge-furniture-2018/input/data_val/053\n",
      "Folder exists: /data1/kaggle/imaterialist-challenge-furniture-2018/input/data_val/054\n",
      "Folder exists: /data1/kaggle/imaterialist-challenge-furniture-2018/input/data_val/055\n",
      "Folder exists: /data1/kaggle/imaterialist-challenge-furniture-2018/input/data_val/056\n",
      "Folder exists: /data1/kaggle/imaterialist-challenge-furniture-2018/input/data_val/057\n",
      "Folder exists: /data1/kaggle/imaterialist-challenge-furniture-2018/input/data_val/058\n",
      "Folder exists: /data1/kaggle/imaterialist-challenge-furniture-2018/input/data_val/059\n",
      "Folder exists: /data1/kaggle/imaterialist-challenge-furniture-2018/input/data_val/060\n",
      "Folder exists: /data1/kaggle/imaterialist-challenge-furniture-2018/input/data_val/061\n",
      "Folder exists: /data1/kaggle/imaterialist-challenge-furniture-2018/input/data_val/062\n",
      "Folder exists: /data1/kaggle/imaterialist-challenge-furniture-2018/input/data_val/063\n",
      "Folder exists: /data1/kaggle/imaterialist-challenge-furniture-2018/input/data_val/064\n",
      "Folder exists: /data1/kaggle/imaterialist-challenge-furniture-2018/input/data_val/065\n",
      "Folder exists: /data1/kaggle/imaterialist-challenge-furniture-2018/input/data_val/066\n",
      "Folder exists: /data1/kaggle/imaterialist-challenge-furniture-2018/input/data_val/067\n",
      "Folder exists: /data1/kaggle/imaterialist-challenge-furniture-2018/input/data_val/068\n",
      "Folder exists: /data1/kaggle/imaterialist-challenge-furniture-2018/input/data_val/069\n",
      "Folder exists: /data1/kaggle/imaterialist-challenge-furniture-2018/input/data_val/070\n",
      "Folder exists: /data1/kaggle/imaterialist-challenge-furniture-2018/input/data_val/071\n",
      "Folder exists: /data1/kaggle/imaterialist-challenge-furniture-2018/input/data_val/072\n",
      "Folder exists: /data1/kaggle/imaterialist-challenge-furniture-2018/input/data_val/073\n",
      "Folder exists: /data1/kaggle/imaterialist-challenge-furniture-2018/input/data_val/074\n",
      "Folder exists: /data1/kaggle/imaterialist-challenge-furniture-2018/input/data_val/075\n",
      "Folder exists: /data1/kaggle/imaterialist-challenge-furniture-2018/input/data_val/076\n",
      "Folder exists: /data1/kaggle/imaterialist-challenge-furniture-2018/input/data_val/077\n",
      "Folder exists: /data1/kaggle/imaterialist-challenge-furniture-2018/input/data_val/078\n",
      "Folder exists: /data1/kaggle/imaterialist-challenge-furniture-2018/input/data_val/079\n",
      "Folder exists: /data1/kaggle/imaterialist-challenge-furniture-2018/input/data_val/080\n",
      "Folder exists: /data1/kaggle/imaterialist-challenge-furniture-2018/input/data_val/081\n",
      "Folder exists: /data1/kaggle/imaterialist-challenge-furniture-2018/input/data_val/082\n",
      "Folder exists: /data1/kaggle/imaterialist-challenge-furniture-2018/input/data_val/083\n",
      "Folder exists: /data1/kaggle/imaterialist-challenge-furniture-2018/input/data_val/084\n",
      "Folder exists: /data1/kaggle/imaterialist-challenge-furniture-2018/input/data_val/085\n",
      "Folder exists: /data1/kaggle/imaterialist-challenge-furniture-2018/input/data_val/086\n",
      "Folder exists: /data1/kaggle/imaterialist-challenge-furniture-2018/input/data_val/087\n",
      "Folder exists: /data1/kaggle/imaterialist-challenge-furniture-2018/input/data_val/088\n",
      "Folder exists: /data1/kaggle/imaterialist-challenge-furniture-2018/input/data_val/089\n",
      "Folder exists: /data1/kaggle/imaterialist-challenge-furniture-2018/input/data_val/090\n",
      "Folder exists: /data1/kaggle/imaterialist-challenge-furniture-2018/input/data_val/091\n",
      "Folder exists: /data1/kaggle/imaterialist-challenge-furniture-2018/input/data_val/092\n",
      "Folder exists: /data1/kaggle/imaterialist-challenge-furniture-2018/input/data_val/093\n",
      "Folder exists: /data1/kaggle/imaterialist-challenge-furniture-2018/input/data_val/094\n",
      "Folder exists: /data1/kaggle/imaterialist-challenge-furniture-2018/input/data_val/095\n",
      "Folder exists: /data1/kaggle/imaterialist-challenge-furniture-2018/input/data_val/096\n",
      "Folder exists: /data1/kaggle/imaterialist-challenge-furniture-2018/input/data_val/097\n",
      "Folder exists: /data1/kaggle/imaterialist-challenge-furniture-2018/input/data_val/098\n",
      "Folder exists: /data1/kaggle/imaterialist-challenge-furniture-2018/input/data_val/099\n",
      "Folder exists: /data1/kaggle/imaterialist-challenge-furniture-2018/input/data_val/100\n",
      "Folder exists: /data1/kaggle/imaterialist-challenge-furniture-2018/input/data_val/101\n",
      "Folder exists: /data1/kaggle/imaterialist-challenge-furniture-2018/input/data_val/102\n",
      "Folder exists: /data1/kaggle/imaterialist-challenge-furniture-2018/input/data_val/103\n",
      "Folder exists: /data1/kaggle/imaterialist-challenge-furniture-2018/input/data_val/104\n",
      "Folder exists: /data1/kaggle/imaterialist-challenge-furniture-2018/input/data_val/105\n",
      "Folder exists: /data1/kaggle/imaterialist-challenge-furniture-2018/input/data_val/106\n",
      "Folder exists: /data1/kaggle/imaterialist-challenge-furniture-2018/input/data_val/107\n",
      "Folder exists: /data1/kaggle/imaterialist-challenge-furniture-2018/input/data_val/108\n",
      "Folder exists: /data1/kaggle/imaterialist-challenge-furniture-2018/input/data_val/109\n",
      "Folder exists: /data1/kaggle/imaterialist-challenge-furniture-2018/input/data_val/110\n",
      "Folder exists: /data1/kaggle/imaterialist-challenge-furniture-2018/input/data_val/111\n",
      "Folder exists: /data1/kaggle/imaterialist-challenge-furniture-2018/input/data_val/112\n",
      "Folder exists: /data1/kaggle/imaterialist-challenge-furniture-2018/input/data_val/113\n",
      "Folder exists: /data1/kaggle/imaterialist-challenge-furniture-2018/input/data_val/114\n",
      "Folder exists: /data1/kaggle/imaterialist-challenge-furniture-2018/input/data_val/115\n",
      "Folder exists: /data1/kaggle/imaterialist-challenge-furniture-2018/input/data_val/116\n",
      "Folder exists: /data1/kaggle/imaterialist-challenge-furniture-2018/input/data_val/117\n",
      "Folder exists: /data1/kaggle/imaterialist-challenge-furniture-2018/input/data_val/118\n",
      "Folder exists: /data1/kaggle/imaterialist-challenge-furniture-2018/input/data_val/119\n",
      "Folder exists: /data1/kaggle/imaterialist-challenge-furniture-2018/input/data_val/120\n",
      "Folder exists: /data1/kaggle/imaterialist-challenge-furniture-2018/input/data_val/121\n",
      "Folder exists: /data1/kaggle/imaterialist-challenge-furniture-2018/input/data_val/122\n",
      "Folder exists: /data1/kaggle/imaterialist-challenge-furniture-2018/input/data_val/123\n",
      "Folder exists: /data1/kaggle/imaterialist-challenge-furniture-2018/input/data_val/124\n",
      "Folder exists: /data1/kaggle/imaterialist-challenge-furniture-2018/input/data_val/125\n",
      "Folder exists: /data1/kaggle/imaterialist-challenge-furniture-2018/input/data_val/126\n",
      "Folder exists: /data1/kaggle/imaterialist-challenge-furniture-2018/input/data_val/127\n",
      "Folder exists: /data1/kaggle/imaterialist-challenge-furniture-2018/input/data_val/128\n"
     ]
    }
   ],
   "source": [
    "for c in unique_train_label_ids:\n",
    "    val_sub_folder = os.path.join(val_folder, str(c).zfill(sub_folder_name_len))\n",
    "    if not os.path.exists(val_sub_folder):\n",
    "        print('Create folder: %s' % val_sub_folder)\n",
    "        os.mkdir(val_sub_folder)\n",
    "    else:\n",
    "        print('Folder exists: %s' % val_sub_folder)"
   ]
  },
  {
   "cell_type": "markdown",
   "metadata": {},
   "source": [
    "## Move images to corresponding subfolders"
   ]
  },
  {
   "cell_type": "code",
   "execution_count": 12,
   "metadata": {},
   "outputs": [
    {
     "name": "stdout",
     "output_type": "stream",
     "text": [
      "194828 191261\n",
      "0.01  0.01  0.02  0.02  0.03  0.03  0.04  0.04  0.05  0.05  0.06  0.06  0.07  0.07  0.08  0.08  0.09  0.09  0.10  0.10  0.11  0.12  0.12  0.13  0.13  0.14  0.14  0.15  0.15  0.16  0.16  0.17  0.17  0.18  0.18  0.19  0.19  0.20  0.20  0.21  0.21  0.22  0.22  0.23  0.24  0.24  0.25  0.25  0.26  0.26  0.27  0.27  0.28  0.28  0.29  0.29  0.30  0.30  0.31  0.31  0.32  0.32  0.33  0.33  0.34  0.35  0.35  0.36  0.36  0.37  0.37  0.38  0.38  0.39  0.39  0.40  0.40  0.41  0.41  0.42  0.42  0.43  0.43  0.44  0.44  0.45  0.45  0.46  0.47  0.47  0.48  0.48  0.49  0.49  0.50  0.50  0.51  0.51  0.52  0.52  0.53  0.53  0.54  0.54  0.55  0.55  0.56  0.56  0.57  0.58  0.58  0.59  0.59  0.60  0.60  0.61  0.61  0.62  0.62  0.63  0.63  0.64  0.64  0.65  0.65  0.66  0.66  0.67  0.67  0.68  0.68  0.69  0.70  0.70  0.71  0.71  0.72  0.72  0.73  0.73  0.74  0.74  0.75  0.75  0.76  0.76  0.77  0.77  0.78  0.78  0.79  0.79  0.80  0.81  0.81  0.82  0.82  0.83  0.83  0.84  0.84  0.85  0.85  0.86  0.86  0.87  0.87  0.88  0.88  0.89  0.89  0.90  0.90  0.91  0.91  0.92  0.93  0.93  0.94  0.94  0.95  0.95  0.96  0.96  0.97  0.97  0.98  0.98  0.99  0.99  1.00  CPU times: user 30.1 s, sys: 51.5 s, total: 1min 21s\n",
      "Wall time: 40min 55s\n"
     ]
    }
   ],
   "source": [
    "%%time\n",
    "i = 0\n",
    "data_train_amount = len(train_label_id)\n",
    "data_train_images = os.listdir(org_train_folder)\n",
    "len_data_train_images = len(data_train_images)\n",
    "print(data_train_amount, len_data_train_images)\n",
    "\n",
    "for image_name in data_train_images:\n",
    "    image_info = image_name.replace('.', '_')\n",
    "    image_info = image_info.split('_')\n",
    "    src_img = os.path.join(org_train_folder, image_name)\n",
    "    target_folder = os.path.join(train_folder, str(id_2_train_label_id_dict[int(image_info[0])]).zfill(sub_folder_name_len))\n",
    "#     print(image_info)\n",
    "#     print(src_img)\n",
    "#     print(target_folder)\n",
    "    shutil.copy(src_img, target_folder)\n",
    "    i = i+1\n",
    "    if i%1000 == 0:\n",
    "        print('%.2f' % (i/len_data_train_images), end='  ')"
   ]
  },
  {
   "cell_type": "code",
   "execution_count": 13,
   "metadata": {},
   "outputs": [
    {
     "name": "stdout",
     "output_type": "stream",
     "text": [
      "6400 6301\n",
      "0.16  0.32  0.48  0.63  0.79  0.95  CPU times: user 1.05 s, sys: 1.62 s, total: 2.68 s\n",
      "Wall time: 1min 22s\n"
     ]
    }
   ],
   "source": [
    "%%time\n",
    "i = 0\n",
    "data_val_amount = len(val_label_id)\n",
    "data_val_images = os.listdir(org_val_folder)\n",
    "len_data_val_images = len(data_val_images)\n",
    "print(data_val_amount, len_data_val_images)\n",
    "\n",
    "for image_name in data_val_images:\n",
    "    image_info = image_name.replace('.', '_')\n",
    "    image_info = image_info.split('_')\n",
    "    src_img = os.path.join(org_val_folder, image_name)\n",
    "    target_folder = os.path.join(val_folder, str(id_2_val_label_id_dict[int(image_info[0])]).zfill(sub_folder_name_len))\n",
    "#     print(image_info)\n",
    "#     print(src_img)\n",
    "#     print(target_folder)\n",
    "    shutil.copy(src_img, target_folder)\n",
    "    i = i+1\n",
    "    if i%1000 == 0:\n",
    "        print('%.2f' % (i/len_data_val_images), end='  ')"
   ]
  },
  {
   "cell_type": "code",
   "execution_count": 14,
   "metadata": {},
   "outputs": [
    {
     "name": "stdout",
     "output_type": "stream",
     "text": [
      "12800 12652\n",
      "0.08  0.16  0.24  0.32  0.40  0.47  0.55  0.63  0.71  0.79  0.87  0.95  CPU times: user 1.44 s, sys: 3.58 s, total: 5.01 s\n",
      "Wall time: 2min 48s\n"
     ]
    }
   ],
   "source": [
    "%%time\n",
    "i = 0\n",
    "data_test_amount = len(test_csv['image_id'])\n",
    "data_test_images = os.listdir(org_test_folder)\n",
    "len_data_test_images = len(data_test_images)\n",
    "print(data_test_amount, len_data_test_images)\n",
    "\n",
    "for image_name in data_test_images:\n",
    "    src_img = os.path.join(org_test_folder, image_name)\n",
    "    target_folder = test_sub_folder\n",
    "#     print(image_name)\n",
    "#     print(src_img)\n",
    "#     print(target_folder)\n",
    "    shutil.copy(src_img, target_folder)\n",
    "    i = i+1\n",
    "    if i%1000 == 0:\n",
    "        print('%.2f' % (i/len_data_test_images), end='  ')"
   ]
  },
  {
   "cell_type": "code",
   "execution_count": 15,
   "metadata": {},
   "outputs": [
    {
     "name": "stdout",
     "output_type": "stream",
     "text": [
      "Done!\n"
     ]
    }
   ],
   "source": [
    "print('Done!')"
   ]
  },
  {
   "cell_type": "code",
   "execution_count": null,
   "metadata": {
    "collapsed": true
   },
   "outputs": [],
   "source": []
  }
 ],
 "metadata": {
  "kernelspec": {
   "display_name": "Python 3",
   "language": "python",
   "name": "python3"
  },
  "language_info": {
   "codemirror_mode": {
    "name": "ipython",
    "version": 3
   },
   "file_extension": ".py",
   "mimetype": "text/x-python",
   "name": "python",
   "nbconvert_exporter": "python",
   "pygments_lexer": "ipython3",
   "version": "3.6.4"
  }
 },
 "nbformat": 4,
 "nbformat_minor": 2
}
