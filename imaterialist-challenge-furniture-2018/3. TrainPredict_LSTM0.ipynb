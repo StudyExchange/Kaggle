{
 "cells": [
  {
   "cell_type": "markdown",
   "metadata": {},
   "source": [
    "# 3. TrainPredict_LSTM0\n",
    "## Result:\n",
    "- Kaggle score: 0.99270\n",
    "\n",
    "## Tensorboard:\n",
    "- Input at command: tensorboard --logdir=./log\n",
    "- Input at browser: http://127.0.0.1:6006\n",
    "\n",
    "## Reference:\n",
    "- https://www.kaggle.com/codename007/a-very-extensive-landmark-exploratory-analysis\n"
   ]
  },
  {
   "cell_type": "markdown",
   "metadata": {},
   "source": [
    "## Run name"
   ]
  },
  {
   "cell_type": "code",
   "execution_count": 2,
   "metadata": {},
   "outputs": [
    {
     "name": "stdout",
     "output_type": "stream",
     "text": [
      "run_name: ic_furniture2018_TrainPredict_LSTM0_20180416_134642\n"
     ]
    }
   ],
   "source": [
    "import time\n",
    "\n",
    "project_name = 'ic_furniture2018'\n",
    "step_name = 'TrainPredict_LSTM0'\n",
    "time_str = time.strftime(\"%Y%m%d_%H%M%S\", time.localtime())\n",
    "run_name = project_name + '_' + step_name + '_' + time_str\n",
    "print('run_name: ' + run_name)"
   ]
  },
  {
   "cell_type": "markdown",
   "metadata": {},
   "source": [
    "## Import PKGs"
   ]
  },
  {
   "cell_type": "code",
   "execution_count": 1,
   "metadata": {},
   "outputs": [],
   "source": [
    "import numpy as np\n",
    "import pandas as pd\n",
    "import matplotlib.pyplot as plt\n",
    "import matplotlib.image as mpimg\n",
    "%matplotlib inline\n",
    "from IPython.display import display\n",
    "\n",
    "import os\n",
    "import gc\n",
    "import zipfile\n",
    "import pickle\n",
    "import math\n",
    "import pdb\n",
    "from PIL import Image\n",
    "import shutil\n",
    "\n",
    "from tqdm import tqdm\n",
    "import multiprocessing"
   ]
  },
  {
   "cell_type": "markdown",
   "metadata": {},
   "source": [
    "## Project folders"
   ]
  },
  {
   "cell_type": "code",
   "execution_count": 3,
   "metadata": {},
   "outputs": [
    {
     "name": "stdout",
     "output_type": "stream",
     "text": [
      "input_folder: \t\t\t/data1/kaggle/imaterialist-challenge-furniture-2018/input\n",
      "output_folder: \t\t\t/data1/kaggle/imaterialist-challenge-furniture-2018/output\n",
      "model_folder: \t\t\t/data1/kaggle/imaterialist-challenge-furniture-2018/model\n",
      "feature_folder: \t\t/data1/kaggle/imaterialist-challenge-furniture-2018/feature\n",
      "post_pca_feature_folder: \t/data1/kaggle/imaterialist-challenge-furniture-2018/post_pca_feature\n",
      "log_folder: \t\t\t/data1/kaggle/imaterialist-challenge-furniture-2018/log\n",
      "\n",
      "train_json_file: \t\t/data1/kaggle/imaterialist-challenge-furniture-2018/input/train.json\n",
      "val_json_file: \t\t\t/data1/kaggle/imaterialist-challenge-furniture-2018/input/validation.json\n",
      "test_json_file: \t\t/data1/kaggle/imaterialist-challenge-furniture-2018/input/test.json\n",
      "\n",
      "train_csv_file: \t\t/data1/kaggle/imaterialist-challenge-furniture-2018/input/train.csv\n",
      "val_csv_file: \t\t\t/data1/kaggle/imaterialist-challenge-furniture-2018/input/validation.csv\n",
      "test_csv_file: \t\t\t/data1/kaggle/imaterialist-challenge-furniture-2018/input/test.csv\n",
      "\n",
      "sample_submission_csv_file: \t/data1/kaggle/imaterialist-challenge-furniture-2018/input/sample_submission_randomlabel.csv\n"
     ]
    }
   ],
   "source": [
    "cwd = os.getcwd()\n",
    "input_folder = os.path.join(cwd, 'input')\n",
    "output_folder = os.path.join(cwd, 'output')\n",
    "model_folder = os.path.join(cwd, 'model')\n",
    "feature_folder = os.path.join(cwd, 'feature')\n",
    "post_pca_feature_folder = os.path.join(cwd, 'post_pca_feature')\n",
    "log_folder = os.path.join(cwd, 'log')\n",
    "print('input_folder: \\t\\t\\t%s' % input_folder)\n",
    "print('output_folder: \\t\\t\\t%s' % output_folder)\n",
    "print('model_folder: \\t\\t\\t%s' % model_folder)\n",
    "print('feature_folder: \\t\\t%s' % feature_folder)\n",
    "print('post_pca_feature_folder: \\t%s' % post_pca_feature_folder)\n",
    "print('log_folder: \\t\\t\\t%s' % log_folder)\n",
    "\n",
    "org_train_folder = os.path.join(input_folder, 'org_train')\n",
    "org_val_folder = os.path.join(input_folder, 'org_val')\n",
    "org_test_folder = os.path.join(input_folder, 'org_test')\n",
    "train_folder = os.path.join(input_folder, 'data_train')\n",
    "val_folder = os.path.join(input_folder, 'data_val')\n",
    "test_folder = os.path.join(input_folder, 'data_test')\n",
    "test_sub_folder = os.path.join(test_folder, 'test')\n",
    "\n",
    "if not os.path.exists(post_pca_feature_folder):\n",
    "    os.mkdir(post_pca_feature_folder)\n",
    "    print('Create folder: %s' % post_pca_feature_folder)\n",
    "\n",
    "train_json_file = os.path.join(input_folder, 'train.json')\n",
    "val_json_file = os.path.join(input_folder, 'validation.json')\n",
    "test_json_file = os.path.join(input_folder, 'test.json')\n",
    "print('\\ntrain_json_file: \\t\\t%s' % train_json_file)\n",
    "print('val_json_file: \\t\\t\\t%s' % val_json_file)\n",
    "print('test_json_file: \\t\\t%s' % test_json_file)\n",
    "\n",
    "train_csv_file = os.path.join(input_folder, 'train.csv')\n",
    "val_csv_file = os.path.join(input_folder, 'validation.csv')\n",
    "test_csv_file = os.path.join(input_folder, 'test.csv')\n",
    "print('\\ntrain_csv_file: \\t\\t%s' % train_csv_file)\n",
    "print('val_csv_file: \\t\\t\\t%s' % val_csv_file)\n",
    "print('test_csv_file: \\t\\t\\t%s' % test_csv_file)\n",
    "\n",
    "sample_submission_csv_file = os.path.join(input_folder, 'sample_submission_randomlabel.csv')\n",
    "print('\\nsample_submission_csv_file: \\t%s' % sample_submission_csv_file)"
   ]
  },
  {
   "cell_type": "markdown",
   "metadata": {},
   "source": [
    "## Preview data"
   ]
  },
  {
   "cell_type": "code",
   "execution_count": 4,
   "metadata": {},
   "outputs": [
    {
     "name": "stdout",
     "output_type": "stream",
     "text": [
      "train_csv.shape is (194828, 3).\n"
     ]
    },
    {
     "data": {
      "text/html": [
       "<div>\n",
       "<style scoped>\n",
       "    .dataframe tbody tr th:only-of-type {\n",
       "        vertical-align: middle;\n",
       "    }\n",
       "\n",
       "    .dataframe tbody tr th {\n",
       "        vertical-align: top;\n",
       "    }\n",
       "\n",
       "    .dataframe thead th {\n",
       "        text-align: right;\n",
       "    }\n",
       "</style>\n",
       "<table border=\"1\" class=\"dataframe\">\n",
       "  <thead>\n",
       "    <tr style=\"text-align: right;\">\n",
       "      <th></th>\n",
       "      <th>image_id</th>\n",
       "      <th>label_id</th>\n",
       "      <th>url</th>\n",
       "    </tr>\n",
       "  </thead>\n",
       "  <tbody>\n",
       "    <tr>\n",
       "      <th>0</th>\n",
       "      <td>1</td>\n",
       "      <td>5</td>\n",
       "      <td>https://img13.360buyimg.com/imgzone/jfs/t2857/...</td>\n",
       "    </tr>\n",
       "    <tr>\n",
       "      <th>1</th>\n",
       "      <td>2</td>\n",
       "      <td>5</td>\n",
       "      <td>http://www.tengdakeli.cn/350/timg01/uploaded/i...</td>\n",
       "    </tr>\n",
       "  </tbody>\n",
       "</table>\n",
       "</div>"
      ],
      "text/plain": [
       "   image_id  label_id                                                url\n",
       "0         1         5  https://img13.360buyimg.com/imgzone/jfs/t2857/...\n",
       "1         2         5  http://www.tengdakeli.cn/350/timg01/uploaded/i..."
      ]
     },
     "metadata": {},
     "output_type": "display_data"
    },
    {
     "name": "stdout",
     "output_type": "stream",
     "text": [
      "val_csv.shape is (6400, 3).\n"
     ]
    },
    {
     "data": {
      "text/html": [
       "<div>\n",
       "<style scoped>\n",
       "    .dataframe tbody tr th:only-of-type {\n",
       "        vertical-align: middle;\n",
       "    }\n",
       "\n",
       "    .dataframe tbody tr th {\n",
       "        vertical-align: top;\n",
       "    }\n",
       "\n",
       "    .dataframe thead th {\n",
       "        text-align: right;\n",
       "    }\n",
       "</style>\n",
       "<table border=\"1\" class=\"dataframe\">\n",
       "  <thead>\n",
       "    <tr style=\"text-align: right;\">\n",
       "      <th></th>\n",
       "      <th>image_id</th>\n",
       "      <th>label_id</th>\n",
       "      <th>url</th>\n",
       "    </tr>\n",
       "  </thead>\n",
       "  <tbody>\n",
       "    <tr>\n",
       "      <th>0</th>\n",
       "      <td>1</td>\n",
       "      <td>38</td>\n",
       "      <td>http://www.ghs.net/public/images/fb/3d/51/3beb...</td>\n",
       "    </tr>\n",
       "    <tr>\n",
       "      <th>1</th>\n",
       "      <td>2</td>\n",
       "      <td>63</td>\n",
       "      <td>https://img.alicdn.com/imgextra/TB2chFei9YH8KJ...</td>\n",
       "    </tr>\n",
       "  </tbody>\n",
       "</table>\n",
       "</div>"
      ],
      "text/plain": [
       "   image_id  label_id                                                url\n",
       "0         1        38  http://www.ghs.net/public/images/fb/3d/51/3beb...\n",
       "1         2        63  https://img.alicdn.com/imgextra/TB2chFei9YH8KJ..."
      ]
     },
     "metadata": {},
     "output_type": "display_data"
    },
    {
     "name": "stdout",
     "output_type": "stream",
     "text": [
      "test_csv.shape is (12800, 2).\n"
     ]
    },
    {
     "data": {
      "text/html": [
       "<div>\n",
       "<style scoped>\n",
       "    .dataframe tbody tr th:only-of-type {\n",
       "        vertical-align: middle;\n",
       "    }\n",
       "\n",
       "    .dataframe tbody tr th {\n",
       "        vertical-align: top;\n",
       "    }\n",
       "\n",
       "    .dataframe thead th {\n",
       "        text-align: right;\n",
       "    }\n",
       "</style>\n",
       "<table border=\"1\" class=\"dataframe\">\n",
       "  <thead>\n",
       "    <tr style=\"text-align: right;\">\n",
       "      <th></th>\n",
       "      <th>image_id</th>\n",
       "      <th>url</th>\n",
       "    </tr>\n",
       "  </thead>\n",
       "  <tbody>\n",
       "    <tr>\n",
       "      <th>0</th>\n",
       "      <td>1</td>\n",
       "      <td>https://img13.360buyimg.com/imgzone/jfs/t13174...</td>\n",
       "    </tr>\n",
       "    <tr>\n",
       "      <th>1</th>\n",
       "      <td>2</td>\n",
       "      <td>http://img35.ddimg.cn/79/22/1258168705-1_u.jpg</td>\n",
       "    </tr>\n",
       "  </tbody>\n",
       "</table>\n",
       "</div>"
      ],
      "text/plain": [
       "   image_id                                                url\n",
       "0         1  https://img13.360buyimg.com/imgzone/jfs/t13174...\n",
       "1         2     http://img35.ddimg.cn/79/22/1258168705-1_u.jpg"
      ]
     },
     "metadata": {},
     "output_type": "display_data"
    },
    {
     "name": "stdout",
     "output_type": "stream",
     "text": [
      "test_csv.shape is (12800, 2).\n"
     ]
    },
    {
     "data": {
      "text/html": [
       "<div>\n",
       "<style scoped>\n",
       "    .dataframe tbody tr th:only-of-type {\n",
       "        vertical-align: middle;\n",
       "    }\n",
       "\n",
       "    .dataframe tbody tr th {\n",
       "        vertical-align: top;\n",
       "    }\n",
       "\n",
       "    .dataframe thead th {\n",
       "        text-align: right;\n",
       "    }\n",
       "</style>\n",
       "<table border=\"1\" class=\"dataframe\">\n",
       "  <thead>\n",
       "    <tr style=\"text-align: right;\">\n",
       "      <th></th>\n",
       "      <th>image_id</th>\n",
       "      <th>url</th>\n",
       "    </tr>\n",
       "  </thead>\n",
       "  <tbody>\n",
       "    <tr>\n",
       "      <th>0</th>\n",
       "      <td>1</td>\n",
       "      <td>https://img13.360buyimg.com/imgzone/jfs/t13174...</td>\n",
       "    </tr>\n",
       "    <tr>\n",
       "      <th>1</th>\n",
       "      <td>2</td>\n",
       "      <td>http://img35.ddimg.cn/79/22/1258168705-1_u.jpg</td>\n",
       "    </tr>\n",
       "  </tbody>\n",
       "</table>\n",
       "</div>"
      ],
      "text/plain": [
       "   image_id                                                url\n",
       "0         1  https://img13.360buyimg.com/imgzone/jfs/t13174...\n",
       "1         2     http://img35.ddimg.cn/79/22/1258168705-1_u.jpg"
      ]
     },
     "metadata": {},
     "output_type": "display_data"
    },
    {
     "name": "stdout",
     "output_type": "stream",
     "text": [
      "sample_submission_csv.shape is (12800, 2).\n"
     ]
    },
    {
     "data": {
      "text/html": [
       "<div>\n",
       "<style scoped>\n",
       "    .dataframe tbody tr th:only-of-type {\n",
       "        vertical-align: middle;\n",
       "    }\n",
       "\n",
       "    .dataframe tbody tr th {\n",
       "        vertical-align: top;\n",
       "    }\n",
       "\n",
       "    .dataframe thead th {\n",
       "        text-align: right;\n",
       "    }\n",
       "</style>\n",
       "<table border=\"1\" class=\"dataframe\">\n",
       "  <thead>\n",
       "    <tr style=\"text-align: right;\">\n",
       "      <th></th>\n",
       "      <th>id</th>\n",
       "      <th>predicted</th>\n",
       "    </tr>\n",
       "  </thead>\n",
       "  <tbody>\n",
       "    <tr>\n",
       "      <th>0</th>\n",
       "      <td>1</td>\n",
       "      <td>57</td>\n",
       "    </tr>\n",
       "    <tr>\n",
       "      <th>1</th>\n",
       "      <td>2</td>\n",
       "      <td>74</td>\n",
       "    </tr>\n",
       "  </tbody>\n",
       "</table>\n",
       "</div>"
      ],
      "text/plain": [
       "   id  predicted\n",
       "0   1         57\n",
       "1   2         74"
      ]
     },
     "metadata": {},
     "output_type": "display_data"
    }
   ],
   "source": [
    "train_csv = pd.read_csv(train_csv_file)\n",
    "print('train_csv.shape is {0}.'.format(train_csv.shape))\n",
    "display(train_csv.head(2))\n",
    "\n",
    "val_csv = pd.read_csv(val_csv_file)\n",
    "print('val_csv.shape is {0}.'.format(val_csv.shape))\n",
    "display(val_csv.head(2))\n",
    "\n",
    "test_csv = pd.read_csv(test_csv_file)\n",
    "print('test_csv.shape is {0}.'.format(test_csv.shape))\n",
    "display(test_csv.head(2))\n",
    "\n",
    "test_csv = pd.read_csv(test_csv_file)\n",
    "print('test_csv.shape is {0}.'.format(test_csv.shape))\n",
    "display(test_csv.head(2))\n",
    "\n",
    "sample_submission_csv = pd.read_csv(sample_submission_csv_file)\n",
    "print('sample_submission_csv.shape is {0}.'.format(sample_submission_csv.shape))\n",
    "display(sample_submission_csv.head(2))"
   ]
  },
  {
   "cell_type": "code",
   "execution_count": 5,
   "metadata": {},
   "outputs": [
    {
     "name": "stdout",
     "output_type": "stream",
     "text": [
      "len(id_2_train_label_id_dict)=194828\n",
      "id: 1, \tlandmark_id:5\n",
      "id: 2, \tlandmark_id:5\n",
      "2_5.jpg\n"
     ]
    }
   ],
   "source": [
    "train_id = train_csv['image_id']\n",
    "train_label_id = train_csv['label_id']\n",
    "\n",
    "id_2_train_label_id_dict = dict(zip(train_id, train_label_id))\n",
    "print('len(id_2_train_label_id_dict)=%d' % len(id_2_train_label_id_dict))\n",
    "\n",
    "index = 0\n",
    "print('id: %s, \\tlandmark_id:%s' % (train_id[index], id_2_train_label_id_dict[train_id[index]]))\n",
    "index = 1\n",
    "print('id: %s, \\tlandmark_id:%s' % (train_id[index], id_2_train_label_id_dict[train_id[index]]))\n",
    "\n",
    "image_file = '%s_%s.jpg' % (train_id[index], id_2_train_label_id_dict[train_id[index]])\n",
    "print(image_file)"
   ]
  },
  {
   "cell_type": "code",
   "execution_count": 6,
   "metadata": {},
   "outputs": [
    {
     "name": "stdout",
     "output_type": "stream",
     "text": [
      "len(id_2_val_label_id_dict)=6400\n",
      "id: 1, \tlandmark_id:38\n",
      "id: 2, \tlandmark_id:63\n",
      "2_63.jpg\n"
     ]
    }
   ],
   "source": [
    "val_id = val_csv['image_id']\n",
    "val_label_id = val_csv['label_id']\n",
    "\n",
    "id_2_val_label_id_dict = dict(zip(val_id, val_label_id))\n",
    "print('len(id_2_val_label_id_dict)=%d' % len(id_2_val_label_id_dict))\n",
    "\n",
    "index = 0\n",
    "print('id: %s, \\tlandmark_id:%s' % (val_id[index], id_2_val_label_id_dict[val_id[index]]))\n",
    "index = 1\n",
    "print('id: %s, \\tlandmark_id:%s' % (val_id[index], id_2_val_label_id_dict[val_id[index]]))\n",
    "\n",
    "image_file = '%s_%s.jpg' % (val_id[index], id_2_val_label_id_dict[val_id[index]])\n",
    "print(image_file)"
   ]
  },
  {
   "cell_type": "code",
   "execution_count": 7,
   "metadata": {},
   "outputs": [
    {
     "name": "stdout",
     "output_type": "stream",
     "text": [
      "id: 1\n",
      "id: 2\n",
      "2.jpg\n"
     ]
    }
   ],
   "source": [
    "test_id = test_csv['image_id']\n",
    "\n",
    "index = 0\n",
    "print('id: %s' % (test_id[index]))\n",
    "index = 1\n",
    "print('id: %s' % (test_id[index]))\n",
    "\n",
    "image_file = '%s.jpg' % (test_id[index])\n",
    "print(image_file)"
   ]
  },
  {
   "cell_type": "markdown",
   "metadata": {},
   "source": [
    "## Load feature"
   ]
  },
  {
   "cell_type": "code",
   "execution_count": 8,
   "metadata": {},
   "outputs": [
    {
     "name": "stdout",
     "output_type": "stream",
     "text": [
      "CPU times: user 56 ms, sys: 0 ns, total: 56 ms\n",
      "Wall time: 51.2 ms\n"
     ]
    },
    {
     "name": "stderr",
     "output_type": "stream",
     "text": [
      "/home/ec2-user/anaconda3/envs/tensorflow_p36/lib/python3.6/site-packages/h5py/__init__.py:36: FutureWarning: Conversion of the second argument of issubdtype from `float` to `np.floating` is deprecated. In future, it will be treated as `np.float64 == np.dtype(float).type`.\n",
      "  from ._conv import register_converters as _register_converters\n"
     ]
    }
   ],
   "source": [
    "%%time\n",
    "import h5py\n",
    "import numpy as np\n",
    "np.random.seed(2018)\n",
    "\n",
    "\n",
    "def load_h5_data(data_str, feature_folder, file_reg, model_name, time_str):\n",
    "    x_data = {}\n",
    "    y_data = {}\n",
    "    \n",
    "    feature_model = os.path.join(feature_folder, file_reg % (model_name, time_str))\n",
    "    for filename in [feature_model]:\n",
    "        with h5py.File(filename, 'r') as h:\n",
    "            x_data = np.array(h[data_str])\n",
    "            y_data = np.array(h['%s_labels' % data_str])\n",
    "    return x_data, y_data\n",
    "\n",
    "def load_h5_test(feature_folder, file_reg, model_name, time_str):\n",
    "    x_test = {}\n",
    "    \n",
    "    feature_model = os.path.join(feature_folder, file_reg % (model_name, time_str))\n",
    "    for filename in [feature_model]:\n",
    "        with h5py.File(filename, 'r') as h:\n",
    "            x_test = np.array(h['test'])\n",
    "    return x_test"
   ]
  },
  {
   "cell_type": "code",
   "execution_count": 9,
   "metadata": {},
   "outputs": [
    {
     "name": "stdout",
     "output_type": "stream",
     "text": [
      "File existed: /data1/kaggle/imaterialist-challenge-furniture-2018/feature/feature_MobileNet_20180331-163122.h5\n",
      "File existed: /data1/kaggle/imaterialist-challenge-furniture-2018/feature/feature_VGG16_20180331-163122.h5\n",
      "File existed: /data1/kaggle/imaterialist-challenge-furniture-2018/feature/feature_VGG19_20180331-163122.h5\n",
      "File existed: /data1/kaggle/imaterialist-challenge-furniture-2018/feature/feature_ResNet50_20180331-163122.h5\n",
      "File existed: /data1/kaggle/imaterialist-challenge-furniture-2018/feature/feature_DenseNet121_20180331-163122.h5\n",
      "File existed: /data1/kaggle/imaterialist-challenge-furniture-2018/feature/feature_DenseNet169_20180331-163122.h5\n",
      "File existed: /data1/kaggle/imaterialist-challenge-furniture-2018/feature/feature_DenseNet201_20180331-163122.h5\n",
      "File existed: /data1/kaggle/imaterialist-challenge-furniture-2018/feature/feature_Xception_20180331-163122.h5\n",
      "File existed: /data1/kaggle/imaterialist-challenge-furniture-2018/feature/feature_InceptionV3_20180331-163122.h5\n",
      "File existed: /data1/kaggle/imaterialist-challenge-furniture-2018/feature/feature_InceptionResNetV2_20180331-163122.h5\n",
      "True\n",
      "  20180331-163122\n",
      "  20180331-163122\n",
      "  20180331-163122\n",
      "  20180331-163122\n",
      "  20180331-163122\n",
      "  20180331-163122\n",
      "  20180331-163122\n",
      "  20180331-163122\n",
      "  20180331-163122\n",
      "  20180331-163122\n"
     ]
    }
   ],
   "source": [
    "def is_files_existed(feature_folder, file_reg, model_names, time_strs):\n",
    "    for model_name in model_names:\n",
    "        for time_str in time_strs:\n",
    "            file_name = file_reg % (model_name, time_str)\n",
    "            file_path = os.path.join(feature_folder, file_name)\n",
    "            if not os.path.exists(file_path):\n",
    "                print('File not existed: %s' % file_path)\n",
    "                return False\n",
    "            else:\n",
    "                print('File existed: %s' % file_path)\n",
    "    return True\n",
    "\n",
    "# Test\n",
    "file_reg = 'feature_%s_%s.h5'\n",
    "model_names = ['MobileNet', \n",
    "               'VGG16',\n",
    "               'VGG19',\n",
    "               'ResNet50',\n",
    "               'DenseNet121',\n",
    "               'DenseNet169',\n",
    "               'DenseNet201',\n",
    "               'Xception', \n",
    "               'InceptionV3', \n",
    "               'InceptionResNetV2']\n",
    "time_strs = ['20180331-163122']\n",
    "\n",
    "print(is_files_existed(feature_folder, file_reg, model_names, time_strs))\n",
    "\n",
    "\n",
    "def time_str_generator(time_strs):\n",
    "    while(1):\n",
    "        for time_str in time_strs:\n",
    "            print('  ' + time_str)\n",
    "            yield time_str\n",
    "            \n",
    "# Test\n",
    "time_str_gen = time_str_generator(time_strs)\n",
    "for i in range(10):\n",
    "    next(time_str_gen)"
   ]
  },
  {
   "cell_type": "code",
   "execution_count": 10,
   "metadata": {},
   "outputs": [
    {
     "name": "stderr",
     "output_type": "stream",
     "text": [
      "Using TensorFlow backend.\n"
     ]
    },
    {
     "name": "stdout",
     "output_type": "stream",
     "text": [
      "num_classes: 128\n",
      "************************************************************\n",
      "timesteps: 10\n",
      "len(train_data): 194828\n",
      "batch_size: 128\n",
      "steps_per_epoch_train: 1520\n",
      "File existed: /data1/kaggle/imaterialist-challenge-furniture-2018/feature/feature_MobileNet_20180331-163122.h5\n",
      "File existed: /data1/kaggle/imaterialist-challenge-furniture-2018/feature/feature_VGG16_20180331-163122.h5\n",
      "File existed: /data1/kaggle/imaterialist-challenge-furniture-2018/feature/feature_VGG19_20180331-163122.h5\n",
      "File existed: /data1/kaggle/imaterialist-challenge-furniture-2018/feature/feature_ResNet50_20180331-163122.h5\n",
      "File existed: /data1/kaggle/imaterialist-challenge-furniture-2018/feature/feature_DenseNet121_20180331-163122.h5\n",
      "File existed: /data1/kaggle/imaterialist-challenge-furniture-2018/feature/feature_DenseNet169_20180331-163122.h5\n",
      "File existed: /data1/kaggle/imaterialist-challenge-furniture-2018/feature/feature_DenseNet201_20180331-163122.h5\n",
      "File existed: /data1/kaggle/imaterialist-challenge-furniture-2018/feature/feature_Xception_20180331-163122.h5\n",
      "File existed: /data1/kaggle/imaterialist-challenge-furniture-2018/feature/feature_InceptionV3_20180331-163122.h5\n",
      "File existed: /data1/kaggle/imaterialist-challenge-furniture-2018/feature/feature_InceptionResNetV2_20180331-163122.h5\n",
      "  20180331-163122\n",
      "(128, 10, 2048) (128, 128)\n",
      "(128, 10, 2048) (128, 128)\n",
      "************************************************************\n",
      "len(val_data): 6400\n",
      "batch_size: 128\n",
      "steps_per_epoch_val: 50\n",
      "File existed: /data1/kaggle/imaterialist-challenge-furniture-2018/feature/feature_MobileNet_20180331-163122.h5\n",
      "File existed: /data1/kaggle/imaterialist-challenge-furniture-2018/feature/feature_VGG16_20180331-163122.h5\n",
      "File existed: /data1/kaggle/imaterialist-challenge-furniture-2018/feature/feature_VGG19_20180331-163122.h5\n",
      "File existed: /data1/kaggle/imaterialist-challenge-furniture-2018/feature/feature_ResNet50_20180331-163122.h5\n",
      "File existed: /data1/kaggle/imaterialist-challenge-furniture-2018/feature/feature_DenseNet121_20180331-163122.h5\n",
      "File existed: /data1/kaggle/imaterialist-challenge-furniture-2018/feature/feature_DenseNet169_20180331-163122.h5\n",
      "File existed: /data1/kaggle/imaterialist-challenge-furniture-2018/feature/feature_DenseNet201_20180331-163122.h5\n",
      "File existed: /data1/kaggle/imaterialist-challenge-furniture-2018/feature/feature_Xception_20180331-163122.h5\n",
      "File existed: /data1/kaggle/imaterialist-challenge-furniture-2018/feature/feature_InceptionV3_20180331-163122.h5\n",
      "File existed: /data1/kaggle/imaterialist-challenge-furniture-2018/feature/feature_InceptionResNetV2_20180331-163122.h5\n",
      "  20180331-163122\n",
      "(128, 10, 2048) (128, 128)\n",
      "(128, 10, 2048) (128, 128)\n",
      "********************************************************************************\n",
      "data_dim: 2048\n",
      "CPU times: user 12.3 s, sys: 29.6 s, total: 42 s\n",
      "Wall time: 46.1 s\n"
     ]
    }
   ],
   "source": [
    "%%time\n",
    "from keras.utils.np_utils import to_categorical\n",
    "from sklearn.utils import shuffle\n",
    "\n",
    "def load_time_str_feature_data(data_str, feature_folder, file_reg, model_names, time_str):\n",
    "    x_data_time_strs = []\n",
    "    y_data_time_strs = None\n",
    "    for model_name in model_names:\n",
    "        x_data_time_str, y_data_time_str = load_h5_data(data_str, feature_folder, file_reg, model_name, time_str)\n",
    "\n",
    "        x_data_time_strs.append(x_data_time_str)\n",
    "        y_data_time_strs = y_data_time_str\n",
    "    \n",
    "    # Get max dimension\n",
    "    max_dim = 0\n",
    "    for data in x_data_time_strs:\n",
    "        data_dim = data.shape[-1]\n",
    "#         print('data_dim=%s' % data_dim)\n",
    "        if max_dim < data_dim:\n",
    "            max_dim = data_dim\n",
    "#     print('max_dim=%s' % max_dim)\n",
    "    \n",
    "    # Align to max dimension\n",
    "    for i, data in enumerate(x_data_time_strs):\n",
    "        data_dim = data.shape[-1]\n",
    "#         print(data.shape)\n",
    "#         print('data_dim=%s' % data_dim)\n",
    "        \n",
    "        if data_dim < max_dim:\n",
    "            new_datas = []\n",
    "            end_dim = 0\n",
    "            for j in range(int(max_dim/data_dim) + 1):\n",
    "                end_dim += data_dim\n",
    "#                 print('end_dim=%s' % end_dim)\n",
    "#                 pdb.set_trace()\n",
    "                if end_dim <= max_dim:\n",
    "#                     print(0, data_dim)\n",
    "                    temp = np.array(data[:, 0: data_dim], copy=True)\n",
    "                else:\n",
    "#                     print(0, end_dim - max_dim)\n",
    "                    temp = np.array(data[:, 0: (max_dim - (end_dim - data_dim))], copy=True)\n",
    "#                 print(temp.shape)\n",
    "                    \n",
    "#                     pdb.set_trace()\n",
    "                new_datas.append(temp)\n",
    "#             pdb.set_trace()\n",
    "            x_data_time_strs[i] = np.concatenate(new_datas, axis=-1)\n",
    "#             print(x_data_time_strs[i].shape)\n",
    "#             print('*'*20)\n",
    "        x_data_time_strs[i] = x_data_time_strs[i][:, np.newaxis, :]\n",
    "#         print(x_data_time_strs[i].shape)\n",
    "#         print('*'*40)\n",
    "    x_data_time_strs = np.concatenate(x_data_time_strs, axis=1)\n",
    "#     print(x_data_time_strs.shape)\n",
    "#     print(y_data_time_strs.shape)\n",
    "#     print('*'*40)\n",
    "    return x_data_time_strs, y_data_time_strs\n",
    "\n",
    "def data_generator_folder(data_str, feature_folder, file_reg, model_names, time_strs, batch_size, num_classes):\n",
    "    assert is_files_existed(feature_folder, file_reg, model_names, time_strs)\n",
    "\n",
    "    time_str_gen = time_str_generator(time_strs)\n",
    "    x_data, y_data = load_time_str_feature_data(data_str, feature_folder, file_reg, model_names, next(time_str_gen))\n",
    "    len_x_data = len(x_data)\n",
    "    start_index = 0\n",
    "    end_index = 0\n",
    "    while(1):\n",
    "        end_index = start_index + batch_size\n",
    "        if end_index < len_x_data:\n",
    "#             print(start_index, end_index, end=' ')\n",
    "            x_batch = x_data[start_index: end_index, :]\n",
    "            y_batch = y_data[start_index: end_index]\n",
    "            y_batch_cat = to_categorical(y_batch, num_classes)\n",
    "            \n",
    "            start_index = start_index + batch_size\n",
    "#             print(x_batch.shape, y_batch_cat.shape)\n",
    "            yield x_batch, y_batch_cat\n",
    "        else:\n",
    "            end_index = end_index-len_x_data\n",
    "#             print(start_index, end_index, end=' ')\n",
    "            x_data_old = np.array(x_data[start_index:, :], copy=True)\n",
    "            y_data_old = np.array(y_data[start_index:], copy=True)\n",
    "            # Load new datas\n",
    "            x_data, y_data = load_time_str_feature_data(data_str, feature_folder, file_reg, model_names, next(time_str_gen))\n",
    "            x_data, y_data = shuffle(x_data, y_data, random_state=2018)\n",
    "            len_x_data = len(x_data)\n",
    "            gc.collect()\n",
    "            x_batch = np.vstack((x_data_old, x_data[:end_index, :]))\n",
    "            y_batch = np.concatenate([y_data_old, y_data[:end_index]])\n",
    "            y_batch_cat = to_categorical(y_batch, num_classes)\n",
    "            \n",
    "            start_index = end_index\n",
    "#             print(x_batch.shape, y_batch_cat.shape)\n",
    "            yield x_batch, y_batch_cat\n",
    "        \n",
    "    \n",
    "# x_train = np.concatenate([x_train_Xception, x_train_InceptionV3, x_train_InceptionResNetV2], axis=-1)\n",
    "\n",
    "num_classes = len(list(set(train_label_id)))\n",
    "print('num_classes: %s' % num_classes)\n",
    "\n",
    "file_reg = 'feature_%s_%s.h5'\n",
    "model_names = [\n",
    "    'MobileNet', \n",
    "    'VGG16',\n",
    "    'VGG19',\n",
    "    'ResNet50',\n",
    "    'DenseNet121',\n",
    "    'DenseNet169',\n",
    "    'DenseNet201',\n",
    "    'Xception',\n",
    "    'InceptionV3',\n",
    "    'InceptionResNetV2'\n",
    "]\n",
    "\n",
    "time_strs = ['20180331-163122']\n",
    "\n",
    "\n",
    "batch_size = 128\n",
    "print('*' * 60)\n",
    "timesteps = len(model_names)\n",
    "len_train_csv = train_csv.shape[0]\n",
    "steps_per_epoch_train = int(len_train_csv/batch_size) - 2\n",
    "print('timesteps: %s' % timesteps)\n",
    "print('len(train_data): %s' % len_train_csv)\n",
    "print('batch_size: %s' % batch_size)\n",
    "print('steps_per_epoch_train: %s' % steps_per_epoch_train)\n",
    "\n",
    "train_gen = data_generator_folder('train', feature_folder, file_reg, model_names, time_strs, batch_size, num_classes)\n",
    "batch_data = next(train_gen)\n",
    "print(batch_data[0].shape, batch_data[1].shape)\n",
    "batch_data = next(train_gen)\n",
    "print(batch_data[0].shape, batch_data[1].shape)\n",
    "# for i in range(steps_per_epoch_train*5):\n",
    "#     next(train_gen)\n",
    "\n",
    "print('*' * 60)\n",
    "len_val_csv = val_csv.shape[0]\n",
    "steps_per_epoch_val = int(len_val_csv/batch_size)\n",
    "print('len(val_data): %s' % len_val_csv)\n",
    "print('batch_size: %s' % batch_size)\n",
    "print('steps_per_epoch_val: %s' % steps_per_epoch_val)\n",
    "val_gen = data_generator_folder('val', feature_folder, file_reg, model_names, time_strs, batch_size, num_classes)\n",
    "batch_data = next(val_gen)\n",
    "print(batch_data[0].shape, batch_data[1].shape)\n",
    "batch_data = next(val_gen)\n",
    "print(batch_data[0].shape, batch_data[1].shape)\n",
    "\n",
    "print('*' * 80)\n",
    "data_dim = batch_data[0].shape[-1]\n",
    "print('data_dim: %s' % data_dim)"
   ]
  },
  {
   "cell_type": "code",
   "execution_count": 22,
   "metadata": {},
   "outputs": [
    {
     "name": "stdout",
     "output_type": "stream",
     "text": [
      "************************************************************\n",
      "len(test_test): 12800\n",
      "batch_size: 128\n",
      "steps_per_epoch_test: 99\n",
      "File existed: /data1/kaggle/imaterialist-challenge-furniture-2018/feature/feature_MobileNet_20180331-163122.h5\n",
      "File existed: /data1/kaggle/imaterialist-challenge-furniture-2018/feature/feature_VGG16_20180331-163122.h5\n",
      "File existed: /data1/kaggle/imaterialist-challenge-furniture-2018/feature/feature_VGG19_20180331-163122.h5\n",
      "File existed: /data1/kaggle/imaterialist-challenge-furniture-2018/feature/feature_ResNet50_20180331-163122.h5\n",
      "File existed: /data1/kaggle/imaterialist-challenge-furniture-2018/feature/feature_DenseNet121_20180331-163122.h5\n",
      "File existed: /data1/kaggle/imaterialist-challenge-furniture-2018/feature/feature_DenseNet169_20180331-163122.h5\n",
      "File existed: /data1/kaggle/imaterialist-challenge-furniture-2018/feature/feature_DenseNet201_20180331-163122.h5\n",
      "File existed: /data1/kaggle/imaterialist-challenge-furniture-2018/feature/feature_Xception_20180331-163122.h5\n",
      "File existed: /data1/kaggle/imaterialist-challenge-furniture-2018/feature/feature_InceptionV3_20180331-163122.h5\n",
      "File existed: /data1/kaggle/imaterialist-challenge-furniture-2018/feature/feature_InceptionResNetV2_20180331-163122.h5\n",
      "  20180331-163122\n",
      "(10, 2048) (10, 2048)\n",
      "(10, 2048) (10, 2048)\n",
      "(12652, 10, 2048)\n",
      "CPU times: user 1.93 s, sys: 4.53 s, total: 6.46 s\n",
      "Wall time: 31.2 s\n"
     ]
    }
   ],
   "source": [
    "%%time\n",
    "from keras.utils.np_utils import to_categorical\n",
    "from sklearn.utils import shuffle\n",
    "\n",
    "def load_time_str_feature_test(feature_folder, file_reg, model_names, time_str):\n",
    "    x_test_time_strs = []\n",
    "    for model_name in model_names:\n",
    "        x_test_time_str = load_h5_test(feature_folder, file_reg, model_name, time_str)\n",
    "\n",
    "        x_test_time_strs.append(x_test_time_str)\n",
    "    \n",
    "    # Get max dimension\n",
    "    max_dim = 0\n",
    "    for test in x_test_time_strs:\n",
    "        test_dim = test.shape[-1]\n",
    "#         print('test_dim=%s' % test_dim)\n",
    "        if max_dim < test_dim:\n",
    "            max_dim = test_dim\n",
    "#     print('max_dim=%s' % max_dim)\n",
    "    \n",
    "    # Align to max dimension\n",
    "    for i, test in enumerate(x_test_time_strs):\n",
    "        test_dim = test.shape[-1]\n",
    "#         print(test.shape)\n",
    "#         print('test_dim=%s' % test_dim)\n",
    "        \n",
    "        if test_dim < max_dim:\n",
    "            new_tests = []\n",
    "            end_dim = 0\n",
    "            for j in range(int(max_dim/test_dim) + 1):\n",
    "                end_dim += test_dim\n",
    "#                 print('end_dim=%s' % end_dim)\n",
    "#                 pdb.set_trace()\n",
    "                if end_dim <= max_dim:\n",
    "#                     print(0, test_dim)\n",
    "                    temp = np.array(test[:, 0: test_dim], copy=True)\n",
    "                else:\n",
    "#                     print(0, end_dim - max_dim)\n",
    "                    temp = np.array(test[:, 0: (max_dim - (end_dim - test_dim))], copy=True)\n",
    "#                 print(temp.shape)\n",
    "                    \n",
    "#                     pdb.set_trace()\n",
    "                new_tests.append(temp)\n",
    "#             pdb.set_trace()\n",
    "            x_test_time_strs[i] = np.concatenate(new_tests, axis=-1)\n",
    "#             print(x_test_time_strs[i].shape)\n",
    "#             print('*'*20)\n",
    "        x_test_time_strs[i] = x_test_time_strs[i][:, np.newaxis, :]\n",
    "#         print(x_test_time_strs[i].shape)\n",
    "#         print('*'*40)\n",
    "    x_test_time_strs = np.concatenate(x_test_time_strs, axis=1)\n",
    "#     print(x_test_time_strs.shape)\n",
    "#     print('*'*40)\n",
    "    return x_test_time_strs\n",
    "\n",
    "def test_generator_folder(feature_folder, file_reg, model_names, time_strs, batch_size, num_classes):\n",
    "    assert is_files_existed(feature_folder, file_reg, model_names, time_strs)\n",
    "\n",
    "    time_str_gen = time_str_generator(time_strs)\n",
    "    x_test = load_time_str_feature_test(feature_folder, file_reg, model_names, next(time_str_gen))\n",
    "    len_x_test = len(x_test)\n",
    "    start_index = 0\n",
    "    end_index = 0\n",
    "    while(1):\n",
    "        end_index = start_index + batch_size\n",
    "        if end_index < len_x_test:\n",
    "#             print(start_index, end_index, end=' ')\n",
    "            x_batch = x_test[start_index: end_index, :]\n",
    "            \n",
    "            start_index = start_index + batch_size\n",
    "#             print(x_batch.shape)\n",
    "            yield x_batch\n",
    "        else:\n",
    "            end_index = end_index-len_x_test\n",
    "#             print(start_index, end_index, end=' ')\n",
    "            x_test_old = np.array(x_test[start_index:, :], copy=True)\n",
    "            # Load new tests\n",
    "            x_test = load_time_str_feature_test(feature_folder, file_reg, model_names, next(time_str_gen))\n",
    "            len_x_test = len(x_test)\n",
    "            gc.collect()\n",
    "            x_batch = np.vstack((x_test_old, x_test[:end_index, :]))\n",
    "            \n",
    "            start_index = end_index\n",
    "#             print(x_batch.shape)\n",
    "            yield x_batch\n",
    "        \n",
    "\n",
    "print('*' * 60)\n",
    "len_test_csv = test_csv.shape[0]\n",
    "steps_per_epoch_test = int(len_test_csv/batch_size) - 1\n",
    "print('len(test_test): %s' % len_test_csv)\n",
    "print('batch_size: %s' % batch_size)\n",
    "print('steps_per_epoch_test: %s' % steps_per_epoch_test)\n",
    "\n",
    "test_gen = test_generator_folder(feature_folder, file_reg, model_names, time_strs, batch_size, num_classes)\n",
    "batch_test = next(test_gen)\n",
    "print(batch_test[0].shape, batch_test[1].shape)\n",
    "batch_test = next(test_gen)\n",
    "print(batch_test[0].shape, batch_test[1].shape)\n",
    "\n",
    "\n",
    "x_test = load_time_str_feature_test(feature_folder, file_reg, model_names, time_strs[0])\n",
    "print(x_test.shape)"
   ]
  },
  {
   "cell_type": "markdown",
   "metadata": {},
   "source": [
    "## Build NN"
   ]
  },
  {
   "cell_type": "code",
   "execution_count": 12,
   "metadata": {},
   "outputs": [],
   "source": [
    "from sklearn.metrics import confusion_matrix\n",
    "\n",
    "from keras.utils.np_utils import to_categorical # convert to one-hot-encoding\n",
    "from keras.models import Sequential\n",
    "from keras.layers import Dense, Dropout, Input, Flatten, Conv2D, MaxPooling2D, BatchNormalization, LSTM, Bidirectional\n",
    "from keras.optimizers import Adam\n",
    "from keras.preprocessing.image import ImageDataGenerator\n",
    "from keras.callbacks import LearningRateScheduler, TensorBoard"
   ]
  },
  {
   "cell_type": "code",
   "execution_count": 13,
   "metadata": {},
   "outputs": [
    {
     "name": "stdout",
     "output_type": "stream",
     "text": [
      "0.0001  0.0001 9.6e-05  9.6e-05 9.2e-05  9.2e-05 8.8e-05  8.8e-05 8.5e-05  8.5e-05 8.2e-05  8.2e-05 7.8e-05  7.8e-05 7.5e-05  7.5e-05 7.2e-05  7.2e-05 6.9e-05  6.9e-05 6.6e-05  6.6e-05 6.4e-05  6.4e-05 6.1e-05  6.1e-05 5.9e-05  5.9e-05 5.6e-05  5.6e-05 5.4e-05  5.4e-05 5.2e-05  5.2e-05 5e-05  5e-05 4.8e-05  4.8e-05 4.6e-05  4.6e-05 4.4e-05  4.4e-05 4.2e-05  4.2e-05 4.1e-05  4.1e-05 3.9e-05  3.9e-05 3.8e-05  3.8e-05 3.6e-05  3.6e-05 3.5e-05  3.5e-05 3.3e-05  3.3e-05 3.2e-05  3.2e-05 3.1e-05  3.1e-05 \n",
      "log_dir:/data1/kaggle/imaterialist-challenge-furniture-2018/log/ic_furniture2018_Train-Predict_Mix10model_20180401_102538\n"
     ]
    }
   ],
   "source": [
    "def get_lr(x):\n",
    "    lr = round(1e-4 * 0.96 ** x, 6)\n",
    "    if lr < 1e-5:\n",
    "        lr = 1e-5\n",
    "    print(lr, end='  ')\n",
    "    return lr\n",
    "\n",
    "for i in range(30):\n",
    "    print(get_lr(i), end=' ')\n",
    "# annealer = LearningRateScheduler(lambda x: 1e-3 * 0.9 ** x)\n",
    "annealer = LearningRateScheduler(get_lr)\n",
    "\n",
    "\n",
    "log_dir = os.path.join(log_folder, run_name)\n",
    "print('\\nlog_dir:' + log_dir)\n",
    "tensorBoard = TensorBoard(log_dir=log_dir)"
   ]
  },
  {
   "cell_type": "code",
   "execution_count": 14,
   "metadata": {},
   "outputs": [
    {
     "name": "stdout",
     "output_type": "stream",
     "text": [
      "_________________________________________________________________\n",
      "Layer (type)                 Output Shape              Param #   \n",
      "=================================================================\n",
      "bidirectional_1 (Bidirection (None, 10, 2048)          25174016  \n",
      "_________________________________________________________________\n",
      "dropout_1 (Dropout)          (None, 10, 2048)          0         \n",
      "_________________________________________________________________\n",
      "bidirectional_2 (Bidirection (None, 10, 1024)          10489856  \n",
      "_________________________________________________________________\n",
      "dropout_2 (Dropout)          (None, 10, 1024)          0         \n",
      "_________________________________________________________________\n",
      "bidirectional_3 (Bidirection (None, 10, 1024)          6295552   \n",
      "_________________________________________________________________\n",
      "dropout_3 (Dropout)          (None, 10, 1024)          0         \n",
      "_________________________________________________________________\n",
      "bidirectional_4 (Bidirection (None, 10, 1024)          6295552   \n",
      "_________________________________________________________________\n",
      "dropout_4 (Dropout)          (None, 10, 1024)          0         \n",
      "_________________________________________________________________\n",
      "bidirectional_5 (Bidirection (None, 1024)              6295552   \n",
      "_________________________________________________________________\n",
      "dense_1 (Dense)              (None, 128)               131200    \n",
      "=================================================================\n",
      "Total params: 54,681,728\n",
      "Trainable params: 54,681,728\n",
      "Non-trainable params: 0\n",
      "_________________________________________________________________\n"
     ]
    }
   ],
   "source": [
    "# expected input data shape: (batch_size, timesteps, data_dim)\n",
    "model = Sequential()\n",
    "model.add(Bidirectional(LSTM(1024, return_sequences=True), input_shape=(timesteps, data_dim)))  # returns a sequence of vectors of dimension 32\n",
    "model.add(Dropout(0.5))\n",
    "model.add(Bidirectional(LSTM(512, return_sequences=True)))  # returns a sequence of vectors of dimension 32\n",
    "model.add(Dropout(0.5))\n",
    "model.add(Bidirectional(LSTM(512, return_sequences=True)))  # returns a sequence of vectors of dimension 32\n",
    "model.add(Dropout(0.5))\n",
    "model.add(Bidirectional(LSTM(512, return_sequences=True)))  # returns a sequence of vectors of dimension 32\n",
    "model.add(Dropout(0.5))\n",
    "model.add(Bidirectional(LSTM(512)))  # return a single vector of dimension 32\n",
    "model.add(Dense(num_classes, activation='softmax'))\n",
    "\n",
    "# model.compile(loss='categorical_crossentropy',\n",
    "#               optimizer='rmsprop',\n",
    "#               metrics=['accuracy'])\n",
    "model.compile(optimizer=Adam(lr=1e-4),\n",
    "              loss='categorical_crossentropy',\n",
    "              metrics=['accuracy'])\n",
    "\n",
    "model.summary()"
   ]
  },
  {
   "cell_type": "code",
   "execution_count": 15,
   "metadata": {},
   "outputs": [
    {
     "name": "stdout",
     "output_type": "stream",
     "text": [
      "Epoch 1/30\n",
      "1490/1520 [============================>.] - ETA: 16s - loss: 4.2751 - acc: 0.2026  20180331-163122\n",
      "1519/1520 [============================>.] - ETA: 0s - loss: 4.2869 - acc: 0.1989  20180331-163122\n",
      "1520/1520 [==============================] - 911s 599ms/step - loss: 4.2873 - acc: 0.1988 - val_loss: 4.9067 - val_acc: 0.0088\n",
      "Epoch 2/30\n",
      "1464/1520 [===========================>..] - ETA: 31s - loss: 4.7850 - acc: 0.0179  20180331-163122\n",
      "1519/1520 [============================>.] - ETA: 0s - loss: 4.7842 - acc: 0.0179  20180331-163122\n",
      "1520/1520 [==============================] - 993s 653ms/step - loss: 4.7842 - acc: 0.0179 - val_loss: 4.9486 - val_acc: 0.0078\n",
      "Epoch 3/30\n",
      "1438/1520 [===========================>..] - ETA: 45s - loss: 4.7657 - acc: 0.0205  20180331-163122\n",
      "1519/1520 [============================>.] - ETA: 0s - loss: 4.7655 - acc: 0.0205  20180331-163122\n",
      "1520/1520 [==============================] - 1004s 660ms/step - loss: 4.7655 - acc: 0.0205 - val_loss: 4.9532 - val_acc: 0.0077\n",
      "Epoch 4/30\n",
      "1412/1520 [==========================>...] - ETA: 59s - loss: 4.7601 - acc: 0.0209   20180331-163122\n",
      "1519/1520 [============================>.] - ETA: 0s - loss: 4.7217 - acc: 0.0253  20180331-163122\n",
      "1520/1520 [==============================] - 1010s 664ms/step - loss: 4.7211 - acc: 0.0254 - val_loss: 3.8876 - val_acc: 0.1047\n",
      "Epoch 5/30\n",
      "1387/1520 [==========================>...] - ETA: 1:13 - loss: 1.6417 - acc: 0.5346  20180331-163122\n",
      "1519/1520 [============================>.] - ETA: 0s - loss: 1.5924 - acc: 0.5469  20180331-163122\n",
      "1520/1520 [==============================] - 1005s 661ms/step - loss: 1.5921 - acc: 0.5469 - val_loss: 1.2029 - val_acc: 0.6448\n",
      "Epoch 6/30\n",
      "1361/1520 [=========================>....] - ETA: 1:28 - loss: 0.9433 - acc: 0.7174  20180331-163122\n",
      "1519/1520 [============================>.] - ETA: 0s - loss: 0.9314 - acc: 0.7209  20180331-163122\n",
      "1520/1520 [==============================] - 985s 648ms/step - loss: 0.9314 - acc: 0.7209 - val_loss: 0.9945 - val_acc: 0.7031\n",
      "Epoch 7/30\n",
      "1335/1520 [=========================>....] - ETA: 1:42 - loss: 0.7714 - acc: 0.7672  20180331-163122\n",
      "1519/1520 [============================>.] - ETA: 0s - loss: 0.7626 - acc: 0.7694  20180331-163122\n",
      "1520/1520 [==============================] - 992s 653ms/step - loss: 0.7625 - acc: 0.7694 - val_loss: 0.9409 - val_acc: 0.7247\n",
      "Epoch 8/30\n",
      "1309/1520 [========================>.....] - ETA: 1:57 - loss: 0.6672 - acc: 0.7955  20180331-163122\n",
      "1519/1520 [============================>.] - ETA: 0s - loss: 0.6585 - acc: 0.7977  20180331-163122\n",
      "1520/1520 [==============================] - 995s 654ms/step - loss: 0.6584 - acc: 0.7977 - val_loss: 0.8919 - val_acc: 0.7392\n",
      "Epoch 9/30\n",
      "1284/1520 [========================>.....] - ETA: 2:10 - loss: 0.5862 - acc: 0.8196  20180331-163122\n",
      "1519/1520 [============================>.] - ETA: 0s - loss: 0.5788 - acc: 0.8212  20180331-163122\n",
      "1520/1520 [==============================] - 983s 647ms/step - loss: 0.5788 - acc: 0.8212 - val_loss: 0.8661 - val_acc: 0.7492\n",
      "Epoch 10/30\n",
      "1258/1520 [=======================>......] - ETA: 2:25 - loss: 0.5177 - acc: 0.8390  20180331-163122\n",
      "1519/1520 [============================>.] - ETA: 0s - loss: 0.5118 - acc: 0.8403  20180331-163122\n",
      "1520/1520 [==============================] - 998s 657ms/step - loss: 0.5119 - acc: 0.8403 - val_loss: 0.8448 - val_acc: 0.7606\n",
      "Epoch 11/30\n",
      "1232/1520 [=======================>......] - ETA: 2:39 - loss: 0.4614 - acc: 0.8550  20180331-163122\n",
      "1519/1520 [============================>.] - ETA: 0s - loss: 0.4548 - acc: 0.8570  20180331-163122\n",
      "1520/1520 [==============================] - 997s 656ms/step - loss: 0.4548 - acc: 0.8570 - val_loss: 0.8542 - val_acc: 0.7611\n",
      "Epoch 12/30\n",
      "1206/1520 [======================>.......] - ETA: 2:54 - loss: 0.4141 - acc: 0.8687  20180331-163122\n",
      "1519/1520 [============================>.] - ETA: 0s - loss: 0.4083 - acc: 0.8703  20180331-163122\n",
      "1520/1520 [==============================] - 982s 646ms/step - loss: 0.4084 - acc: 0.8702 - val_loss: 0.8383 - val_acc: 0.7742\n",
      "Epoch 13/30\n",
      "1180/1520 [======================>.......] - ETA: 3:08 - loss: 0.3707 - acc: 0.8822  20180331-163122\n",
      "1519/1520 [============================>.] - ETA: 0s - loss: 0.3640 - acc: 0.8839  20180331-163122\n",
      "1520/1520 [==============================] - 999s 657ms/step - loss: 0.3641 - acc: 0.8839 - val_loss: 0.8561 - val_acc: 0.7684\n",
      "Epoch 14/30\n",
      "1155/1520 [=====================>........] - ETA: 3:22 - loss: 0.3304 - acc: 0.8956  20180331-163122\n",
      "1519/1520 [============================>.] - ETA: 0s - loss: 0.3264 - acc: 0.8962  20180331-163122\n",
      "1520/1520 [==============================] - 988s 650ms/step - loss: 0.3264 - acc: 0.8962 - val_loss: 0.8871 - val_acc: 0.7697\n",
      "Epoch 15/30\n",
      "1129/1520 [=====================>........] - ETA: 3:37 - loss: 0.2990 - acc: 0.9038  20180331-163122\n",
      "1519/1520 [============================>.] - ETA: 0s - loss: 0.2944 - acc: 0.9051  20180331-163122\n",
      "1520/1520 [==============================] - 979s 644ms/step - loss: 0.2943 - acc: 0.9051 - val_loss: 0.8578 - val_acc: 0.7842\n",
      "Epoch 16/30\n",
      "1103/1520 [====================>.........] - ETA: 3:51 - loss: 0.2696 - acc: 0.9125  20180331-163122\n",
      "1519/1520 [============================>.] - ETA: 0s - loss: 0.2649 - acc: 0.9139  20180331-163122\n",
      "1520/1520 [==============================] - 989s 651ms/step - loss: 0.2648 - acc: 0.9139 - val_loss: 0.8794 - val_acc: 0.7847\n",
      "Epoch 17/30\n",
      "1077/1520 [====================>.........] - ETA: 4:05 - loss: 0.2427 - acc: 0.9209  20180331-163122\n",
      "1519/1520 [============================>.] - ETA: 0s - loss: 0.2382 - acc: 0.9223  20180331-163122\n",
      "1520/1520 [==============================] - 993s 653ms/step - loss: 0.2381 - acc: 0.9223 - val_loss: 0.9099 - val_acc: 0.7837\n",
      "Epoch 18/30\n",
      "1052/1520 [===================>..........] - ETA: 4:19 - loss: 0.2222 - acc: 0.9275  20180331-163122\n",
      "1519/1520 [============================>.] - ETA: 0s - loss: 0.2169 - acc: 0.9292  20180331-163122\n",
      "  20180331-163122\n",
      "1520/1520 [==============================] - 985s 648ms/step - loss: 0.2169 - acc: 0.9292 - val_loss: 0.9232 - val_acc: 0.7780\n",
      "Epoch 19/30\n",
      "1026/1520 [===================>..........] - ETA: 4:34 - loss: 0.2021 - acc: 0.9336  20180331-163122\n",
      "1519/1520 [============================>.] - ETA: 0s - loss: 0.1969 - acc: 0.9353  20180331-163122\n",
      "1520/1520 [==============================] - 996s 655ms/step - loss: 0.1970 - acc: 0.9353 - val_loss: 0.9442 - val_acc: 0.7828\n",
      "Epoch 20/30\n",
      "1000/1520 [==================>...........] - ETA: 4:48 - loss: 0.1822 - acc: 0.9407  20180331-163122\n",
      "1519/1520 [============================>.] - ETA: 0s - loss: 0.1769 - acc: 0.9426  20180331-163122\n",
      "1520/1520 [==============================] - 995s 654ms/step - loss: 0.1769 - acc: 0.9426 - val_loss: 0.9708 - val_acc: 0.7867\n",
      "Epoch 21/30\n",
      " 974/1520 [==================>...........] - ETA: 5:03 - loss: 0.1646 - acc: 0.9468  20180331-163122\n",
      "1519/1520 [============================>.] - ETA: 0s - loss: 0.1600 - acc: 0.9482  20180331-163122\n",
      "1520/1520 [==============================] - 980s 645ms/step - loss: 0.1600 - acc: 0.9482 - val_loss: 0.9944 - val_acc: 0.7797\n",
      "Epoch 22/30\n",
      " 948/1520 [=================>............] - ETA: 5:17 - loss: 0.1456 - acc: 0.9536  20180331-163122\n",
      "1519/1520 [============================>.] - ETA: 0s - loss: 0.1439 - acc: 0.9538  20180331-163122\n",
      "1520/1520 [==============================] - 997s 656ms/step - loss: 0.1439 - acc: 0.9538 - val_loss: 1.0038 - val_acc: 0.7866\n",
      "Epoch 23/30\n",
      " 923/1520 [=================>............] - ETA: 5:31 - loss: 0.1324 - acc: 0.9573  20180331-163122\n",
      "1519/1520 [============================>.] - ETA: 0s - loss: 0.1301 - acc: 0.9577  20180331-163122\n",
      "1520/1520 [==============================] - 998s 656ms/step - loss: 0.1301 - acc: 0.9577 - val_loss: 1.0303 - val_acc: 0.7844\n",
      "Epoch 24/30\n",
      " 897/1520 [================>.............] - ETA: 5:45 - loss: 0.1230 - acc: 0.9605  20180331-163122\n",
      "1519/1520 [============================>.] - ETA: 0s - loss: 0.1196 - acc: 0.9615  20180331-163122\n",
      "1520/1520 [==============================] - 985s 648ms/step - loss: 0.1196 - acc: 0.9615 - val_loss: 1.0177 - val_acc: 0.7897\n",
      "Epoch 25/30\n",
      " 871/1520 [================>.............] - ETA: 6:00 - loss: 0.1135 - acc: 0.9632  20180331-163122\n",
      "1519/1520 [============================>.] - ETA: 0s - loss: 0.1100 - acc: 0.9641  20180331-163122\n",
      "1520/1520 [==============================] - 997s 656ms/step - loss: 0.1100 - acc: 0.9641 - val_loss: 1.0340 - val_acc: 0.7913\n",
      "Epoch 26/30\n",
      " 845/1520 [===============>..............] - ETA: 6:15 - loss: 0.1012 - acc: 0.9672  20180331-163122\n",
      "1519/1520 [============================>.] - ETA: 0s - loss: 0.0976 - acc: 0.9681  20180331-163122\n",
      "1520/1520 [==============================] - 995s 654ms/step - loss: 0.0975 - acc: 0.9682 - val_loss: 1.0642 - val_acc: 0.7883\n",
      "Epoch 27/30\n",
      " 820/1520 [===============>..............] - ETA: 6:28 - loss: 0.0914 - acc: 0.9710  20180331-163122\n",
      "1519/1520 [============================>.] - ETA: 0s - loss: 0.0894 - acc: 0.9712  20180331-163122\n",
      "1520/1520 [==============================] - 982s 646ms/step - loss: 0.0894 - acc: 0.9712 - val_loss: 1.0899 - val_acc: 0.7914\n",
      "Epoch 28/30\n",
      " 794/1520 [==============>...............] - ETA: 6:43 - loss: 0.0856 - acc: 0.9725  20180331-163122\n",
      "1519/1520 [============================>.] - ETA: 0s - loss: 0.0815 - acc: 0.9739  20180331-163122\n",
      "1520/1520 [==============================] - 999s 657ms/step - loss: 0.0815 - acc: 0.9739 - val_loss: 1.1080 - val_acc: 0.7958\n",
      "Epoch 29/30\n",
      " 768/1520 [==============>...............] - ETA: 6:57 - loss: 0.0804 - acc: 0.9745  20180331-163122\n",
      "1519/1520 [============================>.] - ETA: 0s - loss: 0.0752 - acc: 0.9760  20180331-163122\n",
      "1520/1520 [==============================] - 995s 655ms/step - loss: 0.0751 - acc: 0.9760 - val_loss: 1.1483 - val_acc: 0.7909\n",
      "Epoch 30/30\n",
      " 742/1520 [=============>................] - ETA: 7:12 - loss: 0.0712 - acc: 0.9775  20180331-163122\n",
      "1519/1520 [============================>.] - ETA: 0s - loss: 0.0681 - acc: 0.9782  20180331-163122\n",
      "1520/1520 [==============================] - 984s 648ms/step - loss: 0.0681 - acc: 0.9782 - val_loss: 1.1383 - val_acc: 0.7980\n",
      "CPU times: user 6h 23min 8s, sys: 1h 47min 37s, total: 8h 10min 46s\n",
      "Wall time: 8h 14min 56s\n"
     ]
    }
   ],
   "source": [
    "%%time\n",
    "hist = model.fit_generator(train_gen,\n",
    "    steps_per_epoch=steps_per_epoch_train,\n",
    "    epochs=30, #Increase this when not on Kaggle kernel\n",
    "    verbose=1,  #1 for ETA, 0 for silent\n",
    "    callbacks=[annealer],\n",
    "    max_queue_size=2,\n",
    "    workers=4,\n",
    "    use_multiprocessing=False,\n",
    "    validation_data=val_gen,\n",
    "    validation_steps=steps_per_epoch_val)"
   ]
  },
  {
   "cell_type": "code",
   "execution_count": 16,
   "metadata": {},
   "outputs": [
    {
     "name": "stdout",
     "output_type": "stream",
     "text": [
      "  20180331-163122\n",
      "Final loss: 1.1461, final accuracy: 0.7964\n"
     ]
    }
   ],
   "source": [
    "final_loss, final_acc = model.evaluate_generator(val_gen, steps=steps_per_epoch_val)\n",
    "print(\"Final loss: {0:.4f}, final accuracy: {1:.4f}\".format(final_loss, final_acc))"
   ]
  },
  {
   "cell_type": "code",
   "execution_count": 42,
   "metadata": {},
   "outputs": [
    {
     "name": "stdout",
     "output_type": "stream",
     "text": [
      "ic_furniture2018_Train-Predict_LSTM_20180401_184549_7964\n"
     ]
    }
   ],
   "source": [
    "run_name_acc = run_name + '_' + str(int(final_acc*10000)).zfill(4)\n",
    "print(run_name_acc)"
   ]
  },
  {
   "cell_type": "code",
   "execution_count": 43,
   "metadata": {},
   "outputs": [
    {
     "name": "stdout",
     "output_type": "stream",
     "text": [
      "Index(['acc', 'loss', 'val_acc', 'val_loss', 'epoch'], dtype='object')\n"
     ]
    }
   ],
   "source": [
    "histories = pd.DataFrame(hist.history)\n",
    "histories['epoch'] = hist.epoch\n",
    "print(histories.columns)\n",
    "histories_file = os.path.join(model_folder, run_name_acc + '.csv')\n",
    "histories.to_csv(histories_file, index=False)"
   ]
  },
  {
   "cell_type": "code",
   "execution_count": 44,
   "metadata": {},
   "outputs": [
    {
     "data": {
      "image/png": "[encoded data removed]",
      "text/plain": [
       "<Figure size 432x288 with 1 Axes>"
      ]
     },
     "metadata": {},
     "output_type": "display_data"
    },
    {
     "data": {
      "image/png": "[encoded data removed]",
      "text/plain": [
       "<Figure size 432x288 with 1 Axes>"
      ]
     },
     "metadata": {},
     "output_type": "display_data"
    }
   ],
   "source": [
    "import matplotlib.pyplot as plt\n",
    "%matplotlib inline\n",
    "\n",
    "plt.plot(hist.history['loss'], color='b')\n",
    "plt.plot(hist.history['val_loss'], color='r')\n",
    "plt.show()\n",
    "plt.plot(hist.history['acc'], color='b')\n",
    "plt.plot(hist.history['val_acc'], color='r')\n",
    "plt.show()"
   ]
  },
  {
   "cell_type": "code",
   "execution_count": 45,
   "metadata": {},
   "outputs": [],
   "source": [
    "def save_network(model, run_name):\n",
    "    cwd = os.getcwd()\n",
    "    modelPath = os.path.join(cwd, 'model')\n",
    "    if not os.path.isdir(modelPath):\n",
    "        os.mkdir(modelPath)\n",
    "    weigthsFile = os.path.join(modelPath, run_name + '.h5')\n",
    "    model.save(weigthsFile)\n",
    "save_network(model, run_name_acc)"
   ]
  },
  {
   "cell_type": "markdown",
   "metadata": {},
   "source": [
    "## Predict"
   ]
  },
  {
   "cell_type": "code",
   "execution_count": 46,
   "metadata": {},
   "outputs": [
    {
     "name": "stdout",
     "output_type": "stream",
     "text": [
      "  20180331-163122\n",
      "(12672, 128)\n"
     ]
    }
   ],
   "source": [
    "y_pred = model.predict_generator(test_gen, steps=steps_per_epoch_test)\n",
    "print(y_pred.shape)"
   ]
  },
  {
   "cell_type": "code",
   "execution_count": 47,
   "metadata": {},
   "outputs": [
    {
     "name": "stdout",
     "output_type": "stream",
     "text": [
      "['8362.jpg', '4226.jpg', '12692.jpg', '4545.jpg', '5860.jpg', '1628.jpg', '6360.jpg', '11927.jpg', '10832.jpg', '12667.jpg']\n"
     ]
    }
   ],
   "source": [
    "# 这里证明os.listdir()得到的图片名称list不正确\n",
    "files = os.listdir(os.path.join(cwd, 'input', 'data_test', 'test'))\n",
    "print(files[:10])"
   ]
  },
  {
   "cell_type": "code",
   "execution_count": 48,
   "metadata": {},
   "outputs": [
    {
     "name": "stdout",
     "output_type": "stream",
     "text": [
      "Found 12652 images belonging to 1 classes.\n",
      "test_generator\n",
      "12652\n",
      "['test/1.jpg', 'test/10.jpg', 'test/100.jpg', 'test/1000.jpg', 'test/10000.jpg', 'test/10001.jpg', 'test/10002.jpg', 'test/10003.jpg', 'test/10004.jpg', 'test/10005.jpg']\n"
     ]
    }
   ],
   "source": [
    "# 这里证明ImageDataGenerator()得到的图片名称list才是正确\n",
    "gen = ImageDataGenerator()\n",
    "image_size = (299, 299)\n",
    "test_generator  = gen.flow_from_directory(test_folder, image_size, shuffle=False, batch_size=batch_size)\n",
    "print('test_generator')\n",
    "print(len(test_generator.filenames))\n",
    "print(test_generator.filenames[:10])"
   ]
  },
  {
   "cell_type": "code",
   "execution_count": 49,
   "metadata": {},
   "outputs": [
    {
     "name": "stdout",
     "output_type": "stream",
     "text": [
      "(12672,)\n",
      "CPU times: user 20 ms, sys: 0 ns, total: 20 ms\n",
      "Wall time: 19.6 ms\n"
     ]
    }
   ],
   "source": [
    "%%time\n",
    "max_indexes = np.argmax(y_pred, -1)\n",
    "print(max_indexes.shape)\n",
    "\n",
    "test_dict = {}\n",
    "for pair in zip(test_generator.filenames, max_indexes):\n",
    "    image_name, indx = pair[0], int(pair[1])\n",
    "    image_name = image_name.split('/')[-1]\n",
    "    image_id = int(image_name.split('.')[0])\n",
    "#     print(pair[0], image_name, image_id, indx, indx+1, type(image_id), type(indx))\n",
    "    test_dict[image_id] = indx + 1\n",
    "\n",
    "#确认图片的id是否能与ImageDataGenerator()对应上\n",
    "for name in test_generator.filenames[:10]:\n",
    "    image_name = name.split('/')[-1]\n",
    "    image_id = int(image_name.split('.')[0])\n",
    "#     print('%s\\t%s\\t%s' % (name, image_id, test_dict[image_id]))"
   ]
  },
  {
   "cell_type": "code",
   "execution_count": 50,
   "metadata": {},
   "outputs": [
    {
     "data": {
      "text/html": [
       "<div>\n",
       "<style scoped>\n",
       "    .dataframe tbody tr th:only-of-type {\n",
       "        vertical-align: middle;\n",
       "    }\n",
       "\n",
       "    .dataframe tbody tr th {\n",
       "        vertical-align: top;\n",
       "    }\n",
       "\n",
       "    .dataframe thead th {\n",
       "        text-align: right;\n",
       "    }\n",
       "</style>\n",
       "<table border=\"1\" class=\"dataframe\">\n",
       "  <thead>\n",
       "    <tr style=\"text-align: right;\">\n",
       "      <th></th>\n",
       "      <th>id</th>\n",
       "      <th>predicted</th>\n",
       "    </tr>\n",
       "  </thead>\n",
       "  <tbody>\n",
       "    <tr>\n",
       "      <th>0</th>\n",
       "      <td>1</td>\n",
       "      <td>101</td>\n",
       "    </tr>\n",
       "    <tr>\n",
       "      <th>1</th>\n",
       "      <td>2</td>\n",
       "      <td>126</td>\n",
       "    </tr>\n",
       "  </tbody>\n",
       "</table>\n",
       "</div>"
      ],
      "text/plain": [
       "   id  predicted\n",
       "0   1        101\n",
       "1   2        126"
      ]
     },
     "metadata": {},
     "output_type": "display_data"
    }
   ],
   "source": [
    "display(sample_submission_csv.head(2))"
   ]
  },
  {
   "cell_type": "code",
   "execution_count": 51,
   "metadata": {},
   "outputs": [
    {
     "name": "stdout",
     "output_type": "stream",
     "text": [
      "len(len_sample_submission_csv)=12800\n",
      "1 2 3 4 5 6 7 8 9 10 11 12 "
     ]
    },
    {
     "data": {
      "text/html": [
       "<div>\n",
       "<style scoped>\n",
       "    .dataframe tbody tr th:only-of-type {\n",
       "        vertical-align: middle;\n",
       "    }\n",
       "\n",
       "    .dataframe tbody tr th {\n",
       "        vertical-align: top;\n",
       "    }\n",
       "\n",
       "    .dataframe thead th {\n",
       "        text-align: right;\n",
       "    }\n",
       "</style>\n",
       "<table border=\"1\" class=\"dataframe\">\n",
       "  <thead>\n",
       "    <tr style=\"text-align: right;\">\n",
       "      <th></th>\n",
       "      <th>id</th>\n",
       "      <th>predicted</th>\n",
       "    </tr>\n",
       "  </thead>\n",
       "  <tbody>\n",
       "    <tr>\n",
       "      <th>0</th>\n",
       "      <td>1</td>\n",
       "      <td>84</td>\n",
       "    </tr>\n",
       "    <tr>\n",
       "      <th>1</th>\n",
       "      <td>2</td>\n",
       "      <td>96</td>\n",
       "    </tr>\n",
       "  </tbody>\n",
       "</table>\n",
       "</div>"
      ],
      "text/plain": [
       "   id  predicted\n",
       "0   1         84\n",
       "1   2         96"
      ]
     },
     "metadata": {},
     "output_type": "display_data"
    },
    {
     "name": "stdout",
     "output_type": "stream",
     "text": [
      "CPU times: user 11.5 s, sys: 0 ns, total: 11.5 s\n",
      "Wall time: 11.3 s\n"
     ]
    }
   ],
   "source": [
    "%%time\n",
    "len_sample_submission_csv = len(sample_submission_csv)\n",
    "print('len(len_sample_submission_csv)=%d' % len_sample_submission_csv)\n",
    "count = 0\n",
    "for i in range(len_sample_submission_csv):\n",
    "    image_id = int(sample_submission_csv.iloc[i, 0])\n",
    "    if image_id in test_dict:\n",
    "        pred_label = test_dict[image_id]\n",
    "#         print('%s\\t%s' % (image_id, pred_label))\n",
    "        sample_submission_csv.iloc[i, 1] = pred_label\n",
    "    else:\n",
    "#         print('%s\\t%s' % (image_id, 20))\n",
    "        sample_submission_csv.iloc[i, 1] = 20 # 属于20的类最多，所以全都设置成这个类，可能会比设置成其他得到的结果好\n",
    "    count += 1\n",
    "    if count % 1000 == 0:\n",
    "        print(int(count/1000), end=' ')\n",
    "display(sample_submission_csv.head(2))"
   ]
  },
  {
   "cell_type": "code",
   "execution_count": 52,
   "metadata": {},
   "outputs": [
    {
     "name": "stdout",
     "output_type": "stream",
     "text": [
      "[1, 2, 3, 4, 5, 6, 7, 8, 9, 10, 11, 12, 13, 14, 15, 16, 17, 18, 19, 20, 21, 22, 23, 24, 25, 26, 27, 28, 29, 30, 31, 32, 33, 34, 35, 36, 37, 38, 39, 40, 41, 42, 43, 44, 45, 46, 47, 48, 49, 50, 51, 52, 53, 54, 55, 56, 57, 58, 59, 60, 61, 62, 63, 64, 65, 66, 67, 68, 69, 70, 71, 72, 73, 74, 75, 76, 77, 78, 79, 80, 81, 82, 83, 84, 85, 86, 87, 88, 89, 90, 91, 92, 93, 94, 95, 96, 97, 98, 99, 100, 101, 102, 103, 104, 105, 106, 107, 108, 109, 110, 111, 112, 113, 114, 115, 116, 117, 118, 119, 120, 121, 122, 123, 124, 125, 126, 127, 128]\n"
     ]
    }
   ],
   "source": [
    "print(list(set(sample_submission_csv['predicted'])))"
   ]
  },
  {
   "cell_type": "code",
   "execution_count": 53,
   "metadata": {},
   "outputs": [],
   "source": [
    "pred_file = os.path.join(output_folder, 'pred_' + run_name_acc + '.csv')\n",
    "sample_submission_csv.to_csv(pred_file, index=None)"
   ]
  },
  {
   "cell_type": "code",
   "execution_count": 54,
   "metadata": {},
   "outputs": [
    {
     "name": "stdout",
     "output_type": "stream",
     "text": [
      "ic_furniture2018_Train-Predict_LSTM_20180401_184549_7964\n",
      "Done !\n"
     ]
    }
   ],
   "source": [
    "print(run_name_acc)\n",
    "print('Done !')"
   ]
  },
  {
   "cell_type": "code",
   "execution_count": null,
   "metadata": {},
   "outputs": [],
   "source": []
  }
 ],
 "metadata": {
  "kernelspec": {
   "display_name": "Python 3",
   "language": "python",
   "name": "python3"
  },
  "language_info": {
   "codemirror_mode": {
    "name": "ipython",
    "version": 3
   },
   "file_extension": ".py",
   "mimetype": "text/x-python",
   "name": "python",
   "nbconvert_exporter": "python",
   "pygments_lexer": "ipython3",
   "version": "3.6.4"
  }
 },
 "nbformat": 4,
 "nbformat_minor": 2
}
