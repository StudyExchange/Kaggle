{
 "cells": [
  {
   "cell_type": "markdown",
   "metadata": {},
   "source": [
    "# 1. Preprocess-TruncatedImages\n",
    "在使用keras预训练的model提取特征的时候，有的图片报错：StopIteration: image file is truncated (85 bytes not processed)，会打断程序。所以，这里把truncated图片删除。"
   ]
  },
  {
   "cell_type": "markdown",
   "metadata": {},
   "source": [
    "## Import PKGs"
   ]
  },
  {
   "cell_type": "code",
   "execution_count": 1,
   "metadata": {
    "collapsed": true
   },
   "outputs": [],
   "source": [
    "import numpy as np\n",
    "import pandas as pd\n",
    "import matplotlib.pyplot as plt\n",
    "import matplotlib.image as mpimg\n",
    "%matplotlib inline\n",
    "from IPython.display import display\n",
    "\n",
    "import os\n",
    "import time\n",
    "import zipfile\n",
    "import pickle\n",
    "from PIL import Image\n",
    "import shutil\n",
    "\n",
    "from tqdm import tqdm\n",
    "import multiprocessing"
   ]
  },
  {
   "cell_type": "markdown",
   "metadata": {},
   "source": [
    "## Run name"
   ]
  },
  {
   "cell_type": "code",
   "execution_count": 2,
   "metadata": {},
   "outputs": [
    {
     "name": "stdout",
     "output_type": "stream",
     "text": [
      "run_name: ic_furniture2018_Preprocess-TruncatedImages_20180329_123409\n"
     ]
    }
   ],
   "source": [
    "project_name = 'ic_furniture2018'\n",
    "step_name = 'Preprocess-TruncatedImages'\n",
    "time_str = time.strftime(\"%Y%m%d_%H%M%S\", time.localtime())\n",
    "run_name = project_name + '_' + step_name + '_' + time_str\n",
    "print('run_name: ' + run_name)"
   ]
  },
  {
   "cell_type": "markdown",
   "metadata": {},
   "source": [
    "## Project folders"
   ]
  },
  {
   "cell_type": "code",
   "execution_count": 3,
   "metadata": {},
   "outputs": [
    {
     "name": "stdout",
     "output_type": "stream",
     "text": [
      "input_folder: \t\t\t/data1/kaggle/imaterialist-challenge-furniture-2018/input\n",
      "output_folder: \t\t\t/data1/kaggle/imaterialist-challenge-furniture-2018/output\n",
      "model_folder: \t\t\t/data1/kaggle/imaterialist-challenge-furniture-2018/model\n",
      "feature_folder: \t\t/data1/kaggle/imaterialist-challenge-furniture-2018/feature\n",
      "post_pca_feature_folder: \t/data1/kaggle/imaterialist-challenge-furniture-2018/post_pca_feature\n",
      "log_folder: \t\t\t/data1/kaggle/imaterialist-challenge-furniture-2018/log\n",
      "\n",
      "train_json_file: \t\t/data1/kaggle/imaterialist-challenge-furniture-2018/input/train.json\n",
      "val_json_file: \t\t\t/data1/kaggle/imaterialist-challenge-furniture-2018/input/validation.json\n",
      "test_json_file: \t\t/data1/kaggle/imaterialist-challenge-furniture-2018/input/test.json\n",
      "\n",
      "train_csv_file: \t\t/data1/kaggle/imaterialist-challenge-furniture-2018/input/train.csv\n",
      "val_csv_file: \t\t\t/data1/kaggle/imaterialist-challenge-furniture-2018/input/validation.csv\n",
      "test_csv_file: \t\t\t/data1/kaggle/imaterialist-challenge-furniture-2018/input/test.csv\n",
      "\n",
      "sample_submission_csv_file: \t/data1/kaggle/imaterialist-challenge-furniture-2018/input/sample_submission_randomlabel.csv\n"
     ]
    }
   ],
   "source": [
    "cwd = os.getcwd()\n",
    "input_folder = os.path.join(cwd, 'input')\n",
    "output_folder = os.path.join(cwd, 'output')\n",
    "model_folder = os.path.join(cwd, 'model')\n",
    "feature_folder = os.path.join(cwd, 'feature')\n",
    "post_pca_feature_folder = os.path.join(cwd, 'post_pca_feature')\n",
    "log_folder = os.path.join(cwd, 'log')\n",
    "print('input_folder: \\t\\t\\t%s' % input_folder)\n",
    "print('output_folder: \\t\\t\\t%s' % output_folder)\n",
    "print('model_folder: \\t\\t\\t%s' % model_folder)\n",
    "print('feature_folder: \\t\\t%s' % feature_folder)\n",
    "print('post_pca_feature_folder: \\t%s' % post_pca_feature_folder)\n",
    "print('log_folder: \\t\\t\\t%s' % log_folder)\n",
    "\n",
    "org_train_folder = os.path.join(input_folder, 'org_train')\n",
    "org_val_folder = os.path.join(input_folder, 'org_val')\n",
    "org_test_folder = os.path.join(input_folder, 'org_test')\n",
    "train_folder = os.path.join(input_folder, 'data_train')\n",
    "val_folder = os.path.join(input_folder, 'data_val')\n",
    "test_folder = os.path.join(input_folder, 'data_test')\n",
    "test_sub_folder = os.path.join(test_folder, 'test')\n",
    "\n",
    "if not os.path.exists(post_pca_feature_folder):\n",
    "    os.mkdir(post_pca_feature_folder)\n",
    "    print('Create folder: %s' % post_pca_feature_folder)\n",
    "\n",
    "train_json_file = os.path.join(input_folder, 'train.json')\n",
    "val_json_file = os.path.join(input_folder, 'validation.json')\n",
    "test_json_file = os.path.join(input_folder, 'test.json')\n",
    "print('\\ntrain_json_file: \\t\\t%s' % train_json_file)\n",
    "print('val_json_file: \\t\\t\\t%s' % val_json_file)\n",
    "print('test_json_file: \\t\\t%s' % test_json_file)\n",
    "\n",
    "train_csv_file = os.path.join(input_folder, 'train.csv')\n",
    "val_csv_file = os.path.join(input_folder, 'validation.csv')\n",
    "test_csv_file = os.path.join(input_folder, 'test.csv')\n",
    "print('\\ntrain_csv_file: \\t\\t%s' % train_csv_file)\n",
    "print('val_csv_file: \\t\\t\\t%s' % val_csv_file)\n",
    "print('test_csv_file: \\t\\t\\t%s' % test_csv_file)\n",
    "\n",
    "sample_submission_csv_file = os.path.join(input_folder, 'sample_submission_randomlabel.csv')\n",
    "print('\\nsample_submission_csv_file: \\t%s' % sample_submission_csv_file)"
   ]
  },
  {
   "cell_type": "markdown",
   "metadata": {},
   "source": [
    "## Find and delete truncated images"
   ]
  },
  {
   "cell_type": "code",
   "execution_count": 4,
   "metadata": {
    "collapsed": true
   },
   "outputs": [],
   "source": [
    "def search_truncated_images(target_folder):\n",
    "    print(target_folder)\n",
    "    percent_count = 1000\n",
    "    t0 = time.time()\n",
    "    sub_folders = os.listdir(target_folder)\n",
    "    sub_folders.sort()\n",
    "    for c in sub_folders:\n",
    "        print(c, end='  ')\n",
    "        class_folder = os.path.join(target_folder, c)\n",
    "        count = 0\n",
    "        for image_name in os.listdir(class_folder):\n",
    "            image_file = os.path.join(class_folder, image_name)\n",
    "            try:\n",
    "                img = Image.open(image_file)\n",
    "                img = img.resize((229, 229))\n",
    "            except Exception as ex:\n",
    "                print('%s: %s' % (image_file, ex))\n",
    "                os.remove(image_file)\n",
    "            count += 1\n",
    "            if count % percent_count == 0:\n",
    "                print(int(count/percent_count), end='  ')\n",
    "    t1 = time.time()\n",
    "    print('Spend time: {0} s'.format(t1-t0))"
   ]
  },
  {
   "cell_type": "code",
   "execution_count": 5,
   "metadata": {},
   "outputs": [
    {
     "name": "stdout",
     "output_type": "stream",
     "text": [
      "len(image_files)=191261\n",
      "len(image_files)=6301\n",
      "len(image_files)=12652\n"
     ]
    }
   ],
   "source": [
    "def get_all_images(target_folder):\n",
    "    sub_folder_names = os.listdir(target_folder)\n",
    "    sub_folder_names.sort()\n",
    "    sub_folders = []\n",
    "    for name in sub_folder_names:\n",
    "        sub_folders.append(os.path.join(target_folder, name))\n",
    "    sub_folders.sort()\n",
    "    \n",
    "    image_files = []\n",
    "    for folder in sub_folders:\n",
    "        for image_name in os.listdir(folder):\n",
    "            image_files.append(os.path.join(folder, image_name))\n",
    "    print('len(image_files)=%d' % len(image_files))\n",
    "    return image_files\n",
    "\n",
    "train_image_files = get_all_images(train_folder)\n",
    "val_image_files = get_all_images(val_folder)\n",
    "test_image_files = get_all_images(test_folder)"
   ]
  },
  {
   "cell_type": "code",
   "execution_count": 6,
   "metadata": {
    "collapsed": true
   },
   "outputs": [],
   "source": [
    "def check_image(image_file):\n",
    "    result = None\n",
    "    try:\n",
    "#         result = image_file\n",
    "        img = Image.open(image_file)\n",
    "        img = img.resize((229, 229))\n",
    "    except Exception as ex:\n",
    "        result = '%s: %s' % (image_file, ex)\n",
    "        os.remove(image_file)\n",
    "    return result"
   ]
  },
  {
   "cell_type": "code",
   "execution_count": 7,
   "metadata": {
    "collapsed": true
   },
   "outputs": [],
   "source": [
    "def search_truncated_images_parallel(target_images):\n",
    "    t0 = time.time()\n",
    "    print(target_images[:3])\n",
    "    print('total=%d' % len(target_images))\n",
    "    cores_count = multiprocessing.cpu_count()\n",
    "    print('cores_count=%d' % cores_count)\n",
    "\n",
    "    pool = multiprocessing.Pool(processes=cores_count)\n",
    "#     pool.map(check_image, target_images)\n",
    "#     for i in tqdm.tqdm(pool.imap_unordered(check_image, target_images), total=len(target_images)):\n",
    "#         if i is not None:\n",
    "#             print(i)\n",
    "    with tqdm(total=len(target_images)) as t:\n",
    "        for i in pool.imap_unordered(check_image, target_images):\n",
    "            if i is not None:\n",
    "                print(i)\n",
    "            t.update(1)\n",
    "    \n",
    "#     pool.close()\n",
    "#     pool.terminate()\n",
    "    t1 = time.time()\n",
    "    print('spend time: %.2f s' % (t1-t0))"
   ]
  },
  {
   "cell_type": "code",
   "execution_count": 8,
   "metadata": {},
   "outputs": [
    {
     "name": "stdout",
     "output_type": "stream",
     "text": [
      "['/data1/kaggle/imaterialist-challenge-furniture-2018/input/data_train/001/90357_1.jpg', '/data1/kaggle/imaterialist-challenge-furniture-2018/input/data_train/001/90938_1.jpg', '/data1/kaggle/imaterialist-challenge-furniture-2018/input/data_train/001/90711_1.jpg']\n",
      "total=191261\n",
      "cores_count=4\n"
     ]
    },
    {
     "name": "stderr",
     "output_type": "stream",
     "text": [
      "100%|██████████| 191261/191261 [20:18<00:00, 156.91it/s]"
     ]
    },
    {
     "name": "stdout",
     "output_type": "stream",
     "text": [
      "spend time: 1218.94 s\n",
      "['/data1/kaggle/imaterialist-challenge-furniture-2018/input/data_val/001/4740_1.jpg', '/data1/kaggle/imaterialist-challenge-furniture-2018/input/data_val/001/4851_1.jpg', '/data1/kaggle/imaterialist-challenge-furniture-2018/input/data_val/001/5768_1.jpg']\n",
      "total=6301\n",
      "cores_count=4\n"
     ]
    },
    {
     "name": "stderr",
     "output_type": "stream",
     "text": [
      "\n",
      "100%|██████████| 6301/6301 [00:40<00:00, 156.58it/s]\n"
     ]
    },
    {
     "name": "stdout",
     "output_type": "stream",
     "text": [
      "spend time: 40.26 s\n",
      "['/data1/kaggle/imaterialist-challenge-furniture-2018/input/data_test/test/8362.jpg', '/data1/kaggle/imaterialist-challenge-furniture-2018/input/data_test/test/4226.jpg', '/data1/kaggle/imaterialist-challenge-furniture-2018/input/data_test/test/12692.jpg']\n",
      "total=12652\n",
      "cores_count=4\n"
     ]
    },
    {
     "name": "stderr",
     "output_type": "stream",
     "text": [
      "100%|██████████| 12652/12652 [01:20<00:00, 157.87it/s]"
     ]
    },
    {
     "name": "stdout",
     "output_type": "stream",
     "text": [
      "spend time: 80.16 s\n"
     ]
    },
    {
     "name": "stderr",
     "output_type": "stream",
     "text": [
      "\n"
     ]
    }
   ],
   "source": [
    "search_truncated_images_parallel(train_image_files)\n",
    "search_truncated_images_parallel(val_image_files)\n",
    "search_truncated_images_parallel(test_image_files)"
   ]
  },
  {
   "cell_type": "code",
   "execution_count": null,
   "metadata": {
    "collapsed": true
   },
   "outputs": [],
   "source": []
  }
 ],
 "metadata": {
  "kernelspec": {
   "display_name": "Python 3",
   "language": "python",
   "name": "python3"
  },
  "language_info": {
   "codemirror_mode": {
    "name": "ipython",
    "version": 3
   },
   "file_extension": ".py",
   "mimetype": "text/x-python",
   "name": "python",
   "nbconvert_exporter": "python",
   "pygments_lexer": "ipython3",
   "version": "3.6.3"
  }
 },
 "nbformat": 4,
 "nbformat_minor": 2
}
