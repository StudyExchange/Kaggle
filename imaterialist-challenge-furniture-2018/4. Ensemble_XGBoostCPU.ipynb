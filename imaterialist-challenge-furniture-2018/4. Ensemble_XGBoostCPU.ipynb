{
 "cells": [
  {
   "cell_type": "markdown",
   "metadata": {},
   "source": [
    "# 4. Ensemble_XGBoostCPU\n",
    "Kaggle score: \n",
    "\n",
    "Conclusion: 即使是只有两个结果，进行简单的加权平均，也可以使结果得到提升。本结论还需要进一步的实验验证。"
   ]
  },
  {
   "cell_type": "markdown",
   "metadata": {},
   "source": [
    "## Run names"
   ]
  },
  {
   "cell_type": "code",
   "execution_count": 1,
   "metadata": {},
   "outputs": [
    {
     "name": "stdout",
     "output_type": "stream",
     "text": [
      "run_name: ic_furniture2018_Ensemble_XGBoostCPU_20180426_151525\n"
     ]
    }
   ],
   "source": [
    "import time\n",
    "\n",
    "project_name = 'ic_furniture2018'\n",
    "step_name = 'Ensemble_XGBoostCPU'\n",
    "time_str = time.strftime(\"%Y%m%d_%H%M%S\", time.localtime())\n",
    "run_name = project_name + '_' + step_name + '_' + time_str\n",
    "print('run_name: ' + run_name)\n",
    "t0 = time.time()"
   ]
  },
  {
   "cell_type": "markdown",
   "metadata": {},
   "source": [
    "## Important params"
   ]
  },
  {
   "cell_type": "code",
   "execution_count": 2,
   "metadata": {},
   "outputs": [
    {
     "name": "stdout",
     "output_type": "stream",
     "text": [
      "random_num:  708\n"
     ]
    }
   ],
   "source": [
    "import random\n",
    "statistics_type = 'val_max'\n",
    "\n",
    "random_num = random.randint(1, 10000)\n",
    "print('random_num: ', random_num)"
   ]
  },
  {
   "cell_type": "markdown",
   "metadata": {},
   "source": [
    "## Import PKGs"
   ]
  },
  {
   "cell_type": "code",
   "execution_count": 3,
   "metadata": {},
   "outputs": [
    {
     "name": "stderr",
     "output_type": "stream",
     "text": [
      "/home/ec2-user/anaconda3/envs/tensorflow_p36/lib/python3.6/site-packages/h5py/__init__.py:36: FutureWarning: Conversion of the second argument of issubdtype from `float` to `np.floating` is deprecated. In future, it will be treated as `np.float64 == np.dtype(float).type`.\n",
      "  from ._conv import register_converters as _register_converters\n"
     ]
    }
   ],
   "source": [
    "import numpy as np\n",
    "import pandas as pd\n",
    "import matplotlib.pyplot as plt\n",
    "import seaborn as sns\n",
    "%matplotlib inline\n",
    "from IPython.display import display\n",
    "\n",
    "import os\n",
    "import gc\n",
    "import zipfile\n",
    "import h5py\n",
    "import pickle\n",
    "import math\n",
    "from PIL import Image\n",
    "import shutil\n",
    "\n",
    "from tqdm import tqdm\n",
    "from multiprocessing import cpu_count\n",
    "cpu_amount = cpu_count()\n",
    "\n",
    "from sklearn.metrics import confusion_matrix, accuracy_score"
   ]
  },
  {
   "cell_type": "markdown",
   "metadata": {},
   "source": [
    "## Project folders"
   ]
  },
  {
   "cell_type": "code",
   "execution_count": 4,
   "metadata": {},
   "outputs": [
    {
     "name": "stdout",
     "output_type": "stream",
     "text": [
      "input_folder: \t\t\t/data1/kaggle/imaterialist-challenge-furniture-2018/input\n",
      "output_folder: \t\t\t/data1/kaggle/imaterialist-challenge-furniture-2018/output\n",
      "model_folder: \t\t\t/data1/kaggle/imaterialist-challenge-furniture-2018/model\n",
      "feature_folder: \t\t/data1/kaggle/imaterialist-challenge-furniture-2018/feature\n",
      "post_pca_feature_folder: \t/data1/kaggle/imaterialist-challenge-furniture-2018/post_pca_feature\n",
      "log_folder: \t\t\t/data1/kaggle/imaterialist-challenge-furniture-2018/log\n",
      "\n",
      "train_json_file: \t\t/data1/kaggle/imaterialist-challenge-furniture-2018/input/train.json\n",
      "val_json_file: \t\t\t/data1/kaggle/imaterialist-challenge-furniture-2018/input/validation.json\n",
      "test_json_file: \t\t/data1/kaggle/imaterialist-challenge-furniture-2018/input/test.json\n",
      "\n",
      "train_csv_file: \t\t/data1/kaggle/imaterialist-challenge-furniture-2018/input/train.csv\n",
      "val_csv_file: \t\t\t/data1/kaggle/imaterialist-challenge-furniture-2018/input/validation.csv\n",
      "test_csv_file: \t\t\t/data1/kaggle/imaterialist-challenge-furniture-2018/input/test.csv\n",
      "\n",
      "sample_submission_csv_file: \t/data1/kaggle/imaterialist-challenge-furniture-2018/input/sample_submission_randomlabel.csv\n"
     ]
    }
   ],
   "source": [
    "cwd = os.getcwd()\n",
    "input_folder = os.path.join(cwd, 'input')\n",
    "output_folder = os.path.join(cwd, 'output')\n",
    "model_folder = os.path.join(cwd, 'model')\n",
    "feature_folder = os.path.join(cwd, 'feature')\n",
    "post_pca_feature_folder = os.path.join(cwd, 'post_pca_feature')\n",
    "log_folder = os.path.join(cwd, 'log')\n",
    "print('input_folder: \\t\\t\\t%s' % input_folder)\n",
    "print('output_folder: \\t\\t\\t%s' % output_folder)\n",
    "print('model_folder: \\t\\t\\t%s' % model_folder)\n",
    "print('feature_folder: \\t\\t%s' % feature_folder)\n",
    "print('post_pca_feature_folder: \\t%s' % post_pca_feature_folder)\n",
    "print('log_folder: \\t\\t\\t%s' % log_folder)\n",
    "\n",
    "org_train_folder = os.path.join(input_folder, 'org_train')\n",
    "org_val_folder = os.path.join(input_folder, 'org_val')\n",
    "org_test_folder = os.path.join(input_folder, 'org_test')\n",
    "train_folder = os.path.join(input_folder, 'data_train')\n",
    "val_folder = os.path.join(input_folder, 'data_val')\n",
    "test_folder = os.path.join(input_folder, 'data_test')\n",
    "test_sub_folder = os.path.join(test_folder, 'test')\n",
    "\n",
    "if not os.path.exists(post_pca_feature_folder):\n",
    "    os.mkdir(post_pca_feature_folder)\n",
    "    print('Create folder: %s' % post_pca_feature_folder)\n",
    "\n",
    "train_json_file = os.path.join(input_folder, 'train.json')\n",
    "val_json_file = os.path.join(input_folder, 'validation.json')\n",
    "test_json_file = os.path.join(input_folder, 'test.json')\n",
    "print('\\ntrain_json_file: \\t\\t%s' % train_json_file)\n",
    "print('val_json_file: \\t\\t\\t%s' % val_json_file)\n",
    "print('test_json_file: \\t\\t%s' % test_json_file)\n",
    "\n",
    "train_csv_file = os.path.join(input_folder, 'train.csv')\n",
    "val_csv_file = os.path.join(input_folder, 'validation.csv')\n",
    "test_csv_file = os.path.join(input_folder, 'test.csv')\n",
    "print('\\ntrain_csv_file: \\t\\t%s' % train_csv_file)\n",
    "print('val_csv_file: \\t\\t\\t%s' % val_csv_file)\n",
    "print('test_csv_file: \\t\\t\\t%s' % test_csv_file)\n",
    "\n",
    "sample_submission_csv_file = os.path.join(input_folder, 'sample_submission_randomlabel.csv')\n",
    "print('\\nsample_submission_csv_file: \\t%s' % sample_submission_csv_file)"
   ]
  },
  {
   "cell_type": "markdown",
   "metadata": {},
   "source": [
    "## Preview data"
   ]
  },
  {
   "cell_type": "code",
   "execution_count": 5,
   "metadata": {},
   "outputs": [
    {
     "name": "stdout",
     "output_type": "stream",
     "text": [
      "train_csv.shape is (194828, 3).\n"
     ]
    },
    {
     "data": {
      "text/html": [
       "<div>\n",
       "<style scoped>\n",
       "    .dataframe tbody tr th:only-of-type {\n",
       "        vertical-align: middle;\n",
       "    }\n",
       "\n",
       "    .dataframe tbody tr th {\n",
       "        vertical-align: top;\n",
       "    }\n",
       "\n",
       "    .dataframe thead th {\n",
       "        text-align: right;\n",
       "    }\n",
       "</style>\n",
       "<table border=\"1\" class=\"dataframe\">\n",
       "  <thead>\n",
       "    <tr style=\"text-align: right;\">\n",
       "      <th></th>\n",
       "      <th>image_id</th>\n",
       "      <th>label_id</th>\n",
       "      <th>url</th>\n",
       "    </tr>\n",
       "  </thead>\n",
       "  <tbody>\n",
       "    <tr>\n",
       "      <th>0</th>\n",
       "      <td>1</td>\n",
       "      <td>5</td>\n",
       "      <td>https://img13.360buyimg.com/imgzone/jfs/t2857/...</td>\n",
       "    </tr>\n",
       "    <tr>\n",
       "      <th>1</th>\n",
       "      <td>2</td>\n",
       "      <td>5</td>\n",
       "      <td>http://www.tengdakeli.cn/350/timg01/uploaded/i...</td>\n",
       "    </tr>\n",
       "  </tbody>\n",
       "</table>\n",
       "</div>"
      ],
      "text/plain": [
       "   image_id  label_id                                                url\n",
       "0         1         5  https://img13.360buyimg.com/imgzone/jfs/t2857/...\n",
       "1         2         5  http://www.tengdakeli.cn/350/timg01/uploaded/i..."
      ]
     },
     "metadata": {},
     "output_type": "display_data"
    },
    {
     "name": "stdout",
     "output_type": "stream",
     "text": [
      "val_csv.shape is (6400, 3).\n"
     ]
    },
    {
     "data": {
      "text/html": [
       "<div>\n",
       "<style scoped>\n",
       "    .dataframe tbody tr th:only-of-type {\n",
       "        vertical-align: middle;\n",
       "    }\n",
       "\n",
       "    .dataframe tbody tr th {\n",
       "        vertical-align: top;\n",
       "    }\n",
       "\n",
       "    .dataframe thead th {\n",
       "        text-align: right;\n",
       "    }\n",
       "</style>\n",
       "<table border=\"1\" class=\"dataframe\">\n",
       "  <thead>\n",
       "    <tr style=\"text-align: right;\">\n",
       "      <th></th>\n",
       "      <th>image_id</th>\n",
       "      <th>label_id</th>\n",
       "      <th>url</th>\n",
       "    </tr>\n",
       "  </thead>\n",
       "  <tbody>\n",
       "    <tr>\n",
       "      <th>0</th>\n",
       "      <td>1</td>\n",
       "      <td>38</td>\n",
       "      <td>http://www.ghs.net/public/images/fb/3d/51/3beb...</td>\n",
       "    </tr>\n",
       "    <tr>\n",
       "      <th>1</th>\n",
       "      <td>2</td>\n",
       "      <td>63</td>\n",
       "      <td>https://img.alicdn.com/imgextra/TB2chFei9YH8KJ...</td>\n",
       "    </tr>\n",
       "  </tbody>\n",
       "</table>\n",
       "</div>"
      ],
      "text/plain": [
       "   image_id  label_id                                                url\n",
       "0         1        38  http://www.ghs.net/public/images/fb/3d/51/3beb...\n",
       "1         2        63  https://img.alicdn.com/imgextra/TB2chFei9YH8KJ..."
      ]
     },
     "metadata": {},
     "output_type": "display_data"
    },
    {
     "name": "stdout",
     "output_type": "stream",
     "text": [
      "test_csv.shape is (12800, 2).\n"
     ]
    },
    {
     "data": {
      "text/html": [
       "<div>\n",
       "<style scoped>\n",
       "    .dataframe tbody tr th:only-of-type {\n",
       "        vertical-align: middle;\n",
       "    }\n",
       "\n",
       "    .dataframe tbody tr th {\n",
       "        vertical-align: top;\n",
       "    }\n",
       "\n",
       "    .dataframe thead th {\n",
       "        text-align: right;\n",
       "    }\n",
       "</style>\n",
       "<table border=\"1\" class=\"dataframe\">\n",
       "  <thead>\n",
       "    <tr style=\"text-align: right;\">\n",
       "      <th></th>\n",
       "      <th>image_id</th>\n",
       "      <th>url</th>\n",
       "    </tr>\n",
       "  </thead>\n",
       "  <tbody>\n",
       "    <tr>\n",
       "      <th>0</th>\n",
       "      <td>1</td>\n",
       "      <td>https://img13.360buyimg.com/imgzone/jfs/t13174...</td>\n",
       "    </tr>\n",
       "    <tr>\n",
       "      <th>1</th>\n",
       "      <td>2</td>\n",
       "      <td>http://img35.ddimg.cn/79/22/1258168705-1_u.jpg</td>\n",
       "    </tr>\n",
       "  </tbody>\n",
       "</table>\n",
       "</div>"
      ],
      "text/plain": [
       "   image_id                                                url\n",
       "0         1  https://img13.360buyimg.com/imgzone/jfs/t13174...\n",
       "1         2     http://img35.ddimg.cn/79/22/1258168705-1_u.jpg"
      ]
     },
     "metadata": {},
     "output_type": "display_data"
    },
    {
     "name": "stdout",
     "output_type": "stream",
     "text": [
      "test_csv.shape is (12800, 2).\n"
     ]
    },
    {
     "data": {
      "text/html": [
       "<div>\n",
       "<style scoped>\n",
       "    .dataframe tbody tr th:only-of-type {\n",
       "        vertical-align: middle;\n",
       "    }\n",
       "\n",
       "    .dataframe tbody tr th {\n",
       "        vertical-align: top;\n",
       "    }\n",
       "\n",
       "    .dataframe thead th {\n",
       "        text-align: right;\n",
       "    }\n",
       "</style>\n",
       "<table border=\"1\" class=\"dataframe\">\n",
       "  <thead>\n",
       "    <tr style=\"text-align: right;\">\n",
       "      <th></th>\n",
       "      <th>image_id</th>\n",
       "      <th>url</th>\n",
       "    </tr>\n",
       "  </thead>\n",
       "  <tbody>\n",
       "    <tr>\n",
       "      <th>0</th>\n",
       "      <td>1</td>\n",
       "      <td>https://img13.360buyimg.com/imgzone/jfs/t13174...</td>\n",
       "    </tr>\n",
       "    <tr>\n",
       "      <th>1</th>\n",
       "      <td>2</td>\n",
       "      <td>http://img35.ddimg.cn/79/22/1258168705-1_u.jpg</td>\n",
       "    </tr>\n",
       "  </tbody>\n",
       "</table>\n",
       "</div>"
      ],
      "text/plain": [
       "   image_id                                                url\n",
       "0         1  https://img13.360buyimg.com/imgzone/jfs/t13174...\n",
       "1         2     http://img35.ddimg.cn/79/22/1258168705-1_u.jpg"
      ]
     },
     "metadata": {},
     "output_type": "display_data"
    },
    {
     "name": "stdout",
     "output_type": "stream",
     "text": [
      "sample_submission_csv.shape is (12800, 2).\n"
     ]
    },
    {
     "data": {
      "text/html": [
       "<div>\n",
       "<style scoped>\n",
       "    .dataframe tbody tr th:only-of-type {\n",
       "        vertical-align: middle;\n",
       "    }\n",
       "\n",
       "    .dataframe tbody tr th {\n",
       "        vertical-align: top;\n",
       "    }\n",
       "\n",
       "    .dataframe thead th {\n",
       "        text-align: right;\n",
       "    }\n",
       "</style>\n",
       "<table border=\"1\" class=\"dataframe\">\n",
       "  <thead>\n",
       "    <tr style=\"text-align: right;\">\n",
       "      <th></th>\n",
       "      <th>id</th>\n",
       "      <th>predicted</th>\n",
       "    </tr>\n",
       "  </thead>\n",
       "  <tbody>\n",
       "    <tr>\n",
       "      <th>0</th>\n",
       "      <td>1</td>\n",
       "      <td>57</td>\n",
       "    </tr>\n",
       "    <tr>\n",
       "      <th>1</th>\n",
       "      <td>2</td>\n",
       "      <td>74</td>\n",
       "    </tr>\n",
       "  </tbody>\n",
       "</table>\n",
       "</div>"
      ],
      "text/plain": [
       "   id  predicted\n",
       "0   1         57\n",
       "1   2         74"
      ]
     },
     "metadata": {},
     "output_type": "display_data"
    }
   ],
   "source": [
    "train_csv = pd.read_csv(train_csv_file)\n",
    "print('train_csv.shape is {0}.'.format(train_csv.shape))\n",
    "display(train_csv.head(2))\n",
    "\n",
    "val_csv = pd.read_csv(val_csv_file)\n",
    "print('val_csv.shape is {0}.'.format(val_csv.shape))\n",
    "display(val_csv.head(2))\n",
    "\n",
    "test_csv = pd.read_csv(test_csv_file)\n",
    "print('test_csv.shape is {0}.'.format(test_csv.shape))\n",
    "display(test_csv.head(2))\n",
    "\n",
    "test_csv = pd.read_csv(test_csv_file)\n",
    "print('test_csv.shape is {0}.'.format(test_csv.shape))\n",
    "display(test_csv.head(2))\n",
    "\n",
    "sample_submission_csv = pd.read_csv(sample_submission_csv_file)\n",
    "print('sample_submission_csv.shape is {0}.'.format(sample_submission_csv.shape))\n",
    "display(sample_submission_csv.head(2))"
   ]
  },
  {
   "cell_type": "code",
   "execution_count": 6,
   "metadata": {},
   "outputs": [
    {
     "name": "stdout",
     "output_type": "stream",
     "text": [
      "len(id_2_train_label_id_dict)=194828\n",
      "id: 1, \tlandmark_id:5\n",
      "id: 2, \tlandmark_id:5\n",
      "2_5.jpg\n"
     ]
    }
   ],
   "source": [
    "train_id = train_csv['image_id']\n",
    "train_label_id = train_csv['label_id']\n",
    "\n",
    "id_2_train_label_id_dict = dict(zip(train_id, train_label_id))\n",
    "print('len(id_2_train_label_id_dict)=%d' % len(id_2_train_label_id_dict))\n",
    "\n",
    "index = 0\n",
    "print('id: %s, \\tlandmark_id:%s' % (train_id[index], id_2_train_label_id_dict[train_id[index]]))\n",
    "index = 1\n",
    "print('id: %s, \\tlandmark_id:%s' % (train_id[index], id_2_train_label_id_dict[train_id[index]]))\n",
    "\n",
    "image_file = '%s_%s.jpg' % (train_id[index], id_2_train_label_id_dict[train_id[index]])\n",
    "print(image_file)"
   ]
  },
  {
   "cell_type": "code",
   "execution_count": 7,
   "metadata": {},
   "outputs": [
    {
     "name": "stdout",
     "output_type": "stream",
     "text": [
      "len(id_2_val_label_id_dict)=6400\n",
      "id: 1, \tlandmark_id:38\n",
      "id: 2, \tlandmark_id:63\n",
      "2_63.jpg\n"
     ]
    }
   ],
   "source": [
    "val_id = val_csv['image_id']\n",
    "val_label_id = val_csv['label_id']\n",
    "\n",
    "id_2_val_label_id_dict = dict(zip(val_id, val_label_id))\n",
    "print('len(id_2_val_label_id_dict)=%d' % len(id_2_val_label_id_dict))\n",
    "\n",
    "index = 0\n",
    "print('id: %s, \\tlandmark_id:%s' % (val_id[index], id_2_val_label_id_dict[val_id[index]]))\n",
    "index = 1\n",
    "print('id: %s, \\tlandmark_id:%s' % (val_id[index], id_2_val_label_id_dict[val_id[index]]))\n",
    "\n",
    "image_file = '%s_%s.jpg' % (val_id[index], id_2_val_label_id_dict[val_id[index]])\n",
    "print(image_file)"
   ]
  },
  {
   "cell_type": "code",
   "execution_count": 8,
   "metadata": {},
   "outputs": [
    {
     "name": "stdout",
     "output_type": "stream",
     "text": [
      "id: 1\n",
      "id: 2\n",
      "2.jpg\n"
     ]
    }
   ],
   "source": [
    "test_id = test_csv['image_id']\n",
    "\n",
    "index = 0\n",
    "print('id: %s' % (test_id[index]))\n",
    "index = 1\n",
    "print('id: %s' % (test_id[index]))\n",
    "\n",
    "image_file = '%s.jpg' % (test_id[index])\n",
    "print(image_file)"
   ]
  },
  {
   "cell_type": "markdown",
   "metadata": {},
   "source": [
    "## Data Generator"
   ]
  },
  {
   "cell_type": "code",
   "execution_count": 9,
   "metadata": {},
   "outputs": [
    {
     "name": "stderr",
     "output_type": "stream",
     "text": [
      "Using TensorFlow backend.\n"
     ]
    },
    {
     "name": "stdout",
     "output_type": "stream",
     "text": [
      "Found 12652 images belonging to 1 classes.\n"
     ]
    }
   ],
   "source": [
    "from keras.preprocessing.image import ImageDataGenerator\n",
    "\n",
    "test_gen = ImageDataGenerator()\n",
    "data_test_path = os.path.join(input_folder, 'data_test')\n",
    "\n",
    "image_size = 299\n",
    "width = height = 299\n",
    "target_size = (width, height)\n",
    "batch_size = 128\n",
    "\n",
    "test_generator = test_gen.flow_from_directory(data_test_path, target_size, shuffle=False, batch_size=batch_size)"
   ]
  },
  {
   "cell_type": "code",
   "execution_count": null,
   "metadata": {},
   "outputs": [],
   "source": []
  },
  {
   "cell_type": "markdown",
   "metadata": {},
   "source": [
    "## Load predict probability files"
   ]
  },
  {
   "cell_type": "code",
   "execution_count": 10,
   "metadata": {},
   "outputs": [
    {
     "name": "stdout",
     "output_type": "stream",
     "text": [
      "File exists: proba_ic_furniture2018_Train-Predict_Mix3model_20180415_053404_7941.p\n",
      "File exists: proba_ic_furniture2018_Train-Predict_Mix3model_20180415_061203_7987.p\n",
      "File exists: proba_ic_furniture2018_Train-Predict_Mix3model_20180415_070425_8115.p\n",
      "File exists: proba_ic_furniture2018_Train-Predict_Mix3model_20180415_071659_8120.p\n",
      "File exists: proba_ic_furniture2018_Train-Predict_Mix3model_20180415_072816_8131.p\n",
      "File exists: proba_ic_furniture2018_Train-Predict_Mix3model_20180415_075023_8175.p\n",
      "File exists: proba_ic_furniture2018_Train-Predict_Mix3model_20180415_080533_8136.p\n",
      "File exists: proba_ic_furniture2018_Train-Predict_Mix3model_20180415_081948_8214.p\n",
      "File exists: proba_ic_furniture2018_TrainPredict_FineTune_20180417_170937_8341.p\n",
      "File exists: proba_ic_furniture2018_TrainPredict_FineTune_20180418_130955_8303.p\n",
      "File exists: proba_ic_furniture2018_TrainPredict_FineTune_20180422_041707_8300.p\n",
      "File exists: proba_ic_furniture2018_TrainPredict_FineTune_20180423_134043_8426.p\n",
      "File exists: proba_ic_furniture2018_TrainPredict_FineTune_20180424_143948_8278.p\n"
     ]
    }
   ],
   "source": [
    "ori_proba_files = [\n",
    "    { 'file_name': 'proba_ic_furniture2018_Train-Predict_Mix3model_20180415_053404_7941.p'},\n",
    "    { 'file_name': 'proba_ic_furniture2018_Train-Predict_Mix3model_20180415_061203_7987.p'},\n",
    "    { 'file_name': 'proba_ic_furniture2018_Train-Predict_Mix3model_20180415_070425_8115.p'},\n",
    "    { 'file_name': 'proba_ic_furniture2018_Train-Predict_Mix3model_20180415_071659_8120.p'},\n",
    "    { 'file_name': 'proba_ic_furniture2018_Train-Predict_Mix3model_20180415_072816_8131.p'},\n",
    "    { 'file_name': 'proba_ic_furniture2018_Train-Predict_Mix3model_20180415_075023_8175.p'},\n",
    "    { 'file_name': 'proba_ic_furniture2018_Train-Predict_Mix3model_20180415_080533_8136.p'},\n",
    "    { 'file_name': 'proba_ic_furniture2018_Train-Predict_Mix3model_20180415_081948_8214.p'},\n",
    "    { 'file_name': 'proba_ic_furniture2018_TrainPredict_FineTune_20180417_170937_8341.p', 'kaggle_score': 0.17812},\n",
    "    { 'file_name': 'proba_ic_furniture2018_TrainPredict_FineTune_20180418_130955_8303.p', 'kaggle_score': 0.17890},\n",
    "    { 'file_name': 'proba_ic_furniture2018_TrainPredict_FineTune_20180422_041707_8300.p', 'kaggle_score': 0.17994},\n",
    "    { 'file_name': 'proba_ic_furniture2018_TrainPredict_FineTune_20180423_134043_8426.p', 'kaggle_score': 0.17395},\n",
    "    { 'file_name': 'proba_ic_furniture2018_TrainPredict_FineTune_20180424_143948_8278.p', 'kaggle_score': 0.19479},\n",
    "]\n",
    "\n",
    "for file in ori_proba_files:\n",
    "    if os.path.exists(os.path.join(model_folder, file['file_name'])):\n",
    "        print('File exists: %s' % file['file_name'])\n",
    "    else:\n",
    "        print('***File do not exists: %s' % file['file_name'])"
   ]
  },
  {
   "cell_type": "code",
   "execution_count": 11,
   "metadata": {},
   "outputs": [
    {
     "name": "stdout",
     "output_type": "stream",
     "text": [
      "File loaded: /data1/kaggle/imaterialist-challenge-furniture-2018/model/proba_ic_furniture2018_Train-Predict_Mix3model_20180415_053404_7941.p\n",
      "File loaded: /data1/kaggle/imaterialist-challenge-furniture-2018/model/proba_ic_furniture2018_Train-Predict_Mix3model_20180415_061203_7987.p\n",
      "File loaded: /data1/kaggle/imaterialist-challenge-furniture-2018/model/proba_ic_furniture2018_Train-Predict_Mix3model_20180415_070425_8115.p\n",
      "File loaded: /data1/kaggle/imaterialist-challenge-furniture-2018/model/proba_ic_furniture2018_Train-Predict_Mix3model_20180415_071659_8120.p\n",
      "File loaded: /data1/kaggle/imaterialist-challenge-furniture-2018/model/proba_ic_furniture2018_Train-Predict_Mix3model_20180415_072816_8131.p\n",
      "File loaded: /data1/kaggle/imaterialist-challenge-furniture-2018/model/proba_ic_furniture2018_Train-Predict_Mix3model_20180415_075023_8175.p\n",
      "File loaded: /data1/kaggle/imaterialist-challenge-furniture-2018/model/proba_ic_furniture2018_Train-Predict_Mix3model_20180415_080533_8136.p\n",
      "File loaded: /data1/kaggle/imaterialist-challenge-furniture-2018/model/proba_ic_furniture2018_Train-Predict_Mix3model_20180415_081948_8214.p\n",
      "File loaded: /data1/kaggle/imaterialist-challenge-furniture-2018/model/proba_ic_furniture2018_TrainPredict_FineTune_20180417_170937_8341.p\n",
      "File loaded: /data1/kaggle/imaterialist-challenge-furniture-2018/model/proba_ic_furniture2018_TrainPredict_FineTune_20180418_130955_8303.p\n",
      "File loaded: /data1/kaggle/imaterialist-challenge-furniture-2018/model/proba_ic_furniture2018_TrainPredict_FineTune_20180422_041707_8300.p\n",
      "File loaded: /data1/kaggle/imaterialist-challenge-furniture-2018/model/proba_ic_furniture2018_TrainPredict_FineTune_20180423_134043_8426.p\n",
      "File loaded: /data1/kaggle/imaterialist-challenge-furniture-2018/model/proba_ic_furniture2018_TrainPredict_FineTune_20180424_143948_8278.p\n",
      "proba_ic_furniture2018_Train-Predict_Mix3model_20180415_053404_7941.p 0.8908 0.7923\n",
      "proba_ic_furniture2018_Train-Predict_Mix3model_20180415_061203_7987.p 0.9533 0.8000\n",
      "proba_ic_furniture2018_Train-Predict_Mix3model_20180415_070425_8115.p 0.9272 0.8146\n",
      "proba_ic_furniture2018_Train-Predict_Mix3model_20180415_071659_8120.p 0.9166 0.8075\n",
      "proba_ic_furniture2018_Train-Predict_Mix3model_20180415_072816_8131.p 0.9531 0.8110\n",
      "proba_ic_furniture2018_Train-Predict_Mix3model_20180415_075023_8175.p 0.9512 0.8130\n",
      "proba_ic_furniture2018_Train-Predict_Mix3model_20180415_080533_8136.p 0.9517 0.8167\n",
      "proba_ic_furniture2018_Train-Predict_Mix3model_20180415_081948_8214.p 0.9455 0.8178\n",
      "proba_ic_furniture2018_TrainPredict_FineTune_20180417_170937_8341.p 0.9598 0.8334\n",
      "proba_ic_furniture2018_TrainPredict_FineTune_20180418_130955_8303.p 0.9347 0.8292\n",
      "proba_ic_furniture2018_TrainPredict_FineTune_20180422_041707_8300.p 0.9605 0.8292\n",
      "proba_ic_furniture2018_TrainPredict_FineTune_20180423_134043_8426.p 0.9669 0.8415\n",
      "proba_ic_furniture2018_TrainPredict_FineTune_20180424_143948_8278.p 0.9505 0.8267\n"
     ]
    }
   ],
   "source": [
    "# %%time\n",
    "def save_proba(y_train_proba, y_train, y_val_proba, y_val, y_test_proba, test_filenames, file_name):\n",
    "    test_filenames = [n.encode('utf8') for n in test_filenames]\n",
    "    print(test_filenames[:10])\n",
    "    if os.path.exists(file_name):\n",
    "        os.remove(file_name)\n",
    "        print('File removed: \\t%s' % file_name)\n",
    "    with h5py.File(file_name) as h:\n",
    "        h.create_dataset('y_train_proba', data=y_train_proba)\n",
    "        h.create_dataset('y_train', data=y_train)\n",
    "        h.create_dataset('y_val_proba', data=y_val_proba)\n",
    "        h.create_dataset('y_val', data=y_val)\n",
    "        h.create_dataset('y_test_proba', data=y_test_proba)\n",
    "        h.create_dataset('test_filenames', data=test_filenames)\n",
    "    print('File saved: %s' % file_name)\n",
    "\n",
    "def load_proba(file_name):\n",
    "    with h5py.File(file_name, 'r') as h:\n",
    "        y_train_proba = np.array(h['y_train_proba'])\n",
    "        y_train = np.array(h['y_train'])\n",
    "        y_val_proba = np.array(h['y_val_proba'])\n",
    "        y_val = np.array(h['y_val'])\n",
    "        y_test_proba = np.array(h['y_test_proba'])\n",
    "        test_filenames = np.array(h['test_filenames'])\n",
    "    print('File loaded: %s' % file_name)\n",
    "    test_filenames = [n.decode('utf8') for n in test_filenames]\n",
    "#     print(test_filenames[:10])\n",
    "    return y_train_proba, y_train, y_val_proba, y_val, y_test_proba, test_filenames\n",
    "\n",
    "def get_acc(y_pred, y_proba):\n",
    "    max_indexes = np.argmax(y_proba, -1)\n",
    "    return accuracy_score(y_pred ,max_indexes)\n",
    "\n",
    "\n",
    "y_train_probas = []\n",
    "y_trains = []\n",
    "y_val_probas = []\n",
    "y_vas = []\n",
    "y_test_probas = []\n",
    "for file in ori_proba_files:\n",
    "    y_proba_file = os.path.join(model_folder, file['file_name'])\n",
    "    y_train_proba, y_train, y_val_proba, y_val, y_test_proba, test_filenames = load_proba(y_proba_file)\n",
    "#     print(y_train_proba.shape)\n",
    "#     print(y_train.shape)\n",
    "#     print(y_val_proba.shape)\n",
    "#     print(y_val.shape)\n",
    "#     print(y_test_proba.shape)\n",
    "#     print(len(test_filenames))\n",
    "    y_train_probas.append(y_train_proba)\n",
    "    y_val_probas.append(y_val_proba)\n",
    "    y_test_probas.append(y_test_proba)\n",
    "    file['train_acc'] = get_acc(y_train, y_train_proba)\n",
    "    file['val_acc'] = get_acc(y_val, y_val_proba)\n",
    "\n",
    "for f in ori_proba_files:\n",
    "    print(f['file_name'], '%.4f' % f['train_acc'], '%.4f' % f['val_acc'])"
   ]
  },
  {
   "cell_type": "markdown",
   "metadata": {},
   "source": [
    "## Get basic statistical data"
   ]
  },
  {
   "cell_type": "code",
   "execution_count": 12,
   "metadata": {},
   "outputs": [],
   "source": [
    "ensemble_res = {}"
   ]
  },
  {
   "cell_type": "code",
   "execution_count": 13,
   "metadata": {},
   "outputs": [
    {
     "name": "stdout",
     "output_type": "stream",
     "text": [
      "*************probas_mean.shape: \t (191261, 128)\n",
      "*************probas_mean.shape: \t (6301, 128)\n",
      "*************probas_mean.shape: \t (12652, 128)\n"
     ]
    }
   ],
   "source": [
    "# %%time\n",
    "def get_mean(probas):\n",
    "    probas_newaxises = []\n",
    "    for p in probas:\n",
    "        print('*', end='')\n",
    "        probas_newaxises.append(p[:, :, np.newaxis])\n",
    "    probas_newaxis = np.concatenate(probas_newaxises, axis=-1)\n",
    "    probas_mean = np.mean(probas_newaxis, axis=-1)\n",
    "    print('probas_mean.shape: \\t', probas_mean.shape)\n",
    "    return probas_mean\n",
    "\n",
    "ensemble_res['train_mean'] = get_acc(y_train ,get_mean(y_train_probas))\n",
    "ensemble_res['val_mean'] = get_acc(y_val ,get_mean(y_val_probas))\n",
    "y_test_proba_mean = get_mean(y_test_probas)\n",
    "\n",
    "# print(ensemble_res)"
   ]
  },
  {
   "cell_type": "code",
   "execution_count": 14,
   "metadata": {},
   "outputs": [
    {
     "name": "stdout",
     "output_type": "stream",
     "text": [
      "*************probas_min.shape: \t (191261, 128)\n",
      "*************probas_min.shape: \t (6301, 128)\n",
      "*************probas_min.shape: \t (12652, 128)\n"
     ]
    }
   ],
   "source": [
    "# %%time\n",
    "def get_min(probas):\n",
    "    probas_newaxises = []\n",
    "    for p in probas:\n",
    "        print('*', end='')\n",
    "        probas_newaxises.append(p[:, :, np.newaxis])\n",
    "    probas_newaxis = np.concatenate(probas_newaxises, axis=-1)\n",
    "    probas_min = np.min(probas_newaxis, axis=-1)\n",
    "    print('probas_min.shape: \\t', probas_min.shape)\n",
    "    return probas_min\n",
    "\n",
    "ensemble_res['train_min'] = get_acc(y_train ,get_min(y_train_probas))\n",
    "ensemble_res['val_min'] = get_acc(y_val ,get_min(y_val_probas))\n",
    "y_test_proba_min = get_min(y_test_probas)\n",
    "\n",
    "# print(ensemble_res)"
   ]
  },
  {
   "cell_type": "code",
   "execution_count": 15,
   "metadata": {},
   "outputs": [
    {
     "name": "stdout",
     "output_type": "stream",
     "text": [
      "*************probas_max.shape: \t (191261, 128)\n",
      "*************probas_max.shape: \t (6301, 128)\n",
      "*************probas_max.shape: \t (12652, 128)\n"
     ]
    }
   ],
   "source": [
    "# %%time\n",
    "def get_max(probas):\n",
    "    probas_newaxises = []\n",
    "    for p in probas:\n",
    "        print('*', end='')\n",
    "        probas_newaxises.append(p[:, :, np.newaxis])\n",
    "    probas_newaxis = np.concatenate(probas_newaxises, axis=-1)\n",
    "    probas_max = np.max(probas_newaxis, axis=-1)\n",
    "    print('probas_max.shape: \\t', probas_max.shape)\n",
    "    return probas_max\n",
    "\n",
    "ensemble_res['train_max'] = get_acc(y_train ,get_max(y_train_probas))\n",
    "ensemble_res['val_max'] = get_acc(y_val ,get_max(y_val_probas))\n",
    "y_test_proba_max = get_max(y_test_probas)\n",
    "\n",
    "# print(ensemble_res)"
   ]
  },
  {
   "cell_type": "code",
   "execution_count": 16,
   "metadata": {},
   "outputs": [
    {
     "name": "stdout",
     "output_type": "stream",
     "text": [
      "*************probas_median.shape: \t (191261, 128)\n",
      "*************probas_median.shape: \t (6301, 128)\n",
      "*************probas_median.shape: \t (12652, 128)\n"
     ]
    }
   ],
   "source": [
    "# %%time\n",
    "def get_median(probas):\n",
    "    probas_newaxises = []\n",
    "    for p in probas:\n",
    "        print('*', end='')\n",
    "        probas_newaxises.append(p[:, :, np.newaxis])\n",
    "    probas_newaxis = np.concatenate(probas_newaxises, axis=-1)\n",
    "    probas_median = np.median(probas_newaxis, axis=-1)\n",
    "    print('probas_median.shape: \\t', probas_median.shape)\n",
    "    return probas_median\n",
    "\n",
    "ensemble_res['train_median'] = get_acc(y_train ,get_median(y_train_probas))\n",
    "ensemble_res['val_median'] = get_acc(y_val ,get_median(y_val_probas))\n",
    "y_test_proba_median = get_median(y_test_probas)\n",
    "\n",
    "# print(ensemble_res)"
   ]
  },
  {
   "cell_type": "code",
   "execution_count": 17,
   "metadata": {},
   "outputs": [
    {
     "name": "stdout",
     "output_type": "stream",
     "text": [
      "train_mean  \t0.9714\tval_mean  \t0.8610\n",
      "train_min  \t0.9752\tval_min  \t0.8570\n",
      "train_max  \t0.9759\tval_max  \t0.8581\n",
      "train_median  \t0.9668\tval_median  \t0.8518\n"
     ]
    }
   ],
   "source": [
    "for i, key in enumerate(ensemble_res.keys()):\n",
    "    if i % 2 == 0:\n",
    "        print('%s  \\t%.4f' % (key, ensemble_res[key]), end='\\t')\n",
    "    else:\n",
    "        print('%s  \\t%.4f' % (key, ensemble_res[key]))"
   ]
  },
  {
   "cell_type": "markdown",
   "metadata": {},
   "source": [
    "## XGBoost Ensemble"
   ]
  },
  {
   "cell_type": "code",
   "execution_count": 18,
   "metadata": {},
   "outputs": [
    {
     "name": "stdout",
     "output_type": "stream",
     "text": [
      "*************probas_mean.shape: \t (191261, 128)\n",
      "*************probas_min.shape: \t (191261, 128)\n",
      "*************probas_max.shape: \t (191261, 128)\n",
      "*************probas_median.shape: \t (191261, 128)\n",
      "(191261, 512)\n",
      "*************probas_mean.shape: \t (6301, 128)\n",
      "*************probas_min.shape: \t (6301, 128)\n",
      "*************probas_max.shape: \t (6301, 128)\n",
      "*************probas_median.shape: \t (6301, 128)\n",
      "(6301, 512)\n",
      "*************probas_mean.shape: \t (12652, 128)\n",
      "*************probas_min.shape: \t (12652, 128)\n",
      "*************probas_max.shape: \t (12652, 128)\n",
      "*************probas_median.shape: \t (12652, 128)\n",
      "(12652, 512)\n"
     ]
    }
   ],
   "source": [
    "y_train_probas_sta = np.concatenate([\n",
    "    get_mean(y_train_probas), \n",
    "    get_min(y_train_probas), \n",
    "    get_max(y_train_probas), \n",
    "    get_median(y_train_probas)\n",
    "], axis=-1)\n",
    "print(y_train_probas_sta.shape)\n",
    "\n",
    "y_val_probas_sta = np.concatenate([\n",
    "    get_mean(y_val_probas), \n",
    "    get_min(y_val_probas), \n",
    "    get_max(y_val_probas), \n",
    "    get_median(y_val_probas)\n",
    "], axis=-1)\n",
    "print(y_val_probas_sta.shape)\n",
    "\n",
    "y_test_probas_sta = np.concatenate([\n",
    "    get_mean(y_test_probas), \n",
    "    get_min(y_test_probas), \n",
    "    get_max(y_test_probas), \n",
    "    get_median(y_test_probas)\n",
    "], axis=-1)\n",
    "print(y_test_probas_sta.shape)"
   ]
  },
  {
   "cell_type": "code",
   "execution_count": 19,
   "metadata": {},
   "outputs": [],
   "source": [
    "# y_train_probas_sta = y_train_probas_sta.copy()\n",
    "# y_train = y_train.copy()\n",
    "# y_val_probas_sta = y_val_probas_sta.copy()\n",
    "# y_val = y_val.copy()"
   ]
  },
  {
   "cell_type": "code",
   "execution_count": 20,
   "metadata": {},
   "outputs": [
    {
     "name": "stdout",
     "output_type": "stream",
     "text": [
      "[0]\tvalidation_0-merror:0.038853\tvalidation_0-mlogloss:0.649238\tvalidation_1-merror:0.168227\tvalidation_1-mlogloss:1.30769\n",
      "[1]\tvalidation_0-merror:0.034916\tvalidation_0-mlogloss:0.572173\tvalidation_1-merror:0.162673\tvalidation_1-mlogloss:1.21877\n",
      "[2]\tvalidation_0-merror:0.032139\tvalidation_0-mlogloss:0.513886\tvalidation_1-merror:0.157911\tvalidation_1-mlogloss:1.15735\n",
      "[3]\tvalidation_0-merror:0.030006\tvalidation_0-mlogloss:0.464162\tvalidation_1-merror:0.156642\tvalidation_1-mlogloss:1.10335\n",
      "[4]\tvalidation_0-merror:0.028694\tvalidation_0-mlogloss:0.421026\tvalidation_1-merror:0.155055\tvalidation_1-mlogloss:1.05844\n",
      "[5]\tvalidation_0-merror:0.027439\tvalidation_0-mlogloss:0.383332\tvalidation_1-merror:0.15315\tvalidation_1-mlogloss:1.01923\n",
      "[6]\tvalidation_0-merror:0.026148\tvalidation_0-mlogloss:0.350225\tvalidation_1-merror:0.151563\tvalidation_1-mlogloss:0.986303\n",
      "[7]\tvalidation_0-merror:0.024872\tvalidation_0-mlogloss:0.321014\tvalidation_1-merror:0.151563\tvalidation_1-mlogloss:0.958444\n",
      "[8]\tvalidation_0-merror:0.0238\tvalidation_0-mlogloss:0.294449\tvalidation_1-merror:0.150611\tvalidation_1-mlogloss:0.932071\n",
      "[9]\tvalidation_0-merror:0.022848\tvalidation_0-mlogloss:0.270843\tvalidation_1-merror:0.149341\tvalidation_1-mlogloss:0.90993\n",
      "[10]\tvalidation_0-merror:0.021797\tvalidation_0-mlogloss:0.249323\tvalidation_1-merror:0.149183\tvalidation_1-mlogloss:0.88963\n",
      "[11]\tvalidation_0-merror:0.020647\tvalidation_0-mlogloss:0.229697\tvalidation_1-merror:0.148707\tvalidation_1-mlogloss:0.871792\n",
      "[12]\tvalidation_0-merror:0.019628\tvalidation_0-mlogloss:0.212014\tvalidation_1-merror:0.148707\tvalidation_1-mlogloss:0.855391\n",
      "[13]\tvalidation_0-merror:0.018812\tvalidation_0-mlogloss:0.195764\tvalidation_1-merror:0.14712\tvalidation_1-mlogloss:0.841605\n",
      "[14]\tvalidation_0-merror:0.017887\tvalidation_0-mlogloss:0.181107\tvalidation_1-merror:0.14712\tvalidation_1-mlogloss:0.829342\n",
      "[15]\tvalidation_0-merror:0.017092\tvalidation_0-mlogloss:0.167754\tvalidation_1-merror:0.146326\tvalidation_1-mlogloss:0.818139\n",
      "[16]\tvalidation_0-merror:0.016396\tvalidation_0-mlogloss:0.155705\tvalidation_1-merror:0.146167\tvalidation_1-mlogloss:0.807159\n",
      "[17]\tvalidation_0-merror:0.015685\tvalidation_0-mlogloss:0.144515\tvalidation_1-merror:0.146009\tvalidation_1-mlogloss:0.798621\n",
      "[18]\tvalidation_0-merror:0.014896\tvalidation_0-mlogloss:0.134372\tvalidation_1-merror:0.145215\tvalidation_1-mlogloss:0.790371\n",
      "[19]\tvalidation_0-merror:0.014148\tvalidation_0-mlogloss:0.125058\tvalidation_1-merror:0.14458\tvalidation_1-mlogloss:0.78331\n",
      "[20]\tvalidation_0-merror:0.013568\tvalidation_0-mlogloss:0.116623\tvalidation_1-merror:0.145374\tvalidation_1-mlogloss:0.776786\n",
      "[21]\tvalidation_0-merror:0.012878\tvalidation_0-mlogloss:0.108728\tvalidation_1-merror:0.14458\tvalidation_1-mlogloss:0.770485\n",
      "[22]\tvalidation_0-merror:0.012308\tvalidation_0-mlogloss:0.10156\tvalidation_1-merror:0.143787\tvalidation_1-mlogloss:0.765205\n",
      "[23]\tvalidation_0-merror:0.011816\tvalidation_0-mlogloss:0.095004\tvalidation_1-merror:0.143945\tvalidation_1-mlogloss:0.760623\n",
      "[24]\tvalidation_0-merror:0.011293\tvalidation_0-mlogloss:0.088919\tvalidation_1-merror:0.143945\tvalidation_1-mlogloss:0.756687\n",
      "[25]\tvalidation_0-merror:0.010755\tvalidation_0-mlogloss:0.083363\tvalidation_1-merror:0.143945\tvalidation_1-mlogloss:0.752876\n",
      "[26]\tvalidation_0-merror:0.010195\tvalidation_0-mlogloss:0.078247\tvalidation_1-merror:0.144104\tvalidation_1-mlogloss:0.749706\n",
      "[27]\tvalidation_0-merror:0.009694\tvalidation_0-mlogloss:0.073516\tvalidation_1-merror:0.144104\tvalidation_1-mlogloss:0.747057\n",
      "[28]\tvalidation_0-merror:0.009275\tvalidation_0-mlogloss:0.069172\tvalidation_1-merror:0.143628\tvalidation_1-mlogloss:0.744663\n",
      "[29]\tvalidation_0-merror:0.008888\tvalidation_0-mlogloss:0.065159\tvalidation_1-merror:0.143152\tvalidation_1-mlogloss:0.742751\n",
      "[30]\tvalidation_0-merror:0.008418\tvalidation_0-mlogloss:0.061463\tvalidation_1-merror:0.142993\tvalidation_1-mlogloss:0.74143\n",
      "[31]\tvalidation_0-merror:0.008052\tvalidation_0-mlogloss:0.058068\tvalidation_1-merror:0.143311\tvalidation_1-mlogloss:0.740383\n",
      "[32]\tvalidation_0-merror:0.007817\tvalidation_0-mlogloss:0.054936\tvalidation_1-merror:0.143152\tvalidation_1-mlogloss:0.739863\n",
      "[33]\tvalidation_0-merror:0.007409\tvalidation_0-mlogloss:0.052009\tvalidation_1-merror:0.1422\tvalidation_1-mlogloss:0.739244\n",
      "[34]\tvalidation_0-merror:0.007126\tvalidation_0-mlogloss:0.049309\tvalidation_1-merror:0.142834\tvalidation_1-mlogloss:0.738521\n",
      "[35]\tvalidation_0-merror:0.006813\tvalidation_0-mlogloss:0.046821\tvalidation_1-merror:0.142517\tvalidation_1-mlogloss:0.737548\n",
      "[36]\tvalidation_0-merror:0.006504\tvalidation_0-mlogloss:0.044527\tvalidation_1-merror:0.1422\tvalidation_1-mlogloss:0.736855\n",
      "[37]\tvalidation_0-merror:0.006217\tvalidation_0-mlogloss:0.042404\tvalidation_1-merror:0.141724\tvalidation_1-mlogloss:0.736583\n",
      "[38]\tvalidation_0-merror:0.006049\tvalidation_0-mlogloss:0.040418\tvalidation_1-merror:0.141089\tvalidation_1-mlogloss:0.736549\n",
      "[39]\tvalidation_0-merror:0.005751\tvalidation_0-mlogloss:0.038585\tvalidation_1-merror:0.14093\tvalidation_1-mlogloss:0.736436\n",
      "[40]\tvalidation_0-merror:0.005469\tvalidation_0-mlogloss:0.036871\tvalidation_1-merror:0.14093\tvalidation_1-mlogloss:0.737117\n",
      "[41]\tvalidation_0-merror:0.005234\tvalidation_0-mlogloss:0.035267\tvalidation_1-merror:0.141406\tvalidation_1-mlogloss:0.737428\n",
      "[42]\tvalidation_0-merror:0.00503\tvalidation_0-mlogloss:0.033774\tvalidation_1-merror:0.141089\tvalidation_1-mlogloss:0.737907\n",
      "[43]\tvalidation_0-merror:0.004847\tvalidation_0-mlogloss:0.032367\tvalidation_1-merror:0.141565\tvalidation_1-mlogloss:0.738533\n",
      "[44]\tvalidation_0-merror:0.004648\tvalidation_0-mlogloss:0.031102\tvalidation_1-merror:0.140613\tvalidation_1-mlogloss:0.739336\n",
      "[45]\tvalidation_0-merror:0.004476\tvalidation_0-mlogloss:0.029895\tvalidation_1-merror:0.140771\tvalidation_1-mlogloss:0.740144\n",
      "[46]\tvalidation_0-merror:0.004293\tvalidation_0-mlogloss:0.028762\tvalidation_1-merror:0.140613\tvalidation_1-mlogloss:0.740919\n",
      "[47]\tvalidation_0-merror:0.004115\tvalidation_0-mlogloss:0.027723\tvalidation_1-merror:0.140454\tvalidation_1-mlogloss:0.741948\n",
      "[48]\tvalidation_0-merror:0.003984\tvalidation_0-mlogloss:0.026731\tvalidation_1-merror:0.139978\tvalidation_1-mlogloss:0.742589\n",
      "[49]\tvalidation_0-merror:0.003801\tvalidation_0-mlogloss:0.025808\tvalidation_1-merror:0.13966\tvalidation_1-mlogloss:0.743412\n",
      "[50]\tvalidation_0-merror:0.003623\tvalidation_0-mlogloss:0.02494\tvalidation_1-merror:0.140295\tvalidation_1-mlogloss:0.7444\n",
      "[51]\tvalidation_0-merror:0.003498\tvalidation_0-mlogloss:0.024137\tvalidation_1-merror:0.13966\tvalidation_1-mlogloss:0.7454\n",
      "[52]\tvalidation_0-merror:0.003404\tvalidation_0-mlogloss:0.02337\tvalidation_1-merror:0.139978\tvalidation_1-mlogloss:0.745843\n",
      "[53]\tvalidation_0-merror:0.003236\tvalidation_0-mlogloss:0.022664\tvalidation_1-merror:0.139502\tvalidation_1-mlogloss:0.747058\n",
      "[54]\tvalidation_0-merror:0.003121\tvalidation_0-mlogloss:0.02199\tvalidation_1-merror:0.140136\tvalidation_1-mlogloss:0.74794\n",
      "[55]\tvalidation_0-merror:0.003053\tvalidation_0-mlogloss:0.021357\tvalidation_1-merror:0.139978\tvalidation_1-mlogloss:0.749019\n",
      "[56]\tvalidation_0-merror:0.002912\tvalidation_0-mlogloss:0.020761\tvalidation_1-merror:0.140136\tvalidation_1-mlogloss:0.750121\n",
      "[57]\tvalidation_0-merror:0.002865\tvalidation_0-mlogloss:0.020193\tvalidation_1-merror:0.139978\tvalidation_1-mlogloss:0.751424\n",
      "[58]\tvalidation_0-merror:0.002771\tvalidation_0-mlogloss:0.019659\tvalidation_1-merror:0.13966\tvalidation_1-mlogloss:0.752513\n",
      "[59]\tvalidation_0-merror:0.002698\tvalidation_0-mlogloss:0.019157\tvalidation_1-merror:0.140295\tvalidation_1-mlogloss:0.753636\n",
      "[60]\tvalidation_0-merror:0.002609\tvalidation_0-mlogloss:0.018678\tvalidation_1-merror:0.140295\tvalidation_1-mlogloss:0.754436\n",
      "[61]\tvalidation_0-merror:0.00251\tvalidation_0-mlogloss:0.018232\tvalidation_1-merror:0.140295\tvalidation_1-mlogloss:0.755683\n",
      "[62]\tvalidation_0-merror:0.002452\tvalidation_0-mlogloss:0.017802\tvalidation_1-merror:0.140136\tvalidation_1-mlogloss:0.756554\n",
      "[63]\tvalidation_0-merror:0.00241\tvalidation_0-mlogloss:0.017402\tvalidation_1-merror:0.140454\tvalidation_1-mlogloss:0.757589\n",
      "[64]\tvalidation_0-merror:0.002337\tvalidation_0-mlogloss:0.017009\tvalidation_1-merror:0.140136\tvalidation_1-mlogloss:0.758604\n",
      "[65]\tvalidation_0-merror:0.00229\tvalidation_0-mlogloss:0.016646\tvalidation_1-merror:0.139819\tvalidation_1-mlogloss:0.759552\n"
     ]
    },
    {
     "name": "stdout",
     "output_type": "stream",
     "text": [
      "[66]\tvalidation_0-merror:0.002259\tvalidation_0-mlogloss:0.016306\tvalidation_1-merror:0.140136\tvalidation_1-mlogloss:0.760401\n",
      "[67]\tvalidation_0-merror:0.002201\tvalidation_0-mlogloss:0.015983\tvalidation_1-merror:0.140454\tvalidation_1-mlogloss:0.761223\n",
      "[68]\tvalidation_0-merror:0.002149\tvalidation_0-mlogloss:0.015672\tvalidation_1-merror:0.140136\tvalidation_1-mlogloss:0.762456\n",
      "[69]\tvalidation_0-merror:0.002097\tvalidation_0-mlogloss:0.015363\tvalidation_1-merror:0.140295\tvalidation_1-mlogloss:0.763531\n",
      "[70]\tvalidation_0-merror:0.002029\tvalidation_0-mlogloss:0.015067\tvalidation_1-merror:0.140295\tvalidation_1-mlogloss:0.764639\n",
      "[71]\tvalidation_0-merror:0.002008\tvalidation_0-mlogloss:0.01479\tvalidation_1-merror:0.140454\tvalidation_1-mlogloss:0.765753\n",
      "[72]\tvalidation_0-merror:0.001945\tvalidation_0-mlogloss:0.014534\tvalidation_1-merror:0.140295\tvalidation_1-mlogloss:0.766762\n",
      "[73]\tvalidation_0-merror:0.001908\tvalidation_0-mlogloss:0.014283\tvalidation_1-merror:0.140295\tvalidation_1-mlogloss:0.767844\n",
      "[74]\tvalidation_0-merror:0.001882\tvalidation_0-mlogloss:0.014037\tvalidation_1-merror:0.140295\tvalidation_1-mlogloss:0.76886\n",
      "[75]\tvalidation_0-merror:0.001846\tvalidation_0-mlogloss:0.0138\tvalidation_1-merror:0.140136\tvalidation_1-mlogloss:0.769565\n",
      "[76]\tvalidation_0-merror:0.00184\tvalidation_0-mlogloss:0.013581\tvalidation_1-merror:0.139978\tvalidation_1-mlogloss:0.770594\n",
      "[77]\tvalidation_0-merror:0.001788\tvalidation_0-mlogloss:0.013369\tvalidation_1-merror:0.13966\tvalidation_1-mlogloss:0.771573\n",
      "[78]\tvalidation_0-merror:0.001762\tvalidation_0-mlogloss:0.01317\tvalidation_1-merror:0.140136\tvalidation_1-mlogloss:0.772534\n",
      "[79]\tvalidation_0-merror:0.001699\tvalidation_0-mlogloss:0.012975\tvalidation_1-merror:0.139978\tvalidation_1-mlogloss:0.773547\n",
      "[80]\tvalidation_0-merror:0.001657\tvalidation_0-mlogloss:0.012785\tvalidation_1-merror:0.140136\tvalidation_1-mlogloss:0.774118\n",
      "[81]\tvalidation_0-merror:0.001616\tvalidation_0-mlogloss:0.012604\tvalidation_1-merror:0.140454\tvalidation_1-mlogloss:0.775049\n",
      "[82]\tvalidation_0-merror:0.00161\tvalidation_0-mlogloss:0.012431\tvalidation_1-merror:0.140771\tvalidation_1-mlogloss:0.776061\n",
      "[83]\tvalidation_0-merror:0.0016\tvalidation_0-mlogloss:0.012266\tvalidation_1-merror:0.140454\tvalidation_1-mlogloss:0.777003\n",
      "[84]\tvalidation_0-merror:0.001563\tvalidation_0-mlogloss:0.012111\tvalidation_1-merror:0.139978\tvalidation_1-mlogloss:0.777844\n",
      "[85]\tvalidation_0-merror:0.001542\tvalidation_0-mlogloss:0.011955\tvalidation_1-merror:0.139819\tvalidation_1-mlogloss:0.778386\n",
      "[86]\tvalidation_0-merror:0.001516\tvalidation_0-mlogloss:0.011806\tvalidation_1-merror:0.139819\tvalidation_1-mlogloss:0.77898\n",
      "[87]\tvalidation_0-merror:0.001495\tvalidation_0-mlogloss:0.011659\tvalidation_1-merror:0.140136\tvalidation_1-mlogloss:0.779671\n",
      "[88]\tvalidation_0-merror:0.001469\tvalidation_0-mlogloss:0.011523\tvalidation_1-merror:0.140295\tvalidation_1-mlogloss:0.780435\n",
      "[89]\tvalidation_0-merror:0.001454\tvalidation_0-mlogloss:0.011389\tvalidation_1-merror:0.140295\tvalidation_1-mlogloss:0.781098\n",
      "[90]\tvalidation_0-merror:0.001438\tvalidation_0-mlogloss:0.011255\tvalidation_1-merror:0.139978\tvalidation_1-mlogloss:0.781858\n",
      "[91]\tvalidation_0-merror:0.001417\tvalidation_0-mlogloss:0.011128\tvalidation_1-merror:0.139502\tvalidation_1-mlogloss:0.782523\n",
      "[92]\tvalidation_0-merror:0.001391\tvalidation_0-mlogloss:0.011007\tvalidation_1-merror:0.139343\tvalidation_1-mlogloss:0.783471\n",
      "[93]\tvalidation_0-merror:0.001365\tvalidation_0-mlogloss:0.010885\tvalidation_1-merror:0.139184\tvalidation_1-mlogloss:0.783947\n",
      "[94]\tvalidation_0-merror:0.001349\tvalidation_0-mlogloss:0.010767\tvalidation_1-merror:0.139184\tvalidation_1-mlogloss:0.784616\n",
      "[95]\tvalidation_0-merror:0.001338\tvalidation_0-mlogloss:0.010658\tvalidation_1-merror:0.139502\tvalidation_1-mlogloss:0.785265\n",
      "[96]\tvalidation_0-merror:0.001312\tvalidation_0-mlogloss:0.010547\tvalidation_1-merror:0.140136\tvalidation_1-mlogloss:0.786094\n",
      "[97]\tvalidation_0-merror:0.001291\tvalidation_0-mlogloss:0.010439\tvalidation_1-merror:0.13966\tvalidation_1-mlogloss:0.786931\n",
      "[98]\tvalidation_0-merror:0.001276\tvalidation_0-mlogloss:0.010335\tvalidation_1-merror:0.139978\tvalidation_1-mlogloss:0.787452\n",
      "[99]\tvalidation_0-merror:0.001255\tvalidation_0-mlogloss:0.010232\tvalidation_1-merror:0.139978\tvalidation_1-mlogloss:0.788144\n",
      "[100]\tvalidation_0-merror:0.001244\tvalidation_0-mlogloss:0.010133\tvalidation_1-merror:0.139502\tvalidation_1-mlogloss:0.788933\n",
      "[101]\tvalidation_0-merror:0.001239\tvalidation_0-mlogloss:0.010043\tvalidation_1-merror:0.139819\tvalidation_1-mlogloss:0.789585\n",
      "[102]\tvalidation_0-merror:0.001234\tvalidation_0-mlogloss:0.009952\tvalidation_1-merror:0.139819\tvalidation_1-mlogloss:0.79001\n",
      "[103]\tvalidation_0-merror:0.001218\tvalidation_0-mlogloss:0.009865\tvalidation_1-merror:0.139502\tvalidation_1-mlogloss:0.790502\n",
      "[104]\tvalidation_0-merror:0.001208\tvalidation_0-mlogloss:0.009784\tvalidation_1-merror:0.139502\tvalidation_1-mlogloss:0.791103\n",
      "[105]\tvalidation_0-merror:0.001203\tvalidation_0-mlogloss:0.009703\tvalidation_1-merror:0.139819\tvalidation_1-mlogloss:0.791769\n",
      "[106]\tvalidation_0-merror:0.001197\tvalidation_0-mlogloss:0.009622\tvalidation_1-merror:0.139819\tvalidation_1-mlogloss:0.792434\n",
      "[107]\tvalidation_0-merror:0.001187\tvalidation_0-mlogloss:0.009543\tvalidation_1-merror:0.139819\tvalidation_1-mlogloss:0.793272\n",
      "[108]\tvalidation_0-merror:0.001171\tvalidation_0-mlogloss:0.009464\tvalidation_1-merror:0.13966\tvalidation_1-mlogloss:0.793874\n",
      "[109]\tvalidation_0-merror:0.001171\tvalidation_0-mlogloss:0.009389\tvalidation_1-merror:0.139184\tvalidation_1-mlogloss:0.794486\n",
      "[110]\tvalidation_0-merror:0.001161\tvalidation_0-mlogloss:0.009315\tvalidation_1-merror:0.139026\tvalidation_1-mlogloss:0.795055\n",
      "[111]\tvalidation_0-merror:0.001155\tvalidation_0-mlogloss:0.009242\tvalidation_1-merror:0.139184\tvalidation_1-mlogloss:0.795648\n",
      "[112]\tvalidation_0-merror:0.001155\tvalidation_0-mlogloss:0.009169\tvalidation_1-merror:0.139502\tvalidation_1-mlogloss:0.795987\n",
      "[113]\tvalidation_0-merror:0.001129\tvalidation_0-mlogloss:0.009102\tvalidation_1-merror:0.139502\tvalidation_1-mlogloss:0.796735\n",
      "[114]\tvalidation_0-merror:0.001119\tvalidation_0-mlogloss:0.009034\tvalidation_1-merror:0.139026\tvalidation_1-mlogloss:0.797337\n",
      "[115]\tvalidation_0-merror:0.001114\tvalidation_0-mlogloss:0.00897\tvalidation_1-merror:0.139978\tvalidation_1-mlogloss:0.797876\n",
      "[116]\tvalidation_0-merror:0.001103\tvalidation_0-mlogloss:0.008906\tvalidation_1-merror:0.139502\tvalidation_1-mlogloss:0.798216\n",
      "[117]\tvalidation_0-merror:0.001103\tvalidation_0-mlogloss:0.008846\tvalidation_1-merror:0.139978\tvalidation_1-mlogloss:0.798831\n",
      "[118]\tvalidation_0-merror:0.001103\tvalidation_0-mlogloss:0.008784\tvalidation_1-merror:0.139978\tvalidation_1-mlogloss:0.799519\n",
      "[119]\tvalidation_0-merror:0.001088\tvalidation_0-mlogloss:0.008725\tvalidation_1-merror:0.139819\tvalidation_1-mlogloss:0.800054\n",
      "[120]\tvalidation_0-merror:0.001067\tvalidation_0-mlogloss:0.008668\tvalidation_1-merror:0.139978\tvalidation_1-mlogloss:0.800504\n",
      "[121]\tvalidation_0-merror:0.001061\tvalidation_0-mlogloss:0.008611\tvalidation_1-merror:0.139819\tvalidation_1-mlogloss:0.80108\n",
      "[122]\tvalidation_0-merror:0.001061\tvalidation_0-mlogloss:0.008556\tvalidation_1-merror:0.139819\tvalidation_1-mlogloss:0.80161\n",
      "[123]\tvalidation_0-merror:0.001061\tvalidation_0-mlogloss:0.008505\tvalidation_1-merror:0.139819\tvalidation_1-mlogloss:0.801864\n",
      "[124]\tvalidation_0-merror:0.001061\tvalidation_0-mlogloss:0.008453\tvalidation_1-merror:0.13966\tvalidation_1-mlogloss:0.802303\n",
      "[125]\tvalidation_0-merror:0.001051\tvalidation_0-mlogloss:0.008402\tvalidation_1-merror:0.139502\tvalidation_1-mlogloss:0.802674\n",
      "[126]\tvalidation_0-merror:0.00104\tvalidation_0-mlogloss:0.008351\tvalidation_1-merror:0.139343\tvalidation_1-mlogloss:0.803267\n",
      "[127]\tvalidation_0-merror:0.001035\tvalidation_0-mlogloss:0.008303\tvalidation_1-merror:0.139502\tvalidation_1-mlogloss:0.803814\n",
      "[128]\tvalidation_0-merror:0.00102\tvalidation_0-mlogloss:0.008254\tvalidation_1-merror:0.139502\tvalidation_1-mlogloss:0.804295\n",
      "[129]\tvalidation_0-merror:0.00102\tvalidation_0-mlogloss:0.008205\tvalidation_1-merror:0.139819\tvalidation_1-mlogloss:0.804876\n",
      "[130]\tvalidation_0-merror:0.001014\tvalidation_0-mlogloss:0.00816\tvalidation_1-merror:0.139819\tvalidation_1-mlogloss:0.805496\n",
      "[131]\tvalidation_0-merror:0.001009\tvalidation_0-mlogloss:0.008114\tvalidation_1-merror:0.140136\tvalidation_1-mlogloss:0.805791\n"
     ]
    },
    {
     "name": "stdout",
     "output_type": "stream",
     "text": [
      "[132]\tvalidation_0-merror:0.001004\tvalidation_0-mlogloss:0.008071\tvalidation_1-merror:0.140295\tvalidation_1-mlogloss:0.806218\n",
      "[133]\tvalidation_0-merror:0.000999\tvalidation_0-mlogloss:0.008027\tvalidation_1-merror:0.140136\tvalidation_1-mlogloss:0.806748\n",
      "[134]\tvalidation_0-merror:0.000988\tvalidation_0-mlogloss:0.007984\tvalidation_1-merror:0.139978\tvalidation_1-mlogloss:0.807357\n",
      "[135]\tvalidation_0-merror:0.000983\tvalidation_0-mlogloss:0.007944\tvalidation_1-merror:0.140136\tvalidation_1-mlogloss:0.807833\n",
      "[136]\tvalidation_0-merror:0.000972\tvalidation_0-mlogloss:0.007904\tvalidation_1-merror:0.139978\tvalidation_1-mlogloss:0.808448\n",
      "[137]\tvalidation_0-merror:0.000983\tvalidation_0-mlogloss:0.007863\tvalidation_1-merror:0.139819\tvalidation_1-mlogloss:0.808829\n",
      "[138]\tvalidation_0-merror:0.000978\tvalidation_0-mlogloss:0.007824\tvalidation_1-merror:0.13966\tvalidation_1-mlogloss:0.809445\n",
      "[139]\tvalidation_0-merror:0.000978\tvalidation_0-mlogloss:0.007784\tvalidation_1-merror:0.139978\tvalidation_1-mlogloss:0.80989\n",
      "[140]\tvalidation_0-merror:0.000972\tvalidation_0-mlogloss:0.007744\tvalidation_1-merror:0.139978\tvalidation_1-mlogloss:0.810439\n",
      "[141]\tvalidation_0-merror:0.000962\tvalidation_0-mlogloss:0.007705\tvalidation_1-merror:0.13966\tvalidation_1-mlogloss:0.810882\n",
      "[142]\tvalidation_0-merror:0.000962\tvalidation_0-mlogloss:0.007669\tvalidation_1-merror:0.13966\tvalidation_1-mlogloss:0.811356\n",
      "[143]\tvalidation_0-merror:0.000957\tvalidation_0-mlogloss:0.007634\tvalidation_1-merror:0.13966\tvalidation_1-mlogloss:0.811867\n",
      "[144]\tvalidation_0-merror:0.000957\tvalidation_0-mlogloss:0.007598\tvalidation_1-merror:0.139502\tvalidation_1-mlogloss:0.811993\n",
      "[145]\tvalidation_0-merror:0.000957\tvalidation_0-mlogloss:0.007566\tvalidation_1-merror:0.139819\tvalidation_1-mlogloss:0.812513\n",
      "[146]\tvalidation_0-merror:0.000952\tvalidation_0-mlogloss:0.007534\tvalidation_1-merror:0.139819\tvalidation_1-mlogloss:0.8129\n",
      "[147]\tvalidation_0-merror:0.000952\tvalidation_0-mlogloss:0.007502\tvalidation_1-merror:0.139819\tvalidation_1-mlogloss:0.813505\n",
      "[148]\tvalidation_0-merror:0.000952\tvalidation_0-mlogloss:0.00747\tvalidation_1-merror:0.139978\tvalidation_1-mlogloss:0.814028\n",
      "[149]\tvalidation_0-merror:0.000952\tvalidation_0-mlogloss:0.007437\tvalidation_1-merror:0.139819\tvalidation_1-mlogloss:0.81459\n",
      "[150]\tvalidation_0-merror:0.000952\tvalidation_0-mlogloss:0.007406\tvalidation_1-merror:0.13966\tvalidation_1-mlogloss:0.815064\n",
      "[151]\tvalidation_0-merror:0.000952\tvalidation_0-mlogloss:0.007375\tvalidation_1-merror:0.140295\tvalidation_1-mlogloss:0.815528\n",
      "[152]\tvalidation_0-merror:0.000957\tvalidation_0-mlogloss:0.007345\tvalidation_1-merror:0.139819\tvalidation_1-mlogloss:0.815659\n",
      "[153]\tvalidation_0-merror:0.000957\tvalidation_0-mlogloss:0.007314\tvalidation_1-merror:0.139978\tvalidation_1-mlogloss:0.816119\n",
      "[154]\tvalidation_0-merror:0.000952\tvalidation_0-mlogloss:0.007284\tvalidation_1-merror:0.139819\tvalidation_1-mlogloss:0.816396\n",
      "[155]\tvalidation_0-merror:0.000952\tvalidation_0-mlogloss:0.007256\tvalidation_1-merror:0.13966\tvalidation_1-mlogloss:0.816725\n",
      "[156]\tvalidation_0-merror:0.000952\tvalidation_0-mlogloss:0.007228\tvalidation_1-merror:0.13966\tvalidation_1-mlogloss:0.817077\n",
      "[157]\tvalidation_0-merror:0.000952\tvalidation_0-mlogloss:0.007202\tvalidation_1-merror:0.13966\tvalidation_1-mlogloss:0.817427\n",
      "[158]\tvalidation_0-merror:0.000952\tvalidation_0-mlogloss:0.007175\tvalidation_1-merror:0.139502\tvalidation_1-mlogloss:0.817839\n",
      "[159]\tvalidation_0-merror:0.000946\tvalidation_0-mlogloss:0.007147\tvalidation_1-merror:0.139184\tvalidation_1-mlogloss:0.818354\n"
     ]
    },
    {
     "ename": "KeyboardInterrupt",
     "evalue": "",
     "output_type": "error",
     "traceback": [
      "\u001b[0;31m---------------------------------------------------------------------------\u001b[0m",
      "\u001b[0;31mKeyboardInterrupt\u001b[0m                         Traceback (most recent call last)",
      "\u001b[0;32m<timed exec>\u001b[0m in \u001b[0;36m<module>\u001b[0;34m()\u001b[0m\n",
      "\u001b[0;32m/home/ec2-user/anaconda3/envs/tensorflow_p36/lib/python3.6/site-packages/xgboost/sklearn.py\u001b[0m in \u001b[0;36mfit\u001b[0;34m(self, X, y, sample_weight, eval_set, eval_metric, early_stopping_rounds, verbose, xgb_model)\u001b[0m\n\u001b[1;32m    504\u001b[0m                               \u001b[0mearly_stopping_rounds\u001b[0m\u001b[0;34m=\u001b[0m\u001b[0mearly_stopping_rounds\u001b[0m\u001b[0;34m,\u001b[0m\u001b[0;34m\u001b[0m\u001b[0m\n\u001b[1;32m    505\u001b[0m                               \u001b[0mevals_result\u001b[0m\u001b[0;34m=\u001b[0m\u001b[0mevals_result\u001b[0m\u001b[0;34m,\u001b[0m \u001b[0mobj\u001b[0m\u001b[0;34m=\u001b[0m\u001b[0mobj\u001b[0m\u001b[0;34m,\u001b[0m \u001b[0mfeval\u001b[0m\u001b[0;34m=\u001b[0m\u001b[0mfeval\u001b[0m\u001b[0;34m,\u001b[0m\u001b[0;34m\u001b[0m\u001b[0m\n\u001b[0;32m--> 506\u001b[0;31m                               verbose_eval=verbose, xgb_model=None)\n\u001b[0m\u001b[1;32m    507\u001b[0m \u001b[0;34m\u001b[0m\u001b[0m\n\u001b[1;32m    508\u001b[0m         \u001b[0mself\u001b[0m\u001b[0;34m.\u001b[0m\u001b[0mobjective\u001b[0m \u001b[0;34m=\u001b[0m \u001b[0mxgb_options\u001b[0m\u001b[0;34m[\u001b[0m\u001b[0;34m\"objective\"\u001b[0m\u001b[0;34m]\u001b[0m\u001b[0;34m\u001b[0m\u001b[0m\n",
      "\u001b[0;32m/home/ec2-user/anaconda3/envs/tensorflow_p36/lib/python3.6/site-packages/xgboost/training.py\u001b[0m in \u001b[0;36mtrain\u001b[0;34m(params, dtrain, num_boost_round, evals, obj, feval, maximize, early_stopping_rounds, evals_result, verbose_eval, xgb_model, callbacks, learning_rates)\u001b[0m\n\u001b[1;32m    202\u001b[0m                            \u001b[0mevals\u001b[0m\u001b[0;34m=\u001b[0m\u001b[0mevals\u001b[0m\u001b[0;34m,\u001b[0m\u001b[0;34m\u001b[0m\u001b[0m\n\u001b[1;32m    203\u001b[0m                            \u001b[0mobj\u001b[0m\u001b[0;34m=\u001b[0m\u001b[0mobj\u001b[0m\u001b[0;34m,\u001b[0m \u001b[0mfeval\u001b[0m\u001b[0;34m=\u001b[0m\u001b[0mfeval\u001b[0m\u001b[0;34m,\u001b[0m\u001b[0;34m\u001b[0m\u001b[0m\n\u001b[0;32m--> 204\u001b[0;31m                            xgb_model=xgb_model, callbacks=callbacks)\n\u001b[0m\u001b[1;32m    205\u001b[0m \u001b[0;34m\u001b[0m\u001b[0m\n\u001b[1;32m    206\u001b[0m \u001b[0;34m\u001b[0m\u001b[0m\n",
      "\u001b[0;32m/home/ec2-user/anaconda3/envs/tensorflow_p36/lib/python3.6/site-packages/xgboost/training.py\u001b[0m in \u001b[0;36m_train_internal\u001b[0;34m(params, dtrain, num_boost_round, evals, obj, feval, xgb_model, callbacks)\u001b[0m\n\u001b[1;32m     72\u001b[0m         \u001b[0;31m# Skip the first update if it is a recovery step.\u001b[0m\u001b[0;34m\u001b[0m\u001b[0;34m\u001b[0m\u001b[0m\n\u001b[1;32m     73\u001b[0m         \u001b[0;32mif\u001b[0m \u001b[0mversion\u001b[0m \u001b[0;34m%\u001b[0m \u001b[0;36m2\u001b[0m \u001b[0;34m==\u001b[0m \u001b[0;36m0\u001b[0m\u001b[0;34m:\u001b[0m\u001b[0;34m\u001b[0m\u001b[0m\n\u001b[0;32m---> 74\u001b[0;31m             \u001b[0mbst\u001b[0m\u001b[0;34m.\u001b[0m\u001b[0mupdate\u001b[0m\u001b[0;34m(\u001b[0m\u001b[0mdtrain\u001b[0m\u001b[0;34m,\u001b[0m \u001b[0mi\u001b[0m\u001b[0;34m,\u001b[0m \u001b[0mobj\u001b[0m\u001b[0;34m)\u001b[0m\u001b[0;34m\u001b[0m\u001b[0m\n\u001b[0m\u001b[1;32m     75\u001b[0m             \u001b[0mbst\u001b[0m\u001b[0;34m.\u001b[0m\u001b[0msave_rabit_checkpoint\u001b[0m\u001b[0;34m(\u001b[0m\u001b[0;34m)\u001b[0m\u001b[0;34m\u001b[0m\u001b[0m\n\u001b[1;32m     76\u001b[0m             \u001b[0mversion\u001b[0m \u001b[0;34m+=\u001b[0m \u001b[0;36m1\u001b[0m\u001b[0;34m\u001b[0m\u001b[0m\n",
      "\u001b[0;32m/home/ec2-user/anaconda3/envs/tensorflow_p36/lib/python3.6/site-packages/xgboost/core.py\u001b[0m in \u001b[0;36mupdate\u001b[0;34m(self, dtrain, iteration, fobj)\u001b[0m\n\u001b[1;32m    893\u001b[0m         \u001b[0;32mif\u001b[0m \u001b[0mfobj\u001b[0m \u001b[0;32mis\u001b[0m \u001b[0;32mNone\u001b[0m\u001b[0;34m:\u001b[0m\u001b[0;34m\u001b[0m\u001b[0m\n\u001b[1;32m    894\u001b[0m             _check_call(_LIB.XGBoosterUpdateOneIter(self.handle, ctypes.c_int(iteration),\n\u001b[0;32m--> 895\u001b[0;31m                                                     dtrain.handle))\n\u001b[0m\u001b[1;32m    896\u001b[0m         \u001b[0;32melse\u001b[0m\u001b[0;34m:\u001b[0m\u001b[0;34m\u001b[0m\u001b[0m\n\u001b[1;32m    897\u001b[0m             \u001b[0mpred\u001b[0m \u001b[0;34m=\u001b[0m \u001b[0mself\u001b[0m\u001b[0;34m.\u001b[0m\u001b[0mpredict\u001b[0m\u001b[0;34m(\u001b[0m\u001b[0mdtrain\u001b[0m\u001b[0;34m)\u001b[0m\u001b[0;34m\u001b[0m\u001b[0m\n",
      "\u001b[0;31mKeyboardInterrupt\u001b[0m: "
     ]
    }
   ],
   "source": [
    "%%time\n",
    "\n",
    "import xgboost as xgb\n",
    "from sklearn.metrics import roc_auc_score\n",
    "\n",
    "\n",
    "clf = xgb.XGBClassifier(\n",
    "    max_depth=20, \n",
    "    learning_rate=0.1, \n",
    "    n_estimators=2000, \n",
    "    silent=False, \n",
    "    objective='multi:softmax', \n",
    "    booster='gbtree', \n",
    "    n_jobs=cpu_amount, \n",
    "    nthread=None, \n",
    "    gamma=0, \n",
    "    min_child_weight=1, \n",
    "    max_delta_step=0, \n",
    "    subsample=0.5, \n",
    "    colsample_bytree=0.5, \n",
    "#     colsample_bylevel=0.7, \n",
    "    reg_alpha=0.2, \n",
    "    reg_lambda=1.2, \n",
    "#     scale_pos_weight=1, \n",
    "    base_score=0.5, \n",
    "    random_state=random_num, \n",
    "    seed=None, \n",
    "    missing=None,\n",
    "    # booster params\n",
    "    num_boost_round=70,\n",
    "#     early_stopping_rounds=10,\n",
    "    tree_method='hist',\n",
    "#     predictor='gpu_predictor',\n",
    "    eval_metric=['merror', 'mlogloss']\n",
    ")\n",
    "\n",
    "clf.fit(\n",
    "    y_train_probas_sta, \n",
    "    y_train,\n",
    "#     sample_weight=None, \n",
    "    eval_set=[(y_train_probas_sta, y_train), (y_val_probas_sta, y_val)], \n",
    "#     eval_metric=['mlogloss', 'error'], \n",
    "#     early_stopping_rounds=20, \n",
    "#     verbose=False, \n",
    "#     xgb_model=None\n",
    ")\n"
   ]
  },
  {
   "cell_type": "code",
   "execution_count": 22,
   "metadata": {},
   "outputs": [
    {
     "ename": "XGBoostError",
     "evalue": "need to call fit beforehand",
     "output_type": "error",
     "traceback": [
      "\u001b[0;31m---------------------------------------------------------------------------\u001b[0m",
      "\u001b[0;31mXGBoostError\u001b[0m                              Traceback (most recent call last)",
      "\u001b[0;32m<ipython-input-22-1ff7e9ee6f00>\u001b[0m in \u001b[0;36m<module>\u001b[0;34m()\u001b[0m\n\u001b[0;32m----> 1\u001b[0;31m \u001b[0my_train_pred\u001b[0m \u001b[0;34m=\u001b[0m \u001b[0mclf\u001b[0m\u001b[0;34m.\u001b[0m\u001b[0mpredict\u001b[0m\u001b[0;34m(\u001b[0m\u001b[0my_train_probas_sta\u001b[0m\u001b[0;34m)\u001b[0m\u001b[0;34m\u001b[0m\u001b[0m\n\u001b[0m\u001b[1;32m      2\u001b[0m \u001b[0macc_train\u001b[0m \u001b[0;34m=\u001b[0m \u001b[0maccuracy_score\u001b[0m\u001b[0;34m(\u001b[0m\u001b[0my_train\u001b[0m\u001b[0;34m,\u001b[0m \u001b[0my_train_pred\u001b[0m\u001b[0;34m)\u001b[0m\u001b[0;34m\u001b[0m\u001b[0m\n\u001b[1;32m      3\u001b[0m \u001b[0mprint\u001b[0m\u001b[0;34m(\u001b[0m\u001b[0;34m'acc_train: %.4f'\u001b[0m \u001b[0;34m%\u001b[0m \u001b[0macc_train\u001b[0m\u001b[0;34m)\u001b[0m\u001b[0;34m\u001b[0m\u001b[0m\n\u001b[1;32m      4\u001b[0m \u001b[0;34m\u001b[0m\u001b[0m\n\u001b[1;32m      5\u001b[0m \u001b[0my_val_pred\u001b[0m \u001b[0;34m=\u001b[0m \u001b[0mclf\u001b[0m\u001b[0;34m.\u001b[0m\u001b[0mpredict\u001b[0m\u001b[0;34m(\u001b[0m\u001b[0my_val_probas_sta\u001b[0m\u001b[0;34m)\u001b[0m\u001b[0;34m\u001b[0m\u001b[0m\n",
      "\u001b[0;32m/home/ec2-user/anaconda3/envs/tensorflow_p36/lib/python3.6/site-packages/xgboost/sklearn.py\u001b[0m in \u001b[0;36mpredict\u001b[0;34m(self, data, output_margin, ntree_limit)\u001b[0m\n\u001b[1;32m    540\u001b[0m         \"\"\"\n\u001b[1;32m    541\u001b[0m         \u001b[0mtest_dmatrix\u001b[0m \u001b[0;34m=\u001b[0m \u001b[0mDMatrix\u001b[0m\u001b[0;34m(\u001b[0m\u001b[0mdata\u001b[0m\u001b[0;34m,\u001b[0m \u001b[0mmissing\u001b[0m\u001b[0;34m=\u001b[0m\u001b[0mself\u001b[0m\u001b[0;34m.\u001b[0m\u001b[0mmissing\u001b[0m\u001b[0;34m,\u001b[0m \u001b[0mnthread\u001b[0m\u001b[0;34m=\u001b[0m\u001b[0mself\u001b[0m\u001b[0;34m.\u001b[0m\u001b[0mn_jobs\u001b[0m\u001b[0;34m)\u001b[0m\u001b[0;34m\u001b[0m\u001b[0m\n\u001b[0;32m--> 542\u001b[0;31m         class_probs = self.get_booster().predict(test_dmatrix,\n\u001b[0m\u001b[1;32m    543\u001b[0m                                                  \u001b[0moutput_margin\u001b[0m\u001b[0;34m=\u001b[0m\u001b[0moutput_margin\u001b[0m\u001b[0;34m,\u001b[0m\u001b[0;34m\u001b[0m\u001b[0m\n\u001b[1;32m    544\u001b[0m                                                  ntree_limit=ntree_limit)\n",
      "\u001b[0;32m/home/ec2-user/anaconda3/envs/tensorflow_p36/lib/python3.6/site-packages/xgboost/sklearn.py\u001b[0m in \u001b[0;36mget_booster\u001b[0;34m(self)\u001b[0m\n\u001b[1;32m    177\u001b[0m         \"\"\"\n\u001b[1;32m    178\u001b[0m         \u001b[0;32mif\u001b[0m \u001b[0mself\u001b[0m\u001b[0;34m.\u001b[0m\u001b[0m_Booster\u001b[0m \u001b[0;32mis\u001b[0m \u001b[0;32mNone\u001b[0m\u001b[0;34m:\u001b[0m\u001b[0;34m\u001b[0m\u001b[0m\n\u001b[0;32m--> 179\u001b[0;31m             \u001b[0;32mraise\u001b[0m \u001b[0mXGBoostError\u001b[0m\u001b[0;34m(\u001b[0m\u001b[0;34m'need to call fit beforehand'\u001b[0m\u001b[0;34m)\u001b[0m\u001b[0;34m\u001b[0m\u001b[0m\n\u001b[0m\u001b[1;32m    180\u001b[0m         \u001b[0;32mreturn\u001b[0m \u001b[0mself\u001b[0m\u001b[0;34m.\u001b[0m\u001b[0m_Booster\u001b[0m\u001b[0;34m\u001b[0m\u001b[0m\n\u001b[1;32m    181\u001b[0m \u001b[0;34m\u001b[0m\u001b[0m\n",
      "\u001b[0;31mXGBoostError\u001b[0m: need to call fit beforehand"
     ]
    }
   ],
   "source": [
    "y_train_pred = clf.predict(y_train_probas_sta)\n",
    "acc_train = accuracy_score(y_train, y_train_pred)\n",
    "print('acc_train: %.4f' % acc_train)\n",
    "\n",
    "y_val_pred = clf.predict(y_val_probas_sta)\n",
    "acc_val = accuracy_score(y_val, y_val_pred)\n",
    "print('acc_val:   %.4f' % acc_val)"
   ]
  },
  {
   "cell_type": "code",
   "execution_count": null,
   "metadata": {},
   "outputs": [],
   "source": [
    "evals_result = clf.evals_result()\n",
    "colors = ['b', 'g', 'r', 'c', 'm', 'y', 'k', 'w']\n",
    "# print(evals_result)\n",
    "\n",
    "validation_0_key = list(evals_result.keys())[0]\n",
    "metric_0_key = list(evals_result[validation_0_key].keys())[0]\n",
    "n_round = len(evals_result[validation_0_key][metric_0_key])\n",
    "\n",
    "x = list(range(1, n_round + 1))\n",
    "for metric_key in evals_result[validation_0_key].keys():\n",
    "    plt.xlabel('echo')\n",
    "    plt.ylabel(metric_key)\n",
    "    for i, val_key in enumerate(evals_result.keys()):\n",
    "        plt.plot(x, evals_result[val_key][metric_key], colors[i])\n",
    "    plt.legend(labels = list(evals_result.keys()), loc = 'best')\n",
    "    plt.show()"
   ]
  },
  {
   "cell_type": "code",
   "execution_count": null,
   "metadata": {},
   "outputs": [],
   "source": []
  },
  {
   "cell_type": "markdown",
   "metadata": {},
   "source": [
    "## Predict"
   ]
  },
  {
   "cell_type": "code",
   "execution_count": null,
   "metadata": {},
   "outputs": [],
   "source": [
    "y_test_pred = clf.predict(y_test_probas_sta)\n",
    "print(y_test_pred.shape)"
   ]
  },
  {
   "cell_type": "code",
   "execution_count": null,
   "metadata": {},
   "outputs": [],
   "source": [
    "%%time\n",
    "\n",
    "# if statistics_type == 'val_mean':\n",
    "#     max_indexes = np.argmax(y_test_proba_mean, -1)\n",
    "# elif statistics_type == 'val_min':\n",
    "#     max_indexes = np.argmax(y_test_proba_min, -1)\n",
    "# elif statistics_type == 'val_max':\n",
    "#     max_indexes = np.argmax(y_test_proba_max, -1)\n",
    "# else: \n",
    "#     # statistics_type == 'val_median'\n",
    "#     max_indexes = np.argmax(y_test_proba_median, -1)\n",
    "# print(xg_test_pred.shape)\n",
    "\n",
    "test_dict = {}\n",
    "for pair in zip(test_filenames, y_test_pred):\n",
    "    image_name, indx = pair[0], int(pair[1])\n",
    "    image_name = image_name.split('/')[-1]\n",
    "    image_id = int(image_name.split('.')[0])\n",
    "#     print(pair[0], image_name, image_id, indx, indx+1, type(image_id), type(indx))\n",
    "    test_dict[image_id] = indx + 1\n",
    "\n",
    "#确认图片的id是否能与ImageDataGenerator()对应上\n",
    "for name in test_filenames[:10]:\n",
    "    image_name = name.split('/')[-1]\n",
    "    image_id = int(image_name.split('.')[0])\n",
    "#     print('%s\\t%s\\t%s' % (name, image_id, test_dict[image_id]))"
   ]
  },
  {
   "cell_type": "code",
   "execution_count": null,
   "metadata": {},
   "outputs": [],
   "source": [
    "display(sample_submission_csv.head(2))"
   ]
  },
  {
   "cell_type": "code",
   "execution_count": null,
   "metadata": {},
   "outputs": [],
   "source": [
    "%%time\n",
    "len_sample_submission_csv = len(sample_submission_csv)\n",
    "print('len(len_sample_submission_csv)=%d' % len_sample_submission_csv)\n",
    "count = 0\n",
    "for i in range(len_sample_submission_csv):\n",
    "    image_id = int(sample_submission_csv.iloc[i, 0])\n",
    "    if image_id in test_dict:\n",
    "        pred_label = test_dict[image_id]\n",
    "#         print('%s\\t%s' % (image_id, pred_label))\n",
    "        sample_submission_csv.iloc[i, 1] = pred_label\n",
    "    else:\n",
    "#         print('%s\\t%s' % (image_id, 20))\n",
    "        sample_submission_csv.iloc[i, 1] = 20 # 属于20的类最多，所以全都设置成这个类，可能会比设置成其他得到的结果好\n",
    "    count += 1\n",
    "    if count % 1000 == 0:\n",
    "        print(int(count/1000), end=' ')\n",
    "display(sample_submission_csv.head(2))"
   ]
  },
  {
   "cell_type": "code",
   "execution_count": null,
   "metadata": {},
   "outputs": [],
   "source": [
    "print(list(set(sample_submission_csv['predicted'])))"
   ]
  },
  {
   "cell_type": "code",
   "execution_count": null,
   "metadata": {},
   "outputs": [],
   "source": [
    "run_name_acc = run_name + '_' + str(int(ensemble_res[statistics_type]*10000)).zfill(4)\n",
    "print(run_name_acc)"
   ]
  },
  {
   "cell_type": "code",
   "execution_count": null,
   "metadata": {},
   "outputs": [],
   "source": [
    "pred_file = os.path.join(output_folder, 'pred_%s.csv' % run_name_acc)\n",
    "sample_submission_csv.to_csv(pred_file, index=None)"
   ]
  },
  {
   "cell_type": "code",
   "execution_count": null,
   "metadata": {},
   "outputs": [],
   "source": [
    "print('Time cost: %.2f s' % (time.time() - t0))\n",
    "print(statistics_type)\n",
    "\n",
    "print(run_name_acc)\n",
    "print('Done !')"
   ]
  },
  {
   "cell_type": "code",
   "execution_count": null,
   "metadata": {},
   "outputs": [],
   "source": []
  },
  {
   "cell_type": "code",
   "execution_count": null,
   "metadata": {},
   "outputs": [],
   "source": []
  }
 ],
 "metadata": {
  "kernelspec": {
   "display_name": "Python 3",
   "language": "python",
   "name": "python3"
  },
  "language_info": {
   "codemirror_mode": {
    "name": "ipython",
    "version": 3
   },
   "file_extension": ".py",
   "mimetype": "text/x-python",
   "name": "python",
   "nbconvert_exporter": "python",
   "pygments_lexer": "ipython3",
   "version": "3.6.4"
  }
 },
 "nbformat": 4,
 "nbformat_minor": 2
}
