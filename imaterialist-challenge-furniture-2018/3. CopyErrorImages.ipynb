{
 "cells": [
  {
   "cell_type": "markdown",
   "metadata": {},
   "source": [
    "## 3. CopyErrorImages\n",
    "Abstract:\n",
    "- Copy error images 2 times\n",
    "- copy hard classifier images"
   ]
  },
  {
   "cell_type": "markdown",
   "metadata": {},
   "source": [
    "## Run name"
   ]
  },
  {
   "cell_type": "code",
   "execution_count": 1,
   "metadata": {},
   "outputs": [
    {
     "name": "stdout",
     "output_type": "stream",
     "text": [
      "run_name: ic_furniture2018_CopyErrorImages_20180520_184333\n"
     ]
    }
   ],
   "source": [
    "import time\n",
    "\n",
    "project_name = 'ic_furniture2018'\n",
    "step_name = 'CopyErrorImages'\n",
    "time_str = time.strftime(\"%Y%m%d_%H%M%S\", time.localtime())\n",
    "run_name = project_name + '_' + step_name + '_' + time_str\n",
    "print('run_name: ' + run_name)\n",
    "t0 = time.time()"
   ]
  },
  {
   "cell_type": "markdown",
   "metadata": {},
   "source": [
    "## Improtant Params"
   ]
  },
  {
   "cell_type": "code",
   "execution_count": 2,
   "metadata": {},
   "outputs": [
    {
     "name": "stdout",
     "output_type": "stream",
     "text": [
      "299\n",
      "ic_furniture2018_TrainPredict_FineTune1_20180520_041526_8418\n"
     ]
    }
   ],
   "source": [
    "image_size = 299\n",
    "width = height = image_size\n",
    "target_size = (width, height)\n",
    "batch_size = 32\n",
    "epochs = 25\n",
    "print(image_size)\n",
    "\n",
    "run_name_acc = 'ic_furniture2018_TrainPredict_FineTune1_20180520_041526_8418'\n",
    "# run_name_acc = 'ic_furniture2018_TrainPredict_FineTune1_20180519_035431_8231'\n",
    "print(run_name_acc)"
   ]
  },
  {
   "cell_type": "markdown",
   "metadata": {},
   "source": [
    "## Import PKGs"
   ]
  },
  {
   "cell_type": "code",
   "execution_count": 3,
   "metadata": {},
   "outputs": [
    {
     "name": "stderr",
     "output_type": "stream",
     "text": [
      "/home/ubuntu/anaconda3/envs/tensorflow_p36/lib/python3.6/site-packages/h5py/__init__.py:36: FutureWarning: Conversion of the second argument of issubdtype from `float` to `np.floating` is deprecated. In future, it will be treated as `np.float64 == np.dtype(float).type`.\n",
      "  from ._conv import register_converters as _register_converters\n"
     ]
    },
    {
     "name": "stdout",
     "output_type": "stream",
     "text": [
      "cpu_amount:  8\n"
     ]
    }
   ],
   "source": [
    "import numpy as np\n",
    "import pandas as pd\n",
    "import matplotlib.pyplot as plt\n",
    "import matplotlib.image as mpimg\n",
    "%matplotlib inline\n",
    "from IPython.display import display\n",
    "\n",
    "import os\n",
    "import gc\n",
    "import math\n",
    "import shutil\n",
    "import zipfile\n",
    "import pickle\n",
    "import h5py\n",
    "from PIL import Image\n",
    "\n",
    "from tqdm import tqdm\n",
    "import multiprocessing\n",
    "\n",
    "from sklearn.model_selection import train_test_split\n",
    "from sklearn.metrics import confusion_matrix, accuracy_score\n",
    "\n",
    "cpu_amount = multiprocessing.cpu_count()\n",
    "print('cpu_amount: ', cpu_amount)"
   ]
  },
  {
   "cell_type": "markdown",
   "metadata": {},
   "source": [
    "## Project folders"
   ]
  },
  {
   "cell_type": "code",
   "execution_count": 4,
   "metadata": {},
   "outputs": [
    {
     "name": "stdout",
     "output_type": "stream",
     "text": [
      "input_folder: \t\t\t/data1/kaggle/imaterialist-challenge-furniture-2018/input\n",
      "output_folder: \t\t\t/data1/kaggle/imaterialist-challenge-furniture-2018/output\n",
      "model_folder: \t\t\t/data1/kaggle/imaterialist-challenge-furniture-2018/model\n",
      "feature_folder: \t\t/data1/kaggle/imaterialist-challenge-furniture-2018/feature\n",
      "post_pca_feature_folder: \t/data1/kaggle/imaterialist-challenge-furniture-2018/post_pca_feature\n",
      "log_folder: \t\t\t/data1/kaggle/imaterialist-challenge-furniture-2018/log\n",
      "\n",
      "train_json_file: \t\t/data1/kaggle/imaterialist-challenge-furniture-2018/input/train.json\n",
      "val_json_file: \t\t\t/data1/kaggle/imaterialist-challenge-furniture-2018/input/validation.json\n",
      "test_json_file: \t\t/data1/kaggle/imaterialist-challenge-furniture-2018/input/test.json\n",
      "\n",
      "train_csv_file: \t\t/data1/kaggle/imaterialist-challenge-furniture-2018/input/train.csv\n",
      "val_csv_file: \t\t\t/data1/kaggle/imaterialist-challenge-furniture-2018/input/validation.csv\n",
      "test_csv_file: \t\t\t/data1/kaggle/imaterialist-challenge-furniture-2018/input/test.csv\n",
      "\n",
      "sample_submission_csv_file: \t/data1/kaggle/imaterialist-challenge-furniture-2018/input/sample_submission_randomlabel.csv\n"
     ]
    }
   ],
   "source": [
    "cwd = os.getcwd()\n",
    "input_folder = os.path.join(cwd, 'input')\n",
    "output_folder = os.path.join(cwd, 'output')\n",
    "model_folder = os.path.join(cwd, 'model')\n",
    "feature_folder = os.path.join(cwd, 'feature')\n",
    "post_pca_feature_folder = os.path.join(cwd, 'post_pca_feature')\n",
    "log_folder = os.path.join(cwd, 'log')\n",
    "print('input_folder: \\t\\t\\t%s' % input_folder)\n",
    "print('output_folder: \\t\\t\\t%s' % output_folder)\n",
    "print('model_folder: \\t\\t\\t%s' % model_folder)\n",
    "print('feature_folder: \\t\\t%s' % feature_folder)\n",
    "print('post_pca_feature_folder: \\t%s' % post_pca_feature_folder)\n",
    "print('log_folder: \\t\\t\\t%s' % log_folder)\n",
    "\n",
    "org_train_folder = os.path.join(input_folder, 'org_train')\n",
    "org_val_folder = os.path.join(input_folder, 'org_val')\n",
    "org_test_folder = os.path.join(input_folder, 'org_test')\n",
    "train_folder = os.path.join(input_folder, 'data_train')\n",
    "val_folder = os.path.join(input_folder, 'data_val')\n",
    "test_folder = os.path.join(input_folder, 'data_test')\n",
    "test_sub_folder = os.path.join(test_folder, 'test')\n",
    "\n",
    "if not os.path.exists(post_pca_feature_folder):\n",
    "    os.mkdir(post_pca_feature_folder)\n",
    "    print('Create folder: %s' % post_pca_feature_folder)\n",
    "\n",
    "train_json_file = os.path.join(input_folder, 'train.json')\n",
    "val_json_file = os.path.join(input_folder, 'validation.json')\n",
    "test_json_file = os.path.join(input_folder, 'test.json')\n",
    "print('\\ntrain_json_file: \\t\\t%s' % train_json_file)\n",
    "print('val_json_file: \\t\\t\\t%s' % val_json_file)\n",
    "print('test_json_file: \\t\\t%s' % test_json_file)\n",
    "\n",
    "train_csv_file = os.path.join(input_folder, 'train.csv')\n",
    "val_csv_file = os.path.join(input_folder, 'validation.csv')\n",
    "test_csv_file = os.path.join(input_folder, 'test.csv')\n",
    "print('\\ntrain_csv_file: \\t\\t%s' % train_csv_file)\n",
    "print('val_csv_file: \\t\\t\\t%s' % val_csv_file)\n",
    "print('test_csv_file: \\t\\t\\t%s' % test_csv_file)\n",
    "\n",
    "sample_submission_csv_file = os.path.join(input_folder, 'sample_submission_randomlabel.csv')\n",
    "print('\\nsample_submission_csv_file: \\t%s' % sample_submission_csv_file)"
   ]
  },
  {
   "cell_type": "markdown",
   "metadata": {},
   "source": [
    "## Preview data"
   ]
  },
  {
   "cell_type": "code",
   "execution_count": 5,
   "metadata": {},
   "outputs": [
    {
     "name": "stdout",
     "output_type": "stream",
     "text": [
      "train_csv.shape is (194828, 3).\n"
     ]
    },
    {
     "data": {
      "text/html": [
       "<div>\n",
       "<style scoped>\n",
       "    .dataframe tbody tr th:only-of-type {\n",
       "        vertical-align: middle;\n",
       "    }\n",
       "\n",
       "    .dataframe tbody tr th {\n",
       "        vertical-align: top;\n",
       "    }\n",
       "\n",
       "    .dataframe thead th {\n",
       "        text-align: right;\n",
       "    }\n",
       "</style>\n",
       "<table border=\"1\" class=\"dataframe\">\n",
       "  <thead>\n",
       "    <tr style=\"text-align: right;\">\n",
       "      <th></th>\n",
       "      <th>image_id</th>\n",
       "      <th>label_id</th>\n",
       "      <th>url</th>\n",
       "    </tr>\n",
       "  </thead>\n",
       "  <tbody>\n",
       "    <tr>\n",
       "      <th>0</th>\n",
       "      <td>1</td>\n",
       "      <td>5</td>\n",
       "      <td>https://img13.360buyimg.com/imgzone/jfs/t2857/...</td>\n",
       "    </tr>\n",
       "    <tr>\n",
       "      <th>1</th>\n",
       "      <td>2</td>\n",
       "      <td>5</td>\n",
       "      <td>http://www.tengdakeli.cn/350/timg01/uploaded/i...</td>\n",
       "    </tr>\n",
       "  </tbody>\n",
       "</table>\n",
       "</div>"
      ],
      "text/plain": [
       "   image_id  label_id                                                url\n",
       "0         1         5  https://img13.360buyimg.com/imgzone/jfs/t2857/...\n",
       "1         2         5  http://www.tengdakeli.cn/350/timg01/uploaded/i..."
      ]
     },
     "metadata": {},
     "output_type": "display_data"
    },
    {
     "name": "stdout",
     "output_type": "stream",
     "text": [
      "val_csv.shape is (6400, 3).\n"
     ]
    },
    {
     "data": {
      "text/html": [
       "<div>\n",
       "<style scoped>\n",
       "    .dataframe tbody tr th:only-of-type {\n",
       "        vertical-align: middle;\n",
       "    }\n",
       "\n",
       "    .dataframe tbody tr th {\n",
       "        vertical-align: top;\n",
       "    }\n",
       "\n",
       "    .dataframe thead th {\n",
       "        text-align: right;\n",
       "    }\n",
       "</style>\n",
       "<table border=\"1\" class=\"dataframe\">\n",
       "  <thead>\n",
       "    <tr style=\"text-align: right;\">\n",
       "      <th></th>\n",
       "      <th>image_id</th>\n",
       "      <th>label_id</th>\n",
       "      <th>url</th>\n",
       "    </tr>\n",
       "  </thead>\n",
       "  <tbody>\n",
       "    <tr>\n",
       "      <th>0</th>\n",
       "      <td>1</td>\n",
       "      <td>38</td>\n",
       "      <td>http://www.ghs.net/public/images/fb/3d/51/3beb...</td>\n",
       "    </tr>\n",
       "    <tr>\n",
       "      <th>1</th>\n",
       "      <td>2</td>\n",
       "      <td>63</td>\n",
       "      <td>https://img.alicdn.com/imgextra/TB2chFei9YH8KJ...</td>\n",
       "    </tr>\n",
       "  </tbody>\n",
       "</table>\n",
       "</div>"
      ],
      "text/plain": [
       "   image_id  label_id                                                url\n",
       "0         1        38  http://www.ghs.net/public/images/fb/3d/51/3beb...\n",
       "1         2        63  https://img.alicdn.com/imgextra/TB2chFei9YH8KJ..."
      ]
     },
     "metadata": {},
     "output_type": "display_data"
    },
    {
     "name": "stdout",
     "output_type": "stream",
     "text": [
      "test_csv.shape is (12800, 2).\n"
     ]
    },
    {
     "data": {
      "text/html": [
       "<div>\n",
       "<style scoped>\n",
       "    .dataframe tbody tr th:only-of-type {\n",
       "        vertical-align: middle;\n",
       "    }\n",
       "\n",
       "    .dataframe tbody tr th {\n",
       "        vertical-align: top;\n",
       "    }\n",
       "\n",
       "    .dataframe thead th {\n",
       "        text-align: right;\n",
       "    }\n",
       "</style>\n",
       "<table border=\"1\" class=\"dataframe\">\n",
       "  <thead>\n",
       "    <tr style=\"text-align: right;\">\n",
       "      <th></th>\n",
       "      <th>image_id</th>\n",
       "      <th>url</th>\n",
       "    </tr>\n",
       "  </thead>\n",
       "  <tbody>\n",
       "    <tr>\n",
       "      <th>0</th>\n",
       "      <td>1</td>\n",
       "      <td>https://img13.360buyimg.com/imgzone/jfs/t13174...</td>\n",
       "    </tr>\n",
       "    <tr>\n",
       "      <th>1</th>\n",
       "      <td>2</td>\n",
       "      <td>http://img35.ddimg.cn/79/22/1258168705-1_u.jpg</td>\n",
       "    </tr>\n",
       "  </tbody>\n",
       "</table>\n",
       "</div>"
      ],
      "text/plain": [
       "   image_id                                                url\n",
       "0         1  https://img13.360buyimg.com/imgzone/jfs/t13174...\n",
       "1         2     http://img35.ddimg.cn/79/22/1258168705-1_u.jpg"
      ]
     },
     "metadata": {},
     "output_type": "display_data"
    },
    {
     "name": "stdout",
     "output_type": "stream",
     "text": [
      "test_csv.shape is (12800, 2).\n"
     ]
    },
    {
     "data": {
      "text/html": [
       "<div>\n",
       "<style scoped>\n",
       "    .dataframe tbody tr th:only-of-type {\n",
       "        vertical-align: middle;\n",
       "    }\n",
       "\n",
       "    .dataframe tbody tr th {\n",
       "        vertical-align: top;\n",
       "    }\n",
       "\n",
       "    .dataframe thead th {\n",
       "        text-align: right;\n",
       "    }\n",
       "</style>\n",
       "<table border=\"1\" class=\"dataframe\">\n",
       "  <thead>\n",
       "    <tr style=\"text-align: right;\">\n",
       "      <th></th>\n",
       "      <th>image_id</th>\n",
       "      <th>url</th>\n",
       "    </tr>\n",
       "  </thead>\n",
       "  <tbody>\n",
       "    <tr>\n",
       "      <th>0</th>\n",
       "      <td>1</td>\n",
       "      <td>https://img13.360buyimg.com/imgzone/jfs/t13174...</td>\n",
       "    </tr>\n",
       "    <tr>\n",
       "      <th>1</th>\n",
       "      <td>2</td>\n",
       "      <td>http://img35.ddimg.cn/79/22/1258168705-1_u.jpg</td>\n",
       "    </tr>\n",
       "  </tbody>\n",
       "</table>\n",
       "</div>"
      ],
      "text/plain": [
       "   image_id                                                url\n",
       "0         1  https://img13.360buyimg.com/imgzone/jfs/t13174...\n",
       "1         2     http://img35.ddimg.cn/79/22/1258168705-1_u.jpg"
      ]
     },
     "metadata": {},
     "output_type": "display_data"
    },
    {
     "name": "stdout",
     "output_type": "stream",
     "text": [
      "sample_submission_csv.shape is (12800, 2).\n"
     ]
    },
    {
     "data": {
      "text/html": [
       "<div>\n",
       "<style scoped>\n",
       "    .dataframe tbody tr th:only-of-type {\n",
       "        vertical-align: middle;\n",
       "    }\n",
       "\n",
       "    .dataframe tbody tr th {\n",
       "        vertical-align: top;\n",
       "    }\n",
       "\n",
       "    .dataframe thead th {\n",
       "        text-align: right;\n",
       "    }\n",
       "</style>\n",
       "<table border=\"1\" class=\"dataframe\">\n",
       "  <thead>\n",
       "    <tr style=\"text-align: right;\">\n",
       "      <th></th>\n",
       "      <th>id</th>\n",
       "      <th>predicted</th>\n",
       "    </tr>\n",
       "  </thead>\n",
       "  <tbody>\n",
       "    <tr>\n",
       "      <th>0</th>\n",
       "      <td>1</td>\n",
       "      <td>57</td>\n",
       "    </tr>\n",
       "    <tr>\n",
       "      <th>1</th>\n",
       "      <td>2</td>\n",
       "      <td>74</td>\n",
       "    </tr>\n",
       "  </tbody>\n",
       "</table>\n",
       "</div>"
      ],
      "text/plain": [
       "   id  predicted\n",
       "0   1         57\n",
       "1   2         74"
      ]
     },
     "metadata": {},
     "output_type": "display_data"
    }
   ],
   "source": [
    "train_csv = pd.read_csv(train_csv_file)\n",
    "print('train_csv.shape is {0}.'.format(train_csv.shape))\n",
    "display(train_csv.head(2))\n",
    "\n",
    "val_csv = pd.read_csv(val_csv_file)\n",
    "print('val_csv.shape is {0}.'.format(val_csv.shape))\n",
    "display(val_csv.head(2))\n",
    "\n",
    "test_csv = pd.read_csv(test_csv_file)\n",
    "print('test_csv.shape is {0}.'.format(test_csv.shape))\n",
    "display(test_csv.head(2))\n",
    "\n",
    "test_csv = pd.read_csv(test_csv_file)\n",
    "print('test_csv.shape is {0}.'.format(test_csv.shape))\n",
    "display(test_csv.head(2))\n",
    "\n",
    "sample_submission_csv = pd.read_csv(sample_submission_csv_file)\n",
    "print('sample_submission_csv.shape is {0}.'.format(sample_submission_csv.shape))\n",
    "display(sample_submission_csv.head(2))"
   ]
  },
  {
   "cell_type": "code",
   "execution_count": 6,
   "metadata": {},
   "outputs": [
    {
     "name": "stdout",
     "output_type": "stream",
     "text": [
      "len(id_2_train_label_id_dict)=194828\n",
      "id: 1, \tlandmark_id:5\n",
      "id: 2, \tlandmark_id:5\n",
      "2_5.jpg\n"
     ]
    }
   ],
   "source": [
    "train_id = train_csv['image_id']\n",
    "train_label_id = train_csv['label_id']\n",
    "\n",
    "id_2_train_label_id_dict = dict(zip(train_id, train_label_id))\n",
    "print('len(id_2_train_label_id_dict)=%d' % len(id_2_train_label_id_dict))\n",
    "\n",
    "index = 0\n",
    "print('id: %s, \\tlandmark_id:%s' % (train_id[index], id_2_train_label_id_dict[train_id[index]]))\n",
    "index = 1\n",
    "print('id: %s, \\tlandmark_id:%s' % (train_id[index], id_2_train_label_id_dict[train_id[index]]))\n",
    "\n",
    "image_file = '%s_%s.jpg' % (train_id[index], id_2_train_label_id_dict[train_id[index]])\n",
    "print(image_file)"
   ]
  },
  {
   "cell_type": "code",
   "execution_count": 7,
   "metadata": {},
   "outputs": [
    {
     "name": "stdout",
     "output_type": "stream",
     "text": [
      "len(id_2_val_label_id_dict)=6400\n",
      "id: 1, \tlandmark_id:38\n",
      "id: 2, \tlandmark_id:63\n",
      "2_63.jpg\n"
     ]
    }
   ],
   "source": [
    "val_id = val_csv['image_id']\n",
    "val_label_id = val_csv['label_id']\n",
    "\n",
    "id_2_val_label_id_dict = dict(zip(val_id, val_label_id))\n",
    "print('len(id_2_val_label_id_dict)=%d' % len(id_2_val_label_id_dict))\n",
    "\n",
    "index = 0\n",
    "print('id: %s, \\tlandmark_id:%s' % (val_id[index], id_2_val_label_id_dict[val_id[index]]))\n",
    "index = 1\n",
    "print('id: %s, \\tlandmark_id:%s' % (val_id[index], id_2_val_label_id_dict[val_id[index]]))\n",
    "\n",
    "image_file = '%s_%s.jpg' % (val_id[index], id_2_val_label_id_dict[val_id[index]])\n",
    "print(image_file)"
   ]
  },
  {
   "cell_type": "code",
   "execution_count": 8,
   "metadata": {},
   "outputs": [
    {
     "name": "stdout",
     "output_type": "stream",
     "text": [
      "id: 1\n",
      "id: 2\n",
      "2.jpg\n"
     ]
    }
   ],
   "source": [
    "test_id = test_csv['image_id']\n",
    "\n",
    "index = 0\n",
    "print('id: %s' % (test_id[index]))\n",
    "index = 1\n",
    "print('id: %s' % (test_id[index]))\n",
    "\n",
    "image_file = '%s.jpg' % (test_id[index])\n",
    "print(image_file)"
   ]
  },
  {
   "cell_type": "markdown",
   "metadata": {},
   "source": [
    "## Load proba"
   ]
  },
  {
   "cell_type": "code",
   "execution_count": 9,
   "metadata": {},
   "outputs": [
    {
     "name": "stdout",
     "output_type": "stream",
     "text": [
      "File loaded: \t/data1/kaggle/imaterialist-challenge-furniture-2018/model/proba_ic_furniture2018_TrainPredict_FineTune1_20180520_041526_8418.p\n",
      "['test/1.jpg', 'test/10.jpg', 'test/100.jpg', 'test/1000.jpg', 'test/10000.jpg', 'test/10001.jpg', 'test/10002.jpg', 'test/10003.jpg', 'test/10004.jpg', 'test/10005.jpg']\n",
      "(243027, 128)\n",
      "(243027,)\n",
      "(6301, 128)\n",
      "(6301,)\n",
      "(12652, 128)\n",
      "12652\n"
     ]
    }
   ],
   "source": [
    "def save_proba(y_train_proba, y_train, y_val_proba, y_val, y_test_proba, test_filenames, file_name):\n",
    "    test_filenames = [n.encode('utf8') for n in test_filenames]\n",
    "    print(test_filenames[:10])\n",
    "    if os.path.exists(file_name):\n",
    "        os.remove(file_name)\n",
    "        print('File removed: \\t%s' % file_name)\n",
    "    with h5py.File(file_name) as h:\n",
    "        h.create_dataset('y_train_proba', data=y_train_proba)\n",
    "        h.create_dataset('y_train', data=y_train)\n",
    "        h.create_dataset('y_val_proba', data=y_val_proba)\n",
    "        h.create_dataset('y_val', data=y_val)\n",
    "        h.create_dataset('y_test_proba', data=y_test_proba)\n",
    "        h.create_dataset('test_filenames', data=test_filenames)\n",
    "    print('File saved: \\t%s' % file_name)\n",
    "\n",
    "def load_proba(file_name):\n",
    "    with h5py.File(file_name, 'r') as h:\n",
    "        y_train_proba = np.array(h['y_train_proba'])\n",
    "        y_train = np.array(h['y_train'])\n",
    "        y_val_proba = np.array(h['y_val_proba'])\n",
    "        y_val = np.array(h['y_val'])\n",
    "        y_test_proba = np.array(h['y_test_proba'])\n",
    "        test_filenames = np.array(h['test_filenames'])\n",
    "    print('File loaded: \\t%s' % file_name)\n",
    "    test_filenames = [n.decode('utf8') for n in test_filenames]\n",
    "    print(test_filenames[:10])\n",
    "    \n",
    "    return y_train_proba, y_train, y_val_proba, y_val, y_test_proba, test_filenames\n",
    "\n",
    "\n",
    "y_proba_file = os.path.join(model_folder, 'proba_%s.p' % run_name_acc)\n",
    "# save_proba(y_train_proba, train_generator.classes, y_val_proba, val_generator.classes, y_test_proba, test_generator.filenames, y_proba_file)\n",
    "y_train_proba, y_train, y_val_proba, y_val, y_test_proba, test_filenames = load_proba(y_proba_file)\n",
    "\n",
    "print(y_train_proba.shape)\n",
    "print(y_train.shape)\n",
    "print(y_val_proba.shape)\n",
    "print(y_val.shape)\n",
    "print(y_test_proba.shape)\n",
    "print(len(test_filenames))"
   ]
  },
  {
   "cell_type": "code",
   "execution_count": 10,
   "metadata": {},
   "outputs": [
    {
     "name": "stdout",
     "output_type": "stream",
     "text": [
      "[[9.99998927e-01 1.47293787e-12 2.03859574e-09 1.07481233e-08\n",
      "  9.12684928e-19 3.41628265e-07 2.73184361e-12 6.75534227e-13\n",
      "  3.86010981e-07 5.71060690e-12 5.04763849e-18 3.35384579e-13\n",
      "  4.88535878e-09 1.04953578e-12 2.02742784e-13 5.48340468e-18\n",
      "  1.69513854e-07 2.42808440e-08 3.75463050e-10 1.16750555e-12\n",
      "  5.63566381e-12 6.52199148e-08 4.74372520e-11 5.36691490e-18\n",
      "  3.34086269e-15 2.90137879e-12 7.06361702e-18 5.42171866e-16\n",
      "  5.97036187e-14 4.63740171e-14 4.25959552e-18 1.26557608e-12\n",
      "  8.40805932e-16 1.33695409e-20 2.26541508e-10 3.17230020e-13\n",
      "  9.60187984e-13 6.54886356e-13 5.36668258e-13 3.21494879e-11\n",
      "  1.14755838e-16 1.04513695e-08 1.47670043e-10 1.35336076e-10\n",
      "  4.07566550e-11 3.57118068e-12 3.34740428e-13 3.75004125e-11\n",
      "  1.08103328e-16 3.76290943e-11 1.38759133e-14 3.77457066e-10\n",
      "  2.32061068e-22 4.48330484e-09 7.11776298e-12 6.53297877e-14\n",
      "  2.91059088e-08 1.89926335e-13 1.83814262e-08 6.64523688e-12\n",
      "  2.08031901e-20 1.74965865e-22 8.88858362e-11 1.10227608e-14\n",
      "  1.10400756e-18 3.18505396e-11 6.61352009e-17 2.64868490e-14\n",
      "  1.89185036e-18 3.77807646e-11 7.36828094e-21 1.27677161e-10\n",
      "  5.17272665e-17 1.91556703e-19 4.55909250e-14 4.03723516e-15\n",
      "  1.18770087e-14 1.53509651e-19 1.41977055e-11 3.27488243e-15\n",
      "  4.49737395e-14 6.02483312e-15 6.94554947e-16 2.41173916e-13\n",
      "  2.49700738e-12 1.03361515e-08 1.23481455e-12 6.24230390e-11\n",
      "  3.11063837e-14 2.22887593e-15 8.41527640e-13 2.99002732e-11\n",
      "  5.27688075e-14 8.36277020e-11 6.29093223e-17 3.91417281e-11\n",
      "  1.51678226e-10 1.20111855e-15 8.54271244e-13 1.08390381e-15\n",
      "  5.20306888e-12 2.38523576e-11 4.43256407e-15 2.27135219e-13\n",
      "  6.63215838e-19 8.08406050e-11 3.94406330e-09 2.91240606e-16\n",
      "  2.59802227e-12 4.82105658e-15 4.35604084e-16 7.85477210e-16\n",
      "  2.78955240e-16 2.56052215e-15 3.43441178e-11 6.74560519e-10\n",
      "  1.77976911e-15 5.14753410e-16 2.08185091e-09 3.14055559e-09\n",
      "  8.85003334e-14 4.39670089e-12 2.30745451e-10 6.76494930e-20\n",
      "  7.35544872e-13 3.18965160e-10 1.45865135e-16 1.54631841e-09]]\n",
      "[0]\n"
     ]
    }
   ],
   "source": [
    "print(y_train_proba[:1])\n",
    "print(y_train[:1])"
   ]
  },
  {
   "cell_type": "code",
   "execution_count": 11,
   "metadata": {},
   "outputs": [
    {
     "name": "stdout",
     "output_type": "stream",
     "text": [
      "[0 0 0 0 0 0 0 0 0 0 0 0 0 0 0 0 0 0 0 0 0 0 0 0 0 0 0 0 0 0]\n",
      "[0 0 0 0 0 0 0 0 0 0 0 0 0 0 0 0 0 0 0 0 0 0 0 0 0 0 0 0 0 0]\n"
     ]
    }
   ],
   "source": [
    "y_train_pred = np.argmax(y_train_proba, axis=1)\n",
    "print(y_train_pred[:30])\n",
    "print(y_train[:30])"
   ]
  },
  {
   "cell_type": "code",
   "execution_count": 12,
   "metadata": {},
   "outputs": [
    {
     "name": "stderr",
     "output_type": "stream",
     "text": [
      "Using TensorFlow backend.\n"
     ]
    },
    {
     "name": "stdout",
     "output_type": "stream",
     "text": [
      "Found 243027 images belonging to 128 classes.\n",
      "[0 0 0 0 0 0 0 0 0 0]\n",
      "['001/89809_1.jpg', '001/89810_1.jpg', '001/89811_1.jpg', '001/89812_1.jpg', '001/89813_1.jpg', '001/89814_1.jpg', '001/89815_1.jpg', '001/89816_1.jpg', '001/89817_1.jpg', '001/89818_1.jpg']\n"
     ]
    }
   ],
   "source": [
    "from keras.preprocessing.image import ImageDataGenerator\n",
    "\n",
    "# In strict, we do not need the params of ImageDataGenerator, because we only need filenames\n",
    "train_gen = ImageDataGenerator(\n",
    "    rotation_range=10,\n",
    "    width_shift_range=0.1,\n",
    "    height_shift_range=0.1,\n",
    "    shear_range=50.,\n",
    "    zoom_range=[0.85, 0.95],\n",
    "    channel_shift_range=100.,\n",
    "    fill_mode='wrap',\n",
    "    horizontal_flip=True,\n",
    "    vertical_flip=True,\n",
    "    brightness_range=[0.7, 1.]\n",
    ")\n",
    "\n",
    "data_train_path = os.path.join(input_folder, 'data_train')\n",
    "train_generator = train_gen.flow_from_directory(data_train_path, target_size, shuffle=False, batch_size=batch_size)\n",
    "print(train_generator.classes[:10])\n",
    "print(train_generator.filenames[:10])"
   ]
  },
  {
   "cell_type": "code",
   "execution_count": 13,
   "metadata": {},
   "outputs": [],
   "source": [
    "error_dict = {}\n",
    "for i, info in enumerate(zip(y_train, y_train_pred, train_generator.filenames)):\n",
    "#     print(info)\n",
    "    if info[0] != info[1]:\n",
    "        error_dict[info[2]] = ('error', info[0], info[1])"
   ]
  },
  {
   "cell_type": "code",
   "execution_count": 14,
   "metadata": {},
   "outputs": [
    {
     "name": "stdout",
     "output_type": "stream",
     "text": [
      "3814\n",
      "[('001/89876_1.jpg', ('error', 0, 16)), ('001/89926_1.jpg', ('error', 0, 16)), ('001/89935_1.jpg', ('error', 0, 5))]\n"
     ]
    }
   ],
   "source": [
    "print(len(error_dict.keys()))\n",
    "print(list(error_dict.items())[:3])"
   ]
  },
  {
   "cell_type": "code",
   "execution_count": 15,
   "metadata": {},
   "outputs": [
    {
     "name": "stdout",
     "output_type": "stream",
     "text": [
      "0 --> 16\n"
     ]
    },
    {
     "name": "stderr",
     "output_type": "stream",
     "text": [
      "/home/ubuntu/anaconda3/envs/tensorflow_p36/lib/python3.6/site-packages/skimage/io/_plugins/matplotlib_plugin.py:51: FutureWarning: Conversion of the second argument of issubdtype from `float` to `np.floating` is deprecated. In future, it will be treated as `np.float64 == np.dtype(float).type`.\n",
      "  out_of_range_float = (np.issubdtype(image.dtype, np.float) and\n",
      "/home/ubuntu/anaconda3/envs/tensorflow_p36/lib/python3.6/site-packages/matplotlib/axes/_base.py:1400: MatplotlibDeprecationWarning: The 'box-forced' keyword argument is deprecated since 2.2.\n",
      "  \" since 2.2.\", cbook.mplDeprecation)\n"
     ]
    },
    {
     "data": {
      "text/plain": [
       "<matplotlib.image.AxesImage at 0x7f1a21959940>"
      ]
     },
     "execution_count": 15,
     "metadata": {},
     "output_type": "execute_result"
    },
    {
     "data": {
      "image/png": "[encoded data removed]",
      "text/plain": [
       "<Figure size 432x288 with 1 Axes>"
      ]
     },
     "metadata": {},
     "output_type": "display_data"
    }
   ],
   "source": [
    "from skimage import io\n",
    "\n",
    "indx = 0\n",
    "key = list(error_dict.keys())[indx]\n",
    "image_file = os.path.join(data_train_path, key)\n",
    "print('%s --> %s' % (error_dict[key][1], error_dict[key][2]))\n",
    "img = io.imread(image_file)\n",
    "io.imshow(img)"
   ]
  },
  {
   "cell_type": "code",
   "execution_count": 16,
   "metadata": {},
   "outputs": [],
   "source": [
    "def del_copied_images(folder):\n",
    "    sub_folder_names = os.listdir(folder)\n",
    "    for folder_name in sub_folder_names:\n",
    "        sub_solder = os.path.join(folder, folder_name)\n",
    "        if not os.path.isdir(sub_solder):\n",
    "            continue\n",
    "        image_names = os.listdir(sub_solder)\n",
    "        print('|', end='')\n",
    "        for image_name in image_names:\n",
    "            if image_name.startswith('error'):\n",
    "#                 print(image_name)\n",
    "                copy_error_image_file = os.path.join(sub_solder, image_name)\n",
    "#                 print(copy_error_image_file)\n",
    "                os.remove(copy_error_image_file)\n",
    "                print('-', end='')\n",
    "        print('|')\n"
   ]
  },
  {
   "cell_type": "code",
   "execution_count": 17,
   "metadata": {},
   "outputs": [],
   "source": [
    "# del_copied_images(data_train_path)"
   ]
  },
  {
   "cell_type": "code",
   "execution_count": 18,
   "metadata": {},
   "outputs": [],
   "source": [
    "def copy_images(folder, error_dict):\n",
    "    sub_folder_names = os.listdir(folder)\n",
    "    for folder_name in sub_folder_names:\n",
    "        sub_solder = os.path.join(folder, folder_name)\n",
    "        if not os.path.isdir(sub_solder):\n",
    "            continue\n",
    "        image_names = os.listdir(sub_solder)\n",
    "        print('|', end='')\n",
    "        for image_name in image_names:\n",
    "            image_file = os.path.join(sub_solder, image_name)\n",
    "#             print(image_name)\n",
    "            concatinate_key = '%s/%s' % (folder_name, image_name)\n",
    "#             print(concatinate_key)\n",
    "            if concatinate_key in error_dict:\n",
    "                org_error_image_file = os.path.join(sub_solder, image_name)\n",
    "            \n",
    "                copy_error_image_file = os.path.join(sub_solder, 'error_' + image_name)\n",
    "                if not os.path.exists(copy_error_image_file):\n",
    "                    os.symlink(org_error_image_file, copy_error_image_file)\n",
    "                    print('+', end='')\n",
    "                else:\n",
    "                    print('-', end='')\n",
    "                    \n",
    "                copy_error_image_file = os.path.join(sub_solder, 'error1_' + image_name)\n",
    "                if not os.path.exists(copy_error_image_file):\n",
    "                    os.symlink(org_error_image_file, copy_error_image_file)\n",
    "                    print('+', end='')\n",
    "                else:\n",
    "                    print('-', end='')\n",
    "        print('|')"
   ]
  },
  {
   "cell_type": "code",
   "execution_count": 19,
   "metadata": {},
   "outputs": [
    {
     "name": "stdout",
     "output_type": "stream",
     "text": [
      "|++--++++++++++++++++++++++++|\n",
      "|----++++++++----++++++--++--++++++++++++--++++++--++--------++--|\n",
      "|++++--++++++++++++|\n",
      "|++++--++++++++++++++++--++--++++++--++++++|\n",
      "|++++--++++++|\n",
      "|----++++++++++++++++++|\n",
      "|++++++++++++++++++++++++++++++++++++++++++++++++++++++++++++++++++++++++++++++++++++++++++++++++++++++++++++++++++++++++++++++++++++++++++++++++++++++++++++++++++++++++++++|\n",
      "|++++++--++++++++++++++++++++++++++++++++--++++++++|\n",
      "|++++++++++++++++++++--++--++++++++++++|\n",
      "|++++++--++++++++++--++++++++--++++++--++++++++--++--------++++++--|\n",
      "|++++++|\n",
      "|--++++++--++++++++++++++++++++++++++++++++++++++++--++++++++--++++++++++--++++++++++----++|\n",
      "|++++++++++++++++++++++++++--++----++++++++++++++++++++++++++++++++++++++|\n",
      "|++++++++++++++++++++++++++++++++++++++++++++++++++++++|\n",
      "|++++++++++++++++++++--++++--++++++++++++++++++++++++++++++++--++++++--++++++++++--++++++++++++--++++--|\n",
      "|++++++++++|\n",
      "|++++++++|\n",
      "|++++++--++++|\n",
      "|++|\n",
      "|++++++++++++++++++++++|\n",
      "|++++++++++++++++++++++++++++++--++--++++++--++++++++++++++++++++++++++++--++++++++++++++++++++--++--++++++++++++++++++++++++++++++++++++++++++++++++++++++++++++++++++++++|\n",
      "|++++++++++++++++++++++++++++++++++++++++++++|\n",
      "|++++++++++++++++++++++++++++++++++++++++++++++++--++++++++++++++++++++|\n",
      "|++++++--++++++++++++++++++++++++++++++++++--++++++++++++++++++++++--++++++++--++++++--++++++|\n",
      "|++++--++++++++++--++++++++--++++++++--++++++--++++++++++++++++++++++++++++++++++++++++++++--++++++++++++++++++++++++++++++++++++++++++++++++++++++++--++++++++++++++++++++++++++++++++++++++--++--++++++|\n",
      "|++++|\n",
      "|++++++++++--++++--++++++++++++++++++--++--++++++++++++|\n",
      "|++++++++++--++++|\n",
      "|++++++++++++++++++++++++++++++++++++++++++++++++++++++++++++++|\n",
      "|++++++--++++++++----++++++++++++++++++++|\n",
      "|++++++++++|\n",
      "|++++++++--++++++++--++--++++++++++++++++++++++++++++++++++++++--++++++++++++++++++++++++++++++++++++--++++++--++++++--++++++++++++++++++--++++++++++++++++++--++++++++++----++++++++++++++--++++|\n",
      "|++++++++++++|\n",
      "|++++++++++++++++++++++++++++++++++++++++++++++++--++++++++++++++++++++++++++++++++++++++++++++++++++++++++++++----++++--++++++++--++++++++++++++--++++++++++++++++++++++++++++++++++++++++++++++++++++++++++++++++++--++++++++++++++++++++++++++++++++++++++--++++++++++++++++++++++++++++++++++--++++++--++++++++++++++++--++++++++++++++++++++++++++++++++++++++++++++++++++++++++++++++++++++++++++++++++++++++++++++++++++++++++++++++++++++++++++++--++++++++++++++++++--++++++++++--++++++++++++++++++++++++++++++++++++++++++++++++++++++++++++++++++++++++++++++++++++++++++++++++++++++++++++++++++++++++++++++++++++++++++++++++++++++++++--++++++++++++++++++++++++++++++++++|\n",
      "|++++--++++++--++++--++++++++----++++++++++++++++++++++--++++++++--++++++++++++++++++++--++++++++--++++------++++++++--++++--++++--++++++++--++++++++--++++++++++++++--++--++++++++--++------++++++------++++++++++--++++++++++++--++++++++--++++++++++--++----++++++++|\n",
      "|++++++|\n",
      "|++++++++++++++++++++++++--++++++++++++++++++++++++++++++--++|\n",
      "|++++++++++++++++++++++++++++++++++++++++++++++++++++++++++++++++++++++++++++++++++++++++++++++++++|\n",
      "|++++++++++++++++++++++++++++++++++++++++++++++++++++++++----++++|\n",
      "|++++++++|\n",
      "|--++++++++++++|\n",
      "|++++++++++++++++++++++++++++++++++++++++++++++++++++++++++++++|\n",
      "|++++--++++++++++++++++++++++++++++++++--++++++++++++++++++|\n",
      "|--++++++++--++++--++++++++++--++++++--++++++++++++++++++++++--++++|\n",
      "|++++++++--++++--++++++++++|\n",
      "|++++++++|\n",
      "|++++++++--++++++++++++++++--++++++++++++|\n",
      "|++++++++++++++++++++--|\n",
      "|++++++++++++++++++++++++--++++++++--++|\n",
      "|++++++++++++++--++++++--++++++++----++++--++++++++++++++++++++++++++++++++++--++++++++|\n",
      "|++++++++--++++++++++--++++++++|\n",
      "|++++|\n",
      "|++++++++++++++++++++++++--++++++++--++++++++++++++++++++++++++++++++++++++++++++++++--++++++++--++++++++++++++++++++++++++++++++++++++++++++++++++++++--++++++++++|\n",
      "|++++++++++|\n",
      "|++++--++++--++--++--++|\n",
      "|++++++++++++++++++++++++++++++++++++++++++++++++++++++++++++++++++++++++++++|\n",
      "|++++++++++--++|\n",
      "|++++--++++++++++++++++++++++++++++++--++++++++++--++--++++++++--++++++++++++++++++++++----++++++++++++++--++++++++--++++++++++--++++++++++----++|\n",
      "|++++++++++++++++++--++++++++++--++++--++++--++++++++++++--++++++++++++--++++++++++++++++++++++++--++++++++----++++++++++++++--++++++++++++++++++++++++++++++++++++++++++++++++++++++++++++++++++++--++++++++++++++++++++++++--++--++++--++++++++++++++++++++++++++++++++++++++++--++++++++----++++++++++++++++++++++++++++++++++++++++++++++++++--++++++++++++++++++++++++++++--++++--++++++++++++++++++++++++++++++----++++|\n",
      "|++++--++++----++++++++++++|\n",
      "|--++++++++++++++++++++++--++++++++++++++++--++++++++++++++++++++++++++++++++--++++++|\n",
      "|--++++++++++++++++|\n",
      "|++++++++++++++++++++--++++++++++++++++++++++++++++--++++--++++++++++++++++++++++++++++++++--++++++++++++++++++++++--++++++++++++++++--++++++++++++++++++++++++++++++++++|\n",
      "|++++++++++++++++++++++--++++++++|\n",
      "|++++--++++++++++++++++++++++++++++++++++++++++++++++++++++++--++++++++++++|\n",
      "|++|\n",
      "|++++++++++++++++++++++++++++++++|\n",
      "|++++++----++|\n",
      "|++++++++++++++++++----++++++++++++++++++++--++----++++++++++----++++++++++++++++++++++--++++++++++++++++++++|\n",
      "|++++++++++++|\n",
      "|++++++--++----++++++++++++++|\n",
      "|++++++++++++++++++++++++++++++++++++++++++++++++++++|\n",
      "|++++++++++++++++++++++++++|\n",
      "|++++++++++++++++++++++++++++++--++++++++++++++++++++++|\n",
      "|++++++++++++++++++++++++++++++++|\n",
      "|++--++++++++++--++--++++|\n",
      "|++--++--++++++++++++++++++++++++++++++++++++----++++++++++++++++++|\n",
      "|++++++++++++++++++++|\n",
      "|++++++++++++++++++++++++++--++--++--++++++++++++++++++++++++++++++++++++++++--++++++++--++++++++++++++++++++--++++++++++--++|\n",
      "|--++++++++++++--|\n",
      "|++--|\n",
      "|++|\n",
      "|++++++++++++--++++++++++++++--++++++++++++++--++|\n",
      "|++++++++++--++++++++++++++++++|\n",
      "|--++++++++----++++++++++++++++--++++--++++++++++++++++++++++++++++++++++--++|\n",
      "|++++----++++|\n",
      "|++++++++++++++++++++++++++|\n",
      "|++++++++++++++++++++++++++--++++|\n",
      "|++++++++--++----++++++++++++++--|\n",
      "|++++++++++--++++----++++++++++++++++++++++++++++--|\n",
      "|++++++++++++--++|\n",
      "|++++++++++++++++++++++++++++++++++++++--++++++++++++--++++++--++++++++++++--++++++++++++----++--++++++++++++++++++++++++++++--++++++++--++++----++++++++++++++++++--++++++--++++++++++++----++++++++++++|\n",
      "|++++++++++++++++|\n",
      "|++++++++++--++++++|\n",
      "|++|\n",
      "|++++++++++++|\n",
      "|++++++--++++|\n",
      "|++++--++++++++++++++--++++++++++++++----++++++--++|\n",
      "|++++++++++++|\n",
      "|++++|\n",
      "|++--++++++++--++--++++++++++++--++++++++++++++++++++++++++++++++++++++++|\n",
      "|++++++--++++++++--++++++++++++|\n",
      "|++++++++|\n",
      "|++++++|\n",
      "|++++++++++++++----++++++--++++++++++++++++++++--++++++++++++++++++++++++--++++++++++--++++++++++++++++++++++++++++++++++++++----++++++++++++++++--++++--++++++++--++++++++|\n",
      "|++++++--++++++++++++++++++++++++++++--++++--++++++++++++++++++++++++++++++|\n",
      "|++++++++++++--++++++++++++++++++++++++++++++++++++++++++++++++++++++++++++++++++++++++++++++++++++++++++++++--++++++++--++++++++++++--++++++++++++++++++++++++++++++++++++++--++++++++++++++++++++++++++++++++++++++++|\n",
      "|++++++++++++++++++++++++----|\n",
      "|--++++++++++++--++++++++++--++++++--++++++--++--++++++|\n",
      "|--++--++--++++++++--++++++++--++++++++++++++++++++++++++|\n",
      "|++++++++++++++++++++|\n",
      "|++++++++++++--++++++--++++++----++++++++--++++++++++++++++++++++----++++++++++++--++++++++++++++++++++++++++++--++++++--++++++++++++++++++++++++++++++++++++--++++++++++++++++|\n",
      "|++++++++++--++++++--|\n",
      "|++++++++++|\n",
      "|++++++++++|\n",
      "|++++++++----++++++++++++++++++++--|\n",
      "|++++++++++++++|\n",
      "|++++++++++++++++++++++++|\n",
      "|++++|\n",
      "|++++++++++++++--++++++++--++--++++++++++++++++++++++--++++++++++++++|\n",
      "|++++++++++++++++++|\n",
      "|++++++|\n",
      "|++++--++--++++++++++|\n",
      "|++++++++++++|\n",
      "|++++++++|\n",
      "|++++++++++++|\n",
      "|++++++++++++++++--++|\n",
      "|----++----++++++++++++++--++++++++++++++++++++++++++++++++++++++++++++++++++++++--++++++++++--++++++--++++++++++++++--++++--++++--++--++++++++++++++++++++++++++++++--++------++++--++--++++++--++++--++++++++++++++++++++++++++++++++++--++++++++++++++++++--++++++++--++++++++++++++++++----++++++--++++++--++--++++++++--++++++++++++++++----------++++++--++++++++++++--++++++++++++++++++++++++--++++++++++++------++++++++++++++--++++++++++++++++++++--++++--++++++++++++--|\n"
     ]
    }
   ],
   "source": [
    "copy_images(data_train_path, error_dict)"
   ]
  },
  {
   "cell_type": "code",
   "execution_count": null,
   "metadata": {},
   "outputs": [],
   "source": []
  },
  {
   "cell_type": "code",
   "execution_count": 20,
   "metadata": {},
   "outputs": [
    {
     "name": "stdout",
     "output_type": "stream",
     "text": [
      "ic_furniture2018_CopyErrorImages_20180520_184333\n",
      "time cost: 20.29 s\n",
      "Done!\n"
     ]
    }
   ],
   "source": [
    "print(run_name)\n",
    "\n",
    "t1 = time.time()\n",
    "print('time cost: %.2f s' % (t1-t0))\n",
    "print('Done!')"
   ]
  },
  {
   "cell_type": "code",
   "execution_count": null,
   "metadata": {},
   "outputs": [],
   "source": []
  }
 ],
 "metadata": {
  "kernelspec": {
   "display_name": "Python 3",
   "language": "python",
   "name": "python3"
  },
  "language_info": {
   "codemirror_mode": {
    "name": "ipython",
    "version": 3
   },
   "file_extension": ".py",
   "mimetype": "text/x-python",
   "name": "python",
   "nbconvert_exporter": "python",
   "pygments_lexer": "ipython3",
   "version": "3.6.4"
  }
 },
 "nbformat": 4,
 "nbformat_minor": 2
}
