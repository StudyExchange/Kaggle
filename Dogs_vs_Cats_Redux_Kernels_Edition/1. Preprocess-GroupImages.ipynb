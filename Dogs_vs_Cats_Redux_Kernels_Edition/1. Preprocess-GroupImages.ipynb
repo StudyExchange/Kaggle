{
 "cells": [
  {
   "cell_type": "markdown",
   "metadata": {},
   "source": [
    "## 1. Preprocess"
   ]
  },
  {
   "cell_type": "markdown",
   "metadata": {},
   "source": [
    "### Import pkgs"
   ]
  },
  {
   "cell_type": "code",
   "execution_count": 1,
   "metadata": {
    "collapsed": true
   },
   "outputs": [],
   "source": [
    "import numpy as np\n",
    "import pandas as pd\n",
    "import matplotlib.pyplot as plt\n",
    "import matplotlib.image as mpimg\n",
    "import seaborn as sns\n",
    "%matplotlib inline\n",
    "from IPython.display import display\n",
    "from sklearn.model_selection import train_test_split\n",
    "from sklearn.metrics import confusion_matrix\n",
    "\n",
    "import os\n",
    "import zipfile\n",
    "import pickle\n",
    "from PIL import Image\n",
    "from shutil import copy2"
   ]
  },
  {
   "cell_type": "markdown",
   "metadata": {},
   "source": [
    "### Unzip files"
   ]
  },
  {
   "cell_type": "code",
   "execution_count": 2,
   "metadata": {
    "collapsed": true
   },
   "outputs": [],
   "source": [
    "def Unzip(data_path, zip_name):\n",
    "    extract_name = zip_name[0:-4]\n",
    "    extract_path = os.path.join(data_path, extract_name)\n",
    "    zip_path = os.path.join(data_path, zip_name)\n",
    "    if not (os.path.isdir(extract_path) or os.path.isfile(extract_path)):\n",
    "        with zipfile.ZipFile(zip_path) as file:\n",
    "            for name in file.namelist():\n",
    "                file.extract(name, data_path)"
   ]
  },
  {
   "cell_type": "code",
   "execution_count": 3,
   "metadata": {
    "collapsed": true
   },
   "outputs": [],
   "source": [
    "cwd = os.getcwd()\n",
    "data_path = os.path.join(cwd, 'input')\n",
    "# Unzip(data_path, os.path.join(data_path, 'labels.csv.zip'))\n",
    "# Unzip(data_path, os.path.join(data_path, 'sample_submission.csv.zip'))\n",
    "Unzip(data_path, os.path.join(data_path, 'test.zip'))\n",
    "Unzip(data_path, os.path.join(data_path, 'train.zip'))"
   ]
  },
  {
   "cell_type": "markdown",
   "metadata": {},
   "source": [
    "### Group train data by class\n",
    "**Note: We create folder structure for train_datagen.flow_from_directory(...).**"
   ]
  },
  {
   "cell_type": "code",
   "execution_count": 4,
   "metadata": {},
   "outputs": [],
   "source": [
    "# labels_path = os.path.join(data_path, 'labels.csv')\n",
    "# labels = pd.read_csv(labels_path)\n",
    "# print('labels.shape is {0}.'.format(labels.shape))\n",
    "# display(labels.head(2))"
   ]
  },
  {
   "cell_type": "code",
   "execution_count": 5,
   "metadata": {},
   "outputs": [],
   "source": [
    "# label_classes = labels.iloc[:,1].unique()\n",
    "# label_classes = sorted(label_classes)\n",
    "# display('The breeds of dogs is {0}'.format(len(label_classes)))\n",
    "# display(label_classes)  ## You can display all to confirm this breeds are correct."
   ]
  },
  {
   "cell_type": "code",
   "execution_count": 6,
   "metadata": {},
   "outputs": [
    {
     "name": "stdout",
     "output_type": "stream",
     "text": [
      "D:\\Dogs_vs_Cats_Redux_Kernels_Edition\\input\\data_train created!\n",
      "data_train subfolders: ['cat', 'dog']\n"
     ]
    }
   ],
   "source": [
    "## Create data_train folder\n",
    "data_train_path = os.path.join(data_path, 'data_train')\n",
    "if os.path.isdir(data_train_path):\n",
    "    print('{0} is exist!'.format(data_train_path))\n",
    "else:\n",
    "    os.mkdir(data_train_path)\n",
    "    print('{0} created!'.format(data_train_path))\n",
    "    \n",
    "    ## Create subfolders of data_train folder\n",
    "    for i in ['cat', 'dog']:\n",
    "        class_dir = os.path.join(data_train_path, i)\n",
    "        if not os.path.isdir(class_dir):\n",
    "            os.mkdir(class_dir)\n",
    "print('data_train subfolders:', os.listdir(data_train_path))"
   ]
  },
  {
   "cell_type": "code",
   "execution_count": 7,
   "metadata": {},
   "outputs": [
    {
     "name": "stdout",
     "output_type": "stream",
     "text": [
      "D:\\Dogs_vs_Cats_Redux_Kernels_Edition\\input\\data_test created!\n",
      "D:\\Dogs_vs_Cats_Redux_Kernels_Edition\\input\\data_test\\test created!\n"
     ]
    }
   ],
   "source": [
    "## Create folder for data_test folder\n",
    "data_test_path = os.path.join(data_path, 'data_test')\n",
    "if os.path.isdir(data_test_path):\n",
    "    print('{0} is exist!'.format(data_test_path))\n",
    "else:\n",
    "    os.mkdir(data_test_path)\n",
    "    print('{0} created!'.format(data_test_path))\n",
    "    \n",
    "    ## Create subfolder for data_test folder\n",
    "    data_test_sub_path = os.path.join(data_test_path, 'test')\n",
    "    if not os.path.isdir(data_test_sub_path):\n",
    "        os.mkdir(data_test_sub_path)\n",
    "        print('{0} created!'.format(data_test_sub_path))\n",
    "    else:\n",
    "        print('{0} is exist!'.format(data_test_sub_path))"
   ]
  },
  {
   "cell_type": "code",
   "execution_count": 8,
   "metadata": {},
   "outputs": [
    {
     "name": "stdout",
     "output_type": "stream",
     "text": [
      "start to move images into data_train.\n"
     ]
    }
   ],
   "source": [
    "# If images have moved to target_dir, do not move them again. Only check is first subfolder empty\n",
    "target_dir = os.path.join(data_path, 'data_train', 'cat')\n",
    "\n",
    "if os.listdir(target_dir):\n",
    "    print(target_dir + ' is not empty, do not need move images again.')\n",
    "else:\n",
    "    print('start to move images into data_train.')\n",
    "    # Move images of train data into its correct subfolder\n",
    "    train_path = os.path.join(data_path, 'train')\n",
    "    files = os.listdir(train_path)\n",
    "    for file in files:\n",
    "        iamge_path = os.path.join(data_path, 'train', file)\n",
    "        if file.startswith('cat'):\n",
    "            target_dir = os.path.join(data_path, 'data_train', 'cat')\n",
    "        elif file.startswith('dog'):\n",
    "            target_dir = os.path.join(data_path, 'data_train', 'dog')\n",
    "        else:\n",
    "            target_dir = os.path.join(data_path, 'data_train')\n",
    "            \n",
    "#         In order to comfirm we get the correct file path\n",
    "#         print(row[0])\n",
    "#         print(row[1])\n",
    "#         print(iamge_path)\n",
    "#         print(target_dir)\n",
    "        copy2(iamge_path, target_dir)"
   ]
  },
  {
   "cell_type": "code",
   "execution_count": 9,
   "metadata": {},
   "outputs": [
    {
     "name": "stdout",
     "output_type": "stream",
     "text": [
      "start to move images into data_test.\n"
     ]
    }
   ],
   "source": [
    "# If images have moved to target_dir, do not move them again. Only check is first subfolder empty\n",
    "target_dir = os.path.join(data_path, 'data_test', 'test')\n",
    "\n",
    "if os.listdir(target_dir):\n",
    "    print(target_dir + ' is not empty, do not need move images again.')\n",
    "else:\n",
    "    print('start to move images into data_test.')\n",
    "\n",
    "    # Move images of test data into test subfolder\n",
    "    test_image_pathes = os.listdir(os.path.join(data_path, 'test'))\n",
    "#     print(test_image_pathes)\n",
    "    for path in test_image_pathes:\n",
    "        iamge_path = os.path.join(data_path, 'test', path)\n",
    "        copy2(iamge_path, data_test_sub_path)"
   ]
  },
  {
   "cell_type": "code",
   "execution_count": 10,
   "metadata": {},
   "outputs": [
    {
     "name": "stdout",
     "output_type": "stream",
     "text": [
      "Done!\n"
     ]
    }
   ],
   "source": [
    "print('Done!')"
   ]
  },
  {
   "cell_type": "code",
   "execution_count": null,
   "metadata": {
    "collapsed": true
   },
   "outputs": [],
   "source": []
  }
 ],
 "metadata": {
  "kernelspec": {
   "display_name": "Python 3",
   "language": "python",
   "name": "python3"
  },
  "language_info": {
   "codemirror_mode": {
    "name": "ipython",
    "version": 3
   },
   "file_extension": ".py",
   "mimetype": "text/x-python",
   "name": "python",
   "nbconvert_exporter": "python",
   "pygments_lexer": "ipython3",
   "version": "3.5.4"
  }
 },
 "nbformat": 4,
 "nbformat_minor": 2
}
