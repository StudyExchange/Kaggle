{
 "cells": [
  {
   "cell_type": "markdown",
   "metadata": {},
   "source": [
    "# XGBoost"
   ]
  },
  {
   "cell_type": "code",
   "execution_count": 1,
   "metadata": {},
   "outputs": [
    {
     "name": "stderr",
     "output_type": "stream",
     "text": [
      "C:\\Users\\lenovo\\Anaconda2\\envs\\tensorflow_gpu\\lib\\site-packages\\sklearn\\cross_validation.py:41: DeprecationWarning: This module was deprecated in version 0.18 in favor of the model_selection module into which all the refactored classes and functions are moved. Also note that the interface of the new CV iterators are different from that of this module. This module will be removed in 0.20.\n",
      "  \"This module will be removed in 0.20.\", DeprecationWarning)\n"
     ]
    }
   ],
   "source": [
    "import numpy as np\n",
    "import pandas as pd\n",
    "from sklearn.model_selection import train_test_split\n",
    "import xgboost as xgb\n",
    "\n",
    "from IPython.display import display"
   ]
  },
  {
   "cell_type": "code",
   "execution_count": 2,
   "metadata": {},
   "outputs": [],
   "source": [
    "import os, time, re, zipfile\n",
    "import pickle\n",
    "import gc\n",
    "from PIL import Image\n",
    "from shutil import copy2"
   ]
  },
  {
   "cell_type": "markdown",
   "metadata": {},
   "source": [
    "### Run name"
   ]
  },
  {
   "cell_type": "code",
   "execution_count": 3,
   "metadata": {},
   "outputs": [
    {
     "name": "stdout",
     "output_type": "stream",
     "text": [
      "run_name: Text_Normalization_Challenge_En_XGBoost_20171104_155452\n"
     ]
    }
   ],
   "source": [
    "project_name = 'Text_Normalization_Challenge_En'\n",
    "step_name = 'XGBoost'\n",
    "date_str = time.strftime(\"%Y%m%d\", time.localtime())\n",
    "time_str = time.strftime(\"%Y%m%d_%H%M%S\", time.localtime())\n",
    "run_name = project_name + '_' + step_name + '_' + time_str\n",
    "print('run_name: ' + run_name)"
   ]
  },
  {
   "cell_type": "markdown",
   "metadata": {},
   "source": [
    "### Basic folders"
   ]
  },
  {
   "cell_type": "code",
   "execution_count": 4,
   "metadata": {},
   "outputs": [
    {
     "name": "stdout",
     "output_type": "stream",
     "text": [
      "input_path: D:\\Kaggle\\Text_Normalization_Challenge_English_Language\\input\n",
      "log_path: D:\\Kaggle\\Text_Normalization_Challenge_English_Language\\log\n",
      "model_path: D:\\Kaggle\\Text_Normalization_Challenge_English_Language\\model\n",
      "output_path: D:\\Kaggle\\Text_Normalization_Challenge_English_Language\\output\n"
     ]
    }
   ],
   "source": [
    "cwd = os.getcwd()\n",
    "input_path = os.path.join(cwd, 'input')\n",
    "log_path = os.path.join(cwd, 'log')\n",
    "model_path = os.path.join(cwd, 'model')\n",
    "output_path = os.path.join(cwd, 'output')\n",
    "print('input_path: ' + input_path)\n",
    "print('log_path: ' + log_path)\n",
    "print('model_path: ' + model_path)\n",
    "print('output_path: ' + output_path)"
   ]
  },
  {
   "cell_type": "markdown",
   "metadata": {},
   "source": [
    "### Unzip"
   ]
  },
  {
   "cell_type": "code",
   "execution_count": 5,
   "metadata": {
    "collapsed": true
   },
   "outputs": [],
   "source": [
    "def Unzip(data_path, zip_name):\n",
    "    extract_name = zip_name[0:-4]\n",
    "    extract_path = os.path.join(data_path, extract_name)\n",
    "    zip_path = os.path.join(data_path, zip_name)\n",
    "    if not (os.path.isdir(extract_path) or os.path.isfile(extract_path)):\n",
    "        with zipfile.ZipFile(zip_path) as file:\n",
    "            for name in file.namelist():\n",
    "                file.extract(name, data_path)"
   ]
  },
  {
   "cell_type": "code",
   "execution_count": 6,
   "metadata": {},
   "outputs": [],
   "source": [
    "Unzip(input_path, os.path.join(input_path, 'en_sample_submission.csv.zip'))\n",
    "Unzip(input_path, os.path.join(input_path, 'en_test.csv.zip'))\n",
    "Unzip(input_path, os.path.join(input_path, 'en_train.csv.zip'))"
   ]
  },
  {
   "cell_type": "markdown",
   "metadata": {},
   "source": [
    "### Load data"
   ]
  },
  {
   "cell_type": "code",
   "execution_count": 14,
   "metadata": {},
   "outputs": [
    {
     "name": "stdout",
     "output_type": "stream",
     "text": [
      "Wall time: 13 s\n"
     ]
    }
   ],
   "source": [
    "%%time\n",
    "\n",
    "df_sample_submission = pd.read_csv(os.path.join(input_path, 'en_sample_submission.csv'))\n",
    "df_test = pd.read_csv(os.path.join(input_path, 'en_test.csv'))\n",
    "df_train = pd.read_csv(os.path.join(input_path, 'en_train.csv'))"
   ]
  },
  {
   "cell_type": "code",
   "execution_count": 15,
   "metadata": {},
   "outputs": [
    {
     "name": "stdout",
     "output_type": "stream",
     "text": [
      "df_sample_submission amount: 1088564\n"
     ]
    },
    {
     "data": {
      "text/html": [
       "<div>\n",
       "<style>\n",
       "    .dataframe thead tr:only-child th {\n",
       "        text-align: right;\n",
       "    }\n",
       "\n",
       "    .dataframe thead th {\n",
       "        text-align: left;\n",
       "    }\n",
       "\n",
       "    .dataframe tbody tr th {\n",
       "        vertical-align: top;\n",
       "    }\n",
       "</style>\n",
       "<table border=\"1\" class=\"dataframe\">\n",
       "  <thead>\n",
       "    <tr style=\"text-align: right;\">\n",
       "      <th></th>\n",
       "      <th>id</th>\n",
       "      <th>after</th>\n",
       "    </tr>\n",
       "  </thead>\n",
       "  <tbody>\n",
       "    <tr>\n",
       "      <th>0</th>\n",
       "      <td>0_0</td>\n",
       "      <td>Another</td>\n",
       "    </tr>\n",
       "    <tr>\n",
       "      <th>1</th>\n",
       "      <td>0_1</td>\n",
       "      <td>religious</td>\n",
       "    </tr>\n",
       "  </tbody>\n",
       "</table>\n",
       "</div>"
      ],
      "text/plain": [
       "    id      after\n",
       "0  0_0    Another\n",
       "1  0_1  religious"
      ]
     },
     "metadata": {},
     "output_type": "display_data"
    },
    {
     "name": "stdout",
     "output_type": "stream",
     "text": [
      "df_test amount: 1088564\n"
     ]
    },
    {
     "data": {
      "text/html": [
       "<div>\n",
       "<style>\n",
       "    .dataframe thead tr:only-child th {\n",
       "        text-align: right;\n",
       "    }\n",
       "\n",
       "    .dataframe thead th {\n",
       "        text-align: left;\n",
       "    }\n",
       "\n",
       "    .dataframe tbody tr th {\n",
       "        vertical-align: top;\n",
       "    }\n",
       "</style>\n",
       "<table border=\"1\" class=\"dataframe\">\n",
       "  <thead>\n",
       "    <tr style=\"text-align: right;\">\n",
       "      <th></th>\n",
       "      <th>sentence_id</th>\n",
       "      <th>token_id</th>\n",
       "      <th>before</th>\n",
       "    </tr>\n",
       "  </thead>\n",
       "  <tbody>\n",
       "    <tr>\n",
       "      <th>0</th>\n",
       "      <td>0</td>\n",
       "      <td>0</td>\n",
       "      <td>Another</td>\n",
       "    </tr>\n",
       "    <tr>\n",
       "      <th>1</th>\n",
       "      <td>0</td>\n",
       "      <td>1</td>\n",
       "      <td>religious</td>\n",
       "    </tr>\n",
       "  </tbody>\n",
       "</table>\n",
       "</div>"
      ],
      "text/plain": [
       "   sentence_id  token_id     before\n",
       "0            0         0    Another\n",
       "1            0         1  religious"
      ]
     },
     "metadata": {},
     "output_type": "display_data"
    },
    {
     "name": "stdout",
     "output_type": "stream",
     "text": [
      "df_train amount: 9918441\n"
     ]
    },
    {
     "data": {
      "text/html": [
       "<div>\n",
       "<style>\n",
       "    .dataframe thead tr:only-child th {\n",
       "        text-align: right;\n",
       "    }\n",
       "\n",
       "    .dataframe thead th {\n",
       "        text-align: left;\n",
       "    }\n",
       "\n",
       "    .dataframe tbody tr th {\n",
       "        vertical-align: top;\n",
       "    }\n",
       "</style>\n",
       "<table border=\"1\" class=\"dataframe\">\n",
       "  <thead>\n",
       "    <tr style=\"text-align: right;\">\n",
       "      <th></th>\n",
       "      <th>sentence_id</th>\n",
       "      <th>token_id</th>\n",
       "      <th>class</th>\n",
       "      <th>before</th>\n",
       "      <th>after</th>\n",
       "    </tr>\n",
       "  </thead>\n",
       "  <tbody>\n",
       "    <tr>\n",
       "      <th>0</th>\n",
       "      <td>0</td>\n",
       "      <td>0</td>\n",
       "      <td>PLAIN</td>\n",
       "      <td>Brillantaisia</td>\n",
       "      <td>Brillantaisia</td>\n",
       "    </tr>\n",
       "    <tr>\n",
       "      <th>1</th>\n",
       "      <td>0</td>\n",
       "      <td>1</td>\n",
       "      <td>PLAIN</td>\n",
       "      <td>is</td>\n",
       "      <td>is</td>\n",
       "    </tr>\n",
       "    <tr>\n",
       "      <th>2</th>\n",
       "      <td>0</td>\n",
       "      <td>2</td>\n",
       "      <td>PLAIN</td>\n",
       "      <td>a</td>\n",
       "      <td>a</td>\n",
       "    </tr>\n",
       "    <tr>\n",
       "      <th>3</th>\n",
       "      <td>0</td>\n",
       "      <td>3</td>\n",
       "      <td>PLAIN</td>\n",
       "      <td>genus</td>\n",
       "      <td>genus</td>\n",
       "    </tr>\n",
       "    <tr>\n",
       "      <th>4</th>\n",
       "      <td>0</td>\n",
       "      <td>4</td>\n",
       "      <td>PLAIN</td>\n",
       "      <td>of</td>\n",
       "      <td>of</td>\n",
       "    </tr>\n",
       "    <tr>\n",
       "      <th>5</th>\n",
       "      <td>0</td>\n",
       "      <td>5</td>\n",
       "      <td>PLAIN</td>\n",
       "      <td>plant</td>\n",
       "      <td>plant</td>\n",
       "    </tr>\n",
       "    <tr>\n",
       "      <th>6</th>\n",
       "      <td>0</td>\n",
       "      <td>6</td>\n",
       "      <td>PLAIN</td>\n",
       "      <td>in</td>\n",
       "      <td>in</td>\n",
       "    </tr>\n",
       "    <tr>\n",
       "      <th>7</th>\n",
       "      <td>0</td>\n",
       "      <td>7</td>\n",
       "      <td>PLAIN</td>\n",
       "      <td>family</td>\n",
       "      <td>family</td>\n",
       "    </tr>\n",
       "    <tr>\n",
       "      <th>8</th>\n",
       "      <td>0</td>\n",
       "      <td>8</td>\n",
       "      <td>PLAIN</td>\n",
       "      <td>Acanthaceae</td>\n",
       "      <td>Acanthaceae</td>\n",
       "    </tr>\n",
       "    <tr>\n",
       "      <th>9</th>\n",
       "      <td>0</td>\n",
       "      <td>9</td>\n",
       "      <td>PUNCT</td>\n",
       "      <td>.</td>\n",
       "      <td>.</td>\n",
       "    </tr>\n",
       "    <tr>\n",
       "      <th>10</th>\n",
       "      <td>1</td>\n",
       "      <td>0</td>\n",
       "      <td>DATE</td>\n",
       "      <td>2006</td>\n",
       "      <td>two thousand six</td>\n",
       "    </tr>\n",
       "    <tr>\n",
       "      <th>11</th>\n",
       "      <td>1</td>\n",
       "      <td>1</td>\n",
       "      <td>LETTERS</td>\n",
       "      <td>IUCN</td>\n",
       "      <td>i u c n</td>\n",
       "    </tr>\n",
       "    <tr>\n",
       "      <th>12</th>\n",
       "      <td>1</td>\n",
       "      <td>2</td>\n",
       "      <td>PLAIN</td>\n",
       "      <td>Red</td>\n",
       "      <td>Red</td>\n",
       "    </tr>\n",
       "    <tr>\n",
       "      <th>13</th>\n",
       "      <td>1</td>\n",
       "      <td>3</td>\n",
       "      <td>PLAIN</td>\n",
       "      <td>List</td>\n",
       "      <td>List</td>\n",
       "    </tr>\n",
       "    <tr>\n",
       "      <th>14</th>\n",
       "      <td>1</td>\n",
       "      <td>4</td>\n",
       "      <td>PLAIN</td>\n",
       "      <td>of</td>\n",
       "      <td>of</td>\n",
       "    </tr>\n",
       "    <tr>\n",
       "      <th>15</th>\n",
       "      <td>1</td>\n",
       "      <td>5</td>\n",
       "      <td>PLAIN</td>\n",
       "      <td>Threatened</td>\n",
       "      <td>Threatened</td>\n",
       "    </tr>\n",
       "    <tr>\n",
       "      <th>16</th>\n",
       "      <td>1</td>\n",
       "      <td>6</td>\n",
       "      <td>PLAIN</td>\n",
       "      <td>Species</td>\n",
       "      <td>Species</td>\n",
       "    </tr>\n",
       "    <tr>\n",
       "      <th>17</th>\n",
       "      <td>1</td>\n",
       "      <td>7</td>\n",
       "      <td>PUNCT</td>\n",
       "      <td>.</td>\n",
       "      <td>.</td>\n",
       "    </tr>\n",
       "    <tr>\n",
       "      <th>18</th>\n",
       "      <td>2</td>\n",
       "      <td>0</td>\n",
       "      <td>PLAIN</td>\n",
       "      <td>Circa</td>\n",
       "      <td>Circa</td>\n",
       "    </tr>\n",
       "    <tr>\n",
       "      <th>19</th>\n",
       "      <td>2</td>\n",
       "      <td>1</td>\n",
       "      <td>PLAIN</td>\n",
       "      <td>Survive</td>\n",
       "      <td>Survive</td>\n",
       "    </tr>\n",
       "  </tbody>\n",
       "</table>\n",
       "</div>"
      ],
      "text/plain": [
       "    sentence_id  token_id    class         before             after\n",
       "0             0         0    PLAIN  Brillantaisia     Brillantaisia\n",
       "1             0         1    PLAIN             is                is\n",
       "2             0         2    PLAIN              a                 a\n",
       "3             0         3    PLAIN          genus             genus\n",
       "4             0         4    PLAIN             of                of\n",
       "5             0         5    PLAIN          plant             plant\n",
       "6             0         6    PLAIN             in                in\n",
       "7             0         7    PLAIN         family            family\n",
       "8             0         8    PLAIN    Acanthaceae       Acanthaceae\n",
       "9             0         9    PUNCT              .                 .\n",
       "10            1         0     DATE           2006  two thousand six\n",
       "11            1         1  LETTERS           IUCN           i u c n\n",
       "12            1         2    PLAIN            Red               Red\n",
       "13            1         3    PLAIN           List              List\n",
       "14            1         4    PLAIN             of                of\n",
       "15            1         5    PLAIN     Threatened        Threatened\n",
       "16            1         6    PLAIN        Species           Species\n",
       "17            1         7    PUNCT              .                 .\n",
       "18            2         0    PLAIN          Circa             Circa\n",
       "19            2         1    PLAIN        Survive           Survive"
      ]
     },
     "metadata": {},
     "output_type": "display_data"
    },
    {
     "name": "stdout",
     "output_type": "stream",
     "text": [
      "Wall time: 99 ms\n"
     ]
    }
   ],
   "source": [
    "%%time\n",
    "\n",
    "print('df_sample_submission amount: %d' %len(df_sample_submission))\n",
    "display(df_sample_submission.head(2))\n",
    "\n",
    "print('df_test amount: %d' %len(df_test))\n",
    "display(df_test.head(2))\n",
    "\n",
    "print('df_train amount: %d' %len(df_train))\n",
    "display(df_train.head(20))"
   ]
  },
  {
   "cell_type": "markdown",
   "metadata": {},
   "source": [
    "### Convert word to letters"
   ]
  },
  {
   "cell_type": "code",
   "execution_count": 56,
   "metadata": {},
   "outputs": [
    {
     "name": "stdout",
     "output_type": "stream",
     "text": [
      "(array([0, 0, 0, ..., 9, 0, 1], dtype=int64), Index(['PLAIN', 'PUNCT', 'DATE', 'LETTERS', 'CARDINAL', 'VERBATIM', 'DECIMAL',\n",
      "       'MEASURE', 'MONEY', 'ORDINAL', 'TIME', 'ELECTRONIC', 'DIGIT',\n",
      "       'FRACTION', 'TELEPHONE', 'ADDRESS'],\n",
      "      dtype='object'))\n",
      "<class 'tuple'>\n",
      "(array([0, 0, 0, ..., 9, 0, 1], dtype=int64), Index(['PLAIN', 'PUNCT', 'DATE', 'LETTERS', 'CARDINAL', 'VERBATIM', 'DECIMAL',\n",
      "       'MEASURE', 'MONEY', 'ORDINAL', 'TIME', 'ELECTRONIC', 'DIGIT',\n",
      "       'FRACTION', 'TELEPHONE', 'ADDRESS'],\n",
      "      dtype='object'))\n",
      "Index(['PLAIN', 'PUNCT', 'DATE', 'LETTERS', 'CARDINAL', 'VERBATIM', 'DECIMAL',\n",
      "       'MEASURE', 'MONEY', 'ORDINAL', 'TIME', 'ELECTRONIC', 'DIGIT',\n",
      "       'FRACTION', 'TELEPHONE', 'ADDRESS'],\n",
      "      dtype='object')\n",
      "[0 0 0 ..., 9 0 1]\n"
     ]
    }
   ],
   "source": [
    "df = df_train\n",
    "\n",
    "x_data = []\n",
    "y_data0 =  pd.factorize(df['class'])\n",
    "labels = y_data0[1]\n",
    "y_data = y_data0[0]\n",
    "print(y_data0)\n",
    "print(type(y_data0))\n",
    "print(y_data0)\n",
    "print(labels)\n",
    "print(y_data)\n",
    "# display(df_train['class'].head())\n",
    "# display(type(pd.factorize(df_train['class'])))\n",
    "# display(pd.factorize(df_train['class']))"
   ]
  },
  {
   "cell_type": "code",
   "execution_count": 62,
   "metadata": {},
   "outputs": [
    {
     "data": {
      "text/plain": [
       "0    Brillantaisia\n",
       "1               is\n",
       "2                a\n",
       "3            genus\n",
       "4               of\n",
       "Name: before, dtype: object"
      ]
     },
     "metadata": {},
     "output_type": "display_data"
    },
    {
     "data": {
      "text/plain": [
       "[array([ 66, 114, 105, 108, 108,  97, 110, 116,  97, 105]),\n",
       " array([105, 115,   0,   0,   0,   0,   0,   0,   0,   0]),\n",
       " array([97,  0,  0,  0,  0,  0,  0,  0,  0,  0]),\n",
       " array([103, 101, 110, 117, 115,   0,   0,   0,   0,   0]),\n",
       " array([111, 102,   0,   0,   0,   0,   0,   0,   0,   0])]"
      ]
     },
     "metadata": {},
     "output_type": "display_data"
    },
    {
     "name": "stdout",
     "output_type": "stream",
     "text": [
      "Wall time: 535 ms\n"
     ]
    }
   ],
   "source": [
    "%%time\n",
    "\n",
    "max_num_features = 10\n",
    "pad_size = 1\n",
    "boundary_letter = -1\n",
    "space_letter = 0\n",
    "# max_data_size = 960000\n",
    "max_data_size = 12\n",
    "\n",
    "out_path = output_path\n",
    "# df = pd.read_csv(r'../input/en_train.csv')\n",
    "df = df_train\n",
    "\n",
    "x_data = []\n",
    "y_data =  pd.factorize(df['class'])\n",
    "labels = y_data[1]\n",
    "y_data = y_data[0]\n",
    "# gc.collect()\n",
    "display(df['before'].head(5))\n",
    "\n",
    "for x in df['before'][0:10].values:\n",
    "    x_row = np.ones(max_num_features, dtype=int) * space_letter\n",
    "    for xi, i in zip(list(str(x)), np.arange(max_num_features)):\n",
    "        # Convert word to letters\n",
    "        x_row[i] = ord(xi)\n",
    "    x_data.append(x_row)\n",
    "display(x_data[0:5])\n",
    "# print(x_data.shape)"
   ]
  },
  {
   "cell_type": "code",
   "execution_count": 66,
   "metadata": {},
   "outputs": [
    {
     "data": {
      "text/plain": [
       "array([[ -1,   0,   0,   0,   0,   0,   0,   0,   0,   0,   0,   0,   0,\n",
       "          0,   0,   0,  -1,  66, 114, 105, 108, 108,  97, 110, 116,  97,\n",
       "        105, 115, 105,  97,   0,   0,  -1, 105, 115,   0,   0,   0,   0,\n",
       "          0,   0,   0,   0,   0,   0,   0,   0,   0,  -1],\n",
       "       [ -1,  66, 114, 105, 108, 108,  97, 110, 116,  97, 105, 115, 105,\n",
       "         97,   0,   0,  -1, 105, 115,   0,   0,   0,   0,   0,   0,   0,\n",
       "          0,   0,   0,   0,   0,   0,  -1,  97,   0,   0,   0,   0,   0,\n",
       "          0,   0,   0,   0,   0,   0,   0,   0,   0,  -1],\n",
       "       [ -1, 105, 115,   0,   0,   0,   0,   0,   0,   0,   0,   0,   0,\n",
       "          0,   0,   0,  -1,  97,   0,   0,   0,   0,   0,   0,   0,   0,\n",
       "          0,   0,   0,   0,   0,   0,  -1, 103, 101, 110, 117, 115,   0,\n",
       "          0,   0,   0,   0,   0,   0,   0,   0,   0,  -1],\n",
       "       [ -1,  97,   0,   0,   0,   0,   0,   0,   0,   0,   0,   0,   0,\n",
       "          0,   0,   0,  -1, 103, 101, 110, 117, 115,   0,   0,   0,   0,\n",
       "          0,   0,   0,   0,   0,   0,  -1, 111, 102,   0,   0,   0,   0,\n",
       "          0,   0,   0,   0,   0,   0,   0,   0,   0,  -1],\n",
       "       [ -1, 103, 101, 110, 117, 115,   0,   0,   0,   0,   0,   0,   0,\n",
       "          0,   0,   0,  -1, 111, 102,   0,   0,   0,   0,   0,   0,   0,\n",
       "          0,   0,   0,   0,   0,   0,  -1, 112, 108,  97, 110, 116,   0,\n",
       "          0,   0,   0,   0,   0,   0,   0,   0,   0,  -1],\n",
       "       [ -1, 111, 102,   0,   0,   0,   0,   0,   0,   0,   0,   0,   0,\n",
       "          0,   0,   0,  -1, 112, 108,  97, 110, 116,   0,   0,   0,   0,\n",
       "          0,   0,   0,   0,   0,   0,  -1, 105, 110,   0,   0,   0,   0,\n",
       "          0,   0,   0,   0,   0,   0,   0,   0,   0,  -1],\n",
       "       [ -1, 112, 108,  97, 110, 116,   0,   0,   0,   0,   0,   0,   0,\n",
       "          0,   0,   0,  -1, 105, 110,   0,   0,   0,   0,   0,   0,   0,\n",
       "          0,   0,   0,   0,   0,   0,  -1, 102,  97, 109, 105, 108, 121,\n",
       "          0,   0,   0,   0,   0,   0,   0,   0,   0,  -1],\n",
       "       [ -1, 105, 110,   0,   0,   0,   0,   0,   0,   0,   0,   0,   0,\n",
       "          0,   0,   0,  -1, 102,  97, 109, 105, 108, 121,   0,   0,   0,\n",
       "          0,   0,   0,   0,   0,   0,  -1,  65,  99,  97, 110, 116, 104,\n",
       "         97,  99, 101,  97, 101,   0,   0,   0,   0,  -1],\n",
       "       [ -1, 102,  97, 109, 105, 108, 121,   0,   0,   0,   0,   0,   0,\n",
       "          0,   0,   0,  -1,  65,  99,  97, 110, 116, 104,  97,  99, 101,\n",
       "         97, 101,   0,   0,   0,   0,  -1,  46,   0,   0,   0,   0,   0,\n",
       "          0,   0,   0,   0,   0,   0,   0,   0,   0,  -1],\n",
       "       [ -1,  65,  99,  97, 110, 116, 104,  97,  99, 101,  97, 101,   0,\n",
       "          0,   0,   0,  -1,  46,   0,   0,   0,   0,   0,   0,   0,   0,\n",
       "          0,   0,   0,   0,   0,   0,  -1,  50,  48,  48,  54,   0,   0,\n",
       "          0,   0,   0,   0,   0,   0,   0,   0,   0,  -1],\n",
       "       [ -1,  46,   0,   0,   0,   0,   0,   0,   0,   0,   0,   0,   0,\n",
       "          0,   0,   0,  -1,  50,  48,  48,  54,   0,   0,   0,   0,   0,\n",
       "          0,   0,   0,   0,   0,   0,  -1,  73,  85,  67,  78,   0,   0,\n",
       "          0,   0,   0,   0,   0,   0,   0,   0,   0,  -1],\n",
       "       [ -1,  50,  48,  48,  54,   0,   0,   0,   0,   0,   0,   0,   0,\n",
       "          0,   0,   0,  -1,  73,  85,  67,  78,   0,   0,   0,   0,   0,\n",
       "          0,   0,   0,   0,   0,   0,  -1,   0,   0,   0,   0,   0,   0,\n",
       "          0,   0,   0,   0,   0,   0,   0,   0,   0,  -1]])"
      ]
     },
     "metadata": {},
     "output_type": "display_data"
    },
    {
     "name": "stdout",
     "output_type": "stream",
     "text": [
      "Total number of samples: 12\n",
      "Use:  12\n",
      "x_data sample:\n",
      "[ -1   0   0   0   0   0   0   0   0   0   0   0   0   0   0   0  -1  66\n",
      " 114 105 108 108  97 110 116  97 105 115 105  97   0   0  -1 105 115   0\n",
      "   0   0   0   0   0   0   0   0   0   0   0   0  -1]\n",
      "y_data sample:\n",
      "0\n",
      "labels:\n",
      "Index(['PLAIN', 'PUNCT', 'DATE', 'LETTERS', 'CARDINAL', 'VERBATIM', 'DECIMAL',\n",
      "       'MEASURE', 'MONEY', 'ORDINAL', 'TIME', 'ELECTRONIC', 'DIGIT',\n",
      "       'FRACTION', 'TELEPHONE', 'ADDRESS'],\n",
      "      dtype='object')\n",
      "Wall time: 2min 46s\n"
     ]
    }
   ],
   "source": [
    "%%time\n",
    "\n",
    "max_num_features = 15\n",
    "pad_size = 1\n",
    "boundary_letter = -1\n",
    "space_letter = 0\n",
    "# max_data_size = 960000\n",
    "max_data_size = 12\n",
    "\n",
    "out_path = output_path\n",
    "# df = pd.read_csv(r'../input/en_train.csv')\n",
    "df = df_train\n",
    "\n",
    "x_data = []\n",
    "y_data =  pd.factorize(df['class'])\n",
    "labels = y_data[1]\n",
    "y_data = y_data[0]\n",
    "# gc.collect()\n",
    "for x in df['before'].values:\n",
    "    x_row = np.ones(max_num_features, dtype=int) * space_letter\n",
    "    for xi, i in zip(list(str(x)), np.arange(max_num_features)):\n",
    "        x_row[i] = ord(xi)\n",
    "    x_data.append(x_row)\n",
    "\n",
    "def context_window_transform(data, pad_size):\n",
    "    pre = np.zeros(max_num_features)\n",
    "    pre = [pre for x in np.arange(pad_size)]\n",
    "    data = pre + data + pre\n",
    "    neo_data = []\n",
    "    for i in np.arange(len(data) - pad_size * 2):\n",
    "        row = []\n",
    "        for x in data[i : i + pad_size * 2 + 1]:\n",
    "            row.append([boundary_letter])\n",
    "            row.append(x)\n",
    "        row.append([boundary_letter])\n",
    "        neo_data.append([int(x) for y in row for x in y])\n",
    "    return neo_data\n",
    "\n",
    "x_data = x_data[:max_data_size]\n",
    "y_data = y_data[:max_data_size]\n",
    "x_data = np.array(context_window_transform(x_data, pad_size))\n",
    "display(x_data)\n",
    "gc.collect()\n",
    "x_data = np.array(x_data)\n",
    "y_data = np.array(y_data)\n",
    "\n",
    "print('Total number of samples:', len(x_data))\n",
    "print('Use: ', max_data_size)\n",
    "#x_data = np.array(x_data)\n",
    "#y_data = np.array(y_data)\n",
    "\n",
    "print('x_data sample:')\n",
    "print(x_data[0])\n",
    "print('y_data sample:')\n",
    "print(y_data[0])\n",
    "print('labels:')\n",
    "print(labels)"
   ]
  },
  {
   "cell_type": "code",
   "execution_count": 9,
   "metadata": {},
   "outputs": [
    {
     "name": "stdout",
     "output_type": "stream",
     "text": [
      "[0]\tvalid-merror:0.007135\ttrain-merror:0.006369\n",
      "Multiple eval metrics have been passed: 'train-merror' will be used for early stopping.\n",
      "\n",
      "Will train until train-merror hasn't improved in 50 rounds.\n",
      "[10]\tvalid-merror:0.004708\ttrain-merror:0.003522\n",
      "[20]\tvalid-merror:0.004062\ttrain-merror:0.002486\n",
      "[30]\tvalid-merror:0.003729\ttrain-merror:0.001762\n",
      "[40]\tvalid-merror:0.003615\ttrain-merror:0.001189\n",
      "[50]\tvalid-merror:0.003552\ttrain-merror:0.000874\n",
      "[60]\tvalid-merror:0.0035\ttrain-merror:0.000569\n",
      "[70]\tvalid-merror:0.003531\ttrain-merror:0.000419\n",
      "[80]\tvalid-merror:0.003458\ttrain-merror:0.000319\n",
      "[90]\tvalid-merror:0.003448\ttrain-merror:0.000248\n",
      "Wall time: 1h 52min 4s\n"
     ]
    }
   ],
   "source": [
    "%%time\n",
    "\n",
    "x_train = x_data\n",
    "y_train = y_data\n",
    "gc.collect()\n",
    "\n",
    "x_train, x_valid, y_train, y_valid= train_test_split(x_train, y_train, test_size=0.1, random_state=2017)\n",
    "gc.collect()\n",
    "num_class = len(labels)\n",
    "dtrain = xgb.DMatrix(x_train, label=y_train)\n",
    "dvalid = xgb.DMatrix(x_valid, label=y_valid)\n",
    "watchlist = [(dvalid, 'valid'), (dtrain, 'train')]\n",
    "\n",
    "param = {'objective':'multi:softmax',\n",
    "         'eta':'0.3', 'max_depth':10,\n",
    "         'silent':1, 'nthread':-1,\n",
    "         'num_class':num_class,\n",
    "         'eval_metric':'merror'}\n",
    "model = xgb.train(param, \n",
    "                  dtrain, \n",
    "                  100, \n",
    "                  watchlist, \n",
    "                  early_stopping_rounds = 50,\n",
    "                  verbose_eval=10)\n",
    "gc.collect()"
   ]
  },
  {
   "cell_type": "code",
   "execution_count": 10,
   "metadata": {},
   "outputs": [
    {
     "name": "stdout",
     "output_type": "stream",
     "text": [
      "Wall time: 1.21 s\n"
     ]
    }
   ],
   "source": [
    "%%time\n",
    "\n",
    "pred = model.predict(dvalid)\n",
    "pred = [labels[int(x)] for x in pred]\n",
    "y_valid = [labels[x] for x in y_valid]\n",
    "x_valid = [ [ chr(x) for x in y[2 + max_num_features: 2 + max_num_features * 2]] for y in x_valid]\n",
    "x_valid = [''.join(x) for x in x_valid]\n",
    "x_valid = [re.sub('a+$', '', x) for x in x_valid]\n",
    "\n",
    "gc.collect()\n",
    "\n",
    "df_pred = pd.DataFrame(columns=['data', 'predict', 'target'])\n",
    "df_pred['data'] = x_valid\n",
    "df_pred['predict'] = pred\n",
    "df_pred['target'] = y_valid\n",
    "df_pred.to_csv(os.path.join(out_path, 'pred.csv'))\n",
    "\n",
    "df_erros = df_pred.loc[df_pred['predict'] != df_pred['target']]\n",
    "df_erros.to_csv(os.path.join(out_path, 'errors.csv'), index=False)\n",
    "\n",
    "model.save_model(os.path.join(out_path, 'xgb_model'))"
   ]
  },
  {
   "cell_type": "code",
   "execution_count": 11,
   "metadata": {},
   "outputs": [
    {
     "name": "stdout",
     "output_type": "stream",
     "text": [
      "Done!\n"
     ]
    }
   ],
   "source": [
    "\n",
    "print('Done!')"
   ]
  },
  {
   "cell_type": "code",
   "execution_count": null,
   "metadata": {
    "collapsed": true
   },
   "outputs": [],
   "source": []
  }
 ],
 "metadata": {
  "kernelspec": {
   "display_name": "Python 3",
   "language": "python",
   "name": "python3"
  },
  "language_info": {
   "codemirror_mode": {
    "name": "ipython",
    "version": 3
   },
   "file_extension": ".py",
   "mimetype": "text/x-python",
   "name": "python",
   "nbconvert_exporter": "python",
   "pygments_lexer": "ipython3",
   "version": "3.5.4"
  }
 },
 "nbformat": 4,
 "nbformat_minor": 2
}
