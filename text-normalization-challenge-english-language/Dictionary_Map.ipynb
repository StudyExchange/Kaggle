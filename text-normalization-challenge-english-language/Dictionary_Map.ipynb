{
 "cells": [
  {
   "cell_type": "markdown",
   "metadata": {},
   "source": [
    "# Dictionary_Map"
   ]
  },
  {
   "cell_type": "code",
   "execution_count": 2,
   "metadata": {},
   "outputs": [
    {
     "name": "stdout",
     "output_type": "stream",
     "text": [
      "Train start...\n",
      "Total: 9918441 Have diff value: 659793\n",
      "Total: 1088564 Changed: 999105\n"
     ]
    }
   ],
   "source": [
    "# -*- coding: utf-8 -*-\n",
    "# __author__ = 'ZFTurbo: https://kaggle.com/zfturbo'\n",
    "\n",
    "import operator\n",
    "\n",
    "INPUT_PATH = \"./input/\"\n",
    "SUBM_PATH = \"./\"\n",
    "\n",
    "\n",
    "def solve():\n",
    "    print('Train start...')\n",
    "    train = open(INPUT_PATH + \"en_train.csv\", encoding='UTF8')\n",
    "    line = train.readline()\n",
    "    res = dict()\n",
    "    total = 0\n",
    "    not_same = 0\n",
    "    while 1:\n",
    "        line = train.readline().strip()\n",
    "        if line == '':\n",
    "            break\n",
    "        total += 1\n",
    "        pos = line.find('\",\"')\n",
    "        text = line[pos + 2:]\n",
    "        if text[:3] == '\",\"':\n",
    "            continue\n",
    "        text = text[1:-1]\n",
    "        arr = text.split('\",\"')\n",
    "        if arr[0] != arr[1]:\n",
    "            not_same += 1\n",
    "        if arr[0] not in res:\n",
    "            res[arr[0]] = dict()\n",
    "            res[arr[0]][arr[1]] = 1\n",
    "        else:\n",
    "            if arr[1] in res[arr[0]]:\n",
    "                res[arr[0]][arr[1]] += 1\n",
    "            else:\n",
    "                res[arr[0]][arr[1]] = 1\n",
    "\n",
    "    train.close()\n",
    "    print('Total: {} Have diff value: {}'.format(total, not_same))\n",
    "\n",
    "    total = 0\n",
    "    changes = 0\n",
    "    out = open(SUBM_PATH + 'baseline_en.csv', \"w\", encoding='UTF8')\n",
    "    out.write('\"id\",\"after\"\\n')\n",
    "    test = open(INPUT_PATH + \"en_test.csv\", encoding='UTF8')\n",
    "    line = test.readline().strip()\n",
    "    while 1:\n",
    "        line = test.readline().strip()\n",
    "        if line == '':\n",
    "            break\n",
    "\n",
    "        pos = line.find(',')\n",
    "        i1 = line[:pos]\n",
    "        line = line[pos + 1:]\n",
    "\n",
    "        pos = line.find(',')\n",
    "        i2 = line[:pos]\n",
    "        line = line[pos + 1:]\n",
    "\n",
    "        line = line[1:-1]\n",
    "        out.write('\"' + i1 + '_' + i2 + '\",')\n",
    "        if line in res:\n",
    "            srtd = sorted(res[line].items(), key=operator.itemgetter(1), reverse=True)\n",
    "            out.write('\"' + srtd[0][0] + '\"')\n",
    "            changes += 1\n",
    "        else:\n",
    "            out.write('\"' + line + '\"')\n",
    "\n",
    "        out.write('\\n')\n",
    "        total += 1\n",
    "\n",
    "    print('Total: {} Changed: {}'.format(total, changes))\n",
    "    test.close()\n",
    "    out.close()\n",
    "\n",
    "\n",
    "solve()"
   ]
  },
  {
   "cell_type": "code",
   "execution_count": null,
   "metadata": {
    "collapsed": true
   },
   "outputs": [],
   "source": []
  }
 ],
 "metadata": {
  "kernelspec": {
   "display_name": "Python 3",
   "language": "python",
   "name": "python3"
  },
  "language_info": {
   "codemirror_mode": {
    "name": "ipython",
    "version": 3
   },
   "file_extension": ".py",
   "mimetype": "text/x-python",
   "name": "python",
   "nbconvert_exporter": "python",
   "pygments_lexer": "ipython3",
   "version": "3.5.4"
  }
 },
 "nbformat": 4,
 "nbformat_minor": 2
}
