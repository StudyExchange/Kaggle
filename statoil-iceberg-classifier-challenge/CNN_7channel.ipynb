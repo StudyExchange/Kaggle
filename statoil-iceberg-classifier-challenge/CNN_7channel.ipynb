{
 "cells": [
  {
   "cell_type": "markdown",
   "metadata": {},
   "source": [
    "# CNN_7channel\n",
    "\n",
    "Abstract:\n",
    "- single channel: band_avg\n",
    "- CNN, small net\n",
    "\n",
    "Result:\n",
    "- Kaggle score: 0.2229\n",
    "\n",
    "References:\n",
    "- https://www.kaggle.com/ivalmian/simple-svd-xgboost-baseline-lb-35\n",
    "- https://www.kaggle.com/arieltci/a-keras-prototype-0-21174-on-pl"
   ]
  },
  {
   "cell_type": "markdown",
   "metadata": {},
   "source": [
    "## 1. Preprocess"
   ]
  },
  {
   "cell_type": "markdown",
   "metadata": {},
   "source": [
    "### Import pkgs"
   ]
  },
  {
   "cell_type": "code",
   "execution_count": 1,
   "metadata": {
    "collapsed": true
   },
   "outputs": [],
   "source": [
    "import numpy as np\n",
    "import pandas as pd\n",
    "import matplotlib.pyplot as plt\n",
    "import seaborn as sns\n",
    "from sklearn.model_selection import train_test_split\n",
    "from sklearn.ensemble import GradientBoostingClassifier\n",
    "from sklearn.preprocessing import MinMaxScaler\n",
    "from sklearn.metrics import log_loss, accuracy_score\n",
    "from IPython.display import display\n",
    "\n",
    "%matplotlib inline"
   ]
  },
  {
   "cell_type": "code",
   "execution_count": 2,
   "metadata": {
    "collapsed": true
   },
   "outputs": [],
   "source": [
    "import os\n",
    "import time\n",
    "import zipfile\n",
    "import lzma\n",
    "import pickle\n",
    "from PIL import Image\n",
    "from shutil import copy2"
   ]
  },
  {
   "cell_type": "markdown",
   "metadata": {},
   "source": [
    "### Run name"
   ]
  },
  {
   "cell_type": "code",
   "execution_count": 3,
   "metadata": {},
   "outputs": [
    {
     "name": "stdout",
     "output_type": "stream",
     "text": [
      "run_name: SC_Iceberg_Classifier_CNN_4channel_20171105_162133\n"
     ]
    }
   ],
   "source": [
    "project_name = 'SC_Iceberg_Classifier'\n",
    "step_name = 'CNN_4channel'\n",
    "date_str = time.strftime(\"%Y%m%d\", time.localtime())\n",
    "time_str = time.strftime(\"%Y%m%d_%H%M%S\", time.localtime())\n",
    "run_name = project_name + '_' + step_name + '_' + time_str\n",
    "print('run_name: ' + run_name)"
   ]
  },
  {
   "cell_type": "markdown",
   "metadata": {},
   "source": [
    "### Basic folders"
   ]
  },
  {
   "cell_type": "code",
   "execution_count": 4,
   "metadata": {},
   "outputs": [
    {
     "name": "stdout",
     "output_type": "stream",
     "text": [
      "input_path: E:\\Kaggle\\Statoil_C_CORE_Iceberg_Classifier_Challenge\\input\n",
      "log_path: E:\\Kaggle\\Statoil_C_CORE_Iceberg_Classifier_Challenge\\log\n",
      "model_path: E:\\Kaggle\\Statoil_C_CORE_Iceberg_Classifier_Challenge\\model\n",
      "output_path: E:\\Kaggle\\Statoil_C_CORE_Iceberg_Classifier_Challenge\\output\n"
     ]
    }
   ],
   "source": [
    "cwd = os.getcwd()\n",
    "input_path = os.path.join(cwd, 'input')\n",
    "log_path = os.path.join(cwd, 'log')\n",
    "model_path = os.path.join(cwd, 'model')\n",
    "output_path = os.path.join(cwd, 'output')\n",
    "print('input_path: ' + input_path)\n",
    "print('log_path: ' + log_path)\n",
    "print('model_path: ' + model_path)\n",
    "print('output_path: ' + output_path)"
   ]
  },
  {
   "cell_type": "markdown",
   "metadata": {},
   "source": [
    "### Load data"
   ]
  },
  {
   "cell_type": "code",
   "execution_count": 5,
   "metadata": {},
   "outputs": [
    {
     "name": "stdout",
     "output_type": "stream",
     "text": [
      "(8424, 2)\n"
     ]
    },
    {
     "data": {
      "text/html": [
       "<div>\n",
       "<style>\n",
       "    .dataframe thead tr:only-child th {\n",
       "        text-align: right;\n",
       "    }\n",
       "\n",
       "    .dataframe thead th {\n",
       "        text-align: left;\n",
       "    }\n",
       "\n",
       "    .dataframe tbody tr th {\n",
       "        vertical-align: top;\n",
       "    }\n",
       "</style>\n",
       "<table border=\"1\" class=\"dataframe\">\n",
       "  <thead>\n",
       "    <tr style=\"text-align: right;\">\n",
       "      <th></th>\n",
       "      <th>id</th>\n",
       "      <th>is_iceberg</th>\n",
       "    </tr>\n",
       "  </thead>\n",
       "  <tbody>\n",
       "    <tr>\n",
       "      <th>0</th>\n",
       "      <td>5941774d</td>\n",
       "      <td>0.5</td>\n",
       "    </tr>\n",
       "    <tr>\n",
       "      <th>1</th>\n",
       "      <td>4023181e</td>\n",
       "      <td>0.5</td>\n",
       "    </tr>\n",
       "  </tbody>\n",
       "</table>\n",
       "</div>"
      ],
      "text/plain": [
       "         id  is_iceberg\n",
       "0  5941774d         0.5\n",
       "1  4023181e         0.5"
      ]
     },
     "execution_count": 5,
     "metadata": {},
     "output_type": "execute_result"
    }
   ],
   "source": [
    "sample_submission_path = os.path.join(input_path, 'sample_submission.csv')\n",
    "sample_submission = pd.read_csv(sample_submission_path)\n",
    "print(sample_submission.shape)\n",
    "sample_submission.head(2)"
   ]
  },
  {
   "cell_type": "code",
   "execution_count": 6,
   "metadata": {},
   "outputs": [
    {
     "name": "stdout",
     "output_type": "stream",
     "text": [
      "(1604,)\n"
     ]
    }
   ],
   "source": [
    "is_iceberg_path = os.path.join(input_path, 'is_iceberg.p')\n",
    "\n",
    "y_data = pickle.load(open(is_iceberg_path, mode='rb'))\n",
    "\n",
    "print(y_data.shape)"
   ]
  },
  {
   "cell_type": "code",
   "execution_count": 7,
   "metadata": {},
   "outputs": [
    {
     "name": "stdout",
     "output_type": "stream",
     "text": [
      "(1604,)\n",
      "(8424,)\n",
      "Wall time: 15.7 ms\n"
     ]
    }
   ],
   "source": [
    "%%time\n",
    "#Load orignal data\n",
    "inc_angle_data_path = os.path.join(input_path, 'inc_angle_data.p')\n",
    "inc_angle_test_path = os.path.join(input_path, 'inc_angle_test.p')\n",
    "\n",
    "inc_angle_data = pickle.load(open(inc_angle_data_path, mode='rb'))\n",
    "inc_angle_test = pickle.load(open(inc_angle_test_path, mode='rb'))\n",
    "\n",
    "print(inc_angle_data.shape)\n",
    "print(inc_angle_test.shape)"
   ]
  },
  {
   "cell_type": "code",
   "execution_count": 8,
   "metadata": {},
   "outputs": [
    {
     "name": "stdout",
     "output_type": "stream",
     "text": [
      "(1604, 75, 75)\n",
      "(1604, 75, 75)\n",
      "(1604, 75, 75)\n",
      "(8424, 75, 75)\n",
      "(8424, 75, 75)\n",
      "(8424, 75, 75)\n",
      "Wall time: 7.77 s\n"
     ]
    }
   ],
   "source": [
    "%%time\n",
    "#Load orignal data\n",
    "band1_data_path = os.path.join(input_path, 'band1_data.p')\n",
    "band2_data_path = os.path.join(input_path, 'band2_data.p')\n",
    "band_avg_data_path = os.path.join(input_path, 'band_avg_data.p')\n",
    "band1_test_path = os.path.join(input_path, 'band1_test.p')\n",
    "band2_test_path = os.path.join(input_path, 'band2_test.p')\n",
    "band_avg_test_path = os.path.join(input_path, 'band_avg_test.p')\n",
    "\n",
    "band1_data = pickle.load(open(band1_data_path, mode='rb'))\n",
    "band2_data = pickle.load(open(band2_data_path, mode='rb'))\n",
    "band_avg_data = pickle.load(open(band_avg_data_path, mode='rb'))\n",
    "band1_test = pickle.load(open(band1_test_path, mode='rb'))\n",
    "band2_test = pickle.load(open(band2_test_path, mode='rb'))\n",
    "band_avg_test = pickle.load(open(band_avg_test_path, mode='rb'))\n",
    "\n",
    "print(band1_data.shape)\n",
    "print(band2_data.shape)\n",
    "print(band_avg_data.shape)\n",
    "print(band1_test.shape)\n",
    "print(band2_test.shape)\n",
    "print(band_avg_test.shape)"
   ]
  },
  {
   "cell_type": "code",
   "execution_count": 9,
   "metadata": {},
   "outputs": [
    {
     "name": "stdout",
     "output_type": "stream",
     "text": [
      "(1604, 75, 75)\n",
      "(1604, 75, 75)\n",
      "(1604, 75, 75)\n",
      "(8424, 75, 75)\n",
      "(8424, 75, 75)\n",
      "(8424, 75, 75)\n",
      "Wall time: 6.45 s\n"
     ]
    }
   ],
   "source": [
    "%%time\n",
    "#Load orignal data\n",
    "band1_data_edges_path = os.path.join(input_path, 'band1_data_edges.p')\n",
    "band2_data_edges_path = os.path.join(input_path, 'band2_data_edges.p')\n",
    "band_avg_data_edges_path = os.path.join(input_path, 'band_avg_data_edges.p')\n",
    "band1_test_edges_path = os.path.join(input_path, 'band1_test_edges.p')\n",
    "band2_test_edges_path = os.path.join(input_path, 'band2_test_edges.p')\n",
    "band_avg_test_edges_path = os.path.join(input_path, 'band_avg_test_edges.p')\n",
    "\n",
    "band1_data_edges = pickle.load(open(band1_data_edges_path, mode='rb'))\n",
    "band2_data_edges = pickle.load(open(band2_data_edges_path, mode='rb'))\n",
    "band_avg_data_edges = pickle.load(open(band_avg_data_edges_path, mode='rb'))\n",
    "band1_test_edges = pickle.load(open(band1_test_edges_path, mode='rb'))\n",
    "band2_test_edges = pickle.load(open(band2_test_edges_path, mode='rb'))\n",
    "band_avg_test_edges = pickle.load(open(band_avg_test_edges_path, mode='rb'))\n",
    "\n",
    "print(band1_data_edges.shape)\n",
    "print(band2_data_edges.shape)\n",
    "print(band_avg_data_edges.shape)\n",
    "print(band1_test_edges.shape)\n",
    "print(band2_test_edges.shape)\n",
    "print(band_avg_test_edges.shape)"
   ]
  },
  {
   "cell_type": "code",
   "execution_count": 10,
   "metadata": {},
   "outputs": [
    {
     "name": "stdout",
     "output_type": "stream",
     "text": [
      "(1604, 75, 75, 6)\n",
      "(8424, 75, 75, 6)\n",
      "Wall time: 14.2 s\n"
     ]
    }
   ],
   "source": [
    "%%time\n",
    "x_data = np.concatenate([band1_data[:, :, :, np.newaxis],\n",
    "                         band2_data[:, :, :, np.newaxis],\n",
    "                         band_avg_data[:, :, :, np.newaxis],\n",
    "                         band1_data_edges[:, :, :, np.newaxis],\n",
    "                         band2_data_edges[:, :, :, np.newaxis],\n",
    "                         band_avg_data_edges[:, :, :, np.newaxis]], axis=-1)\n",
    "print(x_data.shape)\n",
    "x_test = np.concatenate([band1_test[:, :, :, np.newaxis],\n",
    "                         band2_test[:, :, :, np.newaxis],\n",
    "                         band_avg_test[:, :, :, np.newaxis],\n",
    "                         band1_test_edges[:, :, :, np.newaxis],\n",
    "                         band2_test_edges[:, :, :, np.newaxis],\n",
    "                         band_avg_test_edges[:, :, :, np.newaxis]], axis=-1)\n",
    "print(x_test.shape)"
   ]
  },
  {
   "cell_type": "code",
   "execution_count": 11,
   "metadata": {},
   "outputs": [
    {
     "name": "stdout",
     "output_type": "stream",
     "text": [
      "(1363, 75, 75, 6)\n",
      "(241, 75, 75, 6)\n",
      "(1363,)\n",
      "(241,)\n",
      "(1363,)\n",
      "(241,)\n"
     ]
    }
   ],
   "source": [
    "x_train, x_val, inc_angle_train, inc_angle_val, y_train, y_val = train_test_split(x_data, inc_angle_data, y_data, test_size=0.15, shuffle=True, random_state=31)\n",
    "print(x_train.shape)\n",
    "print(x_val.shape)\n",
    "print(inc_angle_train.shape)\n",
    "print(inc_angle_val.shape)\n",
    "print(y_train.shape)\n",
    "print(y_val.shape)"
   ]
  },
  {
   "cell_type": "markdown",
   "metadata": {},
   "source": [
    "## 2. Build model"
   ]
  },
  {
   "cell_type": "code",
   "execution_count": 12,
   "metadata": {},
   "outputs": [
    {
     "name": "stderr",
     "output_type": "stream",
     "text": [
      "Using TensorFlow backend.\n"
     ]
    }
   ],
   "source": [
    "from keras.utils.np_utils import to_categorical # convert to one-hot-encoding\n",
    "from keras.models import Sequential, Model\n",
    "from keras.layers import Dense, Dropout, Flatten, Conv2D, MaxPooling2D, GlobalMaxPooling2D, BatchNormalization, Input\n",
    "from keras.layers.merge import Concatenate\n",
    "from keras.optimizers import Adam\n",
    "from keras.preprocessing.image import ImageDataGenerator\n",
    "from keras.callbacks import LearningRateScheduler, TensorBoard"
   ]
  },
  {
   "cell_type": "code",
   "execution_count": 13,
   "metadata": {
    "collapsed": true
   },
   "outputs": [],
   "source": [
    "def build_model():\n",
    "    bn_model = 0\n",
    "    p_activation = \"relu\"\n",
    "    input_1 = Input(shape=(75, 75, 6), name=\"bands\")\n",
    "    input_2 = Input(shape=[1], name=\"angle\")\n",
    "    \n",
    "    img_1 = Conv2D(32, kernel_size = (3,3), activation=p_activation)(input_1)\n",
    "    img_1 = BatchNormalization()(img_1)\n",
    "    img_1 = Conv2D(32, kernel_size = (3,3), activation=p_activation) (img_1)\n",
    "    img_1 = BatchNormalization()(img_1)\n",
    "    img_1 = MaxPooling2D((2,2)) (img_1)\n",
    "    img_1 = Dropout(0.2)(img_1)\n",
    "    \n",
    "    img_1 = Conv2D(64, kernel_size = (3,3), activation=p_activation) (img_1)\n",
    "    img_1 = BatchNormalization()(img_1)\n",
    "    img_1 = Conv2D(64, kernel_size = (3,3), activation=p_activation) (img_1)\n",
    "    img_1 = BatchNormalization()(img_1)\n",
    "    img_1 = MaxPooling2D((2,2)) (img_1)\n",
    "    img_1 = Dropout(0.2)(img_1)\n",
    "    \n",
    "    img_1 = Conv2D(128, kernel_size = (3,3), activation=p_activation) (img_1)\n",
    "    img_1 = BatchNormalization()(img_1)\n",
    "    img_1 = Conv2D(128, kernel_size = (3,3), activation=p_activation) (img_1)\n",
    "    img_1 = BatchNormalization()(img_1)\n",
    "    img_1 = MaxPooling2D((2,2)) (img_1)\n",
    "    img_1 = Dropout(0.2)(img_1)\n",
    "\n",
    "    img_1 = GlobalMaxPooling2D() (img_1)\n",
    "    \n",
    "#     img_2 = Conv2D(128, kernel_size = (3,3), activation=p_activation)(input_1)\n",
    "#     img_2 = BatchNormalization()(img_2)\n",
    "#     img_2 = MaxPooling2D((2,2)) (img_2)\n",
    "#     img_2 = Dropout(0.2)(img_2)\n",
    "#     img_2 = GlobalMaxPooling2D() (img_2)\n",
    "    \n",
    "    angle = BatchNormalization()(input_2)\n",
    "    img_concat = (Concatenate()([img_1, angle]))\n",
    "    \n",
    "#     img_concat = Concatenate([img_1, input_2])\n",
    "    \n",
    "    dense_ayer = Dense(1024, activation=p_activation)(img_concat)\n",
    "    dense_ayer = BatchNormalization()(dense_ayer)\n",
    "    dense_ayer = Dropout(0.5)(dense_ayer)\n",
    "    dense_ayer = Dense(1024, activation=p_activation)(dense_ayer)\n",
    "    dense_ayer = BatchNormalization()(dense_ayer)\n",
    "    dense_ayer = Dropout(0.5)(dense_ayer)\n",
    "    output = Dense(1, activation=\"sigmoid\")(dense_ayer)\n",
    "    \n",
    "    model = Model([input_1,input_2],  output)\n",
    "#     optimizer = Adam(lr=0.001, beta_1=0.9, beta_2=0.999, epsilon=1e-08, decay=0.0)\n",
    "    model.compile(optimizer = Adam(lr=1e-4), loss = 'binary_crossentropy', metrics = ['accuracy'])\n",
    "    return model"
   ]
  },
  {
   "cell_type": "code",
   "execution_count": 14,
   "metadata": {
    "collapsed": true
   },
   "outputs": [],
   "source": [
    "# def build_model():\n",
    "#     model = Sequential()\n",
    "\n",
    "#     model.add(Conv2D(filters = 32, kernel_size = (3, 3), activation='relu',\n",
    "#                      input_shape = (75, 75, 3)))\n",
    "#     model.add(BatchNormalization())\n",
    "#     model.add(Conv2D(filters = 32, kernel_size = (3, 3), activation='relu'))\n",
    "#     model.add(BatchNormalization())\n",
    "#     model.add(MaxPool2D(strides=(2,2)))\n",
    "#     model.add(Dropout(0.25))\n",
    "\n",
    "#     model.add(Conv2D(filters = 64, kernel_size = (3, 3), activation='relu'))\n",
    "#     model.add(BatchNormalization())\n",
    "#     model.add(Conv2D(filters = 64, kernel_size = (3, 3), activation='relu'))\n",
    "#     model.add(BatchNormalization())\n",
    "#     model.add(MaxPool2D(strides=(2,2)))\n",
    "#     model.add(Dropout(0.25))\n",
    "\n",
    "#     model.add(Conv2D(filters = 128, kernel_size = (3, 3), activation='relu'))\n",
    "#     model.add(BatchNormalization())\n",
    "#     model.add(Conv2D(filters = 128, kernel_size = (3, 3), activation='relu'))\n",
    "#     model.add(BatchNormalization())\n",
    "#     model.add(MaxPool2D(strides=(2,2)))\n",
    "#     model.add(Dropout(0.25))\n",
    "    \n",
    "#     model.add(Flatten())\n",
    "#     model.add(Dense(1024, activation='relu'))\n",
    "#     model.add(Dropout(0.25))\n",
    "#     model.add(Dense(1024, activation='relu'))\n",
    "#     model.add(Dropout(0.5))\n",
    "#     model.add(Dense(units = 1, activation = 'sigmoid'))\n",
    "\n",
    "#     model.compile(optimizer = Adam(lr=1e-4), loss = 'binary_crossentropy', metrics = ['accuracy'])\n",
    "#     return model"
   ]
  },
  {
   "cell_type": "code",
   "execution_count": 15,
   "metadata": {},
   "outputs": [
    {
     "name": "stdout",
     "output_type": "stream",
     "text": [
      "____________________________________________________________________________________________________\n",
      "Layer (type)                     Output Shape          Param #     Connected to                     \n",
      "====================================================================================================\n",
      "bands (InputLayer)               (None, 75, 75, 6)     0                                            \n",
      "____________________________________________________________________________________________________\n",
      "conv2d_1 (Conv2D)                (None, 73, 73, 32)    1760        bands[0][0]                      \n",
      "____________________________________________________________________________________________________\n",
      "batch_normalization_1 (BatchNorm (None, 73, 73, 32)    128         conv2d_1[0][0]                   \n",
      "____________________________________________________________________________________________________\n",
      "conv2d_2 (Conv2D)                (None, 71, 71, 32)    9248        batch_normalization_1[0][0]      \n",
      "____________________________________________________________________________________________________\n",
      "batch_normalization_2 (BatchNorm (None, 71, 71, 32)    128         conv2d_2[0][0]                   \n",
      "____________________________________________________________________________________________________\n",
      "max_pooling2d_1 (MaxPooling2D)   (None, 35, 35, 32)    0           batch_normalization_2[0][0]      \n",
      "____________________________________________________________________________________________________\n",
      "dropout_1 (Dropout)              (None, 35, 35, 32)    0           max_pooling2d_1[0][0]            \n",
      "____________________________________________________________________________________________________\n",
      "conv2d_3 (Conv2D)                (None, 33, 33, 64)    18496       dropout_1[0][0]                  \n",
      "____________________________________________________________________________________________________\n",
      "batch_normalization_3 (BatchNorm (None, 33, 33, 64)    256         conv2d_3[0][0]                   \n",
      "____________________________________________________________________________________________________\n",
      "conv2d_4 (Conv2D)                (None, 31, 31, 64)    36928       batch_normalization_3[0][0]      \n",
      "____________________________________________________________________________________________________\n",
      "batch_normalization_4 (BatchNorm (None, 31, 31, 64)    256         conv2d_4[0][0]                   \n",
      "____________________________________________________________________________________________________\n",
      "max_pooling2d_2 (MaxPooling2D)   (None, 15, 15, 64)    0           batch_normalization_4[0][0]      \n",
      "____________________________________________________________________________________________________\n",
      "dropout_2 (Dropout)              (None, 15, 15, 64)    0           max_pooling2d_2[0][0]            \n",
      "____________________________________________________________________________________________________\n",
      "conv2d_5 (Conv2D)                (None, 13, 13, 128)   73856       dropout_2[0][0]                  \n",
      "____________________________________________________________________________________________________\n",
      "batch_normalization_5 (BatchNorm (None, 13, 13, 128)   512         conv2d_5[0][0]                   \n",
      "____________________________________________________________________________________________________\n",
      "conv2d_6 (Conv2D)                (None, 11, 11, 128)   147584      batch_normalization_5[0][0]      \n",
      "____________________________________________________________________________________________________\n",
      "batch_normalization_6 (BatchNorm (None, 11, 11, 128)   512         conv2d_6[0][0]                   \n",
      "____________________________________________________________________________________________________\n",
      "max_pooling2d_3 (MaxPooling2D)   (None, 5, 5, 128)     0           batch_normalization_6[0][0]      \n",
      "____________________________________________________________________________________________________\n",
      "dropout_3 (Dropout)              (None, 5, 5, 128)     0           max_pooling2d_3[0][0]            \n",
      "____________________________________________________________________________________________________\n",
      "angle (InputLayer)               (None, 1)             0                                            \n",
      "____________________________________________________________________________________________________\n",
      "global_max_pooling2d_1 (GlobalMa (None, 128)           0           dropout_3[0][0]                  \n",
      "____________________________________________________________________________________________________\n",
      "batch_normalization_7 (BatchNorm (None, 1)             4           angle[0][0]                      \n",
      "____________________________________________________________________________________________________\n",
      "concatenate_1 (Concatenate)      (None, 129)           0           global_max_pooling2d_1[0][0]     \n",
      "                                                                   batch_normalization_7[0][0]      \n",
      "____________________________________________________________________________________________________\n",
      "dense_1 (Dense)                  (None, 1024)          133120      concatenate_1[0][0]              \n",
      "____________________________________________________________________________________________________\n",
      "batch_normalization_8 (BatchNorm (None, 1024)          4096        dense_1[0][0]                    \n",
      "____________________________________________________________________________________________________\n",
      "dropout_4 (Dropout)              (None, 1024)          0           batch_normalization_8[0][0]      \n",
      "____________________________________________________________________________________________________\n",
      "dense_2 (Dense)                  (None, 1024)          1049600     dropout_4[0][0]                  \n",
      "____________________________________________________________________________________________________\n",
      "batch_normalization_9 (BatchNorm (None, 1024)          4096        dense_2[0][0]                    \n",
      "____________________________________________________________________________________________________\n",
      "dropout_5 (Dropout)              (None, 1024)          0           batch_normalization_9[0][0]      \n",
      "____________________________________________________________________________________________________\n",
      "dense_3 (Dense)                  (None, 1)             1025        dropout_5[0][0]                  \n",
      "====================================================================================================\n",
      "Total params: 1,481,605\n",
      "Trainable params: 1,476,611\n",
      "Non-trainable params: 4,994\n",
      "____________________________________________________________________________________________________\n"
     ]
    }
   ],
   "source": [
    "model = build_model()\n",
    "model.summary()"
   ]
  },
  {
   "cell_type": "code",
   "execution_count": 16,
   "metadata": {
    "collapsed": true
   },
   "outputs": [],
   "source": [
    "def saveModel(model, run_name):\n",
    "    cwd = os.getcwd()\n",
    "    modelPath = os.path.join(cwd, 'model')\n",
    "    if not os.path.isdir(modelPath):\n",
    "        os.mkdir(modelPath)\n",
    "    weigthsFile = os.path.join(modelPath, run_name + '.h5')\n",
    "    model.save(weigthsFile)\n",
    "saveModel(model, 'saveModel_test')"
   ]
  },
  {
   "cell_type": "code",
   "execution_count": 17,
   "metadata": {},
   "outputs": [
    {
     "name": "stdout",
     "output_type": "stream",
     "text": [
      "log_dir:E:\\Kaggle\\Statoil_C_CORE_Iceberg_Classifier_Challenge\\log\\SC_Iceberg_Classifier_CNN_4channel_20171105_162133\n"
     ]
    }
   ],
   "source": [
    "# def get_lr(x):\n",
    "#     lr = round(1e-3 * 0.9 ** x, 6)\n",
    "#     if lr < 1e-4:\n",
    "#         lr = 1e-4\n",
    "#     print(lr, end='  ')\n",
    "#     return lr\n",
    "\n",
    "annealer = LearningRateScheduler(lambda x: 1e-3 * 0.9 ** x)\n",
    "\n",
    "log_dir = os.path.join(log_path, run_name)\n",
    "print('log_dir:' + log_dir)\n",
    "tensorBoard = TensorBoard(log_dir=log_dir)"
   ]
  },
  {
   "cell_type": "code",
   "execution_count": 18,
   "metadata": {},
   "outputs": [
    {
     "name": "stdout",
     "output_type": "stream",
     "text": [
      "Train on 1363 samples, validate on 241 samples\n",
      "Epoch 1/50\n",
      "1363/1363 [==============================] - 11s - loss: 0.7966 - acc: 0.6904 - val_loss: 0.6144 - val_acc: 0.6722\n",
      "Epoch 2/50\n",
      "1363/1363 [==============================] - 10s - loss: 0.5479 - acc: 0.7682 - val_loss: 0.5164 - val_acc: 0.7469\n",
      "Epoch 3/50\n",
      "1363/1363 [==============================] - 12s - loss: 0.4863 - acc: 0.7946 - val_loss: 0.3775 - val_acc: 0.8257\n",
      "Epoch 4/50\n",
      "1363/1363 [==============================] - 12s - loss: 0.4197 - acc: 0.8298 - val_loss: 0.3659 - val_acc: 0.8465\n",
      "Epoch 5/50\n",
      "1363/1363 [==============================] - 12s - loss: 0.4384 - acc: 0.8056 - val_loss: 0.7037 - val_acc: 0.7054\n",
      "Epoch 6/50\n",
      "1363/1363 [==============================] - 13s - loss: 0.3761 - acc: 0.8467 - val_loss: 0.4777 - val_acc: 0.7635\n",
      "Epoch 7/50\n",
      "1363/1363 [==============================] - 12s - loss: 0.3767 - acc: 0.8445 - val_loss: 0.3571 - val_acc: 0.8299\n",
      "Epoch 8/50\n",
      "1363/1363 [==============================] - 11s - loss: 0.3426 - acc: 0.8635 - val_loss: 0.4490 - val_acc: 0.7925\n",
      "Epoch 9/50\n",
      "1363/1363 [==============================] - 10s - loss: 0.3485 - acc: 0.8628 - val_loss: 0.5160 - val_acc: 0.8506\n",
      "Epoch 10/50\n",
      "1363/1363 [==============================] - 7s - loss: 0.2935 - acc: 0.8738 - val_loss: 0.3358 - val_acc: 0.8423\n",
      "Epoch 11/50\n",
      "1363/1363 [==============================] - 7s - loss: 0.3174 - acc: 0.8679 - val_loss: 0.2709 - val_acc: 0.8963\n",
      "Epoch 12/50\n",
      "1363/1363 [==============================] - 7s - loss: 0.2963 - acc: 0.8841 - val_loss: 0.5977 - val_acc: 0.8299\n",
      "Epoch 13/50\n",
      "1363/1363 [==============================] - 9s - loss: 0.3046 - acc: 0.8892 - val_loss: 0.3927 - val_acc: 0.8340\n",
      "Epoch 14/50\n",
      "1363/1363 [==============================] - 7s - loss: 0.2750 - acc: 0.8958 - val_loss: 0.3853 - val_acc: 0.8382\n",
      "Epoch 15/50\n",
      "1363/1363 [==============================] - 9s - loss: 0.2834 - acc: 0.8811 - val_loss: 0.2589 - val_acc: 0.9087\n",
      "Epoch 16/50\n",
      "1363/1363 [==============================] - 11s - loss: 0.2545 - acc: 0.8980 - val_loss: 0.2720 - val_acc: 0.9295\n",
      "Epoch 17/50\n",
      "1363/1363 [==============================] - 13s - loss: 0.2676 - acc: 0.8951 - val_loss: 0.2471 - val_acc: 0.9129\n",
      "Epoch 18/50\n",
      "1363/1363 [==============================] - 13s - loss: 0.2503 - acc: 0.8995 - val_loss: 0.3510 - val_acc: 0.8631\n",
      "Epoch 19/50\n",
      "1363/1363 [==============================] - 12s - loss: 0.2599 - acc: 0.8980 - val_loss: 0.3555 - val_acc: 0.8755\n",
      "Epoch 20/50\n",
      "1363/1363 [==============================] - 12s - loss: 0.2494 - acc: 0.9054 - val_loss: 0.2554 - val_acc: 0.9170\n",
      "Epoch 21/50\n",
      "1363/1363 [==============================] - 12s - loss: 0.2475 - acc: 0.9098 - val_loss: 0.3410 - val_acc: 0.8423\n",
      "Epoch 22/50\n",
      "1363/1363 [==============================] - 12s - loss: 0.2267 - acc: 0.9068 - val_loss: 0.2657 - val_acc: 0.9087\n",
      "Epoch 23/50\n",
      "1363/1363 [==============================] - 11s - loss: 0.2160 - acc: 0.9164 - val_loss: 0.2679 - val_acc: 0.9004\n",
      "Epoch 24/50\n",
      "1363/1363 [==============================] - 7s - loss: 0.2270 - acc: 0.9149 - val_loss: 0.2787 - val_acc: 0.8921\n",
      "Epoch 25/50\n",
      "1363/1363 [==============================] - 7s - loss: 0.1820 - acc: 0.9325 - val_loss: 0.2802 - val_acc: 0.9087\n",
      "Epoch 26/50\n",
      "1363/1363 [==============================] - 9s - loss: 0.2094 - acc: 0.9178 - val_loss: 0.3302 - val_acc: 0.8838\n",
      "Epoch 27/50\n",
      "1363/1363 [==============================] - 6s - loss: 0.1800 - acc: 0.9310 - val_loss: 0.2781 - val_acc: 0.9087\n",
      "Epoch 28/50\n",
      "1363/1363 [==============================] - 6s - loss: 0.1592 - acc: 0.9450 - val_loss: 0.3161 - val_acc: 0.9046\n",
      "Epoch 29/50\n",
      "1363/1363 [==============================] - 10s - loss: 0.1707 - acc: 0.9347 - val_loss: 0.3042 - val_acc: 0.9004\n",
      "Epoch 30/50\n",
      "1363/1363 [==============================] - 11s - loss: 0.1631 - acc: 0.9369 - val_loss: 0.3091 - val_acc: 0.8921\n",
      "Epoch 31/50\n",
      "1363/1363 [==============================] - 12s - loss: 0.1920 - acc: 0.9252 - val_loss: 0.2866 - val_acc: 0.9129\n",
      "Epoch 32/50\n",
      "1363/1363 [==============================] - 12s - loss: 0.1501 - acc: 0.9450 - val_loss: 0.2693 - val_acc: 0.9170\n",
      "Epoch 33/50\n",
      "1363/1363 [==============================] - 12s - loss: 0.1445 - acc: 0.9406 - val_loss: 0.2890 - val_acc: 0.8963\n",
      "Epoch 34/50\n",
      "1363/1363 [==============================] - 12s - loss: 0.1307 - acc: 0.9494 - val_loss: 0.3204 - val_acc: 0.8880\n",
      "Epoch 35/50\n",
      "1363/1363 [==============================] - 11s - loss: 0.1541 - acc: 0.9428 - val_loss: 0.3102 - val_acc: 0.9046\n",
      "Epoch 36/50\n",
      "1363/1363 [==============================] - 10s - loss: 0.1526 - acc: 0.9428 - val_loss: 0.2739 - val_acc: 0.8880\n",
      "Epoch 37/50\n",
      "1363/1363 [==============================] - 6s - loss: 0.1581 - acc: 0.9369 - val_loss: 0.3136 - val_acc: 0.8963\n",
      "Epoch 38/50\n",
      "1363/1363 [==============================] - 7s - loss: 0.1341 - acc: 0.9516 - val_loss: 0.2935 - val_acc: 0.8963\n",
      "Epoch 39/50\n",
      "1363/1363 [==============================] - 6s - loss: 0.1572 - acc: 0.9413 - val_loss: 0.3212 - val_acc: 0.8921\n",
      "Epoch 40/50\n",
      "1363/1363 [==============================] - 9s - loss: 0.1521 - acc: 0.9486 - val_loss: 0.2914 - val_acc: 0.9046\n",
      "Epoch 41/50\n",
      "1363/1363 [==============================] - 6s - loss: 0.1600 - acc: 0.9384 - val_loss: 0.3090 - val_acc: 0.9004\n",
      "Epoch 42/50\n",
      "1363/1363 [==============================] - 8s - loss: 0.1494 - acc: 0.9442 - val_loss: 0.2929 - val_acc: 0.9004\n",
      "Epoch 43/50\n",
      "1363/1363 [==============================] - 10s - loss: 0.1611 - acc: 0.9450 - val_loss: 0.2988 - val_acc: 0.9046\n",
      "Epoch 44/50\n",
      "1363/1363 [==============================] - 11s - loss: 0.1593 - acc: 0.9406 - val_loss: 0.3220 - val_acc: 0.8921\n",
      "Epoch 45/50\n",
      "1363/1363 [==============================] - 12s - loss: 0.1191 - acc: 0.9530 - val_loss: 0.3138 - val_acc: 0.8921.\n",
      "Epoch 46/50\n",
      "1363/1363 [==============================] - 12s - loss: 0.1571 - acc: 0.9435 - val_loss: 0.3061 - val_acc: 0.8963\n",
      "Epoch 47/50\n",
      "1363/1363 [==============================] - 12s - loss: 0.1294 - acc: 0.9508 - val_loss: 0.2994 - val_acc: 0.9046\n",
      "Epoch 48/50\n",
      "1363/1363 [==============================] - 12s - loss: 0.1428 - acc: 0.9479 - val_loss: 0.3059 - val_acc: 0.9046\n",
      "Epoch 49/50\n",
      "1363/1363 [==============================] - 11s - loss: 0.1615 - acc: 0.9332 - val_loss: 0.3093 - val_acc: 0.8963\n",
      "Epoch 50/50\n",
      "1363/1363 [==============================] - 10s - loss: 0.1551 - acc: 0.9479 - val_loss: 0.3232 - val_acc: 0.8921\n"
     ]
    }
   ],
   "source": [
    "hist = model.fit([x_train, inc_angle_train], y_train, \n",
    "                 batch_size = 8, \n",
    "                 verbose= 1,\n",
    "                 epochs = 50, #1 for ETA, 0 for silent\n",
    "                 validation_data=([x_val, inc_angle_val], y_val),\n",
    "                 callbacks=[annealer, tensorBoard])"
   ]
  },
  {
   "cell_type": "code",
   "execution_count": 19,
   "metadata": {},
   "outputs": [
    {
     "name": "stdout",
     "output_type": "stream",
     "text": [
      "224/241 [==========================>...] - ETA: 0sFinal loss: 0.3232, final accuracy: 0.8921\n"
     ]
    }
   ],
   "source": [
    "final_loss, final_acc = model.evaluate([x_val, inc_angle_val], y_val, verbose=1)\n",
    "print(\"Final loss: {0:.4f}, final accuracy: {1:.4f}\".format(final_loss, final_acc))"
   ]
  },
  {
   "cell_type": "code",
   "execution_count": 20,
   "metadata": {},
   "outputs": [
    {
     "name": "stdout",
     "output_type": "stream",
     "text": [
      "Val log_loss: 0.3187965327128478\n",
      "Val log_loss: 0.2801395565333208\n"
     ]
    }
   ],
   "source": [
    "val_prob1 = model.predict([x_val, inc_angle_val])\n",
    "\n",
    "# print('Val log_loss: {}'.format(log_loss(y_val, val_prob1)))\n",
    "val_prob1_limit = np.clip(val_prob1, 0.00005, 0.99995)\n",
    "loss = log_loss(y_val, val_prob1_limit)\n",
    "print('Val log_loss: {}'.format(loss))\n",
    "\n",
    "val_prob1_limit = np.clip(val_prob1_limit, 0.05, 0.95)\n",
    "loss = log_loss(y_val, val_prob1_limit)\n",
    "print('Val log_loss: {}'.format(loss))"
   ]
  },
  {
   "cell_type": "code",
   "execution_count": 21,
   "metadata": {},
   "outputs": [
    {
     "name": "stdout",
     "output_type": "stream",
     "text": [
      "SC_Iceberg_Classifier_CNN_4channel_20171105_162133_2801\n"
     ]
    }
   ],
   "source": [
    "final_acc_str = str(int(loss*10000))\n",
    "run_name_acc = project_name + '_' + step_name + '_' + time_str + '_' + final_acc_str\n",
    "print(run_name_acc)"
   ]
  },
  {
   "cell_type": "code",
   "execution_count": 22,
   "metadata": {},
   "outputs": [
    {
     "name": "stdout",
     "output_type": "stream",
     "text": [
      "Index(['acc', 'loss', 'val_acc', 'val_loss', 'epoch'], dtype='object')\n"
     ]
    }
   ],
   "source": [
    "histories = pd.DataFrame(hist.history)\n",
    "histories['epoch'] = hist.epoch\n",
    "print(histories.columns)\n",
    "histories_file = os.path.join(model_path, run_name_acc + '.csv')\n",
    "histories.to_csv(histories_file, index=False)"
   ]
  },
  {
   "cell_type": "code",
   "execution_count": 23,
   "metadata": {},
   "outputs": [
    {
     "data": {
      "image/png": "[encoded data removed]",
      "text/plain": [
       "<matplotlib.figure.Figure at 0x2600978908>"
      ]
     },
     "metadata": {},
     "output_type": "display_data"
    },
    {
     "data": {
      "image/png": "[encoded data removed]",
      "text/plain": [
       "<matplotlib.figure.Figure at 0x2605e47dd8>"
      ]
     },
     "metadata": {},
     "output_type": "display_data"
    }
   ],
   "source": [
    "plt.plot(histories['loss'], color='b')\n",
    "plt.plot(histories['val_loss'], color='r')\n",
    "plt.show()\n",
    "plt.plot(histories['acc'], color='b')\n",
    "plt.plot(histories['val_acc'], color='r')\n",
    "plt.show()"
   ]
  },
  {
   "cell_type": "code",
   "execution_count": 24,
   "metadata": {
    "collapsed": true
   },
   "outputs": [],
   "source": [
    "saveModel(model, run_name_acc)"
   ]
  },
  {
   "cell_type": "markdown",
   "metadata": {},
   "source": [
    "## 3. Predict"
   ]
  },
  {
   "cell_type": "code",
   "execution_count": 25,
   "metadata": {},
   "outputs": [
    {
     "name": "stdout",
     "output_type": "stream",
     "text": [
      "E:\\Kaggle\\Statoil_C_CORE_Iceberg_Classifier_Challenge\\output\\SC_Iceberg_Classifier_CNN_4channel_20171105_162133_2801.csv\n"
     ]
    }
   ],
   "source": [
    "if not os.path.exists(output_path):\n",
    "    os.mkdir(output_path)\n",
    "pred_file = os.path.join(output_path, run_name_acc + '.csv')\n",
    "print(pred_file)"
   ]
  },
  {
   "cell_type": "code",
   "execution_count": 26,
   "metadata": {},
   "outputs": [
    {
     "name": "stdout",
     "output_type": "stream",
     "text": [
      "(8424, 1)\n",
      "[[ 0.00616828]\n",
      " [ 0.02000028]]\n",
      "(8424, 1)\n",
      "[[ 0.05]\n",
      " [ 0.05]]\n"
     ]
    }
   ],
   "source": [
    "test_prob = model.predict([x_test, inc_angle_test])\n",
    "print(test_prob.shape)\n",
    "print(test_prob[0:2])\n",
    "test_prob = np.clip(test_prob, 0.05, 0.95)\n",
    "print(test_prob.shape)\n",
    "print(test_prob[0:2])"
   ]
  },
  {
   "cell_type": "code",
   "execution_count": 27,
   "metadata": {},
   "outputs": [
    {
     "name": "stdout",
     "output_type": "stream",
     "text": [
      "         id  is_iceberg\n",
      "0  5941774d        0.05\n",
      "1  4023181e        0.05\n",
      "(8424, 2)\n"
     ]
    }
   ],
   "source": [
    "sample_submission['is_iceberg'] = test_prob\n",
    "print(sample_submission[0:2])\n",
    "print(sample_submission.shape)\n",
    "sample_submission.to_csv(pred_file, index=False)"
   ]
  },
  {
   "cell_type": "code",
   "execution_count": 28,
   "metadata": {},
   "outputs": [
    {
     "name": "stdout",
     "output_type": "stream",
     "text": [
      "SC_Iceberg_Classifier_CNN_4channel_20171105_162133_2801\n",
      "Done!\n"
     ]
    }
   ],
   "source": [
    "print(run_name_acc)\n",
    "print('Done!')"
   ]
  },
  {
   "cell_type": "code",
   "execution_count": null,
   "metadata": {
    "collapsed": true
   },
   "outputs": [],
   "source": []
  }
 ],
 "metadata": {
  "kernelspec": {
   "display_name": "Python 3",
   "language": "python",
   "name": "python3"
  },
  "language_info": {
   "codemirror_mode": {
    "name": "ipython",
    "version": 3
   },
   "file_extension": ".py",
   "mimetype": "text/x-python",
   "name": "python",
   "nbconvert_exporter": "python",
   "pygments_lexer": "ipython3",
   "version": "3.5.4"
  }
 },
 "nbformat": 4,
 "nbformat_minor": 2
}
