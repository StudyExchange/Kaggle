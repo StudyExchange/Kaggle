{
 "cells": [
  {
   "cell_type": "markdown",
   "metadata": {},
   "source": [
    "# CNN_4channel\n",
    "\n",
    "Abstract:\n",
    "- single channel: band_avg\n",
    "- CNN, small net\n",
    "\n",
    "\n",
    "References:\n",
    "- https://www.kaggle.com/ivalmian/simple-svd-xgboost-baseline-lb-35\n",
    "- https://www.kaggle.com/arieltci/a-keras-prototype-0-21174-on-pl"
   ]
  },
  {
   "cell_type": "markdown",
   "metadata": {},
   "source": [
    "## 1. Preprocess"
   ]
  },
  {
   "cell_type": "markdown",
   "metadata": {},
   "source": [
    "### Import pkgs"
   ]
  },
  {
   "cell_type": "code",
   "execution_count": 1,
   "metadata": {
    "collapsed": true
   },
   "outputs": [],
   "source": [
    "import numpy as np\n",
    "import pandas as pd\n",
    "import matplotlib.pyplot as plt\n",
    "import seaborn as sns\n",
    "from sklearn.model_selection import train_test_split\n",
    "from sklearn.ensemble import GradientBoostingClassifier\n",
    "from sklearn.preprocessing import MinMaxScaler\n",
    "from sklearn.metrics import log_loss, accuracy_score\n",
    "from IPython.display import display\n",
    "\n",
    "%matplotlib inline"
   ]
  },
  {
   "cell_type": "code",
   "execution_count": 2,
   "metadata": {
    "collapsed": true
   },
   "outputs": [],
   "source": [
    "import os\n",
    "import time\n",
    "import zipfile\n",
    "import lzma\n",
    "import pickle\n",
    "from PIL import Image\n",
    "from shutil import copy2"
   ]
  },
  {
   "cell_type": "markdown",
   "metadata": {},
   "source": [
    "### Run name"
   ]
  },
  {
   "cell_type": "code",
   "execution_count": 3,
   "metadata": {},
   "outputs": [
    {
     "name": "stdout",
     "output_type": "stream",
     "text": [
      "run_name: SC_Iceberg_Classifier_CNN_4channel_20171101_142927\n"
     ]
    }
   ],
   "source": [
    "project_name = 'SC_Iceberg_Classifier'\n",
    "step_name = 'CNN_4channel'\n",
    "date_str = time.strftime(\"%Y%m%d\", time.localtime())\n",
    "time_str = time.strftime(\"%Y%m%d_%H%M%S\", time.localtime())\n",
    "run_name = project_name + '_' + step_name + '_' + time_str\n",
    "print('run_name: ' + run_name)"
   ]
  },
  {
   "cell_type": "markdown",
   "metadata": {},
   "source": [
    "### Basic folders"
   ]
  },
  {
   "cell_type": "code",
   "execution_count": 4,
   "metadata": {},
   "outputs": [
    {
     "name": "stdout",
     "output_type": "stream",
     "text": [
      "input_path: D:\\Kaggle\\Statoil_C_CORE_Iceberg_Classifier_Challenge\\input\n",
      "log_path: D:\\Kaggle\\Statoil_C_CORE_Iceberg_Classifier_Challenge\\log\n",
      "model_path: D:\\Kaggle\\Statoil_C_CORE_Iceberg_Classifier_Challenge\\model\n",
      "output_path: D:\\Kaggle\\Statoil_C_CORE_Iceberg_Classifier_Challenge\\output\n"
     ]
    }
   ],
   "source": [
    "cwd = os.getcwd()\n",
    "input_path = os.path.join(cwd, 'input')\n",
    "log_path = os.path.join(cwd, 'log')\n",
    "model_path = os.path.join(cwd, 'model')\n",
    "output_path = os.path.join(cwd, 'output')\n",
    "print('input_path: ' + input_path)\n",
    "print('log_path: ' + log_path)\n",
    "print('model_path: ' + model_path)\n",
    "print('output_path: ' + output_path)"
   ]
  },
  {
   "cell_type": "markdown",
   "metadata": {},
   "source": [
    "### Unzip files"
   ]
  },
  {
   "cell_type": "code",
   "execution_count": 5,
   "metadata": {
    "collapsed": true
   },
   "outputs": [],
   "source": [
    "# with lzma.open(\"train.json.7z\") as f:\n",
    "#     file_content = f.read()"
   ]
  },
  {
   "cell_type": "code",
   "execution_count": 6,
   "metadata": {
    "collapsed": true
   },
   "outputs": [],
   "source": [
    "# Unzip(input_path, os.path.join(input_path, 'sample_submission.csv.7z'))\n",
    "# Unzip(input_path, os.path.join(input_path, 'test.json.7z'))\n",
    "# Unzip(input_path, os.path.join(input_path, 'train.json.7z'))"
   ]
  },
  {
   "cell_type": "markdown",
   "metadata": {},
   "source": [
    "### Load data"
   ]
  },
  {
   "cell_type": "code",
   "execution_count": 7,
   "metadata": {},
   "outputs": [
    {
     "name": "stdout",
     "output_type": "stream",
     "text": [
      "(8424, 2)\n"
     ]
    },
    {
     "data": {
      "text/html": [
       "<div>\n",
       "<style>\n",
       "    .dataframe thead tr:only-child th {\n",
       "        text-align: right;\n",
       "    }\n",
       "\n",
       "    .dataframe thead th {\n",
       "        text-align: left;\n",
       "    }\n",
       "\n",
       "    .dataframe tbody tr th {\n",
       "        vertical-align: top;\n",
       "    }\n",
       "</style>\n",
       "<table border=\"1\" class=\"dataframe\">\n",
       "  <thead>\n",
       "    <tr style=\"text-align: right;\">\n",
       "      <th></th>\n",
       "      <th>id</th>\n",
       "      <th>is_iceberg</th>\n",
       "    </tr>\n",
       "  </thead>\n",
       "  <tbody>\n",
       "    <tr>\n",
       "      <th>0</th>\n",
       "      <td>5941774d</td>\n",
       "      <td>0.5</td>\n",
       "    </tr>\n",
       "    <tr>\n",
       "      <th>1</th>\n",
       "      <td>4023181e</td>\n",
       "      <td>0.5</td>\n",
       "    </tr>\n",
       "  </tbody>\n",
       "</table>\n",
       "</div>"
      ],
      "text/plain": [
       "         id  is_iceberg\n",
       "0  5941774d         0.5\n",
       "1  4023181e         0.5"
      ]
     },
     "execution_count": 7,
     "metadata": {},
     "output_type": "execute_result"
    }
   ],
   "source": [
    "sample_submission_path = os.path.join(input_path, 'sample_submission.csv')\n",
    "sample_submission = pd.read_csv(sample_submission_path)\n",
    "print(sample_submission.shape)\n",
    "sample_submission.head(2)"
   ]
  },
  {
   "cell_type": "code",
   "execution_count": 8,
   "metadata": {},
   "outputs": [
    {
     "name": "stdout",
     "output_type": "stream",
     "text": [
      "(1604, 5)\n",
      "(8424, 4)\n",
      "Wall time: 20 s\n"
     ]
    }
   ],
   "source": [
    "%%time\n",
    "#Load data\n",
    "data_path = os.path.join(input_path, 'train.json')\n",
    "test_path = os.path.join(input_path, 'test.json')\n",
    "pd_data = pd.read_json(data_path)\n",
    "pd_test = pd.read_json(test_path)\n",
    "print(pd_data.shape)\n",
    "print(pd_test.shape)"
   ]
  },
  {
   "cell_type": "code",
   "execution_count": 9,
   "metadata": {
    "collapsed": true
   },
   "outputs": [],
   "source": [
    "#get numpy arrays for train/test data, prob there is a more pythonic approach\n",
    "band1 = pd_data['band_1'].values\n",
    "im1 = np.zeros((len(band1),len(band1[0])))\n",
    "for j in range(len(band1)):\n",
    "    im1[j,:]=np.asarray(band1[j])\n",
    "    \n",
    "band2 = pd_data['band_2'].values\n",
    "im2 = np.zeros((len(band2),len(band2[0])))\n",
    "for j in range(len(band2)):\n",
    "    im2[j,:]=np.asarray(band2[j])\n",
    "    \n",
    "#get numpy array for test data\n",
    "band1test = pd_test['band_1'].values\n",
    "im1test = np.zeros((len(band1test),len(band1test[0])))\n",
    "for j in range(len(band1test)):\n",
    "    im1test[j,:]=np.asarray(band1test[j])\n",
    "    \n",
    "band2test = pd_test['band_2'].values\n",
    "im2test = np.zeros((len(band2test),len(band2test[0])))\n",
    "for j in range(len(band2test)):\n",
    "    im2test[j,:]=np.asarray(band2test[j])"
   ]
  },
  {
   "cell_type": "code",
   "execution_count": 10,
   "metadata": {},
   "outputs": [
    {
     "name": "stdout",
     "output_type": "stream",
     "text": [
      "(1604,)\n",
      "(1604,)\n",
      "(1604,)\n",
      "(1604,)\n",
      "(1604,)\n"
     ]
    }
   ],
   "source": [
    "print(pd_data['id'].values.shape)\n",
    "print(pd_data['band_1'].values.shape)\n",
    "print(pd_data['band_2'].values.shape)\n",
    "print(pd_data['inc_angle'].values.shape)\n",
    "print(pd_data['is_iceberg'].values.shape)"
   ]
  },
  {
   "cell_type": "code",
   "execution_count": 11,
   "metadata": {},
   "outputs": [
    {
     "name": "stdout",
     "output_type": "stream",
     "text": [
      "(1604,)\n",
      "(8424,)\n"
     ]
    }
   ],
   "source": [
    "id_data = pd_data['id'].as_matrix()\n",
    "id_test = pd_test['id'].as_matrix()\n",
    "print(id_data.shape)\n",
    "print(id_test.shape)"
   ]
  },
  {
   "cell_type": "code",
   "execution_count": 12,
   "metadata": {},
   "outputs": [
    {
     "name": "stdout",
     "output_type": "stream",
     "text": [
      "(1604,)\n",
      "0    0.439239\n",
      "1    0.381562\n",
      "Name: inc_angle, dtype: float64\n",
      "(8424,)\n",
      "0    0.349664\n",
      "1    0.326151\n",
      "Name: inc_angle, dtype: float64\n"
     ]
    }
   ],
   "source": [
    "inc_angle_data = pd_data['inc_angle'].replace('na', 0).astype(float).fillna(0.0)/100\n",
    "inc_angle_test = pd_test['inc_angle'].replace('na', 0).astype(float).fillna(0.0)/100\n",
    "print(inc_angle_data.shape)\n",
    "print(inc_angle_data[0:2])\n",
    "print(inc_angle_test.shape)\n",
    "print(inc_angle_test[0:2])"
   ]
  },
  {
   "cell_type": "code",
   "execution_count": 13,
   "metadata": {},
   "outputs": [
    {
     "name": "stdout",
     "output_type": "stream",
     "text": [
      "(1604,)\n"
     ]
    }
   ],
   "source": [
    "y_data = pd_data['is_iceberg']\n",
    "print(y_data.shape)"
   ]
  },
  {
   "cell_type": "code",
   "execution_count": 14,
   "metadata": {},
   "outputs": [
    {
     "name": "stdout",
     "output_type": "stream",
     "text": [
      "(1604, 75, 75)\n",
      "(1604, 75, 75)\n",
      "(8424, 75, 75)\n",
      "(8424, 75, 75)\n"
     ]
    }
   ],
   "source": [
    "band1_data = im1.reshape(-1, 75,75)\n",
    "band2_data = im2.reshape(-1, 75,75)\n",
    "\n",
    "band1_test = im1test.reshape(-1, 75,75)\n",
    "band2_test = im2test.reshape(-1, 75,75)\n",
    "\n",
    "print(band1_data.shape)\n",
    "print(band2_data.shape)\n",
    "print(band1_test.shape)\n",
    "print(band2_test.shape)"
   ]
  },
  {
   "cell_type": "code",
   "execution_count": 15,
   "metadata": {},
   "outputs": [
    {
     "name": "stdout",
     "output_type": "stream",
     "text": [
      "(1604, 75, 75)\n",
      "(8424, 75, 75)\n"
     ]
    }
   ],
   "source": [
    "band_avg_data = (band1_data + band2_data)/2\n",
    "print(band_avg_data.shape)\n",
    "band_avg_test = (band1_test + band2_test)/2\n",
    "print(band_avg_test.shape)"
   ]
  },
  {
   "cell_type": "code",
   "execution_count": 16,
   "metadata": {},
   "outputs": [
    {
     "name": "stdout",
     "output_type": "stream",
     "text": [
      "(75, 75)\n"
     ]
    },
    {
     "data": {
      "text/plain": [
       "<matplotlib.text.Text at 0x1c6d2506b00>"
      ]
     },
     "execution_count": 16,
     "metadata": {},
     "output_type": "execute_result"
    },
    {
     "data": {
      "image/png": "[encoded data removed]",
      "text/plain": [
       "<matplotlib.figure.Figure at 0x1c4b20b6320>"
      ]
     },
     "metadata": {},
     "output_type": "display_data"
    }
   ],
   "source": [
    "# Preview images\n",
    "print(band1_data[0].shape)\n",
    "fig, ax = plt.subplots(2, 3, figsize=(6,6))\n",
    "ax[0, 0].imshow(band1_data[0].reshape(75, 75))\n",
    "ax[0, 0].set_title(id_data[0] + '_' + str(y_data[0]))\n",
    "ax[0, 1].imshow(band2_data[0].reshape(75, 75))\n",
    "ax[0, 1].set_title(id_data[0] + '_' + str(y_data[1]))\n",
    "ax[0, 2].imshow(band_avg_data[0].reshape(75, 75))\n",
    "ax[0, 2].set_title(id_data[0])\n",
    "\n",
    "ax[1, 0].imshow(band1_test[0].reshape(75, 75))\n",
    "ax[1, 0].set_title(id_test[0])\n",
    "ax[1, 1].imshow(band2_test[0].reshape(75, 75))\n",
    "ax[1, 1].set_title(id_test[0])\n",
    "ax[1, 2].imshow(band_avg_test[0].reshape(75, 75))\n",
    "ax[1, 2].set_title(id_test[0])"
   ]
  },
  {
   "cell_type": "code",
   "execution_count": 17,
   "metadata": {},
   "outputs": [
    {
     "name": "stdout",
     "output_type": "stream",
     "text": [
      "(1604, 75, 75, 3)\n",
      "(8424, 75, 75, 3)\n"
     ]
    }
   ],
   "source": [
    "x_data = np.concatenate([band1_data[:, :, :, np.newaxis],\n",
    "                         band2_data[:, :, :, np.newaxis],\n",
    "                         band_avg_data[:, :, :, np.newaxis]], axis=-1)\n",
    "print(x_data.shape)\n",
    "x_test = np.concatenate([band1_test[:, :, :, np.newaxis],\n",
    "                         band2_test[:, :, :, np.newaxis],\n",
    "                         band_avg_test[:, :, :, np.newaxis]], axis=-1)\n",
    "print(x_test.shape)"
   ]
  },
  {
   "cell_type": "code",
   "execution_count": 18,
   "metadata": {},
   "outputs": [
    {
     "name": "stdout",
     "output_type": "stream",
     "text": [
      "(1363, 75, 75, 3)\n",
      "(241, 75, 75, 3)\n",
      "(1363,)\n",
      "(241,)\n",
      "(1363,)\n",
      "(241,)\n"
     ]
    }
   ],
   "source": [
    "x_train, x_val, inc_angle_train, inc_angle_val, y_train, y_val = train_test_split(x_data, inc_angle_data, y_data, test_size=0.15, shuffle=True, random_state=31)\n",
    "print(x_train.shape)\n",
    "print(x_val.shape)\n",
    "print(inc_angle_train.shape)\n",
    "print(inc_angle_val.shape)\n",
    "print(y_train.shape)\n",
    "print(y_val.shape)"
   ]
  },
  {
   "cell_type": "markdown",
   "metadata": {},
   "source": [
    "## 2. Build model"
   ]
  },
  {
   "cell_type": "code",
   "execution_count": 19,
   "metadata": {},
   "outputs": [
    {
     "name": "stderr",
     "output_type": "stream",
     "text": [
      "Using TensorFlow backend.\n"
     ]
    }
   ],
   "source": [
    "from keras.utils.np_utils import to_categorical # convert to one-hot-encoding\n",
    "from keras.models import Sequential, Model\n",
    "from keras.layers import Dense, Dropout, Flatten, Conv2D, MaxPooling2D, GlobalMaxPooling2D, BatchNormalization, Input\n",
    "from keras.layers.merge import Concatenate\n",
    "from keras.optimizers import Adam\n",
    "from keras.preprocessing.image import ImageDataGenerator\n",
    "from keras.callbacks import LearningRateScheduler, TensorBoard"
   ]
  },
  {
   "cell_type": "code",
   "execution_count": 20,
   "metadata": {
    "collapsed": true
   },
   "outputs": [],
   "source": [
    "def build_model():\n",
    "    bn_model = 0\n",
    "    p_activation = \"relu\"\n",
    "    input_1 = Input(shape=(75, 75, 3), name=\"bands\")\n",
    "    input_2 = Input(shape=[1], name=\"angle\")\n",
    "    \n",
    "    img_1 = Conv2D(32, kernel_size = (3,3), activation=p_activation)(input_1)\n",
    "    img_1 = BatchNormalization()(img_1)\n",
    "    img_1 = Conv2D(32, kernel_size = (3,3), activation=p_activation) (img_1)\n",
    "    img_1 = BatchNormalization()(img_1)\n",
    "    img_1 = MaxPooling2D((2,2)) (img_1)\n",
    "    img_1 = Dropout(0.2)(img_1)\n",
    "    \n",
    "    img_1 = Conv2D(64, kernel_size = (3,3), activation=p_activation) (img_1)\n",
    "    img_1 = BatchNormalization()(img_1)\n",
    "    img_1 = Conv2D(64, kernel_size = (3,3), activation=p_activation) (img_1)\n",
    "    img_1 = BatchNormalization()(img_1)\n",
    "    img_1 = MaxPooling2D((2,2)) (img_1)\n",
    "    img_1 = Dropout(0.2)(img_1)\n",
    "    \n",
    "    img_1 = Conv2D(128, kernel_size = (3,3), activation=p_activation) (img_1)\n",
    "    img_1 = BatchNormalization()(img_1)\n",
    "    img_1 = Conv2D(128, kernel_size = (3,3), activation=p_activation) (img_1)\n",
    "    img_1 = BatchNormalization()(img_1)\n",
    "    img_1 = MaxPooling2D((2,2)) (img_1)\n",
    "    img_1 = Dropout(0.2)(img_1)\n",
    "\n",
    "    img_1 = GlobalMaxPooling2D() (img_1)\n",
    "    \n",
    "#     img_2 = Conv2D(128, kernel_size = (3,3), activation=p_activation)(input_1)\n",
    "#     img_2 = BatchNormalization()(img_2)\n",
    "#     img_2 = MaxPooling2D((2,2)) (img_2)\n",
    "#     img_2 = Dropout(0.2)(img_2)\n",
    "#     img_2 = GlobalMaxPooling2D() (img_2)\n",
    "    \n",
    "    angle = BatchNormalization()(input_2)\n",
    "    img_concat = (Concatenate()([img_1, angle]))\n",
    "    \n",
    "#     img_concat = Concatenate([img_1, input_2])\n",
    "    \n",
    "    dense_ayer = Dense(1024, activation=p_activation)(img_concat)\n",
    "    dense_ayer = BatchNormalization()(dense_ayer)\n",
    "    dense_ayer = Dropout(0.5)(dense_ayer)\n",
    "    dense_ayer = Dense(1024, activation=p_activation)(dense_ayer)\n",
    "    dense_ayer = BatchNormalization()(dense_ayer)\n",
    "    dense_ayer = Dropout(0.5)(dense_ayer)\n",
    "    output = Dense(1, activation=\"sigmoid\")(dense_ayer)\n",
    "    \n",
    "    model = Model([input_1,input_2],  output)\n",
    "#     optimizer = Adam(lr=0.001, beta_1=0.9, beta_2=0.999, epsilon=1e-08, decay=0.0)\n",
    "    model.compile(optimizer = Adam(lr=1e-4), loss = 'binary_crossentropy', metrics = ['accuracy'])\n",
    "    return model"
   ]
  },
  {
   "cell_type": "code",
   "execution_count": 21,
   "metadata": {
    "collapsed": true
   },
   "outputs": [],
   "source": [
    "# def build_model():\n",
    "#     model = Sequential()\n",
    "\n",
    "#     model.add(Conv2D(filters = 32, kernel_size = (3, 3), activation='relu',\n",
    "#                      input_shape = (75, 75, 3)))\n",
    "#     model.add(BatchNormalization())\n",
    "#     model.add(Conv2D(filters = 32, kernel_size = (3, 3), activation='relu'))\n",
    "#     model.add(BatchNormalization())\n",
    "#     model.add(MaxPool2D(strides=(2,2)))\n",
    "#     model.add(Dropout(0.25))\n",
    "\n",
    "#     model.add(Conv2D(filters = 64, kernel_size = (3, 3), activation='relu'))\n",
    "#     model.add(BatchNormalization())\n",
    "#     model.add(Conv2D(filters = 64, kernel_size = (3, 3), activation='relu'))\n",
    "#     model.add(BatchNormalization())\n",
    "#     model.add(MaxPool2D(strides=(2,2)))\n",
    "#     model.add(Dropout(0.25))\n",
    "\n",
    "#     model.add(Conv2D(filters = 128, kernel_size = (3, 3), activation='relu'))\n",
    "#     model.add(BatchNormalization())\n",
    "#     model.add(Conv2D(filters = 128, kernel_size = (3, 3), activation='relu'))\n",
    "#     model.add(BatchNormalization())\n",
    "#     model.add(MaxPool2D(strides=(2,2)))\n",
    "#     model.add(Dropout(0.25))\n",
    "    \n",
    "#     model.add(Flatten())\n",
    "#     model.add(Dense(1024, activation='relu'))\n",
    "#     model.add(Dropout(0.25))\n",
    "#     model.add(Dense(1024, activation='relu'))\n",
    "#     model.add(Dropout(0.5))\n",
    "#     model.add(Dense(units = 1, activation = 'sigmoid'))\n",
    "\n",
    "#     model.compile(optimizer = Adam(lr=1e-4), loss = 'binary_crossentropy', metrics = ['accuracy'])\n",
    "#     return model"
   ]
  },
  {
   "cell_type": "code",
   "execution_count": 22,
   "metadata": {},
   "outputs": [
    {
     "name": "stdout",
     "output_type": "stream",
     "text": [
      "____________________________________________________________________________________________________\n",
      "Layer (type)                     Output Shape          Param #     Connected to                     \n",
      "====================================================================================================\n",
      "bands (InputLayer)               (None, 75, 75, 3)     0                                            \n",
      "____________________________________________________________________________________________________\n",
      "conv2d_1 (Conv2D)                (None, 73, 73, 32)    896         bands[0][0]                      \n",
      "____________________________________________________________________________________________________\n",
      "batch_normalization_1 (BatchNorm (None, 73, 73, 32)    128         conv2d_1[0][0]                   \n",
      "____________________________________________________________________________________________________\n",
      "conv2d_2 (Conv2D)                (None, 71, 71, 32)    9248        batch_normalization_1[0][0]      \n",
      "____________________________________________________________________________________________________\n",
      "batch_normalization_2 (BatchNorm (None, 71, 71, 32)    128         conv2d_2[0][0]                   \n",
      "____________________________________________________________________________________________________\n",
      "max_pooling2d_1 (MaxPooling2D)   (None, 35, 35, 32)    0           batch_normalization_2[0][0]      \n",
      "____________________________________________________________________________________________________\n",
      "dropout_1 (Dropout)              (None, 35, 35, 32)    0           max_pooling2d_1[0][0]            \n",
      "____________________________________________________________________________________________________\n",
      "conv2d_3 (Conv2D)                (None, 33, 33, 64)    18496       dropout_1[0][0]                  \n",
      "____________________________________________________________________________________________________\n",
      "batch_normalization_3 (BatchNorm (None, 33, 33, 64)    256         conv2d_3[0][0]                   \n",
      "____________________________________________________________________________________________________\n",
      "conv2d_4 (Conv2D)                (None, 31, 31, 64)    36928       batch_normalization_3[0][0]      \n",
      "____________________________________________________________________________________________________\n",
      "batch_normalization_4 (BatchNorm (None, 31, 31, 64)    256         conv2d_4[0][0]                   \n",
      "____________________________________________________________________________________________________\n",
      "max_pooling2d_2 (MaxPooling2D)   (None, 15, 15, 64)    0           batch_normalization_4[0][0]      \n",
      "____________________________________________________________________________________________________\n",
      "dropout_2 (Dropout)              (None, 15, 15, 64)    0           max_pooling2d_2[0][0]            \n",
      "____________________________________________________________________________________________________\n",
      "conv2d_5 (Conv2D)                (None, 13, 13, 128)   73856       dropout_2[0][0]                  \n",
      "____________________________________________________________________________________________________\n",
      "batch_normalization_5 (BatchNorm (None, 13, 13, 128)   512         conv2d_5[0][0]                   \n",
      "____________________________________________________________________________________________________\n",
      "conv2d_6 (Conv2D)                (None, 11, 11, 128)   147584      batch_normalization_5[0][0]      \n",
      "____________________________________________________________________________________________________\n",
      "batch_normalization_6 (BatchNorm (None, 11, 11, 128)   512         conv2d_6[0][0]                   \n",
      "____________________________________________________________________________________________________\n",
      "max_pooling2d_3 (MaxPooling2D)   (None, 5, 5, 128)     0           batch_normalization_6[0][0]      \n",
      "____________________________________________________________________________________________________\n",
      "dropout_3 (Dropout)              (None, 5, 5, 128)     0           max_pooling2d_3[0][0]            \n",
      "____________________________________________________________________________________________________\n",
      "angle (InputLayer)               (None, 1)             0                                            \n",
      "____________________________________________________________________________________________________\n",
      "global_max_pooling2d_1 (GlobalMa (None, 128)           0           dropout_3[0][0]                  \n",
      "____________________________________________________________________________________________________\n",
      "batch_normalization_7 (BatchNorm (None, 1)             4           angle[0][0]                      \n",
      "____________________________________________________________________________________________________\n",
      "concatenate_1 (Concatenate)      (None, 129)           0           global_max_pooling2d_1[0][0]     \n",
      "                                                                   batch_normalization_7[0][0]      \n",
      "____________________________________________________________________________________________________\n",
      "dense_1 (Dense)                  (None, 1024)          133120      concatenate_1[0][0]              \n",
      "____________________________________________________________________________________________________\n",
      "batch_normalization_8 (BatchNorm (None, 1024)          4096        dense_1[0][0]                    \n",
      "____________________________________________________________________________________________________\n",
      "dropout_4 (Dropout)              (None, 1024)          0           batch_normalization_8[0][0]      \n",
      "____________________________________________________________________________________________________\n",
      "dense_2 (Dense)                  (None, 1024)          1049600     dropout_4[0][0]                  \n",
      "____________________________________________________________________________________________________\n",
      "batch_normalization_9 (BatchNorm (None, 1024)          4096        dense_2[0][0]                    \n",
      "____________________________________________________________________________________________________\n",
      "dropout_5 (Dropout)              (None, 1024)          0           batch_normalization_9[0][0]      \n",
      "____________________________________________________________________________________________________\n",
      "dense_3 (Dense)                  (None, 1)             1025        dropout_5[0][0]                  \n",
      "====================================================================================================\n",
      "Total params: 1,480,741\n",
      "Trainable params: 1,475,747\n",
      "Non-trainable params: 4,994\n",
      "____________________________________________________________________________________________________\n"
     ]
    }
   ],
   "source": [
    "model = build_model()\n",
    "model.summary()"
   ]
  },
  {
   "cell_type": "code",
   "execution_count": 23,
   "metadata": {
    "collapsed": true
   },
   "outputs": [],
   "source": [
    "def saveModel(model, run_name):\n",
    "    cwd = os.getcwd()\n",
    "    modelPath = os.path.join(cwd, 'model')\n",
    "    if not os.path.isdir(modelPath):\n",
    "        os.mkdir(modelPath)\n",
    "    weigthsFile = os.path.join(modelPath, run_name + '.h5')\n",
    "    model.save(weigthsFile)\n",
    "saveModel(model, 'saveModel_test')"
   ]
  },
  {
   "cell_type": "code",
   "execution_count": 24,
   "metadata": {},
   "outputs": [
    {
     "name": "stdout",
     "output_type": "stream",
     "text": [
      "log_dir:D:\\Kaggle\\Statoil_C_CORE_Iceberg_Classifier_Challenge\\log\\SC_Iceberg_Classifier_CNN_4channel_20171101_142927\n"
     ]
    }
   ],
   "source": [
    "annealer = LearningRateScheduler(lambda x: 1e-3 * 0.9 ** x)\n",
    "\n",
    "log_dir = os.path.join(log_path, run_name)\n",
    "print('log_dir:' + log_dir)\n",
    "tensorBoard = TensorBoard(log_dir=log_dir)"
   ]
  },
  {
   "cell_type": "code",
   "execution_count": 25,
   "metadata": {},
   "outputs": [
    {
     "name": "stdout",
     "output_type": "stream",
     "text": [
      "Train on 1363 samples, validate on 241 samples\n",
      "Epoch 1/50\n",
      "1363/1363 [==============================] - 27s - loss: 0.7980 - acc: 0.6794 - val_loss: 1.0179 - val_acc: 0.4855\n",
      "Epoch 2/50\n",
      "1363/1363 [==============================] - 24s - loss: 0.6064 - acc: 0.7461 - val_loss: 0.4589 - val_acc: 0.7801\n",
      "Epoch 3/50\n",
      "1363/1363 [==============================] - 24s - loss: 0.5386 - acc: 0.7799 - val_loss: 0.7193 - val_acc: 0.6805\n",
      "Epoch 4/50\n",
      "1363/1363 [==============================] - 24s - loss: 0.4423 - acc: 0.8283 - val_loss: 0.4567 - val_acc: 0.7967\n",
      "Epoch 5/50\n",
      "1363/1363 [==============================] - 24s - loss: 0.4279 - acc: 0.8180 - val_loss: 0.3924 - val_acc: 0.8216\n",
      "Epoch 6/50\n",
      "1363/1363 [==============================] - 24s - loss: 0.3948 - acc: 0.8364 - val_loss: 0.3771 - val_acc: 0.8133\n",
      "Epoch 7/50\n",
      "1363/1363 [==============================] - 24s - loss: 0.4127 - acc: 0.8276 - val_loss: 0.2836 - val_acc: 0.8838\n",
      "Epoch 8/50\n",
      "1363/1363 [==============================] - 24s - loss: 0.3949 - acc: 0.8269 - val_loss: 0.3180 - val_acc: 0.8672\n",
      "Epoch 9/50\n",
      "1363/1363 [==============================] - 24s - loss: 0.3689 - acc: 0.8445 - val_loss: 0.3456 - val_acc: 0.8672\n",
      "Epoch 10/50\n",
      "1363/1363 [==============================] - 24s - loss: 0.2946 - acc: 0.8753 - val_loss: 0.3176 - val_acc: 0.8797\n",
      "Epoch 11/50\n",
      "1363/1363 [==============================] - 25s - loss: 0.3372 - acc: 0.8731 - val_loss: 0.2776 - val_acc: 0.9004\n",
      "Epoch 12/50\n",
      "1363/1363 [==============================] - 24s - loss: 0.3395 - acc: 0.8591 - val_loss: 0.2990 - val_acc: 0.8589\n",
      "Epoch 13/50\n",
      "1363/1363 [==============================] - 24s - loss: 0.3443 - acc: 0.8650 - val_loss: 0.2655 - val_acc: 0.9046\n",
      "Epoch 14/50\n",
      "1363/1363 [==============================] - 24s - loss: 0.2892 - acc: 0.8848 - val_loss: 0.2932 - val_acc: 0.8880\n",
      "Epoch 15/50\n",
      "1363/1363 [==============================] - 24s - loss: 0.3019 - acc: 0.8789 - val_loss: 0.2905 - val_acc: 0.8880\n",
      "Epoch 16/50\n",
      "1363/1363 [==============================] - 24s - loss: 0.2581 - acc: 0.8966 - val_loss: 0.3262 - val_acc: 0.8631\n",
      "Epoch 17/50\n",
      "1363/1363 [==============================] - 24s - loss: 0.2701 - acc: 0.8973 - val_loss: 0.3169 - val_acc: 0.8921\n",
      "Epoch 18/50\n",
      "1363/1363 [==============================] - 24s - loss: 0.2511 - acc: 0.9068 - val_loss: 0.3075 - val_acc: 0.8838\n",
      "Epoch 19/50\n",
      "1363/1363 [==============================] - 24s - loss: 0.2309 - acc: 0.9222 - val_loss: 0.3510 - val_acc: 0.8631\n",
      "Epoch 20/50\n",
      "1363/1363 [==============================] - 24s - loss: 0.2920 - acc: 0.8944 - val_loss: 0.2843 - val_acc: 0.8797\n",
      "Epoch 21/50\n",
      "1363/1363 [==============================] - 24s - loss: 0.2175 - acc: 0.9076 - val_loss: 0.5010 - val_acc: 0.8423\n",
      "Epoch 22/50\n",
      "1363/1363 [==============================] - 24s - loss: 0.2193 - acc: 0.9098 - val_loss: 0.3345 - val_acc: 0.8755\n",
      "Epoch 23/50\n",
      "1363/1363 [==============================] - 24s - loss: 0.2297 - acc: 0.9068 - val_loss: 0.3655 - val_acc: 0.8755\n",
      "Epoch 24/50\n",
      "1363/1363 [==============================] - 24s - loss: 0.2095 - acc: 0.9098 - val_loss: 0.3160 - val_acc: 0.8921\n",
      "Epoch 25/50\n",
      "1363/1363 [==============================] - 24s - loss: 0.2194 - acc: 0.9186 - val_loss: 0.3017 - val_acc: 0.8797\n",
      "Epoch 26/50\n",
      "1363/1363 [==============================] - 24s - loss: 0.1923 - acc: 0.9303 - val_loss: 0.3263 - val_acc: 0.8963\n",
      "Epoch 27/50\n",
      "1363/1363 [==============================] - 24s - loss: 0.1785 - acc: 0.9325 - val_loss: 0.3322 - val_acc: 0.8921\n",
      "Epoch 28/50\n",
      "1363/1363 [==============================] - 24s - loss: 0.2438 - acc: 0.9098 - val_loss: 0.3255 - val_acc: 0.8880\n",
      "Epoch 29/50\n",
      "1363/1363 [==============================] - 24s - loss: 0.1677 - acc: 0.9354 - val_loss: 0.3021 - val_acc: 0.8880\n",
      "Epoch 30/50\n",
      "1363/1363 [==============================] - 24s - loss: 0.1707 - acc: 0.9332 - val_loss: 0.4040 - val_acc: 0.8921\n",
      "Epoch 31/50\n",
      "1363/1363 [==============================] - 24s - loss: 0.1735 - acc: 0.9310 - val_loss: 0.3929 - val_acc: 0.8755\n",
      "Epoch 32/50\n",
      "1363/1363 [==============================] - 24s - loss: 0.1556 - acc: 0.9457 - val_loss: 0.3678 - val_acc: 0.8921\n",
      "Epoch 33/50\n",
      "1363/1363 [==============================] - 24s - loss: 0.1632 - acc: 0.9296 - val_loss: 0.3865 - val_acc: 0.8921\n",
      "Epoch 34/50\n",
      "1363/1363 [==============================] - 24s - loss: 0.1740 - acc: 0.9450 - val_loss: 0.3879 - val_acc: 0.8921\n",
      "Epoch 35/50\n",
      "1363/1363 [==============================] - 24s - loss: 0.1585 - acc: 0.9420 - val_loss: 0.3870 - val_acc: 0.8880\n",
      "Epoch 36/50\n",
      "1363/1363 [==============================] - 24s - loss: 0.1263 - acc: 0.9516 - val_loss: 0.3413 - val_acc: 0.8921\n",
      "Epoch 37/50\n",
      "1363/1363 [==============================] - 24s - loss: 0.1668 - acc: 0.9362 - val_loss: 0.4121 - val_acc: 0.8838\n",
      "Epoch 38/50\n",
      "1363/1363 [==============================] - 24s - loss: 0.1579 - acc: 0.9384 - val_loss: 0.3365 - val_acc: 0.8921\n",
      "Epoch 39/50\n",
      "1363/1363 [==============================] - 24s - loss: 0.1621 - acc: 0.9406 - val_loss: 0.3555 - val_acc: 0.8797\n",
      "Epoch 40/50\n",
      "1363/1363 [==============================] - 24s - loss: 0.1521 - acc: 0.9406 - val_loss: 0.3927 - val_acc: 0.8880\n",
      "Epoch 41/50\n",
      "1363/1363 [==============================] - 24s - loss: 0.1659 - acc: 0.9398 - val_loss: 0.3613 - val_acc: 0.8963\n",
      "Epoch 42/50\n",
      "1363/1363 [==============================] - 24s - loss: 0.1646 - acc: 0.9391 - val_loss: 0.3394 - val_acc: 0.8880\n",
      "Epoch 43/50\n",
      "1363/1363 [==============================] - 24s - loss: 0.1340 - acc: 0.9552 - val_loss: 0.3612 - val_acc: 0.8880\n",
      "Epoch 44/50\n",
      "1363/1363 [==============================] - 24s - loss: 0.1525 - acc: 0.9428 - val_loss: 0.3394 - val_acc: 0.8963\n",
      "Epoch 45/50\n",
      "1363/1363 [==============================] - 25s - loss: 0.1639 - acc: 0.9398 - val_loss: 0.3723 - val_acc: 0.8921\n",
      "Epoch 46/50\n",
      "1363/1363 [==============================] - 24s - loss: 0.1789 - acc: 0.9406 - val_loss: 0.3645 - val_acc: 0.8963\n",
      "Epoch 47/50\n",
      "1363/1363 [==============================] - 24s - loss: 0.1386 - acc: 0.9457 - val_loss: 0.3718 - val_acc: 0.8880\n",
      "Epoch 48/50\n",
      "1363/1363 [==============================] - 24s - loss: 0.1298 - acc: 0.9523 - val_loss: 0.3659 - val_acc: 0.8838\n",
      "Epoch 49/50\n",
      "1363/1363 [==============================] - 24s - loss: 0.1357 - acc: 0.9501 - val_loss: 0.3671 - val_acc: 0.8797\n",
      "Epoch 50/50\n",
      "1363/1363 [==============================] - 24s - loss: 0.1339 - acc: 0.9472 - val_loss: 0.3738 - val_acc: 0.8797\n"
     ]
    }
   ],
   "source": [
    "hist = model.fit([x_train, inc_angle_train], y_train, \n",
    "                 batch_size = 8, \n",
    "                 verbose= 1,\n",
    "                 epochs = 50, #1 for ETA, 0 for silent\n",
    "                 validation_data=([x_val, inc_angle_val], y_val),\n",
    "                 callbacks=[annealer, tensorBoard])"
   ]
  },
  {
   "cell_type": "code",
   "execution_count": 26,
   "metadata": {},
   "outputs": [
    {
     "name": "stdout",
     "output_type": "stream",
     "text": [
      "241/241 [==============================] - 1s     \n",
      "Final loss: 0.3738, final accuracy: 0.8797\n"
     ]
    }
   ],
   "source": [
    "final_loss, final_acc = model.evaluate([x_val, inc_angle_val], y_val, verbose=1)\n",
    "print(\"Final loss: {0:.4f}, final accuracy: {1:.4f}\".format(final_loss, final_acc))"
   ]
  },
  {
   "cell_type": "code",
   "execution_count": 27,
   "metadata": {},
   "outputs": [
    {
     "name": "stdout",
     "output_type": "stream",
     "text": [
      "Val log_loss: 0.37382764037461147\n",
      "Val log_loss: 0.3326194518674706\n"
     ]
    }
   ],
   "source": [
    "val_prob1 = model.predict([x_val, inc_angle_val])\n",
    "\n",
    "# print('Val log_loss: {}'.format(log_loss(y_val, val_prob1)))\n",
    "val_prob1_limit = np.clip(val_prob1, 0.00005, 0.99995)\n",
    "loss = log_loss(y_val, val_prob1_limit)\n",
    "print('Val log_loss: {}'.format(loss))\n",
    "\n",
    "val_prob1_limit = np.clip(val_prob1_limit, 0.05, 0.95)\n",
    "loss = log_loss(y_val, val_prob1_limit)\n",
    "print('Val log_loss: {}'.format(loss))"
   ]
  },
  {
   "cell_type": "code",
   "execution_count": 28,
   "metadata": {},
   "outputs": [
    {
     "name": "stdout",
     "output_type": "stream",
     "text": [
      "SC_Iceberg_Classifier_CNN_4channel_20171101_142927_3326\n"
     ]
    }
   ],
   "source": [
    "final_acc_str = str(int(loss*10000))\n",
    "run_name_acc = project_name + '_' + step_name + '_' + time_str + '_' + final_acc_str\n",
    "print(run_name_acc)"
   ]
  },
  {
   "cell_type": "code",
   "execution_count": 29,
   "metadata": {},
   "outputs": [
    {
     "name": "stdout",
     "output_type": "stream",
     "text": [
      "Index(['acc', 'loss', 'val_acc', 'val_loss', 'epoch'], dtype='object')\n"
     ]
    }
   ],
   "source": [
    "histories = pd.DataFrame(hist.history)\n",
    "histories['epoch'] = hist.epoch\n",
    "print(histories.columns)\n",
    "histories_file = os.path.join(model_path, run_name_acc + '.csv')\n",
    "histories.to_csv(histories_file, index=False)"
   ]
  },
  {
   "cell_type": "code",
   "execution_count": 30,
   "metadata": {},
   "outputs": [
    {
     "data": {
      "image/png": "[encoded data removed]",
      "text/plain": [
       "<matplotlib.figure.Figure at 0x1c620f6beb8>"
      ]
     },
     "metadata": {},
     "output_type": "display_data"
    },
    {
     "data": {
      "image/png": "[encoded data removed]",
      "text/plain": [
       "<matplotlib.figure.Figure at 0x1c620f44128>"
      ]
     },
     "metadata": {},
     "output_type": "display_data"
    }
   ],
   "source": [
    "plt.plot(histories['loss'], color='b')\n",
    "plt.plot(histories['val_loss'], color='r')\n",
    "plt.show()\n",
    "plt.plot(histories['acc'], color='b')\n",
    "plt.plot(histories['val_acc'], color='r')\n",
    "plt.show()"
   ]
  },
  {
   "cell_type": "code",
   "execution_count": 31,
   "metadata": {
    "collapsed": true
   },
   "outputs": [],
   "source": [
    "saveModel(model, run_name_acc)"
   ]
  },
  {
   "cell_type": "markdown",
   "metadata": {},
   "source": [
    "## 3. Predict"
   ]
  },
  {
   "cell_type": "code",
   "execution_count": 32,
   "metadata": {},
   "outputs": [
    {
     "name": "stdout",
     "output_type": "stream",
     "text": [
      "D:\\Kaggle\\Statoil_C_CORE_Iceberg_Classifier_Challenge\\output\\SC_Iceberg_Classifier_CNN_4channel_20171101_142927_3326.csv\n"
     ]
    }
   ],
   "source": [
    "if not os.path.exists(output_path):\n",
    "    os.mkdir(output_path)\n",
    "pred_file = os.path.join(output_path, run_name_acc + '.csv')\n",
    "print(pred_file)"
   ]
  },
  {
   "cell_type": "code",
   "execution_count": 33,
   "metadata": {},
   "outputs": [
    {
     "name": "stdout",
     "output_type": "stream",
     "text": [
      "(8424, 1)\n",
      "[[ 0.00373735]\n",
      " [ 0.2423747 ]]\n",
      "(8424, 1)\n",
      "[[ 0.05     ]\n",
      " [ 0.2423747]]\n"
     ]
    }
   ],
   "source": [
    "test_prob = model.predict([x_test, inc_angle_test])\n",
    "print(test_prob.shape)\n",
    "print(test_prob[0:2])\n",
    "test_prob = np.clip(test_prob, 0.05, 0.95)\n",
    "print(test_prob.shape)\n",
    "print(test_prob[0:2])"
   ]
  },
  {
   "cell_type": "code",
   "execution_count": 34,
   "metadata": {},
   "outputs": [
    {
     "name": "stdout",
     "output_type": "stream",
     "text": [
      "         id  is_iceberg\n",
      "0  5941774d    0.050000\n",
      "1  4023181e    0.242375\n",
      "(8424, 2)\n"
     ]
    }
   ],
   "source": [
    "sample_submission['is_iceberg'] = test_prob\n",
    "print(sample_submission[0:2])\n",
    "print(sample_submission.shape)\n",
    "sample_submission.to_csv(pred_file, index=False)"
   ]
  },
  {
   "cell_type": "code",
   "execution_count": 35,
   "metadata": {},
   "outputs": [
    {
     "name": "stdout",
     "output_type": "stream",
     "text": [
      "SC_Iceberg_Classifier_CNN_4channel_20171101_142927_3326\n",
      "Done!\n"
     ]
    }
   ],
   "source": [
    "print(run_name_acc)\n",
    "print('Done!')"
   ]
  },
  {
   "cell_type": "code",
   "execution_count": null,
   "metadata": {
    "collapsed": true
   },
   "outputs": [],
   "source": []
  }
 ],
 "metadata": {
  "kernelspec": {
   "display_name": "Python 3",
   "language": "python",
   "name": "python3"
  },
  "language_info": {
   "codemirror_mode": {
    "name": "ipython",
    "version": 3
   },
   "file_extension": ".py",
   "mimetype": "text/x-python",
   "name": "python",
   "nbconvert_exporter": "python",
   "pygments_lexer": "ipython3",
   "version": "3.5.4"
  }
 },
 "nbformat": 4,
 "nbformat_minor": 2
}
