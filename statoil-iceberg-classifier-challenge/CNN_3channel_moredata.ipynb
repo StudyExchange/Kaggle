{
 "cells": [
  {
   "cell_type": "markdown",
   "metadata": {},
   "source": [
    "# CNN_3channel_moredata\n",
    "\n",
    "Abstract:\n",
    "- Conv的kernel_size有(1, 1)和(2, 2)\n",
    "- single channel: band_avg\n",
    "- CNN, small net\n",
    "\n",
    "Result:\n",
    "- Kaggle score: \n",
    "\n",
    "References:\n",
    "- https://www.kaggle.com/ivalmian/simple-svd-xgboost-baseline-lb-35\n",
    "- https://www.kaggle.com/arieltci/a-keras-prototype-0-21174-on-pl"
   ]
  },
  {
   "cell_type": "markdown",
   "metadata": {},
   "source": [
    "## 1. Preprocess"
   ]
  },
  {
   "cell_type": "markdown",
   "metadata": {},
   "source": [
    "### Import pkgs"
   ]
  },
  {
   "cell_type": "code",
   "execution_count": 1,
   "metadata": {},
   "outputs": [],
   "source": [
    "import numpy as np\n",
    "import pandas as pd\n",
    "import matplotlib.pyplot as plt\n",
    "import seaborn as sns\n",
    "from sklearn.model_selection import train_test_split\n",
    "from sklearn.ensemble import GradientBoostingClassifier\n",
    "from sklearn.preprocessing import MinMaxScaler\n",
    "from sklearn.metrics import log_loss, accuracy_score\n",
    "from IPython.display import display\n",
    "\n",
    "%matplotlib inline"
   ]
  },
  {
   "cell_type": "code",
   "execution_count": 2,
   "metadata": {},
   "outputs": [],
   "source": [
    "import os\n",
    "import time\n",
    "import zipfile\n",
    "import lzma\n",
    "import pickle\n",
    "from PIL import Image\n",
    "from shutil import copy2\n",
    "import gc\n",
    "\n",
    "import cv2"
   ]
  },
  {
   "cell_type": "markdown",
   "metadata": {},
   "source": [
    "### Run name"
   ]
  },
  {
   "cell_type": "code",
   "execution_count": 3,
   "metadata": {},
   "outputs": [
    {
     "name": "stdout",
     "output_type": "stream",
     "text": [
      "run_name: SC_Iceberg_Classifier_CNN_3channel_moredata_20180106_102124\n"
     ]
    }
   ],
   "source": [
    "project_name = 'SC_Iceberg_Classifier'\n",
    "step_name = 'CNN_3channel_moredata'\n",
    "date_str = time.strftime(\"%Y%m%d\", time.localtime())\n",
    "time_str = time.strftime(\"%Y%m%d_%H%M%S\", time.localtime())\n",
    "run_name = project_name + '_' + step_name + '_' + time_str\n",
    "print('run_name: ' + run_name)\n",
    "t0 = time.time()"
   ]
  },
  {
   "cell_type": "markdown",
   "metadata": {},
   "source": [
    "### Basic folders"
   ]
  },
  {
   "cell_type": "code",
   "execution_count": 4,
   "metadata": {},
   "outputs": [
    {
     "name": "stdout",
     "output_type": "stream",
     "text": [
      "input_path: /data1/Kaggle/statoil-iceberg-classifier-challenge/input\n",
      "log_path: /data1/Kaggle/statoil-iceberg-classifier-challenge/log\n",
      "model_path: /data1/Kaggle/statoil-iceberg-classifier-challenge/model\n",
      "output_path: /data1/Kaggle/statoil-iceberg-classifier-challenge/output\n"
     ]
    }
   ],
   "source": [
    "cwd = os.getcwd()\n",
    "input_path = os.path.join(cwd, 'input')\n",
    "log_path = os.path.join(cwd, 'log')\n",
    "model_path = os.path.join(cwd, 'model')\n",
    "output_path = os.path.join(cwd, 'output')\n",
    "print('input_path: ' + input_path)\n",
    "print('log_path: ' + log_path)\n",
    "print('model_path: ' + model_path)\n",
    "print('output_path: ' + output_path)"
   ]
  },
  {
   "cell_type": "markdown",
   "metadata": {},
   "source": [
    "### Basic functions"
   ]
  },
  {
   "cell_type": "code",
   "execution_count": 5,
   "metadata": {},
   "outputs": [],
   "source": [
    "import sys\n",
    "def describe(arr):\n",
    "    print(arr.shape, arr.min(), arr.max(), sys.getsizeof(arr))"
   ]
  },
  {
   "cell_type": "markdown",
   "metadata": {},
   "source": [
    "### Load data"
   ]
  },
  {
   "cell_type": "code",
   "execution_count": 6,
   "metadata": {},
   "outputs": [
    {
     "name": "stdout",
     "output_type": "stream",
     "text": [
      "(8424, 2)\n"
     ]
    },
    {
     "data": {
      "text/html": [
       "<div>\n",
       "<style scoped>\n",
       "    .dataframe tbody tr th:only-of-type {\n",
       "        vertical-align: middle;\n",
       "    }\n",
       "\n",
       "    .dataframe tbody tr th {\n",
       "        vertical-align: top;\n",
       "    }\n",
       "\n",
       "    .dataframe thead th {\n",
       "        text-align: right;\n",
       "    }\n",
       "</style>\n",
       "<table border=\"1\" class=\"dataframe\">\n",
       "  <thead>\n",
       "    <tr style=\"text-align: right;\">\n",
       "      <th></th>\n",
       "      <th>id</th>\n",
       "      <th>is_iceberg</th>\n",
       "    </tr>\n",
       "  </thead>\n",
       "  <tbody>\n",
       "    <tr>\n",
       "      <th>0</th>\n",
       "      <td>5941774d</td>\n",
       "      <td>0.5</td>\n",
       "    </tr>\n",
       "    <tr>\n",
       "      <th>1</th>\n",
       "      <td>4023181e</td>\n",
       "      <td>0.5</td>\n",
       "    </tr>\n",
       "  </tbody>\n",
       "</table>\n",
       "</div>"
      ],
      "text/plain": [
       "         id  is_iceberg\n",
       "0  5941774d         0.5\n",
       "1  4023181e         0.5"
      ]
     },
     "execution_count": 6,
     "metadata": {},
     "output_type": "execute_result"
    }
   ],
   "source": [
    "sample_submission_path = os.path.join(input_path, 'sample_submission.csv')\n",
    "sample_submission = pd.read_csv(sample_submission_path)\n",
    "print(sample_submission.shape)\n",
    "sample_submission.head(2)"
   ]
  },
  {
   "cell_type": "code",
   "execution_count": 7,
   "metadata": {},
   "outputs": [
    {
     "name": "stdout",
     "output_type": "stream",
     "text": [
      "(1604,) 0 1 25688\n"
     ]
    }
   ],
   "source": [
    "is_iceberg_path = os.path.join(input_path, 'is_iceberg.p')\n",
    "\n",
    "y_data = pickle.load(open(is_iceberg_path, mode='rb'))\n",
    "\n",
    "describe(y_data)"
   ]
  },
  {
   "cell_type": "code",
   "execution_count": 8,
   "metadata": {},
   "outputs": [
    {
     "name": "stdout",
     "output_type": "stream",
     "text": [
      "(1604,)\n",
      "(8424,)\n",
      "CPU times: user 0 ns, sys: 4 ms, total: 4 ms\n",
      "Wall time: 1.06 ms\n"
     ]
    }
   ],
   "source": [
    "%%time\n",
    "#Load orignal data\n",
    "inc_angle_data_path = os.path.join(input_path, 'inc_angle_data.p')\n",
    "inc_angle_test_path = os.path.join(input_path, 'inc_angle_test.p')\n",
    "\n",
    "inc_angle_data = pickle.load(open(inc_angle_data_path, mode='rb'))\n",
    "inc_angle_test = pickle.load(open(inc_angle_test_path, mode='rb'))\n",
    "\n",
    "print(inc_angle_data.shape)\n",
    "print(inc_angle_test.shape)"
   ]
  },
  {
   "cell_type": "code",
   "execution_count": 9,
   "metadata": {},
   "outputs": [
    {
     "name": "stdout",
     "output_type": "stream",
     "text": [
      "(1604, 75, 75) -45.594448 34.574917 128\n",
      "(1604, 75, 75) -45.655499 20.154249 128\n",
      "(8424, 75, 75) -45.6805458069 37.090523 128\n",
      "(8424, 75, 75) -49.0835 37.0905227661 128\n",
      "(1604, 75, 75) -39.1164895 27.364583 72180128\n",
      "(8424, 75, 75) -43.3067741394 35.3033447266 379080128\n",
      "CPU times: user 624 ms, sys: 1.02 s, total: 1.64 s\n",
      "Wall time: 1.63 s\n"
     ]
    }
   ],
   "source": [
    "%%time\n",
    "#Load orignal data\n",
    "band1_data_path = os.path.join(input_path, 'band1_data.p')\n",
    "band2_data_path = os.path.join(input_path, 'band2_data.p')\n",
    "band1_test_path = os.path.join(input_path, 'band1_test.p')\n",
    "band2_test_path = os.path.join(input_path, 'band2_test.p')\n",
    "\n",
    "band1_data = pickle.load(open(band1_data_path, mode='rb'))\n",
    "band2_data = pickle.load(open(band2_data_path, mode='rb'))\n",
    "band1_test = pickle.load(open(band1_test_path, mode='rb'))\n",
    "band2_test = pickle.load(open(band2_test_path, mode='rb'))\n",
    "\n",
    "band_avg_data = (band1_data + band2_data)/2\n",
    "band_avg_test = (band1_test + band2_test)/2\n",
    "\n",
    "describe(band1_data)\n",
    "describe(band2_data)\n",
    "describe(band1_test)\n",
    "describe(band2_test)\n",
    "\n",
    "describe(band_avg_data)\n",
    "describe(band_avg_test)"
   ]
  },
  {
   "cell_type": "code",
   "execution_count": 10,
   "metadata": {},
   "outputs": [
    {
     "name": "stdout",
     "output_type": "stream",
     "text": [
      "(1604, 75, 75, 3) -45.655499 34.574917 216540144\n",
      "(8424, 75, 75, 3) -49.0835 37.090523 1137240144\n",
      "CPU times: user 780 ms, sys: 496 ms, total: 1.28 s\n",
      "Wall time: 1.27 s\n"
     ]
    }
   ],
   "source": [
    "%%time\n",
    "x_data = np.concatenate([band1_data[:, :, :, np.newaxis],\n",
    "                         band2_data[:, :, :, np.newaxis],\n",
    "                         band_avg_data[:, :, :, np.newaxis]], axis=-1)\n",
    "describe(x_data)\n",
    "# del band1_data\n",
    "# del band2_data\n",
    "# del band_avg_data\n",
    "gc.collect()\n",
    "\n",
    "x_test = np.concatenate([band1_test[:, :, :, np.newaxis],\n",
    "                         band2_test[:, :, :, np.newaxis],\n",
    "                         band_avg_test[:, :, :, np.newaxis]], axis=-1)\n",
    "describe(x_test)\n",
    "# del band1_test\n",
    "# del band2_test\n",
    "# del band_avg_test\n",
    "gc.collect()"
   ]
  },
  {
   "cell_type": "code",
   "execution_count": 11,
   "metadata": {},
   "outputs": [
    {
     "name": "stdout",
     "output_type": "stream",
     "text": [
      "(1443, 75, 75, 3) -45.655499 34.574917 194805144\n",
      "(161, 75, 75, 3) -43.190331 25.566628 21735144\n",
      "(1443,) 0 1 23112\n",
      "(161,) 0 1 2600\n",
      "CPU times: user 68 ms, sys: 80 ms, total: 148 ms\n",
      "Wall time: 145 ms\n"
     ]
    }
   ],
   "source": [
    "%%time\n",
    "x_train, x_val, y_train, y_val = train_test_split(x_data, y_data, test_size=0.1, random_state=31)\n",
    "\n",
    "describe(x_train)\n",
    "describe(x_val)\n",
    "\n",
    "describe(y_train)\n",
    "describe(y_val)"
   ]
  },
  {
   "cell_type": "markdown",
   "metadata": {},
   "source": [
    "## 2. Build model"
   ]
  },
  {
   "cell_type": "code",
   "execution_count": 12,
   "metadata": {},
   "outputs": [
    {
     "name": "stderr",
     "output_type": "stream",
     "text": [
      "Using TensorFlow backend.\n"
     ]
    }
   ],
   "source": [
    "from keras.utils.np_utils import to_categorical # convert to one-hot-encoding\n",
    "from keras.models import Sequential, Model\n",
    "from keras.layers import Dense, Dropout, Flatten, Conv2D, MaxPooling2D, GlobalMaxPooling2D, BatchNormalization, Input\n",
    "from keras.layers.merge import Concatenate\n",
    "from keras.optimizers import Adam\n",
    "from keras.preprocessing.image import ImageDataGenerator\n",
    "from keras.callbacks import LearningRateScheduler, TensorBoard"
   ]
  },
  {
   "cell_type": "code",
   "execution_count": 13,
   "metadata": {},
   "outputs": [],
   "source": [
    "def build_model():\n",
    "    model = Sequential()\n",
    "\n",
    "    model.add(Conv2D(filters = 8, kernel_size = (2, 2), activation='relu',\n",
    "                     input_shape = (x_train.shape[1], x_train.shape[2], x_train.shape[3])))\n",
    "    model.add(BatchNormalization())\n",
    "    model.add(Conv2D(filters = 8, kernel_size = (2, 2), activation='relu'))\n",
    "    model.add(BatchNormalization())\n",
    "    model.add(MaxPooling2D(strides=(2,2)))\n",
    "    model.add(Dropout(0.4))\n",
    "\n",
    "    model.add(Conv2D(filters = 16, kernel_size = (2, 2), activation='relu'))\n",
    "    model.add(BatchNormalization())\n",
    "    model.add(Conv2D(filters = 16, kernel_size = (2, 2), activation='relu'))\n",
    "    model.add(BatchNormalization())\n",
    "    model.add(MaxPooling2D(strides=(2,2)))\n",
    "    model.add(Dropout(0.4))\n",
    "\n",
    "    model.add(Conv2D(filters = 32, kernel_size = (2, 2), activation='relu'))\n",
    "    model.add(BatchNormalization())\n",
    "    model.add(Conv2D(filters = 32, kernel_size = (2, 2), activation='relu'))\n",
    "    model.add(BatchNormalization())\n",
    "    model.add(MaxPooling2D(strides=(2,2)))\n",
    "    model.add(Dropout(0.4))\n",
    "    \n",
    "    model.add(Flatten())\n",
    "    model.add(Dense(256, activation='relu'))\n",
    "    model.add(Dropout(0.4))\n",
    "    model.add(Dense(256, activation='relu'))\n",
    "    model.add(Dropout(0.4))\n",
    "    model.add(Dense(32, activation='relu'))\n",
    "    model.add(Dropout(0.4))\n",
    "    model.add(Dense(units = 1, activation = 'sigmoid'))\n",
    "\n",
    "    model.compile(optimizer = Adam(lr=1e-4), loss = 'binary_crossentropy', metrics = ['accuracy'])\n",
    "    return model"
   ]
  },
  {
   "cell_type": "code",
   "execution_count": 14,
   "metadata": {},
   "outputs": [
    {
     "name": "stdout",
     "output_type": "stream",
     "text": [
      "_________________________________________________________________\n",
      "Layer (type)                 Output Shape              Param #   \n",
      "=================================================================\n",
      "conv2d_1 (Conv2D)            (None, 74, 74, 8)         104       \n",
      "_________________________________________________________________\n",
      "batch_normalization_1 (Batch (None, 74, 74, 8)         32        \n",
      "_________________________________________________________________\n",
      "conv2d_2 (Conv2D)            (None, 73, 73, 8)         264       \n",
      "_________________________________________________________________\n",
      "batch_normalization_2 (Batch (None, 73, 73, 8)         32        \n",
      "_________________________________________________________________\n",
      "max_pooling2d_1 (MaxPooling2 (None, 36, 36, 8)         0         \n",
      "_________________________________________________________________\n",
      "dropout_1 (Dropout)          (None, 36, 36, 8)         0         \n",
      "_________________________________________________________________\n",
      "conv2d_3 (Conv2D)            (None, 35, 35, 16)        528       \n",
      "_________________________________________________________________\n",
      "batch_normalization_3 (Batch (None, 35, 35, 16)        64        \n",
      "_________________________________________________________________\n",
      "conv2d_4 (Conv2D)            (None, 34, 34, 16)        1040      \n",
      "_________________________________________________________________\n",
      "batch_normalization_4 (Batch (None, 34, 34, 16)        64        \n",
      "_________________________________________________________________\n",
      "max_pooling2d_2 (MaxPooling2 (None, 17, 17, 16)        0         \n",
      "_________________________________________________________________\n",
      "dropout_2 (Dropout)          (None, 17, 17, 16)        0         \n",
      "_________________________________________________________________\n",
      "conv2d_5 (Conv2D)            (None, 16, 16, 32)        2080      \n",
      "_________________________________________________________________\n",
      "batch_normalization_5 (Batch (None, 16, 16, 32)        128       \n",
      "_________________________________________________________________\n",
      "conv2d_6 (Conv2D)            (None, 15, 15, 32)        4128      \n",
      "_________________________________________________________________\n",
      "batch_normalization_6 (Batch (None, 15, 15, 32)        128       \n",
      "_________________________________________________________________\n",
      "max_pooling2d_3 (MaxPooling2 (None, 7, 7, 32)          0         \n",
      "_________________________________________________________________\n",
      "dropout_3 (Dropout)          (None, 7, 7, 32)          0         \n",
      "_________________________________________________________________\n",
      "flatten_1 (Flatten)          (None, 1568)              0         \n",
      "_________________________________________________________________\n",
      "dense_1 (Dense)              (None, 256)               401664    \n",
      "_________________________________________________________________\n",
      "dropout_4 (Dropout)          (None, 256)               0         \n",
      "_________________________________________________________________\n",
      "dense_2 (Dense)              (None, 256)               65792     \n",
      "_________________________________________________________________\n",
      "dropout_5 (Dropout)          (None, 256)               0         \n",
      "_________________________________________________________________\n",
      "dense_3 (Dense)              (None, 32)                8224      \n",
      "_________________________________________________________________\n",
      "dropout_6 (Dropout)          (None, 32)                0         \n",
      "_________________________________________________________________\n",
      "dense_4 (Dense)              (None, 1)                 33        \n",
      "=================================================================\n",
      "Total params: 484,305\n",
      "Trainable params: 484,081\n",
      "Non-trainable params: 224\n",
      "_________________________________________________________________\n"
     ]
    }
   ],
   "source": [
    "model = build_model()\n",
    "model.summary()"
   ]
  },
  {
   "cell_type": "code",
   "execution_count": 15,
   "metadata": {},
   "outputs": [],
   "source": [
    "def saveModel(model, run_name):\n",
    "    cwd = os.getcwd()\n",
    "    modelPath = os.path.join(cwd, 'model')\n",
    "    if not os.path.isdir(modelPath):\n",
    "        os.mkdir(modelPath)\n",
    "    weigthsFile = os.path.join(modelPath, run_name + '.h5')\n",
    "    model.save(weigthsFile)\n",
    "# saveModel(model, 'saveModel_test')"
   ]
  },
  {
   "cell_type": "code",
   "execution_count": 16,
   "metadata": {},
   "outputs": [
    {
     "name": "stdout",
     "output_type": "stream",
     "text": [
      "log_dir:/data1/Kaggle/statoil-iceberg-classifier-challenge/log/SC_Iceberg_Classifier_CNN_3channel_moredata_20180106_102124\n"
     ]
    }
   ],
   "source": [
    "def get_lr(x):\n",
    "    lr = round(1e-4 * 0.99 ** x, 6)\n",
    "    if lr < 5e-5:\n",
    "        lr = 5e-5\n",
    "    print(lr, end='  ')\n",
    "    return lr\n",
    "\n",
    "# annealer = LearningRateScheduler(lambda x: 1e-3 * 0.9 ** x)\n",
    "annealer = LearningRateScheduler(get_lr)\n",
    "\n",
    "log_dir = os.path.join(log_path, run_name)\n",
    "print('log_dir:' + log_dir)\n",
    "tensorBoard = TensorBoard(log_dir=log_dir)"
   ]
  },
  {
   "cell_type": "code",
   "execution_count": 17,
   "metadata": {},
   "outputs": [],
   "source": [
    "# datagen = ImageDataGenerator(\n",
    "#     rotation_range=10,\n",
    "#     width_shift_range=0.2,\n",
    "#     height_shift_range=0.2,\n",
    "#     horizontal_flip=True,\n",
    "#     vertical_flip=True\n",
    "# )\n",
    "\n",
    "# datagen = ImageDataGenerator(\n",
    "#     featurewise_center=True,\n",
    "#     featurewise_std_normalization=True,\n",
    "#     rotation_range=20,\n",
    "#     width_shift_range=0.2,\n",
    "#     height_shift_range=0.2,\n",
    "#     horizontal_flip=True)"
   ]
  },
  {
   "cell_type": "code",
   "execution_count": null,
   "metadata": {},
   "outputs": [],
   "source": [
    "# %%time\n",
    "# batch_size = 32\n",
    "# steps_per_epoch = 1 * len(x_train) / batch_size\n",
    "# hist = model.fit_generator(datagen.flow(x_train, y_train, batch_size=batch_size, shuffle = False),\n",
    "#                            steps_per_epoch=100, \n",
    "#                            epochs = 50, #1 for ETA, 0 for silent\n",
    "#                            verbose= 1,\n",
    "#                            max_queue_size= 64, \n",
    "#                            workers= 8,\n",
    "#                            validation_data=(x_val, y_val))"
   ]
  },
  {
   "cell_type": "code",
   "execution_count": null,
   "metadata": {},
   "outputs": [
    {
     "name": "stdout",
     "output_type": "stream",
     "text": [
      "Train on 1443 samples, validate on 161 samples\n",
      "Epoch 1/100\n",
      "1443/1443 [==============================] - 14s 10ms/step - loss: 1.1163 - acc: 0.4893 - val_loss: 0.6869 - val_acc: 0.5404\n",
      "Epoch 2/100\n",
      "1443/1443 [==============================] - 10s 7ms/step - loss: 0.7917 - acc: 0.5198 - val_loss: 0.6886 - val_acc: 0.5714\n",
      "Epoch 3/100\n",
      "1443/1443 [==============================] - 10s 7ms/step - loss: 0.7207 - acc: 0.5495 - val_loss: 0.6893 - val_acc: 0.5155\n",
      "Epoch 4/100\n",
      "1443/1443 [==============================] - 10s 7ms/step - loss: 0.7235 - acc: 0.5260 - val_loss: 0.6842 - val_acc: 0.5466\n",
      "Epoch 5/100\n",
      "1443/1443 [==============================] - 10s 7ms/step - loss: 0.6906 - acc: 0.5669 - val_loss: 0.6794 - val_acc: 0.5776\n",
      "Epoch 6/100\n",
      "1443/1443 [==============================] - 10s 7ms/step - loss: 0.6880 - acc: 0.5613 - val_loss: 0.6814 - val_acc: 0.5404\n",
      "Epoch 7/100\n",
      "1443/1443 [==============================] - 10s 7ms/step - loss: 0.6712 - acc: 0.5780 - val_loss: 0.6664 - val_acc: 0.5901\n",
      "Epoch 8/100\n",
      "1443/1443 [==============================] - 10s 7ms/step - loss: 0.6655 - acc: 0.6043 - val_loss: 0.6676 - val_acc: 0.5901\n",
      "Epoch 9/100\n",
      "1443/1443 [==============================] - 10s 7ms/step - loss: 0.6499 - acc: 0.5988 - val_loss: 0.6551 - val_acc: 0.5963\n",
      "Epoch 10/100\n",
      "1443/1443 [==============================] - 10s 7ms/step - loss: 0.6399 - acc: 0.6202 - val_loss: 0.6430 - val_acc: 0.6025\n",
      "Epoch 11/100\n",
      "1443/1443 [==============================] - 10s 7ms/step - loss: 0.6322 - acc: 0.6306 - val_loss: 0.6373 - val_acc: 0.6025\n",
      "Epoch 12/100\n",
      "1443/1443 [==============================] - 10s 7ms/step - loss: 0.6284 - acc: 0.6244 - val_loss: 0.6390 - val_acc: 0.6025\n",
      "Epoch 13/100\n",
      "1443/1443 [==============================] - 10s 7ms/step - loss: 0.6309 - acc: 0.6396 - val_loss: 0.6265 - val_acc: 0.6211\n",
      "Epoch 14/100\n",
      "1443/1443 [==============================] - 10s 7ms/step - loss: 0.6052 - acc: 0.6694 - val_loss: 0.6168 - val_acc: 0.6335\n",
      "Epoch 15/100\n",
      "1443/1443 [==============================] - 10s 7ms/step - loss: 0.5944 - acc: 0.6840 - val_loss: 0.6155 - val_acc: 0.6335\n",
      "Epoch 16/100\n",
      "1443/1443 [==============================] - 10s 7ms/step - loss: 0.5999 - acc: 0.6757 - val_loss: 0.6050 - val_acc: 0.6894\n",
      "Epoch 17/100\n",
      "1443/1443 [==============================] - 10s 7ms/step - loss: 0.5910 - acc: 0.6992 - val_loss: 0.6168 - val_acc: 0.6398\n",
      "Epoch 18/100\n",
      "1443/1443 [==============================] - 10s 7ms/step - loss: 0.5741 - acc: 0.6944 - val_loss: 0.6175 - val_acc: 0.6522\n",
      "Epoch 19/100\n",
      "1443/1443 [==============================] - 10s 7ms/step - loss: 0.5700 - acc: 0.7013 - val_loss: 0.6029 - val_acc: 0.6584\n",
      "Epoch 20/100\n",
      "1443/1443 [==============================] - 10s 7ms/step - loss: 0.5620 - acc: 0.7124 - val_loss: 0.5879 - val_acc: 0.6957\n",
      "Epoch 21/100\n",
      "1443/1443 [==============================] - 10s 7ms/step - loss: 0.5495 - acc: 0.7186 - val_loss: 0.5827 - val_acc: 0.7019\n",
      "Epoch 22/100\n",
      "1443/1443 [==============================] - 10s 7ms/step - loss: 0.5483 - acc: 0.7242 - val_loss: 0.5838 - val_acc: 0.6832\n",
      "Epoch 23/100\n",
      "1443/1443 [==============================] - 10s 7ms/step - loss: 0.5421 - acc: 0.7249 - val_loss: 0.5836 - val_acc: 0.6832\n",
      "Epoch 24/100\n",
      "1443/1443 [==============================] - 10s 7ms/step - loss: 0.5225 - acc: 0.7457 - val_loss: 0.5663 - val_acc: 0.7019\n",
      "Epoch 25/100\n",
      "1443/1443 [==============================] - 10s 7ms/step - loss: 0.5067 - acc: 0.7498 - val_loss: 0.5560 - val_acc: 0.6957\n",
      "Epoch 26/100\n",
      "1443/1443 [==============================] - 10s 7ms/step - loss: 0.5148 - acc: 0.7484 - val_loss: 0.5658 - val_acc: 0.7019\n",
      "Epoch 27/100\n",
      " 292/1443 [=====>........................] - ETA: 7s - loss: 0.5120 - acc: 0.7500"
     ]
    }
   ],
   "source": [
    "%%time\n",
    "hist = model.fit(x_train, y_train, \n",
    "                 batch_size = 4, \n",
    "                 verbose= 1,\n",
    "#                  callbacks = [annealer],\n",
    "                 epochs = 100, #1 for ETA, 0 for silent\n",
    "                 validation_data=(x_val, y_val))"
   ]
  },
  {
   "cell_type": "code",
   "execution_count": null,
   "metadata": {},
   "outputs": [],
   "source": [
    "final_loss, final_acc = model.evaluate(x_val, y_val, verbose=1)\n",
    "print(\"Final loss: {0:.4f}, final accuracy: {1:.4f}\".format(final_loss, final_acc))"
   ]
  },
  {
   "cell_type": "code",
   "execution_count": null,
   "metadata": {},
   "outputs": [],
   "source": [
    "val_prob1 = model.predict(x_val)\n",
    "\n",
    "# print('Val log_loss: {}'.format(log_loss(y_val, val_prob1)))\n",
    "val_prob1_limit = np.clip(val_prob1, 0.00005, 0.99995)\n",
    "loss = log_loss(y_val, val_prob1_limit)\n",
    "print('Val log_loss: {}'.format(loss))\n",
    "\n",
    "val_prob1_limit = np.clip(val_prob1_limit, 0.05, 0.95)\n",
    "loss = log_loss(y_val, val_prob1_limit)\n",
    "print('Val log_loss: {}'.format(loss))"
   ]
  },
  {
   "cell_type": "code",
   "execution_count": null,
   "metadata": {},
   "outputs": [],
   "source": [
    "final_acc_str = str(int(loss*10000))\n",
    "run_name_acc = project_name + '_' + step_name + '_' + time_str + '_' + final_acc_str\n",
    "print(run_name_acc)"
   ]
  },
  {
   "cell_type": "code",
   "execution_count": null,
   "metadata": {},
   "outputs": [],
   "source": [
    "histories = pd.DataFrame(hist.history)\n",
    "histories['epoch'] = hist.epoch\n",
    "print(histories.columns)\n",
    "histories_file = os.path.join(model_path, run_name_acc + '.csv')\n",
    "histories.to_csv(histories_file, index=False)"
   ]
  },
  {
   "cell_type": "code",
   "execution_count": null,
   "metadata": {},
   "outputs": [],
   "source": [
    "plt.plot(histories['loss'], color='b')\n",
    "plt.plot(histories['val_loss'], color='r')\n",
    "plt.show()\n",
    "plt.plot(histories['acc'], color='b')\n",
    "plt.plot(histories['val_acc'], color='r')\n",
    "plt.show()"
   ]
  },
  {
   "cell_type": "code",
   "execution_count": null,
   "metadata": {},
   "outputs": [],
   "source": [
    "saveModel(model, run_name_acc)"
   ]
  },
  {
   "cell_type": "markdown",
   "metadata": {},
   "source": [
    "## 3. Predict"
   ]
  },
  {
   "cell_type": "code",
   "execution_count": null,
   "metadata": {},
   "outputs": [],
   "source": [
    "if not os.path.exists(output_path):\n",
    "    os.mkdir(output_path)\n",
    "pred_file = os.path.join(output_path, run_name_acc + '.csv')\n",
    "print(pred_file)"
   ]
  },
  {
   "cell_type": "code",
   "execution_count": null,
   "metadata": {},
   "outputs": [],
   "source": [
    "test_prob = model.predict(x_test)\n",
    "print(test_prob.shape)\n",
    "print(test_prob[0:2])\n",
    "test_prob = np.clip(test_prob, 0.05, 0.95)\n",
    "print(test_prob.shape)\n",
    "print(test_prob[0:2])"
   ]
  },
  {
   "cell_type": "code",
   "execution_count": null,
   "metadata": {},
   "outputs": [],
   "source": [
    "sample_submission['is_iceberg'] = test_prob\n",
    "print(sample_submission[0:2])\n",
    "print(sample_submission.shape)\n",
    "sample_submission.to_csv(pred_file, index=False)"
   ]
  },
  {
   "cell_type": "code",
   "execution_count": null,
   "metadata": {},
   "outputs": [],
   "source": [
    "t1 = time.time()\n",
    "print('time cost: %.2f s' % (t1-t0))\n",
    "print('Done!')"
   ]
  },
  {
   "cell_type": "code",
   "execution_count": null,
   "metadata": {},
   "outputs": [],
   "source": [
    "print(run_name_acc)"
   ]
  },
  {
   "cell_type": "code",
   "execution_count": null,
   "metadata": {},
   "outputs": [],
   "source": []
  }
 ],
 "metadata": {
  "kernelspec": {
   "display_name": "Python 3",
   "language": "python",
   "name": "python3"
  },
  "language_info": {
   "codemirror_mode": {
    "name": "ipython",
    "version": 3
   },
   "file_extension": ".py",
   "mimetype": "text/x-python",
   "name": "python",
   "nbconvert_exporter": "python",
   "pygments_lexer": "ipython3",
   "version": "3.5.4"
  }
 },
 "nbformat": 4,
 "nbformat_minor": 2
}
