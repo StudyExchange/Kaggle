{
 "cells": [
  {
   "cell_type": "markdown",
   "metadata": {},
   "source": [
    "# CNN_3channel_moredata\n",
    "\n",
    "Abstract:\n",
    "- Conv的kernel_size有(1, 1)和(2, 2)\n",
    "- single channel: band_avg\n",
    "- CNN, small net\n",
    "\n",
    "Result:\n",
    "- Kaggle score: \n",
    "\n",
    "References:\n",
    "- https://www.kaggle.com/ivalmian/simple-svd-xgboost-baseline-lb-35\n",
    "- https://www.kaggle.com/arieltci/a-keras-prototype-0-21174-on-pl"
   ]
  },
  {
   "cell_type": "markdown",
   "metadata": {},
   "source": [
    "## 1. Preprocess"
   ]
  },
  {
   "cell_type": "markdown",
   "metadata": {},
   "source": [
    "### Import pkgs"
   ]
  },
  {
   "cell_type": "code",
   "execution_count": 1,
   "metadata": {},
   "outputs": [],
   "source": [
    "import numpy as np\n",
    "import pandas as pd\n",
    "import matplotlib.pyplot as plt\n",
    "import seaborn as sns\n",
    "from sklearn.model_selection import train_test_split\n",
    "from sklearn.ensemble import GradientBoostingClassifier\n",
    "from sklearn.preprocessing import MinMaxScaler\n",
    "from sklearn.metrics import log_loss, accuracy_score\n",
    "from IPython.display import display\n",
    "\n",
    "%matplotlib inline"
   ]
  },
  {
   "cell_type": "code",
   "execution_count": 2,
   "metadata": {},
   "outputs": [],
   "source": [
    "import os\n",
    "import time\n",
    "import zipfile\n",
    "import lzma\n",
    "import pickle\n",
    "from PIL import Image\n",
    "from shutil import copy2\n",
    "import gc\n",
    "\n",
    "import cv2"
   ]
  },
  {
   "cell_type": "markdown",
   "metadata": {},
   "source": [
    "### Run name"
   ]
  },
  {
   "cell_type": "code",
   "execution_count": 3,
   "metadata": {},
   "outputs": [
    {
     "name": "stdout",
     "output_type": "stream",
     "text": [
      "run_name: SC_Iceberg_Classifier_CNN_3channel_moredata_20180106_133219\n"
     ]
    }
   ],
   "source": [
    "project_name = 'SC_Iceberg_Classifier'\n",
    "step_name = 'CNN_3channel_moredata'\n",
    "date_str = time.strftime(\"%Y%m%d\", time.localtime())\n",
    "time_str = time.strftime(\"%Y%m%d_%H%M%S\", time.localtime())\n",
    "run_name = project_name + '_' + step_name + '_' + time_str\n",
    "print('run_name: ' + run_name)\n",
    "t0 = time.time()"
   ]
  },
  {
   "cell_type": "markdown",
   "metadata": {},
   "source": [
    "### Basic folders"
   ]
  },
  {
   "cell_type": "code",
   "execution_count": 4,
   "metadata": {},
   "outputs": [
    {
     "name": "stdout",
     "output_type": "stream",
     "text": [
      "input_path: /data1/Kaggle/statoil-iceberg-classifier-challenge/input\n",
      "log_path: /data1/Kaggle/statoil-iceberg-classifier-challenge/log\n",
      "model_path: /data1/Kaggle/statoil-iceberg-classifier-challenge/model\n",
      "output_path: /data1/Kaggle/statoil-iceberg-classifier-challenge/output\n"
     ]
    }
   ],
   "source": [
    "cwd = os.getcwd()\n",
    "input_path = os.path.join(cwd, 'input')\n",
    "log_path = os.path.join(cwd, 'log')\n",
    "model_path = os.path.join(cwd, 'model')\n",
    "output_path = os.path.join(cwd, 'output')\n",
    "print('input_path: ' + input_path)\n",
    "print('log_path: ' + log_path)\n",
    "print('model_path: ' + model_path)\n",
    "print('output_path: ' + output_path)"
   ]
  },
  {
   "cell_type": "markdown",
   "metadata": {},
   "source": [
    "### Basic functions"
   ]
  },
  {
   "cell_type": "code",
   "execution_count": 5,
   "metadata": {},
   "outputs": [],
   "source": [
    "import sys\n",
    "def describe(arr):\n",
    "    print(arr.shape, arr.min(), arr.max(), sys.getsizeof(arr))"
   ]
  },
  {
   "cell_type": "markdown",
   "metadata": {},
   "source": [
    "### Load data"
   ]
  },
  {
   "cell_type": "code",
   "execution_count": 6,
   "metadata": {},
   "outputs": [
    {
     "name": "stdout",
     "output_type": "stream",
     "text": [
      "(8424, 2)\n"
     ]
    },
    {
     "data": {
      "text/html": [
       "<div>\n",
       "<style scoped>\n",
       "    .dataframe tbody tr th:only-of-type {\n",
       "        vertical-align: middle;\n",
       "    }\n",
       "\n",
       "    .dataframe tbody tr th {\n",
       "        vertical-align: top;\n",
       "    }\n",
       "\n",
       "    .dataframe thead th {\n",
       "        text-align: right;\n",
       "    }\n",
       "</style>\n",
       "<table border=\"1\" class=\"dataframe\">\n",
       "  <thead>\n",
       "    <tr style=\"text-align: right;\">\n",
       "      <th></th>\n",
       "      <th>id</th>\n",
       "      <th>is_iceberg</th>\n",
       "    </tr>\n",
       "  </thead>\n",
       "  <tbody>\n",
       "    <tr>\n",
       "      <th>0</th>\n",
       "      <td>5941774d</td>\n",
       "      <td>0.5</td>\n",
       "    </tr>\n",
       "    <tr>\n",
       "      <th>1</th>\n",
       "      <td>4023181e</td>\n",
       "      <td>0.5</td>\n",
       "    </tr>\n",
       "  </tbody>\n",
       "</table>\n",
       "</div>"
      ],
      "text/plain": [
       "         id  is_iceberg\n",
       "0  5941774d         0.5\n",
       "1  4023181e         0.5"
      ]
     },
     "execution_count": 6,
     "metadata": {},
     "output_type": "execute_result"
    }
   ],
   "source": [
    "sample_submission_path = os.path.join(input_path, 'sample_submission.csv')\n",
    "sample_submission = pd.read_csv(sample_submission_path)\n",
    "print(sample_submission.shape)\n",
    "sample_submission.head(2)"
   ]
  },
  {
   "cell_type": "code",
   "execution_count": 7,
   "metadata": {},
   "outputs": [
    {
     "name": "stdout",
     "output_type": "stream",
     "text": [
      "(1604,) 0 1 25688\n"
     ]
    }
   ],
   "source": [
    "is_iceberg_path = os.path.join(input_path, 'is_iceberg.p')\n",
    "\n",
    "y_data = pickle.load(open(is_iceberg_path, mode='rb'))\n",
    "\n",
    "describe(y_data)"
   ]
  },
  {
   "cell_type": "code",
   "execution_count": 8,
   "metadata": {},
   "outputs": [
    {
     "name": "stdout",
     "output_type": "stream",
     "text": [
      "(1604,)\n",
      "(8424,)\n",
      "CPU times: user 0 ns, sys: 0 ns, total: 0 ns\n",
      "Wall time: 1.17 ms\n"
     ]
    }
   ],
   "source": [
    "%%time\n",
    "#Load orignal data\n",
    "inc_angle_data_path = os.path.join(input_path, 'inc_angle_data.p')\n",
    "inc_angle_test_path = os.path.join(input_path, 'inc_angle_test.p')\n",
    "\n",
    "inc_angle_data = pickle.load(open(inc_angle_data_path, mode='rb'))\n",
    "inc_angle_test = pickle.load(open(inc_angle_test_path, mode='rb'))\n",
    "\n",
    "print(inc_angle_data.shape)\n",
    "print(inc_angle_test.shape)"
   ]
  },
  {
   "cell_type": "code",
   "execution_count": 9,
   "metadata": {},
   "outputs": [
    {
     "name": "stdout",
     "output_type": "stream",
     "text": [
      "(1604, 75, 75) -45.594448 34.574917 128\n",
      "(1604, 75, 75) -45.655499 20.154249 128\n",
      "(8424, 75, 75) -45.6805458069 37.090523 128\n",
      "(8424, 75, 75) -49.0835 37.0905227661 128\n",
      "(1604, 75, 75) -39.1164895 27.364583 72180128\n",
      "(8424, 75, 75) -43.3067741394 35.3033447266 379080128\n",
      "CPU times: user 620 ms, sys: 988 ms, total: 1.61 s\n",
      "Wall time: 1.6 s\n"
     ]
    }
   ],
   "source": [
    "%%time\n",
    "#Load orignal data\n",
    "band1_data_path = os.path.join(input_path, 'band1_data.p')\n",
    "band2_data_path = os.path.join(input_path, 'band2_data.p')\n",
    "band1_test_path = os.path.join(input_path, 'band1_test.p')\n",
    "band2_test_path = os.path.join(input_path, 'band2_test.p')\n",
    "\n",
    "band1_data = pickle.load(open(band1_data_path, mode='rb'))\n",
    "band2_data = pickle.load(open(band2_data_path, mode='rb'))\n",
    "band1_test = pickle.load(open(band1_test_path, mode='rb'))\n",
    "band2_test = pickle.load(open(band2_test_path, mode='rb'))\n",
    "\n",
    "band_avg_data = (band1_data + band2_data)/2\n",
    "band_avg_test = (band1_test + band2_test)/2\n",
    "\n",
    "describe(band1_data)\n",
    "describe(band2_data)\n",
    "describe(band1_test)\n",
    "describe(band2_test)\n",
    "\n",
    "describe(band_avg_data)\n",
    "describe(band_avg_test)"
   ]
  },
  {
   "cell_type": "code",
   "execution_count": 10,
   "metadata": {},
   "outputs": [
    {
     "name": "stdout",
     "output_type": "stream",
     "text": [
      "(1604, 75, 75, 3) -45.655499 34.574917 216540144\n",
      "(8424, 75, 75, 3) -49.0835 37.090523 1137240144\n",
      "CPU times: user 868 ms, sys: 412 ms, total: 1.28 s\n",
      "Wall time: 1.28 s\n"
     ]
    }
   ],
   "source": [
    "%%time\n",
    "x_data = np.concatenate([band1_data[:, :, :, np.newaxis],\n",
    "                         band2_data[:, :, :, np.newaxis],\n",
    "                         band_avg_data[:, :, :, np.newaxis]], axis=-1)\n",
    "describe(x_data)\n",
    "# del band1_data\n",
    "# del band2_data\n",
    "# del band_avg_data\n",
    "gc.collect()\n",
    "\n",
    "x_test = np.concatenate([band1_test[:, :, :, np.newaxis],\n",
    "                         band2_test[:, :, :, np.newaxis],\n",
    "                         band_avg_test[:, :, :, np.newaxis]], axis=-1)\n",
    "describe(x_test)\n",
    "# del band1_test\n",
    "# del band2_test\n",
    "# del band_avg_test\n",
    "gc.collect()"
   ]
  },
  {
   "cell_type": "code",
   "execution_count": 11,
   "metadata": {},
   "outputs": [
    {
     "name": "stdout",
     "output_type": "stream",
     "text": [
      "(1443, 75, 75, 3) -45.655499 34.574917 194805144\n",
      "(161, 75, 75, 3) -43.190331 25.566628 21735144\n",
      "(1443,) 0 1 23112\n",
      "(161,) 0 1 2600\n",
      "CPU times: user 88 ms, sys: 68 ms, total: 156 ms\n",
      "Wall time: 154 ms\n"
     ]
    }
   ],
   "source": [
    "%%time\n",
    "x_train, x_val, y_train, y_val = train_test_split(x_data, y_data, test_size=0.1, random_state=31)\n",
    "\n",
    "describe(x_train)\n",
    "describe(x_val)\n",
    "\n",
    "describe(y_train)\n",
    "describe(y_val)"
   ]
  },
  {
   "cell_type": "markdown",
   "metadata": {},
   "source": [
    "## 2. Build model"
   ]
  },
  {
   "cell_type": "code",
   "execution_count": 12,
   "metadata": {},
   "outputs": [
    {
     "name": "stderr",
     "output_type": "stream",
     "text": [
      "Using TensorFlow backend.\n"
     ]
    }
   ],
   "source": [
    "from keras.utils.np_utils import to_categorical # convert to one-hot-encoding\n",
    "from keras.models import Sequential, Model\n",
    "from keras.layers import Dense, Dropout, Flatten, Conv2D, MaxPooling2D, GlobalMaxPooling2D, BatchNormalization, Input\n",
    "from keras.layers.merge import Concatenate\n",
    "from keras.optimizers import Adam\n",
    "from keras.preprocessing.image import ImageDataGenerator\n",
    "from keras.callbacks import LearningRateScheduler, TensorBoard"
   ]
  },
  {
   "cell_type": "code",
   "execution_count": 13,
   "metadata": {},
   "outputs": [],
   "source": [
    "def build_model():\n",
    "    model = Sequential()\n",
    "\n",
    "    model.add(Conv2D(filters = 32, kernel_size = (3, 3), activation='relu',\n",
    "                     input_shape = (x_train.shape[1], x_train.shape[2], x_train.shape[3])))\n",
    "    model.add(BatchNormalization())\n",
    "    model.add(Conv2D(filters = 32, kernel_size = (3, 3), activation='relu'))\n",
    "    model.add(BatchNormalization())\n",
    "    model.add(MaxPooling2D(strides=(2,2)))\n",
    "    model.add(Dropout(0.4))\n",
    "\n",
    "    model.add(Conv2D(filters = 64, kernel_size = (3, 3), activation='relu'))\n",
    "    model.add(BatchNormalization())\n",
    "    model.add(Conv2D(filters = 64, kernel_size = (3, 3), activation='relu'))\n",
    "    model.add(BatchNormalization())\n",
    "    model.add(MaxPooling2D(strides=(2,2)))\n",
    "    model.add(Dropout(0.4))\n",
    "\n",
    "    model.add(Conv2D(filters = 128, kernel_size = (3, 3), activation='relu'))\n",
    "    model.add(BatchNormalization())\n",
    "    model.add(Conv2D(filters = 128, kernel_size = (3, 3), activation='relu'))\n",
    "    model.add(BatchNormalization())\n",
    "    model.add(MaxPooling2D(strides=(2,2)))\n",
    "    model.add(Dropout(0.4))\n",
    "    \n",
    "    model.add(Flatten())\n",
    "    model.add(Dense(1024, activation='relu'))\n",
    "    model.add(Dropout(0.4))\n",
    "    model.add(Dense(1024, activation='relu'))\n",
    "    model.add(Dropout(0.4))\n",
    "    model.add(Dense(128, activation='relu'))\n",
    "    model.add(Dropout(0.4))\n",
    "    model.add(Dense(units = 1, activation = 'sigmoid'))\n",
    "\n",
    "    model.compile(optimizer = Adam(lr=1e-4), loss = 'binary_crossentropy', metrics = ['accuracy'])\n",
    "    return model"
   ]
  },
  {
   "cell_type": "code",
   "execution_count": 14,
   "metadata": {},
   "outputs": [
    {
     "name": "stdout",
     "output_type": "stream",
     "text": [
      "_________________________________________________________________\n",
      "Layer (type)                 Output Shape              Param #   \n",
      "=================================================================\n",
      "conv2d_1 (Conv2D)            (None, 73, 73, 32)        896       \n",
      "_________________________________________________________________\n",
      "batch_normalization_1 (Batch (None, 73, 73, 32)        128       \n",
      "_________________________________________________________________\n",
      "conv2d_2 (Conv2D)            (None, 71, 71, 32)        9248      \n",
      "_________________________________________________________________\n",
      "batch_normalization_2 (Batch (None, 71, 71, 32)        128       \n",
      "_________________________________________________________________\n",
      "max_pooling2d_1 (MaxPooling2 (None, 35, 35, 32)        0         \n",
      "_________________________________________________________________\n",
      "dropout_1 (Dropout)          (None, 35, 35, 32)        0         \n",
      "_________________________________________________________________\n",
      "conv2d_3 (Conv2D)            (None, 33, 33, 64)        18496     \n",
      "_________________________________________________________________\n",
      "batch_normalization_3 (Batch (None, 33, 33, 64)        256       \n",
      "_________________________________________________________________\n",
      "conv2d_4 (Conv2D)            (None, 31, 31, 64)        36928     \n",
      "_________________________________________________________________\n",
      "batch_normalization_4 (Batch (None, 31, 31, 64)        256       \n",
      "_________________________________________________________________\n",
      "max_pooling2d_2 (MaxPooling2 (None, 15, 15, 64)        0         \n",
      "_________________________________________________________________\n",
      "dropout_2 (Dropout)          (None, 15, 15, 64)        0         \n",
      "_________________________________________________________________\n",
      "conv2d_5 (Conv2D)            (None, 13, 13, 128)       73856     \n",
      "_________________________________________________________________\n",
      "batch_normalization_5 (Batch (None, 13, 13, 128)       512       \n",
      "_________________________________________________________________\n",
      "conv2d_6 (Conv2D)            (None, 11, 11, 128)       147584    \n",
      "_________________________________________________________________\n",
      "batch_normalization_6 (Batch (None, 11, 11, 128)       512       \n",
      "_________________________________________________________________\n",
      "max_pooling2d_3 (MaxPooling2 (None, 5, 5, 128)         0         \n",
      "_________________________________________________________________\n",
      "dropout_3 (Dropout)          (None, 5, 5, 128)         0         \n",
      "_________________________________________________________________\n",
      "flatten_1 (Flatten)          (None, 3200)              0         \n",
      "_________________________________________________________________\n",
      "dense_1 (Dense)              (None, 1024)              3277824   \n",
      "_________________________________________________________________\n",
      "dropout_4 (Dropout)          (None, 1024)              0         \n",
      "_________________________________________________________________\n",
      "dense_2 (Dense)              (None, 1024)              1049600   \n",
      "_________________________________________________________________\n",
      "dropout_5 (Dropout)          (None, 1024)              0         \n",
      "_________________________________________________________________\n",
      "dense_3 (Dense)              (None, 128)               131200    \n",
      "_________________________________________________________________\n",
      "dropout_6 (Dropout)          (None, 128)               0         \n",
      "_________________________________________________________________\n",
      "dense_4 (Dense)              (None, 1)                 129       \n",
      "=================================================================\n",
      "Total params: 4,747,553\n",
      "Trainable params: 4,746,657\n",
      "Non-trainable params: 896\n",
      "_________________________________________________________________\n"
     ]
    }
   ],
   "source": [
    "model = build_model()\n",
    "model.summary()"
   ]
  },
  {
   "cell_type": "code",
   "execution_count": 15,
   "metadata": {},
   "outputs": [],
   "source": [
    "def saveModel(model, run_name):\n",
    "    cwd = os.getcwd()\n",
    "    modelPath = os.path.join(cwd, 'model')\n",
    "    if not os.path.isdir(modelPath):\n",
    "        os.mkdir(modelPath)\n",
    "    weigthsFile = os.path.join(modelPath, run_name + '.h5')\n",
    "    model.save(weigthsFile)\n",
    "# saveModel(model, 'saveModel_test')"
   ]
  },
  {
   "cell_type": "code",
   "execution_count": 16,
   "metadata": {},
   "outputs": [
    {
     "name": "stdout",
     "output_type": "stream",
     "text": [
      "log_dir:/data1/Kaggle/statoil-iceberg-classifier-challenge/log/SC_Iceberg_Classifier_CNN_3channel_moredata_20180106_133219\n"
     ]
    }
   ],
   "source": [
    "def get_lr(x):\n",
    "    lr = round(1e-4 * 0.99 ** x, 6)\n",
    "    if lr < 5e-5:\n",
    "        lr = 5e-5\n",
    "    print(lr, end='  ')\n",
    "    return lr\n",
    "\n",
    "# annealer = LearningRateScheduler(lambda x: 1e-3 * 0.9 ** x)\n",
    "annealer = LearningRateScheduler(get_lr)\n",
    "\n",
    "log_dir = os.path.join(log_path, run_name)\n",
    "print('log_dir:' + log_dir)\n",
    "tensorBoard = TensorBoard(log_dir=log_dir)"
   ]
  },
  {
   "cell_type": "code",
   "execution_count": 17,
   "metadata": {},
   "outputs": [],
   "source": [
    "# datagen = ImageDataGenerator(\n",
    "#     rotation_range=10,\n",
    "#     width_shift_range=0.2,\n",
    "#     height_shift_range=0.2,\n",
    "#     horizontal_flip=True,\n",
    "#     vertical_flip=True\n",
    "# )\n",
    "\n",
    "# datagen = ImageDataGenerator(\n",
    "#     featurewise_center=True,\n",
    "#     featurewise_std_normalization=True,\n",
    "#     rotation_range=20,\n",
    "#     width_shift_range=0.2,\n",
    "#     height_shift_range=0.2,\n",
    "#     horizontal_flip=True)"
   ]
  },
  {
   "cell_type": "code",
   "execution_count": 18,
   "metadata": {},
   "outputs": [],
   "source": [
    "# %%time\n",
    "# batch_size = 32\n",
    "# steps_per_epoch = 1 * len(x_train) / batch_size\n",
    "# hist = model.fit_generator(datagen.flow(x_train, y_train, batch_size=batch_size, shuffle = False),\n",
    "#                            steps_per_epoch=100, \n",
    "#                            epochs = 50, #1 for ETA, 0 for silent\n",
    "#                            verbose= 1,\n",
    "#                            max_queue_size= 64, \n",
    "#                            workers= 8,\n",
    "#                            validation_data=(x_val, y_val))"
   ]
  },
  {
   "cell_type": "code",
   "execution_count": 19,
   "metadata": {},
   "outputs": [
    {
     "name": "stdout",
     "output_type": "stream",
     "text": [
      "Train on 1443 samples, validate on 161 samples\n",
      "Epoch 1/100\n",
      "1443/1443 [==============================] - 8s 6ms/step - loss: 0.9253 - acc: 0.5800 - val_loss: 0.6901 - val_acc: 0.5466\n",
      "Epoch 2/100\n",
      "1443/1443 [==============================] - 4s 3ms/step - loss: 0.6605 - acc: 0.6396 - val_loss: 0.7010 - val_acc: 0.4969\n",
      "Epoch 3/100\n",
      "1443/1443 [==============================] - 4s 3ms/step - loss: 0.6248 - acc: 0.6750 - val_loss: 0.7008 - val_acc: 0.4596\n",
      "Epoch 4/100\n",
      "1443/1443 [==============================] - 4s 3ms/step - loss: 0.5871 - acc: 0.6826 - val_loss: 0.7119 - val_acc: 0.4534\n",
      "Epoch 5/100\n",
      "1443/1443 [==============================] - 4s 3ms/step - loss: 0.5720 - acc: 0.6985 - val_loss: 0.7200 - val_acc: 0.4658\n",
      "Epoch 6/100\n",
      "1443/1443 [==============================] - 4s 3ms/step - loss: 0.5412 - acc: 0.7193 - val_loss: 0.7138 - val_acc: 0.4658\n",
      "Epoch 7/100\n",
      "1443/1443 [==============================] - 4s 3ms/step - loss: 0.5321 - acc: 0.7325 - val_loss: 0.6977 - val_acc: 0.4907\n",
      "Epoch 8/100\n",
      "1443/1443 [==============================] - 4s 3ms/step - loss: 0.4888 - acc: 0.7380 - val_loss: 0.7005 - val_acc: 0.4969\n",
      "Epoch 9/100\n",
      "1443/1443 [==============================] - 4s 3ms/step - loss: 0.4855 - acc: 0.7658 - val_loss: 0.6849 - val_acc: 0.5155\n",
      "Epoch 10/100\n",
      "1443/1443 [==============================] - 4s 3ms/step - loss: 0.4697 - acc: 0.7748 - val_loss: 0.6831 - val_acc: 0.5404\n",
      "Epoch 11/100\n",
      "1443/1443 [==============================] - 4s 3ms/step - loss: 0.4463 - acc: 0.7720 - val_loss: 0.6539 - val_acc: 0.5963\n",
      "Epoch 12/100\n",
      "1443/1443 [==============================] - 4s 3ms/step - loss: 0.4320 - acc: 0.7914 - val_loss: 0.6730 - val_acc: 0.6087\n",
      "Epoch 13/100\n",
      "1443/1443 [==============================] - 4s 3ms/step - loss: 0.4111 - acc: 0.8060 - val_loss: 0.6546 - val_acc: 0.6398\n",
      "Epoch 14/100\n",
      "1443/1443 [==============================] - 4s 3ms/step - loss: 0.4151 - acc: 0.8073 - val_loss: 0.5906 - val_acc: 0.6957\n",
      "Epoch 15/100\n",
      "1443/1443 [==============================] - 4s 3ms/step - loss: 0.4152 - acc: 0.8073 - val_loss: 0.5801 - val_acc: 0.6708\n",
      "Epoch 16/100\n",
      "1443/1443 [==============================] - 4s 3ms/step - loss: 0.3927 - acc: 0.8108 - val_loss: 0.5631 - val_acc: 0.7391\n",
      "Epoch 17/100\n",
      "1443/1443 [==============================] - 4s 3ms/step - loss: 0.3867 - acc: 0.8177 - val_loss: 0.5705 - val_acc: 0.7143\n",
      "Epoch 18/100\n",
      "1443/1443 [==============================] - 4s 3ms/step - loss: 0.3580 - acc: 0.8288 - val_loss: 0.6008 - val_acc: 0.7205\n",
      "Epoch 19/100\n",
      "1443/1443 [==============================] - 4s 3ms/step - loss: 0.3767 - acc: 0.8261 - val_loss: 0.6797 - val_acc: 0.7019\n",
      "Epoch 20/100\n",
      "1443/1443 [==============================] - 4s 3ms/step - loss: 0.3635 - acc: 0.8323 - val_loss: 0.5983 - val_acc: 0.7267\n",
      "Epoch 21/100\n",
      "1443/1443 [==============================] - 4s 3ms/step - loss: 0.3556 - acc: 0.8267 - val_loss: 0.5647 - val_acc: 0.7453\n",
      "Epoch 22/100\n",
      "1443/1443 [==============================] - 4s 3ms/step - loss: 0.3374 - acc: 0.8413 - val_loss: 0.5491 - val_acc: 0.7329\n",
      "Epoch 23/100\n",
      "1443/1443 [==============================] - 4s 3ms/step - loss: 0.3393 - acc: 0.8344 - val_loss: 0.4612 - val_acc: 0.7764\n",
      "Epoch 24/100\n",
      "1443/1443 [==============================] - 4s 3ms/step - loss: 0.3349 - acc: 0.8455 - val_loss: 0.5480 - val_acc: 0.7516\n",
      "Epoch 25/100\n",
      "1443/1443 [==============================] - 4s 3ms/step - loss: 0.3273 - acc: 0.8448 - val_loss: 0.7670 - val_acc: 0.6584\n",
      "Epoch 26/100\n",
      "1443/1443 [==============================] - 4s 3ms/step - loss: 0.3170 - acc: 0.8586 - val_loss: 0.6330 - val_acc: 0.7205\n",
      "Epoch 27/100\n",
      "1443/1443 [==============================] - 4s 3ms/step - loss: 0.3021 - acc: 0.8565 - val_loss: 0.5607 - val_acc: 0.7516\n",
      "Epoch 28/100\n",
      "1443/1443 [==============================] - 4s 3ms/step - loss: 0.3108 - acc: 0.8503 - val_loss: 0.4752 - val_acc: 0.7950\n",
      "Epoch 29/100\n",
      "1443/1443 [==============================] - 4s 3ms/step - loss: 0.3128 - acc: 0.8545 - val_loss: 0.4722 - val_acc: 0.8012\n",
      "Epoch 30/100\n",
      "1443/1443 [==============================] - 4s 3ms/step - loss: 0.3161 - acc: 0.8586 - val_loss: 0.4996 - val_acc: 0.7888\n",
      "Epoch 31/100\n",
      "1443/1443 [==============================] - 4s 3ms/step - loss: 0.2917 - acc: 0.8621 - val_loss: 0.5182 - val_acc: 0.7826\n",
      "Epoch 32/100\n",
      "1443/1443 [==============================] - 4s 3ms/step - loss: 0.3040 - acc: 0.8718 - val_loss: 0.4822 - val_acc: 0.7888\n",
      "Epoch 33/100\n",
      "1443/1443 [==============================] - 4s 3ms/step - loss: 0.3000 - acc: 0.8642 - val_loss: 0.4845 - val_acc: 0.7826\n",
      "Epoch 34/100\n",
      "1443/1443 [==============================] - 4s 3ms/step - loss: 0.2850 - acc: 0.8676 - val_loss: 0.4947 - val_acc: 0.8199\n",
      "Epoch 35/100\n",
      "1443/1443 [==============================] - 4s 3ms/step - loss: 0.2819 - acc: 0.8766 - val_loss: 0.4747 - val_acc: 0.8261\n",
      "Epoch 36/100\n",
      "1443/1443 [==============================] - 4s 3ms/step - loss: 0.3058 - acc: 0.8579 - val_loss: 0.4827 - val_acc: 0.8075\n",
      "Epoch 37/100\n",
      "1443/1443 [==============================] - 4s 3ms/step - loss: 0.2959 - acc: 0.8663 - val_loss: 0.6992 - val_acc: 0.7329\n",
      "Epoch 38/100\n",
      "1443/1443 [==============================] - 4s 3ms/step - loss: 0.2799 - acc: 0.8718 - val_loss: 0.5506 - val_acc: 0.7826\n",
      "Epoch 39/100\n",
      "1443/1443 [==============================] - 4s 3ms/step - loss: 0.2760 - acc: 0.8794 - val_loss: 0.5052 - val_acc: 0.8137\n",
      "Epoch 40/100\n",
      "1443/1443 [==============================] - 4s 3ms/step - loss: 0.2783 - acc: 0.8746 - val_loss: 0.5707 - val_acc: 0.7640\n",
      "Epoch 41/100\n",
      "1443/1443 [==============================] - 4s 3ms/step - loss: 0.2660 - acc: 0.8870 - val_loss: 0.4465 - val_acc: 0.8137\n",
      "Epoch 42/100\n",
      "1443/1443 [==============================] - 4s 3ms/step - loss: 0.2525 - acc: 0.8850 - val_loss: 0.4638 - val_acc: 0.8199\n",
      "Epoch 43/100\n",
      "1443/1443 [==============================] - 4s 3ms/step - loss: 0.2700 - acc: 0.8870 - val_loss: 0.5081 - val_acc: 0.8075\n",
      "Epoch 44/100\n",
      "1443/1443 [==============================] - 4s 3ms/step - loss: 0.2580 - acc: 0.8891 - val_loss: 0.4995 - val_acc: 0.8012\n",
      "Epoch 45/100\n",
      "1443/1443 [==============================] - 4s 3ms/step - loss: 0.2373 - acc: 0.8981 - val_loss: 0.5924 - val_acc: 0.8075\n",
      "Epoch 46/100\n",
      "1443/1443 [==============================] - 4s 3ms/step - loss: 0.2487 - acc: 0.8940 - val_loss: 0.6020 - val_acc: 0.8012\n",
      "Epoch 47/100\n",
      "1443/1443 [==============================] - 4s 3ms/step - loss: 0.2615 - acc: 0.8877 - val_loss: 0.4567 - val_acc: 0.8385\n",
      "Epoch 48/100\n",
      "1443/1443 [==============================] - 4s 3ms/step - loss: 0.2578 - acc: 0.8912 - val_loss: 0.4579 - val_acc: 0.8385\n",
      "Epoch 49/100\n",
      "1443/1443 [==============================] - 4s 3ms/step - loss: 0.2251 - acc: 0.8974 - val_loss: 0.4007 - val_acc: 0.8820\n",
      "Epoch 50/100\n",
      "1443/1443 [==============================] - 4s 3ms/step - loss: 0.2534 - acc: 0.8822 - val_loss: 0.4368 - val_acc: 0.8385\n",
      "Epoch 51/100\n",
      "1443/1443 [==============================] - 4s 3ms/step - loss: 0.2314 - acc: 0.8974 - val_loss: 0.4830 - val_acc: 0.8012\n",
      "Epoch 52/100\n",
      "1443/1443 [==============================] - 4s 3ms/step - loss: 0.2360 - acc: 0.8974 - val_loss: 0.4085 - val_acc: 0.8199\n",
      "Epoch 53/100\n",
      "1443/1443 [==============================] - 4s 3ms/step - loss: 0.2243 - acc: 0.9106 - val_loss: 0.4441 - val_acc: 0.8385\n",
      "Epoch 54/100\n",
      "1443/1443 [==============================] - 4s 3ms/step - loss: 0.2361 - acc: 0.8981 - val_loss: 0.6953 - val_acc: 0.7764\n",
      "Epoch 55/100\n",
      "1443/1443 [==============================] - 4s 3ms/step - loss: 0.2188 - acc: 0.9078 - val_loss: 0.5618 - val_acc: 0.7888\n",
      "Epoch 56/100\n",
      "1443/1443 [==============================] - 4s 3ms/step - loss: 0.2144 - acc: 0.8967 - val_loss: 0.6618 - val_acc: 0.7702\n",
      "Epoch 57/100\n",
      "1443/1443 [==============================] - 4s 3ms/step - loss: 0.2341 - acc: 0.8891 - val_loss: 0.5695 - val_acc: 0.7950\n",
      "Epoch 58/100\n",
      "1443/1443 [==============================] - 4s 3ms/step - loss: 0.2318 - acc: 0.8960 - val_loss: 0.4208 - val_acc: 0.8261\n",
      "Epoch 59/100\n",
      "1443/1443 [==============================] - 4s 3ms/step - loss: 0.2025 - acc: 0.9113 - val_loss: 0.4778 - val_acc: 0.8199\n",
      "Epoch 60/100\n",
      "1443/1443 [==============================] - 4s 3ms/step - loss: 0.2188 - acc: 0.9058 - val_loss: 0.4224 - val_acc: 0.8447\n"
     ]
    },
    {
     "name": "stdout",
     "output_type": "stream",
     "text": [
      "Epoch 61/100\n",
      "1443/1443 [==============================] - 4s 3ms/step - loss: 0.1887 - acc: 0.9196 - val_loss: 0.4017 - val_acc: 0.8323\n",
      "Epoch 62/100\n",
      "1443/1443 [==============================] - 4s 3ms/step - loss: 0.2055 - acc: 0.9085 - val_loss: 0.4026 - val_acc: 0.8820\n",
      "Epoch 63/100\n",
      "1443/1443 [==============================] - 4s 3ms/step - loss: 0.1985 - acc: 0.9148 - val_loss: 0.3796 - val_acc: 0.8758\n",
      "Epoch 64/100\n",
      "1443/1443 [==============================] - 4s 3ms/step - loss: 0.1974 - acc: 0.9196 - val_loss: 0.3516 - val_acc: 0.8882\n",
      "Epoch 65/100\n",
      "1443/1443 [==============================] - 4s 3ms/step - loss: 0.2019 - acc: 0.9092 - val_loss: 0.3721 - val_acc: 0.8696\n",
      "Epoch 66/100\n",
      "1443/1443 [==============================] - 4s 3ms/step - loss: 0.1822 - acc: 0.9224 - val_loss: 0.4169 - val_acc: 0.8571\n",
      "Epoch 67/100\n",
      "1443/1443 [==============================] - 4s 3ms/step - loss: 0.1955 - acc: 0.9175 - val_loss: 0.4346 - val_acc: 0.8571\n",
      "Epoch 68/100\n",
      "1443/1443 [==============================] - 4s 3ms/step - loss: 0.2120 - acc: 0.9099 - val_loss: 0.5456 - val_acc: 0.8137\n",
      "Epoch 69/100\n",
      "1443/1443 [==============================] - 4s 3ms/step - loss: 0.1834 - acc: 0.9300 - val_loss: 0.5773 - val_acc: 0.8199\n",
      "Epoch 70/100\n",
      "1443/1443 [==============================] - 4s 3ms/step - loss: 0.1945 - acc: 0.9196 - val_loss: 0.4315 - val_acc: 0.8696\n",
      "Epoch 71/100\n",
      "1443/1443 [==============================] - 4s 3ms/step - loss: 0.2085 - acc: 0.9037 - val_loss: 0.4476 - val_acc: 0.8199\n",
      "Epoch 72/100\n",
      "1443/1443 [==============================] - 4s 3ms/step - loss: 0.2185 - acc: 0.9030 - val_loss: 0.3732 - val_acc: 0.8571\n",
      "Epoch 73/100\n",
      "1443/1443 [==============================] - 4s 3ms/step - loss: 0.1853 - acc: 0.9238 - val_loss: 0.3855 - val_acc: 0.8696\n",
      "Epoch 74/100\n",
      "1443/1443 [==============================] - 4s 3ms/step - loss: 0.1911 - acc: 0.9113 - val_loss: 0.4907 - val_acc: 0.8509\n",
      "Epoch 75/100\n",
      "1443/1443 [==============================] - 4s 3ms/step - loss: 0.1573 - acc: 0.9342 - val_loss: 0.5081 - val_acc: 0.8447\n",
      "Epoch 76/100\n",
      "1443/1443 [==============================] - 4s 3ms/step - loss: 0.1901 - acc: 0.9272 - val_loss: 0.3858 - val_acc: 0.8882\n",
      "Epoch 77/100\n",
      "1443/1443 [==============================] - 4s 3ms/step - loss: 0.1910 - acc: 0.9161 - val_loss: 0.5409 - val_acc: 0.8199\n",
      "Epoch 78/100\n",
      "1443/1443 [==============================] - 4s 3ms/step - loss: 0.1831 - acc: 0.9189 - val_loss: 0.4166 - val_acc: 0.8820\n",
      "Epoch 79/100\n",
      "1443/1443 [==============================] - 4s 3ms/step - loss: 0.1912 - acc: 0.9231 - val_loss: 0.3595 - val_acc: 0.8944\n",
      "Epoch 80/100\n",
      "1443/1443 [==============================] - 4s 3ms/step - loss: 0.1671 - acc: 0.9349 - val_loss: 0.4042 - val_acc: 0.8696\n",
      "Epoch 81/100\n",
      "1443/1443 [==============================] - 4s 3ms/step - loss: 0.1566 - acc: 0.9314 - val_loss: 0.4065 - val_acc: 0.9130\n",
      "Epoch 82/100\n",
      "1443/1443 [==============================] - 4s 3ms/step - loss: 0.1722 - acc: 0.9245 - val_loss: 0.3910 - val_acc: 0.9006\n",
      "Epoch 83/100\n",
      "1443/1443 [==============================] - 4s 3ms/step - loss: 0.1678 - acc: 0.9293 - val_loss: 0.4333 - val_acc: 0.8820\n",
      "Epoch 84/100\n",
      "1443/1443 [==============================] - 4s 3ms/step - loss: 0.1799 - acc: 0.9231 - val_loss: 0.5643 - val_acc: 0.8385\n",
      "Epoch 85/100\n",
      "1443/1443 [==============================] - 4s 3ms/step - loss: 0.1433 - acc: 0.9376 - val_loss: 0.4880 - val_acc: 0.8571\n",
      "Epoch 86/100\n",
      "1443/1443 [==============================] - 4s 3ms/step - loss: 0.1664 - acc: 0.9293 - val_loss: 0.5348 - val_acc: 0.8385\n",
      "Epoch 87/100\n",
      "1443/1443 [==============================] - 4s 3ms/step - loss: 0.1464 - acc: 0.9390 - val_loss: 0.6634 - val_acc: 0.8199\n",
      "Epoch 88/100\n",
      "1443/1443 [==============================] - 4s 3ms/step - loss: 0.1469 - acc: 0.9335 - val_loss: 0.5363 - val_acc: 0.8571\n",
      "Epoch 89/100\n",
      "1443/1443 [==============================] - 4s 3ms/step - loss: 0.1567 - acc: 0.9369 - val_loss: 0.4963 - val_acc: 0.8634\n",
      "Epoch 90/100\n",
      "1443/1443 [==============================] - 4s 3ms/step - loss: 0.1657 - acc: 0.9286 - val_loss: 0.4816 - val_acc: 0.8758\n",
      "Epoch 91/100\n",
      "1443/1443 [==============================] - 4s 3ms/step - loss: 0.1684 - acc: 0.9293 - val_loss: 0.4340 - val_acc: 0.8820\n",
      "Epoch 92/100\n",
      "1443/1443 [==============================] - 4s 3ms/step - loss: 0.1729 - acc: 0.9342 - val_loss: 0.4479 - val_acc: 0.8634\n",
      "Epoch 93/100\n",
      "1443/1443 [==============================] - 4s 3ms/step - loss: 0.1393 - acc: 0.9397 - val_loss: 0.3754 - val_acc: 0.8944\n",
      "Epoch 94/100\n",
      "1443/1443 [==============================] - 4s 3ms/step - loss: 0.1422 - acc: 0.9418 - val_loss: 0.6700 - val_acc: 0.8323\n",
      "Epoch 95/100\n",
      "1443/1443 [==============================] - 4s 3ms/step - loss: 0.1293 - acc: 0.9459 - val_loss: 0.6308 - val_acc: 0.8385\n",
      "Epoch 96/100\n",
      "1443/1443 [==============================] - 4s 3ms/step - loss: 0.1639 - acc: 0.9328 - val_loss: 0.4449 - val_acc: 0.8758\n",
      "Epoch 97/100\n",
      "1443/1443 [==============================] - 4s 3ms/step - loss: 0.1234 - acc: 0.9473 - val_loss: 0.4258 - val_acc: 0.8882\n",
      "Epoch 98/100\n",
      "1443/1443 [==============================] - 4s 3ms/step - loss: 0.1377 - acc: 0.9439 - val_loss: 0.6648 - val_acc: 0.8075\n",
      "Epoch 99/100\n",
      "1443/1443 [==============================] - 4s 3ms/step - loss: 0.1339 - acc: 0.9501 - val_loss: 0.8073 - val_acc: 0.7764\n",
      "Epoch 100/100\n",
      "1443/1443 [==============================] - 4s 3ms/step - loss: 0.1367 - acc: 0.9411 - val_loss: 0.7569 - val_acc: 0.7826\n",
      "CPU times: user 6min 21s, sys: 52.6 s, total: 7min 14s\n",
      "Wall time: 6min 17s\n"
     ]
    }
   ],
   "source": [
    "%%time\n",
    "hist = model.fit(x_train, y_train, \n",
    "                 batch_size = 32, \n",
    "                 verbose= 1,\n",
    "#                  callbacks = [annealer],\n",
    "                 epochs = 100, #1 for ETA, 0 for silent\n",
    "                 validation_data=(x_val, y_val))"
   ]
  },
  {
   "cell_type": "code",
   "execution_count": 20,
   "metadata": {},
   "outputs": [
    {
     "name": "stdout",
     "output_type": "stream",
     "text": [
      "161/161 [==============================] - 0s 727us/step\n",
      "Final loss: 0.7569, final accuracy: 0.7826\n"
     ]
    }
   ],
   "source": [
    "final_loss, final_acc = model.evaluate(x_val, y_val, verbose=1)\n",
    "print(\"Final loss: {0:.4f}, final accuracy: {1:.4f}\".format(final_loss, final_acc))"
   ]
  },
  {
   "cell_type": "code",
   "execution_count": 21,
   "metadata": {},
   "outputs": [
    {
     "name": "stdout",
     "output_type": "stream",
     "text": [
      "Val log_loss: 0.7373132653558726\n",
      "Val log_loss: 0.5120202262671838\n"
     ]
    }
   ],
   "source": [
    "val_prob1 = model.predict(x_val)\n",
    "\n",
    "# print('Val log_loss: {}'.format(log_loss(y_val, val_prob1)))\n",
    "val_prob1_limit = np.clip(val_prob1, 0.00005, 0.99995)\n",
    "loss = log_loss(y_val, val_prob1_limit)\n",
    "print('Val log_loss: {}'.format(loss))\n",
    "\n",
    "val_prob1_limit = np.clip(val_prob1_limit, 0.05, 0.95)\n",
    "loss = log_loss(y_val, val_prob1_limit)\n",
    "print('Val log_loss: {}'.format(loss))"
   ]
  },
  {
   "cell_type": "code",
   "execution_count": 22,
   "metadata": {},
   "outputs": [
    {
     "name": "stdout",
     "output_type": "stream",
     "text": [
      "SC_Iceberg_Classifier_CNN_3channel_moredata_20180106_133219_5120\n"
     ]
    }
   ],
   "source": [
    "final_acc_str = str(int(loss*10000))\n",
    "run_name_acc = project_name + '_' + step_name + '_' + time_str + '_' + final_acc_str\n",
    "print(run_name_acc)"
   ]
  },
  {
   "cell_type": "code",
   "execution_count": 23,
   "metadata": {},
   "outputs": [
    {
     "name": "stdout",
     "output_type": "stream",
     "text": [
      "Index(['acc', 'loss', 'val_acc', 'val_loss', 'epoch'], dtype='object')\n"
     ]
    }
   ],
   "source": [
    "histories = pd.DataFrame(hist.history)\n",
    "histories['epoch'] = hist.epoch\n",
    "print(histories.columns)\n",
    "histories_file = os.path.join(model_path, run_name_acc + '.csv')\n",
    "histories.to_csv(histories_file, index=False)"
   ]
  },
  {
   "cell_type": "code",
   "execution_count": 24,
   "metadata": {},
   "outputs": [
    {
     "data": {
      "image/png": "[encoded data removed]",
      "text/plain": [
       "<matplotlib.figure.Figure at 0x7f8349b23eb8>"
      ]
     },
     "metadata": {},
     "output_type": "display_data"
    },
    {
     "data": {
      "image/png": "[encoded data removed]",
      "text/plain": [
       "<matplotlib.figure.Figure at 0x7f821015cf60>"
      ]
     },
     "metadata": {},
     "output_type": "display_data"
    }
   ],
   "source": [
    "plt.plot(histories['loss'], color='b')\n",
    "plt.plot(histories['val_loss'], color='r')\n",
    "plt.show()\n",
    "plt.plot(histories['acc'], color='b')\n",
    "plt.plot(histories['val_acc'], color='r')\n",
    "plt.show()"
   ]
  },
  {
   "cell_type": "code",
   "execution_count": 25,
   "metadata": {},
   "outputs": [],
   "source": [
    "saveModel(model, run_name_acc)"
   ]
  },
  {
   "cell_type": "markdown",
   "metadata": {},
   "source": [
    "## 3. Predict"
   ]
  },
  {
   "cell_type": "code",
   "execution_count": 26,
   "metadata": {},
   "outputs": [
    {
     "name": "stdout",
     "output_type": "stream",
     "text": [
      "/data1/Kaggle/statoil-iceberg-classifier-challenge/output/SC_Iceberg_Classifier_CNN_3channel_moredata_20180106_133219_5120.csv\n"
     ]
    }
   ],
   "source": [
    "if not os.path.exists(output_path):\n",
    "    os.mkdir(output_path)\n",
    "pred_file = os.path.join(output_path, run_name_acc + '.csv')\n",
    "print(pred_file)"
   ]
  },
  {
   "cell_type": "code",
   "execution_count": 27,
   "metadata": {},
   "outputs": [
    {
     "name": "stdout",
     "output_type": "stream",
     "text": [
      "(8424, 1)\n",
      "[[  4.18339390e-04]\n",
      " [  9.48349118e-01]]\n",
      "(8424, 1)\n",
      "[[ 0.05      ]\n",
      " [ 0.94834912]]\n"
     ]
    }
   ],
   "source": [
    "test_prob = model.predict(x_test)\n",
    "print(test_prob.shape)\n",
    "print(test_prob[0:2])\n",
    "test_prob = np.clip(test_prob, 0.05, 0.95)\n",
    "print(test_prob.shape)\n",
    "print(test_prob[0:2])"
   ]
  },
  {
   "cell_type": "code",
   "execution_count": 28,
   "metadata": {},
   "outputs": [
    {
     "name": "stdout",
     "output_type": "stream",
     "text": [
      "         id  is_iceberg\n",
      "0  5941774d    0.050000\n",
      "1  4023181e    0.948349\n",
      "(8424, 2)\n"
     ]
    }
   ],
   "source": [
    "sample_submission['is_iceberg'] = test_prob\n",
    "print(sample_submission[0:2])\n",
    "print(sample_submission.shape)\n",
    "sample_submission.to_csv(pred_file, index=False)"
   ]
  },
  {
   "cell_type": "code",
   "execution_count": 29,
   "metadata": {},
   "outputs": [
    {
     "name": "stdout",
     "output_type": "stream",
     "text": [
      "time cost: 397.58 s\n",
      "Done!\n"
     ]
    }
   ],
   "source": [
    "t1 = time.time()\n",
    "print('time cost: %.2f s' % (t1-t0))\n",
    "print('Done!')"
   ]
  },
  {
   "cell_type": "code",
   "execution_count": 30,
   "metadata": {},
   "outputs": [
    {
     "name": "stdout",
     "output_type": "stream",
     "text": [
      "SC_Iceberg_Classifier_CNN_3channel_moredata_20180106_133219_5120\n"
     ]
    }
   ],
   "source": [
    "print(run_name_acc)"
   ]
  },
  {
   "cell_type": "code",
   "execution_count": null,
   "metadata": {},
   "outputs": [],
   "source": []
  }
 ],
 "metadata": {
  "kernelspec": {
   "display_name": "Python 3",
   "language": "python",
   "name": "python3"
  },
  "language_info": {
   "codemirror_mode": {
    "name": "ipython",
    "version": 3
   },
   "file_extension": ".py",
   "mimetype": "text/x-python",
   "name": "python",
   "nbconvert_exporter": "python",
   "pygments_lexer": "ipython3",
   "version": "3.5.4"
  }
 },
 "nbformat": 4,
 "nbformat_minor": 2
}
