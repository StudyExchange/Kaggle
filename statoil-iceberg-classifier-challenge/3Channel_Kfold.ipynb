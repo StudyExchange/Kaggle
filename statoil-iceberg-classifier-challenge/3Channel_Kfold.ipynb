{
 "cells": [
  {
   "cell_type": "markdown",
   "metadata": {},
   "source": [
    "# 3Channel_Kfold"
   ]
  },
  {
   "cell_type": "markdown",
   "metadata": {},
   "source": [
    "### Load scripts"
   ]
  },
  {
   "cell_type": "code",
   "execution_count": 1,
   "metadata": {},
   "outputs": [],
   "source": [
    "import time\n",
    "t0 = time.time()"
   ]
  },
  {
   "cell_type": "code",
   "execution_count": 2,
   "metadata": {},
   "outputs": [
    {
     "name": "stdout",
     "output_type": "stream",
     "text": [
      "cwd: D:\\Kaggle\\statoil-iceberg-classifier-challenge\n",
      "input_path: D:\\Kaggle\\statoil-iceberg-classifier-challenge\\input\n",
      "log_path: D:\\Kaggle\\statoil-iceberg-classifier-challenge\\log\n",
      "model_path: D:\\Kaggle\\statoil-iceberg-classifier-challenge\\model\n",
      "output_path: D:\\Kaggle\\statoil-iceberg-classifier-challenge\\output\n",
      "run_name: SC_Iceberg_Classifier-CNN_3channel_Fit_VGG19_FineTune-20180111_004349\n",
      "(8424, 2)\n",
      "(1604,) 0 1 12936\n",
      "(1604, 75, 75) 0.0 1.0 128\n",
      "(1604, 75, 75) 0.0 1.0 128\n",
      "(8424, 75, 75) 0.0 1.0 128\n",
      "(8424, 75, 75) 0.0 1.0 128\n",
      "(1604, 75, 75) 0.0210369138693 1.0 72180128\n",
      "(8424, 75, 75) 0.0 1.0 379080128\n",
      "(1604, 75, 75, 3) 0.0 1.0 216540144\n",
      "(8424, 75, 75, 3) 0.0 1.0 1137240144\n",
      "Wall time: 3.62 s\n"
     ]
    }
   ],
   "source": [
    "%%time\n",
    "from script.util import *\n",
    "\n",
    "run_name = get_run_name('SC_Iceberg_Classifier', 'CNN_3channel_Fit_VGG19_FineTune')\n",
    "sample_submission = load_sample_submission()\n",
    "y_data = load_y_data()\n",
    "x_data, x_test = load_data()"
   ]
  },
  {
   "cell_type": "markdown",
   "metadata": {},
   "source": [
    "### Build model"
   ]
  },
  {
   "cell_type": "code",
   "execution_count": 3,
   "metadata": {},
   "outputs": [
    {
     "name": "stderr",
     "output_type": "stream",
     "text": [
      "Using TensorFlow backend.\n"
     ]
    }
   ],
   "source": [
    "# -*- coding: utf-8 -*-\n",
    "\n",
    "from keras.utils.np_utils import to_categorical # convert to one-hot-encoding\n",
    "from keras.models import Sequential, Model\n",
    "from keras.layers import Input, Dense, Dropout, Flatten, Conv2D, MaxPooling2D, GlobalAveragePooling2D, BatchNormalization\n",
    "from keras.optimizers import Adam\n",
    "from keras.preprocessing.image import ImageDataGenerator\n",
    "from keras.callbacks import LearningRateScheduler, TensorBoard, ModelCheckpoint, EarlyStopping, ReduceLROnPlateau\n",
    "\n",
    "from keras.applications.inception_v3 import InceptionV3\n",
    "from keras.applications.vgg19 import VGG19, preprocess_input\n",
    "\n",
    "from sklearn.model_selection import train_test_split, KFold"
   ]
  },
  {
   "cell_type": "code",
   "execution_count": 4,
   "metadata": {},
   "outputs": [],
   "source": [
    "import time\n",
    "import sys\n",
    "import os\n",
    "\n",
    "import pickle\n",
    "\n",
    "import numpy as np\n",
    "import pandas as pd\n",
    "import matplotlib.pyplot as plt\n",
    "from sklearn.metrics import log_loss, accuracy_score"
   ]
  },
  {
   "cell_type": "code",
   "execution_count": null,
   "metadata": {},
   "outputs": [],
   "source": [
    "def build_cnn(input_shape):\n",
    "    model = Sequential()\n",
    "\n",
    "    model.add(Conv2D(filters=32, kernel_size=(3, 3), activation='relu', input_shape=input_shape))\n",
    "    model.add(BatchNormalization())\n",
    "    model.add(Conv2D(filters=32, kernel_size=(3, 3), activation='relu'))\n",
    "    model.add(BatchNormalization())\n",
    "    model.add(MaxPooling2D(strides=(2, 2)))\n",
    "    model.add(Dropout(0.2))\n",
    "\n",
    "    model.add(Conv2D(filters=64, kernel_size=(3, 3), activation='relu'))\n",
    "    model.add(BatchNormalization())\n",
    "    model.add(Conv2D(filters=64, kernel_size=(3, 3), activation='relu'))\n",
    "    model.add(BatchNormalization())\n",
    "    model.add(MaxPooling2D(strides=(2, 2)))\n",
    "    model.add(Dropout(0.2))\n",
    "\n",
    "    model.add(Conv2D(filters=128, kernel_size=(3, 3), activation='relu'))\n",
    "    model.add(BatchNormalization())\n",
    "    model.add(Conv2D(filters=128, kernel_size=(3, 3), activation='relu'))\n",
    "    model.add(BatchNormalization())\n",
    "    model.add(MaxPooling2D(strides=(2, 2)))\n",
    "    model.add(Dropout(0.2))\n",
    "\n",
    "    model.add(Flatten())\n",
    "    model.add(Dense(1024, activation='relu'))\n",
    "    model.add(Dropout(0.2))\n",
    "    model.add(Dense(units=1, activation='sigmoid'))\n",
    "\n",
    "    # model.compile(optimizer=Adam(lr=1e-4), loss='binary_crossentropy', metrics=['accuracy'])\n",
    "    return model\n",
    "model = build_cnn(x_data.shape[1:])"
   ]
  },
  {
   "cell_type": "code",
   "execution_count": null,
   "metadata": {},
   "outputs": [
    {
     "name": "stdout",
     "output_type": "stream",
     "text": [
      "Now beginning training for fold 0\n",
      "Epoch 1/500\n",
      "84/83 [==============================] - 36s 428ms/step - loss: 1.1384 - acc: 0.6146 - val_loss: 1.1652 - val_acc: 0.4963\n",
      "Epoch 2/500\n",
      "84/83 [==============================] - 30s 359ms/step - loss: 0.7865 - acc: 0.6741 - val_loss: 1.9415 - val_acc: 0.4963\n",
      "Epoch 3/500\n",
      "83/83 [============================>.] - ETA: 0s - loss: 0.6450 - acc: 0.6913\n",
      "Epoch 00003: reducing learning rate to 9.999999747378752e-06.\n",
      "84/83 [==============================] - 30s 357ms/step - loss: 0.6442 - acc: 0.6912 - val_loss: 1.9160 - val_acc: 0.4963\n",
      "Epoch 4/500\n",
      "84/83 [==============================] - 30s 357ms/step - loss: 0.5728 - acc: 0.6853 - val_loss: 2.1355 - val_acc: 0.4963\n",
      "Epoch 00004: early stopping\n",
      "268/268 [==============================] - 1s 5ms/step\n",
      "Final loss: 2.1355, final accuracy: 0.4963\n",
      "Val log_loss: 2.1355108088978136\n",
      "Val log_loss: 1.5335732908057633\n",
      "Index(['acc', 'loss', 'lr', 'val_acc', 'val_loss', 'epoch'], dtype='object')\n"
     ]
    },
    {
     "data": {
      "image/png": "[encoded data removed]",
      "text/plain": [
       "<matplotlib.figure.Figure at 0x225141abb00>"
      ]
     },
     "metadata": {},
     "output_type": "display_data"
    },
    {
     "data": {
      "image/png": "[encoded data removed]",
      "text/plain": [
       "<matplotlib.figure.Figure at 0x225147365c0>"
      ]
     },
     "metadata": {},
     "output_type": "display_data"
    },
    {
     "name": "stdout",
     "output_type": "stream",
     "text": [
      "(8424, 1)\n",
      "(8424, 1)\n",
      "Now beginning training for fold 1\n",
      "Epoch 1/500\n",
      "84/83 [==============================] - 32s 387ms/step - loss: 0.6363 - acc: 0.6942 - val_loss: 2.6683 - val_acc: 0.4552\n",
      "Epoch 2/500\n",
      "45/83 [===============>..............] - ETA: 13s - loss: 0.5946 - acc: 0.6903"
     ]
    }
   ],
   "source": [
    "def train_model(run_name, model, batch_size, epochs, n_fold, x_data, y_data, x_test):\n",
    "    kf = KFold(n_splits=n_fold, random_state=2017)\n",
    "    test_prob = np.zeros((x_test.shape[0], 1))\n",
    "    for i, (train_index, val_index) in enumerate(kf.split(x_data)):\n",
    "        print('Now beginning training for fold %s' % i)\n",
    "        \n",
    "        x_train = x_data[train_index]\n",
    "        x_val = x_data[val_index]\n",
    "        y_train = y_data[train_index]\n",
    "        y_val = y_data[val_index]\n",
    "#         print(train_index[:10])\n",
    "#         print(train_index.shape)\n",
    "#         print(val_index[:10])\n",
    "#         print(val_index.shape)\n",
    "        model.compile(optimizer=Adam(lr=1e-4), loss='binary_crossentropy', metrics=['accuracy'])\n",
    "        datagen = ImageDataGenerator(\n",
    "            zoom_range = 0.2,\n",
    "            rotation_range=20,\n",
    "            horizontal_flip=True,\n",
    "            vertical_flip=True,\n",
    "            width_shift_range=0.2,\n",
    "            height_shift_range=0.2\n",
    "        )\n",
    "        callbacks = [\n",
    "            EarlyStopping(monitor='val_loss', patience=3, verbose=1, min_delta=1e-4),\n",
    "            ReduceLROnPlateau(monitor='val_loss', factor=0.1, patience=1, cooldown=1, verbose=1, min_lr=1e-7),\n",
    "        ]\n",
    "        steps_per_epoch = len(x_train) / batch_size\n",
    "        hist = model.fit_generator(\n",
    "            datagen.flow(x_train, y_train, batch_size=batch_size, shuffle=True, seed=2019),\n",
    "            steps_per_epoch=steps_per_epoch,\n",
    "            epochs=epochs, #1 for ETA, 0 for silent\n",
    "            verbose=1,\n",
    "            max_queue_size=128,\n",
    "            callbacks=callbacks,\n",
    "            workers=32,\n",
    "            validation_data=(x_val, y_val)\n",
    "        )\n",
    "        \n",
    "        \n",
    "        # Valid model\n",
    "        final_loss, final_acc = model.evaluate(x_val, y_val, verbose=1)\n",
    "        print(\"Final loss: {0:.4f}, final accuracy: {1:.4f}\".format(final_loss, final_acc))\n",
    "        val_prob = model.predict(x_val)\n",
    "\n",
    "        val_prob_limit = np.clip(val_prob, 0.00005, 0.99995)\n",
    "        loss = log_loss(y_val, val_prob_limit)\n",
    "        print('Val log_loss: {}'.format(loss))\n",
    "\n",
    "        val_prob_limit = np.clip(val_prob_limit, 0.05, 0.95)\n",
    "        loss = log_loss(y_val, val_prob_limit)\n",
    "        print('Val log_loss: {}'.format(loss))\n",
    "\n",
    "        acc_str = '{0:0>4}'.format(int(loss*10000))\n",
    "        run_name_acc = '%s-%s-%s' % (run_name, i, acc_str)\n",
    "        \n",
    "        histories = pd.DataFrame(hist.history)\n",
    "        histories['epoch'] = hist.epoch\n",
    "        print(histories.columns)\n",
    "        histories_file = os.path.join(model_path, 'fold_' + run_name_acc + str(i) + '.csv')\n",
    "        histories.to_csv(histories_file, index=False)\n",
    "        \n",
    "        plt.plot(histories['loss'], color='b')\n",
    "        plt.plot(histories['val_loss'], color='r')\n",
    "        plt.show()\n",
    "        plt.plot(histories['acc'], color='b')\n",
    "        plt.plot(histories['val_acc'], color='r')\n",
    "        plt.show()\n",
    "        \n",
    "        test_prob_fold = model.predict(x_test)\n",
    "        print(test_prob_fold.shape)\n",
    "        print(test_prob.shape)\n",
    "        test_prob += test_prob_fold\n",
    "        \n",
    "        i += 0\n",
    "    print('Finished training!')\n",
    "    test_prob = test_prob / n_fold\n",
    "    return test_prob\n",
    "\n",
    "test_prob = train_model(run_name, model, 16, 500, 6, x_data, y_data, x_test)\n",
    "describe(test_prob)"
   ]
  },
  {
   "cell_type": "code",
   "execution_count": null,
   "metadata": {},
   "outputs": [],
   "source": [
    "cwd = os.getcwd()\n",
    "input_path = os.path.join(cwd, 'input')\n",
    "log_path = os.path.join(cwd, 'log')\n",
    "model_path = os.path.join(cwd, 'model')\n",
    "output_path = os.path.join(cwd, 'output')\n",
    "\n",
    "print('cwd: %s' % cwd)\n",
    "print('input_path: %s' % input_path)\n",
    "print('log_path: %s' % log_path)\n",
    "print('model_path: %s' % model_path)\n",
    "print('output_path: %s' % output_path)\n",
    "pred_file = os.path.join(output_path, run_name + '.csv')\n",
    "print(pred_file)"
   ]
  },
  {
   "cell_type": "code",
   "execution_count": null,
   "metadata": {},
   "outputs": [],
   "source": [
    "sample_submission['is_iceberg'] = test_prob\n",
    "print(sample_submission[0:2])\n",
    "print(sample_submission.shape)\n",
    "sample_submission.to_csv(pred_file, index=False)"
   ]
  },
  {
   "cell_type": "code",
   "execution_count": null,
   "metadata": {},
   "outputs": [],
   "source": [
    "t1 = time.time()\n",
    "print('time cost: %.2f s' % (t1-t0))\n",
    "print('Done!')"
   ]
  },
  {
   "cell_type": "code",
   "execution_count": null,
   "metadata": {},
   "outputs": [],
   "source": []
  }
 ],
 "metadata": {
  "kernelspec": {
   "display_name": "Python 3",
   "language": "python",
   "name": "python3"
  },
  "language_info": {
   "codemirror_mode": {
    "name": "ipython",
    "version": 3
   },
   "file_extension": ".py",
   "mimetype": "text/x-python",
   "name": "python",
   "nbconvert_exporter": "python",
   "pygments_lexer": "ipython3",
   "version": "3.6.3"
  }
 },
 "nbformat": 4,
 "nbformat_minor": 2
}
