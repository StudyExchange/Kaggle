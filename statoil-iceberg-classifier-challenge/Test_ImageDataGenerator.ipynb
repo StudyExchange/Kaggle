{
 "cells": [
  {
   "cell_type": "markdown",
   "metadata": {},
   "source": [
    "# Test_ImageDataGenerator"
   ]
  },
  {
   "cell_type": "markdown",
   "metadata": {},
   "source": [
    "## 1. Preprocess"
   ]
  },
  {
   "cell_type": "markdown",
   "metadata": {},
   "source": [
    "### Import pkgs"
   ]
  },
  {
   "cell_type": "code",
   "execution_count": 1,
   "metadata": {},
   "outputs": [],
   "source": [
    "import numpy as np\n",
    "import pandas as pd\n",
    "import matplotlib.pyplot as plt\n",
    "import seaborn as sns\n",
    "from sklearn.model_selection import train_test_split\n",
    "from sklearn.ensemble import GradientBoostingClassifier\n",
    "from sklearn.preprocessing import MinMaxScaler, Binarizer\n",
    "from sklearn.metrics import log_loss, accuracy_score\n",
    "from IPython.display import display\n",
    "import skimage\n",
    "%matplotlib inline"
   ]
  },
  {
   "cell_type": "code",
   "execution_count": 2,
   "metadata": {},
   "outputs": [],
   "source": [
    "import os\n",
    "import time\n",
    "import zipfile\n",
    "import lzma\n",
    "import pickle\n",
    "from PIL import Image\n",
    "from shutil import copy2\n",
    "import cv2"
   ]
  },
  {
   "cell_type": "markdown",
   "metadata": {},
   "source": [
    "### Run name"
   ]
  },
  {
   "cell_type": "code",
   "execution_count": 3,
   "metadata": {},
   "outputs": [
    {
     "name": "stdout",
     "output_type": "stream",
     "text": [
      "run_name: SC_Iceberg_Classifier_Test_ImageDataGenerator_20180112_002900\n"
     ]
    }
   ],
   "source": [
    "project_name = 'SC_Iceberg_Classifier'\n",
    "step_name = 'Test_ImageDataGenerator'\n",
    "date_str = time.strftime(\"%Y%m%d\", time.localtime())\n",
    "time_str = time.strftime(\"%Y%m%d_%H%M%S\", time.localtime())\n",
    "run_name = project_name + '_' + step_name + '_' + time_str\n",
    "print('run_name: ' + run_name)\n",
    "t0 = time.time()"
   ]
  },
  {
   "cell_type": "markdown",
   "metadata": {},
   "source": [
    "### Basic folders"
   ]
  },
  {
   "cell_type": "code",
   "execution_count": 4,
   "metadata": {},
   "outputs": [
    {
     "name": "stdout",
     "output_type": "stream",
     "text": [
      "input_path: D:\\Kaggle\\statoil-iceberg-classifier-challenge\\input\n",
      "log_path: D:\\Kaggle\\statoil-iceberg-classifier-challenge\\log\n",
      "model_path: D:\\Kaggle\\statoil-iceberg-classifier-challenge\\model\n",
      "output_path: D:\\Kaggle\\statoil-iceberg-classifier-challenge\\output\n"
     ]
    }
   ],
   "source": [
    "cwd = os.getcwd()\n",
    "input_path = os.path.join(cwd, 'input')\n",
    "log_path = os.path.join(cwd, 'log')\n",
    "model_path = os.path.join(cwd, 'model')\n",
    "output_path = os.path.join(cwd, 'output')\n",
    "print('input_path: ' + input_path)\n",
    "print('log_path: ' + log_path)\n",
    "print('model_path: ' + model_path)\n",
    "print('output_path: ' + output_path)"
   ]
  },
  {
   "cell_type": "markdown",
   "metadata": {},
   "source": [
    "### Basic functions"
   ]
  },
  {
   "cell_type": "code",
   "execution_count": 5,
   "metadata": {},
   "outputs": [],
   "source": [
    "import sys\n",
    "def describe(arr):\n",
    "    print(arr.shape, arr.min(), arr.max(), sys.getsizeof(arr))"
   ]
  },
  {
   "cell_type": "code",
   "execution_count": 6,
   "metadata": {},
   "outputs": [],
   "source": [
    "def show_data_images(rows, fig_column, id_data, y_data, *args):\n",
    "    columns = len(args)\n",
    "    figs, axes = plt.subplots(rows, columns, figsize=(rows, fig_column*columns))\n",
    "    print(axes.shape)  \n",
    "    for i, ax in enumerate(axes):\n",
    "        y_data_str = ''\n",
    "        if type(y_data) != type(None):\n",
    "            y_data_str =  '_' + str(y_data[i])\n",
    "        ax[0].set_title(id_data[i] + y_data_str)\n",
    "        for j, arg in enumerate(args):\n",
    "            ax[j].imshow(arg[i])"
   ]
  },
  {
   "cell_type": "markdown",
   "metadata": {},
   "source": [
    "### Load data"
   ]
  },
  {
   "cell_type": "code",
   "execution_count": 7,
   "metadata": {},
   "outputs": [
    {
     "ename": "FileNotFoundError",
     "evalue": "[Errno 2] No such file or directory: 'D:\\\\Kaggle\\\\statoil-iceberg-classifier-challenge\\\\input\\\\id_data.p'",
     "output_type": "error",
     "traceback": [
      "\u001b[1;31m---------------------------------------------------------------------------\u001b[0m",
      "\u001b[1;31mFileNotFoundError\u001b[0m                         Traceback (most recent call last)",
      "\u001b[1;32m<timed exec>\u001b[0m in \u001b[0;36m<module>\u001b[1;34m()\u001b[0m\n",
      "\u001b[1;31mFileNotFoundError\u001b[0m: [Errno 2] No such file or directory: 'D:\\\\Kaggle\\\\statoil-iceberg-classifier-challenge\\\\input\\\\id_data.p'"
     ]
    }
   ],
   "source": [
    "%%time\n",
    "id_data_path = os.path.join(input_path, 'id_data.p')\n",
    "id_test_path = os.path.join(input_path, 'id_test.p')\n",
    "id_data = pickle.load(open(id_data_path, mode='rb'))\n",
    "id_test = pickle.load(open(id_test_path, mode='rb'))\n",
    "\n",
    "is_iceberg_path = os.path.join(input_path, 'is_iceberg.p')\n",
    "y_data = pickle.load(open(is_iceberg_path, mode='rb'))\n",
    "\n",
    "band1_data_path = os.path.join(input_path, 'band1_data.p')\n",
    "band2_data_path = os.path.join(input_path, 'band2_data.p')\n",
    "band1_test_path = os.path.join(input_path, 'band1_test.p')\n",
    "band2_test_path = os.path.join(input_path, 'band2_test.p')\n",
    "\n",
    "band1_data = pickle.load(open(band1_data_path, mode='rb'))\n",
    "band2_data = pickle.load(open(band2_data_path, mode='rb'))\n",
    "band1_test = pickle.load(open(band1_test_path, mode='rb'))\n",
    "band2_test = pickle.load(open(band2_test_path, mode='rb'))\n",
    "\n",
    "describe(band1_data)\n",
    "describe(band2_data)\n",
    "describe(band1_test)\n",
    "describe(band2_test)"
   ]
  },
  {
   "cell_type": "code",
   "execution_count": 8,
   "metadata": {},
   "outputs": [
    {
     "ename": "FileNotFoundError",
     "evalue": "[Errno 2] No such file or directory: 'D:\\\\Kaggle\\\\statoil-iceberg-classifier-challenge\\\\input\\\\band1_data_gray.p'",
     "output_type": "error",
     "traceback": [
      "\u001b[1;31m---------------------------------------------------------------------------\u001b[0m",
      "\u001b[1;31mFileNotFoundError\u001b[0m                         Traceback (most recent call last)",
      "\u001b[1;32m<timed exec>\u001b[0m in \u001b[0;36m<module>\u001b[1;34m()\u001b[0m\n",
      "\u001b[1;31mFileNotFoundError\u001b[0m: [Errno 2] No such file or directory: 'D:\\\\Kaggle\\\\statoil-iceberg-classifier-challenge\\\\input\\\\band1_data_gray.p'"
     ]
    }
   ],
   "source": [
    "%%time\n",
    "band1_data_gray_path = os.path.join(input_path, 'band1_data_gray.p')\n",
    "band2_data_gray_path = os.path.join(input_path, 'band2_data_gray.p')\n",
    "band1_test_gray_path = os.path.join(input_path, 'band1_test_gray.p')\n",
    "band2_test_gray_path = os.path.join(input_path, 'band2_test_gray.p')\n",
    "\n",
    "band1_data_gray = pickle.load(open(band1_data_gray_path, mode='rb'))\n",
    "band2_data_gray = pickle.load(open(band2_data_gray_path, mode='rb'))\n",
    "band1_test_gray = pickle.load(open(band1_test_gray_path, mode='rb'))\n",
    "band2_test_gray = pickle.load(open(band2_test_gray_path, mode='rb'))\n",
    "\n",
    "describe(band1_data_gray)\n",
    "describe(band2_data_gray)\n",
    "describe(band1_test_gray)\n",
    "describe(band2_test_gray)"
   ]
  },
  {
   "cell_type": "code",
   "execution_count": 9,
   "metadata": {},
   "outputs": [
    {
     "ename": "NameError",
     "evalue": "name 'id_test' is not defined",
     "output_type": "error",
     "traceback": [
      "\u001b[1;31m---------------------------------------------------------------------------\u001b[0m",
      "\u001b[1;31mNameError\u001b[0m                                 Traceback (most recent call last)",
      "\u001b[1;32m<ipython-input-9-eefdd83475b1>\u001b[0m in \u001b[0;36m<module>\u001b[1;34m()\u001b[0m\n\u001b[1;32m----> 1\u001b[1;33m \u001b[0mshow_data_images\u001b[0m\u001b[1;33m(\u001b[0m\u001b[1;36m6\u001b[0m\u001b[1;33m,\u001b[0m \u001b[1;36m3\u001b[0m\u001b[1;33m,\u001b[0m \u001b[0mid_test\u001b[0m\u001b[1;33m,\u001b[0m \u001b[0my_data\u001b[0m\u001b[1;33m,\u001b[0m \u001b[0mband1_data\u001b[0m\u001b[1;33m,\u001b[0m \u001b[0mband1_data_gray\u001b[0m\u001b[1;33m,\u001b[0m \u001b[0mband2_data\u001b[0m\u001b[1;33m,\u001b[0m \u001b[0mband2_data_gray\u001b[0m\u001b[1;33m)\u001b[0m\u001b[1;33m\u001b[0m\u001b[0m\n\u001b[0m",
      "\u001b[1;31mNameError\u001b[0m: name 'id_test' is not defined"
     ]
    }
   ],
   "source": [
    "show_data_images(6, 3, id_test, y_data, band1_data, band1_data_gray, band2_data, band2_data_gray)"
   ]
  },
  {
   "cell_type": "code",
   "execution_count": null,
   "metadata": {},
   "outputs": [],
   "source": [
    "show_data_images(6, 3, id_test, None, band1_test, band1_test_gray, band2_test, band2_test_gray)"
   ]
  },
  {
   "cell_type": "markdown",
   "metadata": {},
   "source": [
    "### Test ImageDataGenerator"
   ]
  },
  {
   "cell_type": "code",
   "execution_count": null,
   "metadata": {},
   "outputs": [],
   "source": [
    "band_data_gray_avg = (band1_data_gray + band2_data_gray)/2"
   ]
  },
  {
   "cell_type": "code",
   "execution_count": null,
   "metadata": {},
   "outputs": [],
   "source": [
    "x_data1 = np.concatenate([band1_data_gray[:, :, :, np.newaxis],\n",
    "                         band2_data_gray[:, :, :, np.newaxis],\n",
    "                         band_data_gray_avg[:, :, :, np.newaxis]], axis=-1)\n",
    "describe(x_data1)"
   ]
  },
  {
   "cell_type": "code",
   "execution_count": null,
   "metadata": {},
   "outputs": [],
   "source": [
    "from keras.preprocessing.image import ImageDataGenerator\n",
    "\n",
    "# datagen = ImageDataGenerator(\n",
    "#     rotation_range=20,\n",
    "#     width_shift_range=0.2,\n",
    "#     height_shift_range=0.2,\n",
    "#     horizontal_flip=True)\n",
    "datagen = ImageDataGenerator()"
   ]
  },
  {
   "cell_type": "code",
   "execution_count": null,
   "metadata": {},
   "outputs": [],
   "source": [
    "n = 6\n",
    "batch_size = 6\n",
    "x1 = []\n",
    "y1 = []\n",
    "for x_batch, y_batch in datagen.flow(x_data1[:n], y_data[:n], batch_size=batch_size, shuffle=False):\n",
    "    x1.append(x_batch)\n",
    "    y1.append(y_batch)\n",
    "    break\n",
    "x1 = np.concatenate(x1)\n",
    "y1 = np.concatenate(y1)"
   ]
  },
  {
   "cell_type": "code",
   "execution_count": null,
   "metadata": {},
   "outputs": [],
   "source": [
    "show_data_images(6, 6, id_test[:batch_size], y1, x_data1[:batch_size], x1)"
   ]
  },
  {
   "cell_type": "code",
   "execution_count": null,
   "metadata": {},
   "outputs": [],
   "source": [
    "datagen = ImageDataGenerator(\n",
    "#     zoom_range=0.1,\n",
    "    rotation_range=20,\n",
    "    width_shift_range=0.3,\n",
    "    height_shift_range=0.3,\n",
    "    horizontal_flip=True,\n",
    "    vertical_flip=True)"
   ]
  },
  {
   "cell_type": "code",
   "execution_count": null,
   "metadata": {},
   "outputs": [],
   "source": [
    "n = 6\n",
    "batch_size = 6\n",
    "x1 = []\n",
    "y1 = []\n",
    "for x_batch, y_batch in datagen.flow(x_data1[:n], y_data[:n], batch_size=batch_size, shuffle=False):\n",
    "    x1.append(x_batch)\n",
    "    y1.append(y_batch)\n",
    "    break\n",
    "x1 = np.concatenate(x1)\n",
    "y1 = np.concatenate(y1)"
   ]
  },
  {
   "cell_type": "code",
   "execution_count": null,
   "metadata": {},
   "outputs": [],
   "source": [
    "show_data_images(6, 6, id_test[:batch_size], y1, x_data1[:batch_size], x1)"
   ]
  },
  {
   "cell_type": "code",
   "execution_count": null,
   "metadata": {},
   "outputs": [],
   "source": [
    "t1 = time.time()\n",
    "print('time cost: %.2f s' % (t1-t0))\n",
    "print('Done!')"
   ]
  },
  {
   "cell_type": "code",
   "execution_count": null,
   "metadata": {},
   "outputs": [],
   "source": [
    "print(run_name)"
   ]
  },
  {
   "cell_type": "code",
   "execution_count": null,
   "metadata": {},
   "outputs": [],
   "source": []
  }
 ],
 "metadata": {
  "kernelspec": {
   "display_name": "Python 3",
   "language": "python",
   "name": "python3"
  },
  "language_info": {
   "codemirror_mode": {
    "name": "ipython",
    "version": 3
   },
   "file_extension": ".py",
   "mimetype": "text/x-python",
   "name": "python",
   "nbconvert_exporter": "python",
   "pygments_lexer": "ipython3",
   "version": "3.6.3"
  }
 },
 "nbformat": 4,
 "nbformat_minor": 2
}
