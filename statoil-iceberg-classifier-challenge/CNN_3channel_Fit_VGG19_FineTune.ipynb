{
 "cells": [
  {
   "cell_type": "markdown",
   "metadata": {},
   "source": [
    "# CNN_3channel_Fit_VGG19_FineTune\n",
    "\n",
    "Abstract:\n",
    "- REsize image to fit VGG19\n",
    "- CNN, small net\n",
    "\n",
    "Result:\n",
    "- Kaggle score: \n",
    "\n",
    "References:\n",
    "- https://www.kaggle.com/ivalmian/simple-svd-xgboost-baseline-lb-35\n",
    "- https://www.kaggle.com/arieltci/a-keras-prototype-0-21174-on-pl\n",
    "- https://www.kaggle.com/henokanh/cnn-batchnormalization-0-1646"
   ]
  },
  {
   "cell_type": "markdown",
   "metadata": {},
   "source": [
    "## 1. Preprocess"
   ]
  },
  {
   "cell_type": "markdown",
   "metadata": {},
   "source": [
    "### Import pkgs"
   ]
  },
  {
   "cell_type": "code",
   "execution_count": 1,
   "metadata": {
    "collapsed": true
   },
   "outputs": [],
   "source": [
    "import numpy as np\n",
    "import pandas as pd\n",
    "import matplotlib.pyplot as plt\n",
    "import seaborn as sns\n",
    "from sklearn.model_selection import train_test_split\n",
    "from sklearn.ensemble import GradientBoostingClassifier\n",
    "from sklearn.preprocessing import MinMaxScaler\n",
    "from sklearn.metrics import log_loss, accuracy_score\n",
    "from IPython.display import display\n",
    "\n",
    "%matplotlib inline"
   ]
  },
  {
   "cell_type": "code",
   "execution_count": 2,
   "metadata": {
    "collapsed": true
   },
   "outputs": [],
   "source": [
    "import os\n",
    "import time\n",
    "import zipfile\n",
    "import lzma\n",
    "import pickle\n",
    "from PIL import Image\n",
    "from shutil import copy2\n",
    "import gc"
   ]
  },
  {
   "cell_type": "markdown",
   "metadata": {},
   "source": [
    "### Run name"
   ]
  },
  {
   "cell_type": "code",
   "execution_count": 3,
   "metadata": {},
   "outputs": [
    {
     "name": "stdout",
     "output_type": "stream",
     "text": [
      "run_name: SC_Iceberg_Classifier_CNN_3channel_Fit_VGG19_FineTune_20180107_132211\n"
     ]
    }
   ],
   "source": [
    "project_name = 'SC_Iceberg_Classifier'\n",
    "step_name = 'CNN_3channel_Fit_VGG19_FineTune'\n",
    "date_str = time.strftime(\"%Y%m%d\", time.localtime())\n",
    "time_str = time.strftime(\"%Y%m%d_%H%M%S\", time.localtime())\n",
    "run_name = project_name + '_' + step_name + '_' + time_str\n",
    "print('run_name: ' + run_name)\n",
    "t0 = time.time()"
   ]
  },
  {
   "cell_type": "markdown",
   "metadata": {},
   "source": [
    "### Basic folders"
   ]
  },
  {
   "cell_type": "code",
   "execution_count": 4,
   "metadata": {},
   "outputs": [
    {
     "name": "stdout",
     "output_type": "stream",
     "text": [
      "input_path: /data1/Kaggle/statoil-iceberg-classifier-challenge/input\n",
      "log_path: /data1/Kaggle/statoil-iceberg-classifier-challenge/log\n",
      "model_path: /data1/Kaggle/statoil-iceberg-classifier-challenge/model\n",
      "output_path: /data1/Kaggle/statoil-iceberg-classifier-challenge/output\n"
     ]
    }
   ],
   "source": [
    "cwd = os.getcwd()\n",
    "input_path = os.path.join(cwd, 'input')\n",
    "log_path = os.path.join(cwd, 'log')\n",
    "model_path = os.path.join(cwd, 'model')\n",
    "output_path = os.path.join(cwd, 'output')\n",
    "print('input_path: ' + input_path)\n",
    "print('log_path: ' + log_path)\n",
    "print('model_path: ' + model_path)\n",
    "print('output_path: ' + output_path)"
   ]
  },
  {
   "cell_type": "markdown",
   "metadata": {},
   "source": [
    "### Basic functions"
   ]
  },
  {
   "cell_type": "code",
   "execution_count": 5,
   "metadata": {
    "collapsed": true
   },
   "outputs": [],
   "source": [
    "import sys\n",
    "def describe(arr):\n",
    "    print(arr.shape, arr.min(), arr.max(), sys.getsizeof(arr))"
   ]
  },
  {
   "cell_type": "markdown",
   "metadata": {},
   "source": [
    "### Load data"
   ]
  },
  {
   "cell_type": "code",
   "execution_count": 6,
   "metadata": {},
   "outputs": [
    {
     "name": "stdout",
     "output_type": "stream",
     "text": [
      "(8424, 2)\n"
     ]
    },
    {
     "data": {
      "text/html": [
       "<div>\n",
       "<style>\n",
       "    .dataframe thead tr:only-child th {\n",
       "        text-align: right;\n",
       "    }\n",
       "\n",
       "    .dataframe thead th {\n",
       "        text-align: left;\n",
       "    }\n",
       "\n",
       "    .dataframe tbody tr th {\n",
       "        vertical-align: top;\n",
       "    }\n",
       "</style>\n",
       "<table border=\"1\" class=\"dataframe\">\n",
       "  <thead>\n",
       "    <tr style=\"text-align: right;\">\n",
       "      <th></th>\n",
       "      <th>id</th>\n",
       "      <th>is_iceberg</th>\n",
       "    </tr>\n",
       "  </thead>\n",
       "  <tbody>\n",
       "    <tr>\n",
       "      <th>0</th>\n",
       "      <td>5941774d</td>\n",
       "      <td>0.5</td>\n",
       "    </tr>\n",
       "    <tr>\n",
       "      <th>1</th>\n",
       "      <td>4023181e</td>\n",
       "      <td>0.5</td>\n",
       "    </tr>\n",
       "  </tbody>\n",
       "</table>\n",
       "</div>"
      ],
      "text/plain": [
       "         id  is_iceberg\n",
       "0  5941774d         0.5\n",
       "1  4023181e         0.5"
      ]
     },
     "execution_count": 6,
     "metadata": {},
     "output_type": "execute_result"
    }
   ],
   "source": [
    "sample_submission_path = os.path.join(input_path, 'sample_submission.csv')\n",
    "sample_submission = pd.read_csv(sample_submission_path)\n",
    "print(sample_submission.shape)\n",
    "sample_submission.head(2)"
   ]
  },
  {
   "cell_type": "code",
   "execution_count": 7,
   "metadata": {},
   "outputs": [
    {
     "name": "stdout",
     "output_type": "stream",
     "text": [
      "(1604,) 0 1 25688\n"
     ]
    }
   ],
   "source": [
    "is_iceberg_path = os.path.join(input_path, 'is_iceberg.p')\n",
    "y_data = pickle.load(open(is_iceberg_path, mode='rb'))\n",
    "\n",
    "describe(y_data)"
   ]
  },
  {
   "cell_type": "code",
   "execution_count": 8,
   "metadata": {},
   "outputs": [
    {
     "name": "stdout",
     "output_type": "stream",
     "text": [
      "(1604,) 0.0 45.9375 25688\n",
      "(8424,) 23.0805 50.66178518 134808\n",
      "CPU times: user 4 ms, sys: 0 ns, total: 4 ms\n",
      "Wall time: 4.18 ms\n"
     ]
    }
   ],
   "source": [
    "%%time\n",
    "#Load orignal data\n",
    "inc_angle_data_path = os.path.join(input_path, 'inc_angle_data.p')\n",
    "inc_angle_test_path = os.path.join(input_path, 'inc_angle_test.p')\n",
    "\n",
    "inc_angle_data = pickle.load(open(inc_angle_data_path, mode='rb'))\n",
    "inc_angle_test = pickle.load(open(inc_angle_test_path, mode='rb'))\n",
    "\n",
    "describe(inc_angle_data)\n",
    "describe(inc_angle_test)"
   ]
  },
  {
   "cell_type": "code",
   "execution_count": 9,
   "metadata": {},
   "outputs": [
    {
     "name": "stdout",
     "output_type": "stream",
     "text": [
      "(1604, 75, 75) 0.0 1.0 128\n",
      "(1604, 75, 75) 0.0 1.0 128\n",
      "(8424, 75, 75) 0.0 1.0 128\n",
      "(8424, 75, 75) 0.0 1.0 128\n",
      "(1604, 75, 75) 0.0114754206838 1.0 72180128\n",
      "(8424, 75, 75) 0.0 1.0 379080128\n",
      "CPU times: user 624 ms, sys: 1.12 s, total: 1.74 s\n",
      "Wall time: 1.74 s\n"
     ]
    }
   ],
   "source": [
    "%%time\n",
    "#Load orignal data\n",
    "# band1_data_path = os.path.join(input_path, 'band1_data_gray200.p')\n",
    "# band2_data_path = os.path.join(input_path, 'band2_data_gray200.p')\n",
    "# band1_test_path = os.path.join(input_path, 'band1_test_gray200.p')\n",
    "# band2_test_path = os.path.join(input_path, 'band2_test_gray200.p')\n",
    "\n",
    "band1_data_path = os.path.join(input_path, 'band1_data_gray.p')\n",
    "band2_data_path = os.path.join(input_path, 'band2_data_gray.p')\n",
    "band1_test_path = os.path.join(input_path, 'band1_test_gray.p')\n",
    "band2_test_path = os.path.join(input_path, 'band2_test_gray.p')\n",
    "\n",
    "band1_data = pickle.load(open(band1_data_path, mode='rb'))\n",
    "band2_data = pickle.load(open(band2_data_path, mode='rb'))\n",
    "band1_test = pickle.load(open(band1_test_path, mode='rb'))\n",
    "band2_test = pickle.load(open(band2_test_path, mode='rb'))\n",
    "\n",
    "band_avg_data = (band1_data + band2_data)/2\n",
    "band_avg_test = (band1_test + band2_test)/2\n",
    "\n",
    "\n",
    "describe(band1_data)\n",
    "describe(band2_data)\n",
    "describe(band1_test)\n",
    "describe(band2_test)\n",
    "\n",
    "describe(band_avg_data)\n",
    "describe(band_avg_test)"
   ]
  },
  {
   "cell_type": "code",
   "execution_count": 10,
   "metadata": {},
   "outputs": [
    {
     "name": "stdout",
     "output_type": "stream",
     "text": [
      "(1604, 75, 75, 3) 0.0 1.0 216540144\n",
      "(8424, 75, 75, 3) 0.0 1.0 1137240144\n",
      "CPU times: user 852 ms, sys: 524 ms, total: 1.38 s\n",
      "Wall time: 1.37 s\n"
     ]
    }
   ],
   "source": [
    "%%time\n",
    "x_data = np.concatenate([band1_data[:, :, :, np.newaxis],\n",
    "                         band2_data[:, :, :, np.newaxis],\n",
    "                         band_avg_data[:, :, :, np.newaxis]], axis=-1)\n",
    "describe(x_data)\n",
    "del band1_data\n",
    "del band2_data\n",
    "del band_avg_data\n",
    "gc.collect()\n",
    "x_test = np.concatenate([band1_test[:, :, :, np.newaxis],\n",
    "                         band2_test[:, :, :, np.newaxis],\n",
    "                         band_avg_test[:, :, :, np.newaxis]], axis=-1)\n",
    "describe(x_test)\n",
    "del band1_test\n",
    "del band2_test\n",
    "del band_avg_test\n",
    "gc.collect()"
   ]
  },
  {
   "cell_type": "code",
   "execution_count": 11,
   "metadata": {},
   "outputs": [
    {
     "name": "stdout",
     "output_type": "stream",
     "text": [
      "(1363, 75, 75, 3)\n",
      "(241, 75, 75, 3)\n",
      "(1363,)\n",
      "(241,)\n",
      "(1363,)\n",
      "(241,)\n",
      "CPU times: user 40 ms, sys: 80 ms, total: 120 ms\n",
      "Wall time: 119 ms\n"
     ]
    }
   ],
   "source": [
    "%%time\n",
    "x_train, x_val, inc_angle_train, inc_angle_val, y_train, y_val = train_test_split(x_data, inc_angle_data, y_data, test_size=0.15, random_state=31)\n",
    "print(x_train.shape)\n",
    "print(x_val.shape)\n",
    "print(inc_angle_train.shape)\n",
    "print(inc_angle_val.shape)\n",
    "print(y_train.shape)\n",
    "print(y_val.shape)"
   ]
  },
  {
   "cell_type": "markdown",
   "metadata": {},
   "source": [
    "## 2. Build model"
   ]
  },
  {
   "cell_type": "code",
   "execution_count": 12,
   "metadata": {},
   "outputs": [
    {
     "name": "stderr",
     "output_type": "stream",
     "text": [
      "Using TensorFlow backend.\n"
     ]
    }
   ],
   "source": [
    "from keras.applications.vgg19 import VGG19\n",
    "from keras.preprocessing import image\n",
    "from keras.models import Model\n",
    "from keras.layers import Dense, GlobalAveragePooling2D\n",
    "from keras.preprocessing.image import ImageDataGenerator\n",
    "from keras.optimizers import Adam\n",
    "from keras import backend as K\n",
    "from keras.callbacks import LearningRateScheduler, TensorBoard"
   ]
  },
  {
   "cell_type": "code",
   "execution_count": 13,
   "metadata": {
    "collapsed": true
   },
   "outputs": [],
   "source": [
    "def build_model():\n",
    "    base_model = VGG19(weights='imagenet', include_top=False)\n",
    "\n",
    "    x = base_model.output\n",
    "    x = GlobalAveragePooling2D()(x)\n",
    "    x = Dense(512, activation='relu')(x)\n",
    "    x = Dense(512, activation='relu')(x)\n",
    "    x = Dense(64, activation='relu')(x)\n",
    "    predictions = Dense(1, activation='sigmoid')(x)\n",
    "    model = Model(inputs=base_model.input, outputs=predictions)\n",
    "\n",
    "    for layer in base_model.layers:\n",
    "        layer.trainable = False\n",
    "\n",
    "    model.compile(optimizer = Adam(lr=1e-4), loss = 'binary_crossentropy', metrics = ['accuracy'])\n",
    "    return model"
   ]
  },
  {
   "cell_type": "code",
   "execution_count": 14,
   "metadata": {},
   "outputs": [
    {
     "name": "stdout",
     "output_type": "stream",
     "text": [
      "_________________________________________________________________\n",
      "Layer (type)                 Output Shape              Param #   \n",
      "=================================================================\n",
      "input_1 (InputLayer)         (None, None, None, 3)     0         \n",
      "_________________________________________________________________\n",
      "block1_conv1 (Conv2D)        (None, None, None, 64)    1792      \n",
      "_________________________________________________________________\n",
      "block1_conv2 (Conv2D)        (None, None, None, 64)    36928     \n",
      "_________________________________________________________________\n",
      "block1_pool (MaxPooling2D)   (None, None, None, 64)    0         \n",
      "_________________________________________________________________\n",
      "block2_conv1 (Conv2D)        (None, None, None, 128)   73856     \n",
      "_________________________________________________________________\n",
      "block2_conv2 (Conv2D)        (None, None, None, 128)   147584    \n",
      "_________________________________________________________________\n",
      "block2_pool (MaxPooling2D)   (None, None, None, 128)   0         \n",
      "_________________________________________________________________\n",
      "block3_conv1 (Conv2D)        (None, None, None, 256)   295168    \n",
      "_________________________________________________________________\n",
      "block3_conv2 (Conv2D)        (None, None, None, 256)   590080    \n",
      "_________________________________________________________________\n",
      "block3_conv3 (Conv2D)        (None, None, None, 256)   590080    \n",
      "_________________________________________________________________\n",
      "block3_conv4 (Conv2D)        (None, None, None, 256)   590080    \n",
      "_________________________________________________________________\n",
      "block3_pool (MaxPooling2D)   (None, None, None, 256)   0         \n",
      "_________________________________________________________________\n",
      "block4_conv1 (Conv2D)        (None, None, None, 512)   1180160   \n",
      "_________________________________________________________________\n",
      "block4_conv2 (Conv2D)        (None, None, None, 512)   2359808   \n",
      "_________________________________________________________________\n",
      "block4_conv3 (Conv2D)        (None, None, None, 512)   2359808   \n",
      "_________________________________________________________________\n",
      "block4_conv4 (Conv2D)        (None, None, None, 512)   2359808   \n",
      "_________________________________________________________________\n",
      "block4_pool (MaxPooling2D)   (None, None, None, 512)   0         \n",
      "_________________________________________________________________\n",
      "block5_conv1 (Conv2D)        (None, None, None, 512)   2359808   \n",
      "_________________________________________________________________\n",
      "block5_conv2 (Conv2D)        (None, None, None, 512)   2359808   \n",
      "_________________________________________________________________\n",
      "block5_conv3 (Conv2D)        (None, None, None, 512)   2359808   \n",
      "_________________________________________________________________\n",
      "block5_conv4 (Conv2D)        (None, None, None, 512)   2359808   \n",
      "_________________________________________________________________\n",
      "block5_pool (MaxPooling2D)   (None, None, None, 512)   0         \n",
      "_________________________________________________________________\n",
      "global_average_pooling2d_1 ( (None, 512)               0         \n",
      "_________________________________________________________________\n",
      "dense_1 (Dense)              (None, 512)               262656    \n",
      "_________________________________________________________________\n",
      "dense_2 (Dense)              (None, 512)               262656    \n",
      "_________________________________________________________________\n",
      "dense_3 (Dense)              (None, 64)                32832     \n",
      "_________________________________________________________________\n",
      "dense_4 (Dense)              (None, 1)                 65        \n",
      "=================================================================\n",
      "Total params: 20,582,593\n",
      "Trainable params: 558,209\n",
      "Non-trainable params: 20,024,384\n",
      "_________________________________________________________________\n"
     ]
    }
   ],
   "source": [
    "model = build_model()\n",
    "model.summary()"
   ]
  },
  {
   "cell_type": "code",
   "execution_count": 15,
   "metadata": {
    "collapsed": true
   },
   "outputs": [],
   "source": [
    "def saveModel(model, run_name):\n",
    "    cwd = os.getcwd()\n",
    "    modelPath = os.path.join(cwd, 'model')\n",
    "    if not os.path.isdir(modelPath):\n",
    "        os.mkdir(modelPath)\n",
    "    weigthsFile = os.path.join(modelPath, run_name + '.h5')\n",
    "    model.save(weigthsFile)\n",
    "# saveModel(model, 'saveModel_test')"
   ]
  },
  {
   "cell_type": "code",
   "execution_count": 16,
   "metadata": {},
   "outputs": [
    {
     "name": "stdout",
     "output_type": "stream",
     "text": [
      "log_dir:/data1/Kaggle/statoil-iceberg-classifier-challenge/log/SC_Iceberg_Classifier_CNN_3channel_Fit_VGG19_FineTune_20180107_132211\n"
     ]
    }
   ],
   "source": [
    "def get_lr(x):\n",
    "    lr = round(1e-4 * 0.995 ** x, 6)\n",
    "    if lr < 5e-5:\n",
    "        lr = 5e-5\n",
    "    print(lr, end='  ')\n",
    "    return lr\n",
    "\n",
    "# annealer = LearningRateScheduler(lambda x: 1e-3 * 0.9 ** x)\n",
    "annealer = LearningRateScheduler(get_lr)\n",
    "\n",
    "log_dir = os.path.join(log_path, run_name)\n",
    "print('log_dir:' + log_dir)\n",
    "tensorBoard = TensorBoard(log_dir=log_dir)"
   ]
  },
  {
   "cell_type": "code",
   "execution_count": null,
   "metadata": {
    "collapsed": true
   },
   "outputs": [],
   "source": [
    "datagen = ImageDataGenerator(\n",
    "    zoom_range = 0.2,\n",
    "    rotation_range=20,\n",
    "    width_shift_range=0.3,\n",
    "    height_shift_range=0.3,\n",
    "    horizontal_flip=True,\n",
    "    vertical_flip=True\n",
    ")"
   ]
  },
  {
   "cell_type": "code",
   "execution_count": null,
   "metadata": {},
   "outputs": [
    {
     "name": "stdout",
     "output_type": "stream",
     "text": [
      "0.0001  Epoch 1/100\n",
      "100/100 [==============================] - 29s 285ms/step - loss: 0.6162 - acc: 0.6652 - val_loss: 0.5698 - val_acc: 0.6598\n",
      "0.0001  Epoch 2/100\n",
      "100/100 [==============================] - 26s 256ms/step - loss: 0.5619 - acc: 0.7078 - val_loss: 0.5334 - val_acc: 0.7012\n",
      "9.9e-05  Epoch 3/100\n",
      "100/100 [==============================] - 24s 244ms/step - loss: 0.5303 - acc: 0.7159 - val_loss: 0.5059 - val_acc: 0.7220\n",
      "9.9e-05  Epoch 4/100\n",
      "100/100 [==============================] - 25s 254ms/step - loss: 0.5256 - acc: 0.7270 - val_loss: 0.4864 - val_acc: 0.7137\n",
      "9.8e-05  Epoch 5/100\n",
      "100/100 [==============================] - 25s 245ms/step - loss: 0.5007 - acc: 0.7452 - val_loss: 0.4716 - val_acc: 0.7220\n",
      "9.8e-05  Epoch 6/100\n",
      "100/100 [==============================] - 25s 254ms/step - loss: 0.4935 - acc: 0.7472 - val_loss: 0.4637 - val_acc: 0.7137\n",
      "9.7e-05  Epoch 7/100\n",
      "100/100 [==============================] - 24s 243ms/step - loss: 0.4874 - acc: 0.7496 - val_loss: 0.4638 - val_acc: 0.7801\n",
      "9.7e-05  Epoch 8/100\n",
      "100/100 [==============================] - 26s 257ms/step - loss: 0.4853 - acc: 0.7482 - val_loss: 0.4586 - val_acc: 0.7344\n",
      "9.6e-05  Epoch 9/100\n",
      "100/100 [==============================] - 25s 250ms/step - loss: 0.4826 - acc: 0.7490 - val_loss: 0.4571 - val_acc: 0.7386\n",
      "9.6e-05  Epoch 10/100\n",
      "100/100 [==============================] - 25s 252ms/step - loss: 0.4750 - acc: 0.7564 - val_loss: 0.4356 - val_acc: 0.7344\n",
      "9.5e-05  Epoch 11/100\n",
      "100/100 [==============================] - 24s 244ms/step - loss: 0.4717 - acc: 0.7560 - val_loss: 0.4317 - val_acc: 0.7469\n",
      "9.5e-05  Epoch 12/100\n",
      "100/100 [==============================] - 25s 249ms/step - loss: 0.4639 - acc: 0.7625 - val_loss: 0.4402 - val_acc: 0.7469\n",
      "9.4e-05  Epoch 13/100\n",
      "100/100 [==============================] - 25s 255ms/step - loss: 0.4653 - acc: 0.7615 - val_loss: 0.4344 - val_acc: 0.7676\n",
      "9.4e-05  Epoch 14/100\n",
      "100/100 [==============================] - 25s 245ms/step - loss: 0.4628 - acc: 0.7650 - val_loss: 0.4161 - val_acc: 0.7676\n",
      "9.3e-05  Epoch 15/100\n",
      "100/100 [==============================] - 25s 253ms/step - loss: 0.4635 - acc: 0.7607 - val_loss: 0.4148 - val_acc: 0.7884\n",
      "9.3e-05  Epoch 16/100\n",
      "100/100 [==============================] - 25s 245ms/step - loss: 0.4659 - acc: 0.7603 - val_loss: 0.4154 - val_acc: 0.7925\n",
      "9.2e-05  Epoch 17/100\n",
      "100/100 [==============================] - 26s 257ms/step - loss: 0.4598 - acc: 0.7674 - val_loss: 0.4130 - val_acc: 0.7469\n",
      "9.2e-05  Epoch 18/100\n",
      "100/100 [==============================] - 24s 244ms/step - loss: 0.4542 - acc: 0.7664 - val_loss: 0.4065 - val_acc: 0.7676\n",
      "9.1e-05  Epoch 19/100\n",
      "100/100 [==============================] - 25s 255ms/step - loss: 0.4464 - acc: 0.7678 - val_loss: 0.4031 - val_acc: 0.7718\n",
      "9.1e-05  Epoch 20/100\n",
      "100/100 [==============================] - 25s 245ms/step - loss: 0.4536 - acc: 0.7703 - val_loss: 0.4000 - val_acc: 0.8174\n",
      "9e-05  Epoch 21/100\n",
      "100/100 [==============================] - 26s 256ms/step - loss: 0.4468 - acc: 0.7747 - val_loss: 0.4065 - val_acc: 0.7635\n",
      "9e-05  Epoch 22/100\n",
      "100/100 [==============================] - 24s 245ms/step - loss: 0.4415 - acc: 0.7769 - val_loss: 0.3905 - val_acc: 0.8050\n",
      "9e-05  Epoch 23/100\n",
      "100/100 [==============================] - 25s 249ms/step - loss: 0.4373 - acc: 0.7815 - val_loss: 0.3948 - val_acc: 0.8216\n",
      "8.9e-05  Epoch 24/100\n",
      "100/100 [==============================] - 25s 254ms/step - loss: 0.4350 - acc: 0.7803 - val_loss: 0.3935 - val_acc: 0.8091s - loss: 0.4340 - acc: \n",
      "8.9e-05  Epoch 25/100\n",
      "100/100 [==============================] - 25s 247ms/step - loss: 0.4454 - acc: 0.7744 - val_loss: 0.3905 - val_acc: 0.8008\n",
      "8.8e-05  Epoch 26/100\n",
      "100/100 [==============================] - 25s 253ms/step - loss: 0.4464 - acc: 0.7720 - val_loss: 0.3881 - val_acc: 0.8174\n",
      "8.8e-05  Epoch 27/100\n",
      "100/100 [==============================] - 24s 242ms/step - loss: 0.4425 - acc: 0.7738 - val_loss: 0.3912 - val_acc: 0.8091\n",
      "8.7e-05  Epoch 28/100\n",
      "100/100 [==============================] - 26s 256ms/step - loss: 0.4391 - acc: 0.7765 - val_loss: 0.4075 - val_acc: 0.7469\n",
      "8.7e-05  Epoch 29/100\n",
      "100/100 [==============================] - 24s 242ms/step - loss: 0.4431 - acc: 0.7752 - val_loss: 0.3969 - val_acc: 0.8133\n",
      "8.6e-05  Epoch 30/100\n",
      "100/100 [==============================] - 26s 255ms/step - loss: 0.4298 - acc: 0.7859 - val_loss: 0.3985 - val_acc: 0.7801\n",
      "8.6e-05  Epoch 31/100\n",
      "100/100 [==============================] - 25s 246ms/step - loss: 0.4325 - acc: 0.7844 - val_loss: 0.3877 - val_acc: 0.8174\n",
      "8.6e-05  Epoch 32/100\n",
      "100/100 [==============================] - 25s 253ms/step - loss: 0.4320 - acc: 0.7881 - val_loss: 0.3856 - val_acc: 0.8008\n",
      "8.5e-05  Epoch 33/100\n",
      "100/100 [==============================] - 24s 245ms/step - loss: 0.4283 - acc: 0.7909 - val_loss: 0.3998 - val_acc: 0.7925\n",
      "8.5e-05  Epoch 34/100\n",
      "100/100 [==============================] - 25s 249ms/step - loss: 0.4346 - acc: 0.7795 - val_loss: 0.3849 - val_acc: 0.8257\n",
      "8.4e-05  Epoch 35/100\n",
      "100/100 [==============================] - 26s 256ms/step - loss: 0.4286 - acc: 0.7842 - val_loss: 0.3856 - val_acc: 0.8091\n",
      "8.4e-05  Epoch 36/100\n",
      "100/100 [==============================] - 25s 246ms/step - loss: 0.4330 - acc: 0.7808 - val_loss: 0.3929 - val_acc: 0.7925\n",
      "8.3e-05  Epoch 37/100\n",
      "100/100 [==============================] - 25s 255ms/step - loss: 0.4247 - acc: 0.7900 - val_loss: 0.3911 - val_acc: 0.7718\n",
      "8.3e-05  Epoch 38/100\n",
      "100/100 [==============================] - 24s 243ms/step - loss: 0.4368 - acc: 0.7824 - val_loss: 0.4183 - val_acc: 0.7344\n",
      "8.3e-05  Epoch 39/100\n",
      "100/100 [==============================] - 26s 256ms/step - loss: 0.4347 - acc: 0.7830 - val_loss: 0.3858 - val_acc: 0.7884\n",
      "8.2e-05  Epoch 40/100\n",
      "100/100 [==============================] - 24s 243ms/step - loss: 0.4167 - acc: 0.7896 - val_loss: 0.3909 - val_acc: 0.8133\n",
      "8.2e-05  Epoch 41/100\n",
      "100/100 [==============================] - 26s 256ms/step - loss: 0.4197 - acc: 0.7917 - val_loss: 0.3858 - val_acc: 0.8008\n",
      "8.1e-05  Epoch 42/100\n",
      "100/100 [==============================] - 25s 245ms/step - loss: 0.4191 - acc: 0.7827 - val_loss: 0.3747 - val_acc: 0.8133\n",
      "8.1e-05  Epoch 43/100\n",
      "100/100 [==============================] - 26s 255ms/step - loss: 0.4245 - acc: 0.7861 - val_loss: 0.3803 - val_acc: 0.8216\n",
      "8.1e-05  Epoch 44/100\n",
      "100/100 [==============================] - 24s 244ms/step - loss: 0.4249 - acc: 0.7836 - val_loss: 0.3807 - val_acc: 0.7925\n",
      "8e-05  Epoch 45/100\n",
      "100/100 [==============================] - 25s 248ms/step - loss: 0.4128 - acc: 0.7917 - val_loss: 0.3790 - val_acc: 0.8008\n",
      "8e-05  Epoch 46/100\n",
      "100/100 [==============================] - 25s 255ms/step - loss: 0.4193 - acc: 0.7861 - val_loss: 0.3801 - val_acc: 0.7967\n",
      "7.9e-05  Epoch 47/100\n",
      "100/100 [==============================] - 25s 245ms/step - loss: 0.4241 - acc: 0.7932 - val_loss: 0.3955 - val_acc: 0.8091\n",
      "7.9e-05  Epoch 48/100\n",
      "100/100 [==============================] - 25s 254ms/step - loss: 0.4107 - acc: 0.7930 - val_loss: 0.3884 - val_acc: 0.7759\n",
      "7.9e-05  Epoch 49/100\n",
      "100/100 [==============================] - 25s 245ms/step - loss: 0.4122 - acc: 0.7930 - val_loss: 0.3929 - val_acc: 0.7842\n",
      "7.8e-05  Epoch 50/100\n",
      "100/100 [==============================] - 26s 256ms/step - loss: 0.4214 - acc: 0.7867 - val_loss: 0.3833 - val_acc: 0.8050\n",
      "7.8e-05  Epoch 51/100\n",
      "100/100 [==============================] - 24s 244ms/step - loss: 0.4106 - acc: 0.7919 - val_loss: 0.3836 - val_acc: 0.7967\n",
      "7.7e-05  Epoch 52/100\n",
      "100/100 [==============================] - 25s 254ms/step - loss: 0.4147 - acc: 0.7992 - val_loss: 0.3855 - val_acc: 0.7967\n",
      "7.7e-05  Epoch 53/100\n",
      "100/100 [==============================] - 25s 246ms/step - loss: 0.4188 - acc: 0.7917 - val_loss: 0.3887 - val_acc: 0.7842\n",
      "7.7e-05  Epoch 54/100\n",
      "100/100 [==============================] - 25s 254ms/step - loss: 0.4135 - acc: 0.7931 - val_loss: 0.3869 - val_acc: 0.7842\n",
      "7.6e-05  Epoch 55/100\n",
      "100/100 [==============================] - 25s 246ms/step - loss: 0.4232 - acc: 0.7895 - val_loss: 0.3915 - val_acc: 0.7842\n",
      "7.6e-05  Epoch 56/100\n",
      "100/100 [==============================] - 25s 247ms/step - loss: 0.4113 - acc: 0.7984 - val_loss: 0.3797 - val_acc: 0.8091\n",
      "7.6e-05  Epoch 57/100\n"
     ]
    },
    {
     "name": "stdout",
     "output_type": "stream",
     "text": [
      "100/100 [==============================] - 26s 256ms/step - loss: 0.4098 - acc: 0.7961 - val_loss: 0.3758 - val_acc: 0.8050\n",
      "7.5e-05  Epoch 58/100\n",
      "100/100 [==============================] - 24s 244ms/step - loss: 0.4174 - acc: 0.7896 - val_loss: 0.3845 - val_acc: 0.7925\n",
      "7.5e-05  Epoch 59/100\n",
      "100/100 [==============================] - 26s 256ms/step - loss: 0.4058 - acc: 0.7998 - val_loss: 0.3853 - val_acc: 0.8008\n",
      "7.4e-05  Epoch 60/100\n",
      "100/100 [==============================] - 24s 243ms/step - loss: 0.4066 - acc: 0.7961 - val_loss: 0.3787 - val_acc: 0.8174\n",
      "7.4e-05  Epoch 61/100\n",
      "100/100 [==============================] - 25s 255ms/step - loss: 0.4102 - acc: 0.7975 - val_loss: 0.3762 - val_acc: 0.8216\n",
      "7.4e-05  Epoch 62/100\n",
      "100/100 [==============================] - 24s 244ms/step - loss: 0.4075 - acc: 0.8014 - val_loss: 0.4227 - val_acc: 0.7635\n",
      "7.3e-05  Epoch 63/100\n",
      "100/100 [==============================] - 26s 259ms/step - loss: 0.4214 - acc: 0.7892 - val_loss: 0.4057 - val_acc: 0.7635\n",
      "7.3e-05  Epoch 64/100\n",
      "100/100 [==============================] - 25s 245ms/step - loss: 0.4216 - acc: 0.7857 - val_loss: 0.3863 - val_acc: 0.7925\n",
      "7.3e-05  Epoch 65/100\n",
      "100/100 [==============================] - 25s 255ms/step - loss: 0.4093 - acc: 0.8001 - val_loss: 0.3795 - val_acc: 0.8050\n",
      "7.2e-05  Epoch 66/100\n",
      "100/100 [==============================] - 25s 246ms/step - loss: 0.4074 - acc: 0.8020 - val_loss: 0.3895 - val_acc: 0.7925\n",
      "7.2e-05  Epoch 67/100\n",
      "100/100 [==============================] - 25s 248ms/step - loss: 0.4059 - acc: 0.7967 - val_loss: 0.3889 - val_acc: 0.7676\n",
      "7.1e-05  Epoch 68/100\n",
      "100/100 [==============================] - 26s 256ms/step - loss: 0.4087 - acc: 0.7915 - val_loss: 0.3869 - val_acc: 0.7801\n",
      "7.1e-05  Epoch 69/100\n",
      "100/100 [==============================] - 24s 243ms/step - loss: 0.4109 - acc: 0.7942 - val_loss: 0.3876 - val_acc: 0.7884\n",
      "7.1e-05  Epoch 70/100\n",
      "  9/100 [=>............................] - ETA: 28s - loss: 0.4291 - acc: 0.8003"
     ]
    }
   ],
   "source": [
    "%%time\n",
    "batch_size = 64\n",
    "# steps_per_epoch = 1 * len(x_train) / batch_size\n",
    "hist = model.fit_generator(\n",
    "    datagen.flow(x_train, y_train, batch_size=batch_size, shuffle=True),\n",
    "    steps_per_epoch=100,\n",
    "    epochs=100, #1 for ETA, 0 for silent\n",
    "    verbose=1,\n",
    "    max_queue_size=128,\n",
    "    callbacks=[annealer],\n",
    "    workers=32,\n",
    "    validation_data=(x_val, y_val)\n",
    ")"
   ]
  },
  {
   "cell_type": "code",
   "execution_count": null,
   "metadata": {},
   "outputs": [],
   "source": [
    "# %%time\n",
    "# hist = model.fit(x_train, y_train, \n",
    "#                  batch_size = 2, \n",
    "#                  verbose= 1,\n",
    "#                  epochs = 10, #1 for ETA, 0 for silent\n",
    "#                  validation_data=(x_val, y_val))"
   ]
  },
  {
   "cell_type": "code",
   "execution_count": null,
   "metadata": {},
   "outputs": [],
   "source": [
    "final_loss, final_acc = model.evaluate(x_val, y_val, verbose=1)\n",
    "print(\"Final loss: {0:.4f}, final accuracy: {1:.4f}\".format(final_loss, final_acc))"
   ]
  },
  {
   "cell_type": "code",
   "execution_count": null,
   "metadata": {},
   "outputs": [],
   "source": [
    "val_prob1 = model.predict(x_val)\n",
    "\n",
    "# print('Val log_loss: {}'.format(log_loss(y_val, val_prob1)))\n",
    "val_prob1_limit = np.clip(val_prob1, 0.00005, 0.99995)\n",
    "loss = log_loss(y_val, val_prob1_limit)\n",
    "print('Val log_loss: {}'.format(loss))\n",
    "\n",
    "val_prob1_limit = np.clip(val_prob1_limit, 0.05, 0.95)\n",
    "loss = log_loss(y_val, val_prob1_limit)\n",
    "print('Val log_loss: {}'.format(loss))"
   ]
  },
  {
   "cell_type": "code",
   "execution_count": null,
   "metadata": {},
   "outputs": [],
   "source": [
    "final_acc_str = '{0:0>4}'.format(int(loss*10000))\n",
    "run_name_acc = project_name + '_' + step_name + '_' + time_str + '_' + final_acc_str\n",
    "print(run_name_acc)"
   ]
  },
  {
   "cell_type": "code",
   "execution_count": null,
   "metadata": {},
   "outputs": [],
   "source": [
    "histories = pd.DataFrame(hist.history)\n",
    "histories['epoch'] = hist.epoch\n",
    "print(histories.columns)\n",
    "histories_file = os.path.join(model_path, run_name_acc + '.csv')\n",
    "histories.to_csv(histories_file, index=False)"
   ]
  },
  {
   "cell_type": "code",
   "execution_count": null,
   "metadata": {},
   "outputs": [],
   "source": [
    "plt.plot(histories['loss'], color='b')\n",
    "plt.plot(histories['val_loss'], color='r')\n",
    "plt.show()\n",
    "plt.plot(histories['acc'], color='b')\n",
    "plt.plot(histories['val_acc'], color='r')\n",
    "plt.show()"
   ]
  },
  {
   "cell_type": "code",
   "execution_count": null,
   "metadata": {
    "collapsed": true
   },
   "outputs": [],
   "source": [
    "# for layer in model.layers[:11]:\n",
    "#    layer.trainable = False\n",
    "# for layer in model.layers[11:]:\n",
    "#    layer.trainable = True\n",
    "\n",
    "# from keras.optimizers import SGD\n",
    "# # model.compile(optimizer=SGD(lr=0.0001, momentum=0.9), loss='categorical_crossentropy')\n",
    "# model.compile(optimizer = Adam(lr=1e-4), loss = 'binary_crossentropy', metrics = ['accuracy'])"
   ]
  },
  {
   "cell_type": "code",
   "execution_count": null,
   "metadata": {},
   "outputs": [],
   "source": [
    "# %%time\n",
    "# hist = model.fit(x_train, y_train, \n",
    "#                  batch_size = 2, \n",
    "#                  verbose= 1,\n",
    "#                  epochs = 10, #1 for ETA, 0 for silent\n",
    "#                  validation_data=(x_val, y_val))"
   ]
  },
  {
   "cell_type": "code",
   "execution_count": null,
   "metadata": {
    "collapsed": true
   },
   "outputs": [],
   "source": [
    "saveModel(model, run_name_acc)"
   ]
  },
  {
   "cell_type": "markdown",
   "metadata": {},
   "source": [
    "## 3. Predict"
   ]
  },
  {
   "cell_type": "code",
   "execution_count": null,
   "metadata": {
    "collapsed": true
   },
   "outputs": [],
   "source": [
    "if not os.path.exists(output_path):\n",
    "    os.mkdir(output_path)\n",
    "pred_file = os.path.join(output_path, run_name_acc + '.csv')\n",
    "print(pred_file)"
   ]
  },
  {
   "cell_type": "code",
   "execution_count": null,
   "metadata": {},
   "outputs": [],
   "source": [
    "test_prob = model.predict(x_test)\n",
    "print(test_prob.shape)\n",
    "print(test_prob[0:2])\n",
    "test_prob = np.clip(test_prob, 0.05, 0.95)\n",
    "print(test_prob.shape)\n",
    "print(test_prob[0:2])"
   ]
  },
  {
   "cell_type": "code",
   "execution_count": null,
   "metadata": {},
   "outputs": [],
   "source": [
    "sample_submission['is_iceberg'] = test_prob\n",
    "print(sample_submission[0:2])\n",
    "print(sample_submission.shape)\n",
    "sample_submission.to_csv(pred_file, index=False)"
   ]
  },
  {
   "cell_type": "code",
   "execution_count": null,
   "metadata": {},
   "outputs": [],
   "source": [
    "t1 = time.time()\n",
    "print('time cost: %.2f s' % (t1-t0))\n",
    "print('Done!')"
   ]
  },
  {
   "cell_type": "code",
   "execution_count": null,
   "metadata": {},
   "outputs": [],
   "source": [
    "print(run_name_acc)"
   ]
  },
  {
   "cell_type": "code",
   "execution_count": null,
   "metadata": {
    "collapsed": true
   },
   "outputs": [],
   "source": []
  }
 ],
 "metadata": {
  "kernelspec": {
   "display_name": "Python 3",
   "language": "python",
   "name": "python3"
  },
  "language_info": {
   "codemirror_mode": {
    "name": "ipython",
    "version": 3
   },
   "file_extension": ".py",
   "mimetype": "text/x-python",
   "name": "python",
   "nbconvert_exporter": "python",
   "pygments_lexer": "ipython3",
   "version": "3.6.3"
  }
 },
 "nbformat": 4,
 "nbformat_minor": 2
}
