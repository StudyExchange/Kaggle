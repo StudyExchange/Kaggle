{
 "cells": [
  {
   "cell_type": "markdown",
   "metadata": {},
   "source": [
    "# CNN_10channel\n",
    "\n",
    "Abstract:\n",
    "- single channel: band_avg\n",
    "- CNN, small net\n",
    "\n",
    "Result:\n",
    "- Kaggle score: \n",
    "\n",
    "References:\n",
    "- https://www.kaggle.com/ivalmian/simple-svd-xgboost-baseline-lb-35\n",
    "- https://www.kaggle.com/arieltci/a-keras-prototype-0-21174-on-pl"
   ]
  },
  {
   "cell_type": "markdown",
   "metadata": {},
   "source": [
    "## 1. Preprocess"
   ]
  },
  {
   "cell_type": "markdown",
   "metadata": {},
   "source": [
    "### Import pkgs"
   ]
  },
  {
   "cell_type": "code",
   "execution_count": 1,
   "metadata": {
    "collapsed": true
   },
   "outputs": [],
   "source": [
    "import numpy as np\n",
    "import pandas as pd\n",
    "import matplotlib.pyplot as plt\n",
    "import seaborn as sns\n",
    "from sklearn.model_selection import train_test_split\n",
    "from sklearn.ensemble import GradientBoostingClassifier\n",
    "from sklearn.preprocessing import MinMaxScaler\n",
    "from sklearn.metrics import log_loss, accuracy_score\n",
    "from IPython.display import display\n",
    "\n",
    "%matplotlib inline"
   ]
  },
  {
   "cell_type": "code",
   "execution_count": 2,
   "metadata": {
    "collapsed": true
   },
   "outputs": [],
   "source": [
    "import os\n",
    "import time\n",
    "import zipfile\n",
    "import lzma\n",
    "import pickle\n",
    "from PIL import Image\n",
    "from shutil import copy2"
   ]
  },
  {
   "cell_type": "markdown",
   "metadata": {},
   "source": [
    "### Run name"
   ]
  },
  {
   "cell_type": "code",
   "execution_count": 3,
   "metadata": {},
   "outputs": [
    {
     "name": "stdout",
     "output_type": "stream",
     "text": [
      "run_name: SC_Iceberg_Classifier_CNN_4channel_20171107_162243\n"
     ]
    }
   ],
   "source": [
    "project_name = 'SC_Iceberg_Classifier'\n",
    "step_name = 'CNN_4channel'\n",
    "date_str = time.strftime(\"%Y%m%d\", time.localtime())\n",
    "time_str = time.strftime(\"%Y%m%d_%H%M%S\", time.localtime())\n",
    "run_name = project_name + '_' + step_name + '_' + time_str\n",
    "print('run_name: ' + run_name)"
   ]
  },
  {
   "cell_type": "markdown",
   "metadata": {},
   "source": [
    "### Basic folders"
   ]
  },
  {
   "cell_type": "code",
   "execution_count": 4,
   "metadata": {},
   "outputs": [
    {
     "name": "stdout",
     "output_type": "stream",
     "text": [
      "input_path: E:\\Kaggle\\Statoil_C_CORE_Iceberg_Classifier_Challenge\\input\n",
      "log_path: E:\\Kaggle\\Statoil_C_CORE_Iceberg_Classifier_Challenge\\log\n",
      "model_path: E:\\Kaggle\\Statoil_C_CORE_Iceberg_Classifier_Challenge\\model\n",
      "output_path: E:\\Kaggle\\Statoil_C_CORE_Iceberg_Classifier_Challenge\\output\n"
     ]
    }
   ],
   "source": [
    "cwd = os.getcwd()\n",
    "input_path = os.path.join(cwd, 'input')\n",
    "log_path = os.path.join(cwd, 'log')\n",
    "model_path = os.path.join(cwd, 'model')\n",
    "output_path = os.path.join(cwd, 'output')\n",
    "print('input_path: ' + input_path)\n",
    "print('log_path: ' + log_path)\n",
    "print('model_path: ' + model_path)\n",
    "print('output_path: ' + output_path)"
   ]
  },
  {
   "cell_type": "markdown",
   "metadata": {},
   "source": [
    "### Load data"
   ]
  },
  {
   "cell_type": "code",
   "execution_count": 5,
   "metadata": {},
   "outputs": [
    {
     "name": "stdout",
     "output_type": "stream",
     "text": [
      "(8424, 2)\n"
     ]
    },
    {
     "data": {
      "text/html": [
       "<div>\n",
       "<style>\n",
       "    .dataframe thead tr:only-child th {\n",
       "        text-align: right;\n",
       "    }\n",
       "\n",
       "    .dataframe thead th {\n",
       "        text-align: left;\n",
       "    }\n",
       "\n",
       "    .dataframe tbody tr th {\n",
       "        vertical-align: top;\n",
       "    }\n",
       "</style>\n",
       "<table border=\"1\" class=\"dataframe\">\n",
       "  <thead>\n",
       "    <tr style=\"text-align: right;\">\n",
       "      <th></th>\n",
       "      <th>id</th>\n",
       "      <th>is_iceberg</th>\n",
       "    </tr>\n",
       "  </thead>\n",
       "  <tbody>\n",
       "    <tr>\n",
       "      <th>0</th>\n",
       "      <td>5941774d</td>\n",
       "      <td>0.5</td>\n",
       "    </tr>\n",
       "    <tr>\n",
       "      <th>1</th>\n",
       "      <td>4023181e</td>\n",
       "      <td>0.5</td>\n",
       "    </tr>\n",
       "  </tbody>\n",
       "</table>\n",
       "</div>"
      ],
      "text/plain": [
       "         id  is_iceberg\n",
       "0  5941774d         0.5\n",
       "1  4023181e         0.5"
      ]
     },
     "execution_count": 5,
     "metadata": {},
     "output_type": "execute_result"
    }
   ],
   "source": [
    "sample_submission_path = os.path.join(input_path, 'sample_submission.csv')\n",
    "sample_submission = pd.read_csv(sample_submission_path)\n",
    "print(sample_submission.shape)\n",
    "sample_submission.head(2)"
   ]
  },
  {
   "cell_type": "code",
   "execution_count": 6,
   "metadata": {},
   "outputs": [
    {
     "name": "stdout",
     "output_type": "stream",
     "text": [
      "(1604,)\n"
     ]
    }
   ],
   "source": [
    "is_iceberg_path = os.path.join(input_path, 'is_iceberg.p')\n",
    "\n",
    "y_data = pickle.load(open(is_iceberg_path, mode='rb'))\n",
    "\n",
    "print(y_data.shape)"
   ]
  },
  {
   "cell_type": "code",
   "execution_count": 7,
   "metadata": {},
   "outputs": [
    {
     "name": "stdout",
     "output_type": "stream",
     "text": [
      "(1604,)\n",
      "(8424,)\n",
      "Wall time: 31.4 ms\n"
     ]
    }
   ],
   "source": [
    "%%time\n",
    "#Load orignal data\n",
    "inc_angle_data_path = os.path.join(input_path, 'inc_angle_data.p')\n",
    "inc_angle_test_path = os.path.join(input_path, 'inc_angle_test.p')\n",
    "\n",
    "inc_angle_data = pickle.load(open(inc_angle_data_path, mode='rb'))\n",
    "inc_angle_test = pickle.load(open(inc_angle_test_path, mode='rb'))\n",
    "\n",
    "print(inc_angle_data.shape)\n",
    "print(inc_angle_test.shape)"
   ]
  },
  {
   "cell_type": "code",
   "execution_count": 8,
   "metadata": {},
   "outputs": [
    {
     "name": "stdout",
     "output_type": "stream",
     "text": [
      "(1604, 75, 75)\n",
      "(1604, 75, 75)\n",
      "(1604, 75, 75)\n",
      "(8424, 75, 75)\n",
      "(8424, 75, 75)\n",
      "(8424, 75, 75)\n",
      "Wall time: 12.7 s\n"
     ]
    }
   ],
   "source": [
    "%%time\n",
    "#Load orignal data\n",
    "band1_data_path = os.path.join(input_path, 'band1_data.p')\n",
    "band2_data_path = os.path.join(input_path, 'band2_data.p')\n",
    "band_avg_data_path = os.path.join(input_path, 'band_avg_data.p')\n",
    "band1_test_path = os.path.join(input_path, 'band1_test.p')\n",
    "band2_test_path = os.path.join(input_path, 'band2_test.p')\n",
    "band_avg_test_path = os.path.join(input_path, 'band_avg_test.p')\n",
    "\n",
    "band1_data = pickle.load(open(band1_data_path, mode='rb'))\n",
    "band2_data = pickle.load(open(band2_data_path, mode='rb'))\n",
    "band_avg_data = pickle.load(open(band_avg_data_path, mode='rb'))\n",
    "band1_test = pickle.load(open(band1_test_path, mode='rb'))\n",
    "band2_test = pickle.load(open(band2_test_path, mode='rb'))\n",
    "band_avg_test = pickle.load(open(band_avg_test_path, mode='rb'))\n",
    "\n",
    "print(band1_data.shape)\n",
    "print(band2_data.shape)\n",
    "print(band_avg_data.shape)\n",
    "print(band1_test.shape)\n",
    "print(band2_test.shape)\n",
    "print(band_avg_test.shape)"
   ]
  },
  {
   "cell_type": "code",
   "execution_count": 9,
   "metadata": {},
   "outputs": [
    {
     "name": "stdout",
     "output_type": "stream",
     "text": [
      "(1604, 75, 75)\n",
      "(1604, 75, 75)\n",
      "(1604, 75, 75)\n",
      "(8424, 75, 75)\n",
      "(8424, 75, 75)\n",
      "(8424, 75, 75)\n",
      "Wall time: 12.1 s\n"
     ]
    }
   ],
   "source": [
    "%%time\n",
    "#Load orignal data\n",
    "band1_data_edges_path = os.path.join(input_path, 'band1_data_edges.p')\n",
    "band2_data_edges_path = os.path.join(input_path, 'band2_data_edges.p')\n",
    "band_avg_data_edges_path = os.path.join(input_path, 'band_avg_data_edges.p')\n",
    "band1_test_edges_path = os.path.join(input_path, 'band1_test_edges.p')\n",
    "band2_test_edges_path = os.path.join(input_path, 'band2_test_edges.p')\n",
    "band_avg_test_edges_path = os.path.join(input_path, 'band_avg_test_edges.p')\n",
    "\n",
    "band1_data_edges = pickle.load(open(band1_data_edges_path, mode='rb'))\n",
    "band2_data_edges = pickle.load(open(band2_data_edges_path, mode='rb'))\n",
    "band_avg_data_edges = pickle.load(open(band_avg_data_edges_path, mode='rb'))\n",
    "band1_test_edges = pickle.load(open(band1_test_edges_path, mode='rb'))\n",
    "band2_test_edges = pickle.load(open(band2_test_edges_path, mode='rb'))\n",
    "band_avg_test_edges = pickle.load(open(band_avg_test_edges_path, mode='rb'))\n",
    "\n",
    "print(band1_data_edges.shape)\n",
    "print(band2_data_edges.shape)\n",
    "print(band_avg_data_edges.shape)\n",
    "print(band1_test_edges.shape)\n",
    "print(band2_test_edges.shape)\n",
    "print(band_avg_test_edges.shape)"
   ]
  },
  {
   "cell_type": "code",
   "execution_count": 10,
   "metadata": {},
   "outputs": [
    {
     "name": "stdout",
     "output_type": "stream",
     "text": [
      "(1604, 75, 75)\n",
      "(1604, 75, 75)\n",
      "(1604, 75, 75)\n",
      "(8424, 75, 75)\n",
      "(8424, 75, 75)\n",
      "(8424, 75, 75)\n",
      "Wall time: 13 s\n"
     ]
    }
   ],
   "source": [
    "%%time\n",
    "#Load orignal data\n",
    "band1_data_gabor_path = os.path.join(input_path, 'band1_data_gabor.p')\n",
    "band2_data_gabor_path = os.path.join(input_path, 'band2_data_gabor.p')\n",
    "band_avg_data_gabor_path = os.path.join(input_path, 'band_avg_data_gabor.p')\n",
    "band1_test_gabor_path = os.path.join(input_path, 'band1_test_gabor.p')\n",
    "band2_test_gabor_path = os.path.join(input_path, 'band2_test_gabor.p')\n",
    "band_avg_test_gabor_path = os.path.join(input_path, 'band_avg_test_gabor.p')\n",
    "\n",
    "band1_data_gabor = pickle.load(open(band1_data_gabor_path, mode='rb'))\n",
    "band2_data_gabor = pickle.load(open(band2_data_gabor_path, mode='rb'))\n",
    "band_avg_data_gabor = pickle.load(open(band_avg_data_gabor_path, mode='rb'))\n",
    "band1_test_gabor = pickle.load(open(band1_test_gabor_path, mode='rb'))\n",
    "band2_test_gabor = pickle.load(open(band2_test_gabor_path, mode='rb'))\n",
    "band_avg_test_gabor = pickle.load(open(band_avg_test_gabor_path, mode='rb'))\n",
    "\n",
    "print(band1_data_gabor.shape)\n",
    "print(band2_data_gabor.shape)\n",
    "print(band_avg_data_gabor.shape)\n",
    "print(band1_test_gabor.shape)\n",
    "print(band2_test_gabor.shape)\n",
    "print(band_avg_test_gabor.shape)"
   ]
  },
  {
   "cell_type": "code",
   "execution_count": 11,
   "metadata": {},
   "outputs": [
    {
     "name": "stdout",
     "output_type": "stream",
     "text": [
      "(1604, 75, 75, 3)\n",
      "(8424, 75, 75, 3)\n",
      "Wall time: 1.24 s\n"
     ]
    }
   ],
   "source": [
    "%%time\n",
    "x_data = np.concatenate([band1_data[:, :, :, np.newaxis],\n",
    "                         band2_data[:, :, :, np.newaxis],\n",
    "                         band_avg_data[:, :, :, np.newaxis]], axis=-1)\n",
    "print(x_data.shape)\n",
    "x_test = np.concatenate([band1_test[:, :, :, np.newaxis],\n",
    "                         band2_test[:, :, :, np.newaxis],\n",
    "                         band_avg_test[:, :, :, np.newaxis],], axis=-1)\n",
    "print(x_test.shape)"
   ]
  },
  {
   "cell_type": "code",
   "execution_count": 12,
   "metadata": {
    "collapsed": true
   },
   "outputs": [],
   "source": [
    "# %%time\n",
    "# x_data = np.concatenate([band1_data[:, :, :, np.newaxis],\n",
    "#                          band2_data[:, :, :, np.newaxis],\n",
    "#                          band_avg_data[:, :, :, np.newaxis],\n",
    "#                          band1_data_edges[:, :, :, np.newaxis],\n",
    "#                          band2_data_edges[:, :, :, np.newaxis],\n",
    "#                          band_avg_data_edges[:, :, :, np.newaxis],\n",
    "#                          band1_data_gabor[:, :, :, np.newaxis],\n",
    "#                          band2_data_gabor[:, :, :, np.newaxis],\n",
    "#                          band_avg_data_gabor[:, :, :, np.newaxis]], axis=-1)\n",
    "# print(x_data.shape)\n",
    "# x_test = np.concatenate([band1_test[:, :, :, np.newaxis],\n",
    "#                          band2_test[:, :, :, np.newaxis],\n",
    "#                          band_avg_test[:, :, :, np.newaxis],\n",
    "#                          band1_test_edges[:, :, :, np.newaxis],\n",
    "#                          band2_test_edges[:, :, :, np.newaxis],\n",
    "#                          band_avg_test_edges[:, :, :, np.newaxis],\n",
    "#                          band1_test_gabor[:, :, :, np.newaxis],\n",
    "#                          band2_test_gabor[:, :, :, np.newaxis],\n",
    "#                          band_avg_test_gabor[:, :, :, np.newaxis]], axis=-1)\n",
    "# print(x_test.shape)"
   ]
  },
  {
   "cell_type": "code",
   "execution_count": 13,
   "metadata": {},
   "outputs": [
    {
     "name": "stdout",
     "output_type": "stream",
     "text": [
      "(1363, 75, 75, 3)\n",
      "(241, 75, 75, 3)\n",
      "(1363,)\n",
      "(241,)\n",
      "(1363,)\n",
      "(241,)\n",
      "Wall time: 189 ms\n"
     ]
    }
   ],
   "source": [
    "%%time\n",
    "x_train, x_val, inc_angle_train, inc_angle_val, y_train, y_val = train_test_split(x_data, inc_angle_data, y_data, test_size=0.15, shuffle=True, random_state=31)\n",
    "print(x_train.shape)\n",
    "print(x_val.shape)\n",
    "print(inc_angle_train.shape)\n",
    "print(inc_angle_val.shape)\n",
    "print(y_train.shape)\n",
    "print(y_val.shape)"
   ]
  },
  {
   "cell_type": "markdown",
   "metadata": {},
   "source": [
    "## 2. Build model"
   ]
  },
  {
   "cell_type": "code",
   "execution_count": 14,
   "metadata": {},
   "outputs": [
    {
     "name": "stderr",
     "output_type": "stream",
     "text": [
      "Using TensorFlow backend.\n"
     ]
    }
   ],
   "source": [
    "from keras.utils.np_utils import to_categorical # convert to one-hot-encoding\n",
    "from keras.models import Sequential, Model\n",
    "from keras.layers import Dense, Dropout, Flatten, Conv2D, MaxPooling2D, GlobalMaxPooling2D, BatchNormalization, Input\n",
    "from keras.layers.merge import Concatenate\n",
    "from keras.optimizers import Adam\n",
    "from keras.preprocessing.image import ImageDataGenerator\n",
    "from keras.callbacks import LearningRateScheduler, TensorBoard"
   ]
  },
  {
   "cell_type": "code",
   "execution_count": 15,
   "metadata": {
    "collapsed": true
   },
   "outputs": [],
   "source": [
    "def build_model():\n",
    "    model = Sequential()\n",
    "\n",
    "    model.add(Conv2D(filters = 64, kernel_size = (3, 3), activation='relu',\n",
    "                     input_shape = (75, 75, 3)))\n",
    "    model.add(BatchNormalization())\n",
    "    model.add(Conv2D(filters = 64, kernel_size = (3, 3), activation='relu'))\n",
    "    model.add(BatchNormalization())\n",
    "    model.add(MaxPooling2D(strides=(2,2)))\n",
    "    model.add(Dropout(0.25))\n",
    "\n",
    "    model.add(Conv2D(filters = 128, kernel_size = (3, 3), activation='relu'))\n",
    "    model.add(BatchNormalization())\n",
    "    model.add(Conv2D(filters = 128, kernel_size = (3, 3), activation='relu'))\n",
    "    model.add(BatchNormalization())\n",
    "    model.add(MaxPooling2D(strides=(2,2)))\n",
    "    model.add(Dropout(0.25))\n",
    "\n",
    "    model.add(Conv2D(filters = 256, kernel_size = (3, 3), activation='relu'))\n",
    "    model.add(BatchNormalization())\n",
    "    model.add(Conv2D(filters = 256, kernel_size = (3, 3), activation='relu'))\n",
    "    model.add(BatchNormalization())\n",
    "    model.add(MaxPooling2D(strides=(2,2)))\n",
    "    model.add(Dropout(0.25))\n",
    "    \n",
    "    model.add(Flatten())\n",
    "    model.add(Dense(4096, activation='relu'))\n",
    "    model.add(Dropout(0.25))\n",
    "    model.add(Dense(4096, activation='relu'))\n",
    "    model.add(Dropout(0.5))\n",
    "    model.add(Dense(128, activation='relu'))\n",
    "    model.add(Dropout(0.5))\n",
    "    model.add(Dense(units = 1, activation = 'sigmoid'))\n",
    "\n",
    "    model.compile(optimizer = Adam(lr=1e-4), loss = 'binary_crossentropy', metrics = ['accuracy'])\n",
    "    return model"
   ]
  },
  {
   "cell_type": "code",
   "execution_count": 16,
   "metadata": {},
   "outputs": [
    {
     "name": "stdout",
     "output_type": "stream",
     "text": [
      "_________________________________________________________________\n",
      "Layer (type)                 Output Shape              Param #   \n",
      "=================================================================\n",
      "conv2d_1 (Conv2D)            (None, 73, 73, 64)        1792      \n",
      "_________________________________________________________________\n",
      "batch_normalization_1 (Batch (None, 73, 73, 64)        256       \n",
      "_________________________________________________________________\n",
      "conv2d_2 (Conv2D)            (None, 71, 71, 64)        36928     \n",
      "_________________________________________________________________\n",
      "batch_normalization_2 (Batch (None, 71, 71, 64)        256       \n",
      "_________________________________________________________________\n",
      "max_pooling2d_1 (MaxPooling2 (None, 35, 35, 64)        0         \n",
      "_________________________________________________________________\n",
      "dropout_1 (Dropout)          (None, 35, 35, 64)        0         \n",
      "_________________________________________________________________\n",
      "conv2d_3 (Conv2D)            (None, 33, 33, 128)       73856     \n",
      "_________________________________________________________________\n",
      "batch_normalization_3 (Batch (None, 33, 33, 128)       512       \n",
      "_________________________________________________________________\n",
      "conv2d_4 (Conv2D)            (None, 31, 31, 128)       147584    \n",
      "_________________________________________________________________\n",
      "batch_normalization_4 (Batch (None, 31, 31, 128)       512       \n",
      "_________________________________________________________________\n",
      "max_pooling2d_2 (MaxPooling2 (None, 15, 15, 128)       0         \n",
      "_________________________________________________________________\n",
      "dropout_2 (Dropout)          (None, 15, 15, 128)       0         \n",
      "_________________________________________________________________\n",
      "conv2d_5 (Conv2D)            (None, 13, 13, 256)       295168    \n",
      "_________________________________________________________________\n",
      "batch_normalization_5 (Batch (None, 13, 13, 256)       1024      \n",
      "_________________________________________________________________\n",
      "conv2d_6 (Conv2D)            (None, 11, 11, 256)       590080    \n",
      "_________________________________________________________________\n",
      "batch_normalization_6 (Batch (None, 11, 11, 256)       1024      \n",
      "_________________________________________________________________\n",
      "max_pooling2d_3 (MaxPooling2 (None, 5, 5, 256)         0         \n",
      "_________________________________________________________________\n",
      "dropout_3 (Dropout)          (None, 5, 5, 256)         0         \n",
      "_________________________________________________________________\n",
      "flatten_1 (Flatten)          (None, 6400)              0         \n",
      "_________________________________________________________________\n",
      "dense_1 (Dense)              (None, 4096)              26218496  \n",
      "_________________________________________________________________\n",
      "dropout_4 (Dropout)          (None, 4096)              0         \n",
      "_________________________________________________________________\n",
      "dense_2 (Dense)              (None, 4096)              16781312  \n",
      "_________________________________________________________________\n",
      "dropout_5 (Dropout)          (None, 4096)              0         \n",
      "_________________________________________________________________\n",
      "dense_3 (Dense)              (None, 128)               524416    \n",
      "_________________________________________________________________\n",
      "dropout_6 (Dropout)          (None, 128)               0         \n",
      "_________________________________________________________________\n",
      "dense_4 (Dense)              (None, 1)                 129       \n",
      "=================================================================\n",
      "Total params: 44,673,345\n",
      "Trainable params: 44,671,553\n",
      "Non-trainable params: 1,792\n",
      "_________________________________________________________________\n"
     ]
    }
   ],
   "source": [
    "model = build_model()\n",
    "model.summary()"
   ]
  },
  {
   "cell_type": "code",
   "execution_count": 17,
   "metadata": {
    "collapsed": true
   },
   "outputs": [],
   "source": [
    "def saveModel(model, run_name):\n",
    "    cwd = os.getcwd()\n",
    "    modelPath = os.path.join(cwd, 'model')\n",
    "    if not os.path.isdir(modelPath):\n",
    "        os.mkdir(modelPath)\n",
    "    weigthsFile = os.path.join(modelPath, run_name + '.h5')\n",
    "    model.save(weigthsFile)\n",
    "saveModel(model, 'saveModel_test')"
   ]
  },
  {
   "cell_type": "code",
   "execution_count": 18,
   "metadata": {},
   "outputs": [
    {
     "name": "stdout",
     "output_type": "stream",
     "text": [
      "log_dir:E:\\Kaggle\\Statoil_C_CORE_Iceberg_Classifier_Challenge\\log\\SC_Iceberg_Classifier_CNN_4channel_20171107_162243\n"
     ]
    }
   ],
   "source": [
    "def get_lr(x):\n",
    "    lr = round(1e-4 * 0.98 ** x, 6)\n",
    "    if lr < 5e-5:\n",
    "        lr = 5e-5\n",
    "    print(lr, end='  ')\n",
    "    return lr\n",
    "\n",
    "# annealer = LearningRateScheduler(lambda x: 1e-3 * 0.9 ** x)\n",
    "annealer = LearningRateScheduler(get_lr)\n",
    "\n",
    "log_dir = os.path.join(log_path, run_name)\n",
    "print('log_dir:' + log_dir)\n",
    "tensorBoard = TensorBoard(log_dir=log_dir)"
   ]
  },
  {
   "cell_type": "code",
   "execution_count": null,
   "metadata": {
    "collapsed": true
   },
   "outputs": [],
   "source": [
    "datagen = ImageDataGenerator(\n",
    "    rotation_range=0,\n",
    "    width_shift_range=0,\n",
    "    height_shift_range=0,\n",
    "    horizontal_flip=False,\n",
    "    vertical_flip=False)"
   ]
  },
  {
   "cell_type": "code",
   "execution_count": null,
   "metadata": {},
   "outputs": [
    {
     "name": "stdout",
     "output_type": "stream",
     "text": [
      "0.0001  Epoch 1/200\n",
      "171/170 [==============================] - 19s - loss: 0.9205 - acc: 0.6019 - val_loss: 0.7296 - val_acc: 0.4523\n",
      "9.8e-05  Epoch 2/200\n",
      "171/170 [==============================] - 17s - loss: 0.6570 - acc: 0.6718 - val_loss: 0.6258 - val_acc: 0.6722\n",
      "9.6e-05  Epoch 3/200\n",
      "171/170 [==============================] - 17s - loss: 0.5078 - acc: 0.7444 - val_loss: 0.6047 - val_acc: 0.6763\n",
      "9.4e-05  Epoch 4/200\n",
      "171/170 [==============================] - 17s - loss: 0.4491 - acc: 0.7992 - val_loss: 0.5479 - val_acc: 0.7427 ETA: 3s - loss: 0.4701 - acc: 0.7 - ETA: \n",
      "9.2e-05  Epoch 5/200\n",
      "171/170 [==============================] - 17s - loss: 0.3945 - acc: 0.8360 - val_loss: 0.4102 - val_acc: 0.8216\n",
      "9e-05  Epoch 6/200\n",
      "171/170 [==============================] - 17s - loss: 0.3593 - acc: 0.8494 - val_loss: 0.3473 - val_acc: 0.8216\n",
      "8.9e-05  Epoch 7/200\n",
      "171/170 [==============================] - 17s - loss: 0.3155 - acc: 0.8655 - val_loss: 0.3739 - val_acc: 0.8299\n",
      "8.7e-05  Epoch 8/200\n",
      "171/170 [==============================] - 17s - loss: 0.3210 - acc: 0.8606 - val_loss: 0.5076 - val_acc: 0.8133\n",
      "8.5e-05  Epoch 9/200\n",
      "171/170 [==============================] - 17s - loss: 0.3068 - acc: 0.8623 - val_loss: 0.4436 - val_acc: 0.8174\n",
      "8.3e-05  Epoch 10/200\n",
      "171/170 [==============================] - 17s - loss: 0.2780 - acc: 0.8884 - val_loss: 1.1190 - val_acc: 0.7220\n",
      "8.2e-05  Epoch 11/200\n",
      "171/170 [==============================] - 17s - loss: 0.2504 - acc: 0.8945 - val_loss: 0.9099 - val_acc: 0.6846\n",
      "8e-05  Epoch 12/200\n",
      "171/170 [==============================] - 17s - loss: 0.1978 - acc: 0.9152 - val_loss: 0.4452 - val_acc: 0.8631\n",
      "7.8e-05  Epoch 13/200\n",
      "171/170 [==============================] - 17s - loss: 0.2532 - acc: 0.9150 - val_loss: 0.5663 - val_acc: 0.8050\n",
      "7.7e-05  Epoch 14/200\n",
      "171/170 [==============================] - 17s - loss: 0.2079 - acc: 0.9108 - val_loss: 0.5586 - val_acc: 0.8257\n",
      "7.5e-05  Epoch 15/200\n",
      "171/170 [==============================] - 17s - loss: 0.2149 - acc: 0.9135 - val_loss: 0.4819 - val_acc: 0.8589\n",
      "7.4e-05  Epoch 16/200\n",
      "171/170 [==============================] - 17s - loss: 0.1808 - acc: 0.9284 - val_loss: 0.4400 - val_acc: 0.8672\n",
      "7.2e-05  Epoch 17/200\n",
      "171/170 [==============================] - 17s - loss: 0.1696 - acc: 0.9349 - val_loss: 0.6570 - val_acc: 0.8506\n",
      "7.1e-05  Epoch 18/200\n",
      "171/170 [==============================] - 17s - loss: 0.1613 - acc: 0.9313 - val_loss: 0.4111 - val_acc: 0.8589\n",
      "7e-05  Epoch 19/200\n",
      "171/170 [==============================] - 17s - loss: 0.1327 - acc: 0.9459 - val_loss: 0.5086 - val_acc: 0.8880\n",
      "6.8e-05  Epoch 20/200\n",
      "171/170 [==============================] - 17s - loss: 0.1505 - acc: 0.9364 - val_loss: 0.6440 - val_acc: 0.8216\n",
      "6.7e-05  Epoch 21/200\n",
      "171/170 [==============================] - 17s - loss: 0.1422 - acc: 0.9437 - val_loss: 0.5019 - val_acc: 0.8714\n",
      "6.5e-05  Epoch 22/200\n",
      "171/170 [==============================] - 17s - loss: 0.1225 - acc: 0.9591 - val_loss: 0.7187 - val_acc: 0.8631\n",
      "6.4e-05  Epoch 23/200\n",
      "171/170 [==============================] - 17s - loss: 0.1102 - acc: 0.9554 - val_loss: 0.5483 - val_acc: 0.8589\n",
      "6.3e-05  Epoch 24/200\n",
      "171/170 [==============================] - 17s - loss: 0.1006 - acc: 0.9583 - val_loss: 0.6912 - val_acc: 0.8382\n",
      "6.2e-05  Epoch 25/200\n",
      "171/170 [==============================] - 17s - loss: 0.0960 - acc: 0.9642 - val_loss: 0.8166 - val_acc: 0.8423\n",
      "6e-05  Epoch 26/200\n",
      "171/170 [==============================] - 17s - loss: 0.1293 - acc: 0.9525 - val_loss: 0.5030 - val_acc: 0.8672\n",
      "5.9e-05  Epoch 27/200\n",
      "171/170 [==============================] - 17s - loss: 0.1028 - acc: 0.9627 - val_loss: 0.5422 - val_acc: 0.8672\n",
      "5.8e-05  Epoch 28/200\n",
      "171/170 [==============================] - 17s - loss: 0.0716 - acc: 0.9744 - val_loss: 0.7132 - val_acc: 0.8714\n",
      "5.7e-05  Epoch 29/200\n",
      "171/170 [==============================] - 17s - loss: 0.0613 - acc: 0.9754 - val_loss: 1.0176 - val_acc: 0.8382\n",
      "5.6e-05  Epoch 30/200\n",
      "171/170 [==============================] - 17s - loss: 0.0712 - acc: 0.9751 - val_loss: 0.8401 - val_acc: 0.8631.9\n",
      "5.5e-05  Epoch 31/200\n",
      "171/170 [==============================] - 17s - loss: 0.0894 - acc: 0.9700 - val_loss: 0.7873 - val_acc: 0.8589\n",
      "5.3e-05  Epoch 32/200\n",
      "171/170 [==============================] - 17s - loss: 0.0555 - acc: 0.9781 - val_loss: 0.8945 - val_acc: 0.8631\n",
      "5.2e-05  Epoch 33/200\n",
      "171/170 [==============================] - 17s - loss: 0.0755 - acc: 0.9751 - val_loss: 1.0431 - val_acc: 0.8423\n",
      "5.1e-05  Epoch 34/200\n",
      "171/170 [==============================] - 17s - loss: 0.0557 - acc: 0.9834 - val_loss: 0.7403 - val_acc: 0.8797\n",
      "5e-05  Epoch 35/200\n",
      "171/170 [==============================] - 17s - loss: 0.0572 - acc: 0.9773 - val_loss: 0.4784 - val_acc: 0.8672\n",
      "5e-05  Epoch 36/200\n",
      "171/170 [==============================] - 17s - loss: 0.0373 - acc: 0.9846 - val_loss: 0.6295 - val_acc: 0.8797\n",
      "5e-05  Epoch 37/200\n",
      "171/170 [==============================] - 17s - loss: 0.0524 - acc: 0.9795 - val_loss: 0.6340 - val_acc: 0.8755\n",
      "5e-05  Epoch 38/200\n",
      "171/170 [==============================] - 17s - loss: 0.0273 - acc: 0.9927 - val_loss: 0.8643 - val_acc: 0.8797\n",
      "5e-05  Epoch 39/200\n",
      "171/170 [==============================] - 17s - loss: 0.0484 - acc: 0.9839 - val_loss: 0.6808 - val_acc: 0.8548\n",
      "5e-05  Epoch 40/200\n",
      "171/170 [==============================] - 17s - loss: 0.0353 - acc: 0.9890 - val_loss: 0.6864 - val_acc: 0.8838\n",
      "5e-05  Epoch 41/200\n",
      " 99/170 [================>.............] - ETA: 7s - loss: 0.0636 - acc: 0.9811"
     ]
    }
   ],
   "source": [
    "%%time\n",
    "hist = model.fit_generator(datagen.flow(x_train, y_train, batch_size=8, shuffle = True),\n",
    "                           steps_per_epoch=len(x_train) / 8, \n",
    "                           epochs = 200, #1 for ETA, 0 for silent\n",
    "                           verbose= 1,\n",
    "                           max_queue_size= 16, \n",
    "                           workers= 8,\n",
    "                           validation_data=(x_val, y_val),\n",
    "                           callbacks=[annealer, tensorBoard])\n",
    "# hist = model.fit_generator([x_train, inc_angle_train], y_train, \n",
    "#                  batch_size = 8, \n",
    "#                  verbose= 1,\n",
    "#                  epochs = 30, #1 for ETA, 0 for silent\n",
    "#                  validation_data=([x_val, inc_angle_val], y_val),\n",
    "#                  callbacks=[tensorBoard])"
   ]
  },
  {
   "cell_type": "code",
   "execution_count": null,
   "metadata": {
    "collapsed": true
   },
   "outputs": [],
   "source": [
    "final_loss, final_acc = model.evaluate(x_val, y_val, verbose=1)\n",
    "print(\"Final loss: {0:.4f}, final accuracy: {1:.4f}\".format(final_loss, final_acc))"
   ]
  },
  {
   "cell_type": "code",
   "execution_count": null,
   "metadata": {
    "collapsed": true
   },
   "outputs": [],
   "source": [
    "val_prob1 = model.predict(x_val)\n",
    "\n",
    "# print('Val log_loss: {}'.format(log_loss(y_val, val_prob1)))\n",
    "val_prob1_limit = np.clip(val_prob1, 0.00005, 0.99995)\n",
    "loss = log_loss(y_val, val_prob1_limit)\n",
    "print('Val log_loss: {}'.format(loss))\n",
    "\n",
    "val_prob1_limit = np.clip(val_prob1_limit, 0.05, 0.95)\n",
    "loss = log_loss(y_val, val_prob1_limit)\n",
    "print('Val log_loss: {}'.format(loss))"
   ]
  },
  {
   "cell_type": "code",
   "execution_count": null,
   "metadata": {
    "collapsed": true
   },
   "outputs": [],
   "source": [
    "final_acc_str = str(int(loss*10000))\n",
    "run_name_acc = project_name + '_' + step_name + '_' + time_str + '_' + final_acc_str\n",
    "print(run_name_acc)"
   ]
  },
  {
   "cell_type": "code",
   "execution_count": null,
   "metadata": {
    "collapsed": true
   },
   "outputs": [],
   "source": [
    "histories = pd.DataFrame(hist.history)\n",
    "histories['epoch'] = hist.epoch\n",
    "print(histories.columns)\n",
    "histories_file = os.path.join(model_path, run_name_acc + '.csv')\n",
    "histories.to_csv(histories_file, index=False)"
   ]
  },
  {
   "cell_type": "code",
   "execution_count": null,
   "metadata": {
    "collapsed": true
   },
   "outputs": [],
   "source": [
    "plt.plot(histories['loss'], color='b')\n",
    "plt.plot(histories['val_loss'], color='r')\n",
    "plt.show()\n",
    "plt.plot(histories['acc'], color='b')\n",
    "plt.plot(histories['val_acc'], color='r')\n",
    "plt.show()"
   ]
  },
  {
   "cell_type": "code",
   "execution_count": null,
   "metadata": {
    "collapsed": true
   },
   "outputs": [],
   "source": [
    "saveModel(model, run_name_acc)"
   ]
  },
  {
   "cell_type": "markdown",
   "metadata": {},
   "source": [
    "## 3. Predict"
   ]
  },
  {
   "cell_type": "code",
   "execution_count": null,
   "metadata": {
    "collapsed": true
   },
   "outputs": [],
   "source": [
    "if not os.path.exists(output_path):\n",
    "    os.mkdir(output_path)\n",
    "pred_file = os.path.join(output_path, run_name_acc + '.csv')\n",
    "print(pred_file)"
   ]
  },
  {
   "cell_type": "code",
   "execution_count": null,
   "metadata": {
    "collapsed": true
   },
   "outputs": [],
   "source": [
    "test_prob = model.predict(x_test)\n",
    "print(test_prob.shape)\n",
    "print(test_prob[0:2])\n",
    "test_prob = np.clip(test_prob, 0.05, 0.95)\n",
    "print(test_prob.shape)\n",
    "print(test_prob[0:2])"
   ]
  },
  {
   "cell_type": "code",
   "execution_count": null,
   "metadata": {
    "collapsed": true
   },
   "outputs": [],
   "source": [
    "sample_submission['is_iceberg'] = test_prob\n",
    "print(sample_submission[0:2])\n",
    "print(sample_submission.shape)\n",
    "sample_submission.to_csv(pred_file, index=False)"
   ]
  },
  {
   "cell_type": "code",
   "execution_count": null,
   "metadata": {
    "collapsed": true
   },
   "outputs": [],
   "source": [
    "print(run_name_acc)\n",
    "print('Done!')"
   ]
  },
  {
   "cell_type": "code",
   "execution_count": null,
   "metadata": {
    "collapsed": true
   },
   "outputs": [],
   "source": []
  }
 ],
 "metadata": {
  "kernelspec": {
   "display_name": "Python 3",
   "language": "python",
   "name": "python3"
  },
  "language_info": {
   "codemirror_mode": {
    "name": "ipython",
    "version": 3
   },
   "file_extension": ".py",
   "mimetype": "text/x-python",
   "name": "python",
   "nbconvert_exporter": "python",
   "pygments_lexer": "ipython3",
   "version": "3.5.4"
  }
 },
 "nbformat": 4,
 "nbformat_minor": 2
}
