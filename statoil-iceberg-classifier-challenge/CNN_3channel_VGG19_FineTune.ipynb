{
 "cells": [
  {
   "cell_type": "markdown",
   "metadata": {},
   "source": [
    "# CNN_3channel_VGG19_FineTune\n",
    "\n",
    "Abstract:\n",
    "- single channel: band_avg\n",
    "- CNN, small net\n",
    "\n",
    "Result:\n",
    "- 增大网络的各个参数，只是把train数据的拟合程度增加了（到了99%），而cv数据的泛化能力仍然只有87%，说明，特征还需要进一步的提取来增加系统的泛化能力。\n",
    "\n",
    "References:\n",
    "- https://www.kaggle.com/ivalmian/simple-svd-xgboost-baseline-lb-35\n",
    "- https://www.kaggle.com/arieltci/a-keras-prototype-0-21174-on-pl"
   ]
  },
  {
   "cell_type": "markdown",
   "metadata": {},
   "source": [
    "## 1. Preprocess"
   ]
  },
  {
   "cell_type": "markdown",
   "metadata": {},
   "source": [
    "### Import pkgs"
   ]
  },
  {
   "cell_type": "code",
   "execution_count": 1,
   "metadata": {},
   "outputs": [],
   "source": [
    "import numpy as np\n",
    "import pandas as pd\n",
    "import matplotlib.pyplot as plt\n",
    "import seaborn as sns\n",
    "from sklearn.model_selection import train_test_split\n",
    "from sklearn.ensemble import GradientBoostingClassifier\n",
    "from sklearn.preprocessing import MinMaxScaler, Binarizer\n",
    "from sklearn.metrics import log_loss, accuracy_score\n",
    "from IPython.display import display\n",
    "\n",
    "%matplotlib inline"
   ]
  },
  {
   "cell_type": "code",
   "execution_count": 2,
   "metadata": {},
   "outputs": [],
   "source": [
    "import os\n",
    "import time\n",
    "import zipfile\n",
    "import lzma\n",
    "import pickle\n",
    "from PIL import Image\n",
    "from shutil import copy2\n",
    "\n",
    "import gc"
   ]
  },
  {
   "cell_type": "markdown",
   "metadata": {},
   "source": [
    "### Run name"
   ]
  },
  {
   "cell_type": "code",
   "execution_count": 3,
   "metadata": {},
   "outputs": [
    {
     "name": "stdout",
     "output_type": "stream",
     "text": [
      "run_name: SC_Iceberg_Classifier_CNN_3channel_VGG19_FineTune_20180111_153545\n"
     ]
    }
   ],
   "source": [
    "project_name = 'SC_Iceberg_Classifier'\n",
    "step_name = 'CNN_3channel_VGG19_FineTune'\n",
    "date_str = time.strftime(\"%Y%m%d\", time.localtime())\n",
    "time_str = time.strftime(\"%Y%m%d_%H%M%S\", time.localtime())\n",
    "run_name = project_name + '_' + step_name + '_' + time_str\n",
    "print('run_name: ' + run_name)\n",
    "t0 = time.time()"
   ]
  },
  {
   "cell_type": "markdown",
   "metadata": {},
   "source": [
    "### Folder Pathes"
   ]
  },
  {
   "cell_type": "code",
   "execution_count": 4,
   "metadata": {},
   "outputs": [
    {
     "name": "stdout",
     "output_type": "stream",
     "text": [
      "input_path: /data1/Kaggle/statoil-iceberg-classifier-challenge/input\n",
      "log_path: /data1/Kaggle/statoil-iceberg-classifier-challenge/log\n",
      "model_path: /data1/Kaggle/statoil-iceberg-classifier-challenge/model\n",
      "output_path: /data1/Kaggle/statoil-iceberg-classifier-challenge/output\n"
     ]
    }
   ],
   "source": [
    "cwd = os.getcwd()\n",
    "input_path = os.path.join(cwd, 'input')\n",
    "log_path = os.path.join(cwd, 'log')\n",
    "model_path = os.path.join(cwd, 'model')\n",
    "output_path = os.path.join(cwd, 'output')\n",
    "print('input_path: ' + input_path)\n",
    "print('log_path: ' + log_path)\n",
    "print('model_path: ' + model_path)\n",
    "print('output_path: ' + output_path)"
   ]
  },
  {
   "cell_type": "markdown",
   "metadata": {},
   "source": [
    "### Unzip files"
   ]
  },
  {
   "cell_type": "code",
   "execution_count": 5,
   "metadata": {},
   "outputs": [],
   "source": [
    "# with lzma.open(\"train.json.7z\") as f:\n",
    "#     file_content = f.read()"
   ]
  },
  {
   "cell_type": "code",
   "execution_count": 6,
   "metadata": {},
   "outputs": [],
   "source": [
    "# Unzip(input_path, os.path.join(input_path, 'sample_submission.csv.7z'))\n",
    "# Unzip(input_path, os.path.join(input_path, 'test.json.7z'))\n",
    "# Unzip(input_path, os.path.join(input_path, 'train.json.7z'))"
   ]
  },
  {
   "cell_type": "markdown",
   "metadata": {},
   "source": [
    "### Basic functions"
   ]
  },
  {
   "cell_type": "code",
   "execution_count": 7,
   "metadata": {},
   "outputs": [],
   "source": [
    "import sys\n",
    "def describe(arr):\n",
    "    print(arr.shape, arr.min(), arr.max(), sys.getsizeof(arr))"
   ]
  },
  {
   "cell_type": "markdown",
   "metadata": {},
   "source": [
    "### Load data"
   ]
  },
  {
   "cell_type": "code",
   "execution_count": 8,
   "metadata": {},
   "outputs": [
    {
     "name": "stdout",
     "output_type": "stream",
     "text": [
      "(8424, 2)\n"
     ]
    },
    {
     "data": {
      "text/html": [
       "<div>\n",
       "<style scoped>\n",
       "    .dataframe tbody tr th:only-of-type {\n",
       "        vertical-align: middle;\n",
       "    }\n",
       "\n",
       "    .dataframe tbody tr th {\n",
       "        vertical-align: top;\n",
       "    }\n",
       "\n",
       "    .dataframe thead th {\n",
       "        text-align: right;\n",
       "    }\n",
       "</style>\n",
       "<table border=\"1\" class=\"dataframe\">\n",
       "  <thead>\n",
       "    <tr style=\"text-align: right;\">\n",
       "      <th></th>\n",
       "      <th>id</th>\n",
       "      <th>is_iceberg</th>\n",
       "    </tr>\n",
       "  </thead>\n",
       "  <tbody>\n",
       "    <tr>\n",
       "      <th>0</th>\n",
       "      <td>5941774d</td>\n",
       "      <td>0.5</td>\n",
       "    </tr>\n",
       "    <tr>\n",
       "      <th>1</th>\n",
       "      <td>4023181e</td>\n",
       "      <td>0.5</td>\n",
       "    </tr>\n",
       "  </tbody>\n",
       "</table>\n",
       "</div>"
      ],
      "text/plain": [
       "         id  is_iceberg\n",
       "0  5941774d         0.5\n",
       "1  4023181e         0.5"
      ]
     },
     "execution_count": 8,
     "metadata": {},
     "output_type": "execute_result"
    }
   ],
   "source": [
    "sample_submission_path = os.path.join(input_path, 'sample_submission.csv')\n",
    "sample_submission = pd.read_csv(sample_submission_path)\n",
    "print(sample_submission.shape)\n",
    "sample_submission.head(2)"
   ]
  },
  {
   "cell_type": "code",
   "execution_count": 9,
   "metadata": {},
   "outputs": [
    {
     "name": "stdout",
     "output_type": "stream",
     "text": [
      "(1604,) 0 1 25688\n"
     ]
    }
   ],
   "source": [
    "is_iceberg_path = os.path.join(input_path, 'is_iceberg.p')\n",
    "y_data = pickle.load(open(is_iceberg_path, mode='rb'))\n",
    "describe(y_data)"
   ]
  },
  {
   "cell_type": "code",
   "execution_count": 10,
   "metadata": {},
   "outputs": [
    {
     "name": "stdout",
     "output_type": "stream",
     "text": [
      "(1604,) 0.0 45.9375 25688\n",
      "(8424,) 23.0805 50.66178518000562 134808\n",
      "CPU times: user 4 ms, sys: 4 ms, total: 8 ms\n",
      "Wall time: 3.94 ms\n"
     ]
    }
   ],
   "source": [
    "%%time\n",
    "#Load orignal data\n",
    "inc_angle_data_path = os.path.join(input_path, 'inc_angle_data.p')\n",
    "inc_angle_test_path = os.path.join(input_path, 'inc_angle_test.p')\n",
    "\n",
    "inc_angle_data = pickle.load(open(inc_angle_data_path, mode='rb'))\n",
    "inc_angle_test = pickle.load(open(inc_angle_test_path, mode='rb'))\n",
    "\n",
    "describe(inc_angle_data)\n",
    "describe(inc_angle_test)"
   ]
  },
  {
   "cell_type": "code",
   "execution_count": 11,
   "metadata": {},
   "outputs": [
    {
     "name": "stdout",
     "output_type": "stream",
     "text": [
      "(1604, 75, 75) 0.0 1.0 128\n",
      "(1604, 75, 75) 0.0 1.0 128\n",
      "(8424, 75, 75) 0.0 1.0 128\n",
      "(8424, 75, 75) 0.0 1.0 128\n",
      "CPU times: user 404 ms, sys: 940 ms, total: 1.34 s\n",
      "Wall time: 1.34 s\n"
     ]
    }
   ],
   "source": [
    "%%time\n",
    "#Load orignal data\n",
    "band1_data_path = os.path.join(input_path, 'band1_data_gray.p')\n",
    "band2_data_path = os.path.join(input_path, 'band2_data_gray.p')\n",
    "band1_test_path = os.path.join(input_path, 'band1_test_gray.p')\n",
    "band2_test_path = os.path.join(input_path, 'band2_test_gray.p')\n",
    "\n",
    "band1_data = pickle.load(open(band1_data_path, mode='rb'))\n",
    "band2_data = pickle.load(open(band2_data_path, mode='rb'))\n",
    "band1_test = pickle.load(open(band1_test_path, mode='rb'))\n",
    "band2_test = pickle.load(open(band2_test_path, mode='rb'))\n",
    "\n",
    "describe(band1_data)\n",
    "describe(band2_data)\n",
    "describe(band1_test)\n",
    "describe(band2_test)"
   ]
  },
  {
   "cell_type": "code",
   "execution_count": 12,
   "metadata": {},
   "outputs": [
    {
     "name": "stdout",
     "output_type": "stream",
     "text": [
      "(1604, 75, 75) 0.0 0.9794008252642357 72180128\n",
      "(8424, 75, 75) 0.0 0.9302724933312241 379080128\n",
      "(1604, 75, 75) 0.0 1.0 72180128\n",
      "(8424, 75, 75) 0.0 1.0 379080128\n",
      "(1604, 75, 75) 0.021036913869304875 1.0 72180128\n",
      "(8424, 75, 75) 0.0 1.0 379080128\n",
      "CPU times: user 972 ms, sys: 748 ms, total: 1.72 s\n",
      "Wall time: 1.72 s\n"
     ]
    }
   ],
   "source": [
    "%%time\n",
    "#Load orignal data\n",
    "band_sub_data = np.fabs(np.subtract(band1_data, band2_data))\n",
    "band_sub_test = np.fabs(np.subtract(band1_test, band2_test))\n",
    "band_min_data = np.minimum(band1_data, band2_data)\n",
    "band_min_test = np.minimum(band1_test, band2_test)\n",
    "band_max_data = np.maximum(band1_data, band2_data)\n",
    "band_max_test = np.maximum(band1_test, band2_test)\n",
    "\n",
    "describe(band_sub_data)\n",
    "describe(band_sub_test)\n",
    "describe(band_min_data)\n",
    "describe(band_min_test)\n",
    "describe(band_max_data)\n",
    "describe(band_max_test)"
   ]
  },
  {
   "cell_type": "code",
   "execution_count": 13,
   "metadata": {},
   "outputs": [
    {
     "name": "stdout",
     "output_type": "stream",
     "text": [
      "(1604, 75, 75) 0.0 0.9794008252642357 72180128\n",
      "(8424, 75, 75) 0.0 0.9302724933312241 379080128\n",
      "(1604, 75, 75) 0.0 1.0 72180128\n",
      "(8424, 75, 75) 0.0 1.0 379080128\n",
      "(1604, 75, 75) 0.021036913869304875 1.0 72180128\n",
      "(8424, 75, 75) 0.0 1.0 379080128\n",
      "CPU times: user 980 ms, sys: 812 ms, total: 1.79 s\n",
      "Wall time: 1.78 s\n"
     ]
    }
   ],
   "source": [
    "%%time\n",
    "#Load orignal data\n",
    "band_sub_data = np.fabs(np.subtract(band1_data, band2_data))\n",
    "band_sub_test = np.fabs(np.subtract(band1_test, band2_test))\n",
    "band_min_data = np.minimum(band1_data, band2_data)\n",
    "band_min_test = np.minimum(band1_test, band2_test)\n",
    "band_max_data = np.maximum(band1_data, band2_data)\n",
    "band_max_test = np.maximum(band1_test, band2_test)\n",
    "\n",
    "describe(band_sub_data)\n",
    "describe(band_sub_test)\n",
    "describe(band_min_data)\n",
    "describe(band_min_test)\n",
    "describe(band_max_data)\n",
    "describe(band_max_test)"
   ]
  },
  {
   "cell_type": "code",
   "execution_count": 14,
   "metadata": {},
   "outputs": [
    {
     "name": "stdout",
     "output_type": "stream",
     "text": [
      "(1604, 75, 75, 3) 0.0 1.0 216540144\n",
      "(8424, 75, 75, 3) 0.0 1.0 1137240144\n",
      "CPU times: user 984 ms, sys: 460 ms, total: 1.44 s\n",
      "Wall time: 1.44 s\n"
     ]
    }
   ],
   "source": [
    "%%time\n",
    "x_data = np.concatenate([band1_data[:, :, :, np.newaxis],\n",
    "                         band2_data[:, :, :, np.newaxis],\n",
    "                         band_max_data[:, :, :, np.newaxis]], axis=-1)\n",
    "describe(x_data)\n",
    "# del band1_data\n",
    "# del band2_data\n",
    "# del band_avg_data\n",
    "gc.collect()\n",
    "\n",
    "x_test = np.concatenate([band1_test[:, :, :, np.newaxis],\n",
    "                         band2_test[:, :, :, np.newaxis],\n",
    "                         band_max_test[:, :, :, np.newaxis]], axis=-1)\n",
    "describe(x_test)\n",
    "# del band1_test\n",
    "# del band2_test\n",
    "# del band_avg_test\n",
    "gc.collect()"
   ]
  },
  {
   "cell_type": "code",
   "execution_count": 15,
   "metadata": {},
   "outputs": [
    {
     "name": "stdout",
     "output_type": "stream",
     "text": [
      "(1443, 75, 75, 3) 0.0 1.0 194805144\n",
      "(161, 75, 75, 3) 0.0 1.0 21735144\n",
      "(1443,) 0.0 45.9375 23112\n",
      "(161,) 0.0 45.2814 2600\n",
      "(1443,) 0 1 23112\n",
      "(161,) 0 1 2600\n",
      "CPU times: user 92 ms, sys: 84 ms, total: 176 ms\n",
      "Wall time: 169 ms\n"
     ]
    }
   ],
   "source": [
    "%%time\n",
    "x_train, x_val, inc_angle_train, inc_angle_val, y_train, y_val = train_test_split(x_data, inc_angle_data, y_data, test_size=0.1, random_state=31)\n",
    "describe(x_train)\n",
    "describe(x_val)\n",
    "describe(inc_angle_train)\n",
    "describe(inc_angle_val)\n",
    "describe(y_train)\n",
    "describe(y_val)"
   ]
  },
  {
   "cell_type": "markdown",
   "metadata": {},
   "source": [
    "## 2. Build model"
   ]
  },
  {
   "cell_type": "code",
   "execution_count": 16,
   "metadata": {},
   "outputs": [
    {
     "name": "stderr",
     "output_type": "stream",
     "text": [
      "/root/anaconda3/envs/python35/lib/python3.5/site-packages/h5py/__init__.py:36: FutureWarning: Conversion of the second argument of issubdtype from `float` to `np.floating` is deprecated. In future, it will be treated as `np.float64 == np.dtype(float).type`.\n",
      "  from ._conv import register_converters as _register_converters\n",
      "Using TensorFlow backend.\n"
     ]
    }
   ],
   "source": [
    "from keras.utils.np_utils import to_categorical # convert to one-hot-encoding\n",
    "from keras.models import Sequential, Model\n",
    "from keras.layers import Input, Dense, Dropout, Flatten, Conv2D, MaxPool2D, GlobalAveragePooling2D, BatchNormalization\n",
    "from keras.optimizers import Adam\n",
    "from keras.preprocessing.image import ImageDataGenerator\n",
    "from keras.callbacks import LearningRateScheduler, TensorBoard\n",
    "\n",
    "from keras.applications.vgg19 import VGG19, preprocess_input"
   ]
  },
  {
   "cell_type": "code",
   "execution_count": 17,
   "metadata": {},
   "outputs": [],
   "source": [
    "def build_model():\n",
    "    base_model = VGG19(weights='imagenet', include_top=False)\n",
    "\n",
    "    x = base_model.output\n",
    "    x = GlobalAveragePooling2D()(x)\n",
    "    x = Dense(512, activation='relu')(x)\n",
    "    predictions = Dense(1, activation='sigmoid')(x)\n",
    "    model = Model(inputs=base_model.input, outputs=predictions)\n",
    "\n",
    "    for layer in base_model.layers:\n",
    "        layer.trainable = True\n",
    "\n",
    "    model.compile(optimizer=Adam(lr=1e-4), loss='binary_crossentropy', metrics=['accuracy'])\n",
    "    return model"
   ]
  },
  {
   "cell_type": "code",
   "execution_count": 18,
   "metadata": {},
   "outputs": [
    {
     "name": "stdout",
     "output_type": "stream",
     "text": [
      "_________________________________________________________________\n",
      "Layer (type)                 Output Shape              Param #   \n",
      "=================================================================\n",
      "input_1 (InputLayer)         (None, None, None, 3)     0         \n",
      "_________________________________________________________________\n",
      "block1_conv1 (Conv2D)        (None, None, None, 64)    1792      \n",
      "_________________________________________________________________\n",
      "block1_conv2 (Conv2D)        (None, None, None, 64)    36928     \n",
      "_________________________________________________________________\n",
      "block1_pool (MaxPooling2D)   (None, None, None, 64)    0         \n",
      "_________________________________________________________________\n",
      "block2_conv1 (Conv2D)        (None, None, None, 128)   73856     \n",
      "_________________________________________________________________\n",
      "block2_conv2 (Conv2D)        (None, None, None, 128)   147584    \n",
      "_________________________________________________________________\n",
      "block2_pool (MaxPooling2D)   (None, None, None, 128)   0         \n",
      "_________________________________________________________________\n",
      "block3_conv1 (Conv2D)        (None, None, None, 256)   295168    \n",
      "_________________________________________________________________\n",
      "block3_conv2 (Conv2D)        (None, None, None, 256)   590080    \n",
      "_________________________________________________________________\n",
      "block3_conv3 (Conv2D)        (None, None, None, 256)   590080    \n",
      "_________________________________________________________________\n",
      "block3_conv4 (Conv2D)        (None, None, None, 256)   590080    \n",
      "_________________________________________________________________\n",
      "block3_pool (MaxPooling2D)   (None, None, None, 256)   0         \n",
      "_________________________________________________________________\n",
      "block4_conv1 (Conv2D)        (None, None, None, 512)   1180160   \n",
      "_________________________________________________________________\n",
      "block4_conv2 (Conv2D)        (None, None, None, 512)   2359808   \n",
      "_________________________________________________________________\n",
      "block4_conv3 (Conv2D)        (None, None, None, 512)   2359808   \n",
      "_________________________________________________________________\n",
      "block4_conv4 (Conv2D)        (None, None, None, 512)   2359808   \n",
      "_________________________________________________________________\n",
      "block4_pool (MaxPooling2D)   (None, None, None, 512)   0         \n",
      "_________________________________________________________________\n",
      "block5_conv1 (Conv2D)        (None, None, None, 512)   2359808   \n",
      "_________________________________________________________________\n",
      "block5_conv2 (Conv2D)        (None, None, None, 512)   2359808   \n",
      "_________________________________________________________________\n",
      "block5_conv3 (Conv2D)        (None, None, None, 512)   2359808   \n",
      "_________________________________________________________________\n",
      "block5_conv4 (Conv2D)        (None, None, None, 512)   2359808   \n",
      "_________________________________________________________________\n",
      "block5_pool (MaxPooling2D)   (None, None, None, 512)   0         \n",
      "_________________________________________________________________\n",
      "global_average_pooling2d_1 ( (None, 512)               0         \n",
      "_________________________________________________________________\n",
      "dense_1 (Dense)              (None, 512)               262656    \n",
      "_________________________________________________________________\n",
      "dense_2 (Dense)              (None, 1)                 513       \n",
      "=================================================================\n",
      "Total params: 20,287,553\n",
      "Trainable params: 20,287,553\n",
      "Non-trainable params: 0\n",
      "_________________________________________________________________\n"
     ]
    }
   ],
   "source": [
    "model = build_model()\n",
    "model.summary()"
   ]
  },
  {
   "cell_type": "code",
   "execution_count": 19,
   "metadata": {},
   "outputs": [],
   "source": [
    "def saveModel(model, run_name):\n",
    "    cwd = os.getcwd()\n",
    "    modelPath = os.path.join(cwd, 'model')\n",
    "    if not os.path.isdir(modelPath):\n",
    "        os.mkdir(modelPath)\n",
    "    weigthsFile = os.path.join(modelPath, run_name + '.h5')\n",
    "    model.save(weigthsFile)\n",
    "# saveModel(model, 'saveModel_test')"
   ]
  },
  {
   "cell_type": "code",
   "execution_count": 20,
   "metadata": {},
   "outputs": [
    {
     "name": "stdout",
     "output_type": "stream",
     "text": [
      "log_dir:/data1/Kaggle/statoil-iceberg-classifier-challenge/log/SC_Iceberg_Classifier_CNN_3channel_VGG19_FineTune_20180111_153545\n"
     ]
    }
   ],
   "source": [
    "def get_lr(x):\n",
    "    lr = round(1e-4 * 0.995 ** x, 6)\n",
    "    if lr < 1e-5:\n",
    "        lr = 1e-5\n",
    "    print(lr, end='  ')\n",
    "    return lr\n",
    "\n",
    "# annealer = LearningRateScheduler(lambda x: 1e-3 * 0.9 ** x)\n",
    "annealer = LearningRateScheduler(get_lr)\n",
    "\n",
    "log_dir = os.path.join(log_path, run_name)\n",
    "print('log_dir:' + log_dir)\n",
    "tensorBoard = TensorBoard(log_dir=log_dir)"
   ]
  },
  {
   "cell_type": "code",
   "execution_count": 21,
   "metadata": {},
   "outputs": [],
   "source": [
    "datagen = ImageDataGenerator(\n",
    "    zoom_range=0.3,\n",
    "    rotation_range=30,\n",
    "    horizontal_flip=True,\n",
    "    vertical_flip=True,\n",
    "    width_shift_range=0.3,\n",
    "    height_shift_range=0.3\n",
    ")"
   ]
  },
  {
   "cell_type": "code",
   "execution_count": 22,
   "metadata": {},
   "outputs": [
    {
     "name": "stdout",
     "output_type": "stream",
     "text": [
      "0.0001  Epoch 1/50\n",
      "46/45 [==============================] - 20s 435ms/step - loss: 0.6870 - acc: 0.5569 - val_loss: 0.6655 - val_acc: 0.6708\n",
      "0.0001  Epoch 2/50\n",
      "46/45 [==============================] - 17s 372ms/step - loss: 0.7006 - acc: 0.5946 - val_loss: 0.6839 - val_acc: 0.5404\n",
      "9.9e-05  Epoch 3/50\n",
      "46/45 [==============================] - 17s 359ms/step - loss: 0.6776 - acc: 0.5637 - val_loss: 0.7079 - val_acc: 0.5217\n",
      "9.9e-05  Epoch 4/50\n",
      "46/45 [==============================] - 17s 362ms/step - loss: 0.6594 - acc: 0.6072 - val_loss: 0.6166 - val_acc: 0.6087\n",
      "9.8e-05  Epoch 5/50\n",
      "46/45 [==============================] - 17s 364ms/step - loss: 0.6299 - acc: 0.6164 - val_loss: 0.6444 - val_acc: 0.6522\n",
      "9.8e-05  Epoch 6/50\n",
      "46/45 [==============================] - 17s 363ms/step - loss: 0.5976 - acc: 0.6846 - val_loss: 0.5972 - val_acc: 0.7019\n",
      "9.7e-05  Epoch 7/50\n",
      "46/45 [==============================] - 17s 362ms/step - loss: 0.5888 - acc: 0.6816 - val_loss: 0.7579 - val_acc: 0.4907\n",
      "9.7e-05  Epoch 8/50\n",
      "46/45 [==============================] - 17s 361ms/step - loss: 0.6222 - acc: 0.6602 - val_loss: 0.7248 - val_acc: 0.5342\n",
      "9.6e-05  Epoch 9/50\n",
      "46/45 [==============================] - 17s 364ms/step - loss: 0.6153 - acc: 0.6596 - val_loss: 0.5895 - val_acc: 0.6957\n",
      "9.6e-05  Epoch 10/50\n",
      "46/45 [==============================] - 17s 373ms/step - loss: 0.5773 - acc: 0.6925 - val_loss: 0.5857 - val_acc: 0.6522\n",
      "9.5e-05  Epoch 11/50\n",
      "46/45 [==============================] - 17s 362ms/step - loss: 0.5777 - acc: 0.6898 - val_loss: 0.5646 - val_acc: 0.6957\n",
      "9.5e-05  Epoch 12/50\n",
      "46/45 [==============================] - 17s 365ms/step - loss: 0.5674 - acc: 0.7020 - val_loss: 0.7141 - val_acc: 0.5342\n",
      "9.4e-05  Epoch 13/50\n",
      "46/45 [==============================] - 17s 365ms/step - loss: 0.5760 - acc: 0.6470 - val_loss: 0.5319 - val_acc: 0.7143\n",
      "9.4e-05  Epoch 14/50\n",
      "46/45 [==============================] - 17s 377ms/step - loss: 0.5293 - acc: 0.7333 - val_loss: 0.4797 - val_acc: 0.7640\n",
      "9.3e-05  Epoch 15/50\n",
      "46/45 [==============================] - 17s 363ms/step - loss: 0.5095 - acc: 0.7550 - val_loss: 0.5957 - val_acc: 0.6522\n",
      "9.3e-05  Epoch 16/50\n",
      "46/45 [==============================] - 17s 363ms/step - loss: 0.6044 - acc: 0.6626 - val_loss: 0.5136 - val_acc: 0.7205\n",
      "9.2e-05  Epoch 17/50\n",
      "46/45 [==============================] - 17s 364ms/step - loss: 0.5022 - acc: 0.7513 - val_loss: 0.4253 - val_acc: 0.7888\n",
      "9.2e-05  Epoch 18/50\n",
      "46/45 [==============================] - 17s 364ms/step - loss: 0.4505 - acc: 0.7968 - val_loss: 0.4529 - val_acc: 0.7764\n",
      "9.1e-05  Epoch 19/50\n",
      "46/45 [==============================] - 17s 363ms/step - loss: 0.4350 - acc: 0.7880 - val_loss: 0.3917 - val_acc: 0.7950\n",
      "9.1e-05  Epoch 20/50\n",
      "46/45 [==============================] - 17s 365ms/step - loss: 0.4012 - acc: 0.8043 - val_loss: 0.4013 - val_acc: 0.7702\n",
      "9e-05  Epoch 21/50\n",
      "46/45 [==============================] - 17s 361ms/step - loss: 0.3842 - acc: 0.8267 - val_loss: 0.3670 - val_acc: 0.7950\n",
      "9e-05  Epoch 22/50\n",
      "46/45 [==============================] - 17s 364ms/step - loss: 0.4247 - acc: 0.7982 - val_loss: 0.4137 - val_acc: 0.7578\n",
      "9e-05  Epoch 23/50\n",
      "46/45 [==============================] - 17s 363ms/step - loss: 0.3833 - acc: 0.8158 - val_loss: 0.3232 - val_acc: 0.8385\n",
      "8.9e-05  Epoch 24/50\n",
      "46/45 [==============================] - 17s 362ms/step - loss: 0.3790 - acc: 0.8219 - val_loss: 0.3044 - val_acc: 0.8820\n",
      "8.9e-05  Epoch 25/50\n",
      "46/45 [==============================] - 17s 362ms/step - loss: 0.3392 - acc: 0.8475 - val_loss: 0.3507 - val_acc: 0.8323\n",
      "8.8e-05  Epoch 26/50\n",
      "46/45 [==============================] - 17s 364ms/step - loss: 0.3225 - acc: 0.8566 - val_loss: 0.2927 - val_acc: 0.8634\n",
      "8.8e-05  Epoch 27/50\n",
      "46/45 [==============================] - 17s 363ms/step - loss: 0.3346 - acc: 0.8539 - val_loss: 0.2888 - val_acc: 0.8758\n",
      "8.7e-05  Epoch 28/50\n",
      "46/45 [==============================] - 17s 371ms/step - loss: 0.3137 - acc: 0.8573 - val_loss: 0.2628 - val_acc: 0.9006\n",
      "8.7e-05  Epoch 29/50\n",
      "46/45 [==============================] - 17s 368ms/step - loss: 0.3438 - acc: 0.8396 - val_loss: 0.2875 - val_acc: 0.8758\n",
      "8.6e-05  Epoch 30/50\n",
      "46/45 [==============================] - 17s 366ms/step - loss: 0.3339 - acc: 0.8437 - val_loss: 0.2996 - val_acc: 0.8696\n",
      "8.6e-05  Epoch 31/50\n",
      "46/45 [==============================] - 17s 366ms/step - loss: 0.3201 - acc: 0.8525 - val_loss: 0.2928 - val_acc: 0.8634\n",
      "8.6e-05  Epoch 32/50\n",
      "46/45 [==============================] - 17s 367ms/step - loss: 0.3113 - acc: 0.8593 - val_loss: 0.3477 - val_acc: 0.7950\n",
      "8.5e-05  Epoch 33/50\n",
      "46/45 [==============================] - 17s 362ms/step - loss: 0.3640 - acc: 0.8267 - val_loss: 0.3773 - val_acc: 0.8323\n",
      "8.5e-05  Epoch 34/50\n",
      "46/45 [==============================] - 17s 367ms/step - loss: 0.3369 - acc: 0.8634 - val_loss: 0.2712 - val_acc: 0.9068\n",
      "8.4e-05  Epoch 35/50\n",
      "46/45 [==============================] - 17s 364ms/step - loss: 0.2889 - acc: 0.8743 - val_loss: 0.2879 - val_acc: 0.8758\n",
      "8.4e-05  Epoch 36/50\n",
      "46/45 [==============================] - 17s 362ms/step - loss: 0.3206 - acc: 0.8583 - val_loss: 0.2541 - val_acc: 0.9068\n",
      "8.3e-05  Epoch 37/50\n",
      "46/45 [==============================] - 17s 362ms/step - loss: 0.3304 - acc: 0.8484 - val_loss: 0.2829 - val_acc: 0.8758\n",
      "8.3e-05  Epoch 38/50\n",
      "46/45 [==============================] - 17s 361ms/step - loss: 0.3003 - acc: 0.8661 - val_loss: 0.2669 - val_acc: 0.9068\n",
      "8.3e-05  Epoch 39/50\n",
      "46/45 [==============================] - 17s 363ms/step - loss: 0.2809 - acc: 0.8688 - val_loss: 0.2491 - val_acc: 0.8944\n",
      "8.2e-05  Epoch 40/50\n",
      "46/45 [==============================] - 16s 358ms/step - loss: 0.3140 - acc: 0.8600 - val_loss: 0.2939 - val_acc: 0.8882\n",
      "8.2e-05  Epoch 41/50\n",
      "46/45 [==============================] - 17s 364ms/step - loss: 0.2846 - acc: 0.8651 - val_loss: 0.2764 - val_acc: 0.8696\n",
      "8.1e-05  Epoch 42/50\n",
      "46/45 [==============================] - 17s 362ms/step - loss: 0.3407 - acc: 0.8345 - val_loss: 0.3116 - val_acc: 0.8385\n",
      "8.1e-05  Epoch 43/50\n",
      "46/45 [==============================] - 17s 362ms/step - loss: 0.3017 - acc: 0.8675 - val_loss: 0.2653 - val_acc: 0.9006\n",
      "8.1e-05  Epoch 44/50\n",
      "46/45 [==============================] - 16s 358ms/step - loss: 0.2844 - acc: 0.8688 - val_loss: 0.2641 - val_acc: 0.8820\n",
      "8e-05  Epoch 45/50\n",
      "46/45 [==============================] - 17s 364ms/step - loss: 0.2917 - acc: 0.8743 - val_loss: 0.2771 - val_acc: 0.8634\n",
      "8e-05  Epoch 46/50\n",
      "46/45 [==============================] - 17s 365ms/step - loss: 0.3018 - acc: 0.8702 - val_loss: 0.2772 - val_acc: 0.8944\n",
      "7.9e-05  Epoch 47/50\n",
      "46/45 [==============================] - 17s 359ms/step - loss: 0.2730 - acc: 0.8824 - val_loss: 0.2555 - val_acc: 0.8882\n",
      "7.9e-05  Epoch 48/50\n",
      "46/45 [==============================] - 17s 362ms/step - loss: 0.2794 - acc: 0.8811 - val_loss: 0.2600 - val_acc: 0.9006\n",
      "7.9e-05  Epoch 49/50\n",
      "46/45 [==============================] - 17s 361ms/step - loss: 0.2888 - acc: 0.8801 - val_loss: 0.2729 - val_acc: 0.8882\n",
      "7.8e-05  Epoch 50/50\n",
      "46/45 [==============================] - 17s 361ms/step - loss: 0.2652 - acc: 0.8967 - val_loss: 0.2527 - val_acc: 0.8820\n",
      "CPU times: user 11min 58s, sys: 2min 48s, total: 14min 46s\n",
      "Wall time: 14min 2s\n"
     ]
    }
   ],
   "source": [
    "%%time\n",
    "batch_size = 32\n",
    "steps_per_epoch = 1 * len(x_train) / batch_size\n",
    "hist = model.fit_generator(\n",
    "    datagen.flow(x_train, y_train, batch_size=batch_size, shuffle=True, seed=2019),\n",
    "    steps_per_epoch=steps_per_epoch,\n",
    "    epochs=50, #1 for ETA, 0 for silent\n",
    "    verbose=1,\n",
    "    max_queue_size=128,\n",
    "    callbacks=[annealer],\n",
    "    workers=32,\n",
    "    validation_data=(x_val, y_val)\n",
    ")"
   ]
  },
  {
   "cell_type": "code",
   "execution_count": 23,
   "metadata": {},
   "outputs": [],
   "source": [
    "# hist = model.fit(x_train, y_train, \n",
    "#                  batch_size = 128, \n",
    "#                  verbose= 1,\n",
    "#                  epochs = 100, #1 for ETA, 0 for silent\n",
    "#                  validation_data=(x_val, y_val),\n",
    "#                  callbacks=[annealer, tensorBoard])"
   ]
  },
  {
   "cell_type": "code",
   "execution_count": 24,
   "metadata": {},
   "outputs": [
    {
     "name": "stdout",
     "output_type": "stream",
     "text": [
      "161/161 [==============================] - 1s 3ms/step\n",
      "Final loss: 0.2527, final accuracy: 0.8820\n"
     ]
    }
   ],
   "source": [
    "final_loss, final_acc = model.evaluate(x_val, y_val, verbose=1)\n",
    "print(\"Final loss: {0:.4f}, final accuracy: {1:.4f}\".format(final_loss, final_acc))"
   ]
  },
  {
   "cell_type": "code",
   "execution_count": 25,
   "metadata": {},
   "outputs": [
    {
     "name": "stdout",
     "output_type": "stream",
     "text": [
      "Val log_loss: 0.2526754072228496\n",
      "Val log_loss: 0.2606227838474771\n"
     ]
    }
   ],
   "source": [
    "val_prob1 = model.predict(x_val)\n",
    "\n",
    "# print('Val log_loss: {}'.format(log_loss(y_val, val_prob1)))\n",
    "val_prob1_limit = np.clip(val_prob1, 0.00005, 0.99995)\n",
    "loss = log_loss(y_val, val_prob1_limit)\n",
    "print('Val log_loss: {}'.format(loss))\n",
    "\n",
    "val_prob1_limit = np.clip(val_prob1_limit, 0.05, 0.95)\n",
    "loss = log_loss(y_val, val_prob1_limit)\n",
    "print('Val log_loss: {}'.format(loss))"
   ]
  },
  {
   "cell_type": "code",
   "execution_count": 26,
   "metadata": {},
   "outputs": [
    {
     "name": "stdout",
     "output_type": "stream",
     "text": [
      "SC_Iceberg_Classifier_CNN_3channel_VGG19_FineTune_20180111_153545_2606\n"
     ]
    }
   ],
   "source": [
    "final_acc_str = '{0:0>4}'.format(int(loss*10000))\n",
    "run_name_acc = project_name + '_' + step_name + '_' + time_str + '_' + final_acc_str\n",
    "print(run_name_acc)"
   ]
  },
  {
   "cell_type": "code",
   "execution_count": 27,
   "metadata": {},
   "outputs": [
    {
     "name": "stdout",
     "output_type": "stream",
     "text": [
      "Index(['acc', 'loss', 'val_acc', 'val_loss', 'epoch'], dtype='object')\n"
     ]
    }
   ],
   "source": [
    "histories = pd.DataFrame(hist.history)\n",
    "histories['epoch'] = hist.epoch\n",
    "print(histories.columns)\n",
    "histories_file = os.path.join(model_path, run_name_acc + '.csv')\n",
    "histories.to_csv(histories_file, index=False)"
   ]
  },
  {
   "cell_type": "code",
   "execution_count": 28,
   "metadata": {},
   "outputs": [
    {
     "data": {
      "image/png": "[encoded data removed]",
      "text/plain": [
       "<matplotlib.figure.Figure at 0x7fe74302bf98>"
      ]
     },
     "metadata": {},
     "output_type": "display_data"
    },
    {
     "data": {
      "image/png": "[encoded data removed]",
      "text/plain": [
       "<matplotlib.figure.Figure at 0x7fe5b8472c18>"
      ]
     },
     "metadata": {},
     "output_type": "display_data"
    }
   ],
   "source": [
    "plt.plot(histories['loss'], color='b')\n",
    "plt.plot(histories['val_loss'], color='r')\n",
    "plt.show()\n",
    "plt.plot(histories['acc'], color='b')\n",
    "plt.plot(histories['val_acc'], color='r')\n",
    "plt.show()"
   ]
  },
  {
   "cell_type": "code",
   "execution_count": 29,
   "metadata": {},
   "outputs": [],
   "source": [
    "saveModel(model, run_name_acc)"
   ]
  },
  {
   "cell_type": "markdown",
   "metadata": {},
   "source": [
    "## 3. Predict"
   ]
  },
  {
   "cell_type": "code",
   "execution_count": null,
   "metadata": {},
   "outputs": [
    {
     "name": "stdout",
     "output_type": "stream",
     "text": [
      "/data1/Kaggle/statoil-iceberg-classifier-challenge/output/SC_Iceberg_Classifier_CNN_3channel_VGG19_FineTune_20180111_153545_2606.csv\n"
     ]
    }
   ],
   "source": [
    "if not os.path.exists(output_path):\n",
    "    os.mkdir(output_path)\n",
    "pred_file = os.path.join(output_path, run_name_acc + '.csv')\n",
    "print(pred_file)"
   ]
  },
  {
   "cell_type": "code",
   "execution_count": null,
   "metadata": {},
   "outputs": [],
   "source": [
    "test_prob = model.predict(x_test)\n",
    "print(test_prob.shape)\n",
    "print(test_prob[0:2])\n",
    "test_prob = np.clip(test_prob, 0.05, 0.95)\n",
    "print(test_prob.shape)\n",
    "print(test_prob[0:2])"
   ]
  },
  {
   "cell_type": "code",
   "execution_count": null,
   "metadata": {},
   "outputs": [],
   "source": [
    "sample_submission['is_iceberg'] = test_prob\n",
    "print(sample_submission[0:2])\n",
    "print(sample_submission.shape)\n",
    "sample_submission.to_csv(pred_file, index=False)"
   ]
  },
  {
   "cell_type": "code",
   "execution_count": null,
   "metadata": {},
   "outputs": [],
   "source": [
    "t1 = time.time()\n",
    "print('time cost: %.2f s' % (t1-t0))\n",
    "print('Done!')"
   ]
  },
  {
   "cell_type": "code",
   "execution_count": null,
   "metadata": {},
   "outputs": [],
   "source": [
    "print(run_name_acc)"
   ]
  },
  {
   "cell_type": "code",
   "execution_count": null,
   "metadata": {},
   "outputs": [],
   "source": []
  }
 ],
 "metadata": {
  "kernelspec": {
   "display_name": "Python 3",
   "language": "python",
   "name": "python3"
  },
  "language_info": {
   "codemirror_mode": {
    "name": "ipython",
    "version": 3
   },
   "file_extension": ".py",
   "mimetype": "text/x-python",
   "name": "python",
   "nbconvert_exporter": "python",
   "pygments_lexer": "ipython3",
   "version": "3.5.4"
  }
 },
 "nbformat": 4,
 "nbformat_minor": 2
}
