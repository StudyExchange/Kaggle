{
 "cells": [
  {
   "cell_type": "markdown",
   "metadata": {},
   "source": [
    "# CNN_3channel_VGG19_FineTune\n",
    "\n",
    "Abstract:\n",
    "- single channel: band_avg\n",
    "- CNN, small net\n",
    "\n",
    "Result:\n",
    "- 增大网络的各个参数，只是把train数据的拟合程度增加了（到了99%），而cv数据的泛化能力仍然只有87%，说明，特征还需要进一步的提取来增加系统的泛化能力。\n",
    "\n",
    "References:\n",
    "- https://www.kaggle.com/ivalmian/simple-svd-xgboost-baseline-lb-35\n",
    "- https://www.kaggle.com/arieltci/a-keras-prototype-0-21174-on-pl"
   ]
  },
  {
   "cell_type": "markdown",
   "metadata": {},
   "source": [
    "## 1. Preprocess"
   ]
  },
  {
   "cell_type": "markdown",
   "metadata": {},
   "source": [
    "### Import pkgs"
   ]
  },
  {
   "cell_type": "code",
   "execution_count": 1,
   "metadata": {},
   "outputs": [],
   "source": [
    "import numpy as np\n",
    "import pandas as pd\n",
    "import matplotlib.pyplot as plt\n",
    "import seaborn as sns\n",
    "from sklearn.model_selection import train_test_split\n",
    "from sklearn.ensemble import GradientBoostingClassifier\n",
    "from sklearn.preprocessing import MinMaxScaler, Binarizer\n",
    "from sklearn.metrics import log_loss, accuracy_score\n",
    "from IPython.display import display\n",
    "\n",
    "%matplotlib inline"
   ]
  },
  {
   "cell_type": "code",
   "execution_count": 2,
   "metadata": {},
   "outputs": [],
   "source": [
    "import os\n",
    "import time\n",
    "import zipfile\n",
    "import lzma\n",
    "import pickle\n",
    "from PIL import Image\n",
    "from shutil import copy2\n",
    "\n",
    "import gc"
   ]
  },
  {
   "cell_type": "markdown",
   "metadata": {},
   "source": [
    "### Run name"
   ]
  },
  {
   "cell_type": "code",
   "execution_count": 3,
   "metadata": {},
   "outputs": [
    {
     "name": "stdout",
     "output_type": "stream",
     "text": [
      "run_name: SC_Iceberg_Classifier_CNN_3channel_VGG19_FineTune_20180110_084730\n"
     ]
    }
   ],
   "source": [
    "project_name = 'SC_Iceberg_Classifier'\n",
    "step_name = 'CNN_3channel_VGG19_FineTune'\n",
    "date_str = time.strftime(\"%Y%m%d\", time.localtime())\n",
    "time_str = time.strftime(\"%Y%m%d_%H%M%S\", time.localtime())\n",
    "run_name = project_name + '_' + step_name + '_' + time_str\n",
    "print('run_name: ' + run_name)\n",
    "t0 = time.time()"
   ]
  },
  {
   "cell_type": "markdown",
   "metadata": {},
   "source": [
    "### Folder Pathes"
   ]
  },
  {
   "cell_type": "code",
   "execution_count": 4,
   "metadata": {},
   "outputs": [
    {
     "name": "stdout",
     "output_type": "stream",
     "text": [
      "input_path: D:\\Kaggle\\statoil-iceberg-classifier-challenge\\input\n",
      "log_path: D:\\Kaggle\\statoil-iceberg-classifier-challenge\\log\n",
      "model_path: D:\\Kaggle\\statoil-iceberg-classifier-challenge\\model\n",
      "output_path: D:\\Kaggle\\statoil-iceberg-classifier-challenge\\output\n"
     ]
    }
   ],
   "source": [
    "cwd = os.getcwd()\n",
    "input_path = os.path.join(cwd, 'input')\n",
    "log_path = os.path.join(cwd, 'log')\n",
    "model_path = os.path.join(cwd, 'model')\n",
    "output_path = os.path.join(cwd, 'output')\n",
    "print('input_path: ' + input_path)\n",
    "print('log_path: ' + log_path)\n",
    "print('model_path: ' + model_path)\n",
    "print('output_path: ' + output_path)"
   ]
  },
  {
   "cell_type": "markdown",
   "metadata": {},
   "source": [
    "### Unzip files"
   ]
  },
  {
   "cell_type": "code",
   "execution_count": 5,
   "metadata": {},
   "outputs": [],
   "source": [
    "# with lzma.open(\"train.json.7z\") as f:\n",
    "#     file_content = f.read()"
   ]
  },
  {
   "cell_type": "code",
   "execution_count": 6,
   "metadata": {},
   "outputs": [],
   "source": [
    "# Unzip(input_path, os.path.join(input_path, 'sample_submission.csv.7z'))\n",
    "# Unzip(input_path, os.path.join(input_path, 'test.json.7z'))\n",
    "# Unzip(input_path, os.path.join(input_path, 'train.json.7z'))"
   ]
  },
  {
   "cell_type": "markdown",
   "metadata": {},
   "source": [
    "### Basic functions"
   ]
  },
  {
   "cell_type": "code",
   "execution_count": 7,
   "metadata": {},
   "outputs": [],
   "source": [
    "import sys\n",
    "def describe(arr):\n",
    "    print(arr.shape, arr.min(), arr.max(), sys.getsizeof(arr))"
   ]
  },
  {
   "cell_type": "markdown",
   "metadata": {},
   "source": [
    "### Load data"
   ]
  },
  {
   "cell_type": "code",
   "execution_count": 8,
   "metadata": {},
   "outputs": [
    {
     "name": "stdout",
     "output_type": "stream",
     "text": [
      "(8424, 2)\n"
     ]
    },
    {
     "data": {
      "text/html": [
       "<div>\n",
       "<style>\n",
       "    .dataframe thead tr:only-child th {\n",
       "        text-align: right;\n",
       "    }\n",
       "\n",
       "    .dataframe thead th {\n",
       "        text-align: left;\n",
       "    }\n",
       "\n",
       "    .dataframe tbody tr th {\n",
       "        vertical-align: top;\n",
       "    }\n",
       "</style>\n",
       "<table border=\"1\" class=\"dataframe\">\n",
       "  <thead>\n",
       "    <tr style=\"text-align: right;\">\n",
       "      <th></th>\n",
       "      <th>id</th>\n",
       "      <th>is_iceberg</th>\n",
       "    </tr>\n",
       "  </thead>\n",
       "  <tbody>\n",
       "    <tr>\n",
       "      <th>0</th>\n",
       "      <td>5941774d</td>\n",
       "      <td>0.5</td>\n",
       "    </tr>\n",
       "    <tr>\n",
       "      <th>1</th>\n",
       "      <td>4023181e</td>\n",
       "      <td>0.5</td>\n",
       "    </tr>\n",
       "  </tbody>\n",
       "</table>\n",
       "</div>"
      ],
      "text/plain": [
       "         id  is_iceberg\n",
       "0  5941774d         0.5\n",
       "1  4023181e         0.5"
      ]
     },
     "execution_count": 8,
     "metadata": {},
     "output_type": "execute_result"
    }
   ],
   "source": [
    "sample_submission_path = os.path.join(input_path, 'sample_submission.csv')\n",
    "sample_submission = pd.read_csv(sample_submission_path)\n",
    "print(sample_submission.shape)\n",
    "sample_submission.head(2)"
   ]
  },
  {
   "cell_type": "code",
   "execution_count": 9,
   "metadata": {},
   "outputs": [
    {
     "name": "stdout",
     "output_type": "stream",
     "text": [
      "(1604,) 0 1 12936\n"
     ]
    }
   ],
   "source": [
    "is_iceberg_path = os.path.join(input_path, 'is_iceberg.p')\n",
    "y_data = pickle.load(open(is_iceberg_path, mode='rb'))\n",
    "describe(y_data)"
   ]
  },
  {
   "cell_type": "code",
   "execution_count": 10,
   "metadata": {},
   "outputs": [
    {
     "name": "stdout",
     "output_type": "stream",
     "text": [
      "(1604,) 0.0 45.9375 12936\n",
      "(8424,) 23.0805 50.66178518 67496\n",
      "Wall time: 7.99 ms\n"
     ]
    }
   ],
   "source": [
    "%%time\n",
    "#Load orignal data\n",
    "inc_angle_data_path = os.path.join(input_path, 'inc_angle_data.p')\n",
    "inc_angle_test_path = os.path.join(input_path, 'inc_angle_test.p')\n",
    "\n",
    "inc_angle_data = pickle.load(open(inc_angle_data_path, mode='rb'))\n",
    "inc_angle_test = pickle.load(open(inc_angle_test_path, mode='rb'))\n",
    "\n",
    "describe(inc_angle_data)\n",
    "describe(inc_angle_test)"
   ]
  },
  {
   "cell_type": "code",
   "execution_count": 11,
   "metadata": {},
   "outputs": [
    {
     "name": "stdout",
     "output_type": "stream",
     "text": [
      "(1604, 75, 75) 0.0 1.0 128\n",
      "(1604, 75, 75) 0.0 1.0 128\n",
      "(8424, 75, 75) 0.0 1.0 128\n",
      "(8424, 75, 75) 0.0 1.0 128\n",
      "Wall time: 2.1 s\n"
     ]
    }
   ],
   "source": [
    "%%time\n",
    "#Load orignal data\n",
    "band1_data_path = os.path.join(input_path, 'band1_data_gray.p')\n",
    "band2_data_path = os.path.join(input_path, 'band2_data_gray.p')\n",
    "band1_test_path = os.path.join(input_path, 'band1_test_gray.p')\n",
    "band2_test_path = os.path.join(input_path, 'band2_test_gray.p')\n",
    "\n",
    "band1_data = pickle.load(open(band1_data_path, mode='rb'))\n",
    "band2_data = pickle.load(open(band2_data_path, mode='rb'))\n",
    "band1_test = pickle.load(open(band1_test_path, mode='rb'))\n",
    "band2_test = pickle.load(open(band2_test_path, mode='rb'))\n",
    "\n",
    "describe(band1_data)\n",
    "describe(band2_data)\n",
    "describe(band1_test)\n",
    "describe(band2_test)"
   ]
  },
  {
   "cell_type": "code",
   "execution_count": 12,
   "metadata": {},
   "outputs": [
    {
     "name": "stdout",
     "output_type": "stream",
     "text": [
      "(1604, 75, 75) 0.0 0.979400825264 72180128\n",
      "(8424, 75, 75) 0.0 0.930272493331 379080128\n",
      "(1604, 75, 75) 0.0 1.0 72180128\n",
      "(8424, 75, 75) 0.0 1.0 379080128\n",
      "(1604, 75, 75) 0.0210369138693 1.0 72180128\n",
      "(8424, 75, 75) 0.0 1.0 379080128\n",
      "Wall time: 1.6 s\n"
     ]
    }
   ],
   "source": [
    "%%time\n",
    "#Load orignal data\n",
    "band_sub_data = np.fabs(np.subtract(band1_data, band2_data))\n",
    "band_sub_test = np.fabs(np.subtract(band1_test, band2_test))\n",
    "band_min_data = np.minimum(band1_data, band2_data)\n",
    "band_min_test = np.minimum(band1_test, band2_test)\n",
    "band_max_data = np.maximum(band1_data, band2_data)\n",
    "band_max_test = np.maximum(band1_test, band2_test)\n",
    "\n",
    "describe(band_sub_data)\n",
    "describe(band_sub_test)\n",
    "describe(band_min_data)\n",
    "describe(band_min_test)\n",
    "describe(band_max_data)\n",
    "describe(band_max_test)"
   ]
  },
  {
   "cell_type": "code",
   "execution_count": 13,
   "metadata": {},
   "outputs": [
    {
     "name": "stdout",
     "output_type": "stream",
     "text": [
      "(1604, 75, 75) 0.0 0.979400825264 72180128\n",
      "(8424, 75, 75) 0.0 0.930272493331 379080128\n",
      "(1604, 75, 75) 0.0 1.0 72180128\n",
      "(8424, 75, 75) 0.0 1.0 379080128\n",
      "(1604, 75, 75) 0.0210369138693 1.0 72180128\n",
      "(8424, 75, 75) 0.0 1.0 379080128\n",
      "Wall time: 1.84 s\n"
     ]
    }
   ],
   "source": [
    "%%time\n",
    "#Load orignal data\n",
    "band_sub_data = np.fabs(np.subtract(band1_data, band2_data))\n",
    "band_sub_test = np.fabs(np.subtract(band1_test, band2_test))\n",
    "band_min_data = np.minimum(band1_data, band2_data)\n",
    "band_min_test = np.minimum(band1_test, band2_test)\n",
    "band_max_data = np.maximum(band1_data, band2_data)\n",
    "band_max_test = np.maximum(band1_test, band2_test)\n",
    "\n",
    "describe(band_sub_data)\n",
    "describe(band_sub_test)\n",
    "describe(band_min_data)\n",
    "describe(band_min_test)\n",
    "describe(band_max_data)\n",
    "describe(band_max_test)"
   ]
  },
  {
   "cell_type": "code",
   "execution_count": 14,
   "metadata": {},
   "outputs": [
    {
     "name": "stdout",
     "output_type": "stream",
     "text": [
      "(1604, 75, 75, 3) 0.0 1.0 216540144\n",
      "(8424, 75, 75, 3) 0.0 1.0 1137240144\n",
      "Wall time: 1.27 s\n"
     ]
    }
   ],
   "source": [
    "%%time\n",
    "x_data = np.concatenate([band1_data[:, :, :, np.newaxis],\n",
    "                         band2_data[:, :, :, np.newaxis],\n",
    "                         band_max_data[:, :, :, np.newaxis]], axis=-1)\n",
    "describe(x_data)\n",
    "# del band1_data\n",
    "# del band2_data\n",
    "# del band_avg_data\n",
    "gc.collect()\n",
    "\n",
    "x_test = np.concatenate([band1_test[:, :, :, np.newaxis],\n",
    "                         band2_test[:, :, :, np.newaxis],\n",
    "                         band_max_test[:, :, :, np.newaxis]], axis=-1)\n",
    "describe(x_test)\n",
    "# del band1_test\n",
    "# del band2_test\n",
    "# del band_avg_test\n",
    "gc.collect()"
   ]
  },
  {
   "cell_type": "code",
   "execution_count": 15,
   "metadata": {},
   "outputs": [
    {
     "name": "stdout",
     "output_type": "stream",
     "text": [
      "(1443, 75, 75, 3) 0.0 1.0 194805144\n",
      "(161, 75, 75, 3) 0.0 1.0 21735144\n",
      "(1443,) 0.0 45.9375 23112\n",
      "(161,) 0.0 45.2814 2600\n",
      "(1443,) 0 1 23112\n",
      "(161,) 0 1 2600\n",
      "Wall time: 140 ms\n"
     ]
    }
   ],
   "source": [
    "%%time\n",
    "x_train, x_val, inc_angle_train, inc_angle_val, y_train, y_val = train_test_split(x_data, inc_angle_data, y_data, test_size=0.1, random_state=31)\n",
    "describe(x_train)\n",
    "describe(x_val)\n",
    "describe(inc_angle_train)\n",
    "describe(inc_angle_val)\n",
    "describe(y_train)\n",
    "describe(y_val)"
   ]
  },
  {
   "cell_type": "markdown",
   "metadata": {},
   "source": [
    "## 2. Build model"
   ]
  },
  {
   "cell_type": "code",
   "execution_count": 16,
   "metadata": {},
   "outputs": [
    {
     "name": "stderr",
     "output_type": "stream",
     "text": [
      "Using TensorFlow backend.\n"
     ]
    }
   ],
   "source": [
    "from keras.utils.np_utils import to_categorical # convert to one-hot-encoding\n",
    "from keras.models import Sequential, Model\n",
    "from keras.layers import Input, Dense, Dropout, Flatten, Conv2D, MaxPool2D, GlobalAveragePooling2D, BatchNormalization\n",
    "from keras.optimizers import Adam\n",
    "from keras.preprocessing.image import ImageDataGenerator\n",
    "from keras.callbacks import LearningRateScheduler, TensorBoard\n",
    "\n",
    "from keras.applications.vgg19 import VGG19, preprocess_input"
   ]
  },
  {
   "cell_type": "code",
   "execution_count": 17,
   "metadata": {},
   "outputs": [],
   "source": [
    "def build_model():\n",
    "    base_model = VGG19(weights='imagenet', include_top=False)\n",
    "\n",
    "    x = base_model.output\n",
    "    x = GlobalAveragePooling2D()(x)\n",
    "    x = Dense(512, activation='relu')(x)\n",
    "    x = Dropout(0.4)(x)\n",
    "    x = Dense(512, activation='relu')(x)\n",
    "    x = Dropout(0.4)(x)\n",
    "    x = Dense(64, activation='relu')(x)\n",
    "    predictions = Dense(1, activation='sigmoid')(x)\n",
    "    model = Model(inputs=base_model.input, outputs=predictions)\n",
    "\n",
    "    for layer in base_model.layers:\n",
    "        layer.trainable = True\n",
    "\n",
    "    model.compile(optimizer = Adam(lr=1e-4), loss = 'binary_crossentropy', metrics = ['accuracy'])\n",
    "    return model"
   ]
  },
  {
   "cell_type": "code",
   "execution_count": 18,
   "metadata": {},
   "outputs": [
    {
     "name": "stdout",
     "output_type": "stream",
     "text": [
      "_________________________________________________________________\n",
      "Layer (type)                 Output Shape              Param #   \n",
      "=================================================================\n",
      "input_1 (InputLayer)         (None, None, None, 3)     0         \n",
      "_________________________________________________________________\n",
      "block1_conv1 (Conv2D)        (None, None, None, 64)    1792      \n",
      "_________________________________________________________________\n",
      "block1_conv2 (Conv2D)        (None, None, None, 64)    36928     \n",
      "_________________________________________________________________\n",
      "block1_pool (MaxPooling2D)   (None, None, None, 64)    0         \n",
      "_________________________________________________________________\n",
      "block2_conv1 (Conv2D)        (None, None, None, 128)   73856     \n",
      "_________________________________________________________________\n",
      "block2_conv2 (Conv2D)        (None, None, None, 128)   147584    \n",
      "_________________________________________________________________\n",
      "block2_pool (MaxPooling2D)   (None, None, None, 128)   0         \n",
      "_________________________________________________________________\n",
      "block3_conv1 (Conv2D)        (None, None, None, 256)   295168    \n",
      "_________________________________________________________________\n",
      "block3_conv2 (Conv2D)        (None, None, None, 256)   590080    \n",
      "_________________________________________________________________\n",
      "block3_conv3 (Conv2D)        (None, None, None, 256)   590080    \n",
      "_________________________________________________________________\n",
      "block3_conv4 (Conv2D)        (None, None, None, 256)   590080    \n",
      "_________________________________________________________________\n",
      "block3_pool (MaxPooling2D)   (None, None, None, 256)   0         \n",
      "_________________________________________________________________\n",
      "block4_conv1 (Conv2D)        (None, None, None, 512)   1180160   \n",
      "_________________________________________________________________\n",
      "block4_conv2 (Conv2D)        (None, None, None, 512)   2359808   \n",
      "_________________________________________________________________\n",
      "block4_conv3 (Conv2D)        (None, None, None, 512)   2359808   \n",
      "_________________________________________________________________\n",
      "block4_conv4 (Conv2D)        (None, None, None, 512)   2359808   \n",
      "_________________________________________________________________\n",
      "block4_pool (MaxPooling2D)   (None, None, None, 512)   0         \n",
      "_________________________________________________________________\n",
      "block5_conv1 (Conv2D)        (None, None, None, 512)   2359808   \n",
      "_________________________________________________________________\n",
      "block5_conv2 (Conv2D)        (None, None, None, 512)   2359808   \n",
      "_________________________________________________________________\n",
      "block5_conv3 (Conv2D)        (None, None, None, 512)   2359808   \n",
      "_________________________________________________________________\n",
      "block5_conv4 (Conv2D)        (None, None, None, 512)   2359808   \n",
      "_________________________________________________________________\n",
      "block5_pool (MaxPooling2D)   (None, None, None, 512)   0         \n",
      "_________________________________________________________________\n",
      "global_average_pooling2d_1 ( (None, 512)               0         \n",
      "_________________________________________________________________\n",
      "dense_1 (Dense)              (None, 512)               262656    \n",
      "_________________________________________________________________\n",
      "dropout_1 (Dropout)          (None, 512)               0         \n",
      "_________________________________________________________________\n",
      "dense_2 (Dense)              (None, 512)               262656    \n",
      "_________________________________________________________________\n",
      "dropout_2 (Dropout)          (None, 512)               0         \n",
      "_________________________________________________________________\n",
      "dense_3 (Dense)              (None, 64)                32832     \n",
      "_________________________________________________________________\n",
      "dense_4 (Dense)              (None, 1)                 65        \n",
      "=================================================================\n",
      "Total params: 20,582,593\n",
      "Trainable params: 20,582,593\n",
      "Non-trainable params: 0\n",
      "_________________________________________________________________\n"
     ]
    }
   ],
   "source": [
    "model = build_model()\n",
    "model.summary()"
   ]
  },
  {
   "cell_type": "code",
   "execution_count": 19,
   "metadata": {},
   "outputs": [],
   "source": [
    "def saveModel(model, run_name):\n",
    "    cwd = os.getcwd()\n",
    "    modelPath = os.path.join(cwd, 'model')\n",
    "    if not os.path.isdir(modelPath):\n",
    "        os.mkdir(modelPath)\n",
    "    weigthsFile = os.path.join(modelPath, run_name + '.h5')\n",
    "    model.save(weigthsFile)\n",
    "# saveModel(model, 'saveModel_test')"
   ]
  },
  {
   "cell_type": "code",
   "execution_count": 20,
   "metadata": {},
   "outputs": [
    {
     "name": "stdout",
     "output_type": "stream",
     "text": [
      "log_dir:D:\\Kaggle\\statoil-iceberg-classifier-challenge\\log\\SC_Iceberg_Classifier_CNN_3channel_VGG19_FineTune_20180110_084730\n"
     ]
    }
   ],
   "source": [
    "def get_lr(x):\n",
    "    lr = round(1e-4 * 0.995 ** x, 6)\n",
    "    if lr < 1e-5:\n",
    "        lr = 1e-5\n",
    "    print(lr, end='  ')\n",
    "    return lr\n",
    "\n",
    "# annealer = LearningRateScheduler(lambda x: 1e-3 * 0.9 ** x)\n",
    "annealer = LearningRateScheduler(get_lr)\n",
    "\n",
    "log_dir = os.path.join(log_path, run_name)\n",
    "print('log_dir:' + log_dir)\n",
    "tensorBoard = TensorBoard(log_dir=log_dir)"
   ]
  },
  {
   "cell_type": "code",
   "execution_count": 21,
   "metadata": {},
   "outputs": [],
   "source": [
    "datagen = ImageDataGenerator(\n",
    "    zoom_range = 0.2,\n",
    "    rotation_range=20,\n",
    "    horizontal_flip=True,\n",
    "    vertical_flip=True,\n",
    "    width_shift_range=0.2,\n",
    "    height_shift_range=0.2\n",
    ")"
   ]
  },
  {
   "cell_type": "code",
   "execution_count": 22,
   "metadata": {},
   "outputs": [
    {
     "name": "stdout",
     "output_type": "stream",
     "text": [
      "0.0001  Epoch 1/300\n",
      "100/100 [==============================] - 94s 940ms/step - loss: 0.7094 - acc: 0.5304 - val_loss: 0.6334 - val_acc: 0.6211\n",
      "0.0001  Epoch 2/300\n",
      "100/100 [==============================] - 88s 882ms/step - loss: 0.6614 - acc: 0.5750 - val_loss: 0.6947 - val_acc: 0.5466\n",
      "9.9e-05  Epoch 3/300\n",
      "100/100 [==============================] - 88s 882ms/step - loss: 0.6911 - acc: 0.5238 - val_loss: 0.6924 - val_acc: 0.5466\n",
      "9.9e-05  Epoch 4/300\n",
      "100/100 [==============================] - 88s 878ms/step - loss: 0.7018 - acc: 0.4804 - val_loss: 0.6928 - val_acc: 0.5466\n",
      "9.8e-05  Epoch 5/300\n",
      "100/100 [==============================] - 88s 878ms/step - loss: 0.6650 - acc: 0.5562 - val_loss: 0.6043 - val_acc: 0.6460\n",
      "9.8e-05  Epoch 6/300\n",
      "100/100 [==============================] - 88s 882ms/step - loss: 0.7217 - acc: 0.5725 - val_loss: 0.6799 - val_acc: 0.5466\n",
      "9.7e-05  Epoch 7/300\n",
      "100/100 [==============================] - 88s 878ms/step - loss: 0.6902 - acc: 0.5446 - val_loss: 0.6725 - val_acc: 0.5342\n",
      "9.7e-05  Epoch 8/300\n",
      "100/100 [==============================] - 88s 881ms/step - loss: 0.6627 - acc: 0.5925 - val_loss: 0.6238 - val_acc: 0.5963\n",
      "9.6e-05  Epoch 9/300\n",
      "100/100 [==============================] - 88s 878ms/step - loss: 0.6747 - acc: 0.5950 - val_loss: 0.6598 - val_acc: 0.5466\n",
      "9.6e-05  Epoch 10/300\n",
      "100/100 [==============================] - 88s 881ms/step - loss: 0.6207 - acc: 0.6225 - val_loss: 0.6692 - val_acc: 0.6273\n",
      "9.5e-05  Epoch 11/300\n",
      "100/100 [==============================] - 88s 879ms/step - loss: 0.6601 - acc: 0.5671 - val_loss: 0.6487 - val_acc: 0.6894\n",
      "9.5e-05  Epoch 12/300\n",
      "100/100 [==============================] - 88s 879ms/step - loss: 0.6295 - acc: 0.6404 - val_loss: 0.6143 - val_acc: 0.6708\n",
      "9.4e-05  Epoch 13/300\n",
      "100/100 [==============================] - 88s 881ms/step - loss: 0.6081 - acc: 0.6600 - val_loss: 0.5678 - val_acc: 0.6584\n",
      "9.4e-05  Epoch 14/300\n",
      "100/100 [==============================] - 88s 878ms/step - loss: 0.5775 - acc: 0.6879 - val_loss: 0.5651 - val_acc: 0.7143\n",
      "9.3e-05  Epoch 15/300\n",
      "100/100 [==============================] - 88s 881ms/step - loss: 0.7058 - acc: 0.5787 - val_loss: 0.6948 - val_acc: 0.4534\n",
      "9.3e-05  Epoch 16/300\n",
      "100/100 [==============================] - 88s 877ms/step - loss: 0.6937 - acc: 0.4863 - val_loss: 0.6942 - val_acc: 0.4534\n",
      "9.2e-05  Epoch 17/300\n",
      "100/100 [==============================] - 88s 879ms/step - loss: 0.6938 - acc: 0.4662 - val_loss: 0.6935 - val_acc: 0.4534\n",
      "9.2e-05  Epoch 18/300\n",
      "100/100 [==============================] - 88s 876ms/step - loss: 0.6934 - acc: 0.4642 - val_loss: 0.6932 - val_acc: 0.4534\n",
      "9.1e-05  Epoch 19/300\n",
      "100/100 [==============================] - 88s 880ms/step - loss: 0.6931 - acc: 0.5025 - val_loss: 0.6929 - val_acc: 0.5466\n",
      "9.1e-05  Epoch 20/300\n",
      "100/100 [==============================] - 88s 877ms/step - loss: 0.6931 - acc: 0.5296 - val_loss: 0.6928 - val_acc: 0.5466\n",
      "9e-05  Epoch 21/300\n",
      "100/100 [==============================] - 88s 877ms/step - loss: 0.6928 - acc: 0.5404 - val_loss: 0.6925 - val_acc: 0.5466\n",
      "9e-05  Epoch 22/300\n",
      "100/100 [==============================] - 88s 880ms/step - loss: 0.6930 - acc: 0.5187 - val_loss: 0.6924 - val_acc: 0.5466\n",
      "9e-05  Epoch 23/300\n",
      "100/100 [==============================] - 88s 877ms/step - loss: 0.6926 - acc: 0.5321 - val_loss: 0.6921 - val_acc: 0.5466\n",
      "8.9e-05  Epoch 24/300\n",
      "100/100 [==============================] - 88s 879ms/step - loss: 0.6925 - acc: 0.5288 - val_loss: 0.6919 - val_acc: 0.5466\n",
      "8.9e-05  Epoch 25/300\n",
      "100/100 [==============================] - 88s 876ms/step - loss: 0.6921 - acc: 0.5383 - val_loss: 0.6914 - val_acc: 0.5466\n",
      "8.8e-05  Epoch 26/300\n",
      "100/100 [==============================] - 88s 879ms/step - loss: 0.6935 - acc: 0.4975 - val_loss: 0.6917 - val_acc: 0.5466\n",
      "8.8e-05  Epoch 27/300\n",
      "100/100 [==============================] - 88s 876ms/step - loss: 0.6914 - acc: 0.5508 - val_loss: 0.6912 - val_acc: 0.5466\n",
      "8.7e-05  Epoch 28/300\n",
      "100/100 [==============================] - 88s 879ms/step - loss: 0.6918 - acc: 0.5325 - val_loss: 0.6909 - val_acc: 0.5466\n",
      "8.7e-05  Epoch 29/300\n",
      "100/100 [==============================] - 88s 877ms/step - loss: 0.6926 - acc: 0.5192 - val_loss: 0.6908 - val_acc: 0.5466\n",
      "8.6e-05  Epoch 30/300\n",
      "100/100 [==============================] - 88s 879ms/step - loss: 0.6915 - acc: 0.5363 - val_loss: 0.6906 - val_acc: 0.5466\n",
      "8.6e-05  Epoch 31/300\n",
      "100/100 [==============================] - 88s 876ms/step - loss: 0.6924 - acc: 0.5242 - val_loss: 0.6905 - val_acc: 0.5466\n",
      "8.6e-05  Epoch 32/300\n",
      "100/100 [==============================] - 88s 876ms/step - loss: 0.6918 - acc: 0.5283 - val_loss: 0.6904 - val_acc: 0.5466\n",
      "8.5e-05  Epoch 33/300\n",
      "100/100 [==============================] - 88s 879ms/step - loss: 0.6911 - acc: 0.5387 - val_loss: 0.6902 - val_acc: 0.5466\n",
      "8.5e-05  Epoch 34/300\n",
      "100/100 [==============================] - 88s 879ms/step - loss: 0.6904 - acc: 0.5425 - val_loss: 0.6900 - val_acc: 0.5466\n",
      "8.4e-05  Epoch 35/300\n",
      "100/100 [==============================] - 87s 875ms/step - loss: 0.6946 - acc: 0.4929 - val_loss: 0.6902 - val_acc: 0.5466\n",
      "8.4e-05  Epoch 36/300\n",
      "100/100 [==============================] - 88s 879ms/step - loss: 0.6895 - acc: 0.5537 - val_loss: 0.6899 - val_acc: 0.5466\n",
      "8.3e-05  Epoch 37/300\n",
      "100/100 [==============================] - 88s 880ms/step - loss: 0.6920 - acc: 0.5225 - val_loss: 0.6900 - val_acc: 0.5466\n",
      "8.3e-05  Epoch 38/300\n",
      "100/100 [==============================] - 88s 876ms/step - loss: 0.6926 - acc: 0.5179 - val_loss: 0.6900 - val_acc: 0.5466\n",
      "8.3e-05  Epoch 39/300\n",
      "100/100 [==============================] - 88s 877ms/step - loss: 0.6923 - acc: 0.5221 - val_loss: 0.6900 - val_acc: 0.5466\n",
      "8.2e-05  Epoch 40/300\n",
      "100/100 [==============================] - 88s 879ms/step - loss: 0.6906 - acc: 0.5413 - val_loss: 0.6898 - val_acc: 0.5466\n",
      "8.2e-05  Epoch 41/300\n",
      "100/100 [==============================] - 88s 879ms/step - loss: 0.6917 - acc: 0.5262 - val_loss: 0.6898 - val_acc: 0.5466\n",
      "8.1e-05  Epoch 42/300\n",
      "100/100 [==============================] - 87s 874ms/step - loss: 0.6911 - acc: 0.5309 - val_loss: 0.6897 - val_acc: 0.5466\n",
      "8.1e-05  Epoch 43/300\n",
      "100/100 [==============================] - 88s 879ms/step - loss: 0.6913 - acc: 0.5312 - val_loss: 0.6896 - val_acc: 0.5466\n",
      "8.1e-05  Epoch 44/300\n",
      "100/100 [==============================] - 88s 876ms/step - loss: 0.6929 - acc: 0.5167 - val_loss: 0.6898 - val_acc: 0.5466\n",
      "8e-05  Epoch 45/300\n",
      "100/100 [==============================] - 88s 879ms/step - loss: 0.6920 - acc: 0.5288 - val_loss: 0.6898 - val_acc: 0.5466\n",
      "8e-05  Epoch 46/300\n",
      "100/100 [==============================] - 88s 879ms/step - loss: 0.6922 - acc: 0.5225 - val_loss: 0.6898 - val_acc: 0.5466\n",
      "7.9e-05  Epoch 47/300\n",
      "100/100 [==============================] - 88s 877ms/step - loss: 0.6900 - acc: 0.5437 - val_loss: 0.6896 - val_acc: 0.5466\n",
      "7.9e-05  Epoch 48/300\n",
      "100/100 [==============================] - 88s 879ms/step - loss: 0.6923 - acc: 0.5212 - val_loss: 0.6897 - val_acc: 0.5466\n",
      "7.9e-05  Epoch 49/300\n",
      "100/100 [==============================] - 88s 877ms/step - loss: 0.6905 - acc: 0.5412 - val_loss: 0.6895 - val_acc: 0.5466\n",
      "7.8e-05  Epoch 50/300\n",
      "100/100 [==============================] - 88s 879ms/step - loss: 0.6934 - acc: 0.5138 - val_loss: 0.6897 - val_acc: 0.5466\n",
      "7.8e-05  Epoch 51/300\n",
      "100/100 [==============================] - 88s 878ms/step - loss: 0.6917 - acc: 0.5263 - val_loss: 0.6896 - val_acc: 0.5466\n",
      "7.7e-05  Epoch 52/300\n",
      "100/100 [==============================] - 88s 878ms/step - loss: 0.6915 - acc: 0.5296 - val_loss: 0.6896 - val_acc: 0.5466\n",
      "7.7e-05  Epoch 53/300\n",
      "100/100 [==============================] - 88s 878ms/step - loss: 0.6895 - acc: 0.5475 - val_loss: 0.6894 - val_acc: 0.5466\n",
      "7.7e-05  Epoch 54/300\n",
      "100/100 [==============================] - 88s 880ms/step - loss: 0.6942 - acc: 0.5062 - val_loss: 0.6896 - val_acc: 0.5466\n",
      "7.6e-05  Epoch 55/300\n",
      "100/100 [==============================] - 88s 881ms/step - loss: 0.6900 - acc: 0.5413 - val_loss: 0.6895 - val_acc: 0.5466\n",
      "7.6e-05  Epoch 56/300\n",
      "100/100 [==============================] - 88s 878ms/step - loss: 0.6918 - acc: 0.5250 - val_loss: 0.6895 - val_acc: 0.5466\n",
      "7.6e-05  Epoch 57/300\n"
     ]
    },
    {
     "name": "stdout",
     "output_type": "stream",
     "text": [
      "100/100 [==============================] - 88s 878ms/step - loss: 0.6910 - acc: 0.5329 - val_loss: 0.6894 - val_acc: 0.5466\n",
      "7.5e-05  Epoch 58/300\n",
      "100/100 [==============================] - 88s 880ms/step - loss: 0.6916 - acc: 0.5300 - val_loss: 0.6894 - val_acc: 0.5466\n",
      "7.5e-05  Epoch 59/300\n",
      "100/100 [==============================] - 88s 878ms/step - loss: 0.6918 - acc: 0.5283 - val_loss: 0.6895 - val_acc: 0.5466\n",
      "7.4e-05  Epoch 60/300\n",
      "100/100 [==============================] - 88s 881ms/step - loss: 0.6918 - acc: 0.5262 - val_loss: 0.6895 - val_acc: 0.5466\n",
      "7.4e-05  Epoch 61/300\n",
      "100/100 [==============================] - 88s 878ms/step - loss: 0.6891 - acc: 0.5500 - val_loss: 0.6893 - val_acc: 0.5466\n",
      "7.4e-05  Epoch 62/300\n",
      "100/100 [==============================] - 88s 878ms/step - loss: 0.6917 - acc: 0.5254 - val_loss: 0.6893 - val_acc: 0.5466\n",
      "7.3e-05  Epoch 63/300\n",
      "100/100 [==============================] - 88s 880ms/step - loss: 0.6916 - acc: 0.5275 - val_loss: 0.6893 - val_acc: 0.5466\n",
      "7.3e-05  Epoch 64/300\n",
      "100/100 [==============================] - 88s 880ms/step - loss: 0.6913 - acc: 0.5312 - val_loss: 0.6893 - val_acc: 0.5466\n",
      "7.3e-05  Epoch 65/300\n",
      "100/100 [==============================] - 88s 878ms/step - loss: 0.6926 - acc: 0.5196 - val_loss: 0.6894 - val_acc: 0.5466\n",
      "7.2e-05  Epoch 66/300\n",
      "100/100 [==============================] - 88s 881ms/step - loss: 0.6937 - acc: 0.5125 - val_loss: 0.6895 - val_acc: 0.5466\n",
      "7.2e-05  Epoch 67/300\n",
      "100/100 [==============================] - 88s 878ms/step - loss: 0.6897 - acc: 0.5429 - val_loss: 0.6895 - val_acc: 0.5466\n",
      "7.1e-05  Epoch 68/300\n",
      "100/100 [==============================] - 88s 878ms/step - loss: 0.6935 - acc: 0.5129 - val_loss: 0.6896 - val_acc: 0.5466\n",
      "7.1e-05  Epoch 69/300\n",
      "100/100 [==============================] - 88s 881ms/step - loss: 0.6902 - acc: 0.5425 - val_loss: 0.6894 - val_acc: 0.5466\n",
      "7.1e-05  Epoch 70/300\n",
      "100/100 [==============================] - 88s 878ms/step - loss: 0.6901 - acc: 0.5408 - val_loss: 0.6894 - val_acc: 0.5466\n",
      "7e-05  Epoch 71/300\n",
      "100/100 [==============================] - 88s 880ms/step - loss: 0.6944 - acc: 0.5012 - val_loss: 0.6896 - val_acc: 0.5466\n",
      "7e-05  Epoch 72/300\n",
      "100/100 [==============================] - 88s 878ms/step - loss: 0.6909 - acc: 0.5358 - val_loss: 0.6894 - val_acc: 0.5466\n",
      "7e-05  Epoch 73/300\n",
      "100/100 [==============================] - 88s 878ms/step - loss: 0.6901 - acc: 0.5392 - val_loss: 0.6893 - val_acc: 0.5466\n",
      "6.9e-05  Epoch 74/300\n",
      "100/100 [==============================] - 88s 880ms/step - loss: 0.6925 - acc: 0.5200 - val_loss: 0.6895 - val_acc: 0.5466\n",
      "6.9e-05  Epoch 75/300\n",
      "100/100 [==============================] - 88s 881ms/step - loss: 0.6887 - acc: 0.5537 - val_loss: 0.6893 - val_acc: 0.5466\n",
      "6.9e-05  Epoch 76/300\n",
      "100/100 [==============================] - 88s 878ms/step - loss: 0.6933 - acc: 0.5142 - val_loss: 0.6894 - val_acc: 0.5466\n",
      "6.8e-05  Epoch 77/300\n",
      "100/100 [==============================] - 88s 881ms/step - loss: 0.6928 - acc: 0.5175 - val_loss: 0.6895 - val_acc: 0.5466\n",
      "6.8e-05  Epoch 78/300\n",
      "100/100 [==============================] - 88s 878ms/step - loss: 0.6902 - acc: 0.5404 - val_loss: 0.6894 - val_acc: 0.5466\n",
      "6.8e-05  Epoch 79/300\n",
      "100/100 [==============================] - 88s 878ms/step - loss: 0.6905 - acc: 0.5375 - val_loss: 0.6893 - val_acc: 0.5466\n",
      "6.7e-05  Epoch 80/300\n",
      "100/100 [==============================] - 88s 881ms/step - loss: 0.6920 - acc: 0.5250 - val_loss: 0.6893 - val_acc: 0.5466\n",
      "6.7e-05  Epoch 81/300\n",
      "100/100 [==============================] - 88s 880ms/step - loss: 0.6910 - acc: 0.5350 - val_loss: 0.6893 - val_acc: 0.5466\n",
      "6.7e-05  Epoch 82/300\n",
      "100/100 [==============================] - 88s 878ms/step - loss: 0.6929 - acc: 0.5192 - val_loss: 0.6894 - val_acc: 0.5466\n",
      "6.6e-05  Epoch 83/300\n",
      "100/100 [==============================] - 88s 878ms/step - loss: 0.6909 - acc: 0.5333 - val_loss: 0.6894 - val_acc: 0.5466\n",
      "6.6e-05  Epoch 84/300\n",
      "100/100 [==============================] - 88s 878ms/step - loss: 0.6919 - acc: 0.5271 - val_loss: 0.6894 - val_acc: 0.5466\n",
      "6.6e-05  Epoch 85/300\n",
      "100/100 [==============================] - 88s 881ms/step - loss: 0.6919 - acc: 0.5238 - val_loss: 0.6894 - val_acc: 0.5466\n",
      "6.5e-05  Epoch 86/300\n",
      "100/100 [==============================] - 88s 880ms/step - loss: 0.6913 - acc: 0.5300 - val_loss: 0.6894 - val_acc: 0.5466\n",
      "6.5e-05  Epoch 87/300\n",
      "100/100 [==============================] - 88s 878ms/step - loss: 0.6911 - acc: 0.5329 - val_loss: 0.6894 - val_acc: 0.5466\n",
      "6.5e-05  Epoch 88/300\n",
      "100/100 [==============================] - 88s 880ms/step - loss: 0.6925 - acc: 0.5212 - val_loss: 0.6894 - val_acc: 0.5466\n",
      "6.4e-05  Epoch 89/300\n",
      "100/100 [==============================] - 88s 878ms/step - loss: 0.6922 - acc: 0.5242 - val_loss: 0.6894 - val_acc: 0.5466\n",
      "6.4e-05  Epoch 90/300\n",
      "100/100 [==============================] - 88s 880ms/step - loss: 0.6910 - acc: 0.5350 - val_loss: 0.6894 - val_acc: 0.5466\n",
      "6.4e-05  Epoch 91/300\n",
      "100/100 [==============================] - 88s 876ms/step - loss: 0.6917 - acc: 0.5263 - val_loss: 0.6894 - val_acc: 0.5466\n",
      "6.3e-05  Epoch 92/300\n",
      "100/100 [==============================] - 88s 880ms/step - loss: 0.6906 - acc: 0.5375 - val_loss: 0.6894 - val_acc: 0.5466\n",
      "6.3e-05  Epoch 93/300\n",
      "100/100 [==============================] - 88s 878ms/step - loss: 0.6932 - acc: 0.5146 - val_loss: 0.6895 - val_acc: 0.5466\n",
      "6.3e-05  Epoch 94/300\n",
      "100/100 [==============================] - 88s 880ms/step - loss: 0.6889 - acc: 0.5500 - val_loss: 0.6893 - val_acc: 0.5466\n",
      "6.2e-05  Epoch 95/300\n",
      "100/100 [==============================] - 88s 880ms/step - loss: 0.6930 - acc: 0.5175 - val_loss: 0.6894 - val_acc: 0.5466\n",
      "6.2e-05  Epoch 96/300\n",
      "100/100 [==============================] - 88s 877ms/step - loss: 0.6926 - acc: 0.5208 - val_loss: 0.6895 - val_acc: 0.5466\n",
      "6.2e-05  Epoch 97/300\n",
      "100/100 [==============================] - 88s 878ms/step - loss: 0.6879 - acc: 0.5567 - val_loss: 0.6893 - val_acc: 0.5466\n",
      "6.1e-05  Epoch 98/300\n",
      "100/100 [==============================] - 88s 878ms/step - loss: 0.6936 - acc: 0.5121 - val_loss: 0.6895 - val_acc: 0.5466\n",
      "6.1e-05  Epoch 99/300\n",
      "100/100 [==============================] - 88s 881ms/step - loss: 0.6915 - acc: 0.5325 - val_loss: 0.6894 - val_acc: 0.5466\n",
      "6.1e-05  Epoch 100/300\n",
      "100/100 [==============================] - 88s 881ms/step - loss: 0.6917 - acc: 0.5288 - val_loss: 0.6894 - val_acc: 0.5466\n",
      "6.1e-05  Epoch 101/300\n",
      "100/100 [==============================] - 88s 877ms/step - loss: 0.6928 - acc: 0.5204 - val_loss: 0.6895 - val_acc: 0.5466\n",
      "6e-05  Epoch 102/300\n",
      "100/100 [==============================] - 88s 878ms/step - loss: 0.6927 - acc: 0.5167 - val_loss: 0.6896 - val_acc: 0.5466\n",
      "6e-05  Epoch 103/300\n",
      "100/100 [==============================] - 88s 880ms/step - loss: 0.6918 - acc: 0.5262 - val_loss: 0.6896 - val_acc: 0.5466\n",
      "6e-05  Epoch 104/300\n",
      "100/100 [==============================] - 88s 878ms/step - loss: 0.6936 - acc: 0.5088 - val_loss: 0.6897 - val_acc: 0.5466\n",
      "5.9e-05  Epoch 105/300\n",
      "100/100 [==============================] - 88s 880ms/step - loss: 0.6883 - acc: 0.5575 - val_loss: 0.6895 - val_acc: 0.5466\n",
      "5.9e-05  Epoch 106/300\n",
      "100/100 [==============================] - 88s 878ms/step - loss: 0.6905 - acc: 0.5392 - val_loss: 0.6894 - val_acc: 0.5466\n",
      "5.9e-05  Epoch 107/300\n",
      "100/100 [==============================] - 88s 880ms/step - loss: 0.6934 - acc: 0.5088 - val_loss: 0.6895 - val_acc: 0.5466\n",
      "5.8e-05  Epoch 108/300\n",
      "100/100 [==============================] - 88s 878ms/step - loss: 0.6920 - acc: 0.5258 - val_loss: 0.6895 - val_acc: 0.5466\n",
      "5.8e-05  Epoch 109/300\n",
      "100/100 [==============================] - 88s 880ms/step - loss: 0.6900 - acc: 0.5438 - val_loss: 0.6893 - val_acc: 0.5466\n",
      "5.8e-05  Epoch 110/300\n",
      "100/100 [==============================] - 88s 877ms/step - loss: 0.6908 - acc: 0.5354 - val_loss: 0.6893 - val_acc: 0.5466\n",
      "5.8e-05  Epoch 111/300\n",
      "100/100 [==============================] - 88s 880ms/step - loss: 0.6922 - acc: 0.5238 - val_loss: 0.6893 - val_acc: 0.5466\n",
      "5.7e-05  Epoch 112/300\n",
      "100/100 [==============================] - 88s 879ms/step - loss: 0.6912 - acc: 0.5288 - val_loss: 0.6894 - val_acc: 0.5466\n",
      "5.7e-05  Epoch 113/300\n"
     ]
    },
    {
     "name": "stdout",
     "output_type": "stream",
     "text": [
      "100/100 [==============================] - 87s 875ms/step - loss: 0.6913 - acc: 0.5304 - val_loss: 0.6894 - val_acc: 0.5466\n",
      "5.7e-05  Epoch 114/300\n",
      "100/100 [==============================] - 88s 879ms/step - loss: 0.6921 - acc: 0.5238 - val_loss: 0.6894 - val_acc: 0.5466\n",
      "5.6e-05  Epoch 115/300\n",
      "100/100 [==============================] - 88s 878ms/step - loss: 0.6911 - acc: 0.5333 - val_loss: 0.6894 - val_acc: 0.5466\n",
      "5.6e-05  Epoch 116/300\n",
      "100/100 [==============================] - 88s 879ms/step - loss: 0.6931 - acc: 0.5162 - val_loss: 0.6894 - val_acc: 0.5466\n",
      "5.6e-05  Epoch 117/300\n",
      "100/100 [==============================] - 88s 878ms/step - loss: 0.6899 - acc: 0.5437 - val_loss: 0.6894 - val_acc: 0.5466\n",
      "5.6e-05  Epoch 118/300\n",
      "100/100 [==============================] - 88s 880ms/step - loss: 0.6921 - acc: 0.5238 - val_loss: 0.6894 - val_acc: 0.5466\n",
      "5.5e-05  Epoch 119/300\n",
      "100/100 [==============================] - 88s 877ms/step - loss: 0.6924 - acc: 0.5179 - val_loss: 0.6895 - val_acc: 0.5466\n",
      "5.5e-05  Epoch 120/300\n",
      "100/100 [==============================] - 88s 880ms/step - loss: 0.6904 - acc: 0.5375 - val_loss: 0.6894 - val_acc: 0.5466\n",
      "5.5e-05  Epoch 121/300\n",
      "100/100 [==============================] - 88s 880ms/step - loss: 0.6916 - acc: 0.5275 - val_loss: 0.6895 - val_acc: 0.5466\n",
      "5.5e-05  Epoch 122/300\n",
      "100/100 [==============================] - 88s 877ms/step - loss: 0.6905 - acc: 0.5400 - val_loss: 0.6894 - val_acc: 0.5466\n",
      "5.4e-05  Epoch 123/300\n",
      "100/100 [==============================] - 88s 877ms/step - loss: 0.6926 - acc: 0.5200 - val_loss: 0.6895 - val_acc: 0.5466\n",
      "5.4e-05  Epoch 124/300\n",
      "100/100 [==============================] - 88s 877ms/step - loss: 0.6921 - acc: 0.5258 - val_loss: 0.6895 - val_acc: 0.5466\n",
      "5.4e-05  Epoch 125/300\n",
      "100/100 [==============================] - 88s 879ms/step - loss: 0.6915 - acc: 0.5300 - val_loss: 0.6894 - val_acc: 0.5466\n",
      "5.3e-05  Epoch 126/300\n",
      "100/100 [==============================] - 88s 876ms/step - loss: 0.6891 - acc: 0.5467 - val_loss: 0.6893 - val_acc: 0.5466\n",
      "5.3e-05  Epoch 127/300\n",
      "100/100 [==============================] - 88s 879ms/step - loss: 0.6917 - acc: 0.5262 - val_loss: 0.6893 - val_acc: 0.5466\n",
      "5.3e-05  Epoch 128/300\n",
      "100/100 [==============================] - 88s 876ms/step - loss: 0.6923 - acc: 0.5229 - val_loss: 0.6894 - val_acc: 0.5466\n",
      "5.3e-05  Epoch 129/300\n",
      "100/100 [==============================] - 88s 877ms/step - loss: 0.6925 - acc: 0.5233 - val_loss: 0.6894 - val_acc: 0.5466\n",
      "5.2e-05  Epoch 130/300\n",
      "100/100 [==============================] - 88s 879ms/step - loss: 0.6920 - acc: 0.5275 - val_loss: 0.6895 - val_acc: 0.5466\n",
      "5.2e-05  Epoch 131/300\n",
      "100/100 [==============================] - 88s 876ms/step - loss: 0.6923 - acc: 0.5246 - val_loss: 0.6894 - val_acc: 0.5466\n",
      "5.2e-05  Epoch 132/300\n",
      "100/100 [==============================] - 88s 877ms/step - loss: 0.6915 - acc: 0.5300 - val_loss: 0.6895 - val_acc: 0.5466\n",
      "5.2e-05  Epoch 133/300\n",
      "100/100 [==============================] - 88s 877ms/step - loss: 0.6925 - acc: 0.5200 - val_loss: 0.6895 - val_acc: 0.5466\n",
      "5.1e-05  Epoch 134/300\n",
      "100/100 [==============================] - 87s 875ms/step - loss: 0.6905 - acc: 0.5392 - val_loss: 0.6894 - val_acc: 0.5466\n",
      "5.1e-05  Epoch 135/300\n",
      "100/100 [==============================] - 88s 877ms/step - loss: 0.6923 - acc: 0.5212 - val_loss: 0.6894 - val_acc: 0.5466\n",
      "5.1e-05  Epoch 136/300\n",
      "100/100 [==============================] - 88s 875ms/step - loss: 0.6886 - acc: 0.5550 - val_loss: 0.6893 - val_acc: 0.5466\n",
      "5.1e-05  Epoch 137/300\n",
      "100/100 [==============================] - 88s 875ms/step - loss: 0.6939 - acc: 0.5038 - val_loss: 0.6895 - val_acc: 0.5466\n",
      "5e-05  Epoch 138/300\n",
      "100/100 [==============================] - 88s 878ms/step - loss: 0.6897 - acc: 0.5413 - val_loss: 0.6893 - val_acc: 0.5466\n",
      "5e-05  Epoch 139/300\n",
      "100/100 [==============================] - 88s 876ms/step - loss: 0.6920 - acc: 0.5233 - val_loss: 0.6894 - val_acc: 0.5466\n",
      "5e-05  Epoch 140/300\n",
      "100/100 [==============================] - 88s 879ms/step - loss: 0.6908 - acc: 0.5337 - val_loss: 0.6894 - val_acc: 0.5466\n",
      "5e-05  Epoch 141/300\n",
      "100/100 [==============================] - 88s 876ms/step - loss: 0.6928 - acc: 0.5179 - val_loss: 0.6894 - val_acc: 0.5466\n",
      "4.9e-05  Epoch 142/300\n",
      "100/100 [==============================] - 88s 878ms/step - loss: 0.6904 - acc: 0.5375 - val_loss: 0.6894 - val_acc: 0.5466\n",
      "4.9e-05  Epoch 143/300\n",
      "100/100 [==============================] - 88s 876ms/step - loss: 0.6919 - acc: 0.5246 - val_loss: 0.6894 - val_acc: 0.5466\n",
      "4.9e-05  Epoch 144/300\n",
      "100/100 [==============================] - 88s 876ms/step - loss: 0.6921 - acc: 0.5225 - val_loss: 0.6894 - val_acc: 0.5466\n",
      "4.9e-05  Epoch 145/300\n",
      "100/100 [==============================] - 88s 878ms/step - loss: 0.6901 - acc: 0.5450 - val_loss: 0.6894 - val_acc: 0.5466\n",
      "4.8e-05  Epoch 146/300\n",
      "100/100 [==============================] - 88s 879ms/step - loss: 0.6925 - acc: 0.5250 - val_loss: 0.6894 - val_acc: 0.5466\n",
      "4.8e-05  Epoch 147/300\n",
      "100/100 [==============================] - 87s 874ms/step - loss: 0.6918 - acc: 0.5276 - val_loss: 0.6894 - val_acc: 0.5466\n",
      "4.8e-05  Epoch 148/300\n",
      "100/100 [==============================] - 88s 878ms/step - loss: 0.6934 - acc: 0.5125 - val_loss: 0.6895 - val_acc: 0.5466\n",
      "4.8e-05  Epoch 149/300\n",
      "100/100 [==============================] - 88s 879ms/step - loss: 0.6904 - acc: 0.5375 - val_loss: 0.6894 - val_acc: 0.5466\n",
      "4.7e-05  Epoch 150/300\n",
      "100/100 [==============================] - 88s 875ms/step - loss: 0.6916 - acc: 0.5262 - val_loss: 0.6895 - val_acc: 0.5466\n",
      "4.7e-05  Epoch 151/300\n",
      "100/100 [==============================] - 88s 875ms/step - loss: 0.6910 - acc: 0.5304 - val_loss: 0.6894 - val_acc: 0.5466\n",
      "4.7e-05  Epoch 152/300\n",
      "100/100 [==============================] - 88s 877ms/step - loss: 0.6913 - acc: 0.5300 - val_loss: 0.6894 - val_acc: 0.5466\n",
      "4.7e-05  Epoch 153/300\n",
      "100/100 [==============================] - 87s 874ms/step - loss: 0.6915 - acc: 0.5296 - val_loss: 0.6894 - val_acc: 0.5466\n",
      "4.6e-05  Epoch 154/300\n",
      "100/100 [==============================] - 88s 876ms/step - loss: 0.6912 - acc: 0.5337 - val_loss: 0.6894 - val_acc: 0.5466\n",
      "4.6e-05  Epoch 155/300\n",
      "100/100 [==============================] - 88s 876ms/step - loss: 0.6943 - acc: 0.5037 - val_loss: 0.6895 - val_acc: 0.5466\n",
      "4.6e-05  Epoch 156/300\n",
      "100/100 [==============================] - 87s 871ms/step - loss: 0.6898 - acc: 0.5488 - val_loss: 0.6894 - val_acc: 0.5466\n",
      "4.6e-05  Epoch 157/300\n",
      "100/100 [==============================] - 88s 876ms/step - loss: 0.6908 - acc: 0.5325 - val_loss: 0.6894 - val_acc: 0.5466\n",
      "4.6e-05  Epoch 158/300\n",
      "100/100 [==============================] - 88s 877ms/step - loss: 0.6951 - acc: 0.4963 - val_loss: 0.6896 - val_acc: 0.5466\n",
      "4.5e-05  Epoch 159/300\n",
      "100/100 [==============================] - 88s 876ms/step - loss: 0.6902 - acc: 0.5400 - val_loss: 0.6895 - val_acc: 0.5466\n",
      "4.5e-05  Epoch 160/300\n",
      "100/100 [==============================] - 87s 871ms/step - loss: 0.6900 - acc: 0.5429 - val_loss: 0.6894 - val_acc: 0.5466\n",
      "4.5e-05  Epoch 161/300\n",
      "100/100 [==============================] - 88s 876ms/step - loss: 0.6905 - acc: 0.5375 - val_loss: 0.6894 - val_acc: 0.5466\n",
      "4.5e-05  Epoch 162/300\n",
      "100/100 [==============================] - 87s 874ms/step - loss: 0.6928 - acc: 0.5142 - val_loss: 0.6895 - val_acc: 0.5466\n",
      "4.4e-05  Epoch 163/300\n",
      "100/100 [==============================] - 88s 875ms/step - loss: 0.6906 - acc: 0.5375 - val_loss: 0.6894 - val_acc: 0.5466\n",
      "4.4e-05  Epoch 164/300\n",
      "100/100 [==============================] - 87s 874ms/step - loss: 0.6934 - acc: 0.5087 - val_loss: 0.6895 - val_acc: 0.5466\n",
      "4.4e-05  Epoch 165/300\n",
      "100/100 [==============================] - 88s 876ms/step - loss: 0.6903 - acc: 0.5400 - val_loss: 0.6895 - val_acc: 0.5466\n",
      "4.4e-05  Epoch 166/300\n",
      "100/100 [==============================] - 87s 873ms/step - loss: 0.6909 - acc: 0.5358 - val_loss: 0.6895 - val_acc: 0.5466\n",
      "4.4e-05  Epoch 167/300\n",
      "100/100 [==============================] - 87s 874ms/step - loss: 0.6935 - acc: 0.5108 - val_loss: 0.6895 - val_acc: 0.5466\n",
      "4.3e-05  Epoch 168/300\n",
      "100/100 [==============================] - 88s 876ms/step - loss: 0.6915 - acc: 0.5275 - val_loss: 0.6896 - val_acc: 0.5466\n"
     ]
    },
    {
     "name": "stdout",
     "output_type": "stream",
     "text": [
      "4.3e-05  Epoch 169/300\n",
      "100/100 [==============================] - 87s 873ms/step - loss: 0.6896 - acc: 0.5467 - val_loss: 0.6894 - val_acc: 0.5466\n",
      "4.3e-05  Epoch 170/300\n",
      "100/100 [==============================] - 88s 875ms/step - loss: 0.6919 - acc: 0.5238 - val_loss: 0.6894 - val_acc: 0.5466\n",
      "4.3e-05  Epoch 171/300\n",
      "100/100 [==============================] - 87s 873ms/step - loss: 0.6905 - acc: 0.5392 - val_loss: 0.6894 - val_acc: 0.5466\n",
      "4.2e-05  Epoch 172/300\n",
      "100/100 [==============================] - 87s 874ms/step - loss: 0.6920 - acc: 0.5262 - val_loss: 0.6894 - val_acc: 0.5466\n",
      "4.2e-05  Epoch 173/300\n",
      "100/100 [==============================] - 87s 873ms/step - loss: 0.6928 - acc: 0.5183 - val_loss: 0.6895 - val_acc: 0.5466\n",
      "4.2e-05  Epoch 174/300\n",
      "100/100 [==============================] - 88s 875ms/step - loss: 0.6904 - acc: 0.5375 - val_loss: 0.6894 - val_acc: 0.5466\n",
      "4.2e-05  Epoch 175/300\n",
      "100/100 [==============================] - 87s 875ms/step - loss: 0.6909 - acc: 0.5337 - val_loss: 0.6894 - val_acc: 0.5466\n",
      "4.2e-05  Epoch 176/300\n",
      "100/100 [==============================] - 87s 872ms/step - loss: 0.6908 - acc: 0.5396 - val_loss: 0.6894 - val_acc: 0.5466\n",
      "4.1e-05  Epoch 177/300\n",
      "100/100 [==============================] - 87s 874ms/step - loss: 0.6945 - acc: 0.5037 - val_loss: 0.6895 - val_acc: 0.5466\n",
      "4.1e-05  Epoch 178/300\n",
      "100/100 [==============================] - 87s 872ms/step - loss: 0.6925 - acc: 0.5187 - val_loss: 0.6895 - val_acc: 0.5466\n",
      "4.1e-05  Epoch 179/300\n",
      "100/100 [==============================] - 87s 872ms/step - loss: 0.6885 - acc: 0.5579 - val_loss: 0.6894 - val_acc: 0.5466\n",
      "4.1e-05  Epoch 180/300\n",
      "100/100 [==============================] - 87s 875ms/step - loss: 0.6929 - acc: 0.5187 - val_loss: 0.6895 - val_acc: 0.5466\n",
      "4.1e-05  Epoch 181/300\n",
      "100/100 [==============================] - 87s 871ms/step - loss: 0.6916 - acc: 0.5296 - val_loss: 0.6895 - val_acc: 0.5466\n",
      "4e-05  Epoch 182/300\n",
      "100/100 [==============================] - 87s 872ms/step - loss: 0.6917 - acc: 0.5283 - val_loss: 0.6895 - val_acc: 0.5466\n",
      "4e-05  Epoch 183/300\n",
      "100/100 [==============================] - 87s 873ms/step - loss: 0.6909 - acc: 0.5337 - val_loss: 0.6894 - val_acc: 0.5466\n",
      "4e-05  Epoch 184/300\n",
      "100/100 [==============================] - 87s 872ms/step - loss: 0.6908 - acc: 0.5363 - val_loss: 0.6894 - val_acc: 0.5466\n",
      "4e-05  Epoch 185/300\n",
      "100/100 [==============================] - 87s 871ms/step - loss: 0.6929 - acc: 0.5154 - val_loss: 0.6895 - val_acc: 0.5466\n",
      "4e-05  Epoch 186/300\n",
      "100/100 [==============================] - 87s 874ms/step - loss: 0.6919 - acc: 0.5262 - val_loss: 0.6895 - val_acc: 0.5466\n",
      "3.9e-05  Epoch 187/300\n",
      "100/100 [==============================] - 87s 874ms/step - loss: 0.6939 - acc: 0.5050 - val_loss: 0.6896 - val_acc: 0.5466\n",
      "3.9e-05  Epoch 188/300\n",
      "100/100 [==============================] - 87s 870ms/step - loss: 0.6881 - acc: 0.5587 - val_loss: 0.6895 - val_acc: 0.5466\n",
      "3.9e-05  Epoch 189/300\n",
      "100/100 [==============================] - 87s 874ms/step - loss: 0.6916 - acc: 0.5262 - val_loss: 0.6894 - val_acc: 0.5466\n",
      "3.9e-05  Epoch 190/300\n",
      "100/100 [==============================] - 87s 871ms/step - loss: 0.6916 - acc: 0.5258 - val_loss: 0.6894 - val_acc: 0.5466\n",
      "3.9e-05  Epoch 191/300\n",
      "100/100 [==============================] - 87s 871ms/step - loss: 0.6914 - acc: 0.5287 - val_loss: 0.6894 - val_acc: 0.5466\n",
      "3.8e-05  Epoch 192/300\n",
      "100/100 [==============================] - 87s 871ms/step - loss: 0.6915 - acc: 0.5304 - val_loss: 0.6894 - val_acc: 0.5466\n",
      "3.8e-05  Epoch 193/300\n",
      "100/100 [==============================] - 87s 873ms/step - loss: 0.6922 - acc: 0.5200 - val_loss: 0.6894 - val_acc: 0.5466\n",
      "3.8e-05  Epoch 194/300\n",
      "100/100 [==============================] - 87s 871ms/step - loss: 0.6909 - acc: 0.5362 - val_loss: 0.6894 - val_acc: 0.5466\n",
      "3.8e-05  Epoch 195/300\n",
      "100/100 [==============================] - 87s 873ms/step - loss: 0.6923 - acc: 0.5250 - val_loss: 0.6895 - val_acc: 0.5466\n",
      "3.8e-05  Epoch 196/300\n",
      "100/100 [==============================] - 87s 871ms/step - loss: 0.6906 - acc: 0.5367 - val_loss: 0.6894 - val_acc: 0.5466\n",
      "3.7e-05  Epoch 197/300\n",
      "100/100 [==============================] - 87s 872ms/step - loss: 0.6900 - acc: 0.5413 - val_loss: 0.6894 - val_acc: 0.5466\n",
      "3.7e-05  Epoch 198/300\n",
      "100/100 [==============================] - 87s 874ms/step - loss: 0.6916 - acc: 0.5275 - val_loss: 0.6893 - val_acc: 0.5466\n",
      "3.7e-05  Epoch 199/300\n",
      "100/100 [==============================] - 87s 870ms/step - loss: 0.6929 - acc: 0.5229 - val_loss: 0.6894 - val_acc: 0.5466\n",
      "3.7e-05  Epoch 200/300\n",
      "100/100 [==============================] - 87s 871ms/step - loss: 0.6919 - acc: 0.5258 - val_loss: 0.6895 - val_acc: 0.5466\n",
      "3.7e-05  Epoch 201/300\n",
      "100/100 [==============================] - 87s 873ms/step - loss: 0.6917 - acc: 0.5288 - val_loss: 0.6894 - val_acc: 0.5466\n",
      "3.7e-05  Epoch 202/300\n",
      "100/100 [==============================] - 87s 873ms/step - loss: 0.6937 - acc: 0.5112 - val_loss: 0.6896 - val_acc: 0.5466\n",
      "3.6e-05  Epoch 203/300\n",
      "100/100 [==============================] - 87s 870ms/step - loss: 0.6888 - acc: 0.5525 - val_loss: 0.6894 - val_acc: 0.5466\n",
      "3.6e-05  Epoch 204/300\n",
      "100/100 [==============================] - 87s 870ms/step - loss: 0.6914 - acc: 0.5313 - val_loss: 0.6894 - val_acc: 0.5466\n",
      "3.6e-05  Epoch 205/300\n",
      "100/100 [==============================] - 87s 874ms/step - loss: 0.6924 - acc: 0.5225 - val_loss: 0.6895 - val_acc: 0.5466\n",
      "3.6e-05  Epoch 206/300\n",
      "100/100 [==============================] - 87s 870ms/step - loss: 0.6919 - acc: 0.5233 - val_loss: 0.6895 - val_acc: 0.5466\n",
      "3.6e-05  Epoch 207/300\n",
      "100/100 [==============================] - 87s 873ms/step - loss: 0.6932 - acc: 0.5138 - val_loss: 0.6896 - val_acc: 0.5466\n",
      "3.5e-05  Epoch 208/300\n",
      "100/100 [==============================] - 87s 870ms/step - loss: 0.6898 - acc: 0.5467 - val_loss: 0.6895 - val_acc: 0.5466\n",
      "3.5e-05  Epoch 209/300\n",
      "100/100 [==============================] - 87s 872ms/step - loss: 0.6926 - acc: 0.5175 - val_loss: 0.6895 - val_acc: 0.5466\n",
      "3.5e-05  Epoch 210/300\n",
      "100/100 [==============================] - 87s 870ms/step - loss: 0.6895 - acc: 0.5467 - val_loss: 0.6894 - val_acc: 0.5466\n",
      "3.5e-05  Epoch 211/300\n",
      "100/100 [==============================] - 87s 870ms/step - loss: 0.6929 - acc: 0.5183 - val_loss: 0.6895 - val_acc: 0.5466\n",
      "3.5e-05  Epoch 212/300\n",
      "100/100 [==============================] - 87s 872ms/step - loss: 0.6931 - acc: 0.5150 - val_loss: 0.6895 - val_acc: 0.5466\n",
      "3.5e-05  Epoch 213/300\n",
      "100/100 [==============================] - 87s 873ms/step - loss: 0.6898 - acc: 0.5475 - val_loss: 0.6895 - val_acc: 0.5466\n",
      "3.4e-05  Epoch 214/300\n",
      "100/100 [==============================] - 87s 870ms/step - loss: 0.6905 - acc: 0.5421 - val_loss: 0.6894 - val_acc: 0.5466\n",
      "3.4e-05  Epoch 215/300\n",
      "100/100 [==============================] - 89s 894ms/step - loss: 0.6908 - acc: 0.5367 - val_loss: 0.6894 - val_acc: 0.5466\n",
      "3.4e-05  Epoch 216/300\n",
      "100/100 [==============================] - 87s 873ms/step - loss: 0.6927 - acc: 0.5200 - val_loss: 0.6895 - val_acc: 0.5466\n",
      "3.4e-05  Epoch 217/300\n",
      "100/100 [==============================] - 87s 870ms/step - loss: 0.6933 - acc: 0.5117 - val_loss: 0.6895 - val_acc: 0.5466\n",
      "3.4e-05  Epoch 218/300\n",
      "100/100 [==============================] - 87s 873ms/step - loss: 0.6902 - acc: 0.5425 - val_loss: 0.6895 - val_acc: 0.5466\n",
      "3.4e-05  Epoch 219/300\n",
      "100/100 [==============================] - 87s 870ms/step - loss: 0.6917 - acc: 0.5250 - val_loss: 0.6895 - val_acc: 0.5466\n",
      "3.3e-05  Epoch 220/300\n",
      "100/100 [==============================] - 87s 870ms/step - loss: 0.6918 - acc: 0.5254 - val_loss: 0.6895 - val_acc: 0.5466\n",
      "3.3e-05  Epoch 221/300\n",
      "100/100 [==============================] - 87s 870ms/step - loss: 0.6905 - acc: 0.5392 - val_loss: 0.6894 - val_acc: 0.5466\n",
      "3.3e-05  Epoch 222/300\n",
      "100/100 [==============================] - 87s 872ms/step - loss: 0.6905 - acc: 0.5363 - val_loss: 0.6894 - val_acc: 0.5466\n",
      "3.3e-05  Epoch 223/300\n",
      "100/100 [==============================] - 87s 872ms/step - loss: 0.6888 - acc: 0.5475 - val_loss: 0.6893 - val_acc: 0.5466\n",
      "3.3e-05  Epoch 224/300\n",
      "100/100 [==============================] - 87s 872ms/step - loss: 0.6922 - acc: 0.5225 - val_loss: 0.6893 - val_acc: 0.5466\n"
     ]
    },
    {
     "name": "stdout",
     "output_type": "stream",
     "text": [
      "3.3e-05  Epoch 225/300\n",
      "100/100 [==============================] - 87s 868ms/step - loss: 0.6964 - acc: 0.4862 - val_loss: 0.6895 - val_acc: 0.5466\n",
      "3.2e-05  Epoch 226/300\n",
      "100/100 [==============================] - 87s 872ms/step - loss: 0.6906 - acc: 0.5400 - val_loss: 0.6895 - val_acc: 0.5466\n",
      "3.2e-05  Epoch 227/300\n",
      "100/100 [==============================] - 87s 870ms/step - loss: 0.6924 - acc: 0.5217 - val_loss: 0.6895 - val_acc: 0.5466\n",
      "3.2e-05  Epoch 228/300\n",
      "100/100 [==============================] - 87s 872ms/step - loss: 0.6910 - acc: 0.5337 - val_loss: 0.6895 - val_acc: 0.5466\n",
      "3.2e-05  Epoch 229/300\n",
      "100/100 [==============================] - 87s 872ms/step - loss: 0.6932 - acc: 0.5138 - val_loss: 0.6896 - val_acc: 0.5466\n",
      "3.2e-05  Epoch 230/300\n",
      "100/100 [==============================] - 87s 870ms/step - loss: 0.6893 - acc: 0.5479 - val_loss: 0.6895 - val_acc: 0.5466\n",
      "3.2e-05  Epoch 231/300\n",
      "100/100 [==============================] - 87s 870ms/step - loss: 0.6947 - acc: 0.4975 - val_loss: 0.6896 - val_acc: 0.5466\n",
      "3.1e-05  Epoch 232/300\n",
      "100/100 [==============================] - 87s 872ms/step - loss: 0.6886 - acc: 0.5588 - val_loss: 0.6895 - val_acc: 0.5466\n",
      "3.1e-05  Epoch 233/300\n",
      "100/100 [==============================] - 87s 870ms/step - loss: 0.6916 - acc: 0.5267 - val_loss: 0.6894 - val_acc: 0.5466\n",
      "3.1e-05  Epoch 234/300\n",
      "100/100 [==============================] - 87s 870ms/step - loss: 0.6916 - acc: 0.5262 - val_loss: 0.6895 - val_acc: 0.5466\n",
      "3.1e-05  Epoch 235/300\n",
      "100/100 [==============================] - 87s 872ms/step - loss: 0.6900 - acc: 0.5438 - val_loss: 0.6894 - val_acc: 0.5466\n",
      "3.1e-05  Epoch 236/300\n",
      "100/100 [==============================] - 87s 870ms/step - loss: 0.6923 - acc: 0.5233 - val_loss: 0.6894 - val_acc: 0.5466\n",
      "3.1e-05  Epoch 237/300\n",
      "100/100 [==============================] - 87s 872ms/step - loss: 0.6913 - acc: 0.5325 - val_loss: 0.6894 - val_acc: 0.5466\n",
      "3e-05  Epoch 238/300\n",
      "100/100 [==============================] - 89s 887ms/step - loss: 0.6921 - acc: 0.5233 - val_loss: 0.6894 - val_acc: 0.5466\n",
      "3e-05  Epoch 239/300\n",
      "100/100 [==============================] - 87s 872ms/step - loss: 0.6919 - acc: 0.5262 - val_loss: 0.6895 - val_acc: 0.5466\n",
      "3e-05  Epoch 240/300\n",
      "100/100 [==============================] - 87s 869ms/step - loss: 0.6918 - acc: 0.5275 - val_loss: 0.6895 - val_acc: 0.5466\n",
      "3e-05  Epoch 241/300\n",
      "100/100 [==============================] - 87s 872ms/step - loss: 0.6922 - acc: 0.5212 - val_loss: 0.6895 - val_acc: 0.5466\n",
      "3e-05  Epoch 242/300\n",
      "100/100 [==============================] - 87s 869ms/step - loss: 0.6905 - acc: 0.5371 - val_loss: 0.6895 - val_acc: 0.5466\n",
      "3e-05  Epoch 243/300\n",
      "100/100 [==============================] - 87s 871ms/step - loss: 0.6924 - acc: 0.5200 - val_loss: 0.6895 - val_acc: 0.5466\n",
      "3e-05  Epoch 244/300\n",
      "100/100 [==============================] - 87s 871ms/step - loss: 0.6914 - acc: 0.5300 - val_loss: 0.6895 - val_acc: 0.5466\n",
      "2.9e-05  Epoch 245/300\n",
      "100/100 [==============================] - 87s 870ms/step - loss: 0.6917 - acc: 0.5263 - val_loss: 0.6895 - val_acc: 0.5466\n",
      "2.9e-05  Epoch 246/300\n",
      "100/100 [==============================] - 87s 869ms/step - loss: 0.6919 - acc: 0.5233 - val_loss: 0.6895 - val_acc: 0.5466\n",
      "2.9e-05  Epoch 247/300\n",
      "100/100 [==============================] - 87s 872ms/step - loss: 0.6900 - acc: 0.5400 - val_loss: 0.6895 - val_acc: 0.5466\n",
      "2.9e-05  Epoch 248/300\n",
      "100/100 [==============================] - 87s 869ms/step - loss: 0.6926 - acc: 0.5208 - val_loss: 0.6895 - val_acc: 0.5466\n",
      "2.9e-05  Epoch 249/300\n",
      "100/100 [==============================] - 87s 871ms/step - loss: 0.6915 - acc: 0.5275 - val_loss: 0.6895 - val_acc: 0.5466\n",
      "2.9e-05  Epoch 250/300\n",
      "100/100 [==============================] - 87s 869ms/step - loss: 0.6917 - acc: 0.5275 - val_loss: 0.6895 - val_acc: 0.5466\n",
      "2.9e-05  Epoch 251/300\n",
      "100/100 [==============================] - 87s 872ms/step - loss: 0.6926 - acc: 0.5200 - val_loss: 0.6896 - val_acc: 0.5466\n",
      "2.8e-05  Epoch 252/300\n",
      "100/100 [==============================] - 87s 868ms/step - loss: 0.6882 - acc: 0.5613 - val_loss: 0.6894 - val_acc: 0.5466\n",
      "2.8e-05  Epoch 253/300\n",
      "100/100 [==============================] - 87s 872ms/step - loss: 0.6938 - acc: 0.5112 - val_loss: 0.6895 - val_acc: 0.5466\n",
      "2.8e-05  Epoch 254/300\n",
      "100/100 [==============================] - 87s 872ms/step - loss: 0.6910 - acc: 0.5337 - val_loss: 0.6895 - val_acc: 0.5466\n",
      "2.8e-05  Epoch 255/300\n",
      "100/100 [==============================] - 87s 869ms/step - loss: 0.6920 - acc: 0.5217 - val_loss: 0.6895 - val_acc: 0.5466\n",
      "2.8e-05  Epoch 256/300\n",
      "100/100 [==============================] - 87s 872ms/step - loss: 0.6924 - acc: 0.5225 - val_loss: 0.6895 - val_acc: 0.5466\n",
      "2.8e-05  Epoch 257/300\n",
      "100/100 [==============================] - 87s 869ms/step - loss: 0.6905 - acc: 0.5354 - val_loss: 0.6895 - val_acc: 0.5466\n",
      "2.8e-05  Epoch 258/300\n",
      "100/100 [==============================] - 87s 872ms/step - loss: 0.6910 - acc: 0.5363 - val_loss: 0.6895 - val_acc: 0.5466\n",
      "2.7e-05  Epoch 259/300\n",
      "100/100 [==============================] - 87s 869ms/step - loss: 0.6932 - acc: 0.5121 - val_loss: 0.6895 - val_acc: 0.5466\n",
      "2.7e-05  Epoch 260/300\n",
      "100/100 [==============================] - 87s 872ms/step - loss: 0.6921 - acc: 0.5225 - val_loss: 0.6896 - val_acc: 0.5466\n",
      "2.7e-05  Epoch 261/300\n",
      "100/100 [==============================] - 87s 867ms/step - loss: 0.6890 - acc: 0.5524 - val_loss: 0.6895 - val_acc: 0.5466\n",
      "2.7e-05  Epoch 262/300\n",
      "100/100 [==============================] - 87s 872ms/step - loss: 0.6919 - acc: 0.5262 - val_loss: 0.6895 - val_acc: 0.5466\n",
      "2.7e-05  Epoch 263/300\n",
      "100/100 [==============================] - 87s 870ms/step - loss: 0.6918 - acc: 0.5250 - val_loss: 0.6895 - val_acc: 0.5466\n",
      "2.7e-05  Epoch 264/300\n",
      "100/100 [==============================] - 87s 872ms/step - loss: 0.6912 - acc: 0.5325 - val_loss: 0.6895 - val_acc: 0.5466\n",
      "2.7e-05  Epoch 265/300\n",
      "100/100 [==============================] - 87s 872ms/step - loss: 0.6914 - acc: 0.5300 - val_loss: 0.6895 - val_acc: 0.5466\n",
      "2.6e-05  Epoch 266/300\n",
      "100/100 [==============================] - 87s 869ms/step - loss: 0.6924 - acc: 0.5221 - val_loss: 0.6895 - val_acc: 0.5466\n",
      "2.6e-05  Epoch 267/300\n",
      "100/100 [==============================] - 87s 870ms/step - loss: 0.6929 - acc: 0.5129 - val_loss: 0.6896 - val_acc: 0.5466\n",
      "2.6e-05  Epoch 268/300\n",
      "100/100 [==============================] - 87s 871ms/step - loss: 0.6900 - acc: 0.5450 - val_loss: 0.6895 - val_acc: 0.5466\n",
      "2.6e-05  Epoch 269/300\n",
      "100/100 [==============================] - 89s 887ms/step - loss: 0.6905 - acc: 0.5367 - val_loss: 0.6895 - val_acc: 0.5466\n",
      "2.6e-05  Epoch 270/300\n",
      "100/100 [==============================] - 87s 872ms/step - loss: 0.6912 - acc: 0.5312 - val_loss: 0.6895 - val_acc: 0.5466\n",
      "2.6e-05  Epoch 271/300\n",
      "100/100 [==============================] - 87s 870ms/step - loss: 0.6918 - acc: 0.5250 - val_loss: 0.6894 - val_acc: 0.5466\n",
      "2.6e-05  Epoch 272/300\n",
      "100/100 [==============================] - 87s 872ms/step - loss: 0.6915 - acc: 0.5275 - val_loss: 0.6894 - val_acc: 0.5466\n",
      "2.6e-05  Epoch 273/300\n",
      "100/100 [==============================] - 87s 869ms/step - loss: 0.6918 - acc: 0.5242 - val_loss: 0.6894 - val_acc: 0.5466\n",
      "2.5e-05  Epoch 274/300\n",
      "100/100 [==============================] - 87s 872ms/step - loss: 0.6940 - acc: 0.5088 - val_loss: 0.6895 - val_acc: 0.5466\n",
      "2.5e-05  Epoch 275/300\n",
      "100/100 [==============================] - 87s 869ms/step - loss: 0.6898 - acc: 0.5438 - val_loss: 0.6895 - val_acc: 0.5466\n",
      "2.5e-05  Epoch 276/300\n",
      "100/100 [==============================] - 87s 870ms/step - loss: 0.6897 - acc: 0.5429 - val_loss: 0.6894 - val_acc: 0.5466\n",
      "2.5e-05  Epoch 277/300\n",
      "100/100 [==============================] - 87s 871ms/step - loss: 0.6938 - acc: 0.5125 - val_loss: 0.6895 - val_acc: 0.5466\n",
      "2.5e-05  Epoch 278/300\n",
      "100/100 [==============================] - 87s 870ms/step - loss: 0.6899 - acc: 0.5408 - val_loss: 0.6894 - val_acc: 0.5466\n",
      "2.5e-05  Epoch 279/300\n",
      "100/100 [==============================] - 87s 872ms/step - loss: 0.6930 - acc: 0.5175 - val_loss: 0.6895 - val_acc: 0.5466\n",
      "2.5e-05  Epoch 280/300\n",
      "100/100 [==============================] - 87s 869ms/step - loss: 0.6910 - acc: 0.5317 - val_loss: 0.6895 - val_acc: 0.5466\n"
     ]
    },
    {
     "name": "stdout",
     "output_type": "stream",
     "text": [
      "2.5e-05  Epoch 281/300\n",
      "100/100 [==============================] - 87s 872ms/step - loss: 0.6907 - acc: 0.5350 - val_loss: 0.6895 - val_acc: 0.5466\n",
      "2.4e-05  Epoch 282/300\n",
      "100/100 [==============================] - 87s 869ms/step - loss: 0.6924 - acc: 0.5158 - val_loss: 0.6895 - val_acc: 0.5466\n",
      "2.4e-05  Epoch 283/300\n",
      "100/100 [==============================] - 87s 872ms/step - loss: 0.6905 - acc: 0.5413 - val_loss: 0.6895 - val_acc: 0.5466\n",
      "2.4e-05  Epoch 284/300\n",
      "100/100 [==============================] - 87s 872ms/step - loss: 0.6913 - acc: 0.5312 - val_loss: 0.6894 - val_acc: 0.5466\n",
      "2.4e-05  Epoch 285/300\n",
      "100/100 [==============================] - 87s 867ms/step - loss: 0.6923 - acc: 0.5229 - val_loss: 0.6895 - val_acc: 0.5466\n",
      "2.4e-05  Epoch 286/300\n",
      "100/100 [==============================] - 87s 872ms/step - loss: 0.6915 - acc: 0.5300 - val_loss: 0.6895 - val_acc: 0.5466\n",
      "2.4e-05  Epoch 287/300\n",
      "100/100 [==============================] - 87s 869ms/step - loss: 0.6911 - acc: 0.5338 - val_loss: 0.6894 - val_acc: 0.5466\n",
      "2.4e-05  Epoch 288/300\n",
      "100/100 [==============================] - 87s 872ms/step - loss: 0.6925 - acc: 0.5225 - val_loss: 0.6895 - val_acc: 0.5466\n",
      "2.4e-05  Epoch 289/300\n",
      "100/100 [==============================] - 87s 872ms/step - loss: 0.6910 - acc: 0.5300 - val_loss: 0.6895 - val_acc: 0.5466\n",
      "2.3e-05  Epoch 290/300\n",
      "100/100 [==============================] - 87s 867ms/step - loss: 0.6932 - acc: 0.5154 - val_loss: 0.6895 - val_acc: 0.5466\n",
      "2.3e-05  Epoch 291/300\n",
      "100/100 [==============================] - 87s 872ms/step - loss: 0.6925 - acc: 0.5225 - val_loss: 0.6895 - val_acc: 0.5466\n",
      "2.3e-05  Epoch 292/300\n",
      "100/100 [==============================] - 87s 872ms/step - loss: 0.6909 - acc: 0.5337 - val_loss: 0.6895 - val_acc: 0.5466\n",
      "2.3e-05  Epoch 293/300\n",
      "100/100 [==============================] - 87s 868ms/step - loss: 0.6912 - acc: 0.5342 - val_loss: 0.6895 - val_acc: 0.5466\n",
      "2.3e-05  Epoch 294/300\n",
      "100/100 [==============================] - 87s 873ms/step - loss: 0.6918 - acc: 0.5262 - val_loss: 0.6895 - val_acc: 0.5466\n",
      "2.3e-05  Epoch 295/300\n",
      "100/100 [==============================] - 87s 869ms/step - loss: 0.6907 - acc: 0.5362 - val_loss: 0.6895 - val_acc: 0.5466\n",
      "2.3e-05  Epoch 296/300\n",
      "100/100 [==============================] - 87s 872ms/step - loss: 0.6919 - acc: 0.5250 - val_loss: 0.6895 - val_acc: 0.5466\n",
      "2.3e-05  Epoch 297/300\n",
      "100/100 [==============================] - 87s 869ms/step - loss: 0.6916 - acc: 0.5279 - val_loss: 0.6895 - val_acc: 0.5466\n",
      "2.3e-05  Epoch 298/300\n",
      "100/100 [==============================] - 87s 869ms/step - loss: 0.6924 - acc: 0.5208 - val_loss: 0.6895 - val_acc: 0.5466\n",
      "2.2e-05  Epoch 299/300\n",
      "100/100 [==============================] - 87s 872ms/step - loss: 0.6902 - acc: 0.5413 - val_loss: 0.6895 - val_acc: 0.5466\n",
      "2.2e-05  Epoch 300/300\n",
      "100/100 [==============================] - 87s 872ms/step - loss: 0.6913 - acc: 0.5312 - val_loss: 0.6895 - val_acc: 0.5466\n",
      "Wall time: 7h 17min 46s\n"
     ]
    }
   ],
   "source": [
    "%%time\n",
    "batch_size = 8\n",
    "# steps_per_epoch = 1 * len(x_train) / batch_size\n",
    "hist = model.fit_generator(\n",
    "    datagen.flow(x_train, y_train, batch_size=batch_size, shuffle=True, seed=2019),\n",
    "    steps_per_epoch=100,\n",
    "    epochs=300, #1 for ETA, 0 for silent\n",
    "    verbose=1,\n",
    "    max_queue_size=128,\n",
    "    callbacks=[annealer],\n",
    "    workers=32,\n",
    "    validation_data=(x_val, y_val)\n",
    ")"
   ]
  },
  {
   "cell_type": "code",
   "execution_count": 23,
   "metadata": {},
   "outputs": [],
   "source": [
    "# hist = model.fit(x_train, y_train, \n",
    "#                  batch_size = 128, \n",
    "#                  verbose= 1,\n",
    "#                  epochs = 100, #1 for ETA, 0 for silent\n",
    "#                  validation_data=(x_val, y_val),\n",
    "#                  callbacks=[annealer, tensorBoard])"
   ]
  },
  {
   "cell_type": "code",
   "execution_count": 24,
   "metadata": {},
   "outputs": [
    {
     "name": "stdout",
     "output_type": "stream",
     "text": [
      "161/161 [==============================] - 4s 28ms/step\n",
      "Final loss: 0.6895, final accuracy: 0.5466\n"
     ]
    }
   ],
   "source": [
    "final_loss, final_acc = model.evaluate(x_val, y_val, verbose=1)\n",
    "print(\"Final loss: {0:.4f}, final accuracy: {1:.4f}\".format(final_loss, final_acc))"
   ]
  },
  {
   "cell_type": "code",
   "execution_count": 25,
   "metadata": {},
   "outputs": [
    {
     "name": "stdout",
     "output_type": "stream",
     "text": [
      "Val log_loss: 0.6894669440222083\n",
      "Val log_loss: 0.6894669440222083\n"
     ]
    }
   ],
   "source": [
    "val_prob1 = model.predict(x_val)\n",
    "\n",
    "# print('Val log_loss: {}'.format(log_loss(y_val, val_prob1)))\n",
    "val_prob1_limit = np.clip(val_prob1, 0.00005, 0.99995)\n",
    "loss = log_loss(y_val, val_prob1_limit)\n",
    "print('Val log_loss: {}'.format(loss))\n",
    "\n",
    "val_prob1_limit = np.clip(val_prob1_limit, 0.05, 0.95)\n",
    "loss = log_loss(y_val, val_prob1_limit)\n",
    "print('Val log_loss: {}'.format(loss))"
   ]
  },
  {
   "cell_type": "code",
   "execution_count": 26,
   "metadata": {},
   "outputs": [
    {
     "name": "stdout",
     "output_type": "stream",
     "text": [
      "SC_Iceberg_Classifier_CNN_3channel_VGG19_FineTune_20180110_084730_6894\n"
     ]
    }
   ],
   "source": [
    "final_acc_str = '{0:0>4}'.format(int(loss*10000))\n",
    "run_name_acc = project_name + '_' + step_name + '_' + time_str + '_' + final_acc_str\n",
    "print(run_name_acc)"
   ]
  },
  {
   "cell_type": "code",
   "execution_count": 27,
   "metadata": {},
   "outputs": [
    {
     "name": "stdout",
     "output_type": "stream",
     "text": [
      "Index(['acc', 'loss', 'val_acc', 'val_loss', 'epoch'], dtype='object')\n"
     ]
    }
   ],
   "source": [
    "histories = pd.DataFrame(hist.history)\n",
    "histories['epoch'] = hist.epoch\n",
    "print(histories.columns)\n",
    "histories_file = os.path.join(model_path, run_name_acc + '.csv')\n",
    "histories.to_csv(histories_file, index=False)"
   ]
  },
  {
   "cell_type": "code",
   "execution_count": 28,
   "metadata": {},
   "outputs": [
    {
     "data": {
      "image/png": "[encoded data removed]",
      "text/plain": [
       "<matplotlib.figure.Figure at 0x2015b812908>"
      ]
     },
     "metadata": {},
     "output_type": "display_data"
    },
    {
     "data": {
      "image/png": "[encoded data removed]",
      "text/plain": [
       "<matplotlib.figure.Figure at 0x2015b7ba668>"
      ]
     },
     "metadata": {},
     "output_type": "display_data"
    }
   ],
   "source": [
    "plt.plot(histories['loss'], color='b')\n",
    "plt.plot(histories['val_loss'], color='r')\n",
    "plt.show()\n",
    "plt.plot(histories['acc'], color='b')\n",
    "plt.plot(histories['val_acc'], color='r')\n",
    "plt.show()"
   ]
  },
  {
   "cell_type": "code",
   "execution_count": 29,
   "metadata": {},
   "outputs": [],
   "source": [
    "saveModel(model, run_name_acc)"
   ]
  },
  {
   "cell_type": "markdown",
   "metadata": {},
   "source": [
    "## 3. Predict"
   ]
  },
  {
   "cell_type": "code",
   "execution_count": 30,
   "metadata": {},
   "outputs": [
    {
     "name": "stdout",
     "output_type": "stream",
     "text": [
      "D:\\Kaggle\\statoil-iceberg-classifier-challenge\\output\\SC_Iceberg_Classifier_CNN_3channel_VGG19_FineTune_20180110_084730_6894.csv\n"
     ]
    }
   ],
   "source": [
    "if not os.path.exists(output_path):\n",
    "    os.mkdir(output_path)\n",
    "pred_file = os.path.join(output_path, run_name_acc + '.csv')\n",
    "print(pred_file)"
   ]
  },
  {
   "cell_type": "code",
   "execution_count": 31,
   "metadata": {},
   "outputs": [
    {
     "name": "stdout",
     "output_type": "stream",
     "text": [
      "(8424, 1)\n",
      "[[ 0.47162208]\n",
      " [ 0.47162208]]\n",
      "(8424, 1)\n",
      "[[ 0.47162208]\n",
      " [ 0.47162208]]\n"
     ]
    }
   ],
   "source": [
    "test_prob = model.predict(x_test)\n",
    "print(test_prob.shape)\n",
    "print(test_prob[0:2])\n",
    "test_prob = np.clip(test_prob, 0.05, 0.95)\n",
    "print(test_prob.shape)\n",
    "print(test_prob[0:2])"
   ]
  },
  {
   "cell_type": "code",
   "execution_count": 32,
   "metadata": {},
   "outputs": [
    {
     "name": "stdout",
     "output_type": "stream",
     "text": [
      "         id  is_iceberg\n",
      "0  5941774d    0.471622\n",
      "1  4023181e    0.471622\n",
      "(8424, 2)\n"
     ]
    }
   ],
   "source": [
    "sample_submission['is_iceberg'] = test_prob\n",
    "print(sample_submission[0:2])\n",
    "print(sample_submission.shape)\n",
    "sample_submission.to_csv(pred_file, index=False)"
   ]
  },
  {
   "cell_type": "code",
   "execution_count": 33,
   "metadata": {},
   "outputs": [
    {
     "name": "stdout",
     "output_type": "stream",
     "text": [
      "time cost: 26410.34 s\n",
      "Done!\n"
     ]
    }
   ],
   "source": [
    "t1 = time.time()\n",
    "print('time cost: %.2f s' % (t1-t0))\n",
    "print('Done!')"
   ]
  },
  {
   "cell_type": "code",
   "execution_count": 34,
   "metadata": {},
   "outputs": [
    {
     "name": "stdout",
     "output_type": "stream",
     "text": [
      "SC_Iceberg_Classifier_CNN_3channel_VGG19_FineTune_20180110_084730_6894\n"
     ]
    }
   ],
   "source": [
    "print(run_name_acc)"
   ]
  },
  {
   "cell_type": "code",
   "execution_count": null,
   "metadata": {},
   "outputs": [],
   "source": []
  }
 ],
 "metadata": {
  "kernelspec": {
   "display_name": "Python 3",
   "language": "python",
   "name": "python3"
  },
  "language_info": {
   "codemirror_mode": {
    "name": "ipython",
    "version": 3
   },
   "file_extension": ".py",
   "mimetype": "text/x-python",
   "name": "python",
   "nbconvert_exporter": "python",
   "pygments_lexer": "ipython3",
   "version": "3.6.3"
  }
 },
 "nbformat": 4,
 "nbformat_minor": 2
}
