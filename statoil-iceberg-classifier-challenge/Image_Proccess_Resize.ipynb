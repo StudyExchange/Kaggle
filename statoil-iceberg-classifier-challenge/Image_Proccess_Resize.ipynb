{
 "cells": [
  {
   "cell_type": "markdown",
   "metadata": {},
   "source": [
    "# Image_Proccess_Resize"
   ]
  },
  {
   "cell_type": "markdown",
   "metadata": {},
   "source": [
    "### Import scripts"
   ]
  },
  {
   "cell_type": "code",
   "execution_count": 1,
   "metadata": {},
   "outputs": [],
   "source": [
    "%matplotlib inline\n",
    "from script.util import *\n",
    "from script.load_data_gray import *"
   ]
  },
  {
   "cell_type": "code",
   "execution_count": 2,
   "metadata": {},
   "outputs": [
    {
     "name": "stdout",
     "output_type": "stream",
     "text": [
      "run_name: SC_Iceberg_Classifier-Image_Proccess_Resize-20180112_215345\n",
      "D:\\Kaggle\\statoil-iceberg-classifier-challenge\\html\n",
      "D:\\Kaggle\\statoil-iceberg-classifier-challenge\\input\n",
      "D:\\Kaggle\\statoil-iceberg-classifier-challenge\\input\\processed\n",
      "D:\\Kaggle\\statoil-iceberg-classifier-challenge\\log\n",
      "D:\\Kaggle\\statoil-iceberg-classifier-challenge\\model\n",
      "D:\\Kaggle\\statoil-iceberg-classifier-challenge\\output\n"
     ]
    }
   ],
   "source": [
    "t0 = time.time()\n",
    "\n",
    "run_name = get_run_name('SC_Iceberg_Classifier', 'Image_Proccess_Resize')\n",
    "html_folder = get_html_folder(True)\n",
    "input_folder = get_input_folder(True)\n",
    "input_processed_folder = get_input_processed_folder(True)\n",
    "log_folder = get_log_folder(True)\n",
    "model_folder = get_model_folder(True)\n",
    "output_folder = get_output_folder(True)"
   ]
  },
  {
   "cell_type": "code",
   "execution_count": 3,
   "metadata": {},
   "outputs": [
    {
     "name": "stdout",
     "output_type": "stream",
     "text": [
      "(1604,) 000d71b1 fffe76e4 12928\n",
      "(8424,) 000c65d7 fff77564 67488\n",
      "(1604,) 0 1 12928\n",
      "(1604, 75, 75) -45.594448 34.574917 72180128\n",
      "(1604, 75, 75) -45.655499 20.154249 72180128\n",
      "(8424, 75, 75) -45.6805458069 37.090523 379080128\n",
      "(8424, 75, 75) -49.0835 37.0905227661 379080128\n",
      "(1604, 75, 75, 3) -45.655499 34.574917 216540144\n",
      "(8424, 75, 75, 3) -49.0835 37.090523 1137240144\n",
      "Wall time: 5.88 s\n"
     ]
    }
   ],
   "source": [
    "%%time\n",
    "id_data, id_test = load_id()\n",
    "y_data = load_y_data()\n",
    "band1_data, band2_data, band1_test, band2_test = load_band_data()\n",
    "x_data, x_test = load_data()"
   ]
  },
  {
   "cell_type": "code",
   "execution_count": 4,
   "metadata": {},
   "outputs": [
    {
     "name": "stdout",
     "output_type": "stream",
     "text": [
      "(3, 150, 150)\n"
     ]
    }
   ],
   "source": [
    "from skimage import transform, data\n",
    "\n",
    "def resize_image(arr, size=150):\n",
    "    new_arr = np.zeros((arr.shape[0], size, size))\n",
    "    for i, img in enumerate(arr):\n",
    "        new_arr[i] = transform.resize(img, (size, size), mode='reflect')\n",
    "    return new_arr\n",
    "# test\n",
    "aa = np.ones((3, 75, 75))\n",
    "bb = resize_image(aa)\n",
    "print(bb.shape)"
   ]
  },
  {
   "cell_type": "markdown",
   "metadata": {},
   "source": [
    "### Resize"
   ]
  },
  {
   "cell_type": "code",
   "execution_count": 5,
   "metadata": {},
   "outputs": [],
   "source": [
    "target_size = 150"
   ]
  },
  {
   "cell_type": "code",
   "execution_count": 6,
   "metadata": {},
   "outputs": [
    {
     "name": "stdout",
     "output_type": "stream",
     "text": [
      "Wall time: 1min 4s\n"
     ]
    }
   ],
   "source": [
    "%%time\n",
    "band1_data_resize = resize_image(band1_data, target_size)\n",
    "band2_data_resize = resize_image(band2_data, target_size)\n",
    "band1_test_resize = resize_image(band1_test, target_size)\n",
    "band2_test_resize = resize_image(band2_test, target_size)\n",
    "\n",
    "band1_data_resize_file = os.path.join(get_input_processed_folder(), 'band1_data%s.p' % target_size)\n",
    "band2_data_resize_file = os.path.join(get_input_processed_folder(), 'band2_data%s.p' % target_size)\n",
    "band1_test_resize_file = os.path.join(get_input_processed_folder(), 'band1_test%s.p' % target_size)\n",
    "band2_test_resize_file = os.path.join(get_input_processed_folder(), 'band2_test%s.p' % target_size)\n",
    "\n",
    "np.save(band1_data_resize_file, band1_data_resize)\n",
    "np.save(band2_data_resize_file, band2_data_resize)\n",
    "np.save(band1_test_resize_file, band1_test_resize)\n",
    "np.save(band2_test_resize_file, band2_test_resize)"
   ]
  },
  {
   "cell_type": "code",
   "execution_count": 7,
   "metadata": {},
   "outputs": [
    {
     "ename": "NameError",
     "evalue": "name 'band1_data_gray' is not defined",
     "output_type": "error",
     "traceback": [
      "\u001b[1;31m---------------------------------------------------------------------------\u001b[0m",
      "\u001b[1;31mNameError\u001b[0m                                 Traceback (most recent call last)",
      "\u001b[1;32m<timed exec>\u001b[0m in \u001b[0;36m<module>\u001b[1;34m()\u001b[0m\n",
      "\u001b[1;31mNameError\u001b[0m: name 'band1_data_gray' is not defined"
     ]
    }
   ],
   "source": [
    "%%time\n",
    "band1_data_gray_resize = resize_image(band1_data_gray, target_size)\n",
    "band2_data_gray_resize = resize_image(band2_data_gray, target_size)\n",
    "band1_test_gray_resize = resize_image(band1_test_gray, target_size)\n",
    "band2_test_gray_resize = resize_image(band2_test_gray, target_size)\n",
    "\n",
    "band1_data_gray_resize_file = os.path.join(get_input_processed_folder(), 'band1_data_gray%s.p' % target_size)\n",
    "band2_data_gray_resize_file = os.path.join(get_input_processed_folder(), 'band2_data_gray%s.p' % target_size)\n",
    "band1_test_gray_resize_file = os.path.join(get_input_processed_folder(), 'band1_test_gray%s.p' % target_size)\n",
    "band2_test_gray_resize_file = os.path.join(get_input_processed_folder(), 'band2_test_gray%s.p' % target_size)\n",
    "\n",
    "np.save(band1_data_gray_resize_file, band1_data_gray_resize)\n",
    "np.save(band2_data_gray_resize_file, band2_data_gray_resize)\n",
    "np.save(band1_test_gray_resize_file, band1_test_gray_resize)\n",
    "np.save(band2_test_gray_resize_file, band2_test_gray_resize)"
   ]
  },
  {
   "cell_type": "code",
   "execution_count": 8,
   "metadata": {},
   "outputs": [
    {
     "ename": "FileNotFoundError",
     "evalue": "[Errno 2] No such file or directory: 'D:\\\\Kaggle\\\\statoil-iceberg-classifier-challenge\\\\input\\\\processed\\\\band1_data150.p'",
     "output_type": "error",
     "traceback": [
      "\u001b[1;31m---------------------------------------------------------------------------\u001b[0m",
      "\u001b[1;31mFileNotFoundError\u001b[0m                         Traceback (most recent call last)",
      "\u001b[1;32m<ipython-input-8-a49c0fc0214f>\u001b[0m in \u001b[0;36m<module>\u001b[1;34m()\u001b[0m\n\u001b[1;32m----> 1\u001b[1;33m \u001b[0mband1_data_resize\u001b[0m \u001b[1;33m=\u001b[0m \u001b[0mnp\u001b[0m\u001b[1;33m.\u001b[0m\u001b[0mload\u001b[0m\u001b[1;33m(\u001b[0m\u001b[0mband1_data_resize_file\u001b[0m\u001b[1;33m)\u001b[0m\u001b[1;33m\u001b[0m\u001b[0m\n\u001b[0m\u001b[0;32m      2\u001b[0m \u001b[0mband2_data_resize\u001b[0m \u001b[1;33m=\u001b[0m \u001b[0mnp\u001b[0m\u001b[1;33m.\u001b[0m\u001b[0mload\u001b[0m\u001b[1;33m(\u001b[0m\u001b[0mband2_data_resize_file\u001b[0m\u001b[1;33m)\u001b[0m\u001b[1;33m\u001b[0m\u001b[0m\n\u001b[0;32m      3\u001b[0m \u001b[0mband1_test_resize\u001b[0m \u001b[1;33m=\u001b[0m \u001b[0mnp\u001b[0m\u001b[1;33m.\u001b[0m\u001b[0mload\u001b[0m\u001b[1;33m(\u001b[0m\u001b[0mband1_test_resize_file\u001b[0m\u001b[1;33m)\u001b[0m\u001b[1;33m\u001b[0m\u001b[0m\n\u001b[0;32m      4\u001b[0m \u001b[0mband2_test_resize\u001b[0m \u001b[1;33m=\u001b[0m \u001b[0mnp\u001b[0m\u001b[1;33m.\u001b[0m\u001b[0mload\u001b[0m\u001b[1;33m(\u001b[0m\u001b[0mband2_test_resize_file\u001b[0m\u001b[1;33m)\u001b[0m\u001b[1;33m\u001b[0m\u001b[0m\n\u001b[0;32m      5\u001b[0m \u001b[1;33m\u001b[0m\u001b[0m\n",
      "\u001b[1;32m~\\Anaconda3\\lib\\site-packages\\numpy\\lib\\npyio.py\u001b[0m in \u001b[0;36mload\u001b[1;34m(file, mmap_mode, allow_pickle, fix_imports, encoding)\u001b[0m\n\u001b[0;32m    368\u001b[0m     \u001b[0mown_fid\u001b[0m \u001b[1;33m=\u001b[0m \u001b[1;32mFalse\u001b[0m\u001b[1;33m\u001b[0m\u001b[0m\n\u001b[0;32m    369\u001b[0m     \u001b[1;32mif\u001b[0m \u001b[0misinstance\u001b[0m\u001b[1;33m(\u001b[0m\u001b[0mfile\u001b[0m\u001b[1;33m,\u001b[0m \u001b[0mbasestring\u001b[0m\u001b[1;33m)\u001b[0m\u001b[1;33m:\u001b[0m\u001b[1;33m\u001b[0m\u001b[0m\n\u001b[1;32m--> 370\u001b[1;33m         \u001b[0mfid\u001b[0m \u001b[1;33m=\u001b[0m \u001b[0mopen\u001b[0m\u001b[1;33m(\u001b[0m\u001b[0mfile\u001b[0m\u001b[1;33m,\u001b[0m \u001b[1;34m\"rb\"\u001b[0m\u001b[1;33m)\u001b[0m\u001b[1;33m\u001b[0m\u001b[0m\n\u001b[0m\u001b[0;32m    371\u001b[0m         \u001b[0mown_fid\u001b[0m \u001b[1;33m=\u001b[0m \u001b[1;32mTrue\u001b[0m\u001b[1;33m\u001b[0m\u001b[0m\n\u001b[0;32m    372\u001b[0m     \u001b[1;32melif\u001b[0m \u001b[0mis_pathlib_path\u001b[0m\u001b[1;33m(\u001b[0m\u001b[0mfile\u001b[0m\u001b[1;33m)\u001b[0m\u001b[1;33m:\u001b[0m\u001b[1;33m\u001b[0m\u001b[0m\n",
      "\u001b[1;31mFileNotFoundError\u001b[0m: [Errno 2] No such file or directory: 'D:\\\\Kaggle\\\\statoil-iceberg-classifier-challenge\\\\input\\\\processed\\\\band1_data150.p'"
     ]
    }
   ],
   "source": [
    "band1_data_resize = np.load(band1_data_resize_file)\n",
    "band2_data_resize = np.load(band2_data_resize_file)\n",
    "band1_test_resize = np.load(band1_test_resize_file)\n",
    "band2_test_resize = np.load(band2_test_resize_file)\n",
    "\n",
    "band1_data_gray_resize = np.load(band1_data_gray_resize_file)\n",
    "band2_data_gray_resize = np.load(band2_data_gray_resize_file)\n",
    "band1_test_gray_resize = np.load(band1_test_gray_resize_file)\n",
    "band2_test_gray_resize = np.load(band2_test_gray_resize_file)"
   ]
  },
  {
   "cell_type": "code",
   "execution_count": null,
   "metadata": {},
   "outputs": [],
   "source": [
    "describe(id_data)\n",
    "describe(id_test)\n",
    "describe(y_data)\n",
    "\n",
    "describe(band1_data_resize)\n",
    "describe(band2_data_resize)\n",
    "describe(band1_test_resize)\n",
    "describe(band2_test_resize)\n",
    "\n",
    "describe(band1_data_gray_resize)\n",
    "describe(band2_data_gray_resize)\n",
    "describe(band1_test_gray_resize)\n",
    "describe(band2_test_gray_resize)"
   ]
  },
  {
   "cell_type": "code",
   "execution_count": null,
   "metadata": {},
   "outputs": [],
   "source": [
    "show_data_images(6, 3, id_data, y_data, band1_data, band1_data200, band2_data, band2_data200)\n",
    "show_data_images(6, 3, id_test, None, band1_test, band1_test200, band2_test, band2_test200)"
   ]
  },
  {
   "cell_type": "code",
   "execution_count": null,
   "metadata": {},
   "outputs": [],
   "source": [
    "show_data_images(6, 3, id_test, y_data, band1_data_gray, band1_data_gray200, band2_data_gray, band2_data_gray200)\n",
    "show_data_images(6, 3, id_test, None, band1_test_gray, band1_test_gray200, band2_test_gray, band2_test_gray200)"
   ]
  },
  {
   "cell_type": "code",
   "execution_count": null,
   "metadata": {},
   "outputs": [],
   "source": [
    "t1 = time.time()\n",
    "print('time cost: %.2f s' % (t1-t0))\n",
    "print('Done!')"
   ]
  },
  {
   "cell_type": "code",
   "execution_count": null,
   "metadata": {},
   "outputs": [],
   "source": [
    "print(run_name)"
   ]
  },
  {
   "cell_type": "code",
   "execution_count": null,
   "metadata": {},
   "outputs": [],
   "source": []
  }
 ],
 "metadata": {
  "kernelspec": {
   "display_name": "Python 3",
   "language": "python",
   "name": "python3"
  },
  "language_info": {
   "codemirror_mode": {
    "name": "ipython",
    "version": 3
   },
   "file_extension": ".py",
   "mimetype": "text/x-python",
   "name": "python",
   "nbconvert_exporter": "python",
   "pygments_lexer": "ipython3",
   "version": "3.6.3"
  }
 },
 "nbformat": 4,
 "nbformat_minor": 2
}
