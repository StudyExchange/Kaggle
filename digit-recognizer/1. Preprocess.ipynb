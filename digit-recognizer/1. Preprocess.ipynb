{
 "cells": [
  {
   "cell_type": "markdown",
   "metadata": {},
   "source": [
    "# 1. Preprocess"
   ]
  },
  {
   "cell_type": "markdown",
   "metadata": {},
   "source": [
    "## Run name"
   ]
  },
  {
   "cell_type": "code",
   "execution_count": 1,
   "metadata": {},
   "outputs": [
    {
     "name": "stdout",
     "output_type": "stream",
     "text": [
      "run_name: DigitRecognizer_Preprocess_20180417_211636\n"
     ]
    }
   ],
   "source": [
    "import time\n",
    "\n",
    "project_name = 'DigitRecognizer'\n",
    "step_name = 'Preprocess'\n",
    "date_str = time.strftime(\"%Y%m%d\", time.localtime())\n",
    "time_str = time.strftime(\"%Y%m%d_%H%M%S\", time.localtime())\n",
    "run_name = '%s_%s_%s' % (project_name, step_name, time_str)\n",
    "print('run_name: %s' % run_name)\n",
    "t0 = time.time()"
   ]
  },
  {
   "cell_type": "markdown",
   "metadata": {},
   "source": [
    "## Import PKGs"
   ]
  },
  {
   "cell_type": "code",
   "execution_count": 2,
   "metadata": {},
   "outputs": [],
   "source": [
    "import numpy as np\n",
    "import pandas as pd\n",
    "import matplotlib.pyplot as plt\n",
    "import matplotlib.image as mpimg\n",
    "%matplotlib inline\n",
    "from IPython.display import display\n",
    "\n",
    "import os\n",
    "import gc\n",
    "import math\n",
    "import shutil\n",
    "import zipfile\n",
    "import pickle\n",
    "import h5py\n",
    "from PIL import Image\n",
    "\n",
    "from tqdm import tqdm\n",
    "from multiprocessing import cpu_count\n",
    "\n",
    "from sklearn.model_selection import train_test_split\n",
    "from sklearn.metrics import confusion_matrix, accuracy_score"
   ]
  },
  {
   "cell_type": "markdown",
   "metadata": {},
   "source": [
    "## Basic folders"
   ]
  },
  {
   "cell_type": "code",
   "execution_count": 3,
   "metadata": {},
   "outputs": [
    {
     "name": "stdout",
     "output_type": "stream",
     "text": [
      "input_folder: \t\tD:\\Kaggle\\digit-recognizer\\input\n",
      "log_folder: \t\tD:\\Kaggle\\digit-recognizer\\log\n",
      "model_folder: \t\tD:\\Kaggle\\digit-recognizer\\model\n",
      "output_folder: \t\tD:\\Kaggle\\digit-recognizer\\output\n",
      "\n",
      "train_csv_file: \tD:\\Kaggle\\digit-recognizer\\input\\train.csv\n",
      "test_csv_file: \t\tD:\\Kaggle\\digit-recognizer\\input\\test.csv\n",
      "processed_data_file: \tD:\\Kaggle\\digit-recognizer\\input\\DigitRecognizer_Preprocess.p\n"
     ]
    }
   ],
   "source": [
    "cwd = os.getcwd()\n",
    "input_folder = os.path.join(cwd, 'input')\n",
    "log_folder = os.path.join(cwd, 'log')\n",
    "model_folder = os.path.join(cwd, 'model')\n",
    "output_folder = os.path.join(cwd, 'output')\n",
    "print('input_folder: \\t\\t%s' % input_folder)\n",
    "print('log_folder: \\t\\t%s' % log_folder)\n",
    "print('model_folder: \\t\\t%s' % model_folder)\n",
    "print('output_folder: \\t\\t%s'% output_folder)\n",
    "\n",
    "train_csv_file = os.path.join(input_folder, 'train.csv')\n",
    "test_csv_file = os.path.join(input_folder, 'test.csv')\n",
    "print('\\ntrain_csv_file: \\t%s' % train_csv_file)\n",
    "print('test_csv_file: \\t\\t%s' % test_csv_file)\n",
    "\n",
    "processed_data_file = os.path.join(input_folder, '%s_%s.p' % (project_name, step_name))\n",
    "print('processed_data_file: \\t%s' % processed_data_file)"
   ]
  },
  {
   "cell_type": "markdown",
   "metadata": {},
   "source": [
    "## Basic functions"
   ]
  },
  {
   "cell_type": "code",
   "execution_count": 4,
   "metadata": {},
   "outputs": [],
   "source": [
    "import sys\n",
    "def describe(arr):\n",
    "    print(arr.shape, arr.min(), arr.max(), sys.getsizeof(arr))"
   ]
  },
  {
   "cell_type": "code",
   "execution_count": 5,
   "metadata": {},
   "outputs": [],
   "source": [
    "def show_data_images(rows, fig_column, y_data, *args):\n",
    "    columns = len(args)\n",
    "    figs, axes = plt.subplots(rows, columns, figsize=(rows, fig_column*columns))\n",
    "    print(axes.shape)  \n",
    "    for i, ax in enumerate(axes):\n",
    "        y_data_str = ''\n",
    "        if type(y_data) != type(None):\n",
    "            y_data_str =  '_' + str(y_data[i])\n",
    "        ax[0].set_title('28x28' + y_data_str)\n",
    "        for j, arg in enumerate(args):\n",
    "            ax[j].imshow(arg[i])"
   ]
  },
  {
   "cell_type": "markdown",
   "metadata": {},
   "source": [
    "## Preview data"
   ]
  },
  {
   "cell_type": "code",
   "execution_count": 6,
   "metadata": {},
   "outputs": [
    {
     "name": "stdout",
     "output_type": "stream",
     "text": [
      "(42000, 784) 0 255 112\n",
      "(42000,) 0 9 96\n",
      "(28000, 784) 0 255 112\n",
      "Wall time: 54.9 s\n"
     ]
    }
   ],
   "source": [
    "%%time\n",
    "raw_data = np.loadtxt(train_csv_file, skiprows=1, dtype='int', delimiter=',')\n",
    "x_data = raw_data[:,1:]\n",
    "y_data = raw_data[:,0]\n",
    "\n",
    "x_test = np.loadtxt(test_csv_file, skiprows=1, dtype='int', delimiter=',')\n",
    "\n",
    "describe(x_data)\n",
    "describe(y_data)\n",
    "describe(x_test)"
   ]
  },
  {
   "cell_type": "code",
   "execution_count": 7,
   "metadata": {},
   "outputs": [
    {
     "name": "stdout",
     "output_type": "stream",
     "text": [
      "(42000, 784) 0.0 1.0 263424112\n",
      "(28000, 784) 0.0 1.0 175616112\n",
      "(42000, 28, 28) 0.0 1.0 128\n",
      "(28000, 28, 28) 0.0 1.0 128\n",
      "1\n"
     ]
    }
   ],
   "source": [
    "x_data = x_data/255.\n",
    "x_test = x_test/255.\n",
    "\n",
    "describe(x_data)\n",
    "describe(x_test)\n",
    "\n",
    "x_data = x_data.reshape(-1, 28, 28)\n",
    "x_test = x_test.reshape(-1, 28, 28)\n",
    "\n",
    "describe(x_data)\n",
    "describe(x_test)\n",
    "\n",
    "# print(x_data[0])\n",
    "print(y_data[0])"
   ]
  },
  {
   "cell_type": "code",
   "execution_count": 8,
   "metadata": {},
   "outputs": [
    {
     "data": {
      "text/plain": [
       "Text(0.5,1,'28x28 data')"
      ]
     },
     "execution_count": 8,
     "metadata": {},
     "output_type": "execute_result"
    },
    {
     "data": {
      "image/png": "[encoded data removed]",
      "text/plain": [
       "<Figure size 864x432 with 4 Axes>"
      ]
     },
     "metadata": {},
     "output_type": "display_data"
    }
   ],
   "source": [
    "index = 0\n",
    "fig, ax = plt.subplots(2, 2, figsize=(12,6))\n",
    "ax[0, 0].plot(x_data[index].reshape(784,))\n",
    "ax[0, 0].set_title('784x1 data')\n",
    "ax[0, 1].imshow(x_data[index].reshape(28,28), cmap='gray')\n",
    "ax[0, 1].set_title('28x28 data => ' + str(y_data[index]))\n",
    "\n",
    "ax[1, 0].plot(x_test[index].reshape(784,))\n",
    "ax[1, 0].set_title('784x1 data')\n",
    "ax[1, 1].imshow(x_test[index].reshape(28,28), cmap='gray')\n",
    "ax[1, 1].set_title('28x28 data')"
   ]
  },
  {
   "cell_type": "markdown",
   "metadata": {},
   "source": [
    "## Save data"
   ]
  },
  {
   "cell_type": "code",
   "execution_count": 9,
   "metadata": {},
   "outputs": [
    {
     "name": "stdout",
     "output_type": "stream",
     "text": [
      "File removed: \tD:\\Kaggle\\digit-recognizer\\input\\DigitRecognizer_Preprocess.p\n",
      "File saved: \tD:\\Kaggle\\digit-recognizer\\input\\DigitRecognizer_Preprocess.p\n",
      "File loaded: \tD:\\Kaggle\\digit-recognizer\\input\\DigitRecognizer_Preprocess.p\n",
      "(42000, 28, 28)\n",
      "(42000,)\n",
      "(28000, 28, 28)\n"
     ]
    }
   ],
   "source": [
    "def save_data(x_data, y_data, x_test, file_name):\n",
    "    if os.path.exists(file_name):\n",
    "        os.remove(file_name)\n",
    "        print('File removed: \\t%s' % file_name)\n",
    "    with h5py.File(file_name) as h:\n",
    "        h.create_dataset('x_data', data=x_data)\n",
    "        h.create_dataset('y_data', data=y_data)\n",
    "        h.create_dataset('x_test', data=x_test)\n",
    "    print('File saved: \\t%s' % file_name)\n",
    "\n",
    "def load_data(file_name):\n",
    "    with h5py.File(file_name, 'r') as h:\n",
    "        x_data = np.array(h['x_data'])\n",
    "        y_data = np.array(h['y_data'])\n",
    "        x_test = np.array(h['x_test'])\n",
    "    print('File loaded: \\t%s' % file_name)\n",
    "    return x_data, y_data, x_test\n",
    "\n",
    "\n",
    "processed_data_file = os.path.join(input_folder, '%s_%s.p' % (project_name, step_name))\n",
    "save_data(x_data, y_data, x_test, processed_data_file)\n",
    "x_data, y_data, x_test = load_data(processed_data_file)\n",
    "\n",
    "print(x_data.shape)\n",
    "print(y_data.shape)\n",
    "print(x_test.shape)"
   ]
  },
  {
   "cell_type": "code",
   "execution_count": 10,
   "metadata": {},
   "outputs": [
    {
     "name": "stdout",
     "output_type": "stream",
     "text": [
      "Time spend: 60.9 s\n",
      "Done!\n"
     ]
    }
   ],
   "source": [
    "t1 = time.time()\n",
    "print('Time spend: %.1f s' % (t1 - t0))\n",
    "print('Done!')"
   ]
  },
  {
   "cell_type": "code",
   "execution_count": null,
   "metadata": {},
   "outputs": [],
   "source": []
  }
 ],
 "metadata": {
  "kernelspec": {
   "display_name": "Python 3",
   "language": "python",
   "name": "python3"
  },
  "language_info": {
   "codemirror_mode": {
    "name": "ipython",
    "version": 3
   },
   "file_extension": ".py",
   "mimetype": "text/x-python",
   "name": "python",
   "nbconvert_exporter": "python",
   "pygments_lexer": "ipython3",
   "version": "3.6.4"
  }
 },
 "nbformat": 4,
 "nbformat_minor": 2
}
