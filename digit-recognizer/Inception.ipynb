{
 "cells": [
  {
   "cell_type": "markdown",
   "metadata": {},
   "source": [
    "# CNN\n",
    "\n",
    "### References:\n",
    "1. https://www.kaggle.com/toregil/welcome-to-deep-learning-cnn-99"
   ]
  },
  {
   "cell_type": "code",
   "execution_count": 1,
   "metadata": {},
   "outputs": [],
   "source": [
    "import numpy as np\n",
    "import pandas as pd\n",
    "from sklearn.model_selection import train_test_split\n",
    "from sklearn.metrics import confusion_matrix\n",
    "\n",
    "import matplotlib.pyplot as plt\n",
    "%matplotlib inline"
   ]
  },
  {
   "cell_type": "code",
   "execution_count": 2,
   "metadata": {},
   "outputs": [],
   "source": [
    "import os\n",
    "import time\n",
    "import zipfile\n",
    "import lzma\n",
    "import pickle\n",
    "from PIL import Image\n",
    "from shutil import copy2\n",
    "import gc\n",
    "\n",
    "import cv2"
   ]
  },
  {
   "cell_type": "markdown",
   "metadata": {},
   "source": [
    "### Run name"
   ]
  },
  {
   "cell_type": "code",
   "execution_count": 3,
   "metadata": {},
   "outputs": [
    {
     "name": "stdout",
     "output_type": "stream",
     "text": [
      "run_name: SC_Iceberg_Classifier_CNN_3channel_Inception_20180107_213105\n"
     ]
    }
   ],
   "source": [
    "project_name = 'SC_Iceberg_Classifier'\n",
    "step_name = 'CNN_3channel_Inception'\n",
    "date_str = time.strftime(\"%Y%m%d\", time.localtime())\n",
    "time_str = time.strftime(\"%Y%m%d_%H%M%S\", time.localtime())\n",
    "run_name = project_name + '_' + step_name + '_' + time_str\n",
    "print('run_name: ' + run_name)\n",
    "t0 = time.time()"
   ]
  },
  {
   "cell_type": "markdown",
   "metadata": {},
   "source": [
    "### Basic folders"
   ]
  },
  {
   "cell_type": "code",
   "execution_count": 4,
   "metadata": {},
   "outputs": [
    {
     "name": "stdout",
     "output_type": "stream",
     "text": [
      "input_path: D:\\Kaggle\\digit-recognizer\\input\n",
      "log_path: D:\\Kaggle\\digit-recognizer\\log\n",
      "model_path: D:\\Kaggle\\digit-recognizer\\model\n",
      "output_path: D:\\Kaggle\\digit-recognizer\\output\n"
     ]
    }
   ],
   "source": [
    "cwd = os.getcwd()\n",
    "input_path = os.path.join(cwd, 'input')\n",
    "log_path = os.path.join(cwd, 'log')\n",
    "model_path = os.path.join(cwd, 'model')\n",
    "output_path = os.path.join(cwd, 'output')\n",
    "print('input_path: ' + input_path)\n",
    "print('log_path: ' + log_path)\n",
    "print('model_path: ' + model_path)\n",
    "print('output_path: ' + output_path)"
   ]
  },
  {
   "cell_type": "markdown",
   "metadata": {},
   "source": [
    "### Basic functions"
   ]
  },
  {
   "cell_type": "code",
   "execution_count": 5,
   "metadata": {},
   "outputs": [],
   "source": [
    "import sys\n",
    "def describe(arr):\n",
    "    print(arr.shape, arr.min(), arr.max(), sys.getsizeof(arr))"
   ]
  },
  {
   "cell_type": "code",
   "execution_count": 6,
   "metadata": {},
   "outputs": [],
   "source": [
    "def show_data_images(rows, fig_column, y_data, *args):\n",
    "    columns = len(args)\n",
    "    figs, axes = plt.subplots(rows, columns, figsize=(rows, fig_column*columns))\n",
    "    print(axes.shape)  \n",
    "    for i, ax in enumerate(axes):\n",
    "        y_data_str = ''\n",
    "        if type(y_data) != type(None):\n",
    "            y_data_str =  '_' + str(y_data[i])\n",
    "        ax[0].set_title('28x28' + y_data_str)\n",
    "        for j, arg in enumerate(args):\n",
    "            ax[j].imshow(arg[i])"
   ]
  },
  {
   "cell_type": "markdown",
   "metadata": {},
   "source": [
    "### Load data"
   ]
  },
  {
   "cell_type": "code",
   "execution_count": 7,
   "metadata": {},
   "outputs": [],
   "source": [
    "train_file = os.path.join(input_path, 'train.csv')\n",
    "test_file = os.path.join(input_path, 'test.csv')"
   ]
  },
  {
   "cell_type": "code",
   "execution_count": 8,
   "metadata": {},
   "outputs": [
    {
     "name": "stdout",
     "output_type": "stream",
     "text": [
      "(42000, 784) 0 255 112\n",
      "(42000,) 0 9 96\n",
      "(28000, 784) 0 255 112\n",
      "Wall time: 43.1 s\n"
     ]
    }
   ],
   "source": [
    "%%time\n",
    "raw_data = np.loadtxt(train_file, skiprows=1, dtype='int', delimiter=',')\n",
    "x_data = raw_data[:,1:]\n",
    "y_data = raw_data[:,0]\n",
    "\n",
    "x_test = np.loadtxt(test_file, skiprows=1, dtype='int', delimiter=',')\n",
    "\n",
    "describe(x_data)\n",
    "describe(y_data)\n",
    "describe(x_test)"
   ]
  },
  {
   "cell_type": "code",
   "execution_count": 9,
   "metadata": {},
   "outputs": [
    {
     "name": "stdout",
     "output_type": "stream",
     "text": [
      "(42000, 784) 0.0 0.00392156862745 263424112\n",
      "(28000, 784) 0 255 112\n",
      "(42000, 28, 28, 1) 0.0 0.00392156862745 144\n",
      "(28000, 28, 28, 1) 0 255 144\n"
     ]
    }
   ],
   "source": [
    "x_data = x_data/255.\n",
    "x_data = x_data/255.\n",
    "\n",
    "describe(x_data)\n",
    "describe(x_test)\n",
    "\n",
    "x_data = x_data.reshape(-1, 28, 28, 1)\n",
    "x_test = x_test.reshape(-1, 28, 28, 1)\n",
    "\n",
    "describe(x_data)\n",
    "describe(x_test)"
   ]
  },
  {
   "cell_type": "code",
   "execution_count": 10,
   "metadata": {},
   "outputs": [
    {
     "data": {
      "text/plain": [
       "Text(0.5,1,'28x28 data')"
      ]
     },
     "execution_count": 10,
     "metadata": {},
     "output_type": "execute_result"
    },
    {
     "data": {
      "image/png": "[encoded data removed]",
      "text/plain": [
       "<matplotlib.figure.Figure at 0x1eb7bbf9080>"
      ]
     },
     "metadata": {},
     "output_type": "display_data"
    }
   ],
   "source": [
    "index = 0\n",
    "fig, ax = plt.subplots(2, 2, figsize=(12,6))\n",
    "ax[0, 0].plot(x_data[index].reshape(784,))\n",
    "ax[0, 0].set_title('784x1 data')\n",
    "ax[0, 1].imshow(x_data[index].reshape(28,28), cmap='gray')\n",
    "ax[0, 1].set_title('28x28 data => ' + str(y_data[index]))\n",
    "                 \n",
    "ax[1, 0].plot(x_test[index].reshape(784,))\n",
    "ax[1, 0].set_title('784x1 data')\n",
    "ax[1, 1].imshow(x_test[index].reshape(28,28), cmap='gray')\n",
    "ax[1, 1].set_title('28x28 data')"
   ]
  },
  {
   "cell_type": "code",
   "execution_count": 11,
   "metadata": {},
   "outputs": [
    {
     "name": "stderr",
     "output_type": "stream",
     "text": [
      "Using TensorFlow backend.\n"
     ]
    },
    {
     "name": "stdout",
     "output_type": "stream",
     "text": [
      "1\n",
      "[ 0.  1.  0.  0.  0.  0.  0.  0.  0.  0.]\n"
     ]
    }
   ],
   "source": [
    "from keras.utils.np_utils import to_categorical # convert to one-hot-encoding\n",
    "print(y_data[0])\n",
    "y_data = to_categorical(y_data)\n",
    "#example:\n",
    "print(y_data[0])"
   ]
  },
  {
   "cell_type": "code",
   "execution_count": 12,
   "metadata": {},
   "outputs": [
    {
     "name": "stdout",
     "output_type": "stream",
     "text": [
      "(39900, 28, 28, 1) 0.0 0.00392156862745 250252944\n",
      "(2100, 28, 28, 1) 0.0 0.00392156862745 13171344\n",
      "(39900, 10) 0.0 1.0 3192112\n",
      "(2100, 10) 0.0 1.0 168112\n"
     ]
    }
   ],
   "source": [
    "x_train, x_val, y_train, y_val = train_test_split(x_data, y_data, test_size=0.05, random_state=31)\n",
    "describe(x_train)\n",
    "describe(x_val)\n",
    "describe(y_train)\n",
    "describe(y_val)"
   ]
  },
  {
   "cell_type": "markdown",
   "metadata": {},
   "source": [
    "### Build model"
   ]
  },
  {
   "cell_type": "code",
   "execution_count": 13,
   "metadata": {},
   "outputs": [],
   "source": [
    "from keras.models import Sequential, Model\n",
    "from keras.layers import Dense, Dropout, Input, Flatten, Conv2D, MaxPooling2D, BatchNormalization, GlobalMaxPooling2D\n",
    "from keras.layers.merge import Concatenate\n",
    "from keras.optimizers import Adam\n",
    "from keras.preprocessing.image import ImageDataGenerator\n",
    "from keras.callbacks import LearningRateScheduler, TensorBoard"
   ]
  },
  {
   "cell_type": "code",
   "execution_count": 14,
   "metadata": {},
   "outputs": [],
   "source": [
    "def build_model():\n",
    "    bn_model = 0\n",
    "    p_activation = \"relu\"\n",
    "    input_1 = Input(shape=(x_train.shape[1], x_train.shape[2], x_train.shape[3]), name=\"input\")\n",
    "    \n",
    "    img_1 = Conv2D(32, kernel_size = (1,1), activation=p_activation, padding='same')(input_1)\n",
    "    img_1 = BatchNormalization()(img_1)\n",
    "    img_1 = MaxPooling2D((2,2)) (img_1)\n",
    "    img_1 = Dropout(0.4)(img_1)\n",
    "    \n",
    "    img_2 = Conv2D(32, kernel_size = (2,2), activation=p_activation, padding='same')(input_1)\n",
    "    img_2 = BatchNormalization()(img_2)\n",
    "    img_2 = MaxPooling2D((2,2)) (img_2)\n",
    "    img_2 = Dropout(0.4)(img_2)\n",
    "    \n",
    "    img_3 = Conv2D(32, kernel_size = (3,3), activation=p_activation, padding='same')(input_1)\n",
    "    img_3 = BatchNormalization()(img_3)\n",
    "    img_3 = MaxPooling2D((2,2)) (img_3)\n",
    "    img_3 = Dropout(0.4)(img_3)\n",
    "    \n",
    "    img_5 = Conv2D(32, kernel_size = (5,5), activation=p_activation, padding='same')(input_1)\n",
    "    img_5 = BatchNormalization()(img_5)\n",
    "    img_5 = MaxPooling2D((2,2)) (img_5)\n",
    "    img_5 = Dropout(0.4)(img_5)\n",
    "    \n",
    "    concat_layer = (Concatenate()([img_1, img_2, img_3, img_5]))\n",
    "#############################################################################################\n",
    "    img_1 = Conv2D(32, kernel_size = (1,1), activation=p_activation, padding='same')(concat_layer)\n",
    "    img_1 = BatchNormalization()(img_1)\n",
    "    img_1 = MaxPooling2D((2,2)) (img_1)\n",
    "    img_1 = Dropout(0.4)(img_1)\n",
    "    \n",
    "    img_2 = Conv2D(32, kernel_size = (2,2), activation=p_activation, padding='same')(concat_layer)\n",
    "    img_2 = BatchNormalization()(img_2)\n",
    "    img_2 = MaxPooling2D((2,2)) (img_2)\n",
    "    img_2 = Dropout(0.4)(img_2)\n",
    "    \n",
    "    img_3 = Conv2D(32, kernel_size = (3,3), activation=p_activation, padding='same')(concat_layer)\n",
    "    img_3 = BatchNormalization()(img_3)\n",
    "    img_3 = MaxPooling2D((2,2)) (img_3)\n",
    "    img_3 = Dropout(0.4)(img_3)\n",
    "    \n",
    "    img_5 = Conv2D(32, kernel_size = (5,5), activation=p_activation, padding='same')(concat_layer)\n",
    "    img_5 = BatchNormalization()(img_5)\n",
    "    img_5 = MaxPooling2D((2,2)) (img_5)\n",
    "    img_5 = Dropout(0.4)(img_5)\n",
    "    \n",
    "    concat_layer = (Concatenate()([img_1, img_2, img_3, img_5]))\n",
    "#############################################################################################\n",
    "    img_1 = Conv2D(64, kernel_size = (3,3), activation=p_activation, padding='same')(concat_layer)\n",
    "    img_1 = BatchNormalization()(img_1)\n",
    "    img_1 = MaxPooling2D((2,2)) (img_1)\n",
    "    img_1 = Dropout(0.4)(img_1)\n",
    "#############################################################################################\n",
    "    img_1 = Conv2D(128, kernel_size = (3,3), activation=p_activation, padding='same')(img_1)\n",
    "    img_1 = BatchNormalization()(img_1)\n",
    "    img_1 = MaxPooling2D((2,2)) (img_1)\n",
    "    img_1 = Dropout(0.4)(img_1)\n",
    "#############################################################################################\n",
    "\n",
    "    img_1 = GlobalMaxPooling2D() (img_1)\n",
    "\n",
    "    dense_ayer = Dense(1024, activation=p_activation)(img_1)\n",
    "#     dense_ayer = BatchNormalization()(dense_ayer)\n",
    "    dense_ayer = Dropout(0.4)(dense_ayer)\n",
    "    dense_ayer = Dense(1024, activation=p_activation)(dense_ayer)\n",
    "    dense_ayer = Dropout(0.4)(dense_ayer)\n",
    "    dense_ayer = Dense(128, activation=p_activation)(dense_ayer)\n",
    "    dense_ayer = Dropout(0.4)(dense_ayer)\n",
    "    output = Dense(10, activation='softmax')(dense_ayer)\n",
    "\n",
    "    model = Model(input_1, output)\n",
    "    \n",
    "    model.compile(loss='categorical_crossentropy', optimizer = Adam(lr=1e-4), metrics=[\"accuracy\"])\n",
    "    return model"
   ]
  },
  {
   "cell_type": "code",
   "execution_count": 15,
   "metadata": {},
   "outputs": [
    {
     "name": "stdout",
     "output_type": "stream",
     "text": [
      "__________________________________________________________________________________________________\n",
      "Layer (type)                    Output Shape         Param #     Connected to                     \n",
      "==================================================================================================\n",
      "input (InputLayer)              (None, 28, 28, 1)    0                                            \n",
      "__________________________________________________________________________________________________\n",
      "conv2d_1 (Conv2D)               (None, 28, 28, 32)   64          input[0][0]                      \n",
      "__________________________________________________________________________________________________\n",
      "conv2d_2 (Conv2D)               (None, 28, 28, 32)   160         input[0][0]                      \n",
      "__________________________________________________________________________________________________\n",
      "conv2d_3 (Conv2D)               (None, 28, 28, 32)   320         input[0][0]                      \n",
      "__________________________________________________________________________________________________\n",
      "conv2d_4 (Conv2D)               (None, 28, 28, 32)   832         input[0][0]                      \n",
      "__________________________________________________________________________________________________\n",
      "batch_normalization_1 (BatchNor (None, 28, 28, 32)   128         conv2d_1[0][0]                   \n",
      "__________________________________________________________________________________________________\n",
      "batch_normalization_2 (BatchNor (None, 28, 28, 32)   128         conv2d_2[0][0]                   \n",
      "__________________________________________________________________________________________________\n",
      "batch_normalization_3 (BatchNor (None, 28, 28, 32)   128         conv2d_3[0][0]                   \n",
      "__________________________________________________________________________________________________\n",
      "batch_normalization_4 (BatchNor (None, 28, 28, 32)   128         conv2d_4[0][0]                   \n",
      "__________________________________________________________________________________________________\n",
      "max_pooling2d_1 (MaxPooling2D)  (None, 14, 14, 32)   0           batch_normalization_1[0][0]      \n",
      "__________________________________________________________________________________________________\n",
      "max_pooling2d_2 (MaxPooling2D)  (None, 14, 14, 32)   0           batch_normalization_2[0][0]      \n",
      "__________________________________________________________________________________________________\n",
      "max_pooling2d_3 (MaxPooling2D)  (None, 14, 14, 32)   0           batch_normalization_3[0][0]      \n",
      "__________________________________________________________________________________________________\n",
      "max_pooling2d_4 (MaxPooling2D)  (None, 14, 14, 32)   0           batch_normalization_4[0][0]      \n",
      "__________________________________________________________________________________________________\n",
      "dropout_1 (Dropout)             (None, 14, 14, 32)   0           max_pooling2d_1[0][0]            \n",
      "__________________________________________________________________________________________________\n",
      "dropout_2 (Dropout)             (None, 14, 14, 32)   0           max_pooling2d_2[0][0]            \n",
      "__________________________________________________________________________________________________\n",
      "dropout_3 (Dropout)             (None, 14, 14, 32)   0           max_pooling2d_3[0][0]            \n",
      "__________________________________________________________________________________________________\n",
      "dropout_4 (Dropout)             (None, 14, 14, 32)   0           max_pooling2d_4[0][0]            \n",
      "__________________________________________________________________________________________________\n",
      "concatenate_1 (Concatenate)     (None, 14, 14, 128)  0           dropout_1[0][0]                  \n",
      "                                                                 dropout_2[0][0]                  \n",
      "                                                                 dropout_3[0][0]                  \n",
      "                                                                 dropout_4[0][0]                  \n",
      "__________________________________________________________________________________________________\n",
      "conv2d_5 (Conv2D)               (None, 14, 14, 32)   4128        concatenate_1[0][0]              \n",
      "__________________________________________________________________________________________________\n",
      "conv2d_6 (Conv2D)               (None, 14, 14, 32)   16416       concatenate_1[0][0]              \n",
      "__________________________________________________________________________________________________\n",
      "conv2d_7 (Conv2D)               (None, 14, 14, 32)   36896       concatenate_1[0][0]              \n",
      "__________________________________________________________________________________________________\n",
      "conv2d_8 (Conv2D)               (None, 14, 14, 32)   102432      concatenate_1[0][0]              \n",
      "__________________________________________________________________________________________________\n",
      "batch_normalization_5 (BatchNor (None, 14, 14, 32)   128         conv2d_5[0][0]                   \n",
      "__________________________________________________________________________________________________\n",
      "batch_normalization_6 (BatchNor (None, 14, 14, 32)   128         conv2d_6[0][0]                   \n",
      "__________________________________________________________________________________________________\n",
      "batch_normalization_7 (BatchNor (None, 14, 14, 32)   128         conv2d_7[0][0]                   \n",
      "__________________________________________________________________________________________________\n",
      "batch_normalization_8 (BatchNor (None, 14, 14, 32)   128         conv2d_8[0][0]                   \n",
      "__________________________________________________________________________________________________\n",
      "max_pooling2d_5 (MaxPooling2D)  (None, 7, 7, 32)     0           batch_normalization_5[0][0]      \n",
      "__________________________________________________________________________________________________\n",
      "max_pooling2d_6 (MaxPooling2D)  (None, 7, 7, 32)     0           batch_normalization_6[0][0]      \n",
      "__________________________________________________________________________________________________\n",
      "max_pooling2d_7 (MaxPooling2D)  (None, 7, 7, 32)     0           batch_normalization_7[0][0]      \n",
      "__________________________________________________________________________________________________\n",
      "max_pooling2d_8 (MaxPooling2D)  (None, 7, 7, 32)     0           batch_normalization_8[0][0]      \n",
      "__________________________________________________________________________________________________\n",
      "dropout_5 (Dropout)             (None, 7, 7, 32)     0           max_pooling2d_5[0][0]            \n",
      "__________________________________________________________________________________________________\n",
      "dropout_6 (Dropout)             (None, 7, 7, 32)     0           max_pooling2d_6[0][0]            \n",
      "__________________________________________________________________________________________________\n",
      "dropout_7 (Dropout)             (None, 7, 7, 32)     0           max_pooling2d_7[0][0]            \n",
      "__________________________________________________________________________________________________\n",
      "dropout_8 (Dropout)             (None, 7, 7, 32)     0           max_pooling2d_8[0][0]            \n",
      "__________________________________________________________________________________________________\n",
      "concatenate_2 (Concatenate)     (None, 7, 7, 128)    0           dropout_5[0][0]                  \n",
      "                                                                 dropout_6[0][0]                  \n",
      "                                                                 dropout_7[0][0]                  \n",
      "                                                                 dropout_8[0][0]                  \n",
      "__________________________________________________________________________________________________\n",
      "conv2d_9 (Conv2D)               (None, 7, 7, 64)     73792       concatenate_2[0][0]              \n",
      "__________________________________________________________________________________________________\n",
      "batch_normalization_9 (BatchNor (None, 7, 7, 64)     256         conv2d_9[0][0]                   \n",
      "__________________________________________________________________________________________________\n",
      "max_pooling2d_9 (MaxPooling2D)  (None, 3, 3, 64)     0           batch_normalization_9[0][0]      \n",
      "__________________________________________________________________________________________________\n",
      "dropout_9 (Dropout)             (None, 3, 3, 64)     0           max_pooling2d_9[0][0]            \n",
      "__________________________________________________________________________________________________\n",
      "conv2d_10 (Conv2D)              (None, 3, 3, 128)    73856       dropout_9[0][0]                  \n",
      "__________________________________________________________________________________________________\n",
      "batch_normalization_10 (BatchNo (None, 3, 3, 128)    512         conv2d_10[0][0]                  \n",
      "__________________________________________________________________________________________________\n",
      "max_pooling2d_10 (MaxPooling2D) (None, 1, 1, 128)    0           batch_normalization_10[0][0]     \n",
      "__________________________________________________________________________________________________\n",
      "dropout_10 (Dropout)            (None, 1, 1, 128)    0           max_pooling2d_10[0][0]           \n",
      "__________________________________________________________________________________________________\n",
      "global_max_pooling2d_1 (GlobalM (None, 128)          0           dropout_10[0][0]                 \n",
      "__________________________________________________________________________________________________\n",
      "dense_1 (Dense)                 (None, 1024)         132096      global_max_pooling2d_1[0][0]     \n",
      "__________________________________________________________________________________________________\n",
      "dropout_11 (Dropout)            (None, 1024)         0           dense_1[0][0]                    \n",
      "__________________________________________________________________________________________________\n",
      "dense_2 (Dense)                 (None, 1024)         1049600     dropout_11[0][0]                 \n",
      "__________________________________________________________________________________________________\n",
      "dropout_12 (Dropout)            (None, 1024)         0           dense_2[0][0]                    \n",
      "__________________________________________________________________________________________________\n",
      "dense_3 (Dense)                 (None, 128)          131200      dropout_12[0][0]                 \n",
      "__________________________________________________________________________________________________\n",
      "dropout_13 (Dropout)            (None, 128)          0           dense_3[0][0]                    \n",
      "__________________________________________________________________________________________________\n",
      "dense_4 (Dense)                 (None, 10)           1290        dropout_13[0][0]                 \n",
      "==================================================================================================\n",
      "Total params: 1,624,874\n",
      "Trainable params: 1,623,978\n",
      "Non-trainable params: 896\n",
      "__________________________________________________________________________________________________\n"
     ]
    }
   ],
   "source": [
    "model = build_model()\n",
    "model.summary()"
   ]
  },
  {
   "cell_type": "code",
   "execution_count": 16,
   "metadata": {},
   "outputs": [],
   "source": [
    "def saveModel(model, run_name):\n",
    "    cwd = os.getcwd()\n",
    "    modelPath = os.path.join(cwd, 'model')\n",
    "    if not os.path.isdir(modelPath):\n",
    "        os.mkdir(modelPath)\n",
    "    weigthsFile = os.path.join(modelPath, run_name + '.h5')\n",
    "    model.save(weigthsFile)\n",
    "# saveModel(model, 'saveModel_test')"
   ]
  },
  {
   "cell_type": "code",
   "execution_count": 17,
   "metadata": {},
   "outputs": [
    {
     "name": "stdout",
     "output_type": "stream",
     "text": [
      "log_dir:D:\\Kaggle\\digit-recognizer\\log\\SC_Iceberg_Classifier_CNN_3channel_Inception_20180107_213105\n"
     ]
    }
   ],
   "source": [
    "def get_lr(x):\n",
    "    lr = round(1e-4 * 0.995 ** x, 6)\n",
    "    if lr < 5e-5:\n",
    "        lr = 5e-5\n",
    "    print(lr, end='  ')\n",
    "    return lr\n",
    "\n",
    "# annealer = LearningRateScheduler(lambda x: 1e-3 * 0.9 ** x)\n",
    "annealer = LearningRateScheduler(get_lr)\n",
    "\n",
    "log_dir = os.path.join(log_path, run_name)\n",
    "print('log_dir:' + log_dir)\n",
    "tensorBoard = TensorBoard(log_dir=log_dir)"
   ]
  },
  {
   "cell_type": "code",
   "execution_count": 18,
   "metadata": {},
   "outputs": [],
   "source": [
    "datagen = ImageDataGenerator(\n",
    "    zoom_range = 0.2,\n",
    "    rotation_range = 20,\n",
    "    height_shift_range = 0.2,\n",
    "    width_shift_range = 0.2\n",
    ")"
   ]
  },
  {
   "cell_type": "code",
   "execution_count": 19,
   "metadata": {},
   "outputs": [
    {
     "name": "stdout",
     "output_type": "stream",
     "text": [
      "0.0001  Epoch 1/100\n",
      "100/100 [==============================] - 30s 303ms/step - loss: 2.4808 - acc: 0.0988 - val_loss: 2.2961 - val_acc: 0.1400\n",
      "0.0001  Epoch 2/100\n",
      "100/100 [==============================] - 28s 277ms/step - loss: 2.3275 - acc: 0.1133 - val_loss: 2.2950 - val_acc: 0.1400\n",
      "9.9e-05  Epoch 3/100\n",
      "100/100 [==============================] - 28s 280ms/step - loss: 2.3097 - acc: 0.1204 - val_loss: 2.3028 - val_acc: 0.1400\n",
      "9.9e-05  Epoch 4/100\n",
      "100/100 [==============================] - 28s 278ms/step - loss: 2.2847 - acc: 0.1425 - val_loss: 2.4539 - val_acc: 0.1400\n",
      "9.8e-05  Epoch 5/100\n",
      "100/100 [==============================] - 28s 279ms/step - loss: 2.2422 - acc: 0.1689 - val_loss: 2.9670 - val_acc: 0.1400\n",
      "9.8e-05  Epoch 6/100\n",
      "100/100 [==============================] - 28s 276ms/step - loss: 2.1831 - acc: 0.1864 - val_loss: 3.3323 - val_acc: 0.1400\n",
      "9.7e-05  Epoch 7/100\n",
      "100/100 [==============================] - 28s 278ms/step - loss: 2.1364 - acc: 0.2020 - val_loss: 2.9779 - val_acc: 0.1400\n",
      "9.7e-05  Epoch 8/100\n",
      "100/100 [==============================] - 28s 284ms/step - loss: 2.1017 - acc: 0.2147 - val_loss: 2.3684 - val_acc: 0.1550\n",
      "9.6e-05  Epoch 9/100\n",
      "100/100 [==============================] - 30s 295ms/step - loss: 2.0721 - acc: 0.2095 - val_loss: 2.1961 - val_acc: 0.2125\n",
      "9.6e-05  Epoch 10/100\n",
      "100/100 [==============================] - 28s 280ms/step - loss: 2.0326 - acc: 0.2308 - val_loss: 3.3370 - val_acc: 0.1750\n",
      "9.5e-05  Epoch 11/100\n",
      "100/100 [==============================] - 28s 281ms/step - loss: 2.0107 - acc: 0.2442 - val_loss: 2.7851 - val_acc: 0.2325\n",
      "9.5e-05  Epoch 12/100\n",
      "100/100 [==============================] - 28s 281ms/step - loss: 1.9936 - acc: 0.2464 - val_loss: 2.8055 - val_acc: 0.2525\n",
      "9.4e-05  Epoch 13/100\n",
      "100/100 [==============================] - 29s 288ms/step - loss: 1.9365 - acc: 0.2712 - val_loss: 2.7961 - val_acc: 0.2875\n",
      "9.4e-05  Epoch 14/100\n",
      "100/100 [==============================] - 28s 284ms/step - loss: 1.8916 - acc: 0.2822 - val_loss: 4.2507 - val_acc: 0.1925\n",
      "9.3e-05  Epoch 15/100\n",
      "100/100 [==============================] - 28s 284ms/step - loss: 1.8490 - acc: 0.2991 - val_loss: 2.2325 - val_acc: 0.3625\n",
      "9.3e-05  Epoch 16/100\n",
      "100/100 [==============================] - 28s 282ms/step - loss: 1.7873 - acc: 0.3345 - val_loss: 2.2120 - val_acc: 0.3425\n",
      "9.2e-05  Epoch 17/100\n",
      "100/100 [==============================] - 29s 288ms/step - loss: 1.7246 - acc: 0.3594 - val_loss: 2.3421 - val_acc: 0.3800\n",
      "9.2e-05  Epoch 18/100\n",
      "100/100 [==============================] - 32s 317ms/step - loss: 1.6154 - acc: 0.4064 - val_loss: 2.3377 - val_acc: 0.4175\n",
      "9.1e-05  Epoch 19/100\n",
      "100/100 [==============================] - 29s 295ms/step - loss: 1.5667 - acc: 0.4266 - val_loss: 1.6597 - val_acc: 0.5250\n",
      "9.1e-05  Epoch 20/100\n",
      "100/100 [==============================] - 28s 281ms/step - loss: 1.4876 - acc: 0.4581 - val_loss: 0.9936 - val_acc: 0.6700\n",
      "9e-05  Epoch 21/100\n",
      "100/100 [==============================] - 28s 278ms/step - loss: 1.4095 - acc: 0.4858 - val_loss: 0.9795 - val_acc: 0.6825\n",
      "9e-05  Epoch 22/100\n",
      "100/100 [==============================] - 28s 283ms/step - loss: 1.3303 - acc: 0.5245 - val_loss: 0.8180 - val_acc: 0.7475\n",
      "9e-05  Epoch 23/100\n",
      "100/100 [==============================] - 28s 281ms/step - loss: 1.2404 - acc: 0.5661 - val_loss: 0.8325 - val_acc: 0.7275\n",
      "8.9e-05  Epoch 24/100\n",
      "100/100 [==============================] - 28s 280ms/step - loss: 1.2002 - acc: 0.5778 - val_loss: 0.9080 - val_acc: 0.7450\n",
      "8.9e-05  Epoch 25/100\n",
      "100/100 [==============================] - 28s 279ms/step - loss: 1.1177 - acc: 0.6192 - val_loss: 0.6501 - val_acc: 0.8325\n",
      "8.8e-05  Epoch 26/100\n",
      "100/100 [==============================] - 28s 279ms/step - loss: 1.0566 - acc: 0.6404 - val_loss: 0.5291 - val_acc: 0.8575\n",
      "8.8e-05  Epoch 27/100\n",
      "100/100 [==============================] - 28s 279ms/step - loss: 1.0560 - acc: 0.6605 - val_loss: 0.4295 - val_acc: 0.8875\n",
      "8.7e-05  Epoch 28/100\n",
      "100/100 [==============================] - 28s 278ms/step - loss: 0.9808 - acc: 0.6737 - val_loss: 0.4159 - val_acc: 0.8875\n",
      "8.7e-05  Epoch 29/100\n",
      "100/100 [==============================] - 28s 277ms/step - loss: 0.9117 - acc: 0.6995 - val_loss: 0.3870 - val_acc: 0.8950\n",
      "8.6e-05  Epoch 30/100\n",
      "100/100 [==============================] - 28s 280ms/step - loss: 0.9071 - acc: 0.7114 - val_loss: 0.3982 - val_acc: 0.8950\n",
      "8.6e-05  Epoch 31/100\n",
      "100/100 [==============================] - 28s 282ms/step - loss: 0.8892 - acc: 0.7219 - val_loss: 0.3459 - val_acc: 0.9150\n",
      "8.6e-05  Epoch 32/100\n",
      "100/100 [==============================] - 28s 282ms/step - loss: 0.8399 - acc: 0.7373 - val_loss: 0.3333 - val_acc: 0.9100\n",
      "8.5e-05  Epoch 33/100\n",
      "100/100 [==============================] - 28s 279ms/step - loss: 0.8057 - acc: 0.7528 - val_loss: 0.2751 - val_acc: 0.9200\n",
      "8.5e-05  Epoch 34/100\n",
      "100/100 [==============================] - 28s 281ms/step - loss: 0.7847 - acc: 0.7527 - val_loss: 0.3120 - val_acc: 0.9075\n",
      "8.4e-05  Epoch 35/100\n",
      "100/100 [==============================] - 28s 282ms/step - loss: 0.7374 - acc: 0.7687 - val_loss: 0.2589 - val_acc: 0.9200\n",
      "8.4e-05  Epoch 36/100\n",
      "100/100 [==============================] - 28s 280ms/step - loss: 0.7271 - acc: 0.7750 - val_loss: 0.2830 - val_acc: 0.9200\n",
      "8.3e-05  Epoch 37/100\n",
      "100/100 [==============================] - 29s 287ms/step - loss: 0.7338 - acc: 0.7642 - val_loss: 0.1881 - val_acc: 0.9450\n",
      "8.3e-05  Epoch 38/100\n",
      "100/100 [==============================] - 29s 289ms/step - loss: 0.6942 - acc: 0.7817 - val_loss: 0.1981 - val_acc: 0.9325\n",
      "8.3e-05  Epoch 39/100\n",
      "100/100 [==============================] - 28s 281ms/step - loss: 0.6653 - acc: 0.7998 - val_loss: 0.1600 - val_acc: 0.9575\n",
      "8.2e-05  Epoch 40/100\n",
      "100/100 [==============================] - 29s 285ms/step - loss: 0.6745 - acc: 0.7917 - val_loss: 0.2641 - val_acc: 0.9375\n",
      "8.2e-05  Epoch 41/100\n",
      "100/100 [==============================] - 28s 281ms/step - loss: 0.6316 - acc: 0.8058 - val_loss: 0.1817 - val_acc: 0.9425\n",
      "8.1e-05  Epoch 42/100\n",
      "100/100 [==============================] - 28s 279ms/step - loss: 0.6243 - acc: 0.8094 - val_loss: 0.2570 - val_acc: 0.9275\n",
      "8.1e-05  Epoch 43/100\n",
      "100/100 [==============================] - 28s 276ms/step - loss: 0.6047 - acc: 0.8121 - val_loss: 0.2039 - val_acc: 0.9400\n",
      "8.1e-05  Epoch 44/100\n",
      "100/100 [==============================] - 28s 278ms/step - loss: 0.6105 - acc: 0.8117 - val_loss: 0.2572 - val_acc: 0.9150\n",
      "8e-05  Epoch 45/100\n",
      "100/100 [==============================] - 28s 277ms/step - loss: 0.6022 - acc: 0.8144 - val_loss: 0.1706 - val_acc: 0.9550\n",
      "8e-05  Epoch 46/100\n",
      "100/100 [==============================] - 28s 280ms/step - loss: 0.5796 - acc: 0.8248 - val_loss: 0.3302 - val_acc: 0.8925\n",
      "7.9e-05  Epoch 47/100\n",
      "100/100 [==============================] - 28s 282ms/step - loss: 0.5690 - acc: 0.8300 - val_loss: 0.1661 - val_acc: 0.9525\n",
      "7.9e-05  Epoch 48/100\n",
      "100/100 [==============================] - 31s 306ms/step - loss: 0.5559 - acc: 0.8295 - val_loss: 0.1672 - val_acc: 0.9525\n",
      "7.9e-05  Epoch 49/100\n",
      "100/100 [==============================] - 29s 291ms/step - loss: 0.5739 - acc: 0.8285 - val_loss: 0.1628 - val_acc: 0.9600\n",
      "7.8e-05  Epoch 50/100\n",
      "100/100 [==============================] - 29s 293ms/step - loss: 0.5316 - acc: 0.8366 - val_loss: 0.1198 - val_acc: 0.9675\n",
      "7.8e-05  Epoch 51/100\n",
      "100/100 [==============================] - 29s 288ms/step - loss: 0.5261 - acc: 0.8413 - val_loss: 0.1365 - val_acc: 0.9625\n",
      "7.7e-05  Epoch 52/100\n",
      "100/100 [==============================] - 28s 282ms/step - loss: 0.5370 - acc: 0.8420 - val_loss: 0.1265 - val_acc: 0.9600\n",
      "7.7e-05  Epoch 53/100\n",
      "100/100 [==============================] - 28s 284ms/step - loss: 0.5242 - acc: 0.8397 - val_loss: 0.1924 - val_acc: 0.9425\n",
      "7.7e-05  Epoch 54/100\n",
      "100/100 [==============================] - 28s 283ms/step - loss: 0.4909 - acc: 0.8477 - val_loss: 0.1831 - val_acc: 0.9475\n",
      "7.6e-05  Epoch 55/100\n",
      "100/100 [==============================] - 28s 280ms/step - loss: 0.4915 - acc: 0.8585 - val_loss: 0.1352 - val_acc: 0.9575\n",
      "7.6e-05  Epoch 56/100\n",
      "100/100 [==============================] - 28s 282ms/step - loss: 0.5343 - acc: 0.8398 - val_loss: 0.1214 - val_acc: 0.9600\n",
      "7.6e-05  Epoch 57/100\n"
     ]
    },
    {
     "name": "stdout",
     "output_type": "stream",
     "text": [
      "100/100 [==============================] - 28s 284ms/step - loss: 0.4844 - acc: 0.8574 - val_loss: 0.2299 - val_acc: 0.9450\n",
      "7.5e-05  Epoch 58/100\n",
      "100/100 [==============================] - 28s 278ms/step - loss: 0.4840 - acc: 0.8509 - val_loss: 0.1537 - val_acc: 0.9575\n",
      "7.5e-05  Epoch 59/100\n",
      "100/100 [==============================] - 28s 282ms/step - loss: 0.4722 - acc: 0.8572 - val_loss: 0.1847 - val_acc: 0.9525\n",
      "7.4e-05  Epoch 60/100\n",
      "100/100 [==============================] - 28s 282ms/step - loss: 0.4476 - acc: 0.8653 - val_loss: 0.1291 - val_acc: 0.9600\n",
      "7.4e-05  Epoch 61/100\n",
      "100/100 [==============================] - 28s 278ms/step - loss: 0.4674 - acc: 0.8559 - val_loss: 0.2660 - val_acc: 0.9175\n",
      "7.4e-05  Epoch 62/100\n",
      "100/100 [==============================] - 28s 279ms/step - loss: 0.4596 - acc: 0.8583 - val_loss: 0.1264 - val_acc: 0.9650\n",
      "7.3e-05  Epoch 63/100\n",
      "100/100 [==============================] - 29s 292ms/step - loss: 0.4338 - acc: 0.8702 - val_loss: 0.1281 - val_acc: 0.9550\n",
      "7.3e-05  Epoch 64/100\n",
      "100/100 [==============================] - 29s 287ms/step - loss: 0.4713 - acc: 0.8605 - val_loss: 0.1115 - val_acc: 0.9650\n",
      "7.3e-05  Epoch 65/100\n",
      "100/100 [==============================] - 29s 294ms/step - loss: 0.4529 - acc: 0.8641 - val_loss: 0.1309 - val_acc: 0.9525\n",
      "7.2e-05  Epoch 66/100\n",
      "100/100 [==============================] - 28s 283ms/step - loss: 0.4316 - acc: 0.8716 - val_loss: 0.1167 - val_acc: 0.9650\n",
      "7.2e-05  Epoch 67/100\n",
      "100/100 [==============================] - 28s 282ms/step - loss: 0.4314 - acc: 0.8681 - val_loss: 0.1096 - val_acc: 0.9750\n",
      "7.1e-05  Epoch 68/100\n",
      "100/100 [==============================] - 28s 283ms/step - loss: 0.4282 - acc: 0.8747 - val_loss: 0.1931 - val_acc: 0.9450\n",
      "7.1e-05  Epoch 69/100\n",
      "100/100 [==============================] - 28s 285ms/step - loss: 0.4342 - acc: 0.8690 - val_loss: 0.1478 - val_acc: 0.9650\n",
      "7.1e-05  Epoch 70/100\n",
      "100/100 [==============================] - 28s 283ms/step - loss: 0.4593 - acc: 0.8658 - val_loss: 0.1652 - val_acc: 0.9450\n",
      "7e-05  Epoch 71/100\n",
      "100/100 [==============================] - 28s 283ms/step - loss: 0.4181 - acc: 0.8761 - val_loss: 0.1826 - val_acc: 0.9450\n",
      "7e-05  Epoch 72/100\n",
      "100/100 [==============================] - 28s 277ms/step - loss: 0.4194 - acc: 0.8805 - val_loss: 0.1233 - val_acc: 0.9625\n",
      "7e-05  Epoch 73/100\n",
      "100/100 [==============================] - 28s 277ms/step - loss: 0.3985 - acc: 0.8798 - val_loss: 0.1347 - val_acc: 0.9600\n",
      "6.9e-05  Epoch 74/100\n",
      "100/100 [==============================] - 28s 277ms/step - loss: 0.4096 - acc: 0.8758 - val_loss: 0.1617 - val_acc: 0.9575\n",
      "6.9e-05  Epoch 75/100\n",
      "100/100 [==============================] - 28s 281ms/step - loss: 0.3988 - acc: 0.8820 - val_loss: 0.0951 - val_acc: 0.9700\n",
      "6.9e-05  Epoch 76/100\n",
      "100/100 [==============================] - 28s 277ms/step - loss: 0.4138 - acc: 0.8816 - val_loss: 0.8844 - val_acc: 0.7125\n",
      "6.8e-05  Epoch 77/100\n",
      "100/100 [==============================] - 28s 278ms/step - loss: 0.4226 - acc: 0.8772 - val_loss: 0.4872 - val_acc: 0.8325\n",
      "6.8e-05  Epoch 78/100\n",
      "100/100 [==============================] - 28s 277ms/step - loss: 0.3802 - acc: 0.8839 - val_loss: 0.4523 - val_acc: 0.8500\n",
      "6.8e-05  Epoch 79/100\n",
      "100/100 [==============================] - 28s 279ms/step - loss: 0.3689 - acc: 0.8933 - val_loss: 0.1229 - val_acc: 0.9550\n",
      "6.7e-05  Epoch 80/100\n",
      "100/100 [==============================] - 28s 277ms/step - loss: 0.3908 - acc: 0.8815 - val_loss: 0.0738 - val_acc: 0.9775\n",
      "6.7e-05  Epoch 81/100\n",
      "100/100 [==============================] - 28s 277ms/step - loss: 0.3918 - acc: 0.8809 - val_loss: 0.3114 - val_acc: 0.9150\n",
      "6.7e-05  Epoch 82/100\n",
      "100/100 [==============================] - 28s 280ms/step - loss: 0.3753 - acc: 0.8875 - val_loss: 0.1146 - val_acc: 0.9625\n",
      "6.6e-05  Epoch 83/100\n",
      "100/100 [==============================] - 28s 280ms/step - loss: 0.3858 - acc: 0.8872 - val_loss: 0.0752 - val_acc: 0.9750\n",
      "6.6e-05  Epoch 84/100\n",
      "100/100 [==============================] - 28s 277ms/step - loss: 0.3801 - acc: 0.8898 - val_loss: 0.0991 - val_acc: 0.9700\n",
      "6.6e-05  Epoch 85/100\n",
      "100/100 [==============================] - 28s 278ms/step - loss: 0.3804 - acc: 0.8895 - val_loss: 0.0868 - val_acc: 0.9800\n",
      "6.5e-05  Epoch 86/100\n",
      "100/100 [==============================] - 28s 280ms/step - loss: 0.3770 - acc: 0.8908 - val_loss: 0.0884 - val_acc: 0.9775\n",
      "6.5e-05  Epoch 87/100\n",
      "100/100 [==============================] - 27s 275ms/step - loss: 0.3613 - acc: 0.8929 - val_loss: 1.2089 - val_acc: 0.6125\n",
      "6.5e-05  Epoch 88/100\n",
      "100/100 [==============================] - 28s 277ms/step - loss: 0.3785 - acc: 0.8881 - val_loss: 0.1328 - val_acc: 0.9700\n",
      "6.4e-05  Epoch 89/100\n",
      "100/100 [==============================] - 28s 276ms/step - loss: 0.3600 - acc: 0.8959 - val_loss: 0.2012 - val_acc: 0.9350\n",
      "6.4e-05  Epoch 90/100\n",
      "100/100 [==============================] - 28s 276ms/step - loss: 0.3593 - acc: 0.8964 - val_loss: 0.2019 - val_acc: 0.9400\n",
      "6.4e-05  Epoch 91/100\n",
      "100/100 [==============================] - 28s 275ms/step - loss: 0.3636 - acc: 0.8920 - val_loss: 0.1932 - val_acc: 0.9525\n",
      "6.3e-05  Epoch 92/100\n",
      "100/100 [==============================] - 28s 276ms/step - loss: 0.3656 - acc: 0.8945 - val_loss: 0.2464 - val_acc: 0.9150\n",
      "6.3e-05  Epoch 93/100\n",
      "100/100 [==============================] - 28s 277ms/step - loss: 0.3375 - acc: 0.9009 - val_loss: 0.2127 - val_acc: 0.9325\n",
      "6.3e-05  Epoch 94/100\n",
      "100/100 [==============================] - 28s 278ms/step - loss: 0.3361 - acc: 0.8966 - val_loss: 0.0689 - val_acc: 0.9775\n",
      "6.2e-05  Epoch 95/100\n",
      "100/100 [==============================] - 28s 275ms/step - loss: 0.3568 - acc: 0.8996 - val_loss: 0.1050 - val_acc: 0.9725\n",
      "6.2e-05  Epoch 96/100\n",
      "100/100 [==============================] - 28s 276ms/step - loss: 0.3352 - acc: 0.8980 - val_loss: 0.1229 - val_acc: 0.9750\n",
      "6.2e-05  Epoch 97/100\n",
      "100/100 [==============================] - 28s 277ms/step - loss: 0.3523 - acc: 0.8969 - val_loss: 0.0872 - val_acc: 0.9775\n",
      "6.1e-05  Epoch 98/100\n",
      "100/100 [==============================] - 28s 276ms/step - loss: 0.3473 - acc: 0.9000 - val_loss: 0.1093 - val_acc: 0.9700\n",
      "6.1e-05  Epoch 99/100\n",
      "100/100 [==============================] - 28s 276ms/step - loss: 0.3305 - acc: 0.9055 - val_loss: 0.9427 - val_acc: 0.7200\n",
      "6.1e-05  Epoch 100/100\n",
      "100/100 [==============================] - 28s 277ms/step - loss: 0.3579 - acc: 0.8958 - val_loss: 0.1377 - val_acc: 0.9600\n",
      "Wall time: 47min 10s\n"
     ]
    }
   ],
   "source": [
    "%%time\n",
    "hist = model.fit_generator(\n",
    "    datagen.flow(x_train, y_train, batch_size=64, seed=2017),\n",
    "    steps_per_epoch=100,\n",
    "    epochs=100, #Increase this when not on Kaggle kernel\n",
    "    verbose=1,  #1 for ETA, 0 for silent\n",
    "    callbacks=[annealer],\n",
    "    max_queue_size= 64,\n",
    "    workers= 16,\n",
    "    validation_data=(x_val[:400,:], y_val[:400,:])\n",
    ")"
   ]
  },
  {
   "cell_type": "code",
   "execution_count": 20,
   "metadata": {},
   "outputs": [
    {
     "name": "stdout",
     "output_type": "stream",
     "text": [
      "Final loss: 0.1669, final accuracy: 0.9457\n"
     ]
    }
   ],
   "source": [
    "final_loss, final_acc = model.evaluate(x_val, y_val, verbose=0)\n",
    "print(\"Final loss: {0:.4f}, final accuracy: {1:.4f}\".format(final_loss, final_acc))"
   ]
  },
  {
   "cell_type": "code",
   "execution_count": 21,
   "metadata": {},
   "outputs": [
    {
     "name": "stdout",
     "output_type": "stream",
     "text": [
      "SC_Iceberg_Classifier_CNN_3channel_Inception_20180107_213105_9457\n"
     ]
    }
   ],
   "source": [
    "final_acc_str = '{0:0>4}'.format(int(final_acc*10000))\n",
    "run_name_acc = project_name + '_' + step_name + '_' + time_str + '_' + final_acc_str\n",
    "print(run_name_acc)"
   ]
  },
  {
   "cell_type": "code",
   "execution_count": 22,
   "metadata": {},
   "outputs": [
    {
     "name": "stdout",
     "output_type": "stream",
     "text": [
      "Index(['acc', 'loss', 'val_acc', 'val_loss', 'epoch'], dtype='object')\n"
     ]
    }
   ],
   "source": [
    "histories = pd.DataFrame(hist.history)\n",
    "histories['epoch'] = hist.epoch\n",
    "print(histories.columns)\n",
    "histories_file = os.path.join(model_path, run_name_acc + '.csv')\n",
    "histories.to_csv(histories_file, index=False)"
   ]
  },
  {
   "cell_type": "code",
   "execution_count": 23,
   "metadata": {},
   "outputs": [
    {
     "data": {
      "image/png": "[encoded data removed]",
      "text/plain": [
       "<matplotlib.figure.Figure at 0x1eb5ec4f198>"
      ]
     },
     "metadata": {},
     "output_type": "display_data"
    },
    {
     "data": {
      "image/png": "[encoded data removed]",
      "text/plain": [
       "<matplotlib.figure.Figure at 0x1eb60b9f0f0>"
      ]
     },
     "metadata": {},
     "output_type": "display_data"
    }
   ],
   "source": [
    "plt.plot(hist.history['loss'], color='b')\n",
    "plt.plot(hist.history['val_loss'], color='r')\n",
    "plt.show()\n",
    "plt.plot(hist.history['acc'], color='b')\n",
    "plt.plot(hist.history['val_acc'], color='r')\n",
    "plt.show()"
   ]
  },
  {
   "cell_type": "code",
   "execution_count": 24,
   "metadata": {},
   "outputs": [],
   "source": [
    "saveModel(model, run_name_acc)"
   ]
  },
  {
   "cell_type": "code",
   "execution_count": 25,
   "metadata": {},
   "outputs": [
    {
     "name": "stdout",
     "output_type": "stream",
     "text": [
      "[[210   0   0   0   0   0   4   0   0   0]\n",
      " [  0 236   0   0   6   0   5   1   0   0]\n",
      " [  0   0 203   0   0   0   1   1  16   0]\n",
      " [  1   0   0 169   0   0   0   4  12   1]\n",
      " [  0   0   0   0 222   0   3   0   0   4]\n",
      " [  0   0   0   2   1 165   8   0  16   5]\n",
      " [  0   0   0   0   0   0 197   0   0   0]\n",
      " [  0   0   1   0   1   0   0 179   1   6]\n",
      " [  0   0   0   0   0   0   2   0 208   1]\n",
      " [  0   0   0   2   4   0   0   0   5 197]]\n"
     ]
    }
   ],
   "source": [
    "y_hat = model.predict(x_val)\n",
    "y_pred = np.argmax(y_hat, axis=1)\n",
    "y_true = np.argmax(y_val, axis=1)\n",
    "cm = confusion_matrix(y_true, y_pred)\n",
    "print(cm)"
   ]
  },
  {
   "cell_type": "code",
   "execution_count": null,
   "metadata": {},
   "outputs": [],
   "source": []
  },
  {
   "cell_type": "markdown",
   "metadata": {},
   "source": [
    "## Predict"
   ]
  },
  {
   "cell_type": "code",
   "execution_count": 26,
   "metadata": {},
   "outputs": [
    {
     "name": "stdout",
     "output_type": "stream",
     "text": [
      "D:\\Kaggle\\digit-recognizer\\output\\SC_Iceberg_Classifier_CNN_3channel_Inception_20180107_213105_9457.csv\n"
     ]
    }
   ],
   "source": [
    "if not os.path.exists(output_path):\n",
    "    os.mkdir(output_path)\n",
    "pred_file = os.path.join(output_path, run_name_acc + '.csv')\n",
    "print(pred_file)"
   ]
  },
  {
   "cell_type": "code",
   "execution_count": 27,
   "metadata": {},
   "outputs": [],
   "source": [
    "y_hat = model.predict(x_test, batch_size=64)"
   ]
  },
  {
   "cell_type": "code",
   "execution_count": 28,
   "metadata": {},
   "outputs": [],
   "source": [
    "y_pred = np.argmax(y_hat,axis=1)"
   ]
  },
  {
   "cell_type": "code",
   "execution_count": 29,
   "metadata": {},
   "outputs": [],
   "source": [
    "with open(pred_file, 'w') as f :\n",
    "    f.write('ImageId,Label\\n')\n",
    "    for i in range(len(y_pred)) :\n",
    "        f.write(\"\".join([str(i+1),',',str(y_pred[i]),'\\n']))"
   ]
  },
  {
   "cell_type": "code",
   "execution_count": 30,
   "metadata": {},
   "outputs": [
    {
     "name": "stdout",
     "output_type": "stream",
     "text": [
      "time cost: 2919.74 s\n",
      "Done!\n"
     ]
    }
   ],
   "source": [
    "t1 = time.time()\n",
    "print('time cost: %.2f s' % (t1-t0))\n",
    "print('Done!')"
   ]
  },
  {
   "cell_type": "code",
   "execution_count": 31,
   "metadata": {},
   "outputs": [
    {
     "name": "stdout",
     "output_type": "stream",
     "text": [
      "SC_Iceberg_Classifier_CNN_3channel_Inception_20180107_213105_9457\n"
     ]
    }
   ],
   "source": [
    "print(run_name_acc)"
   ]
  },
  {
   "cell_type": "code",
   "execution_count": null,
   "metadata": {},
   "outputs": [],
   "source": []
  }
 ],
 "metadata": {
  "kernelspec": {
   "display_name": "Python 3",
   "language": "python",
   "name": "python3"
  },
  "language_info": {
   "codemirror_mode": {
    "name": "ipython",
    "version": 3
   },
   "file_extension": ".py",
   "mimetype": "text/x-python",
   "name": "python",
   "nbconvert_exporter": "python",
   "pygments_lexer": "ipython3",
   "version": "3.6.3"
  }
 },
 "nbformat": 4,
 "nbformat_minor": 2
}
