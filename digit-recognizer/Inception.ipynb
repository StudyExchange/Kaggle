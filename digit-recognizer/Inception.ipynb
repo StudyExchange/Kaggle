{
 "cells": [
  {
   "cell_type": "markdown",
   "metadata": {},
   "source": [
    "# Inception\n",
    "\n",
    "### Kaggle score: --\n",
    "\n",
    "### References:\n",
    "1. https://www.kaggle.com/toregil/welcome-to-deep-learning-cnn-99"
   ]
  },
  {
   "cell_type": "code",
   "execution_count": 1,
   "metadata": {
    "collapsed": true
   },
   "outputs": [],
   "source": [
    "import numpy as np\n",
    "import pandas as pd\n",
    "from sklearn.model_selection import train_test_split\n",
    "from sklearn.metrics import confusion_matrix\n",
    "\n",
    "import matplotlib.pyplot as plt\n",
    "%matplotlib inline"
   ]
  },
  {
   "cell_type": "code",
   "execution_count": 2,
   "metadata": {
    "collapsed": true
   },
   "outputs": [],
   "source": [
    "import os\n",
    "import time\n",
    "import zipfile\n",
    "import lzma\n",
    "import pickle\n",
    "from PIL import Image\n",
    "from shutil import copy2\n",
    "import gc\n",
    "\n",
    "import cv2"
   ]
  },
  {
   "cell_type": "markdown",
   "metadata": {},
   "source": [
    "### Run name"
   ]
  },
  {
   "cell_type": "code",
   "execution_count": 3,
   "metadata": {},
   "outputs": [
    {
     "name": "stdout",
     "output_type": "stream",
     "text": [
      "run_name: Digit_Recognizer_Inception_20180113_164926\n"
     ]
    }
   ],
   "source": [
    "project_name = 'Digit_Recognizer'\n",
    "step_name = 'Inception'\n",
    "date_str = time.strftime(\"%Y%m%d\", time.localtime())\n",
    "time_str = time.strftime(\"%Y%m%d_%H%M%S\", time.localtime())\n",
    "run_name = project_name + '_' + step_name + '_' + time_str\n",
    "print('run_name: ' + run_name)\n",
    "t0 = time.time()"
   ]
  },
  {
   "cell_type": "markdown",
   "metadata": {},
   "source": [
    "### Basic folders"
   ]
  },
  {
   "cell_type": "code",
   "execution_count": 4,
   "metadata": {},
   "outputs": [
    {
     "name": "stdout",
     "output_type": "stream",
     "text": [
      "input_path: D:\\ref\\Kaggle\\digit-recognizer\\input\n",
      "log_path: D:\\ref\\Kaggle\\digit-recognizer\\log\n",
      "model_path: D:\\ref\\Kaggle\\digit-recognizer\\model\n",
      "output_path: D:\\ref\\Kaggle\\digit-recognizer\\output\n"
     ]
    }
   ],
   "source": [
    "cwd = os.getcwd()\n",
    "input_path = os.path.join(cwd, 'input')\n",
    "log_path = os.path.join(cwd, 'log')\n",
    "model_path = os.path.join(cwd, 'model')\n",
    "output_path = os.path.join(cwd, 'output')\n",
    "print('input_path: ' + input_path)\n",
    "print('log_path: ' + log_path)\n",
    "print('model_path: ' + model_path)\n",
    "print('output_path: ' + output_path)"
   ]
  },
  {
   "cell_type": "markdown",
   "metadata": {},
   "source": [
    "### Basic functions"
   ]
  },
  {
   "cell_type": "code",
   "execution_count": 5,
   "metadata": {
    "collapsed": true
   },
   "outputs": [],
   "source": [
    "import sys\n",
    "def describe(arr):\n",
    "    print(arr.shape, arr.min(), arr.max(), sys.getsizeof(arr))"
   ]
  },
  {
   "cell_type": "code",
   "execution_count": 6,
   "metadata": {
    "collapsed": true
   },
   "outputs": [],
   "source": [
    "def show_data_images(rows, fig_column, y_data, *args):\n",
    "    columns = len(args)\n",
    "    figs, axes = plt.subplots(rows, columns, figsize=(rows, fig_column*columns))\n",
    "    print(axes.shape)  \n",
    "    for i, ax in enumerate(axes):\n",
    "        y_data_str = ''\n",
    "        if type(y_data) != type(None):\n",
    "            y_data_str =  '_' + str(y_data[i])\n",
    "        ax[0].set_title('28x28' + y_data_str)\n",
    "        for j, arg in enumerate(args):\n",
    "            ax[j].imshow(arg[i])"
   ]
  },
  {
   "cell_type": "markdown",
   "metadata": {},
   "source": [
    "### Load data"
   ]
  },
  {
   "cell_type": "code",
   "execution_count": 7,
   "metadata": {
    "collapsed": true
   },
   "outputs": [],
   "source": [
    "train_file = os.path.join(input_path, 'train.csv')\n",
    "test_file = os.path.join(input_path, 'test.csv')"
   ]
  },
  {
   "cell_type": "code",
   "execution_count": 8,
   "metadata": {},
   "outputs": [
    {
     "name": "stdout",
     "output_type": "stream",
     "text": [
      "(42000, 784) 0 255 112\n",
      "(42000,) 0 9 96\n",
      "(28000, 784) 0 255 112\n",
      "Wall time: 26.4 s\n"
     ]
    }
   ],
   "source": [
    "%%time\n",
    "raw_data = np.loadtxt(train_file, skiprows=1, dtype='int', delimiter=',')\n",
    "x_data = raw_data[:,1:]\n",
    "y_data = raw_data[:,0]\n",
    "\n",
    "x_test = np.loadtxt(test_file, skiprows=1, dtype='int', delimiter=',')\n",
    "\n",
    "describe(x_data)\n",
    "describe(y_data)\n",
    "describe(x_test)"
   ]
  },
  {
   "cell_type": "code",
   "execution_count": 9,
   "metadata": {},
   "outputs": [
    {
     "name": "stdout",
     "output_type": "stream",
     "text": [
      "(42000, 784) 0.0 1.0 263424112\n",
      "(28000, 784) 0.0 1.0 175616112\n",
      "(42000, 28, 28, 1) 0.0 1.0 144\n",
      "(28000, 28, 28, 1) 0.0 1.0 144\n"
     ]
    }
   ],
   "source": [
    "x_data = x_data/255.\n",
    "x_test = x_test/255.\n",
    "\n",
    "describe(x_data)\n",
    "describe(x_test)\n",
    "\n",
    "x_data = x_data.reshape(-1, 28, 28, 1)\n",
    "x_test = x_test.reshape(-1, 28, 28, 1)\n",
    "\n",
    "describe(x_data)\n",
    "describe(x_test)"
   ]
  },
  {
   "cell_type": "code",
   "execution_count": 10,
   "metadata": {},
   "outputs": [
    {
     "data": {
      "text/plain": [
       "<matplotlib.text.Text at 0x14593f49048>"
      ]
     },
     "execution_count": 10,
     "metadata": {},
     "output_type": "execute_result"
    },
    {
     "data": {
      "image/png": "[encoded data removed]",
      "text/plain": [
       "<matplotlib.figure.Figure at 0x14595f22898>"
      ]
     },
     "metadata": {},
     "output_type": "display_data"
    }
   ],
   "source": [
    "index = 0\n",
    "fig, ax = plt.subplots(2, 2, figsize=(12,6))\n",
    "ax[0, 0].plot(x_data[index].reshape(784,))\n",
    "ax[0, 0].set_title('784x1 data')\n",
    "ax[0, 1].imshow(x_data[index].reshape(28,28), cmap='gray')\n",
    "ax[0, 1].set_title('28x28 data => ' + str(y_data[index]))\n",
    "                 \n",
    "ax[1, 0].plot(x_test[index].reshape(784,))\n",
    "ax[1, 0].set_title('784x1 data')\n",
    "ax[1, 1].imshow(x_test[index].reshape(28,28), cmap='gray')\n",
    "ax[1, 1].set_title('28x28 data')"
   ]
  },
  {
   "cell_type": "code",
   "execution_count": 11,
   "metadata": {},
   "outputs": [
    {
     "name": "stderr",
     "output_type": "stream",
     "text": [
      "Using TensorFlow backend.\n"
     ]
    },
    {
     "name": "stdout",
     "output_type": "stream",
     "text": [
      "1\n",
      "[ 0.  1.  0.  0.  0.  0.  0.  0.  0.  0.]\n"
     ]
    }
   ],
   "source": [
    "from keras.utils.np_utils import to_categorical # convert to one-hot-encoding\n",
    "print(y_data[0])\n",
    "y_data = to_categorical(y_data)\n",
    "#example:\n",
    "print(y_data[0])"
   ]
  },
  {
   "cell_type": "code",
   "execution_count": 12,
   "metadata": {},
   "outputs": [
    {
     "name": "stdout",
     "output_type": "stream",
     "text": [
      "(39900, 28, 28, 1) 0.0 1.0 250252944\n",
      "(2100, 28, 28, 1) 0.0 1.0 13171344\n",
      "(39900, 10) 0.0 1.0 3192112\n",
      "(2100, 10) 0.0 1.0 168112\n"
     ]
    }
   ],
   "source": [
    "x_train, x_val, y_train, y_val = train_test_split(x_data, y_data, test_size=0.05, random_state=31)\n",
    "describe(x_train)\n",
    "describe(x_val)\n",
    "describe(y_train)\n",
    "describe(y_val)"
   ]
  },
  {
   "cell_type": "markdown",
   "metadata": {},
   "source": [
    "### Build model"
   ]
  },
  {
   "cell_type": "code",
   "execution_count": 13,
   "metadata": {
    "collapsed": true
   },
   "outputs": [],
   "source": [
    "from keras.models import Sequential, Model\n",
    "from keras.layers import Dense, Dropout, Input, Flatten, Conv2D, MaxPooling2D, BatchNormalization, GlobalMaxPooling2D\n",
    "from keras.layers.merge import Concatenate\n",
    "from keras.optimizers import Adam\n",
    "from keras.preprocessing.image import ImageDataGenerator\n",
    "from keras.callbacks import LearningRateScheduler, TensorBoard"
   ]
  },
  {
   "cell_type": "code",
   "execution_count": 14,
   "metadata": {
    "collapsed": true
   },
   "outputs": [],
   "source": [
    "def build_model():\n",
    "    bn_model = 0\n",
    "    p_activation = \"relu\"\n",
    "    input_1 = Input(shape=(x_train.shape[1], x_train.shape[2], x_train.shape[3]), name=\"input\")\n",
    "    \n",
    "    img_1 = Conv2D(64, kernel_size = (1,1), activation=p_activation, padding='same')(input_1)\n",
    "    img_1 = BatchNormalization()(img_1)\n",
    "    img_1 = MaxPooling2D((2,2)) (img_1)\n",
    "    img_1 = Dropout(0.4)(img_1)\n",
    "    \n",
    "    img_2 = Conv2D(64, kernel_size = (2,2), activation=p_activation, padding='same')(input_1)\n",
    "    img_2 = BatchNormalization()(img_2)\n",
    "    img_2 = MaxPooling2D((2,2)) (img_2)\n",
    "    img_2 = Dropout(0.4)(img_2)\n",
    "    \n",
    "    img_3 = Conv2D(64, kernel_size = (3,3), activation=p_activation, padding='same')(input_1)\n",
    "    img_3 = BatchNormalization()(img_3)\n",
    "    img_3 = MaxPooling2D((2,2)) (img_3)\n",
    "    img_3 = Dropout(0.4)(img_3)\n",
    "    \n",
    "    img_5 = Conv2D(64, kernel_size = (5,5), activation=p_activation, padding='same')(input_1)\n",
    "    img_5 = BatchNormalization()(img_5)\n",
    "    img_5 = MaxPooling2D((2,2)) (img_5)\n",
    "    img_5 = Dropout(0.4)(img_5)\n",
    "    \n",
    "    img_10 = Conv2D(64, kernel_size = (10,10), activation=p_activation, padding='same')(input_1)\n",
    "    img_10 = BatchNormalization()(img_10)\n",
    "    img_10 = MaxPooling2D((2,2)) (img_10)\n",
    "    img_10 = Dropout(0.4)(img_10)\n",
    "    \n",
    "    img_20 = Conv2D(64, kernel_size = (20,20), activation=p_activation, padding='same')(input_1)\n",
    "    img_20 = BatchNormalization()(img_20)\n",
    "    img_20 = MaxPooling2D((2,2)) (img_20)\n",
    "    img_20 = Dropout(0.4)(img_20)\n",
    "    \n",
    "    concat_layer = (Concatenate()([img_1, img_2, img_3, img_5, img_10, img_20]))\n",
    "#############################################################################################\n",
    "    img_1 = Conv2D(64, kernel_size = (1,1), activation=p_activation, padding='same')(concat_layer)\n",
    "    img_1 = BatchNormalization()(img_1)\n",
    "    img_1 = MaxPooling2D((2,2)) (img_1)\n",
    "    img_1 = Dropout(0.4)(img_1)\n",
    "    \n",
    "    img_2 = Conv2D(64, kernel_size = (2,2), activation=p_activation, padding='same')(concat_layer)\n",
    "    img_2 = BatchNormalization()(img_2)\n",
    "    img_2 = MaxPooling2D((2,2)) (img_2)\n",
    "    img_2 = Dropout(0.4)(img_2)\n",
    "    \n",
    "    img_3 = Conv2D(64, kernel_size = (3,3), activation=p_activation, padding='same')(concat_layer)\n",
    "    img_3 = BatchNormalization()(img_3)\n",
    "    img_3 = MaxPooling2D((2,2)) (img_3)\n",
    "    img_3 = Dropout(0.4)(img_3)\n",
    "    \n",
    "    img_5 = Conv2D(64, kernel_size = (5,5), activation=p_activation, padding='same')(concat_layer)\n",
    "    img_5 = BatchNormalization()(img_5)\n",
    "    img_5 = MaxPooling2D((2,2)) (img_5)\n",
    "    img_5 = Dropout(0.4)(img_5)\n",
    "    \n",
    "    img_10 = Conv2D(64, kernel_size = (10,10), activation=p_activation, padding='same')(concat_layer)\n",
    "    img_10 = BatchNormalization()(img_10)\n",
    "    img_10 = MaxPooling2D((2,2)) (img_10)\n",
    "    img_10 = Dropout(0.4)(img_10)\n",
    "    \n",
    "    img_20 = Conv2D(64, kernel_size = (20,20), activation=p_activation, padding='same')(concat_layer)\n",
    "    img_20 = BatchNormalization()(img_20)\n",
    "    img_20 = MaxPooling2D((2,2)) (img_20)\n",
    "    img_20 = Dropout(0.4)(img_20)\n",
    "    \n",
    "    concat_layer = (Concatenate()([img_1, img_2, img_3, img_5, img_10, img_20]))\n",
    "#############################################################################################\n",
    "    img_1 = Conv2D(256, kernel_size = (3,3), activation=p_activation, padding='same')(concat_layer)\n",
    "    img_1 = BatchNormalization()(img_1)\n",
    "    img_1 = Conv2D(256, kernel_size = (3,3), activation=p_activation, padding='same')(img_1)\n",
    "    img_1 = BatchNormalization()(img_1)\n",
    "    img_1 = MaxPooling2D((2,2)) (img_1)\n",
    "    img_1 = Dropout(0.4)(img_1)\n",
    "#############################################################################################\n",
    "    img_1 = Conv2D(512, kernel_size = (3,3), activation=p_activation, padding='same')(img_1)\n",
    "    img_1 = BatchNormalization()(img_1)\n",
    "    img_1 = Conv2D(512, kernel_size = (3,3), activation=p_activation, padding='same')(img_1)\n",
    "    img_1 = BatchNormalization()(img_1)\n",
    "    img_1 = MaxPooling2D((2,2)) (img_1)\n",
    "    img_1 = Dropout(0.4)(img_1)\n",
    "#############################################################################################\n",
    "\n",
    "    img_1 = GlobalMaxPooling2D() (img_1)\n",
    "\n",
    "    dense_ayer = Dense(1024, activation=p_activation)(img_1)\n",
    "#     dense_ayer = BatchNormalization()(dense_ayer)\n",
    "    dense_ayer = Dropout(0.4)(dense_ayer)\n",
    "    dense_ayer = Dense(1024, activation=p_activation)(dense_ayer)\n",
    "    dense_ayer = Dropout(0.4)(dense_ayer)\n",
    "    dense_ayer = Dense(128, activation=p_activation)(dense_ayer)\n",
    "    dense_ayer = Dropout(0.4)(dense_ayer)\n",
    "    output = Dense(10, activation='softmax')(dense_ayer)\n",
    "\n",
    "    model = Model(input_1, output)\n",
    "    \n",
    "    model.compile(loss='categorical_crossentropy', optimizer = Adam(lr=1e-4), metrics=[\"accuracy\"])\n",
    "    return model"
   ]
  },
  {
   "cell_type": "code",
   "execution_count": 15,
   "metadata": {},
   "outputs": [
    {
     "name": "stdout",
     "output_type": "stream",
     "text": [
      "__________________________________________________________________________________________________\n",
      "Layer (type)                    Output Shape         Param #     Connected to                     \n",
      "==================================================================================================\n",
      "input (InputLayer)              (None, 28, 28, 1)    0                                            \n",
      "__________________________________________________________________________________________________\n",
      "conv2d_1 (Conv2D)               (None, 28, 28, 64)   128         input[0][0]                      \n",
      "__________________________________________________________________________________________________\n",
      "conv2d_2 (Conv2D)               (None, 28, 28, 64)   320         input[0][0]                      \n",
      "__________________________________________________________________________________________________\n",
      "conv2d_3 (Conv2D)               (None, 28, 28, 64)   640         input[0][0]                      \n",
      "__________________________________________________________________________________________________\n",
      "conv2d_4 (Conv2D)               (None, 28, 28, 64)   1664        input[0][0]                      \n",
      "__________________________________________________________________________________________________\n",
      "conv2d_5 (Conv2D)               (None, 28, 28, 64)   6464        input[0][0]                      \n",
      "__________________________________________________________________________________________________\n",
      "conv2d_6 (Conv2D)               (None, 28, 28, 64)   25664       input[0][0]                      \n",
      "__________________________________________________________________________________________________\n",
      "batch_normalization_1 (BatchNor (None, 28, 28, 64)   256         conv2d_1[0][0]                   \n",
      "__________________________________________________________________________________________________\n",
      "batch_normalization_2 (BatchNor (None, 28, 28, 64)   256         conv2d_2[0][0]                   \n",
      "__________________________________________________________________________________________________\n",
      "batch_normalization_3 (BatchNor (None, 28, 28, 64)   256         conv2d_3[0][0]                   \n",
      "__________________________________________________________________________________________________\n",
      "batch_normalization_4 (BatchNor (None, 28, 28, 64)   256         conv2d_4[0][0]                   \n",
      "__________________________________________________________________________________________________\n",
      "batch_normalization_5 (BatchNor (None, 28, 28, 64)   256         conv2d_5[0][0]                   \n",
      "__________________________________________________________________________________________________\n",
      "batch_normalization_6 (BatchNor (None, 28, 28, 64)   256         conv2d_6[0][0]                   \n",
      "__________________________________________________________________________________________________\n",
      "max_pooling2d_1 (MaxPooling2D)  (None, 14, 14, 64)   0           batch_normalization_1[0][0]      \n",
      "__________________________________________________________________________________________________\n",
      "max_pooling2d_2 (MaxPooling2D)  (None, 14, 14, 64)   0           batch_normalization_2[0][0]      \n",
      "__________________________________________________________________________________________________\n",
      "max_pooling2d_3 (MaxPooling2D)  (None, 14, 14, 64)   0           batch_normalization_3[0][0]      \n",
      "__________________________________________________________________________________________________\n",
      "max_pooling2d_4 (MaxPooling2D)  (None, 14, 14, 64)   0           batch_normalization_4[0][0]      \n",
      "__________________________________________________________________________________________________\n",
      "max_pooling2d_5 (MaxPooling2D)  (None, 14, 14, 64)   0           batch_normalization_5[0][0]      \n",
      "__________________________________________________________________________________________________\n",
      "max_pooling2d_6 (MaxPooling2D)  (None, 14, 14, 64)   0           batch_normalization_6[0][0]      \n",
      "__________________________________________________________________________________________________\n",
      "dropout_1 (Dropout)             (None, 14, 14, 64)   0           max_pooling2d_1[0][0]            \n",
      "__________________________________________________________________________________________________\n",
      "dropout_2 (Dropout)             (None, 14, 14, 64)   0           max_pooling2d_2[0][0]            \n",
      "__________________________________________________________________________________________________\n",
      "dropout_3 (Dropout)             (None, 14, 14, 64)   0           max_pooling2d_3[0][0]            \n",
      "__________________________________________________________________________________________________\n",
      "dropout_4 (Dropout)             (None, 14, 14, 64)   0           max_pooling2d_4[0][0]            \n",
      "__________________________________________________________________________________________________\n",
      "dropout_5 (Dropout)             (None, 14, 14, 64)   0           max_pooling2d_5[0][0]            \n",
      "__________________________________________________________________________________________________\n",
      "dropout_6 (Dropout)             (None, 14, 14, 64)   0           max_pooling2d_6[0][0]            \n",
      "__________________________________________________________________________________________________\n",
      "concatenate_1 (Concatenate)     (None, 14, 14, 384)  0           dropout_1[0][0]                  \n",
      "                                                                 dropout_2[0][0]                  \n",
      "                                                                 dropout_3[0][0]                  \n",
      "                                                                 dropout_4[0][0]                  \n",
      "                                                                 dropout_5[0][0]                  \n",
      "                                                                 dropout_6[0][0]                  \n",
      "__________________________________________________________________________________________________\n",
      "conv2d_7 (Conv2D)               (None, 14, 14, 64)   24640       concatenate_1[0][0]              \n",
      "__________________________________________________________________________________________________\n",
      "conv2d_8 (Conv2D)               (None, 14, 14, 64)   98368       concatenate_1[0][0]              \n",
      "__________________________________________________________________________________________________\n",
      "conv2d_9 (Conv2D)               (None, 14, 14, 64)   221248      concatenate_1[0][0]              \n",
      "__________________________________________________________________________________________________\n",
      "conv2d_10 (Conv2D)              (None, 14, 14, 64)   614464      concatenate_1[0][0]              \n",
      "__________________________________________________________________________________________________\n",
      "conv2d_11 (Conv2D)              (None, 14, 14, 64)   2457664     concatenate_1[0][0]              \n",
      "__________________________________________________________________________________________________\n",
      "conv2d_12 (Conv2D)              (None, 14, 14, 64)   9830464     concatenate_1[0][0]              \n",
      "__________________________________________________________________________________________________\n",
      "batch_normalization_7 (BatchNor (None, 14, 14, 64)   256         conv2d_7[0][0]                   \n",
      "__________________________________________________________________________________________________\n",
      "batch_normalization_8 (BatchNor (None, 14, 14, 64)   256         conv2d_8[0][0]                   \n",
      "__________________________________________________________________________________________________\n",
      "batch_normalization_9 (BatchNor (None, 14, 14, 64)   256         conv2d_9[0][0]                   \n",
      "__________________________________________________________________________________________________\n",
      "batch_normalization_10 (BatchNo (None, 14, 14, 64)   256         conv2d_10[0][0]                  \n",
      "__________________________________________________________________________________________________\n",
      "batch_normalization_11 (BatchNo (None, 14, 14, 64)   256         conv2d_11[0][0]                  \n",
      "__________________________________________________________________________________________________\n",
      "batch_normalization_12 (BatchNo (None, 14, 14, 64)   256         conv2d_12[0][0]                  \n",
      "__________________________________________________________________________________________________\n",
      "max_pooling2d_7 (MaxPooling2D)  (None, 7, 7, 64)     0           batch_normalization_7[0][0]      \n",
      "__________________________________________________________________________________________________\n",
      "max_pooling2d_8 (MaxPooling2D)  (None, 7, 7, 64)     0           batch_normalization_8[0][0]      \n",
      "__________________________________________________________________________________________________\n",
      "max_pooling2d_9 (MaxPooling2D)  (None, 7, 7, 64)     0           batch_normalization_9[0][0]      \n",
      "__________________________________________________________________________________________________\n",
      "max_pooling2d_10 (MaxPooling2D) (None, 7, 7, 64)     0           batch_normalization_10[0][0]     \n",
      "__________________________________________________________________________________________________\n",
      "max_pooling2d_11 (MaxPooling2D) (None, 7, 7, 64)     0           batch_normalization_11[0][0]     \n",
      "__________________________________________________________________________________________________\n",
      "max_pooling2d_12 (MaxPooling2D) (None, 7, 7, 64)     0           batch_normalization_12[0][0]     \n",
      "__________________________________________________________________________________________________\n",
      "dropout_7 (Dropout)             (None, 7, 7, 64)     0           max_pooling2d_7[0][0]            \n",
      "__________________________________________________________________________________________________\n",
      "dropout_8 (Dropout)             (None, 7, 7, 64)     0           max_pooling2d_8[0][0]            \n",
      "__________________________________________________________________________________________________\n",
      "dropout_9 (Dropout)             (None, 7, 7, 64)     0           max_pooling2d_9[0][0]            \n",
      "__________________________________________________________________________________________________\n",
      "dropout_10 (Dropout)            (None, 7, 7, 64)     0           max_pooling2d_10[0][0]           \n",
      "__________________________________________________________________________________________________\n",
      "dropout_11 (Dropout)            (None, 7, 7, 64)     0           max_pooling2d_11[0][0]           \n",
      "__________________________________________________________________________________________________\n",
      "dropout_12 (Dropout)            (None, 7, 7, 64)     0           max_pooling2d_12[0][0]           \n",
      "__________________________________________________________________________________________________\n",
      "concatenate_2 (Concatenate)     (None, 7, 7, 384)    0           dropout_7[0][0]                  \n",
      "                                                                 dropout_8[0][0]                  \n",
      "                                                                 dropout_9[0][0]                  \n",
      "                                                                 dropout_10[0][0]                 \n",
      "                                                                 dropout_11[0][0]                 \n",
      "                                                                 dropout_12[0][0]                 \n",
      "__________________________________________________________________________________________________\n",
      "conv2d_13 (Conv2D)              (None, 7, 7, 256)    884992      concatenate_2[0][0]              \n",
      "__________________________________________________________________________________________________\n",
      "batch_normalization_13 (BatchNo (None, 7, 7, 256)    1024        conv2d_13[0][0]                  \n",
      "__________________________________________________________________________________________________\n",
      "conv2d_14 (Conv2D)              (None, 7, 7, 256)    590080      batch_normalization_13[0][0]     \n",
      "__________________________________________________________________________________________________\n",
      "batch_normalization_14 (BatchNo (None, 7, 7, 256)    1024        conv2d_14[0][0]                  \n",
      "__________________________________________________________________________________________________\n",
      "max_pooling2d_13 (MaxPooling2D) (None, 3, 3, 256)    0           batch_normalization_14[0][0]     \n",
      "__________________________________________________________________________________________________\n",
      "dropout_13 (Dropout)            (None, 3, 3, 256)    0           max_pooling2d_13[0][0]           \n",
      "__________________________________________________________________________________________________\n",
      "conv2d_15 (Conv2D)              (None, 3, 3, 512)    1180160     dropout_13[0][0]                 \n",
      "__________________________________________________________________________________________________\n",
      "batch_normalization_15 (BatchNo (None, 3, 3, 512)    2048        conv2d_15[0][0]                  \n",
      "__________________________________________________________________________________________________\n",
      "conv2d_16 (Conv2D)              (None, 3, 3, 512)    2359808     batch_normalization_15[0][0]     \n",
      "__________________________________________________________________________________________________\n",
      "batch_normalization_16 (BatchNo (None, 3, 3, 512)    2048        conv2d_16[0][0]                  \n",
      "__________________________________________________________________________________________________\n",
      "max_pooling2d_14 (MaxPooling2D) (None, 1, 1, 512)    0           batch_normalization_16[0][0]     \n",
      "__________________________________________________________________________________________________\n",
      "dropout_14 (Dropout)            (None, 1, 1, 512)    0           max_pooling2d_14[0][0]           \n",
      "__________________________________________________________________________________________________\n",
      "global_max_pooling2d_1 (GlobalM (None, 512)          0           dropout_14[0][0]                 \n",
      "__________________________________________________________________________________________________\n",
      "dense_1 (Dense)                 (None, 1024)         525312      global_max_pooling2d_1[0][0]     \n",
      "__________________________________________________________________________________________________\n",
      "dropout_15 (Dropout)            (None, 1024)         0           dense_1[0][0]                    \n",
      "__________________________________________________________________________________________________\n",
      "dense_2 (Dense)                 (None, 1024)         1049600     dropout_15[0][0]                 \n",
      "__________________________________________________________________________________________________\n",
      "dropout_16 (Dropout)            (None, 1024)         0           dense_2[0][0]                    \n",
      "__________________________________________________________________________________________________\n",
      "dense_3 (Dense)                 (None, 128)          131200      dropout_16[0][0]                 \n",
      "__________________________________________________________________________________________________\n",
      "dropout_17 (Dropout)            (None, 128)          0           dense_3[0][0]                    \n",
      "__________________________________________________________________________________________________\n",
      "dense_4 (Dense)                 (None, 10)           1290        dropout_17[0][0]                 \n",
      "==================================================================================================\n",
      "Total params: 20,013,386\n",
      "Trainable params: 20,008,778\n",
      "Non-trainable params: 4,608\n",
      "__________________________________________________________________________________________________\n"
     ]
    }
   ],
   "source": [
    "model = build_model()\n",
    "model.summary()"
   ]
  },
  {
   "cell_type": "code",
   "execution_count": 16,
   "metadata": {
    "collapsed": true
   },
   "outputs": [],
   "source": [
    "def saveModel(model, run_name):\n",
    "    cwd = os.getcwd()\n",
    "    modelPath = os.path.join(cwd, 'model')\n",
    "    if not os.path.isdir(modelPath):\n",
    "        os.mkdir(modelPath)\n",
    "    weigthsFile = os.path.join(modelPath, run_name + '.h5')\n",
    "    model.save(weigthsFile)\n",
    "# saveModel(model, 'saveModel_test')"
   ]
  },
  {
   "cell_type": "code",
   "execution_count": 17,
   "metadata": {},
   "outputs": [
    {
     "name": "stdout",
     "output_type": "stream",
     "text": [
      "log_dir:D:\\ref\\Kaggle\\digit-recognizer\\log\\Digit_Recognizer_Inception_20180113_164926\n"
     ]
    }
   ],
   "source": [
    "def get_lr(x):\n",
    "    lr = round(1e-4 * 0.995 ** x, 6)\n",
    "    if lr < 5e-5:\n",
    "        lr = 5e-5\n",
    "    print(lr, end='  ')\n",
    "    return lr\n",
    "\n",
    "# annealer = LearningRateScheduler(lambda x: 1e-3 * 0.9 ** x)\n",
    "annealer = LearningRateScheduler(get_lr)\n",
    "\n",
    "log_dir = os.path.join(log_path, run_name)\n",
    "print('log_dir:' + log_dir)\n",
    "tensorBoard = TensorBoard(log_dir=log_dir)"
   ]
  },
  {
   "cell_type": "code",
   "execution_count": null,
   "metadata": {
    "collapsed": true
   },
   "outputs": [],
   "source": [
    "train_datagen = ImageDataGenerator(\n",
    "    zoom_range = 0.2,\n",
    "    rotation_range = 20,\n",
    "    height_shift_range = 0.2,\n",
    "    width_shift_range = 0.2\n",
    ")\n",
    "\n",
    "val_datagen = ImageDataGenerator()"
   ]
  },
  {
   "cell_type": "code",
   "execution_count": null,
   "metadata": {},
   "outputs": [
    {
     "name": "stdout",
     "output_type": "stream",
     "text": [
      "0.0001  Epoch 1/100\n",
      "312/311 [==============================] - 91s 291ms/step - loss: 2.2876 - acc: 0.1807 - val_loss: 10.7214 - val_acc: 0.1138\n",
      "0.0001  Epoch 2/100\n",
      "312/311 [==============================] - 86s 276ms/step - loss: 1.7864 - acc: 0.3293 - val_loss: 12.4348 - val_acc: 0.1181\n",
      "9.9e-05  Epoch 3/100\n",
      "312/311 [==============================] - 87s 278ms/step - loss: 0.9414 - acc: 0.6756 - val_loss: 0.7525 - val_acc: 0.7881\n",
      "9.9e-05  Epoch 4/100\n",
      "312/311 [==============================] - 86s 276ms/step - loss: 0.4395 - acc: 0.8707 - val_loss: 0.2582 - val_acc: 0.9348\n",
      "9.8e-05  Epoch 5/100\n",
      "312/311 [==============================] - 86s 275ms/step - loss: 0.2943 - acc: 0.9189 - val_loss: 0.1305 - val_acc: 0.9633\n",
      "9.8e-05  Epoch 6/100\n",
      "312/311 [==============================] - 86s 275ms/step - loss: 0.2336 - acc: 0.9362 - val_loss: 0.0753 - val_acc: 0.9786\n",
      "9.7e-05  Epoch 7/100\n",
      "312/311 [==============================] - 86s 275ms/step - loss: 0.2010 - acc: 0.9436 - val_loss: 0.0479 - val_acc: 0.9871\n",
      "9.7e-05  Epoch 8/100\n",
      "312/311 [==============================] - 86s 275ms/step - loss: 0.1692 - acc: 0.9537 - val_loss: 0.0508 - val_acc: 0.9867\n",
      "9.6e-05  Epoch 9/100\n",
      "312/311 [==============================] - 86s 276ms/step - loss: 0.1609 - acc: 0.9580 - val_loss: 0.0499 - val_acc: 0.9862\n",
      "9.6e-05  Epoch 10/100\n",
      "312/311 [==============================] - 87s 278ms/step - loss: 0.1447 - acc: 0.9610 - val_loss: 0.0463 - val_acc: 0.9871\n",
      "9.5e-05  Epoch 11/100\n",
      "312/311 [==============================] - 87s 279ms/step - loss: 0.1337 - acc: 0.9645 - val_loss: 0.0336 - val_acc: 0.9900\n",
      "9.5e-05  Epoch 12/100\n",
      "312/311 [==============================] - 86s 276ms/step - loss: 0.1242 - acc: 0.9665 - val_loss: 0.0399 - val_acc: 0.9914\n",
      "9.4e-05  Epoch 13/100\n",
      "312/311 [==============================] - 86s 275ms/step - loss: 0.1139 - acc: 0.9699 - val_loss: 0.0283 - val_acc: 0.9914\n",
      "9.4e-05  Epoch 14/100\n",
      "312/311 [==============================] - 86s 276ms/step - loss: 0.1169 - acc: 0.9692 - val_loss: 0.0312 - val_acc: 0.9914\n",
      "9.3e-05  Epoch 15/100\n",
      "312/311 [==============================] - 87s 279ms/step - loss: 0.1071 - acc: 0.9722 - val_loss: 0.0292 - val_acc: 0.9914\n",
      "9.3e-05  Epoch 16/100\n",
      "312/311 [==============================] - 87s 277ms/step - loss: 0.1019 - acc: 0.9729 - val_loss: 0.0186 - val_acc: 0.9943\n",
      "9.2e-05  Epoch 17/100\n",
      "312/311 [==============================] - 87s 278ms/step - loss: 0.0985 - acc: 0.9740 - val_loss: 0.0272 - val_acc: 0.9919\n",
      "9.2e-05  Epoch 18/100\n",
      "312/311 [==============================] - 88s 281ms/step - loss: 0.0900 - acc: 0.9752 - val_loss: 0.0189 - val_acc: 0.9952\n",
      "9.1e-05  Epoch 19/100\n",
      "312/311 [==============================] - 87s 279ms/step - loss: 0.0910 - acc: 0.9758 - val_loss: 0.0196 - val_acc: 0.9952\n",
      "9.1e-05  Epoch 20/100\n",
      "312/311 [==============================] - 87s 279ms/step - loss: 0.0864 - acc: 0.9765 - val_loss: 0.0360 - val_acc: 0.9938\n",
      "9e-05  Epoch 21/100\n",
      "312/311 [==============================] - 87s 279ms/step - loss: 0.0824 - acc: 0.9778 - val_loss: 0.0345 - val_acc: 0.9910\n",
      "9e-05  Epoch 22/100\n",
      "312/311 [==============================] - 86s 275ms/step - loss: 0.0817 - acc: 0.9786 - val_loss: 0.0213 - val_acc: 0.9948\n",
      "9e-05  Epoch 23/100\n",
      "312/311 [==============================] - 86s 276ms/step - loss: 0.0729 - acc: 0.9802 - val_loss: 0.0257 - val_acc: 0.9933\n",
      "8.9e-05  Epoch 24/100\n",
      "312/311 [==============================] - 86s 275ms/step - loss: 0.0748 - acc: 0.9804 - val_loss: 0.0248 - val_acc: 0.9933\n",
      "8.9e-05  Epoch 25/100\n",
      "312/311 [==============================] - 85s 272ms/step - loss: 0.0753 - acc: 0.9801 - val_loss: 0.0241 - val_acc: 0.9952\n",
      "8.8e-05  Epoch 26/100\n",
      "312/311 [==============================] - 86s 276ms/step - loss: 0.0736 - acc: 0.9808 - val_loss: 0.0281 - val_acc: 0.9929\n",
      "8.8e-05  Epoch 27/100\n",
      "312/311 [==============================] - 86s 275ms/step - loss: 0.0721 - acc: 0.9808 - val_loss: 0.0332 - val_acc: 0.9929\n",
      "8.7e-05  Epoch 28/100\n",
      "312/311 [==============================] - 86s 276ms/step - loss: 0.0702 - acc: 0.9813 - val_loss: 0.0212 - val_acc: 0.9938\n",
      "8.7e-05  Epoch 29/100\n",
      "312/311 [==============================] - 86s 277ms/step - loss: 0.0657 - acc: 0.9821 - val_loss: 0.0228 - val_acc: 0.9933\n",
      "8.6e-05  Epoch 30/100\n",
      "312/311 [==============================] - 87s 278ms/step - loss: 0.0675 - acc: 0.9833 - val_loss: 0.0230 - val_acc: 0.9952\n",
      "8.6e-05  Epoch 31/100\n",
      "312/311 [==============================] - 86s 277ms/step - loss: 0.0629 - acc: 0.9831 - val_loss: 0.0138 - val_acc: 0.9967\n",
      "8.6e-05  Epoch 32/100\n",
      "312/311 [==============================] - 87s 278ms/step - loss: 0.0599 - acc: 0.9838 - val_loss: 0.0162 - val_acc: 0.9957\n",
      "8.5e-05  Epoch 33/100\n",
      "312/311 [==============================] - 87s 279ms/step - loss: 0.0598 - acc: 0.9838 - val_loss: 0.0146 - val_acc: 0.9948\n",
      "8.5e-05  Epoch 34/100\n",
      "312/311 [==============================] - 87s 279ms/step - loss: 0.0591 - acc: 0.9851 - val_loss: 0.0239 - val_acc: 0.9943\n",
      "8.4e-05  Epoch 35/100\n",
      "312/311 [==============================] - 86s 275ms/step - loss: 0.0571 - acc: 0.9846 - val_loss: 0.0148 - val_acc: 0.9962\n",
      "8.4e-05  Epoch 36/100\n",
      "312/311 [==============================] - 86s 274ms/step - loss: 0.0587 - acc: 0.9843 - val_loss: 0.0142 - val_acc: 0.9957\n",
      "8.3e-05  Epoch 37/100\n",
      "312/311 [==============================] - 86s 275ms/step - loss: 0.0577 - acc: 0.9852 - val_loss: 0.0146 - val_acc: 0.9962\n",
      "8.3e-05  Epoch 38/100\n",
      "312/311 [==============================] - 86s 274ms/step - loss: 0.0532 - acc: 0.9852 - val_loss: 0.0213 - val_acc: 0.9938\n",
      "8.3e-05  Epoch 39/100\n",
      "312/311 [==============================] - 86s 274ms/step - loss: 0.0509 - acc: 0.9861 - val_loss: 0.0181 - val_acc: 0.9952\n",
      "8.2e-05  Epoch 40/100\n",
      "312/311 [==============================] - 87s 278ms/step - loss: 0.0485 - acc: 0.9869 - val_loss: 0.0179 - val_acc: 0.9938\n",
      "8.2e-05  Epoch 41/100\n",
      "312/311 [==============================] - 87s 278ms/step - loss: 0.0486 - acc: 0.9867 - val_loss: 0.0172 - val_acc: 0.9952\n",
      "8.1e-05  Epoch 42/100\n",
      "312/311 [==============================] - 87s 278ms/step - loss: 0.0518 - acc: 0.9859 - val_loss: 0.0223 - val_acc: 0.9948\n",
      "8.1e-05  Epoch 43/100\n",
      "312/311 [==============================] - 86s 277ms/step - loss: 0.0509 - acc: 0.9860 - val_loss: 0.0111 - val_acc: 0.9976\n",
      "8.1e-05  Epoch 44/100\n",
      "312/311 [==============================] - 87s 279ms/step - loss: 0.0536 - acc: 0.9858 - val_loss: 0.0159 - val_acc: 0.9957\n",
      "8e-05  Epoch 45/100\n",
      "312/311 [==============================] - 87s 279ms/step - loss: 0.0475 - acc: 0.9868 - val_loss: 0.0197 - val_acc: 0.9952\n",
      "8e-05  Epoch 46/100\n",
      "312/311 [==============================] - 87s 279ms/step - loss: 0.0456 - acc: 0.9869 - val_loss: 0.0132 - val_acc: 0.9971\n",
      "7.9e-05  Epoch 47/100\n",
      "312/311 [==============================] - 87s 279ms/step - loss: 0.0450 - acc: 0.9875 - val_loss: 0.0146 - val_acc: 0.9976\n",
      "7.9e-05  Epoch 48/100\n",
      "312/311 [==============================] - 86s 277ms/step - loss: 0.0449 - acc: 0.9879 - val_loss: 0.0168 - val_acc: 0.9962\n",
      "7.9e-05  Epoch 49/100\n",
      "312/311 [==============================] - 86s 275ms/step - loss: 0.0443 - acc: 0.9885 - val_loss: 0.0143 - val_acc: 0.9952\n",
      "7.8e-05  Epoch 50/100\n",
      " 46/311 [===>..........................] - ETA: 1:10 - loss: 0.0391 - acc: 0.9876"
     ]
    }
   ],
   "source": [
    "%%time\n",
    "batch_size = 128\n",
    "steps_per_epoch = x_train.shape[0] / batch_size\n",
    "hist = model.fit_generator(\n",
    "    train_datagen.flow(x_train, y_train, batch_size=batch_size, seed=2018),\n",
    "    steps_per_epoch=steps_per_epoch,\n",
    "    epochs=100, #Increase this when not on Kaggle kernel\n",
    "    verbose=1,  #1 for ETA, 0 for silent\n",
    "    callbacks=[annealer],\n",
    "    max_queue_size=256,\n",
    "    workers=32,\n",
    "    validation_steps=1000,\n",
    "    validation_data=val_datagen.flow(x_val, y_val, batch_size=32, seed=2018)\n",
    ")"
   ]
  },
  {
   "cell_type": "code",
   "execution_count": null,
   "metadata": {
    "collapsed": true
   },
   "outputs": [],
   "source": [
    "final_loss, final_acc = model.evaluate(x_val, y_val, verbose=0)\n",
    "print(\"Final loss: {0:.4f}, final accuracy: {1:.4f}\".format(final_loss, final_acc))"
   ]
  },
  {
   "cell_type": "code",
   "execution_count": null,
   "metadata": {
    "collapsed": true
   },
   "outputs": [],
   "source": [
    "final_acc_str = '{0:0>4}'.format(int(final_acc*10000))\n",
    "run_name_acc = project_name + '_' + step_name + '_' + time_str + '_' + final_acc_str\n",
    "print(run_name_acc)"
   ]
  },
  {
   "cell_type": "code",
   "execution_count": null,
   "metadata": {
    "collapsed": true
   },
   "outputs": [],
   "source": [
    "histories = pd.DataFrame(hist.history)\n",
    "histories['epoch'] = hist.epoch\n",
    "print(histories.columns)\n",
    "histories_file = os.path.join(model_path, run_name_acc + '.csv')\n",
    "histories.to_csv(histories_file, index=False)"
   ]
  },
  {
   "cell_type": "code",
   "execution_count": null,
   "metadata": {
    "collapsed": true
   },
   "outputs": [],
   "source": [
    "plt.plot(hist.history['loss'], color='b')\n",
    "plt.plot(hist.history['val_loss'], color='r')\n",
    "plt.show()\n",
    "plt.plot(hist.history['acc'], color='b')\n",
    "plt.plot(hist.history['val_acc'], color='r')\n",
    "plt.show()"
   ]
  },
  {
   "cell_type": "code",
   "execution_count": null,
   "metadata": {
    "collapsed": true
   },
   "outputs": [],
   "source": [
    "saveModel(model, run_name_acc)"
   ]
  },
  {
   "cell_type": "code",
   "execution_count": null,
   "metadata": {
    "collapsed": true
   },
   "outputs": [],
   "source": [
    "y_hat = model.predict(x_val)\n",
    "y_pred = np.argmax(y_hat, axis=1)\n",
    "y_true = np.argmax(y_val, axis=1)\n",
    "cm = confusion_matrix(y_true, y_pred)\n",
    "print(cm)"
   ]
  },
  {
   "cell_type": "code",
   "execution_count": null,
   "metadata": {
    "collapsed": true
   },
   "outputs": [],
   "source": []
  },
  {
   "cell_type": "markdown",
   "metadata": {},
   "source": [
    "## Predict"
   ]
  },
  {
   "cell_type": "code",
   "execution_count": null,
   "metadata": {
    "collapsed": true
   },
   "outputs": [],
   "source": [
    "if not os.path.exists(output_path):\n",
    "    os.mkdir(output_path)\n",
    "pred_file = os.path.join(output_path, run_name_acc + '.csv')\n",
    "print(pred_file)"
   ]
  },
  {
   "cell_type": "code",
   "execution_count": null,
   "metadata": {
    "collapsed": true
   },
   "outputs": [],
   "source": [
    "y_hat = model.predict(x_test, batch_size=64)"
   ]
  },
  {
   "cell_type": "code",
   "execution_count": null,
   "metadata": {
    "collapsed": true
   },
   "outputs": [],
   "source": [
    "y_pred = np.argmax(y_hat,axis=1)"
   ]
  },
  {
   "cell_type": "code",
   "execution_count": null,
   "metadata": {
    "collapsed": true
   },
   "outputs": [],
   "source": [
    "with open(pred_file, 'w') as f :\n",
    "    f.write('ImageId,Label\\n')\n",
    "    for i in range(len(y_pred)) :\n",
    "        f.write(\"\".join([str(i+1),',',str(y_pred[i]),'\\n']))"
   ]
  },
  {
   "cell_type": "code",
   "execution_count": null,
   "metadata": {
    "collapsed": true
   },
   "outputs": [],
   "source": [
    "t1 = time.time()\n",
    "print('time cost: %.2f s' % (t1-t0))\n",
    "print('Done!')"
   ]
  },
  {
   "cell_type": "code",
   "execution_count": null,
   "metadata": {
    "collapsed": true
   },
   "outputs": [],
   "source": [
    "print(run_name_acc)"
   ]
  },
  {
   "cell_type": "code",
   "execution_count": null,
   "metadata": {
    "collapsed": true
   },
   "outputs": [],
   "source": []
  }
 ],
 "metadata": {
  "kernelspec": {
   "display_name": "Python 3",
   "language": "python",
   "name": "python3"
  },
  "language_info": {
   "codemirror_mode": {
    "name": "ipython",
    "version": 3
   },
   "file_extension": ".py",
   "mimetype": "text/x-python",
   "name": "python",
   "nbconvert_exporter": "python",
   "pygments_lexer": "ipython3",
   "version": "3.6.1"
  }
 },
 "nbformat": 4,
 "nbformat_minor": 2
}
