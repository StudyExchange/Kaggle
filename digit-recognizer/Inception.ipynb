{
 "cells": [
  {
   "cell_type": "markdown",
   "metadata": {},
   "source": [
    "# Inception\n",
    "\n",
    "### Kaggle score: --\n",
    "\n",
    "### References:\n",
    "1. https://www.kaggle.com/toregil/welcome-to-deep-learning-cnn-99"
   ]
  },
  {
   "cell_type": "code",
   "execution_count": 1,
   "metadata": {
    "collapsed": true
   },
   "outputs": [],
   "source": [
    "import numpy as np\n",
    "import pandas as pd\n",
    "from sklearn.model_selection import train_test_split\n",
    "from sklearn.metrics import confusion_matrix\n",
    "\n",
    "import matplotlib.pyplot as plt\n",
    "%matplotlib inline"
   ]
  },
  {
   "cell_type": "code",
   "execution_count": 2,
   "metadata": {
    "collapsed": true
   },
   "outputs": [],
   "source": [
    "import os\n",
    "import time\n",
    "import zipfile\n",
    "import lzma\n",
    "import pickle\n",
    "from PIL import Image\n",
    "from shutil import copy2\n",
    "import gc\n",
    "\n",
    "import cv2"
   ]
  },
  {
   "cell_type": "markdown",
   "metadata": {},
   "source": [
    "### Run name"
   ]
  },
  {
   "cell_type": "code",
   "execution_count": 3,
   "metadata": {},
   "outputs": [
    {
     "name": "stdout",
     "output_type": "stream",
     "text": [
      "run_name: Digit_Recognizer_Inception_20180114_180106\n"
     ]
    }
   ],
   "source": [
    "project_name = 'Digit_Recognizer'\n",
    "step_name = 'Inception'\n",
    "date_str = time.strftime(\"%Y%m%d\", time.localtime())\n",
    "time_str = time.strftime(\"%Y%m%d_%H%M%S\", time.localtime())\n",
    "run_name = project_name + '_' + step_name + '_' + time_str\n",
    "print('run_name: ' + run_name)\n",
    "t0 = time.time()"
   ]
  },
  {
   "cell_type": "markdown",
   "metadata": {},
   "source": [
    "### Basic folders"
   ]
  },
  {
   "cell_type": "code",
   "execution_count": 4,
   "metadata": {},
   "outputs": [
    {
     "name": "stdout",
     "output_type": "stream",
     "text": [
      "input_path: E:\\Kaggle\\digit-recognizer\\input\n",
      "log_path: E:\\Kaggle\\digit-recognizer\\log\n",
      "model_path: E:\\Kaggle\\digit-recognizer\\model\n",
      "output_path: E:\\Kaggle\\digit-recognizer\\output\n"
     ]
    }
   ],
   "source": [
    "cwd = os.getcwd()\n",
    "input_path = os.path.join(cwd, 'input')\n",
    "log_path = os.path.join(cwd, 'log')\n",
    "model_path = os.path.join(cwd, 'model')\n",
    "output_path = os.path.join(cwd, 'output')\n",
    "print('input_path: ' + input_path)\n",
    "print('log_path: ' + log_path)\n",
    "print('model_path: ' + model_path)\n",
    "print('output_path: ' + output_path)"
   ]
  },
  {
   "cell_type": "markdown",
   "metadata": {},
   "source": [
    "### Basic functions"
   ]
  },
  {
   "cell_type": "code",
   "execution_count": 5,
   "metadata": {
    "collapsed": true
   },
   "outputs": [],
   "source": [
    "import sys\n",
    "def describe(arr):\n",
    "    print(arr.shape, arr.min(), arr.max(), sys.getsizeof(arr))"
   ]
  },
  {
   "cell_type": "code",
   "execution_count": 6,
   "metadata": {
    "collapsed": true
   },
   "outputs": [],
   "source": [
    "def show_data_images(rows, fig_column, y_data, *args):\n",
    "    columns = len(args)\n",
    "    figs, axes = plt.subplots(rows, columns, figsize=(rows, fig_column*columns))\n",
    "    print(axes.shape)  \n",
    "    for i, ax in enumerate(axes):\n",
    "        y_data_str = ''\n",
    "        if type(y_data) != type(None):\n",
    "            y_data_str =  '_' + str(y_data[i])\n",
    "        ax[0].set_title('28x28' + y_data_str)\n",
    "        for j, arg in enumerate(args):\n",
    "            ax[j].imshow(arg[i])"
   ]
  },
  {
   "cell_type": "markdown",
   "metadata": {},
   "source": [
    "### Load data"
   ]
  },
  {
   "cell_type": "code",
   "execution_count": 7,
   "metadata": {
    "collapsed": true
   },
   "outputs": [],
   "source": [
    "train_file = os.path.join(input_path, 'train.csv')\n",
    "test_file = os.path.join(input_path, 'test.csv')"
   ]
  },
  {
   "cell_type": "code",
   "execution_count": 8,
   "metadata": {},
   "outputs": [
    {
     "name": "stdout",
     "output_type": "stream",
     "text": [
      "(42000, 784) 0 255 112\n",
      "(42000,) 0 9 96\n",
      "(28000, 784) 0 255 112\n",
      "Wall time: 1min 3s\n"
     ]
    }
   ],
   "source": [
    "%%time\n",
    "raw_data = np.loadtxt(train_file, skiprows=1, dtype='int', delimiter=',')\n",
    "x_data = raw_data[:,1:]\n",
    "y_data = raw_data[:,0]\n",
    "\n",
    "x_test = np.loadtxt(test_file, skiprows=1, dtype='int', delimiter=',')\n",
    "\n",
    "describe(x_data)\n",
    "describe(y_data)\n",
    "describe(x_test)"
   ]
  },
  {
   "cell_type": "code",
   "execution_count": 9,
   "metadata": {},
   "outputs": [
    {
     "name": "stdout",
     "output_type": "stream",
     "text": [
      "(42000, 784) 0.0 1.0 263424112\n",
      "(28000, 784) 0.0 1.0 175616112\n",
      "(42000, 28, 28, 1) 0.0 1.0 144\n",
      "(28000, 28, 28, 1) 0.0 1.0 144\n"
     ]
    }
   ],
   "source": [
    "x_data = x_data/255.\n",
    "x_test = x_test/255.\n",
    "\n",
    "describe(x_data)\n",
    "describe(x_test)\n",
    "\n",
    "x_data = x_data.reshape(-1, 28, 28, 1)\n",
    "x_test = x_test.reshape(-1, 28, 28, 1)\n",
    "\n",
    "describe(x_data)\n",
    "describe(x_test)"
   ]
  },
  {
   "cell_type": "code",
   "execution_count": 10,
   "metadata": {},
   "outputs": [
    {
     "data": {
      "text/plain": [
       "<matplotlib.text.Text at 0x82c6792cf8>"
      ]
     },
     "execution_count": 10,
     "metadata": {},
     "output_type": "execute_result"
    },
    {
     "data": {
      "image/png": "[encoded data removed]",
      "text/plain": [
       "<matplotlib.figure.Figure at 0x82d16e05f8>"
      ]
     },
     "metadata": {},
     "output_type": "display_data"
    }
   ],
   "source": [
    "index = 0\n",
    "fig, ax = plt.subplots(2, 2, figsize=(12,6))\n",
    "ax[0, 0].plot(x_data[index].reshape(784,))\n",
    "ax[0, 0].set_title('784x1 data')\n",
    "ax[0, 1].imshow(x_data[index].reshape(28,28), cmap='gray')\n",
    "ax[0, 1].set_title('28x28 data => ' + str(y_data[index]))\n",
    "                 \n",
    "ax[1, 0].plot(x_test[index].reshape(784,))\n",
    "ax[1, 0].set_title('784x1 data')\n",
    "ax[1, 1].imshow(x_test[index].reshape(28,28), cmap='gray')\n",
    "ax[1, 1].set_title('28x28 data')"
   ]
  },
  {
   "cell_type": "code",
   "execution_count": 11,
   "metadata": {},
   "outputs": [
    {
     "name": "stderr",
     "output_type": "stream",
     "text": [
      "Using TensorFlow backend.\n"
     ]
    },
    {
     "name": "stdout",
     "output_type": "stream",
     "text": [
      "1\n",
      "[ 0.  1.  0.  0.  0.  0.  0.  0.  0.  0.]\n"
     ]
    }
   ],
   "source": [
    "from keras.utils.np_utils import to_categorical # convert to one-hot-encoding\n",
    "print(y_data[0])\n",
    "y_data = to_categorical(y_data)\n",
    "#example:\n",
    "print(y_data[0])"
   ]
  },
  {
   "cell_type": "code",
   "execution_count": 12,
   "metadata": {},
   "outputs": [
    {
     "name": "stdout",
     "output_type": "stream",
     "text": [
      "(39900, 28, 28, 1) 0.0 1.0 250252944\n",
      "(2100, 28, 28, 1) 0.0 1.0 13171344\n",
      "(39900, 10) 0.0 1.0 3192112\n",
      "(2100, 10) 0.0 1.0 168112\n"
     ]
    }
   ],
   "source": [
    "x_train, x_val, y_train, y_val = train_test_split(x_data, y_data, test_size=0.05, random_state=31)\n",
    "describe(x_train)\n",
    "describe(x_val)\n",
    "describe(y_train)\n",
    "describe(y_val)"
   ]
  },
  {
   "cell_type": "markdown",
   "metadata": {},
   "source": [
    "### Build model"
   ]
  },
  {
   "cell_type": "code",
   "execution_count": 13,
   "metadata": {
    "collapsed": true
   },
   "outputs": [],
   "source": [
    "from keras.models import Sequential, Model\n",
    "from keras.layers import Dense, Dropout, Input, Flatten, Conv2D, MaxPooling2D, BatchNormalization, GlobalMaxPooling2D\n",
    "from keras.layers.merge import Concatenate\n",
    "from keras.optimizers import Adam\n",
    "from keras.preprocessing.image import ImageDataGenerator\n",
    "from keras.callbacks import LearningRateScheduler, TensorBoard"
   ]
  },
  {
   "cell_type": "code",
   "execution_count": 14,
   "metadata": {
    "collapsed": true
   },
   "outputs": [],
   "source": [
    "def build_model():\n",
    "    bn_model = 0\n",
    "    p_activation = \"relu\"\n",
    "    input_1 = Input(shape=(x_train.shape[1], x_train.shape[2], x_train.shape[3]), name=\"input\")\n",
    "    \n",
    "    img_1 = Conv2D(128, kernel_size = (1,1), activation=p_activation, padding='same')(input_1)\n",
    "    img_1 = BatchNormalization()(img_1)\n",
    "    img_1 = MaxPooling2D((2,2), padding='same') (img_1)\n",
    "    img_1 = Dropout(0.25)(img_1)\n",
    "\n",
    "    img_3 = Conv2D(128, kernel_size = (3,3), activation=p_activation, padding='same')(input_1)\n",
    "    img_3 = BatchNormalization()(img_3)\n",
    "    img_3 = MaxPooling2D((2,2), padding='same') (img_3)\n",
    "    img_3 = Dropout(0.25)(img_3)\n",
    "    \n",
    "    img_5 = Conv2D(128, kernel_size = (5,5), activation=p_activation, padding='same')(input_1)\n",
    "    img_5 = BatchNormalization()(img_5)\n",
    "    img_5 = MaxPooling2D((2,2), padding='same') (img_5)\n",
    "    img_5 = Dropout(0.25)(img_5)\n",
    "\n",
    "    concat_layer = (Concatenate()([img_1, img_3, img_5]))\n",
    "#############################################################################################\n",
    "    img_1 = Conv2D(128, kernel_size = (1,1), activation=p_activation, padding='same')(concat_layer)\n",
    "    img_1 = BatchNormalization()(img_1)\n",
    "    img_1 = MaxPooling2D((2,2), padding='same') (img_1)\n",
    "    img_1 = Dropout(0.25)(img_1)\n",
    "\n",
    "    img_3 = Conv2D(128, kernel_size = (3,3), activation=p_activation, padding='same')(concat_layer)\n",
    "    img_3 = BatchNormalization()(img_3)\n",
    "    img_3 = MaxPooling2D((2,2), padding='same') (img_3)\n",
    "    img_3 = Dropout(0.25)(img_3)\n",
    "    \n",
    "    img_5 = Conv2D(128, kernel_size = (5,5), activation=p_activation, padding='same')(concat_layer)\n",
    "    img_5 = BatchNormalization()(img_5)\n",
    "    img_5 = MaxPooling2D((2,2), padding='same') (img_5)\n",
    "    img_5 = Dropout(0.25)(img_5)\n",
    "\n",
    "    concat_layer = (Concatenate()([img_1, img_3, img_5]))\n",
    "#############################################################################################\n",
    "    img_1 = Conv2D(64, kernel_size = (1,1), activation=p_activation, padding='same')(concat_layer)\n",
    "    img_1 = BatchNormalization()(img_1)\n",
    "    img_1 = MaxPooling2D((2,2), padding='same') (img_1)\n",
    "    img_1 = Dropout(0.25)(img_1)\n",
    "\n",
    "    img_3 = Conv2D(64, kernel_size = (3,3), activation=p_activation, padding='same')(concat_layer)\n",
    "    img_3 = BatchNormalization()(img_3)\n",
    "    img_3 = MaxPooling2D((2,2), padding='same') (img_3)\n",
    "    img_3 = Dropout(0.25)(img_3)\n",
    "    \n",
    "    img_5 = Conv2D(64, kernel_size = (5,5), activation=p_activation, padding='same')(concat_layer)\n",
    "    img_5 = BatchNormalization()(img_5)\n",
    "    img_5 = MaxPooling2D((2,2), padding='same') (img_5)\n",
    "    img_5 = Dropout(0.25)(img_5)\n",
    "\n",
    "    concat_layer = (Concatenate()([img_1, img_3, img_5]))\n",
    "#############################################################################################\n",
    "    img_1 = Conv2D(256, kernel_size = (3,3), activation=p_activation, padding='same')(concat_layer)\n",
    "    img_1 = BatchNormalization()(img_1)\n",
    "    img_1 = MaxPooling2D((2,2)) (img_1)\n",
    "    img_1 = Dropout(0.25)(img_1)\n",
    "#############################################################################################\n",
    "    img_1 = Conv2D(512, kernel_size = (3,3), activation=p_activation, padding='same')(img_1)\n",
    "    img_1 = BatchNormalization()(img_1)\n",
    "    img_1 = MaxPooling2D((2,2)) (img_1)\n",
    "    img_1 = Dropout(0.25)(img_1)\n",
    "#############################################################################################\n",
    "\n",
    "    img_1 = GlobalMaxPooling2D() (img_1)\n",
    "\n",
    "    dense_ayer = Dense(4096, activation=p_activation)(img_1)\n",
    "#     dense_ayer = BatchNormalization()(dense_ayer)\n",
    "    dense_ayer = Dropout(0.25)(dense_ayer)\n",
    "    dense_ayer = Dense(4096, activation=p_activation)(dense_ayer)\n",
    "    dense_ayer = Dropout(0.25)(dense_ayer)\n",
    "    dense_ayer = Dense(128, activation=p_activation)(dense_ayer)\n",
    "    dense_ayer = Dropout(0.25)(dense_ayer)\n",
    "    output = Dense(10, activation='softmax')(dense_ayer)\n",
    "\n",
    "    model = Model(input_1, output)\n",
    "    \n",
    "    model.compile(loss='categorical_crossentropy', optimizer = Adam(lr=1e-4), metrics=[\"accuracy\"])\n",
    "    return model"
   ]
  },
  {
   "cell_type": "code",
   "execution_count": 15,
   "metadata": {},
   "outputs": [
    {
     "name": "stdout",
     "output_type": "stream",
     "text": [
      "__________________________________________________________________________________________________\n",
      "Layer (type)                    Output Shape         Param #     Connected to                     \n",
      "==================================================================================================\n",
      "input (InputLayer)              (None, 28, 28, 1)    0                                            \n",
      "__________________________________________________________________________________________________\n",
      "conv2d_1 (Conv2D)               (None, 28, 28, 128)  256         input[0][0]                      \n",
      "__________________________________________________________________________________________________\n",
      "conv2d_2 (Conv2D)               (None, 28, 28, 128)  1280        input[0][0]                      \n",
      "__________________________________________________________________________________________________\n",
      "conv2d_3 (Conv2D)               (None, 28, 28, 128)  3328        input[0][0]                      \n",
      "__________________________________________________________________________________________________\n",
      "batch_normalization_1 (BatchNor (None, 28, 28, 128)  512         conv2d_1[0][0]                   \n",
      "__________________________________________________________________________________________________\n",
      "batch_normalization_2 (BatchNor (None, 28, 28, 128)  512         conv2d_2[0][0]                   \n",
      "__________________________________________________________________________________________________\n",
      "batch_normalization_3 (BatchNor (None, 28, 28, 128)  512         conv2d_3[0][0]                   \n",
      "__________________________________________________________________________________________________\n",
      "max_pooling2d_1 (MaxPooling2D)  (None, 14, 14, 128)  0           batch_normalization_1[0][0]      \n",
      "__________________________________________________________________________________________________\n",
      "max_pooling2d_2 (MaxPooling2D)  (None, 14, 14, 128)  0           batch_normalization_2[0][0]      \n",
      "__________________________________________________________________________________________________\n",
      "max_pooling2d_3 (MaxPooling2D)  (None, 14, 14, 128)  0           batch_normalization_3[0][0]      \n",
      "__________________________________________________________________________________________________\n",
      "dropout_1 (Dropout)             (None, 14, 14, 128)  0           max_pooling2d_1[0][0]            \n",
      "__________________________________________________________________________________________________\n",
      "dropout_2 (Dropout)             (None, 14, 14, 128)  0           max_pooling2d_2[0][0]            \n",
      "__________________________________________________________________________________________________\n",
      "dropout_3 (Dropout)             (None, 14, 14, 128)  0           max_pooling2d_3[0][0]            \n",
      "__________________________________________________________________________________________________\n",
      "concatenate_1 (Concatenate)     (None, 14, 14, 384)  0           dropout_1[0][0]                  \n",
      "                                                                 dropout_2[0][0]                  \n",
      "                                                                 dropout_3[0][0]                  \n",
      "__________________________________________________________________________________________________\n",
      "conv2d_4 (Conv2D)               (None, 14, 14, 128)  49280       concatenate_1[0][0]              \n",
      "__________________________________________________________________________________________________\n",
      "conv2d_5 (Conv2D)               (None, 14, 14, 128)  442496      concatenate_1[0][0]              \n",
      "__________________________________________________________________________________________________\n",
      "conv2d_6 (Conv2D)               (None, 14, 14, 128)  1228928     concatenate_1[0][0]              \n",
      "__________________________________________________________________________________________________\n",
      "batch_normalization_4 (BatchNor (None, 14, 14, 128)  512         conv2d_4[0][0]                   \n",
      "__________________________________________________________________________________________________\n",
      "batch_normalization_5 (BatchNor (None, 14, 14, 128)  512         conv2d_5[0][0]                   \n",
      "__________________________________________________________________________________________________\n",
      "batch_normalization_6 (BatchNor (None, 14, 14, 128)  512         conv2d_6[0][0]                   \n",
      "__________________________________________________________________________________________________\n",
      "max_pooling2d_4 (MaxPooling2D)  (None, 7, 7, 128)    0           batch_normalization_4[0][0]      \n",
      "__________________________________________________________________________________________________\n",
      "max_pooling2d_5 (MaxPooling2D)  (None, 7, 7, 128)    0           batch_normalization_5[0][0]      \n",
      "__________________________________________________________________________________________________\n",
      "max_pooling2d_6 (MaxPooling2D)  (None, 7, 7, 128)    0           batch_normalization_6[0][0]      \n",
      "__________________________________________________________________________________________________\n",
      "dropout_4 (Dropout)             (None, 7, 7, 128)    0           max_pooling2d_4[0][0]            \n",
      "__________________________________________________________________________________________________\n",
      "dropout_5 (Dropout)             (None, 7, 7, 128)    0           max_pooling2d_5[0][0]            \n",
      "__________________________________________________________________________________________________\n",
      "dropout_6 (Dropout)             (None, 7, 7, 128)    0           max_pooling2d_6[0][0]            \n",
      "__________________________________________________________________________________________________\n",
      "concatenate_2 (Concatenate)     (None, 7, 7, 384)    0           dropout_4[0][0]                  \n",
      "                                                                 dropout_5[0][0]                  \n",
      "                                                                 dropout_6[0][0]                  \n",
      "__________________________________________________________________________________________________\n",
      "conv2d_7 (Conv2D)               (None, 7, 7, 64)     24640       concatenate_2[0][0]              \n",
      "__________________________________________________________________________________________________\n",
      "conv2d_8 (Conv2D)               (None, 7, 7, 64)     221248      concatenate_2[0][0]              \n",
      "__________________________________________________________________________________________________\n",
      "conv2d_9 (Conv2D)               (None, 7, 7, 64)     614464      concatenate_2[0][0]              \n",
      "__________________________________________________________________________________________________\n",
      "batch_normalization_7 (BatchNor (None, 7, 7, 64)     256         conv2d_7[0][0]                   \n",
      "__________________________________________________________________________________________________\n",
      "batch_normalization_8 (BatchNor (None, 7, 7, 64)     256         conv2d_8[0][0]                   \n",
      "__________________________________________________________________________________________________\n",
      "batch_normalization_9 (BatchNor (None, 7, 7, 64)     256         conv2d_9[0][0]                   \n",
      "__________________________________________________________________________________________________\n",
      "max_pooling2d_7 (MaxPooling2D)  (None, 4, 4, 64)     0           batch_normalization_7[0][0]      \n",
      "__________________________________________________________________________________________________\n",
      "max_pooling2d_8 (MaxPooling2D)  (None, 4, 4, 64)     0           batch_normalization_8[0][0]      \n",
      "__________________________________________________________________________________________________\n",
      "max_pooling2d_9 (MaxPooling2D)  (None, 4, 4, 64)     0           batch_normalization_9[0][0]      \n",
      "__________________________________________________________________________________________________\n",
      "dropout_7 (Dropout)             (None, 4, 4, 64)     0           max_pooling2d_7[0][0]            \n",
      "__________________________________________________________________________________________________\n",
      "dropout_8 (Dropout)             (None, 4, 4, 64)     0           max_pooling2d_8[0][0]            \n",
      "__________________________________________________________________________________________________\n",
      "dropout_9 (Dropout)             (None, 4, 4, 64)     0           max_pooling2d_9[0][0]            \n",
      "__________________________________________________________________________________________________\n",
      "concatenate_3 (Concatenate)     (None, 4, 4, 192)    0           dropout_7[0][0]                  \n",
      "                                                                 dropout_8[0][0]                  \n",
      "                                                                 dropout_9[0][0]                  \n",
      "__________________________________________________________________________________________________\n",
      "conv2d_10 (Conv2D)              (None, 4, 4, 256)    442624      concatenate_3[0][0]              \n",
      "__________________________________________________________________________________________________\n",
      "batch_normalization_10 (BatchNo (None, 4, 4, 256)    1024        conv2d_10[0][0]                  \n",
      "__________________________________________________________________________________________________\n",
      "max_pooling2d_10 (MaxPooling2D) (None, 2, 2, 256)    0           batch_normalization_10[0][0]     \n",
      "__________________________________________________________________________________________________\n",
      "dropout_10 (Dropout)            (None, 2, 2, 256)    0           max_pooling2d_10[0][0]           \n",
      "__________________________________________________________________________________________________\n",
      "conv2d_11 (Conv2D)              (None, 2, 2, 512)    1180160     dropout_10[0][0]                 \n",
      "__________________________________________________________________________________________________\n",
      "batch_normalization_11 (BatchNo (None, 2, 2, 512)    2048        conv2d_11[0][0]                  \n",
      "__________________________________________________________________________________________________\n",
      "max_pooling2d_11 (MaxPooling2D) (None, 1, 1, 512)    0           batch_normalization_11[0][0]     \n",
      "__________________________________________________________________________________________________\n",
      "dropout_11 (Dropout)            (None, 1, 1, 512)    0           max_pooling2d_11[0][0]           \n",
      "__________________________________________________________________________________________________\n",
      "global_max_pooling2d_1 (GlobalM (None, 512)          0           dropout_11[0][0]                 \n",
      "__________________________________________________________________________________________________\n",
      "dense_1 (Dense)                 (None, 4096)         2101248     global_max_pooling2d_1[0][0]     \n",
      "__________________________________________________________________________________________________\n",
      "dropout_12 (Dropout)            (None, 4096)         0           dense_1[0][0]                    \n",
      "__________________________________________________________________________________________________\n",
      "dense_2 (Dense)                 (None, 4096)         16781312    dropout_12[0][0]                 \n",
      "__________________________________________________________________________________________________\n",
      "dropout_13 (Dropout)            (None, 4096)         0           dense_2[0][0]                    \n",
      "__________________________________________________________________________________________________\n",
      "dense_3 (Dense)                 (None, 128)          524416      dropout_13[0][0]                 \n",
      "__________________________________________________________________________________________________\n",
      "dropout_14 (Dropout)            (None, 128)          0           dense_3[0][0]                    \n",
      "__________________________________________________________________________________________________\n",
      "dense_4 (Dense)                 (None, 10)           1290        dropout_14[0][0]                 \n",
      "==================================================================================================\n",
      "Total params: 23,623,882\n",
      "Trainable params: 23,620,426\n",
      "Non-trainable params: 3,456\n",
      "__________________________________________________________________________________________________\n"
     ]
    }
   ],
   "source": [
    "model = build_model()\n",
    "model.summary()"
   ]
  },
  {
   "cell_type": "code",
   "execution_count": 16,
   "metadata": {
    "collapsed": true
   },
   "outputs": [],
   "source": [
    "def saveModel(model, run_name):\n",
    "    cwd = os.getcwd()\n",
    "    modelPath = os.path.join(cwd, 'model')\n",
    "    if not os.path.isdir(modelPath):\n",
    "        os.mkdir(modelPath)\n",
    "    weigthsFile = os.path.join(modelPath, run_name + '.h5')\n",
    "    model.save(weigthsFile)\n",
    "# saveModel(model, 'saveModel_test')"
   ]
  },
  {
   "cell_type": "code",
   "execution_count": 17,
   "metadata": {
    "collapsed": true
   },
   "outputs": [],
   "source": [
    "annealer = LearningRateScheduler(lambda x: 1e-3 * 0.995 ** x)\n",
    "\n",
    "# def get_lr(x):\n",
    "#     lr = round(1e-4 * 0.995 ** x, 6)\n",
    "#     if lr < 5e-5:\n",
    "#         lr = 5e-5\n",
    "#     print(lr, end='  ')\n",
    "#     return lr\n",
    "# annealer = LearningRateScheduler(get_lr)\n",
    "\n",
    "# log_dir = os.path.join(log_path, run_name)\n",
    "# print('log_dir:' + log_dir)\n",
    "# tensorBoard = TensorBoard(log_dir=log_dir)\n",
    "\n",
    "callbacks = [annealer]"
   ]
  },
  {
   "cell_type": "code",
   "execution_count": 18,
   "metadata": {
    "collapsed": true
   },
   "outputs": [],
   "source": [
    "train_datagen = ImageDataGenerator(\n",
    "    zoom_range = 0.2,\n",
    "    rotation_range = 20,\n",
    "    height_shift_range = 0.2,\n",
    "    width_shift_range = 0.2\n",
    ")\n",
    "\n",
    "val_datagen = ImageDataGenerator()"
   ]
  },
  {
   "cell_type": "code",
   "execution_count": 19,
   "metadata": {},
   "outputs": [
    {
     "name": "stdout",
     "output_type": "stream",
     "text": [
      "Epoch 1/50\n",
      "312/311 [==============================] - 49s 156ms/step - loss: 1.1657 - acc: 0.6023 - val_loss: 6.7305 - val_acc: 0.1238\n",
      "Epoch 2/50\n",
      "312/311 [==============================] - 46s 148ms/step - loss: 0.2750 - acc: 0.9306 - val_loss: 0.2028 - val_acc: 0.9438\n",
      "Epoch 3/50\n",
      "312/311 [==============================] - 47s 150ms/step - loss: 0.1919 - acc: 0.9516 - val_loss: 0.1119 - val_acc: 0.9757\n",
      "Epoch 4/50\n",
      "312/311 [==============================] - 46s 148ms/step - loss: 0.1620 - acc: 0.9594 - val_loss: 0.0415 - val_acc: 0.9857\n",
      "Epoch 5/50\n",
      "312/311 [==============================] - 46s 149ms/step - loss: 0.1355 - acc: 0.9663 - val_loss: 0.0490 - val_acc: 0.9843\n",
      "Epoch 6/50\n",
      "312/311 [==============================] - 47s 149ms/step - loss: 0.1308 - acc: 0.9674 - val_loss: 0.0377 - val_acc: 0.9905\n",
      "Epoch 7/50\n",
      "312/311 [==============================] - 47s 151ms/step - loss: 0.1237 - acc: 0.9694 - val_loss: 0.0315 - val_acc: 0.9905\n",
      "Epoch 8/50\n",
      "312/311 [==============================] - 47s 152ms/step - loss: 0.1142 - acc: 0.9711 - val_loss: 0.0439 - val_acc: 0.9876\n",
      "Epoch 9/50\n",
      "312/311 [==============================] - 47s 150ms/step - loss: 0.1128 - acc: 0.9730 - val_loss: 0.0418 - val_acc: 0.9900\n",
      "Epoch 10/50\n",
      "312/311 [==============================] - 47s 151ms/step - loss: 0.1050 - acc: 0.9736 - val_loss: 0.0335 - val_acc: 0.9919\n",
      "Epoch 11/50\n",
      "312/311 [==============================] - 48s 153ms/step - loss: 0.1020 - acc: 0.9745 - val_loss: 0.0414 - val_acc: 0.9900\n",
      "Epoch 12/50\n",
      "312/311 [==============================] - 47s 151ms/step - loss: 0.0980 - acc: 0.9769 - val_loss: 0.0555 - val_acc: 0.9905\n",
      "Epoch 13/50\n",
      "312/311 [==============================] - 47s 152ms/step - loss: 0.1032 - acc: 0.9750 - val_loss: 0.0269 - val_acc: 0.9924\n",
      "Epoch 14/50\n",
      "312/311 [==============================] - 48s 152ms/step - loss: 0.0947 - acc: 0.9773 - val_loss: 0.0261 - val_acc: 0.9943\n",
      "Epoch 15/50\n",
      "  1/311 [..............................] - ETA: 5:26 - loss: 0.0347 - acc: 1.0000"
     ]
    },
    {
     "name": "stderr",
     "output_type": "stream",
     "text": [
      "C:\\ProgramData\\Anaconda3\\envs\\gpu\\lib\\site-packages\\keras\\callbacks.py:116: UserWarning: Method on_batch_end() is slow compared to the batch update (0.175482). Check your callbacks.\n",
      "  % delta_t_median)\n"
     ]
    },
    {
     "name": "stdout",
     "output_type": "stream",
     "text": [
      "312/311 [==============================] - 47s 150ms/step - loss: 0.0896 - acc: 0.9790 - val_loss: 0.0335 - val_acc: 0.9924\n",
      "Epoch 16/50\n",
      "312/311 [==============================] - 46s 148ms/step - loss: 0.0829 - acc: 0.9797 - val_loss: 0.0262 - val_acc: 0.9924\n",
      "Epoch 17/50\n",
      "312/311 [==============================] - 47s 150ms/step - loss: 0.0784 - acc: 0.9812 - val_loss: 0.0279 - val_acc: 0.9948\n",
      "Epoch 18/50\n",
      "312/311 [==============================] - 47s 149ms/step - loss: 0.0846 - acc: 0.9802 - val_loss: 0.0219 - val_acc: 0.9905\n",
      "Epoch 19/50\n",
      "312/311 [==============================] - 47s 149ms/step - loss: 0.0804 - acc: 0.9809 - val_loss: 0.0323 - val_acc: 0.9919\n",
      "Epoch 20/50\n",
      "312/311 [==============================] - 47s 150ms/step - loss: 0.0721 - acc: 0.9823 - val_loss: 0.0149 - val_acc: 0.9962\n",
      "Epoch 21/50\n",
      "312/311 [==============================] - 47s 149ms/step - loss: 0.0720 - acc: 0.9819 - val_loss: 0.0393 - val_acc: 0.9914\n",
      "Epoch 22/50\n",
      "312/311 [==============================] - 46s 148ms/step - loss: 0.0782 - acc: 0.9817 - val_loss: 0.0203 - val_acc: 0.9938\n",
      "Epoch 23/50\n",
      "312/311 [==============================] - 47s 149ms/step - loss: 0.0799 - acc: 0.9807 - val_loss: 0.0375 - val_acc: 0.9914\n",
      "Epoch 24/50\n",
      "312/311 [==============================] - 48s 153ms/step - loss: 0.0751 - acc: 0.9817 - val_loss: 0.0217 - val_acc: 0.9929\n",
      "Epoch 25/50\n",
      "312/311 [==============================] - 47s 151ms/step - loss: 0.0690 - acc: 0.9829 - val_loss: 0.0175 - val_acc: 0.9933\n",
      "Epoch 26/50\n",
      "312/311 [==============================] - 47s 150ms/step - loss: 0.0739 - acc: 0.9826 - val_loss: 0.0297 - val_acc: 0.9914\n",
      "Epoch 27/50\n",
      "312/311 [==============================] - 47s 151ms/step - loss: 0.0632 - acc: 0.9840 - val_loss: 0.0210 - val_acc: 0.9933\n",
      "Epoch 28/50\n",
      "312/311 [==============================] - 47s 151ms/step - loss: 0.0681 - acc: 0.9831 - val_loss: 0.0204 - val_acc: 0.9943\n",
      "Epoch 29/50\n",
      "312/311 [==============================] - 47s 151ms/step - loss: 0.0702 - acc: 0.9834 - val_loss: 0.0336 - val_acc: 0.9910\n",
      "Epoch 30/50\n",
      "312/311 [==============================] - 47s 152ms/step - loss: 0.0673 - acc: 0.9839 - val_loss: 0.0209 - val_acc: 0.9924\n",
      "Epoch 31/50\n",
      "312/311 [==============================] - 47s 151ms/step - loss: 0.0646 - acc: 0.9843 - val_loss: 0.0301 - val_acc: 0.9929\n",
      "Epoch 32/50\n",
      "312/311 [==============================] - 47s 152ms/step - loss: 0.0684 - acc: 0.9838 - val_loss: 0.0191 - val_acc: 0.9948\n",
      "Epoch 33/50\n",
      "312/311 [==============================] - 48s 152ms/step - loss: 0.0668 - acc: 0.9839 - val_loss: 0.0427 - val_acc: 0.9895\n",
      "Epoch 34/50\n",
      "312/311 [==============================] - 47s 150ms/step - loss: 0.0580 - acc: 0.9854 - val_loss: 0.0168 - val_acc: 0.9933\n",
      "Epoch 35/50\n",
      "312/311 [==============================] - 47s 150ms/step - loss: 0.0593 - acc: 0.9857 - val_loss: 0.0181 - val_acc: 0.9938\n",
      "Epoch 36/50\n",
      "312/311 [==============================] - 47s 149ms/step - loss: 0.0608 - acc: 0.9851 - val_loss: 0.0185 - val_acc: 0.9948\n",
      "Epoch 37/50\n",
      "312/311 [==============================] - 47s 150ms/step - loss: 0.0582 - acc: 0.9865 - val_loss: 0.0265 - val_acc: 0.9900\n",
      "Epoch 38/50\n",
      "312/311 [==============================] - 46s 149ms/step - loss: 0.0599 - acc: 0.9852 - val_loss: 0.0182 - val_acc: 0.9948\n",
      "Epoch 39/50\n",
      "312/311 [==============================] - 47s 151ms/step - loss: 0.0558 - acc: 0.9862 - val_loss: 0.0166 - val_acc: 0.9962\n",
      "Epoch 40/50\n",
      "312/311 [==============================] - 47s 152ms/step - loss: 0.0596 - acc: 0.9850 - val_loss: 0.0291 - val_acc: 0.9933\n",
      "Epoch 41/50\n",
      "312/311 [==============================] - 47s 150ms/step - loss: 0.0570 - acc: 0.9860 - val_loss: 0.0216 - val_acc: 0.9933\n",
      "Epoch 42/50\n",
      "312/311 [==============================] - 47s 149ms/step - loss: 0.0590 - acc: 0.9854 - val_loss: 0.0264 - val_acc: 0.9943\n",
      "Epoch 43/50\n",
      "312/311 [==============================] - 46s 149ms/step - loss: 0.0560 - acc: 0.9860 - val_loss: 0.0138 - val_acc: 0.9948\n",
      "Epoch 44/50\n",
      "312/311 [==============================] - 46s 149ms/step - loss: 0.0594 - acc: 0.9864 - val_loss: 0.0138 - val_acc: 0.9962\n",
      "Epoch 45/50\n",
      "312/311 [==============================] - 47s 152ms/step - loss: 0.0530 - acc: 0.9872 - val_loss: 0.0271 - val_acc: 0.9924\n",
      "Epoch 46/50\n",
      "312/311 [==============================] - 47s 150ms/step - loss: 0.0501 - acc: 0.9880 - val_loss: 0.0285 - val_acc: 0.9924\n",
      "Epoch 47/50\n",
      "312/311 [==============================] - 47s 150ms/step - loss: 0.0527 - acc: 0.9869 - val_loss: 0.0158 - val_acc: 0.9957\n",
      "Epoch 48/50\n",
      "312/311 [==============================] - 48s 153ms/step - loss: 0.0488 - acc: 0.9874 - val_loss: 0.0234 - val_acc: 0.9933\n",
      "Epoch 49/50\n",
      "312/311 [==============================] - 47s 152ms/step - loss: 0.0523 - acc: 0.9870 - val_loss: 0.0259 - val_acc: 0.9938\n",
      "Epoch 50/50\n",
      "312/311 [==============================] - 47s 151ms/step - loss: 0.0473 - acc: 0.9882 - val_loss: 0.0182 - val_acc: 0.9929\n",
      "Wall time: 39min 49s\n"
     ]
    }
   ],
   "source": [
    "%%time\n",
    "batch_size = 128\n",
    "steps_per_epoch = x_train.shape[0] / batch_size\n",
    "hist = model.fit_generator(\n",
    "    train_datagen.flow(x_train, y_train, batch_size=batch_size, seed=2018),\n",
    "    steps_per_epoch=steps_per_epoch,\n",
    "    epochs=50, #Increase this when not on Kaggle kernel\n",
    "    verbose=1,  #1 for ETA, 0 for silent\n",
    "    callbacks=callbacks,\n",
    "    max_queue_size=256,\n",
    "    workers=32,\n",
    "    validation_steps=1000,\n",
    "    validation_data=val_datagen.flow(x_val, y_val, batch_size=32, seed=2018)\n",
    ")"
   ]
  },
  {
   "cell_type": "code",
   "execution_count": 20,
   "metadata": {},
   "outputs": [
    {
     "name": "stdout",
     "output_type": "stream",
     "text": [
      "Final loss: 0.0182, final accuracy: 0.9929\n"
     ]
    }
   ],
   "source": [
    "final_loss, final_acc = model.evaluate(x_val, y_val, verbose=0)\n",
    "print(\"Final loss: {0:.4f}, final accuracy: {1:.4f}\".format(final_loss, final_acc))"
   ]
  },
  {
   "cell_type": "code",
   "execution_count": 21,
   "metadata": {},
   "outputs": [
    {
     "name": "stdout",
     "output_type": "stream",
     "text": [
      "Digit_Recognizer_Inception_20180114_180106_9928\n"
     ]
    }
   ],
   "source": [
    "final_acc_str = '{0:0>4}'.format(int(final_acc*10000))\n",
    "run_name_acc = project_name + '_' + step_name + '_' + time_str + '_' + final_acc_str\n",
    "print(run_name_acc)"
   ]
  },
  {
   "cell_type": "code",
   "execution_count": 22,
   "metadata": {},
   "outputs": [
    {
     "name": "stdout",
     "output_type": "stream",
     "text": [
      "Index(['acc', 'loss', 'val_acc', 'val_loss', 'epoch'], dtype='object')\n"
     ]
    }
   ],
   "source": [
    "histories = pd.DataFrame(hist.history)\n",
    "histories['epoch'] = hist.epoch\n",
    "print(histories.columns)\n",
    "histories_file = os.path.join(model_path, run_name_acc + '.csv')\n",
    "histories.to_csv(histories_file, index=False)"
   ]
  },
  {
   "cell_type": "code",
   "execution_count": 23,
   "metadata": {},
   "outputs": [
    {
     "data": {
      "image/png": "[encoded data removed]",
      "text/plain": [
       "<matplotlib.figure.Figure at 0x831f507748>"
      ]
     },
     "metadata": {},
     "output_type": "display_data"
    },
    {
     "data": {
      "image/png": "[encoded data removed]",
      "text/plain": [
       "<matplotlib.figure.Figure at 0x831fedb390>"
      ]
     },
     "metadata": {},
     "output_type": "display_data"
    }
   ],
   "source": [
    "plt.plot(hist.history['loss'], color='b')\n",
    "plt.plot(hist.history['val_loss'], color='r')\n",
    "plt.show()\n",
    "plt.plot(hist.history['acc'], color='b')\n",
    "plt.plot(hist.history['val_acc'], color='r')\n",
    "plt.show()"
   ]
  },
  {
   "cell_type": "code",
   "execution_count": 24,
   "metadata": {
    "collapsed": true
   },
   "outputs": [],
   "source": [
    "saveModel(model, run_name_acc)"
   ]
  },
  {
   "cell_type": "code",
   "execution_count": 25,
   "metadata": {
    "collapsed": true
   },
   "outputs": [],
   "source": [
    "# y_hat = model.predict(x_val)\n",
    "# y_pred = np.argmax(y_hat, axis=1)\n",
    "# y_true = np.argmax(y_val, axis=1)\n",
    "# cm = confusion_matrix(y_true, y_pred)\n",
    "# print(cm)"
   ]
  },
  {
   "cell_type": "code",
   "execution_count": 26,
   "metadata": {},
   "outputs": [
    {
     "name": "stdout",
     "output_type": "stream",
     "text": [
      "accuracy_score: 0.992857142857\n",
      "[[214   0   0   0   0   0   0   0   0   0]\n",
      " [  0 247   0   0   0   0   0   1   0   0]\n",
      " [  0   0 221   0   0   0   0   0   0   0]\n",
      " [  0   0   0 185   0   0   0   0   1   1]\n",
      " [  0   0   0   0 228   0   0   0   0   1]\n",
      " [  0   0   0   2   0 192   2   0   1   0]\n",
      " [  3   0   0   0   0   0 194   0   0   0]\n",
      " [  0   0   0   0   0   0   0 188   0   0]\n",
      " [  0   0   0   0   0   0   0   0 210   1]\n",
      " [  1   0   0   0   1   0   0   0   0 206]]\n",
      "count: 15\n",
      "(15,)\n"
     ]
    },
    {
     "data": {
      "image/png": "[encoded data removed]",
      "text/plain": [
       "<matplotlib.figure.Figure at 0x831f5bfbe0>"
      ]
     },
     "metadata": {},
     "output_type": "display_data"
    }
   ],
   "source": [
    "from sklearn.metrics import confusion_matrix, accuracy_score\n",
    "def show_diffs(model, x_data, y_data, labels):\n",
    "    y_hat = model.predict(x_data)\n",
    "    y_pred = np.argmax(y_hat, axis=1)\n",
    "    y_true = np.argmax(y_data, axis=1)\n",
    "    print('accuracy_score: %s' % accuracy_score(y_true, y_pred))\n",
    "    cm = confusion_matrix(y_true, y_pred, labels)\n",
    "    print(cm)\n",
    "    indexes = []\n",
    "    diffs = []\n",
    "    for i, p in enumerate(zip(y_true, y_pred)):\n",
    "        if p[0] != p[1]:\n",
    "            indexes.append(i)\n",
    "            diffs.append(p)\n",
    "    count = len(indexes)\n",
    "    print('count: %s' % count)\n",
    "    figs, axes = plt.subplots(count, 1, figsize=(count,50))\n",
    "    print(axes.shape)\n",
    "    for i, p in enumerate(diffs):\n",
    "        axes[i].imshow(x_val[indexes[i]].reshape(28, 28), cmap='gray')\n",
    "        axes[i].set_title('%s -> %s' % (p[0], p[1]))\n",
    "        \n",
    "show_diffs(model, x_val, y_val, labels=list(range(0, 10)))"
   ]
  },
  {
   "cell_type": "markdown",
   "metadata": {},
   "source": [
    "## Predict"
   ]
  },
  {
   "cell_type": "code",
   "execution_count": 27,
   "metadata": {},
   "outputs": [
    {
     "name": "stdout",
     "output_type": "stream",
     "text": [
      "E:\\Kaggle\\digit-recognizer\\output\\Digit_Recognizer_Inception_20180114_180106_9928.csv\n"
     ]
    }
   ],
   "source": [
    "if not os.path.exists(output_path):\n",
    "    os.mkdir(output_path)\n",
    "pred_file = os.path.join(output_path, run_name_acc + '.csv')\n",
    "print(pred_file)"
   ]
  },
  {
   "cell_type": "code",
   "execution_count": 28,
   "metadata": {
    "collapsed": true
   },
   "outputs": [],
   "source": [
    "y_hat = model.predict(x_test, batch_size=64)"
   ]
  },
  {
   "cell_type": "code",
   "execution_count": 29,
   "metadata": {
    "collapsed": true
   },
   "outputs": [],
   "source": [
    "y_pred = np.argmax(y_hat,axis=1)"
   ]
  },
  {
   "cell_type": "code",
   "execution_count": 30,
   "metadata": {
    "collapsed": true
   },
   "outputs": [],
   "source": [
    "with open(pred_file, 'w') as f :\n",
    "    f.write('ImageId,Label\\n')\n",
    "    for i in range(len(y_pred)) :\n",
    "        f.write(\"\".join([str(i+1),',',str(y_pred[i]),'\\n']))"
   ]
  },
  {
   "cell_type": "code",
   "execution_count": 31,
   "metadata": {},
   "outputs": [
    {
     "name": "stdout",
     "output_type": "stream",
     "text": [
      "time cost: 2496.14 s\n",
      "Done!\n"
     ]
    }
   ],
   "source": [
    "t1 = time.time()\n",
    "print('time cost: %.2f s' % (t1-t0))\n",
    "print('Done!')"
   ]
  },
  {
   "cell_type": "code",
   "execution_count": 32,
   "metadata": {},
   "outputs": [
    {
     "name": "stdout",
     "output_type": "stream",
     "text": [
      "Digit_Recognizer_Inception_20180114_180106_9928\n"
     ]
    }
   ],
   "source": [
    "print(run_name_acc)"
   ]
  },
  {
   "cell_type": "code",
   "execution_count": null,
   "metadata": {
    "collapsed": true
   },
   "outputs": [],
   "source": []
  }
 ],
 "metadata": {
  "kernelspec": {
   "display_name": "Python 3",
   "language": "python",
   "name": "python3"
  },
  "language_info": {
   "codemirror_mode": {
    "name": "ipython",
    "version": 3
   },
   "file_extension": ".py",
   "mimetype": "text/x-python",
   "name": "python",
   "nbconvert_exporter": "python",
   "pygments_lexer": "ipython3",
   "version": "3.5.4"
  }
 },
 "nbformat": 4,
 "nbformat_minor": 2
}
