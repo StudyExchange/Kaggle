{
 "cells": [
  {
   "cell_type": "markdown",
   "metadata": {},
   "source": [
    "# Inception\n",
    "\n",
    "### Kaggle score: --\n",
    "\n",
    "### References:\n",
    "1. https://www.kaggle.com/toregil/welcome-to-deep-learning-cnn-99"
   ]
  },
  {
   "cell_type": "code",
   "execution_count": 1,
   "metadata": {
    "collapsed": true
   },
   "outputs": [],
   "source": [
    "import numpy as np\n",
    "import pandas as pd\n",
    "from sklearn.model_selection import train_test_split\n",
    "from sklearn.metrics import confusion_matrix\n",
    "\n",
    "import matplotlib.pyplot as plt\n",
    "%matplotlib inline"
   ]
  },
  {
   "cell_type": "code",
   "execution_count": 2,
   "metadata": {
    "collapsed": true
   },
   "outputs": [],
   "source": [
    "import os\n",
    "import time\n",
    "import zipfile\n",
    "import lzma\n",
    "import pickle\n",
    "from PIL import Image\n",
    "from shutil import copy2\n",
    "import gc\n",
    "\n",
    "import cv2"
   ]
  },
  {
   "cell_type": "markdown",
   "metadata": {},
   "source": [
    "### Run name"
   ]
  },
  {
   "cell_type": "code",
   "execution_count": 3,
   "metadata": {},
   "outputs": [
    {
     "name": "stdout",
     "output_type": "stream",
     "text": [
      "run_name: Digit_Recognizer_Inception_20180227_104110\n"
     ]
    }
   ],
   "source": [
    "project_name = 'Digit_Recognizer'\n",
    "step_name = 'Inception'\n",
    "date_str = time.strftime(\"%Y%m%d\", time.localtime())\n",
    "time_str = time.strftime(\"%Y%m%d_%H%M%S\", time.localtime())\n",
    "run_name = project_name + '_' + step_name + '_' + time_str\n",
    "print('run_name: ' + run_name)\n",
    "t0 = time.time()"
   ]
  },
  {
   "cell_type": "markdown",
   "metadata": {},
   "source": [
    "### Basic folders"
   ]
  },
  {
   "cell_type": "code",
   "execution_count": 4,
   "metadata": {},
   "outputs": [
    {
     "name": "stdout",
     "output_type": "stream",
     "text": [
      "input_path: D:\\ref\\Kaggle\\digit-recognizer\\input\n",
      "log_path: D:\\ref\\Kaggle\\digit-recognizer\\log\n",
      "model_path: D:\\ref\\Kaggle\\digit-recognizer\\model\n",
      "output_path: D:\\ref\\Kaggle\\digit-recognizer\\output\n"
     ]
    }
   ],
   "source": [
    "cwd = os.getcwd()\n",
    "input_path = os.path.join(cwd, 'input')\n",
    "log_path = os.path.join(cwd, 'log')\n",
    "model_path = os.path.join(cwd, 'model')\n",
    "output_path = os.path.join(cwd, 'output')\n",
    "print('input_path: ' + input_path)\n",
    "print('log_path: ' + log_path)\n",
    "print('model_path: ' + model_path)\n",
    "print('output_path: ' + output_path)"
   ]
  },
  {
   "cell_type": "markdown",
   "metadata": {},
   "source": [
    "### Basic functions"
   ]
  },
  {
   "cell_type": "code",
   "execution_count": 5,
   "metadata": {
    "collapsed": true
   },
   "outputs": [],
   "source": [
    "import sys\n",
    "def describe(arr):\n",
    "    print(arr.shape, arr.min(), arr.max(), sys.getsizeof(arr))"
   ]
  },
  {
   "cell_type": "code",
   "execution_count": 6,
   "metadata": {
    "collapsed": true
   },
   "outputs": [],
   "source": [
    "def show_data_images(rows, fig_column, y_data, *args):\n",
    "    columns = len(args)\n",
    "    figs, axes = plt.subplots(rows, columns, figsize=(rows, fig_column*columns))\n",
    "    print(axes.shape)  \n",
    "    for i, ax in enumerate(axes):\n",
    "        y_data_str = ''\n",
    "        if type(y_data) != type(None):\n",
    "            y_data_str =  '_' + str(y_data[i])\n",
    "        ax[0].set_title('28x28' + y_data_str)\n",
    "        for j, arg in enumerate(args):\n",
    "            ax[j].imshow(arg[i])"
   ]
  },
  {
   "cell_type": "markdown",
   "metadata": {},
   "source": [
    "### Load data"
   ]
  },
  {
   "cell_type": "code",
   "execution_count": 7,
   "metadata": {
    "collapsed": true
   },
   "outputs": [],
   "source": [
    "train_file = os.path.join(input_path, 'train.csv')\n",
    "test_file = os.path.join(input_path, 'test.csv')"
   ]
  },
  {
   "cell_type": "code",
   "execution_count": 8,
   "metadata": {},
   "outputs": [
    {
     "name": "stdout",
     "output_type": "stream",
     "text": [
      "(42000, 784) 0 255 112\n",
      "(42000,) 0 9 96\n",
      "(28000, 784) 0 255 112\n",
      "Wall time: 41.7 s\n"
     ]
    }
   ],
   "source": [
    "%%time\n",
    "raw_data = np.loadtxt(train_file, skiprows=1, dtype='int', delimiter=',')\n",
    "x_data = raw_data[:,1:]\n",
    "y_data = raw_data[:,0]\n",
    "\n",
    "x_test = np.loadtxt(test_file, skiprows=1, dtype='int', delimiter=',')\n",
    "\n",
    "describe(x_data)\n",
    "describe(y_data)\n",
    "describe(x_test)"
   ]
  },
  {
   "cell_type": "code",
   "execution_count": 9,
   "metadata": {},
   "outputs": [
    {
     "name": "stdout",
     "output_type": "stream",
     "text": [
      "(42000, 784) 0.0 1.0 263424112\n",
      "(28000, 784) 0.0 1.0 175616112\n",
      "(42000, 28, 28, 1) 0.0 1.0 144\n",
      "(28000, 28, 28, 1) 0.0 1.0 144\n"
     ]
    }
   ],
   "source": [
    "x_data = x_data/255.\n",
    "x_test = x_test/255.\n",
    "\n",
    "describe(x_data)\n",
    "describe(x_test)\n",
    "\n",
    "x_data = x_data.reshape(-1, 28, 28, 1)\n",
    "x_test = x_test.reshape(-1, 28, 28, 1)\n",
    "\n",
    "describe(x_data)\n",
    "describe(x_test)"
   ]
  },
  {
   "cell_type": "code",
   "execution_count": 10,
   "metadata": {},
   "outputs": [
    {
     "data": {
      "text/plain": [
       "<matplotlib.text.Text at 0x22d9ce58208>"
      ]
     },
     "execution_count": 10,
     "metadata": {},
     "output_type": "execute_result"
    },
    {
     "data": {
      "image/png": "[encoded data removed]",
      "text/plain": [
       "<matplotlib.figure.Figure at 0x22d8b748ef0>"
      ]
     },
     "metadata": {},
     "output_type": "display_data"
    }
   ],
   "source": [
    "index = 0\n",
    "fig, ax = plt.subplots(2, 2, figsize=(12,6))\n",
    "ax[0, 0].plot(x_data[index].reshape(784,))\n",
    "ax[0, 0].set_title('784x1 data')\n",
    "ax[0, 1].imshow(x_data[index].reshape(28,28), cmap='gray')\n",
    "ax[0, 1].set_title('28x28 data => ' + str(y_data[index]))\n",
    "                 \n",
    "ax[1, 0].plot(x_test[index].reshape(784,))\n",
    "ax[1, 0].set_title('784x1 data')\n",
    "ax[1, 1].imshow(x_test[index].reshape(28,28), cmap='gray')\n",
    "ax[1, 1].set_title('28x28 data')"
   ]
  },
  {
   "cell_type": "code",
   "execution_count": 11,
   "metadata": {},
   "outputs": [
    {
     "name": "stderr",
     "output_type": "stream",
     "text": [
      "Using TensorFlow backend.\n"
     ]
    },
    {
     "name": "stdout",
     "output_type": "stream",
     "text": [
      "1\n",
      "[ 0.  1.  0.  0.  0.  0.  0.  0.  0.  0.]\n"
     ]
    }
   ],
   "source": [
    "from keras.utils.np_utils import to_categorical # convert to one-hot-encoding\n",
    "print(y_data[0])\n",
    "y_data = to_categorical(y_data)\n",
    "#example:\n",
    "print(y_data[0])"
   ]
  },
  {
   "cell_type": "code",
   "execution_count": 12,
   "metadata": {},
   "outputs": [
    {
     "name": "stdout",
     "output_type": "stream",
     "text": [
      "(39900, 28, 28, 1) 0.0 1.0 250252944\n",
      "(2100, 28, 28, 1) 0.0 1.0 13171344\n",
      "(39900, 10) 0.0 1.0 3192112\n",
      "(2100, 10) 0.0 1.0 168112\n"
     ]
    }
   ],
   "source": [
    "x_train, x_val, y_train, y_val = train_test_split(x_data, y_data, test_size=0.05, random_state=2018)\n",
    "describe(x_train)\n",
    "describe(x_val)\n",
    "describe(y_train)\n",
    "describe(y_val)"
   ]
  },
  {
   "cell_type": "markdown",
   "metadata": {},
   "source": [
    "### Build model"
   ]
  },
  {
   "cell_type": "code",
   "execution_count": 13,
   "metadata": {
    "collapsed": true
   },
   "outputs": [],
   "source": [
    "from keras.models import Sequential, Model\n",
    "from keras.layers import Dense, Dropout, Input, Flatten, Conv2D, MaxPooling2D, BatchNormalization, GlobalAveragePooling2D, GlobalMaxPooling2D, AveragePooling2D\n",
    "from keras.layers.merge import Concatenate\n",
    "from keras.optimizers import Adam\n",
    "from keras.preprocessing.image import ImageDataGenerator\n",
    "from keras.callbacks import LearningRateScheduler, TensorBoard"
   ]
  },
  {
   "cell_type": "code",
   "execution_count": 14,
   "metadata": {
    "collapsed": true
   },
   "outputs": [],
   "source": [
    "def build_model():\n",
    "    bn_model = 0\n",
    "    p_activation = \"relu\"\n",
    "    input_1 = Input(shape=(x_train.shape[1], x_train.shape[2], x_train.shape[3]), name=\"input\")\n",
    "    \n",
    "    img_1 = Conv2D(128, kernel_size = (1,1), activation=p_activation, padding='same')(input_1)\n",
    "    img_1 = BatchNormalization()(img_1)\n",
    "    img_1 = AveragePooling2D((2,2), padding='same') (img_1)\n",
    "    img_1 = Dropout(0.25)(img_1)\n",
    "\n",
    "    img_3 = Conv2D(128, kernel_size = (3,3), activation=p_activation, padding='same')(input_1)\n",
    "    img_3 = BatchNormalization()(img_3)\n",
    "    img_3 = AveragePooling2D((2,2), padding='same') (img_3)\n",
    "    img_3 = Dropout(0.25)(img_3)\n",
    "    \n",
    "    img_5 = Conv2D(128, kernel_size = (5,5), activation=p_activation, padding='same')(input_1)\n",
    "    img_5 = BatchNormalization()(img_5)\n",
    "    img_5 = AveragePooling2D((2,2), padding='same') (img_5)\n",
    "    img_5 = Dropout(0.25)(img_5)\n",
    "    \n",
    "    img_9 = Conv2D(128, kernel_size = (9,9), activation=p_activation, padding='same')(input_1)\n",
    "    img_9 = BatchNormalization()(img_9)\n",
    "    img_9 = AveragePooling2D((2,2), padding='same') (img_9)\n",
    "    img_9 = Dropout(0.25)(img_9)\n",
    "\n",
    "    concat_layer = (Concatenate()([img_1, img_3, img_5, img_9]))\n",
    "#############################################################################################\n",
    "    img_1 = Conv2D(128, kernel_size = (1,1), activation=p_activation, padding='same')(concat_layer)\n",
    "    img_1 = BatchNormalization()(img_1)\n",
    "    img_1 = AveragePooling2D((2,2), padding='same') (img_1)\n",
    "    img_1 = Dropout(0.25)(img_1)\n",
    "\n",
    "    img_3 = Conv2D(128, kernel_size = (3,3), activation=p_activation, padding='same')(concat_layer)\n",
    "    img_3 = BatchNormalization()(img_3)\n",
    "    img_3 = AveragePooling2D((2,2), padding='same') (img_3)\n",
    "    img_3 = Dropout(0.25)(img_3)\n",
    "    \n",
    "    img_5 = Conv2D(128, kernel_size = (5,5), activation=p_activation, padding='same')(concat_layer)\n",
    "    img_5 = BatchNormalization()(img_5)\n",
    "    img_5 = AveragePooling2D((2,2), padding='same') (img_5)\n",
    "    img_5 = Dropout(0.25)(img_5)\n",
    "    \n",
    "    img_9 = Conv2D(128, kernel_size = (9,9), activation=p_activation, padding='same')(concat_layer)\n",
    "    img_9 = BatchNormalization()(img_9)\n",
    "    img_9 = AveragePooling2D((2,2), padding='same') (img_9)\n",
    "    img_9 = Dropout(0.25)(img_9)\n",
    "\n",
    "    concat_layer = (Concatenate()([img_1, img_3, img_5, img_9]))\n",
    "#############################################################################################\n",
    "    img_1 = Conv2D(128, kernel_size = (1,1), activation=p_activation, padding='same')(concat_layer)\n",
    "    img_1 = BatchNormalization()(img_1)\n",
    "    img_1 = AveragePooling2D((2,2), padding='same') (img_1)\n",
    "    img_1 = Dropout(0.25)(img_1)\n",
    "\n",
    "    img_3 = Conv2D(128, kernel_size = (3,3), activation=p_activation, padding='same')(concat_layer)\n",
    "    img_3 = BatchNormalization()(img_3)\n",
    "    img_3 = AveragePooling2D((2,2), padding='same') (img_3)\n",
    "    img_3 = Dropout(0.25)(img_3)\n",
    "    \n",
    "    img_5 = Conv2D(128, kernel_size = (5,5), activation=p_activation, padding='same')(concat_layer)\n",
    "    img_5 = BatchNormalization()(img_5)\n",
    "    img_5 = AveragePooling2D((2,2), padding='same') (img_5)\n",
    "    img_5 = Dropout(0.25)(img_5)\n",
    "    \n",
    "    img_9 = Conv2D(128, kernel_size = (9,9), activation=p_activation, padding='same')(concat_layer)\n",
    "    img_9 = BatchNormalization()(img_9)\n",
    "    img_9 = AveragePooling2D((2,2), padding='same') (img_9)\n",
    "    img_9 = Dropout(0.25)(img_9)\n",
    "\n",
    "    concat_layer = (Concatenate()([img_1, img_3, img_5, img_9]))\n",
    "#############################################################################################\n",
    "    img_1 = Conv2D(1024, kernel_size = (3,3), activation=p_activation, padding='same')(concat_layer)\n",
    "    img_1 = BatchNormalization()(img_1)\n",
    "    img_1 = Conv2D(1024, kernel_size = (3,3), activation=p_activation, padding='same')(concat_layer)\n",
    "    img_1 = BatchNormalization()(img_1)\n",
    "    img_1 = Conv2D(1024, kernel_size = (3,3), activation=p_activation, padding='same')(concat_layer)\n",
    "    img_1 = BatchNormalization()(img_1)\n",
    "    img_1 = AveragePooling2D((2,2)) (img_1)\n",
    "    img_1 = Dropout(0.25)(img_1)\n",
    "#############################################################################################\n",
    "    img_1 = Conv2D(1024, kernel_size = (3,3), activation=p_activation, padding='same')(img_1)\n",
    "    img_1 = BatchNormalization()(img_1)\n",
    "    img_1 = Conv2D(1024, kernel_size = (3,3), activation=p_activation, padding='same')(img_1)\n",
    "    img_1 = BatchNormalization()(img_1)\n",
    "    img_1 = Conv2D(1024, kernel_size = (3,3), activation=p_activation, padding='same')(img_1)\n",
    "    img_1 = BatchNormalization()(img_1)\n",
    "    img_1 = AveragePooling2D((2,2)) (img_1)\n",
    "    img_1 = Dropout(0.25)(img_1)\n",
    "#############################################################################################\n",
    "\n",
    "    img_1 = GlobalAveragePooling2D() (img_1)\n",
    "\n",
    "    dense_ayer = Dense(4096, activation=p_activation)(img_1)\n",
    "#     dense_ayer = BatchNormalization()(dense_ayer)\n",
    "    dense_ayer = Dropout(0.25)(dense_ayer)\n",
    "    dense_ayer = Dense(4096, activation=p_activation)(dense_ayer)\n",
    "    dense_ayer = Dropout(0.25)(dense_ayer)\n",
    "    dense_ayer = Dense(1024, activation=p_activation)(dense_ayer)\n",
    "    dense_ayer = Dropout(0.25)(dense_ayer)\n",
    "    output = Dense(10, activation='softmax')(dense_ayer)\n",
    "\n",
    "    model = Model(input_1, output)\n",
    "    \n",
    "    model.compile(loss='categorical_crossentropy', optimizer = Adam(lr=1e-4), metrics=[\"accuracy\"])\n",
    "    return model"
   ]
  },
  {
   "cell_type": "code",
   "execution_count": 15,
   "metadata": {},
   "outputs": [
    {
     "name": "stdout",
     "output_type": "stream",
     "text": [
      "__________________________________________________________________________________________________\n",
      "Layer (type)                    Output Shape         Param #     Connected to                     \n",
      "==================================================================================================\n",
      "input (InputLayer)              (None, 28, 28, 1)    0                                            \n",
      "__________________________________________________________________________________________________\n",
      "conv2d_1 (Conv2D)               (None, 28, 28, 128)  256         input[0][0]                      \n",
      "__________________________________________________________________________________________________\n",
      "conv2d_2 (Conv2D)               (None, 28, 28, 128)  1280        input[0][0]                      \n",
      "__________________________________________________________________________________________________\n",
      "conv2d_3 (Conv2D)               (None, 28, 28, 128)  3328        input[0][0]                      \n",
      "__________________________________________________________________________________________________\n",
      "conv2d_4 (Conv2D)               (None, 28, 28, 128)  10496       input[0][0]                      \n",
      "__________________________________________________________________________________________________\n",
      "batch_normalization_1 (BatchNor (None, 28, 28, 128)  512         conv2d_1[0][0]                   \n",
      "__________________________________________________________________________________________________\n",
      "batch_normalization_2 (BatchNor (None, 28, 28, 128)  512         conv2d_2[0][0]                   \n",
      "__________________________________________________________________________________________________\n",
      "batch_normalization_3 (BatchNor (None, 28, 28, 128)  512         conv2d_3[0][0]                   \n",
      "__________________________________________________________________________________________________\n",
      "batch_normalization_4 (BatchNor (None, 28, 28, 128)  512         conv2d_4[0][0]                   \n",
      "__________________________________________________________________________________________________\n",
      "average_pooling2d_1 (AveragePoo (None, 14, 14, 128)  0           batch_normalization_1[0][0]      \n",
      "__________________________________________________________________________________________________\n",
      "average_pooling2d_2 (AveragePoo (None, 14, 14, 128)  0           batch_normalization_2[0][0]      \n",
      "__________________________________________________________________________________________________\n",
      "average_pooling2d_3 (AveragePoo (None, 14, 14, 128)  0           batch_normalization_3[0][0]      \n",
      "__________________________________________________________________________________________________\n",
      "average_pooling2d_4 (AveragePoo (None, 14, 14, 128)  0           batch_normalization_4[0][0]      \n",
      "__________________________________________________________________________________________________\n",
      "dropout_1 (Dropout)             (None, 14, 14, 128)  0           average_pooling2d_1[0][0]        \n",
      "__________________________________________________________________________________________________\n",
      "dropout_2 (Dropout)             (None, 14, 14, 128)  0           average_pooling2d_2[0][0]        \n",
      "__________________________________________________________________________________________________\n",
      "dropout_3 (Dropout)             (None, 14, 14, 128)  0           average_pooling2d_3[0][0]        \n",
      "__________________________________________________________________________________________________\n",
      "dropout_4 (Dropout)             (None, 14, 14, 128)  0           average_pooling2d_4[0][0]        \n",
      "__________________________________________________________________________________________________\n",
      "concatenate_1 (Concatenate)     (None, 14, 14, 512)  0           dropout_1[0][0]                  \n",
      "                                                                 dropout_2[0][0]                  \n",
      "                                                                 dropout_3[0][0]                  \n",
      "                                                                 dropout_4[0][0]                  \n",
      "__________________________________________________________________________________________________\n",
      "conv2d_5 (Conv2D)               (None, 14, 14, 128)  65664       concatenate_1[0][0]              \n",
      "__________________________________________________________________________________________________\n",
      "conv2d_6 (Conv2D)               (None, 14, 14, 128)  589952      concatenate_1[0][0]              \n",
      "__________________________________________________________________________________________________\n",
      "conv2d_7 (Conv2D)               (None, 14, 14, 128)  1638528     concatenate_1[0][0]              \n",
      "__________________________________________________________________________________________________\n",
      "conv2d_8 (Conv2D)               (None, 14, 14, 128)  5308544     concatenate_1[0][0]              \n",
      "__________________________________________________________________________________________________\n",
      "batch_normalization_5 (BatchNor (None, 14, 14, 128)  512         conv2d_5[0][0]                   \n",
      "__________________________________________________________________________________________________\n",
      "batch_normalization_6 (BatchNor (None, 14, 14, 128)  512         conv2d_6[0][0]                   \n",
      "__________________________________________________________________________________________________\n",
      "batch_normalization_7 (BatchNor (None, 14, 14, 128)  512         conv2d_7[0][0]                   \n",
      "__________________________________________________________________________________________________\n",
      "batch_normalization_8 (BatchNor (None, 14, 14, 128)  512         conv2d_8[0][0]                   \n",
      "__________________________________________________________________________________________________\n",
      "average_pooling2d_5 (AveragePoo (None, 7, 7, 128)    0           batch_normalization_5[0][0]      \n",
      "__________________________________________________________________________________________________\n",
      "average_pooling2d_6 (AveragePoo (None, 7, 7, 128)    0           batch_normalization_6[0][0]      \n",
      "__________________________________________________________________________________________________\n",
      "average_pooling2d_7 (AveragePoo (None, 7, 7, 128)    0           batch_normalization_7[0][0]      \n",
      "__________________________________________________________________________________________________\n",
      "average_pooling2d_8 (AveragePoo (None, 7, 7, 128)    0           batch_normalization_8[0][0]      \n",
      "__________________________________________________________________________________________________\n",
      "dropout_5 (Dropout)             (None, 7, 7, 128)    0           average_pooling2d_5[0][0]        \n",
      "__________________________________________________________________________________________________\n",
      "dropout_6 (Dropout)             (None, 7, 7, 128)    0           average_pooling2d_6[0][0]        \n",
      "__________________________________________________________________________________________________\n",
      "dropout_7 (Dropout)             (None, 7, 7, 128)    0           average_pooling2d_7[0][0]        \n",
      "__________________________________________________________________________________________________\n",
      "dropout_8 (Dropout)             (None, 7, 7, 128)    0           average_pooling2d_8[0][0]        \n",
      "__________________________________________________________________________________________________\n",
      "concatenate_2 (Concatenate)     (None, 7, 7, 512)    0           dropout_5[0][0]                  \n",
      "                                                                 dropout_6[0][0]                  \n",
      "                                                                 dropout_7[0][0]                  \n",
      "                                                                 dropout_8[0][0]                  \n",
      "__________________________________________________________________________________________________\n",
      "conv2d_9 (Conv2D)               (None, 7, 7, 128)    65664       concatenate_2[0][0]              \n",
      "__________________________________________________________________________________________________\n",
      "conv2d_10 (Conv2D)              (None, 7, 7, 128)    589952      concatenate_2[0][0]              \n",
      "__________________________________________________________________________________________________\n",
      "conv2d_11 (Conv2D)              (None, 7, 7, 128)    1638528     concatenate_2[0][0]              \n",
      "__________________________________________________________________________________________________\n",
      "conv2d_12 (Conv2D)              (None, 7, 7, 128)    5308544     concatenate_2[0][0]              \n",
      "__________________________________________________________________________________________________\n",
      "batch_normalization_9 (BatchNor (None, 7, 7, 128)    512         conv2d_9[0][0]                   \n",
      "__________________________________________________________________________________________________\n",
      "batch_normalization_10 (BatchNo (None, 7, 7, 128)    512         conv2d_10[0][0]                  \n",
      "__________________________________________________________________________________________________\n",
      "batch_normalization_11 (BatchNo (None, 7, 7, 128)    512         conv2d_11[0][0]                  \n",
      "__________________________________________________________________________________________________\n",
      "batch_normalization_12 (BatchNo (None, 7, 7, 128)    512         conv2d_12[0][0]                  \n",
      "__________________________________________________________________________________________________\n",
      "average_pooling2d_9 (AveragePoo (None, 4, 4, 128)    0           batch_normalization_9[0][0]      \n",
      "__________________________________________________________________________________________________\n",
      "average_pooling2d_10 (AveragePo (None, 4, 4, 128)    0           batch_normalization_10[0][0]     \n",
      "__________________________________________________________________________________________________\n",
      "average_pooling2d_11 (AveragePo (None, 4, 4, 128)    0           batch_normalization_11[0][0]     \n",
      "__________________________________________________________________________________________________\n",
      "average_pooling2d_12 (AveragePo (None, 4, 4, 128)    0           batch_normalization_12[0][0]     \n",
      "__________________________________________________________________________________________________\n",
      "dropout_9 (Dropout)             (None, 4, 4, 128)    0           average_pooling2d_9[0][0]        \n",
      "__________________________________________________________________________________________________\n",
      "dropout_10 (Dropout)            (None, 4, 4, 128)    0           average_pooling2d_10[0][0]       \n",
      "__________________________________________________________________________________________________\n",
      "dropout_11 (Dropout)            (None, 4, 4, 128)    0           average_pooling2d_11[0][0]       \n",
      "__________________________________________________________________________________________________\n",
      "dropout_12 (Dropout)            (None, 4, 4, 128)    0           average_pooling2d_12[0][0]       \n",
      "__________________________________________________________________________________________________\n",
      "concatenate_3 (Concatenate)     (None, 4, 4, 512)    0           dropout_9[0][0]                  \n",
      "                                                                 dropout_10[0][0]                 \n",
      "                                                                 dropout_11[0][0]                 \n",
      "                                                                 dropout_12[0][0]                 \n",
      "__________________________________________________________________________________________________\n",
      "conv2d_15 (Conv2D)              (None, 4, 4, 1024)   4719616     concatenate_3[0][0]              \n",
      "__________________________________________________________________________________________________\n",
      "batch_normalization_15 (BatchNo (None, 4, 4, 1024)   4096        conv2d_15[0][0]                  \n",
      "__________________________________________________________________________________________________\n",
      "average_pooling2d_13 (AveragePo (None, 2, 2, 1024)   0           batch_normalization_15[0][0]     \n",
      "__________________________________________________________________________________________________\n",
      "dropout_13 (Dropout)            (None, 2, 2, 1024)   0           average_pooling2d_13[0][0]       \n",
      "__________________________________________________________________________________________________\n",
      "conv2d_16 (Conv2D)              (None, 2, 2, 1024)   9438208     dropout_13[0][0]                 \n",
      "__________________________________________________________________________________________________\n",
      "batch_normalization_16 (BatchNo (None, 2, 2, 1024)   4096        conv2d_16[0][0]                  \n",
      "__________________________________________________________________________________________________\n",
      "conv2d_17 (Conv2D)              (None, 2, 2, 1024)   9438208     batch_normalization_16[0][0]     \n",
      "__________________________________________________________________________________________________\n",
      "batch_normalization_17 (BatchNo (None, 2, 2, 1024)   4096        conv2d_17[0][0]                  \n",
      "__________________________________________________________________________________________________\n",
      "conv2d_18 (Conv2D)              (None, 2, 2, 1024)   9438208     batch_normalization_17[0][0]     \n",
      "__________________________________________________________________________________________________\n",
      "batch_normalization_18 (BatchNo (None, 2, 2, 1024)   4096        conv2d_18[0][0]                  \n",
      "__________________________________________________________________________________________________\n",
      "average_pooling2d_14 (AveragePo (None, 1, 1, 1024)   0           batch_normalization_18[0][0]     \n",
      "__________________________________________________________________________________________________\n",
      "dropout_14 (Dropout)            (None, 1, 1, 1024)   0           average_pooling2d_14[0][0]       \n",
      "__________________________________________________________________________________________________\n",
      "global_average_pooling2d_1 (Glo (None, 1024)         0           dropout_14[0][0]                 \n",
      "__________________________________________________________________________________________________\n",
      "dense_1 (Dense)                 (None, 4096)         4198400     global_average_pooling2d_1[0][0] \n",
      "__________________________________________________________________________________________________\n",
      "dropout_15 (Dropout)            (None, 4096)         0           dense_1[0][0]                    \n",
      "__________________________________________________________________________________________________\n",
      "dense_2 (Dense)                 (None, 4096)         16781312    dropout_15[0][0]                 \n",
      "__________________________________________________________________________________________________\n",
      "dropout_16 (Dropout)            (None, 4096)         0           dense_2[0][0]                    \n",
      "__________________________________________________________________________________________________\n",
      "dense_3 (Dense)                 (None, 1024)         4195328     dropout_16[0][0]                 \n",
      "__________________________________________________________________________________________________\n",
      "dropout_17 (Dropout)            (None, 1024)         0           dense_3[0][0]                    \n",
      "__________________________________________________________________________________________________\n",
      "dense_4 (Dense)                 (None, 10)           10250       dropout_17[0][0]                 \n",
      "==================================================================================================\n",
      "Total params: 73,462,794\n",
      "Trainable params: 73,451,530\n",
      "Non-trainable params: 11,264\n",
      "__________________________________________________________________________________________________\n"
     ]
    }
   ],
   "source": [
    "model = build_model()\n",
    "model.summary()"
   ]
  },
  {
   "cell_type": "code",
   "execution_count": 16,
   "metadata": {
    "collapsed": true
   },
   "outputs": [],
   "source": [
    "def saveModel(model, run_name):\n",
    "    cwd = os.getcwd()\n",
    "    modelPath = os.path.join(cwd, 'model')\n",
    "    if not os.path.isdir(modelPath):\n",
    "        os.mkdir(modelPath)\n",
    "    weigthsFile = os.path.join(modelPath, run_name + '.h5')\n",
    "    model.save(weigthsFile)\n",
    "# saveModel(model, 'saveModel_test')"
   ]
  },
  {
   "cell_type": "code",
   "execution_count": 17,
   "metadata": {
    "collapsed": true
   },
   "outputs": [],
   "source": [
    "# annealer = LearningRateScheduler(lambda x: 1e-3 * 0.995 ** x)\n",
    "\n",
    "def get_lr(x):\n",
    "    lr = round(3e-4 * 0.9 ** x, 12)\n",
    "    if lr < 1e-12:\n",
    "        lr = 1e-12\n",
    "    print('%.12f' % lr, end=' ')\n",
    "    return lr\n",
    "annealer = LearningRateScheduler(get_lr)\n",
    "\n",
    "# log_dir = os.path.join(log_path, run_name)\n",
    "# print('log_dir:' + log_dir)\n",
    "# tensorBoard = TensorBoard(log_dir=log_dir)\n",
    "\n",
    "callbacks = [annealer]"
   ]
  },
  {
   "cell_type": "code",
   "execution_count": 18,
   "metadata": {
    "collapsed": true
   },
   "outputs": [],
   "source": [
    "train_datagen = ImageDataGenerator(\n",
    "    zoom_range = 0.2,\n",
    "    rotation_range = 20,\n",
    "    height_shift_range = 0.1,\n",
    "    width_shift_range = 0.3\n",
    ")\n",
    "\n",
    "val_datagen = ImageDataGenerator()"
   ]
  },
  {
   "cell_type": "code",
   "execution_count": 19,
   "metadata": {},
   "outputs": [
    {
     "name": "stdout",
     "output_type": "stream",
     "text": [
      "0.000300000000 Epoch 1/300\n",
      "312/311 [==============================] - 109s 350ms/step - loss: 0.5638 - acc: 0.8145 - val_loss: 14.3579 - val_acc: 0.1029\n",
      "0.000270000000 Epoch 2/300\n",
      "312/311 [==============================] - 103s 329ms/step - loss: 0.1710 - acc: 0.9512 - val_loss: 2.3120 - val_acc: 0.5786\n",
      "0.000243000000 Epoch 3/300\n",
      "312/311 [==============================] - 102s 327ms/step - loss: 0.1244 - acc: 0.9644 - val_loss: 0.0896 - val_acc: 0.9743\n",
      "0.000218700000 Epoch 4/300\n",
      "312/311 [==============================] - 103s 331ms/step - loss: 0.1086 - acc: 0.9700 - val_loss: 0.0531 - val_acc: 0.9833\n",
      "0.000196830000 Epoch 5/300\n",
      "312/311 [==============================] - 102s 327ms/step - loss: 0.0881 - acc: 0.9749 - val_loss: 0.0471 - val_acc: 0.9867\n",
      "0.000177147000 Epoch 6/300\n",
      "312/311 [==============================] - 104s 334ms/step - loss: 0.0779 - acc: 0.9782 - val_loss: 0.0403 - val_acc: 0.9890\n",
      "0.000159432300 Epoch 7/300\n",
      "312/311 [==============================] - 103s 330ms/step - loss: 0.0712 - acc: 0.9802 - val_loss: 0.0365 - val_acc: 0.9890\n",
      "0.000143489070 Epoch 8/300\n",
      "312/311 [==============================] - 105s 336ms/step - loss: 0.0633 - acc: 0.9830 - val_loss: 0.0318 - val_acc: 0.9924\n",
      "0.000129140163 Epoch 9/300\n",
      "312/311 [==============================] - 104s 335ms/step - loss: 0.0600 - acc: 0.9830 - val_loss: 0.0317 - val_acc: 0.9924\n",
      "0.000116226147 Epoch 10/300\n",
      "312/311 [==============================] - 105s 336ms/step - loss: 0.0540 - acc: 0.9853 - val_loss: 0.0292 - val_acc: 0.9919\n",
      "0.000104603532 Epoch 11/300\n",
      "312/311 [==============================] - 104s 334ms/step - loss: 0.0488 - acc: 0.9866 - val_loss: 0.0329 - val_acc: 0.9929\n",
      "0.000094143179 Epoch 12/300\n",
      "312/311 [==============================] - 102s 327ms/step - loss: 0.0478 - acc: 0.9865 - val_loss: 0.0345 - val_acc: 0.9900\n",
      "0.000084728861 Epoch 13/300\n",
      "312/311 [==============================] - 102s 327ms/step - loss: 0.0455 - acc: 0.9870 - val_loss: 0.0268 - val_acc: 0.9929\n",
      "0.000076255975 Epoch 14/300\n",
      "312/311 [==============================] - 102s 327ms/step - loss: 0.0411 - acc: 0.9880 - val_loss: 0.0349 - val_acc: 0.9905\n",
      "0.000068630377 Epoch 15/300\n",
      "312/311 [==============================] - 102s 327ms/step - loss: 0.0386 - acc: 0.9888 - val_loss: 0.0259 - val_acc: 0.9929\n",
      "0.000061767340 Epoch 16/300\n",
      "312/311 [==============================] - 104s 333ms/step - loss: 0.0359 - acc: 0.9896 - val_loss: 0.0244 - val_acc: 0.9948\n",
      "0.000055590606 Epoch 17/300\n",
      "312/311 [==============================] - 104s 332ms/step - loss: 0.0337 - acc: 0.9898 - val_loss: 0.0262 - val_acc: 0.9933\n",
      "0.000050031545 Epoch 18/300\n",
      "312/311 [==============================] - 103s 332ms/step - loss: 0.0342 - acc: 0.9901 - val_loss: 0.0229 - val_acc: 0.9948\n",
      "0.000045028391 Epoch 19/300\n",
      "312/311 [==============================] - 104s 332ms/step - loss: 0.0309 - acc: 0.9901 - val_loss: 0.0209 - val_acc: 0.9924\n",
      "0.000040525552 Epoch 20/300\n",
      "312/311 [==============================] - 105s 336ms/step - loss: 0.0291 - acc: 0.9915 - val_loss: 0.0219 - val_acc: 0.9952\n",
      "0.000036472996 Epoch 21/300\n",
      "312/311 [==============================] - 103s 332ms/step - loss: 0.0302 - acc: 0.9909 - val_loss: 0.0232 - val_acc: 0.9948\n",
      "0.000032825697 Epoch 22/300\n",
      "312/311 [==============================] - 103s 329ms/step - loss: 0.0289 - acc: 0.9913 - val_loss: 0.0229 - val_acc: 0.9943\n",
      "0.000029543127 Epoch 23/300\n",
      "312/311 [==============================] - 102s 328ms/step - loss: 0.0282 - acc: 0.9916 - val_loss: 0.0257 - val_acc: 0.9957\n",
      "0.000026588814 Epoch 24/300\n",
      "312/311 [==============================] - 103s 330ms/step - loss: 0.0255 - acc: 0.9920 - val_loss: 0.0203 - val_acc: 0.9948\n",
      "0.000023929933 Epoch 25/300\n",
      "312/311 [==============================] - 102s 328ms/step - loss: 0.0236 - acc: 0.9925 - val_loss: 0.0199 - val_acc: 0.9948\n",
      "0.000021536940 Epoch 26/300\n",
      "312/311 [==============================] - 102s 328ms/step - loss: 0.0254 - acc: 0.9921 - val_loss: 0.0230 - val_acc: 0.9943\n",
      "0.000019383246 Epoch 27/300\n",
      "312/311 [==============================] - 104s 334ms/step - loss: 0.0231 - acc: 0.9931 - val_loss: 0.0262 - val_acc: 0.9938\n",
      "0.000017444921 Epoch 28/300\n",
      "312/311 [==============================] - 103s 331ms/step - loss: 0.0232 - acc: 0.9927 - val_loss: 0.0234 - val_acc: 0.9952\n",
      "0.000015700429 Epoch 29/300\n",
      "312/311 [==============================] - 103s 330ms/step - loss: 0.0218 - acc: 0.9936 - val_loss: 0.0231 - val_acc: 0.9948\n",
      "0.000014130386 Epoch 30/300\n",
      "312/311 [==============================] - 103s 329ms/step - loss: 0.0229 - acc: 0.9926 - val_loss: 0.0237 - val_acc: 0.9957\n",
      "0.000012717347 Epoch 31/300\n",
      "312/311 [==============================] - 104s 332ms/step - loss: 0.0213 - acc: 0.9932 - val_loss: 0.0208 - val_acc: 0.9957\n",
      "0.000011445613 Epoch 32/300\n",
      "312/311 [==============================] - 103s 331ms/step - loss: 0.0210 - acc: 0.9931 - val_loss: 0.0228 - val_acc: 0.9948\n",
      "0.000010301051 Epoch 33/300\n",
      "312/311 [==============================] - 103s 331ms/step - loss: 0.0210 - acc: 0.9941 - val_loss: 0.0240 - val_acc: 0.9952\n",
      "0.000009270946 Epoch 34/300\n",
      "312/311 [==============================] - 105s 336ms/step - loss: 0.0201 - acc: 0.9940 - val_loss: 0.0235 - val_acc: 0.9948\n",
      "0.000008343852 Epoch 35/300\n",
      "312/311 [==============================] - 104s 333ms/step - loss: 0.0189 - acc: 0.9943 - val_loss: 0.0247 - val_acc: 0.9948\n",
      "0.000007509467 Epoch 36/300\n",
      "312/311 [==============================] - 104s 332ms/step - loss: 0.0183 - acc: 0.9943 - val_loss: 0.0253 - val_acc: 0.9948\n",
      "0.000006758520 Epoch 37/300\n",
      "312/311 [==============================] - 103s 330ms/step - loss: 0.0193 - acc: 0.9942 - val_loss: 0.0244 - val_acc: 0.9948\n",
      "0.000006082668 Epoch 38/300\n",
      "312/311 [==============================] - 103s 330ms/step - loss: 0.0190 - acc: 0.9939 - val_loss: 0.0237 - val_acc: 0.9952\n",
      "0.000005474401 Epoch 39/300\n",
      "312/311 [==============================] - 103s 329ms/step - loss: 0.0185 - acc: 0.9944 - val_loss: 0.0236 - val_acc: 0.9952\n",
      "0.000004926961 Epoch 40/300\n",
      "312/311 [==============================] - 103s 331ms/step - loss: 0.0198 - acc: 0.9942 - val_loss: 0.0232 - val_acc: 0.9952\n",
      "0.000004434265 Epoch 41/300\n",
      "312/311 [==============================] - 103s 331ms/step - loss: 0.0177 - acc: 0.9945 - val_loss: 0.0228 - val_acc: 0.9952\n",
      "0.000003990838 Epoch 42/300\n",
      "312/311 [==============================] - 102s 328ms/step - loss: 0.0194 - acc: 0.9944 - val_loss: 0.0226 - val_acc: 0.9952\n",
      "0.000003591755 Epoch 43/300\n",
      "312/311 [==============================] - 103s 331ms/step - loss: 0.0179 - acc: 0.9944 - val_loss: 0.0224 - val_acc: 0.9952\n",
      "0.000003232579 Epoch 44/300\n",
      "312/311 [==============================] - 102s 327ms/step - loss: 0.0155 - acc: 0.9952 - val_loss: 0.0227 - val_acc: 0.9957\n",
      "0.000002909321 Epoch 45/300\n",
      "312/311 [==============================] - 102s 325ms/step - loss: 0.0163 - acc: 0.9950 - val_loss: 0.0237 - val_acc: 0.9952\n",
      "0.000002618389 Epoch 46/300\n",
      "312/311 [==============================] - 102s 325ms/step - loss: 0.0185 - acc: 0.9942 - val_loss: 0.0238 - val_acc: 0.9948\n",
      "0.000002356550 Epoch 47/300\n",
      "312/311 [==============================] - 102s 326ms/step - loss: 0.0158 - acc: 0.9951 - val_loss: 0.0243 - val_acc: 0.9952\n",
      "0.000002120895 Epoch 48/300\n",
      "312/311 [==============================] - 102s 326ms/step - loss: 0.0171 - acc: 0.9948 - val_loss: 0.0238 - val_acc: 0.9948\n",
      "0.000001908806 Epoch 49/300\n",
      "312/311 [==============================] - 101s 325ms/step - loss: 0.0162 - acc: 0.9950 - val_loss: 0.0232 - val_acc: 0.9952\n",
      "0.000001717925 Epoch 50/300\n",
      "312/311 [==============================] - 102s 326ms/step - loss: 0.0174 - acc: 0.9948 - val_loss: 0.0230 - val_acc: 0.9952\n",
      "0.000001546133 Epoch 51/300\n",
      "312/311 [==============================] - 102s 326ms/step - loss: 0.0182 - acc: 0.9943 - val_loss: 0.0232 - val_acc: 0.9952\n",
      "0.000001391519 Epoch 52/300\n",
      "312/311 [==============================] - 101s 325ms/step - loss: 0.0180 - acc: 0.9942 - val_loss: 0.0232 - val_acc: 0.9952\n",
      "0.000001252367 Epoch 53/300\n",
      "312/311 [==============================] - 102s 326ms/step - loss: 0.0179 - acc: 0.9942 - val_loss: 0.0232 - val_acc: 0.9952\n",
      "0.000001127131 Epoch 54/300\n",
      "312/311 [==============================] - 102s 325ms/step - loss: 0.0156 - acc: 0.9954 - val_loss: 0.0232 - val_acc: 0.9952\n",
      "0.000001014418 Epoch 55/300\n",
      "312/311 [==============================] - 101s 325ms/step - loss: 0.0173 - acc: 0.9944 - val_loss: 0.0232 - val_acc: 0.9952\n",
      "0.000000912976 Epoch 56/300\n",
      "312/311 [==============================] - 101s 325ms/step - loss: 0.0175 - acc: 0.9946 - val_loss: 0.0234 - val_acc: 0.9952\n",
      "0.000000821678 Epoch 57/300\n",
      "312/311 [==============================] - 101s 324ms/step - loss: 0.0176 - acc: 0.9945 - val_loss: 0.0234 - val_acc: 0.9948\n",
      "0.000000739510 Epoch 58/300\n",
      "312/311 [==============================] - 101s 324ms/step - loss: 0.0157 - acc: 0.9950 - val_loss: 0.0236 - val_acc: 0.9952\n",
      "0.000000665559 Epoch 59/300\n",
      "312/311 [==============================] - 101s 324ms/step - loss: 0.0169 - acc: 0.9948 - val_loss: 0.0234 - val_acc: 0.9952\n",
      "0.000000599003 Epoch 60/300\n",
      "312/311 [==============================] - 101s 324ms/step - loss: 0.0170 - acc: 0.9944 - val_loss: 0.0235 - val_acc: 0.9952\n",
      "0.000000539103 Epoch 61/300\n",
      "312/311 [==============================] - 101s 324ms/step - loss: 0.0167 - acc: 0.9947 - val_loss: 0.0233 - val_acc: 0.9952\n",
      "0.000000485193 Epoch 62/300\n",
      "312/311 [==============================] - 101s 325ms/step - loss: 0.0161 - acc: 0.9950 - val_loss: 0.0233 - val_acc: 0.9952\n",
      "0.000000436674 Epoch 63/300\n",
      "312/311 [==============================] - 101s 324ms/step - loss: 0.0165 - acc: 0.9946 - val_loss: 0.0234 - val_acc: 0.9952\n",
      "0.000000393006 Epoch 64/300\n",
      "312/311 [==============================] - 101s 324ms/step - loss: 0.0184 - acc: 0.9945 - val_loss: 0.0236 - val_acc: 0.9952\n",
      "0.000000353706 Epoch 65/300\n",
      "312/311 [==============================] - 101s 324ms/step - loss: 0.0176 - acc: 0.9944 - val_loss: 0.0233 - val_acc: 0.9952\n",
      "0.000000318335 Epoch 66/300\n",
      "312/311 [==============================] - 101s 324ms/step - loss: 0.0170 - acc: 0.9947 - val_loss: 0.0237 - val_acc: 0.9952\n",
      "0.000000286501 Epoch 67/300\n",
      "312/311 [==============================] - 101s 325ms/step - loss: 0.0166 - acc: 0.9948 - val_loss: 0.0236 - val_acc: 0.9952\n",
      "0.000000257851 Epoch 68/300\n",
      "312/311 [==============================] - 101s 324ms/step - loss: 0.0157 - acc: 0.9950 - val_loss: 0.0236 - val_acc: 0.9952\n",
      "0.000000232066 Epoch 69/300\n",
      "312/311 [==============================] - 102s 326ms/step - loss: 0.0165 - acc: 0.9948 - val_loss: 0.0235 - val_acc: 0.9952\n",
      "0.000000208860 Epoch 70/300\n",
      "312/311 [==============================] - 101s 325ms/step - loss: 0.0173 - acc: 0.9946 - val_loss: 0.0236 - val_acc: 0.9952\n",
      "0.000000187974 Epoch 71/300\n",
      "312/311 [==============================] - 101s 325ms/step - loss: 0.0166 - acc: 0.9947 - val_loss: 0.0236 - val_acc: 0.9952\n",
      "0.000000169176 Epoch 72/300\n",
      "312/311 [==============================] - 101s 325ms/step - loss: 0.0159 - acc: 0.9952 - val_loss: 0.0235 - val_acc: 0.9952\n",
      "0.000000152259 Epoch 73/300\n",
      "312/311 [==============================] - 101s 325ms/step - loss: 0.0155 - acc: 0.9953 - val_loss: 0.0235 - val_acc: 0.9952\n",
      "0.000000137033 Epoch 74/300\n",
      "312/311 [==============================] - 102s 326ms/step - loss: 0.0167 - acc: 0.9951 - val_loss: 0.0237 - val_acc: 0.9952\n",
      "0.000000123329 Epoch 75/300\n",
      "312/311 [==============================] - 102s 325ms/step - loss: 0.0172 - acc: 0.9944 - val_loss: 0.0236 - val_acc: 0.9952\n",
      "0.000000110997 Epoch 76/300\n",
      "312/311 [==============================] - 101s 325ms/step - loss: 0.0163 - acc: 0.9947 - val_loss: 0.0236 - val_acc: 0.9952\n",
      "0.000000099897 Epoch 77/300\n",
      "312/311 [==============================] - 101s 325ms/step - loss: 0.0160 - acc: 0.9949 - val_loss: 0.0235 - val_acc: 0.9952\n",
      "0.000000089907 Epoch 78/300\n",
      "312/311 [==============================] - 102s 326ms/step - loss: 0.0158 - acc: 0.9949 - val_loss: 0.0236 - val_acc: 0.9948\n",
      "0.000000080916 Epoch 79/300\n",
      "312/311 [==============================] - 102s 325ms/step - loss: 0.0170 - acc: 0.9949 - val_loss: 0.0236 - val_acc: 0.9952\n",
      "0.000000072825 Epoch 80/300\n",
      "312/311 [==============================] - 101s 325ms/step - loss: 0.0168 - acc: 0.9952 - val_loss: 0.0236 - val_acc: 0.9952\n",
      "0.000000065542 Epoch 81/300\n",
      "312/311 [==============================] - 102s 326ms/step - loss: 0.0167 - acc: 0.9945 - val_loss: 0.0237 - val_acc: 0.9952\n",
      "0.000000058988 Epoch 82/300\n",
      "312/311 [==============================] - 102s 325ms/step - loss: 0.0169 - acc: 0.9945 - val_loss: 0.0235 - val_acc: 0.9952\n",
      "0.000000053089 Epoch 83/300\n",
      "312/311 [==============================] - 102s 326ms/step - loss: 0.0164 - acc: 0.9949 - val_loss: 0.0235 - val_acc: 0.9952\n",
      "0.000000047780 Epoch 84/300\n",
      "312/311 [==============================] - 102s 326ms/step - loss: 0.0171 - acc: 0.9946 - val_loss: 0.0236 - val_acc: 0.9952\n",
      "0.000000043002 Epoch 85/300\n",
      "312/311 [==============================] - 102s 326ms/step - loss: 0.0171 - acc: 0.9946 - val_loss: 0.0236 - val_acc: 0.9952\n",
      "0.000000038702 Epoch 86/300\n",
      "312/311 [==============================] - 101s 325ms/step - loss: 0.0154 - acc: 0.9950 - val_loss: 0.0236 - val_acc: 0.9952\n",
      "0.000000034832 Epoch 87/300\n",
      "312/311 [==============================] - 102s 326ms/step - loss: 0.0151 - acc: 0.9950 - val_loss: 0.0236 - val_acc: 0.9952\n",
      "0.000000031349 Epoch 88/300\n",
      "312/311 [==============================] - 102s 326ms/step - loss: 0.0186 - acc: 0.9948 - val_loss: 0.0235 - val_acc: 0.9952\n",
      "0.000000028214 Epoch 89/300\n",
      "312/311 [==============================] - 102s 326ms/step - loss: 0.0190 - acc: 0.9942 - val_loss: 0.0236 - val_acc: 0.9948\n",
      "0.000000025392 Epoch 90/300\n",
      "312/311 [==============================] - 102s 325ms/step - loss: 0.0174 - acc: 0.9948 - val_loss: 0.0236 - val_acc: 0.9952\n",
      "0.000000022853 Epoch 91/300\n",
      "312/311 [==============================] - 101s 325ms/step - loss: 0.0171 - acc: 0.9947 - val_loss: 0.0237 - val_acc: 0.9952\n",
      "0.000000020568 Epoch 92/300\n",
      "312/311 [==============================] - 102s 326ms/step - loss: 0.0173 - acc: 0.9942 - val_loss: 0.0235 - val_acc: 0.9952\n",
      "0.000000018511 Epoch 93/300\n",
      "312/311 [==============================] - 102s 326ms/step - loss: 0.0165 - acc: 0.9946 - val_loss: 0.0235 - val_acc: 0.9952\n",
      "0.000000016660 Epoch 94/300\n",
      "312/311 [==============================] - 102s 326ms/step - loss: 0.0166 - acc: 0.9950 - val_loss: 0.0236 - val_acc: 0.9952\n",
      "0.000000014994 Epoch 95/300\n",
      "312/311 [==============================] - 102s 326ms/step - loss: 0.0137 - acc: 0.9953 - val_loss: 0.0237 - val_acc: 0.9952\n",
      "0.000000013495 Epoch 96/300\n",
      "312/311 [==============================] - 102s 325ms/step - loss: 0.0169 - acc: 0.9948 - val_loss: 0.0236 - val_acc: 0.9948\n",
      "0.000000012145 Epoch 97/300\n",
      "312/311 [==============================] - 101s 325ms/step - loss: 0.0172 - acc: 0.9947 - val_loss: 0.0235 - val_acc: 0.9952\n",
      "0.000000010931 Epoch 98/300\n",
      "312/311 [==============================] - 102s 326ms/step - loss: 0.0181 - acc: 0.9948 - val_loss: 0.0235 - val_acc: 0.9952\n",
      "0.000000009838 Epoch 99/300\n",
      "312/311 [==============================] - 102s 326ms/step - loss: 0.0181 - acc: 0.9946 - val_loss: 0.0236 - val_acc: 0.9952\n",
      "0.000000008854 Epoch 100/300\n",
      "312/311 [==============================] - 101s 325ms/step - loss: 0.0172 - acc: 0.9947 - val_loss: 0.0235 - val_acc: 0.9952\n",
      "0.000000007968 Epoch 101/300\n",
      "312/311 [==============================] - 102s 325ms/step - loss: 0.0159 - acc: 0.9947 - val_loss: 0.0235 - val_acc: 0.9952\n",
      "0.000000007172 Epoch 102/300\n",
      "312/311 [==============================] - 102s 325ms/step - loss: 0.0171 - acc: 0.9946 - val_loss: 0.0236 - val_acc: 0.9952\n",
      "0.000000006454 Epoch 103/300\n",
      "312/311 [==============================] - 102s 326ms/step - loss: 0.0175 - acc: 0.9945 - val_loss: 0.0235 - val_acc: 0.9948\n",
      "0.000000005809 Epoch 104/300\n",
      "312/311 [==============================] - 102s 326ms/step - loss: 0.0166 - acc: 0.9947 - val_loss: 0.0236 - val_acc: 0.9952\n",
      "0.000000005228 Epoch 105/300\n",
      "312/311 [==============================] - 102s 326ms/step - loss: 0.0153 - acc: 0.9952 - val_loss: 0.0235 - val_acc: 0.9952\n",
      "0.000000004705 Epoch 106/300\n",
      "312/311 [==============================] - 102s 325ms/step - loss: 0.0171 - acc: 0.9949 - val_loss: 0.0235 - val_acc: 0.9952\n",
      "0.000000004235 Epoch 107/300\n"
     ]
    },
    {
     "name": "stdout",
     "output_type": "stream",
     "text": [
      "312/311 [==============================] - 102s 326ms/step - loss: 0.0166 - acc: 0.9942 - val_loss: 0.0236 - val_acc: 0.9952\n",
      "0.000000003811 Epoch 108/300\n",
      "312/311 [==============================] - 102s 327ms/step - loss: 0.0172 - acc: 0.9945 - val_loss: 0.0235 - val_acc: 0.9952\n",
      "0.000000003430 Epoch 109/300\n",
      "312/311 [==============================] - 103s 330ms/step - loss: 0.0155 - acc: 0.9954 - val_loss: 0.0236 - val_acc: 0.9952\n",
      "0.000000003087 Epoch 110/300\n",
      "312/311 [==============================] - 103s 330ms/step - loss: 0.0172 - acc: 0.9946 - val_loss: 0.0237 - val_acc: 0.9952\n",
      "0.000000002778 Epoch 111/300\n",
      "312/311 [==============================] - 103s 329ms/step - loss: 0.0159 - acc: 0.9952 - val_loss: 0.0236 - val_acc: 0.9952\n",
      "0.000000002501 Epoch 112/300\n",
      "312/311 [==============================] - 103s 330ms/step - loss: 0.0174 - acc: 0.9946 - val_loss: 0.0236 - val_acc: 0.9952\n",
      "0.000000002251 Epoch 113/300\n",
      "312/311 [==============================] - 103s 330ms/step - loss: 0.0172 - acc: 0.9949 - val_loss: 0.0236 - val_acc: 0.9952\n",
      "0.000000002025 Epoch 114/300\n",
      "312/311 [==============================] - 105s 337ms/step - loss: 0.0180 - acc: 0.9947 - val_loss: 0.0236 - val_acc: 0.9952\n",
      "0.000000001823 Epoch 115/300\n",
      "312/311 [==============================] - 104s 334ms/step - loss: 0.0166 - acc: 0.9945 - val_loss: 0.0235 - val_acc: 0.9952\n",
      "0.000000001641 Epoch 116/300\n",
      "312/311 [==============================] - 105s 335ms/step - loss: 0.0168 - acc: 0.9951 - val_loss: 0.0236 - val_acc: 0.9952\n",
      "0.000000001477 Epoch 117/300\n",
      "312/311 [==============================] - 103s 330ms/step - loss: 0.0177 - acc: 0.9948 - val_loss: 0.0235 - val_acc: 0.9952\n",
      "0.000000001329 Epoch 118/300\n",
      "312/311 [==============================] - 103s 329ms/step - loss: 0.0162 - acc: 0.9953 - val_loss: 0.0236 - val_acc: 0.9952\n",
      "0.000000001196 Epoch 119/300\n",
      "312/311 [==============================] - 103s 329ms/step - loss: 0.0150 - acc: 0.9952 - val_loss: 0.0235 - val_acc: 0.9952\n",
      "0.000000001076 Epoch 120/300\n",
      "312/311 [==============================] - 103s 329ms/step - loss: 0.0186 - acc: 0.9943 - val_loss: 0.0236 - val_acc: 0.9952\n",
      "0.000000000969 Epoch 121/300\n",
      "312/311 [==============================] - 103s 329ms/step - loss: 0.0159 - acc: 0.9952 - val_loss: 0.0235 - val_acc: 0.9952\n",
      "0.000000000872 Epoch 122/300\n",
      "312/311 [==============================] - 103s 330ms/step - loss: 0.0172 - acc: 0.9945 - val_loss: 0.0237 - val_acc: 0.9948\n",
      "0.000000000785 Epoch 123/300\n",
      "312/311 [==============================] - 103s 330ms/step - loss: 0.0161 - acc: 0.9947 - val_loss: 0.0236 - val_acc: 0.9952\n",
      "0.000000000706 Epoch 124/300\n",
      "312/311 [==============================] - 105s 336ms/step - loss: 0.0173 - acc: 0.9945 - val_loss: 0.0235 - val_acc: 0.9952\n",
      "0.000000000636 Epoch 125/300\n",
      "312/311 [==============================] - 104s 335ms/step - loss: 0.0173 - acc: 0.9946 - val_loss: 0.0235 - val_acc: 0.9952\n",
      "0.000000000572 Epoch 126/300\n",
      "312/311 [==============================] - 105s 336ms/step - loss: 0.0155 - acc: 0.9951 - val_loss: 0.0235 - val_acc: 0.9952\n",
      "0.000000000515 Epoch 127/300\n",
      "312/311 [==============================] - 105s 335ms/step - loss: 0.0177 - acc: 0.9948 - val_loss: 0.0236 - val_acc: 0.9952\n",
      "0.000000000463 Epoch 128/300\n",
      "312/311 [==============================] - 103s 331ms/step - loss: 0.0166 - acc: 0.9947 - val_loss: 0.0235 - val_acc: 0.9952\n",
      "0.000000000417 Epoch 129/300\n",
      "312/311 [==============================] - 104s 334ms/step - loss: 0.0145 - acc: 0.9954 - val_loss: 0.0235 - val_acc: 0.9952\n",
      "0.000000000375 Epoch 130/300\n",
      "312/311 [==============================] - 104s 334ms/step - loss: 0.0170 - acc: 0.9947 - val_loss: 0.0237 - val_acc: 0.9952\n",
      "0.000000000338 Epoch 131/300\n",
      "312/311 [==============================] - 105s 335ms/step - loss: 0.0164 - acc: 0.9953 - val_loss: 0.0235 - val_acc: 0.9952\n",
      "0.000000000304 Epoch 132/300\n",
      "312/311 [==============================] - 104s 332ms/step - loss: 0.0168 - acc: 0.9948 - val_loss: 0.0236 - val_acc: 0.9952\n",
      "0.000000000274 Epoch 133/300\n",
      "312/311 [==============================] - 104s 334ms/step - loss: 0.0181 - acc: 0.9945 - val_loss: 0.0236 - val_acc: 0.9952\n",
      "0.000000000246 Epoch 134/300\n",
      "312/311 [==============================] - 105s 335ms/step - loss: 0.0156 - acc: 0.9953 - val_loss: 0.0235 - val_acc: 0.9952\n",
      "0.000000000222 Epoch 135/300\n",
      "312/311 [==============================] - 104s 335ms/step - loss: 0.0149 - acc: 0.9954 - val_loss: 0.0236 - val_acc: 0.9952\n",
      "0.000000000199 Epoch 136/300\n",
      "312/311 [==============================] - 104s 334ms/step - loss: 0.0155 - acc: 0.9951 - val_loss: 0.0236 - val_acc: 0.9952\n",
      "0.000000000180 Epoch 137/300\n",
      "312/311 [==============================] - 105s 335ms/step - loss: 0.0161 - acc: 0.9951 - val_loss: 0.0236 - val_acc: 0.9952\n",
      "0.000000000162 Epoch 138/300\n",
      "312/311 [==============================] - 105s 336ms/step - loss: 0.0169 - acc: 0.9947 - val_loss: 0.0236 - val_acc: 0.9952\n",
      "0.000000000145 Epoch 139/300\n",
      "312/311 [==============================] - 104s 333ms/step - loss: 0.0164 - acc: 0.9945 - val_loss: 0.0234 - val_acc: 0.9952\n",
      "0.000000000131 Epoch 140/300\n",
      "312/311 [==============================] - 103s 331ms/step - loss: 0.0174 - acc: 0.9946 - val_loss: 0.0236 - val_acc: 0.9952\n",
      "0.000000000118 Epoch 141/300\n",
      "312/311 [==============================] - 103s 331ms/step - loss: 0.0194 - acc: 0.9939 - val_loss: 0.0234 - val_acc: 0.9952\n",
      "0.000000000106 Epoch 142/300\n",
      "312/311 [==============================] - 105s 336ms/step - loss: 0.0171 - acc: 0.9948 - val_loss: 0.0236 - val_acc: 0.9952\n",
      "0.000000000095 Epoch 143/300\n",
      "312/311 [==============================] - 105s 336ms/step - loss: 0.0155 - acc: 0.9951 - val_loss: 0.0235 - val_acc: 0.9952\n",
      "0.000000000086 Epoch 144/300\n",
      "312/311 [==============================] - 103s 329ms/step - loss: 0.0185 - acc: 0.9944 - val_loss: 0.0234 - val_acc: 0.9952\n",
      "0.000000000077 Epoch 145/300\n",
      "312/311 [==============================] - 103s 331ms/step - loss: 0.0158 - acc: 0.9955 - val_loss: 0.0235 - val_acc: 0.9952\n",
      "0.000000000070 Epoch 146/300\n",
      "312/311 [==============================] - 104s 333ms/step - loss: 0.0169 - acc: 0.9948 - val_loss: 0.0234 - val_acc: 0.9952\n",
      "0.000000000063 Epoch 147/300\n",
      "312/311 [==============================] - 104s 333ms/step - loss: 0.0158 - acc: 0.9949 - val_loss: 0.0234 - val_acc: 0.9952\n",
      "0.000000000056 Epoch 148/300\n",
      "312/311 [==============================] - 105s 336ms/step - loss: 0.0157 - acc: 0.9948 - val_loss: 0.0236 - val_acc: 0.9952\n",
      "0.000000000051 Epoch 149/300\n",
      "312/311 [==============================] - 105s 335ms/step - loss: 0.0171 - acc: 0.9952 - val_loss: 0.0235 - val_acc: 0.9952\n",
      "0.000000000046 Epoch 150/300\n",
      "312/311 [==============================] - 103s 331ms/step - loss: 0.0174 - acc: 0.9946 - val_loss: 0.0234 - val_acc: 0.9952\n",
      "0.000000000041 Epoch 151/300\n",
      "312/311 [==============================] - 103s 331ms/step - loss: 0.0165 - acc: 0.9948 - val_loss: 0.0235 - val_acc: 0.9952\n",
      "0.000000000037 Epoch 152/300\n",
      "312/311 [==============================] - 103s 332ms/step - loss: 0.0171 - acc: 0.9949 - val_loss: 0.0237 - val_acc: 0.9952\n",
      "0.000000000033 Epoch 153/300\n",
      "312/311 [==============================] - 103s 330ms/step - loss: 0.0167 - acc: 0.9951 - val_loss: 0.0237 - val_acc: 0.9952\n",
      "0.000000000030 Epoch 154/300\n",
      "312/311 [==============================] - 103s 330ms/step - loss: 0.0162 - acc: 0.9952 - val_loss: 0.0235 - val_acc: 0.9952\n",
      "0.000000000027 Epoch 155/300\n",
      "312/311 [==============================] - 103s 331ms/step - loss: 0.0173 - acc: 0.9943 - val_loss: 0.0236 - val_acc: 0.9952\n",
      "0.000000000024 Epoch 156/300\n",
      "312/311 [==============================] - 103s 330ms/step - loss: 0.0154 - acc: 0.9948 - val_loss: 0.0236 - val_acc: 0.9952\n",
      "0.000000000022 Epoch 157/300\n",
      "312/311 [==============================] - 104s 333ms/step - loss: 0.0154 - acc: 0.9952 - val_loss: 0.0235 - val_acc: 0.9952\n",
      "0.000000000020 Epoch 158/300\n",
      "312/311 [==============================] - 104s 334ms/step - loss: 0.0163 - acc: 0.9950 - val_loss: 0.0236 - val_acc: 0.9952\n",
      "0.000000000018 Epoch 159/300\n",
      "312/311 [==============================] - 105s 335ms/step - loss: 0.0162 - acc: 0.9945 - val_loss: 0.0235 - val_acc: 0.9952\n",
      "0.000000000016 Epoch 160/300\n",
      "312/311 [==============================] - 105s 336ms/step - loss: 0.0162 - acc: 0.9944 - val_loss: 0.0236 - val_acc: 0.9952\n",
      "0.000000000014 Epoch 161/300\n",
      "312/311 [==============================] - 104s 334ms/step - loss: 0.0166 - acc: 0.9949 - val_loss: 0.0236 - val_acc: 0.9952\n",
      "0.000000000013 Epoch 162/300\n",
      "312/311 [==============================] - 105s 336ms/step - loss: 0.0171 - acc: 0.9941 - val_loss: 0.0235 - val_acc: 0.9952\n",
      "0.000000000012 Epoch 163/300\n",
      "312/311 [==============================] - 104s 334ms/step - loss: 0.0169 - acc: 0.9945 - val_loss: 0.0235 - val_acc: 0.9952\n",
      "0.000000000010 Epoch 164/300\n",
      "312/311 [==============================] - 104s 333ms/step - loss: 0.0171 - acc: 0.9946 - val_loss: 0.0236 - val_acc: 0.9952\n",
      "0.000000000009 Epoch 165/300\n",
      "312/311 [==============================] - 104s 334ms/step - loss: 0.0163 - acc: 0.9951 - val_loss: 0.0235 - val_acc: 0.9952\n",
      "0.000000000008 Epoch 166/300\n",
      "312/311 [==============================] - 103s 329ms/step - loss: 0.0158 - acc: 0.9953 - val_loss: 0.0236 - val_acc: 0.9952\n",
      "0.000000000008 Epoch 167/300\n",
      "312/311 [==============================] - 102s 328ms/step - loss: 0.0160 - acc: 0.9950 - val_loss: 0.0235 - val_acc: 0.9952\n",
      "0.000000000007 Epoch 168/300\n",
      "312/311 [==============================] - 103s 329ms/step - loss: 0.0162 - acc: 0.9949 - val_loss: 0.0235 - val_acc: 0.9952\n",
      "0.000000000006 Epoch 169/300\n",
      "312/311 [==============================] - 104s 332ms/step - loss: 0.0165 - acc: 0.9950 - val_loss: 0.0236 - val_acc: 0.9952\n",
      "0.000000000006 Epoch 170/300\n",
      "312/311 [==============================] - 104s 333ms/step - loss: 0.0183 - acc: 0.9944 - val_loss: 0.0235 - val_acc: 0.9952\n",
      "0.000000000005 Epoch 171/300\n",
      "312/311 [==============================] - 104s 335ms/step - loss: 0.0159 - acc: 0.9950 - val_loss: 0.0235 - val_acc: 0.9952\n",
      "0.000000000004 Epoch 172/300\n",
      "312/311 [==============================] - 104s 333ms/step - loss: 0.0163 - acc: 0.9949 - val_loss: 0.0235 - val_acc: 0.9952\n",
      "0.000000000004 Epoch 173/300\n",
      "312/311 [==============================] - 103s 330ms/step - loss: 0.0165 - acc: 0.9946 - val_loss: 0.0236 - val_acc: 0.9952\n",
      "0.000000000004 Epoch 174/300\n",
      "312/311 [==============================] - 102s 327ms/step - loss: 0.0169 - acc: 0.9948 - val_loss: 0.0236 - val_acc: 0.9952\n",
      "0.000000000003 Epoch 175/300\n",
      "312/311 [==============================] - 102s 328ms/step - loss: 0.0165 - acc: 0.9951 - val_loss: 0.0235 - val_acc: 0.9952\n",
      "0.000000000003 Epoch 176/300\n",
      "312/311 [==============================] - 103s 329ms/step - loss: 0.0166 - acc: 0.9948 - val_loss: 0.0235 - val_acc: 0.9952\n",
      "0.000000000003 Epoch 177/300\n",
      "312/311 [==============================] - 104s 332ms/step - loss: 0.0163 - acc: 0.9951 - val_loss: 0.0237 - val_acc: 0.9948\n",
      "0.000000000002 Epoch 178/300\n",
      "312/311 [==============================] - 102s 327ms/step - loss: 0.0161 - acc: 0.9955 - val_loss: 0.0235 - val_acc: 0.9952\n",
      "0.000000000002 Epoch 179/300\n",
      "312/311 [==============================] - 102s 327ms/step - loss: 0.0160 - acc: 0.9952 - val_loss: 0.0236 - val_acc: 0.9952\n",
      "0.000000000002 Epoch 180/300\n",
      "312/311 [==============================] - 102s 328ms/step - loss: 0.0162 - acc: 0.9948 - val_loss: 0.0236 - val_acc: 0.9952\n",
      "0.000000000002 Epoch 181/300\n",
      "312/311 [==============================] - 102s 327ms/step - loss: 0.0161 - acc: 0.9954 - val_loss: 0.0236 - val_acc: 0.9952\n",
      "0.000000000002 Epoch 182/300\n",
      "312/311 [==============================] - 102s 327ms/step - loss: 0.0159 - acc: 0.9953 - val_loss: 0.0236 - val_acc: 0.9952\n",
      "0.000000000001 Epoch 183/300\n",
      "312/311 [==============================] - 102s 327ms/step - loss: 0.0143 - acc: 0.9956 - val_loss: 0.0236 - val_acc: 0.9952\n",
      "0.000000000001 Epoch 184/300\n",
      "312/311 [==============================] - 102s 327ms/step - loss: 0.0171 - acc: 0.9947 - val_loss: 0.0235 - val_acc: 0.9952\n",
      "0.000000000001 Epoch 185/300\n",
      "312/311 [==============================] - 102s 327ms/step - loss: 0.0159 - acc: 0.9951 - val_loss: 0.0235 - val_acc: 0.9952\n",
      "0.000000000001 Epoch 186/300\n",
      "312/311 [==============================] - 102s 327ms/step - loss: 0.0160 - acc: 0.9951 - val_loss: 0.0236 - val_acc: 0.9952\n",
      "0.000000000001 Epoch 187/300\n",
      "312/311 [==============================] - 102s 327ms/step - loss: 0.0168 - acc: 0.9954 - val_loss: 0.0237 - val_acc: 0.9952\n",
      "0.000000000001 Epoch 188/300\n",
      "312/311 [==============================] - 102s 328ms/step - loss: 0.0171 - acc: 0.9948 - val_loss: 0.0237 - val_acc: 0.9952\n",
      "0.000000000001 Epoch 189/300\n",
      "312/311 [==============================] - 102s 328ms/step - loss: 0.0169 - acc: 0.9946 - val_loss: 0.0235 - val_acc: 0.9952\n",
      "0.000000000001 Epoch 190/300\n",
      "312/311 [==============================] - 102s 328ms/step - loss: 0.0158 - acc: 0.9948 - val_loss: 0.0234 - val_acc: 0.9952\n",
      "0.000000000001 Epoch 191/300\n",
      "312/311 [==============================] - 103s 330ms/step - loss: 0.0149 - acc: 0.9953 - val_loss: 0.0236 - val_acc: 0.9952\n",
      "0.000000000001 Epoch 192/300\n",
      "312/311 [==============================] - 102s 328ms/step - loss: 0.0170 - acc: 0.9951 - val_loss: 0.0235 - val_acc: 0.9952\n",
      "0.000000000001 Epoch 193/300\n",
      "312/311 [==============================] - 103s 329ms/step - loss: 0.0165 - acc: 0.9949 - val_loss: 0.0235 - val_acc: 0.9952\n",
      "0.000000000001 Epoch 194/300\n",
      "312/311 [==============================] - 102s 328ms/step - loss: 0.0150 - acc: 0.9954 - val_loss: 0.0235 - val_acc: 0.9952\n",
      "0.000000000001 Epoch 195/300\n",
      "312/311 [==============================] - 103s 329ms/step - loss: 0.0183 - acc: 0.9940 - val_loss: 0.0234 - val_acc: 0.9952\n",
      "0.000000000001 Epoch 196/300\n",
      "312/311 [==============================] - 103s 329ms/step - loss: 0.0162 - acc: 0.9949 - val_loss: 0.0236 - val_acc: 0.9952\n",
      "0.000000000001 Epoch 197/300\n",
      "312/311 [==============================] - 103s 329ms/step - loss: 0.0179 - acc: 0.9942 - val_loss: 0.0235 - val_acc: 0.9952\n",
      "0.000000000001 Epoch 198/300\n",
      "312/311 [==============================] - 102s 328ms/step - loss: 0.0190 - acc: 0.9938 - val_loss: 0.0236 - val_acc: 0.9952\n",
      "0.000000000001 Epoch 199/300\n",
      "312/311 [==============================] - 102s 328ms/step - loss: 0.0159 - acc: 0.9949 - val_loss: 0.0236 - val_acc: 0.9952\n",
      "0.000000000001 Epoch 200/300\n",
      "312/311 [==============================] - 102s 328ms/step - loss: 0.0170 - acc: 0.9944 - val_loss: 0.0235 - val_acc: 0.9952\n",
      "0.000000000001 Epoch 201/300\n",
      "312/311 [==============================] - 102s 327ms/step - loss: 0.0153 - acc: 0.9949 - val_loss: 0.0237 - val_acc: 0.9952\n",
      "0.000000000001 Epoch 202/300\n",
      "312/311 [==============================] - 102s 327ms/step - loss: 0.0183 - acc: 0.9941 - val_loss: 0.0236 - val_acc: 0.9952\n",
      "0.000000000001 Epoch 203/300\n",
      "312/311 [==============================] - 103s 329ms/step - loss: 0.0169 - acc: 0.9946 - val_loss: 0.0235 - val_acc: 0.9952\n",
      "0.000000000001 Epoch 204/300\n",
      "312/311 [==============================] - 102s 328ms/step - loss: 0.0155 - acc: 0.9953 - val_loss: 0.0236 - val_acc: 0.9952\n",
      "0.000000000001 Epoch 205/300\n",
      "312/311 [==============================] - 102s 327ms/step - loss: 0.0160 - acc: 0.9949 - val_loss: 0.0235 - val_acc: 0.9952\n",
      "0.000000000001 Epoch 206/300\n",
      "312/311 [==============================] - 102s 327ms/step - loss: 0.0158 - acc: 0.9949 - val_loss: 0.0236 - val_acc: 0.9952\n",
      "0.000000000001 Epoch 207/300\n",
      "312/311 [==============================] - 102s 327ms/step - loss: 0.0172 - acc: 0.9944 - val_loss: 0.0235 - val_acc: 0.9948\n",
      "0.000000000001 Epoch 208/300\n",
      "312/311 [==============================] - 102s 328ms/step - loss: 0.0161 - acc: 0.9950 - val_loss: 0.0235 - val_acc: 0.9952\n",
      "0.000000000001 Epoch 209/300\n",
      "312/311 [==============================] - 102s 327ms/step - loss: 0.0149 - acc: 0.9954 - val_loss: 0.0235 - val_acc: 0.9952\n",
      "0.000000000001 Epoch 210/300\n",
      "312/311 [==============================] - 103s 329ms/step - loss: 0.0173 - acc: 0.9947 - val_loss: 0.0236 - val_acc: 0.9952\n",
      "0.000000000001 Epoch 211/300\n",
      "312/311 [==============================] - 102s 327ms/step - loss: 0.0162 - acc: 0.9948 - val_loss: 0.0237 - val_acc: 0.9952\n",
      "0.000000000001 Epoch 212/300\n",
      "312/311 [==============================] - 102s 327ms/step - loss: 0.0161 - acc: 0.9949 - val_loss: 0.0236 - val_acc: 0.9952\n",
      "0.000000000001 Epoch 213/300\n"
     ]
    },
    {
     "name": "stdout",
     "output_type": "stream",
     "text": [
      "312/311 [==============================] - 102s 328ms/step - loss: 0.0166 - acc: 0.9949 - val_loss: 0.0238 - val_acc: 0.9952\n",
      "0.000000000001 Epoch 214/300\n",
      "312/311 [==============================] - 102s 328ms/step - loss: 0.0153 - acc: 0.9952 - val_loss: 0.0236 - val_acc: 0.9952\n",
      "0.000000000001 Epoch 215/300\n",
      "312/311 [==============================] - 102s 328ms/step - loss: 0.0158 - acc: 0.9952 - val_loss: 0.0236 - val_acc: 0.9952\n",
      "0.000000000001 Epoch 216/300\n",
      "312/311 [==============================] - 102s 328ms/step - loss: 0.0165 - acc: 0.9954 - val_loss: 0.0235 - val_acc: 0.9952\n",
      "0.000000000001 Epoch 217/300\n",
      "312/311 [==============================] - 102s 328ms/step - loss: 0.0168 - acc: 0.9944 - val_loss: 0.0235 - val_acc: 0.9952\n",
      "0.000000000001 Epoch 218/300\n",
      "312/311 [==============================] - 103s 329ms/step - loss: 0.0165 - acc: 0.9950 - val_loss: 0.0235 - val_acc: 0.9952\n",
      "0.000000000001 Epoch 219/300\n",
      "312/311 [==============================] - 103s 330ms/step - loss: 0.0151 - acc: 0.9952 - val_loss: 0.0234 - val_acc: 0.9952\n",
      "0.000000000001 Epoch 220/300\n",
      "312/311 [==============================] - 102s 328ms/step - loss: 0.0169 - acc: 0.9944 - val_loss: 0.0235 - val_acc: 0.9952\n",
      "0.000000000001 Epoch 221/300\n",
      "312/311 [==============================] - 102s 326ms/step - loss: 0.0167 - acc: 0.9951 - val_loss: 0.0236 - val_acc: 0.9952\n",
      "0.000000000001 Epoch 222/300\n",
      "312/311 [==============================] - 102s 327ms/step - loss: 0.0159 - acc: 0.9949 - val_loss: 0.0235 - val_acc: 0.9952\n",
      "0.000000000001 Epoch 223/300\n",
      "312/311 [==============================] - 102s 329ms/step - loss: 0.0156 - acc: 0.9951 - val_loss: 0.0236 - val_acc: 0.9952\n",
      "0.000000000001 Epoch 224/300\n",
      "312/311 [==============================] - 102s 328ms/step - loss: 0.0186 - acc: 0.9945 - val_loss: 0.0235 - val_acc: 0.9952\n",
      "0.000000000001 Epoch 225/300\n",
      "312/311 [==============================] - 102s 327ms/step - loss: 0.0152 - acc: 0.9955 - val_loss: 0.0235 - val_acc: 0.9952\n",
      "0.000000000001 Epoch 226/300\n",
      "312/311 [==============================] - 102s 328ms/step - loss: 0.0167 - acc: 0.9950 - val_loss: 0.0235 - val_acc: 0.9952\n",
      "0.000000000001 Epoch 227/300\n",
      "312/311 [==============================] - 102s 327ms/step - loss: 0.0169 - acc: 0.9949 - val_loss: 0.0235 - val_acc: 0.9952\n",
      "0.000000000001 Epoch 228/300\n",
      "312/311 [==============================] - 102s 328ms/step - loss: 0.0162 - acc: 0.9948 - val_loss: 0.0234 - val_acc: 0.9952\n",
      "0.000000000001 Epoch 229/300\n",
      "312/311 [==============================] - 102s 328ms/step - loss: 0.0163 - acc: 0.9949 - val_loss: 0.0235 - val_acc: 0.9952\n",
      "0.000000000001 Epoch 230/300\n",
      "312/311 [==============================] - 102s 327ms/step - loss: 0.0162 - acc: 0.9948 - val_loss: 0.0235 - val_acc: 0.9952\n",
      "0.000000000001 Epoch 231/300\n",
      "312/311 [==============================] - 102s 327ms/step - loss: 0.0159 - acc: 0.9951 - val_loss: 0.0237 - val_acc: 0.9952\n",
      "0.000000000001 Epoch 232/300\n",
      "312/311 [==============================] - 103s 329ms/step - loss: 0.0155 - acc: 0.9954 - val_loss: 0.0235 - val_acc: 0.9952\n",
      "0.000000000001 Epoch 233/300\n",
      "312/311 [==============================] - 102s 328ms/step - loss: 0.0182 - acc: 0.9947 - val_loss: 0.0235 - val_acc: 0.9952\n",
      "0.000000000001 Epoch 234/300\n",
      "312/311 [==============================] - 102s 328ms/step - loss: 0.0161 - acc: 0.9951 - val_loss: 0.0236 - val_acc: 0.9952\n",
      "0.000000000001 Epoch 235/300\n",
      "312/311 [==============================] - 102s 327ms/step - loss: 0.0168 - acc: 0.9949 - val_loss: 0.0236 - val_acc: 0.9952\n",
      "0.000000000001 Epoch 236/300\n",
      "312/311 [==============================] - 102s 327ms/step - loss: 0.0158 - acc: 0.9951 - val_loss: 0.0236 - val_acc: 0.9952\n",
      "0.000000000001 Epoch 237/300\n",
      "312/311 [==============================] - 103s 330ms/step - loss: 0.0163 - acc: 0.9948 - val_loss: 0.0235 - val_acc: 0.9952\n",
      "0.000000000001 Epoch 238/300\n",
      "312/311 [==============================] - 104s 332ms/step - loss: 0.0164 - acc: 0.9950 - val_loss: 0.0235 - val_acc: 0.9952\n",
      "0.000000000001 Epoch 239/300\n",
      "312/311 [==============================] - 103s 331ms/step - loss: 0.0174 - acc: 0.9948 - val_loss: 0.0235 - val_acc: 0.9952\n",
      "0.000000000001 Epoch 240/300\n",
      "312/311 [==============================] - 102s 327ms/step - loss: 0.0178 - acc: 0.9945 - val_loss: 0.0236 - val_acc: 0.9952\n",
      "0.000000000001 Epoch 241/300\n",
      "312/311 [==============================] - 102s 327ms/step - loss: 0.0168 - acc: 0.9945 - val_loss: 0.0236 - val_acc: 0.9952\n",
      "0.000000000001 Epoch 242/300\n",
      "312/311 [==============================] - 102s 328ms/step - loss: 0.0162 - acc: 0.9948 - val_loss: 0.0236 - val_acc: 0.9948\n",
      "0.000000000001 Epoch 243/300\n",
      "312/311 [==============================] - 104s 332ms/step - loss: 0.0150 - acc: 0.9954 - val_loss: 0.0235 - val_acc: 0.9952\n",
      "0.000000000001 Epoch 244/300\n",
      "312/311 [==============================] - 104s 334ms/step - loss: 0.0170 - acc: 0.9945 - val_loss: 0.0235 - val_acc: 0.9948\n",
      "0.000000000001 Epoch 245/300\n",
      "312/311 [==============================] - 105s 335ms/step - loss: 0.0164 - acc: 0.9951 - val_loss: 0.0236 - val_acc: 0.9952\n",
      "0.000000000001 Epoch 246/300\n",
      "312/311 [==============================] - 103s 330ms/step - loss: 0.0173 - acc: 0.9945 - val_loss: 0.0236 - val_acc: 0.9952\n",
      "0.000000000001 Epoch 247/300\n",
      "312/311 [==============================] - 102s 327ms/step - loss: 0.0157 - acc: 0.9949 - val_loss: 0.0235 - val_acc: 0.9952\n",
      "0.000000000001 Epoch 248/300\n",
      "312/311 [==============================] - 103s 330ms/step - loss: 0.0167 - acc: 0.9951 - val_loss: 0.0235 - val_acc: 0.9952\n",
      "0.000000000001 Epoch 249/300\n",
      "312/311 [==============================] - 103s 330ms/step - loss: 0.0164 - acc: 0.9953 - val_loss: 0.0236 - val_acc: 0.9952\n",
      "0.000000000001 Epoch 250/300\n",
      "312/311 [==============================] - 104s 334ms/step - loss: 0.0170 - acc: 0.9950 - val_loss: 0.0236 - val_acc: 0.9952\n",
      "0.000000000001 Epoch 251/300\n",
      "312/311 [==============================] - 105s 335ms/step - loss: 0.0153 - acc: 0.9951 - val_loss: 0.0235 - val_acc: 0.9952\n",
      "0.000000000001 Epoch 252/300\n",
      "312/311 [==============================] - 104s 332ms/step - loss: 0.0164 - acc: 0.9944 - val_loss: 0.0235 - val_acc: 0.9952\n",
      "0.000000000001 Epoch 253/300\n",
      "312/311 [==============================] - 102s 326ms/step - loss: 0.0166 - acc: 0.9949 - val_loss: 0.0235 - val_acc: 0.9952\n",
      "0.000000000001 Epoch 254/300\n",
      "312/311 [==============================] - 102s 326ms/step - loss: 0.0157 - acc: 0.9956 - val_loss: 0.0235 - val_acc: 0.9952\n",
      "0.000000000001 Epoch 255/300\n",
      "312/311 [==============================] - 104s 335ms/step - loss: 0.0161 - acc: 0.9948 - val_loss: 0.0235 - val_acc: 0.9952\n",
      "0.000000000001 Epoch 256/300\n",
      "312/311 [==============================] - 103s 329ms/step - loss: 0.0160 - acc: 0.9949 - val_loss: 0.0235 - val_acc: 0.9952\n",
      "0.000000000001 Epoch 257/300\n",
      "312/311 [==============================] - 102s 327ms/step - loss: 0.0167 - acc: 0.9948 - val_loss: 0.0235 - val_acc: 0.9952\n",
      "0.000000000001 Epoch 258/300\n",
      "312/311 [==============================] - 102s 327ms/step - loss: 0.0169 - acc: 0.9945 - val_loss: 0.0235 - val_acc: 0.9952\n",
      "0.000000000001 Epoch 259/300\n",
      "312/311 [==============================] - 102s 326ms/step - loss: 0.0167 - acc: 0.9947 - val_loss: 0.0236 - val_acc: 0.9952\n",
      "0.000000000001 Epoch 260/300\n",
      "312/311 [==============================] - 102s 326ms/step - loss: 0.0158 - acc: 0.9949 - val_loss: 0.0234 - val_acc: 0.9952\n",
      "0.000000000001 Epoch 261/300\n",
      "312/311 [==============================] - 102s 326ms/step - loss: 0.0152 - acc: 0.9953 - val_loss: 0.0235 - val_acc: 0.9952\n",
      "0.000000000001 Epoch 262/300\n",
      "312/311 [==============================] - 102s 326ms/step - loss: 0.0166 - acc: 0.9951 - val_loss: 0.0235 - val_acc: 0.9952\n",
      "0.000000000001 Epoch 263/300\n",
      "312/311 [==============================] - 102s 326ms/step - loss: 0.0179 - acc: 0.9943 - val_loss: 0.0235 - val_acc: 0.9952\n",
      "0.000000000001 Epoch 264/300\n",
      "312/311 [==============================] - 103s 331ms/step - loss: 0.0160 - acc: 0.9948 - val_loss: 0.0235 - val_acc: 0.9952\n",
      "0.000000000001 Epoch 265/300\n",
      "312/311 [==============================] - 103s 331ms/step - loss: 0.0149 - acc: 0.9954 - val_loss: 0.0236 - val_acc: 0.9952\n",
      "0.000000000001 Epoch 266/300\n",
      "312/311 [==============================] - 102s 327ms/step - loss: 0.0162 - acc: 0.9948 - val_loss: 0.0236 - val_acc: 0.9952\n",
      "0.000000000001 Epoch 267/300\n",
      "312/311 [==============================] - 103s 330ms/step - loss: 0.0167 - acc: 0.9949 - val_loss: 0.0235 - val_acc: 0.9952\n",
      "0.000000000001 Epoch 268/300\n",
      "312/311 [==============================] - 103s 330ms/step - loss: 0.0166 - acc: 0.9950 - val_loss: 0.0237 - val_acc: 0.9952\n",
      "0.000000000001 Epoch 269/300\n",
      "312/311 [==============================] - 102s 327ms/step - loss: 0.0165 - acc: 0.9950 - val_loss: 0.0235 - val_acc: 0.9952\n",
      "0.000000000001 Epoch 270/300\n",
      "312/311 [==============================] - 102s 327ms/step - loss: 0.0161 - acc: 0.9953 - val_loss: 0.0235 - val_acc: 0.9952\n",
      "0.000000000001 Epoch 271/300\n",
      "312/311 [==============================] - 102s 328ms/step - loss: 0.0170 - acc: 0.9949 - val_loss: 0.0236 - val_acc: 0.9952\n",
      "0.000000000001 Epoch 272/300\n",
      "312/311 [==============================] - 102s 327ms/step - loss: 0.0163 - acc: 0.9950 - val_loss: 0.0234 - val_acc: 0.9952\n",
      "0.000000000001 Epoch 273/300\n",
      "312/311 [==============================] - 102s 327ms/step - loss: 0.0148 - acc: 0.9953 - val_loss: 0.0234 - val_acc: 0.9952\n",
      "0.000000000001 Epoch 274/300\n",
      "312/311 [==============================] - 102s 328ms/step - loss: 0.0171 - acc: 0.9946 - val_loss: 0.0236 - val_acc: 0.9952\n",
      "0.000000000001 Epoch 275/300\n",
      "312/311 [==============================] - 102s 328ms/step - loss: 0.0145 - acc: 0.9953 - val_loss: 0.0236 - val_acc: 0.9952\n",
      "0.000000000001 Epoch 276/300\n",
      "312/311 [==============================] - 101s 325ms/step - loss: 0.0173 - acc: 0.9947 - val_loss: 0.0235 - val_acc: 0.9952\n",
      "0.000000000001 Epoch 277/300\n",
      "312/311 [==============================] - 101s 325ms/step - loss: 0.0173 - acc: 0.9943 - val_loss: 0.0236 - val_acc: 0.9952\n",
      "0.000000000001 Epoch 278/300\n",
      "312/311 [==============================] - 102s 325ms/step - loss: 0.0162 - acc: 0.9950 - val_loss: 0.0235 - val_acc: 0.9952\n",
      "0.000000000001 Epoch 279/300\n",
      "312/311 [==============================] - 101s 325ms/step - loss: 0.0171 - acc: 0.9947 - val_loss: 0.0235 - val_acc: 0.9952\n",
      "0.000000000001 Epoch 280/300\n",
      "312/311 [==============================] - 101s 325ms/step - loss: 0.0168 - acc: 0.9946 - val_loss: 0.0235 - val_acc: 0.9952\n",
      "0.000000000001 Epoch 281/300\n",
      "312/311 [==============================] - 101s 325ms/step - loss: 0.0162 - acc: 0.9947 - val_loss: 0.0236 - val_acc: 0.9952\n",
      "0.000000000001 Epoch 282/300\n",
      "312/311 [==============================] - 101s 325ms/step - loss: 0.0177 - acc: 0.9949 - val_loss: 0.0236 - val_acc: 0.9952\n",
      "0.000000000001 Epoch 283/300\n",
      "312/311 [==============================] - 101s 325ms/step - loss: 0.0179 - acc: 0.9946 - val_loss: 0.0235 - val_acc: 0.9952\n",
      "0.000000000001 Epoch 284/300\n",
      "312/311 [==============================] - 102s 325ms/step - loss: 0.0172 - acc: 0.9944 - val_loss: 0.0235 - val_acc: 0.9952\n",
      "0.000000000001 Epoch 285/300\n",
      "312/311 [==============================] - 101s 325ms/step - loss: 0.0150 - acc: 0.9951 - val_loss: 0.0236 - val_acc: 0.9952\n",
      "0.000000000001 Epoch 286/300\n",
      "312/311 [==============================] - 101s 325ms/step - loss: 0.0163 - acc: 0.9950 - val_loss: 0.0236 - val_acc: 0.9952\n",
      "0.000000000001 Epoch 287/300\n",
      "312/311 [==============================] - 101s 325ms/step - loss: 0.0161 - acc: 0.9951 - val_loss: 0.0235 - val_acc: 0.9952\n",
      "0.000000000001 Epoch 288/300\n",
      "312/311 [==============================] - 101s 325ms/step - loss: 0.0158 - acc: 0.9951 - val_loss: 0.0236 - val_acc: 0.9952\n",
      "0.000000000001 Epoch 289/300\n",
      "312/311 [==============================] - 101s 325ms/step - loss: 0.0163 - acc: 0.9951 - val_loss: 0.0234 - val_acc: 0.9952\n",
      "0.000000000001 Epoch 290/300\n",
      "312/311 [==============================] - 101s 325ms/step - loss: 0.0174 - acc: 0.9947 - val_loss: 0.0235 - val_acc: 0.9952\n",
      "0.000000000001 Epoch 291/300\n",
      "312/311 [==============================] - 102s 325ms/step - loss: 0.0177 - acc: 0.9948 - val_loss: 0.0234 - val_acc: 0.9952\n",
      "0.000000000001 Epoch 292/300\n",
      "312/311 [==============================] - 101s 325ms/step - loss: 0.0187 - acc: 0.9941 - val_loss: 0.0235 - val_acc: 0.9948\n",
      "0.000000000001 Epoch 293/300\n",
      "312/311 [==============================] - 102s 325ms/step - loss: 0.0150 - acc: 0.9951 - val_loss: 0.0236 - val_acc: 0.9952\n",
      "0.000000000001 Epoch 294/300\n",
      "312/311 [==============================] - 101s 325ms/step - loss: 0.0173 - acc: 0.9949 - val_loss: 0.0236 - val_acc: 0.9952\n",
      "0.000000000001 Epoch 295/300\n",
      "312/311 [==============================] - 102s 325ms/step - loss: 0.0155 - acc: 0.9949 - val_loss: 0.0234 - val_acc: 0.9952\n",
      "0.000000000001 Epoch 296/300\n",
      "312/311 [==============================] - 102s 325ms/step - loss: 0.0175 - acc: 0.9944 - val_loss: 0.0236 - val_acc: 0.9952\n",
      "0.000000000001 Epoch 297/300\n",
      "312/311 [==============================] - 101s 325ms/step - loss: 0.0156 - acc: 0.9952 - val_loss: 0.0236 - val_acc: 0.9952\n",
      "0.000000000001 Epoch 298/300\n",
      "312/311 [==============================] - 102s 325ms/step - loss: 0.0156 - acc: 0.9951 - val_loss: 0.0236 - val_acc: 0.9952\n",
      "0.000000000001 Epoch 299/300\n",
      "312/311 [==============================] - 101s 325ms/step - loss: 0.0162 - acc: 0.9952 - val_loss: 0.0235 - val_acc: 0.9952\n",
      "0.000000000001 Epoch 300/300\n",
      "312/311 [==============================] - 102s 325ms/step - loss: 0.0158 - acc: 0.9948 - val_loss: 0.0235 - val_acc: 0.9952\n",
      "Wall time: 8h 33min 8s\n"
     ]
    }
   ],
   "source": [
    "%%time\n",
    "batch_size = 128\n",
    "steps_per_epoch = x_train.shape[0] / batch_size\n",
    "hist = model.fit_generator(\n",
    "    train_datagen.flow(x_train, y_train, batch_size=batch_size, seed=2018),\n",
    "    steps_per_epoch=steps_per_epoch,\n",
    "    epochs=300, #Increase this when not on Kaggle kernel\n",
    "    verbose=1,  #1 for ETA, 0 for silent\n",
    "    callbacks=callbacks,\n",
    "    max_queue_size=256,\n",
    "    workers=32,\n",
    "    validation_steps=1000,\n",
    "    validation_data=val_datagen.flow(x_val, y_val, batch_size=32, seed=2018)\n",
    ")"
   ]
  },
  {
   "cell_type": "code",
   "execution_count": 20,
   "metadata": {},
   "outputs": [
    {
     "name": "stdout",
     "output_type": "stream",
     "text": [
      "Final loss: 0.0235, final accuracy: 0.9952\n"
     ]
    }
   ],
   "source": [
    "final_loss, final_acc = model.evaluate(x_val, y_val, verbose=0)\n",
    "print(\"Final loss: {0:.4f}, final accuracy: {1:.4f}\".format(final_loss, final_acc))"
   ]
  },
  {
   "cell_type": "code",
   "execution_count": 21,
   "metadata": {},
   "outputs": [
    {
     "name": "stdout",
     "output_type": "stream",
     "text": [
      "Digit_Recognizer_Inception_20180227_104110_9952\n"
     ]
    }
   ],
   "source": [
    "final_acc_str = '{0:0>4}'.format(int(final_acc*10000))\n",
    "run_name_acc = project_name + '_' + step_name + '_' + time_str + '_' + final_acc_str\n",
    "print(run_name_acc)"
   ]
  },
  {
   "cell_type": "code",
   "execution_count": 22,
   "metadata": {},
   "outputs": [
    {
     "name": "stdout",
     "output_type": "stream",
     "text": [
      "Index(['acc', 'loss', 'val_acc', 'val_loss', 'epoch'], dtype='object')\n"
     ]
    }
   ],
   "source": [
    "histories = pd.DataFrame(hist.history)\n",
    "histories['epoch'] = hist.epoch\n",
    "print(histories.columns)\n",
    "histories_file = os.path.join(model_path, run_name_acc + '.csv')\n",
    "histories.to_csv(histories_file, index=False)"
   ]
  },
  {
   "cell_type": "code",
   "execution_count": 23,
   "metadata": {},
   "outputs": [
    {
     "data": {
      "image/png": "[encoded data removed]",
      "text/plain": [
       "<matplotlib.figure.Figure at 0x22f9557bc88>"
      ]
     },
     "metadata": {},
     "output_type": "display_data"
    },
    {
     "data": {
      "image/png": "[encoded data removed]",
      "text/plain": [
       "<matplotlib.figure.Figure at 0x22f957d19b0>"
      ]
     },
     "metadata": {},
     "output_type": "display_data"
    }
   ],
   "source": [
    "plt.plot(hist.history['loss'], color='b')\n",
    "plt.plot(hist.history['val_loss'], color='r')\n",
    "plt.show()\n",
    "plt.plot(hist.history['acc'], color='b')\n",
    "plt.plot(hist.history['val_acc'], color='r')\n",
    "plt.show()"
   ]
  },
  {
   "cell_type": "code",
   "execution_count": 24,
   "metadata": {
    "collapsed": true
   },
   "outputs": [],
   "source": [
    "saveModel(model, run_name_acc)"
   ]
  },
  {
   "cell_type": "code",
   "execution_count": 25,
   "metadata": {
    "collapsed": true
   },
   "outputs": [],
   "source": [
    "# y_hat = model.predict(x_val)\n",
    "# y_pred = np.argmax(y_hat, axis=1)\n",
    "# y_true = np.argmax(y_val, axis=1)\n",
    "# cm = confusion_matrix(y_true, y_pred)\n",
    "# print(cm)"
   ]
  },
  {
   "cell_type": "code",
   "execution_count": 26,
   "metadata": {},
   "outputs": [
    {
     "name": "stdout",
     "output_type": "stream",
     "text": [
      "accuracy_score: 0.995238095238\n",
      "[[199   0   0   0   0   0   0   0   0   0]\n",
      " [  0 232   0   0   0   0   0   0   0   0]\n",
      " [  0   0 205   0   0   0   0   0   0   0]\n",
      " [  0   0   0 220   0   0   0   1   1   0]\n",
      " [  0   0   0   0 213   0   0   1   0   1]\n",
      " [  0   0   0   0   0 180   0   0   0   0]\n",
      " [  0   1   0   0   0   0 183   0   0   0]\n",
      " [  0   1   0   0   0   0   0 233   0   0]\n",
      " [  0   0   0   1   0   0   0   0 210   0]\n",
      " [  0   0   0   0   2   0   0   0   1 215]]\n",
      "count: 10\n",
      "(10,)\n"
     ]
    },
    {
     "data": {
      "image/png": "[encoded data removed]",
      "text/plain": [
       "<matplotlib.figure.Figure at 0x22dd687bd68>"
      ]
     },
     "metadata": {},
     "output_type": "display_data"
    }
   ],
   "source": [
    "from sklearn.metrics import confusion_matrix, accuracy_score\n",
    "def show_diffs(model, x_data, y_data, labels):\n",
    "    y_hat = model.predict(x_data)\n",
    "    y_pred = np.argmax(y_hat, axis=1)\n",
    "    y_true = np.argmax(y_data, axis=1)\n",
    "    print('accuracy_score: %s' % accuracy_score(y_true, y_pred))\n",
    "    cm = confusion_matrix(y_true, y_pred, labels)\n",
    "    print(cm)\n",
    "    indexes = []\n",
    "    diffs = []\n",
    "    for i, p in enumerate(zip(y_true, y_pred)):\n",
    "        if p[0] != p[1]:\n",
    "            indexes.append(i)\n",
    "            diffs.append(p)\n",
    "    count = len(indexes)\n",
    "    print('count: %s' % count)\n",
    "    figs, axes = plt.subplots(count, 1, figsize=(count,50))\n",
    "    print(axes.shape)\n",
    "    for i, p in enumerate(diffs):\n",
    "        axes[i].imshow(x_val[indexes[i]].reshape(28, 28), cmap='gray')\n",
    "        axes[i].set_title('%s -> %s' % (p[0], p[1]))\n",
    "        \n",
    "show_diffs(model, x_val, y_val, labels=list(range(0, 10)))"
   ]
  },
  {
   "cell_type": "markdown",
   "metadata": {},
   "source": [
    "## Predict"
   ]
  },
  {
   "cell_type": "code",
   "execution_count": 27,
   "metadata": {},
   "outputs": [
    {
     "name": "stdout",
     "output_type": "stream",
     "text": [
      "D:\\ref\\Kaggle\\digit-recognizer\\output\\Digit_Recognizer_Inception_20180227_104110_9952.csv\n"
     ]
    }
   ],
   "source": [
    "if not os.path.exists(output_path):\n",
    "    os.mkdir(output_path)\n",
    "pred_file = os.path.join(output_path, run_name_acc + '.csv')\n",
    "print(pred_file)"
   ]
  },
  {
   "cell_type": "code",
   "execution_count": 28,
   "metadata": {
    "collapsed": true
   },
   "outputs": [],
   "source": [
    "y_hat = model.predict(x_test, batch_size=64)"
   ]
  },
  {
   "cell_type": "code",
   "execution_count": 29,
   "metadata": {
    "collapsed": true
   },
   "outputs": [],
   "source": [
    "y_pred = np.argmax(y_hat,axis=1)"
   ]
  },
  {
   "cell_type": "code",
   "execution_count": 30,
   "metadata": {
    "collapsed": true
   },
   "outputs": [],
   "source": [
    "with open(pred_file, 'w') as f :\n",
    "    f.write('ImageId,Label\\n')\n",
    "    for i in range(len(y_pred)) :\n",
    "        f.write(\"\".join([str(i+1),',',str(y_pred[i]),'\\n']))"
   ]
  },
  {
   "cell_type": "code",
   "execution_count": 31,
   "metadata": {},
   "outputs": [
    {
     "name": "stdout",
     "output_type": "stream",
     "text": [
      "time cost: 30866.38 s\n",
      "Done!\n"
     ]
    }
   ],
   "source": [
    "t1 = time.time()\n",
    "print('time cost: %.2f s' % (t1-t0))\n",
    "print('Done!')"
   ]
  },
  {
   "cell_type": "code",
   "execution_count": 32,
   "metadata": {},
   "outputs": [
    {
     "name": "stdout",
     "output_type": "stream",
     "text": [
      "Digit_Recognizer_Inception_20180227_104110_9952\n"
     ]
    }
   ],
   "source": [
    "print(run_name_acc)"
   ]
  },
  {
   "cell_type": "code",
   "execution_count": null,
   "metadata": {
    "collapsed": true
   },
   "outputs": [],
   "source": []
  }
 ],
 "metadata": {
  "kernelspec": {
   "display_name": "Python 3",
   "language": "python",
   "name": "python3"
  },
  "language_info": {
   "codemirror_mode": {
    "name": "ipython",
    "version": 3
   },
   "file_extension": ".py",
   "mimetype": "text/x-python",
   "name": "python",
   "nbconvert_exporter": "python",
   "pygments_lexer": "ipython3",
   "version": "3.6.4"
  }
 },
 "nbformat": 4,
 "nbformat_minor": 2
}
