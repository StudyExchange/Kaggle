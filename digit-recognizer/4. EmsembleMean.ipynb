{
 "cells": [
  {
   "cell_type": "markdown",
   "metadata": {},
   "source": [
    "# 4. EmsembleMean\n",
    "\n",
    "kaggle score: 0.99357"
   ]
  },
  {
   "cell_type": "markdown",
   "metadata": {},
   "source": [
    "## Run name"
   ]
  },
  {
   "cell_type": "code",
   "execution_count": 1,
   "metadata": {},
   "outputs": [
    {
     "name": "stdout",
     "output_type": "stream",
     "text": [
      "run_name: DigitRecognizer_EmsembleMean_20180417_211659\n"
     ]
    }
   ],
   "source": [
    "import time\n",
    "\n",
    "project_name = 'DigitRecognizer'\n",
    "step_name = 'EmsembleMean'\n",
    "date_str = time.strftime(\"%Y%m%d\", time.localtime())\n",
    "time_str = time.strftime(\"%Y%m%d_%H%M%S\", time.localtime())\n",
    "run_name = '%s_%s_%s' % (project_name, step_name, time_str)\n",
    "print('run_name: %s' % run_name)\n",
    "t0 = time.time()"
   ]
  },
  {
   "cell_type": "markdown",
   "metadata": {},
   "source": [
    "## Import PKGs"
   ]
  },
  {
   "cell_type": "code",
   "execution_count": 2,
   "metadata": {},
   "outputs": [],
   "source": [
    "import numpy as np\n",
    "import pandas as pd\n",
    "import matplotlib.pyplot as plt\n",
    "import matplotlib.image as mpimg\n",
    "%matplotlib inline\n",
    "from IPython.display import display\n",
    "\n",
    "import os\n",
    "import gc\n",
    "import math\n",
    "import shutil\n",
    "import zipfile\n",
    "import pickle\n",
    "import h5py\n",
    "from PIL import Image\n",
    "\n",
    "from tqdm import tqdm\n",
    "from multiprocessing import cpu_count\n",
    "\n",
    "from sklearn.model_selection import train_test_split\n",
    "from sklearn.metrics import confusion_matrix, accuracy_score"
   ]
  },
  {
   "cell_type": "markdown",
   "metadata": {},
   "source": [
    "## Basic folders"
   ]
  },
  {
   "cell_type": "code",
   "execution_count": 3,
   "metadata": {},
   "outputs": [
    {
     "name": "stdout",
     "output_type": "stream",
     "text": [
      "input_folder: \t\tD:\\Kaggle\\digit-recognizer\\input\n",
      "log_folder: \t\tD:\\Kaggle\\digit-recognizer\\log\n",
      "model_folder: \t\tD:\\Kaggle\\digit-recognizer\\model\n",
      "output_folder: \t\tD:\\Kaggle\\digit-recognizer\\output\n",
      "\n",
      "train_csv_file: \tD:\\Kaggle\\digit-recognizer\\input\\train.csv\n",
      "test_csv_file: \t\tD:\\Kaggle\\digit-recognizer\\input\\test.csv\n",
      "processed_data_file: \tD:\\Kaggle\\digit-recognizer\\input\\DigitRecognizer_EmsembleMean.p\n"
     ]
    }
   ],
   "source": [
    "cwd = os.getcwd()\n",
    "input_folder = os.path.join(cwd, 'input')\n",
    "log_folder = os.path.join(cwd, 'log')\n",
    "model_folder = os.path.join(cwd, 'model')\n",
    "output_folder = os.path.join(cwd, 'output')\n",
    "print('input_folder: \\t\\t%s' % input_folder)\n",
    "print('log_folder: \\t\\t%s' % log_folder)\n",
    "print('model_folder: \\t\\t%s' % model_folder)\n",
    "print('output_folder: \\t\\t%s'% output_folder)\n",
    "\n",
    "train_csv_file = os.path.join(input_folder, 'train.csv')\n",
    "test_csv_file = os.path.join(input_folder, 'test.csv')\n",
    "print('\\ntrain_csv_file: \\t%s' % train_csv_file)\n",
    "print('test_csv_file: \\t\\t%s' % test_csv_file)\n",
    "\n",
    "processed_data_file = os.path.join(input_folder, '%s_%s.p' % (project_name, step_name))\n",
    "print('processed_data_file: \\t%s' % processed_data_file)"
   ]
  },
  {
   "cell_type": "markdown",
   "metadata": {},
   "source": [
    "## Basic functions"
   ]
  },
  {
   "cell_type": "code",
   "execution_count": 4,
   "metadata": {},
   "outputs": [],
   "source": [
    "import sys\n",
    "def describe(arr):\n",
    "    print(arr.shape, arr.min(), arr.max(), sys.getsizeof(arr))"
   ]
  },
  {
   "cell_type": "code",
   "execution_count": 5,
   "metadata": {},
   "outputs": [],
   "source": [
    "def show_data_images(rows, fig_column, y_data, *args):\n",
    "    columns = len(args)\n",
    "    figs, axes = plt.subplots(rows, columns, figsize=(rows, fig_column*columns))\n",
    "    print(axes.shape)  \n",
    "    for i, ax in enumerate(axes):\n",
    "        y_data_str = ''\n",
    "        if type(y_data) != type(None):\n",
    "            y_data_str =  '_' + str(y_data[i])\n",
    "        ax[0].set_title('28x28' + y_data_str)\n",
    "        for j, arg in enumerate(args):\n",
    "            ax[j].imshow(arg[i])"
   ]
  },
  {
   "cell_type": "markdown",
   "metadata": {},
   "source": [
    "## Load predict probability files"
   ]
  },
  {
   "cell_type": "code",
   "execution_count": 6,
   "metadata": {},
   "outputs": [
    {
     "name": "stdout",
     "output_type": "stream",
     "text": [
      "True\n",
      "25\n",
      "12\n",
      "['DigitRecognizer_MoreStructure_20180417_003649_9990.p', 'DigitRecognizer_MoreStructure_20180417_011627_9990.p', 'DigitRecognizer_MoreStructure_20180417_043418_9990.p', 'DigitRecognizer_MoreStructure_20180417_063232_9990.p', 'DigitRecognizer_MoreStructure_20180417_071204_9990.p', 'DigitRecognizer_MoreStructure_20180417_095031_9990.p', 'DigitRecognizer_MoreStructure_20180417_103009_10000.p', 'DigitRecognizer_MoreStructure_20180417_122854_9990.p', 'DigitRecognizer_MoreStructure_20180417_130832_9990.p', 'DigitRecognizer_MoreStructure_20180417_150634_10000.p', 'DigitRecognizer_MoreStructure_20180417_154615_9990.p', 'DigitRecognizer_MoreStructure_20180417_162556_9990.p']\n"
     ]
    }
   ],
   "source": [
    "def is_npy(s):\n",
    "    return s.startswith('DigitRecognizer_MoreStructure_20180417') and s.endswith('.p')\n",
    "\n",
    "def is_larger_than(x):\n",
    "    splits = x[:-2].split('_')\n",
    "    acc = int(splits[-1])\n",
    "#     print(acc)\n",
    "    if acc >= 9990:\n",
    "        return True\n",
    "    return False\n",
    "\n",
    "print(is_larger_than('DigitRecognizer_MoreStructure_20180417_162556_9990.p'))\n",
    "\n",
    "file_names = os.listdir(model_folder)\n",
    "file_names = list(filter(is_npy, file_names))\n",
    "print(len(file_names))\n",
    "\n",
    "file_names = list(filter(is_larger_than, file_names))\n",
    "print(len(file_names))\n",
    "\n",
    "print(file_names)"
   ]
  },
  {
   "cell_type": "code",
   "execution_count": 7,
   "metadata": {},
   "outputs": [
    {
     "name": "stdout",
     "output_type": "stream",
     "text": [
      "File loaded: \tD:\\Kaggle\\digit-recognizer\\model\\DigitRecognizer_MoreStructure_20180417_003649_9990.p\n",
      "(42000, 10)\n",
      "(42000, 10)\n",
      "(28000, 10)\n"
     ]
    }
   ],
   "source": [
    "def load_proba(file_name):\n",
    "    with h5py.File(file_name, 'r') as h:\n",
    "        y_data_proba = np.array(h['y_data_proba'])\n",
    "        y_data = np.array(h['y_data'])\n",
    "        y_test_proba = np.array(h['y_test_proba'])\n",
    "    print('File loaded: \\t%s' % file_name)\n",
    "    \n",
    "    return y_data_proba, y_data, y_test_proba\n",
    "\n",
    "\n",
    "y_proba_file = os.path.join(model_folder, file_names[0])\n",
    "y_data_proba, y_data, y_test_proba = load_proba(y_proba_file)\n",
    "\n",
    "print(y_data_proba.shape)\n",
    "print(y_data.shape)\n",
    "print(y_test_proba.shape)"
   ]
  },
  {
   "cell_type": "markdown",
   "metadata": {},
   "source": [
    "## Mean"
   ]
  },
  {
   "cell_type": "code",
   "execution_count": 8,
   "metadata": {},
   "outputs": [
    {
     "name": "stdout",
     "output_type": "stream",
     "text": [
      "File loaded: \tD:\\Kaggle\\digit-recognizer\\model\\DigitRecognizer_MoreStructure_20180417_003649_9990.p\n",
      "(42000, 10)\n",
      "(42000, 10)\n",
      "(28000, 10)\n",
      "File loaded: \tD:\\Kaggle\\digit-recognizer\\model\\DigitRecognizer_MoreStructure_20180417_011627_9990.p\n",
      "File loaded: \tD:\\Kaggle\\digit-recognizer\\model\\DigitRecognizer_MoreStructure_20180417_043418_9990.p\n",
      "File loaded: \tD:\\Kaggle\\digit-recognizer\\model\\DigitRecognizer_MoreStructure_20180417_063232_9990.p\n",
      "File loaded: \tD:\\Kaggle\\digit-recognizer\\model\\DigitRecognizer_MoreStructure_20180417_071204_9990.p\n",
      "File loaded: \tD:\\Kaggle\\digit-recognizer\\model\\DigitRecognizer_MoreStructure_20180417_095031_9990.p\n",
      "File loaded: \tD:\\Kaggle\\digit-recognizer\\model\\DigitRecognizer_MoreStructure_20180417_103009_10000.p\n",
      "File loaded: \tD:\\Kaggle\\digit-recognizer\\model\\DigitRecognizer_MoreStructure_20180417_122854_9990.p\n",
      "File loaded: \tD:\\Kaggle\\digit-recognizer\\model\\DigitRecognizer_MoreStructure_20180417_130832_9990.p\n",
      "File loaded: \tD:\\Kaggle\\digit-recognizer\\model\\DigitRecognizer_MoreStructure_20180417_150634_10000.p\n",
      "File loaded: \tD:\\Kaggle\\digit-recognizer\\model\\DigitRecognizer_MoreStructure_20180417_154615_9990.p\n",
      "File loaded: \tD:\\Kaggle\\digit-recognizer\\model\\DigitRecognizer_MoreStructure_20180417_162556_9990.p\n",
      "42000\n",
      "[[  6.91969260e-11   1.00000000e+00   4.67002381e-10   3.56958353e-14\n",
      "    1.82925786e-10   1.70780699e-11   2.49440624e-09   1.44437629e-09\n",
      "    2.42873794e-11   2.96930254e-12]\n",
      " [  1.00000000e+00   9.69810256e-12   2.02435091e-09   4.98881735e-11\n",
      "    2.51489429e-09   1.15721134e-10   2.00839168e-08   1.08804177e-09\n",
      "    6.90363877e-11   1.31193731e-08]]\n"
     ]
    }
   ],
   "source": [
    "from sklearn.metrics import accuracy_score\n",
    "\n",
    "y_proba_file = os.path.join(model_folder, file_names[0])\n",
    "y_data_probas, y_datas, y_test_probas = load_proba(y_proba_file)\n",
    "\n",
    "print(y_data_probas.shape)\n",
    "print(y_datas.shape)\n",
    "print(y_test_probas.shape)\n",
    "\n",
    "for file_name in file_names[1:]:\n",
    "    file_path = os.path.join(model_folder, file_name)\n",
    "    y_data_proba, y_data, y_test_proba = load_proba(file_path)\n",
    "    y_data_probas = y_data_probas + y_data_proba\n",
    "    y_test_probas = y_test_probas + y_test_proba\n",
    "    \n",
    "y_data_probas = y_data_probas / len(file_names)\n",
    "y_test_probas = y_test_probas / len(file_names)\n",
    "\n",
    "print(len(y_data_probas))\n",
    "print(y_data_probas[:2])"
   ]
  },
  {
   "cell_type": "markdown",
   "metadata": {},
   "source": [
    "## Predict"
   ]
  },
  {
   "cell_type": "code",
   "execution_count": 9,
   "metadata": {},
   "outputs": [
    {
     "name": "stdout",
     "output_type": "stream",
     "text": [
      "y_test_pred.shape:  (42000,)\n"
     ]
    }
   ],
   "source": [
    "y_data_pred = np.argmax(y_data_probas, axis=1)\n",
    "print('y_test_pred.shape: ', y_data_pred.shape)\n",
    "y_data = np.argmax(y_data, axis=1)\n",
    "\n",
    "data_acc = accuracy_score(y_data, y_data_pred)"
   ]
  },
  {
   "cell_type": "code",
   "execution_count": 10,
   "metadata": {},
   "outputs": [
    {
     "name": "stdout",
     "output_type": "stream",
     "text": [
      "DigitRecognizer_EmsembleMean_20180417_211659_9993\n",
      "D:\\Kaggle\\digit-recognizer\\output\\DigitRecognizer_EmsembleMean_20180417_211659_9993.csv\n"
     ]
    }
   ],
   "source": [
    "run_name_acc = run_name + '_' + str(int(data_acc*10000)).zfill(4)\n",
    "print(run_name_acc)\n",
    "\n",
    "if not os.path.exists(output_folder):\n",
    "    os.mkdir(output_folder)\n",
    "pred_file = os.path.join(output_folder, run_name_acc + '.csv')\n",
    "print(pred_file)"
   ]
  },
  {
   "cell_type": "code",
   "execution_count": 11,
   "metadata": {},
   "outputs": [
    {
     "name": "stdout",
     "output_type": "stream",
     "text": [
      "y_test_pred.shape:  (28000,)\n"
     ]
    }
   ],
   "source": [
    "y_test_pred = np.argmax(y_test_proba, axis=1)\n",
    "print('y_test_pred.shape: ', y_test_pred.shape)\n",
    "\n",
    "with open(pred_file, 'w') as f:\n",
    "    f.write('ImageId,Label\\n')\n",
    "    for i in range(len(y_test_pred)) :\n",
    "        f.write(\"\".join([str(i+1),',',str(y_test_pred[i]),'\\n']))"
   ]
  },
  {
   "cell_type": "code",
   "execution_count": 12,
   "metadata": {},
   "outputs": [
    {
     "name": "stdout",
     "output_type": "stream",
     "text": [
      "DigitRecognizer_EmsembleMean_20180417_211659_9993\n",
      "time cost: 2.67 s\n",
      "Done!\n"
     ]
    }
   ],
   "source": [
    "print(run_name_acc)\n",
    "\n",
    "t1 = time.time()\n",
    "print('time cost: %.2f s' % (t1-t0))\n",
    "print('Done!')"
   ]
  },
  {
   "cell_type": "code",
   "execution_count": null,
   "metadata": {},
   "outputs": [],
   "source": []
  }
 ],
 "metadata": {
  "kernelspec": {
   "display_name": "Python 3",
   "language": "python",
   "name": "python3"
  },
  "language_info": {
   "codemirror_mode": {
    "name": "ipython",
    "version": 3
   },
   "file_extension": ".py",
   "mimetype": "text/x-python",
   "name": "python",
   "nbconvert_exporter": "python",
   "pygments_lexer": "ipython3",
   "version": "3.6.4"
  }
 },
 "nbformat": 4,
 "nbformat_minor": 2
}
