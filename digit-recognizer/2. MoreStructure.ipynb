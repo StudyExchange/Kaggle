{
 "cells": [
  {
   "cell_type": "markdown",
   "metadata": {},
   "source": [
    "# MoreStructure\n",
    "Kaggle score: \n",
    "\n",
    "References:\n",
    "1. https://www.kaggle.com/toregil/welcome-to-deep-learning-cnn-99"
   ]
  },
  {
   "cell_type": "markdown",
   "metadata": {},
   "source": [
    "## Run name"
   ]
  },
  {
   "cell_type": "code",
   "execution_count": 1,
   "metadata": {},
   "outputs": [
    {
     "name": "stdout",
     "output_type": "stream",
     "text": [
      "run_name: DigitRecognizer_MoreStructure_20180417_212636\n"
     ]
    }
   ],
   "source": [
    "import time\n",
    "\n",
    "project_name = 'DigitRecognizer'\n",
    "step_name = 'MoreStructure'\n",
    "date_str = time.strftime(\"%Y%m%d\", time.localtime())\n",
    "time_str = time.strftime(\"%Y%m%d_%H%M%S\", time.localtime())\n",
    "run_name = '%s_%s_%s' % (project_name, step_name, time_str)\n",
    "print('run_name: %s' % run_name)\n",
    "t0 = time.time()"
   ]
  },
  {
   "cell_type": "markdown",
   "metadata": {},
   "source": [
    "## Important Params"
   ]
  },
  {
   "cell_type": "code",
   "execution_count": 2,
   "metadata": {},
   "outputs": [],
   "source": [
    "batch_size = 128\n",
    "input_size = None\n",
    "test_size = 0.05\n",
    "random_state = None"
   ]
  },
  {
   "cell_type": "markdown",
   "metadata": {},
   "source": [
    "## Import PKGs"
   ]
  },
  {
   "cell_type": "code",
   "execution_count": 3,
   "metadata": {},
   "outputs": [],
   "source": [
    "import numpy as np\n",
    "import pandas as pd\n",
    "import matplotlib.pyplot as plt\n",
    "import matplotlib.image as mpimg\n",
    "%matplotlib inline\n",
    "from IPython.display import display\n",
    "\n",
    "import os\n",
    "import gc\n",
    "import math\n",
    "import shutil\n",
    "import zipfile\n",
    "import pickle\n",
    "import h5py\n",
    "from PIL import Image\n",
    "\n",
    "from tqdm import tqdm\n",
    "from multiprocessing import cpu_count\n",
    "\n",
    "from sklearn.model_selection import train_test_split\n",
    "from sklearn.metrics import confusion_matrix, accuracy_score"
   ]
  },
  {
   "cell_type": "markdown",
   "metadata": {},
   "source": [
    "### Basic folders"
   ]
  },
  {
   "cell_type": "code",
   "execution_count": 4,
   "metadata": {},
   "outputs": [
    {
     "name": "stdout",
     "output_type": "stream",
     "text": [
      "input_folder: \t\tD:\\Kaggle\\digit-recognizer\\input\n",
      "log_folder: \t\tD:\\Kaggle\\digit-recognizer\\log\n",
      "model_folder: \t\tD:\\Kaggle\\digit-recognizer\\model\n",
      "output_folder: \t\tD:\\Kaggle\\digit-recognizer\\output\n",
      "\n",
      "train_csv_file: \tD:\\Kaggle\\digit-recognizer\\input\\train.csv\n",
      "test_csv_file: \t\tD:\\Kaggle\\digit-recognizer\\input\\test.csv\n",
      "processed_data_file: \tD:\\Kaggle\\digit-recognizer\\input\\DigitRecognizer_Preprocess.p\n"
     ]
    }
   ],
   "source": [
    "cwd = os.getcwd()\n",
    "input_folder = os.path.join(cwd, 'input')\n",
    "log_folder = os.path.join(cwd, 'log')\n",
    "model_folder = os.path.join(cwd, 'model')\n",
    "output_folder = os.path.join(cwd, 'output')\n",
    "print('input_folder: \\t\\t%s' % input_folder)\n",
    "print('log_folder: \\t\\t%s' % log_folder)\n",
    "print('model_folder: \\t\\t%s' % model_folder)\n",
    "print('output_folder: \\t\\t%s'% output_folder)\n",
    "\n",
    "train_csv_file = os.path.join(input_folder, 'train.csv')\n",
    "test_csv_file = os.path.join(input_folder, 'test.csv')\n",
    "print('\\ntrain_csv_file: \\t%s' % train_csv_file)\n",
    "print('test_csv_file: \\t\\t%s' % test_csv_file)\n",
    "\n",
    "processed_data_file = os.path.join(input_folder, 'DigitRecognizer_Preprocess.p')\n",
    "print('processed_data_file: \\t%s' % processed_data_file)"
   ]
  },
  {
   "cell_type": "markdown",
   "metadata": {},
   "source": [
    "### Basic functions"
   ]
  },
  {
   "cell_type": "code",
   "execution_count": 5,
   "metadata": {},
   "outputs": [],
   "source": [
    "import sys\n",
    "def describe(arr):\n",
    "    print(arr.shape, arr.min(), arr.max(), sys.getsizeof(arr))"
   ]
  },
  {
   "cell_type": "code",
   "execution_count": 6,
   "metadata": {},
   "outputs": [],
   "source": [
    "def show_data_images(rows, fig_column, y_data, *args):\n",
    "    columns = len(args)\n",
    "    figs, axes = plt.subplots(rows, columns, figsize=(rows, fig_column*columns))\n",
    "    print(axes.shape)  \n",
    "    for i, ax in enumerate(axes):\n",
    "        y_data_str = ''\n",
    "        if type(y_data) != type(None):\n",
    "            y_data_str =  '_' + str(y_data[i])\n",
    "        ax[0].set_title('28x28' + y_data_str)\n",
    "        for j, arg in enumerate(args):\n",
    "            ax[j].imshow(arg[i])"
   ]
  },
  {
   "cell_type": "markdown",
   "metadata": {},
   "source": [
    "### Load data"
   ]
  },
  {
   "cell_type": "code",
   "execution_count": 7,
   "metadata": {},
   "outputs": [],
   "source": [
    "def save_data(x_data, y_data, x_test, file_name):\n",
    "    if os.path.exists(file_name):\n",
    "        os.remove(file_name)\n",
    "        print('File removed: \\t%s' % file_name)\n",
    "    with h5py.File(file_name) as h:\n",
    "        h.create_dataset('x_data', data=x_data)\n",
    "        h.create_dataset('y_data', data=y_data)\n",
    "        h.create_dataset('x_test', data=x_test)\n",
    "    print('File saved: \\t%s' % file_name)\n",
    "\n",
    "def load_data(file_name):\n",
    "    with h5py.File(file_name, 'r') as h:\n",
    "        x_data = np.array(h['x_data'])\n",
    "        y_data = np.array(h['y_data'])\n",
    "        x_test = np.array(h['x_test'])\n",
    "    print('File loaded: \\t%s' % file_name)\n",
    "    return x_data, y_data, x_test"
   ]
  },
  {
   "cell_type": "code",
   "execution_count": 8,
   "metadata": {},
   "outputs": [
    {
     "name": "stdout",
     "output_type": "stream",
     "text": [
      "File loaded: \tD:\\Kaggle\\digit-recognizer\\input\\DigitRecognizer_Preprocess.p\n",
      "(42000, 28, 28)\n",
      "(42000,)\n",
      "(28000, 28, 28)\n"
     ]
    }
   ],
   "source": [
    "x_data, y_data, x_test = load_data(processed_data_file)\n",
    "\n",
    "print(x_data.shape)\n",
    "print(y_data.shape)\n",
    "print(x_test.shape)"
   ]
  },
  {
   "cell_type": "code",
   "execution_count": 9,
   "metadata": {},
   "outputs": [],
   "source": [
    "# Preview data\n",
    "# index = 0\n",
    "# fig, ax = plt.subplots(2, 2, figsize=(12,6))\n",
    "# ax[0, 0].plot(x_data[index].reshape(784,))\n",
    "# ax[0, 0].set_title('784x1 data')\n",
    "# ax[0, 1].imshow(x_data[index].reshape(28,28), cmap='gray')\n",
    "# ax[0, 1].set_title('28x28 data => ' + str(y_data[index]))\n",
    "\n",
    "# ax[1, 0].plot(x_test[index].reshape(784,))\n",
    "# ax[1, 0].set_title('784x1 data')\n",
    "# ax[1, 1].imshow(x_test[index].reshape(28,28), cmap='gray')\n",
    "# ax[1, 1].set_title('28x28 data')\n",
    "\n",
    "# plt.show()"
   ]
  },
  {
   "cell_type": "code",
   "execution_count": 10,
   "metadata": {},
   "outputs": [],
   "source": [
    "x_data = x_data[:, :, :, np.newaxis]\n",
    "x_test = x_test[:, :, :, np.newaxis]"
   ]
  },
  {
   "cell_type": "markdown",
   "metadata": {},
   "source": [
    "## Resize images"
   ]
  },
  {
   "cell_type": "code",
   "execution_count": 11,
   "metadata": {},
   "outputs": [
    {
     "name": "stdout",
     "output_type": "stream",
     "text": [
      "input_shape:  (28, 28, 1)\n"
     ]
    }
   ],
   "source": [
    "if input_size == None:\n",
    "    input_size = x_data.shape[1]\n",
    "\n",
    "input_shape = (input_size, input_size, 1)\n",
    "print('input_shape: ', input_shape)"
   ]
  },
  {
   "cell_type": "code",
   "execution_count": 12,
   "metadata": {},
   "outputs": [],
   "source": [
    "# x_train, x_val, y_train, y_val = train_test_split(x_data, y_data, test_size=test_size, random_state=random_state)\n",
    "# describe(x_train)\n",
    "# describe(x_val)\n",
    "# describe(y_train)\n",
    "# describe(y_val)"
   ]
  },
  {
   "cell_type": "code",
   "execution_count": 13,
   "metadata": {},
   "outputs": [
    {
     "name": "stderr",
     "output_type": "stream",
     "text": [
      "Using TensorFlow backend.\n"
     ]
    },
    {
     "name": "stdout",
     "output_type": "stream",
     "text": [
      "1\n",
      "1\n"
     ]
    }
   ],
   "source": [
    "from keras.utils.np_utils import to_categorical\n",
    "print(y_data[0])\n",
    "y_data_cat = to_categorical(y_data)\n",
    "print(y_data[0])"
   ]
  },
  {
   "cell_type": "markdown",
   "metadata": {},
   "source": [
    "### Build model"
   ]
  },
  {
   "cell_type": "code",
   "execution_count": 14,
   "metadata": {},
   "outputs": [],
   "source": [
    "from keras.models import Sequential, Model\n",
    "from keras.layers import Dense, Dropout, Input, Flatten, Conv2D, MaxPooling2D, BatchNormalization, GlobalAveragePooling2D, GlobalMaxPooling2D, AveragePooling2D\n",
    "from keras.layers.merge import Concatenate\n",
    "from keras.optimizers import Adam\n",
    "from keras.preprocessing.image import ImageDataGenerator\n",
    "from keras.callbacks import LearningRateScheduler, TensorBoard"
   ]
  },
  {
   "cell_type": "code",
   "execution_count": 15,
   "metadata": {},
   "outputs": [],
   "source": [
    "def build_model(input_shape):\n",
    "    model = Sequential()\n",
    "    # Block 1\n",
    "    model.add(Conv2D(filters = 32, kernel_size = (3, 3), activation='relu', padding = 'Same', input_shape = input_shape))\n",
    "    model.add(BatchNormalization())\n",
    "    model.add(Conv2D(filters = 32, kernel_size = (3, 3), activation='relu', padding = 'Same'))\n",
    "    model.add(BatchNormalization())\n",
    "    model.add(MaxPooling2D(strides=(2,2)))\n",
    "    model.add(Dropout(0.25))\n",
    "    # Block 2\n",
    "    model.add(Conv2D(filters = 64, kernel_size = (3, 3), activation='relu', padding = 'Same'))\n",
    "    model.add(BatchNormalization())\n",
    "    model.add(Conv2D(filters = 64, kernel_size = (3, 3), activation='relu', padding = 'Same'))\n",
    "    model.add(BatchNormalization())\n",
    "    model.add(MaxPooling2D(strides=(2,2)))\n",
    "    model.add(Dropout(0.25))\n",
    "    # Block 3\n",
    "    model.add(Conv2D(filters = 64, kernel_size = (3, 3), activation='relu', padding = 'Same'))\n",
    "    model.add(BatchNormalization())\n",
    "    model.add(Conv2D(filters = 64, kernel_size = (3, 3), activation='relu', padding = 'Same'))\n",
    "    model.add(BatchNormalization())\n",
    "    model.add(MaxPooling2D(strides=(2,2)))\n",
    "    model.add(Dropout(0.25))\n",
    "\n",
    "    # Output\n",
    "    model.add(Flatten())\n",
    "    model.add(Dense(1024, activation='relu'))\n",
    "    model.add(Dropout(0.25))\n",
    "    model.add(Dense(1024, activation='relu'))\n",
    "    model.add(Dropout(0.25))\n",
    "    model.add(Dense(10, activation='softmax'))\n",
    "    \n",
    "    model.compile(\n",
    "        optimizer=Adam(lr=1e-4),\n",
    "        loss='categorical_crossentropy',\n",
    "        metrics=['accuracy']\n",
    "    )\n",
    "    return model"
   ]
  },
  {
   "cell_type": "code",
   "execution_count": 16,
   "metadata": {},
   "outputs": [
    {
     "name": "stdout",
     "output_type": "stream",
     "text": [
      "_________________________________________________________________\n",
      "Layer (type)                 Output Shape              Param #   \n",
      "=================================================================\n",
      "conv2d_1 (Conv2D)            (None, 28, 28, 32)        320       \n",
      "_________________________________________________________________\n",
      "batch_normalization_1 (Batch (None, 28, 28, 32)        128       \n",
      "_________________________________________________________________\n",
      "conv2d_2 (Conv2D)            (None, 28, 28, 32)        9248      \n",
      "_________________________________________________________________\n",
      "batch_normalization_2 (Batch (None, 28, 28, 32)        128       \n",
      "_________________________________________________________________\n",
      "max_pooling2d_1 (MaxPooling2 (None, 14, 14, 32)        0         \n",
      "_________________________________________________________________\n",
      "dropout_1 (Dropout)          (None, 14, 14, 32)        0         \n",
      "_________________________________________________________________\n",
      "conv2d_3 (Conv2D)            (None, 14, 14, 64)        18496     \n",
      "_________________________________________________________________\n",
      "batch_normalization_3 (Batch (None, 14, 14, 64)        256       \n",
      "_________________________________________________________________\n",
      "conv2d_4 (Conv2D)            (None, 14, 14, 64)        36928     \n",
      "_________________________________________________________________\n",
      "batch_normalization_4 (Batch (None, 14, 14, 64)        256       \n",
      "_________________________________________________________________\n",
      "max_pooling2d_2 (MaxPooling2 (None, 7, 7, 64)          0         \n",
      "_________________________________________________________________\n",
      "dropout_2 (Dropout)          (None, 7, 7, 64)          0         \n",
      "_________________________________________________________________\n",
      "conv2d_5 (Conv2D)            (None, 7, 7, 64)          36928     \n",
      "_________________________________________________________________\n",
      "batch_normalization_5 (Batch (None, 7, 7, 64)          256       \n",
      "_________________________________________________________________\n",
      "conv2d_6 (Conv2D)            (None, 7, 7, 64)          36928     \n",
      "_________________________________________________________________\n",
      "batch_normalization_6 (Batch (None, 7, 7, 64)          256       \n",
      "_________________________________________________________________\n",
      "max_pooling2d_3 (MaxPooling2 (None, 3, 3, 64)          0         \n",
      "_________________________________________________________________\n",
      "dropout_3 (Dropout)          (None, 3, 3, 64)          0         \n",
      "_________________________________________________________________\n",
      "flatten_1 (Flatten)          (None, 576)               0         \n",
      "_________________________________________________________________\n",
      "dense_1 (Dense)              (None, 1024)              590848    \n",
      "_________________________________________________________________\n",
      "dropout_4 (Dropout)          (None, 1024)              0         \n",
      "_________________________________________________________________\n",
      "dense_2 (Dense)              (None, 1024)              1049600   \n",
      "_________________________________________________________________\n",
      "dropout_5 (Dropout)          (None, 1024)              0         \n",
      "_________________________________________________________________\n",
      "dense_3 (Dense)              (None, 10)                10250     \n",
      "=================================================================\n",
      "Total params: 1,790,826\n",
      "Trainable params: 1,790,186\n",
      "Non-trainable params: 640\n",
      "_________________________________________________________________\n"
     ]
    }
   ],
   "source": [
    "model = build_model(input_shape)\n",
    "model.summary()"
   ]
  },
  {
   "cell_type": "code",
   "execution_count": 17,
   "metadata": {},
   "outputs": [],
   "source": [
    "def saveModel(model, run_name):\n",
    "    cwd = os.getcwd()\n",
    "    modelPath = os.path.join(cwd, 'model')\n",
    "    if not os.path.isdir(modelPath):\n",
    "        os.mkdir(modelPath)\n",
    "    weigthsFile = os.path.join(modelPath, run_name + '.h5')\n",
    "    model.save(weigthsFile)\n",
    "# saveModel(model, 'saveModel_test')"
   ]
  },
  {
   "cell_type": "code",
   "execution_count": 18,
   "metadata": {},
   "outputs": [],
   "source": [
    "# annealer = LearningRateScheduler(lambda x: 1e-3 * 0.995 ** x)\n",
    "\n",
    "def get_lr(x):\n",
    "    lr = round(3e-4 * 0.9 ** x, 12)\n",
    "    if lr < 1e-12:\n",
    "        lr = 1e-12\n",
    "    print('%.12f' % lr, end=' ')\n",
    "    return lr\n",
    "annealer = LearningRateScheduler(get_lr)\n",
    "\n",
    "# log_dir = os.path.join(log_path, run_name)\n",
    "# print('log_dir:' + log_dir)\n",
    "# tensorBoard = TensorBoard(log_dir=log_dir)\n",
    "\n",
    "callbacks = []\n",
    "# callbacks = [annealer]"
   ]
  },
  {
   "cell_type": "code",
   "execution_count": 19,
   "metadata": {},
   "outputs": [],
   "source": [
    "train_datagen = ImageDataGenerator(\n",
    "    rotation_range=20,\n",
    "    height_shift_range=0.2,\n",
    "    width_shift_range=0.2,\n",
    "    shear_range=0.1,\n",
    "    zoom_range=0.2,\n",
    "    channel_shift_range=20,\n",
    "#     horizontal_flip=True,\n",
    "#     vertical_flip=True,\n",
    "    fill_mode='wrap'\n",
    ")\n",
    "\n",
    "val_datagen = ImageDataGenerator()"
   ]
  },
  {
   "cell_type": "code",
   "execution_count": 20,
   "metadata": {},
   "outputs": [
    {
     "name": "stdout",
     "output_type": "stream",
     "text": [
      "4\n"
     ]
    }
   ],
   "source": [
    "cpu_amount = cpu_count()\n",
    "print(cpu_amount)"
   ]
  },
  {
   "cell_type": "code",
   "execution_count": 21,
   "metadata": {},
   "outputs": [
    {
     "name": "stdout",
     "output_type": "stream",
     "text": [
      "Train on 39900 samples, validate on 2100 samples\n",
      "Epoch 1/2\n",
      " - 82s - loss: 0.8353 - acc: 0.7217 - val_loss: 0.1398 - val_acc: 0.9538\n",
      "Epoch 2/2\n",
      " - 77s - loss: 0.1934 - acc: 0.9383 - val_loss: 0.0900 - val_acc: 0.9690\n"
     ]
    }
   ],
   "source": [
    "hist = model.fit(\n",
    "    x_data, \n",
    "    y_data_cat, \n",
    "    batch_size=batch_size, \n",
    "    epochs=2, \n",
    "    verbose=2, \n",
    "    callbacks=callbacks, \n",
    "    validation_split=test_size, \n",
    "    validation_data=None, \n",
    "    shuffle=True, \n",
    "    class_weight=None, \n",
    "    sample_weight=None, \n",
    "    initial_epoch=0, \n",
    "    steps_per_epoch=None, \n",
    "    validation_steps=None\n",
    ")"
   ]
  },
  {
   "cell_type": "code",
   "execution_count": 22,
   "metadata": {},
   "outputs": [],
   "source": [
    "# %%time\n",
    "# batch_size = 128\n",
    "# # steps_per_epoch = x_train.shape[0] / batch_size\n",
    "\n",
    "# hist = model.fit_generator(\n",
    "#     train_datagen.flow(x_train, y_train, batch_size=batch_size, seed=random_state),\n",
    "# #     steps_per_epoch=steps_per_epoch,\n",
    "#     epochs=20, #Increase this when not on Kaggle kernel\n",
    "#     verbose=1,  #1 for ETA, 0 for silentrandom_state\n",
    "#     callbacks=callbacks,\n",
    "#     max_queue_size=batch_size,\n",
    "#     workers=cpu_amount,\n",
    "#     validation_steps=1000,\n",
    "#     validation_data=val_datagen.flow(x_val, y_val, batch_size=32, seed=random_state)\n",
    "# )"
   ]
  },
  {
   "cell_type": "code",
   "execution_count": 23,
   "metadata": {},
   "outputs": [
    {
     "name": "stdout",
     "output_type": "stream",
     "text": [
      "Final loss: 0.0790, final accuracy: 0.9735\n"
     ]
    }
   ],
   "source": [
    "final_loss, final_acc = model.evaluate(x_data, y_data_cat, verbose=0)\n",
    "print(\"Final loss: {0:.4f}, final accuracy: {1:.4f}\".format(final_loss, final_acc))"
   ]
  },
  {
   "cell_type": "code",
   "execution_count": 24,
   "metadata": {},
   "outputs": [
    {
     "name": "stdout",
     "output_type": "stream",
     "text": [
      "DigitRecognizer_MoreStructure_20180417_212636_9734\n"
     ]
    }
   ],
   "source": [
    "final_acc_str = '{0:0>4}'.format(int(final_acc*10000))\n",
    "run_name_acc = project_name + '_' + step_name + '_' + time_str + '_' + final_acc_str\n",
    "print(run_name_acc)"
   ]
  },
  {
   "cell_type": "code",
   "execution_count": 25,
   "metadata": {},
   "outputs": [
    {
     "name": "stdout",
     "output_type": "stream",
     "text": [
      "Index(['acc', 'loss', 'val_acc', 'val_loss', 'epoch'], dtype='object')\n"
     ]
    }
   ],
   "source": [
    "histories = pd.DataFrame(hist.history)\n",
    "histories['epoch'] = hist.epoch\n",
    "print(histories.columns)\n",
    "histories_file = os.path.join(model_folder, run_name_acc + '.csv')\n",
    "histories.to_csv(histories_file, index=False)"
   ]
  },
  {
   "cell_type": "code",
   "execution_count": 26,
   "metadata": {},
   "outputs": [
    {
     "data": {
      "image/png": "[encoded data removed]",
      "text/plain": [
       "<Figure size 432x288 with 1 Axes>"
      ]
     },
     "metadata": {},
     "output_type": "display_data"
    },
    {
     "data": {
      "image/png": "[encoded data removed]",
      "text/plain": [
       "<Figure size 432x288 with 1 Axes>"
      ]
     },
     "metadata": {},
     "output_type": "display_data"
    }
   ],
   "source": [
    "plt.plot(hist.history['loss'], color='b')\n",
    "plt.plot(hist.history['val_loss'], color='r')\n",
    "plt.show()\n",
    "plt.plot(hist.history['acc'], color='b')\n",
    "plt.plot(hist.history['val_acc'], color='r')\n",
    "plt.show()"
   ]
  },
  {
   "cell_type": "code",
   "execution_count": 27,
   "metadata": {},
   "outputs": [],
   "source": [
    "saveModel(model, run_name_acc)"
   ]
  },
  {
   "cell_type": "code",
   "execution_count": 28,
   "metadata": {},
   "outputs": [],
   "source": [
    "# y_hat = model.predict(x_val)\n",
    "# y_pred = np.argmax(y_hat, axis=1)\n",
    "# y_true = np.argmax(y_val, axis=1)\n",
    "# cm = confusion_matrix(y_true, y_pred)\n",
    "# print(cm)"
   ]
  },
  {
   "cell_type": "code",
   "execution_count": 29,
   "metadata": {},
   "outputs": [
    {
     "name": "stdout",
     "output_type": "stream",
     "text": [
      "accuracy_score: 0.973476190476\n",
      "[[4099    3    2    0    0    1   18    0    3    6]\n",
      " [   1 4637   17   15    1    0    2    4    2    5]\n",
      " [  10   21 4010   60    7    0    3   45   18    3]\n",
      " [   5    5   12 4268    0   15    0   17    9   20]\n",
      " [   3   12    3    0 3876    0   22    3    1  152]\n",
      " [   4    2    1   30    0 3727   15    2    3   11]\n",
      " [  14    4    1    1    3    9 4099    0    6    0]\n",
      " [   3   11   18   11    9    0    0 4248    2   99]\n",
      " [  11   22    9   41   11   21   18    6 3849   75]\n",
      " [  19    8    1   27    4   15    1   35    5 4073]]\n",
      "count: 1114\n"
     ]
    }
   ],
   "source": [
    "from sklearn.metrics import confusion_matrix, accuracy_score\n",
    "def show_diffs(model, x_data, y_data, labels):\n",
    "    y_hat = model.predict(x_data)\n",
    "    y_pred = np.argmax(y_hat, axis=1)\n",
    "    y_true = np.argmax(y_data, axis=1)\n",
    "    print('accuracy_score: %s' % accuracy_score(y_true, y_pred))\n",
    "    cm = confusion_matrix(y_true, y_pred, labels)\n",
    "    print(cm)\n",
    "    indexes = []\n",
    "    diffs = []\n",
    "    for i, p in enumerate(zip(y_true, y_pred)):\n",
    "        if p[0] != p[1]:\n",
    "            indexes.append(i)\n",
    "            diffs.append(p)\n",
    "    count = len(indexes)\n",
    "    print('count: %s' % count)\n",
    "#     figs, axes = plt.subplots(count, 1, figsize=(count,50))\n",
    "#     print(axes.shape)\n",
    "#     for i, p in enumerate(diffs):\n",
    "#         axes[i].imshow(x_val[indexes[i]].reshape(28, 28), cmap='gray')\n",
    "#         axes[i].set_title('%s -> %s' % (p[0], p[1]))\n",
    "        \n",
    "show_diffs(model, x_data, y_data_cat, labels=list(range(0, 10)))"
   ]
  },
  {
   "cell_type": "markdown",
   "metadata": {},
   "source": [
    "## Predict"
   ]
  },
  {
   "cell_type": "code",
   "execution_count": 30,
   "metadata": {},
   "outputs": [
    {
     "name": "stdout",
     "output_type": "stream",
     "text": [
      "D:\\Kaggle\\digit-recognizer\\output\\DigitRecognizer_MoreStructure_20180417_212636_9734.csv\n"
     ]
    }
   ],
   "source": [
    "if not os.path.exists(output_folder):\n",
    "    os.mkdir(output_folder)\n",
    "pred_file = os.path.join(output_folder, run_name_acc + '.csv')\n",
    "print(pred_file)"
   ]
  },
  {
   "cell_type": "code",
   "execution_count": 31,
   "metadata": {},
   "outputs": [
    {
     "name": "stdout",
     "output_type": "stream",
     "text": [
      "y_data_proba.shape:  (42000, 10)\n"
     ]
    }
   ],
   "source": [
    "y_data_proba = model.predict(x_data, batch_size=batch_size)\n",
    "print('y_data_proba.shape: ', y_data_proba.shape)"
   ]
  },
  {
   "cell_type": "code",
   "execution_count": 32,
   "metadata": {},
   "outputs": [
    {
     "name": "stdout",
     "output_type": "stream",
     "text": [
      "y_test_proba.shape:  (28000, 10)\n"
     ]
    }
   ],
   "source": [
    "y_test_proba = model.predict(x_test, batch_size=batch_size)\n",
    "print('y_test_proba.shape: ', y_test_proba.shape)"
   ]
  },
  {
   "cell_type": "code",
   "execution_count": 33,
   "metadata": {},
   "outputs": [
    {
     "name": "stdout",
     "output_type": "stream",
     "text": [
      "File saved: \tD:\\Kaggle\\digit-recognizer\\model\\DigitRecognizer_MoreStructure_20180417_212636_9734.p\n",
      "File loaded: \tD:\\Kaggle\\digit-recognizer\\model\\DigitRecognizer_MoreStructure_20180417_212636_9734.p\n",
      "(42000, 10)\n",
      "(42000,)\n",
      "(28000, 10)\n"
     ]
    }
   ],
   "source": [
    "def save_proba(y_data_proba, y_data, y_test_proba, file_name):\n",
    "    if os.path.exists(file_name):\n",
    "        os.remove(file_name)\n",
    "        print('File removed: \\t%s' % file_name)\n",
    "    with h5py.File(file_name) as h:\n",
    "        h.create_dataset('y_data_proba', data=y_data_proba)\n",
    "        h.create_dataset('y_data', data=y_data)\n",
    "        h.create_dataset('y_test_proba', data=y_test_proba)\n",
    "    print('File saved: \\t%s' % file_name)\n",
    "\n",
    "def load_proba(file_name):\n",
    "    with h5py.File(file_name, 'r') as h:\n",
    "        y_data_proba = np.array(h['y_data_proba'])\n",
    "        y_data = np.array(h['y_data'])\n",
    "        y_test_proba = np.array(h['y_test_proba'])\n",
    "    print('File loaded: \\t%s' % file_name)\n",
    "    \n",
    "    return y_data_proba, y_data, y_test_proba\n",
    "\n",
    "\n",
    "y_proba_file = os.path.join(model_folder, '%s.p' % run_name_acc)\n",
    "save_proba(y_data_proba, y_data, y_test_proba, y_proba_file)\n",
    "y_data_proba, y_data, y_test_proba = load_proba(y_proba_file)\n",
    "\n",
    "print(y_data_proba.shape)\n",
    "print(y_data.shape)\n",
    "print(y_test_proba.shape)"
   ]
  },
  {
   "cell_type": "code",
   "execution_count": 34,
   "metadata": {},
   "outputs": [
    {
     "name": "stdout",
     "output_type": "stream",
     "text": [
      "y_test_pred.shape:  (28000,)\n"
     ]
    }
   ],
   "source": [
    "y_test_pred = np.argmax(y_test_proba, axis=1)\n",
    "print('y_test_pred.shape: ', y_test_pred.shape)\n",
    "\n",
    "with open(pred_file, 'w') as f:\n",
    "    f.write('ImageId,Label\\n')\n",
    "    for i in range(len(y_test_pred)) :\n",
    "        f.write(\"\".join([str(i+1),',',str(y_test_pred[i]),'\\n']))"
   ]
  },
  {
   "cell_type": "code",
   "execution_count": 35,
   "metadata": {},
   "outputs": [
    {
     "name": "stdout",
     "output_type": "stream",
     "text": [
      "DigitRecognizer_MoreStructure_20180417_212636_9734\n",
      "time cost: 279.37 s\n",
      "Done!\n"
     ]
    }
   ],
   "source": [
    "print(run_name_acc)\n",
    "\n",
    "t1 = time.time()\n",
    "print('time cost: %.2f s' % (t1-t0))\n",
    "print('Done!')"
   ]
  },
  {
   "cell_type": "code",
   "execution_count": null,
   "metadata": {},
   "outputs": [],
   "source": []
  },
  {
   "cell_type": "code",
   "execution_count": null,
   "metadata": {},
   "outputs": [],
   "source": []
  }
 ],
 "metadata": {
  "kernelspec": {
   "display_name": "Python 3",
   "language": "python",
   "name": "python3"
  },
  "language_info": {
   "codemirror_mode": {
    "name": "ipython",
    "version": 3
   },
   "file_extension": ".py",
   "mimetype": "text/x-python",
   "name": "python",
   "nbconvert_exporter": "python",
   "pygments_lexer": "ipython3",
   "version": "3.6.4"
  }
 },
 "nbformat": 4,
 "nbformat_minor": 2
}
