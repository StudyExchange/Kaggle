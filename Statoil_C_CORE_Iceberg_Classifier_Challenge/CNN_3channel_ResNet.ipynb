{
 "cells": [
  {
   "cell_type": "markdown",
   "metadata": {},
   "source": [
    "# CNN_3channel_ResNet\n",
    "\n",
    "Abstract:\n",
    "- CNN\n",
    "- ResNet\n",
    "\n",
    "Result:\n",
    "- \n",
    "\n",
    "References:\n",
    "- https://www.kaggle.com/ivalmian/simple-svd-xgboost-baseline-lb-35\n",
    "- https://www.kaggle.com/arieltci/a-keras-prototype-0-21174-on-pl"
   ]
  },
  {
   "cell_type": "markdown",
   "metadata": {},
   "source": [
    "## 1. Preprocess"
   ]
  },
  {
   "cell_type": "markdown",
   "metadata": {},
   "source": [
    "### Import pkgs"
   ]
  },
  {
   "cell_type": "code",
   "execution_count": 1,
   "metadata": {},
   "outputs": [],
   "source": [
    "import numpy as np\n",
    "import pandas as pd\n",
    "import matplotlib.pyplot as plt\n",
    "import seaborn as sns\n",
    "from sklearn.model_selection import train_test_split\n",
    "from sklearn.ensemble import GradientBoostingClassifier\n",
    "from sklearn.preprocessing import MinMaxScaler, Binarizer\n",
    "from sklearn.metrics import log_loss, accuracy_score\n",
    "from IPython.display import display\n",
    "\n",
    "%matplotlib inline"
   ]
  },
  {
   "cell_type": "code",
   "execution_count": 2,
   "metadata": {},
   "outputs": [],
   "source": [
    "import os\n",
    "import time\n",
    "import zipfile\n",
    "import lzma\n",
    "import pickle\n",
    "from PIL import Image\n",
    "from shutil import copy2"
   ]
  },
  {
   "cell_type": "markdown",
   "metadata": {},
   "source": [
    "### Run name"
   ]
  },
  {
   "cell_type": "code",
   "execution_count": 3,
   "metadata": {},
   "outputs": [
    {
     "name": "stdout",
     "output_type": "stream",
     "text": [
      "run_name: SC_Iceberg_Classifier_CNN_3channel_ResNet_20171108_130111\n"
     ]
    }
   ],
   "source": [
    "project_name = 'SC_Iceberg_Classifier'\n",
    "step_name = 'CNN_3channel_ResNet'\n",
    "date_str = time.strftime(\"%Y%m%d\", time.localtime())\n",
    "time_str = time.strftime(\"%Y%m%d_%H%M%S\", time.localtime())\n",
    "run_name = project_name + '_' + step_name + '_' + time_str\n",
    "print('run_name: ' + run_name)"
   ]
  },
  {
   "cell_type": "markdown",
   "metadata": {},
   "source": [
    "### Basic folders"
   ]
  },
  {
   "cell_type": "code",
   "execution_count": 4,
   "metadata": {},
   "outputs": [
    {
     "name": "stdout",
     "output_type": "stream",
     "text": [
      "input_path: D:\\Kaggle\\Statoil_C_CORE_Iceberg_Classifier_Challenge\\input\n",
      "log_path: D:\\Kaggle\\Statoil_C_CORE_Iceberg_Classifier_Challenge\\log\n",
      "model_path: D:\\Kaggle\\Statoil_C_CORE_Iceberg_Classifier_Challenge\\model\n",
      "output_path: D:\\Kaggle\\Statoil_C_CORE_Iceberg_Classifier_Challenge\\output\n"
     ]
    }
   ],
   "source": [
    "cwd = os.getcwd()\n",
    "input_path = os.path.join(cwd, 'input')\n",
    "log_path = os.path.join(cwd, 'log')\n",
    "model_path = os.path.join(cwd, 'model')\n",
    "output_path = os.path.join(cwd, 'output')\n",
    "print('input_path: ' + input_path)\n",
    "print('log_path: ' + log_path)\n",
    "print('model_path: ' + model_path)\n",
    "print('output_path: ' + output_path)"
   ]
  },
  {
   "cell_type": "markdown",
   "metadata": {},
   "source": [
    "### Unzip files"
   ]
  },
  {
   "cell_type": "code",
   "execution_count": 5,
   "metadata": {},
   "outputs": [],
   "source": [
    "# with lzma.open(\"train.json.7z\") as f:\n",
    "#     file_content = f.read()"
   ]
  },
  {
   "cell_type": "code",
   "execution_count": 6,
   "metadata": {},
   "outputs": [],
   "source": [
    "# Unzip(input_path, os.path.join(input_path, 'sample_submission.csv.7z'))\n",
    "# Unzip(input_path, os.path.join(input_path, 'test.json.7z'))\n",
    "# Unzip(input_path, os.path.join(input_path, 'train.json.7z'))"
   ]
  },
  {
   "cell_type": "markdown",
   "metadata": {},
   "source": [
    "### Load data"
   ]
  },
  {
   "cell_type": "code",
   "execution_count": 7,
   "metadata": {},
   "outputs": [
    {
     "name": "stdout",
     "output_type": "stream",
     "text": [
      "(8424, 2)\n"
     ]
    },
    {
     "data": {
      "text/html": [
       "<div>\n",
       "<style scoped>\n",
       "    .dataframe tbody tr th:only-of-type {\n",
       "        vertical-align: middle;\n",
       "    }\n",
       "\n",
       "    .dataframe tbody tr th {\n",
       "        vertical-align: top;\n",
       "    }\n",
       "\n",
       "    .dataframe thead th {\n",
       "        text-align: right;\n",
       "    }\n",
       "</style>\n",
       "<table border=\"1\" class=\"dataframe\">\n",
       "  <thead>\n",
       "    <tr style=\"text-align: right;\">\n",
       "      <th></th>\n",
       "      <th>id</th>\n",
       "      <th>is_iceberg</th>\n",
       "    </tr>\n",
       "  </thead>\n",
       "  <tbody>\n",
       "    <tr>\n",
       "      <th>0</th>\n",
       "      <td>5941774d</td>\n",
       "      <td>0.5</td>\n",
       "    </tr>\n",
       "    <tr>\n",
       "      <th>1</th>\n",
       "      <td>4023181e</td>\n",
       "      <td>0.5</td>\n",
       "    </tr>\n",
       "  </tbody>\n",
       "</table>\n",
       "</div>"
      ],
      "text/plain": [
       "         id  is_iceberg\n",
       "0  5941774d         0.5\n",
       "1  4023181e         0.5"
      ]
     },
     "execution_count": 7,
     "metadata": {},
     "output_type": "execute_result"
    }
   ],
   "source": [
    "sample_submission_path = os.path.join(input_path, 'sample_submission.csv')\n",
    "sample_submission = pd.read_csv(sample_submission_path)\n",
    "print(sample_submission.shape)\n",
    "sample_submission.head(2)"
   ]
  },
  {
   "cell_type": "code",
   "execution_count": 8,
   "metadata": {},
   "outputs": [
    {
     "name": "stdout",
     "output_type": "stream",
     "text": [
      "(1604, 5)\n",
      "(8424, 4)\n",
      "Wall time: 19.2 s\n"
     ]
    }
   ],
   "source": [
    "%%time\n",
    "#Load data\n",
    "data_path = os.path.join(input_path, 'train.json')\n",
    "test_path = os.path.join(input_path, 'test.json')\n",
    "pd_data = pd.read_json(data_path)\n",
    "pd_test = pd.read_json(test_path)\n",
    "print(pd_data.shape)\n",
    "print(pd_test.shape)"
   ]
  },
  {
   "cell_type": "code",
   "execution_count": 9,
   "metadata": {},
   "outputs": [],
   "source": [
    "#get numpy arrays for train/test data, prob there is a more pythonic approach\n",
    "band1 = pd_data['band_1'].values\n",
    "im1 = np.zeros((len(band1),len(band1[0])))\n",
    "for j in range(len(band1)):\n",
    "    im1[j,:]=np.asarray(band1[j])\n",
    "    \n",
    "band2 = pd_data['band_2'].values\n",
    "im2 = np.zeros((len(band2),len(band2[0])))\n",
    "for j in range(len(band2)):\n",
    "    im2[j,:]=np.asarray(band2[j])\n",
    "    \n",
    "#get numpy array for test data\n",
    "band1test = pd_test['band_1'].values\n",
    "im1test = np.zeros((len(band1test),len(band1test[0])))\n",
    "for j in range(len(band1test)):\n",
    "    im1test[j,:]=np.asarray(band1test[j])\n",
    "    \n",
    "band2test = pd_test['band_2'].values\n",
    "im2test = np.zeros((len(band2test),len(band2test[0])))\n",
    "for j in range(len(band2test)):\n",
    "    im2test[j,:]=np.asarray(band2test[j])"
   ]
  },
  {
   "cell_type": "code",
   "execution_count": 10,
   "metadata": {},
   "outputs": [
    {
     "name": "stdout",
     "output_type": "stream",
     "text": [
      "(1604,)\n",
      "(1604,)\n",
      "(1604,)\n",
      "(1604,)\n",
      "(1604,)\n"
     ]
    }
   ],
   "source": [
    "print(pd_data['id'].values.shape)\n",
    "print(pd_data['band_1'].values.shape)\n",
    "print(pd_data['band_2'].values.shape)\n",
    "print(pd_data['inc_angle'].values.shape)\n",
    "print(pd_data['is_iceberg'].values.shape)"
   ]
  },
  {
   "cell_type": "code",
   "execution_count": 11,
   "metadata": {},
   "outputs": [
    {
     "name": "stdout",
     "output_type": "stream",
     "text": [
      "(1604,)\n",
      "(8424,)\n"
     ]
    }
   ],
   "source": [
    "id_data = pd_data['id'].as_matrix()\n",
    "id_test = pd_test['id'].as_matrix()\n",
    "print(id_data.shape)\n",
    "print(id_test.shape)"
   ]
  },
  {
   "cell_type": "code",
   "execution_count": 12,
   "metadata": {},
   "outputs": [
    {
     "name": "stdout",
     "output_type": "stream",
     "text": [
      "(1604,)\n",
      "(8424,)\n"
     ]
    }
   ],
   "source": [
    "inc_angle_data = pd_data['inc_angle'].replace('na', 0).astype(float).fillna(0.0)\n",
    "inc_angle_test = pd_test['inc_angle'].replace('na', 0).astype(float).fillna(0.0)\n",
    "print(inc_angle_data.shape)\n",
    "print(inc_angle_test.shape)"
   ]
  },
  {
   "cell_type": "code",
   "execution_count": 13,
   "metadata": {},
   "outputs": [
    {
     "name": "stdout",
     "output_type": "stream",
     "text": [
      "(1604,)\n"
     ]
    }
   ],
   "source": [
    "y_data = pd_data['is_iceberg']\n",
    "print(y_data.shape)"
   ]
  },
  {
   "cell_type": "code",
   "execution_count": 14,
   "metadata": {},
   "outputs": [
    {
     "name": "stdout",
     "output_type": "stream",
     "text": [
      "(1604, 75, 75)\n",
      "(1604, 75, 75)\n",
      "(8424, 75, 75)\n",
      "(8424, 75, 75)\n"
     ]
    }
   ],
   "source": [
    "band1_data = im1.reshape(-1, 75,75)\n",
    "band2_data = im2.reshape(-1, 75,75)\n",
    "\n",
    "band1_test = im1test.reshape(-1, 75,75)\n",
    "band2_test = im2test.reshape(-1, 75,75)\n",
    "\n",
    "print(band1_data.shape)\n",
    "print(band2_data.shape)\n",
    "print(band1_test.shape)\n",
    "print(band2_test.shape)"
   ]
  },
  {
   "cell_type": "code",
   "execution_count": 15,
   "metadata": {},
   "outputs": [
    {
     "name": "stdout",
     "output_type": "stream",
     "text": [
      "(1604, 75, 75)\n",
      "(8424, 75, 75)\n"
     ]
    }
   ],
   "source": [
    "band_avg_data = (band1_data + band2_data)/2\n",
    "print(band_avg_data.shape)\n",
    "band_avg_test = (band1_test + band2_test)/2\n",
    "print(band_avg_test.shape)"
   ]
  },
  {
   "cell_type": "code",
   "execution_count": 16,
   "metadata": {},
   "outputs": [
    {
     "name": "stdout",
     "output_type": "stream",
     "text": [
      "(75, 75)\n"
     ]
    },
    {
     "data": {
      "text/plain": [
       "Text(0.5,1,'5941774d')"
      ]
     },
     "execution_count": 16,
     "metadata": {},
     "output_type": "execute_result"
    },
    {
     "data": {
      "image/png": "[encoded data removed]",
      "text/plain": [
       "<matplotlib.figure.Figure at 0x230e9920c50>"
      ]
     },
     "metadata": {},
     "output_type": "display_data"
    }
   ],
   "source": [
    "# Preview images\n",
    "print(band1_data[0].shape)\n",
    "fig, ax = plt.subplots(2, 3, figsize=(6,6))\n",
    "ax[0, 0].imshow(band1_data[0].reshape(75, 75))\n",
    "ax[0, 0].set_title(id_data[0] + '_' + str(y_data[0]))\n",
    "ax[0, 1].imshow(band2_data[0].reshape(75, 75))\n",
    "ax[0, 1].set_title(id_data[0] + '_' + str(y_data[1]))\n",
    "ax[0, 2].imshow(band_avg_data[0].reshape(75, 75))\n",
    "ax[0, 2].set_title(id_data[0])\n",
    "\n",
    "ax[1, 0].imshow(band1_test[0].reshape(75, 75))\n",
    "ax[1, 0].set_title(id_test[0])\n",
    "ax[1, 1].imshow(band2_test[0].reshape(75, 75))\n",
    "ax[1, 1].set_title(id_test[0])\n",
    "ax[1, 2].imshow(band_avg_test[0].reshape(75, 75))\n",
    "ax[1, 2].set_title(id_test[0])"
   ]
  },
  {
   "cell_type": "markdown",
   "metadata": {},
   "source": [
    "**train_test_split**"
   ]
  },
  {
   "cell_type": "code",
   "execution_count": 17,
   "metadata": {},
   "outputs": [
    {
     "name": "stdout",
     "output_type": "stream",
     "text": [
      "(1604, 75, 75, 3)\n",
      "(8424, 75, 75, 3)\n"
     ]
    }
   ],
   "source": [
    "x_data = np.concatenate([band1_data[:, :, :, np.newaxis],\n",
    "                         band2_data[:, :, :, np.newaxis],\n",
    "                         band_avg_data[:, :, :, np.newaxis]], axis=-1)\n",
    "print(x_data.shape)\n",
    "x_test = np.concatenate([band1_test[:, :, :, np.newaxis],\n",
    "                         band2_test[:, :, :, np.newaxis],\n",
    "                         band_avg_test[:, :, :, np.newaxis]], axis=-1)\n",
    "print(x_test.shape)"
   ]
  },
  {
   "cell_type": "code",
   "execution_count": 18,
   "metadata": {},
   "outputs": [
    {
     "name": "stdout",
     "output_type": "stream",
     "text": [
      "(1363, 75, 75, 3)\n",
      "(241, 75, 75, 3)\n",
      "(1363,)\n",
      "(241,)\n"
     ]
    }
   ],
   "source": [
    "x_train, x_val, y_train, y_val = train_test_split(x_data, y_data, test_size=0.15, shuffle=True, random_state=31)\n",
    "print(x_train.shape)\n",
    "print(x_val.shape)\n",
    "print(y_train.shape)\n",
    "print(y_val.shape)"
   ]
  },
  {
   "cell_type": "markdown",
   "metadata": {},
   "source": [
    "## 2. Build model"
   ]
  },
  {
   "cell_type": "code",
   "execution_count": 19,
   "metadata": {},
   "outputs": [
    {
     "name": "stderr",
     "output_type": "stream",
     "text": [
      "Using TensorFlow backend.\n"
     ]
    }
   ],
   "source": [
    "from keras.utils.np_utils import to_categorical # convert to one-hot-encoding\n",
    "from keras.models import Sequential, Model\n",
    "from keras.layers import Dense, Dropout, Flatten, Conv2D, MaxPooling2D, GlobalMaxPooling2D, BatchNormalization, Input, Add\n",
    "from keras.layers.merge import Concatenate\n",
    "from keras.optimizers import Adam\n",
    "from keras.preprocessing.image import ImageDataGenerator\n",
    "from keras.callbacks import LearningRateScheduler, TensorBoard"
   ]
  },
  {
   "cell_type": "code",
   "execution_count": 20,
   "metadata": {},
   "outputs": [],
   "source": [
    "def build_model():\n",
    "    bn_model = 0\n",
    "    p_activation = \"relu\"\n",
    "    input_1 = Input(shape=(75, 75, 3), name=\"bands\")\n",
    "    input_2 = Input(shape=[1], name=\"angle\")\n",
    "    \n",
    "    img_1 = Conv2D(32, kernel_size = (3,3), activation=p_activation, padding='same')(input_1)\n",
    "    img_1 = BatchNormalization()(img_1)\n",
    "    img_1 = Conv2D(32, kernel_size = (3,3), activation=p_activation, padding='same') (img_1)\n",
    "    img_1 = BatchNormalization()(img_1)\n",
    "    img_1 = MaxPooling2D((2,2)) (img_1)\n",
    "    img_1 = Dropout(0.5)(img_1)\n",
    "    \n",
    "    shortcut = Conv2D(64, kernel_size = (1,1), activation=p_activation, padding='same') (img_1)\n",
    "    img_1 = Conv2D(64, kernel_size = (3,3), activation=p_activation, padding='same') (img_1)\n",
    "    img_1 = Conv2D(64, kernel_size = (3,3), activation=p_activation, padding='same') (img_1)\n",
    "    img_1 = Add()([img_1, shortcut])\n",
    "    shortcut = Conv2D(64, kernel_size = (1,1), activation=p_activation, padding='same') (img_1)\n",
    "    img_1 = Conv2D(64, kernel_size = (3,3), activation=p_activation, padding='same') (img_1)\n",
    "    img_1 = Conv2D(64, kernel_size = (3,3), activation=p_activation, padding='same') (img_1)\n",
    "    img_1 = Add()([img_1, shortcut])\n",
    "    shortcut = Conv2D(64, kernel_size = (1,1), activation=p_activation, padding='same') (img_1)\n",
    "    img_1 = Conv2D(64, kernel_size = (3,3), activation=p_activation, padding='same') (img_1)\n",
    "    img_1 = Conv2D(64, kernel_size = (3,3), activation=p_activation, padding='same') (img_1)\n",
    "    img_1 = Add()([img_1, shortcut])\n",
    "    shortcut = Conv2D(64, kernel_size = (1,1), activation=p_activation, padding='same') (img_1)\n",
    "    img_1 = Conv2D(64, kernel_size = (3,3), activation=p_activation, padding='same') (img_1)\n",
    "    img_1 = Conv2D(64, kernel_size = (3,3), activation=p_activation, padding='same') (img_1)\n",
    "    img_1 = Conv2D(64, kernel_size = (3,3), activation=p_activation, padding='same') (img_1)\n",
    "    img_1 = Add()([img_1, shortcut])\n",
    "    shortcut = Conv2D(64, kernel_size = (1,1), activation=p_activation, padding='same') (img_1)\n",
    "    img_1 = Conv2D(64, kernel_size = (3,3), activation=p_activation, padding='same') (img_1)\n",
    "    img_1 = Conv2D(64, kernel_size = (3,3), activation=p_activation, padding='same') (img_1)\n",
    "    img_1 = Conv2D(64, kernel_size = (3,3), activation=p_activation, padding='same') (img_1)\n",
    "    img_1 = Add()([img_1, shortcut])\n",
    "    shortcut = Conv2D(64, kernel_size = (1,1), activation=p_activation, padding='same') (img_1)\n",
    "    img_1 = Conv2D(64, kernel_size = (3,3), activation=p_activation, padding='same') (img_1)\n",
    "    img_1 = Conv2D(64, kernel_size = (3,3), activation=p_activation, padding='same') (img_1)\n",
    "    img_1 = Conv2D(64, kernel_size = (3,3), activation=p_activation, padding='same') (img_1)\n",
    "    img_1 = Add()([img_1, shortcut])\n",
    "    shortcut = Conv2D(64, kernel_size = (1,1), activation=p_activation, padding='same') (img_1)\n",
    "    img_1 = Conv2D(64, kernel_size = (3,3), activation=p_activation, padding='same') (img_1)\n",
    "    img_1 = Conv2D(64, kernel_size = (3,3), activation=p_activation, padding='same') (img_1)\n",
    "    img_1 = Conv2D(64, kernel_size = (3,3), activation=p_activation, padding='same') (img_1)\n",
    "    img_1 = Add()([img_1, shortcut])\n",
    "    shortcut = Conv2D(64, kernel_size = (1,1), activation=p_activation, padding='same') (img_1)\n",
    "    img_1 = Conv2D(64, kernel_size = (3,3), activation=p_activation, padding='same') (img_1)\n",
    "    img_1 = Conv2D(64, kernel_size = (3,3), activation=p_activation, padding='same') (img_1)\n",
    "    img_1 = Conv2D(64, kernel_size = (3,3), activation=p_activation, padding='same') (img_1)\n",
    "    img_1 = Add()([img_1, shortcut])\n",
    "    shortcut = Conv2D(64, kernel_size = (1,1), activation=p_activation, padding='same') (img_1)\n",
    "    img_1 = Conv2D(64, kernel_size = (3,3), activation=p_activation, padding='same') (img_1)\n",
    "    img_1 = Conv2D(64, kernel_size = (3,3), activation=p_activation, padding='same') (img_1)\n",
    "    img_1 = Conv2D(64, kernel_size = (3,3), activation=p_activation, padding='same') (img_1)\n",
    "    img_1 = Add()([img_1, shortcut])\n",
    "    shortcut = Conv2D(64, kernel_size = (1,1), activation=p_activation, padding='same') (img_1)\n",
    "    img_1 = Conv2D(64, kernel_size = (3,3), activation=p_activation, padding='same') (img_1)\n",
    "    img_1 = Conv2D(64, kernel_size = (3,3), activation=p_activation, padding='same') (img_1)\n",
    "    img_1 = Conv2D(64, kernel_size = (3,3), activation=p_activation, padding='same') (img_1)\n",
    "    img_1 = Add()([img_1, shortcut])\n",
    "    shortcut = Conv2D(64, kernel_size = (1,1), activation=p_activation, padding='same') (img_1)\n",
    "    img_1 = Conv2D(64, kernel_size = (3,3), activation=p_activation, padding='same') (img_1)\n",
    "    img_1 = Conv2D(64, kernel_size = (3,3), activation=p_activation, padding='same') (img_1)\n",
    "    img_1 = Conv2D(64, kernel_size = (3,3), activation=p_activation, padding='same') (img_1)\n",
    "    img_1 = Add()([img_1, shortcut])\n",
    "    img_1 = BatchNormalization()(img_1)\n",
    "    img_1 = MaxPooling2D((2,2)) (img_1)\n",
    "    img_1 = Dropout(0.5)(img_1)\n",
    "    \n",
    "    img_1 = Conv2D(128, kernel_size = (3,3), activation=p_activation, padding='same') (img_1)\n",
    "    img_1 = BatchNormalization()(img_1)\n",
    "    img_1 = Conv2D(128, kernel_size = (3,3), activation=p_activation, padding='same') (img_1)\n",
    "    img_1 = BatchNormalization()(img_1)\n",
    "    img_1 = MaxPooling2D((2,2)) (img_1)\n",
    "    img_1 = Dropout(0.5)(img_1)\n",
    "\n",
    "    img_1 = GlobalMaxPooling2D() (img_1)\n",
    "\n",
    "    dense_ayer = Dense(1024, activation=p_activation)(img_1)\n",
    "    dense_ayer = BatchNormalization()(dense_ayer)\n",
    "    dense_ayer = Dropout(0.5)(dense_ayer)\n",
    "    dense_ayer = Dense(1024, activation=p_activation)(dense_ayer)\n",
    "    dense_ayer = BatchNormalization()(dense_ayer)\n",
    "    dense_ayer = Dropout(0.5)(dense_ayer)\n",
    "    output = Dense(1, activation=\"sigmoid\")(dense_ayer)\n",
    "    \n",
    "    model = Model(input_1, output)\n",
    "#     optimizer = Adam(lr=0.001, beta_1=0.9, beta_2=0.999, epsilon=1e-08, decay=0.0)\n",
    "    model.compile(optimizer = Adam(lr=1e-4), loss = 'binary_crossentropy', metrics = ['accuracy'])\n",
    "    return model"
   ]
  },
  {
   "cell_type": "code",
   "execution_count": 21,
   "metadata": {
    "scrolled": false
   },
   "outputs": [
    {
     "name": "stdout",
     "output_type": "stream",
     "text": [
      "__________________________________________________________________________________________________\n",
      "Layer (type)                    Output Shape         Param #     Connected to                     \n",
      "==================================================================================================\n",
      "bands (InputLayer)              (None, 75, 75, 3)    0                                            \n",
      "__________________________________________________________________________________________________\n",
      "conv2d_1 (Conv2D)               (None, 75, 75, 32)   896         bands[0][0]                      \n",
      "__________________________________________________________________________________________________\n",
      "batch_normalization_1 (BatchNor (None, 75, 75, 32)   128         conv2d_1[0][0]                   \n",
      "__________________________________________________________________________________________________\n",
      "conv2d_2 (Conv2D)               (None, 75, 75, 32)   9248        batch_normalization_1[0][0]      \n",
      "__________________________________________________________________________________________________\n",
      "batch_normalization_2 (BatchNor (None, 75, 75, 32)   128         conv2d_2[0][0]                   \n",
      "__________________________________________________________________________________________________\n",
      "max_pooling2d_1 (MaxPooling2D)  (None, 37, 37, 32)   0           batch_normalization_2[0][0]      \n",
      "__________________________________________________________________________________________________\n",
      "dropout_1 (Dropout)             (None, 37, 37, 32)   0           max_pooling2d_1[0][0]            \n",
      "__________________________________________________________________________________________________\n",
      "conv2d_4 (Conv2D)               (None, 37, 37, 64)   18496       dropout_1[0][0]                  \n",
      "__________________________________________________________________________________________________\n",
      "conv2d_5 (Conv2D)               (None, 37, 37, 64)   36928       conv2d_4[0][0]                   \n",
      "__________________________________________________________________________________________________\n",
      "conv2d_3 (Conv2D)               (None, 37, 37, 64)   2112        dropout_1[0][0]                  \n",
      "__________________________________________________________________________________________________\n",
      "add_1 (Add)                     (None, 37, 37, 64)   0           conv2d_5[0][0]                   \n",
      "                                                                 conv2d_3[0][0]                   \n",
      "__________________________________________________________________________________________________\n",
      "conv2d_7 (Conv2D)               (None, 37, 37, 64)   36928       add_1[0][0]                      \n",
      "__________________________________________________________________________________________________\n",
      "conv2d_8 (Conv2D)               (None, 37, 37, 64)   36928       conv2d_7[0][0]                   \n",
      "__________________________________________________________________________________________________\n",
      "conv2d_6 (Conv2D)               (None, 37, 37, 64)   4160        add_1[0][0]                      \n",
      "__________________________________________________________________________________________________\n",
      "add_2 (Add)                     (None, 37, 37, 64)   0           conv2d_8[0][0]                   \n",
      "                                                                 conv2d_6[0][0]                   \n",
      "__________________________________________________________________________________________________\n",
      "conv2d_10 (Conv2D)              (None, 37, 37, 64)   36928       add_2[0][0]                      \n",
      "__________________________________________________________________________________________________\n",
      "conv2d_11 (Conv2D)              (None, 37, 37, 64)   36928       conv2d_10[0][0]                  \n",
      "__________________________________________________________________________________________________\n",
      "conv2d_9 (Conv2D)               (None, 37, 37, 64)   4160        add_2[0][0]                      \n",
      "__________________________________________________________________________________________________\n",
      "add_3 (Add)                     (None, 37, 37, 64)   0           conv2d_11[0][0]                  \n",
      "                                                                 conv2d_9[0][0]                   \n",
      "__________________________________________________________________________________________________\n",
      "conv2d_13 (Conv2D)              (None, 37, 37, 64)   36928       add_3[0][0]                      \n",
      "__________________________________________________________________________________________________\n",
      "conv2d_14 (Conv2D)              (None, 37, 37, 64)   36928       conv2d_13[0][0]                  \n",
      "__________________________________________________________________________________________________\n",
      "conv2d_15 (Conv2D)              (None, 37, 37, 64)   36928       conv2d_14[0][0]                  \n",
      "__________________________________________________________________________________________________\n",
      "conv2d_12 (Conv2D)              (None, 37, 37, 64)   4160        add_3[0][0]                      \n",
      "__________________________________________________________________________________________________\n",
      "add_4 (Add)                     (None, 37, 37, 64)   0           conv2d_15[0][0]                  \n",
      "                                                                 conv2d_12[0][0]                  \n",
      "__________________________________________________________________________________________________\n",
      "conv2d_17 (Conv2D)              (None, 37, 37, 64)   36928       add_4[0][0]                      \n",
      "__________________________________________________________________________________________________\n",
      "conv2d_18 (Conv2D)              (None, 37, 37, 64)   36928       conv2d_17[0][0]                  \n",
      "__________________________________________________________________________________________________\n",
      "conv2d_19 (Conv2D)              (None, 37, 37, 64)   36928       conv2d_18[0][0]                  \n",
      "__________________________________________________________________________________________________\n",
      "conv2d_16 (Conv2D)              (None, 37, 37, 64)   4160        add_4[0][0]                      \n",
      "__________________________________________________________________________________________________\n",
      "add_5 (Add)                     (None, 37, 37, 64)   0           conv2d_19[0][0]                  \n",
      "                                                                 conv2d_16[0][0]                  \n",
      "__________________________________________________________________________________________________\n",
      "conv2d_21 (Conv2D)              (None, 37, 37, 64)   36928       add_5[0][0]                      \n",
      "__________________________________________________________________________________________________\n",
      "conv2d_22 (Conv2D)              (None, 37, 37, 64)   36928       conv2d_21[0][0]                  \n",
      "__________________________________________________________________________________________________\n",
      "conv2d_23 (Conv2D)              (None, 37, 37, 64)   36928       conv2d_22[0][0]                  \n",
      "__________________________________________________________________________________________________\n",
      "conv2d_20 (Conv2D)              (None, 37, 37, 64)   4160        add_5[0][0]                      \n",
      "__________________________________________________________________________________________________\n",
      "add_6 (Add)                     (None, 37, 37, 64)   0           conv2d_23[0][0]                  \n",
      "                                                                 conv2d_20[0][0]                  \n",
      "__________________________________________________________________________________________________\n",
      "conv2d_25 (Conv2D)              (None, 37, 37, 64)   36928       add_6[0][0]                      \n",
      "__________________________________________________________________________________________________\n",
      "conv2d_26 (Conv2D)              (None, 37, 37, 64)   36928       conv2d_25[0][0]                  \n",
      "__________________________________________________________________________________________________\n",
      "conv2d_27 (Conv2D)              (None, 37, 37, 64)   36928       conv2d_26[0][0]                  \n",
      "__________________________________________________________________________________________________\n",
      "conv2d_24 (Conv2D)              (None, 37, 37, 64)   4160        add_6[0][0]                      \n",
      "__________________________________________________________________________________________________\n",
      "add_7 (Add)                     (None, 37, 37, 64)   0           conv2d_27[0][0]                  \n",
      "                                                                 conv2d_24[0][0]                  \n",
      "__________________________________________________________________________________________________\n",
      "conv2d_29 (Conv2D)              (None, 37, 37, 64)   36928       add_7[0][0]                      \n",
      "__________________________________________________________________________________________________\n",
      "conv2d_30 (Conv2D)              (None, 37, 37, 64)   36928       conv2d_29[0][0]                  \n",
      "__________________________________________________________________________________________________\n",
      "conv2d_31 (Conv2D)              (None, 37, 37, 64)   36928       conv2d_30[0][0]                  \n",
      "__________________________________________________________________________________________________\n",
      "conv2d_28 (Conv2D)              (None, 37, 37, 64)   4160        add_7[0][0]                      \n",
      "__________________________________________________________________________________________________\n",
      "add_8 (Add)                     (None, 37, 37, 64)   0           conv2d_31[0][0]                  \n",
      "                                                                 conv2d_28[0][0]                  \n",
      "__________________________________________________________________________________________________\n",
      "conv2d_33 (Conv2D)              (None, 37, 37, 64)   36928       add_8[0][0]                      \n",
      "__________________________________________________________________________________________________\n",
      "conv2d_34 (Conv2D)              (None, 37, 37, 64)   36928       conv2d_33[0][0]                  \n",
      "__________________________________________________________________________________________________\n",
      "conv2d_35 (Conv2D)              (None, 37, 37, 64)   36928       conv2d_34[0][0]                  \n",
      "__________________________________________________________________________________________________\n",
      "conv2d_32 (Conv2D)              (None, 37, 37, 64)   4160        add_8[0][0]                      \n",
      "__________________________________________________________________________________________________\n",
      "add_9 (Add)                     (None, 37, 37, 64)   0           conv2d_35[0][0]                  \n",
      "                                                                 conv2d_32[0][0]                  \n",
      "__________________________________________________________________________________________________\n",
      "conv2d_37 (Conv2D)              (None, 37, 37, 64)   36928       add_9[0][0]                      \n",
      "__________________________________________________________________________________________________\n",
      "conv2d_38 (Conv2D)              (None, 37, 37, 64)   36928       conv2d_37[0][0]                  \n",
      "__________________________________________________________________________________________________\n",
      "conv2d_39 (Conv2D)              (None, 37, 37, 64)   36928       conv2d_38[0][0]                  \n",
      "__________________________________________________________________________________________________\n",
      "conv2d_36 (Conv2D)              (None, 37, 37, 64)   4160        add_9[0][0]                      \n",
      "__________________________________________________________________________________________________\n",
      "add_10 (Add)                    (None, 37, 37, 64)   0           conv2d_39[0][0]                  \n",
      "                                                                 conv2d_36[0][0]                  \n",
      "__________________________________________________________________________________________________\n",
      "conv2d_41 (Conv2D)              (None, 37, 37, 64)   36928       add_10[0][0]                     \n",
      "__________________________________________________________________________________________________\n",
      "conv2d_42 (Conv2D)              (None, 37, 37, 64)   36928       conv2d_41[0][0]                  \n",
      "__________________________________________________________________________________________________\n",
      "conv2d_43 (Conv2D)              (None, 37, 37, 64)   36928       conv2d_42[0][0]                  \n",
      "__________________________________________________________________________________________________\n",
      "conv2d_40 (Conv2D)              (None, 37, 37, 64)   4160        add_10[0][0]                     \n",
      "__________________________________________________________________________________________________\n",
      "add_11 (Add)                    (None, 37, 37, 64)   0           conv2d_43[0][0]                  \n",
      "                                                                 conv2d_40[0][0]                  \n",
      "__________________________________________________________________________________________________\n",
      "batch_normalization_3 (BatchNor (None, 37, 37, 64)   256         add_11[0][0]                     \n",
      "__________________________________________________________________________________________________\n",
      "max_pooling2d_2 (MaxPooling2D)  (None, 18, 18, 64)   0           batch_normalization_3[0][0]      \n",
      "__________________________________________________________________________________________________\n",
      "dropout_2 (Dropout)             (None, 18, 18, 64)   0           max_pooling2d_2[0][0]            \n",
      "__________________________________________________________________________________________________\n",
      "conv2d_44 (Conv2D)              (None, 18, 18, 128)  73856       dropout_2[0][0]                  \n",
      "__________________________________________________________________________________________________\n",
      "batch_normalization_4 (BatchNor (None, 18, 18, 128)  512         conv2d_44[0][0]                  \n",
      "__________________________________________________________________________________________________\n",
      "conv2d_45 (Conv2D)              (None, 18, 18, 128)  147584      batch_normalization_4[0][0]      \n",
      "__________________________________________________________________________________________________\n",
      "batch_normalization_5 (BatchNor (None, 18, 18, 128)  512         conv2d_45[0][0]                  \n",
      "__________________________________________________________________________________________________\n",
      "max_pooling2d_3 (MaxPooling2D)  (None, 9, 9, 128)    0           batch_normalization_5[0][0]      \n",
      "__________________________________________________________________________________________________\n",
      "dropout_3 (Dropout)             (None, 9, 9, 128)    0           max_pooling2d_3[0][0]            \n",
      "__________________________________________________________________________________________________\n",
      "global_max_pooling2d_1 (GlobalM (None, 128)          0           dropout_3[0][0]                  \n",
      "__________________________________________________________________________________________________\n",
      "dense_1 (Dense)                 (None, 1024)         132096      global_max_pooling2d_1[0][0]     \n",
      "__________________________________________________________________________________________________\n",
      "batch_normalization_6 (BatchNor (None, 1024)         4096        dense_1[0][0]                    \n",
      "__________________________________________________________________________________________________\n",
      "dropout_4 (Dropout)             (None, 1024)         0           batch_normalization_6[0][0]      \n",
      "__________________________________________________________________________________________________\n",
      "dense_2 (Dense)                 (None, 1024)         1049600     dropout_4[0][0]                  \n",
      "__________________________________________________________________________________________________\n",
      "batch_normalization_7 (BatchNor (None, 1024)         4096        dense_2[0][0]                    \n",
      "__________________________________________________________________________________________________\n",
      "dropout_5 (Dropout)             (None, 1024)         0           batch_normalization_7[0][0]      \n",
      "__________________________________________________________________________________________________\n",
      "dense_3 (Dense)                 (None, 1)            1025        dropout_5[0][0]                  \n",
      "==================================================================================================\n",
      "Total params: 2,557,153\n",
      "Trainable params: 2,552,289\n",
      "Non-trainable params: 4,864\n",
      "__________________________________________________________________________________________________\n"
     ]
    }
   ],
   "source": [
    "model = build_model()\n",
    "model.summary()"
   ]
  },
  {
   "cell_type": "code",
   "execution_count": 22,
   "metadata": {},
   "outputs": [],
   "source": [
    "def saveModel(model, run_name):\n",
    "    cwd = os.getcwd()\n",
    "    modelPath = os.path.join(cwd, 'model')\n",
    "    if not os.path.isdir(modelPath):\n",
    "        os.mkdir(modelPath)\n",
    "    weigthsFile = os.path.join(modelPath, run_name + '.h5')\n",
    "    model.save(weigthsFile)\n",
    "saveModel(model, 'saveModel_test')"
   ]
  },
  {
   "cell_type": "code",
   "execution_count": 23,
   "metadata": {},
   "outputs": [
    {
     "name": "stdout",
     "output_type": "stream",
     "text": [
      "log_dir:D:\\Kaggle\\Statoil_C_CORE_Iceberg_Classifier_Challenge\\log\\SC_Iceberg_Classifier_CNN_3channel_ResNet_20171108_130111\n"
     ]
    }
   ],
   "source": [
    "def get_lr(x):\n",
    "    lr = round(1e-4 * 0.98 ** x, 6)\n",
    "    if lr < 5e-5:\n",
    "        lr = 5e-5\n",
    "    print(lr, end='  ')\n",
    "    return lr\n",
    "\n",
    "# annealer = LearningRateScheduler(lambda x: 1e-3 * 0.9 ** x)\n",
    "annealer = LearningRateScheduler(get_lr)\n",
    "\n",
    "log_dir = os.path.join(log_path, run_name)\n",
    "print('log_dir:' + log_dir)\n",
    "tensorBoard = TensorBoard(log_dir=log_dir)"
   ]
  },
  {
   "cell_type": "code",
   "execution_count": 24,
   "metadata": {},
   "outputs": [
    {
     "name": "stdout",
     "output_type": "stream",
     "text": [
      "170\n"
     ]
    }
   ],
   "source": [
    "datagen = ImageDataGenerator(\n",
    "    rotation_range=0,\n",
    "    width_shift_range=0,\n",
    "    height_shift_range=0,\n",
    "    horizontal_flip=False,\n",
    "    vertical_flip=False)\n",
    "\n",
    "batch_size = 8\n",
    "steps_per_epoch=int(len(x_train) / batch_size)\n",
    "print(steps_per_epoch)"
   ]
  },
  {
   "cell_type": "code",
   "execution_count": 25,
   "metadata": {},
   "outputs": [],
   "source": [
    "# hist = model.fit_generator(datagen.flow(x_train, y_train, batch_size = batch_size, shuffle = True, seed=2017),\n",
    "#                            steps_per_epoch = steps_per_epoch, \n",
    "#                            epochs = 100, #1 for ETA, 0 for silent\n",
    "#                            verbose = 1,\n",
    "#                            max_queue_size = 16, \n",
    "#                            workers = 8,\n",
    "#                            validation_data =(x_val, y_val),\n",
    "#                            callbacks = [annealer, tensorBoard])"
   ]
  },
  {
   "cell_type": "code",
   "execution_count": 26,
   "metadata": {},
   "outputs": [
    {
     "name": "stdout",
     "output_type": "stream",
     "text": [
      "Train on 1363 samples, validate on 241 samples\n",
      "0.0001  Epoch 1/100\n",
      "1363/1363 [==============================] - 103s 75ms/step - loss: 0.9256 - acc: 0.5664 - val_loss: 0.7663 - val_acc: 0.4357\n",
      "9.8e-05  Epoch 2/100\n",
      "1363/1363 [==============================] - 100s 73ms/step - loss: 0.8903 - acc: 0.5752 - val_loss: 0.7555 - val_acc: 0.4149\n",
      "9.6e-05  Epoch 3/100\n",
      "1363/1363 [==============================] - 100s 74ms/step - loss: 0.8069 - acc: 0.6023 - val_loss: 0.6803 - val_acc: 0.6100\n",
      "9.4e-05  Epoch 4/100\n",
      "1363/1363 [==============================] - 101s 74ms/step - loss: 0.8719 - acc: 0.5737 - val_loss: 0.9346 - val_acc: 0.4357\n",
      "9.2e-05  Epoch 5/100\n",
      "1363/1363 [==============================] - 100s 74ms/step - loss: 0.8375 - acc: 0.5906 - val_loss: 1.4921 - val_acc: 0.4357\n",
      "9e-05  Epoch 6/100\n",
      "1363/1363 [==============================] - 101s 74ms/step - loss: 0.8358 - acc: 0.5759 - val_loss: 0.7931 - val_acc: 0.5311\n",
      "8.9e-05  Epoch 7/100\n",
      "1363/1363 [==============================] - 101s 74ms/step - loss: 0.7734 - acc: 0.5979 - val_loss: 0.7331 - val_acc: 0.5353\n",
      "8.7e-05  Epoch 8/100\n",
      "1363/1363 [==============================] - 100s 74ms/step - loss: 0.7881 - acc: 0.5943 - val_loss: 0.6803 - val_acc: 0.5851\n",
      "8.5e-05  Epoch 9/100\n",
      "1363/1363 [==============================] - 101s 74ms/step - loss: 0.7781 - acc: 0.6045 - val_loss: 0.8128 - val_acc: 0.4440\n",
      "8.3e-05  Epoch 10/100\n",
      "1363/1363 [==============================] - 100s 74ms/step - loss: 0.7619 - acc: 0.6112 - val_loss: 0.8241 - val_acc: 0.5187\n",
      "8.2e-05  Epoch 11/100\n",
      "1363/1363 [==============================] - 100s 74ms/step - loss: 0.7902 - acc: 0.5906 - val_loss: 0.7546 - val_acc: 0.5270\n",
      "8e-05  Epoch 12/100\n",
      "1363/1363 [==============================] - 100s 74ms/step - loss: 0.7499 - acc: 0.6075 - val_loss: 0.7004 - val_acc: 0.5062\n",
      "7.8e-05  Epoch 13/100\n",
      "1363/1363 [==============================] - 101s 74ms/step - loss: 0.7348 - acc: 0.6009 - val_loss: 0.7914 - val_acc: 0.4481\n",
      "7.7e-05  Epoch 14/100\n",
      "1363/1363 [==============================] - 100s 74ms/step - loss: 0.7199 - acc: 0.6332 - val_loss: 0.8143 - val_acc: 0.3942\n",
      "7.5e-05  Epoch 15/100\n",
      "1363/1363 [==============================] - 101s 74ms/step - loss: 0.7120 - acc: 0.6332 - val_loss: 0.7844 - val_acc: 0.4149\n",
      "7.4e-05  Epoch 16/100\n",
      "1363/1363 [==============================] - 100s 74ms/step - loss: 0.7367 - acc: 0.6478 - val_loss: 0.7640 - val_acc: 0.4938\n",
      "7.2e-05  Epoch 17/100\n",
      "1363/1363 [==============================] - 100s 74ms/step - loss: 0.7344 - acc: 0.6148 - val_loss: 0.7078 - val_acc: 0.4689\n",
      "7.1e-05  Epoch 18/100\n",
      "1363/1363 [==============================] - 101s 74ms/step - loss: 0.6946 - acc: 0.6471 - val_loss: 0.6674 - val_acc: 0.5768\n",
      "7e-05  Epoch 19/100\n",
      "1363/1363 [==============================] - 100s 74ms/step - loss: 0.6367 - acc: 0.6838 - val_loss: 0.6887 - val_acc: 0.5685\n",
      "6.8e-05  Epoch 20/100\n",
      "1363/1363 [==============================] - 101s 74ms/step - loss: 0.6668 - acc: 0.6691 - val_loss: 0.6659 - val_acc: 0.5726\n",
      "6.7e-05  Epoch 21/100\n",
      "1363/1363 [==============================] - 100s 74ms/step - loss: 0.6411 - acc: 0.6904 - val_loss: 0.6772 - val_acc: 0.5062\n",
      "6.5e-05  Epoch 22/100\n",
      "1363/1363 [==============================] - 101s 74ms/step - loss: 0.6188 - acc: 0.7131 - val_loss: 0.6602 - val_acc: 0.5436\n",
      "6.4e-05  Epoch 23/100\n",
      "1363/1363 [==============================] - 101s 74ms/step - loss: 0.5748 - acc: 0.7344 - val_loss: 0.6265 - val_acc: 0.6929\n",
      "6.3e-05  Epoch 24/100\n",
      "1363/1363 [==============================] - 101s 74ms/step - loss: 0.5669 - acc: 0.7403 - val_loss: 0.9755 - val_acc: 0.4315\n",
      "6.2e-05  Epoch 25/100\n",
      "1363/1363 [==============================] - 100s 74ms/step - loss: 0.5621 - acc: 0.7432 - val_loss: 0.6385 - val_acc: 0.6805\n",
      "6e-05  Epoch 26/100\n",
      "1363/1363 [==============================] - 101s 74ms/step - loss: 0.5681 - acc: 0.7307 - val_loss: 0.6854 - val_acc: 0.5519\n",
      "5.9e-05  Epoch 27/100\n",
      "1363/1363 [==============================] - 100s 74ms/step - loss: 0.5688 - acc: 0.7329 - val_loss: 0.6228 - val_acc: 0.6888\n",
      "5.8e-05  Epoch 28/100\n",
      "1363/1363 [==============================] - 100s 74ms/step - loss: 0.5384 - acc: 0.7601 - val_loss: 0.6933 - val_acc: 0.6017\n",
      "5.7e-05  Epoch 29/100\n",
      "1363/1363 [==============================] - 100s 74ms/step - loss: 0.5450 - acc: 0.7557 - val_loss: 0.5808 - val_acc: 0.7552\n",
      "5.6e-05  Epoch 30/100\n",
      "1363/1363 [==============================] - 100s 74ms/step - loss: 0.5227 - acc: 0.7520 - val_loss: 0.6923 - val_acc: 0.5685\n",
      "5.5e-05  Epoch 31/100\n",
      "1363/1363 [==============================] - 101s 74ms/step - loss: 0.5078 - acc: 0.7792 - val_loss: 0.5117 - val_acc: 0.7759\n",
      "5.3e-05  Epoch 32/100\n",
      "1363/1363 [==============================] - 100s 74ms/step - loss: 0.5254 - acc: 0.7696 - val_loss: 0.6666 - val_acc: 0.6100\n",
      "5.2e-05  Epoch 33/100\n",
      "1363/1363 [==============================] - 100s 74ms/step - loss: 0.4895 - acc: 0.7894 - val_loss: 0.6116 - val_acc: 0.6349\n",
      "5.1e-05  Epoch 34/100\n",
      "1363/1363 [==============================] - 100s 74ms/step - loss: 0.5202 - acc: 0.7887 - val_loss: 0.5166 - val_acc: 0.7842\n",
      "5e-05  Epoch 35/100\n",
      "1363/1363 [==============================] - 100s 74ms/step - loss: 0.4657 - acc: 0.8026 - val_loss: 0.5630 - val_acc: 0.7137\n",
      "5e-05  Epoch 36/100\n",
      "1363/1363 [==============================] - 100s 74ms/step - loss: 0.4997 - acc: 0.7777 - val_loss: 0.5557 - val_acc: 0.7469\n",
      "5e-05  Epoch 37/100\n",
      "1363/1363 [==============================] - 101s 74ms/step - loss: 0.4931 - acc: 0.7777 - val_loss: 0.5567 - val_acc: 0.6929\n",
      "5e-05  Epoch 38/100\n",
      "1363/1363 [==============================] - 101s 74ms/step - loss: 0.4395 - acc: 0.8107 - val_loss: 0.5072 - val_acc: 0.7676\n",
      "5e-05  Epoch 39/100\n",
      "1363/1363 [==============================] - 101s 74ms/step - loss: 0.4440 - acc: 0.7975 - val_loss: 0.6040 - val_acc: 0.6515\n",
      "5e-05  Epoch 40/100\n",
      "1363/1363 [==============================] - 101s 74ms/step - loss: 0.4658 - acc: 0.7953 - val_loss: 0.5074 - val_acc: 0.7718\n",
      "5e-05  Epoch 41/100\n",
      "1363/1363 [==============================] - 100s 74ms/step - loss: 0.4400 - acc: 0.7990 - val_loss: 0.5522 - val_acc: 0.7593\n",
      "5e-05  Epoch 42/100\n",
      "1363/1363 [==============================] - 100s 74ms/step - loss: 0.4560 - acc: 0.8012 - val_loss: 0.5594 - val_acc: 0.7552\n",
      "5e-05  Epoch 43/100\n",
      "1363/1363 [==============================] - 100s 74ms/step - loss: 0.4476 - acc: 0.8107 - val_loss: 0.6752 - val_acc: 0.6141\n",
      "5e-05  Epoch 44/100\n",
      "1363/1363 [==============================] - 101s 74ms/step - loss: 0.4607 - acc: 0.7953 - val_loss: 0.6440 - val_acc: 0.6100\n",
      "5e-05  Epoch 45/100\n",
      "1363/1363 [==============================] - 102s 75ms/step - loss: 0.4707 - acc: 0.8070 - val_loss: 0.6661 - val_acc: 0.6141\n",
      "5e-05  Epoch 46/100\n",
      "1363/1363 [==============================] - 101s 74ms/step - loss: 0.4413 - acc: 0.8173 - val_loss: 0.7100 - val_acc: 0.5560\n",
      "5e-05  Epoch 47/100\n",
      "1363/1363 [==============================] - 101s 74ms/step - loss: 0.4117 - acc: 0.8283 - val_loss: 0.5354 - val_acc: 0.7220\n",
      "5e-05  Epoch 48/100\n",
      "1363/1363 [==============================] - 102s 75ms/step - loss: 0.4130 - acc: 0.8298 - val_loss: 0.7819 - val_acc: 0.5519\n",
      "5e-05  Epoch 49/100\n",
      "1363/1363 [==============================] - 102s 75ms/step - loss: 0.4003 - acc: 0.8357 - val_loss: 0.5549 - val_acc: 0.7220\n",
      "5e-05  Epoch 50/100\n",
      "1363/1363 [==============================] - 101s 74ms/step - loss: 0.3696 - acc: 0.8467 - val_loss: 0.4041 - val_acc: 0.8174\n",
      "5e-05  Epoch 51/100\n",
      "1363/1363 [==============================] - 101s 74ms/step - loss: 0.4110 - acc: 0.8180 - val_loss: 0.4592 - val_acc: 0.8216\n",
      "5e-05  Epoch 52/100\n",
      "1363/1363 [==============================] - 102s 75ms/step - loss: 0.4030 - acc: 0.8269 - val_loss: 0.5194 - val_acc: 0.7676\n",
      "5e-05  Epoch 53/100\n",
      "1363/1363 [==============================] - 101s 74ms/step - loss: 0.3771 - acc: 0.8386 - val_loss: 0.4970 - val_acc: 0.7552\n",
      "5e-05  Epoch 54/100\n",
      "1363/1363 [==============================] - 101s 74ms/step - loss: 0.4232 - acc: 0.8210 - val_loss: 0.6458 - val_acc: 0.7012\n",
      "5e-05  Epoch 55/100\n",
      "1363/1363 [==============================] - 102s 75ms/step - loss: 0.3849 - acc: 0.8379 - val_loss: 0.5867 - val_acc: 0.6971\n",
      "5e-05  Epoch 56/100\n"
     ]
    },
    {
     "name": "stdout",
     "output_type": "stream",
     "text": [
      "1363/1363 [==============================] - 101s 74ms/step - loss: 0.3712 - acc: 0.8401 - val_loss: 0.6193 - val_acc: 0.6888\n",
      "5e-05  Epoch 57/100\n",
      "1363/1363 [==============================] - 101s 74ms/step - loss: 0.3894 - acc: 0.8247 - val_loss: 0.5433 - val_acc: 0.7510\n",
      "5e-05  Epoch 58/100\n",
      "1363/1363 [==============================] - 101s 74ms/step - loss: 0.3600 - acc: 0.8489 - val_loss: 0.4706 - val_acc: 0.8050\n",
      "5e-05  Epoch 59/100\n",
      "1363/1363 [==============================] - 101s 74ms/step - loss: 0.3804 - acc: 0.8525 - val_loss: 0.7449 - val_acc: 0.6722\n",
      "5e-05  Epoch 60/100\n",
      "1363/1363 [==============================] - 101s 74ms/step - loss: 0.3528 - acc: 0.8496 - val_loss: 0.4805 - val_acc: 0.8216\n",
      "5e-05  Epoch 61/100\n",
      "1363/1363 [==============================] - 101s 74ms/step - loss: 0.3969 - acc: 0.8210 - val_loss: 0.7594 - val_acc: 0.6307\n",
      "5e-05  Epoch 62/100\n",
      "1363/1363 [==============================] - 101s 74ms/step - loss: 0.3694 - acc: 0.8459 - val_loss: 1.0160 - val_acc: 0.5602\n",
      "5e-05  Epoch 63/100\n",
      "1363/1363 [==============================] - 101s 74ms/step - loss: 0.3898 - acc: 0.8430 - val_loss: 0.8023 - val_acc: 0.6473\n",
      "5e-05  Epoch 64/100\n",
      "1363/1363 [==============================] - 101s 74ms/step - loss: 0.3891 - acc: 0.8349 - val_loss: 0.5514 - val_acc: 0.7801\n",
      "5e-05  Epoch 65/100\n",
      "1363/1363 [==============================] - 101s 74ms/step - loss: 0.3562 - acc: 0.8555 - val_loss: 0.5062 - val_acc: 0.8133\n",
      "5e-05  Epoch 66/100\n",
      "1363/1363 [==============================] - 101s 74ms/step - loss: 0.3813 - acc: 0.8459 - val_loss: 0.6047 - val_acc: 0.6888\n",
      "5e-05  Epoch 67/100\n",
      "1363/1363 [==============================] - 102s 75ms/step - loss: 0.3596 - acc: 0.8496 - val_loss: 0.5482 - val_acc: 0.7925\n",
      "5e-05  Epoch 68/100\n",
      "1363/1363 [==============================] - 102s 74ms/step - loss: 0.3083 - acc: 0.8767 - val_loss: 0.6293 - val_acc: 0.7012\n",
      "5e-05  Epoch 69/100\n",
      "1363/1363 [==============================] - 102s 75ms/step - loss: 0.3641 - acc: 0.8467 - val_loss: 0.5952 - val_acc: 0.6888\n",
      "5e-05  Epoch 70/100\n",
      "1363/1363 [==============================] - 102s 75ms/step - loss: 0.3466 - acc: 0.8650 - val_loss: 0.6256 - val_acc: 0.6722\n",
      "5e-05  Epoch 71/100\n",
      "1363/1363 [==============================] - 101s 74ms/step - loss: 0.3624 - acc: 0.8621 - val_loss: 0.9505 - val_acc: 0.5436\n",
      "5e-05  Epoch 72/100\n",
      "1363/1363 [==============================] - 102s 74ms/step - loss: 0.3303 - acc: 0.8643 - val_loss: 1.3776 - val_acc: 0.4398\n",
      "5e-05  Epoch 73/100\n",
      "1363/1363 [==============================] - 101s 74ms/step - loss: 0.4077 - acc: 0.8327 - val_loss: 0.6018 - val_acc: 0.6888\n",
      "5e-05  Epoch 74/100\n",
      "1363/1363 [==============================] - 101s 74ms/step - loss: 0.3365 - acc: 0.8643 - val_loss: 0.4690 - val_acc: 0.8340\n",
      "5e-05  Epoch 75/100\n",
      "1363/1363 [==============================] - 101s 74ms/step - loss: 0.3626 - acc: 0.8518 - val_loss: 0.5592 - val_acc: 0.7842\n",
      "5e-05  Epoch 76/100\n",
      "1363/1363 [==============================] - 101s 74ms/step - loss: 0.3411 - acc: 0.8591 - val_loss: 0.5703 - val_acc: 0.7510\n",
      "5e-05  Epoch 77/100\n",
      "1363/1363 [==============================] - 101s 74ms/step - loss: 0.3029 - acc: 0.8819 - val_loss: 0.4046 - val_acc: 0.8382\n",
      "5e-05  Epoch 78/100\n",
      "1363/1363 [==============================] - 101s 74ms/step - loss: 0.3401 - acc: 0.8481 - val_loss: 0.5337 - val_acc: 0.8008\n",
      "5e-05  Epoch 79/100\n",
      "1363/1363 [==============================] - 104s 76ms/step - loss: 0.3097 - acc: 0.8694 - val_loss: 0.4222 - val_acc: 0.8340\n",
      "5e-05  Epoch 80/100\n",
      "1363/1363 [==============================] - 102s 75ms/step - loss: 0.3387 - acc: 0.8628 - val_loss: 1.0992 - val_acc: 0.5519\n",
      "5e-05  Epoch 81/100\n",
      "1363/1363 [==============================] - 101s 74ms/step - loss: 0.3454 - acc: 0.8628 - val_loss: 0.6655 - val_acc: 0.6639\n",
      "5e-05  Epoch 82/100\n",
      "1363/1363 [==============================] - 102s 74ms/step - loss: 0.3134 - acc: 0.8709 - val_loss: 0.5631 - val_acc: 0.7593\n",
      "5e-05  Epoch 83/100\n",
      "1363/1363 [==============================] - 102s 74ms/step - loss: 0.3484 - acc: 0.8577 - val_loss: 0.6050 - val_acc: 0.7220\n",
      "5e-05  Epoch 84/100\n",
      "1363/1363 [==============================] - 101s 74ms/step - loss: 0.2993 - acc: 0.8775 - val_loss: 0.8340 - val_acc: 0.6515\n",
      "5e-05  Epoch 85/100\n",
      "1363/1363 [==============================] - 101s 74ms/step - loss: 0.3302 - acc: 0.8738 - val_loss: 0.9880 - val_acc: 0.5851\n",
      "5e-05  Epoch 86/100\n",
      "1363/1363 [==============================] - 101s 74ms/step - loss: 0.3074 - acc: 0.8841 - val_loss: 0.7577 - val_acc: 0.6805\n",
      "5e-05  Epoch 87/100\n",
      "1363/1363 [==============================] - 101s 74ms/step - loss: 0.3093 - acc: 0.8760 - val_loss: 1.0443 - val_acc: 0.6639\n",
      "5e-05  Epoch 88/100\n",
      "1363/1363 [==============================] - 101s 74ms/step - loss: 0.3048 - acc: 0.8789 - val_loss: 1.7352 - val_acc: 0.4772\n",
      "5e-05  Epoch 89/100\n",
      "1363/1363 [==============================] - 101s 74ms/step - loss: 0.3097 - acc: 0.8826 - val_loss: 0.6762 - val_acc: 0.6680\n",
      "5e-05  Epoch 90/100\n",
      "1363/1363 [==============================] - 101s 74ms/step - loss: 0.3583 - acc: 0.8408 - val_loss: 1.0739 - val_acc: 0.5643\n",
      "5e-05  Epoch 91/100\n",
      "1363/1363 [==============================] - 101s 74ms/step - loss: 0.2922 - acc: 0.8797 - val_loss: 1.0906 - val_acc: 0.5602\n",
      "5e-05  Epoch 92/100\n",
      "1363/1363 [==============================] - 103s 75ms/step - loss: 0.3103 - acc: 0.8650 - val_loss: 1.1231 - val_acc: 0.6266\n",
      "5e-05  Epoch 93/100\n",
      "1363/1363 [==============================] - 102s 75ms/step - loss: 0.2880 - acc: 0.8804 - val_loss: 0.7149 - val_acc: 0.7593\n",
      "5e-05  Epoch 94/100\n",
      "1363/1363 [==============================] - 102s 75ms/step - loss: 0.2839 - acc: 0.8936 - val_loss: 1.4214 - val_acc: 0.4772\n",
      "5e-05  Epoch 95/100\n",
      "1363/1363 [==============================] - 103s 75ms/step - loss: 0.3235 - acc: 0.8694 - val_loss: 0.8236 - val_acc: 0.6473\n",
      "5e-05  Epoch 96/100\n",
      "1363/1363 [==============================] - 102s 75ms/step - loss: 0.2811 - acc: 0.8988 - val_loss: 0.7876 - val_acc: 0.6722\n",
      "5e-05  Epoch 97/100\n",
      "1363/1363 [==============================] - 102s 75ms/step - loss: 0.2910 - acc: 0.8841 - val_loss: 1.0985 - val_acc: 0.5602\n",
      "5e-05  Epoch 98/100\n",
      "1363/1363 [==============================] - 102s 75ms/step - loss: 0.3024 - acc: 0.8716 - val_loss: 1.0246 - val_acc: 0.5602\n",
      "5e-05  Epoch 99/100\n",
      "1363/1363 [==============================] - 102s 75ms/step - loss: 0.3036 - acc: 0.8797 - val_loss: 1.5442 - val_acc: 0.4855\n",
      "5e-05  Epoch 100/100\n",
      "1363/1363 [==============================] - 102s 75ms/step - loss: 0.2911 - acc: 0.8767 - val_loss: 0.6706 - val_acc: 0.7593\n",
      "Wall time: 2h 49min 1s\n"
     ]
    }
   ],
   "source": [
    "%%time\n",
    "hist = model.fit(x_train, y_train, \n",
    "                 batch_size = 8, \n",
    "                 verbose= 1,\n",
    "                 epochs = 100, #1 for ETA, 0 for silent\n",
    "                 validation_data=(x_val, y_val),\n",
    "                 callbacks=[annealer, tensorBoard])"
   ]
  },
  {
   "cell_type": "code",
   "execution_count": 27,
   "metadata": {},
   "outputs": [
    {
     "name": "stdout",
     "output_type": "stream",
     "text": [
      "241/241 [==============================] - 6s 25ms/step\n",
      "Final loss: 0.6706, final accuracy: 0.7593\n"
     ]
    }
   ],
   "source": [
    "final_loss, final_acc = model.evaluate(x_val, y_val, verbose=1)\n",
    "print(\"Final loss: {0:.4f}, final accuracy: {1:.4f}\".format(final_loss, final_acc))"
   ]
  },
  {
   "cell_type": "code",
   "execution_count": 28,
   "metadata": {},
   "outputs": [
    {
     "name": "stdout",
     "output_type": "stream",
     "text": [
      "Val log_loss: 0.6706408442013039\n",
      "Val log_loss: 0.5617150241254029\n"
     ]
    }
   ],
   "source": [
    "val_prob1 = model.predict(x_val)\n",
    "\n",
    "# print('Val log_loss: {}'.format(log_loss(y_val, val_prob1)))\n",
    "val_prob1_limit = np.clip(val_prob1, 0.00005, 0.99995)\n",
    "loss = log_loss(y_val, val_prob1_limit)\n",
    "print('Val log_loss: {}'.format(loss))\n",
    "\n",
    "val_prob1_limit = np.clip(val_prob1_limit, 0.05, 0.95)\n",
    "loss = log_loss(y_val, val_prob1_limit)\n",
    "print('Val log_loss: {}'.format(loss))"
   ]
  },
  {
   "cell_type": "code",
   "execution_count": 29,
   "metadata": {},
   "outputs": [
    {
     "name": "stdout",
     "output_type": "stream",
     "text": [
      "SC_Iceberg_Classifier_CNN_3channel_ResNet_20171108_130111_5617\n"
     ]
    }
   ],
   "source": [
    "final_acc_str = str(int(loss*10000))\n",
    "run_name_acc = project_name + '_' + step_name + '_' + time_str + '_' + final_acc_str\n",
    "print(run_name_acc)"
   ]
  },
  {
   "cell_type": "code",
   "execution_count": 30,
   "metadata": {},
   "outputs": [
    {
     "name": "stdout",
     "output_type": "stream",
     "text": [
      "Index(['acc', 'loss', 'val_acc', 'val_loss', 'epoch'], dtype='object')\n"
     ]
    }
   ],
   "source": [
    "histories = pd.DataFrame(hist.history)\n",
    "histories['epoch'] = hist.epoch\n",
    "print(histories.columns)\n",
    "histories_file = os.path.join(model_path, run_name_acc + '.csv')\n",
    "histories.to_csv(histories_file, index=False)"
   ]
  },
  {
   "cell_type": "code",
   "execution_count": 31,
   "metadata": {},
   "outputs": [
    {
     "data": {
      "image/png": "[encoded data removed]",
      "text/plain": [
       "<matplotlib.figure.Figure at 0x2322832cf60>"
      ]
     },
     "metadata": {},
     "output_type": "display_data"
    },
    {
     "data": {
      "image/png": "[encoded data removed]",
      "text/plain": [
       "<matplotlib.figure.Figure at 0x23231aa20b8>"
      ]
     },
     "metadata": {},
     "output_type": "display_data"
    }
   ],
   "source": [
    "plt.plot(histories['loss'], color='b')\n",
    "plt.plot(histories['val_loss'], color='r')\n",
    "plt.show()\n",
    "plt.plot(histories['acc'], color='b')\n",
    "plt.plot(histories['val_acc'], color='r')\n",
    "plt.show()"
   ]
  },
  {
   "cell_type": "code",
   "execution_count": 32,
   "metadata": {},
   "outputs": [],
   "source": [
    "saveModel(model, run_name_acc)"
   ]
  },
  {
   "cell_type": "markdown",
   "metadata": {},
   "source": [
    "## 3. Predict"
   ]
  },
  {
   "cell_type": "code",
   "execution_count": 33,
   "metadata": {},
   "outputs": [
    {
     "name": "stdout",
     "output_type": "stream",
     "text": [
      "D:\\Kaggle\\Statoil_C_CORE_Iceberg_Classifier_Challenge\\output\\SC_Iceberg_Classifier_CNN_3channel_ResNet_20171108_130111_5617.csv\n"
     ]
    }
   ],
   "source": [
    "if not os.path.exists(output_path):\n",
    "    os.mkdir(output_path)\n",
    "pred_file = os.path.join(output_path, run_name_acc + '.csv')\n",
    "print(pred_file)"
   ]
  },
  {
   "cell_type": "code",
   "execution_count": 34,
   "metadata": {},
   "outputs": [
    {
     "name": "stdout",
     "output_type": "stream",
     "text": [
      "(8424, 1)\n",
      "[[ 0.84966427]\n",
      " [ 0.42031235]]\n",
      "(8424, 1)\n",
      "[[ 0.84966427]\n",
      " [ 0.42031235]]\n"
     ]
    }
   ],
   "source": [
    "test_prob = model.predict(x_test)\n",
    "print(test_prob.shape)\n",
    "print(test_prob[0:2])\n",
    "test_prob = np.clip(test_prob, 0.05, 0.95)\n",
    "print(test_prob.shape)\n",
    "print(test_prob[0:2])"
   ]
  },
  {
   "cell_type": "code",
   "execution_count": 35,
   "metadata": {},
   "outputs": [
    {
     "name": "stdout",
     "output_type": "stream",
     "text": [
      "         id  is_iceberg\n",
      "0  5941774d    0.849664\n",
      "1  4023181e    0.420312\n",
      "(8424, 2)\n"
     ]
    }
   ],
   "source": [
    "sample_submission['is_iceberg'] = test_prob\n",
    "print(sample_submission[0:2])\n",
    "print(sample_submission.shape)\n",
    "sample_submission.to_csv(pred_file, index=False)"
   ]
  },
  {
   "cell_type": "code",
   "execution_count": 36,
   "metadata": {},
   "outputs": [
    {
     "name": "stdout",
     "output_type": "stream",
     "text": [
      "SC_Iceberg_Classifier_CNN_3channel_ResNet_20171108_130111_5617\n",
      "Done!\n"
     ]
    }
   ],
   "source": [
    "print(run_name_acc)\n",
    "print('Done!')"
   ]
  },
  {
   "cell_type": "code",
   "execution_count": null,
   "metadata": {},
   "outputs": [],
   "source": []
  }
 ],
 "metadata": {
  "kernelspec": {
   "display_name": "Python 3",
   "language": "python",
   "name": "python3"
  },
  "language_info": {
   "codemirror_mode": {
    "name": "ipython",
    "version": 3
   },
   "file_extension": ".py",
   "mimetype": "text/x-python",
   "name": "python",
   "nbconvert_exporter": "python",
   "pygments_lexer": "ipython3",
   "version": "3.5.4"
  }
 },
 "nbformat": 4,
 "nbformat_minor": 2
}
