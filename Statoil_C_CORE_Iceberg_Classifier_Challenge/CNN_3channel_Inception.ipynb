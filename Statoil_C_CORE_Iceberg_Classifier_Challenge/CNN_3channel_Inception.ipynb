{
 "cells": [
  {
   "cell_type": "markdown",
   "metadata": {},
   "source": [
    "# CNN_3channel_Inception\n",
    "\n",
    "Abstract:\n",
    "- Conv的kernel_size有(1, 1)和(2, 2)\n",
    "- single channel: band_avg\n",
    "- CNN, small net\n",
    "\n",
    "Result:\n",
    "- Kaggle score: \n",
    "\n",
    "References:\n",
    "- https://www.kaggle.com/ivalmian/simple-svd-xgboost-baseline-lb-35\n",
    "- https://www.kaggle.com/arieltci/a-keras-prototype-0-21174-on-pl"
   ]
  },
  {
   "cell_type": "markdown",
   "metadata": {},
   "source": [
    "## 1. Preprocess"
   ]
  },
  {
   "cell_type": "markdown",
   "metadata": {},
   "source": [
    "### Import pkgs"
   ]
  },
  {
   "cell_type": "code",
   "execution_count": 1,
   "metadata": {
    "collapsed": true
   },
   "outputs": [],
   "source": [
    "import numpy as np\n",
    "import pandas as pd\n",
    "import matplotlib.pyplot as plt\n",
    "import seaborn as sns\n",
    "from sklearn.model_selection import train_test_split\n",
    "from sklearn.ensemble import GradientBoostingClassifier\n",
    "from sklearn.preprocessing import MinMaxScaler\n",
    "from sklearn.metrics import log_loss, accuracy_score\n",
    "from IPython.display import display\n",
    "\n",
    "%matplotlib inline"
   ]
  },
  {
   "cell_type": "code",
   "execution_count": 2,
   "metadata": {
    "collapsed": true
   },
   "outputs": [],
   "source": [
    "import os\n",
    "import time\n",
    "import zipfile\n",
    "import lzma\n",
    "import pickle\n",
    "from PIL import Image\n",
    "from shutil import copy2\n",
    "import gc\n",
    "\n",
    "import cv2"
   ]
  },
  {
   "cell_type": "markdown",
   "metadata": {},
   "source": [
    "### Run name"
   ]
  },
  {
   "cell_type": "code",
   "execution_count": 3,
   "metadata": {},
   "outputs": [
    {
     "name": "stdout",
     "output_type": "stream",
     "text": [
      "run_name: SC_Iceberg_Classifier_CNN_3channel_Inception_20180105_181724\n"
     ]
    }
   ],
   "source": [
    "project_name = 'SC_Iceberg_Classifier'\n",
    "step_name = 'CNN_3channel_Inception'\n",
    "date_str = time.strftime(\"%Y%m%d\", time.localtime())\n",
    "time_str = time.strftime(\"%Y%m%d_%H%M%S\", time.localtime())\n",
    "run_name = project_name + '_' + step_name + '_' + time_str\n",
    "print('run_name: ' + run_name)\n",
    "t0 = time.time()"
   ]
  },
  {
   "cell_type": "markdown",
   "metadata": {},
   "source": [
    "### Basic folders"
   ]
  },
  {
   "cell_type": "code",
   "execution_count": 4,
   "metadata": {},
   "outputs": [
    {
     "name": "stdout",
     "output_type": "stream",
     "text": [
      "input_path: D:\\ref\\Kaggle\\Statoil_C_CORE_Iceberg_Classifier_Challenge\\input\n",
      "log_path: D:\\ref\\Kaggle\\Statoil_C_CORE_Iceberg_Classifier_Challenge\\log\n",
      "model_path: D:\\ref\\Kaggle\\Statoil_C_CORE_Iceberg_Classifier_Challenge\\model\n",
      "output_path: D:\\ref\\Kaggle\\Statoil_C_CORE_Iceberg_Classifier_Challenge\\output\n"
     ]
    }
   ],
   "source": [
    "cwd = os.getcwd()\n",
    "input_path = os.path.join(cwd, 'input')\n",
    "log_path = os.path.join(cwd, 'log')\n",
    "model_path = os.path.join(cwd, 'model')\n",
    "output_path = os.path.join(cwd, 'output')\n",
    "print('input_path: ' + input_path)\n",
    "print('log_path: ' + log_path)\n",
    "print('model_path: ' + model_path)\n",
    "print('output_path: ' + output_path)"
   ]
  },
  {
   "cell_type": "markdown",
   "metadata": {},
   "source": [
    "### Basic functions"
   ]
  },
  {
   "cell_type": "code",
   "execution_count": 5,
   "metadata": {
    "collapsed": true
   },
   "outputs": [],
   "source": [
    "import sys\n",
    "def describe(arr):\n",
    "    print(arr.shape, arr.min(), arr.max(), sys.getsizeof(arr))"
   ]
  },
  {
   "cell_type": "markdown",
   "metadata": {},
   "source": [
    "### Load data"
   ]
  },
  {
   "cell_type": "code",
   "execution_count": 6,
   "metadata": {},
   "outputs": [
    {
     "name": "stdout",
     "output_type": "stream",
     "text": [
      "(8424, 2)\n"
     ]
    },
    {
     "data": {
      "text/html": [
       "<div>\n",
       "<style>\n",
       "    .dataframe thead tr:only-child th {\n",
       "        text-align: right;\n",
       "    }\n",
       "\n",
       "    .dataframe thead th {\n",
       "        text-align: left;\n",
       "    }\n",
       "\n",
       "    .dataframe tbody tr th {\n",
       "        vertical-align: top;\n",
       "    }\n",
       "</style>\n",
       "<table border=\"1\" class=\"dataframe\">\n",
       "  <thead>\n",
       "    <tr style=\"text-align: right;\">\n",
       "      <th></th>\n",
       "      <th>id</th>\n",
       "      <th>is_iceberg</th>\n",
       "    </tr>\n",
       "  </thead>\n",
       "  <tbody>\n",
       "    <tr>\n",
       "      <th>0</th>\n",
       "      <td>5941774d</td>\n",
       "      <td>0.5</td>\n",
       "    </tr>\n",
       "    <tr>\n",
       "      <th>1</th>\n",
       "      <td>4023181e</td>\n",
       "      <td>0.5</td>\n",
       "    </tr>\n",
       "  </tbody>\n",
       "</table>\n",
       "</div>"
      ],
      "text/plain": [
       "         id  is_iceberg\n",
       "0  5941774d         0.5\n",
       "1  4023181e         0.5"
      ]
     },
     "execution_count": 6,
     "metadata": {},
     "output_type": "execute_result"
    }
   ],
   "source": [
    "sample_submission_path = os.path.join(input_path, 'sample_submission.csv')\n",
    "sample_submission = pd.read_csv(sample_submission_path)\n",
    "print(sample_submission.shape)\n",
    "sample_submission.head(2)"
   ]
  },
  {
   "cell_type": "code",
   "execution_count": 7,
   "metadata": {},
   "outputs": [
    {
     "name": "stdout",
     "output_type": "stream",
     "text": [
      "(1604,)\n"
     ]
    }
   ],
   "source": [
    "is_iceberg_path = os.path.join(input_path, 'is_iceberg.p')\n",
    "\n",
    "y_data = pickle.load(open(is_iceberg_path, mode='rb'))\n",
    "\n",
    "print(y_data.shape)"
   ]
  },
  {
   "cell_type": "code",
   "execution_count": 8,
   "metadata": {},
   "outputs": [
    {
     "name": "stdout",
     "output_type": "stream",
     "text": [
      "(1604,)\n",
      "(8424,)\n",
      "Wall time: 1 ms\n"
     ]
    }
   ],
   "source": [
    "%%time\n",
    "#Load orignal data\n",
    "inc_angle_data_path = os.path.join(input_path, 'inc_angle_data.p')\n",
    "inc_angle_test_path = os.path.join(input_path, 'inc_angle_test.p')\n",
    "\n",
    "inc_angle_data = pickle.load(open(inc_angle_data_path, mode='rb'))\n",
    "inc_angle_test = pickle.load(open(inc_angle_test_path, mode='rb'))\n",
    "\n",
    "print(inc_angle_data.shape)\n",
    "print(inc_angle_test.shape)"
   ]
  },
  {
   "cell_type": "code",
   "execution_count": 9,
   "metadata": {},
   "outputs": [
    {
     "name": "stdout",
     "output_type": "stream",
     "text": [
      "(1604, 75, 75) 0.0 1.0 128\n",
      "(1604, 75, 75) 0.0 1.0 128\n",
      "(8424, 75, 75) 0.0 1.0 128\n",
      "(8424, 75, 75) 0.0 1.0 128\n",
      "(1604, 75, 75) 0.0114754206838 1.0 72180128\n",
      "(8424, 75, 75) 0.0 1.0 379080128\n",
      "Wall time: 1.28 s\n"
     ]
    }
   ],
   "source": [
    "%%time\n",
    "#Load orignal data\n",
    "band1_data_path = os.path.join(input_path, 'band1_data_gray.p')\n",
    "band2_data_path = os.path.join(input_path, 'band2_data_gray.p')\n",
    "band1_test_path = os.path.join(input_path, 'band1_test_gray.p')\n",
    "band2_test_path = os.path.join(input_path, 'band2_test_gray.p')\n",
    "\n",
    "band1_data = pickle.load(open(band1_data_path, mode='rb'))\n",
    "band2_data = pickle.load(open(band2_data_path, mode='rb'))\n",
    "band1_test = pickle.load(open(band1_test_path, mode='rb'))\n",
    "band2_test = pickle.load(open(band2_test_path, mode='rb'))\n",
    "\n",
    "band_avg_data = (band1_data + band2_data)/2\n",
    "band_avg_test = (band1_test + band2_test)/2\n",
    "\n",
    "describe(band1_data)\n",
    "describe(band2_data)\n",
    "describe(band1_test)\n",
    "describe(band2_test)\n",
    "\n",
    "describe(band_avg_data)\n",
    "describe(band_avg_test)"
   ]
  },
  {
   "cell_type": "code",
   "execution_count": 10,
   "metadata": {},
   "outputs": [
    {
     "name": "stdout",
     "output_type": "stream",
     "text": [
      "(1604, 75, 75, 3) 0.0 1.0 216540144\n",
      "(8424, 75, 75, 3) 0.0 1.0 1137240144\n",
      "Wall time: 1.05 s\n"
     ]
    }
   ],
   "source": [
    "%%time\n",
    "x_data = np.concatenate([band1_data[:, :, :, np.newaxis],\n",
    "                         band2_data[:, :, :, np.newaxis],\n",
    "                         band_avg_data[:, :, :, np.newaxis]], axis=-1)\n",
    "describe(x_data)\n",
    "del band1_data\n",
    "del band2_data\n",
    "del band_avg_data\n",
    "gc.collect()\n",
    "x_test = np.concatenate([band1_test[:, :, :, np.newaxis],\n",
    "                         band2_test[:, :, :, np.newaxis],\n",
    "                         band_avg_test[:, :, :, np.newaxis]], axis=-1)\n",
    "describe(x_test)\n",
    "del band1_test\n",
    "del band2_test\n",
    "del band_avg_test\n",
    "gc.collect()"
   ]
  },
  {
   "cell_type": "code",
   "execution_count": 11,
   "metadata": {},
   "outputs": [
    {
     "name": "stdout",
     "output_type": "stream",
     "text": [
      "(1443, 75, 75, 3) 0.0 1.0 194805144\n",
      "(161, 75, 75, 3) 0.0 1.0 21735144\n",
      "(1443,) 0.0 45.9375 23112\n",
      "(161,) 0.0 45.2814 2600\n",
      "(1443,) 0 1 23112\n",
      "(161,) 0 1 2600\n",
      "Wall time: 114 ms\n"
     ]
    }
   ],
   "source": [
    "%%time\n",
    "x_train, x_val, inc_angle_train, inc_angle_val, y_train, y_val = train_test_split(x_data, inc_angle_data, y_data, test_size=0.1, random_state=31)\n",
    "describe(x_train)\n",
    "describe(x_val)\n",
    "describe(inc_angle_train)\n",
    "describe(inc_angle_val)\n",
    "describe(y_train)\n",
    "describe(y_val)"
   ]
  },
  {
   "cell_type": "code",
   "execution_count": 12,
   "metadata": {},
   "outputs": [
    {
     "name": "stdout",
     "output_type": "stream",
     "text": [
      "(4812, 75, 75, 3) 0.0 1.0 649620144\n",
      "(1604,) 0 1 12936\n",
      "(4812,) 0 1 38592\n",
      "Wall time: 1.01 s\n"
     ]
    }
   ],
   "source": [
    "%%time\n",
    "def aug(arr):\n",
    "    ah = np.zeros((arr.shape))\n",
    "    av = np.zeros((arr.shape))\n",
    "    ahv = np.zeros((arr.shape))\n",
    "    for i, a in enumerate(arr):\n",
    "        ah[i] = cv2.flip(a, 0)\n",
    "        av[i] = cv2.flip(a, 1)\n",
    "        ahv[i] = cv2.flip(a, -1)\n",
    "    return np.concatenate([arr, ah, av], axis = 0)\n",
    "\n",
    "x_data = aug(x_data)\n",
    "describe(x_data)\n",
    "\n",
    "describe(y_data)\n",
    "y_data = np.concatenate([y_data, y_data.copy(), y_data.copy()], axis = 0)\n",
    "describe(y_data)"
   ]
  },
  {
   "cell_type": "markdown",
   "metadata": {},
   "source": [
    "## 2. Build model"
   ]
  },
  {
   "cell_type": "code",
   "execution_count": 13,
   "metadata": {},
   "outputs": [
    {
     "name": "stderr",
     "output_type": "stream",
     "text": [
      "Using TensorFlow backend.\n"
     ]
    }
   ],
   "source": [
    "from keras.utils.np_utils import to_categorical # convert to one-hot-encoding\n",
    "from keras.models import Sequential, Model\n",
    "from keras.layers import Dense, Dropout, Flatten, Conv2D, MaxPooling2D, GlobalMaxPooling2D, BatchNormalization, Input\n",
    "from keras.layers.merge import Concatenate\n",
    "from keras.optimizers import Adam\n",
    "from keras.preprocessing.image import ImageDataGenerator\n",
    "from keras.callbacks import LearningRateScheduler, TensorBoard"
   ]
  },
  {
   "cell_type": "code",
   "execution_count": 14,
   "metadata": {
    "collapsed": true
   },
   "outputs": [],
   "source": [
    "def build_model():\n",
    "    bn_model = 0\n",
    "    p_activation = \"relu\"\n",
    "    input_1 = Input(shape=(75, 75, 3), name=\"bands\")\n",
    "    \n",
    "    img_1 = Conv2D(8, kernel_size = (1,1), activation=p_activation, padding='same')(input_1)\n",
    "    img_1 = BatchNormalization()(img_1)\n",
    "    img_1 = Conv2D(8, kernel_size = (1,1), activation=p_activation, padding='same') (img_1)\n",
    "    img_1 = BatchNormalization()(img_1)\n",
    "    img_1 = MaxPooling2D((2,2)) (img_1)\n",
    "    img_1 = Dropout(0.4)(img_1)\n",
    "    \n",
    "    img_2 = Conv2D(8, kernel_size = (2,2), activation=p_activation, padding='same')(input_1)\n",
    "    img_2 = BatchNormalization()(img_2)\n",
    "    img_2 = Conv2D(8, kernel_size = (2,2), activation=p_activation, padding='same') (img_2)\n",
    "    img_2 = BatchNormalization()(img_2)\n",
    "    img_2 = MaxPooling2D((2,2)) (img_2)\n",
    "    img_2 = Dropout(0.4)(img_2)\n",
    "    \n",
    "    img_3 = Conv2D(8, kernel_size = (5,5), activation=p_activation, padding='same')(input_1)\n",
    "    img_3 = BatchNormalization()(img_3)\n",
    "    img_3 = Conv2D(8, kernel_size = (5,5), activation=p_activation, padding='same') (img_3)\n",
    "    img_3 = BatchNormalization()(img_3)\n",
    "    img_3 = MaxPooling2D((2,2)) (img_3)\n",
    "    img_3 = Dropout(0.4)(img_3)\n",
    "    \n",
    "    concat_layer = (Concatenate()([img_1, img_2, img_3]))\n",
    "#############################################################################################\n",
    "    img_1 = Conv2D(16, kernel_size = (3,3), activation=p_activation)(concat_layer)\n",
    "    img_1 = BatchNormalization()(img_1)\n",
    "    img_1 = Conv2D(16, kernel_size = (3,3), activation=p_activation) (img_1)\n",
    "    img_1 = BatchNormalization()(img_1)\n",
    "    img_1 = MaxPooling2D((2,2)) (img_1)\n",
    "    img_1 = Dropout(0.4)(img_1)\n",
    "#############################################################################################\n",
    "    img_1 = Conv2D(32, kernel_size = (3,3), activation=p_activation)(img_1)\n",
    "    img_1 = BatchNormalization()(img_1)\n",
    "    img_1 = Conv2D(32, kernel_size = (3,3), activation=p_activation) (img_1)\n",
    "    img_1 = BatchNormalization()(img_1)\n",
    "    img_1 = MaxPooling2D((2,2)) (img_1)\n",
    "    img_1 = Dropout(0.4)(img_1)\n",
    "#############################################################################################\n",
    "    img_1 = GlobalMaxPooling2D() (img_1)\n",
    "\n",
    "    dense_ayer = Dense(1024, activation=p_activation)(img_1)\n",
    "#     dense_ayer = BatchNormalization()(dense_ayer)\n",
    "    dense_ayer = Dropout(0.4)(dense_ayer)\n",
    "    dense_ayer = Dense(1024, activation=p_activation)(dense_ayer)\n",
    "    dense_ayer = Dropout(0.4)(dense_ayer)\n",
    "    dense_ayer = Dense(128, activation=p_activation)(dense_ayer)\n",
    "    dense_ayer = Dropout(0.4)(dense_ayer)\n",
    "    output = Dense(1, activation=\"sigmoid\")(dense_ayer)\n",
    "    \n",
    "    model = Model(input_1, output)\n",
    "#     optimizer = Adam(lr=0.001, beta_1=0.9, beta_2=0.999, epsilon=1e-08, decay=0.0)\n",
    "    model.compile(optimizer = Adam(lr=1e-4), loss = 'binary_crossentropy', metrics = ['accuracy'])\n",
    "    return model"
   ]
  },
  {
   "cell_type": "code",
   "execution_count": 15,
   "metadata": {},
   "outputs": [
    {
     "name": "stdout",
     "output_type": "stream",
     "text": [
      "__________________________________________________________________________________________________\n",
      "Layer (type)                    Output Shape         Param #     Connected to                     \n",
      "==================================================================================================\n",
      "bands (InputLayer)              (None, 75, 75, 3)    0                                            \n",
      "__________________________________________________________________________________________________\n",
      "conv2d_1 (Conv2D)               (None, 75, 75, 8)    32          bands[0][0]                      \n",
      "__________________________________________________________________________________________________\n",
      "conv2d_3 (Conv2D)               (None, 75, 75, 8)    104         bands[0][0]                      \n",
      "__________________________________________________________________________________________________\n",
      "conv2d_5 (Conv2D)               (None, 75, 75, 8)    608         bands[0][0]                      \n",
      "__________________________________________________________________________________________________\n",
      "batch_normalization_1 (BatchNor (None, 75, 75, 8)    32          conv2d_1[0][0]                   \n",
      "__________________________________________________________________________________________________\n",
      "batch_normalization_3 (BatchNor (None, 75, 75, 8)    32          conv2d_3[0][0]                   \n",
      "__________________________________________________________________________________________________\n",
      "batch_normalization_5 (BatchNor (None, 75, 75, 8)    32          conv2d_5[0][0]                   \n",
      "__________________________________________________________________________________________________\n",
      "conv2d_2 (Conv2D)               (None, 75, 75, 8)    72          batch_normalization_1[0][0]      \n",
      "__________________________________________________________________________________________________\n",
      "conv2d_4 (Conv2D)               (None, 75, 75, 8)    264         batch_normalization_3[0][0]      \n",
      "__________________________________________________________________________________________________\n",
      "conv2d_6 (Conv2D)               (None, 75, 75, 8)    1608        batch_normalization_5[0][0]      \n",
      "__________________________________________________________________________________________________\n",
      "batch_normalization_2 (BatchNor (None, 75, 75, 8)    32          conv2d_2[0][0]                   \n",
      "__________________________________________________________________________________________________\n",
      "batch_normalization_4 (BatchNor (None, 75, 75, 8)    32          conv2d_4[0][0]                   \n",
      "__________________________________________________________________________________________________\n",
      "batch_normalization_6 (BatchNor (None, 75, 75, 8)    32          conv2d_6[0][0]                   \n",
      "__________________________________________________________________________________________________\n",
      "max_pooling2d_1 (MaxPooling2D)  (None, 37, 37, 8)    0           batch_normalization_2[0][0]      \n",
      "__________________________________________________________________________________________________\n",
      "max_pooling2d_2 (MaxPooling2D)  (None, 37, 37, 8)    0           batch_normalization_4[0][0]      \n",
      "__________________________________________________________________________________________________\n",
      "max_pooling2d_3 (MaxPooling2D)  (None, 37, 37, 8)    0           batch_normalization_6[0][0]      \n",
      "__________________________________________________________________________________________________\n",
      "dropout_1 (Dropout)             (None, 37, 37, 8)    0           max_pooling2d_1[0][0]            \n",
      "__________________________________________________________________________________________________\n",
      "dropout_2 (Dropout)             (None, 37, 37, 8)    0           max_pooling2d_2[0][0]            \n",
      "__________________________________________________________________________________________________\n",
      "dropout_3 (Dropout)             (None, 37, 37, 8)    0           max_pooling2d_3[0][0]            \n",
      "__________________________________________________________________________________________________\n",
      "concatenate_1 (Concatenate)     (None, 37, 37, 24)   0           dropout_1[0][0]                  \n",
      "                                                                 dropout_2[0][0]                  \n",
      "                                                                 dropout_3[0][0]                  \n",
      "__________________________________________________________________________________________________\n",
      "conv2d_7 (Conv2D)               (None, 35, 35, 16)   3472        concatenate_1[0][0]              \n",
      "__________________________________________________________________________________________________\n",
      "batch_normalization_7 (BatchNor (None, 35, 35, 16)   64          conv2d_7[0][0]                   \n",
      "__________________________________________________________________________________________________\n",
      "conv2d_8 (Conv2D)               (None, 33, 33, 16)   2320        batch_normalization_7[0][0]      \n",
      "__________________________________________________________________________________________________\n",
      "batch_normalization_8 (BatchNor (None, 33, 33, 16)   64          conv2d_8[0][0]                   \n",
      "__________________________________________________________________________________________________\n",
      "max_pooling2d_4 (MaxPooling2D)  (None, 16, 16, 16)   0           batch_normalization_8[0][0]      \n",
      "__________________________________________________________________________________________________\n",
      "dropout_4 (Dropout)             (None, 16, 16, 16)   0           max_pooling2d_4[0][0]            \n",
      "__________________________________________________________________________________________________\n",
      "conv2d_9 (Conv2D)               (None, 14, 14, 32)   4640        dropout_4[0][0]                  \n",
      "__________________________________________________________________________________________________\n",
      "batch_normalization_9 (BatchNor (None, 14, 14, 32)   128         conv2d_9[0][0]                   \n",
      "__________________________________________________________________________________________________\n",
      "conv2d_10 (Conv2D)              (None, 12, 12, 32)   9248        batch_normalization_9[0][0]      \n",
      "__________________________________________________________________________________________________\n",
      "batch_normalization_10 (BatchNo (None, 12, 12, 32)   128         conv2d_10[0][0]                  \n",
      "__________________________________________________________________________________________________\n",
      "max_pooling2d_5 (MaxPooling2D)  (None, 6, 6, 32)     0           batch_normalization_10[0][0]     \n",
      "__________________________________________________________________________________________________\n",
      "dropout_5 (Dropout)             (None, 6, 6, 32)     0           max_pooling2d_5[0][0]            \n",
      "__________________________________________________________________________________________________\n",
      "global_max_pooling2d_1 (GlobalM (None, 32)           0           dropout_5[0][0]                  \n",
      "__________________________________________________________________________________________________\n",
      "dense_1 (Dense)                 (None, 1024)         33792       global_max_pooling2d_1[0][0]     \n",
      "__________________________________________________________________________________________________\n",
      "dropout_6 (Dropout)             (None, 1024)         0           dense_1[0][0]                    \n",
      "__________________________________________________________________________________________________\n",
      "dense_2 (Dense)                 (None, 1024)         1049600     dropout_6[0][0]                  \n",
      "__________________________________________________________________________________________________\n",
      "dropout_7 (Dropout)             (None, 1024)         0           dense_2[0][0]                    \n",
      "__________________________________________________________________________________________________\n",
      "dense_3 (Dense)                 (None, 128)          131200      dropout_7[0][0]                  \n",
      "__________________________________________________________________________________________________\n",
      "dropout_8 (Dropout)             (None, 128)          0           dense_3[0][0]                    \n",
      "__________________________________________________________________________________________________\n",
      "dense_4 (Dense)                 (None, 1)            129         dropout_8[0][0]                  \n",
      "==================================================================================================\n",
      "Total params: 1,237,665\n",
      "Trainable params: 1,237,377\n",
      "Non-trainable params: 288\n",
      "__________________________________________________________________________________________________\n"
     ]
    }
   ],
   "source": [
    "model = build_model()\n",
    "model.summary()"
   ]
  },
  {
   "cell_type": "code",
   "execution_count": 16,
   "metadata": {
    "collapsed": true
   },
   "outputs": [],
   "source": [
    "def saveModel(model, run_name):\n",
    "    cwd = os.getcwd()\n",
    "    modelPath = os.path.join(cwd, 'model')\n",
    "    if not os.path.isdir(modelPath):\n",
    "        os.mkdir(modelPath)\n",
    "    weigthsFile = os.path.join(modelPath, run_name + '.h5')\n",
    "    model.save(weigthsFile)\n",
    "saveModel(model, 'saveModel_test')"
   ]
  },
  {
   "cell_type": "code",
   "execution_count": 17,
   "metadata": {},
   "outputs": [
    {
     "name": "stdout",
     "output_type": "stream",
     "text": [
      "log_dir:D:\\ref\\Kaggle\\Statoil_C_CORE_Iceberg_Classifier_Challenge\\log\\SC_Iceberg_Classifier_CNN_3channel_Inception_20180105_181724\n"
     ]
    }
   ],
   "source": [
    "def get_lr(x):\n",
    "    lr = round(1e-4 * 0.99 ** x, 6)\n",
    "    if lr < 5e-5:\n",
    "        lr = 5e-5\n",
    "    print(lr, end='  ')\n",
    "    return lr\n",
    "\n",
    "# annealer = LearningRateScheduler(lambda x: 1e-3 * 0.9 ** x)\n",
    "annealer = LearningRateScheduler(get_lr)\n",
    "\n",
    "log_dir = os.path.join(log_path, run_name)\n",
    "print('log_dir:' + log_dir)\n",
    "tensorBoard = TensorBoard(log_dir=log_dir)"
   ]
  },
  {
   "cell_type": "code",
   "execution_count": 18,
   "metadata": {
    "collapsed": true
   },
   "outputs": [],
   "source": [
    "datagen = ImageDataGenerator(\n",
    "#     rotation_range=10,\n",
    "#     width_shift_range=0.2,\n",
    "#     height_shift_range=0.2,\n",
    "#     horizontal_flip=True,\n",
    "#     vertical_flip=True\n",
    ")"
   ]
  },
  {
   "cell_type": "code",
   "execution_count": 19,
   "metadata": {
    "collapsed": true
   },
   "outputs": [],
   "source": [
    "# %%time\n",
    "# batch_size = 128\n",
    "# # steps_per_epoch = 1 * len(x_train) / batch_size\n",
    "# hist = model.fit_generator(datagen.flow(x_train, y_train, batch_size=batch_size, shuffle = True),\n",
    "#                            steps_per_epoch=100, \n",
    "#                            epochs = 50, #1 for ETA, 0 for silent\n",
    "#                            verbose= 1,\n",
    "#                            max_queue_size= 16, \n",
    "#                            workers= 8,\n",
    "#                            validation_data=(x_val, y_val))"
   ]
  },
  {
   "cell_type": "code",
   "execution_count": 20,
   "metadata": {},
   "outputs": [
    {
     "name": "stdout",
     "output_type": "stream",
     "text": [
      "Train on 1443 samples, validate on 161 samples\n",
      "Epoch 1/200\n",
      "1443/1443 [==============================] - 5s 3ms/step - loss: 0.9045 - acc: 0.5128 - val_loss: 0.6928 - val_acc: 0.5466\n",
      "Epoch 2/200\n",
      "1443/1443 [==============================] - 1s 1ms/step - loss: 0.7917 - acc: 0.5246 - val_loss: 0.6929 - val_acc: 0.5466\n",
      "Epoch 3/200\n",
      "1443/1443 [==============================] - 1s 1ms/step - loss: 0.7407 - acc: 0.5371 - val_loss: 0.6928 - val_acc: 0.5466\n",
      "Epoch 4/200\n",
      "1443/1443 [==============================] - 1s 1ms/step - loss: 0.7093 - acc: 0.5350 - val_loss: 0.6927 - val_acc: 0.5466\n",
      "Epoch 5/200\n",
      "1443/1443 [==============================] - 1s 1ms/step - loss: 0.7080 - acc: 0.5398 - val_loss: 0.6930 - val_acc: 0.5466\n",
      "Epoch 6/200\n",
      "1443/1443 [==============================] - 1s 1ms/step - loss: 0.6537 - acc: 0.6147 - val_loss: 0.6928 - val_acc: 0.5466\n",
      "Epoch 7/200\n",
      "1443/1443 [==============================] - 1s 1ms/step - loss: 0.6425 - acc: 0.6154 - val_loss: 0.6924 - val_acc: 0.6149\n",
      "Epoch 8/200\n",
      "1443/1443 [==============================] - 1s 1ms/step - loss: 0.6174 - acc: 0.6535 - val_loss: 0.6922 - val_acc: 0.5093\n",
      "Epoch 9/200\n",
      "1443/1443 [==============================] - 1s 1ms/step - loss: 0.5991 - acc: 0.6577 - val_loss: 0.6923 - val_acc: 0.4845\n",
      "Epoch 10/200\n",
      "1443/1443 [==============================] - 1s 1ms/step - loss: 0.5888 - acc: 0.6715 - val_loss: 0.6924 - val_acc: 0.4534\n",
      "Epoch 11/200\n",
      "1443/1443 [==============================] - 1s 1ms/step - loss: 0.5971 - acc: 0.6791 - val_loss: 0.6919 - val_acc: 0.4534\n",
      "Epoch 12/200\n",
      "1443/1443 [==============================] - 1s 1ms/step - loss: 0.5733 - acc: 0.6660 - val_loss: 0.6913 - val_acc: 0.4596\n",
      "Epoch 13/200\n",
      "1443/1443 [==============================] - 1s 1ms/step - loss: 0.5727 - acc: 0.6985 - val_loss: 0.6898 - val_acc: 0.4907\n",
      "Epoch 14/200\n",
      "1443/1443 [==============================] - 1s 1ms/step - loss: 0.5932 - acc: 0.6771 - val_loss: 0.6876 - val_acc: 0.5280\n",
      "Epoch 15/200\n",
      "1443/1443 [==============================] - 1s 1ms/step - loss: 0.5704 - acc: 0.6895 - val_loss: 0.6823 - val_acc: 0.5901\n",
      "Epoch 16/200\n",
      "1443/1443 [==============================] - 1s 1ms/step - loss: 0.5585 - acc: 0.7006 - val_loss: 0.6803 - val_acc: 0.5839\n",
      "Epoch 17/200\n",
      "1443/1443 [==============================] - 1s 1ms/step - loss: 0.5591 - acc: 0.6985 - val_loss: 0.6708 - val_acc: 0.5963\n",
      "Epoch 18/200\n",
      "1443/1443 [==============================] - 1s 1ms/step - loss: 0.5642 - acc: 0.6930 - val_loss: 0.6638 - val_acc: 0.6273\n",
      "Epoch 19/200\n",
      "1443/1443 [==============================] - 1s 1ms/step - loss: 0.5457 - acc: 0.7166 - val_loss: 0.6533 - val_acc: 0.6211\n",
      "Epoch 20/200\n",
      "1443/1443 [==============================] - 1s 1ms/step - loss: 0.5406 - acc: 0.7207 - val_loss: 0.6423 - val_acc: 0.6708\n",
      "Epoch 21/200\n",
      "1443/1443 [==============================] - 1s 1ms/step - loss: 0.5198 - acc: 0.7304 - val_loss: 0.6232 - val_acc: 0.6957\n",
      "Epoch 22/200\n",
      "1443/1443 [==============================] - 1s 1ms/step - loss: 0.5366 - acc: 0.7256 - val_loss: 0.6169 - val_acc: 0.6770\n",
      "Epoch 23/200\n",
      "1443/1443 [==============================] - 1s 1ms/step - loss: 0.5305 - acc: 0.7228 - val_loss: 0.6092 - val_acc: 0.6770\n",
      "Epoch 24/200\n",
      "1443/1443 [==============================] - 1s 1ms/step - loss: 0.5120 - acc: 0.7380 - val_loss: 0.5985 - val_acc: 0.6770\n",
      "Epoch 25/200\n",
      "1443/1443 [==============================] - 1s 1ms/step - loss: 0.5061 - acc: 0.7484 - val_loss: 0.5775 - val_acc: 0.6894\n",
      "Epoch 26/200\n",
      "1443/1443 [==============================] - 1s 1ms/step - loss: 0.4916 - acc: 0.7436 - val_loss: 0.5737 - val_acc: 0.6832\n",
      "Epoch 27/200\n",
      "1443/1443 [==============================] - 1s 1ms/step - loss: 0.5001 - acc: 0.7429 - val_loss: 0.5608 - val_acc: 0.7143\n",
      "Epoch 28/200\n",
      "1443/1443 [==============================] - 1s 1ms/step - loss: 0.4816 - acc: 0.7512 - val_loss: 0.5615 - val_acc: 0.6832\n",
      "Epoch 29/200\n",
      "1443/1443 [==============================] - 1s 1ms/step - loss: 0.4807 - acc: 0.7512 - val_loss: 0.5615 - val_acc: 0.6894\n",
      "Epoch 30/200\n",
      "1443/1443 [==============================] - 1s 1ms/step - loss: 0.4811 - acc: 0.7512 - val_loss: 0.5698 - val_acc: 0.6584\n",
      "Epoch 31/200\n",
      "1443/1443 [==============================] - 1s 1ms/step - loss: 0.4744 - acc: 0.7602 - val_loss: 0.5650 - val_acc: 0.6584\n",
      "Epoch 32/200\n",
      "1443/1443 [==============================] - 1s 1ms/step - loss: 0.4682 - acc: 0.7616 - val_loss: 0.5533 - val_acc: 0.6584\n",
      "Epoch 33/200\n",
      "1443/1443 [==============================] - 1s 1ms/step - loss: 0.4415 - acc: 0.7706 - val_loss: 0.5299 - val_acc: 0.7019\n",
      "Epoch 34/200\n",
      "1443/1443 [==============================] - 1s 1ms/step - loss: 0.4577 - acc: 0.7692 - val_loss: 0.5123 - val_acc: 0.7205\n",
      "Epoch 35/200\n",
      "1443/1443 [==============================] - 1s 1ms/step - loss: 0.4383 - acc: 0.7748 - val_loss: 0.5087 - val_acc: 0.7329\n",
      "Epoch 36/200\n",
      "1443/1443 [==============================] - 1s 1ms/step - loss: 0.4403 - acc: 0.7706 - val_loss: 0.5225 - val_acc: 0.7081\n",
      "Epoch 37/200\n",
      "1443/1443 [==============================] - 1s 1ms/step - loss: 0.4329 - acc: 0.7900 - val_loss: 0.4821 - val_acc: 0.7329\n",
      "Epoch 38/200\n",
      "1443/1443 [==============================] - 1s 1ms/step - loss: 0.3992 - acc: 0.7893 - val_loss: 0.4653 - val_acc: 0.7888\n",
      "Epoch 39/200\n",
      "1443/1443 [==============================] - 1s 1ms/step - loss: 0.4156 - acc: 0.7893 - val_loss: 0.4548 - val_acc: 0.7950\n",
      "Epoch 40/200\n",
      "1443/1443 [==============================] - 1s 1ms/step - loss: 0.4128 - acc: 0.7921 - val_loss: 0.4514 - val_acc: 0.7888\n",
      "Epoch 41/200\n",
      "1443/1443 [==============================] - 2s 1ms/step - loss: 0.4082 - acc: 0.7775 - val_loss: 0.4600 - val_acc: 0.7702\n",
      "Epoch 42/200\n",
      "1443/1443 [==============================] - 1s 1ms/step - loss: 0.4121 - acc: 0.7935 - val_loss: 0.4651 - val_acc: 0.7453\n",
      "Epoch 43/200\n",
      "1443/1443 [==============================] - 1s 1ms/step - loss: 0.3989 - acc: 0.7956 - val_loss: 0.4372 - val_acc: 0.8075\n",
      "Epoch 44/200\n",
      "1443/1443 [==============================] - 1s 1ms/step - loss: 0.4058 - acc: 0.7879 - val_loss: 0.4488 - val_acc: 0.7950\n",
      "Epoch 45/200\n",
      "1443/1443 [==============================] - 1s 1ms/step - loss: 0.3917 - acc: 0.8094 - val_loss: 0.4616 - val_acc: 0.7702\n",
      "Epoch 46/200\n",
      "1443/1443 [==============================] - 1s 1ms/step - loss: 0.3978 - acc: 0.7942 - val_loss: 0.4734 - val_acc: 0.7888\n",
      "Epoch 47/200\n",
      "1443/1443 [==============================] - 1s 998us/step - loss: 0.3769 - acc: 0.8087 - val_loss: 0.4895 - val_acc: 0.7578\n",
      "Epoch 48/200\n",
      "1443/1443 [==============================] - 1s 1ms/step - loss: 0.3803 - acc: 0.8177 - val_loss: 0.4848 - val_acc: 0.7826\n",
      "Epoch 49/200\n",
      "1443/1443 [==============================] - 1s 1ms/step - loss: 0.3908 - acc: 0.8032 - val_loss: 0.4933 - val_acc: 0.7888\n",
      "Epoch 50/200\n",
      "1443/1443 [==============================] - 1s 1ms/step - loss: 0.3942 - acc: 0.7956 - val_loss: 0.4782 - val_acc: 0.7888\n",
      "Epoch 51/200\n",
      "1443/1443 [==============================] - 1s 999us/step - loss: 0.3747 - acc: 0.8177 - val_loss: 0.4390 - val_acc: 0.8261\n",
      "Epoch 52/200\n",
      "1443/1443 [==============================] - 1s 1ms/step - loss: 0.3723 - acc: 0.8170 - val_loss: 0.4348 - val_acc: 0.8261\n",
      "Epoch 53/200\n",
      "1443/1443 [==============================] - 1s 998us/step - loss: 0.3636 - acc: 0.8115 - val_loss: 0.4321 - val_acc: 0.8012\n",
      "Epoch 54/200\n",
      "1443/1443 [==============================] - 1s 1ms/step - loss: 0.3675 - acc: 0.8157 - val_loss: 0.4289 - val_acc: 0.8075\n",
      "Epoch 55/200\n",
      "1443/1443 [==============================] - 1s 1ms/step - loss: 0.3800 - acc: 0.8136 - val_loss: 0.4411 - val_acc: 0.8012\n",
      "Epoch 56/200\n",
      "1443/1443 [==============================] - 1s 1ms/step - loss: 0.3686 - acc: 0.8233 - val_loss: 0.4451 - val_acc: 0.8199\n",
      "Epoch 57/200\n",
      "1443/1443 [==============================] - 1s 1ms/step - loss: 0.3862 - acc: 0.8011 - val_loss: 0.4465 - val_acc: 0.8323\n",
      "Epoch 58/200\n",
      "1443/1443 [==============================] - 1s 1ms/step - loss: 0.3376 - acc: 0.8378 - val_loss: 0.4165 - val_acc: 0.8199\n",
      "Epoch 59/200\n",
      "1443/1443 [==============================] - 1s 1ms/step - loss: 0.3479 - acc: 0.8274 - val_loss: 0.4034 - val_acc: 0.8199\n",
      "Epoch 60/200\n",
      "1443/1443 [==============================] - 1s 1ms/step - loss: 0.3603 - acc: 0.8254 - val_loss: 0.3955 - val_acc: 0.8323\n"
     ]
    },
    {
     "name": "stdout",
     "output_type": "stream",
     "text": [
      "Epoch 61/200\n",
      "1443/1443 [==============================] - 2s 1ms/step - loss: 0.3537 - acc: 0.8267 - val_loss: 0.4051 - val_acc: 0.8323\n",
      "Epoch 62/200\n",
      "1443/1443 [==============================] - 1s 1ms/step - loss: 0.3439 - acc: 0.8274 - val_loss: 0.4174 - val_acc: 0.8075\n",
      "Epoch 63/200\n",
      "1443/1443 [==============================] - 1s 1ms/step - loss: 0.3525 - acc: 0.8254 - val_loss: 0.4343 - val_acc: 0.7950\n",
      "Epoch 64/200\n",
      "1443/1443 [==============================] - 1s 1ms/step - loss: 0.3447 - acc: 0.8344 - val_loss: 0.4143 - val_acc: 0.8075\n",
      "Epoch 65/200\n",
      "1443/1443 [==============================] - 1s 1ms/step - loss: 0.3500 - acc: 0.8309 - val_loss: 0.4201 - val_acc: 0.8137\n",
      "Epoch 66/200\n",
      "1443/1443 [==============================] - 1s 1ms/step - loss: 0.3464 - acc: 0.8323 - val_loss: 0.4168 - val_acc: 0.8075\n",
      "Epoch 67/200\n",
      "1443/1443 [==============================] - 1s 1ms/step - loss: 0.3323 - acc: 0.8344 - val_loss: 0.4073 - val_acc: 0.8261\n",
      "Epoch 68/200\n",
      "1443/1443 [==============================] - 1s 1ms/step - loss: 0.3362 - acc: 0.8371 - val_loss: 0.3952 - val_acc: 0.8199\n",
      "Epoch 69/200\n",
      "1443/1443 [==============================] - 1s 1ms/step - loss: 0.3338 - acc: 0.8288 - val_loss: 0.4047 - val_acc: 0.8075\n",
      "Epoch 70/200\n",
      "1443/1443 [==============================] - 1s 1ms/step - loss: 0.3500 - acc: 0.8316 - val_loss: 0.3920 - val_acc: 0.8199\n",
      "Epoch 71/200\n",
      "1443/1443 [==============================] - 1s 1000us/step - loss: 0.3425 - acc: 0.8337 - val_loss: 0.4011 - val_acc: 0.8075\n",
      "Epoch 72/200\n",
      "1443/1443 [==============================] - 1s 997us/step - loss: 0.3252 - acc: 0.8482 - val_loss: 0.3899 - val_acc: 0.7950\n",
      "Epoch 73/200\n",
      "1443/1443 [==============================] - 1s 997us/step - loss: 0.3310 - acc: 0.8434 - val_loss: 0.3829 - val_acc: 0.8261\n",
      "Epoch 74/200\n",
      "1443/1443 [==============================] - 1s 998us/step - loss: 0.3422 - acc: 0.8468 - val_loss: 0.3875 - val_acc: 0.8261\n",
      "Epoch 75/200\n",
      "1443/1443 [==============================] - 1s 1ms/step - loss: 0.3332 - acc: 0.8344 - val_loss: 0.3989 - val_acc: 0.8075\n",
      "Epoch 76/200\n",
      "1443/1443 [==============================] - 1s 998us/step - loss: 0.3155 - acc: 0.8427 - val_loss: 0.3905 - val_acc: 0.8199\n",
      "Epoch 77/200\n",
      "1443/1443 [==============================] - 1s 1ms/step - loss: 0.3190 - acc: 0.8517 - val_loss: 0.3807 - val_acc: 0.8261\n",
      "Epoch 78/200\n",
      "1443/1443 [==============================] - 1s 997us/step - loss: 0.3124 - acc: 0.8448 - val_loss: 0.3951 - val_acc: 0.8075\n",
      "Epoch 79/200\n",
      "1443/1443 [==============================] - 1s 1ms/step - loss: 0.3225 - acc: 0.8295 - val_loss: 0.4256 - val_acc: 0.8012\n",
      "Epoch 80/200\n",
      "1443/1443 [==============================] - 1s 1ms/step - loss: 0.3231 - acc: 0.8399 - val_loss: 0.4390 - val_acc: 0.7888\n",
      "Epoch 81/200\n",
      "1443/1443 [==============================] - 1s 1ms/step - loss: 0.3225 - acc: 0.8468 - val_loss: 0.4247 - val_acc: 0.7826\n",
      "Epoch 82/200\n",
      "1443/1443 [==============================] - 2s 1ms/step - loss: 0.3045 - acc: 0.8468 - val_loss: 0.3891 - val_acc: 0.8137\n",
      "Epoch 83/200\n",
      "1443/1443 [==============================] - 1s 1ms/step - loss: 0.3225 - acc: 0.8524 - val_loss: 0.3915 - val_acc: 0.8075\n",
      "Epoch 84/200\n",
      "1443/1443 [==============================] - 2s 1ms/step - loss: 0.3189 - acc: 0.8482 - val_loss: 0.3806 - val_acc: 0.8199\n",
      "Epoch 85/200\n",
      "1443/1443 [==============================] - 1s 1ms/step - loss: 0.3036 - acc: 0.8441 - val_loss: 0.3754 - val_acc: 0.8199\n",
      "Epoch 86/200\n",
      "1443/1443 [==============================] - 1s 1ms/step - loss: 0.3175 - acc: 0.8496 - val_loss: 0.3780 - val_acc: 0.8199\n",
      "Epoch 87/200\n",
      "1443/1443 [==============================] - 1s 1ms/step - loss: 0.3057 - acc: 0.8552 - val_loss: 0.3834 - val_acc: 0.8323\n",
      "Epoch 88/200\n",
      "1443/1443 [==============================] - 1s 1ms/step - loss: 0.3182 - acc: 0.8434 - val_loss: 0.3885 - val_acc: 0.8137\n",
      "Epoch 89/200\n",
      "1443/1443 [==============================] - 2s 1ms/step - loss: 0.3157 - acc: 0.8420 - val_loss: 0.3861 - val_acc: 0.8137\n",
      "Epoch 90/200\n",
      "1443/1443 [==============================] - 1s 1ms/step - loss: 0.3087 - acc: 0.8462 - val_loss: 0.3884 - val_acc: 0.8075\n",
      "Epoch 91/200\n",
      "1443/1443 [==============================] - 1s 1ms/step - loss: 0.3095 - acc: 0.8489 - val_loss: 0.4068 - val_acc: 0.8075\n",
      "Epoch 92/200\n",
      "1443/1443 [==============================] - 1s 1ms/step - loss: 0.3042 - acc: 0.8579 - val_loss: 0.4118 - val_acc: 0.8199\n",
      "Epoch 93/200\n",
      "1443/1443 [==============================] - 1s 1ms/step - loss: 0.3089 - acc: 0.8503 - val_loss: 0.4300 - val_acc: 0.7888\n",
      "Epoch 94/200\n",
      "1443/1443 [==============================] - 1s 1ms/step - loss: 0.2988 - acc: 0.8413 - val_loss: 0.4925 - val_acc: 0.7453\n",
      "Epoch 95/200\n",
      "1443/1443 [==============================] - 1s 1ms/step - loss: 0.2977 - acc: 0.8538 - val_loss: 0.4506 - val_acc: 0.7826\n",
      "Epoch 96/200\n",
      "1443/1443 [==============================] - 1s 1ms/step - loss: 0.3016 - acc: 0.8413 - val_loss: 0.4231 - val_acc: 0.8012\n",
      "Epoch 97/200\n",
      "1443/1443 [==============================] - 1s 1ms/step - loss: 0.3066 - acc: 0.8482 - val_loss: 0.3809 - val_acc: 0.8323\n",
      "Epoch 98/200\n",
      "1443/1443 [==============================] - 1s 1ms/step - loss: 0.3003 - acc: 0.8468 - val_loss: 0.3671 - val_acc: 0.8261\n",
      "Epoch 99/200\n",
      "1443/1443 [==============================] - 1s 1ms/step - loss: 0.2855 - acc: 0.8593 - val_loss: 0.3682 - val_acc: 0.8323\n",
      "Epoch 100/200\n",
      "1443/1443 [==============================] - 1s 1ms/step - loss: 0.3009 - acc: 0.8621 - val_loss: 0.3797 - val_acc: 0.8323\n",
      "Epoch 101/200\n",
      "1443/1443 [==============================] - 1s 1ms/step - loss: 0.2882 - acc: 0.8579 - val_loss: 0.3693 - val_acc: 0.8137\n",
      "Epoch 102/200\n",
      "1443/1443 [==============================] - 1s 1ms/step - loss: 0.2821 - acc: 0.8531 - val_loss: 0.3933 - val_acc: 0.8075\n",
      "Epoch 103/200\n",
      "1443/1443 [==============================] - 2s 1ms/step - loss: 0.2874 - acc: 0.8607 - val_loss: 0.4048 - val_acc: 0.8075\n",
      "Epoch 104/200\n",
      "1443/1443 [==============================] - 2s 1ms/step - loss: 0.2894 - acc: 0.8517 - val_loss: 0.3860 - val_acc: 0.8199\n",
      "Epoch 105/200\n",
      "1443/1443 [==============================] - 2s 1ms/step - loss: 0.2792 - acc: 0.8621 - val_loss: 0.4260 - val_acc: 0.8075\n",
      "Epoch 106/200\n",
      "1443/1443 [==============================] - 2s 1ms/step - loss: 0.2947 - acc: 0.8496 - val_loss: 0.4190 - val_acc: 0.8199\n",
      "Epoch 107/200\n",
      "1443/1443 [==============================] - 1s 1ms/step - loss: 0.2896 - acc: 0.8545 - val_loss: 0.4001 - val_acc: 0.8075\n",
      "Epoch 108/200\n",
      "1443/1443 [==============================] - 1s 1ms/step - loss: 0.2977 - acc: 0.8482 - val_loss: 0.3753 - val_acc: 0.8323\n",
      "Epoch 109/200\n",
      "1443/1443 [==============================] - 1s 1ms/step - loss: 0.2760 - acc: 0.8593 - val_loss: 0.3926 - val_acc: 0.8075\n",
      "Epoch 110/200\n",
      "1443/1443 [==============================] - 1s 1ms/step - loss: 0.2844 - acc: 0.8565 - val_loss: 0.3692 - val_acc: 0.8323\n",
      "Epoch 111/200\n",
      "1443/1443 [==============================] - 1s 1ms/step - loss: 0.2937 - acc: 0.8600 - val_loss: 0.3674 - val_acc: 0.8199\n",
      "Epoch 112/200\n",
      "1443/1443 [==============================] - 1s 1ms/step - loss: 0.2867 - acc: 0.8656 - val_loss: 0.3968 - val_acc: 0.8199\n",
      "Epoch 113/200\n",
      "1443/1443 [==============================] - 1s 1ms/step - loss: 0.2821 - acc: 0.8621 - val_loss: 0.3965 - val_acc: 0.8199\n",
      "Epoch 114/200\n",
      "1443/1443 [==============================] - 1s 1ms/step - loss: 0.2839 - acc: 0.8732 - val_loss: 0.4003 - val_acc: 0.8075\n",
      "Epoch 115/200\n",
      "1443/1443 [==============================] - 2s 1ms/step - loss: 0.2722 - acc: 0.8683 - val_loss: 0.3741 - val_acc: 0.8323\n",
      "Epoch 116/200\n",
      "1443/1443 [==============================] - 1s 1ms/step - loss: 0.2746 - acc: 0.8628 - val_loss: 0.4120 - val_acc: 0.8261\n",
      "Epoch 117/200\n",
      "1443/1443 [==============================] - 1s 1ms/step - loss: 0.2892 - acc: 0.8600 - val_loss: 0.3795 - val_acc: 0.8323\n",
      "Epoch 118/200\n",
      "1443/1443 [==============================] - 1s 1ms/step - loss: 0.2909 - acc: 0.8642 - val_loss: 0.3815 - val_acc: 0.8261\n",
      "Epoch 119/200\n",
      "1443/1443 [==============================] - 1s 1ms/step - loss: 0.2756 - acc: 0.8656 - val_loss: 0.3605 - val_acc: 0.8323\n",
      "Epoch 120/200\n",
      "1443/1443 [==============================] - 1s 1ms/step - loss: 0.2864 - acc: 0.8663 - val_loss: 0.3856 - val_acc: 0.8385\n"
     ]
    },
    {
     "name": "stdout",
     "output_type": "stream",
     "text": [
      "Epoch 121/200\n",
      "1443/1443 [==============================] - 1s 1ms/step - loss: 0.2948 - acc: 0.8517 - val_loss: 0.3764 - val_acc: 0.8385\n",
      "Epoch 122/200\n",
      "1443/1443 [==============================] - 1s 1ms/step - loss: 0.2716 - acc: 0.8704 - val_loss: 0.3596 - val_acc: 0.8447\n",
      "Epoch 123/200\n",
      "1443/1443 [==============================] - 1s 1ms/step - loss: 0.2883 - acc: 0.8621 - val_loss: 0.3902 - val_acc: 0.8199\n",
      "Epoch 124/200\n",
      "1443/1443 [==============================] - 1s 1ms/step - loss: 0.2822 - acc: 0.8614 - val_loss: 0.3968 - val_acc: 0.8199\n",
      "Epoch 125/200\n",
      "1443/1443 [==============================] - 1s 1ms/step - loss: 0.2787 - acc: 0.8690 - val_loss: 0.3516 - val_acc: 0.8385\n",
      "Epoch 126/200\n",
      "1443/1443 [==============================] - 1s 1ms/step - loss: 0.2707 - acc: 0.8704 - val_loss: 0.3546 - val_acc: 0.8447\n",
      "Epoch 127/200\n",
      "1443/1443 [==============================] - 1s 1ms/step - loss: 0.2652 - acc: 0.8773 - val_loss: 0.3419 - val_acc: 0.8571\n",
      "Epoch 128/200\n",
      "1443/1443 [==============================] - 1s 1ms/step - loss: 0.2748 - acc: 0.8753 - val_loss: 0.3495 - val_acc: 0.8509\n",
      "Epoch 129/200\n",
      "1443/1443 [==============================] - 1s 1ms/step - loss: 0.2740 - acc: 0.8649 - val_loss: 0.3585 - val_acc: 0.8385\n",
      "Epoch 130/200\n",
      "1443/1443 [==============================] - 1s 1ms/step - loss: 0.2817 - acc: 0.8614 - val_loss: 0.3383 - val_acc: 0.8509\n",
      "Epoch 131/200\n",
      "1443/1443 [==============================] - 1s 990us/step - loss: 0.2868 - acc: 0.8628 - val_loss: 0.3801 - val_acc: 0.8385\n",
      "Epoch 132/200\n",
      "1443/1443 [==============================] - 1s 1ms/step - loss: 0.2726 - acc: 0.8663 - val_loss: 0.3773 - val_acc: 0.8137\n",
      "Epoch 133/200\n",
      "1443/1443 [==============================] - 1s 1ms/step - loss: 0.2801 - acc: 0.8663 - val_loss: 0.3799 - val_acc: 0.8137\n",
      "Epoch 134/200\n",
      "1443/1443 [==============================] - 1s 1ms/step - loss: 0.2604 - acc: 0.8780 - val_loss: 0.3750 - val_acc: 0.8199\n",
      "Epoch 135/200\n",
      "1443/1443 [==============================] - 1s 1ms/step - loss: 0.2597 - acc: 0.8642 - val_loss: 0.3512 - val_acc: 0.8509\n",
      "Epoch 136/200\n",
      "1443/1443 [==============================] - 1s 1ms/step - loss: 0.2729 - acc: 0.8649 - val_loss: 0.3745 - val_acc: 0.8261\n",
      "Epoch 137/200\n",
      "1443/1443 [==============================] - 1s 1ms/step - loss: 0.2647 - acc: 0.8732 - val_loss: 0.3789 - val_acc: 0.8323\n",
      "Epoch 138/200\n",
      "1443/1443 [==============================] - 1s 1ms/step - loss: 0.2662 - acc: 0.8711 - val_loss: 0.3974 - val_acc: 0.8137\n",
      "Epoch 139/200\n",
      "1443/1443 [==============================] - 1s 1ms/step - loss: 0.2806 - acc: 0.8718 - val_loss: 0.3864 - val_acc: 0.8137\n",
      "Epoch 140/200\n",
      "1443/1443 [==============================] - 1s 1ms/step - loss: 0.2675 - acc: 0.8704 - val_loss: 0.3730 - val_acc: 0.8385\n",
      "Epoch 141/200\n",
      "1443/1443 [==============================] - 1s 1ms/step - loss: 0.2649 - acc: 0.8663 - val_loss: 0.3590 - val_acc: 0.8323\n",
      "Epoch 142/200\n",
      "1443/1443 [==============================] - 1s 1ms/step - loss: 0.2686 - acc: 0.8725 - val_loss: 0.3567 - val_acc: 0.8323\n",
      "Epoch 143/200\n",
      "1443/1443 [==============================] - 1s 1ms/step - loss: 0.2553 - acc: 0.8697 - val_loss: 0.3604 - val_acc: 0.8447\n",
      "Epoch 144/200\n",
      "1443/1443 [==============================] - 1s 1ms/step - loss: 0.2698 - acc: 0.8593 - val_loss: 0.3592 - val_acc: 0.8447\n",
      "Epoch 145/200\n",
      "1443/1443 [==============================] - 1s 1ms/step - loss: 0.2681 - acc: 0.8725 - val_loss: 0.3432 - val_acc: 0.8571\n",
      "Epoch 146/200\n",
      "1443/1443 [==============================] - 1s 1ms/step - loss: 0.2779 - acc: 0.8683 - val_loss: 0.3359 - val_acc: 0.8696\n",
      "Epoch 147/200\n",
      "1443/1443 [==============================] - 1s 1ms/step - loss: 0.2654 - acc: 0.8753 - val_loss: 0.3381 - val_acc: 0.8571\n",
      "Epoch 148/200\n",
      "1443/1443 [==============================] - 1s 1ms/step - loss: 0.2666 - acc: 0.8676 - val_loss: 0.3571 - val_acc: 0.8323\n",
      "Epoch 149/200\n",
      "1443/1443 [==============================] - 1s 1ms/step - loss: 0.2700 - acc: 0.8753 - val_loss: 0.3573 - val_acc: 0.8509\n",
      "Epoch 150/200\n",
      "1443/1443 [==============================] - 1s 1ms/step - loss: 0.2607 - acc: 0.8801 - val_loss: 0.3501 - val_acc: 0.8447\n",
      "Epoch 151/200\n",
      "1443/1443 [==============================] - 1s 1ms/step - loss: 0.2685 - acc: 0.8739 - val_loss: 0.3483 - val_acc: 0.8323\n",
      "Epoch 152/200\n",
      "1443/1443 [==============================] - 1s 1ms/step - loss: 0.2853 - acc: 0.8760 - val_loss: 0.3756 - val_acc: 0.8447\n",
      "Epoch 153/200\n",
      "1443/1443 [==============================] - 1s 1ms/step - loss: 0.2736 - acc: 0.8663 - val_loss: 0.3517 - val_acc: 0.8509\n",
      "Epoch 154/200\n",
      "1443/1443 [==============================] - 1s 1ms/step - loss: 0.2623 - acc: 0.8766 - val_loss: 0.3551 - val_acc: 0.8385\n",
      "Epoch 155/200\n",
      "1443/1443 [==============================] - 1s 1ms/step - loss: 0.2621 - acc: 0.8683 - val_loss: 0.3327 - val_acc: 0.8634\n",
      "Epoch 156/200\n",
      "1443/1443 [==============================] - 1s 1ms/step - loss: 0.2530 - acc: 0.8794 - val_loss: 0.3428 - val_acc: 0.8447\n",
      "Epoch 157/200\n",
      "1443/1443 [==============================] - 1s 1ms/step - loss: 0.2677 - acc: 0.8725 - val_loss: 0.3234 - val_acc: 0.8634\n",
      "Epoch 158/200\n",
      "1443/1443 [==============================] - 1s 1ms/step - loss: 0.2655 - acc: 0.8669 - val_loss: 0.3254 - val_acc: 0.8634\n",
      "Epoch 159/200\n",
      "1443/1443 [==============================] - 1s 1ms/step - loss: 0.2563 - acc: 0.8787 - val_loss: 0.3446 - val_acc: 0.8447\n",
      "Epoch 160/200\n",
      "1443/1443 [==============================] - 1s 1ms/step - loss: 0.2625 - acc: 0.8732 - val_loss: 0.3337 - val_acc: 0.8447\n",
      "Epoch 161/200\n",
      "1443/1443 [==============================] - 1s 1ms/step - loss: 0.2581 - acc: 0.8739 - val_loss: 0.3330 - val_acc: 0.8571\n",
      "Epoch 162/200\n",
      "1443/1443 [==============================] - 1s 1ms/step - loss: 0.2688 - acc: 0.8683 - val_loss: 0.3407 - val_acc: 0.8447\n",
      "Epoch 163/200\n",
      "1443/1443 [==============================] - 1s 1ms/step - loss: 0.2739 - acc: 0.8718 - val_loss: 0.3433 - val_acc: 0.8323\n",
      "Epoch 164/200\n",
      "1443/1443 [==============================] - 1s 1ms/step - loss: 0.2703 - acc: 0.8746 - val_loss: 0.3452 - val_acc: 0.8323\n",
      "Epoch 165/200\n",
      "1443/1443 [==============================] - 1s 1ms/step - loss: 0.2599 - acc: 0.8746 - val_loss: 0.3314 - val_acc: 0.8634\n",
      "Epoch 166/200\n",
      "1443/1443 [==============================] - 1s 1ms/step - loss: 0.2674 - acc: 0.8760 - val_loss: 0.3491 - val_acc: 0.8447\n",
      "Epoch 167/200\n",
      "1443/1443 [==============================] - 1s 1ms/step - loss: 0.2552 - acc: 0.8760 - val_loss: 0.3283 - val_acc: 0.8634\n",
      "Epoch 168/200\n",
      "1443/1443 [==============================] - 1s 1ms/step - loss: 0.2459 - acc: 0.8829 - val_loss: 0.3324 - val_acc: 0.8571\n",
      "Epoch 169/200\n",
      "1443/1443 [==============================] - 1s 1ms/step - loss: 0.2514 - acc: 0.8760 - val_loss: 0.3382 - val_acc: 0.8634\n",
      "Epoch 170/200\n",
      "1443/1443 [==============================] - 1s 1ms/step - loss: 0.2501 - acc: 0.8760 - val_loss: 0.3352 - val_acc: 0.8571\n",
      "Epoch 171/200\n",
      "1443/1443 [==============================] - 1s 1ms/step - loss: 0.2687 - acc: 0.8676 - val_loss: 0.3421 - val_acc: 0.8261\n",
      "Epoch 172/200\n",
      "1443/1443 [==============================] - 1s 1ms/step - loss: 0.2508 - acc: 0.8815 - val_loss: 0.3522 - val_acc: 0.8634\n",
      "Epoch 173/200\n",
      "1443/1443 [==============================] - 1s 1ms/step - loss: 0.2604 - acc: 0.8773 - val_loss: 0.3538 - val_acc: 0.8571\n",
      "Epoch 174/200\n",
      "1443/1443 [==============================] - 1s 1ms/step - loss: 0.2525 - acc: 0.8863 - val_loss: 0.3326 - val_acc: 0.8571\n",
      "Epoch 175/200\n",
      "1443/1443 [==============================] - 1s 1ms/step - loss: 0.2602 - acc: 0.8732 - val_loss: 0.3319 - val_acc: 0.8509\n",
      "Epoch 176/200\n",
      "1443/1443 [==============================] - 1s 1ms/step - loss: 0.2649 - acc: 0.8739 - val_loss: 0.3423 - val_acc: 0.8509\n",
      "Epoch 177/200\n",
      "1443/1443 [==============================] - 1s 1ms/step - loss: 0.2485 - acc: 0.8780 - val_loss: 0.3488 - val_acc: 0.8509\n",
      "Epoch 178/200\n",
      "1443/1443 [==============================] - 1s 1ms/step - loss: 0.2498 - acc: 0.8753 - val_loss: 0.3214 - val_acc: 0.8571\n",
      "Epoch 179/200\n",
      "1443/1443 [==============================] - 1s 1ms/step - loss: 0.2502 - acc: 0.8739 - val_loss: 0.3393 - val_acc: 0.8571\n",
      "Epoch 180/200\n",
      "1443/1443 [==============================] - 1s 1ms/step - loss: 0.2522 - acc: 0.8760 - val_loss: 0.3610 - val_acc: 0.8323\n"
     ]
    },
    {
     "name": "stdout",
     "output_type": "stream",
     "text": [
      "Epoch 181/200\n",
      "1443/1443 [==============================] - 1s 1ms/step - loss: 0.2427 - acc: 0.8857 - val_loss: 0.3302 - val_acc: 0.8447\n",
      "Epoch 182/200\n",
      "1443/1443 [==============================] - 1s 1ms/step - loss: 0.2403 - acc: 0.8863 - val_loss: 0.3230 - val_acc: 0.8634\n",
      "Epoch 183/200\n",
      "1443/1443 [==============================] - 1s 1ms/step - loss: 0.2368 - acc: 0.8912 - val_loss: 0.3262 - val_acc: 0.8509\n",
      "Epoch 184/200\n",
      "1443/1443 [==============================] - 1s 1ms/step - loss: 0.2433 - acc: 0.8829 - val_loss: 0.3460 - val_acc: 0.8509\n",
      "Epoch 185/200\n",
      "1443/1443 [==============================] - 1s 1ms/step - loss: 0.2495 - acc: 0.8843 - val_loss: 0.3268 - val_acc: 0.8571\n",
      "Epoch 186/200\n",
      "1443/1443 [==============================] - 1s 1ms/step - loss: 0.2379 - acc: 0.8898 - val_loss: 0.3248 - val_acc: 0.8509\n",
      "Epoch 187/200\n",
      "1443/1443 [==============================] - 1s 1ms/step - loss: 0.2463 - acc: 0.8801 - val_loss: 0.3190 - val_acc: 0.8509\n",
      "Epoch 188/200\n",
      "1443/1443 [==============================] - 1s 1ms/step - loss: 0.2427 - acc: 0.8836 - val_loss: 0.3218 - val_acc: 0.8571\n",
      "Epoch 189/200\n",
      "1443/1443 [==============================] - 1s 1ms/step - loss: 0.2424 - acc: 0.8877 - val_loss: 0.3381 - val_acc: 0.8509\n",
      "Epoch 190/200\n",
      "1443/1443 [==============================] - 1s 1ms/step - loss: 0.2383 - acc: 0.8815 - val_loss: 0.3203 - val_acc: 0.8571\n",
      "Epoch 191/200\n",
      "1443/1443 [==============================] - 2s 1ms/step - loss: 0.2398 - acc: 0.8940 - val_loss: 0.3306 - val_acc: 0.8571\n",
      "Epoch 192/200\n",
      "1443/1443 [==============================] - 1s 1ms/step - loss: 0.2465 - acc: 0.8822 - val_loss: 0.3061 - val_acc: 0.8696\n",
      "Epoch 193/200\n",
      "1443/1443 [==============================] - 1s 1ms/step - loss: 0.2596 - acc: 0.8690 - val_loss: 0.3058 - val_acc: 0.8634\n",
      "Epoch 194/200\n",
      "1443/1443 [==============================] - 1s 1ms/step - loss: 0.2463 - acc: 0.8905 - val_loss: 0.3205 - val_acc: 0.8571\n",
      "Epoch 195/200\n",
      "1443/1443 [==============================] - 1s 1ms/step - loss: 0.2405 - acc: 0.8905 - val_loss: 0.3135 - val_acc: 0.8820\n",
      "Epoch 196/200\n",
      "1443/1443 [==============================] - 1s 1ms/step - loss: 0.2444 - acc: 0.8711 - val_loss: 0.3200 - val_acc: 0.8634\n",
      "Epoch 197/200\n",
      "1443/1443 [==============================] - 1s 1ms/step - loss: 0.2480 - acc: 0.8766 - val_loss: 0.3130 - val_acc: 0.8696\n",
      "Epoch 198/200\n",
      "1443/1443 [==============================] - 1s 1ms/step - loss: 0.2576 - acc: 0.8773 - val_loss: 0.3304 - val_acc: 0.8634\n",
      "Epoch 199/200\n",
      "1443/1443 [==============================] - 1s 1ms/step - loss: 0.2458 - acc: 0.8780 - val_loss: 0.3175 - val_acc: 0.8571\n",
      "Epoch 200/200\n",
      "1443/1443 [==============================] - 1s 1ms/step - loss: 0.2532 - acc: 0.8739 - val_loss: 0.3168 - val_acc: 0.8571\n",
      "Wall time: 5min\n"
     ]
    }
   ],
   "source": [
    "%%time\n",
    "hist = model.fit(x_train, y_train, \n",
    "                 batch_size = 64, \n",
    "                 verbose = 1,\n",
    "#                  callbacks = [annealer],\n",
    "                 epochs = 200, #1 for ETA, 0 for silent\n",
    "                 validation_data = (x_val, y_val))"
   ]
  },
  {
   "cell_type": "code",
   "execution_count": 21,
   "metadata": {},
   "outputs": [
    {
     "name": "stdout",
     "output_type": "stream",
     "text": [
      "161/161 [==============================] - 0s 517us/step\n",
      "Final loss: 0.3168, final accuracy: 0.8571\n"
     ]
    }
   ],
   "source": [
    "final_loss, final_acc = model.evaluate(x_val, y_val, verbose=1)\n",
    "print(\"Final loss: {0:.4f}, final accuracy: {1:.4f}\".format(final_loss, final_acc))"
   ]
  },
  {
   "cell_type": "code",
   "execution_count": 22,
   "metadata": {},
   "outputs": [
    {
     "name": "stdout",
     "output_type": "stream",
     "text": [
      "Val log_loss: 0.31684128238576587\n",
      "Val log_loss: 0.3241565657189544\n"
     ]
    }
   ],
   "source": [
    "val_prob1 = model.predict(x_val)\n",
    "\n",
    "# print('Val log_loss: {}'.format(log_loss(y_val, val_prob1)))\n",
    "val_prob1_limit = np.clip(val_prob1, 0.00005, 0.99995)\n",
    "loss = log_loss(y_val, val_prob1_limit)\n",
    "print('Val log_loss: {}'.format(loss))\n",
    "\n",
    "val_prob1_limit = np.clip(val_prob1_limit, 0.05, 0.95)\n",
    "loss = log_loss(y_val, val_prob1_limit)\n",
    "print('Val log_loss: {}'.format(loss))"
   ]
  },
  {
   "cell_type": "code",
   "execution_count": 23,
   "metadata": {},
   "outputs": [
    {
     "name": "stdout",
     "output_type": "stream",
     "text": [
      "SC_Iceberg_Classifier_CNN_3channel_Inception_20180105_181724_3241\n"
     ]
    }
   ],
   "source": [
    "final_acc_str = str(int(loss*10000))\n",
    "run_name_acc = project_name + '_' + step_name + '_' + time_str + '_' + final_acc_str\n",
    "print(run_name_acc)"
   ]
  },
  {
   "cell_type": "code",
   "execution_count": 24,
   "metadata": {},
   "outputs": [
    {
     "name": "stdout",
     "output_type": "stream",
     "text": [
      "Index(['acc', 'loss', 'val_acc', 'val_loss', 'epoch'], dtype='object')\n"
     ]
    }
   ],
   "source": [
    "histories = pd.DataFrame(hist.history)\n",
    "histories['epoch'] = hist.epoch\n",
    "print(histories.columns)\n",
    "histories_file = os.path.join(model_path, run_name_acc + '.csv')\n",
    "histories.to_csv(histories_file, index=False)"
   ]
  },
  {
   "cell_type": "code",
   "execution_count": 25,
   "metadata": {},
   "outputs": [
    {
     "data": {
      "image/png": "[encoded data removed]",
      "text/plain": [
       "<matplotlib.figure.Figure at 0x21555c4cef0>"
      ]
     },
     "metadata": {},
     "output_type": "display_data"
    },
    {
     "data": {
      "image/png": "[encoded data removed]",
      "text/plain": [
       "<matplotlib.figure.Figure at 0x215561cfeb8>"
      ]
     },
     "metadata": {},
     "output_type": "display_data"
    }
   ],
   "source": [
    "plt.plot(histories['loss'], color='b')\n",
    "plt.plot(histories['val_loss'], color='r')\n",
    "plt.show()\n",
    "plt.plot(histories['acc'], color='b')\n",
    "plt.plot(histories['val_acc'], color='r')\n",
    "plt.show()"
   ]
  },
  {
   "cell_type": "code",
   "execution_count": 26,
   "metadata": {
    "collapsed": true
   },
   "outputs": [],
   "source": [
    "saveModel(model, run_name_acc)"
   ]
  },
  {
   "cell_type": "markdown",
   "metadata": {},
   "source": [
    "## 3. Predict"
   ]
  },
  {
   "cell_type": "code",
   "execution_count": 27,
   "metadata": {},
   "outputs": [
    {
     "name": "stdout",
     "output_type": "stream",
     "text": [
      "D:\\ref\\Kaggle\\Statoil_C_CORE_Iceberg_Classifier_Challenge\\output\\SC_Iceberg_Classifier_CNN_3channel_Inception_20180105_181724_3241.csv\n"
     ]
    }
   ],
   "source": [
    "if not os.path.exists(output_path):\n",
    "    os.mkdir(output_path)\n",
    "pred_file = os.path.join(output_path, run_name_acc + '.csv')\n",
    "print(pred_file)"
   ]
  },
  {
   "cell_type": "code",
   "execution_count": 28,
   "metadata": {},
   "outputs": [
    {
     "name": "stdout",
     "output_type": "stream",
     "text": [
      "(8424, 1)\n",
      "[[ 0.1705227 ]\n",
      " [ 0.35115305]]\n",
      "(8424, 1)\n",
      "[[ 0.1705227 ]\n",
      " [ 0.35115305]]\n"
     ]
    }
   ],
   "source": [
    "test_prob = model.predict(x_test)\n",
    "print(test_prob.shape)\n",
    "print(test_prob[0:2])\n",
    "test_prob = np.clip(test_prob, 0.05, 0.95)\n",
    "print(test_prob.shape)\n",
    "print(test_prob[0:2])"
   ]
  },
  {
   "cell_type": "code",
   "execution_count": 29,
   "metadata": {},
   "outputs": [
    {
     "name": "stdout",
     "output_type": "stream",
     "text": [
      "         id  is_iceberg\n",
      "0  5941774d    0.170523\n",
      "1  4023181e    0.351153\n",
      "(8424, 2)\n"
     ]
    }
   ],
   "source": [
    "sample_submission['is_iceberg'] = test_prob\n",
    "print(sample_submission[0:2])\n",
    "print(sample_submission.shape)\n",
    "sample_submission.to_csv(pred_file, index=False)"
   ]
  },
  {
   "cell_type": "code",
   "execution_count": 30,
   "metadata": {},
   "outputs": [
    {
     "name": "stdout",
     "output_type": "stream",
     "text": [
      "time cost: 312.59 s\n",
      "SC_Iceberg_Classifier_CNN_3channel_Inception_20180105_181724_3241\n",
      "Done!\n"
     ]
    }
   ],
   "source": [
    "t1 = time.time()\n",
    "print('time cost: %.2f s' % (t1-t0))\n",
    "print(run_name_acc)\n",
    "print('Done!')"
   ]
  },
  {
   "cell_type": "code",
   "execution_count": null,
   "metadata": {
    "collapsed": true
   },
   "outputs": [],
   "source": []
  }
 ],
 "metadata": {
  "kernelspec": {
   "display_name": "Python 3",
   "language": "python",
   "name": "python3"
  },
  "language_info": {
   "codemirror_mode": {
    "name": "ipython",
    "version": 3
   },
   "file_extension": ".py",
   "mimetype": "text/x-python",
   "name": "python",
   "nbconvert_exporter": "python",
   "pygments_lexer": "ipython3",
   "version": "3.6.1"
  }
 },
 "nbformat": 4,
 "nbformat_minor": 2
}
