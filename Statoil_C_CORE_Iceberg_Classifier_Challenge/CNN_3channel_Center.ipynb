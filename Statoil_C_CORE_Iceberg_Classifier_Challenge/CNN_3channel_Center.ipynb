{
 "cells": [
  {
   "cell_type": "markdown",
   "metadata": {},
   "source": [
    "# CNN_3channel_Center\n",
    "\n",
    "Abstract:\n",
    "- Center\n",
    "- CNN, small net\n",
    "\n",
    "Result:\n",
    "- Kaggle score: \n",
    "\n",
    "References:\n",
    "- https://www.kaggle.com/ivalmian/simple-svd-xgboost-baseline-lb-35\n",
    "- https://www.kaggle.com/arieltci/a-keras-prototype-0-21174-on-pl\n",
    "- https://www.kaggle.com/henokanh/cnn-batchnormalization-0-1646"
   ]
  },
  {
   "cell_type": "markdown",
   "metadata": {},
   "source": [
    "## 1. Preprocess"
   ]
  },
  {
   "cell_type": "markdown",
   "metadata": {},
   "source": [
    "### Import pkgs"
   ]
  },
  {
   "cell_type": "code",
   "execution_count": 1,
   "metadata": {},
   "outputs": [],
   "source": [
    "import numpy as np\n",
    "import pandas as pd\n",
    "import matplotlib.pyplot as plt\n",
    "import seaborn as sns\n",
    "from sklearn.model_selection import train_test_split\n",
    "from sklearn.ensemble import GradientBoostingClassifier\n",
    "from sklearn.preprocessing import MinMaxScaler\n",
    "from sklearn.metrics import log_loss, accuracy_score\n",
    "from IPython.display import display\n",
    "\n",
    "%matplotlib inline"
   ]
  },
  {
   "cell_type": "code",
   "execution_count": 2,
   "metadata": {},
   "outputs": [],
   "source": [
    "import os\n",
    "import time\n",
    "import zipfile\n",
    "import lzma\n",
    "import pickle\n",
    "from PIL import Image\n",
    "from shutil import copy2"
   ]
  },
  {
   "cell_type": "markdown",
   "metadata": {},
   "source": [
    "### Run name"
   ]
  },
  {
   "cell_type": "code",
   "execution_count": 3,
   "metadata": {},
   "outputs": [
    {
     "name": "stdout",
     "output_type": "stream",
     "text": [
      "run_name: SC_Iceberg_Classifier_CNN_3channel_Center_20180103_224418\n"
     ]
    }
   ],
   "source": [
    "project_name = 'SC_Iceberg_Classifier'\n",
    "step_name = 'CNN_3channel_Center'\n",
    "date_str = time.strftime(\"%Y%m%d\", time.localtime())\n",
    "time_str = time.strftime(\"%Y%m%d_%H%M%S\", time.localtime())\n",
    "run_name = project_name + '_' + step_name + '_' + time_str\n",
    "print('run_name: ' + run_name)"
   ]
  },
  {
   "cell_type": "markdown",
   "metadata": {},
   "source": [
    "### Basic folders"
   ]
  },
  {
   "cell_type": "code",
   "execution_count": 4,
   "metadata": {},
   "outputs": [
    {
     "name": "stdout",
     "output_type": "stream",
     "text": [
      "input_path: D:\\Kaggle\\Statoil_C_CORE_Iceberg_Classifier_Challenge\\input\n",
      "log_path: D:\\Kaggle\\Statoil_C_CORE_Iceberg_Classifier_Challenge\\log\n",
      "model_path: D:\\Kaggle\\Statoil_C_CORE_Iceberg_Classifier_Challenge\\model\n",
      "output_path: D:\\Kaggle\\Statoil_C_CORE_Iceberg_Classifier_Challenge\\output\n"
     ]
    }
   ],
   "source": [
    "cwd = os.getcwd()\n",
    "input_path = os.path.join(cwd, 'input')\n",
    "log_path = os.path.join(cwd, 'log')\n",
    "model_path = os.path.join(cwd, 'model')\n",
    "output_path = os.path.join(cwd, 'output')\n",
    "print('input_path: ' + input_path)\n",
    "print('log_path: ' + log_path)\n",
    "print('model_path: ' + model_path)\n",
    "print('output_path: ' + output_path)"
   ]
  },
  {
   "cell_type": "markdown",
   "metadata": {},
   "source": [
    "### Load data"
   ]
  },
  {
   "cell_type": "code",
   "execution_count": 5,
   "metadata": {},
   "outputs": [
    {
     "name": "stdout",
     "output_type": "stream",
     "text": [
      "(8424, 2)\n"
     ]
    },
    {
     "data": {
      "text/html": [
       "<div>\n",
       "<style>\n",
       "    .dataframe thead tr:only-child th {\n",
       "        text-align: right;\n",
       "    }\n",
       "\n",
       "    .dataframe thead th {\n",
       "        text-align: left;\n",
       "    }\n",
       "\n",
       "    .dataframe tbody tr th {\n",
       "        vertical-align: top;\n",
       "    }\n",
       "</style>\n",
       "<table border=\"1\" class=\"dataframe\">\n",
       "  <thead>\n",
       "    <tr style=\"text-align: right;\">\n",
       "      <th></th>\n",
       "      <th>id</th>\n",
       "      <th>is_iceberg</th>\n",
       "    </tr>\n",
       "  </thead>\n",
       "  <tbody>\n",
       "    <tr>\n",
       "      <th>0</th>\n",
       "      <td>5941774d</td>\n",
       "      <td>0.5</td>\n",
       "    </tr>\n",
       "    <tr>\n",
       "      <th>1</th>\n",
       "      <td>4023181e</td>\n",
       "      <td>0.5</td>\n",
       "    </tr>\n",
       "  </tbody>\n",
       "</table>\n",
       "</div>"
      ],
      "text/plain": [
       "         id  is_iceberg\n",
       "0  5941774d         0.5\n",
       "1  4023181e         0.5"
      ]
     },
     "execution_count": 5,
     "metadata": {},
     "output_type": "execute_result"
    }
   ],
   "source": [
    "sample_submission_path = os.path.join(input_path, 'sample_submission.csv')\n",
    "sample_submission = pd.read_csv(sample_submission_path)\n",
    "print(sample_submission.shape)\n",
    "sample_submission.head(2)"
   ]
  },
  {
   "cell_type": "code",
   "execution_count": 6,
   "metadata": {},
   "outputs": [
    {
     "name": "stdout",
     "output_type": "stream",
     "text": [
      "(1604,)\n"
     ]
    }
   ],
   "source": [
    "is_iceberg_path = os.path.join(input_path, 'is_iceberg.p')\n",
    "\n",
    "y_data = pickle.load(open(is_iceberg_path, mode='rb'))\n",
    "\n",
    "print(y_data.shape)"
   ]
  },
  {
   "cell_type": "code",
   "execution_count": 7,
   "metadata": {},
   "outputs": [
    {
     "name": "stdout",
     "output_type": "stream",
     "text": [
      "(1604,)\n",
      "(8424,)\n",
      "Wall time: 2 ms\n"
     ]
    }
   ],
   "source": [
    "%%time\n",
    "#Load orignal data\n",
    "inc_angle_data_path = os.path.join(input_path, 'inc_angle_data.p')\n",
    "inc_angle_test_path = os.path.join(input_path, 'inc_angle_test.p')\n",
    "\n",
    "inc_angle_data = pickle.load(open(inc_angle_data_path, mode='rb'))\n",
    "inc_angle_test = pickle.load(open(inc_angle_test_path, mode='rb'))\n",
    "\n",
    "print(inc_angle_data.shape)\n",
    "print(inc_angle_test.shape)"
   ]
  },
  {
   "cell_type": "code",
   "execution_count": 8,
   "metadata": {},
   "outputs": [
    {
     "name": "stdout",
     "output_type": "stream",
     "text": [
      "(1604, 39, 39)\n",
      "(1604, 39, 39)\n",
      "(8424, 39, 39)\n",
      "(8424, 39, 39)\n",
      "Wall time: 307 ms\n"
     ]
    }
   ],
   "source": [
    "%%time\n",
    "#Load orignal data\n",
    "band1_data_path = os.path.join(input_path, 'band1_data_center.p')\n",
    "band2_data_path = os.path.join(input_path, 'band2_data_center.p')\n",
    "band1_test_path = os.path.join(input_path, 'band1_test_center.p')\n",
    "band2_test_path = os.path.join(input_path, 'band2_test_center.p')\n",
    "\n",
    "band1_data = pickle.load(open(band1_data_path, mode='rb'))\n",
    "band2_data = pickle.load(open(band2_data_path, mode='rb'))\n",
    "band1_test = pickle.load(open(band1_test_path, mode='rb'))\n",
    "band2_test = pickle.load(open(band2_test_path, mode='rb'))\n",
    "\n",
    "print(band1_data.shape)\n",
    "print(band2_data.shape)\n",
    "print(band1_test.shape)\n",
    "print(band2_test.shape)"
   ]
  },
  {
   "cell_type": "code",
   "execution_count": 9,
   "metadata": {},
   "outputs": [
    {
     "name": "stdout",
     "output_type": "stream",
     "text": [
      "(1604, 39, 39, 2)\n",
      "(8424, 39, 39, 2)\n",
      "Wall time: 182 ms\n"
     ]
    }
   ],
   "source": [
    "%%time\n",
    "x_data = np.concatenate([band1_data[:, :, :, np.newaxis],\n",
    "                         band2_data[:, :, :, np.newaxis]], axis=-1)\n",
    "print(x_data.shape)\n",
    "x_test = np.concatenate([band1_test[:, :, :, np.newaxis],\n",
    "                         band2_test[:, :, :, np.newaxis]], axis=-1)\n",
    "print(x_test.shape)"
   ]
  },
  {
   "cell_type": "code",
   "execution_count": 10,
   "metadata": {},
   "outputs": [
    {
     "name": "stdout",
     "output_type": "stream",
     "text": [
      "(1363, 39, 39, 2)\n",
      "(241, 39, 39, 2)\n",
      "(1363,)\n",
      "(241,)\n",
      "(1363,)\n",
      "(241,)\n",
      "Wall time: 33.5 ms\n"
     ]
    }
   ],
   "source": [
    "%%time\n",
    "x_train, x_val, inc_angle_train, inc_angle_val, y_train, y_val = train_test_split(x_data, inc_angle_data, y_data, test_size=0.15, shuffle=True, random_state=31)\n",
    "print(x_train.shape)\n",
    "print(x_val.shape)\n",
    "print(inc_angle_train.shape)\n",
    "print(inc_angle_val.shape)\n",
    "print(y_train.shape)\n",
    "print(y_val.shape)"
   ]
  },
  {
   "cell_type": "markdown",
   "metadata": {},
   "source": [
    "## 2. Build model"
   ]
  },
  {
   "cell_type": "code",
   "execution_count": 11,
   "metadata": {},
   "outputs": [
    {
     "name": "stderr",
     "output_type": "stream",
     "text": [
      "Using TensorFlow backend.\n"
     ]
    }
   ],
   "source": [
    "from keras.utils.np_utils import to_categorical # convert to one-hot-encoding\n",
    "from keras.models import Sequential, Model\n",
    "from keras.layers import Dense, Dropout, Flatten, Conv2D, MaxPooling2D, GlobalMaxPooling2D, BatchNormalization, Input\n",
    "from keras.layers.merge import Concatenate\n",
    "from keras.optimizers import Adam\n",
    "from keras.preprocessing.image import ImageDataGenerator\n",
    "from keras.callbacks import LearningRateScheduler, TensorBoard"
   ]
  },
  {
   "cell_type": "code",
   "execution_count": 12,
   "metadata": {},
   "outputs": [],
   "source": [
    "def build_model():\n",
    "    model = Sequential()\n",
    "\n",
    "    model.add(Conv2D(filters = 32, kernel_size = (3, 3), activation='relu',\n",
    "                     input_shape = (39, 39, 2)))\n",
    "    model.add(BatchNormalization())\n",
    "    model.add(Conv2D(filters = 32, kernel_size = (3, 3), activation='relu'))\n",
    "    model.add(BatchNormalization())\n",
    "    model.add(MaxPooling2D(strides=(2,2)))\n",
    "    model.add(Dropout(0.5))\n",
    "\n",
    "    model.add(Conv2D(filters = 64, kernel_size = (3, 3), activation='relu'))\n",
    "    model.add(BatchNormalization())\n",
    "    model.add(Conv2D(filters = 64, kernel_size = (3, 3), activation='relu'))\n",
    "    model.add(BatchNormalization())\n",
    "    model.add(Conv2D(filters = 64, kernel_size = (3, 3), activation='relu'))\n",
    "    model.add(BatchNormalization())\n",
    "    model.add(MaxPooling2D(strides=(2,2)))\n",
    "    model.add(Dropout(0.5))\n",
    "\n",
    "    model.add(Flatten())\n",
    "#     model.add(Dense(4096, activation='relu'))\n",
    "#     model.add(Dropout(0.5))\n",
    "    model.add(Dense(1024, activation='relu'))\n",
    "    model.add(Dropout(0.5))\n",
    "    model.add(Dense(128, activation='relu'))\n",
    "    model.add(Dropout(0.5))\n",
    "    model.add(Dense(units = 1, activation = 'sigmoid'))\n",
    "\n",
    "    model.compile(optimizer = Adam(lr=1e-4), loss = 'binary_crossentropy', metrics = ['accuracy'])\n",
    "    return model"
   ]
  },
  {
   "cell_type": "code",
   "execution_count": 13,
   "metadata": {},
   "outputs": [
    {
     "name": "stdout",
     "output_type": "stream",
     "text": [
      "_________________________________________________________________\n",
      "Layer (type)                 Output Shape              Param #   \n",
      "=================================================================\n",
      "conv2d_1 (Conv2D)            (None, 37, 37, 32)        608       \n",
      "_________________________________________________________________\n",
      "batch_normalization_1 (Batch (None, 37, 37, 32)        128       \n",
      "_________________________________________________________________\n",
      "conv2d_2 (Conv2D)            (None, 35, 35, 32)        9248      \n",
      "_________________________________________________________________\n",
      "batch_normalization_2 (Batch (None, 35, 35, 32)        128       \n",
      "_________________________________________________________________\n",
      "max_pooling2d_1 (MaxPooling2 (None, 17, 17, 32)        0         \n",
      "_________________________________________________________________\n",
      "dropout_1 (Dropout)          (None, 17, 17, 32)        0         \n",
      "_________________________________________________________________\n",
      "conv2d_3 (Conv2D)            (None, 15, 15, 64)        18496     \n",
      "_________________________________________________________________\n",
      "batch_normalization_3 (Batch (None, 15, 15, 64)        256       \n",
      "_________________________________________________________________\n",
      "conv2d_4 (Conv2D)            (None, 13, 13, 64)        36928     \n",
      "_________________________________________________________________\n",
      "batch_normalization_4 (Batch (None, 13, 13, 64)        256       \n",
      "_________________________________________________________________\n",
      "conv2d_5 (Conv2D)            (None, 11, 11, 64)        36928     \n",
      "_________________________________________________________________\n",
      "batch_normalization_5 (Batch (None, 11, 11, 64)        256       \n",
      "_________________________________________________________________\n",
      "max_pooling2d_2 (MaxPooling2 (None, 5, 5, 64)          0         \n",
      "_________________________________________________________________\n",
      "dropout_2 (Dropout)          (None, 5, 5, 64)          0         \n",
      "_________________________________________________________________\n",
      "flatten_1 (Flatten)          (None, 1600)              0         \n",
      "_________________________________________________________________\n",
      "dense_1 (Dense)              (None, 1024)              1639424   \n",
      "_________________________________________________________________\n",
      "dropout_3 (Dropout)          (None, 1024)              0         \n",
      "_________________________________________________________________\n",
      "dense_2 (Dense)              (None, 128)               131200    \n",
      "_________________________________________________________________\n",
      "dropout_4 (Dropout)          (None, 128)               0         \n",
      "_________________________________________________________________\n",
      "dense_3 (Dense)              (None, 1)                 129       \n",
      "=================================================================\n",
      "Total params: 1,873,985\n",
      "Trainable params: 1,873,473\n",
      "Non-trainable params: 512\n",
      "_________________________________________________________________\n"
     ]
    }
   ],
   "source": [
    "model = build_model()\n",
    "model.summary()"
   ]
  },
  {
   "cell_type": "code",
   "execution_count": 14,
   "metadata": {},
   "outputs": [],
   "source": [
    "def saveModel(model, run_name):\n",
    "    cwd = os.getcwd()\n",
    "    modelPath = os.path.join(cwd, 'model')\n",
    "    if not os.path.isdir(modelPath):\n",
    "        os.mkdir(modelPath)\n",
    "    weigthsFile = os.path.join(modelPath, run_name + '.h5')\n",
    "    model.save(weigthsFile)\n",
    "saveModel(model, 'saveModel_test')"
   ]
  },
  {
   "cell_type": "code",
   "execution_count": 15,
   "metadata": {},
   "outputs": [
    {
     "name": "stdout",
     "output_type": "stream",
     "text": [
      "log_dir:D:\\Kaggle\\Statoil_C_CORE_Iceberg_Classifier_Challenge\\log\\SC_Iceberg_Classifier_CNN_3channel_Center_20180103_224418\n"
     ]
    }
   ],
   "source": [
    "def get_lr(x):\n",
    "    lr = round(1e-4 * 0.98 ** x, 6)\n",
    "    if lr < 5e-5:\n",
    "        lr = 5e-5\n",
    "    print(lr, end='  ')\n",
    "    return lr\n",
    "\n",
    "# annealer = LearningRateScheduler(lambda x: 1e-3 * 0.9 ** x)\n",
    "annealer = LearningRateScheduler(get_lr)\n",
    "\n",
    "log_dir = os.path.join(log_path, run_name)\n",
    "print('log_dir:' + log_dir)\n",
    "tensorBoard = TensorBoard(log_dir=log_dir)"
   ]
  },
  {
   "cell_type": "code",
   "execution_count": 16,
   "metadata": {},
   "outputs": [],
   "source": [
    "# datagen = ImageDataGenerator(\n",
    "#     rotation_range=20,\n",
    "#     width_shift_range=0.1,\n",
    "#     height_shift_range=0.1,\n",
    "#     shear_range=0.1,\n",
    "#     zoom_range=[0.001, 0.1],\n",
    "#     channel_shift_range=0.1,\n",
    "#     horizontal_flip=False,\n",
    "#     vertical_flip=False)"
   ]
  },
  {
   "cell_type": "code",
   "execution_count": 17,
   "metadata": {},
   "outputs": [
    {
     "name": "stdout",
     "output_type": "stream",
     "text": [
      "Train on 1363 samples, validate on 241 samples\n",
      "0.0001  Epoch 1/50\n",
      "1363/1363 [==============================] - 7s 5ms/step - loss: 1.5130 - acc: 0.5048 - val_loss: 0.6936 - val_acc: 0.4440\n",
      "9.8e-05  Epoch 2/50\n",
      "1363/1363 [==============================] - 4s 3ms/step - loss: 1.1313 - acc: 0.5451 - val_loss: 0.6929 - val_acc: 0.5394\n",
      "9.6e-05  Epoch 3/50\n",
      "1363/1363 [==============================] - 4s 3ms/step - loss: 0.9554 - acc: 0.5598 - val_loss: 0.6927 - val_acc: 0.5602\n",
      "9.4e-05  Epoch 4/50\n",
      "1363/1363 [==============================] - 4s 3ms/step - loss: 0.8611 - acc: 0.5965 - val_loss: 0.6913 - val_acc: 0.5602\n",
      "9.2e-05  Epoch 5/50\n",
      "1363/1363 [==============================] - 4s 3ms/step - loss: 0.8406 - acc: 0.5745 - val_loss: 0.6896 - val_acc: 0.5726\n",
      "9e-05  Epoch 6/50\n",
      "1363/1363 [==============================] - 4s 3ms/step - loss: 0.8167 - acc: 0.5701 - val_loss: 0.6884 - val_acc: 0.5934\n",
      "8.9e-05  Epoch 7/50\n",
      "1363/1363 [==============================] - 4s 3ms/step - loss: 0.7608 - acc: 0.6185 - val_loss: 0.6873 - val_acc: 0.6556\n",
      "8.7e-05  Epoch 8/50\n",
      "1363/1363 [==============================] - 4s 3ms/step - loss: 0.7016 - acc: 0.6420 - val_loss: 0.6863 - val_acc: 0.6349\n",
      "8.5e-05  Epoch 9/50\n",
      "1363/1363 [==============================] - 4s 3ms/step - loss: 0.6850 - acc: 0.6324 - val_loss: 0.6849 - val_acc: 0.6473\n",
      "8.3e-05  Epoch 10/50\n",
      "1363/1363 [==============================] - 4s 3ms/step - loss: 0.7088 - acc: 0.6251 - val_loss: 0.6874 - val_acc: 0.5685\n",
      "8.2e-05  Epoch 11/50\n",
      "1363/1363 [==============================] - 4s 3ms/step - loss: 0.6778 - acc: 0.6266 - val_loss: 0.6869 - val_acc: 0.5560\n",
      "8e-05  Epoch 12/50\n",
      "1363/1363 [==============================] - 4s 3ms/step - loss: 0.6774 - acc: 0.6317 - val_loss: 0.6863 - val_acc: 0.5477\n",
      "7.8e-05  Epoch 13/50\n",
      "1363/1363 [==============================] - 4s 3ms/step - loss: 0.6609 - acc: 0.6420 - val_loss: 0.6850 - val_acc: 0.5602\n",
      "7.7e-05  Epoch 14/50\n",
      "1363/1363 [==============================] - 4s 3ms/step - loss: 0.6345 - acc: 0.6625 - val_loss: 0.6822 - val_acc: 0.5643\n",
      "7.5e-05  Epoch 15/50\n",
      "1363/1363 [==============================] - 4s 3ms/step - loss: 0.6631 - acc: 0.6698 - val_loss: 0.6837 - val_acc: 0.5602\n",
      "7.4e-05  Epoch 16/50\n",
      "1363/1363 [==============================] - 4s 3ms/step - loss: 0.6535 - acc: 0.6669 - val_loss: 0.6838 - val_acc: 0.5560\n",
      "7.2e-05  Epoch 17/50\n",
      "1363/1363 [==============================] - 4s 3ms/step - loss: 0.6317 - acc: 0.6544 - val_loss: 0.6821 - val_acc: 0.5643\n",
      "7.1e-05  Epoch 18/50\n",
      "1363/1363 [==============================] - 4s 3ms/step - loss: 0.6394 - acc: 0.6464 - val_loss: 0.6837 - val_acc: 0.5643\n",
      "7e-05  Epoch 19/50\n",
      "1363/1363 [==============================] - 4s 3ms/step - loss: 0.5875 - acc: 0.6941 - val_loss: 0.6783 - val_acc: 0.5934\n",
      "6.8e-05  Epoch 20/50\n",
      "1363/1363 [==============================] - 4s 3ms/step - loss: 0.5964 - acc: 0.6831 - val_loss: 0.6716 - val_acc: 0.6266\n",
      "6.7e-05  Epoch 21/50\n",
      "1363/1363 [==============================] - 4s 3ms/step - loss: 0.5981 - acc: 0.6955 - val_loss: 0.6665 - val_acc: 0.6266\n",
      "6.5e-05  Epoch 22/50\n",
      "1363/1363 [==============================] - 4s 3ms/step - loss: 0.6016 - acc: 0.6963 - val_loss: 0.6651 - val_acc: 0.6349\n",
      "6.4e-05  Epoch 23/50\n",
      "1363/1363 [==============================] - 4s 3ms/step - loss: 0.6010 - acc: 0.6772 - val_loss: 0.6616 - val_acc: 0.6390\n",
      "6.3e-05  Epoch 24/50\n",
      "1363/1363 [==============================] - 4s 3ms/step - loss: 0.5991 - acc: 0.6845 - val_loss: 0.6569 - val_acc: 0.6390\n",
      "6.2e-05  Epoch 25/50\n",
      "1363/1363 [==============================] - 4s 3ms/step - loss: 0.5987 - acc: 0.6867 - val_loss: 0.6534 - val_acc: 0.6598\n",
      "6e-05  Epoch 26/50\n",
      "1363/1363 [==============================] - 4s 3ms/step - loss: 0.5937 - acc: 0.6867 - val_loss: 0.6495 - val_acc: 0.6598\n",
      "5.9e-05  Epoch 27/50\n",
      "1363/1363 [==============================] - 4s 3ms/step - loss: 0.5819 - acc: 0.6809 - val_loss: 0.6435 - val_acc: 0.6680\n",
      "5.8e-05  Epoch 28/50\n",
      "1363/1363 [==============================] - 4s 3ms/step - loss: 0.5905 - acc: 0.6889 - val_loss: 0.6441 - val_acc: 0.6515\n",
      "5.7e-05  Epoch 29/50\n",
      "1363/1363 [==============================] - 4s 3ms/step - loss: 0.5856 - acc: 0.6992 - val_loss: 0.6407 - val_acc: 0.6598\n",
      "5.6e-05  Epoch 30/50\n",
      "1363/1363 [==============================] - 4s 3ms/step - loss: 0.5693 - acc: 0.7131 - val_loss: 0.6347 - val_acc: 0.6680\n",
      "5.5e-05  Epoch 31/50\n",
      "1363/1363 [==============================] - 4s 3ms/step - loss: 0.6002 - acc: 0.6809 - val_loss: 0.6280 - val_acc: 0.6722\n",
      "5.3e-05  Epoch 32/50\n",
      "1363/1363 [==============================] - 4s 3ms/step - loss: 0.5692 - acc: 0.7021 - val_loss: 0.6204 - val_acc: 0.6846\n",
      "5.2e-05  Epoch 33/50\n",
      "1363/1363 [==============================] - 4s 3ms/step - loss: 0.5668 - acc: 0.7036 - val_loss: 0.6175 - val_acc: 0.6763\n",
      "5.1e-05  Epoch 34/50\n",
      "1363/1363 [==============================] - 4s 3ms/step - loss: 0.5629 - acc: 0.7073 - val_loss: 0.6153 - val_acc: 0.6805\n",
      "5e-05  Epoch 35/50\n",
      "1363/1363 [==============================] - 4s 3ms/step - loss: 0.5661 - acc: 0.7168 - val_loss: 0.6105 - val_acc: 0.6805\n",
      "5e-05  Epoch 36/50\n",
      "1363/1363 [==============================] - 4s 3ms/step - loss: 0.5546 - acc: 0.7146 - val_loss: 0.6105 - val_acc: 0.6680\n",
      "5e-05  Epoch 37/50\n",
      "1363/1363 [==============================] - 4s 3ms/step - loss: 0.5612 - acc: 0.7080 - val_loss: 0.6068 - val_acc: 0.6722\n",
      "5e-05  Epoch 38/50\n",
      "1363/1363 [==============================] - 4s 3ms/step - loss: 0.5573 - acc: 0.7087 - val_loss: 0.6020 - val_acc: 0.6763\n",
      "5e-05  Epoch 39/50\n",
      "1363/1363 [==============================] - 4s 3ms/step - loss: 0.5399 - acc: 0.7183 - val_loss: 0.5960 - val_acc: 0.6846\n",
      "5e-05  Epoch 40/50\n",
      "1363/1363 [==============================] - 4s 3ms/step - loss: 0.5454 - acc: 0.7205 - val_loss: 0.5928 - val_acc: 0.6805\n",
      "5e-05  Epoch 41/50\n",
      "1363/1363 [==============================] - 4s 3ms/step - loss: 0.5400 - acc: 0.7073 - val_loss: 0.5889 - val_acc: 0.6763\n",
      "5e-05  Epoch 42/50\n",
      "1363/1363 [==============================] - 4s 3ms/step - loss: 0.5394 - acc: 0.7190 - val_loss: 0.5856 - val_acc: 0.6680\n",
      "5e-05  Epoch 43/50\n",
      "1363/1363 [==============================] - 4s 3ms/step - loss: 0.5415 - acc: 0.7263 - val_loss: 0.5822 - val_acc: 0.6763\n",
      "5e-05  Epoch 44/50\n",
      "1363/1363 [==============================] - 4s 3ms/step - loss: 0.5565 - acc: 0.7219 - val_loss: 0.5757 - val_acc: 0.6805\n",
      "5e-05  Epoch 45/50\n",
      "1363/1363 [==============================] - 4s 3ms/step - loss: 0.5338 - acc: 0.7315 - val_loss: 0.5725 - val_acc: 0.6763\n",
      "5e-05  Epoch 46/50\n",
      "1363/1363 [==============================] - 4s 3ms/step - loss: 0.5405 - acc: 0.7263 - val_loss: 0.5681 - val_acc: 0.6763\n",
      "5e-05  Epoch 47/50\n",
      "1363/1363 [==============================] - 4s 3ms/step - loss: 0.5202 - acc: 0.7249 - val_loss: 0.5642 - val_acc: 0.6763\n",
      "5e-05  Epoch 48/50\n",
      "1363/1363 [==============================] - 4s 3ms/step - loss: 0.5388 - acc: 0.7271 - val_loss: 0.5630 - val_acc: 0.6846\n",
      "5e-05  Epoch 49/50\n",
      "1363/1363 [==============================] - 4s 3ms/step - loss: 0.5150 - acc: 0.7366 - val_loss: 0.5614 - val_acc: 0.6805\n",
      "5e-05  Epoch 50/50\n",
      "1363/1363 [==============================] - 4s 3ms/step - loss: 0.5056 - acc: 0.7359 - val_loss: 0.5624 - val_acc: 0.6763\n",
      "Wall time: 3min 35s\n"
     ]
    }
   ],
   "source": [
    "%%time\n",
    "hist = model.fit(x_train, y_train, \n",
    "                 batch_size = 128, \n",
    "                 verbose= 1,\n",
    "                 epochs = 50, #1 for ETA, 0 for silent\n",
    "                 validation_data=(x_val, y_val),\n",
    "                 callbacks=[annealer, tensorBoard])"
   ]
  },
  {
   "cell_type": "code",
   "execution_count": 18,
   "metadata": {},
   "outputs": [
    {
     "name": "stdout",
     "output_type": "stream",
     "text": [
      "241/241 [==============================] - 0s 2ms/step\n",
      "Final loss: 0.5624, final accuracy: 0.6763\n"
     ]
    }
   ],
   "source": [
    "final_loss, final_acc = model.evaluate(x_val, y_val, verbose=1)\n",
    "print(\"Final loss: {0:.4f}, final accuracy: {1:.4f}\".format(final_loss, final_acc))"
   ]
  },
  {
   "cell_type": "code",
   "execution_count": 19,
   "metadata": {},
   "outputs": [
    {
     "name": "stdout",
     "output_type": "stream",
     "text": [
      "Val log_loss: 0.5624153085856765\n",
      "Val log_loss: 0.5633293169075275\n"
     ]
    }
   ],
   "source": [
    "val_prob1 = model.predict(x_val)\n",
    "\n",
    "# print('Val log_loss: {}'.format(log_loss(y_val, val_prob1)))\n",
    "val_prob1_limit = np.clip(val_prob1, 0.00005, 0.99995)\n",
    "loss = log_loss(y_val, val_prob1_limit)\n",
    "print('Val log_loss: {}'.format(loss))\n",
    "\n",
    "val_prob1_limit = np.clip(val_prob1_limit, 0.05, 0.95)\n",
    "loss = log_loss(y_val, val_prob1_limit)\n",
    "print('Val log_loss: {}'.format(loss))"
   ]
  },
  {
   "cell_type": "code",
   "execution_count": 20,
   "metadata": {},
   "outputs": [
    {
     "name": "stdout",
     "output_type": "stream",
     "text": [
      "SC_Iceberg_Classifier_CNN_3channel_Center_20180103_224418_5633\n"
     ]
    }
   ],
   "source": [
    "final_acc_str = str(int(loss*10000))\n",
    "run_name_acc = project_name + '_' + step_name + '_' + time_str + '_' + final_acc_str\n",
    "print(run_name_acc)"
   ]
  },
  {
   "cell_type": "code",
   "execution_count": 21,
   "metadata": {},
   "outputs": [
    {
     "name": "stdout",
     "output_type": "stream",
     "text": [
      "Index(['acc', 'loss', 'val_acc', 'val_loss', 'epoch'], dtype='object')\n"
     ]
    }
   ],
   "source": [
    "histories = pd.DataFrame(hist.history)\n",
    "histories['epoch'] = hist.epoch\n",
    "print(histories.columns)\n",
    "histories_file = os.path.join(model_path, run_name_acc + '.csv')\n",
    "histories.to_csv(histories_file, index=False)"
   ]
  },
  {
   "cell_type": "code",
   "execution_count": 22,
   "metadata": {},
   "outputs": [
    {
     "data": {
      "image/png": "[encoded data removed]",
      "text/plain": [
       "<matplotlib.figure.Figure at 0x1a423406978>"
      ]
     },
     "metadata": {},
     "output_type": "display_data"
    },
    {
     "data": {
      "image/png": "[encoded data removed]",
      "text/plain": [
       "<matplotlib.figure.Figure at 0x1a4233700b8>"
      ]
     },
     "metadata": {},
     "output_type": "display_data"
    }
   ],
   "source": [
    "plt.plot(histories['loss'], color='b')\n",
    "plt.plot(histories['val_loss'], color='r')\n",
    "plt.show()\n",
    "plt.plot(histories['acc'], color='b')\n",
    "plt.plot(histories['val_acc'], color='r')\n",
    "plt.show()"
   ]
  },
  {
   "cell_type": "code",
   "execution_count": 23,
   "metadata": {},
   "outputs": [],
   "source": [
    "saveModel(model, run_name_acc)"
   ]
  },
  {
   "cell_type": "markdown",
   "metadata": {},
   "source": [
    "## 3. Predict"
   ]
  },
  {
   "cell_type": "code",
   "execution_count": 24,
   "metadata": {},
   "outputs": [
    {
     "name": "stdout",
     "output_type": "stream",
     "text": [
      "D:\\Kaggle\\Statoil_C_CORE_Iceberg_Classifier_Challenge\\output\\SC_Iceberg_Classifier_CNN_3channel_Center_20180103_224418_5633.csv\n"
     ]
    }
   ],
   "source": [
    "if not os.path.exists(output_path):\n",
    "    os.mkdir(output_path)\n",
    "pred_file = os.path.join(output_path, run_name_acc + '.csv')\n",
    "print(pred_file)"
   ]
  },
  {
   "cell_type": "code",
   "execution_count": 25,
   "metadata": {},
   "outputs": [
    {
     "name": "stdout",
     "output_type": "stream",
     "text": [
      "(8424, 1)\n",
      "[[ 0.54849112]\n",
      " [ 0.52519292]]\n",
      "(8424, 1)\n",
      "[[ 0.54849112]\n",
      " [ 0.52519292]]\n"
     ]
    }
   ],
   "source": [
    "test_prob = model.predict(x_test)\n",
    "print(test_prob.shape)\n",
    "print(test_prob[0:2])\n",
    "test_prob = np.clip(test_prob, 0.05, 0.95)\n",
    "print(test_prob.shape)\n",
    "print(test_prob[0:2])"
   ]
  },
  {
   "cell_type": "code",
   "execution_count": 26,
   "metadata": {},
   "outputs": [
    {
     "name": "stdout",
     "output_type": "stream",
     "text": [
      "         id  is_iceberg\n",
      "0  5941774d    0.548491\n",
      "1  4023181e    0.525193\n",
      "(8424, 2)\n"
     ]
    }
   ],
   "source": [
    "sample_submission['is_iceberg'] = test_prob\n",
    "print(sample_submission[0:2])\n",
    "print(sample_submission.shape)\n",
    "sample_submission.to_csv(pred_file, index=False)"
   ]
  },
  {
   "cell_type": "code",
   "execution_count": 27,
   "metadata": {},
   "outputs": [
    {
     "name": "stdout",
     "output_type": "stream",
     "text": [
      "SC_Iceberg_Classifier_CNN_3channel_Center_20180103_224418_5633\n",
      "Done!\n"
     ]
    }
   ],
   "source": [
    "print(run_name_acc)\n",
    "print('Done!')"
   ]
  },
  {
   "cell_type": "code",
   "execution_count": null,
   "metadata": {},
   "outputs": [],
   "source": []
  }
 ],
 "metadata": {
  "kernelspec": {
   "display_name": "Python 3",
   "language": "python",
   "name": "python3"
  },
  "language_info": {
   "codemirror_mode": {
    "name": "ipython",
    "version": 3
   },
   "file_extension": ".py",
   "mimetype": "text/x-python",
   "name": "python",
   "nbconvert_exporter": "python",
   "pygments_lexer": "ipython3",
   "version": "3.6.3"
  }
 },
 "nbformat": 4,
 "nbformat_minor": 2
}
