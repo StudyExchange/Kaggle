{
 "cells": [
  {
   "cell_type": "markdown",
   "metadata": {},
   "source": [
    "# CNN_10channel\n",
    "\n",
    "Abstract:\n",
    "- single channel: band_avg\n",
    "- CNN, small net\n",
    "\n",
    "Result:\n",
    "- Kaggle score: \n",
    "\n",
    "References:\n",
    "- https://www.kaggle.com/ivalmian/simple-svd-xgboost-baseline-lb-35\n",
    "- https://www.kaggle.com/arieltci/a-keras-prototype-0-21174-on-pl"
   ]
  },
  {
   "cell_type": "markdown",
   "metadata": {},
   "source": [
    "## 1. Preprocess"
   ]
  },
  {
   "cell_type": "markdown",
   "metadata": {},
   "source": [
    "### Import pkgs"
   ]
  },
  {
   "cell_type": "code",
   "execution_count": 1,
   "metadata": {
    "collapsed": true
   },
   "outputs": [],
   "source": [
    "import numpy as np\n",
    "import pandas as pd\n",
    "import matplotlib.pyplot as plt\n",
    "import seaborn as sns\n",
    "from sklearn.model_selection import train_test_split\n",
    "from sklearn.ensemble import GradientBoostingClassifier\n",
    "from sklearn.preprocessing import MinMaxScaler\n",
    "from sklearn.metrics import log_loss, accuracy_score\n",
    "from IPython.display import display\n",
    "\n",
    "%matplotlib inline"
   ]
  },
  {
   "cell_type": "code",
   "execution_count": 2,
   "metadata": {
    "collapsed": true
   },
   "outputs": [],
   "source": [
    "import os\n",
    "import time\n",
    "import zipfile\n",
    "import lzma\n",
    "import pickle\n",
    "from PIL import Image\n",
    "from shutil import copy2"
   ]
  },
  {
   "cell_type": "markdown",
   "metadata": {},
   "source": [
    "### Run name"
   ]
  },
  {
   "cell_type": "code",
   "execution_count": 3,
   "metadata": {},
   "outputs": [
    {
     "name": "stdout",
     "output_type": "stream",
     "text": [
      "run_name: SC_Iceberg_Classifier_CNN_4channel_20171111_190201\n"
     ]
    }
   ],
   "source": [
    "project_name = 'SC_Iceberg_Classifier'\n",
    "step_name = 'CNN_4channel'\n",
    "date_str = time.strftime(\"%Y%m%d\", time.localtime())\n",
    "time_str = time.strftime(\"%Y%m%d_%H%M%S\", time.localtime())\n",
    "run_name = project_name + '_' + step_name + '_' + time_str\n",
    "print('run_name: ' + run_name)"
   ]
  },
  {
   "cell_type": "markdown",
   "metadata": {},
   "source": [
    "### Basic folders"
   ]
  },
  {
   "cell_type": "code",
   "execution_count": 4,
   "metadata": {},
   "outputs": [
    {
     "name": "stdout",
     "output_type": "stream",
     "text": [
      "input_path: E:\\Kaggle\\Statoil_C_CORE_Iceberg_Classifier_Challenge\\input\n",
      "log_path: E:\\Kaggle\\Statoil_C_CORE_Iceberg_Classifier_Challenge\\log\n",
      "model_path: E:\\Kaggle\\Statoil_C_CORE_Iceberg_Classifier_Challenge\\model\n",
      "output_path: E:\\Kaggle\\Statoil_C_CORE_Iceberg_Classifier_Challenge\\output\n"
     ]
    }
   ],
   "source": [
    "cwd = os.getcwd()\n",
    "input_path = os.path.join(cwd, 'input')\n",
    "log_path = os.path.join(cwd, 'log')\n",
    "model_path = os.path.join(cwd, 'model')\n",
    "output_path = os.path.join(cwd, 'output')\n",
    "print('input_path: ' + input_path)\n",
    "print('log_path: ' + log_path)\n",
    "print('model_path: ' + model_path)\n",
    "print('output_path: ' + output_path)"
   ]
  },
  {
   "cell_type": "markdown",
   "metadata": {},
   "source": [
    "### Load data"
   ]
  },
  {
   "cell_type": "code",
   "execution_count": 5,
   "metadata": {},
   "outputs": [
    {
     "name": "stdout",
     "output_type": "stream",
     "text": [
      "(8424, 2)\n"
     ]
    },
    {
     "data": {
      "text/html": [
       "<div>\n",
       "<style>\n",
       "    .dataframe thead tr:only-child th {\n",
       "        text-align: right;\n",
       "    }\n",
       "\n",
       "    .dataframe thead th {\n",
       "        text-align: left;\n",
       "    }\n",
       "\n",
       "    .dataframe tbody tr th {\n",
       "        vertical-align: top;\n",
       "    }\n",
       "</style>\n",
       "<table border=\"1\" class=\"dataframe\">\n",
       "  <thead>\n",
       "    <tr style=\"text-align: right;\">\n",
       "      <th></th>\n",
       "      <th>id</th>\n",
       "      <th>is_iceberg</th>\n",
       "    </tr>\n",
       "  </thead>\n",
       "  <tbody>\n",
       "    <tr>\n",
       "      <th>0</th>\n",
       "      <td>5941774d</td>\n",
       "      <td>0.5</td>\n",
       "    </tr>\n",
       "    <tr>\n",
       "      <th>1</th>\n",
       "      <td>4023181e</td>\n",
       "      <td>0.5</td>\n",
       "    </tr>\n",
       "  </tbody>\n",
       "</table>\n",
       "</div>"
      ],
      "text/plain": [
       "         id  is_iceberg\n",
       "0  5941774d         0.5\n",
       "1  4023181e         0.5"
      ]
     },
     "execution_count": 5,
     "metadata": {},
     "output_type": "execute_result"
    }
   ],
   "source": [
    "sample_submission_path = os.path.join(input_path, 'sample_submission.csv')\n",
    "sample_submission = pd.read_csv(sample_submission_path)\n",
    "print(sample_submission.shape)\n",
    "sample_submission.head(2)"
   ]
  },
  {
   "cell_type": "code",
   "execution_count": 6,
   "metadata": {},
   "outputs": [
    {
     "name": "stdout",
     "output_type": "stream",
     "text": [
      "(1604,)\n"
     ]
    }
   ],
   "source": [
    "is_iceberg_path = os.path.join(input_path, 'is_iceberg.p')\n",
    "\n",
    "y_data = pickle.load(open(is_iceberg_path, mode='rb'))\n",
    "\n",
    "print(y_data.shape)"
   ]
  },
  {
   "cell_type": "code",
   "execution_count": 7,
   "metadata": {},
   "outputs": [
    {
     "name": "stdout",
     "output_type": "stream",
     "text": [
      "(1604,)\n",
      "(8424,)\n",
      "Wall time: 0 ns\n"
     ]
    }
   ],
   "source": [
    "%%time\n",
    "#Load orignal data\n",
    "inc_angle_data_path = os.path.join(input_path, 'inc_angle_data.p')\n",
    "inc_angle_test_path = os.path.join(input_path, 'inc_angle_test.p')\n",
    "\n",
    "inc_angle_data = pickle.load(open(inc_angle_data_path, mode='rb'))\n",
    "inc_angle_test = pickle.load(open(inc_angle_test_path, mode='rb'))\n",
    "\n",
    "print(inc_angle_data.shape)\n",
    "print(inc_angle_test.shape)"
   ]
  },
  {
   "cell_type": "code",
   "execution_count": 8,
   "metadata": {},
   "outputs": [
    {
     "name": "stdout",
     "output_type": "stream",
     "text": [
      "(1604, 75, 75)\n",
      "(1604, 75, 75)\n",
      "(1604, 75, 75)\n",
      "(8424, 75, 75)\n",
      "(8424, 75, 75)\n",
      "(8424, 75, 75)\n",
      "Wall time: 2.22 s\n"
     ]
    }
   ],
   "source": [
    "%%time\n",
    "#Load orignal data\n",
    "band1_data_path = os.path.join(input_path, 'band1_data.p')\n",
    "band2_data_path = os.path.join(input_path, 'band2_data.p')\n",
    "band_avg_data_path = os.path.join(input_path, 'band_avg_data.p')\n",
    "band1_test_path = os.path.join(input_path, 'band1_test.p')\n",
    "band2_test_path = os.path.join(input_path, 'band2_test.p')\n",
    "band_avg_test_path = os.path.join(input_path, 'band_avg_test.p')\n",
    "\n",
    "band1_data = pickle.load(open(band1_data_path, mode='rb'))\n",
    "band2_data = pickle.load(open(band2_data_path, mode='rb'))\n",
    "band_avg_data = pickle.load(open(band_avg_data_path, mode='rb'))\n",
    "band1_test = pickle.load(open(band1_test_path, mode='rb'))\n",
    "band2_test = pickle.load(open(band2_test_path, mode='rb'))\n",
    "band_avg_test = pickle.load(open(band_avg_test_path, mode='rb'))\n",
    "\n",
    "print(band1_data.shape)\n",
    "print(band2_data.shape)\n",
    "print(band_avg_data.shape)\n",
    "print(band1_test.shape)\n",
    "print(band2_test.shape)\n",
    "print(band_avg_test.shape)"
   ]
  },
  {
   "cell_type": "code",
   "execution_count": 9,
   "metadata": {},
   "outputs": [
    {
     "name": "stdout",
     "output_type": "stream",
     "text": [
      "(1604, 75, 75)\n",
      "(1604, 75, 75)\n",
      "(1604, 75, 75)\n",
      "(8424, 75, 75)\n",
      "(8424, 75, 75)\n",
      "(8424, 75, 75)\n",
      "Wall time: 2.17 s\n"
     ]
    }
   ],
   "source": [
    "%%time\n",
    "#Load orignal data\n",
    "band1_data_edges_path = os.path.join(input_path, 'band1_data_edges.p')\n",
    "band2_data_edges_path = os.path.join(input_path, 'band2_data_edges.p')\n",
    "band_avg_data_edges_path = os.path.join(input_path, 'band_avg_data_edges.p')\n",
    "band1_test_edges_path = os.path.join(input_path, 'band1_test_edges.p')\n",
    "band2_test_edges_path = os.path.join(input_path, 'band2_test_edges.p')\n",
    "band_avg_test_edges_path = os.path.join(input_path, 'band_avg_test_edges.p')\n",
    "\n",
    "band1_data_edges = pickle.load(open(band1_data_edges_path, mode='rb'))\n",
    "band2_data_edges = pickle.load(open(band2_data_edges_path, mode='rb'))\n",
    "band_avg_data_edges = pickle.load(open(band_avg_data_edges_path, mode='rb'))\n",
    "band1_test_edges = pickle.load(open(band1_test_edges_path, mode='rb'))\n",
    "band2_test_edges = pickle.load(open(band2_test_edges_path, mode='rb'))\n",
    "band_avg_test_edges = pickle.load(open(band_avg_test_edges_path, mode='rb'))\n",
    "\n",
    "print(band1_data_edges.shape)\n",
    "print(band2_data_edges.shape)\n",
    "print(band_avg_data_edges.shape)\n",
    "print(band1_test_edges.shape)\n",
    "print(band2_test_edges.shape)\n",
    "print(band_avg_test_edges.shape)"
   ]
  },
  {
   "cell_type": "code",
   "execution_count": 10,
   "metadata": {},
   "outputs": [
    {
     "name": "stdout",
     "output_type": "stream",
     "text": [
      "(1604, 75, 75)\n",
      "(1604, 75, 75)\n",
      "(1604, 75, 75)\n",
      "(8424, 75, 75)\n",
      "(8424, 75, 75)\n",
      "(8424, 75, 75)\n",
      "Wall time: 2.56 s\n"
     ]
    }
   ],
   "source": [
    "%%time\n",
    "#Load orignal data\n",
    "band1_data_gabor_path = os.path.join(input_path, 'band1_data_gabor.p')\n",
    "band2_data_gabor_path = os.path.join(input_path, 'band2_data_gabor.p')\n",
    "band_avg_data_gabor_path = os.path.join(input_path, 'band_avg_data_gabor.p')\n",
    "band1_test_gabor_path = os.path.join(input_path, 'band1_test_gabor.p')\n",
    "band2_test_gabor_path = os.path.join(input_path, 'band2_test_gabor.p')\n",
    "band_avg_test_gabor_path = os.path.join(input_path, 'band_avg_test_gabor.p')\n",
    "\n",
    "band1_data_gabor = pickle.load(open(band1_data_gabor_path, mode='rb'))\n",
    "band2_data_gabor = pickle.load(open(band2_data_gabor_path, mode='rb'))\n",
    "band_avg_data_gabor = pickle.load(open(band_avg_data_gabor_path, mode='rb'))\n",
    "band1_test_gabor = pickle.load(open(band1_test_gabor_path, mode='rb'))\n",
    "band2_test_gabor = pickle.load(open(band2_test_gabor_path, mode='rb'))\n",
    "band_avg_test_gabor = pickle.load(open(band_avg_test_gabor_path, mode='rb'))\n",
    "\n",
    "print(band1_data_gabor.shape)\n",
    "print(band2_data_gabor.shape)\n",
    "print(band_avg_data_gabor.shape)\n",
    "print(band1_test_gabor.shape)\n",
    "print(band2_test_gabor.shape)\n",
    "print(band_avg_test_gabor.shape)"
   ]
  },
  {
   "cell_type": "code",
   "execution_count": 11,
   "metadata": {},
   "outputs": [
    {
     "name": "stdout",
     "output_type": "stream",
     "text": [
      "(1604, 75, 75, 9)\n",
      "(8424, 75, 75, 9)\n",
      "Wall time: 8.33 s\n"
     ]
    }
   ],
   "source": [
    "%%time\n",
    "x_data = np.concatenate([band1_data[:, :, :, np.newaxis],\n",
    "                         band2_data[:, :, :, np.newaxis],\n",
    "                         band_avg_data[:, :, :, np.newaxis],\n",
    "                         band1_data_edges[:, :, :, np.newaxis],\n",
    "                         band2_data_edges[:, :, :, np.newaxis],\n",
    "                         band_avg_data_edges[:, :, :, np.newaxis],\n",
    "                         band1_data_gabor[:, :, :, np.newaxis],\n",
    "                         band2_data_gabor[:, :, :, np.newaxis],\n",
    "                         band_avg_data_gabor[:, :, :, np.newaxis]], axis=-1)\n",
    "print(x_data.shape)\n",
    "x_test = np.concatenate([band1_test[:, :, :, np.newaxis],\n",
    "                         band2_test[:, :, :, np.newaxis],\n",
    "                         band_avg_test[:, :, :, np.newaxis],\n",
    "                         band1_test_edges[:, :, :, np.newaxis],\n",
    "                         band2_test_edges[:, :, :, np.newaxis],\n",
    "                         band_avg_test_edges[:, :, :, np.newaxis],\n",
    "                         band1_test_gabor[:, :, :, np.newaxis],\n",
    "                         band2_test_gabor[:, :, :, np.newaxis],\n",
    "                         band_avg_test_gabor[:, :, :, np.newaxis]], axis=-1)\n",
    "print(x_test.shape)"
   ]
  },
  {
   "cell_type": "code",
   "execution_count": 12,
   "metadata": {},
   "outputs": [
    {
     "name": "stdout",
     "output_type": "stream",
     "text": [
      "(1363, 75, 75, 9)\n",
      "(241, 75, 75, 9)\n",
      "(1363,)\n",
      "(241,)\n",
      "(1363,)\n",
      "(241,)\n",
      "Wall time: 484 ms\n"
     ]
    }
   ],
   "source": [
    "%%time\n",
    "x_train, x_val, inc_angle_train, inc_angle_val, y_train, y_val = train_test_split(x_data, inc_angle_data, y_data, test_size=0.15, shuffle=True, random_state=31)\n",
    "print(x_train.shape)\n",
    "print(x_val.shape)\n",
    "print(inc_angle_train.shape)\n",
    "print(inc_angle_val.shape)\n",
    "print(y_train.shape)\n",
    "print(y_val.shape)"
   ]
  },
  {
   "cell_type": "markdown",
   "metadata": {},
   "source": [
    "## 2. Build model"
   ]
  },
  {
   "cell_type": "code",
   "execution_count": 13,
   "metadata": {},
   "outputs": [
    {
     "name": "stderr",
     "output_type": "stream",
     "text": [
      "Using TensorFlow backend.\n"
     ]
    }
   ],
   "source": [
    "from keras.utils.np_utils import to_categorical # convert to one-hot-encoding\n",
    "from keras.models import Sequential, Model\n",
    "from keras.layers import Dense, Dropout, Flatten, Conv2D, MaxPooling2D, GlobalMaxPooling2D, BatchNormalization, Input\n",
    "from keras.layers.merge import Concatenate\n",
    "from keras.optimizers import Adam\n",
    "from keras.preprocessing.image import ImageDataGenerator\n",
    "from keras.callbacks import LearningRateScheduler, TensorBoard"
   ]
  },
  {
   "cell_type": "code",
   "execution_count": 14,
   "metadata": {
    "collapsed": true
   },
   "outputs": [],
   "source": [
    "def build_model():\n",
    "    bn_model = 0\n",
    "    p_activation = \"relu\"\n",
    "    input_1 = Input(shape=(75, 75, 9), name=\"bands\")\n",
    "    input_2 = Input(shape=[1], name=\"angle\")\n",
    "    \n",
    "    img_1 = Conv2D(64, kernel_size = (3,3), activation=p_activation)(input_1)\n",
    "    img_1 = BatchNormalization()(img_1)\n",
    "    img_1 = Conv2D(64, kernel_size = (3,3), activation=p_activation) (img_1)\n",
    "    img_1 = BatchNormalization()(img_1)\n",
    "    img_1 = MaxPooling2D((2,2)) (img_1)\n",
    "    img_1 = Dropout(0.2)(img_1)\n",
    "    \n",
    "    img_1 = Conv2D(128, kernel_size = (3,3), activation=p_activation) (img_1)\n",
    "    img_1 = BatchNormalization()(img_1)\n",
    "    img_1 = Conv2D(128, kernel_size = (3,3), activation=p_activation) (img_1)\n",
    "    img_1 = BatchNormalization()(img_1)\n",
    "    img_1 = MaxPooling2D((2,2)) (img_1)\n",
    "    img_1 = Dropout(0.2)(img_1)\n",
    "    \n",
    "    img_1 = Conv2D(256, kernel_size = (3,3), activation=p_activation) (img_1)\n",
    "    img_1 = BatchNormalization()(img_1)\n",
    "    img_1 = Conv2D(256, kernel_size = (3,3), activation=p_activation) (img_1)\n",
    "    img_1 = BatchNormalization()(img_1)\n",
    "    img_1 = MaxPooling2D((2,2)) (img_1)\n",
    "    img_1 = Dropout(0.2)(img_1)\n",
    "\n",
    "    img_1 = GlobalMaxPooling2D() (img_1)\n",
    "    \n",
    "#     img_2 = Conv2D(128, kernel_size = (3,3), activation=p_activation)(input_1)\n",
    "#     img_2 = BatchNormalization()(img_2)\n",
    "#     img_2 = MaxPooling2D((2,2)) (img_2)\n",
    "#     img_2 = Dropout(0.2)(img_2)\n",
    "#     img_2 = GlobalMaxPooling2D() (img_2)\n",
    "    \n",
    "    angle = BatchNormalization()(input_2)\n",
    "    img_concat = (Concatenate()([img_1, angle]))\n",
    "    \n",
    "#     img_concat = Concatenate([img_1, input_2])\n",
    "    \n",
    "    dense_ayer = Dense(2048, activation=p_activation)(img_concat)\n",
    "    dense_ayer = BatchNormalization()(dense_ayer)\n",
    "    dense_ayer = Dropout(0.5)(dense_ayer)\n",
    "    dense_ayer = Dense(2048, activation=p_activation)(dense_ayer)\n",
    "    dense_ayer = Dropout(0.5)(dense_ayer)\n",
    "    dense_ayer = Dense(128, activation=p_activation)(dense_ayer)\n",
    "    dense_ayer = Dropout(0.5)(dense_ayer)\n",
    "    output = Dense(1, activation=\"sigmoid\")(dense_ayer)\n",
    "    \n",
    "    model = Model([input_1,input_2],  output)\n",
    "#     optimizer = Adam(lr=0.001, beta_1=0.9, beta_2=0.999, epsilon=1e-08, decay=0.0)\n",
    "    model.compile(optimizer = Adam(lr=1e-4), loss = 'binary_crossentropy', metrics = ['accuracy'])\n",
    "    return model"
   ]
  },
  {
   "cell_type": "code",
   "execution_count": 15,
   "metadata": {
    "collapsed": true
   },
   "outputs": [],
   "source": [
    "# def build_model():\n",
    "#     model = Sequential()\n",
    "\n",
    "#     model.add(Conv2D(filters = 32, kernel_size = (3, 3), activation='relu',\n",
    "#                      input_shape = (75, 75, 3)))\n",
    "#     model.add(BatchNormalization())\n",
    "#     model.add(Conv2D(filters = 32, kernel_size = (3, 3), activation='relu'))\n",
    "#     model.add(BatchNormalization())\n",
    "#     model.add(MaxPool2D(strides=(2,2)))\n",
    "#     model.add(Dropout(0.25))\n",
    "\n",
    "#     model.add(Conv2D(filters = 64, kernel_size = (3, 3), activation='relu'))\n",
    "#     model.add(BatchNormalization())\n",
    "#     model.add(Conv2D(filters = 64, kernel_size = (3, 3), activation='relu'))\n",
    "#     model.add(BatchNormalization())\n",
    "#     model.add(MaxPool2D(strides=(2,2)))\n",
    "#     model.add(Dropout(0.25))\n",
    "\n",
    "#     model.add(Conv2D(filters = 128, kernel_size = (3, 3), activation='relu'))\n",
    "#     model.add(BatchNormalization())\n",
    "#     model.add(Conv2D(filters = 128, kernel_size = (3, 3), activation='relu'))\n",
    "#     model.add(BatchNormalization())\n",
    "#     model.add(MaxPool2D(strides=(2,2)))\n",
    "#     model.add(Dropout(0.25))\n",
    "    \n",
    "#     model.add(Flatten())\n",
    "#     model.add(Dense(1024, activation='relu'))\n",
    "#     model.add(Dropout(0.25))\n",
    "#     model.add(Dense(1024, activation='relu'))\n",
    "#     model.add(Dropout(0.5))\n",
    "#     model.add(Dense(units = 1, activation = 'sigmoid'))\n",
    "\n",
    "#     model.compile(optimizer = Adam(lr=1e-4), loss = 'binary_crossentropy', metrics = ['accuracy'])\n",
    "#     return model"
   ]
  },
  {
   "cell_type": "code",
   "execution_count": 16,
   "metadata": {},
   "outputs": [
    {
     "name": "stdout",
     "output_type": "stream",
     "text": [
      "____________________________________________________________________________________________________\n",
      "Layer (type)                     Output Shape          Param #     Connected to                     \n",
      "====================================================================================================\n",
      "bands (InputLayer)               (None, 75, 75, 9)     0                                            \n",
      "____________________________________________________________________________________________________\n",
      "conv2d_1 (Conv2D)                (None, 73, 73, 64)    5248        bands[0][0]                      \n",
      "____________________________________________________________________________________________________\n",
      "batch_normalization_1 (BatchNorm (None, 73, 73, 64)    256         conv2d_1[0][0]                   \n",
      "____________________________________________________________________________________________________\n",
      "conv2d_2 (Conv2D)                (None, 71, 71, 64)    36928       batch_normalization_1[0][0]      \n",
      "____________________________________________________________________________________________________\n",
      "batch_normalization_2 (BatchNorm (None, 71, 71, 64)    256         conv2d_2[0][0]                   \n",
      "____________________________________________________________________________________________________\n",
      "max_pooling2d_1 (MaxPooling2D)   (None, 35, 35, 64)    0           batch_normalization_2[0][0]      \n",
      "____________________________________________________________________________________________________\n",
      "dropout_1 (Dropout)              (None, 35, 35, 64)    0           max_pooling2d_1[0][0]            \n",
      "____________________________________________________________________________________________________\n",
      "conv2d_3 (Conv2D)                (None, 33, 33, 128)   73856       dropout_1[0][0]                  \n",
      "____________________________________________________________________________________________________\n",
      "batch_normalization_3 (BatchNorm (None, 33, 33, 128)   512         conv2d_3[0][0]                   \n",
      "____________________________________________________________________________________________________\n",
      "conv2d_4 (Conv2D)                (None, 31, 31, 128)   147584      batch_normalization_3[0][0]      \n",
      "____________________________________________________________________________________________________\n",
      "batch_normalization_4 (BatchNorm (None, 31, 31, 128)   512         conv2d_4[0][0]                   \n",
      "____________________________________________________________________________________________________\n",
      "max_pooling2d_2 (MaxPooling2D)   (None, 15, 15, 128)   0           batch_normalization_4[0][0]      \n",
      "____________________________________________________________________________________________________\n",
      "dropout_2 (Dropout)              (None, 15, 15, 128)   0           max_pooling2d_2[0][0]            \n",
      "____________________________________________________________________________________________________\n",
      "conv2d_5 (Conv2D)                (None, 13, 13, 256)   295168      dropout_2[0][0]                  \n",
      "____________________________________________________________________________________________________\n",
      "batch_normalization_5 (BatchNorm (None, 13, 13, 256)   1024        conv2d_5[0][0]                   \n",
      "____________________________________________________________________________________________________\n",
      "conv2d_6 (Conv2D)                (None, 11, 11, 256)   590080      batch_normalization_5[0][0]      \n",
      "____________________________________________________________________________________________________\n",
      "batch_normalization_6 (BatchNorm (None, 11, 11, 256)   1024        conv2d_6[0][0]                   \n",
      "____________________________________________________________________________________________________\n",
      "max_pooling2d_3 (MaxPooling2D)   (None, 5, 5, 256)     0           batch_normalization_6[0][0]      \n",
      "____________________________________________________________________________________________________\n",
      "dropout_3 (Dropout)              (None, 5, 5, 256)     0           max_pooling2d_3[0][0]            \n",
      "____________________________________________________________________________________________________\n",
      "angle (InputLayer)               (None, 1)             0                                            \n",
      "____________________________________________________________________________________________________\n",
      "global_max_pooling2d_1 (GlobalMa (None, 256)           0           dropout_3[0][0]                  \n",
      "____________________________________________________________________________________________________\n",
      "batch_normalization_7 (BatchNorm (None, 1)             4           angle[0][0]                      \n",
      "____________________________________________________________________________________________________\n",
      "concatenate_1 (Concatenate)      (None, 257)           0           global_max_pooling2d_1[0][0]     \n",
      "                                                                   batch_normalization_7[0][0]      \n",
      "____________________________________________________________________________________________________\n",
      "dense_1 (Dense)                  (None, 2048)          528384      concatenate_1[0][0]              \n",
      "____________________________________________________________________________________________________\n",
      "batch_normalization_8 (BatchNorm (None, 2048)          8192        dense_1[0][0]                    \n",
      "____________________________________________________________________________________________________\n",
      "dropout_4 (Dropout)              (None, 2048)          0           batch_normalization_8[0][0]      \n",
      "____________________________________________________________________________________________________\n",
      "dense_2 (Dense)                  (None, 2048)          4196352     dropout_4[0][0]                  \n",
      "____________________________________________________________________________________________________\n",
      "dropout_5 (Dropout)              (None, 2048)          0           dense_2[0][0]                    \n",
      "____________________________________________________________________________________________________\n",
      "dense_3 (Dense)                  (None, 128)           262272      dropout_5[0][0]                  \n",
      "____________________________________________________________________________________________________\n",
      "dropout_6 (Dropout)              (None, 128)           0           dense_3[0][0]                    \n",
      "____________________________________________________________________________________________________\n",
      "dense_4 (Dense)                  (None, 1)             129         dropout_6[0][0]                  \n",
      "====================================================================================================\n",
      "Total params: 6,147,781\n",
      "Trainable params: 6,141,891\n",
      "Non-trainable params: 5,890\n",
      "____________________________________________________________________________________________________\n"
     ]
    }
   ],
   "source": [
    "model = build_model()\n",
    "model.summary()"
   ]
  },
  {
   "cell_type": "code",
   "execution_count": 17,
   "metadata": {
    "collapsed": true
   },
   "outputs": [],
   "source": [
    "def saveModel(model, run_name):\n",
    "    cwd = os.getcwd()\n",
    "    modelPath = os.path.join(cwd, 'model')\n",
    "    if not os.path.isdir(modelPath):\n",
    "        os.mkdir(modelPath)\n",
    "    weigthsFile = os.path.join(modelPath, run_name + '.h5')\n",
    "    model.save(weigthsFile)\n",
    "saveModel(model, 'saveModel_test')"
   ]
  },
  {
   "cell_type": "code",
   "execution_count": 18,
   "metadata": {},
   "outputs": [
    {
     "name": "stdout",
     "output_type": "stream",
     "text": [
      "log_dir:E:\\Kaggle\\Statoil_C_CORE_Iceberg_Classifier_Challenge\\log\\SC_Iceberg_Classifier_CNN_4channel_20171111_190201\n"
     ]
    }
   ],
   "source": [
    "def get_lr(x):\n",
    "    lr = round(1e-3 * 0.9 ** x, 6)\n",
    "    if lr < 5e-5:\n",
    "        lr = 5e-5\n",
    "    print(lr, end='  ')\n",
    "    return lr\n",
    "\n",
    "# annealer = LearningRateScheduler(lambda x: 1e-3 * 0.9 ** x)\n",
    "annealer = LearningRateScheduler(get_lr)\n",
    "\n",
    "log_dir = os.path.join(log_path, run_name)\n",
    "print('log_dir:' + log_dir)\n",
    "tensorBoard = TensorBoard(log_dir=log_dir)"
   ]
  },
  {
   "cell_type": "code",
   "execution_count": 19,
   "metadata": {},
   "outputs": [
    {
     "name": "stdout",
     "output_type": "stream",
     "text": [
      "Train on 1363 samples, validate on 241 samples\n",
      "Epoch 1/100\n",
      "1363/1363 [==============================] - 9s - loss: 0.7792 - acc: 0.6163 - val_loss: 0.8889 - val_acc: 0.4357\n",
      "Epoch 2/100\n",
      "1363/1363 [==============================] - 7s - loss: 0.6632 - acc: 0.6867 - val_loss: 0.9189 - val_acc: 0.4398\n",
      "Epoch 3/100\n",
      "1363/1363 [==============================] - 7s - loss: 0.6104 - acc: 0.6948 - val_loss: 0.7279 - val_acc: 0.5519\n",
      "Epoch 4/100\n",
      "1363/1363 [==============================] - 7s - loss: 0.5218 - acc: 0.7469 - val_loss: 0.5494 - val_acc: 0.6971\n",
      "Epoch 5/100\n",
      "1363/1363 [==============================] - 7s - loss: 0.4890 - acc: 0.7755 - val_loss: 0.4729 - val_acc: 0.7552\n",
      "Epoch 6/100\n",
      "1363/1363 [==============================] - 7s - loss: 0.4374 - acc: 0.8026 - val_loss: 0.4889 - val_acc: 0.7718\n",
      "Epoch 7/100\n",
      "1363/1363 [==============================] - 7s - loss: 0.4217 - acc: 0.7960 - val_loss: 0.5349 - val_acc: 0.7344\n",
      "Epoch 8/100\n",
      "1363/1363 [==============================] - 7s - loss: 0.4128 - acc: 0.8195 - val_loss: 0.4504 - val_acc: 0.7884\n",
      "Epoch 9/100\n",
      "1363/1363 [==============================] - 7s - loss: 0.3925 - acc: 0.8349 - val_loss: 0.3938 - val_acc: 0.8382\n",
      "Epoch 10/100\n",
      "1363/1363 [==============================] - 7s - loss: 0.3774 - acc: 0.8283 - val_loss: 0.4023 - val_acc: 0.8133\n",
      "Epoch 11/100\n",
      "1363/1363 [==============================] - 7s - loss: 0.3891 - acc: 0.8327 - val_loss: 0.4472 - val_acc: 0.7676\n",
      "Epoch 12/100\n",
      "1363/1363 [==============================] - 7s - loss: 0.3599 - acc: 0.8459 - val_loss: 0.4684 - val_acc: 0.7344\n",
      "Epoch 13/100\n",
      "1363/1363 [==============================] - 7s - loss: 0.3347 - acc: 0.8503 - val_loss: 0.3721 - val_acc: 0.8714\n",
      "Epoch 14/100\n",
      "1363/1363 [==============================] - 7s - loss: 0.3259 - acc: 0.8613 - val_loss: 0.3525 - val_acc: 0.8382\n",
      "Epoch 15/100\n",
      "1363/1363 [==============================] - 6s - loss: 0.3430 - acc: 0.8569 - val_loss: 0.3773 - val_acc: 0.8216\n",
      "Epoch 16/100\n",
      "1363/1363 [==============================] - 7s - loss: 0.3135 - acc: 0.8584 - val_loss: 0.3423 - val_acc: 0.8672\n",
      "Epoch 17/100\n",
      "1363/1363 [==============================] - 7s - loss: 0.3068 - acc: 0.8694 - val_loss: 0.4456 - val_acc: 0.7925\n",
      "Epoch 18/100\n",
      "1363/1363 [==============================] - 6s - loss: 0.3015 - acc: 0.8694 - val_loss: 0.3772 - val_acc: 0.8008\n",
      "Epoch 19/100\n",
      "1363/1363 [==============================] - 7s - loss: 0.3027 - acc: 0.8709 - val_loss: 0.3482 - val_acc: 0.8672\n",
      "Epoch 20/100\n",
      "1363/1363 [==============================] - 6s - loss: 0.2848 - acc: 0.8826 - val_loss: 0.3336 - val_acc: 0.8755\n",
      "Epoch 21/100\n",
      "1363/1363 [==============================] - 7s - loss: 0.3032 - acc: 0.8745 - val_loss: 0.3362 - val_acc: 0.8714\n",
      "Epoch 22/100\n",
      "1363/1363 [==============================] - 7s - loss: 0.2899 - acc: 0.8753 - val_loss: 0.3462 - val_acc: 0.8631\n",
      "Epoch 23/100\n",
      "1363/1363 [==============================] - 7s - loss: 0.2749 - acc: 0.8775 - val_loss: 0.3203 - val_acc: 0.8921\n",
      "Epoch 24/100\n",
      "1363/1363 [==============================] - 7s - loss: 0.2810 - acc: 0.8929 - val_loss: 0.3169 - val_acc: 0.8880\n",
      "Epoch 25/100\n",
      "1363/1363 [==============================] - 7s - loss: 0.2581 - acc: 0.8885 - val_loss: 0.3216 - val_acc: 0.8589\n",
      "Epoch 26/100\n",
      "1363/1363 [==============================] - 7s - loss: 0.2653 - acc: 0.8929 - val_loss: 0.3696 - val_acc: 0.8714\n",
      "Epoch 27/100\n",
      "1363/1363 [==============================] - 7s - loss: 0.2795 - acc: 0.8819 - val_loss: 0.3382 - val_acc: 0.8672\n",
      "Epoch 28/100\n",
      "1363/1363 [==============================] - 7s - loss: 0.2334 - acc: 0.9083 - val_loss: 0.3232 - val_acc: 0.8963\n",
      "Epoch 29/100\n",
      "1363/1363 [==============================] - 7s - loss: 0.2668 - acc: 0.8958 - val_loss: 0.3105 - val_acc: 0.8631\n",
      "Epoch 30/100\n",
      "1363/1363 [==============================] - 7s - loss: 0.2642 - acc: 0.8980 - val_loss: 0.3377 - val_acc: 0.8797\n",
      "Epoch 31/100\n",
      "1363/1363 [==============================] - 7s - loss: 0.2213 - acc: 0.9068 - val_loss: 0.3576 - val_acc: 0.8755\n",
      "Epoch 32/100\n",
      "1363/1363 [==============================] - 6s - loss: 0.2292 - acc: 0.9039 - val_loss: 0.3391 - val_acc: 0.8589\n",
      "Epoch 33/100\n",
      "1363/1363 [==============================] - 7s - loss: 0.1896 - acc: 0.9252 - val_loss: 0.4132 - val_acc: 0.8714\n",
      "Epoch 34/100\n",
      "1363/1363 [==============================] - 7s - loss: 0.2324 - acc: 0.9120 - val_loss: 0.3624 - val_acc: 0.8423\n",
      "Epoch 35/100\n",
      "1363/1363 [==============================] - 7s - loss: 0.1982 - acc: 0.9288 - val_loss: 0.3288 - val_acc: 0.8631\n",
      "Epoch 36/100\n",
      "1363/1363 [==============================] - 7s - loss: 0.1783 - acc: 0.9310 - val_loss: 0.3382 - val_acc: 0.8755\n",
      "Epoch 37/100\n",
      "1363/1363 [==============================] - 7s - loss: 0.2066 - acc: 0.9149 - val_loss: 0.3883 - val_acc: 0.8382\n",
      "Epoch 38/100\n",
      "1363/1363 [==============================] - 7s - loss: 0.2025 - acc: 0.9252 - val_loss: 0.4962 - val_acc: 0.8340\n",
      "Epoch 39/100\n",
      "1363/1363 [==============================] - 7s - loss: 0.2097 - acc: 0.9230 - val_loss: 0.3586 - val_acc: 0.8714\n",
      "Epoch 40/100\n",
      "1363/1363 [==============================] - 6s - loss: 0.1700 - acc: 0.9376 - val_loss: 0.3347 - val_acc: 0.8631\n",
      "Epoch 41/100\n",
      "1363/1363 [==============================] - 7s - loss: 0.1951 - acc: 0.9281 - val_loss: 0.3950 - val_acc: 0.8880\n",
      "Epoch 42/100\n",
      "1363/1363 [==============================] - 7s - loss: 0.1805 - acc: 0.9398 - val_loss: 0.4012 - val_acc: 0.8589\n",
      "Epoch 43/100\n",
      "1363/1363 [==============================] - 7s - loss: 0.1606 - acc: 0.9391 - val_loss: 0.3533 - val_acc: 0.8714\n",
      "Epoch 44/100\n",
      "1363/1363 [==============================] - 7s - loss: 0.1462 - acc: 0.9464 - val_loss: 0.3841 - val_acc: 0.8797\n",
      "Epoch 45/100\n",
      "1363/1363 [==============================] - 7s - loss: 0.1522 - acc: 0.9420 - val_loss: 0.3745 - val_acc: 0.8963\n",
      "Epoch 46/100\n",
      "1363/1363 [==============================] - 7s - loss: 0.1286 - acc: 0.9552 - val_loss: 0.3413 - val_acc: 0.8880\n",
      "Epoch 47/100\n",
      "1363/1363 [==============================] - 7s - loss: 0.0994 - acc: 0.9611 - val_loss: 0.3790 - val_acc: 0.8963\n",
      "Epoch 48/100\n",
      "1363/1363 [==============================] - 7s - loss: 0.1379 - acc: 0.9442 - val_loss: 0.3559 - val_acc: 0.8921\n",
      "Epoch 49/100\n",
      "1363/1363 [==============================] - 7s - loss: 0.1602 - acc: 0.9391 - val_loss: 0.3260 - val_acc: 0.8880\n",
      "Epoch 50/100\n",
      "1363/1363 [==============================] - 7s - loss: 0.1178 - acc: 0.9552 - val_loss: 0.3622 - val_acc: 0.8921\n",
      "Epoch 51/100\n",
      "1363/1363 [==============================] - 7s - loss: 0.1393 - acc: 0.9516 - val_loss: 0.4316 - val_acc: 0.8797\n",
      "Epoch 52/100\n",
      "1363/1363 [==============================] - 7s - loss: 0.1267 - acc: 0.9501 - val_loss: 0.4752 - val_acc: 0.8382\n",
      "Epoch 53/100\n",
      "1363/1363 [==============================] - 7s - loss: 0.1048 - acc: 0.9596 - val_loss: 0.4537 - val_acc: 0.8797\n",
      "Epoch 54/100\n",
      "1363/1363 [==============================] - 6s - loss: 0.1129 - acc: 0.9552 - val_loss: 0.6347 - val_acc: 0.8465\n",
      "Epoch 55/100\n",
      "1363/1363 [==============================] - 7s - loss: 0.1157 - acc: 0.9604 - val_loss: 0.5222 - val_acc: 0.8589\n",
      "Epoch 56/100\n",
      "1363/1363 [==============================] - 7s - loss: 0.1052 - acc: 0.9640 - val_loss: 0.4331 - val_acc: 0.8506\n",
      "Epoch 57/100\n",
      "1363/1363 [==============================] - 7s - loss: 0.1034 - acc: 0.9640 - val_loss: 0.3804 - val_acc: 0.8797\n",
      "Epoch 58/100\n",
      "1363/1363 [==============================] - 7s - loss: 0.1127 - acc: 0.9633 - val_loss: 0.6855 - val_acc: 0.8423\n",
      "Epoch 59/100\n",
      "1363/1363 [==============================] - 7s - loss: 0.1055 - acc: 0.9626 - val_loss: 0.3312 - val_acc: 0.8838\n",
      "Epoch 60/100\n",
      "1363/1363 [==============================] - 7s - loss: 0.1016 - acc: 0.9692 - val_loss: 0.4298 - val_acc: 0.9004\n",
      "Epoch 61/100\n",
      "1363/1363 [==============================] - 7s - loss: 0.1024 - acc: 0.9618 - val_loss: 0.4796 - val_acc: 0.8506\n",
      "Epoch 62/100\n",
      "1363/1363 [==============================] - 7s - loss: 0.0932 - acc: 0.9670 - val_loss: 0.4704 - val_acc: 0.8299\n",
      "Epoch 63/100\n",
      "1363/1363 [==============================] - 8s - loss: 0.1364 - acc: 0.9472 - val_loss: 0.4161 - val_acc: 0.8714\n",
      "Epoch 64/100\n",
      "1363/1363 [==============================] - 7s - loss: 0.0530 - acc: 0.9831 - val_loss: 0.5414 - val_acc: 0.8631\n",
      "Epoch 65/100\n"
     ]
    },
    {
     "name": "stdout",
     "output_type": "stream",
     "text": [
      "1363/1363 [==============================] - 7s - loss: 0.0736 - acc: 0.9729 - val_loss: 0.8019 - val_acc: 0.8133\n",
      "Epoch 66/100\n",
      "1363/1363 [==============================] - 7s - loss: 0.1188 - acc: 0.9596 - val_loss: 0.4892 - val_acc: 0.8299\n",
      "Epoch 67/100\n",
      "1363/1363 [==============================] - 8s - loss: 0.0920 - acc: 0.9655 - val_loss: 0.3877 - val_acc: 0.8921\n",
      "Epoch 68/100\n",
      "1363/1363 [==============================] - 8s - loss: 0.1077 - acc: 0.9604 - val_loss: 0.3783 - val_acc: 0.8963\n",
      "Epoch 69/100\n",
      "1363/1363 [==============================] - 7s - loss: 0.0872 - acc: 0.9721 - val_loss: 0.3647 - val_acc: 0.8880\n",
      "Epoch 70/100\n",
      "1363/1363 [==============================] - 6s - loss: 0.0501 - acc: 0.9787 - val_loss: 0.5817 - val_acc: 0.8714\n",
      "Epoch 71/100\n",
      "1363/1363 [==============================] - 7s - loss: 0.0816 - acc: 0.9685 - val_loss: 0.4044 - val_acc: 0.8921\n",
      "Epoch 72/100\n",
      "1363/1363 [==============================] - 7s - loss: 0.0633 - acc: 0.9765 - val_loss: 0.4167 - val_acc: 0.8838\n",
      "Epoch 73/100\n",
      "1363/1363 [==============================] - 7s - loss: 0.1073 - acc: 0.9626 - val_loss: 0.6850 - val_acc: 0.7842\n",
      "Epoch 74/100\n",
      "1363/1363 [==============================] - 7s - loss: 0.0831 - acc: 0.9721 - val_loss: 0.4233 - val_acc: 0.8797\n",
      "Epoch 75/100\n",
      "1363/1363 [==============================] - 7s - loss: 0.0678 - acc: 0.9809 - val_loss: 0.6152 - val_acc: 0.8506\n",
      "Epoch 76/100\n",
      "1363/1363 [==============================] - 7s - loss: 0.0770 - acc: 0.9787 - val_loss: 0.5807 - val_acc: 0.8382\n",
      "Epoch 77/100\n",
      "1363/1363 [==============================] - 7s - loss: 0.0902 - acc: 0.9714 - val_loss: 0.4774 - val_acc: 0.8672\n",
      "Epoch 78/100\n",
      "1363/1363 [==============================] - 7s - loss: 0.1014 - acc: 0.9640 - val_loss: 0.4058 - val_acc: 0.8880\n",
      "Epoch 79/100\n",
      "1363/1363 [==============================] - 7s - loss: 0.0634 - acc: 0.9773 - val_loss: 0.4022 - val_acc: 0.9046\n",
      "Epoch 80/100\n",
      "1363/1363 [==============================] - 7s - loss: 0.0428 - acc: 0.9853 - val_loss: 0.4534 - val_acc: 0.9004\n",
      "Epoch 81/100\n",
      "1363/1363 [==============================] - 7s - loss: 0.0717 - acc: 0.9743 - val_loss: 0.4467 - val_acc: 0.9004\n",
      "Epoch 82/100\n",
      "1363/1363 [==============================] - 7s - loss: 0.0863 - acc: 0.9743 - val_loss: 0.3952 - val_acc: 0.8880\n",
      "Epoch 83/100\n",
      "1363/1363 [==============================] - 6s - loss: 0.0567 - acc: 0.9795 - val_loss: 0.3918 - val_acc: 0.8838\n",
      "Epoch 84/100\n",
      "1363/1363 [==============================] - 7s - loss: 0.0598 - acc: 0.9751 - val_loss: 0.4213 - val_acc: 0.8963\n",
      "Epoch 85/100\n",
      "1363/1363 [==============================] - 6s - loss: 0.0588 - acc: 0.9787 - val_loss: 0.4607 - val_acc: 0.8963\n",
      "Epoch 86/100\n",
      "1363/1363 [==============================] - 7s - loss: 0.0523 - acc: 0.9831 - val_loss: 0.9846 - val_acc: 0.8133\n",
      "Epoch 87/100\n",
      "1363/1363 [==============================] - 7s - loss: 0.0547 - acc: 0.9831 - val_loss: 0.4125 - val_acc: 0.9170\n",
      "Epoch 88/100\n",
      "1363/1363 [==============================] - 6s - loss: 0.0496 - acc: 0.9839 - val_loss: 0.4452 - val_acc: 0.8838\n",
      "Epoch 89/100\n",
      "1363/1363 [==============================] - 7s - loss: 0.0339 - acc: 0.9883 - val_loss: 0.5972 - val_acc: 0.8672\n",
      "Epoch 90/100\n",
      "1363/1363 [==============================] - 7s - loss: 0.0793 - acc: 0.9714 - val_loss: 0.4268 - val_acc: 0.8672\n",
      "Epoch 91/100\n",
      "1363/1363 [==============================] - 7s - loss: 0.0658 - acc: 0.9817 - val_loss: 0.3804 - val_acc: 0.8838\n",
      "Epoch 92/100\n",
      "1363/1363 [==============================] - 7s - loss: 0.0506 - acc: 0.9831 - val_loss: 0.4929 - val_acc: 0.8838\n",
      "Epoch 93/100\n",
      "1363/1363 [==============================] - 7s - loss: 0.0366 - acc: 0.9890 - val_loss: 0.4540 - val_acc: 0.8631\n",
      "Epoch 94/100\n",
      "1363/1363 [==============================] - 7s - loss: 0.0749 - acc: 0.9787 - val_loss: 0.6010 - val_acc: 0.8340\n",
      "Epoch 95/100\n",
      "1363/1363 [==============================] - 7s - loss: 0.0723 - acc: 0.9795 - val_loss: 0.4162 - val_acc: 0.8589\n",
      "Epoch 96/100\n",
      "1363/1363 [==============================] - 7s - loss: 0.0595 - acc: 0.9839 - val_loss: 0.4775 - val_acc: 0.8880\n",
      "Epoch 97/100\n",
      "1363/1363 [==============================] - 7s - loss: 0.0471 - acc: 0.9831 - val_loss: 0.4668 - val_acc: 0.8797\n",
      "Epoch 98/100\n",
      "1363/1363 [==============================] - 8s - loss: 0.0454 - acc: 0.9861 - val_loss: 0.4564 - val_acc: 0.8838\n",
      "Epoch 99/100\n",
      "1363/1363 [==============================] - 7s - loss: 0.0439 - acc: 0.9846 - val_loss: 0.4792 - val_acc: 0.8755\n",
      "Epoch 100/100\n",
      "1363/1363 [==============================] - 7s - loss: 0.0349 - acc: 0.9853 - val_loss: 0.5268 - val_acc: 0.8714\n",
      "Wall time: 12min 38s\n"
     ]
    }
   ],
   "source": [
    "%%time\n",
    "hist = model.fit([x_train, inc_angle_train], y_train, \n",
    "                 batch_size = 8, \n",
    "                 verbose= 1,\n",
    "                 epochs = 100, #1 for ETA, 0 for silent\n",
    "                 validation_data=([x_val, inc_angle_val], y_val),\n",
    "                 callbacks=[tensorBoard])"
   ]
  },
  {
   "cell_type": "code",
   "execution_count": 20,
   "metadata": {},
   "outputs": [
    {
     "name": "stdout",
     "output_type": "stream",
     "text": [
      "241/241 [==============================] - 0s     \n",
      "Final loss: 0.5268, final accuracy: 0.8714\n"
     ]
    }
   ],
   "source": [
    "final_loss, final_acc = model.evaluate([x_val, inc_angle_val], y_val, verbose=1)\n",
    "print(\"Final loss: {0:.4f}, final accuracy: {1:.4f}\".format(final_loss, final_acc))"
   ]
  },
  {
   "cell_type": "code",
   "execution_count": 21,
   "metadata": {},
   "outputs": [
    {
     "name": "stdout",
     "output_type": "stream",
     "text": [
      "Val log_loss: 0.4903107398095621\n",
      "Val log_loss: 0.3523237080896791\n"
     ]
    }
   ],
   "source": [
    "val_prob1 = model.predict([x_val, inc_angle_val])\n",
    "\n",
    "# print('Val log_loss: {}'.format(log_loss(y_val, val_prob1)))\n",
    "val_prob1_limit = np.clip(val_prob1, 0.00005, 0.99995)\n",
    "loss = log_loss(y_val, val_prob1_limit)\n",
    "print('Val log_loss: {}'.format(loss))\n",
    "\n",
    "val_prob1_limit = np.clip(val_prob1_limit, 0.05, 0.95)\n",
    "loss = log_loss(y_val, val_prob1_limit)\n",
    "print('Val log_loss: {}'.format(loss))"
   ]
  },
  {
   "cell_type": "code",
   "execution_count": 22,
   "metadata": {},
   "outputs": [
    {
     "name": "stdout",
     "output_type": "stream",
     "text": [
      "SC_Iceberg_Classifier_CNN_4channel_20171111_190201_3523\n"
     ]
    }
   ],
   "source": [
    "final_acc_str = str(int(loss*10000))\n",
    "run_name_acc = project_name + '_' + step_name + '_' + time_str + '_' + final_acc_str\n",
    "print(run_name_acc)"
   ]
  },
  {
   "cell_type": "code",
   "execution_count": 23,
   "metadata": {},
   "outputs": [
    {
     "name": "stdout",
     "output_type": "stream",
     "text": [
      "Index(['acc', 'loss', 'val_acc', 'val_loss', 'epoch'], dtype='object')\n"
     ]
    }
   ],
   "source": [
    "histories = pd.DataFrame(hist.history)\n",
    "histories['epoch'] = hist.epoch\n",
    "print(histories.columns)\n",
    "histories_file = os.path.join(model_path, run_name_acc + '.csv')\n",
    "histories.to_csv(histories_file, index=False)"
   ]
  },
  {
   "cell_type": "code",
   "execution_count": 24,
   "metadata": {},
   "outputs": [
    {
     "data": {
      "image/png": "[encoded data removed]",
      "text/plain": [
       "<matplotlib.figure.Figure at 0xfcc3a69748>"
      ]
     },
     "metadata": {},
     "output_type": "display_data"
    },
    {
     "data": {
      "image/png": "[encoded data removed]",
      "text/plain": [
       "<matplotlib.figure.Figure at 0xfcc7e19b70>"
      ]
     },
     "metadata": {},
     "output_type": "display_data"
    }
   ],
   "source": [
    "plt.plot(histories['loss'], color='b')\n",
    "plt.plot(histories['val_loss'], color='r')\n",
    "plt.show()\n",
    "plt.plot(histories['acc'], color='b')\n",
    "plt.plot(histories['val_acc'], color='r')\n",
    "plt.show()"
   ]
  },
  {
   "cell_type": "code",
   "execution_count": 25,
   "metadata": {
    "collapsed": true
   },
   "outputs": [],
   "source": [
    "saveModel(model, run_name_acc)"
   ]
  },
  {
   "cell_type": "markdown",
   "metadata": {},
   "source": [
    "## 3. Predict"
   ]
  },
  {
   "cell_type": "code",
   "execution_count": 26,
   "metadata": {},
   "outputs": [
    {
     "name": "stdout",
     "output_type": "stream",
     "text": [
      "E:\\Kaggle\\Statoil_C_CORE_Iceberg_Classifier_Challenge\\output\\SC_Iceberg_Classifier_CNN_4channel_20171111_190201_3523.csv\n"
     ]
    }
   ],
   "source": [
    "if not os.path.exists(output_path):\n",
    "    os.mkdir(output_path)\n",
    "pred_file = os.path.join(output_path, run_name_acc + '.csv')\n",
    "print(pred_file)"
   ]
  },
  {
   "cell_type": "code",
   "execution_count": 27,
   "metadata": {},
   "outputs": [
    {
     "name": "stdout",
     "output_type": "stream",
     "text": [
      "(8424, 1)\n",
      "[[  1.61323333e-05]\n",
      " [  2.24711254e-01]]\n",
      "(8424, 1)\n",
      "[[ 0.05      ]\n",
      " [ 0.22471125]]\n"
     ]
    }
   ],
   "source": [
    "test_prob = model.predict([x_test, inc_angle_test])\n",
    "print(test_prob.shape)\n",
    "print(test_prob[0:2])\n",
    "test_prob = np.clip(test_prob, 0.05, 0.95)\n",
    "print(test_prob.shape)\n",
    "print(test_prob[0:2])"
   ]
  },
  {
   "cell_type": "code",
   "execution_count": 28,
   "metadata": {},
   "outputs": [
    {
     "name": "stdout",
     "output_type": "stream",
     "text": [
      "         id  is_iceberg\n",
      "0  5941774d    0.050000\n",
      "1  4023181e    0.224711\n",
      "(8424, 2)\n"
     ]
    }
   ],
   "source": [
    "sample_submission['is_iceberg'] = test_prob\n",
    "print(sample_submission[0:2])\n",
    "print(sample_submission.shape)\n",
    "sample_submission.to_csv(pred_file, index=False)"
   ]
  },
  {
   "cell_type": "code",
   "execution_count": 29,
   "metadata": {},
   "outputs": [
    {
     "name": "stdout",
     "output_type": "stream",
     "text": [
      "SC_Iceberg_Classifier_CNN_4channel_20171111_190201_3523\n",
      "Done!\n"
     ]
    }
   ],
   "source": [
    "print(run_name_acc)\n",
    "print('Done!')"
   ]
  },
  {
   "cell_type": "code",
   "execution_count": null,
   "metadata": {
    "collapsed": true
   },
   "outputs": [],
   "source": []
  }
 ],
 "metadata": {
  "kernelspec": {
   "display_name": "Python 3",
   "language": "python",
   "name": "python3"
  },
  "language_info": {
   "codemirror_mode": {
    "name": "ipython",
    "version": 3
   },
   "file_extension": ".py",
   "mimetype": "text/x-python",
   "name": "python",
   "nbconvert_exporter": "python",
   "pygments_lexer": "ipython3",
   "version": "3.5.4"
  }
 },
 "nbformat": 4,
 "nbformat_minor": 2
}
