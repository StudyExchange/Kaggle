{
 "cells": [
  {
   "cell_type": "markdown",
   "metadata": {},
   "source": [
    "# Titanic StatML_NN\n",
    "\n",
    "## 概要：\n",
    "- 运行时间比较长的训练，还是应该弄个TensorBoard，方便监控结果，免得每次都需要用鼠标手动托页面查看最新的运行结果。\n",
    "- 模型为全链接神经网络和统计学习方法。\n",
    "\n",
    "## Result:\n",
    "\n",
    "\n",
    "Reference: \n",
    "1. https://www.kaggle.com/c/titanic#tutorials\n",
    "2. https://www.kaggle.com/sinakhorami/titanic-best-working-classifier\n",
    "3. https://www.kaggle.com/arthurtok/introduction-to-ensembling-stacking-in-python/notebook\n"
   ]
  },
  {
   "cell_type": "markdown",
   "metadata": {},
   "source": [
    "## 1. Preprocess"
   ]
  },
  {
   "cell_type": "markdown",
   "metadata": {},
   "source": [
    "### Import pkgs"
   ]
  },
  {
   "cell_type": "code",
   "execution_count": 1,
   "metadata": {
    "collapsed": true
   },
   "outputs": [],
   "source": [
    "import numpy as np\n",
    "import pandas as pd\n",
    "import matplotlib.pyplot as plt\n",
    "import seaborn as sns\n",
    "from sklearn.model_selection import train_test_split\n",
    "from sklearn.ensemble import GradientBoostingClassifier\n",
    "from sklearn.preprocessing import MinMaxScaler\n",
    "from IPython.display import display\n",
    "\n",
    "%matplotlib inline"
   ]
  },
  {
   "cell_type": "markdown",
   "metadata": {},
   "source": [
    "### Import original data as DataFrame"
   ]
  },
  {
   "cell_type": "code",
   "execution_count": 2,
   "metadata": {},
   "outputs": [
    {
     "data": {
      "text/html": [
       "<div>\n",
       "<style>\n",
       "    .dataframe thead tr:only-child th {\n",
       "        text-align: right;\n",
       "    }\n",
       "\n",
       "    .dataframe thead th {\n",
       "        text-align: left;\n",
       "    }\n",
       "\n",
       "    .dataframe tbody tr th {\n",
       "        vertical-align: top;\n",
       "    }\n",
       "</style>\n",
       "<table border=\"1\" class=\"dataframe\">\n",
       "  <thead>\n",
       "    <tr style=\"text-align: right;\">\n",
       "      <th></th>\n",
       "      <th>PassengerId</th>\n",
       "      <th>Survived</th>\n",
       "      <th>Pclass</th>\n",
       "      <th>Name</th>\n",
       "      <th>Sex</th>\n",
       "      <th>Age</th>\n",
       "      <th>SibSp</th>\n",
       "      <th>Parch</th>\n",
       "      <th>Ticket</th>\n",
       "      <th>Fare</th>\n",
       "      <th>Cabin</th>\n",
       "      <th>Embarked</th>\n",
       "    </tr>\n",
       "  </thead>\n",
       "  <tbody>\n",
       "    <tr>\n",
       "      <th>0</th>\n",
       "      <td>1</td>\n",
       "      <td>0</td>\n",
       "      <td>3</td>\n",
       "      <td>Braund, Mr. Owen Harris</td>\n",
       "      <td>male</td>\n",
       "      <td>22.0</td>\n",
       "      <td>1</td>\n",
       "      <td>0</td>\n",
       "      <td>A/5 21171</td>\n",
       "      <td>7.2500</td>\n",
       "      <td>NaN</td>\n",
       "      <td>S</td>\n",
       "    </tr>\n",
       "    <tr>\n",
       "      <th>1</th>\n",
       "      <td>2</td>\n",
       "      <td>1</td>\n",
       "      <td>1</td>\n",
       "      <td>Cumings, Mrs. John Bradley (Florence Briggs Th...</td>\n",
       "      <td>female</td>\n",
       "      <td>38.0</td>\n",
       "      <td>1</td>\n",
       "      <td>0</td>\n",
       "      <td>PC 17599</td>\n",
       "      <td>71.2833</td>\n",
       "      <td>C85</td>\n",
       "      <td>C</td>\n",
       "    </tr>\n",
       "  </tbody>\n",
       "</table>\n",
       "</div>"
      ],
      "text/plain": [
       "   PassengerId  Survived  Pclass  \\\n",
       "0            1         0       3   \n",
       "1            2         1       1   \n",
       "\n",
       "                                                Name     Sex   Age  SibSp  \\\n",
       "0                            Braund, Mr. Owen Harris    male  22.0      1   \n",
       "1  Cumings, Mrs. John Bradley (Florence Briggs Th...  female  38.0      1   \n",
       "\n",
       "   Parch     Ticket     Fare Cabin Embarked  \n",
       "0      0  A/5 21171   7.2500   NaN        S  \n",
       "1      0   PC 17599  71.2833   C85        C  "
      ]
     },
     "metadata": {},
     "output_type": "display_data"
    },
    {
     "data": {
      "text/html": [
       "<div>\n",
       "<style>\n",
       "    .dataframe thead tr:only-child th {\n",
       "        text-align: right;\n",
       "    }\n",
       "\n",
       "    .dataframe thead th {\n",
       "        text-align: left;\n",
       "    }\n",
       "\n",
       "    .dataframe tbody tr th {\n",
       "        vertical-align: top;\n",
       "    }\n",
       "</style>\n",
       "<table border=\"1\" class=\"dataframe\">\n",
       "  <thead>\n",
       "    <tr style=\"text-align: right;\">\n",
       "      <th></th>\n",
       "      <th>PassengerId</th>\n",
       "      <th>Pclass</th>\n",
       "      <th>Name</th>\n",
       "      <th>Sex</th>\n",
       "      <th>Age</th>\n",
       "      <th>SibSp</th>\n",
       "      <th>Parch</th>\n",
       "      <th>Ticket</th>\n",
       "      <th>Fare</th>\n",
       "      <th>Cabin</th>\n",
       "      <th>Embarked</th>\n",
       "    </tr>\n",
       "  </thead>\n",
       "  <tbody>\n",
       "    <tr>\n",
       "      <th>0</th>\n",
       "      <td>892</td>\n",
       "      <td>3</td>\n",
       "      <td>Kelly, Mr. James</td>\n",
       "      <td>male</td>\n",
       "      <td>34.5</td>\n",
       "      <td>0</td>\n",
       "      <td>0</td>\n",
       "      <td>330911</td>\n",
       "      <td>7.8292</td>\n",
       "      <td>NaN</td>\n",
       "      <td>Q</td>\n",
       "    </tr>\n",
       "    <tr>\n",
       "      <th>1</th>\n",
       "      <td>893</td>\n",
       "      <td>3</td>\n",
       "      <td>Wilkes, Mrs. James (Ellen Needs)</td>\n",
       "      <td>female</td>\n",
       "      <td>47.0</td>\n",
       "      <td>1</td>\n",
       "      <td>0</td>\n",
       "      <td>363272</td>\n",
       "      <td>7.0000</td>\n",
       "      <td>NaN</td>\n",
       "      <td>S</td>\n",
       "    </tr>\n",
       "  </tbody>\n",
       "</table>\n",
       "</div>"
      ],
      "text/plain": [
       "   PassengerId  Pclass                              Name     Sex   Age  SibSp  \\\n",
       "0          892       3                  Kelly, Mr. James    male  34.5      0   \n",
       "1          893       3  Wilkes, Mrs. James (Ellen Needs)  female  47.0      1   \n",
       "\n",
       "   Parch  Ticket    Fare Cabin Embarked  \n",
       "0      0  330911  7.8292   NaN        Q  \n",
       "1      0  363272  7.0000   NaN        S  "
      ]
     },
     "metadata": {},
     "output_type": "display_data"
    },
    {
     "data": {
      "text/plain": [
       "'STON/O2. 3101282'"
      ]
     },
     "execution_count": 2,
     "metadata": {},
     "output_type": "execute_result"
    }
   ],
   "source": [
    "data_train = pd.read_csv('./input/train.csv')\n",
    "data_test = pd.read_csv('./input/test.csv')\n",
    "\n",
    "display(data_train.head(2))\n",
    "display(data_test.head(2))\n",
    "data_train.loc[2, 'Ticket']"
   ]
  },
  {
   "cell_type": "markdown",
   "metadata": {},
   "source": [
    "### Show columns of dataframe"
   ]
  },
  {
   "cell_type": "code",
   "execution_count": 3,
   "metadata": {},
   "outputs": [
    {
     "name": "stdout",
     "output_type": "stream",
     "text": [
      "Index(['PassengerId', 'Survived', 'Pclass', 'Name', 'Sex', 'Age', 'SibSp',\n",
      "       'Parch', 'Ticket', 'Fare', 'Cabin', 'Embarked'],\n",
      "      dtype='object')\n",
      "Index(['PassengerId', 'Pclass', 'Name', 'Sex', 'Age', 'SibSp', 'Parch',\n",
      "       'Ticket', 'Fare', 'Cabin', 'Embarked'],\n",
      "      dtype='object')\n"
     ]
    }
   ],
   "source": [
    "data_train_original_col = data_train.columns\n",
    "data_test_original_col = data_test.columns\n",
    "print(data_train_original_col)\n",
    "print(data_test_original_col)\n",
    "# data_train0 = data_train.drop(data_train_original_col, axis = 1)\n",
    "# data_test0  = data_test.drop(data_test_original_col, axis = 1)\n",
    "# display(data_train0.head(2))\n",
    "# display(data_test0.head(2))"
   ]
  },
  {
   "cell_type": "markdown",
   "metadata": {},
   "source": [
    "### Preprocess features"
   ]
  },
  {
   "cell_type": "code",
   "execution_count": 4,
   "metadata": {
    "collapsed": true
   },
   "outputs": [],
   "source": [
    "full_data = [data_train, data_test]"
   ]
  },
  {
   "cell_type": "code",
   "execution_count": 5,
   "metadata": {},
   "outputs": [
    {
     "name": "stdout",
     "output_type": "stream",
     "text": [
      "Do not have null value!\n",
      "Do not have null value!\n"
     ]
    }
   ],
   "source": [
    "# Pclass\n",
    "for dataset in full_data:\n",
    "    temp = dataset[dataset['Pclass'].isnull()]\n",
    "    if len(temp) == 0:\n",
    "        print('Do not have null value!')\n",
    "    else:\n",
    "        temp.head(2)\n",
    "        \n",
    "for dataset in full_data:\n",
    "    dataset['a_Pclass'] = dataset['Pclass']\n",
    "#     display(dataset.head())"
   ]
  },
  {
   "cell_type": "code",
   "execution_count": 6,
   "metadata": {
    "collapsed": true
   },
   "outputs": [],
   "source": [
    "# Name\n",
    "for dataset in full_data:\n",
    "    dataset['a_Name_Length'] = dataset['Name'].apply(len)\n",
    "#     display(dataset.head(2))"
   ]
  },
  {
   "cell_type": "code",
   "execution_count": 7,
   "metadata": {
    "collapsed": true
   },
   "outputs": [],
   "source": [
    "# Sex\n",
    "for dataset in full_data:\n",
    "    dataset['a_Sex'] = dataset['Sex'].map({'female': 0, 'male': 1}).astype(int)\n",
    "#     display(dataset.head(2))"
   ]
  },
  {
   "cell_type": "code",
   "execution_count": 8,
   "metadata": {
    "collapsed": true
   },
   "outputs": [],
   "source": [
    "# Age\n",
    "for dataset in full_data:\n",
    "    dataset['a_Age'] = dataset['Age'].fillna(-1)\n",
    "    dataset['a_Have_Age'] = dataset['Age'].isnull().map({True: 0, False: 1}).astype(int)\n",
    "#     display(dataset[dataset['Age'].isnull()].head(2))\n",
    "#     display(dataset.head(2))"
   ]
  },
  {
   "cell_type": "code",
   "execution_count": 9,
   "metadata": {
    "collapsed": true
   },
   "outputs": [],
   "source": [
    "# SibSp and Parch\n",
    "for dataset in full_data:\n",
    "    dataset['a_FamilySize'] = dataset['SibSp'] + dataset['Parch'] + 1\n",
    "    dataset['a_IsAlone'] = dataset['a_FamilySize'].apply(lambda x: 1 if x<=1 else 0)\n",
    "#     display(dataset.head(2))"
   ]
  },
  {
   "cell_type": "code",
   "execution_count": 10,
   "metadata": {
    "collapsed": true
   },
   "outputs": [],
   "source": [
    "# Ticket(Very one have a ticket)\n",
    "for dataset in full_data:\n",
    "    dataset['a_Have_Ticket'] = dataset['Ticket'].isnull().map({True: 0, False: 1}).astype(int)\n",
    "#     display(dataset[dataset['Ticket'].isnull()].head(2))\n",
    "#     display(dataset.head(2))"
   ]
  },
  {
   "cell_type": "code",
   "execution_count": 11,
   "metadata": {
    "collapsed": true
   },
   "outputs": [],
   "source": [
    "# Fare\n",
    "for dataset in full_data:\n",
    "    dataset['a_Fare'] = dataset['Fare'].fillna(-1)\n",
    "    dataset['a_Have_Fare'] = dataset['Fare'].isnull().map({True: 0, False: 1}).astype(int)\n",
    "#     display(dataset[dataset['Fare'].isnull()].head(2))\n",
    "#     display(dataset.head(2))"
   ]
  },
  {
   "cell_type": "code",
   "execution_count": 12,
   "metadata": {
    "collapsed": true
   },
   "outputs": [],
   "source": [
    "# Cabin\n",
    "for dataset in full_data:\n",
    "    dataset['a_Have_Cabin'] = dataset['Cabin'].isnull().map({True: 0, False: 1}).astype(int)\n",
    "#     display(dataset[dataset['Cabin'].isnull()].head(2))\n",
    "#     display(dataset.head(2))"
   ]
  },
  {
   "cell_type": "code",
   "execution_count": 13,
   "metadata": {
    "collapsed": true
   },
   "outputs": [],
   "source": [
    "# Embarked\n",
    "for dataset in full_data:\n",
    "#     dataset['Embarked'] = dataset['Embarked'].fillna('N')\n",
    "    dataset['a_Embarked'] = dataset['Embarked'].map( {'S': 0, 'C': 1, 'Q': 2, None: 3} ).astype(int)\n",
    "    dataset['a_Have_Embarked'] = dataset['Embarked'].isnull().map({True: 0, False: 1}).astype(int)\n",
    "#     display(dataset[dataset['Embarked'].isnull()].head(2))\n",
    "#     display(dataset.head(2))"
   ]
  },
  {
   "cell_type": "markdown",
   "metadata": {},
   "source": [
    "Name words segmentation and one-hote"
   ]
  },
  {
   "cell_type": "code",
   "execution_count": 14,
   "metadata": {
    "collapsed": true
   },
   "outputs": [],
   "source": [
    "# Name words segmentation\n",
    "import re\n",
    "name_words = []\n",
    "\n",
    "# Inorder to allign columns of data_train and data_test, only data_train to fetch word\n",
    "for name in data_train['Name']:\n",
    "#     print(name)\n",
    "    words = re.findall(r\"[\\w']+\", name)\n",
    "#     print(len(words))\n",
    "#     print(words)\n",
    "    for w in words:\n",
    "        if w not in name_words:\n",
    "            name_words.append(w)\n",
    "# print(len(name_words))\n",
    "name_words.sort()\n",
    "# print(name_words)"
   ]
  },
  {
   "cell_type": "code",
   "execution_count": 15,
   "metadata": {
    "collapsed": true
   },
   "outputs": [],
   "source": [
    "# Add columns\n",
    "for dataset in full_data:\n",
    "    for w in name_words:\n",
    "        col_name = 'a_Name_' + w\n",
    "        dataset[col_name] = 0\n",
    "    dataset.head(1)"
   ]
  },
  {
   "cell_type": "code",
   "execution_count": 16,
   "metadata": {
    "collapsed": true
   },
   "outputs": [],
   "source": [
    "# Name words one-hote\n",
    "for dataset in full_data:\n",
    "    for i, row in dataset.iterrows():\n",
    "    #     print(row['Name'])\n",
    "        words = re.findall(r\"[\\w']+\", row['Name'])\n",
    "        for w in words:\n",
    "            if w in name_words:\n",
    "                col_name = 'a_Name_' + w\n",
    "                dataset.loc[i, col_name] = 1\n",
    "#     display(dataset[dataset['a_Name_Braund'] == 1])"
   ]
  },
  {
   "cell_type": "markdown",
   "metadata": {},
   "source": [
    "Cabin segmentation and one-hote"
   ]
  },
  {
   "cell_type": "code",
   "execution_count": 17,
   "metadata": {},
   "outputs": [
    {
     "name": "stdout",
     "output_type": "stream",
     "text": [
      "204\n",
      "['A' 'B' 'C' 'D' 'E' 'F' 'G' 'T']\n"
     ]
    }
   ],
   "source": [
    "# Get cabin segmentation words\n",
    "import re\n",
    "cabin_words = []\n",
    "\n",
    "# Inorder to allign columns of data_train and data_test, only data_train to fetch number\n",
    "for c in data_train['Cabin']:\n",
    "#     print(c)\n",
    "    if c is not np.nan:\n",
    "        word = re.findall(r\"[a-zA-Z]\", c)\n",
    "#         print(words[0])\n",
    "        cabin_words.append(word[0])\n",
    "print(len(cabin_words))\n",
    "cabin_words.sort()\n",
    "print(np.unique(cabin_words))\n",
    "cabin_words_unique = list(np.unique(cabin_words))"
   ]
  },
  {
   "cell_type": "code",
   "execution_count": 18,
   "metadata": {
    "collapsed": true
   },
   "outputs": [],
   "source": [
    "def get_cabin_word(cabin):\n",
    "    if cabin is not np.nan:\n",
    "        word = re.findall(r\"[a-zA-Z]\", cabin)\n",
    "        if word:\n",
    "            return cabin_words_unique.index(word[0])\n",
    "    return -1\n",
    "\n",
    "for dataset in full_data:\n",
    "    dataset['a_Cabin_Word'] = dataset['Cabin'].apply(get_cabin_word)\n",
    "    # dataset['a_Cabin_Word'].head(100)"
   ]
  },
  {
   "cell_type": "code",
   "execution_count": 19,
   "metadata": {
    "collapsed": true
   },
   "outputs": [],
   "source": [
    "def get_cabin_number(cabin):\n",
    "    if cabin is not np.nan:\n",
    "        word = re.findall(r\"[0-9]+\", cabin)\n",
    "        if word:\n",
    "            return int(word[0])\n",
    "    return -1\n",
    "\n",
    "for dataset in full_data:\n",
    "    dataset['a_Cabin_Number'] = dataset['Cabin'].apply(get_cabin_number)\n",
    "    # dataset['a_Cabin_Number'].head(100)"
   ]
  },
  {
   "cell_type": "code",
   "execution_count": null,
   "metadata": {
    "collapsed": true
   },
   "outputs": [],
   "source": []
  },
  {
   "cell_type": "code",
   "execution_count": 20,
   "metadata": {
    "collapsed": true
   },
   "outputs": [],
   "source": [
    "# Clean data\n",
    "# Reference: \n",
    "#    1. https://www.kaggle.com/sinakhorami/titanic-best-working-classifier\n",
    "#    2. https://www.kaggle.com/arthurtok/introduction-to-ensembling-stacking-in-python/notebook\n",
    "# full_data = [data_train, data_test]\n",
    "# for dataset in full_data:\n",
    "#     dataset['a_Name_length'] = dataset['Name'].apply(len)\n",
    "#     #dataset['Sex'] = (dataset['Sex']=='male').astype(int)\n",
    "#     dataset['a_Sex'] = dataset['Sex'].map( {'female': 0, 'male': 1} ).astype(int)\n",
    "#     dataset['a_Age'] = dataset['Age'].fillna(0)\n",
    "#     dataset['a_Age_IsNull'] = dataset['Age'].isnull()\n",
    "#     dataset['a_FamilySize'] = dataset['SibSp'] + dataset['Parch'] + 1\n",
    "#     dataset['a_IsAlone'] = dataset['a_FamilySize'].apply(lambda x: 1 if x<=1 else 0)\n",
    "#     dataset['a_Fare'] = dataset['Fare'].fillna(dataset['Fare'].median())\n",
    "#     #dataset['Has_Cabin'] = dataset['Cabin'].apply(lambda x: 1 if type(x) == str else 0) # same as below\n",
    "#     dataset['a_Has_Cabin'] = dataset['Cabin'].apply(lambda x: 0 if type(x) == float else 1)\n",
    "#     dataset['a_Has_Embarked'] = dataset['Embarked'].isnull()\n",
    "#     dataset['Embarked'] = dataset['Embarked'].fillna('N')\n",
    "#     dataset['a_Embarked'] = dataset['Embarked'].map( {'S': 0, 'C': 1, 'Q': 2, 'N': 3} ).astype(int)\n",
    "#     dataset['Embarked'] = dataset['Embarked'].fillna('S')\n",
    "    \n",
    "# display(data_train.head(2))\n",
    "# display(data_test.head(2))"
   ]
  },
  {
   "cell_type": "code",
   "execution_count": null,
   "metadata": {
    "collapsed": true
   },
   "outputs": [],
   "source": []
  },
  {
   "cell_type": "code",
   "execution_count": 21,
   "metadata": {},
   "outputs": [
    {
     "data": {
      "text/html": [
       "<div>\n",
       "<style>\n",
       "    .dataframe thead tr:only-child th {\n",
       "        text-align: right;\n",
       "    }\n",
       "\n",
       "    .dataframe thead th {\n",
       "        text-align: left;\n",
       "    }\n",
       "\n",
       "    .dataframe tbody tr th {\n",
       "        vertical-align: top;\n",
       "    }\n",
       "</style>\n",
       "<table border=\"1\" class=\"dataframe\">\n",
       "  <thead>\n",
       "    <tr style=\"text-align: right;\">\n",
       "      <th></th>\n",
       "      <th>a_Pclass</th>\n",
       "      <th>a_Name_Length</th>\n",
       "      <th>a_Sex</th>\n",
       "      <th>a_Age</th>\n",
       "      <th>a_Have_Age</th>\n",
       "      <th>a_FamilySize</th>\n",
       "      <th>a_IsAlone</th>\n",
       "      <th>a_Have_Ticket</th>\n",
       "      <th>a_Fare</th>\n",
       "      <th>a_Have_Fare</th>\n",
       "      <th>...</th>\n",
       "      <th>a_Name_de</th>\n",
       "      <th>a_Name_del</th>\n",
       "      <th>a_Name_der</th>\n",
       "      <th>a_Name_hoef</th>\n",
       "      <th>a_Name_of</th>\n",
       "      <th>a_Name_the</th>\n",
       "      <th>a_Name_van</th>\n",
       "      <th>a_Name_y</th>\n",
       "      <th>a_Cabin_Word</th>\n",
       "      <th>a_Cabin_Number</th>\n",
       "    </tr>\n",
       "  </thead>\n",
       "  <tbody>\n",
       "    <tr>\n",
       "      <th>0</th>\n",
       "      <td>3</td>\n",
       "      <td>23</td>\n",
       "      <td>1</td>\n",
       "      <td>22.0</td>\n",
       "      <td>1</td>\n",
       "      <td>2</td>\n",
       "      <td>0</td>\n",
       "      <td>1</td>\n",
       "      <td>7.2500</td>\n",
       "      <td>1</td>\n",
       "      <td>...</td>\n",
       "      <td>0</td>\n",
       "      <td>0</td>\n",
       "      <td>0</td>\n",
       "      <td>0</td>\n",
       "      <td>0</td>\n",
       "      <td>0</td>\n",
       "      <td>0</td>\n",
       "      <td>0</td>\n",
       "      <td>-1</td>\n",
       "      <td>-1</td>\n",
       "    </tr>\n",
       "    <tr>\n",
       "      <th>1</th>\n",
       "      <td>1</td>\n",
       "      <td>51</td>\n",
       "      <td>0</td>\n",
       "      <td>38.0</td>\n",
       "      <td>1</td>\n",
       "      <td>2</td>\n",
       "      <td>0</td>\n",
       "      <td>1</td>\n",
       "      <td>71.2833</td>\n",
       "      <td>1</td>\n",
       "      <td>...</td>\n",
       "      <td>0</td>\n",
       "      <td>0</td>\n",
       "      <td>0</td>\n",
       "      <td>0</td>\n",
       "      <td>0</td>\n",
       "      <td>0</td>\n",
       "      <td>0</td>\n",
       "      <td>0</td>\n",
       "      <td>2</td>\n",
       "      <td>85</td>\n",
       "    </tr>\n",
       "  </tbody>\n",
       "</table>\n",
       "<p>2 rows × 1544 columns</p>\n",
       "</div>"
      ],
      "text/plain": [
       "   a_Pclass  a_Name_Length  a_Sex  a_Age  a_Have_Age  a_FamilySize  a_IsAlone  \\\n",
       "0         3             23      1   22.0           1             2          0   \n",
       "1         1             51      0   38.0           1             2          0   \n",
       "\n",
       "   a_Have_Ticket   a_Fare  a_Have_Fare       ...        a_Name_de  a_Name_del  \\\n",
       "0              1   7.2500            1       ...                0           0   \n",
       "1              1  71.2833            1       ...                0           0   \n",
       "\n",
       "   a_Name_der  a_Name_hoef  a_Name_of  a_Name_the  a_Name_van  a_Name_y  \\\n",
       "0           0            0          0           0           0         0   \n",
       "1           0            0          0           0           0         0   \n",
       "\n",
       "   a_Cabin_Word  a_Cabin_Number  \n",
       "0            -1              -1  \n",
       "1             2              85  \n",
       "\n",
       "[2 rows x 1544 columns]"
      ]
     },
     "metadata": {},
     "output_type": "display_data"
    },
    {
     "data": {
      "text/html": [
       "<div>\n",
       "<style>\n",
       "    .dataframe thead tr:only-child th {\n",
       "        text-align: right;\n",
       "    }\n",
       "\n",
       "    .dataframe thead th {\n",
       "        text-align: left;\n",
       "    }\n",
       "\n",
       "    .dataframe tbody tr th {\n",
       "        vertical-align: top;\n",
       "    }\n",
       "</style>\n",
       "<table border=\"1\" class=\"dataframe\">\n",
       "  <thead>\n",
       "    <tr style=\"text-align: right;\">\n",
       "      <th></th>\n",
       "      <th>a_Pclass</th>\n",
       "      <th>a_Name_Length</th>\n",
       "      <th>a_Sex</th>\n",
       "      <th>a_Age</th>\n",
       "      <th>a_Have_Age</th>\n",
       "      <th>a_FamilySize</th>\n",
       "      <th>a_IsAlone</th>\n",
       "      <th>a_Have_Ticket</th>\n",
       "      <th>a_Fare</th>\n",
       "      <th>a_Have_Fare</th>\n",
       "      <th>...</th>\n",
       "      <th>a_Name_de</th>\n",
       "      <th>a_Name_del</th>\n",
       "      <th>a_Name_der</th>\n",
       "      <th>a_Name_hoef</th>\n",
       "      <th>a_Name_of</th>\n",
       "      <th>a_Name_the</th>\n",
       "      <th>a_Name_van</th>\n",
       "      <th>a_Name_y</th>\n",
       "      <th>a_Cabin_Word</th>\n",
       "      <th>a_Cabin_Number</th>\n",
       "    </tr>\n",
       "  </thead>\n",
       "  <tbody>\n",
       "    <tr>\n",
       "      <th>0</th>\n",
       "      <td>3</td>\n",
       "      <td>16</td>\n",
       "      <td>1</td>\n",
       "      <td>34.5</td>\n",
       "      <td>1</td>\n",
       "      <td>1</td>\n",
       "      <td>1</td>\n",
       "      <td>1</td>\n",
       "      <td>7.8292</td>\n",
       "      <td>1</td>\n",
       "      <td>...</td>\n",
       "      <td>0</td>\n",
       "      <td>0</td>\n",
       "      <td>0</td>\n",
       "      <td>0</td>\n",
       "      <td>0</td>\n",
       "      <td>0</td>\n",
       "      <td>0</td>\n",
       "      <td>0</td>\n",
       "      <td>-1</td>\n",
       "      <td>-1</td>\n",
       "    </tr>\n",
       "    <tr>\n",
       "      <th>1</th>\n",
       "      <td>3</td>\n",
       "      <td>32</td>\n",
       "      <td>0</td>\n",
       "      <td>47.0</td>\n",
       "      <td>1</td>\n",
       "      <td>2</td>\n",
       "      <td>0</td>\n",
       "      <td>1</td>\n",
       "      <td>7.0000</td>\n",
       "      <td>1</td>\n",
       "      <td>...</td>\n",
       "      <td>0</td>\n",
       "      <td>0</td>\n",
       "      <td>0</td>\n",
       "      <td>0</td>\n",
       "      <td>0</td>\n",
       "      <td>0</td>\n",
       "      <td>0</td>\n",
       "      <td>0</td>\n",
       "      <td>-1</td>\n",
       "      <td>-1</td>\n",
       "    </tr>\n",
       "  </tbody>\n",
       "</table>\n",
       "<p>2 rows × 1544 columns</p>\n",
       "</div>"
      ],
      "text/plain": [
       "   a_Pclass  a_Name_Length  a_Sex  a_Age  a_Have_Age  a_FamilySize  a_IsAlone  \\\n",
       "0         3             16      1   34.5           1             1          1   \n",
       "1         3             32      0   47.0           1             2          0   \n",
       "\n",
       "   a_Have_Ticket  a_Fare  a_Have_Fare       ...        a_Name_de  a_Name_del  \\\n",
       "0              1  7.8292            1       ...                0           0   \n",
       "1              1  7.0000            1       ...                0           0   \n",
       "\n",
       "   a_Name_der  a_Name_hoef  a_Name_of  a_Name_the  a_Name_van  a_Name_y  \\\n",
       "0           0            0          0           0           0         0   \n",
       "1           0            0          0           0           0         0   \n",
       "\n",
       "   a_Cabin_Word  a_Cabin_Number  \n",
       "0            -1              -1  \n",
       "1            -1              -1  \n",
       "\n",
       "[2 rows x 1544 columns]"
      ]
     },
     "metadata": {},
     "output_type": "display_data"
    },
    {
     "data": {
      "text/html": [
       "<div>\n",
       "<style>\n",
       "    .dataframe thead tr:only-child th {\n",
       "        text-align: right;\n",
       "    }\n",
       "\n",
       "    .dataframe thead th {\n",
       "        text-align: left;\n",
       "    }\n",
       "\n",
       "    .dataframe tbody tr th {\n",
       "        vertical-align: top;\n",
       "    }\n",
       "</style>\n",
       "<table border=\"1\" class=\"dataframe\">\n",
       "  <thead>\n",
       "    <tr style=\"text-align: right;\">\n",
       "      <th></th>\n",
       "      <th>a_Pclass</th>\n",
       "      <th>a_Name_Length</th>\n",
       "      <th>a_Sex</th>\n",
       "      <th>a_Age</th>\n",
       "      <th>a_Have_Age</th>\n",
       "      <th>a_FamilySize</th>\n",
       "      <th>a_IsAlone</th>\n",
       "      <th>a_Have_Ticket</th>\n",
       "      <th>a_Fare</th>\n",
       "      <th>a_Have_Fare</th>\n",
       "      <th>...</th>\n",
       "      <th>a_Name_de</th>\n",
       "      <th>a_Name_del</th>\n",
       "      <th>a_Name_der</th>\n",
       "      <th>a_Name_hoef</th>\n",
       "      <th>a_Name_of</th>\n",
       "      <th>a_Name_the</th>\n",
       "      <th>a_Name_van</th>\n",
       "      <th>a_Name_y</th>\n",
       "      <th>a_Cabin_Word</th>\n",
       "      <th>a_Cabin_Number</th>\n",
       "    </tr>\n",
       "  </thead>\n",
       "  <tbody>\n",
       "    <tr>\n",
       "      <th>0</th>\n",
       "      <td>3</td>\n",
       "      <td>23</td>\n",
       "      <td>1</td>\n",
       "      <td>22.0</td>\n",
       "      <td>1</td>\n",
       "      <td>2</td>\n",
       "      <td>0</td>\n",
       "      <td>1</td>\n",
       "      <td>7.2500</td>\n",
       "      <td>1</td>\n",
       "      <td>...</td>\n",
       "      <td>0</td>\n",
       "      <td>0</td>\n",
       "      <td>0</td>\n",
       "      <td>0</td>\n",
       "      <td>0</td>\n",
       "      <td>0</td>\n",
       "      <td>0</td>\n",
       "      <td>0</td>\n",
       "      <td>-1</td>\n",
       "      <td>-1</td>\n",
       "    </tr>\n",
       "    <tr>\n",
       "      <th>1</th>\n",
       "      <td>1</td>\n",
       "      <td>51</td>\n",
       "      <td>0</td>\n",
       "      <td>38.0</td>\n",
       "      <td>1</td>\n",
       "      <td>2</td>\n",
       "      <td>0</td>\n",
       "      <td>1</td>\n",
       "      <td>71.2833</td>\n",
       "      <td>1</td>\n",
       "      <td>...</td>\n",
       "      <td>0</td>\n",
       "      <td>0</td>\n",
       "      <td>0</td>\n",
       "      <td>0</td>\n",
       "      <td>0</td>\n",
       "      <td>0</td>\n",
       "      <td>0</td>\n",
       "      <td>0</td>\n",
       "      <td>2</td>\n",
       "      <td>85</td>\n",
       "    </tr>\n",
       "  </tbody>\n",
       "</table>\n",
       "<p>2 rows × 1544 columns</p>\n",
       "</div>"
      ],
      "text/plain": [
       "   a_Pclass  a_Name_Length  a_Sex  a_Age  a_Have_Age  a_FamilySize  a_IsAlone  \\\n",
       "0         3             23      1   22.0           1             2          0   \n",
       "1         1             51      0   38.0           1             2          0   \n",
       "\n",
       "   a_Have_Ticket   a_Fare  a_Have_Fare       ...        a_Name_de  a_Name_del  \\\n",
       "0              1   7.2500            1       ...                0           0   \n",
       "1              1  71.2833            1       ...                0           0   \n",
       "\n",
       "   a_Name_der  a_Name_hoef  a_Name_of  a_Name_the  a_Name_van  a_Name_y  \\\n",
       "0           0            0          0           0           0         0   \n",
       "1           0            0          0           0           0         0   \n",
       "\n",
       "   a_Cabin_Word  a_Cabin_Number  \n",
       "0            -1              -1  \n",
       "1             2              85  \n",
       "\n",
       "[2 rows x 1544 columns]"
      ]
     },
     "metadata": {},
     "output_type": "display_data"
    }
   ],
   "source": [
    "survived = data_train['Survived']\n",
    "data_train0 = data_train.drop(data_train_original_col, axis = 1)\n",
    "data_test0  = data_test.drop(data_test_original_col, axis = 1)\n",
    "display(data_train0.head(2))\n",
    "display(data_test0.head(2))\n",
    "\n",
    "features = data_train0\n",
    "display(features.head(2))"
   ]
  },
  {
   "cell_type": "markdown",
   "metadata": {},
   "source": [
    "Check and confirm all columns is proccessed"
   ]
  },
  {
   "cell_type": "code",
   "execution_count": 22,
   "metadata": {
    "collapsed": true
   },
   "outputs": [],
   "source": [
    "for col in features.columns:\n",
    "    if not col.startswith('a_'):\n",
    "        print(col)"
   ]
  },
  {
   "cell_type": "code",
   "execution_count": 23,
   "metadata": {
    "collapsed": true
   },
   "outputs": [],
   "source": [
    "# Shuffle and split the train_data into train, crossvalidation and testing subsets\n",
    "x_train, x_val, y_train, y_val = train_test_split(features, survived, test_size=0.2, random_state=2017)"
   ]
  },
  {
   "cell_type": "code",
   "execution_count": 24,
   "metadata": {},
   "outputs": [
    {
     "name": "stdout",
     "output_type": "stream",
     "text": [
      "(712, 1544)\n",
      "(179, 1544)\n",
      "(712,)\n",
      "(179,)\n"
     ]
    },
    {
     "data": {
      "text/html": [
       "<div>\n",
       "<style>\n",
       "    .dataframe thead tr:only-child th {\n",
       "        text-align: right;\n",
       "    }\n",
       "\n",
       "    .dataframe thead th {\n",
       "        text-align: left;\n",
       "    }\n",
       "\n",
       "    .dataframe tbody tr th {\n",
       "        vertical-align: top;\n",
       "    }\n",
       "</style>\n",
       "<table border=\"1\" class=\"dataframe\">\n",
       "  <thead>\n",
       "    <tr style=\"text-align: right;\">\n",
       "      <th></th>\n",
       "      <th>a_Pclass</th>\n",
       "      <th>a_Name_Length</th>\n",
       "      <th>a_Sex</th>\n",
       "      <th>a_Age</th>\n",
       "      <th>a_Have_Age</th>\n",
       "      <th>a_FamilySize</th>\n",
       "      <th>a_IsAlone</th>\n",
       "      <th>a_Have_Ticket</th>\n",
       "      <th>a_Fare</th>\n",
       "      <th>a_Have_Fare</th>\n",
       "      <th>...</th>\n",
       "      <th>a_Name_de</th>\n",
       "      <th>a_Name_del</th>\n",
       "      <th>a_Name_der</th>\n",
       "      <th>a_Name_hoef</th>\n",
       "      <th>a_Name_of</th>\n",
       "      <th>a_Name_the</th>\n",
       "      <th>a_Name_van</th>\n",
       "      <th>a_Name_y</th>\n",
       "      <th>a_Cabin_Word</th>\n",
       "      <th>a_Cabin_Number</th>\n",
       "    </tr>\n",
       "  </thead>\n",
       "  <tbody>\n",
       "    <tr>\n",
       "      <th>304</th>\n",
       "      <td>3</td>\n",
       "      <td>33</td>\n",
       "      <td>1</td>\n",
       "      <td>-1.0</td>\n",
       "      <td>0</td>\n",
       "      <td>1</td>\n",
       "      <td>1</td>\n",
       "      <td>1</td>\n",
       "      <td>8.05</td>\n",
       "      <td>1</td>\n",
       "      <td>...</td>\n",
       "      <td>0</td>\n",
       "      <td>0</td>\n",
       "      <td>0</td>\n",
       "      <td>0</td>\n",
       "      <td>0</td>\n",
       "      <td>0</td>\n",
       "      <td>0</td>\n",
       "      <td>0</td>\n",
       "      <td>-1</td>\n",
       "      <td>-1</td>\n",
       "    </tr>\n",
       "    <tr>\n",
       "      <th>149</th>\n",
       "      <td>2</td>\n",
       "      <td>33</td>\n",
       "      <td>1</td>\n",
       "      <td>42.0</td>\n",
       "      <td>1</td>\n",
       "      <td>1</td>\n",
       "      <td>1</td>\n",
       "      <td>1</td>\n",
       "      <td>13.00</td>\n",
       "      <td>1</td>\n",
       "      <td>...</td>\n",
       "      <td>0</td>\n",
       "      <td>0</td>\n",
       "      <td>0</td>\n",
       "      <td>0</td>\n",
       "      <td>0</td>\n",
       "      <td>0</td>\n",
       "      <td>0</td>\n",
       "      <td>0</td>\n",
       "      <td>-1</td>\n",
       "      <td>-1</td>\n",
       "    </tr>\n",
       "  </tbody>\n",
       "</table>\n",
       "<p>2 rows × 1544 columns</p>\n",
       "</div>"
      ],
      "text/plain": [
       "     a_Pclass  a_Name_Length  a_Sex  a_Age  a_Have_Age  a_FamilySize  \\\n",
       "304         3             33      1   -1.0           0             1   \n",
       "149         2             33      1   42.0           1             1   \n",
       "\n",
       "     a_IsAlone  a_Have_Ticket  a_Fare  a_Have_Fare       ...        a_Name_de  \\\n",
       "304          1              1    8.05            1       ...                0   \n",
       "149          1              1   13.00            1       ...                0   \n",
       "\n",
       "     a_Name_del  a_Name_der  a_Name_hoef  a_Name_of  a_Name_the  a_Name_van  \\\n",
       "304           0           0            0          0           0           0   \n",
       "149           0           0            0          0           0           0   \n",
       "\n",
       "     a_Name_y  a_Cabin_Word  a_Cabin_Number  \n",
       "304         0            -1              -1  \n",
       "149         0            -1              -1  \n",
       "\n",
       "[2 rows x 1544 columns]"
      ]
     },
     "metadata": {},
     "output_type": "display_data"
    },
    {
     "data": {
      "text/plain": [
       "304    0\n",
       "149    0\n",
       "Name: Survived, dtype: int64"
      ]
     },
     "metadata": {},
     "output_type": "display_data"
    }
   ],
   "source": [
    "# Show distribute of abave data sets\n",
    "print(x_train.shape)\n",
    "print(x_val.shape)\n",
    "print(y_train.shape)\n",
    "print(y_val.shape)\n",
    "display(x_train.head(2))\n",
    "display(y_train.head(2))"
   ]
  },
  {
   "cell_type": "markdown",
   "metadata": {},
   "source": [
    "## 2. Build model"
   ]
  },
  {
   "cell_type": "code",
   "execution_count": 25,
   "metadata": {
    "collapsed": true
   },
   "outputs": [],
   "source": [
    "from sklearn.model_selection import GridSearchCV\n",
    "from sklearn.metrics import accuracy_score\n",
    "\n",
    "def my_GridSearchCV(model, parameters):\n",
    "    if parameters:\n",
    "        clf = GridSearchCV(model, parameters)\n",
    "    else:\n",
    "        clf = model\n",
    "    clf.fit(x_train, y_train)\n",
    "    return clf\n",
    "\n",
    "def ny_train(models):\n",
    "    clfs = {}\n",
    "    for key, value in models.items():\n",
    "        print('start ' + key)\n",
    "        clf = my_GridSearchCV(value['model'], value['param'])\n",
    "        clfs[key] = clf\n",
    "    return clfs\n",
    "\n",
    "def my_predict(clfs, x_val=x_val, y_val=y_val):\n",
    "    for key, value in clfs.items():\n",
    "        print(key, end=':  ')\n",
    "        y_pred = value.predict(x_val)\n",
    "        print(accuracy_score(y_val, y_pred))"
   ]
  },
  {
   "cell_type": "code",
   "execution_count": 26,
   "metadata": {},
   "outputs": [
    {
     "name": "stdout",
     "output_type": "stream",
     "text": [
      "start AdaBoostClassifier\n",
      "start GaussianNB\n",
      "start RandomForestClassifier\n",
      "AdaBoostClassifier:  0.849162011173\n",
      "GaussianNB:  0.446927374302\n",
      "RandomForestClassifier:  0.860335195531\n"
     ]
    }
   ],
   "source": [
    "from sklearn.svm import SVC\n",
    "from sklearn.naive_bayes import GaussianNB\n",
    "from sklearn.ensemble import AdaBoostClassifier\n",
    "from sklearn.ensemble import RandomForestClassifier\n",
    "\n",
    "models = {}\n",
    "models = {\n",
    "#     'SVC': {\n",
    "#         'model': SVC(),\n",
    "#         'param': {'kernel':('linear', 'rbf'), 'C':[1, 5, 10]}\n",
    "#     },\n",
    "    'GaussianNB':{\n",
    "        'model': GaussianNB(),\n",
    "        'param': {}\n",
    "    },\n",
    "    'AdaBoostClassifier':{\n",
    "        'model': AdaBoostClassifier(),\n",
    "        'param': {}\n",
    "    },\n",
    "    'RandomForestClassifier':{\n",
    "        'model': RandomForestClassifier(),\n",
    "        'param': {}\n",
    "    }\n",
    "}\n",
    "\n",
    "clfs = ny_train(models)\n",
    "my_predict(clfs)"
   ]
  },
  {
   "cell_type": "markdown",
   "metadata": {},
   "source": [
    "### Neuron network"
   ]
  },
  {
   "cell_type": "code",
   "execution_count": 27,
   "metadata": {},
   "outputs": [
    {
     "name": "stderr",
     "output_type": "stream",
     "text": [
      "Using TensorFlow backend.\n"
     ]
    }
   ],
   "source": [
    "from sklearn.metrics import confusion_matrix\n",
    "\n",
    "from keras.utils.np_utils import to_categorical # convert to one-hot-encoding\n",
    "from keras.models import Sequential\n",
    "from keras.layers import Dense, Dropout, Input, Flatten, Conv2D, MaxPooling2D, BatchNormalization\n",
    "from keras.optimizers import Adam\n",
    "from keras.preprocessing.image import ImageDataGenerator\n",
    "from keras.callbacks import LearningRateScheduler, TensorBoard"
   ]
  },
  {
   "cell_type": "code",
   "execution_count": 28,
   "metadata": {},
   "outputs": [
    {
     "name": "stdout",
     "output_type": "stream",
     "text": [
      "Train on 712 samples, validate on 179 samples\n",
      "Epoch 1/30\n",
      "712/712 [==============================] - 14s - loss: 0.8625 - acc: 0.5449 - val_loss: 0.5634 - val_acc: 0.7039\n",
      "Epoch 2/30\n",
      "712/712 [==============================] - 12s - loss: 0.8283 - acc: 0.5239 - val_loss: 0.5647 - val_acc: 0.7709\n",
      "Epoch 3/30\n",
      "712/712 [==============================] - 12s - loss: 0.7576 - acc: 0.5843 - val_loss: 0.5467 - val_acc: 0.7765\n",
      "Epoch 4/30\n",
      "712/712 [==============================] - 12s - loss: 0.7525 - acc: 0.5899 - val_loss: 0.5097 - val_acc: 0.7654\n",
      "Epoch 5/30\n",
      "712/712 [==============================] - 12s - loss: 0.7401 - acc: 0.6081 - val_loss: 0.5514 - val_acc: 0.7542\n",
      "Epoch 6/30\n",
      "712/712 [==============================] - 12s - loss: 0.7186 - acc: 0.6208 - val_loss: 0.4965 - val_acc: 0.7709\n",
      "Epoch 7/30\n",
      "712/712 [==============================] - 12s - loss: 0.7011 - acc: 0.6264 - val_loss: 0.4972 - val_acc: 0.7765\n",
      "Epoch 8/30\n",
      "712/712 [==============================] - 12s - loss: 0.6678 - acc: 0.6587 - val_loss: 0.4775 - val_acc: 0.7765\n",
      "Epoch 9/30\n",
      "712/712 [==============================] - 12s - loss: 0.6436 - acc: 0.6896 - val_loss: 0.5145 - val_acc: 0.7709\n",
      "Epoch 10/30\n",
      "712/712 [==============================] - 12s - loss: 0.6419 - acc: 0.6587 - val_loss: 0.5370 - val_acc: 0.7430\n",
      "Epoch 11/30\n",
      "712/712 [==============================] - 12s - loss: 0.6390 - acc: 0.6657 - val_loss: 0.4692 - val_acc: 0.7821\n",
      "Epoch 12/30\n",
      "712/712 [==============================] - 12s - loss: 0.6179 - acc: 0.6882 - val_loss: 0.4774 - val_acc: 0.7989\n",
      "Epoch 13/30\n",
      "712/712 [==============================] - 12s - loss: 0.6301 - acc: 0.6812 - val_loss: 0.4730 - val_acc: 0.7933\n",
      "Epoch 14/30\n",
      "712/712 [==============================] - 12s - loss: 0.5940 - acc: 0.7022 - val_loss: 0.4992 - val_acc: 0.7654\n",
      "Epoch 15/30\n",
      "712/712 [==============================] - 12s - loss: 0.5668 - acc: 0.7205 - val_loss: 0.4469 - val_acc: 0.8045\n",
      "Epoch 16/30\n",
      "712/712 [==============================] - 12s - loss: 0.5485 - acc: 0.7317 - val_loss: 0.4694 - val_acc: 0.7989\n",
      "Epoch 17/30\n",
      "712/712 [==============================] - 12s - loss: 0.5777 - acc: 0.7317 - val_loss: 0.4625 - val_acc: 0.7933\n",
      "Epoch 18/30\n",
      "712/712 [==============================] - 12s - loss: 0.5427 - acc: 0.7444 - val_loss: 0.4472 - val_acc: 0.7933\n",
      "Epoch 19/30\n",
      "712/712 [==============================] - 12s - loss: 0.5063 - acc: 0.7626 - val_loss: 0.4327 - val_acc: 0.8101\n",
      "Epoch 20/30\n",
      "712/712 [==============================] - 12s - loss: 0.5013 - acc: 0.7598 - val_loss: 0.4519 - val_acc: 0.8156\n",
      "Epoch 21/30\n",
      "712/712 [==============================] - 12s - loss: 0.5138 - acc: 0.7486 - val_loss: 0.4757 - val_acc: 0.8101\n",
      "Epoch 22/30\n",
      "712/712 [==============================] - 12s - loss: 0.4936 - acc: 0.7697 - val_loss: 0.4570 - val_acc: 0.8156\n",
      "Epoch 23/30\n",
      "712/712 [==============================] - 12s - loss: 0.4745 - acc: 0.7935 - val_loss: 0.4177 - val_acc: 0.8156\n",
      "Epoch 24/30\n",
      "712/712 [==============================] - 12s - loss: 0.5066 - acc: 0.7781 - val_loss: 0.4313 - val_acc: 0.8101\n",
      "Epoch 25/30\n",
      "712/712 [==============================] - 12s - loss: 0.4795 - acc: 0.7739 - val_loss: 0.4186 - val_acc: 0.8101\n",
      "Epoch 26/30\n",
      "712/712 [==============================] - 12s - loss: 0.4640 - acc: 0.7893 - val_loss: 0.5106 - val_acc: 0.8045\n",
      "Epoch 27/30\n",
      "712/712 [==============================] - 12s - loss: 0.4666 - acc: 0.7837 - val_loss: 0.4100 - val_acc: 0.8268\n",
      "Epoch 28/30\n",
      "712/712 [==============================] - 12s - loss: 0.4440 - acc: 0.7795 - val_loss: 0.4053 - val_acc: 0.8101\n",
      "Epoch 29/30\n",
      "712/712 [==============================] - 12s - loss: 0.4338 - acc: 0.7935 - val_loss: 0.4060 - val_acc: 0.8156\n",
      "Epoch 30/30\n",
      "712/712 [==============================] - 12s - loss: 0.4286 - acc: 0.8034 - val_loss: 0.4023 - val_acc: 0.8212\n"
     ]
    }
   ],
   "source": [
    "# Initialising the ANN\n",
    "model = Sequential()\n",
    "\n",
    "# layers\n",
    "model.add(Dense(units = 2048, activation = 'sigmoid', input_dim = 1544))\n",
    "model.add(Dropout(0.5))\n",
    "model.add(Dense(units = 2048, activation = 'sigmoid'))\n",
    "model.add(Dropout(0.5))\n",
    "model.add(Dense(units = 2048, activation = 'sigmoid'))\n",
    "model.add(Dropout(0.5))\n",
    "# model.add(Dense(units = 2048, activation = 'relu'))\n",
    "# model.add(Dropout(0.5))\n",
    "# model.add(Dense(units = 2048, activation = 'relu'))\n",
    "# model.add(Dropout(0.5))\n",
    "# model.add(Dense(units = 2048, activation = 'relu'))\n",
    "model.add(Dropout(0.5))\n",
    "model.add(Dense(units = 1, activation = 'sigmoid'))\n",
    "\n",
    "model.compile(optimizer = Adam(lr=1e-4), loss = 'binary_crossentropy', metrics = ['accuracy'])\n",
    "\n",
    "\n",
    "x_val = x_val.as_matrix()\n",
    "y_val = y_val.as_matrix()\n",
    "\n",
    "hist = model.fit(x_train.as_matrix(), y_train.as_matrix(), \n",
    "                 batch_size = 8, \n",
    "                 verbose=1,\n",
    "                 epochs = 30,\n",
    "                 validation_data=(x_val, y_val))"
   ]
  },
  {
   "cell_type": "code",
   "execution_count": 29,
   "metadata": {},
   "outputs": [
    {
     "name": "stdout",
     "output_type": "stream",
     "text": [
      "179/179 [==============================] - 0s     \n",
      "Final loss: 0.4023, final accuracy: 0.8212\n"
     ]
    }
   ],
   "source": [
    "final_loss, final_acc = model.evaluate(x_val, y_val, verbose=1)\n",
    "print(\"Final loss: {0:.4f}, final accuracy: {1:.4f}\".format(final_loss, final_acc))"
   ]
  },
  {
   "cell_type": "code",
   "execution_count": 30,
   "metadata": {},
   "outputs": [
    {
     "data": {
      "image/png": "[encoded data removed]",
      "text/plain": [
       "<matplotlib.figure.Figure at 0x28a5ab94400>"
      ]
     },
     "metadata": {},
     "output_type": "display_data"
    },
    {
     "data": {
      "image/png": "[encoded data removed]",
      "text/plain": [
       "<matplotlib.figure.Figure at 0x28a5bdedc88>"
      ]
     },
     "metadata": {},
     "output_type": "display_data"
    }
   ],
   "source": [
    "plt.plot(hist.history['loss'], color='b')\n",
    "plt.plot(hist.history['val_loss'], color='r')\n",
    "plt.show()\n",
    "plt.plot(hist.history['acc'], color='b')\n",
    "plt.plot(hist.history['val_acc'], color='r')\n",
    "plt.show()"
   ]
  },
  {
   "cell_type": "markdown",
   "metadata": {},
   "source": [
    "### Predict and Export pred.csv file"
   ]
  },
  {
   "cell_type": "code",
   "execution_count": 31,
   "metadata": {
    "collapsed": true
   },
   "outputs": [],
   "source": [
    "train_cols = data_train.columns\n",
    "for col in data_test0.columns:\n",
    "    if col not in train_cols:\n",
    "        print(col)"
   ]
  },
  {
   "cell_type": "code",
   "execution_count": 32,
   "metadata": {},
   "outputs": [
    {
     "name": "stdout",
     "output_type": "stream",
     "text": [
      "Titanic_StatML_NN_20171028_225425_8212\n",
      "D:\\Kaggle\\Titanic_Machine_Learning_From_Disaster\\output\\Titanic_StatML_NN_20171028_225425_8212.csv\n"
     ]
    }
   ],
   "source": [
    "import time\n",
    "import os\n",
    "\n",
    "project_name = 'Titanic'\n",
    "step_name = 'StatML_NN'\n",
    "time_str = time.strftime(\"%Y%m%d_%H%M%S\", time.localtime())\n",
    "final_acc_str = str(int(final_acc*10000))\n",
    "run_name = project_name + '_' + step_name + '_' + time_str + '_' + final_acc_str\n",
    "print(run_name)\n",
    "cwd = os.getcwd()\n",
    "pred_file = os.path.join(cwd, 'output', run_name + '.csv')\n",
    "print(pred_file)"
   ]
  },
  {
   "cell_type": "code",
   "execution_count": 33,
   "metadata": {},
   "outputs": [
    {
     "data": {
      "text/html": [
       "<div>\n",
       "<style>\n",
       "    .dataframe thead tr:only-child th {\n",
       "        text-align: right;\n",
       "    }\n",
       "\n",
       "    .dataframe thead th {\n",
       "        text-align: left;\n",
       "    }\n",
       "\n",
       "    .dataframe tbody tr th {\n",
       "        vertical-align: top;\n",
       "    }\n",
       "</style>\n",
       "<table border=\"1\" class=\"dataframe\">\n",
       "  <thead>\n",
       "    <tr style=\"text-align: right;\">\n",
       "      <th></th>\n",
       "      <th>a_Pclass</th>\n",
       "      <th>a_Name_Length</th>\n",
       "      <th>a_Sex</th>\n",
       "      <th>a_Age</th>\n",
       "      <th>a_Have_Age</th>\n",
       "      <th>a_FamilySize</th>\n",
       "      <th>a_IsAlone</th>\n",
       "      <th>a_Have_Ticket</th>\n",
       "      <th>a_Fare</th>\n",
       "      <th>a_Have_Fare</th>\n",
       "      <th>...</th>\n",
       "      <th>a_Name_de</th>\n",
       "      <th>a_Name_del</th>\n",
       "      <th>a_Name_der</th>\n",
       "      <th>a_Name_hoef</th>\n",
       "      <th>a_Name_of</th>\n",
       "      <th>a_Name_the</th>\n",
       "      <th>a_Name_van</th>\n",
       "      <th>a_Name_y</th>\n",
       "      <th>a_Cabin_Word</th>\n",
       "      <th>a_Cabin_Number</th>\n",
       "    </tr>\n",
       "  </thead>\n",
       "  <tbody>\n",
       "    <tr>\n",
       "      <th>0</th>\n",
       "      <td>3</td>\n",
       "      <td>16</td>\n",
       "      <td>1</td>\n",
       "      <td>34.5</td>\n",
       "      <td>1</td>\n",
       "      <td>1</td>\n",
       "      <td>1</td>\n",
       "      <td>1</td>\n",
       "      <td>7.8292</td>\n",
       "      <td>1</td>\n",
       "      <td>...</td>\n",
       "      <td>0</td>\n",
       "      <td>0</td>\n",
       "      <td>0</td>\n",
       "      <td>0</td>\n",
       "      <td>0</td>\n",
       "      <td>0</td>\n",
       "      <td>0</td>\n",
       "      <td>0</td>\n",
       "      <td>-1</td>\n",
       "      <td>-1</td>\n",
       "    </tr>\n",
       "    <tr>\n",
       "      <th>1</th>\n",
       "      <td>3</td>\n",
       "      <td>32</td>\n",
       "      <td>0</td>\n",
       "      <td>47.0</td>\n",
       "      <td>1</td>\n",
       "      <td>2</td>\n",
       "      <td>0</td>\n",
       "      <td>1</td>\n",
       "      <td>7.0000</td>\n",
       "      <td>1</td>\n",
       "      <td>...</td>\n",
       "      <td>0</td>\n",
       "      <td>0</td>\n",
       "      <td>0</td>\n",
       "      <td>0</td>\n",
       "      <td>0</td>\n",
       "      <td>0</td>\n",
       "      <td>0</td>\n",
       "      <td>0</td>\n",
       "      <td>-1</td>\n",
       "      <td>-1</td>\n",
       "    </tr>\n",
       "  </tbody>\n",
       "</table>\n",
       "<p>2 rows × 1544 columns</p>\n",
       "</div>"
      ],
      "text/plain": [
       "   a_Pclass  a_Name_Length  a_Sex  a_Age  a_Have_Age  a_FamilySize  a_IsAlone  \\\n",
       "0         3             16      1   34.5           1             1          1   \n",
       "1         3             32      0   47.0           1             2          0   \n",
       "\n",
       "   a_Have_Ticket  a_Fare  a_Have_Fare       ...        a_Name_de  a_Name_del  \\\n",
       "0              1  7.8292            1       ...                0           0   \n",
       "1              1  7.0000            1       ...                0           0   \n",
       "\n",
       "   a_Name_der  a_Name_hoef  a_Name_of  a_Name_the  a_Name_van  a_Name_y  \\\n",
       "0           0            0          0           0           0         0   \n",
       "1           0            0          0           0           0         0   \n",
       "\n",
       "   a_Cabin_Word  a_Cabin_Number  \n",
       "0            -1              -1  \n",
       "1            -1              -1  \n",
       "\n",
       "[2 rows x 1544 columns]"
      ]
     },
     "metadata": {},
     "output_type": "display_data"
    },
    {
     "name": "stdout",
     "output_type": "stream",
     "text": [
      "(418, 1)\n",
      "(418,)\n",
      "[0 0 0 0 1 0 1 0 1 0 0 0 1 0 1 1 0 0 0 1 0 0 1 0 1 0 1 0 0 0 0 0 1 1 1 1 0\n",
      " 0 0 0 0 1 0 1 1 0 0 0 1 1 1 0 1 1 0 0 0 0 0 1 0 0 0 1 1 1 1 0 1 1 1 0 1 1\n",
      " 1 1 0 1 0 1 0 1 0 0 0 0 1 1 1 0 1 0 1 0 0 0 1 0 1 0 1 0 0 0 1 0 0 0 0 0 0\n",
      " 1 1 1 1 0 0 1 1 1 1 0 1 0 0 1 0 1 0 0 0 0 0 0 0 0 0 0 0 0 0 1 1 0 1 0 1 0\n",
      " 0 0 1 0 0 1 0 0 1 1 0 1 1 1 1 0 0 1 0 0 1 1 0 0 0 0 0 1 1 0 1 1 0 1 1 0 1\n",
      " 0 1 0 0 0 0 0 0 0 0 0 1 1 0 1 1 1 1 1 0 0 1 0 1 0 0 0 0 1 0 0 1 0 1 0 1 0\n",
      " 1 0 1 1 0 1 0 0 0 1 0 0 1 0 0 0 0 1 1 1 1 0 0 0 1 0 1 1 0 0 1 0 0 0 0 0 1\n",
      " 0 0 0 1 1 0 0 0 0 1 0 1 0 1 1 0 1 0 0 0 0 0 0 1 1 1 0 0 1 1 0 1 1 0 0 0 0\n",
      " 1 0 0 0 0 0 0 0 1 1 1 0 0 1 0 0 0 0 1 1 1 0 0 0 0 0 0 0 1 0 1 1 0 0 1 0 0\n",
      " 1 0 0 0 0 0 0 0 0 0 1 0 1 0 1 0 1 1 0 0 0 1 0 1 0 0 1 0 1 1 0 1 0 0 1 1 0\n",
      " 0 1 0 0 1 1 0 0 0 0 0 0 1 1 0 1 0 0 0 0 1 1 0 0 0 1 0 1 0 0 1 0 1 0 0 1 0\n",
      " 1 1 1 1 1 1 0 1 0 0 0]\n",
      "(418,)\n"
     ]
    }
   ],
   "source": [
    "display(data_test0.head(2))\n",
    "y_data_pred = model.predict(data_test0.as_matrix())\n",
    "print(y_data_pred.shape)\n",
    "y_data_pred = np.squeeze(y_data_pred)\n",
    "print(y_data_pred.shape)\n",
    "y_data_pred = (y_data_pred > 0.5).astype(int)\n",
    "print(y_data_pred)\n",
    "\n",
    "print(data_test['PassengerId'].shape)\n",
    "passenger_id = data_test['PassengerId']\n",
    "output = pd.DataFrame( { 'PassengerId': passenger_id , 'Survived': y_data_pred })\n",
    "\n",
    "output.to_csv(pred_file , index = False)"
   ]
  },
  {
   "cell_type": "code",
   "execution_count": 34,
   "metadata": {
    "collapsed": true
   },
   "outputs": [],
   "source": [
    "# display(data_test0.head(2))\n",
    "# y_data_pred = clfs['RandomForestClassifier'].predict(data_test0.as_matrix())\n",
    "# print(y_data_pred.shape)\n",
    "# y_data_pred = np.squeeze(y_data_pred)\n",
    "# print(y_data_pred.shape)\n",
    "# print(data_test['PassengerId'].shape)\n",
    "# passenger_id = data_test['PassengerId']\n",
    "# output = pd.DataFrame( { 'PassengerId': passenger_id , 'Survived': y_data_pred })\n",
    "\n",
    "# output.to_csv(pred_file , index = False)"
   ]
  },
  {
   "cell_type": "code",
   "execution_count": 35,
   "metadata": {},
   "outputs": [
    {
     "name": "stdout",
     "output_type": "stream",
     "text": [
      "Titanic_StatML_NN_20171028_225425_8212\n",
      "Done!\n"
     ]
    }
   ],
   "source": [
    "print(run_name)\n",
    "print('Done!')"
   ]
  },
  {
   "cell_type": "code",
   "execution_count": null,
   "metadata": {
    "collapsed": true
   },
   "outputs": [],
   "source": []
  }
 ],
 "metadata": {
  "kernelspec": {
   "display_name": "Python 3",
   "language": "python",
   "name": "python3"
  },
  "language_info": {
   "codemirror_mode": {
    "name": "ipython",
    "version": 3
   },
   "file_extension": ".py",
   "mimetype": "text/x-python",
   "name": "python",
   "nbconvert_exporter": "python",
   "pygments_lexer": "ipython3",
   "version": "3.5.4"
  }
 },
 "nbformat": 4,
 "nbformat_minor": 2
}
