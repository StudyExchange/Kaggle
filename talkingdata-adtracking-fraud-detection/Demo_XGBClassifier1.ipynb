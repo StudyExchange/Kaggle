{
 "cells": [
  {
   "cell_type": "code",
   "execution_count": 1,
   "metadata": {},
   "outputs": [
    {
     "name": "stdout",
     "output_type": "stream",
     "text": [
      "(569, 30)\n"
     ]
    }
   ],
   "source": [
    "import pandas as pd\n",
    "import xgboost as xgb\n",
    "from sklearn.model_selection import ShuffleSplit, train_test_split, KFold\n",
    "from sklearn.datasets import load_breast_cancer\n",
    "from sklearn.metrics import accuracy_score, log_loss, roc_auc_score, precision_score, recall_score\n",
    "random_num = 2018\n",
    "\n",
    "\n",
    "cancer = load_breast_cancer()\n",
    "features = cancer.feature_names\n",
    "x_data = cancer.data\n",
    "y_data = cancer.target\n",
    "print(x_data.shape)\n",
    "\n",
    "# x_data = pd.DataFrame(x_data,columns=features)\n",
    "# y_data = pd.Series(y_data,index=x_data.index)\n",
    "\n",
    "# split data into training and testing sets\n",
    "x_train, x_val, y_train, y_val = train_test_split(x_data, y_data, test_size=0.2, random_state=random_num)"
   ]
  },
  {
   "cell_type": "code",
   "execution_count": 2,
   "metadata": {},
   "outputs": [],
   "source": [
    "def validation(model, xg_data, y_data):\n",
    "    y_data_proba = model.predict(xg_data)\n",
    "    y_data_pred = (y_data_proba>=0.5).astype(int)\n",
    "    \n",
    "    acc = accuracy_score(y_data, y_data_pred)\n",
    "    prec = precision_score(y_data, y_data_pred)\n",
    "    recall = recall_score(y_data, y_data_pred)\n",
    "    roc = roc_auc_score(y_data, y_data_proba)\n",
    "    return acc, prec, recall, roc"
   ]
  },
  {
   "cell_type": "code",
   "execution_count": 5,
   "metadata": {},
   "outputs": [
    {
     "name": "stdout",
     "output_type": "stream",
     "text": [
      "full train\t\n",
      "[0]\txg_val-auc:0.973142\n",
      "[3]\txg_val-auc:0.980574\n",
      "[6]\txg_val-auc:0.99223\n",
      "[9]\txg_val-auc:0.993243\n",
      "[12]\txg_val-auc:0.992568\n",
      "[15]\txg_val-auc:0.992905\n",
      "[18]\txg_val-auc:0.994932\n",
      "[19]\txg_val-auc:0.994595\n",
      "(0.956140350877193, 0.96, 0.972972972972973, 0.9945945945945946)\n",
      "[0]\txg_val-auc:0.947128\n",
      "[3]\txg_val-auc:0.980912\n",
      "{'objective': 'binary:logistic', 'verbose': False, 'eval_metric': ['auc'], 'process_type': 'update', 'update': 'refresh', 'refresh_leaf': True}\n",
      "(0.9035087719298246, 0.9090909090909091, 0.9459459459459459, 0.9809121621621621)\n"
     ]
    },
    {
     "ename": "XGBoostError",
     "evalue": "b'[17:38:09] /root/xgboost/src/tree/updater_colmaker.cc:119: Check failed: tree.param.num_nodes == tree.param.num_roots (7 vs. 1) ColMaker: can only grow new tree\\n\\nStack trace returned 10 entries:\\n[bt] (0) /home/ubuntu/anaconda3/envs/tensorflow_p36/lib/python3.6/site-packages/xgboost-0.71-py3.6.egg/xgboost/libxgboost.so(_ZN4dmlc15LogMessageFatalD1Ev+0x3c) [0x7f19dd84adcc]\\n[bt] (1) /home/ubuntu/anaconda3/envs/tensorflow_p36/lib/python3.6/site-packages/xgboost-0.71-py3.6.egg/xgboost/libxgboost.so(_ZN7xgboost4tree8ColMakerINS0_9GradStatsENS0_12NoConstraintEE7Builder8InitDataERKSt6vectorINS_6detail20GradientPairInternalIfEESaIS9_EERKNS_7DMatrixERKNS_7RegTreeE+0xd5) [0x7f19dda0a755]\\n[bt] (2) /home/ubuntu/anaconda3/envs/tensorflow_p36/lib/python3.6/site-packages/xgboost-0.71-py3.6.egg/xgboost/libxgboost.so(_ZN7xgboost4tree8ColMakerINS0_9GradStatsENS0_12NoConstraintEE6UpdateEPNS_16HostDeviceVectorINS_6detail20GradientPairInternalIfEEEEPNS_7DMatrixERKSt6vectorIPNS_7RegTreeESaISF_EE+0x27c) [0x7f19dda0cc2c]\\n[bt] (3) /home/ubuntu/anaconda3/envs/tensorflow_p36/lib/python3.6/site-packages/xgboost-0.71-py3.6.egg/xgboost/libxgboost.so(_ZN7xgboost4tree17TreeUpdaterSwitch6UpdateEPNS_16HostDeviceVectorINS_6detail20GradientPairInternalIfEEEEPNS_7DMatrixERKSt6vectorIPNS_7RegTreeESaISC_EE+0x46) [0x7f19dd9f9956]\\n[bt] (4) /home/ubuntu/anaconda3/envs/tensorflow_p36/lib/python3.6/site-packages/xgboost-0.71-py3.6.egg/xgboost/libxgboost.so(_ZN7xgboost3gbm6GBTree13BoostNewTreesEPNS_16HostDeviceVectorINS_6detail20GradientPairInternalIfEEEEPNS_7DMatrixEiPSt6vectorISt10unique_ptrINS_7RegTreeESt14default_deleteISC_EESaISF_EE+0x9ce) [0x7f19dd8db44e]\\n[bt] (5) /home/ubuntu/anaconda3/envs/tensorflow_p36/lib/python3.6/site-packages/xgboost-0.71-py3.6.egg/xgboost/libxgboost.so(_ZN7xgboost3gbm6GBTree7DoBoostEPNS_7DMatrixEPNS_16HostDeviceVectorINS_6detail20GradientPairInternalIfEEEEPNS_11ObjFunctionE+0x8f9) [0x7f19dd8dc619]\\n[bt] (6) /home/ubuntu/anaconda3/envs/tensorflow_p36/lib/python3.6/site-packages/xgboost-0.71-py3.6.egg/xgboost/libxgboost.so(_ZN7xgboost11LearnerImpl13UpdateOneIterEiPNS_7DMatrixE+0x361) [0x7f19dd90d221]\\n[bt] (7) /home/ubuntu/anaconda3/envs/tensorflow_p36/lib/python3.6/site-packages/xgboost-0.71-py3.6.egg/xgboost/libxgboost.so(XGBoosterUpdateOneIter+0x27) [0x7f19dd89a2d7]\\n[bt] (8) /home/ubuntu/anaconda3/envs/tensorflow_p36/lib/python3.6/lib-dynload/../../libffi.so.6(ffi_call_unix64+0x4c) [0x7f1a60719ec0]\\n[bt] (9) /home/ubuntu/anaconda3/envs/tensorflow_p36/lib/python3.6/lib-dynload/../../libffi.so.6(ffi_call+0x22d) [0x7f1a6071987d]\\n'",
     "output_type": "error",
     "traceback": [
      "\u001b[0;31m---------------------------------------------------------------------------\u001b[0m",
      "\u001b[0;31mXGBoostError\u001b[0m                              Traceback (most recent call last)",
      "\u001b[0;32m<ipython-input-5-930a6d58d369>\u001b[0m in \u001b[0;36m<module>\u001b[0;34m()\u001b[0m\n\u001b[1;32m     16\u001b[0m     \u001b[0my_train_kf\u001b[0m \u001b[0;34m=\u001b[0m \u001b[0my_train\u001b[0m\u001b[0;34m[\u001b[0m\u001b[0mkf_idx\u001b[0m\u001b[0;34m[\u001b[0m\u001b[0;36m1\u001b[0m\u001b[0;34m]\u001b[0m\u001b[0;34m]\u001b[0m\u001b[0;34m\u001b[0m\u001b[0m\n\u001b[1;32m     17\u001b[0m     \u001b[0mxg_train_kf\u001b[0m \u001b[0;34m=\u001b[0m \u001b[0mxgb\u001b[0m\u001b[0;34m.\u001b[0m\u001b[0mDMatrix\u001b[0m\u001b[0;34m(\u001b[0m\u001b[0mx_train_kf\u001b[0m\u001b[0;34m,\u001b[0m \u001b[0mlabel\u001b[0m\u001b[0;34m=\u001b[0m\u001b[0my_train_kf\u001b[0m\u001b[0;34m)\u001b[0m\u001b[0;34m\u001b[0m\u001b[0m\n\u001b[0;32m---> 18\u001b[0;31m     \u001b[0mxgboost_model1\u001b[0m \u001b[0;34m=\u001b[0m \u001b[0mxgb\u001b[0m\u001b[0;34m.\u001b[0m\u001b[0mtrain\u001b[0m\u001b[0;34m(\u001b[0m\u001b[0mparams\u001b[0m\u001b[0;34m,\u001b[0m \u001b[0mxg_train_kf\u001b[0m\u001b[0;34m,\u001b[0m \u001b[0mnum_round\u001b[0m\u001b[0;34m,\u001b[0m \u001b[0mwatch_list\u001b[0m\u001b[0;34m,\u001b[0m \u001b[0mverbose_eval\u001b[0m\u001b[0;34m=\u001b[0m\u001b[0mverbose_eval\u001b[0m\u001b[0;34m,\u001b[0m \u001b[0mxgb_model\u001b[0m\u001b[0;34m=\u001b[0m\u001b[0mxgboost_model\u001b[0m\u001b[0;34m)\u001b[0m\u001b[0;34m\u001b[0m\u001b[0m\n\u001b[0m\u001b[1;32m     19\u001b[0m     params.update({\n\u001b[1;32m     20\u001b[0m         \u001b[0;34m'process_type'\u001b[0m\u001b[0;34m:\u001b[0m \u001b[0;34m'update'\u001b[0m\u001b[0;34m,\u001b[0m\u001b[0;34m\u001b[0m\u001b[0m\n",
      "\u001b[0;32m/home/ubuntu/anaconda3/envs/tensorflow_p36/lib/python3.6/site-packages/xgboost-0.71-py3.6.egg/xgboost/training.py\u001b[0m in \u001b[0;36mtrain\u001b[0;34m(params, dtrain, num_boost_round, evals, obj, feval, maximize, early_stopping_rounds, evals_result, verbose_eval, xgb_model, callbacks, learning_rates)\u001b[0m\n\u001b[1;32m    202\u001b[0m                            \u001b[0mevals\u001b[0m\u001b[0;34m=\u001b[0m\u001b[0mevals\u001b[0m\u001b[0;34m,\u001b[0m\u001b[0;34m\u001b[0m\u001b[0m\n\u001b[1;32m    203\u001b[0m                            \u001b[0mobj\u001b[0m\u001b[0;34m=\u001b[0m\u001b[0mobj\u001b[0m\u001b[0;34m,\u001b[0m \u001b[0mfeval\u001b[0m\u001b[0;34m=\u001b[0m\u001b[0mfeval\u001b[0m\u001b[0;34m,\u001b[0m\u001b[0;34m\u001b[0m\u001b[0m\n\u001b[0;32m--> 204\u001b[0;31m                            xgb_model=xgb_model, callbacks=callbacks)\n\u001b[0m\u001b[1;32m    205\u001b[0m \u001b[0;34m\u001b[0m\u001b[0m\n\u001b[1;32m    206\u001b[0m \u001b[0;34m\u001b[0m\u001b[0m\n",
      "\u001b[0;32m/home/ubuntu/anaconda3/envs/tensorflow_p36/lib/python3.6/site-packages/xgboost-0.71-py3.6.egg/xgboost/training.py\u001b[0m in \u001b[0;36m_train_internal\u001b[0;34m(params, dtrain, num_boost_round, evals, obj, feval, xgb_model, callbacks)\u001b[0m\n\u001b[1;32m     72\u001b[0m         \u001b[0;31m# Skip the first update if it is a recovery step.\u001b[0m\u001b[0;34m\u001b[0m\u001b[0;34m\u001b[0m\u001b[0m\n\u001b[1;32m     73\u001b[0m         \u001b[0;32mif\u001b[0m \u001b[0mversion\u001b[0m \u001b[0;34m%\u001b[0m \u001b[0;36m2\u001b[0m \u001b[0;34m==\u001b[0m \u001b[0;36m0\u001b[0m\u001b[0;34m:\u001b[0m\u001b[0;34m\u001b[0m\u001b[0m\n\u001b[0;32m---> 74\u001b[0;31m             \u001b[0mbst\u001b[0m\u001b[0;34m.\u001b[0m\u001b[0mupdate\u001b[0m\u001b[0;34m(\u001b[0m\u001b[0mdtrain\u001b[0m\u001b[0;34m,\u001b[0m \u001b[0mi\u001b[0m\u001b[0;34m,\u001b[0m \u001b[0mobj\u001b[0m\u001b[0;34m)\u001b[0m\u001b[0;34m\u001b[0m\u001b[0m\n\u001b[0m\u001b[1;32m     75\u001b[0m             \u001b[0mbst\u001b[0m\u001b[0;34m.\u001b[0m\u001b[0msave_rabit_checkpoint\u001b[0m\u001b[0;34m(\u001b[0m\u001b[0;34m)\u001b[0m\u001b[0;34m\u001b[0m\u001b[0m\n\u001b[1;32m     76\u001b[0m             \u001b[0mversion\u001b[0m \u001b[0;34m+=\u001b[0m \u001b[0;36m1\u001b[0m\u001b[0;34m\u001b[0m\u001b[0m\n",
      "\u001b[0;32m/home/ubuntu/anaconda3/envs/tensorflow_p36/lib/python3.6/site-packages/xgboost-0.71-py3.6.egg/xgboost/core.py\u001b[0m in \u001b[0;36mupdate\u001b[0;34m(self, dtrain, iteration, fobj)\u001b[0m\n\u001b[1;32m    892\u001b[0m         \u001b[0;32mif\u001b[0m \u001b[0mfobj\u001b[0m \u001b[0;32mis\u001b[0m \u001b[0;32mNone\u001b[0m\u001b[0;34m:\u001b[0m\u001b[0;34m\u001b[0m\u001b[0m\n\u001b[1;32m    893\u001b[0m             _check_call(_LIB.XGBoosterUpdateOneIter(self.handle, ctypes.c_int(iteration),\n\u001b[0;32m--> 894\u001b[0;31m                                                     dtrain.handle))\n\u001b[0m\u001b[1;32m    895\u001b[0m         \u001b[0;32melse\u001b[0m\u001b[0;34m:\u001b[0m\u001b[0;34m\u001b[0m\u001b[0m\n\u001b[1;32m    896\u001b[0m             \u001b[0mpred\u001b[0m \u001b[0;34m=\u001b[0m \u001b[0mself\u001b[0m\u001b[0;34m.\u001b[0m\u001b[0mpredict\u001b[0m\u001b[0;34m(\u001b[0m\u001b[0mdtrain\u001b[0m\u001b[0;34m)\u001b[0m\u001b[0;34m\u001b[0m\u001b[0m\n",
      "\u001b[0;32m/home/ubuntu/anaconda3/envs/tensorflow_p36/lib/python3.6/site-packages/xgboost-0.71-py3.6.egg/xgboost/core.py\u001b[0m in \u001b[0;36m_check_call\u001b[0;34m(ret)\u001b[0m\n\u001b[1;32m    128\u001b[0m     \"\"\"\n\u001b[1;32m    129\u001b[0m     \u001b[0;32mif\u001b[0m \u001b[0mret\u001b[0m \u001b[0;34m!=\u001b[0m \u001b[0;36m0\u001b[0m\u001b[0;34m:\u001b[0m\u001b[0;34m\u001b[0m\u001b[0m\n\u001b[0;32m--> 130\u001b[0;31m         \u001b[0;32mraise\u001b[0m \u001b[0mXGBoostError\u001b[0m\u001b[0;34m(\u001b[0m\u001b[0m_LIB\u001b[0m\u001b[0;34m.\u001b[0m\u001b[0mXGBGetLastError\u001b[0m\u001b[0;34m(\u001b[0m\u001b[0;34m)\u001b[0m\u001b[0;34m)\u001b[0m\u001b[0;34m\u001b[0m\u001b[0m\n\u001b[0m\u001b[1;32m    131\u001b[0m \u001b[0;34m\u001b[0m\u001b[0m\n\u001b[1;32m    132\u001b[0m \u001b[0;34m\u001b[0m\u001b[0m\n",
      "\u001b[0;31mXGBoostError\u001b[0m: b'[17:38:09] /root/xgboost/src/tree/updater_colmaker.cc:119: Check failed: tree.param.num_nodes == tree.param.num_roots (7 vs. 1) ColMaker: can only grow new tree\\n\\nStack trace returned 10 entries:\\n[bt] (0) /home/ubuntu/anaconda3/envs/tensorflow_p36/lib/python3.6/site-packages/xgboost-0.71-py3.6.egg/xgboost/libxgboost.so(_ZN4dmlc15LogMessageFatalD1Ev+0x3c) [0x7f19dd84adcc]\\n[bt] (1) /home/ubuntu/anaconda3/envs/tensorflow_p36/lib/python3.6/site-packages/xgboost-0.71-py3.6.egg/xgboost/libxgboost.so(_ZN7xgboost4tree8ColMakerINS0_9GradStatsENS0_12NoConstraintEE7Builder8InitDataERKSt6vectorINS_6detail20GradientPairInternalIfEESaIS9_EERKNS_7DMatrixERKNS_7RegTreeE+0xd5) [0x7f19dda0a755]\\n[bt] (2) /home/ubuntu/anaconda3/envs/tensorflow_p36/lib/python3.6/site-packages/xgboost-0.71-py3.6.egg/xgboost/libxgboost.so(_ZN7xgboost4tree8ColMakerINS0_9GradStatsENS0_12NoConstraintEE6UpdateEPNS_16HostDeviceVectorINS_6detail20GradientPairInternalIfEEEEPNS_7DMatrixERKSt6vectorIPNS_7RegTreeESaISF_EE+0x27c) [0x7f19dda0cc2c]\\n[bt] (3) /home/ubuntu/anaconda3/envs/tensorflow_p36/lib/python3.6/site-packages/xgboost-0.71-py3.6.egg/xgboost/libxgboost.so(_ZN7xgboost4tree17TreeUpdaterSwitch6UpdateEPNS_16HostDeviceVectorINS_6detail20GradientPairInternalIfEEEEPNS_7DMatrixERKSt6vectorIPNS_7RegTreeESaISC_EE+0x46) [0x7f19dd9f9956]\\n[bt] (4) /home/ubuntu/anaconda3/envs/tensorflow_p36/lib/python3.6/site-packages/xgboost-0.71-py3.6.egg/xgboost/libxgboost.so(_ZN7xgboost3gbm6GBTree13BoostNewTreesEPNS_16HostDeviceVectorINS_6detail20GradientPairInternalIfEEEEPNS_7DMatrixEiPSt6vectorISt10unique_ptrINS_7RegTreeESt14default_deleteISC_EESaISF_EE+0x9ce) [0x7f19dd8db44e]\\n[bt] (5) /home/ubuntu/anaconda3/envs/tensorflow_p36/lib/python3.6/site-packages/xgboost-0.71-py3.6.egg/xgboost/libxgboost.so(_ZN7xgboost3gbm6GBTree7DoBoostEPNS_7DMatrixEPNS_16HostDeviceVectorINS_6detail20GradientPairInternalIfEEEEPNS_11ObjFunctionE+0x8f9) [0x7f19dd8dc619]\\n[bt] (6) /home/ubuntu/anaconda3/envs/tensorflow_p36/lib/python3.6/site-packages/xgboost-0.71-py3.6.egg/xgboost/libxgboost.so(_ZN7xgboost11LearnerImpl13UpdateOneIterEiPNS_7DMatrixE+0x361) [0x7f19dd90d221]\\n[bt] (7) /home/ubuntu/anaconda3/envs/tensorflow_p36/lib/python3.6/site-packages/xgboost-0.71-py3.6.egg/xgboost/libxgboost.so(XGBoosterUpdateOneIter+0x27) [0x7f19dd89a2d7]\\n[bt] (8) /home/ubuntu/anaconda3/envs/tensorflow_p36/lib/python3.6/lib-dynload/../../libffi.so.6(ffi_call_unix64+0x4c) [0x7f1a60719ec0]\\n[bt] (9) /home/ubuntu/anaconda3/envs/tensorflow_p36/lib/python3.6/lib-dynload/../../libffi.so.6(ffi_call+0x22d) [0x7f1a6071987d]\\n'"
     ]
    }
   ],
   "source": [
    "xg_train_0 = xgb.DMatrix(x_train, label=y_train)\n",
    "xg_val = xgb.DMatrix(x_val, label=y_val)\n",
    "n_fold = 5\n",
    "num_round = 4\n",
    "verbose_eval = 3\n",
    "watch_list = [(xg_val, 'xg_val')]\n",
    "params = {'objective': 'binary:logistic', 'verbose': False, 'eval_metric': ['auc']}\n",
    "print('full train\\t'); \n",
    "model_0 = xgb.train(params, xg_train_0, n_fold*num_round, watch_list, verbose_eval=verbose_eval)\n",
    "print(validation(model_0, xg_val, y_val))\n",
    "\n",
    "kf = KFold(n_fold, True, random_num)\n",
    "xgboost_model = None\n",
    "for i, kf_idx in enumerate(kf.split(x_train)):\n",
    "    x_train_kf = x_train[kf_idx[1]]\n",
    "    y_train_kf = y_train[kf_idx[1]]\n",
    "    xg_train_kf = xgb.DMatrix(x_train_kf, label=y_train_kf)\n",
    "    xgboost_model1 = xgb.train(params, xg_train_kf, num_round, watch_list, verbose_eval=verbose_eval, xgb_model=xgboost_model)\n",
    "    params.update({\n",
    "        'process_type': 'update',\n",
    "        'update': 'refresh',\n",
    "        'refresh_leaf': True,\n",
    "    })\n",
    "    print(params)\n",
    "    print(validation(xgboost_model1, xg_val, y_val))\n",
    "    xgboost_model = xgboost_model1\n",
    "    del xgboost_model1"
   ]
  },
  {
   "cell_type": "code",
   "execution_count": null,
   "metadata": {},
   "outputs": [],
   "source": []
  }
 ],
 "metadata": {
  "kernelspec": {
   "display_name": "Python 3",
   "language": "python",
   "name": "python3"
  },
  "language_info": {
   "codemirror_mode": {
    "name": "ipython",
    "version": 3
   },
   "file_extension": ".py",
   "mimetype": "text/x-python",
   "name": "python",
   "nbconvert_exporter": "python",
   "pygments_lexer": "ipython3",
   "version": "3.6.4"
  }
 },
 "nbformat": 4,
 "nbformat_minor": 2
}
