{
 "cells": [
  {
   "cell_type": "markdown",
   "metadata": {},
   "source": [
    "# 3. LightGBM\n",
    "**Start from the most basic features, and try to improve step by step.**\n",
    "\n",
    "Kaggle score: 0.9307"
   ]
  },
  {
   "cell_type": "markdown",
   "metadata": {},
   "source": [
    "## Run name"
   ]
  },
  {
   "cell_type": "code",
   "execution_count": 1,
   "metadata": {},
   "outputs": [
    {
     "name": "stdout",
     "output_type": "stream",
     "text": [
      "run_name: TalkingdataAFD2018_LightGBM_20180424_100502\n"
     ]
    }
   ],
   "source": [
    "import time\n",
    "\n",
    "project_name = 'TalkingdataAFD2018'\n",
    "step_name = 'LightGBM'\n",
    "time_str = time.strftime(\"%Y%m%d_%H%M%S\", time.localtime())\n",
    "run_name = '%s_%s_%s' % (project_name, step_name, time_str)\n",
    "print('run_name: %s' % run_name)\n",
    "t0 = time.time()"
   ]
  },
  {
   "cell_type": "markdown",
   "metadata": {},
   "source": [
    "## Important params"
   ]
  },
  {
   "cell_type": "code",
   "execution_count": 2,
   "metadata": {},
   "outputs": [
    {
     "name": "stdout",
     "output_type": "stream",
     "text": [
      "date:  6\n"
     ]
    }
   ],
   "source": [
    "date = 6\n",
    "print('date: ', date)\n",
    "# test_n_rows = 18790469\n",
    "test_n_rows = None"
   ]
  },
  {
   "cell_type": "code",
   "execution_count": 3,
   "metadata": {},
   "outputs": [],
   "source": [
    "day_rows = {\n",
    "    0: {\n",
    "        'n_skiprows': 1,\n",
    "        'n_rows': 10 * 10000\n",
    "    },\n",
    "    6: {\n",
    "        'n_skiprows': 1,\n",
    "        'n_rows': 9308568\n",
    "    },\n",
    "    7: {\n",
    "        'n_skiprows': 1 + 9308568,\n",
    "        'n_rows': 59633310\n",
    "    },\n",
    "    8: {\n",
    "        'n_skiprows': 1 + 9308568 + 59633310,\n",
    "        'n_rows': 62945075\n",
    "    },\n",
    "    9: {\n",
    "        'n_skiprows': 1 + 9308568 + 59633310 + 62945075,\n",
    "        'n_rows': 53016937\n",
    "    }\n",
    "}\n",
    "n_skiprows = day_rows[date]['n_skiprows']\n",
    "n_rows = day_rows[date]['n_rows']"
   ]
  },
  {
   "cell_type": "markdown",
   "metadata": {},
   "source": [
    "## Import PKGs"
   ]
  },
  {
   "cell_type": "code",
   "execution_count": 4,
   "metadata": {},
   "outputs": [
    {
     "name": "stdout",
     "output_type": "stream",
     "text": [
      "random_num: 6583\n"
     ]
    }
   ],
   "source": [
    "import numpy as np\n",
    "import pandas as pd\n",
    "import matplotlib.pyplot as plt\n",
    "import seaborn as sns\n",
    "%matplotlib inline\n",
    "from IPython.display import display\n",
    "\n",
    "import os\n",
    "import gc\n",
    "import time\n",
    "import random\n",
    "import zipfile\n",
    "import h5py\n",
    "import pickle\n",
    "import math\n",
    "from PIL import Image\n",
    "import shutil\n",
    "\n",
    "from tqdm import tqdm\n",
    "import multiprocessing\n",
    "from multiprocessing import cpu_count\n",
    "\n",
    "from sklearn.model_selection import train_test_split, GridSearchCV\n",
    "from sklearn.metrics import accuracy_score\n",
    "\n",
    "random_num = np.random.randint(10000)\n",
    "print('random_num: %s' % random_num)"
   ]
  },
  {
   "cell_type": "markdown",
   "metadata": {},
   "source": [
    "## Project folders"
   ]
  },
  {
   "cell_type": "code",
   "execution_count": 5,
   "metadata": {},
   "outputs": [
    {
     "name": "stdout",
     "output_type": "stream",
     "text": [
      "input_folder: \t\t\tD:\\bitbucket\\kaggle\\talkingdata-adtracking-fraud-detection\\input\n",
      "output_folder: \t\t\tD:\\bitbucket\\kaggle\\talkingdata-adtracking-fraud-detection\\output\n",
      "model_folder: \t\t\tD:\\bitbucket\\kaggle\\talkingdata-adtracking-fraud-detection\\model\n",
      "log_folder: \t\t\tD:\\bitbucket\\kaggle\\talkingdata-adtracking-fraud-detection\\log\n",
      "\n",
      "train_csv_file: \t\tD:\\bitbucket\\kaggle\\talkingdata-adtracking-fraud-detection\\input\\train.csv\n",
      "train_sample_csv_file: \t\tD:\\bitbucket\\kaggle\\talkingdata-adtracking-fraud-detection\\input\\train_sample.csv\n",
      "test_csv_file: \t\t\tD:\\bitbucket\\kaggle\\talkingdata-adtracking-fraud-detection\\input\\test.csv\n",
      "sample_submission_csv_file: \tD:\\bitbucket\\kaggle\\talkingdata-adtracking-fraud-detection\\input\\sample_submission.csv\n"
     ]
    }
   ],
   "source": [
    "cwd = os.getcwd()\n",
    "\n",
    "input_folder = os.path.join(cwd, 'input')\n",
    "output_folder = os.path.join(cwd, 'output')\n",
    "model_folder = os.path.join(cwd, 'model')\n",
    "log_folder = os.path.join(cwd, 'log')\n",
    "print('input_folder: \\t\\t\\t%s' % input_folder)\n",
    "print('output_folder: \\t\\t\\t%s' % output_folder)\n",
    "print('model_folder: \\t\\t\\t%s' % model_folder)\n",
    "print('log_folder: \\t\\t\\t%s' % log_folder)\n",
    "\n",
    "train_csv_file = os.path.join(input_folder, 'train.csv')\n",
    "train_sample_csv_file = os.path.join(input_folder, 'train_sample.csv')\n",
    "test_csv_file = os.path.join(input_folder, 'test.csv')\n",
    "sample_submission_csv_file = os.path.join(input_folder, 'sample_submission.csv')\n",
    "\n",
    "print('\\ntrain_csv_file: \\t\\t%s' % train_csv_file)\n",
    "print('train_sample_csv_file: \\t\\t%s' % train_sample_csv_file)\n",
    "print('test_csv_file: \\t\\t\\t%s' % test_csv_file)\n",
    "print('sample_submission_csv_file: \\t%s' % sample_submission_csv_file)"
   ]
  },
  {
   "cell_type": "markdown",
   "metadata": {},
   "source": [
    "## Load data"
   ]
  },
  {
   "cell_type": "code",
   "execution_count": 6,
   "metadata": {},
   "outputs": [
    {
     "name": "stdout",
     "output_type": "stream",
     "text": [
      "train_csv.shape: \t\t (9308568, 8)\n",
      "test_csv.shape: \t\t (18790469, 7)\n",
      "sample_submission_csv.shape: \t (18790469, 2)\n",
      "train_csv.dtypes: \n",
      " ip                          int64\n",
      "app                         int64\n",
      "device                      int64\n",
      "os                          int64\n",
      "channel                     int64\n",
      "click_time         datetime64[ns]\n",
      "attributed_time            object\n",
      "is_attributed               int64\n",
      "dtype: object\n"
     ]
    },
    {
     "data": {
      "text/html": [
       "<div>\n",
       "<style scoped>\n",
       "    .dataframe tbody tr th:only-of-type {\n",
       "        vertical-align: middle;\n",
       "    }\n",
       "\n",
       "    .dataframe tbody tr th {\n",
       "        vertical-align: top;\n",
       "    }\n",
       "\n",
       "    .dataframe thead th {\n",
       "        text-align: right;\n",
       "    }\n",
       "</style>\n",
       "<table border=\"1\" class=\"dataframe\">\n",
       "  <thead>\n",
       "    <tr style=\"text-align: right;\">\n",
       "      <th></th>\n",
       "      <th>ip</th>\n",
       "      <th>app</th>\n",
       "      <th>device</th>\n",
       "      <th>os</th>\n",
       "      <th>channel</th>\n",
       "      <th>click_time</th>\n",
       "      <th>attributed_time</th>\n",
       "      <th>is_attributed</th>\n",
       "    </tr>\n",
       "  </thead>\n",
       "  <tbody>\n",
       "    <tr>\n",
       "      <th>0</th>\n",
       "      <td>83230</td>\n",
       "      <td>3</td>\n",
       "      <td>1</td>\n",
       "      <td>13</td>\n",
       "      <td>379</td>\n",
       "      <td>2017-11-06 14:32:21</td>\n",
       "      <td>NaN</td>\n",
       "      <td>0</td>\n",
       "    </tr>\n",
       "    <tr>\n",
       "      <th>1</th>\n",
       "      <td>17357</td>\n",
       "      <td>3</td>\n",
       "      <td>1</td>\n",
       "      <td>19</td>\n",
       "      <td>379</td>\n",
       "      <td>2017-11-06 14:33:34</td>\n",
       "      <td>NaN</td>\n",
       "      <td>0</td>\n",
       "    </tr>\n",
       "  </tbody>\n",
       "</table>\n",
       "</div>"
      ],
      "text/plain": [
       "      ip  app  device  os  channel          click_time attributed_time  \\\n",
       "0  83230    3       1  13      379 2017-11-06 14:32:21             NaN   \n",
       "1  17357    3       1  19      379 2017-11-06 14:33:34             NaN   \n",
       "\n",
       "   is_attributed  \n",
       "0              0  \n",
       "1              0  "
      ]
     },
     "metadata": {},
     "output_type": "display_data"
    },
    {
     "data": {
      "text/html": [
       "<div>\n",
       "<style scoped>\n",
       "    .dataframe tbody tr th:only-of-type {\n",
       "        vertical-align: middle;\n",
       "    }\n",
       "\n",
       "    .dataframe tbody tr th {\n",
       "        vertical-align: top;\n",
       "    }\n",
       "\n",
       "    .dataframe thead th {\n",
       "        text-align: right;\n",
       "    }\n",
       "</style>\n",
       "<table border=\"1\" class=\"dataframe\">\n",
       "  <thead>\n",
       "    <tr style=\"text-align: right;\">\n",
       "      <th></th>\n",
       "      <th>click_id</th>\n",
       "      <th>ip</th>\n",
       "      <th>app</th>\n",
       "      <th>device</th>\n",
       "      <th>os</th>\n",
       "      <th>channel</th>\n",
       "      <th>click_time</th>\n",
       "    </tr>\n",
       "  </thead>\n",
       "  <tbody>\n",
       "    <tr>\n",
       "      <th>0</th>\n",
       "      <td>0</td>\n",
       "      <td>5744</td>\n",
       "      <td>9</td>\n",
       "      <td>1</td>\n",
       "      <td>3</td>\n",
       "      <td>107</td>\n",
       "      <td>2017-11-10 04:00:00</td>\n",
       "    </tr>\n",
       "    <tr>\n",
       "      <th>1</th>\n",
       "      <td>1</td>\n",
       "      <td>119901</td>\n",
       "      <td>9</td>\n",
       "      <td>1</td>\n",
       "      <td>3</td>\n",
       "      <td>466</td>\n",
       "      <td>2017-11-10 04:00:00</td>\n",
       "    </tr>\n",
       "  </tbody>\n",
       "</table>\n",
       "</div>"
      ],
      "text/plain": [
       "   click_id      ip  app  device  os  channel          click_time\n",
       "0         0    5744    9       1   3      107 2017-11-10 04:00:00\n",
       "1         1  119901    9       1   3      466 2017-11-10 04:00:00"
      ]
     },
     "metadata": {},
     "output_type": "display_data"
    },
    {
     "data": {
      "text/html": [
       "<div>\n",
       "<style scoped>\n",
       "    .dataframe tbody tr th:only-of-type {\n",
       "        vertical-align: middle;\n",
       "    }\n",
       "\n",
       "    .dataframe tbody tr th {\n",
       "        vertical-align: top;\n",
       "    }\n",
       "\n",
       "    .dataframe thead th {\n",
       "        text-align: right;\n",
       "    }\n",
       "</style>\n",
       "<table border=\"1\" class=\"dataframe\">\n",
       "  <thead>\n",
       "    <tr style=\"text-align: right;\">\n",
       "      <th></th>\n",
       "      <th>click_id</th>\n",
       "      <th>is_attributed</th>\n",
       "    </tr>\n",
       "  </thead>\n",
       "  <tbody>\n",
       "    <tr>\n",
       "      <th>0</th>\n",
       "      <td>0</td>\n",
       "      <td>0</td>\n",
       "    </tr>\n",
       "    <tr>\n",
       "      <th>1</th>\n",
       "      <td>1</td>\n",
       "      <td>0</td>\n",
       "    </tr>\n",
       "  </tbody>\n",
       "</table>\n",
       "</div>"
      ],
      "text/plain": [
       "   click_id  is_attributed\n",
       "0         0              0\n",
       "1         1              0"
      ]
     },
     "metadata": {},
     "output_type": "display_data"
    },
    {
     "name": "stdout",
     "output_type": "stream",
     "text": [
      "Wall time: 32.2 s\n"
     ]
    }
   ],
   "source": [
    "%%time\n",
    "train_csv = pd.read_csv(train_csv_file, skiprows=range(1, n_skiprows), nrows=n_rows, parse_dates=['click_time'])\n",
    "test_csv = pd.read_csv(test_csv_file, nrows=test_n_rows, parse_dates=['click_time'])\n",
    "sample_submission_csv = pd.read_csv(sample_submission_csv_file)\n",
    "\n",
    "print('train_csv.shape: \\t\\t', train_csv.shape)\n",
    "print('test_csv.shape: \\t\\t', test_csv.shape)\n",
    "print('sample_submission_csv.shape: \\t', sample_submission_csv.shape)\n",
    "print('train_csv.dtypes: \\n', train_csv.dtypes)\n",
    "\n",
    "display(train_csv.head(2))\n",
    "display(test_csv.head(2))\n",
    "display(sample_submission_csv.head(2))"
   ]
  },
  {
   "cell_type": "code",
   "execution_count": 7,
   "metadata": {},
   "outputs": [
    {
     "data": {
      "text/plain": [
       "0    0\n",
       "1    0\n",
       "2    0\n",
       "3    0\n",
       "4    0\n",
       "Name: is_attributed, dtype: int64"
      ]
     },
     "metadata": {},
     "output_type": "display_data"
    }
   ],
   "source": [
    "y_data = train_csv['is_attributed']\n",
    "train_csv.drop(['is_attributed'], axis=1, inplace=True)\n",
    "display(y_data.head())"
   ]
  },
  {
   "cell_type": "markdown",
   "metadata": {},
   "source": [
    "## Features"
   ]
  },
  {
   "cell_type": "code",
   "execution_count": 8,
   "metadata": {},
   "outputs": [
    {
     "name": "stdout",
     "output_type": "stream",
     "text": [
      "train_csv.shape: \t (9308568, 11)\n"
     ]
    },
    {
     "data": {
      "text/html": [
       "<div>\n",
       "<style scoped>\n",
       "    .dataframe tbody tr th:only-of-type {\n",
       "        vertical-align: middle;\n",
       "    }\n",
       "\n",
       "    .dataframe tbody tr th {\n",
       "        vertical-align: top;\n",
       "    }\n",
       "\n",
       "    .dataframe thead th {\n",
       "        text-align: right;\n",
       "    }\n",
       "</style>\n",
       "<table border=\"1\" class=\"dataframe\">\n",
       "  <thead>\n",
       "    <tr style=\"text-align: right;\">\n",
       "      <th></th>\n",
       "      <th>ip</th>\n",
       "      <th>app</th>\n",
       "      <th>device</th>\n",
       "      <th>os</th>\n",
       "      <th>channel</th>\n",
       "      <th>click_time</th>\n",
       "      <th>attributed_time</th>\n",
       "      <th>day</th>\n",
       "      <th>hour</th>\n",
       "      <th>minute</th>\n",
       "      <th>second</th>\n",
       "    </tr>\n",
       "  </thead>\n",
       "  <tbody>\n",
       "    <tr>\n",
       "      <th>0</th>\n",
       "      <td>83230</td>\n",
       "      <td>3</td>\n",
       "      <td>1</td>\n",
       "      <td>13</td>\n",
       "      <td>379</td>\n",
       "      <td>2017-11-06 14:32:21</td>\n",
       "      <td>NaN</td>\n",
       "      <td>6</td>\n",
       "      <td>14</td>\n",
       "      <td>32</td>\n",
       "      <td>21</td>\n",
       "    </tr>\n",
       "    <tr>\n",
       "      <th>1</th>\n",
       "      <td>17357</td>\n",
       "      <td>3</td>\n",
       "      <td>1</td>\n",
       "      <td>19</td>\n",
       "      <td>379</td>\n",
       "      <td>2017-11-06 14:33:34</td>\n",
       "      <td>NaN</td>\n",
       "      <td>6</td>\n",
       "      <td>14</td>\n",
       "      <td>33</td>\n",
       "      <td>34</td>\n",
       "    </tr>\n",
       "  </tbody>\n",
       "</table>\n",
       "</div>"
      ],
      "text/plain": [
       "      ip  app  device  os  channel          click_time attributed_time  day  \\\n",
       "0  83230    3       1  13      379 2017-11-06 14:32:21             NaN    6   \n",
       "1  17357    3       1  19      379 2017-11-06 14:33:34             NaN    6   \n",
       "\n",
       "   hour  minute  second  \n",
       "0    14      32      21  \n",
       "1    14      33      34  "
      ]
     },
     "metadata": {},
     "output_type": "display_data"
    }
   ],
   "source": [
    "train_csv['day'] = train_csv['click_time'].dt.day.astype('uint8')\n",
    "train_csv['hour'] = train_csv['click_time'].dt.hour.astype('uint8')\n",
    "train_csv['minute'] = train_csv['click_time'].dt.minute.astype('uint8')\n",
    "train_csv['second'] = train_csv['click_time'].dt.second.astype('uint8')\n",
    "print('train_csv.shape: \\t', train_csv.shape)\n",
    "display(train_csv.head(2))"
   ]
  },
  {
   "cell_type": "code",
   "execution_count": 9,
   "metadata": {},
   "outputs": [
    {
     "name": "stdout",
     "output_type": "stream",
     "text": [
      "test_csv.shape: \t (18790469, 11)\n"
     ]
    },
    {
     "data": {
      "text/html": [
       "<div>\n",
       "<style scoped>\n",
       "    .dataframe tbody tr th:only-of-type {\n",
       "        vertical-align: middle;\n",
       "    }\n",
       "\n",
       "    .dataframe tbody tr th {\n",
       "        vertical-align: top;\n",
       "    }\n",
       "\n",
       "    .dataframe thead th {\n",
       "        text-align: right;\n",
       "    }\n",
       "</style>\n",
       "<table border=\"1\" class=\"dataframe\">\n",
       "  <thead>\n",
       "    <tr style=\"text-align: right;\">\n",
       "      <th></th>\n",
       "      <th>click_id</th>\n",
       "      <th>ip</th>\n",
       "      <th>app</th>\n",
       "      <th>device</th>\n",
       "      <th>os</th>\n",
       "      <th>channel</th>\n",
       "      <th>click_time</th>\n",
       "      <th>day</th>\n",
       "      <th>hour</th>\n",
       "      <th>minute</th>\n",
       "      <th>second</th>\n",
       "    </tr>\n",
       "  </thead>\n",
       "  <tbody>\n",
       "    <tr>\n",
       "      <th>0</th>\n",
       "      <td>0</td>\n",
       "      <td>5744</td>\n",
       "      <td>9</td>\n",
       "      <td>1</td>\n",
       "      <td>3</td>\n",
       "      <td>107</td>\n",
       "      <td>2017-11-10 04:00:00</td>\n",
       "      <td>10</td>\n",
       "      <td>4</td>\n",
       "      <td>0</td>\n",
       "      <td>0</td>\n",
       "    </tr>\n",
       "    <tr>\n",
       "      <th>1</th>\n",
       "      <td>1</td>\n",
       "      <td>119901</td>\n",
       "      <td>9</td>\n",
       "      <td>1</td>\n",
       "      <td>3</td>\n",
       "      <td>466</td>\n",
       "      <td>2017-11-10 04:00:00</td>\n",
       "      <td>10</td>\n",
       "      <td>4</td>\n",
       "      <td>0</td>\n",
       "      <td>0</td>\n",
       "    </tr>\n",
       "  </tbody>\n",
       "</table>\n",
       "</div>"
      ],
      "text/plain": [
       "   click_id      ip  app  device  os  channel          click_time  day  hour  \\\n",
       "0         0    5744    9       1   3      107 2017-11-10 04:00:00   10     4   \n",
       "1         1  119901    9       1   3      466 2017-11-10 04:00:00   10     4   \n",
       "\n",
       "   minute  second  \n",
       "0       0       0  \n",
       "1       0       0  "
      ]
     },
     "metadata": {},
     "output_type": "display_data"
    }
   ],
   "source": [
    "test_csv['day'] = test_csv['click_time'].dt.day.astype('uint8')\n",
    "test_csv['hour'] = test_csv['click_time'].dt.hour.astype('uint8')\n",
    "test_csv['minute'] = test_csv['click_time'].dt.minute.astype('uint8')\n",
    "test_csv['second'] = test_csv['click_time'].dt.second.astype('uint8')\n",
    "print('test_csv.shape: \\t', test_csv.shape)\n",
    "display(test_csv.head(2))"
   ]
  },
  {
   "cell_type": "markdown",
   "metadata": {},
   "source": [
    "## Prepare data"
   ]
  },
  {
   "cell_type": "code",
   "execution_count": 10,
   "metadata": {},
   "outputs": [
    {
     "data": {
      "text/html": [
       "<div>\n",
       "<style scoped>\n",
       "    .dataframe tbody tr th:only-of-type {\n",
       "        vertical-align: middle;\n",
       "    }\n",
       "\n",
       "    .dataframe tbody tr th {\n",
       "        vertical-align: top;\n",
       "    }\n",
       "\n",
       "    .dataframe thead th {\n",
       "        text-align: right;\n",
       "    }\n",
       "</style>\n",
       "<table border=\"1\" class=\"dataframe\">\n",
       "  <thead>\n",
       "    <tr style=\"text-align: right;\">\n",
       "      <th></th>\n",
       "      <th>ip</th>\n",
       "      <th>app</th>\n",
       "      <th>device</th>\n",
       "      <th>os</th>\n",
       "      <th>channel</th>\n",
       "      <th>day</th>\n",
       "      <th>hour</th>\n",
       "      <th>minute</th>\n",
       "      <th>second</th>\n",
       "    </tr>\n",
       "  </thead>\n",
       "  <tbody>\n",
       "    <tr>\n",
       "      <th>0</th>\n",
       "      <td>83230</td>\n",
       "      <td>3</td>\n",
       "      <td>1</td>\n",
       "      <td>13</td>\n",
       "      <td>379</td>\n",
       "      <td>6</td>\n",
       "      <td>14</td>\n",
       "      <td>32</td>\n",
       "      <td>21</td>\n",
       "    </tr>\n",
       "    <tr>\n",
       "      <th>1</th>\n",
       "      <td>17357</td>\n",
       "      <td>3</td>\n",
       "      <td>1</td>\n",
       "      <td>19</td>\n",
       "      <td>379</td>\n",
       "      <td>6</td>\n",
       "      <td>14</td>\n",
       "      <td>33</td>\n",
       "      <td>34</td>\n",
       "    </tr>\n",
       "    <tr>\n",
       "      <th>2</th>\n",
       "      <td>35810</td>\n",
       "      <td>3</td>\n",
       "      <td>1</td>\n",
       "      <td>13</td>\n",
       "      <td>379</td>\n",
       "      <td>6</td>\n",
       "      <td>14</td>\n",
       "      <td>34</td>\n",
       "      <td>12</td>\n",
       "    </tr>\n",
       "    <tr>\n",
       "      <th>3</th>\n",
       "      <td>45745</td>\n",
       "      <td>14</td>\n",
       "      <td>1</td>\n",
       "      <td>13</td>\n",
       "      <td>478</td>\n",
       "      <td>6</td>\n",
       "      <td>14</td>\n",
       "      <td>34</td>\n",
       "      <td>52</td>\n",
       "    </tr>\n",
       "    <tr>\n",
       "      <th>4</th>\n",
       "      <td>161007</td>\n",
       "      <td>3</td>\n",
       "      <td>1</td>\n",
       "      <td>13</td>\n",
       "      <td>379</td>\n",
       "      <td>6</td>\n",
       "      <td>14</td>\n",
       "      <td>35</td>\n",
       "      <td>8</td>\n",
       "    </tr>\n",
       "  </tbody>\n",
       "</table>\n",
       "</div>"
      ],
      "text/plain": [
       "       ip  app  device  os  channel  day  hour  minute  second\n",
       "0   83230    3       1  13      379    6    14      32      21\n",
       "1   17357    3       1  19      379    6    14      33      34\n",
       "2   35810    3       1  13      379    6    14      34      12\n",
       "3   45745   14       1  13      478    6    14      34      52\n",
       "4  161007    3       1  13      379    6    14      35       8"
      ]
     },
     "metadata": {},
     "output_type": "display_data"
    },
    {
     "data": {
      "text/html": [
       "<div>\n",
       "<style scoped>\n",
       "    .dataframe tbody tr th:only-of-type {\n",
       "        vertical-align: middle;\n",
       "    }\n",
       "\n",
       "    .dataframe tbody tr th {\n",
       "        vertical-align: top;\n",
       "    }\n",
       "\n",
       "    .dataframe thead th {\n",
       "        text-align: right;\n",
       "    }\n",
       "</style>\n",
       "<table border=\"1\" class=\"dataframe\">\n",
       "  <thead>\n",
       "    <tr style=\"text-align: right;\">\n",
       "      <th></th>\n",
       "      <th>ip</th>\n",
       "      <th>app</th>\n",
       "      <th>device</th>\n",
       "      <th>os</th>\n",
       "      <th>channel</th>\n",
       "      <th>day</th>\n",
       "      <th>hour</th>\n",
       "      <th>minute</th>\n",
       "      <th>second</th>\n",
       "    </tr>\n",
       "  </thead>\n",
       "  <tbody>\n",
       "    <tr>\n",
       "      <th>0</th>\n",
       "      <td>5744</td>\n",
       "      <td>9</td>\n",
       "      <td>1</td>\n",
       "      <td>3</td>\n",
       "      <td>107</td>\n",
       "      <td>10</td>\n",
       "      <td>4</td>\n",
       "      <td>0</td>\n",
       "      <td>0</td>\n",
       "    </tr>\n",
       "    <tr>\n",
       "      <th>1</th>\n",
       "      <td>119901</td>\n",
       "      <td>9</td>\n",
       "      <td>1</td>\n",
       "      <td>3</td>\n",
       "      <td>466</td>\n",
       "      <td>10</td>\n",
       "      <td>4</td>\n",
       "      <td>0</td>\n",
       "      <td>0</td>\n",
       "    </tr>\n",
       "    <tr>\n",
       "      <th>2</th>\n",
       "      <td>72287</td>\n",
       "      <td>21</td>\n",
       "      <td>1</td>\n",
       "      <td>19</td>\n",
       "      <td>128</td>\n",
       "      <td>10</td>\n",
       "      <td>4</td>\n",
       "      <td>0</td>\n",
       "      <td>0</td>\n",
       "    </tr>\n",
       "    <tr>\n",
       "      <th>3</th>\n",
       "      <td>78477</td>\n",
       "      <td>15</td>\n",
       "      <td>1</td>\n",
       "      <td>13</td>\n",
       "      <td>111</td>\n",
       "      <td>10</td>\n",
       "      <td>4</td>\n",
       "      <td>0</td>\n",
       "      <td>0</td>\n",
       "    </tr>\n",
       "    <tr>\n",
       "      <th>4</th>\n",
       "      <td>123080</td>\n",
       "      <td>12</td>\n",
       "      <td>1</td>\n",
       "      <td>13</td>\n",
       "      <td>328</td>\n",
       "      <td>10</td>\n",
       "      <td>4</td>\n",
       "      <td>0</td>\n",
       "      <td>0</td>\n",
       "    </tr>\n",
       "  </tbody>\n",
       "</table>\n",
       "</div>"
      ],
      "text/plain": [
       "       ip  app  device  os  channel  day  hour  minute  second\n",
       "0    5744    9       1   3      107   10     4       0       0\n",
       "1  119901    9       1   3      466   10     4       0       0\n",
       "2   72287   21       1  19      128   10     4       0       0\n",
       "3   78477   15       1  13      111   10     4       0       0\n",
       "4  123080   12       1  13      328   10     4       0       0"
      ]
     },
     "metadata": {},
     "output_type": "display_data"
    }
   ],
   "source": [
    "train_useless_features = ['click_time', 'attributed_time']\n",
    "train_csv.drop(train_useless_features, axis=1, inplace=True)\n",
    "\n",
    "test_useless_features = ['click_time', 'click_id']\n",
    "test_csv.drop(test_useless_features, axis=1, inplace=True)\n",
    "\n",
    "display(train_csv.head())\n",
    "display(test_csv.head())"
   ]
  },
  {
   "cell_type": "code",
   "execution_count": 11,
   "metadata": {},
   "outputs": [
    {
     "name": "stdout",
     "output_type": "stream",
     "text": [
      "(9215482, 9)\n",
      "(9215482,)\n",
      "(93086, 9)\n",
      "(93086,)\n",
      "(18790469, 9)\n"
     ]
    }
   ],
   "source": [
    "x_train, x_val, y_train, y_val = train_test_split(train_csv, y_data, test_size=0.01, random_state=2017)\n",
    "x_test = test_csv\n",
    "print(x_train.shape)\n",
    "print(y_train.shape)\n",
    "print(x_val.shape)\n",
    "print(y_val.shape)\n",
    "print(x_test.shape)"
   ]
  },
  {
   "cell_type": "markdown",
   "metadata": {},
   "source": [
    "## Train"
   ]
  },
  {
   "cell_type": "code",
   "execution_count": 12,
   "metadata": {},
   "outputs": [
    {
     "name": "stdout",
     "output_type": "stream",
     "text": [
      "params:  {'task': 'train', 'num_boost_round': 200, 'early_stopping_rounds': 10, 'boosting_type': 'gbdt', 'num_leaves': 300, 'max_depth': -1, 'learning_rate': 0.1, 'n_estimators': 500, 'max_bin': 30, 'subsample_for_bin': 1000000, 'objective': 'binary', 'min_split_gain': 0.0, 'min_child_weight': 0.001, 'min_child_samples': 10, 'subsample': 0.7, 'colsample_bytree': 0.9, 'reg_alpha': 0.0, 'reg_lambda': 0.0, 'random_state': 6583, 'n_jobs': -1, 'silent': False, 'metric': ['auc', 'binary_logloss']}\n"
     ]
    },
    {
     "name": "stderr",
     "output_type": "stream",
     "text": [
      "C:\\Users\\study\\Anaconda3\\lib\\site-packages\\lightgbm\\engine.py:99: UserWarning: Found `num_boost_round` in params. Will use it instead of argument\n",
      "  warnings.warn(\"Found `{}` in params. Will use it instead of argument\".format(alias))\n",
      "C:\\Users\\study\\Anaconda3\\lib\\site-packages\\lightgbm\\engine.py:104: UserWarning: Found `early_stopping_rounds` in params. Will use it instead of argument\n",
      "  warnings.warn(\"Found `{}` in params. Will use it instead of argument\".format(alias))\n",
      "C:\\Users\\study\\Anaconda3\\lib\\site-packages\\lightgbm\\basic.py:657: UserWarning: silent keyword has been found in `params` and will be ignored. Please use silent argument of the Dataset constructor to pass this parameter.\n",
      "  'Please use {0} argument of the Dataset constructor to pass this parameter.'.format(key))\n"
     ]
    },
    {
     "name": "stdout",
     "output_type": "stream",
     "text": [
      "[1]\tvalid_0's auc: 0.823176\tvalid_0's binary_logloss: 0.598813\n",
      "Training until validation scores don't improve for 10 rounds.\n",
      "[2]\tvalid_0's auc: 0.911079\tvalid_0's binary_logloss: 0.521425\n",
      "[3]\tvalid_0's auc: 0.912216\tvalid_0's binary_logloss: 0.456913\n",
      "[4]\tvalid_0's auc: 0.913623\tvalid_0's binary_logloss: 0.402454\n",
      "[5]\tvalid_0's auc: 0.932065\tvalid_0's binary_logloss: 0.355877\n",
      "[6]\tvalid_0's auc: 0.932263\tvalid_0's binary_logloss: 0.315748\n",
      "[7]\tvalid_0's auc: 0.931105\tvalid_0's binary_logloss: 0.281046\n",
      "[8]\tvalid_0's auc: 0.930872\tvalid_0's binary_logloss: 0.250701\n",
      "[9]\tvalid_0's auc: 0.930375\tvalid_0's binary_logloss: 0.22412\n",
      "[10]\tvalid_0's auc: 0.929407\tvalid_0's binary_logloss: 0.200823\n",
      "[11]\tvalid_0's auc: 0.929186\tvalid_0's binary_logloss: 0.180186\n",
      "[12]\tvalid_0's auc: 0.929355\tvalid_0's binary_logloss: 0.161926\n",
      "[13]\tvalid_0's auc: 0.935915\tvalid_0's binary_logloss: 0.145732\n",
      "[14]\tvalid_0's auc: 0.937495\tvalid_0's binary_logloss: 0.131339\n",
      "[15]\tvalid_0's auc: 0.937053\tvalid_0's binary_logloss: 0.118539\n",
      "[16]\tvalid_0's auc: 0.938108\tvalid_0's binary_logloss: 0.107102\n",
      "[17]\tvalid_0's auc: 0.938303\tvalid_0's binary_logloss: 0.0968759\n",
      "[18]\tvalid_0's auc: 0.938465\tvalid_0's binary_logloss: 0.0877297\n",
      "[19]\tvalid_0's auc: 0.938702\tvalid_0's binary_logloss: 0.0795316\n",
      "[20]\tvalid_0's auc: 0.938761\tvalid_0's binary_logloss: 0.0721863\n",
      "[21]\tvalid_0's auc: 0.938879\tvalid_0's binary_logloss: 0.0655964\n",
      "[22]\tvalid_0's auc: 0.943551\tvalid_0's binary_logloss: 0.0596843\n",
      "[23]\tvalid_0's auc: 0.943739\tvalid_0's binary_logloss: 0.0543808\n",
      "[24]\tvalid_0's auc: 0.944263\tvalid_0's binary_logloss: 0.04961\n",
      "[25]\tvalid_0's auc: 0.944314\tvalid_0's binary_logloss: 0.0453219\n",
      "[26]\tvalid_0's auc: 0.944826\tvalid_0's binary_logloss: 0.041461\n",
      "[27]\tvalid_0's auc: 0.945393\tvalid_0's binary_logloss: 0.0379873\n",
      "[28]\tvalid_0's auc: 0.941599\tvalid_0's binary_logloss: 0.0348954\n",
      "[29]\tvalid_0's auc: 0.941688\tvalid_0's binary_logloss: 0.0320907\n",
      "[30]\tvalid_0's auc: 0.945767\tvalid_0's binary_logloss: 0.029545\n",
      "[31]\tvalid_0's auc: 0.947421\tvalid_0's binary_logloss: 0.0272548\n",
      "[32]\tvalid_0's auc: 0.944655\tvalid_0's binary_logloss: 0.0252335\n",
      "[33]\tvalid_0's auc: 0.946068\tvalid_0's binary_logloss: 0.0233735\n",
      "[34]\tvalid_0's auc: 0.947389\tvalid_0's binary_logloss: 0.0216957\n",
      "[35]\tvalid_0's auc: 0.947817\tvalid_0's binary_logloss: 0.0201874\n",
      "[36]\tvalid_0's auc: 0.948436\tvalid_0's binary_logloss: 0.0188277\n",
      "[37]\tvalid_0's auc: 0.949539\tvalid_0's binary_logloss: 0.0176004\n",
      "[38]\tvalid_0's auc: 0.950302\tvalid_0's binary_logloss: 0.0164961\n",
      "[39]\tvalid_0's auc: 0.950823\tvalid_0's binary_logloss: 0.015502\n",
      "[40]\tvalid_0's auc: 0.951007\tvalid_0's binary_logloss: 0.014599\n",
      "[41]\tvalid_0's auc: 0.951231\tvalid_0's binary_logloss: 0.0137932\n",
      "[42]\tvalid_0's auc: 0.950213\tvalid_0's binary_logloss: 0.0130672\n",
      "[43]\tvalid_0's auc: 0.94995\tvalid_0's binary_logloss: 0.0124193\n",
      "[44]\tvalid_0's auc: 0.950065\tvalid_0's binary_logloss: 0.0118183\n",
      "[45]\tvalid_0's auc: 0.950519\tvalid_0's binary_logloss: 0.0112898\n",
      "[46]\tvalid_0's auc: 0.950433\tvalid_0's binary_logloss: 0.0108146\n",
      "[47]\tvalid_0's auc: 0.950502\tvalid_0's binary_logloss: 0.0103916\n",
      "[48]\tvalid_0's auc: 0.950464\tvalid_0's binary_logloss: 0.010011\n",
      "[49]\tvalid_0's auc: 0.950425\tvalid_0's binary_logloss: 0.00966887\n",
      "[50]\tvalid_0's auc: 0.950463\tvalid_0's binary_logloss: 0.00935914\n",
      "[51]\tvalid_0's auc: 0.950689\tvalid_0's binary_logloss: 0.00907874\n",
      "Early stopping, best iteration is:\n",
      "[41]\tvalid_0's auc: 0.951231\tvalid_0's binary_logloss: 0.0137932\n",
      "********************************************************************************\n",
      "acc_train: 0.9985 \t roc_train: 0.9498\n",
      "acc_val:   0.9983 \t roc_val:   0.9512\n"
     ]
    }
   ],
   "source": [
    "import lightgbm as lgb\n",
    "from sklearn.metrics import roc_auc_score\n",
    "\n",
    "lgb_train = lgb.Dataset(x_train, label=y_train)\n",
    "lgb_val = lgb.Dataset(x_val, label=y_val, reference=lgb_train)\n",
    "\n",
    "# LightGBM parameters\n",
    "params = {\n",
    "    'task': 'train',\n",
    "    'num_boost_round': 200,\n",
    "    'early_stopping_rounds': 10,\n",
    "    'boosting_type': 'gbdt', # (default=\"gbdt\")\n",
    "    'num_leaves': 300, # (default=31)\n",
    "    'max_depth': -1, # (default=-1)\n",
    "    'learning_rate': 0.1, # (default=0.1)\n",
    "    'n_estimators': 500, # (default=10)\n",
    "    'max_bin': 30, # (default=255)\n",
    "    'subsample_for_bin': 100*10000, # (default=50000)\n",
    "    'objective': 'binary', # (default=None)\n",
    "    'min_split_gain': 0., # (default=0.)\n",
    "    'min_child_weight': 1e-3, # (default=1e-3)\n",
    "    'min_child_samples': 10, # (default=20)\n",
    "    'subsample': 0.7, # (default=1.)\n",
    "#     'subsample_freq': 1, # (default=1)\n",
    "    'colsample_bytree': 0.9, # (default=1.)\n",
    "    'reg_alpha': 0., # (default=0.)\n",
    "    'reg_lambda': 0., # (default=0.)\n",
    "    'random_state': random_num, # (default=None)\n",
    "    'n_jobs': -1, # (default=-1)\n",
    "    'silent': False, # (default=True)\n",
    "    'metric': ['auc', 'binary_logloss'],\n",
    "}\n",
    "print('params: ', params)\n",
    "# train\n",
    "gbm = lgb.train(\n",
    "    params,\n",
    "    train_set=lgb_train,\n",
    "    valid_sets=lgb_val\n",
    ")\n",
    "print('*' * 80)\n",
    "y_train_proba = gbm.predict(x_train, num_iteration=gbm.best_iteration)\n",
    "y_train_pred = (y_train_proba>=0.5).astype(int)\n",
    "acc_train = accuracy_score(y_train, y_train_pred)\n",
    "roc_train = roc_auc_score(y_train, y_train_proba)\n",
    "print('acc_train: %.4f \\t roc_train: %.4f' % (acc_train, roc_train))\n",
    "\n",
    "y_val_proba = gbm.predict(x_val, num_iteration=gbm.best_iteration)\n",
    "y_val_pred = (y_val_proba>=0.5).astype(int)\n",
    "acc_val = accuracy_score(y_val, y_val_pred)\n",
    "roc_val = roc_auc_score(y_val, y_val_proba)\n",
    "print('acc_val:   %.4f \\t roc_val:   %.4f' % (acc_val, roc_val))"
   ]
  },
  {
   "cell_type": "markdown",
   "metadata": {},
   "source": [
    "## Predict"
   ]
  },
  {
   "cell_type": "code",
   "execution_count": 13,
   "metadata": {},
   "outputs": [
    {
     "name": "stdout",
     "output_type": "stream",
     "text": [
      "TalkingdataAFD2018_XGBoost_20180422_162035_9512\n"
     ]
    }
   ],
   "source": [
    "run_name_acc = run_name + '_' + str(int(roc_val*10000)).zfill(4)\n",
    "print(run_name_acc)"
   ]
  },
  {
   "cell_type": "code",
   "execution_count": 14,
   "metadata": {},
   "outputs": [
    {
     "name": "stdout",
     "output_type": "stream",
     "text": [
      "(18790469,)\n",
      "[ 0.01287843  0.00854852  0.00827835  0.00816998  0.00821824  0.00826292\n",
      "  0.00838748  0.00827835  0.00826292  0.00830468  0.00925476  0.00820202\n",
      "  0.00816998  0.00862112  0.00816998  0.00819279  0.00826292  0.00819279\n",
      "  0.00827835  0.00819307]\n"
     ]
    }
   ],
   "source": [
    "y_test_proba = gbm.predict(x_test, num_iteration=gbm.best_iteration)\n",
    "print(y_test_proba.shape)\n",
    "print(y_test_proba[:20])"
   ]
  },
  {
   "cell_type": "code",
   "execution_count": 15,
   "metadata": {},
   "outputs": [
    {
     "name": "stdout",
     "output_type": "stream",
     "text": [
      "[0 1 2 3 4]\n",
      "File saved: \tD:\\bitbucket\\kaggle\\talkingdata-adtracking-fraud-detection\\model\\proba_TalkingdataAFD2018_XGBoost_20180422_162035_9512.p\n",
      "File loaded: \tD:\\bitbucket\\kaggle\\talkingdata-adtracking-fraud-detection\\model\\proba_TalkingdataAFD2018_XGBoost_20180422_162035_9512.p\n",
      "[0 1 2 3 4]\n",
      "(9215482,)\n",
      "(9215482,)\n",
      "(93086,)\n",
      "(93086,)\n",
      "(18790469,)\n",
      "18790469\n"
     ]
    }
   ],
   "source": [
    "def save_proba(y_train_proba, y_train, y_val_proba, y_val, y_test_proba, click_ids, file_name):\n",
    "    print(click_ids[:5])\n",
    "    if os.path.exists(file_name):\n",
    "        os.remove(file_name)\n",
    "        print('File removed: \\t%s' % file_name)\n",
    "    with h5py.File(file_name) as h:\n",
    "        h.create_dataset('y_train_proba', data=y_train_proba)\n",
    "        h.create_dataset('y_train', data=y_train)\n",
    "        h.create_dataset('y_val_proba', data=y_val_proba)\n",
    "        h.create_dataset('y_val', data=y_val)\n",
    "        h.create_dataset('y_test_proba', data=y_test_proba)\n",
    "        h.create_dataset('click_ids', data=click_ids)\n",
    "    print('File saved: \\t%s' % file_name)\n",
    "\n",
    "def load_proba(file_name):\n",
    "    with h5py.File(file_name, 'r') as h:\n",
    "        y_train_proba = np.array(h['y_train_proba'])\n",
    "        y_train = np.array(h['y_train'])\n",
    "        y_val_proba = np.array(h['y_val_proba'])\n",
    "        y_val = np.array(h['y_val'])\n",
    "        y_test_proba = np.array(h['y_test_proba'])\n",
    "        click_ids = np.array(h['click_ids'])\n",
    "    print('File loaded: \\t%s' % file_name)\n",
    "    print(click_ids[:5])\n",
    "    \n",
    "    return y_train_proba, y_train, y_val_proba, y_val, y_test_proba, click_ids\n",
    "\n",
    "\n",
    "y_proba_file = os.path.join(model_folder, 'proba_%s.p' % run_name_acc)\n",
    "save_proba(y_train_proba, y_train, y_val_proba, y_val, y_test_proba, np.array(sample_submission_csv['click_id']), y_proba_file)\n",
    "y_train_proba, y_train, y_val_proba, y_val, y_test_proba, click_ids = load_proba(y_proba_file)\n",
    "\n",
    "print(y_train_proba.shape)\n",
    "print(y_train.shape)\n",
    "print(y_val_proba.shape)\n",
    "print(y_val.shape)\n",
    "print(y_test_proba.shape)\n",
    "print(len(click_ids))"
   ]
  },
  {
   "cell_type": "code",
   "execution_count": 16,
   "metadata": {},
   "outputs": [
    {
     "name": "stdout",
     "output_type": "stream",
     "text": [
      "D:\\bitbucket\\kaggle\\talkingdata-adtracking-fraud-detection\\output\\pred_TalkingdataAFD2018_XGBoost_20180422_162035_9512.csv\n",
      "Wall time: 58.3 s\n"
     ]
    }
   ],
   "source": [
    "%%time\n",
    "submission_csv_file = os.path.join(output_folder, 'pred_%s.csv' % run_name_acc)\n",
    "print(submission_csv_file)\n",
    "submission_csv = pd.DataFrame({ 'click_id': click_ids , 'is_attributed': y_test_proba })\n",
    "submission_csv.to_csv(submission_csv_file, index = False)"
   ]
  },
  {
   "cell_type": "code",
   "execution_count": 17,
   "metadata": {},
   "outputs": [
    {
     "name": "stdout",
     "output_type": "stream",
     "text": [
      "Time cost: 183.26 s\n",
      "random_num:  6583\n",
      "date:  6\n",
      "TalkingdataAFD2018_XGBoost_20180422_162035_9512\n",
      "Done!\n"
     ]
    }
   ],
   "source": [
    "print('Time cost: %.2f s' % (time.time() - t0))\n",
    "\n",
    "print('random_num: ', random_num)\n",
    "print('date: ', date)\n",
    "print(run_name_acc)\n",
    "print('Done!')"
   ]
  },
  {
   "cell_type": "code",
   "execution_count": null,
   "metadata": {},
   "outputs": [],
   "source": []
  }
 ],
 "metadata": {
  "kernelspec": {
   "display_name": "Python 3",
   "language": "python",
   "name": "python3"
  },
  "language_info": {
   "codemirror_mode": {
    "name": "ipython",
    "version": 3
   },
   "file_extension": ".py",
   "mimetype": "text/x-python",
   "name": "python",
   "nbconvert_exporter": "python",
   "pygments_lexer": "ipython3",
   "version": "3.6.4"
  }
 },
 "nbformat": 4,
 "nbformat_minor": 2
}
