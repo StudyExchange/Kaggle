{
 "cells": [
  {
   "cell_type": "markdown",
   "metadata": {},
   "source": [
    "## 4. Ensemble\n",
    "\n",
    "\n",
    "Reference：\n",
    "- https://www.kaggle.com/ogrellier/good-fun-with-ligthgbm/code"
   ]
  },
  {
   "cell_type": "markdown",
   "metadata": {},
   "source": [
    "## Run name"
   ]
  },
  {
   "cell_type": "code",
   "execution_count": 1,
   "metadata": {},
   "outputs": [
    {
     "name": "stdout",
     "output_type": "stream",
     "text": [
      "run_name: HomeCreditDefaultRisk_Ensemble_20180522_171304\n"
     ]
    }
   ],
   "source": [
    "import time\n",
    "\n",
    "project_name = 'HomeCreditDefaultRisk'\n",
    "step_name = 'Ensemble'\n",
    "time_str = time.strftime(\"%Y%m%d_%H%M%S\", time.localtime())\n",
    "run_name = project_name + '_' + step_name + '_' + time_str\n",
    "print('run_name: ' + run_name)\n",
    "t0 = time.time()"
   ]
  },
  {
   "cell_type": "markdown",
   "metadata": {},
   "source": [
    "## Important params"
   ]
  },
  {
   "cell_type": "code",
   "execution_count": null,
   "metadata": {},
   "outputs": [],
   "source": []
  },
  {
   "cell_type": "markdown",
   "metadata": {},
   "source": [
    "## Import PKGs"
   ]
  },
  {
   "cell_type": "code",
   "execution_count": 2,
   "metadata": {},
   "outputs": [
    {
     "name": "stderr",
     "output_type": "stream",
     "text": [
      "C:\\Users\\study\\Anaconda3\\lib\\site-packages\\h5py\\__init__.py:36: FutureWarning: Conversion of the second argument of issubdtype from `float` to `np.floating` is deprecated. In future, it will be treated as `np.float64 == np.dtype(float).type`.\n",
      "  from ._conv import register_converters as _register_converters\n"
     ]
    },
    {
     "name": "stdout",
     "output_type": "stream",
     "text": [
      "cpu_amount: 2\n",
      "random_num: 8252\n"
     ]
    }
   ],
   "source": [
    "import numpy as np\n",
    "import pandas as pd\n",
    "import matplotlib.pyplot as plt\n",
    "import matplotlib.image as mpimg\n",
    "%matplotlib inline\n",
    "from IPython.display import display\n",
    "import seaborn as sns\n",
    "\n",
    "import os\n",
    "import sys\n",
    "import gc\n",
    "import math\n",
    "import tqdm\n",
    "import shutil\n",
    "import zipfile\n",
    "import pickle\n",
    "import h5py\n",
    "# import cv2\n",
    "from PIL import Image\n",
    "\n",
    "from tqdm import tqdm\n",
    "import multiprocessing\n",
    "\n",
    "from sklearn.model_selection import train_test_split, GridSearchCV\n",
    "from sklearn.metrics import confusion_matrix, accuracy_score\n",
    "from sklearn.utils import shuffle\n",
    "\n",
    "random_num = np.random.randint(10000)\n",
    "cpu_amount = multiprocessing.cpu_count()\n",
    "\n",
    "print('cpu_amount: %s' % (cpu_amount - 2))\n",
    "print('random_num: %s' % random_num)"
   ]
  },
  {
   "cell_type": "code",
   "execution_count": 3,
   "metadata": {},
   "outputs": [],
   "source": [
    "from sklearn.metrics import roc_auc_score, roc_curve\n",
    "from sklearn.model_selection import KFold\n",
    "\n",
    "import xgboost\n",
    "# from xgboost import plot_importance"
   ]
  },
  {
   "cell_type": "markdown",
   "metadata": {},
   "source": [
    "## Project folders"
   ]
  },
  {
   "cell_type": "code",
   "execution_count": 4,
   "metadata": {},
   "outputs": [
    {
     "name": "stdout",
     "output_type": "stream",
     "text": [
      "D:\\bitbucket\\kaggle\\home-credit-default-risk\\input\\application_test.csv\n",
      "D:\\bitbucket\\kaggle\\home-credit-default-risk\\input\\application_train.csv\n",
      "D:\\bitbucket\\kaggle\\home-credit-default-risk\\input\\bureau.csv\n",
      "D:\\bitbucket\\kaggle\\home-credit-default-risk\\input\\bureau_balance.csv\n",
      "D:\\bitbucket\\kaggle\\home-credit-default-risk\\input\\credit_card_balance.csv\n",
      "D:\\bitbucket\\kaggle\\home-credit-default-risk\\input\\installments_payments.csv\n",
      "D:\\bitbucket\\kaggle\\home-credit-default-risk\\input\\POS_CASH_balance.csv\n",
      "D:\\bitbucket\\kaggle\\home-credit-default-risk\\input\\previous_application.csv\n",
      "D:\\bitbucket\\kaggle\\home-credit-default-risk\\input\\sample_submission.csv\n"
     ]
    }
   ],
   "source": [
    "cwd = os.getcwd()\n",
    "feature_folder = os.path.join(cwd, 'feature')\n",
    "input_folder = os.path.join(cwd, 'input')\n",
    "output_folder = os.path.join(cwd, 'output')\n",
    "model_folder = os.path.join(cwd, 'model')\n",
    "\n",
    "application_test_csv_file = os.path.join(input_folder, 'application_test.csv')\n",
    "application_train_csv_file = os.path.join(input_folder, 'application_train.csv')\n",
    "bureau_csv_file = os.path.join(input_folder, 'bureau.csv')\n",
    "bureau_balance_csv_file = os.path.join(input_folder, 'bureau_balance.csv')\n",
    "credit_card_balance_csv_file = os.path.join(input_folder, 'credit_card_balance.csv')\n",
    "installments_payments_csv_file = os.path.join(input_folder, 'installments_payments.csv')\n",
    "POS_CASH_balance_csv_file = os.path.join(input_folder, 'POS_CASH_balance.csv')\n",
    "previous_application_csv_file = os.path.join(input_folder, 'previous_application.csv')\n",
    "sample_submission_csv_file = os.path.join(input_folder, 'sample_submission.csv')\n",
    "\n",
    "print(application_test_csv_file)\n",
    "print(application_train_csv_file)\n",
    "print(bureau_csv_file)\n",
    "print(bureau_balance_csv_file)\n",
    "print(credit_card_balance_csv_file)\n",
    "print(installments_payments_csv_file)\n",
    "print(POS_CASH_balance_csv_file)\n",
    "print(previous_application_csv_file)\n",
    "print(sample_submission_csv_file)"
   ]
  },
  {
   "cell_type": "markdown",
   "metadata": {},
   "source": [
    "## Load data"
   ]
  },
  {
   "cell_type": "markdown",
   "metadata": {},
   "source": [
    "## Load predict probability files"
   ]
  },
  {
   "cell_type": "code",
   "execution_count": 5,
   "metadata": {},
   "outputs": [
    {
     "name": "stdout",
     "output_type": "stream",
     "text": [
      "File exists: proba_HomeCreditDefaultRisk_XGBoost_GSCV_20180522_103529_7186.p\n",
      "File exists: proba_HomeCreditDefaultRisk_LightGBM_GSCV_20180522_110454_7617.p\n",
      "File exists: proba_HomeCreditDefaultRisk_LightGBM_GSCV_20180522_110454_7617.p\n"
     ]
    }
   ],
   "source": [
    "ori_proba_files = [\n",
    "    { 'file_name': 'proba_HomeCreditDefaultRisk_XGBoost_GSCV_20180522_103529_7186.p'},\n",
    "    { 'file_name': 'proba_HomeCreditDefaultRisk_LightGBM_GSCV_20180522_110454_7617.p'},\n",
    "    { 'file_name': 'proba_HomeCreditDefaultRisk_LightGBM_GSCV_20180522_110454_7617.p'},\n",
    "]\n",
    "\n",
    "for file in ori_proba_files:\n",
    "    if os.path.exists(os.path.join(model_folder, file['file_name'])):\n",
    "        print('File exists: %s' % file['file_name'])\n",
    "    else:\n",
    "        print('***File do not exists: %s' % file['file_name'])"
   ]
  },
  {
   "cell_type": "code",
   "execution_count": 6,
   "metadata": {},
   "outputs": [
    {
     "name": "stdout",
     "output_type": "stream",
     "text": [
      "File loaded:  D:\\bitbucket\\kaggle\\home-credit-default-risk\\model\\proba_HomeCreditDefaultRisk_XGBoost_GSCV_20180522_103529_7186.p\n",
      "[100001 100005 100013 100028 100038]\n",
      "File loaded:  D:\\bitbucket\\kaggle\\home-credit-default-risk\\model\\proba_HomeCreditDefaultRisk_XGBoost_GSCV_20180522_103529_7186.p\n",
      "[100001 100005 100013 100028 100038]\n",
      "File loaded:  D:\\bitbucket\\kaggle\\home-credit-default-risk\\model\\proba_HomeCreditDefaultRisk_LightGBM_GSCV_20180522_110454_7617.p\n",
      "[100001 100005 100013 100028 100038]\n",
      "File loaded:  D:\\bitbucket\\kaggle\\home-credit-default-risk\\model\\proba_HomeCreditDefaultRisk_LightGBM_GSCV_20180522_110454_7617.p\n",
      "[100001 100005 100013 100028 100038]\n",
      "3\n"
     ]
    }
   ],
   "source": [
    "def save_proba(y_val_proba, y_val, y_test_proba, id_test, file_name):\n",
    "    print(id_test[:5])\n",
    "    if os.path.exists(file_name):\n",
    "        os.remove(file_name)\n",
    "        print('File removed: %s' % file_name)\n",
    "    with h5py.File(file_name) as h:\n",
    "        h.create_dataset('y_val_proba', data=y_val_proba)\n",
    "        h.create_dataset('y_val', data=y_val)\n",
    "        h.create_dataset('y_test_proba', data=y_test_proba)\n",
    "        h.create_dataset('id_test', data=id_test)\n",
    "    print('File saved:   %s' % file_name)\n",
    "\n",
    "def load_proba(file_name):\n",
    "    with h5py.File(file_name, 'r') as h:\n",
    "        y_val_proba = np.array(h['y_val_proba'])\n",
    "        y_val = np.array(h['y_val'])\n",
    "        y_test_proba = np.array(h['y_test_proba'])\n",
    "        id_test = np.array(h['id_test'])\n",
    "    print('File loaded:  %s' % file_name)\n",
    "    print(id_test[:5])\n",
    "    \n",
    "    return y_val_proba, y_val, y_test_proba, id_test\n",
    "\n",
    "\n",
    "y_proba_file = os.path.join(model_folder, ori_proba_files[0]['file_name'])\n",
    "# save_proba(\n",
    "#     y_val_proba, \n",
    "#     y_val, \n",
    "#     y_test_proba, \n",
    "#     id_test,\n",
    "#     y_proba_file\n",
    "# )\n",
    "y_val_proba_true, y_val, y_test_proba_true, id_test = load_proba(y_proba_file)\n",
    "\n",
    "\n",
    "y_val_probas = []\n",
    "y_vas = []\n",
    "y_test_probas = []\n",
    "for file in ori_proba_files:\n",
    "    y_proba_file = os.path.join(model_folder, file['file_name'])\n",
    "    y_val_proba, y_val, y_test_proba, id_test = load_proba(y_proba_file)\n",
    "    y_val_probas.append(y_val_proba)\n",
    "    y_test_probas.append(y_test_proba)\n",
    "\n",
    "print(len(y_val_probas))"
   ]
  },
  {
   "cell_type": "code",
   "execution_count": 7,
   "metadata": {},
   "outputs": [
    {
     "name": "stdout",
     "output_type": "stream",
     "text": [
      "*(48744, 1)\n",
      "*(48744, 1)\n",
      "*(48744, 1)\n",
      "(48744, 3)\n",
      "probas_mean.shape: \t (48744,)\n",
      "Wall time: 34 ms\n"
     ]
    }
   ],
   "source": [
    "%%time\n",
    "def get_mean(probas):\n",
    "    probas_newaxises = []\n",
    "    for p in probas:\n",
    "        print('*', end='')\n",
    "#         print(p.shape)\n",
    "        print(p[:, np.newaxis].shape)\n",
    "        probas_newaxises.append(p[:, np.newaxis])\n",
    "    probas_newaxis = np.concatenate(probas_newaxises, axis=-1)\n",
    "    print(probas_newaxis.shape)\n",
    "    probas_mean = np.mean(probas_newaxis, axis=-1)\n",
    "    print('probas_mean.shape: \\t', probas_mean.shape)\n",
    "    return probas_mean\n",
    "\n",
    "y_test_proba_mean = get_mean(y_test_probas)"
   ]
  },
  {
   "cell_type": "code",
   "execution_count": null,
   "metadata": {},
   "outputs": [],
   "source": []
  },
  {
   "cell_type": "code",
   "execution_count": 8,
   "metadata": {},
   "outputs": [
    {
     "name": "stdout",
     "output_type": "stream",
     "text": [
      "D:\\bitbucket\\kaggle\\home-credit-default-risk\\output\\pred.csv\n"
     ]
    },
    {
     "data": {
      "text/html": [
       "<div>\n",
       "<style scoped>\n",
       "    .dataframe tbody tr th:only-of-type {\n",
       "        vertical-align: middle;\n",
       "    }\n",
       "\n",
       "    .dataframe tbody tr th {\n",
       "        vertical-align: top;\n",
       "    }\n",
       "\n",
       "    .dataframe thead th {\n",
       "        text-align: right;\n",
       "    }\n",
       "</style>\n",
       "<table border=\"1\" class=\"dataframe\">\n",
       "  <thead>\n",
       "    <tr style=\"text-align: right;\">\n",
       "      <th></th>\n",
       "      <th>SK_ID_CURR</th>\n",
       "      <th>TARGET</th>\n",
       "    </tr>\n",
       "  </thead>\n",
       "  <tbody>\n",
       "    <tr>\n",
       "      <th>0</th>\n",
       "      <td>100001</td>\n",
       "      <td>0.479796</td>\n",
       "    </tr>\n",
       "    <tr>\n",
       "      <th>1</th>\n",
       "      <td>100005</td>\n",
       "      <td>0.504281</td>\n",
       "    </tr>\n",
       "    <tr>\n",
       "      <th>2</th>\n",
       "      <td>100013</td>\n",
       "      <td>0.320612</td>\n",
       "    </tr>\n",
       "    <tr>\n",
       "      <th>3</th>\n",
       "      <td>100028</td>\n",
       "      <td>0.363076</td>\n",
       "    </tr>\n",
       "    <tr>\n",
       "      <th>4</th>\n",
       "      <td>100038</td>\n",
       "      <td>0.547730</td>\n",
       "    </tr>\n",
       "  </tbody>\n",
       "</table>\n",
       "</div>"
      ],
      "text/plain": [
       "   SK_ID_CURR    TARGET\n",
       "0      100001  0.479796\n",
       "1      100005  0.504281\n",
       "2      100013  0.320612\n",
       "3      100028  0.363076\n",
       "4      100038  0.547730"
      ]
     },
     "metadata": {},
     "output_type": "display_data"
    }
   ],
   "source": [
    "# %%time\n",
    "submission_csv_file = os.path.join(output_folder, 'pred.csv')\n",
    "print(submission_csv_file)\n",
    "submission_csv = pd.DataFrame({ 'SK_ID_CURR': id_test , 'TARGET': y_test_proba_true })\n",
    "submission_csv.to_csv(submission_csv_file, index = False)\n",
    "display(submission_csv.head())"
   ]
  },
  {
   "cell_type": "code",
   "execution_count": 10,
   "metadata": {},
   "outputs": [
    {
     "name": "stdout",
     "output_type": "stream",
     "text": [
      "Time cost: 8.68 s\n",
      "random_num:  8252\n",
      "Done!\n"
     ]
    }
   ],
   "source": [
    "print('Time cost: %.2f s' % (time.time() - t0))\n",
    "\n",
    "print('random_num: ', random_num)\n",
    "print('Done!')"
   ]
  },
  {
   "cell_type": "code",
   "execution_count": null,
   "metadata": {},
   "outputs": [],
   "source": []
  }
 ],
 "metadata": {
  "kernelspec": {
   "display_name": "Python 3",
   "language": "python",
   "name": "python3"
  },
  "language_info": {
   "codemirror_mode": {
    "name": "ipython",
    "version": 3
   },
   "file_extension": ".py",
   "mimetype": "text/x-python",
   "name": "python",
   "nbconvert_exporter": "python",
   "pygments_lexer": "ipython3",
   "version": "3.6.4"
  }
 },
 "nbformat": 4,
 "nbformat_minor": 2
}
