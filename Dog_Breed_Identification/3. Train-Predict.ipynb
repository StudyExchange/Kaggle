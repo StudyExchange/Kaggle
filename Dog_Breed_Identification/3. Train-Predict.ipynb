{
 "cells": [
  {
   "cell_type": "markdown",
   "metadata": {},
   "source": [
    "# 3. Train-Predict\n",
    "\n",
    "**Tensorboard**\n",
    "- Input at command: tensorboard --logdir=./log\n",
    "- Input at browser: http://127.0.0.1:6006"
   ]
  },
  {
   "cell_type": "code",
   "execution_count": 1,
   "metadata": {},
   "outputs": [
    {
     "name": "stdout",
     "output_type": "stream",
     "text": [
      "run_name: Dog_Breed_Identification_Train_20171024_225343\n",
      "model_path: E:\\Kaggle\\Dog_Breed_Identification\\model\n"
     ]
    }
   ],
   "source": [
    "import time\n",
    "import os\n",
    "import pandas as pd\n",
    "\n",
    "project_name = 'Dog_Breed_Identification'\n",
    "step_name = 'Train'\n",
    "time_str = time.strftime(\"%Y%m%d_%H%M%S\", time.localtime())\n",
    "run_name = project_name + '_' + step_name + '_' + time_str\n",
    "print('run_name: ' + run_name)\n",
    "\n",
    "cwd = os.getcwd()\n",
    "model_path = os.path.join(cwd, 'model')\n",
    "print('model_path: ' + model_path)"
   ]
  },
  {
   "cell_type": "code",
   "execution_count": 2,
   "metadata": {},
   "outputs": [
    {
     "name": "stdout",
     "output_type": "stream",
     "text": [
      "(9710, 7168)\n",
      "(7168,)\n",
      "9710\n",
      "(512, 7168)\n",
      "512\n",
      "(10357, 7168)\n"
     ]
    }
   ],
   "source": [
    "import h5py\n",
    "import numpy as np\n",
    "from sklearn.utils import shuffle\n",
    "np.random.seed(2017)\n",
    "\n",
    "x_train = []\n",
    "y_train = {}\n",
    "x_val = []\n",
    "y_val = {}\n",
    "x_test = []\n",
    "\n",
    "cwd = os.getcwd()\n",
    "feature_cgg16 = os.path.join(cwd, 'model', 'feature_VGG16_{}.h5'.format(171023))\n",
    "feature_cgg19 = os.path.join(cwd, 'model', 'feature_VGG19_{}.h5'.format(171023))\n",
    "feature_resnet50 = os.path.join(cwd, 'model', 'feature_ResNet50_{}.h5'.format(171023))\n",
    "feature_xception = os.path.join(cwd, 'model', 'feature_Xception_{}.h5'.format(171023))\n",
    "feature_inception = os.path.join(cwd, 'model', 'feature_InceptionV3_{}.h5'.format(171023))\n",
    "for filename in [feature_cgg16, feature_cgg19, feature_resnet50, feature_xception, feature_inception]:\n",
    "    with h5py.File(filename, 'r') as h:\n",
    "        x_train.append(np.array(h['train']))\n",
    "        y_train = np.array(h['train_label'])\n",
    "        x_val.append(np.array(h['val']))\n",
    "        y_val = np.array(h['val_label'])\n",
    "        x_test.append(np.array(h['test']))\n",
    "\n",
    "# print(x_train[0].shape)\n",
    "x_train = np.concatenate(x_train, axis=-1)\n",
    "# y_train = np.concatenate(y_train, axis=0)\n",
    "x_val = np.concatenate(x_val, axis=-1)\n",
    "# y_val = np.concatenate(y_val, axis=0)\n",
    "x_test = np.concatenate(x_test, axis=-1)\n",
    "print(x_train.shape)\n",
    "print(x_train.shape[1:])\n",
    "\n",
    "print(len(y_train))\n",
    "print(x_val.shape)\n",
    "print(len(y_val))\n",
    "print(x_test.shape)"
   ]
  },
  {
   "cell_type": "code",
   "execution_count": 3,
   "metadata": {
    "collapsed": true
   },
   "outputs": [],
   "source": [
    "from sklearn.utils import shuffle\n",
    "(x_train, y_train) = shuffle(x_train, y_train)"
   ]
  },
  {
   "cell_type": "code",
   "execution_count": 4,
   "metadata": {},
   "outputs": [
    {
     "name": "stderr",
     "output_type": "stream",
     "text": [
      "Using TensorFlow backend.\n"
     ]
    },
    {
     "name": "stdout",
     "output_type": "stream",
     "text": [
      "(9710, 120)\n",
      "(512, 120)\n"
     ]
    }
   ],
   "source": [
    "from keras.utils.np_utils import to_categorical\n",
    "\n",
    "y_train = to_categorical(y_train)\n",
    "y_val = to_categorical(y_val)\n",
    "print(y_train.shape)\n",
    "print(y_val.shape)"
   ]
  },
  {
   "cell_type": "code",
   "execution_count": 5,
   "metadata": {
    "collapsed": true
   },
   "outputs": [],
   "source": [
    "from keras.models import *\n",
    "from keras.layers import *\n",
    "from keras.optimizers import Adam\n",
    "\n",
    "# model = Sequential()\n",
    "# model.add(Dense(5000, input_shape=x_train.shape[1:]))\n",
    "# model.add(Dropout(0.5))\n",
    "# model.add(Dense(120, activation='softmax'))\n",
    "\n",
    "# inputs = Input(x_train.shape[1:])\n",
    "# x = inputs\n",
    "# x = Dropout(0.5)(x)\n",
    "# x = Dense(120, activation='softmax')(x)\n",
    "# model = Model(inputs, x)\n",
    "\n",
    "model = Sequential()\n",
    "model.add(Dense(1000, input_shape=x_train.shape[1:]))\n",
    "model.add(Dropout(0.5))\n",
    "model.add(Dense(1000, activation='sigmoid'))\n",
    "model.add(Dropout(0.5))\n",
    "model.add(Dense(120, activation='softmax'))\n",
    "\n",
    "model.compile(optimizer=Adam(lr=1e-4),\n",
    "              loss='categorical_crossentropy',\n",
    "              metrics=['accuracy'])"
   ]
  },
  {
   "cell_type": "code",
   "execution_count": 6,
   "metadata": {},
   "outputs": [
    {
     "name": "stdout",
     "output_type": "stream",
     "text": [
      "log_dir:E:\\Kaggle\\Dog_Breed_Identification\\model\\Dog_Breed_Identification_Train_20171024_225343\n"
     ]
    }
   ],
   "source": [
    "from keras.callbacks import TensorBoard\n",
    "\n",
    "log_path = os.path.join(model_path, run_name)\n",
    "print('log_dir:' + log_path)\n",
    "tensorBoard = TensorBoard(log_dir=log_path)"
   ]
  },
  {
   "cell_type": "code",
   "execution_count": 7,
   "metadata": {},
   "outputs": [
    {
     "name": "stdout",
     "output_type": "stream",
     "text": [
      "Train on 9710 samples, validate on 512 samples\n",
      "Epoch 1/20\n",
      "10s - loss: 4.4439 - acc: 0.0717 - val_loss: 2.8208 - val_acc: 0.4297\n",
      "Epoch 2/20\n",
      "10s - loss: 2.7247 - acc: 0.3520 - val_loss: 1.5925 - val_acc: 0.6641\n",
      "Epoch 3/20\n",
      "9s - loss: 1.7407 - acc: 0.5856 - val_loss: 1.0128 - val_acc: 0.7734\n",
      "Epoch 4/20\n",
      "9s - loss: 1.2220 - acc: 0.7094 - val_loss: 0.7272 - val_acc: 0.8164\n",
      "Epoch 5/20\n",
      "9s - loss: 0.9132 - acc: 0.7769 - val_loss: 0.6163 - val_acc: 0.8184\n",
      "Epoch 6/20\n",
      "9s - loss: 0.7177 - acc: 0.8251 - val_loss: 0.5274 - val_acc: 0.8398\n",
      "Epoch 7/20\n",
      "9s - loss: 0.5893 - acc: 0.8499 - val_loss: 0.4673 - val_acc: 0.8359\n",
      "Epoch 8/20\n",
      "9s - loss: 0.5076 - acc: 0.8714 - val_loss: 0.4348 - val_acc: 0.8594\n",
      "Epoch 9/20\n",
      "9s - loss: 0.4293 - acc: 0.8841 - val_loss: 0.4255 - val_acc: 0.8594\n",
      "Epoch 10/20\n",
      "9s - loss: 0.3760 - acc: 0.9024 - val_loss: 0.4082 - val_acc: 0.8477\n",
      "Epoch 11/20\n",
      "8s - loss: 0.3335 - acc: 0.9154 - val_loss: 0.4128 - val_acc: 0.8711\n",
      "Epoch 12/20\n",
      "9s - loss: 0.2803 - acc: 0.9279 - val_loss: 0.3754 - val_acc: 0.8770\n",
      "Epoch 13/20\n",
      "9s - loss: 0.2527 - acc: 0.9355 - val_loss: 0.3853 - val_acc: 0.8652\n",
      "Epoch 14/20\n",
      "9s - loss: 0.2284 - acc: 0.9419 - val_loss: 0.3955 - val_acc: 0.8594\n",
      "Epoch 15/20\n",
      "9s - loss: 0.2013 - acc: 0.9507 - val_loss: 0.3738 - val_acc: 0.8828\n",
      "Epoch 16/20\n",
      "9s - loss: 0.1785 - acc: 0.9567 - val_loss: 0.3843 - val_acc: 0.8711\n",
      "Epoch 17/20\n",
      "9s - loss: 0.1621 - acc: 0.9622 - val_loss: 0.3436 - val_acc: 0.8887\n",
      "Epoch 18/20\n",
      "9s - loss: 0.1477 - acc: 0.9665 - val_loss: 0.3485 - val_acc: 0.8828\n",
      "Epoch 19/20\n",
      "9s - loss: 0.1317 - acc: 0.9695 - val_loss: 0.3540 - val_acc: 0.8867\n",
      "Epoch 20/20\n",
      "9s - loss: 0.1143 - acc: 0.9750 - val_loss: 0.3657 - val_acc: 0.8945\n"
     ]
    }
   ],
   "source": [
    "hist = model.fit(x_train, y_train,\n",
    "                 batch_size=16,\n",
    "                 epochs=20, #Increase this when not on Kaggle kernel\n",
    "                 verbose=2,  #1 for ETA, 0 for silent\n",
    "                 validation_data=(x_val, y_val), \n",
    "                 callbacks=[tensorBoard])"
   ]
  },
  {
   "cell_type": "code",
   "execution_count": 8,
   "metadata": {},
   "outputs": [
    {
     "data": {
      "image/png": "[encoded data removed]",
      "text/plain": [
       "<matplotlib.figure.Figure at 0x5a45598e10>"
      ]
     },
     "metadata": {},
     "output_type": "display_data"
    },
    {
     "data": {
      "image/png": "[encoded data removed]",
      "text/plain": [
       "<matplotlib.figure.Figure at 0x5a69577fd0>"
      ]
     },
     "metadata": {},
     "output_type": "display_data"
    }
   ],
   "source": [
    "import matplotlib.pyplot as plt\n",
    "%matplotlib inline\n",
    "\n",
    "plt.plot(hist.history['loss'], color='b')\n",
    "plt.plot(hist.history['val_loss'], color='r')\n",
    "plt.show()\n",
    "plt.plot(hist.history['acc'], color='b')\n",
    "plt.plot(hist.history['val_acc'], color='r')\n",
    "plt.show()"
   ]
  },
  {
   "cell_type": "code",
   "execution_count": 9,
   "metadata": {
    "collapsed": true
   },
   "outputs": [],
   "source": [
    "def saveModel(model, run_name):\n",
    "    cwd = os.getcwd()\n",
    "    modelPath = os.path.join(cwd, 'model')\n",
    "    if not os.path.isdir(modelPath):\n",
    "        os.mkdir(modelPath)\n",
    "    weigthsFile = os.path.join(modelPath, run_name + '.h5')\n",
    "    model.save(weigthsFile)\n",
    "saveModel(model, run_name)"
   ]
  },
  {
   "cell_type": "markdown",
   "metadata": {},
   "source": [
    "## Predict"
   ]
  },
  {
   "cell_type": "code",
   "execution_count": 10,
   "metadata": {
    "collapsed": true
   },
   "outputs": [],
   "source": [
    "# Used to load model directly and skip train\n",
    "# import os\n",
    "# from keras.models import load_model\n",
    "# cwd = os.getcwd()\n",
    "# model = load_model(os.path.join(cwd, 'model', 'Dog_Breed_Identification_Train_20171024_155154.h5'))"
   ]
  },
  {
   "cell_type": "code",
   "execution_count": 11,
   "metadata": {},
   "outputs": [
    {
     "name": "stdout",
     "output_type": "stream",
     "text": [
      "(10357, 120)\n"
     ]
    }
   ],
   "source": [
    "y_pred = model.predict(x_test, batch_size=128)\n",
    "print(y_pred.shape)"
   ]
  },
  {
   "cell_type": "code",
   "execution_count": 12,
   "metadata": {
    "collapsed": true
   },
   "outputs": [],
   "source": [
    "# print(y_pred[:10])\n",
    "# y_pred = np.clip(y_pred, 0.005, 0.995)\n",
    "# print(y_pred[:10])"
   ]
  },
  {
   "cell_type": "code",
   "execution_count": 13,
   "metadata": {},
   "outputs": [
    {
     "name": "stdout",
     "output_type": "stream",
     "text": [
      "['000621fb3cbb32d8935728e48679680e.jpg', '00102ee9d8eb90812350685311fe5890.jpg', '0012a730dfa437f5f3613fb75efcd4ce.jpg', '001510bc8570bbeee98c8d80c8a95ec1.jpg', '001a5f3114548acdefa3d4da05474c2e.jpg', '00225dcd3e4d2410dd53239f95c0352f.jpg', '002c2a3117c2193b4d26400ce431eebd.jpg', '002c58d413a521ae8d1a5daeb35fc803.jpg', '002f80396f1e3db687c5932d7978b196.jpg', '0036c6bcec6031be9e62a257b1c3c442.jpg']\n"
     ]
    }
   ],
   "source": [
    "files = os.listdir(os.path.join(cwd, 'input', 'data_test', 'test'))\n",
    "print(files[:10])"
   ]
  },
  {
   "cell_type": "code",
   "execution_count": 14,
   "metadata": {},
   "outputs": [
    {
     "name": "stdout",
     "output_type": "stream",
     "text": [
      "lables amount: 10222\n"
     ]
    },
    {
     "data": {
      "text/html": [
       "<div>\n",
       "<style>\n",
       "    .dataframe thead tr:only-child th {\n",
       "        text-align: right;\n",
       "    }\n",
       "\n",
       "    .dataframe thead th {\n",
       "        text-align: left;\n",
       "    }\n",
       "\n",
       "    .dataframe tbody tr th {\n",
       "        vertical-align: top;\n",
       "    }\n",
       "</style>\n",
       "<table border=\"1\" class=\"dataframe\">\n",
       "  <thead>\n",
       "    <tr style=\"text-align: right;\">\n",
       "      <th></th>\n",
       "      <th>id</th>\n",
       "      <th>breed</th>\n",
       "    </tr>\n",
       "  </thead>\n",
       "  <tbody>\n",
       "    <tr>\n",
       "      <th>0</th>\n",
       "      <td>000bec180eb18c7604dcecc8fe0dba07</td>\n",
       "      <td>boston_bull</td>\n",
       "    </tr>\n",
       "    <tr>\n",
       "      <th>1</th>\n",
       "      <td>001513dfcb2ffafc82cccf4d8bbaba97</td>\n",
       "      <td>dingo</td>\n",
       "    </tr>\n",
       "    <tr>\n",
       "      <th>2</th>\n",
       "      <td>001cdf01b096e06d78e9e5112d419397</td>\n",
       "      <td>pekinese</td>\n",
       "    </tr>\n",
       "    <tr>\n",
       "      <th>3</th>\n",
       "      <td>00214f311d5d2247d5dfe4fe24b2303d</td>\n",
       "      <td>bluetick</td>\n",
       "    </tr>\n",
       "    <tr>\n",
       "      <th>4</th>\n",
       "      <td>0021f9ceb3235effd7fcde7f7538ed62</td>\n",
       "      <td>golden_retriever</td>\n",
       "    </tr>\n",
       "  </tbody>\n",
       "</table>\n",
       "</div>"
      ],
      "text/plain": [
       "                                 id             breed\n",
       "0  000bec180eb18c7604dcecc8fe0dba07       boston_bull\n",
       "1  001513dfcb2ffafc82cccf4d8bbaba97             dingo\n",
       "2  001cdf01b096e06d78e9e5112d419397          pekinese\n",
       "3  00214f311d5d2247d5dfe4fe24b2303d          bluetick\n",
       "4  0021f9ceb3235effd7fcde7f7538ed62  golden_retriever"
      ]
     },
     "execution_count": 14,
     "metadata": {},
     "output_type": "execute_result"
    }
   ],
   "source": [
    "cwd = os.getcwd()\n",
    "df = pd.read_csv(os.path.join(cwd, 'input', 'labels.csv'))\n",
    "print('lables amount: %d' %len(df))\n",
    "df.head()"
   ]
  },
  {
   "cell_type": "code",
   "execution_count": 15,
   "metadata": {},
   "outputs": [
    {
     "name": "stdout",
     "output_type": "stream",
     "text": [
      "{'brabancon_griffon', 'dingo', 'clumber', 'sealyham_terrier', 'norfolk_terrier', 'vizsla', 'golden_retriever', 'bedlington_terrier', 'standard_schnauzer', 'border_collie', 'miniature_schnauzer', 'west_highland_white_terrier', 'japanese_spaniel', 'airedale', 'yorkshire_terrier', 'giant_schnauzer', 'shetland_sheepdog', 'staffordshire_bullterrier', 'greater_swiss_mountain_dog', 'collie', 'groenendael', 'mexican_hairless', 'french_bulldog', 'chesapeake_bay_retriever', 'wire-haired_fox_terrier', 'boxer', 'entlebucher', 'chihuahua', 'rottweiler', 'blenheim_spaniel', 'welsh_springer_spaniel', 'soft-coated_wheaten_terrier', 'chow', 'great_dane', 'pug', 'beagle', 'norwegian_elkhound', 'pomeranian', 'ibizan_hound', 'bouvier_des_flandres', 'black-and-tan_coonhound', 'toy_terrier', 'toy_poodle', 'pembroke', 'afghan_hound', 'borzoi', 'doberman', 'old_english_sheepdog', 'gordon_setter', 'leonberg', 'border_terrier', 'redbone', 'shih-tzu', 'kuvasz', 'african_hunting_dog', 'cardigan', 'labrador_retriever', 'tibetan_mastiff', 'kerry_blue_terrier', 'lakeland_terrier', 'cocker_spaniel', 'basenji', 'weimaraner', 'cairn', 'italian_greyhound', 'malamute', 'german_short-haired_pointer', 'eskimo_dog', 'english_springer', 'saint_bernard', 'samoyed', 'siberian_husky', 'boston_bull', 'rhodesian_ridgeback', 'bluetick', 'scottish_deerhound', 'basset', 'miniature_pinscher', 'papillon', 'english_foxhound', 'otterhound', 'newfoundland', 'whippet', 'silky_terrier', 'dandie_dinmont', 'australian_terrier', 'irish_terrier', 'german_shepherd', 'bull_mastiff', 'bloodhound', 'malinois', 'flat-coated_retriever', 'irish_setter', 'irish_water_spaniel', 'walker_hound', 'lhasa', 'komondor', 'pekinese', 'english_setter', 'curly-coated_retriever', 'brittany_spaniel', 'tibetan_terrier', 'saluki', 'american_staffordshire_terrier', 'schipperke', 'bernese_mountain_dog', 'briard', 'irish_wolfhound', 'norwich_terrier', 'sussex_spaniel', 'standard_poodle', 'scotch_terrier', 'great_pyrenees', 'miniature_poodle', 'appenzeller', 'kelpie', 'keeshond', 'affenpinscher', 'maltese_dog', 'dhole'}\n"
     ]
    }
   ],
   "source": [
    "n = len(df)\n",
    "breed = set(df['breed'])\n",
    "n_class = len(breed)\n",
    "class_to_num = dict(zip(breed, range(n_class)))\n",
    "num_to_class = dict(zip(range(n_class), breed))\n",
    "print(breed)"
   ]
  },
  {
   "cell_type": "code",
   "execution_count": 16,
   "metadata": {},
   "outputs": [
    {
     "name": "stdout",
     "output_type": "stream",
     "text": [
      "(10357, 121)\n"
     ]
    }
   ],
   "source": [
    "df2 = pd.read_csv('.\\\\input\\\\sample_submission.csv')\n",
    "n_test = len(df2)\n",
    "print(df2.shape)"
   ]
  },
  {
   "cell_type": "code",
   "execution_count": 17,
   "metadata": {
    "collapsed": true
   },
   "outputs": [],
   "source": [
    "for i in range(0, 120):\n",
    "    df2.iloc[:,[i+1]] = y_pred[:,i]\n",
    "df2.to_csv('.\\\\output\\\\pred.csv', index=None)"
   ]
  },
  {
   "cell_type": "code",
   "execution_count": null,
   "metadata": {
    "collapsed": true
   },
   "outputs": [],
   "source": []
  },
  {
   "cell_type": "code",
   "execution_count": 18,
   "metadata": {},
   "outputs": [
    {
     "name": "stdout",
     "output_type": "stream",
     "text": [
      "Done !\n"
     ]
    }
   ],
   "source": [
    "print('Done !')"
   ]
  },
  {
   "cell_type": "code",
   "execution_count": null,
   "metadata": {
    "collapsed": true
   },
   "outputs": [],
   "source": []
  }
 ],
 "metadata": {
  "kernelspec": {
   "display_name": "Python 3",
   "language": "python",
   "name": "python3"
  },
  "language_info": {
   "codemirror_mode": {
    "name": "ipython",
    "version": 3
   },
   "file_extension": ".py",
   "mimetype": "text/x-python",
   "name": "python",
   "nbconvert_exporter": "python",
   "pygments_lexer": "ipython3",
   "version": "3.6.3"
  }
 },
 "nbformat": 4,
 "nbformat_minor": 2
}
