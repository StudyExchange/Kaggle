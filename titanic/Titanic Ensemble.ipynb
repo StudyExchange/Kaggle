{
 "cells": [
  {
   "cell_type": "markdown",
   "metadata": {},
   "source": [
    "# Titanic Ensemble\n",
    "\n",
    "Kaggle score: 0.79425"
   ]
  },
  {
   "cell_type": "markdown",
   "metadata": {},
   "source": [
    "## Import PKGs"
   ]
  },
  {
   "cell_type": "code",
   "execution_count": 1,
   "metadata": {},
   "outputs": [],
   "source": [
    "import numpy as np\n",
    "import pandas as pd\n",
    "import matplotlib.pyplot as plt\n",
    "import seaborn as sns\n",
    "%matplotlib inline\n",
    "from IPython.display import display\n",
    "\n",
    "import os\n",
    "import gc\n",
    "import time\n",
    "import zipfile\n",
    "import h5py\n",
    "import pickle\n",
    "import math\n",
    "from PIL import Image\n",
    "import shutil\n",
    "\n",
    "from tqdm import tqdm\n",
    "import multiprocessing"
   ]
  },
  {
   "cell_type": "markdown",
   "metadata": {},
   "source": [
    "## Run names"
   ]
  },
  {
   "cell_type": "code",
   "execution_count": 2,
   "metadata": {},
   "outputs": [
    {
     "name": "stdout",
     "output_type": "stream",
     "text": [
      "run_name: Titanic_Ensemble_20180409_201925\n"
     ]
    }
   ],
   "source": [
    "project_name = 'Titanic'\n",
    "step_name = 'Ensemble'\n",
    "time_str = time.strftime(\"%Y%m%d_%H%M%S\", time.localtime())\n",
    "run_name = project_name + '_' + step_name + '_' + time_str\n",
    "print('run_name: ' + run_name)"
   ]
  },
  {
   "cell_type": "markdown",
   "metadata": {},
   "source": [
    "## Project folders"
   ]
  },
  {
   "cell_type": "code",
   "execution_count": 3,
   "metadata": {},
   "outputs": [
    {
     "name": "stdout",
     "output_type": "stream",
     "text": [
      "input_folder: \t\t\tD:\\Kaggle\\titanic\\input\n",
      "output_folder: \t\t\tD:\\Kaggle\\titanic\\output\n",
      "output_temp_folder: \t\tD:\\Kaggle\\titanic\\output\\20180409_0040\n",
      "model_folder: \t\t\tD:\\Kaggle\\titanic\\model\n",
      "model_temp_folder: \t\tD:\\Kaggle\\titanic\\model\\20180409_0040\n",
      "feature_folder: \t\tD:\\Kaggle\\titanic\\feature\n",
      "log_folder: \t\t\tD:\\Kaggle\\titanic\\log\n",
      "D:\\Kaggle\\titanic\\input\\train.csv\n",
      "D:\\Kaggle\\titanic\\input\\test.csv\n"
     ]
    }
   ],
   "source": [
    "cwd = os.getcwd()\n",
    "date_str = '20180409_0040'\n",
    "input_folder = os.path.join(cwd, 'input')\n",
    "output_folder = os.path.join(cwd, 'output')\n",
    "output_temp_folder = os.path.join(cwd, 'output', date_str)\n",
    "model_folder = os.path.join(cwd, 'model')\n",
    "model_temp_folder = os.path.join(cwd, 'model', date_str)\n",
    "feature_folder = os.path.join(cwd, 'feature')\n",
    "log_folder = os.path.join(cwd, 'log')\n",
    "print('input_folder: \\t\\t\\t%s' % input_folder)\n",
    "print('output_folder: \\t\\t\\t%s' % output_folder)\n",
    "print('output_temp_folder: \\t\\t%s' % output_temp_folder)\n",
    "print('model_folder: \\t\\t\\t%s' % model_folder)\n",
    "print('model_temp_folder: \\t\\t%s' % model_temp_folder)\n",
    "print('feature_folder: \\t\\t%s' % feature_folder)\n",
    "print('log_folder: \\t\\t\\t%s' % log_folder)\n",
    "\n",
    "if not os.path.exists(output_temp_folder):\n",
    "    os.mkdir(output_temp_folder)\n",
    "    print('Create folder: %s' % output_temp_folder)\n",
    "if not os.path.exists(model_temp_folder):\n",
    "    os.mkdir(model_temp_folder)\n",
    "    print('Create folder: %s' % model_temp_folder)\n",
    "\n",
    "train_csv_file = os.path.join(input_folder, 'train.csv')\n",
    "test_csv_file = os.path.join(input_folder, 'test.csv')\n",
    "\n",
    "print(train_csv_file)\n",
    "print(test_csv_file)"
   ]
  },
  {
   "cell_type": "markdown",
   "metadata": {},
   "source": [
    "## Import original data as DataFrame"
   ]
  },
  {
   "cell_type": "code",
   "execution_count": 4,
   "metadata": {},
   "outputs": [
    {
     "data": {
      "text/html": [
       "<div>\n",
       "<style scoped>\n",
       "    .dataframe tbody tr th:only-of-type {\n",
       "        vertical-align: middle;\n",
       "    }\n",
       "\n",
       "    .dataframe tbody tr th {\n",
       "        vertical-align: top;\n",
       "    }\n",
       "\n",
       "    .dataframe thead th {\n",
       "        text-align: right;\n",
       "    }\n",
       "</style>\n",
       "<table border=\"1\" class=\"dataframe\">\n",
       "  <thead>\n",
       "    <tr style=\"text-align: right;\">\n",
       "      <th></th>\n",
       "      <th>PassengerId</th>\n",
       "      <th>Survived</th>\n",
       "      <th>Pclass</th>\n",
       "      <th>Name</th>\n",
       "      <th>Sex</th>\n",
       "      <th>Age</th>\n",
       "      <th>SibSp</th>\n",
       "      <th>Parch</th>\n",
       "      <th>Ticket</th>\n",
       "      <th>Fare</th>\n",
       "      <th>Cabin</th>\n",
       "      <th>Embarked</th>\n",
       "    </tr>\n",
       "  </thead>\n",
       "  <tbody>\n",
       "    <tr>\n",
       "      <th>0</th>\n",
       "      <td>1</td>\n",
       "      <td>0</td>\n",
       "      <td>3</td>\n",
       "      <td>Braund, Mr. Owen Harris</td>\n",
       "      <td>male</td>\n",
       "      <td>22.0</td>\n",
       "      <td>1</td>\n",
       "      <td>0</td>\n",
       "      <td>A/5 21171</td>\n",
       "      <td>7.2500</td>\n",
       "      <td>NaN</td>\n",
       "      <td>S</td>\n",
       "    </tr>\n",
       "    <tr>\n",
       "      <th>1</th>\n",
       "      <td>2</td>\n",
       "      <td>1</td>\n",
       "      <td>1</td>\n",
       "      <td>Cumings, Mrs. John Bradley (Florence Briggs Th...</td>\n",
       "      <td>female</td>\n",
       "      <td>38.0</td>\n",
       "      <td>1</td>\n",
       "      <td>0</td>\n",
       "      <td>PC 17599</td>\n",
       "      <td>71.2833</td>\n",
       "      <td>C85</td>\n",
       "      <td>C</td>\n",
       "    </tr>\n",
       "  </tbody>\n",
       "</table>\n",
       "</div>"
      ],
      "text/plain": [
       "   PassengerId  Survived  Pclass  \\\n",
       "0            1         0       3   \n",
       "1            2         1       1   \n",
       "\n",
       "                                                Name     Sex   Age  SibSp  \\\n",
       "0                            Braund, Mr. Owen Harris    male  22.0      1   \n",
       "1  Cumings, Mrs. John Bradley (Florence Briggs Th...  female  38.0      1   \n",
       "\n",
       "   Parch     Ticket     Fare Cabin Embarked  \n",
       "0      0  A/5 21171   7.2500   NaN        S  \n",
       "1      0   PC 17599  71.2833   C85        C  "
      ]
     },
     "metadata": {},
     "output_type": "display_data"
    },
    {
     "data": {
      "text/html": [
       "<div>\n",
       "<style scoped>\n",
       "    .dataframe tbody tr th:only-of-type {\n",
       "        vertical-align: middle;\n",
       "    }\n",
       "\n",
       "    .dataframe tbody tr th {\n",
       "        vertical-align: top;\n",
       "    }\n",
       "\n",
       "    .dataframe thead th {\n",
       "        text-align: right;\n",
       "    }\n",
       "</style>\n",
       "<table border=\"1\" class=\"dataframe\">\n",
       "  <thead>\n",
       "    <tr style=\"text-align: right;\">\n",
       "      <th></th>\n",
       "      <th>PassengerId</th>\n",
       "      <th>Pclass</th>\n",
       "      <th>Name</th>\n",
       "      <th>Sex</th>\n",
       "      <th>Age</th>\n",
       "      <th>SibSp</th>\n",
       "      <th>Parch</th>\n",
       "      <th>Ticket</th>\n",
       "      <th>Fare</th>\n",
       "      <th>Cabin</th>\n",
       "      <th>Embarked</th>\n",
       "    </tr>\n",
       "  </thead>\n",
       "  <tbody>\n",
       "    <tr>\n",
       "      <th>0</th>\n",
       "      <td>892</td>\n",
       "      <td>3</td>\n",
       "      <td>Kelly, Mr. James</td>\n",
       "      <td>male</td>\n",
       "      <td>34.5</td>\n",
       "      <td>0</td>\n",
       "      <td>0</td>\n",
       "      <td>330911</td>\n",
       "      <td>7.8292</td>\n",
       "      <td>NaN</td>\n",
       "      <td>Q</td>\n",
       "    </tr>\n",
       "    <tr>\n",
       "      <th>1</th>\n",
       "      <td>893</td>\n",
       "      <td>3</td>\n",
       "      <td>Wilkes, Mrs. James (Ellen Needs)</td>\n",
       "      <td>female</td>\n",
       "      <td>47.0</td>\n",
       "      <td>1</td>\n",
       "      <td>0</td>\n",
       "      <td>363272</td>\n",
       "      <td>7.0000</td>\n",
       "      <td>NaN</td>\n",
       "      <td>S</td>\n",
       "    </tr>\n",
       "  </tbody>\n",
       "</table>\n",
       "</div>"
      ],
      "text/plain": [
       "   PassengerId  Pclass                              Name     Sex   Age  SibSp  \\\n",
       "0          892       3                  Kelly, Mr. James    male  34.5      0   \n",
       "1          893       3  Wilkes, Mrs. James (Ellen Needs)  female  47.0      1   \n",
       "\n",
       "   Parch  Ticket    Fare Cabin Embarked  \n",
       "0      0  330911  7.8292   NaN        Q  \n",
       "1      0  363272  7.0000   NaN        S  "
      ]
     },
     "metadata": {},
     "output_type": "display_data"
    },
    {
     "data": {
      "text/plain": [
       "'STON/O2. 3101282'"
      ]
     },
     "execution_count": 4,
     "metadata": {},
     "output_type": "execute_result"
    }
   ],
   "source": [
    "data_train = pd.read_csv(train_csv_file)\n",
    "data_test = pd.read_csv(test_csv_file)\n",
    "\n",
    "display(data_train.head(2))\n",
    "display(data_test.head(2))\n",
    "data_train.loc[2, 'Ticket']"
   ]
  },
  {
   "cell_type": "markdown",
   "metadata": {},
   "source": [
    "## Load predict probability files"
   ]
  },
  {
   "cell_type": "code",
   "execution_count": 5,
   "metadata": {},
   "outputs": [
    {
     "name": "stdout",
     "output_type": "stream",
     "text": [
      "False\n",
      "10000\n",
      "1328\n",
      "titanic_proba_Titanic_LightGBM_20180409_004545_8444_8614.p\n"
     ]
    }
   ],
   "source": [
    "def is_npy(s):\n",
    "    return s.startswith('titanic_proba_Titanic_LightGBM_20180409') and s.endswith('.p')\n",
    "\n",
    "def is_larger_than(x):\n",
    "    splits = x.split('_')\n",
    "    acc = int(splits[-2])\n",
    "#     print(acc)\n",
    "    if acc > 8300 and acc < 8500:\n",
    "        return True\n",
    "    return False\n",
    "\n",
    "print(is_larger_than('titanic_proba_Titanic_LightGBM_20180409_004504_7888_8490.p'))\n",
    "\n",
    "file_names = os.listdir(model_temp_folder)\n",
    "file_names = list(filter(is_npy, file_names))\n",
    "print(len(file_names))\n",
    "\n",
    "file_names = list(filter(is_larger_than, file_names))\n",
    "print(len(file_names))\n",
    "\n",
    "print(file_names[0])"
   ]
  },
  {
   "cell_type": "code",
   "execution_count": 6,
   "metadata": {},
   "outputs": [
    {
     "name": "stdout",
     "output_type": "stream",
     "text": [
      "(891,)\n",
      "(891,)\n",
      "(418,)\n"
     ]
    }
   ],
   "source": [
    "def load_proba(file_name):\n",
    "    with h5py.File(file_name, 'r') as h:\n",
    "        y_data_proba = np.array(h['y_data_proba'])\n",
    "        y_data = np.array(h['y_data'])\n",
    "        y_test_proba = np.array(h['y_test_proba'])\n",
    "#     print('Load file: %s' % file_name)\n",
    "    return y_data_proba, y_data, y_test_proba\n",
    "\n",
    "y_proba_file = os.path.join(model_temp_folder, file_names[0])\n",
    "y_data_proba, y_data, y_test_proba = load_proba(y_proba_file)\n",
    "\n",
    "print(y_data_proba.shape)\n",
    "print(y_data.shape)\n",
    "print(y_test_proba.shape)"
   ]
  },
  {
   "cell_type": "code",
   "execution_count": null,
   "metadata": {},
   "outputs": [],
   "source": []
  },
  {
   "cell_type": "markdown",
   "metadata": {},
   "source": [
    "## Mean"
   ]
  },
  {
   "cell_type": "code",
   "execution_count": 7,
   "metadata": {},
   "outputs": [
    {
     "name": "stdout",
     "output_type": "stream",
     "text": [
      "(891,)\n",
      "(891,)\n",
      "(418,)\n",
      "891\n",
      "[ 0.21476616  0.74225822  0.52878833  0.69269695  0.23318174  0.21861981\n",
      "  0.32295565  0.3565228   0.68674115  0.7629447 ]\n"
     ]
    }
   ],
   "source": [
    "from sklearn.metrics import accuracy_score\n",
    "\n",
    "y_proba_file = os.path.join(model_temp_folder, file_names[0])\n",
    "y_data_probas, y_datas, y_test_probas = load_proba(y_proba_file)\n",
    "\n",
    "print(y_data_probas.shape)\n",
    "print(y_datas.shape)\n",
    "print(y_test_probas.shape)\n",
    "\n",
    "for file_name in file_names[1:]:\n",
    "    file_path = os.path.join(model_temp_folder, file_name)\n",
    "    y_data_proba, y_data, y_test_proba = load_proba(file_path)\n",
    "    y_data_probas = y_data_probas + y_data_proba\n",
    "    y_test_probas = y_test_probas + y_test_proba\n",
    "    \n",
    "y_data_probas = y_data_probas / len(file_names)\n",
    "y_test_probas = y_test_probas / len(file_names)\n",
    "\n",
    "print(len(y_data_probas))\n",
    "print(y_data_probas[:10])"
   ]
  },
  {
   "cell_type": "code",
   "execution_count": 8,
   "metadata": {},
   "outputs": [
    {
     "name": "stdout",
     "output_type": "stream",
     "text": [
      "train_acc: 0.919\n"
     ]
    }
   ],
   "source": [
    "y_data_pred = (y_data_probas>=0.5).astype(int)\n",
    "train_acc = accuracy_score(y_data, y_data_pred)\n",
    "print('train_acc: %.3f' % train_acc)\n",
    "\n",
    "y_test_pred = (y_test_probas>=0.5).astype(int)"
   ]
  },
  {
   "cell_type": "code",
   "execution_count": 9,
   "metadata": {},
   "outputs": [
    {
     "name": "stdout",
     "output_type": "stream",
     "text": [
      "Titanic_Ensemble_20180409_201925_9191\n"
     ]
    }
   ],
   "source": [
    "run_name_acc = run_name + '_' + str(int(train_acc*10000)).zfill(4)\n",
    "print(run_name_acc)"
   ]
  },
  {
   "cell_type": "code",
   "execution_count": 10,
   "metadata": {},
   "outputs": [
    {
     "name": "stdout",
     "output_type": "stream",
     "text": [
      "D:\\Kaggle\\titanic\\output\\Titanic_Ensemble_20180409_201925_9191.csv\n",
      "\n",
      "Titanic_Ensemble_20180409_201925_9191\n"
     ]
    }
   ],
   "source": [
    "passenger_id = data_test['PassengerId']\n",
    "output = pd.DataFrame( { 'PassengerId': passenger_id , 'Survived': y_test_pred })\n",
    "\n",
    "output_csv_file = os.path.join(output_folder, '%s.csv' % run_name_acc)\n",
    "output.to_csv(output_csv_file, index = False)\n",
    "print(output_csv_file)\n",
    "print('\\n%s' % run_name_acc)"
   ]
  },
  {
   "cell_type": "code",
   "execution_count": null,
   "metadata": {},
   "outputs": [],
   "source": []
  }
 ],
 "metadata": {
  "kernelspec": {
   "display_name": "Python 3",
   "language": "python",
   "name": "python3"
  },
  "language_info": {
   "codemirror_mode": {
    "name": "ipython",
    "version": 3
   },
   "file_extension": ".py",
   "mimetype": "text/x-python",
   "name": "python",
   "nbconvert_exporter": "python",
   "pygments_lexer": "ipython3",
   "version": "3.6.4"
  }
 },
 "nbformat": 4,
 "nbformat_minor": 2
}
