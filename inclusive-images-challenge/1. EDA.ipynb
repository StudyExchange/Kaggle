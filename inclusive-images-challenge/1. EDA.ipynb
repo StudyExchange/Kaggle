{
 "cells": [
  {
   "cell_type": "markdown",
   "metadata": {},
   "source": [
    "# EDA(ExploratoryDataAnalysis)"
   ]
  },
  {
   "cell_type": "markdown",
   "metadata": {},
   "source": [
    "## Run name"
   ]
  },
  {
   "cell_type": "code",
   "execution_count": 1,
   "metadata": {},
   "outputs": [
    {
     "name": "stdout",
     "output_type": "stream",
     "text": [
      "run_name: inclusive-images-challenge_EDA_20180916-101959\n"
     ]
    }
   ],
   "source": [
    "import time\n",
    "\n",
    "project_name = 'inclusive-images-challenge'\n",
    "step_name = 'EDA'\n",
    "time_str = time.strftime(\"%Y%m%d-%H%M%S\", time.localtime())\n",
    "run_name = project_name + '_' + step_name + '_' + time_str\n",
    "print('run_name: ' + run_name)\n",
    "t0 = time.time()"
   ]
  },
  {
   "cell_type": "markdown",
   "metadata": {},
   "source": [
    "## Important params"
   ]
  },
  {
   "cell_type": "code",
   "execution_count": null,
   "metadata": {},
   "outputs": [],
   "source": []
  },
  {
   "cell_type": "markdown",
   "metadata": {},
   "source": [
    "## Import PKGs"
   ]
  },
  {
   "cell_type": "code",
   "execution_count": 2,
   "metadata": {},
   "outputs": [
    {
     "name": "stderr",
     "output_type": "stream",
     "text": [
      "C:\\Users\\study\\Anaconda3\\lib\\site-packages\\h5py\\__init__.py:36: FutureWarning: Conversion of the second argument of issubdtype from `float` to `np.floating` is deprecated. In future, it will be treated as `np.float64 == np.dtype(float).type`.\n",
      "  from ._conv import register_converters as _register_converters\n"
     ]
    },
    {
     "name": "stdout",
     "output_type": "stream",
     "text": [
      "cpu_amount: 3\n",
      "random_num: 3740\n"
     ]
    }
   ],
   "source": [
    "import numpy as np\n",
    "import pandas as pd\n",
    "import matplotlib.pyplot as plt\n",
    "import matplotlib.image as mpimg\n",
    "%matplotlib inline\n",
    "from IPython.display import display\n",
    "import seaborn as sns\n",
    "\n",
    "import os\n",
    "import sys\n",
    "import gc\n",
    "import math\n",
    "import tqdm\n",
    "import shutil\n",
    "import zipfile\n",
    "import pickle\n",
    "import h5py\n",
    "# import cv2\n",
    "from PIL import Image\n",
    "\n",
    "from tqdm import tqdm\n",
    "import multiprocessing\n",
    "\n",
    "from sklearn.model_selection import train_test_split, GridSearchCV\n",
    "from sklearn.metrics import confusion_matrix, accuracy_score\n",
    "from sklearn.utils import shuffle\n",
    "\n",
    "random_num = np.random.randint(10000)\n",
    "cpu_amount = multiprocessing.cpu_count()\n",
    "\n",
    "print('cpu_amount: %s' % (cpu_amount - 1))\n",
    "print('random_num: %s' % random_num)"
   ]
  },
  {
   "cell_type": "markdown",
   "metadata": {},
   "source": [
    "## Project folders"
   ]
  },
  {
   "cell_type": "code",
   "execution_count": 3,
   "metadata": {},
   "outputs": [
    {
     "name": "stdout",
     "output_type": "stream",
     "text": [
      "D:\\Kaggle\\inclusive-images-challenge\\input\n",
      "D:\\Kaggle\\inclusive-images-challenge\\input\\stage_1_test_images\n",
      "D:\\Kaggle\\inclusive-images-challenge\\input\\class-descriptions.csv\n",
      "D:\\Kaggle\\inclusive-images-challenge\\input\\classes-trainable.csv\n",
      "D:\\Kaggle\\inclusive-images-challenge\\input\\stage_1_attributions.csv\n",
      "D:\\Kaggle\\inclusive-images-challenge\\input\\stage_1_sample_submission.csv\n",
      "D:\\Kaggle\\inclusive-images-challenge\\input\\train_bounding_boxes.csv\n",
      "D:\\Kaggle\\inclusive-images-challenge\\input\\train_human_labels.csv\n",
      "D:\\Kaggle\\inclusive-images-challenge\\input\\train_machine_labels.csv\n",
      "D:\\Kaggle\\inclusive-images-challenge\\input\\tuning_labels.csv\n"
     ]
    }
   ],
   "source": [
    "cwd = os.getcwd()\n",
    "feature_folder = os.path.join(cwd, 'feature')\n",
    "input_folder = os.path.join(cwd, 'input')\n",
    "output_folder = os.path.join(cwd, 'output')\n",
    "model_folder = os.path.join(cwd, 'model')\n",
    "log_folder = os.path.join(cwd, 'log')\n",
    "\n",
    "cwd = os.getcwd()\n",
    "feature_folder = os.path.join(cwd, 'feature')\n",
    "input_folder = os.path.join(cwd, 'input')\n",
    "output_folder = os.path.join(cwd, 'output')\n",
    "model_folder = os.path.join(cwd, 'model')\n",
    "log_folder = os.path.join(cwd, 'log')\n",
    "stage_1_test_images_folder = os.path.join(input_folder, 'stage_1_test_images')\n",
    "\n",
    "print(input_folder)\n",
    "print(stage_1_test_images_folder)\n",
    "\n",
    "class_descriptions_csv = os.path.join(input_folder, 'class-descriptions.csv')\n",
    "class_trainable_csv = os.path.join(input_folder, 'classes-trainable.csv')\n",
    "stage_1_attributions_csv = os.path.join(input_folder, 'stage_1_attributions.csv')\n",
    "stage_1_sample_submission_csv = os.path.join(input_folder, 'stage_1_sample_submission.csv')\n",
    "train_bounding_boxes_csv = os.path.join(input_folder, 'train_bounding_boxes.csv')\n",
    "train_human_labels_csv = os.path.join(input_folder, 'train_human_labels.csv')\n",
    "train_machine_labels_csv = os.path.join(input_folder, 'train_machine_labels.csv')\n",
    "tuning_labels_csv = os.path.join(input_folder, 'tuning_labels.csv')\n",
    "\n",
    "print(class_descriptions_csv)\n",
    "print(class_trainable_csv)\n",
    "print(stage_1_attributions_csv)\n",
    "print(stage_1_sample_submission_csv)\n",
    "print(train_bounding_boxes_csv)\n",
    "print(train_human_labels_csv)\n",
    "print(train_machine_labels_csv)\n",
    "print(tuning_labels_csv)"
   ]
  },
  {
   "cell_type": "markdown",
   "metadata": {},
   "source": [
    "## Preview data"
   ]
  },
  {
   "cell_type": "code",
   "execution_count": 15,
   "metadata": {},
   "outputs": [
    {
     "name": "stdout",
     "output_type": "stream",
     "text": [
      "(19987, 2)\n"
     ]
    },
    {
     "data": {
      "text/html": [
       "<div>\n",
       "<style scoped>\n",
       "    .dataframe tbody tr th:only-of-type {\n",
       "        vertical-align: middle;\n",
       "    }\n",
       "\n",
       "    .dataframe tbody tr th {\n",
       "        vertical-align: top;\n",
       "    }\n",
       "\n",
       "    .dataframe thead th {\n",
       "        text-align: right;\n",
       "    }\n",
       "</style>\n",
       "<table border=\"1\" class=\"dataframe\">\n",
       "  <thead>\n",
       "    <tr style=\"text-align: right;\">\n",
       "      <th></th>\n",
       "      <th>label_code</th>\n",
       "      <th>description</th>\n",
       "    </tr>\n",
       "  </thead>\n",
       "  <tbody>\n",
       "    <tr>\n",
       "      <th>0</th>\n",
       "      <td>/m/0100nhbf</td>\n",
       "      <td>Sprenger's tulip</td>\n",
       "    </tr>\n",
       "    <tr>\n",
       "      <th>1</th>\n",
       "      <td>/m/0104x9kv</td>\n",
       "      <td>Vinegret</td>\n",
       "    </tr>\n",
       "  </tbody>\n",
       "</table>\n",
       "</div>"
      ],
      "text/plain": [
       "    label_code       description\n",
       "0  /m/0100nhbf  Sprenger's tulip\n",
       "1  /m/0104x9kv          Vinegret"
      ]
     },
     "metadata": {},
     "output_type": "display_data"
    },
    {
     "name": "stdout",
     "output_type": "stream",
     "text": [
      "19987 19704 Not equal --> One label_code may have many descriptions.\n"
     ]
    }
   ],
   "source": [
    "class_descriptions_df = pd.read_csv(class_descriptions_csv)\n",
    "print(class_descriptions_df.shape)\n",
    "display(class_descriptions_df.head(2))\n",
    "print(len(set(class_descriptions_df['label_code'])), len(set(class_descriptions_df['description'])), 'Not equal --> One label_code may have many descriptions.')"
   ]
  },
  {
   "cell_type": "code",
   "execution_count": 8,
   "metadata": {},
   "outputs": [
    {
     "name": "stdout",
     "output_type": "stream",
     "text": [
      "(7178, 1)\n"
     ]
    },
    {
     "data": {
      "text/html": [
       "<div>\n",
       "<style scoped>\n",
       "    .dataframe tbody tr th:only-of-type {\n",
       "        vertical-align: middle;\n",
       "    }\n",
       "\n",
       "    .dataframe tbody tr th {\n",
       "        vertical-align: top;\n",
       "    }\n",
       "\n",
       "    .dataframe thead th {\n",
       "        text-align: right;\n",
       "    }\n",
       "</style>\n",
       "<table border=\"1\" class=\"dataframe\">\n",
       "  <thead>\n",
       "    <tr style=\"text-align: right;\">\n",
       "      <th></th>\n",
       "      <th>label_code</th>\n",
       "    </tr>\n",
       "  </thead>\n",
       "  <tbody>\n",
       "    <tr>\n",
       "      <th>0</th>\n",
       "      <td>/m/0108_09c</td>\n",
       "    </tr>\n",
       "    <tr>\n",
       "      <th>1</th>\n",
       "      <td>/m/010dmf</td>\n",
       "    </tr>\n",
       "  </tbody>\n",
       "</table>\n",
       "</div>"
      ],
      "text/plain": [
       "    label_code\n",
       "0  /m/0108_09c\n",
       "1    /m/010dmf"
      ]
     },
     "metadata": {},
     "output_type": "display_data"
    }
   ],
   "source": [
    "class_trainable_df = pd.read_csv(class_trainable_csv)\n",
    "print(class_trainable_df.shape)\n",
    "display(class_trainable_df.head(2))"
   ]
  },
  {
   "cell_type": "code",
   "execution_count": 9,
   "metadata": {},
   "outputs": [
    {
     "name": "stdout",
     "output_type": "stream",
     "text": [
      "(32580, 2)\n"
     ]
    },
    {
     "data": {
      "text/html": [
       "<div>\n",
       "<style scoped>\n",
       "    .dataframe tbody tr th:only-of-type {\n",
       "        vertical-align: middle;\n",
       "    }\n",
       "\n",
       "    .dataframe tbody tr th {\n",
       "        vertical-align: top;\n",
       "    }\n",
       "\n",
       "    .dataframe thead th {\n",
       "        text-align: right;\n",
       "    }\n",
       "</style>\n",
       "<table border=\"1\" class=\"dataframe\">\n",
       "  <thead>\n",
       "    <tr style=\"text-align: right;\">\n",
       "      <th></th>\n",
       "      <th>image_id</th>\n",
       "      <th>source</th>\n",
       "    </tr>\n",
       "  </thead>\n",
       "  <tbody>\n",
       "    <tr>\n",
       "      <th>0</th>\n",
       "      <td>2b2b327132556c767a736b3d</td>\n",
       "      <td>Nita Ar</td>\n",
       "    </tr>\n",
       "    <tr>\n",
       "      <th>1</th>\n",
       "      <td>2b2b394755692f303963553d</td>\n",
       "      <td>Sathya Esarapu</td>\n",
       "    </tr>\n",
       "  </tbody>\n",
       "</table>\n",
       "</div>"
      ],
      "text/plain": [
       "                   image_id          source\n",
       "0  2b2b327132556c767a736b3d         Nita Ar\n",
       "1  2b2b394755692f303963553d  Sathya Esarapu"
      ]
     },
     "metadata": {},
     "output_type": "display_data"
    }
   ],
   "source": [
    "stage_1_attributions_df = pd.read_csv(stage_1_attributions_csv)\n",
    "print(stage_1_attributions_df.shape)\n",
    "display(stage_1_attributions_df.head(2))"
   ]
  },
  {
   "cell_type": "code",
   "execution_count": 10,
   "metadata": {},
   "outputs": [
    {
     "name": "stdout",
     "output_type": "stream",
     "text": [
      "(32580, 2)\n"
     ]
    },
    {
     "data": {
      "text/html": [
       "<div>\n",
       "<style scoped>\n",
       "    .dataframe tbody tr th:only-of-type {\n",
       "        vertical-align: middle;\n",
       "    }\n",
       "\n",
       "    .dataframe tbody tr th {\n",
       "        vertical-align: top;\n",
       "    }\n",
       "\n",
       "    .dataframe thead th {\n",
       "        text-align: right;\n",
       "    }\n",
       "</style>\n",
       "<table border=\"1\" class=\"dataframe\">\n",
       "  <thead>\n",
       "    <tr style=\"text-align: right;\">\n",
       "      <th></th>\n",
       "      <th>image_id</th>\n",
       "      <th>labels</th>\n",
       "    </tr>\n",
       "  </thead>\n",
       "  <tbody>\n",
       "    <tr>\n",
       "      <th>0</th>\n",
       "      <td>2b2b327132556c767a736b3d</td>\n",
       "      <td>/m/0sgh53y /m/0g4cd0</td>\n",
       "    </tr>\n",
       "    <tr>\n",
       "      <th>1</th>\n",
       "      <td>2b2b394755692f303963553d</td>\n",
       "      <td>/m/0sgh53y /m/0g4cd0</td>\n",
       "    </tr>\n",
       "  </tbody>\n",
       "</table>\n",
       "</div>"
      ],
      "text/plain": [
       "                   image_id                labels\n",
       "0  2b2b327132556c767a736b3d  /m/0sgh53y /m/0g4cd0\n",
       "1  2b2b394755692f303963553d  /m/0sgh53y /m/0g4cd0"
      ]
     },
     "metadata": {},
     "output_type": "display_data"
    }
   ],
   "source": [
    "stage_1_sample_submission_df = pd.read_csv(stage_1_sample_submission_csv)\n",
    "print(stage_1_sample_submission_df.shape)\n",
    "display(stage_1_sample_submission_df.head(2))"
   ]
  },
  {
   "cell_type": "code",
   "execution_count": null,
   "metadata": {},
   "outputs": [],
   "source": []
  }
 ],
 "metadata": {
  "kernelspec": {
   "display_name": "Python 3",
   "language": "python",
   "name": "python3"
  },
  "language_info": {
   "codemirror_mode": {
    "name": "ipython",
    "version": 3
   },
   "file_extension": ".py",
   "mimetype": "text/x-python",
   "name": "python",
   "nbconvert_exporter": "python",
   "pygments_lexer": "ipython3",
   "version": "3.6.4"
  }
 },
 "nbformat": 4,
 "nbformat_minor": 2
}
