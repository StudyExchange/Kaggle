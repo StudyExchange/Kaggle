{
 "cells": [
  {
   "cell_type": "markdown",
   "metadata": {},
   "source": [
    "# 1. Preprocess-Stage1-Group-All-TrainData-KFold"
   ]
  },
  {
   "cell_type": "markdown",
   "metadata": {},
   "source": [
    "## Run name"
   ]
  },
  {
   "cell_type": "code",
   "execution_count": 1,
   "metadata": {},
   "outputs": [
    {
     "name": "stdout",
     "output_type": "stream",
     "text": [
      "run_name: Google-LandMark-Rec2019_1-Preprocess-Stage1-Group-All-TrainData-KFold_20190504-094152\n"
     ]
    }
   ],
   "source": [
    "import time\n",
    "project_name = 'Google-LandMark-Rec2019'\n",
    "step_name = '1-Preprocess-Stage1-Group-All-TrainData-KFold'\n",
    "time_str = time.strftime(\"%Y%m%d-%H%M%S\", time.localtime())\n",
    "run_name = project_name + '_' + step_name + '_' + time_str\n",
    "print('run_name: ' + run_name)\n",
    "t0 = time.time()"
   ]
  },
  {
   "cell_type": "markdown",
   "metadata": {},
   "source": [
    "## Important params"
   ]
  },
  {
   "cell_type": "code",
   "execution_count": 2,
   "metadata": {},
   "outputs": [
    {
     "name": "stdout",
     "output_type": "stream",
     "text": [
      "cpu_amount:  2\n",
      "random_num: 7855\n",
      "0.95\n"
     ]
    }
   ],
   "source": [
    "import multiprocessing\n",
    "import random\n",
    "\n",
    "cpu_amount = multiprocessing.cpu_count()\n",
    "random_num = random.randint(0, 10000)\n",
    "# train_tar_count = 500\n",
    "train_data_ratio = 0.95\n",
    "\n",
    "# print('train_tar_count:', train_tar_count)\n",
    "print('cpu_amount: ', cpu_amount)\n",
    "print('random_num:', random_num)\n",
    "print(train_data_ratio)"
   ]
  },
  {
   "cell_type": "markdown",
   "metadata": {},
   "source": [
    "## Import PKGs"
   ]
  },
  {
   "cell_type": "code",
   "execution_count": 3,
   "metadata": {},
   "outputs": [],
   "source": [
    "import numpy as np\n",
    "import pandas as pd\n",
    "import matplotlib.pyplot as plt\n",
    "import matplotlib.image as mpimg\n",
    "%matplotlib inline\n",
    "from IPython.display import display\n",
    "from sklearn.model_selection import train_test_split, KFold\n",
    "\n",
    "import os, sys, gc, math, shutil, zipfile, pickle, h5py, re, tarfile\n",
    "import urllib, xlsxwriter\n",
    "from tqdm import tqdm\n",
    "import hashlib"
   ]
  },
  {
   "cell_type": "markdown",
   "metadata": {},
   "source": [
    "## Project folders"
   ]
  },
  {
   "cell_type": "code",
   "execution_count": 4,
   "metadata": {},
   "outputs": [],
   "source": [
    "cwd = os.getcwd()\n",
    "feature_folder = os.path.join(cwd, 'feature')\n",
    "input_folder = os.path.join(cwd, 'input')\n",
    "output_folder = os.path.join(cwd, 'output')\n",
    "model_folder = os.path.join(cwd, 'model')\n",
    "\n",
    "md5sum_folder = os.path.join(input_folder, 'md5sum')\n",
    "if not os.path.exists(md5sum_folder):\n",
    "    os.mkdir(md5sum_folder)\n",
    "    print('create folder:', md5sum_folder)\n",
    "    \n",
    "train_tar_folder = os.path.join(input_folder, 'train_tar')\n",
    "if not os.path.exists(train_tar_folder):\n",
    "    os.mkdir(train_tar_folder)\n",
    "    print('create folder:', train_tar_folder)\n",
    "    \n",
    "train_untar_folder = os.path.join(input_folder, 'train_untar')\n",
    "if not os.path.exists(train_untar_folder):\n",
    "    os.mkdir(train_untar_folder)\n",
    "    print('create folder:', train_untar_folder)\n",
    "    \n",
    "all_image_folder = os.path.join(input_folder, 'all_image')\n",
    "if not os.path.exists(all_image_folder):\n",
    "    os.mkdir(all_image_folder)\n",
    "    print('create folder:', all_image_folder)\n",
    "    \n",
    "# data_train_folder = os.path.join(input_folder, 'data_train')\n",
    "# if not os.path.exists(data_train_folder):\n",
    "#     os.mkdir(data_train_folder)\n",
    "#     print('create folder:', data_train_folder)\n",
    "    \n",
    "# data_val_folder = os.path.join(input_folder, 'data_val')\n",
    "# if not os.path.exists(data_val_folder):\n",
    "#     os.mkdir(data_val_folder)\n",
    "#     print('create folder:', data_val_folder)"
   ]
  },
  {
   "cell_type": "code",
   "execution_count": 5,
   "metadata": {},
   "outputs": [
    {
     "name": "stdout",
     "output_type": "stream",
     "text": [
      "/data/landmark-recognition-2019\n",
      "total 1.7G\n",
      "drwxr-xr-x     2 root   root   4.0K May  4 08:28 50000_00\n",
      "drwxr-xr-x     2 root   root   4.0K May  4 08:28 50000_01\n",
      "drwxr-xr-x     2 root   root   4.0K May  4 08:28 50000_02\n",
      "drwxr-xr-x     2 root   root   4.0K May  4 08:28 50000_03\n",
      "drwxr-xr-x     2 root   root   4.0K May  4 08:28 50000_04\n",
      "drwxr-xr-x     2 root   root   160M May  2 21:14 all_image\n",
      "drwxr-xr-x 34162 root   root   824K May  4 08:59 data_val_00\n",
      "drwxr-xr-x 34198 root   root   816K May  4 09:14 data_val_01\n",
      "drwxr-xr-x 34266 root   root   808K May  4 09:23 data_val_02\n",
      "drwxr-xr-x 34157 root   root   808K May  4 09:33 data_val_03\n",
      "drwxr-xr-x  6119 root   root   132K May  4 09:34 data_val_04\n",
      "drwxr-xr-x     2 root   root   4.0K May  4 08:29 demo_01\n",
      "drwxr-xr-x     2 root   root   4.0K May  4 08:29 demo_02\n",
      "drwxr-xr-x     2 root   root   4.0K May  4 08:29 demo_03\n",
      "drwxr-xr-x     2 root   root   4.0K May  4 08:29 demo_04\n",
      "-rw-rw-r--     1 ubuntu ubuntu 108M May  1 17:18 google-landmarks-dataset.zip\n",
      "drwxr-xr-x     2 root   root    24K May  1 17:29 md5sum\n",
      "----------     1 root   root   3.0M Apr  8 02:17 recognition_sample_submission.csv\n",
      "-rw-r--r--     1 root   root   1.3M May  3 05:08 recognition_sample_submission.csv.zip\n",
      "-rw-r--r--     1 root   root   965M Apr  5 21:54 train_attribution.csv\n",
      "-rw-r--r--     1 root   root   502M Apr  5 21:57 train.csv\n",
      "drwxr-xr-x     2 root   root    20K May  2 20:39 train_tar\n",
      "drwxr-xr-x   502 root   root    20K May  2 20:39 train_untar\n"
     ]
    }
   ],
   "source": [
    "!pwd\n",
    "!ls ./input -hl"
   ]
  },
  {
   "cell_type": "code",
   "execution_count": 6,
   "metadata": {},
   "outputs": [
    {
     "name": "stdout",
     "output_type": "stream",
     "text": [
      "e42936e3627d8989.jpg\n",
      "96d0f4fec18d8c84.jpg\n",
      "02fd1c4af95765fd.jpg\n",
      "37bdd02aebba82a6.jpg\n",
      "b732241b0be6a043.jpg\n",
      "ls: write error: Broken pipe\n"
     ]
    }
   ],
   "source": [
    "!ls ./input/all_image/ -U|head -5"
   ]
  },
  {
   "cell_type": "code",
   "execution_count": 7,
   "metadata": {
    "collapsed": true
   },
   "outputs": [],
   "source": [
    "# !wget https://s3.amazonaws.com/google-landmark/metadata/train.csv\n",
    "# !wget https://s3.amazonaws.com/google-landmark/metadata/train_attribution.csv"
   ]
  },
  {
   "cell_type": "code",
   "execution_count": 8,
   "metadata": {},
   "outputs": [
    {
     "name": "stdout",
     "output_type": "stream",
     "text": [
      "/data/landmark-recognition-2019/input/train.csv\n",
      "/data/landmark-recognition-2019/input/test.csv\n",
      "/data/landmark-recognition-2019/input/google_landmark_boxes_split1.csv\n",
      "/data/landmark-recognition-2019/input/google_landmark_boxes_split2.csv\n",
      "/data/landmark-recognition-2019/input/recognition_sample_submission.csv\n"
     ]
    }
   ],
   "source": [
    "train_csv = os.path.join(input_folder, 'train.csv')\n",
    "test_csv = os.path.join(input_folder, 'test.csv')\n",
    "boxes_split1_csv = os.path.join(input_folder, 'google_landmark_boxes_split1.csv')\n",
    "boxes_split2_csv = os.path.join(input_folder, 'google_landmark_boxes_split2.csv')\n",
    "recognition_sample_submission_csv = os.path.join(input_folder, 'recognition_sample_submission.csv')\n",
    "\n",
    "print(train_csv)\n",
    "print(test_csv)\n",
    "print(boxes_split1_csv)\n",
    "print(boxes_split2_csv)\n",
    "print(recognition_sample_submission_csv)\n"
   ]
  },
  {
   "cell_type": "markdown",
   "metadata": {},
   "source": [
    "## Preview csv"
   ]
  },
  {
   "cell_type": "code",
   "execution_count": 9,
   "metadata": {},
   "outputs": [
    {
     "data": {
      "text/plain": [
       "(4132914, 3)"
      ]
     },
     "metadata": {},
     "output_type": "display_data"
    },
    {
     "data": {
      "text/html": [
       "<div>\n",
       "<style>\n",
       "    .dataframe thead tr:only-child th {\n",
       "        text-align: right;\n",
       "    }\n",
       "\n",
       "    .dataframe thead th {\n",
       "        text-align: left;\n",
       "    }\n",
       "\n",
       "    .dataframe tbody tr th {\n",
       "        vertical-align: top;\n",
       "    }\n",
       "</style>\n",
       "<table border=\"1\" class=\"dataframe\">\n",
       "  <thead>\n",
       "    <tr style=\"text-align: right;\">\n",
       "      <th></th>\n",
       "      <th>id</th>\n",
       "      <th>url</th>\n",
       "      <th>landmark_id</th>\n",
       "    </tr>\n",
       "  </thead>\n",
       "  <tbody>\n",
       "    <tr>\n",
       "      <th>0</th>\n",
       "      <td>6e158a47eb2ca3f6</td>\n",
       "      <td>https://upload.wikimedia.org/wikipedia/commons...</td>\n",
       "      <td>142820</td>\n",
       "    </tr>\n",
       "    <tr>\n",
       "      <th>1</th>\n",
       "      <td>202cd79556f30760</td>\n",
       "      <td>http://upload.wikimedia.org/wikipedia/commons/...</td>\n",
       "      <td>104169</td>\n",
       "    </tr>\n",
       "  </tbody>\n",
       "</table>\n",
       "</div>"
      ],
      "text/plain": [
       "                 id                                                url  \\\n",
       "0  6e158a47eb2ca3f6  https://upload.wikimedia.org/wikipedia/commons...   \n",
       "1  202cd79556f30760  http://upload.wikimedia.org/wikipedia/commons/...   \n",
       "\n",
       "   landmark_id  \n",
       "0       142820  \n",
       "1       104169  "
      ]
     },
     "metadata": {},
     "output_type": "display_data"
    },
    {
     "name": "stdout",
     "output_type": "stream",
     "text": [
      "CPU times: user 17.9 s, sys: 1.74 s, total: 19.6 s\n",
      "Wall time: 36.4 s\n"
     ]
    }
   ],
   "source": [
    "%%time\n",
    "train_df = pd.read_csv(train_csv, engine='python', nrows=None)\n",
    "display(train_df.shape, train_df.head(2))"
   ]
  },
  {
   "cell_type": "code",
   "execution_count": 10,
   "metadata": {},
   "outputs": [
    {
     "name": "stderr",
     "output_type": "stream",
     "text": [
      "/root/anaconda3/lib/python3.6/site-packages/sklearn/model_selection/_split.py:2026: FutureWarning: From version 0.21, test_size will always complement train_size unless both are specified.\n",
      "  FutureWarning)\n"
     ]
    },
    {
     "data": {
      "text/plain": [
       "(3926268, 3)"
      ]
     },
     "metadata": {},
     "output_type": "display_data"
    },
    {
     "data": {
      "text/html": [
       "<div>\n",
       "<style>\n",
       "    .dataframe thead tr:only-child th {\n",
       "        text-align: right;\n",
       "    }\n",
       "\n",
       "    .dataframe thead th {\n",
       "        text-align: left;\n",
       "    }\n",
       "\n",
       "    .dataframe tbody tr th {\n",
       "        vertical-align: top;\n",
       "    }\n",
       "</style>\n",
       "<table border=\"1\" class=\"dataframe\">\n",
       "  <thead>\n",
       "    <tr style=\"text-align: right;\">\n",
       "      <th></th>\n",
       "      <th>id</th>\n",
       "      <th>url</th>\n",
       "      <th>landmark_id</th>\n",
       "    </tr>\n",
       "  </thead>\n",
       "  <tbody>\n",
       "    <tr>\n",
       "      <th>1370931</th>\n",
       "      <td>e2760b8756e3abc7</td>\n",
       "      <td>https://upload.wikimedia.org/wikipedia/commons...</td>\n",
       "      <td>95346</td>\n",
       "    </tr>\n",
       "    <tr>\n",
       "      <th>3600979</th>\n",
       "      <td>f719ad140137e35a</td>\n",
       "      <td>https://upload.wikimedia.org/wikipedia/commons...</td>\n",
       "      <td>192746</td>\n",
       "    </tr>\n",
       "  </tbody>\n",
       "</table>\n",
       "</div>"
      ],
      "text/plain": [
       "                       id                                                url  \\\n",
       "1370931  e2760b8756e3abc7  https://upload.wikimedia.org/wikipedia/commons...   \n",
       "3600979  f719ad140137e35a  https://upload.wikimedia.org/wikipedia/commons...   \n",
       "\n",
       "         landmark_id  \n",
       "1370931        95346  \n",
       "3600979       192746  "
      ]
     },
     "metadata": {},
     "output_type": "display_data"
    },
    {
     "data": {
      "text/plain": [
       "(206646, 3)"
      ]
     },
     "metadata": {},
     "output_type": "display_data"
    },
    {
     "data": {
      "text/html": [
       "<div>\n",
       "<style>\n",
       "    .dataframe thead tr:only-child th {\n",
       "        text-align: right;\n",
       "    }\n",
       "\n",
       "    .dataframe thead th {\n",
       "        text-align: left;\n",
       "    }\n",
       "\n",
       "    .dataframe tbody tr th {\n",
       "        vertical-align: top;\n",
       "    }\n",
       "</style>\n",
       "<table border=\"1\" class=\"dataframe\">\n",
       "  <thead>\n",
       "    <tr style=\"text-align: right;\">\n",
       "      <th></th>\n",
       "      <th>id</th>\n",
       "      <th>url</th>\n",
       "      <th>landmark_id</th>\n",
       "    </tr>\n",
       "  </thead>\n",
       "  <tbody>\n",
       "    <tr>\n",
       "      <th>1322202</th>\n",
       "      <td>0b709998bdfd7cf8</td>\n",
       "      <td>https://upload.wikimedia.org/wikipedia/commons...</td>\n",
       "      <td>183360</td>\n",
       "    </tr>\n",
       "    <tr>\n",
       "      <th>1740531</th>\n",
       "      <td>f718c1ddb25dd3c3</td>\n",
       "      <td>https://upload.wikimedia.org/wikipedia/commons...</td>\n",
       "      <td>110247</td>\n",
       "    </tr>\n",
       "  </tbody>\n",
       "</table>\n",
       "</div>"
      ],
      "text/plain": [
       "                       id                                                url  \\\n",
       "1322202  0b709998bdfd7cf8  https://upload.wikimedia.org/wikipedia/commons...   \n",
       "1740531  f718c1ddb25dd3c3  https://upload.wikimedia.org/wikipedia/commons...   \n",
       "\n",
       "         landmark_id  \n",
       "1322202       183360  \n",
       "1740531       110247  "
      ]
     },
     "metadata": {},
     "output_type": "display_data"
    }
   ],
   "source": [
    "data_train_df, data_val_df = train_test_split(train_df, train_size=train_data_ratio, random_state=random_num, shuffle=True)\n",
    "display(data_train_df.shape, data_train_df.head(2))\n",
    "display(data_val_df.shape, data_val_df.head(2))"
   ]
  },
  {
   "cell_type": "markdown",
   "metadata": {
    "collapsed": true
   },
   "source": [
    "## Split df firstly, then group all categories by creating soft link"
   ]
  },
  {
   "cell_type": "code",
   "execution_count": null,
   "metadata": {},
   "outputs": [],
   "source": []
  },
  {
   "cell_type": "code",
   "execution_count": 11,
   "metadata": {},
   "outputs": [],
   "source": [
    "def split_group(df, all_image_folder, data_set_name='demo', split_size=50000):\n",
    "    split_amount = math.ceil(df.shape[0]/split_size)\n",
    "    print('split_amount:', split_amount)\n",
    "        \n",
    "    data_item_invalid_count = 0\n",
    "    data_item_softlink_count = 0\n",
    "    for i, start_index in enumerate(range(0, df.shape[0], split_size)):\n",
    "        print(i, start_index, end='\\t')\n",
    "        split_df = df.loc[df.index[start_index: (start_index+split_size)]]\n",
    "        print(split_df.shape, end='\\t')\n",
    "\n",
    "        data_item_folder = os.path.join(input_folder, '%s_%02d' % (data_set_name, i))\n",
    "        if not os.path.exists(data_item_folder):\n",
    "            os.mkdir(data_item_folder)\n",
    "            print('Folder crated:', data_item_folder, end='\\t')\n",
    "        for idx, row in split_df.iterrows():\n",
    "            src_image_path = os.path.join(all_image_folder, '%s.jpg' % row['id'])\n",
    "        #     print(src_image_path)\n",
    "            if not os.path.exists(src_image_path):\n",
    "                data_item_invalid_count += 1\n",
    "                continue\n",
    "        #     print(src_image_path)\n",
    "            target_image_folder = os.path.join(data_item_folder, '%06d' % row['landmark_id'])\n",
    "        #     print(target_image_folder)\n",
    "            if not os.path.exists(target_image_folder):\n",
    "                os.mkdir(target_image_folder)\n",
    "        #         print('Folder created:', target_image_folder)\n",
    "            target_image_path = os.path.join(target_image_folder, '%s.jpg' % row['id'])\n",
    "            if not os.path.exists(target_image_path):\n",
    "                data_item_softlink_count += 1\n",
    "                os.symlink(src_image_path, target_image_path)\n",
    "            if data_item_softlink_count % 1000 == 0:\n",
    "                print('-', end='')\n",
    "#             if data_item_softlink_count % 10000 == 0:\n",
    "#                 print('|')\n",
    "\n",
    "        print('data_item_invalid_count:', data_item_invalid_count, end='\\t')\n",
    "        print('data_item_softlink_count:', data_item_softlink_count)\n",
    "        print('*' * 40)\n",
    "    print('*' * 80)\n"
   ]
  },
  {
   "cell_type": "code",
   "execution_count": 12,
   "metadata": {},
   "outputs": [
    {
     "name": "stdout",
     "output_type": "stream",
     "text": [
      "split_amount: 79\n",
      "0 0\t(50000, 3)\tFolder crated: /data/landmark-recognition-2019/input/data_train_00\t--------------------------------------------------data_item_invalid_count: 0\tdata_item_softlink_count: 50000\n",
      "****************************************\n",
      "1 50000\t(50000, 3)\tFolder crated: /data/landmark-recognition-2019/input/data_train_01\t--------------------------------------------------data_item_invalid_count: 0\tdata_item_softlink_count: 100000\n",
      "****************************************\n",
      "2 100000\t(50000, 3)\tFolder crated: /data/landmark-recognition-2019/input/data_train_02\t--------------------------------------------------data_item_invalid_count: 0\tdata_item_softlink_count: 150000\n",
      "****************************************\n",
      "3 150000\t(50000, 3)\tFolder crated: /data/landmark-recognition-2019/input/data_train_03\t--------------------------------------------------data_item_invalid_count: 0\tdata_item_softlink_count: 200000\n",
      "****************************************\n",
      "4 200000\t(50000, 3)\tFolder crated: /data/landmark-recognition-2019/input/data_train_04\t--------------------------------------------------data_item_invalid_count: 0\tdata_item_softlink_count: 250000\n",
      "****************************************\n",
      "5 250000\t(50000, 3)\tFolder crated: /data/landmark-recognition-2019/input/data_train_05\t--------------------------------------------------data_item_invalid_count: 0\tdata_item_softlink_count: 300000\n",
      "****************************************\n",
      "6 300000\t(50000, 3)\tFolder crated: /data/landmark-recognition-2019/input/data_train_06\t--------------------------------------------------data_item_invalid_count: 0\tdata_item_softlink_count: 350000\n",
      "****************************************\n",
      "7 350000\t(50000, 3)\tFolder crated: /data/landmark-recognition-2019/input/data_train_07\t--------------------------------------------------data_item_invalid_count: 0\tdata_item_softlink_count: 400000\n",
      "****************************************\n",
      "8 400000\t(50000, 3)\tFolder crated: /data/landmark-recognition-2019/input/data_train_08\t--------------------------------------------------data_item_invalid_count: 0\tdata_item_softlink_count: 450000\n",
      "****************************************\n",
      "9 450000\t(50000, 3)\tFolder crated: /data/landmark-recognition-2019/input/data_train_09\t--------------------------------------------------data_item_invalid_count: 0\tdata_item_softlink_count: 500000\n",
      "****************************************\n",
      "10 500000\t(50000, 3)\tFolder crated: /data/landmark-recognition-2019/input/data_train_10\t--------------------------------------------------data_item_invalid_count: 0\tdata_item_softlink_count: 550000\n",
      "****************************************\n",
      "11 550000\t(50000, 3)\tFolder crated: /data/landmark-recognition-2019/input/data_train_11\t--------------------------------------------------data_item_invalid_count: 0\tdata_item_softlink_count: 600000\n",
      "****************************************\n",
      "12 600000\t(50000, 3)\tFolder crated: /data/landmark-recognition-2019/input/data_train_12\t--------------------------------------------------data_item_invalid_count: 0\tdata_item_softlink_count: 650000\n",
      "****************************************\n",
      "13 650000\t(50000, 3)\tFolder crated: /data/landmark-recognition-2019/input/data_train_13\t--------------------------------------------------data_item_invalid_count: 0\tdata_item_softlink_count: 700000\n",
      "****************************************\n",
      "14 700000\t(50000, 3)\tFolder crated: /data/landmark-recognition-2019/input/data_train_14\t--------------------------------------------------data_item_invalid_count: 0\tdata_item_softlink_count: 750000\n",
      "****************************************\n",
      "15 750000\t(50000, 3)\tFolder crated: /data/landmark-recognition-2019/input/data_train_15\t--------------------------------------------------data_item_invalid_count: 0\tdata_item_softlink_count: 800000\n",
      "****************************************\n",
      "16 800000\t(50000, 3)\tFolder crated: /data/landmark-recognition-2019/input/data_train_16\t--------------------------------------------------data_item_invalid_count: 0\tdata_item_softlink_count: 850000\n",
      "****************************************\n",
      "17 850000\t(50000, 3)\tFolder crated: /data/landmark-recognition-2019/input/data_train_17\t--------------------------------------------------data_item_invalid_count: 0\tdata_item_softlink_count: 900000\n",
      "****************************************\n",
      "18 900000\t(50000, 3)\tFolder crated: /data/landmark-recognition-2019/input/data_train_18\t--------------------------------------------------data_item_invalid_count: 0\tdata_item_softlink_count: 950000\n",
      "****************************************\n",
      "19 950000\t(50000, 3)\tFolder crated: /data/landmark-recognition-2019/input/data_train_19\t--------------------------------------------------data_item_invalid_count: 0\tdata_item_softlink_count: 1000000\n",
      "****************************************\n",
      "20 1000000\t(50000, 3)\tFolder crated: /data/landmark-recognition-2019/input/data_train_20\t--------------------------------------------------data_item_invalid_count: 0\tdata_item_softlink_count: 1050000\n",
      "****************************************\n",
      "21 1050000\t(50000, 3)\tFolder crated: /data/landmark-recognition-2019/input/data_train_21\t--------------------------------------------------data_item_invalid_count: 0\tdata_item_softlink_count: 1100000\n",
      "****************************************\n",
      "22 1100000\t(50000, 3)\tFolder crated: /data/landmark-recognition-2019/input/data_train_22\t--------------------------------------------------data_item_invalid_count: 0\tdata_item_softlink_count: 1150000\n",
      "****************************************\n",
      "23 1150000\t(50000, 3)\tFolder crated: /data/landmark-recognition-2019/input/data_train_23\t--------------------------------------------------data_item_invalid_count: 0\tdata_item_softlink_count: 1200000\n",
      "****************************************\n",
      "24 1200000\t(50000, 3)\tFolder crated: /data/landmark-recognition-2019/input/data_train_24\t--------------------------------------------------data_item_invalid_count: 0\tdata_item_softlink_count: 1250000\n",
      "****************************************\n",
      "25 1250000\t(50000, 3)\tFolder crated: /data/landmark-recognition-2019/input/data_train_25\t--------------------------------------------------data_item_invalid_count: 0\tdata_item_softlink_count: 1300000\n",
      "****************************************\n",
      "26 1300000\t(50000, 3)\tFolder crated: /data/landmark-recognition-2019/input/data_train_26\t--------------------------------------------------data_item_invalid_count: 0\tdata_item_softlink_count: 1350000\n",
      "****************************************\n",
      "27 1350000\t(50000, 3)\tFolder crated: /data/landmark-recognition-2019/input/data_train_27\t--------------------------------------------------data_item_invalid_count: 0\tdata_item_softlink_count: 1400000\n",
      "****************************************\n",
      "28 1400000\t(50000, 3)\tFolder crated: /data/landmark-recognition-2019/input/data_train_28\t--------------------------------------------------data_item_invalid_count: 0\tdata_item_softlink_count: 1450000\n",
      "****************************************\n",
      "29 1450000\t(50000, 3)\tFolder crated: /data/landmark-recognition-2019/input/data_train_29\t--------------------------------------------------data_item_invalid_count: 0\tdata_item_softlink_count: 1500000\n",
      "****************************************\n",
      "30 1500000\t(50000, 3)\tFolder crated: /data/landmark-recognition-2019/input/data_train_30\t--------------------------------------------------data_item_invalid_count: 0\tdata_item_softlink_count: 1550000\n",
      "****************************************\n",
      "31 1550000\t(50000, 3)\tFolder crated: /data/landmark-recognition-2019/input/data_train_31\t--------------------------------------------------data_item_invalid_count: 0\tdata_item_softlink_count: 1600000\n",
      "****************************************\n",
      "32 1600000\t(50000, 3)\tFolder crated: /data/landmark-recognition-2019/input/data_train_32\t--------------------------------------------------data_item_invalid_count: 0\tdata_item_softlink_count: 1650000\n",
      "****************************************\n",
      "33 1650000\t(50000, 3)\tFolder crated: /data/landmark-recognition-2019/input/data_train_33\t--------------------------------------------------data_item_invalid_count: 0\tdata_item_softlink_count: 1700000\n",
      "****************************************\n",
      "34 1700000\t(50000, 3)\tFolder crated: /data/landmark-recognition-2019/input/data_train_34\t--------------------------------------------------data_item_invalid_count: 0\tdata_item_softlink_count: 1750000\n",
      "****************************************\n",
      "35 1750000\t(50000, 3)\tFolder crated: /data/landmark-recognition-2019/input/data_train_35\t--------------------------------------------------data_item_invalid_count: 0\tdata_item_softlink_count: 1800000\n",
      "****************************************\n",
      "36 1800000\t(50000, 3)\tFolder crated: /data/landmark-recognition-2019/input/data_train_36\t--------------------------------------------------data_item_invalid_count: 0\tdata_item_softlink_count: 1850000\n",
      "****************************************\n",
      "37 1850000\t(50000, 3)\tFolder crated: /data/landmark-recognition-2019/input/data_train_37\t--------------------------------------------------data_item_invalid_count: 0\tdata_item_softlink_count: 1900000\n",
      "****************************************\n",
      "38 1900000\t(50000, 3)\tFolder crated: /data/landmark-recognition-2019/input/data_train_38\t--------------------------------------------------data_item_invalid_count: 0\tdata_item_softlink_count: 1950000\n",
      "****************************************\n",
      "39 1950000\t(50000, 3)\tFolder crated: /data/landmark-recognition-2019/input/data_train_39\t--------------------------------------------------data_item_invalid_count: 0\tdata_item_softlink_count: 2000000\n",
      "****************************************\n",
      "40 2000000\t(50000, 3)\tFolder crated: /data/landmark-recognition-2019/input/data_train_40\t--------------------------------------------------data_item_invalid_count: 0\tdata_item_softlink_count: 2050000\n",
      "****************************************\n",
      "41 2050000\t(50000, 3)\tFolder crated: /data/landmark-recognition-2019/input/data_train_41\t--------------------------------------------------data_item_invalid_count: 0\tdata_item_softlink_count: 2100000\n",
      "****************************************\n",
      "42 2100000\t(50000, 3)\tFolder crated: /data/landmark-recognition-2019/input/data_train_42\t--------------------------------------------------data_item_invalid_count: 0\tdata_item_softlink_count: 2150000\n",
      "****************************************\n",
      "43 2150000\t(50000, 3)\tFolder crated: /data/landmark-recognition-2019/input/data_train_43\t--------------------------------------------------data_item_invalid_count: 0\tdata_item_softlink_count: 2200000\n",
      "****************************************\n",
      "44 2200000\t(50000, 3)\tFolder crated: /data/landmark-recognition-2019/input/data_train_44\t--------------------------------------------------data_item_invalid_count: 0\tdata_item_softlink_count: 2250000\n",
      "****************************************\n",
      "45 2250000\t(50000, 3)\tFolder crated: /data/landmark-recognition-2019/input/data_train_45\t--------------------------------------------------data_item_invalid_count: 0\tdata_item_softlink_count: 2300000\n",
      "****************************************\n",
      "46 2300000\t(50000, 3)\tFolder crated: /data/landmark-recognition-2019/input/data_train_46\t--------------------------------------------------data_item_invalid_count: 0\tdata_item_softlink_count: 2350000\n",
      "****************************************\n",
      "47 2350000\t(50000, 3)\tFolder crated: /data/landmark-recognition-2019/input/data_train_47\t--------------------------------------------------data_item_invalid_count: 0\tdata_item_softlink_count: 2400000\n",
      "****************************************\n",
      "48 2400000\t(50000, 3)\tFolder crated: /data/landmark-recognition-2019/input/data_train_48\t--------------------------------------------------data_item_invalid_count: 0\tdata_item_softlink_count: 2450000\n",
      "****************************************\n",
      "49 2450000\t(50000, 3)\tFolder crated: /data/landmark-recognition-2019/input/data_train_49\t--------------------------------------------------data_item_invalid_count: 0\tdata_item_softlink_count: 2500000\n",
      "****************************************\n",
      "50 2500000\t(50000, 3)\tFolder crated: /data/landmark-recognition-2019/input/data_train_50\t--------------------------------------------------data_item_invalid_count: 0\tdata_item_softlink_count: 2550000\n",
      "****************************************\n",
      "51 2550000\t(50000, 3)\tFolder crated: /data/landmark-recognition-2019/input/data_train_51\t--------------------------------------------------data_item_invalid_count: 0\tdata_item_softlink_count: 2600000\n",
      "****************************************\n",
      "52 2600000\t(50000, 3)\tFolder crated: /data/landmark-recognition-2019/input/data_train_52\t--------------------------------------------------data_item_invalid_count: 0\tdata_item_softlink_count: 2650000\n",
      "****************************************\n",
      "53 2650000\t(50000, 3)\tFolder crated: /data/landmark-recognition-2019/input/data_train_53\t--------------------------------------------------data_item_invalid_count: 0\tdata_item_softlink_count: 2700000\n",
      "****************************************\n",
      "54 2700000\t(50000, 3)\tFolder crated: /data/landmark-recognition-2019/input/data_train_54\t--------------------------------------------------data_item_invalid_count: 0\tdata_item_softlink_count: 2750000\n",
      "****************************************\n",
      "55 2750000\t(50000, 3)\tFolder crated: /data/landmark-recognition-2019/input/data_train_55\t--------------------------------------------------data_item_invalid_count: 0\tdata_item_softlink_count: 2800000\n",
      "****************************************\n",
      "56 2800000\t(50000, 3)\tFolder crated: /data/landmark-recognition-2019/input/data_train_56\t--------------------------------------------------data_item_invalid_count: 0\tdata_item_softlink_count: 2850000\n",
      "****************************************\n",
      "57 2850000\t(50000, 3)\tFolder crated: /data/landmark-recognition-2019/input/data_train_57\t--------------------------------------------------data_item_invalid_count: 0\tdata_item_softlink_count: 2900000\n",
      "****************************************\n",
      "58 2900000\t(50000, 3)\tFolder crated: /data/landmark-recognition-2019/input/data_train_58\t--------------------------------------------------data_item_invalid_count: 0\tdata_item_softlink_count: 2950000\n",
      "****************************************\n",
      "59 2950000\t(50000, 3)\tFolder crated: /data/landmark-recognition-2019/input/data_train_59\t--------------------------------------------------data_item_invalid_count: 0\tdata_item_softlink_count: 3000000\n",
      "****************************************\n",
      "60 3000000\t(50000, 3)\tFolder crated: /data/landmark-recognition-2019/input/data_train_60\t--------------------------------------------------data_item_invalid_count: 0\tdata_item_softlink_count: 3050000\n",
      "****************************************\n",
      "61 3050000\t(50000, 3)\tFolder crated: /data/landmark-recognition-2019/input/data_train_61\t--------------------------------------------------data_item_invalid_count: 0\tdata_item_softlink_count: 3100000\n",
      "****************************************\n",
      "62 3100000\t(50000, 3)\tFolder crated: /data/landmark-recognition-2019/input/data_train_62\t--------------------------------------------------data_item_invalid_count: 0\tdata_item_softlink_count: 3150000\n",
      "****************************************\n",
      "63 3150000\t(50000, 3)\tFolder crated: /data/landmark-recognition-2019/input/data_train_63\t--------------------------------------------------data_item_invalid_count: 0\tdata_item_softlink_count: 3200000\n",
      "****************************************\n",
      "64 3200000\t(50000, 3)\tFolder crated: /data/landmark-recognition-2019/input/data_train_64\t--------------------------------------------------data_item_invalid_count: 0\tdata_item_softlink_count: 3250000\n",
      "****************************************\n",
      "65 3250000\t(50000, 3)\tFolder crated: /data/landmark-recognition-2019/input/data_train_65\t--------------------------------------------------data_item_invalid_count: 0\tdata_item_softlink_count: 3300000\n",
      "****************************************\n",
      "66 3300000\t(50000, 3)\tFolder crated: /data/landmark-recognition-2019/input/data_train_66\t--------------------------------------------------data_item_invalid_count: 0\tdata_item_softlink_count: 3350000\n",
      "****************************************\n",
      "67 3350000\t(50000, 3)\tFolder crated: /data/landmark-recognition-2019/input/data_train_67\t--------------------------------------------------data_item_invalid_count: 0\tdata_item_softlink_count: 3400000\n",
      "****************************************\n"
     ]
    },
    {
     "name": "stdout",
     "output_type": "stream",
     "text": [
      "68 3400000\t(50000, 3)\tFolder crated: /data/landmark-recognition-2019/input/data_train_68\t--------------------------------------------------data_item_invalid_count: 0\tdata_item_softlink_count: 3450000\n",
      "****************************************\n",
      "69 3450000\t(50000, 3)\tFolder crated: /data/landmark-recognition-2019/input/data_train_69\t--------------------------------------------------data_item_invalid_count: 0\tdata_item_softlink_count: 3500000\n",
      "****************************************\n",
      "70 3500000\t(50000, 3)\tFolder crated: /data/landmark-recognition-2019/input/data_train_70\t--------------------------------------------------data_item_invalid_count: 0\tdata_item_softlink_count: 3550000\n",
      "****************************************\n",
      "71 3550000\t(50000, 3)\tFolder crated: /data/landmark-recognition-2019/input/data_train_71\t--------------------------------------------------data_item_invalid_count: 0\tdata_item_softlink_count: 3600000\n",
      "****************************************\n",
      "72 3600000\t(50000, 3)\tFolder crated: /data/landmark-recognition-2019/input/data_train_72\t--------------------------------------------------data_item_invalid_count: 0\tdata_item_softlink_count: 3650000\n",
      "****************************************\n",
      "73 3650000\t(50000, 3)\tFolder crated: /data/landmark-recognition-2019/input/data_train_73\t--------------------------------------------------data_item_invalid_count: 0\tdata_item_softlink_count: 3700000\n",
      "****************************************\n",
      "74 3700000\t(50000, 3)\tFolder crated: /data/landmark-recognition-2019/input/data_train_74\t--------------------------------------------------data_item_invalid_count: 0\tdata_item_softlink_count: 3750000\n",
      "****************************************\n",
      "75 3750000\t(50000, 3)\tFolder crated: /data/landmark-recognition-2019/input/data_train_75\t--------------------------------------------------data_item_invalid_count: 0\tdata_item_softlink_count: 3800000\n",
      "****************************************\n",
      "76 3800000\t(50000, 3)\tFolder crated: /data/landmark-recognition-2019/input/data_train_76\t--------------------------------------------------data_item_invalid_count: 0\tdata_item_softlink_count: 3850000\n",
      "****************************************\n",
      "77 3850000\t(50000, 3)\tFolder crated: /data/landmark-recognition-2019/input/data_train_77\t--------------------------------------------------data_item_invalid_count: 0\tdata_item_softlink_count: 3900000\n",
      "****************************************\n",
      "78 3900000\t(26268, 3)\tFolder crated: /data/landmark-recognition-2019/input/data_train_78\t--------------------------data_item_invalid_count: 0\tdata_item_softlink_count: 3926268\n",
      "****************************************\n",
      "********************************************************************************\n"
     ]
    }
   ],
   "source": [
    "split_group(data_train_df, all_image_folder, 'data_train')"
   ]
  },
  {
   "cell_type": "code",
   "execution_count": null,
   "metadata": {
    "collapsed": true
   },
   "outputs": [],
   "source": []
  },
  {
   "cell_type": "code",
   "execution_count": 13,
   "metadata": {},
   "outputs": [
    {
     "name": "stdout",
     "output_type": "stream",
     "text": [
      "Time elapsed: 51766.1s\n",
      "Google-LandMark-Rec2019_1-Preprocess-Stage1-Group-All-TrainData-KFold_20190504-094152\n"
     ]
    }
   ],
   "source": [
    "print('Time elapsed: %.1fs' % (time.time() - t0))\n",
    "print(run_name)"
   ]
  },
  {
   "cell_type": "code",
   "execution_count": null,
   "metadata": {
    "collapsed": true
   },
   "outputs": [],
   "source": []
  }
 ],
 "metadata": {
  "kernelspec": {
   "display_name": "Python 3",
   "language": "python",
   "name": "python3"
  },
  "language_info": {
   "codemirror_mode": {
    "name": "ipython",
    "version": 3
   },
   "file_extension": ".py",
   "mimetype": "text/x-python",
   "name": "python",
   "nbconvert_exporter": "python",
   "pygments_lexer": "ipython3",
   "version": "3.6.5"
  }
 },
 "nbformat": 4,
 "nbformat_minor": 2
}
