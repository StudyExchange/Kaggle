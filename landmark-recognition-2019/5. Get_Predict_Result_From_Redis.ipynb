{
 "cells": [
  {
   "cell_type": "markdown",
   "metadata": {},
   "source": [
    "# 5. Get_Predict_Result_From_Redis"
   ]
  },
  {
   "cell_type": "markdown",
   "metadata": {},
   "source": [
    "## Run name"
   ]
  },
  {
   "cell_type": "code",
   "execution_count": 1,
   "metadata": {},
   "outputs": [
    {
     "name": "stdout",
     "output_type": "stream",
     "text": [
      "run_name: Google_LandMark_Rec2019_5_Get_Predict_Result_From_Redis_20190531_232822\n"
     ]
    }
   ],
   "source": [
    "import time\n",
    "\n",
    "project_name = 'Google_LandMark_Rec2019'\n",
    "step_name = '5_Get_Predict_Result_From_Redis'\n",
    "time_str = time.strftime(\"%Y%m%d_%H%M%S\", time.localtime())\n",
    "run_name = project_name + '_' + step_name + '_' + time_str\n",
    "print('run_name: ' + run_name)\n",
    "t0 = time.time()"
   ]
  },
  {
   "cell_type": "markdown",
   "metadata": {},
   "source": [
    "## Important params"
   ]
  },
  {
   "cell_type": "code",
   "execution_count": 2,
   "metadata": {},
   "outputs": [
    {
     "name": "stdout",
     "output_type": "stream",
     "text": [
      "cpu_amount:  4\n",
      "topn:\t 100\n"
     ]
    }
   ],
   "source": [
    "import multiprocessing\n",
    "\n",
    "cpu_amount = multiprocessing.cpu_count()\n",
    "print('cpu_amount: ', cpu_amount)\n",
    "\n",
    "topn = 100\n",
    "print('topn:\\t', topn)"
   ]
  },
  {
   "cell_type": "markdown",
   "metadata": {},
   "source": [
    "## Import PKGs"
   ]
  },
  {
   "cell_type": "code",
   "execution_count": 3,
   "metadata": {},
   "outputs": [],
   "source": [
    "import numpy as np\n",
    "import pandas as pd\n",
    "import matplotlib.pyplot as plt\n",
    "import matplotlib.image as mpimg\n",
    "%matplotlib inline\n",
    "from IPython.display import display\n",
    "\n",
    "import os\n",
    "import sys\n",
    "import gc\n",
    "import math\n",
    "import shutil\n",
    "import zipfile\n",
    "import pickle\n",
    "import h5py\n",
    "import json\n",
    "\n",
    "from tqdm import tqdm\n",
    "\n",
    "from sklearn.model_selection import train_test_split\n",
    "from sklearn.metrics import confusion_matrix, accuracy_score"
   ]
  },
  {
   "cell_type": "code",
   "execution_count": 4,
   "metadata": {},
   "outputs": [],
   "source": [
    "from feature import load_feature\n",
    "from utility import pickle_load"
   ]
  },
  {
   "cell_type": "markdown",
   "metadata": {},
   "source": [
    "## Project folders"
   ]
  },
  {
   "cell_type": "code",
   "execution_count": 5,
   "metadata": {},
   "outputs": [],
   "source": [
    "cwd = os.getcwd()\n",
    "feature_folder = os.path.join(cwd, 'feature')\n",
    "input_folder = os.path.join(cwd, 'input')\n",
    "output_folder = os.path.join(cwd, 'output')\n",
    "model_folder = os.path.join(cwd, 'model')\n",
    "\n",
    "org_train_folder = os.path.join(input_folder, 'org_train')\n",
    "org_test_folder = os.path.join(input_folder, 'org_test')\n",
    "train_folder = os.path.join(input_folder, 'data_train')\n",
    "val_folder = os.path.join(input_folder, 'data_val')\n",
    "test_folder = os.path.join(input_folder, 'data_test')\n",
    "test_sub_folder = os.path.join(test_folder, 'test')\n",
    "\n",
    "train_csv_file = os.path.join(input_folder, 'train.csv')\n",
    "test_csv_file = os.path.join(input_folder, 'test.csv')\n",
    "sample_submission_csv = os.path.join(input_folder, 'sample_submission.csv')\n",
    "recognition_sample_submission_csv = os.path.join(input_folder, 'recognition_sample_submission.csv')\n",
    "retrieval_sample_submission_csv = os.path.join(input_folder, 'retrieval_sample_submission.csv')\n",
    "data_test_00_filenames_pkl = os.path.join(feature_folder, 'feature_VGG19_data_test_00_171023_filenames.pkl')\n",
    "stage2_test_csv = os.path.join(input_folder, 'test.csv')"
   ]
  },
  {
   "cell_type": "markdown",
   "metadata": {},
   "source": [
    "## Redis client"
   ]
  },
  {
   "cell_type": "code",
   "execution_count": 6,
   "metadata": {},
   "outputs": [],
   "source": [
    "import redis\n",
    "redis_cli = redis.Redis(host='18.188.192.187', port=6379, password='elect')"
   ]
  },
  {
   "cell_type": "markdown",
   "metadata": {
    "collapsed": true
   },
   "source": [
    "## Get result from redis"
   ]
  },
  {
   "cell_type": "code",
   "execution_count": 7,
   "metadata": {},
   "outputs": [],
   "source": [
    "def get_predict_result(redis_cli, end=10, start=0):\n",
    "    pred_result_ser_arr = redis_cli.lrange('test_pred_result', start, end)\n",
    "    pred_result_arr = [json.loads(pred_result_ser) for pred_result_ser in pred_result_ser_arr if pred_result_ser]\n",
    "    return pred_result_arr\n",
    "\n",
    "# pred_result_arr = get_predict_result(redis_cli, 10)\n",
    "# print('len(pred_result_arr):', len(pred_result_arr))"
   ]
  },
  {
   "cell_type": "code",
   "execution_count": 8,
   "metadata": {},
   "outputs": [],
   "source": [
    "# for item_pred_result in pred_result_arr[0: 10]:\n",
    "#     print('%10d' % item_pred_result['id'], '%10d' % item_pred_result['top1_pred'], '%10d' % item_pred_result['weighted_top1_pred'])"
   ]
  },
  {
   "cell_type": "markdown",
   "metadata": {},
   "source": [
    "## Load val feature"
   ]
  },
  {
   "cell_type": "code",
   "execution_count": 9,
   "metadata": {},
   "outputs": [],
   "source": [
    "# x_val, y_val, idx_val = load_feature(feature_folder, 'test', 'VGG19', '171023', 1)\n",
    "# display(x_val.shape)\n",
    "# display(y_val.shape)\n",
    "# display(idx_val.shape)"
   ]
  },
  {
   "cell_type": "code",
   "execution_count": 10,
   "metadata": {},
   "outputs": [],
   "source": [
    "# debug_row = len(pred_result_arr)\n",
    "# amount = debug_row\n",
    "# top1_count = 0\n",
    "# weighted_top1_count = 0\n",
    "# topn_count = 0\n",
    "# for item_idx, item_y, item_pred_result in zip(idx_val[:debug_row], y_val[:debug_row], pred_result_arr[:debug_row]):\n",
    "#     top1_status = 0\n",
    "#     weighted_top1_status = 0\n",
    "#     topn_status = 0\n",
    "#     if item_y == item_pred_result['top1_pred']:\n",
    "#         top1_count += 1\n",
    "#         top1_status = 1\n",
    "#     if item_y == item_pred_result['weighted_top1_pred']:\n",
    "#         weighted_top1_count += 1\n",
    "#         weighted_top1_status = 1\n",
    "#     if isinstance(item_pred_result['topn_pred_arr'], list) and item_y in item_pred_result['topn_pred_arr']:\n",
    "#         topn_count += 1\n",
    "#         topn_status = 1\n",
    "#     if item_idx <= 20 or item_idx >= (debug_row-20):\n",
    "#         print('%10d' % item_idx, '%10d' % item_y, '%10d' % item_pred_result['id'], '%10d' % item_pred_result['top1_pred'], '%10d' % item_pred_result['weighted_top1_pred'], '%d %d %d' % (top1_status, weighted_top1_status, topn_status))\n",
    "\n",
    "# print('*' * 80)\n",
    "# print(top1_count, '%.2f' % (top1_count/amount))\n",
    "# print(weighted_top1_count, '%.2f' % (weighted_top1_count/amount))\n",
    "# print(topn_count, '%.2f' % (topn_count/amount))"
   ]
  },
  {
   "cell_type": "code",
   "execution_count": 11,
   "metadata": {},
   "outputs": [],
   "source": [
    "# acc10000 = int(topn_count/amount*10000)\n",
    "# if acc10000 == 10000:\n",
    "#     run_name_acc = '%s_%05d' % (run_name, acc10000)\n",
    "# else:\n",
    "#     run_name_acc = '%s_%04d' % (run_name, acc10000)\n",
    "# print(run_name_acc)"
   ]
  },
  {
   "cell_type": "markdown",
   "metadata": {},
   "source": [
    "## Load data_test_00 predict result"
   ]
  },
  {
   "cell_type": "code",
   "execution_count": 12,
   "metadata": {},
   "outputs": [
    {
     "data": {
      "text/plain": [
       "(117577, 1)"
      ]
     },
     "metadata": {},
     "output_type": "display_data"
    },
    {
     "data": {
      "text/html": [
       "<div>\n",
       "<style scoped>\n",
       "    .dataframe tbody tr th:only-of-type {\n",
       "        vertical-align: middle;\n",
       "    }\n",
       "\n",
       "    .dataframe tbody tr th {\n",
       "        vertical-align: top;\n",
       "    }\n",
       "\n",
       "    .dataframe thead th {\n",
       "        text-align: right;\n",
       "    }\n",
       "</style>\n",
       "<table border=\"1\" class=\"dataframe\">\n",
       "  <thead>\n",
       "    <tr style=\"text-align: right;\">\n",
       "      <th></th>\n",
       "      <th>id</th>\n",
       "    </tr>\n",
       "  </thead>\n",
       "  <tbody>\n",
       "    <tr>\n",
       "      <th>0</th>\n",
       "      <td>00016575233bc956</td>\n",
       "    </tr>\n",
       "    <tr>\n",
       "      <th>1</th>\n",
       "      <td>0001aadbcd8cb923</td>\n",
       "    </tr>\n",
       "  </tbody>\n",
       "</table>\n",
       "</div>"
      ],
      "text/plain": [
       "                 id\n",
       "0  00016575233bc956\n",
       "1  0001aadbcd8cb923"
      ]
     },
     "metadata": {},
     "output_type": "display_data"
    }
   ],
   "source": [
    "stage2_test_df = pd.read_csv(stage2_test_csv)\n",
    "display(stage2_test_df.shape, stage2_test_df.head(2))"
   ]
  },
  {
   "cell_type": "code",
   "execution_count": 13,
   "metadata": {},
   "outputs": [
    {
     "data": {
      "text/plain": [
       "(117577, 2)"
      ]
     },
     "metadata": {},
     "output_type": "display_data"
    },
    {
     "data": {
      "text/html": [
       "<div>\n",
       "<style scoped>\n",
       "    .dataframe tbody tr th:only-of-type {\n",
       "        vertical-align: middle;\n",
       "    }\n",
       "\n",
       "    .dataframe tbody tr th {\n",
       "        vertical-align: top;\n",
       "    }\n",
       "\n",
       "    .dataframe thead th {\n",
       "        text-align: right;\n",
       "    }\n",
       "</style>\n",
       "<table border=\"1\" class=\"dataframe\">\n",
       "  <thead>\n",
       "    <tr style=\"text-align: right;\">\n",
       "      <th></th>\n",
       "      <th>id</th>\n",
       "      <th>landmarks</th>\n",
       "    </tr>\n",
       "  </thead>\n",
       "  <tbody>\n",
       "    <tr>\n",
       "      <th>0</th>\n",
       "      <td>00016575233bc956</td>\n",
       "      <td></td>\n",
       "    </tr>\n",
       "    <tr>\n",
       "      <th>1</th>\n",
       "      <td>0001aadbcd8cb923</td>\n",
       "      <td></td>\n",
       "    </tr>\n",
       "    <tr>\n",
       "      <th>2</th>\n",
       "      <td>0002c06b2440a5f9</td>\n",
       "      <td></td>\n",
       "    </tr>\n",
       "    <tr>\n",
       "      <th>3</th>\n",
       "      <td>0002eb1ee5a5a6b2</td>\n",
       "      <td></td>\n",
       "    </tr>\n",
       "    <tr>\n",
       "      <th>4</th>\n",
       "      <td>000594dad986513e</td>\n",
       "      <td></td>\n",
       "    </tr>\n",
       "  </tbody>\n",
       "</table>\n",
       "</div>"
      ],
      "text/plain": [
       "                 id landmarks\n",
       "0  00016575233bc956          \n",
       "1  0001aadbcd8cb923          \n",
       "2  0002c06b2440a5f9          \n",
       "3  0002eb1ee5a5a6b2          \n",
       "4  000594dad986513e          "
      ]
     },
     "metadata": {},
     "output_type": "display_data"
    }
   ],
   "source": [
    "recognition_sample_submission_df = stage2_test_df.copy('K')\n",
    "recognition_sample_submission_df['landmarks'] = ''\n",
    "display(recognition_sample_submission_df.shape, recognition_sample_submission_df.head())"
   ]
  },
  {
   "cell_type": "code",
   "execution_count": 14,
   "metadata": {},
   "outputs": [
    {
     "data": {
      "text/plain": [
       "(117577, 1)"
      ]
     },
     "metadata": {},
     "output_type": "display_data"
    },
    {
     "data": {
      "text/html": [
       "<div>\n",
       "<style scoped>\n",
       "    .dataframe tbody tr th:only-of-type {\n",
       "        vertical-align: middle;\n",
       "    }\n",
       "\n",
       "    .dataframe tbody tr th {\n",
       "        vertical-align: top;\n",
       "    }\n",
       "\n",
       "    .dataframe thead th {\n",
       "        text-align: right;\n",
       "    }\n",
       "</style>\n",
       "<table border=\"1\" class=\"dataframe\">\n",
       "  <thead>\n",
       "    <tr style=\"text-align: right;\">\n",
       "      <th></th>\n",
       "      <th>landmarks</th>\n",
       "    </tr>\n",
       "    <tr>\n",
       "      <th>id</th>\n",
       "      <th></th>\n",
       "    </tr>\n",
       "  </thead>\n",
       "  <tbody>\n",
       "    <tr>\n",
       "      <th>00016575233bc956</th>\n",
       "      <td></td>\n",
       "    </tr>\n",
       "    <tr>\n",
       "      <th>0001aadbcd8cb923</th>\n",
       "      <td></td>\n",
       "    </tr>\n",
       "    <tr>\n",
       "      <th>0002c06b2440a5f9</th>\n",
       "      <td></td>\n",
       "    </tr>\n",
       "    <tr>\n",
       "      <th>0002eb1ee5a5a6b2</th>\n",
       "      <td></td>\n",
       "    </tr>\n",
       "    <tr>\n",
       "      <th>000594dad986513e</th>\n",
       "      <td></td>\n",
       "    </tr>\n",
       "  </tbody>\n",
       "</table>\n",
       "</div>"
      ],
      "text/plain": [
       "                 landmarks\n",
       "id                        \n",
       "00016575233bc956          \n",
       "0001aadbcd8cb923          \n",
       "0002c06b2440a5f9          \n",
       "0002eb1ee5a5a6b2          \n",
       "000594dad986513e          "
      ]
     },
     "metadata": {},
     "output_type": "display_data"
    }
   ],
   "source": [
    "recognition_sample_submission_df['landmarks'] = ''\n",
    "recognition_sample_submission_df.set_index(['id'], inplace=True)\n",
    "display(recognition_sample_submission_df.shape, recognition_sample_submission_df.head())"
   ]
  },
  {
   "cell_type": "code",
   "execution_count": 15,
   "metadata": {},
   "outputs": [
    {
     "data": {
      "text/plain": [
       "(117577, 2)"
      ]
     },
     "metadata": {},
     "output_type": "display_data"
    },
    {
     "data": {
      "text/html": [
       "<div>\n",
       "<style scoped>\n",
       "    .dataframe tbody tr th:only-of-type {\n",
       "        vertical-align: middle;\n",
       "    }\n",
       "\n",
       "    .dataframe tbody tr th {\n",
       "        vertical-align: top;\n",
       "    }\n",
       "\n",
       "    .dataframe thead th {\n",
       "        text-align: right;\n",
       "    }\n",
       "</style>\n",
       "<table border=\"1\" class=\"dataframe\">\n",
       "  <thead>\n",
       "    <tr style=\"text-align: right;\">\n",
       "      <th></th>\n",
       "      <th>id</th>\n",
       "      <th>images</th>\n",
       "    </tr>\n",
       "  </thead>\n",
       "  <tbody>\n",
       "    <tr>\n",
       "      <th>0</th>\n",
       "      <td>00016575233bc956</td>\n",
       "      <td></td>\n",
       "    </tr>\n",
       "    <tr>\n",
       "      <th>1</th>\n",
       "      <td>0001aadbcd8cb923</td>\n",
       "      <td></td>\n",
       "    </tr>\n",
       "    <tr>\n",
       "      <th>2</th>\n",
       "      <td>0002c06b2440a5f9</td>\n",
       "      <td></td>\n",
       "    </tr>\n",
       "    <tr>\n",
       "      <th>3</th>\n",
       "      <td>0002eb1ee5a5a6b2</td>\n",
       "      <td></td>\n",
       "    </tr>\n",
       "    <tr>\n",
       "      <th>4</th>\n",
       "      <td>000594dad986513e</td>\n",
       "      <td></td>\n",
       "    </tr>\n",
       "  </tbody>\n",
       "</table>\n",
       "</div>"
      ],
      "text/plain": [
       "                 id images\n",
       "0  00016575233bc956       \n",
       "1  0001aadbcd8cb923       \n",
       "2  0002c06b2440a5f9       \n",
       "3  0002eb1ee5a5a6b2       \n",
       "4  000594dad986513e       "
      ]
     },
     "metadata": {},
     "output_type": "display_data"
    }
   ],
   "source": [
    "retrieval_sample_submission_df = stage2_test_df.copy('K')\n",
    "retrieval_sample_submission_df['images'] = ''\n",
    "display(retrieval_sample_submission_df.shape, retrieval_sample_submission_df.head())"
   ]
  },
  {
   "cell_type": "code",
   "execution_count": 16,
   "metadata": {},
   "outputs": [
    {
     "data": {
      "text/plain": [
       "(117577, 1)"
      ]
     },
     "metadata": {},
     "output_type": "display_data"
    },
    {
     "data": {
      "text/html": [
       "<div>\n",
       "<style scoped>\n",
       "    .dataframe tbody tr th:only-of-type {\n",
       "        vertical-align: middle;\n",
       "    }\n",
       "\n",
       "    .dataframe tbody tr th {\n",
       "        vertical-align: top;\n",
       "    }\n",
       "\n",
       "    .dataframe thead th {\n",
       "        text-align: right;\n",
       "    }\n",
       "</style>\n",
       "<table border=\"1\" class=\"dataframe\">\n",
       "  <thead>\n",
       "    <tr style=\"text-align: right;\">\n",
       "      <th></th>\n",
       "      <th>images</th>\n",
       "    </tr>\n",
       "    <tr>\n",
       "      <th>id</th>\n",
       "      <th></th>\n",
       "    </tr>\n",
       "  </thead>\n",
       "  <tbody>\n",
       "    <tr>\n",
       "      <th>00016575233bc956</th>\n",
       "      <td></td>\n",
       "    </tr>\n",
       "    <tr>\n",
       "      <th>0001aadbcd8cb923</th>\n",
       "      <td></td>\n",
       "    </tr>\n",
       "    <tr>\n",
       "      <th>0002c06b2440a5f9</th>\n",
       "      <td></td>\n",
       "    </tr>\n",
       "    <tr>\n",
       "      <th>0002eb1ee5a5a6b2</th>\n",
       "      <td></td>\n",
       "    </tr>\n",
       "    <tr>\n",
       "      <th>000594dad986513e</th>\n",
       "      <td></td>\n",
       "    </tr>\n",
       "  </tbody>\n",
       "</table>\n",
       "</div>"
      ],
      "text/plain": [
       "                 images\n",
       "id                     \n",
       "00016575233bc956       \n",
       "0001aadbcd8cb923       \n",
       "0002c06b2440a5f9       \n",
       "0002eb1ee5a5a6b2       \n",
       "000594dad986513e       "
      ]
     },
     "metadata": {},
     "output_type": "display_data"
    }
   ],
   "source": [
    "retrieval_sample_submission_df['images'] = ''\n",
    "retrieval_sample_submission_df.set_index(['id'], inplace=True)\n",
    "display(retrieval_sample_submission_df.shape, retrieval_sample_submission_df.head())"
   ]
  },
  {
   "cell_type": "code",
   "execution_count": 17,
   "metadata": {},
   "outputs": [
    {
     "name": "stdout",
     "output_type": "stream",
     "text": [
      "112749 ['0/000088da12d664db.jpg', '0/0001623c6d808702.jpg', '0/0001bbb682d45002.jpg', '0/0002362830cfe3a3.jpg', '0/000270c9100de789.jpg']\n"
     ]
    }
   ],
   "source": [
    "data_test_00_filenames = pickle_load(data_test_00_filenames_pkl)\n",
    "print(len(data_test_00_filenames), data_test_00_filenames[:5])"
   ]
  },
  {
   "cell_type": "code",
   "execution_count": 18,
   "metadata": {},
   "outputs": [
    {
     "name": "stdout",
     "output_type": "stream",
     "text": [
      "112749 ['000088da12d664db', '0001623c6d808702', '0001bbb682d45002', '0002362830cfe3a3', '000270c9100de789']\n"
     ]
    }
   ],
   "source": [
    "image_ids = [filename[2: -4] for filename in data_test_00_filenames]\n",
    "print(len(image_ids), image_ids[:5])"
   ]
  },
  {
   "cell_type": "code",
   "execution_count": 19,
   "metadata": {},
   "outputs": [
    {
     "name": "stdout",
     "output_type": "stream",
     "text": [
      "len(pred_result_arr): 3903\n"
     ]
    }
   ],
   "source": [
    "pred_result_arr = get_predict_result(redis_cli, -1, 0)\n",
    "print('len(pred_result_arr):', len(pred_result_arr))"
   ]
  },
  {
   "cell_type": "code",
   "execution_count": 20,
   "metadata": {},
   "outputs": [],
   "source": [
    "def get_uniform_topn(y_pred, y_proba, topn, ndigits=3):\n",
    "    y_pred_reverse = y_pred[::-1]\n",
    "    y_proba_reverse = y_proba[::-1]\n",
    "    y_pred_topn = y_pred_reverse[:topn]\n",
    "    y_proba_topn = y_proba_reverse[:topn]\n",
    "    y_proba_topn_sum = sum(y_proba_topn)\n",
    "    y_pred_topn = [item for item in y_pred_topn]\n",
    "    y_proba_topn = [round(item/y_proba_topn_sum, ndigits) for item in y_proba_topn]\n",
    "    return y_pred_topn, y_proba_topn\n",
    "\n",
    "# demo_y_pred = list(range(10))\n",
    "# demo_y_proba = [item for item in list(range(10))]\n",
    "# demo_y_pred_topn, demo_y_proba_topn = get_uniform_topn(demo_y_pred, demo_y_proba, 5)"
   ]
  },
  {
   "cell_type": "code",
   "execution_count": 21,
   "metadata": {},
   "outputs": [],
   "source": [
    "# print(sum(demo_y_proba_topn))"
   ]
  },
  {
   "cell_type": "code",
   "execution_count": 22,
   "metadata": {},
   "outputs": [
    {
     "name": "stdout",
     "output_type": "stream",
     "text": [
      "len(pred_result_arr): 3903\n"
     ]
    }
   ],
   "source": [
    "print('len(pred_result_arr):', len(pred_result_arr))"
   ]
  },
  {
   "cell_type": "code",
   "execution_count": 23,
   "metadata": {},
   "outputs": [
    {
     "name": "stdout",
     "output_type": "stream",
     "text": [
      "      0 000088da12d664db 65218 65218 65218 0.01 0.971 100\n",
      "      1 0001623c6d808702 138982 138982 138982 0.01 0.992 100\n",
      "      2 0001bbb682d45002 174821 174821 174821 0.01 0.994 100\n",
      "      3 0002362830cfe3a3 42297 42297 42297 0.01 0.998 100\n",
      "      4 000270c9100de789 145325 145325 145325 0.01 0.999 100\n",
      "      5 0002b0fab5d3ccc4 198778 198778 198778 0.01 0.993 100\n",
      "      6 000506dc6ab3a40e 138719 138719 138719 0.01 0.995 100\n",
      "      7 0005292fc4b005a3 96663 96663 96663 0.01 0.999 100\n",
      "      8 0005456a82264bc8 82137 82137 82137 0.01 0.988 100\n",
      "      9 00055cf2bfb5594a 164179 164179 164179 0.01 1.0 100\n",
      "     10 000664eed4a70821 129024 129024 129024 0.01 0.999 100\n",
      "     11 0006aea5b6f4eaaa 145097 145097 145097 0.01 0.997 100\n",
      "     12 0006bbfa00dd6c0f 195843 195843 195843 0.01 0.997 100\n",
      "     13 0008aee1c0abed9d 145015 145015 145015 0.01 0.998 100\n",
      "     14 0008de5f3c25d563 24607 24607 24607 0.01 0.996 100\n",
      "     15 00094466c9f054f4 154960 154960 154960 0.01 0.986 100\n",
      "     16 0009f09a69405693 88596 88596 88596 0.01 0.982 100\n",
      "     17 000a7f4a25af7558 155303 155303 155303 0.01 0.997 100\n",
      "     18 000a9180e4dc8705 104939 104939 104939 0.01 0.99 100\n",
      "     19 000aee511bc53f8b 87787 87787 87787 0.01 1.0 100\n",
      "     20 000b55ddc1160a12 53917 53917 53917 0.01 0.997 100\n",
      "     21 000c08916d77b8ba 48478 48478 48478 0.01 0.984 100\n",
      "     22 000c2a80838aabff 59629 59629 59629 0.01 0.999 100\n",
      "     23 000dad8a776a3631 62831 62831 62831 0.01 0.997 100\n",
      "     24 000e30f1e5b32741 21253 21253 21253 0.01 0.999 100\n",
      "     25 000e47a43eb8a307 192931 192931 192931 0.01 0.997 100\n",
      "     26 00108ec72b2344bd 36494 36494 36494 0.01 0.968 100\n",
      "     27 0010ab920bac8640 170064 170064 170064 0.01 0.995 100\n",
      "     28 0010e7cad366d6fa 145015 145015 145015 0.01 0.997 100\n",
      "     29 001119140e4bb030 35855 35855 35855 0.01 0.99 100\n",
      "     30 0013a06d20c7839f 35560 35560 35560 0.01 0.996 100\n",
      "     31 001490806c884d96 106795 106795 106795 0.01 0.984 100\n",
      "     32 0014be4f4910bbe6 57997 57997 57997 0.01 0.981 100\n",
      "     33 0014ea5d819557be 87787 87787 87787 0.01 0.999 100\n",
      "     34 0015898890608086 87787 87787 87787 0.01 0.989 100\n",
      "     35 001645116c77f6be 122937 122937 122937 0.01 0.999 100\n",
      "     36 001693c1ea808396 82320 82320 82320 0.01 0.996 100\n",
      "     37 00169f449b4c60c0 139706 139706 139706 0.01 0.995 100\n",
      "     38 0016de8fd1c3eab6 56957 56957 56957 0.01 0.999 100\n",
      "     39 0017719d5bba733c 131030 131030 131030 0.01 0.989 100\n",
      "     40 0017deb491895bba 57925 57925 57925 0.01 0.998 100\n",
      "     41 001800346d31f711 104939 104939 104939 0.01 0.995 100\n",
      "     42 00181e5553bf2564 39209 39209 39209 0.01 0.998 100\n",
      "     43 0018893bd38632df 18216 18216 18216 0.01 0.999 100\n",
      "     44 0018b97bd2b24bd7 145097 145097 145097 0.01 0.998 100\n",
      "     45 0018d55375fc9760 192931 192931 192931 0.01 0.998 100\n",
      "     46 001a35e59d5aa6f1 111382 111382 111382 0.01 0.998 100\n",
      "     47 001a459a0ea96691 57939 57939 57939 0.01 0.997 100\n",
      "     48 001a60eb361ddcce 137342 137342 137342 0.01 0.99 100\n",
      "     49 001a664af4c86522 72051 72051 72051 0.01 0.995 100\n",
      "     50 001abaa4d7b1bff6 6664 6664 6664 0.01 0.978 100\n",
      "     51 001ac16f4d40d767 115276 115276 115276 0.01 0.996 100\n",
      "     52 001ae53b299b629c 59629 59629 59629 0.01 0.998 100\n",
      "     53 001b6152e9ebcc55 11410 11410 11410 0.01 0.996 100\n",
      "     54 001b715bcc3404d0 182407 182407 182407 0.01 0.98 100\n",
      "     55 001c14abb87dadee 167673 167673 167673 0.01 0.966 100\n",
      "     56 001c3fd61038afbb 158054 158054 158054 0.01 0.999 100\n",
      "     57 001dda380fe0ba7c 50773 50773 50773 0.01 0.984 100\n",
      "     58 001deb1af658dff1 168194 168194 168194 0.01 0.998 100\n",
      "     59 001e897d5843a2f6 107801 107801 107801 0.01 0.97 100\n",
      "     60 001e8a1a315b152c 68910 68910 68910 0.01 0.997 100\n",
      "     61 002032b69caabd68 122284 122284 122284 0.01 0.999 100\n",
      "     62 0020d05219278e14 154295 154295 154295 0.01 1.0 100\n",
      "     63 0021438d0b42fae6 145015 145015 145015 0.01 0.999 100\n",
      "     64 002178816e50c78b 27332 27332 27332 0.01 0.998 100\n",
      "     65 00229fb626a4c226 10308 10308 10308 0.01 0.997 100\n",
      "     66 00241bc3b567af00 134202 134202 134202 0.01 0.995 100\n",
      "     67 0024356662a2dc86 35691 35691 35691 0.01 0.99 100\n",
      "     68 00244a394f6e0d11 147018 147018 147018 0.01 0.992 100\n",
      "     69 0024f9a7be9e52e4 130282 130282 130282 0.01 0.997 100\n",
      "     70 0025f252395efe10 192931 192931 192931 0.01 0.993 100\n",
      "     71 00273e8ac68611c6 138982 138982 138982 0.01 0.991 100\n",
      "     72 002794eaf4731a7f 79140 79140 79140 0.01 0.998 100\n",
      "     73 002814a3f1e37070 174731 174731 174731 0.01 0.993 100\n",
      "     74 0028cafcc6b04b96 145015 145015 145015 0.01 0.999 100\n",
      "     75 00295956a11fb30e 100087 100087 100087 0.01 0.999 100\n",
      "     76 00299adcc8dce34d 15059 15059 15059 0.01 0.98 100\n",
      "     77 0029aceb8271ccc9 192931 192931 192931 0.01 0.993 100\n",
      "     78 002a60235e98af73 22290 22290 22290 0.01 0.993 100\n",
      "     79 002a70ff69fb0500 198205 198205 198205 0.01 0.995 100\n",
      "     80 002b404d3b0cf9a6 20981 20981 20981 0.01 0.998 100\n",
      "     81 002bfe1dc420c69c 169872 169872 169872 0.01 0.997 100\n",
      "     82 002c7341cbf5b436 145015 145015 145015 0.01 0.999 100\n",
      "     83 002da20ca02f0ac0 193275 193275 193275 0.01 0.992 100\n",
      "     84 002e393179937ebe 202388 202388 202388 0.01 0.991 100\n",
      "     85 002e422a29e1ce5e 61412 61412 61412 0.01 0.993 100\n",
      "     86 002f0b431de8711a 185662 185662 185662 0.01 0.998 100\n",
      "     87 002f22ef6de3a55f 164623 164623 164623 0.01 0.979 100\n",
      "     88 002f3760195af117 116917 116917 116917 0.01 0.99 100\n",
      "     89 002faea0e8c51479 153791 153791 153791 0.01 0.999 100\n",
      "     90 0030a4534a5abac6 38952 38952 38952 0.01 0.993 100\n",
      "     91 0031ad92799f20ee 79836 79836 79836 0.01 1.0 100\n",
      "     92 0033acb64422fba9 188743 188743 188743 0.01 0.996 100\n",
      "     93 0033eba3397c6185 192931 192931 192931 0.01 0.997 100\n",
      "     94 003448f1cb05ee15 71615 71615 71615 0.01 0.987 100\n",
      "     95 00348bdb873acd20 72978 72978 72978 0.01 0.998 100\n",
      "     96 0034fcc8b622df6d 107452 107452 107452 0.01 0.994 100\n",
      "     97 0035c123796d2dc2 29425 29425 29425 0.01 0.985 100\n",
      "     98 00362ef0d3389ca2 202277 202277 202277 0.01 0.998 100\n",
      "     99 003aa025286a1b96 140928 140928 140928 0.01 0.991 100\n"
     ]
    }
   ],
   "source": [
    "for item_pred_result in pred_result_arr:\n",
    "    test_data_idx = item_pred_result['id']\n",
    "    topn_filename_arr = item_pred_result['topn_filename_arr']\n",
    "    image_id = image_ids[test_data_idx]\n",
    "    item_y_pred_topn, item_y_proba_topn = get_uniform_topn(item_pred_result['topn_pred_arr'], item_pred_result['topn_proba_arr'], topn)\n",
    "    # recognition\n",
    "#     print(item_pred_result['top1_pred'])\n",
    "    recognition_sample_submission_df.at[image_id, 'landmarks'] = '%s %.2f' % (item_pred_result['top1_pred'], item_y_proba_topn[0])\n",
    "    # retrieval\n",
    "    pred_filename_arr = topn_filename_arr[-topn:]\n",
    "    pred_filename_arr.reverse()\n",
    "    retrieval_sample_submission_df.at[image_id, 'images'] = ' '.join([filename[-20:-4] for filename in pred_filename_arr])\n",
    "    if test_data_idx < 100:\n",
    "        print('%7d' % test_data_idx, image_id, item_pred_result['top1_pred'], item_pred_result['topn_pred_arr'][-1], item_y_pred_topn[0], item_y_proba_topn[0], item_pred_result['topn_proba_arr'][-1], len(pred_filename_arr))"
   ]
  },
  {
   "cell_type": "markdown",
   "metadata": {},
   "source": [
    "## Export submission"
   ]
  },
  {
   "cell_type": "code",
   "execution_count": 24,
   "metadata": {},
   "outputs": [],
   "source": [
    "recognition_sample_submission_df.reset_index(drop=False, inplace=True)\n",
    "retrieval_sample_submission_df.reset_index(drop=False, inplace=True)"
   ]
  },
  {
   "cell_type": "code",
   "execution_count": 25,
   "metadata": {},
   "outputs": [
    {
     "data": {
      "text/plain": [
       "(3903, 2)"
      ]
     },
     "metadata": {},
     "output_type": "display_data"
    },
    {
     "data": {
      "text/html": [
       "<div>\n",
       "<style scoped>\n",
       "    .dataframe tbody tr th:only-of-type {\n",
       "        vertical-align: middle;\n",
       "    }\n",
       "\n",
       "    .dataframe tbody tr th {\n",
       "        vertical-align: top;\n",
       "    }\n",
       "\n",
       "    .dataframe thead th {\n",
       "        text-align: right;\n",
       "    }\n",
       "</style>\n",
       "<table border=\"1\" class=\"dataframe\">\n",
       "  <thead>\n",
       "    <tr style=\"text-align: right;\">\n",
       "      <th></th>\n",
       "      <th>id</th>\n",
       "      <th>landmarks</th>\n",
       "    </tr>\n",
       "  </thead>\n",
       "  <tbody>\n",
       "    <tr>\n",
       "      <th>117577</th>\n",
       "      <td>000088da12d664db</td>\n",
       "      <td>65218 0.01</td>\n",
       "    </tr>\n",
       "    <tr>\n",
       "      <th>117578</th>\n",
       "      <td>0001623c6d808702</td>\n",
       "      <td>138982 0.01</td>\n",
       "    </tr>\n",
       "    <tr>\n",
       "      <th>117579</th>\n",
       "      <td>0001bbb682d45002</td>\n",
       "      <td>174821 0.01</td>\n",
       "    </tr>\n",
       "    <tr>\n",
       "      <th>117580</th>\n",
       "      <td>0002362830cfe3a3</td>\n",
       "      <td>42297 0.01</td>\n",
       "    </tr>\n",
       "    <tr>\n",
       "      <th>117581</th>\n",
       "      <td>000270c9100de789</td>\n",
       "      <td>145325 0.01</td>\n",
       "    </tr>\n",
       "  </tbody>\n",
       "</table>\n",
       "</div>"
      ],
      "text/plain": [
       "                      id    landmarks\n",
       "117577  000088da12d664db   65218 0.01\n",
       "117578  0001623c6d808702  138982 0.01\n",
       "117579  0001bbb682d45002  174821 0.01\n",
       "117580  0002362830cfe3a3   42297 0.01\n",
       "117581  000270c9100de789  145325 0.01"
      ]
     },
     "metadata": {},
     "output_type": "display_data"
    },
    {
     "data": {
      "text/plain": [
       "(3903, 2)"
      ]
     },
     "metadata": {},
     "output_type": "display_data"
    },
    {
     "data": {
      "text/html": [
       "<div>\n",
       "<style scoped>\n",
       "    .dataframe tbody tr th:only-of-type {\n",
       "        vertical-align: middle;\n",
       "    }\n",
       "\n",
       "    .dataframe tbody tr th {\n",
       "        vertical-align: top;\n",
       "    }\n",
       "\n",
       "    .dataframe thead th {\n",
       "        text-align: right;\n",
       "    }\n",
       "</style>\n",
       "<table border=\"1\" class=\"dataframe\">\n",
       "  <thead>\n",
       "    <tr style=\"text-align: right;\">\n",
       "      <th></th>\n",
       "      <th>id</th>\n",
       "      <th>images</th>\n",
       "    </tr>\n",
       "  </thead>\n",
       "  <tbody>\n",
       "    <tr>\n",
       "      <th>117577</th>\n",
       "      <td>000088da12d664db</td>\n",
       "      <td>afa533419f7ab5ac 1e393b7ab22eb960 f51620d23acd...</td>\n",
       "    </tr>\n",
       "    <tr>\n",
       "      <th>117578</th>\n",
       "      <td>0001623c6d808702</td>\n",
       "      <td>df0e1f887e3a7c03 f8a65bbb71c96da0 75b39c7111cb...</td>\n",
       "    </tr>\n",
       "    <tr>\n",
       "      <th>117579</th>\n",
       "      <td>0001bbb682d45002</td>\n",
       "      <td>301c36bdf8878428 579602e71283374c 682912c05f73...</td>\n",
       "    </tr>\n",
       "    <tr>\n",
       "      <th>117580</th>\n",
       "      <td>0002362830cfe3a3</td>\n",
       "      <td>26e3756c1eb9ce06 15ef6bfd1d98435f bbdebf3d55d1...</td>\n",
       "    </tr>\n",
       "    <tr>\n",
       "      <th>117581</th>\n",
       "      <td>000270c9100de789</td>\n",
       "      <td>ea03cd7d0f68a60d 4fadce647ef3e0cb c2b4fbbc07ef...</td>\n",
       "    </tr>\n",
       "  </tbody>\n",
       "</table>\n",
       "</div>"
      ],
      "text/plain": [
       "                      id                                             images\n",
       "117577  000088da12d664db  afa533419f7ab5ac 1e393b7ab22eb960 f51620d23acd...\n",
       "117578  0001623c6d808702  df0e1f887e3a7c03 f8a65bbb71c96da0 75b39c7111cb...\n",
       "117579  0001bbb682d45002  301c36bdf8878428 579602e71283374c 682912c05f73...\n",
       "117580  0002362830cfe3a3  26e3756c1eb9ce06 15ef6bfd1d98435f bbdebf3d55d1...\n",
       "117581  000270c9100de789  ea03cd7d0f68a60d 4fadce647ef3e0cb c2b4fbbc07ef..."
      ]
     },
     "metadata": {},
     "output_type": "display_data"
    }
   ],
   "source": [
    "recognition_sample_submission_df_concreate = recognition_sample_submission_df[recognition_sample_submission_df['landmarks'] != '']\n",
    "display(recognition_sample_submission_df_concreate.shape, recognition_sample_submission_df_concreate.head())\n",
    "retrieval_sample_submission_df_concreate = retrieval_sample_submission_df[retrieval_sample_submission_df['images'] != '']\n",
    "display(retrieval_sample_submission_df_concreate.shape, retrieval_sample_submission_df_concreate.head())"
   ]
  },
  {
   "cell_type": "code",
   "execution_count": 26,
   "metadata": {},
   "outputs": [
    {
     "data": {
      "text/plain": [
       "(121480, 2)"
      ]
     },
     "metadata": {},
     "output_type": "display_data"
    },
    {
     "data": {
      "text/html": [
       "<div>\n",
       "<style scoped>\n",
       "    .dataframe tbody tr th:only-of-type {\n",
       "        vertical-align: middle;\n",
       "    }\n",
       "\n",
       "    .dataframe tbody tr th {\n",
       "        vertical-align: top;\n",
       "    }\n",
       "\n",
       "    .dataframe thead th {\n",
       "        text-align: right;\n",
       "    }\n",
       "</style>\n",
       "<table border=\"1\" class=\"dataframe\">\n",
       "  <thead>\n",
       "    <tr style=\"text-align: right;\">\n",
       "      <th></th>\n",
       "      <th>id</th>\n",
       "      <th>landmarks</th>\n",
       "    </tr>\n",
       "  </thead>\n",
       "  <tbody>\n",
       "    <tr>\n",
       "      <th>0</th>\n",
       "      <td>00016575233bc956</td>\n",
       "      <td></td>\n",
       "    </tr>\n",
       "    <tr>\n",
       "      <th>1</th>\n",
       "      <td>0001aadbcd8cb923</td>\n",
       "      <td></td>\n",
       "    </tr>\n",
       "    <tr>\n",
       "      <th>2</th>\n",
       "      <td>0002c06b2440a5f9</td>\n",
       "      <td></td>\n",
       "    </tr>\n",
       "    <tr>\n",
       "      <th>3</th>\n",
       "      <td>0002eb1ee5a5a6b2</td>\n",
       "      <td></td>\n",
       "    </tr>\n",
       "    <tr>\n",
       "      <th>4</th>\n",
       "      <td>000594dad986513e</td>\n",
       "      <td></td>\n",
       "    </tr>\n",
       "  </tbody>\n",
       "</table>\n",
       "</div>"
      ],
      "text/plain": [
       "                 id landmarks\n",
       "0  00016575233bc956          \n",
       "1  0001aadbcd8cb923          \n",
       "2  0002c06b2440a5f9          \n",
       "3  0002eb1ee5a5a6b2          \n",
       "4  000594dad986513e          "
      ]
     },
     "metadata": {},
     "output_type": "display_data"
    },
    {
     "data": {
      "text/plain": [
       "(121480, 2)"
      ]
     },
     "metadata": {},
     "output_type": "display_data"
    },
    {
     "data": {
      "text/html": [
       "<div>\n",
       "<style scoped>\n",
       "    .dataframe tbody tr th:only-of-type {\n",
       "        vertical-align: middle;\n",
       "    }\n",
       "\n",
       "    .dataframe tbody tr th {\n",
       "        vertical-align: top;\n",
       "    }\n",
       "\n",
       "    .dataframe thead th {\n",
       "        text-align: right;\n",
       "    }\n",
       "</style>\n",
       "<table border=\"1\" class=\"dataframe\">\n",
       "  <thead>\n",
       "    <tr style=\"text-align: right;\">\n",
       "      <th></th>\n",
       "      <th>id</th>\n",
       "      <th>images</th>\n",
       "    </tr>\n",
       "  </thead>\n",
       "  <tbody>\n",
       "    <tr>\n",
       "      <th>0</th>\n",
       "      <td>00016575233bc956</td>\n",
       "      <td></td>\n",
       "    </tr>\n",
       "    <tr>\n",
       "      <th>1</th>\n",
       "      <td>0001aadbcd8cb923</td>\n",
       "      <td></td>\n",
       "    </tr>\n",
       "    <tr>\n",
       "      <th>2</th>\n",
       "      <td>0002c06b2440a5f9</td>\n",
       "      <td></td>\n",
       "    </tr>\n",
       "    <tr>\n",
       "      <th>3</th>\n",
       "      <td>0002eb1ee5a5a6b2</td>\n",
       "      <td></td>\n",
       "    </tr>\n",
       "    <tr>\n",
       "      <th>4</th>\n",
       "      <td>000594dad986513e</td>\n",
       "      <td></td>\n",
       "    </tr>\n",
       "  </tbody>\n",
       "</table>\n",
       "</div>"
      ],
      "text/plain": [
       "                 id images\n",
       "0  00016575233bc956       \n",
       "1  0001aadbcd8cb923       \n",
       "2  0002c06b2440a5f9       \n",
       "3  0002eb1ee5a5a6b2       \n",
       "4  000594dad986513e       "
      ]
     },
     "metadata": {},
     "output_type": "display_data"
    }
   ],
   "source": [
    "display(recognition_sample_submission_df.shape, recognition_sample_submission_df.head())\n",
    "display(retrieval_sample_submission_df.shape, retrieval_sample_submission_df.head())"
   ]
  },
  {
   "cell_type": "code",
   "execution_count": 27,
   "metadata": {},
   "outputs": [
    {
     "name": "stdout",
     "output_type": "stream",
     "text": [
      "D:\\Kaggle\\landmark-recognition-2019\\output\\Google_LandMark_Rec2019_5_Get_Predict_Result_From_Redis_20190531_232822_recognition.csv\n"
     ]
    }
   ],
   "source": [
    "recognition_submission_file = os.path.join(output_folder, '%s_recognition.csv' % run_name)\n",
    "print(recognition_submission_file)\n",
    "recognition_sample_submission_df.to_csv(recognition_submission_file, index=False)"
   ]
  },
  {
   "cell_type": "code",
   "execution_count": 30,
   "metadata": {},
   "outputs": [
    {
     "name": "stdout",
     "output_type": "stream",
     "text": [
      "D:\\Kaggle\\landmark-recognition-2019\\output\\Google_LandMark_Rec2019_5_Get_Predict_Result_From_Redis_20190531_232822_retrieval.csv\n"
     ]
    }
   ],
   "source": [
    "retrieval_submission_file = os.path.join(output_folder, '%s_retrieval.csv' % run_name)\n",
    "print(retrieval_submission_file)\n",
    "retrieval_sample_submission_df.to_csv(retrieval_submission_file, index=False)"
   ]
  },
  {
   "cell_type": "code",
   "execution_count": null,
   "metadata": {},
   "outputs": [],
   "source": []
  },
  {
   "cell_type": "code",
   "execution_count": 29,
   "metadata": {},
   "outputs": [
    {
     "name": "stdout",
     "output_type": "stream",
     "text": [
      "Time elapsed: 1615.5s\n",
      "Google_LandMark_Rec2019_5_Get_Predict_Result_From_Redis_20190531_232822\n"
     ]
    }
   ],
   "source": [
    "print('Time elapsed: %.1fs' % (time.time() - t0))\n",
    "print(run_name)"
   ]
  },
  {
   "cell_type": "code",
   "execution_count": null,
   "metadata": {},
   "outputs": [],
   "source": []
  }
 ],
 "metadata": {
  "kernelspec": {
   "display_name": "Python 3",
   "language": "python",
   "name": "python3"
  },
  "language_info": {
   "codemirror_mode": {
    "name": "ipython",
    "version": 3
   },
   "file_extension": ".py",
   "mimetype": "text/x-python",
   "name": "python",
   "nbconvert_exporter": "python",
   "pygments_lexer": "ipython3",
   "version": "3.7.3"
  }
 },
 "nbformat": 4,
 "nbformat_minor": 2
}
