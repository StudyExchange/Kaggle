{
 "cells": [
  {
   "cell_type": "markdown",
   "metadata": {},
   "source": [
    "# 4. Predict-Image-Similar-FCNN-Binary[batch]\n",
    "For landmark-recognition-2019 algorithm validation"
   ]
  },
  {
   "cell_type": "markdown",
   "metadata": {},
   "source": [
    "## Run name"
   ]
  },
  {
   "cell_type": "code",
   "execution_count": 1,
   "metadata": {},
   "outputs": [
    {
     "name": "stdout",
     "output_type": "stream",
     "text": [
      "run_name: 4-Predict[batch]_Google-LandMark-Rec2019_3-Image-Similar-FCNN-Binary_20190511-093300_8406_20190511-150948\n"
     ]
    }
   ],
   "source": [
    "import time\n",
    "\n",
    "project_name = 'Google-LandMark-Rec2019'\n",
    "model_name = 'Google-LandMark-Rec2019_3-Image-Similar-FCNN-Binary_20190511-093300_8406'\n",
    "step_name = '4-Predict[batch]_%s' % model_name\n",
    "time_str = time.strftime(\"%Y%m%d-%H%M%S\", time.localtime())\n",
    "run_name = step_name + '_' + time_str\n",
    "print('run_name: ' + run_name)\n",
    "t0 = time.time()"
   ]
  },
  {
   "cell_type": "markdown",
   "metadata": {},
   "source": [
    "## Important params"
   ]
  },
  {
   "cell_type": "code",
   "execution_count": 2,
   "metadata": {},
   "outputs": [
    {
     "name": "stdout",
     "output_type": "stream",
     "text": [
      "cpu_amount:  4\n",
      "small_debug_rows:\t 10\n",
      "big_debug_rows:\t 20\n",
      "predict_batch_size:\t 10\n"
     ]
    }
   ],
   "source": [
    "import multiprocessing\n",
    "\n",
    "cpu_amount = multiprocessing.cpu_count()\n",
    "print('cpu_amount: ', cpu_amount)\n",
    "\n",
    "small_debug_rows = 10\n",
    "big_debug_rows = 20\n",
    "predict_batch_size = 10\n",
    "print('small_debug_rows:\\t', small_debug_rows)\n",
    "print('big_debug_rows:\\t', big_debug_rows)\n",
    "print('predict_batch_size:\\t', predict_batch_size)"
   ]
  },
  {
   "cell_type": "markdown",
   "metadata": {},
   "source": [
    "## Import PKGs"
   ]
  },
  {
   "cell_type": "code",
   "execution_count": 3,
   "metadata": {},
   "outputs": [],
   "source": [
    "import numpy as np\n",
    "import pandas as pd\n",
    "import matplotlib.pyplot as plt\n",
    "import matplotlib.image as mpimg\n",
    "%matplotlib inline\n",
    "from IPython.display import display\n",
    "\n",
    "import os\n",
    "import sys\n",
    "import gc\n",
    "import math\n",
    "import shutil\n",
    "import zipfile\n",
    "import pickle\n",
    "import h5py\n",
    "\n",
    "from tqdm import tqdm\n",
    "\n",
    "from sklearn.model_selection import train_test_split\n",
    "from sklearn.metrics import confusion_matrix, accuracy_score"
   ]
  },
  {
   "cell_type": "code",
   "execution_count": 4,
   "metadata": {},
   "outputs": [
    {
     "name": "stderr",
     "output_type": "stream",
     "text": [
      "Using TensorFlow backend.\n"
     ]
    }
   ],
   "source": [
    "import keras\n",
    "from keras.utils import Sequence\n",
    "from keras.layers import *\n",
    "from keras.models import *\n",
    "from keras.applications import *\n",
    "from keras.optimizers import *\n",
    "from keras.regularizers import *\n",
    "from keras.preprocessing.image import *\n",
    "from keras.applications.inception_v3 import preprocess_input"
   ]
  },
  {
   "cell_type": "code",
   "execution_count": 5,
   "metadata": {},
   "outputs": [],
   "source": [
    "import tensorflow as tf\n",
    "import keras.backend.tensorflow_backend as KTF\n",
    "\n",
    "config = tf.ConfigProto()\n",
    "config.gpu_options.per_process_gpu_memory_fraction = 0.5\n",
    "session = tf.Session(config=config)\n",
    "\n",
    "KTF.set_session(session )"
   ]
  },
  {
   "cell_type": "markdown",
   "metadata": {},
   "source": [
    "## Project folders"
   ]
  },
  {
   "cell_type": "code",
   "execution_count": 6,
   "metadata": {},
   "outputs": [
    {
     "name": "stdout",
     "output_type": "stream",
     "text": [
      "/data/landmark-recognition-2019/feature/feature_wrapper_171023.h5\n",
      "/data/landmark-recognition-2019/input/train.csv\n",
      "/data/landmark-recognition-2019/input/test.csv\n",
      "/data/landmark-recognition-2019/input/sample_submission.csv\n"
     ]
    }
   ],
   "source": [
    "cwd = os.getcwd()\n",
    "feature_folder = os.path.join(cwd, 'feature')\n",
    "input_folder = os.path.join(cwd, 'input')\n",
    "output_folder = os.path.join(cwd, 'output')\n",
    "model_folder = os.path.join(cwd, 'model')\n",
    "\n",
    "org_train_folder = os.path.join(input_folder, 'org_train')\n",
    "org_test_folder = os.path.join(input_folder, 'org_test')\n",
    "train_folder = os.path.join(input_folder, 'data_train')\n",
    "val_folder = os.path.join(input_folder, 'data_val')\n",
    "test_folder = os.path.join(input_folder, 'data_test')\n",
    "test_sub_folder = os.path.join(test_folder, 'test')\n",
    "\n",
    "vgg16_feature_file = os.path.join(feature_folder, 'feature_wrapper_171023.h5')\n",
    "train_csv_file = os.path.join(input_folder, 'train.csv')\n",
    "test_csv_file = os.path.join(input_folder, 'test.csv')\n",
    "sample_submission_folder = os.path.join(input_folder, 'sample_submission.csv')\n",
    "print(vgg16_feature_file)\n",
    "print(train_csv_file)\n",
    "print(test_csv_file)\n",
    "print(sample_submission_folder)"
   ]
  },
  {
   "cell_type": "markdown",
   "metadata": {},
   "source": [
    "## Functions"
   ]
  },
  {
   "cell_type": "code",
   "execution_count": 7,
   "metadata": {},
   "outputs": [
    {
     "name": "stdout",
     "output_type": "stream",
     "text": [
      "[0, 1, 2, 3, 4, 5, 6, 7, 8, 9]\n",
      "/data/landmark-recognition-2019/temp/pickle_demo.pkl\n",
      "[0, 1, 2, 3, 4, 5, 6, 7, 8, 9]\n"
     ]
    }
   ],
   "source": [
    "def pickle_dump(data, file):\n",
    "    with open(file, 'wb') as f:\n",
    "        pickle.dump(data, f)\n",
    "\n",
    "def pickle_load(file):\n",
    "    with open(file, 'rb') as f:\n",
    "        data = pickle.load(f)\n",
    "    return data\n",
    "\n",
    "a = list(range(10))\n",
    "print(a)\n",
    "demo_file = os.path.join(os.getcwd(), 'temp', 'pickle_demo.pkl')\n",
    "print(demo_file)\n",
    "pickle_dump(a, demo_file)\n",
    "new_a = pickle_load(demo_file)\n",
    "print(new_a)"
   ]
  },
  {
   "cell_type": "code",
   "execution_count": 8,
   "metadata": {},
   "outputs": [
    {
     "name": "stdout",
     "output_type": "stream",
     "text": [
      "CPU times: user 0 ns, sys: 0 ns, total: 0 ns\n",
      "Wall time: 14.1 µs\n"
     ]
    }
   ],
   "source": [
    "%%time\n",
    "\n",
    "def get_whole_classes_label(class_indices_data, item_classes_data):\n",
    "    indices2class = {}\n",
    "    for i, key in enumerate(class_indices_data.keys()):\n",
    "#         print(key, class_indices_data[key])\n",
    "        indices2class[class_indices_data[key]] = key\n",
    "#         if i >= 5:\n",
    "#             break\n",
    "#     for i, key in enumerate(class_indices_data.keys()):\n",
    "#         print(key, class_indices_data[key], '-->', class_indices_data[key], indices2class[class_indices_data[key]])\n",
    "#         if i >= 10:\n",
    "#             break\n",
    "    print(item_classes_data.shape)\n",
    "    whole_classes_data = np.zeros(item_classes_data.shape)\n",
    "    for i, class_index in enumerate(item_classes_data):\n",
    "        whole_classes_data[i] = indices2class[class_index]\n",
    "#         print(i, class_index, '-->', indices2class[class_index])\n",
    "#         if i >= 10:\n",
    "#             break\n",
    "    return whole_classes_data\n",
    "# get_whole_classes_label(class_indices_train, item_classes_train)"
   ]
  },
  {
   "cell_type": "markdown",
   "metadata": {},
   "source": [
    "## Load feature"
   ]
  },
  {
   "cell_type": "code",
   "execution_count": 9,
   "metadata": {},
   "outputs": [
    {
     "name": "stdout",
     "output_type": "stream",
     "text": [
      "total 8.6G\r\n",
      "-rw-r--r-- 1 ubuntu ubuntu 830K May  3 12:19 feature_VGG16_data_val_171023.h5\r\n",
      "-rw-r--r-- 1 root   root     20 May 11 04:24 feature_VGG19_data_test_171023_class_indices.pkl\r\n",
      "-rw-r--r-- 1 root   root   222M May 11 04:24 feature_VGG19_data_test_171023.h5\r\n",
      "-rw-r--r-- 1 ubuntu ubuntu 631K May  6 17:05 feature_VGG19_data_train_00_171023_class_indices.pkl\r\n",
      "-rw-r--r-- 1 ubuntu ubuntu  99M May  6 17:05 feature_VGG19_data_train_00_171023.h5\r\n",
      "-rw-r--r-- 1 ubuntu ubuntu 634K May  6 17:30 feature_VGG19_data_train_01_171023_class_indices.pkl\r\n",
      "-rw-r--r-- 1 ubuntu ubuntu  99M May  6 17:30 feature_VGG19_data_train_01_171023.h5\r\n",
      "-rw-r--r-- 1 ubuntu ubuntu 634K May  6 18:01 feature_VGG19_data_train_02_171023_class_indices.pkl\r\n",
      "-rw-r--r-- 1 ubuntu ubuntu  99M May  6 18:01 feature_VGG19_data_train_02_171023.h5\r\n",
      "-rw-r--r-- 1 ubuntu ubuntu 631K May  6 18:33 feature_VGG19_data_train_03_171023_class_indices.pkl\r\n",
      "-rw-r--r-- 1 ubuntu ubuntu  99M May  6 18:33 feature_VGG19_data_train_03_171023.h5\r\n",
      "-rw-r--r-- 1 ubuntu ubuntu 634K May  6 19:06 feature_VGG19_data_train_04_171023_class_indices.pkl\r\n",
      "-rw-r--r-- 1 ubuntu ubuntu  99M May  6 19:06 feature_VGG19_data_train_04_171023.h5\r\n",
      "-rw-r--r-- 1 ubuntu ubuntu 632K May  6 19:37 feature_VGG19_data_train_05_171023_class_indices.pkl\r\n",
      "-rw-r--r-- 1 ubuntu ubuntu  99M May  6 19:37 feature_VGG19_data_train_05_171023.h5\r\n",
      "-rw-r--r-- 1 ubuntu ubuntu 630K May  6 20:09 feature_VGG19_data_train_06_171023_class_indices.pkl\r\n",
      "-rw-r--r-- 1 ubuntu ubuntu  99M May  6 20:09 feature_VGG19_data_train_06_171023.h5\r\n",
      "-rw-r--r-- 1 ubuntu ubuntu 632K May  6 20:41 feature_VGG19_data_train_07_171023_class_indices.pkl\r\n",
      "-rw-r--r-- 1 ubuntu ubuntu  99M May  6 20:41 feature_VGG19_data_train_07_171023.h5\r\n",
      "-rw-r--r-- 1 ubuntu ubuntu 634K May  6 21:13 feature_VGG19_data_train_08_171023_class_indices.pkl\r\n",
      "-rw-r--r-- 1 ubuntu ubuntu  99M May  6 21:13 feature_VGG19_data_train_08_171023.h5\r\n",
      "-rw-r--r-- 1 ubuntu ubuntu 635K May  6 21:43 feature_VGG19_data_train_09_171023_class_indices.pkl\r\n",
      "-rw-r--r-- 1 ubuntu ubuntu  99M May  6 21:43 feature_VGG19_data_train_09_171023.h5\r\n",
      "-rw-r--r-- 1 ubuntu ubuntu 633K May  6 22:13 feature_VGG19_data_train_10_171023_class_indices.pkl\r\n",
      "-rw-r--r-- 1 ubuntu ubuntu  99M May  6 22:13 feature_VGG19_data_train_10_171023.h5\r\n",
      "-rw-r--r-- 1 ubuntu ubuntu 632K May  6 22:46 feature_VGG19_data_train_11_171023_class_indices.pkl\r\n",
      "-rw-r--r-- 1 ubuntu ubuntu  99M May  6 22:46 feature_VGG19_data_train_11_171023.h5\r\n",
      "-rw-r--r-- 1 ubuntu ubuntu 633K May  6 23:18 feature_VGG19_data_train_12_171023_class_indices.pkl\r\n",
      "-rw-r--r-- 1 ubuntu ubuntu  99M May  6 23:18 feature_VGG19_data_train_12_171023.h5\r\n",
      "-rw-r--r-- 1 ubuntu ubuntu 635K May  6 23:50 feature_VGG19_data_train_13_171023_class_indices.pkl\r\n",
      "-rw-r--r-- 1 ubuntu ubuntu  99M May  6 23:50 feature_VGG19_data_train_13_171023.h5\r\n",
      "-rw-r--r-- 1 ubuntu ubuntu 632K May  7 00:21 feature_VGG19_data_train_14_171023_class_indices.pkl\r\n",
      "-rw-r--r-- 1 ubuntu ubuntu  99M May  7 00:21 feature_VGG19_data_train_14_171023.h5\r\n",
      "-rw-r--r-- 1 ubuntu ubuntu 635K May  7 00:51 feature_VGG19_data_train_15_171023_class_indices.pkl\r\n",
      "-rw-r--r-- 1 ubuntu ubuntu  99M May  7 00:51 feature_VGG19_data_train_15_171023.h5\r\n",
      "-rw-r--r-- 1 ubuntu ubuntu 632K May  7 01:22 feature_VGG19_data_train_16_171023_class_indices.pkl\r\n",
      "-rw-r--r-- 1 ubuntu ubuntu  99M May  7 01:22 feature_VGG19_data_train_16_171023.h5\r\n",
      "-rw-r--r-- 1 ubuntu ubuntu 632K May  7 01:54 feature_VGG19_data_train_17_171023_class_indices.pkl\r\n",
      "-rw-r--r-- 1 ubuntu ubuntu  99M May  7 01:54 feature_VGG19_data_train_17_171023.h5\r\n",
      "-rw-r--r-- 1 ubuntu ubuntu 634K May  7 02:26 feature_VGG19_data_train_18_171023_class_indices.pkl\r\n",
      "-rw-r--r-- 1 ubuntu ubuntu  99M May  7 02:26 feature_VGG19_data_train_18_171023.h5\r\n",
      "-rw-r--r-- 1 ubuntu ubuntu 637K May  7 02:58 feature_VGG19_data_train_19_171023_class_indices.pkl\r\n",
      "-rw-r--r-- 1 ubuntu ubuntu  99M May  7 02:58 feature_VGG19_data_train_19_171023.h5\r\n",
      "-rw-r--r-- 1 ubuntu ubuntu 634K May  7 03:30 feature_VGG19_data_train_20_171023_class_indices.pkl\r\n",
      "-rw-r--r-- 1 ubuntu ubuntu  99M May  7 03:30 feature_VGG19_data_train_20_171023.h5\r\n",
      "-rw-r--r-- 1 ubuntu ubuntu 632K May  7 04:03 feature_VGG19_data_train_21_171023_class_indices.pkl\r\n",
      "-rw-r--r-- 1 ubuntu ubuntu  99M May  7 04:03 feature_VGG19_data_train_21_171023.h5\r\n",
      "-rw-r--r-- 1 ubuntu ubuntu 637K May  7 22:38 feature_VGG19_data_train_22_171023_class_indices.pkl\r\n",
      "-rw-r--r-- 1 ubuntu ubuntu  99M May  7 22:38 feature_VGG19_data_train_22_171023.h5\r\n",
      "-rw-r--r-- 1 ubuntu ubuntu 631K May  7 23:07 feature_VGG19_data_train_23_171023_class_indices.pkl\r\n",
      "-rw-r--r-- 1 ubuntu ubuntu  99M May  7 23:07 feature_VGG19_data_train_23_171023.h5\r\n",
      "-rw-r--r-- 1 ubuntu ubuntu 634K May  7 23:36 feature_VGG19_data_train_24_171023_class_indices.pkl\r\n",
      "-rw-r--r-- 1 ubuntu ubuntu  99M May  7 23:36 feature_VGG19_data_train_24_171023.h5\r\n",
      "-rw-r--r-- 1 ubuntu ubuntu 632K May  8 00:06 feature_VGG19_data_train_25_171023_class_indices.pkl\r\n",
      "-rw-r--r-- 1 ubuntu ubuntu  99M May  8 00:06 feature_VGG19_data_train_25_171023.h5\r\n",
      "-rw-r--r-- 1 ubuntu ubuntu 632K May  8 00:36 feature_VGG19_data_train_26_171023_class_indices.pkl\r\n",
      "-rw-r--r-- 1 ubuntu ubuntu  99M May  8 00:36 feature_VGG19_data_train_26_171023.h5\r\n",
      "-rw-r--r-- 1 ubuntu ubuntu 634K May  8 01:06 feature_VGG19_data_train_27_171023_class_indices.pkl\r\n",
      "-rw-r--r-- 1 ubuntu ubuntu  99M May  8 01:06 feature_VGG19_data_train_27_171023.h5\r\n",
      "-rw-r--r-- 1 ubuntu ubuntu 635K May  8 01:36 feature_VGG19_data_train_28_171023_class_indices.pkl\r\n",
      "-rw-r--r-- 1 ubuntu ubuntu  99M May  8 01:36 feature_VGG19_data_train_28_171023.h5\r\n",
      "-rw-r--r-- 1 ubuntu ubuntu 634K May  8 02:06 feature_VGG19_data_train_29_171023_class_indices.pkl\r\n",
      "-rw-r--r-- 1 ubuntu ubuntu  99M May  8 02:06 feature_VGG19_data_train_29_171023.h5\r\n",
      "-rw-r--r-- 1 ubuntu ubuntu 632K May  8 02:35 feature_VGG19_data_train_30_171023_class_indices.pkl\r\n",
      "-rw-r--r-- 1 ubuntu ubuntu  99M May  8 02:35 feature_VGG19_data_train_30_171023.h5\r\n",
      "-rw-r--r-- 1 ubuntu ubuntu 631K May  8 03:05 feature_VGG19_data_train_31_171023_class_indices.pkl\r\n",
      "-rw-r--r-- 1 ubuntu ubuntu  99M May  8 03:05 feature_VGG19_data_train_31_171023.h5\r\n",
      "-rw-r--r-- 1 ubuntu ubuntu 631K May  8 03:35 feature_VGG19_data_train_32_171023_class_indices.pkl\r\n",
      "-rw-r--r-- 1 ubuntu ubuntu  99M May  8 03:35 feature_VGG19_data_train_32_171023.h5\r\n",
      "-rw-r--r-- 1 ubuntu ubuntu 633K May  8 04:07 feature_VGG19_data_train_33_171023_class_indices.pkl\r\n",
      "-rw-r--r-- 1 ubuntu ubuntu  99M May  8 04:07 feature_VGG19_data_train_33_171023.h5\r\n",
      "-rw-r--r-- 1 ubuntu ubuntu 637K May  8 04:37 feature_VGG19_data_train_34_171023_class_indices.pkl\r\n",
      "-rw-r--r-- 1 ubuntu ubuntu  99M May  8 04:37 feature_VGG19_data_train_34_171023.h5\r\n",
      "-rw-r--r-- 1 ubuntu ubuntu 635K May  8 05:07 feature_VGG19_data_train_35_171023_class_indices.pkl\r\n",
      "-rw-r--r-- 1 ubuntu ubuntu  99M May  8 05:07 feature_VGG19_data_train_35_171023.h5\r\n",
      "-rw-r--r-- 1 ubuntu ubuntu 631K May  8 05:39 feature_VGG19_data_train_36_171023_class_indices.pkl\r\n",
      "-rw-r--r-- 1 ubuntu ubuntu  99M May  8 05:39 feature_VGG19_data_train_36_171023.h5\r\n",
      "-rw-r--r-- 1 ubuntu ubuntu 634K May  8 06:09 feature_VGG19_data_train_37_171023_class_indices.pkl\r\n",
      "-rw-r--r-- 1 ubuntu ubuntu  99M May  8 06:09 feature_VGG19_data_train_37_171023.h5\r\n",
      "-rw-r--r-- 1 ubuntu ubuntu 632K May  8 06:39 feature_VGG19_data_train_38_171023_class_indices.pkl\r\n",
      "-rw-r--r-- 1 ubuntu ubuntu  99M May  8 06:39 feature_VGG19_data_train_38_171023.h5\r\n",
      "-rw-r--r-- 1 ubuntu ubuntu 632K May  8 07:09 feature_VGG19_data_train_39_171023_class_indices.pkl\r\n",
      "-rw-r--r-- 1 ubuntu ubuntu  99M May  8 07:09 feature_VGG19_data_train_39_171023.h5\r\n",
      "-rw-r--r-- 1 ubuntu ubuntu 634K May  8 07:39 feature_VGG19_data_train_40_171023_class_indices.pkl\r\n",
      "-rw-r--r-- 1 ubuntu ubuntu  99M May  8 07:39 feature_VGG19_data_train_40_171023.h5\r\n",
      "-rw-r--r-- 1 ubuntu ubuntu 631K May  8 08:10 feature_VGG19_data_train_41_171023_class_indices.pkl\r\n",
      "-rw-r--r-- 1 ubuntu ubuntu  99M May  8 08:10 feature_VGG19_data_train_41_171023.h5\r\n",
      "-rw-r--r-- 1 ubuntu ubuntu 634K May  8 08:40 feature_VGG19_data_train_42_171023_class_indices.pkl\r\n",
      "-rw-r--r-- 1 ubuntu ubuntu  99M May  8 08:40 feature_VGG19_data_train_42_171023.h5\r\n",
      "-rw-r--r-- 1 ubuntu ubuntu 634K May  8 09:09 feature_VGG19_data_train_43_171023_class_indices.pkl\r\n",
      "-rw-r--r-- 1 ubuntu ubuntu  99M May  8 09:09 feature_VGG19_data_train_43_171023.h5\r\n",
      "-rw-r--r-- 1 ubuntu ubuntu 635K May  8 09:41 feature_VGG19_data_train_44_171023_class_indices.pkl\r\n",
      "-rw-r--r-- 1 ubuntu ubuntu  99M May  8 09:41 feature_VGG19_data_train_44_171023.h5\r\n",
      "-rw-r--r-- 1 ubuntu ubuntu 632K May  8 10:10 feature_VGG19_data_train_45_171023_class_indices.pkl\r\n",
      "-rw-r--r-- 1 ubuntu ubuntu  99M May  8 10:10 feature_VGG19_data_train_45_171023.h5\r\n",
      "-rw-r--r-- 1 ubuntu ubuntu 635K May  8 10:41 feature_VGG19_data_train_46_171023_class_indices.pkl\r\n",
      "-rw-r--r-- 1 ubuntu ubuntu  99M May  8 10:41 feature_VGG19_data_train_46_171023.h5\r\n",
      "-rw-r--r-- 1 ubuntu ubuntu 632K May  8 11:12 feature_VGG19_data_train_47_171023_class_indices.pkl\r\n",
      "-rw-r--r-- 1 ubuntu ubuntu  99M May  8 11:12 feature_VGG19_data_train_47_171023.h5\r\n",
      "-rw-r--r-- 1 ubuntu ubuntu 631K May  8 11:42 feature_VGG19_data_train_48_171023_class_indices.pkl\r\n",
      "-rw-r--r-- 1 ubuntu ubuntu  99M May  8 11:42 feature_VGG19_data_train_48_171023.h5\r\n",
      "-rw-r--r-- 1 ubuntu ubuntu 633K May  8 12:13 feature_VGG19_data_train_49_171023_class_indices.pkl\r\n",
      "-rw-r--r-- 1 ubuntu ubuntu  99M May  8 12:13 feature_VGG19_data_train_49_171023.h5\r\n",
      "-rw-r--r-- 1 ubuntu ubuntu 634K May  5 11:49 feature_VGG19_data_train_50_171023_class_indices.pkl\r\n",
      "-rw-r--r-- 1 ubuntu ubuntu  98M May  5 11:49 feature_VGG19_data_train_50_171023.h5\r\n",
      "-rw-r--r-- 1 ubuntu ubuntu 632K May  5 12:02 feature_VGG19_data_train_51_171023_class_indices.pkl\r\n",
      "-rw-r--r-- 1 ubuntu ubuntu  98M May  5 12:02 feature_VGG19_data_train_51_171023.h5\r\n",
      "-rw-r--r-- 1 ubuntu ubuntu 635K May  5 12:15 feature_VGG19_data_train_52_171023_class_indices.pkl\r\n",
      "-rw-r--r-- 1 ubuntu ubuntu  98M May  5 12:15 feature_VGG19_data_train_52_171023.h5\r\n",
      "-rw-r--r-- 1 ubuntu ubuntu 635K May  5 12:27 feature_VGG19_data_train_53_171023_class_indices.pkl\r\n",
      "-rw-r--r-- 1 ubuntu ubuntu  98M May  5 12:27 feature_VGG19_data_train_53_171023.h5\r\n",
      "-rw-r--r-- 1 ubuntu ubuntu 630K May  5 12:40 feature_VGG19_data_train_54_171023_class_indices.pkl\r\n",
      "-rw-r--r-- 1 ubuntu ubuntu  98M May  5 12:40 feature_VGG19_data_train_54_171023.h5\r\n",
      "-rw-r--r-- 1 ubuntu ubuntu 632K May  5 12:53 feature_VGG19_data_train_55_171023_class_indices.pkl\r\n",
      "-rw-r--r-- 1 ubuntu ubuntu  98M May  5 12:53 feature_VGG19_data_train_55_171023.h5\r\n",
      "-rw-r--r-- 1 ubuntu ubuntu 631K May  5 13:06 feature_VGG19_data_train_56_171023_class_indices.pkl\r\n",
      "-rw-r--r-- 1 ubuntu ubuntu  98M May  5 13:06 feature_VGG19_data_train_56_171023.h5\r\n",
      "-rw-r--r-- 1 ubuntu ubuntu 635K May  5 13:18 feature_VGG19_data_train_57_171023_class_indices.pkl\r\n",
      "-rw-r--r-- 1 ubuntu ubuntu  98M May  5 13:18 feature_VGG19_data_train_57_171023.h5\r\n",
      "-rw-r--r-- 1 ubuntu ubuntu 631K May  5 13:31 feature_VGG19_data_train_58_171023_class_indices.pkl\r\n",
      "-rw-r--r-- 1 ubuntu ubuntu  98M May  5 13:31 feature_VGG19_data_train_58_171023.h5\r\n",
      "-rw-r--r-- 1 ubuntu ubuntu 635K May  5 13:44 feature_VGG19_data_train_59_171023_class_indices.pkl\r\n",
      "-rw-r--r-- 1 ubuntu ubuntu  98M May  5 13:44 feature_VGG19_data_train_59_171023.h5\r\n",
      "-rw-r--r-- 1 ubuntu ubuntu 634K May  5 13:57 feature_VGG19_data_train_60_171023_class_indices.pkl\r\n",
      "-rw-r--r-- 1 ubuntu ubuntu  98M May  5 13:57 feature_VGG19_data_train_60_171023.h5\r\n",
      "-rw-r--r-- 1 ubuntu ubuntu 636K May  5 14:10 feature_VGG19_data_train_61_171023_class_indices.pkl\r\n",
      "-rw-r--r-- 1 ubuntu ubuntu  98M May  5 14:10 feature_VGG19_data_train_61_171023.h5\r\n",
      "-rw-r--r-- 1 ubuntu ubuntu 633K May  5 14:23 feature_VGG19_data_train_62_171023_class_indices.pkl\r\n",
      "-rw-r--r-- 1 ubuntu ubuntu  98M May  5 14:23 feature_VGG19_data_train_62_171023.h5\r\n",
      "-rw-r--r-- 1 ubuntu ubuntu 634K May  5 14:36 feature_VGG19_data_train_63_171023_class_indices.pkl\r\n",
      "-rw-r--r-- 1 ubuntu ubuntu  98M May  5 14:36 feature_VGG19_data_train_63_171023.h5\r\n",
      "-rw-r--r-- 1 ubuntu ubuntu 634K May  5 14:49 feature_VGG19_data_train_64_171023_class_indices.pkl\r\n",
      "-rw-r--r-- 1 ubuntu ubuntu  98M May  5 14:49 feature_VGG19_data_train_64_171023.h5\r\n",
      "-rw-r--r-- 1 ubuntu ubuntu 633K May  5 15:02 feature_VGG19_data_train_65_171023_class_indices.pkl\r\n",
      "-rw-r--r-- 1 ubuntu ubuntu  98M May  5 15:02 feature_VGG19_data_train_65_171023.h5\r\n",
      "-rw-r--r-- 1 ubuntu ubuntu 632K May  5 15:15 feature_VGG19_data_train_66_171023_class_indices.pkl\r\n",
      "-rw-r--r-- 1 ubuntu ubuntu  98M May  5 15:15 feature_VGG19_data_train_66_171023.h5\r\n",
      "-rw-r--r-- 1 ubuntu ubuntu 638K May  5 15:28 feature_VGG19_data_train_67_171023_class_indices.pkl\r\n",
      "-rw-r--r-- 1 ubuntu ubuntu  98M May  5 15:28 feature_VGG19_data_train_67_171023.h5\r\n",
      "-rw-r--r-- 1 ubuntu ubuntu 631K May  5 15:41 feature_VGG19_data_train_68_171023_class_indices.pkl\r\n",
      "-rw-r--r-- 1 ubuntu ubuntu  98M May  5 15:41 feature_VGG19_data_train_68_171023.h5\r\n",
      "-rw-r--r-- 1 ubuntu ubuntu 632K May  5 15:54 feature_VGG19_data_train_69_171023_class_indices.pkl\r\n",
      "-rw-r--r-- 1 ubuntu ubuntu  98M May  5 15:54 feature_VGG19_data_train_69_171023.h5\r\n",
      "-rw-r--r-- 1 ubuntu ubuntu 634K May  5 16:07 feature_VGG19_data_train_70_171023_class_indices.pkl\r\n",
      "-rw-r--r-- 1 ubuntu ubuntu  98M May  5 16:07 feature_VGG19_data_train_70_171023.h5\r\n",
      "-rw-r--r-- 1 ubuntu ubuntu 630K May  5 16:20 feature_VGG19_data_train_71_171023_class_indices.pkl\r\n",
      "-rw-r--r-- 1 ubuntu ubuntu  98M May  5 16:20 feature_VGG19_data_train_71_171023.h5\r\n",
      "-rw-r--r-- 1 ubuntu ubuntu 634K May  5 16:33 feature_VGG19_data_train_72_171023_class_indices.pkl\r\n",
      "-rw-r--r-- 1 ubuntu ubuntu  98M May  5 16:33 feature_VGG19_data_train_72_171023.h5\r\n",
      "-rw-r--r-- 1 ubuntu ubuntu 633K May  5 16:47 feature_VGG19_data_train_73_171023_class_indices.pkl\r\n",
      "-rw-r--r-- 1 ubuntu ubuntu  98M May  5 16:47 feature_VGG19_data_train_73_171023.h5\r\n",
      "-rw-r--r-- 1 ubuntu ubuntu 633K May  5 16:59 feature_VGG19_data_train_74_171023_class_indices.pkl\r\n",
      "-rw-r--r-- 1 ubuntu ubuntu  98M May  5 16:59 feature_VGG19_data_train_74_171023.h5\r\n",
      "-rw-r--r-- 1 ubuntu ubuntu 634K May  5 17:12 feature_VGG19_data_train_75_171023_class_indices.pkl\r\n",
      "-rw-r--r-- 1 ubuntu ubuntu  98M May  5 17:12 feature_VGG19_data_train_75_171023.h5\r\n",
      "-rw-r--r-- 1 ubuntu ubuntu 633K May  5 17:25 feature_VGG19_data_train_76_171023_class_indices.pkl\r\n",
      "-rw-r--r-- 1 ubuntu ubuntu  98M May  5 17:25 feature_VGG19_data_train_76_171023.h5\r\n",
      "-rw-r--r-- 1 ubuntu ubuntu 634K May  5 17:38 feature_VGG19_data_train_77_171023_class_indices.pkl\r\n",
      "-rw-r--r-- 1 ubuntu ubuntu  98M May  5 17:38 feature_VGG19_data_train_77_171023.h5\r\n",
      "-rw-r--r-- 1 ubuntu ubuntu 381K May  5 17:46 feature_VGG19_data_train_78_171023_class_indices.pkl\r\n",
      "-rw-r--r-- 1 ubuntu ubuntu  52M May  5 17:46 feature_VGG19_data_train_78_171023.h5\r\n",
      "-rw-r--r-- 1 ubuntu ubuntu 633K May  7 16:35 feature_VGG19_data_val_00_171023_class_indices.pkl\r\n",
      "-rw-r--r-- 1 ubuntu ubuntu  99M May  7 16:35 feature_VGG19_data_val_00_171023.h5\r\n",
      "-rw-r--r-- 1 ubuntu ubuntu 634K May  7 17:06 feature_VGG19_data_val_01_171023_class_indices.pkl\r\n",
      "-rw-r--r-- 1 ubuntu ubuntu  99M May  7 17:06 feature_VGG19_data_val_01_171023.h5\r\n",
      "-rw-r--r-- 1 ubuntu ubuntu 635K May  7 17:37 feature_VGG19_data_val_02_171023_class_indices.pkl\r\n",
      "-rw-r--r-- 1 ubuntu ubuntu  99M May  7 17:37 feature_VGG19_data_val_02_171023.h5\r\n",
      "-rw-r--r-- 1 ubuntu ubuntu 633K May  7 18:09 feature_VGG19_data_val_03_171023_class_indices.pkl\r\n",
      "-rw-r--r-- 1 ubuntu ubuntu  99M May  7 18:09 feature_VGG19_data_val_03_171023.h5\r\n",
      "-rw-r--r-- 1 ubuntu ubuntu 113K May  7 18:13 feature_VGG19_data_val_04_171023_class_indices.pkl\r\n",
      "-rw-r--r-- 1 ubuntu ubuntu  14M May  7 18:13 feature_VGG19_data_val_04_171023.h5\r\n",
      "-rw-r--r-- 1 ubuntu ubuntu 405M May  3 16:25 feature_VGG19_data_val_171023.h5\r\n",
      "-rw-r--r-- 1 root   root      6 May 10 13:53 feature_VGG19_test_image_171023_class_indices.pkl\r\n",
      "-rw-r--r-- 1 root   root   1.7K May 10 13:53 feature_VGG19_test_image_171023.h5\r\n"
     ]
    }
   ],
   "source": [
    "!ls ./feature -hl"
   ]
  },
  {
   "cell_type": "code",
   "execution_count": 10,
   "metadata": {},
   "outputs": [],
   "source": [
    "def load_feature(data_set_name, model_name, date_str, feature_amount):\n",
    "#     data_set_name = 'train'\n",
    "#     model_name = 'VGG19'\n",
    "#     date_str = '171023'\n",
    "    x_data_arr = []\n",
    "    classes_data_arr = []\n",
    "    index_data_arr = []\n",
    "    for i in range(feature_amount):\n",
    "        folder_name = 'data_%s_%02d' % (data_set_name, i)\n",
    "        class_indices_file = os.path.join(cwd, 'feature', 'feature_{0}_{1}_{2}_class_indices.pkl'.format(model_name, folder_name, date_str))\n",
    "        h5py_file_name = os.path.join(cwd, 'feature', 'feature_{0}_{1}_{2}.h5'.format(model_name, folder_name, date_str))\n",
    "        if not os.path.exists(class_indices_file):\n",
    "            print('File not exists', class_indices_file)\n",
    "            continue\n",
    "        if not os.path.exists(h5py_file_name):\n",
    "            print('File not exists', h5py_file_name)\n",
    "            continue\n",
    "        print(class_indices_file)\n",
    "        print(h5py_file_name)\n",
    "        class_indices_data = pickle_load(class_indices_file)\n",
    "        print(len(class_indices_data))\n",
    "\n",
    "        with h5py.File(h5py_file_name, 'r') as h:\n",
    "            item_x_data = np.array(h['x_data_%s_%02d' % (data_set_name, i)])\n",
    "            item_classes_data = np.array(h['classes_data_%s_%02d' % (data_set_name, i)])\n",
    "            item_index_data = np.array(h['index_data_%s_%02d' % (data_set_name, i)])\n",
    "        print(item_x_data.shape)\n",
    "        x_data_arr.append(item_x_data)\n",
    "        item_y_data = get_whole_classes_label(class_indices_data, item_classes_data)\n",
    "        print(item_y_data.shape, item_y_data[:10])\n",
    "        classes_data_arr.append(item_y_data)\n",
    "        index_data_arr.append(item_index_data)\n",
    "    x_data = np.concatenate(x_data_arr, axis=0)\n",
    "    y_data = np.concatenate(classes_data_arr, axis=0)\n",
    "    idx_data = np.concatenate(index_data_arr, axis=0)\n",
    "    print('*' * 60)\n",
    "    print(x_data.shape)\n",
    "    print(y_data.shape)\n",
    "    print(idx_data.shape)\n",
    "    return x_data, y_data, idx_data\n"
   ]
  },
  {
   "cell_type": "code",
   "execution_count": 11,
   "metadata": {},
   "outputs": [
    {
     "name": "stdout",
     "output_type": "stream",
     "text": [
      "/data/landmark-recognition-2019/feature/feature_VGG19_data_train_00_171023_class_indices.pkl\n",
      "/data/landmark-recognition-2019/feature/feature_VGG19_data_train_00_171023.h5\n",
      "34008\n",
      "(50000, 512)\n",
      "(50000,)\n",
      "(50000,) [ 0.  3. 24. 25. 27. 27. 27. 27. 48. 52.]\n",
      "/data/landmark-recognition-2019/feature/feature_VGG19_data_train_01_171023_class_indices.pkl\n",
      "/data/landmark-recognition-2019/feature/feature_VGG19_data_train_01_171023.h5\n",
      "34214\n",
      "(50000, 512)\n",
      "(50000,)\n",
      "(50000,) [ 1. 12. 27. 27. 27. 27. 27. 27. 27. 37.]\n",
      "/data/landmark-recognition-2019/feature/feature_VGG19_data_train_02_171023_class_indices.pkl\n",
      "/data/landmark-recognition-2019/feature/feature_VGG19_data_train_02_171023.h5\n",
      "34203\n",
      "(50000, 512)\n",
      "(50000,)\n",
      "(50000,) [12. 17. 18. 27. 27. 27. 27. 27. 30. 35.]\n",
      "/data/landmark-recognition-2019/feature/feature_VGG19_data_train_03_171023_class_indices.pkl\n",
      "/data/landmark-recognition-2019/feature/feature_VGG19_data_train_03_171023.h5\n",
      "34051\n",
      "(50000, 512)\n",
      "(50000,)\n",
      "(50000,) [ 1.  5.  9. 10. 12. 27. 27. 27. 27. 27.]\n",
      "/data/landmark-recognition-2019/feature/feature_VGG19_data_train_04_171023_class_indices.pkl\n",
      "/data/landmark-recognition-2019/feature/feature_VGG19_data_train_04_171023.h5\n",
      "34181\n",
      "(50000, 512)\n",
      "(50000,)\n",
      "(50000,) [ 9. 27. 27. 27. 30. 48. 50. 66. 76. 79.]\n",
      "/data/landmark-recognition-2019/feature/feature_VGG19_data_train_05_171023_class_indices.pkl\n",
      "/data/landmark-recognition-2019/feature/feature_VGG19_data_train_05_171023.h5\n",
      "34080\n",
      "(50000, 512)\n",
      "(50000,)\n",
      "(50000,) [11. 12. 23. 27. 27. 27. 27. 27. 27. 27.]\n",
      "/data/landmark-recognition-2019/feature/feature_VGG19_data_train_06_171023_class_indices.pkl\n",
      "/data/landmark-recognition-2019/feature/feature_VGG19_data_train_06_171023.h5\n",
      "33985\n",
      "(50000, 512)\n",
      "(50000,)\n",
      "(50000,) [ 0.  0.  1.  9. 22. 27. 27. 27. 27. 27.]\n",
      "/data/landmark-recognition-2019/feature/feature_VGG19_data_train_07_171023_class_indices.pkl\n",
      "/data/landmark-recognition-2019/feature/feature_VGG19_data_train_07_171023.h5\n",
      "34108\n",
      "(50000, 512)\n",
      "(50000,)\n",
      "(50000,) [ 0.  3. 12. 22. 23. 24. 27. 27. 27. 27.]\n",
      "/data/landmark-recognition-2019/feature/feature_VGG19_data_train_08_171023_class_indices.pkl\n",
      "/data/landmark-recognition-2019/feature/feature_VGG19_data_train_08_171023.h5\n",
      "34194\n",
      "(50000, 512)\n",
      "(50000,)\n",
      "(50000,) [ 1. 11. 15. 20. 20. 23. 27. 27. 27. 27.]\n",
      "/data/landmark-recognition-2019/feature/feature_VGG19_data_train_09_171023_class_indices.pkl\n",
      "/data/landmark-recognition-2019/feature/feature_VGG19_data_train_09_171023.h5\n",
      "34235\n",
      "(50000, 512)\n",
      "(50000,)\n",
      "(50000,) [ 9. 10. 27. 27. 27. 27. 27. 27. 27. 36.]\n",
      "/data/landmark-recognition-2019/feature/feature_VGG19_data_train_10_171023_class_indices.pkl\n",
      "/data/landmark-recognition-2019/feature/feature_VGG19_data_train_10_171023.h5\n",
      "34159\n",
      "(50000, 512)\n",
      "(50000,)\n",
      "(50000,) [11. 11. 22. 27. 27. 27. 27. 27. 27. 27.]\n",
      "/data/landmark-recognition-2019/feature/feature_VGG19_data_train_11_171023_class_indices.pkl\n",
      "/data/landmark-recognition-2019/feature/feature_VGG19_data_train_11_171023.h5\n",
      "34103\n",
      "(50000, 512)\n",
      "(50000,)\n",
      "(50000,) [ 0. 24. 27. 27. 27. 27. 27. 27. 27. 43.]\n",
      "/data/landmark-recognition-2019/feature/feature_VGG19_data_train_12_171023_class_indices.pkl\n",
      "/data/landmark-recognition-2019/feature/feature_VGG19_data_train_12_171023.h5\n",
      "34125\n",
      "(50000, 512)\n",
      "(50000,)\n",
      "(50000,) [ 7. 10. 18. 22. 23. 26. 27. 27. 27. 27.]\n",
      "/data/landmark-recognition-2019/feature/feature_VGG19_data_train_13_171023_class_indices.pkl\n",
      "/data/landmark-recognition-2019/feature/feature_VGG19_data_train_13_171023.h5\n",
      "34256\n",
      "(50000, 512)\n",
      "(50000,)\n",
      "(50000,) [10. 12. 12. 22. 24. 27. 27. 27. 27. 32.]\n",
      "/data/landmark-recognition-2019/feature/feature_VGG19_data_train_14_171023_class_indices.pkl\n",
      "/data/landmark-recognition-2019/feature/feature_VGG19_data_train_14_171023.h5\n",
      "34100\n",
      "(50000, 512)\n",
      "(50000,)\n",
      "(50000,) [ 0.  1.  3.  5. 10. 11. 20. 23. 24. 26.]\n",
      "/data/landmark-recognition-2019/feature/feature_VGG19_data_train_15_171023_class_indices.pkl\n",
      "/data/landmark-recognition-2019/feature/feature_VGG19_data_train_15_171023.h5\n",
      "34262\n",
      "(50000, 512)\n",
      "(50000,)\n",
      "(50000,) [ 1.  9. 10. 23. 27. 27. 27. 27. 33. 43.]\n",
      "/data/landmark-recognition-2019/feature/feature_VGG19_data_train_16_171023_class_indices.pkl\n",
      "/data/landmark-recognition-2019/feature/feature_VGG19_data_train_16_171023.h5\n",
      "34107\n",
      "(50000, 512)\n",
      "(50000,)\n",
      "(50000,) [ 1.  9. 10. 23. 25. 26. 27. 27. 27. 27.]\n",
      "/data/landmark-recognition-2019/feature/feature_VGG19_data_train_17_171023_class_indices.pkl\n",
      "/data/landmark-recognition-2019/feature/feature_VGG19_data_train_17_171023.h5\n",
      "34109\n",
      "(50000, 512)\n",
      "(50000,)\n",
      "(50000,) [20. 27. 27. 27. 27. 27. 27. 27. 27. 32.]\n",
      "/data/landmark-recognition-2019/feature/feature_VGG19_data_train_18_171023_class_indices.pkl\n",
      "/data/landmark-recognition-2019/feature/feature_VGG19_data_train_18_171023.h5\n",
      "34190\n",
      "(50000, 512)\n",
      "(50000,)\n",
      "(50000,) [ 6. 12. 27. 27. 27. 27. 27. 27. 27. 27.]\n",
      "/data/landmark-recognition-2019/feature/feature_VGG19_data_train_19_171023_class_indices.pkl\n",
      "/data/landmark-recognition-2019/feature/feature_VGG19_data_train_19_171023.h5\n",
      "34332\n",
      "(50000, 512)\n",
      "(50000,)\n",
      "(50000,) [ 0.  1.  3.  9. 12. 12. 23. 27. 27. 27.]\n",
      "************************************************************\n",
      "(1000000, 512)\n",
      "(1000000,)\n",
      "(1000000,)\n"
     ]
    }
   ],
   "source": [
    "x_train, y_train, idx_train = load_feature('train', 'VGG19', '171023', 20)"
   ]
  },
  {
   "cell_type": "code",
   "execution_count": 12,
   "metadata": {},
   "outputs": [
    {
     "name": "stdout",
     "output_type": "stream",
     "text": [
      "/data/landmark-recognition-2019/feature/feature_VGG19_data_val_00_171023_class_indices.pkl\n",
      "/data/landmark-recognition-2019/feature/feature_VGG19_data_val_00_171023.h5\n",
      "34160\n",
      "(50000, 512)\n",
      "(50000,)\n",
      "(50000,) [ 1. 12. 20. 27. 27. 27. 27. 27. 27. 32.]\n",
      "/data/landmark-recognition-2019/feature/feature_VGG19_data_val_01_171023_class_indices.pkl\n",
      "/data/landmark-recognition-2019/feature/feature_VGG19_data_val_01_171023.h5\n",
      "34196\n",
      "(50000, 512)\n",
      "(50000,)\n",
      "(50000,) [ 9. 11. 24. 27. 27. 27. 27. 27. 27. 27.]\n",
      "/data/landmark-recognition-2019/feature/feature_VGG19_data_val_02_171023_class_indices.pkl\n",
      "/data/landmark-recognition-2019/feature/feature_VGG19_data_val_02_171023.h5\n",
      "34264\n",
      "(50000, 512)\n",
      "(50000,)\n",
      "(50000,) [ 1. 10. 11. 12. 27. 27. 27. 27. 27. 27.]\n",
      "/data/landmark-recognition-2019/feature/feature_VGG19_data_val_03_171023_class_indices.pkl\n",
      "/data/landmark-recognition-2019/feature/feature_VGG19_data_val_03_171023.h5\n",
      "34155\n",
      "(50000, 512)\n",
      "(50000,)\n",
      "(50000,) [ 1.  2. 10. 11. 13. 24. 27. 27. 27. 27.]\n",
      "************************************************************\n",
      "(200000, 512)\n",
      "(200000,)\n",
      "(200000,)\n"
     ]
    }
   ],
   "source": [
    "x_val, y_val, idx_val = load_feature('val', 'VGG19', '171023', 4)"
   ]
  },
  {
   "cell_type": "markdown",
   "metadata": {},
   "source": [
    "## Load model"
   ]
  },
  {
   "cell_type": "code",
   "execution_count": 13,
   "metadata": {},
   "outputs": [
    {
     "name": "stdout",
     "output_type": "stream",
     "text": [
      "/data/landmark-recognition-2019/model/Google-LandMark-Rec2019_3-Image-Similar-FCNN-Binary_20190511-093300_8406.h5\n",
      "WARNING:tensorflow:From /home/ubuntu/anaconda3/envs/tensorflow_p36/lib/python3.6/site-packages/tensorflow/python/framework/op_def_library.py:263: colocate_with (from tensorflow.python.framework.ops) is deprecated and will be removed in a future version.\n",
      "Instructions for updating:\n",
      "Colocations handled automatically by placer.\n",
      "WARNING:tensorflow:From /home/ubuntu/anaconda3/envs/tensorflow_p36/lib/python3.6/site-packages/tensorflow/python/ops/math_ops.py:3066: to_int32 (from tensorflow.python.ops.math_ops) is deprecated and will be removed in a future version.\n",
      "Instructions for updating:\n",
      "Use tf.cast instead.\n"
     ]
    }
   ],
   "source": [
    "model_file = os.path.join(model_folder, '%s.h5' % model_name)\n",
    "print(model_file)\n",
    "model = load_model(model_file)"
   ]
  },
  {
   "cell_type": "code",
   "execution_count": 14,
   "metadata": {},
   "outputs": [
    {
     "name": "stdout",
     "output_type": "stream",
     "text": [
      "__________________________________________________________________________________________________\n",
      "Layer (type)                    Output Shape         Param #     Connected to                     \n",
      "==================================================================================================\n",
      "main_input (InputLayer)         (None, 512)          0                                            \n",
      "__________________________________________________________________________________________________\n",
      "library_input (InputLayer)      (None, 512)          0                                            \n",
      "__________________________________________________________________________________________________\n",
      "concatenate_1 (Concatenate)     (None, 1024)         0           main_input[0][0]                 \n",
      "                                                                 library_input[0][0]              \n",
      "__________________________________________________________________________________________________\n",
      "dense_1 (Dense)                 (None, 1024)         1049600     concatenate_1[0][0]              \n",
      "__________________________________________________________________________________________________\n",
      "reshape_1 (Reshape)             (None, 1024, 1)      0           dense_1[0][0]                    \n",
      "__________________________________________________________________________________________________\n",
      "batch_normalization_1 (BatchNor (None, 1024, 1)      4           reshape_1[0][0]                  \n",
      "__________________________________________________________________________________________________\n",
      "conv1d_1 (Conv1D)               (None, 1024, 2)      4           batch_normalization_1[0][0]      \n",
      "__________________________________________________________________________________________________\n",
      "conv1d_2 (Conv1D)               (None, 1024, 4)      12          conv1d_1[0][0]                   \n",
      "__________________________________________________________________________________________________\n",
      "conv1d_3 (Conv1D)               (None, 1024, 8)      40          conv1d_2[0][0]                   \n",
      "__________________________________________________________________________________________________\n",
      "batch_normalization_2 (BatchNor (None, 1024, 8)      32          conv1d_3[0][0]                   \n",
      "__________________________________________________________________________________________________\n",
      "conv1d_4 (Conv1D)               (None, 1024, 8)      72          batch_normalization_2[0][0]      \n",
      "__________________________________________________________________________________________________\n",
      "conv1d_5 (Conv1D)               (None, 1024, 4)      36          conv1d_4[0][0]                   \n",
      "__________________________________________________________________________________________________\n",
      "conv1d_6 (Conv1D)               (None, 1024, 2)      10          conv1d_5[0][0]                   \n",
      "__________________________________________________________________________________________________\n",
      "batch_normalization_3 (BatchNor (None, 1024, 2)      8           conv1d_6[0][0]                   \n",
      "__________________________________________________________________________________________________\n",
      "flatten_1 (Flatten)             (None, 2048)         0           batch_normalization_3[0][0]      \n",
      "__________________________________________________________________________________________________\n",
      "dense_2 (Dense)                 (None, 1024)         2098176     flatten_1[0][0]                  \n",
      "__________________________________________________________________________________________________\n",
      "dense_3 (Dense)                 (None, 1024)         1049600     dense_2[0][0]                    \n",
      "__________________________________________________________________________________________________\n",
      "batch_normalization_4 (BatchNor (None, 1024)         4096        dense_3[0][0]                    \n",
      "__________________________________________________________________________________________________\n",
      "dense_4 (Dense)                 (None, 1024)         1049600     batch_normalization_4[0][0]      \n",
      "__________________________________________________________________________________________________\n",
      "dense_5 (Dense)                 (None, 1)            1025        dense_4[0][0]                    \n",
      "==================================================================================================\n",
      "Total params: 5,252,315\n",
      "Trainable params: 5,250,245\n",
      "Non-trainable params: 2,070\n",
      "__________________________________________________________________________________________________\n"
     ]
    }
   ],
   "source": [
    "model.summary()"
   ]
  },
  {
   "cell_type": "markdown",
   "metadata": {},
   "source": [
    "## Predict"
   ]
  },
  {
   "cell_type": "markdown",
   "metadata": {},
   "source": [
    "### single item"
   ]
  },
  {
   "cell_type": "code",
   "execution_count": 15,
   "metadata": {},
   "outputs": [
    {
     "name": "stdout",
     "output_type": "stream",
     "text": [
      "0 0 --> 0 [175067, 174106, 106318, 113460, 73879, 137248, 194505, 199923, 110488, 0]\n",
      "CPU times: user 16 s, sys: 3.78 s, total: 19.8 s\n",
      "Wall time: 49.7 s\n"
     ]
    }
   ],
   "source": [
    "%%time\n",
    "idx = 0\n",
    "item_main_x = np.array([x_train[idx]]*x_train.shape[0])\n",
    "item_x_train = {\n",
    "    'main_input': item_main_x,\n",
    "    'library_input': x_train\n",
    "}\n",
    "y_proba = model.predict(item_x_train, batch_size=1024)\n",
    "print(int(y_train[idx]), np.argmax(y_proba), '-->', int(y_train[np.argmax(y_proba)]), [int(y_train[item[0]]) for item in np.argsort(y_proba, axis=0)[-10:]])"
   ]
  },
  {
   "cell_type": "markdown",
   "metadata": {},
   "source": [
    "## batch predict"
   ]
  },
  {
   "cell_type": "code",
   "execution_count": 47,
   "metadata": {},
   "outputs": [
    {
     "name": "stdout",
     "output_type": "stream",
     "text": [
      "(3000000, 512)\n",
      "CPU times: user 1.25 s, sys: 4.92 s, total: 6.17 s\n",
      "Wall time: 9.09 s\n"
     ]
    }
   ],
   "source": [
    "%%time\n",
    "batch_libary_x = np.tile(x_train, (3, 1))\n",
    "print(batch_libary_x.shape)"
   ]
  },
  {
   "cell_type": "code",
   "execution_count": 45,
   "metadata": {},
   "outputs": [
    {
     "name": "stdout",
     "output_type": "stream",
     "text": [
      "(3, 512)\n",
      "(1000000, 512)\n",
      "(3000000, 512)\n",
      "(3000000, 512)\n",
      "None\n"
     ]
    }
   ],
   "source": [
    "def get_batch_pred(batch_x_data, batch_libary_x, topn, batch_size=1024):\n",
    "    print(batch_x_data.shape)\n",
    "    print(libary_x.shape)\n",
    "# def get_single_pred(idx, main_x, libary_x, topn, batch_size=1024):\n",
    "    batch_main_x_arr = []\n",
    "    for item_x_data in batch_x_data:\n",
    "        expand_np = np.expand_dims(item_x_data, axis=0)\n",
    "        tile_np = np.tile(expand_np, (libary_x.shape[0], 1))\n",
    "        batch_main_x_arr.append(tile_np)\n",
    "    batch_main_x = np.concatenate(batch_main_x_arr, axis=0)\n",
    "    print(batch_main_x.shape)\n",
    "\n",
    "    item_x = {\n",
    "        'main_input': batch_main_x,\n",
    "        'library_input': batch_libary_x\n",
    "    }\n",
    "#     y_proba = model.predict(item_x, batch_size=batch_size)\n",
    "#     top1_pred = int(y_train[np.argmax(y_proba)])\n",
    "#     topn_pred_arr = [int(y_train[item[0]]) for item in np.argsort(y_proba, axis=0)[-topn:]]\n",
    "#     weighted_topn_pred_arr, class_score_arr = get_weight_topn(y_proba, topn, y_train)\n",
    "#     weighted_top1_pred = weighted_topn_pred_arr[-1]\n",
    "#     return top1_pred, topn_pred_arr, weighted_top1_pred, weighted_topn_pred_arr, class_score_arr\n",
    "\n",
    "idx = 0\n",
    "topn = 10\n",
    "# train\n",
    "print(get_batch_pred(x_train[:3], batch_libary_x, topn, batch_size=1024))\n",
    "# val\n",
    "# print(int(y_val[idx]), get_single_pred(idx, x_val, x_train, topn, batch_size=1024))"
   ]
  },
  {
   "cell_type": "code",
   "execution_count": 43,
   "metadata": {},
   "outputs": [
    {
     "data": {
      "text/plain": [
       "(1, 512)"
      ]
     },
     "execution_count": 43,
     "metadata": {},
     "output_type": "execute_result"
    }
   ],
   "source": [
    "np.expand_dims(x_train[0], axis=0).shape"
   ]
  },
  {
   "cell_type": "code",
   "execution_count": 25,
   "metadata": {},
   "outputs": [
    {
     "name": "stdout",
     "output_type": "stream",
     "text": [
      "(20000, 512)\n"
     ]
    }
   ],
   "source": [
    "a = np.repeat(x_train[:2], 10000, axis=0)\n",
    "print(a.shape)"
   ]
  },
  {
   "cell_type": "code",
   "execution_count": 33,
   "metadata": {},
   "outputs": [],
   "source": [
    "np.tile?"
   ]
  },
  {
   "cell_type": "code",
   "execution_count": 38,
   "metadata": {},
   "outputs": [
    {
     "name": "stdout",
     "output_type": "stream",
     "text": [
      "(3, 2)\n",
      "[[1 2]\n",
      " [3 4]\n",
      " [5 6]]\n",
      "********************************************************************************\n",
      "[[1 2]\n",
      " [3 4]\n",
      " [5 6]\n",
      " [1 2]\n",
      " [3 4]\n",
      " [5 6]\n",
      " [1 2]\n",
      " [3 4]\n",
      " [5 6]] (9, 2)\n"
     ]
    }
   ],
   "source": [
    "orig = np.array([[1, 2], [3, 4], [5, 6]])\n",
    "print(orig.shape)\n",
    "print(orig)\n",
    "print('*' * 80)\n",
    "a = np.tile(orig, (3, 1))\n",
    "print(a, a.shape)"
   ]
  },
  {
   "cell_type": "code",
   "execution_count": 21,
   "metadata": {},
   "outputs": [
    {
     "data": {
      "text/plain": [
       "(1, 512)"
      ]
     },
     "execution_count": 21,
     "metadata": {},
     "output_type": "execute_result"
    }
   ],
   "source": [
    "x_train[:1].shape"
   ]
  },
  {
   "cell_type": "code",
   "execution_count": 16,
   "metadata": {},
   "outputs": [
    {
     "ename": "AssertionError",
     "evalue": "",
     "output_type": "error",
     "traceback": [
      "\u001b[0;31m---------------------------------------------------------------------------\u001b[0m",
      "\u001b[0;31mAssertionError\u001b[0m                            Traceback (most recent call last)",
      "\u001b[0;32m<ipython-input-16-29403cf677e6>\u001b[0m in \u001b[0;36m<module>\u001b[0;34m()\u001b[0m\n\u001b[0;32m----> 1\u001b[0;31m \u001b[0;32massert\u001b[0m \u001b[0;36m0\u001b[0m\u001b[0;34m\u001b[0m\u001b[0m\n\u001b[0m",
      "\u001b[0;31mAssertionError\u001b[0m: "
     ]
    }
   ],
   "source": [
    "assert 0"
   ]
  },
  {
   "cell_type": "code",
   "execution_count": null,
   "metadata": {},
   "outputs": [],
   "source": []
  },
  {
   "cell_type": "markdown",
   "metadata": {},
   "source": [
    "### topn"
   ]
  },
  {
   "cell_type": "code",
   "execution_count": null,
   "metadata": {},
   "outputs": [],
   "source": [
    "topn = 10\n",
    "amount = small_debug_rows\n",
    "top1_count = 0\n",
    "topn_count = 0\n",
    "for idx in range(amount):\n",
    "    item_main_x = np.array([x_train[idx]]*x_train.shape[0])\n",
    "    item_x_train = {\n",
    "        'main_input': item_main_x,\n",
    "        'library_input': x_train\n",
    "    }\n",
    "    y_proba = model.predict(item_x_train, batch_size=1024)\n",
    "    item_y_train = int(y_train[idx])\n",
    "    top1_pred = int(y_train[np.argmax(y_proba)])\n",
    "    topn_pred_arr = [int(y_train[item[0]]) for item in np.argsort(y_proba, axis=0)[-topn:]]\n",
    "    if item_y_train == top1_pred:\n",
    "        top1_count += 1\n",
    "    if item_y_train in topn_pred_arr:\n",
    "        topn_count += 1\n",
    "    print(item_y_train, '-->', top1_pred, topn_pred_arr)\n",
    "\n",
    "print('*' * 80)\n",
    "print(top1_count, '%.2f' % (top1_count/amount))\n",
    "print(topn_count, '%.2f' % (topn_count/amount))"
   ]
  },
  {
   "cell_type": "markdown",
   "metadata": {},
   "source": [
    "### weighted topn"
   ]
  },
  {
   "cell_type": "code",
   "execution_count": 49,
   "metadata": {},
   "outputs": [
    {
     "name": "stdout",
     "output_type": "stream",
     "text": [
      "[[0.1]\n",
      " [0.2]\n",
      " [0.3]\n",
      " [0.2]\n",
      " [0.2]\n",
      " [0.2]] <class 'numpy.ndarray'>\n",
      "6\n",
      "[0 0 1 1 2 2] <class 'numpy.ndarray'>\n"
     ]
    },
    {
     "data": {
      "text/plain": [
       "([0, 2, 1], [0.3, 0.4, 0.5])"
      ]
     },
     "execution_count": 49,
     "metadata": {},
     "output_type": "execute_result"
    }
   ],
   "source": [
    "def get_weight_topn(y_proba, topn, y_data):\n",
    "    y_proba_argsorted = [(y_data[item[0]], y_proba[item[0]][0]) for item in np.argsort(y_proba, axis=0)[-topn:]]\n",
    "    class_score_dict = {}\n",
    "    for item_class, item_proba in y_proba_argsorted:\n",
    "        if item_class in class_score_dict:\n",
    "            class_score_dict[item_class] += item_proba\n",
    "        else:\n",
    "            class_score_dict[item_class] = item_proba\n",
    "    class_score_arr = list(class_score_dict.items())\n",
    "    class_score_arr = sorted(class_score_arr, key=lambda x: x[1])\n",
    "    topn_pred_arr = [int(item[0]) for item in class_score_arr]\n",
    "    class_score_arr = [round(item[1], 3) for item in class_score_arr]\n",
    "    return topn_pred_arr, class_score_arr\n",
    "\n",
    "y_proba = np.array([[0.1], [0.2], [0.3], [0.2], [0.2], [0.2]])\n",
    "topn = 6\n",
    "y_data = np.array([0, 0, 1, 1, 2, 2])\n",
    "print(y_proba, type(y_proba))\n",
    "print(topn)\n",
    "print(y_data, type(y_data))\n",
    "get_weight_topn(y_proba, topn, y_data)"
   ]
  },
  {
   "cell_type": "code",
   "execution_count": null,
   "metadata": {},
   "outputs": [],
   "source": [
    "topn = 10\n",
    "amount = small_debug_rows\n",
    "top1_count = 0\n",
    "topn_1_count = 0\n",
    "topn_count = 0\n",
    "for idx in range(amount):\n",
    "    item_main_x = np.array([x_train[idx]]*x_train.shape[0])\n",
    "    item_x_train = {\n",
    "        'main_input': item_main_x,\n",
    "        'library_input': x_train\n",
    "    }\n",
    "    y_proba = model.predict(item_x_train, batch_size=1024)\n",
    "    item_y_train = int(y_train[idx])\n",
    "    top1_pred = int(y_train[np.argmax(y_proba)])\n",
    "#     topn_pred_arr = [y_train[item[0]] for item in np.argsort(y_proba, axis=0)[-topn:]]\n",
    "    topn_pred_arr, class_score_arr = get_weight_topn(y_proba, topn, y_train)\n",
    "    topn_1_pred = topn_pred_arr[-1]\n",
    "    if item_y_train == top1_pred:\n",
    "        top1_count += 1\n",
    "    if item_y_train == topn_1_pred:\n",
    "        topn_1_count += 1\n",
    "    if item_y_train in topn_pred_arr:\n",
    "        topn_count += 1\n",
    "    print(item_y_train, '-->', top1_pred, '\\t', topn_1_pred, topn_pred_arr, class_score_arr)\n",
    "\n",
    "print('*' * 80)\n",
    "print(top1_count, '%.2f' % (top1_count/amount))\n",
    "print(topn_1_count, '%.2f' % (topn_1_count/amount))\n",
    "print(topn_count, '%.2f' % (topn_count/amount))"
   ]
  },
  {
   "cell_type": "markdown",
   "metadata": {},
   "source": [
    "### encapsolution"
   ]
  },
  {
   "cell_type": "code",
   "execution_count": 54,
   "metadata": {
    "scrolled": true
   },
   "outputs": [
    {
     "name": "stdout",
     "output_type": "stream",
     "text": [
      "20190511-155821\n",
      "20190511-155832\n",
      "20190511-155832\n",
      "20190511-155911\n",
      "20190511-155912\n",
      "0 (0, [175067, 174106, 106318, 113460, 73879, 137248, 194505, 199923, 110488, 0], 0, [175067, 174106, 106318, 113460, 73879, 137248, 194505, 199923, 110488, 0], [0.998, 0.998, 0.998, 0.999, 0.999, 0.999, 0.999, 0.999, 0.999, 0.999])\n",
      "CPU times: user 9.26 s, sys: 10.2 s, total: 19.5 s\n",
      "Wall time: 51 s\n"
     ]
    }
   ],
   "source": [
    "%%time\n",
    "def get_single_pred(idx, main_x, libary_x, topn, batch_size=1024):\n",
    "    time_arr = []\n",
    "    time_arr.append(time.strftime(\"%Y%m%d-%H%M%S\", time.localtime()))\n",
    "#     item_main_x = np.array([main_x[idx]]*libary_x.shape[0])\n",
    "    expand_np = np.expand_dims(main_x[idx], axis=0)\n",
    "    item_main_x = np.tile(expand_np, (libary_x.shape[0], 1))\n",
    "    time_arr.append(time.strftime(\"%Y%m%d-%H%M%S\", time.localtime()))\n",
    "    item_x = {\n",
    "        'main_input': item_main_x,\n",
    "        'library_input': libary_x\n",
    "    }\n",
    "    time_arr.append(time.strftime(\"%Y%m%d-%H%M%S\", time.localtime()))\n",
    "    y_proba = model.predict(item_x, batch_size=batch_size)\n",
    "    time_arr.append(time.strftime(\"%Y%m%d-%H%M%S\", time.localtime()))\n",
    "    top1_pred = int(y_train[np.argmax(y_proba)])\n",
    "    topn_pred_arr = [int(y_train[item[0]]) for item in np.argsort(y_proba, axis=0)[-topn:]]\n",
    "    weighted_topn_pred_arr, class_score_arr = get_weight_topn(y_proba, topn, y_train)\n",
    "    weighted_top1_pred = weighted_topn_pred_arr[-1]\n",
    "    time_arr.append(time.strftime(\"%Y%m%d-%H%M%S\", time.localtime()))\n",
    "#     for item in time_arr:\n",
    "#         print(item)\n",
    "    return top1_pred, topn_pred_arr, weighted_top1_pred, weighted_topn_pred_arr, class_score_arr\n",
    "\n",
    "idx = 0\n",
    "topn = 10\n",
    "# train\n",
    "print(int(y_train[idx]), get_single_pred(idx, x_train, x_train, topn, batch_size=1024))\n",
    "# val\n",
    "# print(int(y_val[idx]), get_single_pred(idx, x_val, x_train, topn, batch_size=1024))"
   ]
  },
  {
   "cell_type": "code",
   "execution_count": null,
   "metadata": {},
   "outputs": [],
   "source": [
    "topn = 10\n",
    "amount = big_debug_rows\n",
    "top1_count = 0\n",
    "topn_1_count = 0\n",
    "topn_count = 0\n",
    "for idx in range(amount):\n",
    "    top1_pred, topn_pred_arr, weighted_top1_pred, weighted_topn_pred_arr, class_score_arr = get_single_pred(idx, x_train, x_train, topn, batch_size=1024)\n",
    "    \n",
    "    item_y_data = int(y_train[idx])\n",
    "    if item_y_data == top1_pred:\n",
    "        top1_count += 1\n",
    "    if item_y_data == weighted_top1_pred:\n",
    "        topn_1_count += 1\n",
    "    if item_y_data in topn_pred_arr:\n",
    "        topn_count += 1\n",
    "    print(item_y_data, '-->', top1_pred, weighted_top1_pred, '\\t', weighted_topn_pred_arr, class_score_arr)\n",
    "\n",
    "print('*' * 80)\n",
    "print(top1_count, '%.2f' % (top1_count/amount))\n",
    "print(topn_1_count, '%.2f' % (topn_1_count/amount))\n",
    "print(topn_count, '%.2f' % (topn_count/amount))"
   ]
  },
  {
   "cell_type": "code",
   "execution_count": null,
   "metadata": {},
   "outputs": [],
   "source": [
    "topn = 10\n",
    "amount = big_debug_rows\n",
    "top1_count = 0\n",
    "topn_1_count = 0\n",
    "topn_count = 0\n",
    "for idx in range(amount):\n",
    "    top1_pred, topn_pred_arr, weighted_top1_pred, weighted_topn_pred_arr, class_score_arr = get_single_pred(idx, x_val, x_train, topn, batch_size=1024)\n",
    "    \n",
    "    item_y_data = int(y_val[idx])\n",
    "    if item_y_data == top1_pred:\n",
    "        top1_count += 1\n",
    "    if item_y_data == weighted_top1_pred:\n",
    "        topn_1_count += 1\n",
    "    if item_y_data in topn_pred_arr:\n",
    "        topn_count += 1\n",
    "    print(item_y_data, '-->', top1_pred, weighted_top1_pred, '\\t', weighted_topn_pred_arr, class_score_arr)\n",
    "\n",
    "print('*' * 80)\n",
    "print(top1_count, '%.2f' % (top1_count/amount))\n",
    "print(topn_1_count, '%.2f' % (topn_1_count/amount))\n",
    "print(topn_count, '%.2f' % (topn_count/amount))"
   ]
  },
  {
   "cell_type": "code",
   "execution_count": null,
   "metadata": {},
   "outputs": [],
   "source": [
    "acc10000 = int(topn_count/amount*10000)\n",
    "# acc10000 = 10000 # for test\n",
    "# print(acc10000)\n",
    "if acc10000 == 10000:\n",
    "    run_name_acc = '%s_%05d' % (run_name, acc10000)\n",
    "else:\n",
    "    run_name_acc = '%s_%04d' % (run_name, acc10000)\n",
    "print(run_name_acc)"
   ]
  },
  {
   "cell_type": "code",
   "execution_count": null,
   "metadata": {},
   "outputs": [],
   "source": []
  },
  {
   "cell_type": "code",
   "execution_count": null,
   "metadata": {},
   "outputs": [],
   "source": []
  },
  {
   "cell_type": "code",
   "execution_count": null,
   "metadata": {},
   "outputs": [],
   "source": [
    "print('Time elapsed: %.1fs' % (time.time() - t0))\n",
    "print(run_name_acc)"
   ]
  },
  {
   "cell_type": "code",
   "execution_count": null,
   "metadata": {},
   "outputs": [],
   "source": []
  }
 ],
 "metadata": {
  "kernelspec": {
   "display_name": "Python 3",
   "language": "python",
   "name": "python3"
  },
  "language_info": {
   "codemirror_mode": {
    "name": "ipython",
    "version": 3
   },
   "file_extension": ".py",
   "mimetype": "text/x-python",
   "name": "python",
   "nbconvert_exporter": "python",
   "pygments_lexer": "ipython3",
   "version": "3.7.3"
  }
 },
 "nbformat": 4,
 "nbformat_minor": 2
}
