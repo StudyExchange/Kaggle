{
 "cells": [
  {
   "cell_type": "markdown",
   "metadata": {},
   "source": [
    "# 1. Preprocess-Stage1-Group-All-TrainData-KFold-Test"
   ]
  },
  {
   "cell_type": "markdown",
   "metadata": {},
   "source": [
    "## Run name"
   ]
  },
  {
   "cell_type": "code",
   "execution_count": 1,
   "metadata": {},
   "outputs": [
    {
     "name": "stdout",
     "output_type": "stream",
     "text": [
      "run_name: Google-LandMark-Rec2019_1-Preprocess-Stage1-Group-All-TrainData-KFold-Test_20190510-152539\n"
     ]
    }
   ],
   "source": [
    "import time\n",
    "project_name = 'Google-LandMark-Rec2019'\n",
    "step_name = '1-Preprocess-Stage1-Group-All-TrainData-KFold-Test'\n",
    "time_str = time.strftime(\"%Y%m%d-%H%M%S\", time.localtime())\n",
    "run_name = project_name + '_' + step_name + '_' + time_str\n",
    "print('run_name: ' + run_name)\n",
    "t0 = time.time()"
   ]
  },
  {
   "cell_type": "markdown",
   "metadata": {},
   "source": [
    "## Important params"
   ]
  },
  {
   "cell_type": "code",
   "execution_count": 2,
   "metadata": {},
   "outputs": [
    {
     "name": "stdout",
     "output_type": "stream",
     "text": [
      "cpu_amount:  4\n",
      "random_num: 1292\n",
      "0.95\n"
     ]
    }
   ],
   "source": [
    "import multiprocessing\n",
    "import random\n",
    "\n",
    "cpu_amount = multiprocessing.cpu_count()\n",
    "random_num = random.randint(0, 10000)\n",
    "# train_tar_count = 500\n",
    "train_data_ratio = 0.95\n",
    "\n",
    "# print('train_tar_count:', train_tar_count)\n",
    "print('cpu_amount: ', cpu_amount)\n",
    "print('random_num:', random_num)\n",
    "print(train_data_ratio)"
   ]
  },
  {
   "cell_type": "markdown",
   "metadata": {},
   "source": [
    "## Import PKGs"
   ]
  },
  {
   "cell_type": "code",
   "execution_count": 3,
   "metadata": {},
   "outputs": [],
   "source": [
    "import numpy as np\n",
    "import pandas as pd\n",
    "import matplotlib.pyplot as plt\n",
    "import matplotlib.image as mpimg\n",
    "%matplotlib inline\n",
    "from IPython.display import display\n",
    "from sklearn.model_selection import train_test_split, KFold\n",
    "\n",
    "import os, sys, gc, math, shutil, zipfile, pickle, h5py, re, tarfile\n",
    "import urllib, xlsxwriter\n",
    "from tqdm import tqdm\n",
    "import hashlib"
   ]
  },
  {
   "cell_type": "markdown",
   "metadata": {},
   "source": [
    "## Project folders"
   ]
  },
  {
   "cell_type": "code",
   "execution_count": 4,
   "metadata": {},
   "outputs": [
    {
     "name": "stdout",
     "output_type": "stream",
     "text": [
      "create folder: /data/landmark-recognition-2019/input/data_test/test\n"
     ]
    }
   ],
   "source": [
    "cwd = os.getcwd()\n",
    "feature_folder = os.path.join(cwd, 'feature')\n",
    "input_folder = os.path.join(cwd, 'input')\n",
    "output_folder = os.path.join(cwd, 'output')\n",
    "model_folder = os.path.join(cwd, 'model')\n",
    "\n",
    "md5sum_folder = os.path.join(input_folder, 'md5sum')\n",
    "if not os.path.exists(md5sum_folder):\n",
    "    os.mkdir(md5sum_folder)\n",
    "    print('create folder:', md5sum_folder)\n",
    "    \n",
    "train_tar_folder = os.path.join(input_folder, 'train_tar')\n",
    "if not os.path.exists(train_tar_folder):\n",
    "    os.mkdir(train_tar_folder)\n",
    "    print('create folder:', train_tar_folder)\n",
    "    \n",
    "train_untar_folder = os.path.join(input_folder, 'train_untar')\n",
    "if not os.path.exists(train_untar_folder):\n",
    "    os.mkdir(train_untar_folder)\n",
    "    print('create folder:', train_untar_folder)\n",
    "    \n",
    "all_image_folder = os.path.join(input_folder, 'all_image')\n",
    "if not os.path.exists(all_image_folder):\n",
    "    os.mkdir(all_image_folder)\n",
    "    print('create folder:', all_image_folder)\n",
    "    \n",
    "test_image_folder = os.path.join(input_folder, 'test_image')\n",
    "# if not os.path.exists(test_image_folder):\n",
    "#     os.mkdir(test_image_folder)\n",
    "#     print('create folder:', test_image_folder)\n",
    "\n",
    "data_test_folder = os.path.join(input_folder, 'data_test')\n",
    "if not os.path.exists(data_test_folder):\n",
    "    os.mkdir(data_test_folder)\n",
    "    print('create folder:', data_test_folder)\n",
    "    \n",
    "data_test_subfolder = os.path.join(data_test_folder, 'test')\n",
    "if not os.path.exists(data_test_subfolder):\n",
    "    os.mkdir(data_test_subfolder)\n",
    "    print('create folder:', data_test_subfolder)\n",
    "else:\n",
    "    print('folder exists:', data_test_subfolder)\n",
    "# data_train_folder = os.path.join(input_folder, 'data_train')\n",
    "# if not os.path.exists(data_train_folder):\n",
    "#     os.mkdir(data_train_folder)\n",
    "#     print('create folder:', data_train_folder)\n",
    "    \n",
    "# data_val_folder = os.path.join(input_folder, 'data_val')\n",
    "# if not os.path.exists(data_val_folder):\n",
    "#     os.mkdir(data_val_folder)\n",
    "#     print('create folder:', data_val_folder)"
   ]
  },
  {
   "cell_type": "code",
   "execution_count": 5,
   "metadata": {},
   "outputs": [
    {
     "name": "stdout",
     "output_type": "stream",
     "text": [
      "/data/landmark-recognition-2019\n",
      "total 1.8G\n",
      "drwxr-xr-x     2 root   root   4.0K May  4 08:28 50000_00\n",
      "drwxr-xr-x     2 root   root   4.0K May  4 08:28 50000_01\n",
      "drwxr-xr-x     2 root   root   4.0K May  4 08:28 50000_02\n",
      "drwxr-xr-x     2 root   root   4.0K May  4 08:28 50000_03\n",
      "drwxr-xr-x     2 root   root   4.0K May  4 08:28 50000_04\n",
      "drwxr-xr-x     2 root   root   160M May  2 21:14 all_image\n",
      "drwxr-xr-x     3 root   root   4.0K May 10 15:25 data_test\n",
      "drwxr-xr-x 34010 root   root   824K May  4 09:55 data_train_00\n",
      "drwxr-xr-x 34216 root   root   772K May  4 10:07 data_train_01\n",
      "drwxr-xr-x 34205 root   root   836K May  4 10:18 data_train_02\n",
      "drwxr-xr-x 34053 root   root   836K May  4 10:30 data_train_03\n",
      "drwxr-xr-x 34183 root   root   812K May  4 10:42 data_train_04\n",
      "drwxr-xr-x 34082 root   root   824K May  4 10:53 data_train_05\n",
      "drwxr-xr-x 33987 root   root   804K May  4 11:03 data_train_06\n",
      "drwxr-xr-x 34110 root   root   832K May  4 11:13 data_train_07\n",
      "drwxr-xr-x 34196 root   root   804K May  4 11:24 data_train_08\n",
      "drwxr-xr-x 34237 root   root   824K May  4 11:34 data_train_09\n",
      "drwxr-xr-x 34161 root   root   808K May  4 11:44 data_train_10\n",
      "drwxr-xr-x 34105 root   root   836K May  4 11:54 data_train_11\n",
      "drwxr-xr-x 34127 root   root   772K May  4 12:04 data_train_12\n",
      "drwxr-xr-x 34258 root   root   804K May  4 12:14 data_train_13\n",
      "drwxr-xr-x 34102 root   root   808K May  4 12:24 data_train_14\n",
      "drwxr-xr-x 34264 root   root   808K May  4 12:34 data_train_15\n",
      "drwxr-xr-x 34109 root   root   792K May  4 12:45 data_train_16\n",
      "drwxr-xr-x 34111 root   root   812K May  4 12:55 data_train_17\n",
      "drwxr-xr-x 34192 root   root   840K May  4 13:05 data_train_18\n",
      "drwxr-xr-x 34334 root   root   776K May  4 13:16 data_train_19\n",
      "drwxr-xr-x 34216 root   root   740K May  4 13:26 data_train_20\n",
      "drwxr-xr-x 34102 root   root   808K May  4 13:37 data_train_21\n",
      "drwxr-xr-x 34357 root   root   820K May  4 13:47 data_train_22\n",
      "drwxr-xr-x 34037 root   root   812K May  4 13:58 data_train_23\n",
      "drwxr-xr-x 34198 root   root   812K May  4 14:08 data_train_24\n",
      "drwxr-xr-x 34091 root   root   812K May  4 14:19 data_train_25\n",
      "drwxr-xr-x 34109 root   root   808K May  4 14:29 data_train_26\n",
      "drwxr-xr-x 34187 root   root   804K May  4 14:41 data_train_27\n",
      "drwxr-xr-x 34229 root   root   820K May  4 14:51 data_train_28\n",
      "drwxr-xr-x 34217 root   root   804K May  4 15:01 data_train_29\n",
      "drwxr-xr-x 34082 root   root   760K May  4 15:11 data_train_30\n",
      "drwxr-xr-x 34011 root   root   776K May  4 15:21 data_train_31\n",
      "drwxr-xr-x 34040 root   root   788K May  4 15:32 data_train_32\n",
      "drwxr-xr-x 34166 root   root   808K May  4 15:42 data_train_33\n",
      "drwxr-xr-x 34353 root   root   828K May  4 15:53 data_train_34\n",
      "drwxr-xr-x 34230 root   root   844K May  4 16:04 data_train_35\n",
      "drwxr-xr-x 34042 root   root   796K May  4 16:15 data_train_36\n",
      "drwxr-xr-x 34205 root   root   804K May  4 16:26 data_train_37\n",
      "drwxr-xr-x 34098 root   root   848K May  4 16:36 data_train_38\n",
      "drwxr-xr-x 34095 root   root   824K May  4 16:47 data_train_39\n",
      "drwxr-xr-x 34210 root   root   812K May  4 16:58 data_train_40\n",
      "drwxr-xr-x 34040 root   root   780K May  4 17:08 data_train_41\n",
      "drwxr-xr-x 34212 root   root   804K May  4 17:19 data_train_42\n",
      "drwxr-xr-x 34193 root   root   736K May  4 17:30 data_train_43\n",
      "drwxr-xr-x 34224 root   root   800K May  4 17:41 data_train_44\n",
      "drwxr-xr-x 34071 root   root   788K May  4 17:52 data_train_45\n",
      "drwxr-xr-x 34230 root   root   812K May  4 18:02 data_train_46\n",
      "drwxr-xr-x 34103 root   root   804K May  4 18:13 data_train_47\n",
      "drwxr-xr-x 34036 root   root   824K May  4 18:23 data_train_48\n",
      "drwxr-xr-x 34142 root   root   812K May  4 18:35 data_train_49\n",
      "drwxr-xr-x 34174 root   root   764K May  4 18:46 data_train_50\n",
      "drwxr-xr-x 34106 root   root   812K May  4 18:57 data_train_51\n",
      "drwxr-xr-x 34250 root   root   836K May  4 19:08 data_train_52\n",
      "drwxr-xr-x 34271 root   root   808K May  4 19:20 data_train_53\n",
      "drwxr-xr-x 33957 root   root   800K May  4 19:31 data_train_54\n",
      "drwxr-xr-x 34062 root   root   796K May  4 19:43 data_train_55\n",
      "drwxr-xr-x 34015 root   root   808K May  4 19:54 data_train_56\n",
      "drwxr-xr-x 34245 root   root   828K May  4 20:05 data_train_57\n",
      "drwxr-xr-x 34018 root   root   824K May  4 20:18 data_train_58\n",
      "drwxr-xr-x 34228 root   root   828K May  4 20:28 data_train_59\n",
      "drwxr-xr-x 34182 root   root   816K May  4 20:39 data_train_60\n",
      "drwxr-xr-x 34294 root   root   776K May  4 20:50 data_train_61\n",
      "drwxr-xr-x 34154 root   root   832K May  4 21:01 data_train_62\n",
      "drwxr-xr-x 34178 root   root   808K May  4 21:12 data_train_63\n",
      "drwxr-xr-x 34174 root   root   836K May  4 21:23 data_train_64\n",
      "drwxr-xr-x 34131 root   root   800K May  4 21:34 data_train_65\n",
      "drwxr-xr-x 34113 root   root   800K May  4 21:46 data_train_66\n",
      "drwxr-xr-x 34416 root   root   848K May  4 21:57 data_train_67\n",
      "drwxr-xr-x 34055 root   root   832K May  4 22:11 data_train_68\n",
      "drwxr-xr-x 34107 root   root   832K May  4 22:23 data_train_69\n",
      "drwxr-xr-x 34215 root   root   812K May  4 22:35 data_train_70\n",
      "drwxr-xr-x 33979 root   root   792K May  4 22:47 data_train_71\n",
      "drwxr-xr-x 34188 root   root   816K May  4 22:59 data_train_72\n",
      "drwxr-xr-x 34137 root   root   780K May  4 23:11 data_train_73\n",
      "drwxr-xr-x 34157 root   root   808K May  4 23:23 data_train_74\n",
      "drwxr-xr-x 34196 root   root   760K May  4 23:35 data_train_75\n",
      "drwxr-xr-x 34119 root   root   788K May  4 23:47 data_train_76\n",
      "drwxr-xr-x 34189 root   root   804K May  4 23:58 data_train_77\n",
      "drwxr-xr-x 20586 root   root   516K May  5 00:04 data_train_78\n",
      "drwxr-xr-x 34162 root   root   824K May  4 08:59 data_val_00\n",
      "drwxr-xr-x 34198 root   root   816K May  4 09:14 data_val_01\n",
      "drwxr-xr-x 34266 root   root   808K May  4 09:23 data_val_02\n",
      "drwxr-xr-x 34157 root   root   808K May  4 09:33 data_val_03\n",
      "drwxr-xr-x  6119 root   root   132K May  4 09:34 data_val_04\n",
      "drwxr-xr-x     2 root   root   4.0K May 10 13:40 google-landmarks-dataset\n",
      "-rw-rw-r--     1 ubuntu ubuntu 108M May  1 17:18 google-landmarks-dataset.zip\n",
      "drwxr-xr-x     2 root   root    24K May  1 17:29 md5sum\n",
      "----------     1 root   root   3.0M Apr  8 02:17 recognition_sample_submission.csv\n",
      "-rw-r--r--     1 root   root   1.3M May  3 05:08 recognition_sample_submission.csv.zip\n",
      "drwxr-xr-x     2 root   root   6.1M May 10 15:18 test\n",
      "drwxr-xr-x     2 root   root   4.4M May 10 13:42 test_image\n",
      "-rw-r--r--     1 root   root   965M Apr  5 21:54 train_attribution.csv\n",
      "-rw-r--r--     1 root   root   502M Apr  5 21:57 train.csv\n",
      "drwxr-xr-x     2 root   root    20K May  2 20:39 train_tar\n",
      "drwxr-xr-x   502 root   root    20K May  2 20:39 train_untar\n"
     ]
    }
   ],
   "source": [
    "!pwd\n",
    "!ls ./input -hl"
   ]
  },
  {
   "cell_type": "code",
   "execution_count": 6,
   "metadata": {},
   "outputs": [
    {
     "name": "stdout",
     "output_type": "stream",
     "text": [
      "e42936e3627d8989.jpg\n",
      "96d0f4fec18d8c84.jpg\n",
      "02fd1c4af95765fd.jpg\n",
      "37bdd02aebba82a6.jpg\n",
      "b732241b0be6a043.jpg\n",
      "ls: write error: Broken pipe\n"
     ]
    }
   ],
   "source": [
    "!ls ./input/all_image/ -U|head -5"
   ]
  },
  {
   "cell_type": "code",
   "execution_count": 7,
   "metadata": {},
   "outputs": [],
   "source": [
    "# !wget https://s3.amazonaws.com/google-landmark/metadata/train.csv\n",
    "# !wget https://s3.amazonaws.com/google-landmark/metadata/train_attribution.csv"
   ]
  },
  {
   "cell_type": "code",
   "execution_count": 8,
   "metadata": {},
   "outputs": [
    {
     "name": "stdout",
     "output_type": "stream",
     "text": [
      "/data/landmark-recognition-2019/input/train.csv\n",
      "/data/landmark-recognition-2019/input/test.csv\n",
      "/data/landmark-recognition-2019/input/google_landmark_boxes_split1.csv\n",
      "/data/landmark-recognition-2019/input/google_landmark_boxes_split2.csv\n",
      "/data/landmark-recognition-2019/input/recognition_sample_submission.csv\n"
     ]
    }
   ],
   "source": [
    "train_csv = os.path.join(input_folder, 'train.csv')\n",
    "test_csv = os.path.join(input_folder, 'test.csv')\n",
    "boxes_split1_csv = os.path.join(input_folder, 'google_landmark_boxes_split1.csv')\n",
    "boxes_split2_csv = os.path.join(input_folder, 'google_landmark_boxes_split2.csv')\n",
    "recognition_sample_submission_csv = os.path.join(input_folder, 'recognition_sample_submission.csv')\n",
    "\n",
    "print(train_csv)\n",
    "print(test_csv)\n",
    "print(boxes_split1_csv)\n",
    "print(boxes_split2_csv)\n",
    "print(recognition_sample_submission_csv)\n"
   ]
  },
  {
   "cell_type": "code",
   "execution_count": 9,
   "metadata": {},
   "outputs": [],
   "source": [
    "# def split_group(df, all_image_folder, data_set_name='demo', split_size=50000):\n",
    "#     split_amount = math.ceil(df.shape[0]/split_size)\n",
    "#     print('split_amount:', split_amount)\n",
    "        \n",
    "#     data_item_invalid_count = 0\n",
    "#     data_item_softlink_count = 0\n",
    "#     for i, start_index in enumerate(range(0, df.shape[0], split_size)):\n",
    "#         print(i, start_index, end='\\t')\n",
    "#         split_df = df.loc[df.index[start_index: (start_index+split_size)]]\n",
    "#         print(split_df.shape, end='\\t')\n",
    "\n",
    "#         data_item_folder = os.path.join(input_folder, '%s_%02d' % (data_set_name, i))\n",
    "#         if not os.path.exists(data_item_folder):\n",
    "#             os.mkdir(data_item_folder)\n",
    "#             print('Folder crated:', data_item_folder, end='\\t')\n",
    "#         for idx, row in split_df.iterrows():\n",
    "#             src_image_path = os.path.join(all_image_folder, '%s.jpg' % row['id'])\n",
    "#         #     print(src_image_path)\n",
    "#             if not os.path.exists(src_image_path):\n",
    "#                 data_item_invalid_count += 1\n",
    "#                 continue\n",
    "#         #     print(src_image_path)\n",
    "#             target_image_folder = os.path.join(data_item_folder, '%06d' % row['landmark_id'])\n",
    "#         #     print(target_image_folder)\n",
    "#             if not os.path.exists(target_image_folder):\n",
    "#                 os.mkdir(target_image_folder)\n",
    "#         #         print('Folder created:', target_image_folder)\n",
    "#             target_image_path = os.path.join(target_image_folder, '%s.jpg' % row['id'])\n",
    "#             if not os.path.exists(target_image_path):\n",
    "#                 data_item_softlink_count += 1\n",
    "#                 os.symlink(src_image_path, target_image_path)\n",
    "#             if data_item_softlink_count % 1000 == 0:\n",
    "#                 print('-', end='')\n",
    "# #             if data_item_softlink_count % 10000 == 0:\n",
    "# #                 print('|')\n",
    "\n",
    "#         print('data_item_invalid_count:', data_item_invalid_count, end='\\t')\n",
    "#         print('data_item_softlink_count:', data_item_softlink_count)\n",
    "#         print('*' * 40)\n",
    "#     print('*' * 80)\n"
   ]
  },
  {
   "cell_type": "code",
   "execution_count": 10,
   "metadata": {},
   "outputs": [
    {
     "name": "stdout",
     "output_type": "stream",
     "text": [
      "****************************************************************************************************|\n",
      "****************************************************************************************************|\n",
      "****************************************************************************************************|\n",
      "****************************************************************************************************|\n",
      "****************************************************************************************************|\n",
      "****************************************************************************************************|\n",
      "****************************************************************************************************|\n",
      "****************************************************************************************************|\n",
      "****************************************************************************************************|\n",
      "****************************************************************************************************|\n",
      "****************************************************************************************************|\n",
      "***************************112749\n"
     ]
    }
   ],
   "source": [
    "images = os.listdir(test_image_folder)\n",
    "count = 0\n",
    "for file_name in images:\n",
    "    src_image_path = os.path.join(test_image_folder, file_name)\n",
    "    target_image_path = os.path.join(data_test_subfolder, file_name)\n",
    "#     print(src_image_path, target_image_path)\n",
    "    if not os.path.exists(target_image_path):\n",
    "        os.symlink(src_image_path, target_image_path)\n",
    "    count += 1\n",
    "    if count % 100 == 0:\n",
    "        print('*', end='')\n",
    "    if count % 10000 == 0:\n",
    "        print('|')\n",
    "        \n",
    "print(count)"
   ]
  },
  {
   "cell_type": "code",
   "execution_count": null,
   "metadata": {},
   "outputs": [],
   "source": []
  },
  {
   "cell_type": "code",
   "execution_count": 11,
   "metadata": {},
   "outputs": [
    {
     "name": "stdout",
     "output_type": "stream",
     "text": [
      "Time elapsed: 14.1s\n",
      "Google-LandMark-Rec2019_1-Preprocess-Stage1-Group-All-TrainData-KFold-Test_20190510-152539\n"
     ]
    }
   ],
   "source": [
    "print('Time elapsed: %.1fs' % (time.time() - t0))\n",
    "print(run_name)"
   ]
  },
  {
   "cell_type": "code",
   "execution_count": null,
   "metadata": {},
   "outputs": [],
   "source": []
  }
 ],
 "metadata": {
  "kernelspec": {
   "display_name": "Python 3",
   "language": "python",
   "name": "python3"
  },
  "language_info": {
   "codemirror_mode": {
    "name": "ipython",
    "version": 3
   },
   "file_extension": ".py",
   "mimetype": "text/x-python",
   "name": "python",
   "nbconvert_exporter": "python",
   "pygments_lexer": "ipython3",
   "version": "3.6.5"
  }
 },
 "nbformat": 4,
 "nbformat_minor": 2
}
