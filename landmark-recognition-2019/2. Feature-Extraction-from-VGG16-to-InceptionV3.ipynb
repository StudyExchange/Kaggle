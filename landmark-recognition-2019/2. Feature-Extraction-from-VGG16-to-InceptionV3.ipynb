{
 "cells": [
  {
   "cell_type": "markdown",
   "metadata": {
    "collapsed": true
   },
   "source": [
    "## 2. Feature-Extraction-from-VGG16-to-InceptionV3"
   ]
  },
  {
   "cell_type": "markdown",
   "metadata": {},
   "source": [
    "### References:\n",
    "1. https://github.com/ypwhs/dogs_vs_cats\n",
    "2. https://www.kaggle.com/yangpeiwen/keras-inception-xception-0-47"
   ]
  },
  {
   "cell_type": "markdown",
   "metadata": {},
   "source": [
    "## Run name"
   ]
  },
  {
   "cell_type": "code",
   "execution_count": 1,
   "metadata": {},
   "outputs": [
    {
     "name": "stdout",
     "output_type": "stream",
     "text": [
      "run_name: Google-LandMark-Rec2019_2-Feature-Extraction-from-VGG16-to-InceptionV3_20190511-015852\n"
     ]
    }
   ],
   "source": [
    "import time\n",
    "project_name = 'Google-LandMark-Rec2019'\n",
    "step_name = '2-Feature-Extraction-from-VGG16-to-InceptionV3'\n",
    "time_str = time.strftime(\"%Y%m%d-%H%M%S\", time.localtime())\n",
    "run_name = project_name + '_' + step_name + '_' + time_str\n",
    "print('run_name: ' + run_name)\n",
    "t0 = time.time()"
   ]
  },
  {
   "cell_type": "markdown",
   "metadata": {},
   "source": [
    "## Important params"
   ]
  },
  {
   "cell_type": "code",
   "execution_count": 2,
   "metadata": {},
   "outputs": [
    {
     "name": "stdout",
     "output_type": "stream",
     "text": [
      "train_tar_count: 500\n",
      "cpu_amount:  4\n"
     ]
    }
   ],
   "source": [
    "import multiprocessing\n",
    "\n",
    "cpu_amount = multiprocessing.cpu_count()\n",
    "train_tar_count = 500\n",
    "\n",
    "print('train_tar_count:', train_tar_count)\n",
    "print('cpu_amount: ', cpu_amount)"
   ]
  },
  {
   "cell_type": "markdown",
   "metadata": {
    "collapsed": true
   },
   "source": [
    "## Import pkgs"
   ]
  },
  {
   "cell_type": "code",
   "execution_count": 3,
   "metadata": {},
   "outputs": [
    {
     "name": "stderr",
     "output_type": "stream",
     "text": [
      "Using TensorFlow backend.\n"
     ]
    }
   ],
   "source": [
    "import os, time, math, h5py, pickle\n",
    "\n",
    "from keras.layers import *\n",
    "from keras.models import *\n",
    "from keras.applications import *\n",
    "from keras.optimizers import *\n",
    "from keras.regularizers import *\n",
    "from keras.preprocessing.image import *\n",
    "from keras.applications.vgg16 import preprocess_input as preprocess_input_vgg16\n",
    "from keras.applications.vgg19 import preprocess_input as preprocess_input_vgg19\n",
    "from keras.applications.inception_v3 import preprocess_input as preprocess_input_inception_v3"
   ]
  },
  {
   "cell_type": "code",
   "execution_count": 4,
   "metadata": {},
   "outputs": [],
   "source": [
    "import tensorflow as tf\n",
    "import keras.backend.tensorflow_backend as KTF\n",
    "\n",
    "config = tf.ConfigProto()\n",
    "config.gpu_options.per_process_gpu_memory_fraction = 0.5\n",
    "session = tf.Session(config=config)\n",
    "\n",
    "KTF.set_session(session )"
   ]
  },
  {
   "cell_type": "markdown",
   "metadata": {},
   "source": [
    "## Project folders"
   ]
  },
  {
   "cell_type": "code",
   "execution_count": 5,
   "metadata": {},
   "outputs": [],
   "source": [
    "cwd = os.getcwd()\n",
    "feature_folder = os.path.join(cwd, 'feature')\n",
    "input_folder = os.path.join(cwd, 'input')\n",
    "output_folder = os.path.join(cwd, 'output')\n",
    "model_folder = os.path.join(cwd, 'model')"
   ]
  },
  {
   "cell_type": "code",
   "execution_count": 6,
   "metadata": {},
   "outputs": [
    {
     "name": "stdout",
     "output_type": "stream",
     "text": [
      "folder exists: /data/landmark-recognition-2019/input/data_test/test\n"
     ]
    }
   ],
   "source": [
    "data_test_folder = os.path.join(input_folder, 'data_test')\n",
    "if not os.path.exists(data_test_folder):\n",
    "    os.mkdir(data_test_folder)\n",
    "    print('create folder:', data_test_folder)\n",
    "    \n",
    "data_test_subfolder = os.path.join(data_test_folder, 'test')\n",
    "if not os.path.exists(data_test_subfolder):\n",
    "    os.mkdir(data_test_subfolder)\n",
    "    print('create folder:', data_test_subfolder)\n",
    "else:\n",
    "    print('folder exists:', data_test_subfolder)"
   ]
  },
  {
   "cell_type": "markdown",
   "metadata": {},
   "source": [
    "## Functions"
   ]
  },
  {
   "cell_type": "code",
   "execution_count": 7,
   "metadata": {},
   "outputs": [
    {
     "name": "stdout",
     "output_type": "stream",
     "text": [
      "[0, 1, 2, 3, 4, 5, 6, 7, 8, 9]\n",
      "/data/landmark-recognition-2019/temp/pickle_demo.pkl\n",
      "[0, 1, 2, 3, 4, 5, 6, 7, 8, 9]\n"
     ]
    }
   ],
   "source": [
    "def pickle_dump(data, file):\n",
    "    with open(file, 'wb') as f:\n",
    "        pickle.dump(data, f)\n",
    "\n",
    "def pickle_load(file):\n",
    "    with open(file, 'rb') as f:\n",
    "        data = pickle.load(f)\n",
    "    return data\n",
    "\n",
    "a = list(range(10))\n",
    "print(a)\n",
    "demo_file = os.path.join(os.getcwd(), 'temp', 'pickle_demo.pkl')\n",
    "print(demo_file)\n",
    "pickle_dump(a, demo_file)\n",
    "new_a = pickle_load(demo_file)\n",
    "print(new_a)"
   ]
  },
  {
   "cell_type": "code",
   "execution_count": 8,
   "metadata": {},
   "outputs": [],
   "source": [
    "def get_max_factor(num, batch_size):\n",
    "    for i in range(batch_size):\n",
    "        factor = batch_size - i\n",
    "        if num % factor == 0:\n",
    "            return factor\n",
    "        \n",
    "assert get_max_factor(10, 5) == 5\n",
    "assert get_max_factor(10, 3) == 2\n",
    "assert get_max_factor(10, 2) == 2\n",
    "assert get_max_factor(10, 1) == 1\n",
    "assert get_max_factor(10, 7) == 5"
   ]
  },
  {
   "cell_type": "code",
   "execution_count": 9,
   "metadata": {},
   "outputs": [
    {
     "name": "stdout",
     "output_type": "stream",
     "text": [
      "*|\n",
      "****************************************************************************************************|\n",
      "****************************************************************************************************|\n",
      "****************************************************************************************************|\n",
      "****************************************************************************************************|\n",
      "****************************************************************************************************|\n",
      "****************************************************************************************************|\n",
      "****************************************************************************************************|\n",
      "****************************************************************************************************|\n",
      "****************************************************************************************************|\n",
      "****************************************************************************************************|\n",
      "****************************************************************************************************|\n",
      "***************************112749\n",
      "CPU times: user 4.44 s, sys: 1.42 s, total: 5.86 s\n",
      "Wall time: 4.32 s\n"
     ]
    }
   ],
   "source": [
    "%%time\n",
    "def get_image_amount(folder, is_show_progress=False):\n",
    "    count = 0\n",
    "    stack = [folder]\n",
    "    while(stack):\n",
    "        item = stack.pop(0)\n",
    "        if os.path.isdir(item):\n",
    "            sub_items = os.listdir(item)\n",
    "            sub_path = [os.path.join(item, sub_item) for sub_item in sub_items]\n",
    "            stack += sub_path\n",
    "        else:\n",
    "            count += 1\n",
    "        if not is_show_progress:\n",
    "            continue\n",
    "        if count % 100 == 0:\n",
    "            print('*', end='')\n",
    "        if count % 10000 == 0:\n",
    "            print('|')\n",
    "    return count\n",
    "\n",
    "print(get_image_amount(data_test_subfolder, True))"
   ]
  },
  {
   "cell_type": "code",
   "execution_count": 10,
   "metadata": {},
   "outputs": [],
   "source": [
    "def get_features(MODEL, model_name, image_size, folder_name, batch_size=1, lambda_func=None):\n",
    "    print('{0} start.'.format(model_name))\n",
    "    start_time = time.time()\n",
    "    \n",
    "    width = image_size[0]\n",
    "    height = image_size[1]\n",
    "    input_tensor = Input((height, width, 3))\n",
    "    x = input_tensor\n",
    "    if lambda_func:\n",
    "        print(lambda_func.__name__)\n",
    "        x = Lambda(lambda_func)(x)\n",
    "    base_model = MODEL(input_tensor=x, weights='imagenet', include_top=False)\n",
    "    model = Model(base_model.input, GlobalAveragePooling2D()(base_model.output))\n",
    "\n",
    "    cwd = os.getcwd()\n",
    "    data_train_path = os.path.join(cwd, 'input', folder_name)\n",
    "    print(data_train_path)\n",
    "    image_amount = get_image_amount(data_train_path)\n",
    "    batch_size = get_max_factor(image_amount, batch_size)\n",
    "    print('image_amount: %d, batch_size: %d' % (image_amount, batch_size))\n",
    "    \n",
    "    gen = ImageDataGenerator()\n",
    "    train_generator = gen.flow_from_directory(\n",
    "        data_train_path, \n",
    "        image_size, \n",
    "        shuffle=False, \n",
    "        batch_size=batch_size\n",
    "    )\n",
    "    \n",
    "    train_steps = math.floor(len(train_generator.classes)/batch_size)\n",
    "    print('train_steps:', train_steps)\n",
    "    train = model.predict_generator(\n",
    "        train_generator, \n",
    "        steps=train_steps,\n",
    "        max_queue_size=8*batch_size,\n",
    "#         workers=cpu_amount, \n",
    "#         use_multiprocessing=False,\n",
    "        verbose=1\n",
    "    )\n",
    "    \n",
    "    class_indices_file = os.path.join(cwd, 'feature', 'feature_{0}_{1}_{2}_class_indices.pkl'.format(model_name, folder_name, 171023))\n",
    "    if os.path.exists(class_indices_file):\n",
    "        os.remove(class_indices_file)\n",
    "    print(class_indices_file)\n",
    "    pickle_dump(train_generator.class_indices, class_indices_file)\n",
    "\n",
    "    h5py_file_name = os.path.join(cwd, 'feature', 'feature_{0}_{1}_{2}.h5'.format(model_name, folder_name, 171023))\n",
    "    print(h5py_file_name)\n",
    "    if os.path.exists(h5py_file_name):\n",
    "        os.remove(h5py_file_name)\n",
    "    with h5py.File(h5py_file_name) as h:\n",
    "        h.create_dataset('x_%s' % folder_name, data=train)\n",
    "        h.create_dataset('classes_%s' % folder_name, data=train_generator.classes)\n",
    "        h.create_dataset('index_%s' % folder_name, data=train_generator.index_array)\n",
    "#         h.create_dataset(\"val\", data=val)\n",
    "#         h.create_dataset(\"val_label\", data=val_generator.classes)\n",
    "#         h.create_dataset(\"test\", data=test)\n",
    "\n",
    "    print(train.shape)\n",
    "    print(len(train_generator.classes))\n",
    "#     print(val.shape)\n",
    "#     print(len(val_generator.classes))\n",
    "#     print(test.shape)\n",
    "    \n",
    "#     print(dir(train_generator))\n",
    "    print(train_generator.samples)\n",
    "    print(train_generator.image_shape)\n",
    "    print(train_generator.classes)\n",
    "    print(train_generator.num_classes)\n",
    "    print(train_generator.batch_index)\n",
    "    print(train_generator.index_generator)\n",
    "    print(train_generator.index_array)\n",
    "#     print(train_generator.class_indices)\n",
    "    print(type(train_generator.class_indices))\n",
    "    \n",
    "    end_time = time.time()\n",
    "    print('Spend time: {0} s'.format(end_time-start_time))\n",
    "#     break"
   ]
  },
  {
   "cell_type": "markdown",
   "metadata": {},
   "source": [
    "## Extract feature"
   ]
  },
  {
   "cell_type": "code",
   "execution_count": 11,
   "metadata": {},
   "outputs": [],
   "source": [
    "# get_features(VGG16, 'VGG16', (224, 224), 'data_train', 1)\n",
    "# get_features(VGG16, 'VGG16', (224, 224), 'data_val', 17, preprocess_input_vgg16)\n",
    "# get_features(VGG16, (224, 224), 'data_test', 1)"
   ]
  },
  {
   "cell_type": "code",
   "execution_count": 12,
   "metadata": {},
   "outputs": [],
   "source": [
    "# demo_file = os.path.join(os.getcwd(), 'feature', 'feature_VGG16_data_val_171023_class_indices.pkl')\n",
    "# print(demo_file)\n",
    "# # pickle_dump(a, demo_file)\n",
    "# new_a = pickle_load(demo_file)\n",
    "# print(new_a)"
   ]
  },
  {
   "cell_type": "code",
   "execution_count": 13,
   "metadata": {},
   "outputs": [
    {
     "name": "stdout",
     "output_type": "stream",
     "text": [
      "50000_00       data_train_27  data_train_61\r\n",
      "50000_01       data_train_28  data_train_62\r\n",
      "50000_02       data_train_29  data_train_63\r\n",
      "50000_03       data_train_30  data_train_64\r\n",
      "50000_04       data_train_31  data_train_65\r\n",
      "all_image      data_train_32  data_train_66\r\n",
      "data_test      data_train_33  data_train_67\r\n",
      "data_train_00  data_train_34  data_train_68\r\n",
      "data_train_01  data_train_35  data_train_69\r\n",
      "data_train_02  data_train_36  data_train_70\r\n",
      "data_train_03  data_train_37  data_train_71\r\n",
      "data_train_04  data_train_38  data_train_72\r\n",
      "data_train_05  data_train_39  data_train_73\r\n",
      "data_train_06  data_train_40  data_train_74\r\n",
      "data_train_07  data_train_41  data_train_75\r\n",
      "data_train_08  data_train_42  data_train_76\r\n",
      "data_train_09  data_train_43  data_train_77\r\n",
      "data_train_10  data_train_44  data_train_78\r\n",
      "data_train_11  data_train_45  data_val_00\r\n",
      "data_train_12  data_train_46  data_val_01\r\n",
      "data_train_13  data_train_47  data_val_02\r\n",
      "data_train_14  data_train_48  data_val_03\r\n",
      "data_train_15  data_train_49  data_val_04\r\n",
      "data_train_16  data_train_50  google-landmarks-dataset\r\n",
      "data_train_17  data_train_51  google-landmarks-dataset.zip\r\n",
      "data_train_18  data_train_52  md5sum\r\n",
      "data_train_19  data_train_53  recognition_sample_submission.csv\r\n",
      "data_train_20  data_train_54  recognition_sample_submission.csv.zip\r\n",
      "data_train_21  data_train_55  test_image\r\n",
      "data_train_22  data_train_56  train_attribution.csv\r\n",
      "data_train_23  data_train_57  train.csv\r\n",
      "data_train_24  data_train_58  train_tar\r\n",
      "data_train_25  data_train_59  train_untar\r\n",
      "data_train_26  data_train_60\r\n"
     ]
    }
   ],
   "source": [
    "!ls ./input"
   ]
  },
  {
   "cell_type": "code",
   "execution_count": 14,
   "metadata": {},
   "outputs": [
    {
     "name": "stdout",
     "output_type": "stream",
     "text": [
      "total 8.4G\r\n",
      "-rw-r--r-- 1 ubuntu ubuntu 830K May  3 12:19 feature_VGG16_data_val_171023.h5\r\n",
      "-rw-r--r-- 1 ubuntu ubuntu 631K May  6 17:05 feature_VGG19_data_train_00_171023_class_indices.pkl\r\n",
      "-rw-r--r-- 1 ubuntu ubuntu  99M May  6 17:05 feature_VGG19_data_train_00_171023.h5\r\n",
      "-rw-r--r-- 1 ubuntu ubuntu 634K May  6 17:30 feature_VGG19_data_train_01_171023_class_indices.pkl\r\n",
      "-rw-r--r-- 1 ubuntu ubuntu  99M May  6 17:30 feature_VGG19_data_train_01_171023.h5\r\n",
      "-rw-r--r-- 1 ubuntu ubuntu 634K May  6 18:01 feature_VGG19_data_train_02_171023_class_indices.pkl\r\n",
      "-rw-r--r-- 1 ubuntu ubuntu  99M May  6 18:01 feature_VGG19_data_train_02_171023.h5\r\n",
      "-rw-r--r-- 1 ubuntu ubuntu 631K May  6 18:33 feature_VGG19_data_train_03_171023_class_indices.pkl\r\n",
      "-rw-r--r-- 1 ubuntu ubuntu  99M May  6 18:33 feature_VGG19_data_train_03_171023.h5\r\n",
      "-rw-r--r-- 1 ubuntu ubuntu 634K May  6 19:06 feature_VGG19_data_train_04_171023_class_indices.pkl\r\n",
      "-rw-r--r-- 1 ubuntu ubuntu  99M May  6 19:06 feature_VGG19_data_train_04_171023.h5\r\n",
      "-rw-r--r-- 1 ubuntu ubuntu 632K May  6 19:37 feature_VGG19_data_train_05_171023_class_indices.pkl\r\n",
      "-rw-r--r-- 1 ubuntu ubuntu  99M May  6 19:37 feature_VGG19_data_train_05_171023.h5\r\n",
      "-rw-r--r-- 1 ubuntu ubuntu 630K May  6 20:09 feature_VGG19_data_train_06_171023_class_indices.pkl\r\n",
      "-rw-r--r-- 1 ubuntu ubuntu  99M May  6 20:09 feature_VGG19_data_train_06_171023.h5\r\n",
      "-rw-r--r-- 1 ubuntu ubuntu 632K May  6 20:41 feature_VGG19_data_train_07_171023_class_indices.pkl\r\n",
      "-rw-r--r-- 1 ubuntu ubuntu  99M May  6 20:41 feature_VGG19_data_train_07_171023.h5\r\n",
      "-rw-r--r-- 1 ubuntu ubuntu 634K May  6 21:13 feature_VGG19_data_train_08_171023_class_indices.pkl\r\n",
      "-rw-r--r-- 1 ubuntu ubuntu  99M May  6 21:13 feature_VGG19_data_train_08_171023.h5\r\n",
      "-rw-r--r-- 1 ubuntu ubuntu 635K May  6 21:43 feature_VGG19_data_train_09_171023_class_indices.pkl\r\n",
      "-rw-r--r-- 1 ubuntu ubuntu  99M May  6 21:43 feature_VGG19_data_train_09_171023.h5\r\n",
      "-rw-r--r-- 1 ubuntu ubuntu 633K May  6 22:13 feature_VGG19_data_train_10_171023_class_indices.pkl\r\n",
      "-rw-r--r-- 1 ubuntu ubuntu  99M May  6 22:13 feature_VGG19_data_train_10_171023.h5\r\n",
      "-rw-r--r-- 1 ubuntu ubuntu 632K May  6 22:46 feature_VGG19_data_train_11_171023_class_indices.pkl\r\n",
      "-rw-r--r-- 1 ubuntu ubuntu  99M May  6 22:46 feature_VGG19_data_train_11_171023.h5\r\n",
      "-rw-r--r-- 1 ubuntu ubuntu 633K May  6 23:18 feature_VGG19_data_train_12_171023_class_indices.pkl\r\n",
      "-rw-r--r-- 1 ubuntu ubuntu  99M May  6 23:18 feature_VGG19_data_train_12_171023.h5\r\n",
      "-rw-r--r-- 1 ubuntu ubuntu 635K May  6 23:50 feature_VGG19_data_train_13_171023_class_indices.pkl\r\n",
      "-rw-r--r-- 1 ubuntu ubuntu  99M May  6 23:50 feature_VGG19_data_train_13_171023.h5\r\n",
      "-rw-r--r-- 1 ubuntu ubuntu 632K May  7 00:21 feature_VGG19_data_train_14_171023_class_indices.pkl\r\n",
      "-rw-r--r-- 1 ubuntu ubuntu  99M May  7 00:21 feature_VGG19_data_train_14_171023.h5\r\n",
      "-rw-r--r-- 1 ubuntu ubuntu 635K May  7 00:51 feature_VGG19_data_train_15_171023_class_indices.pkl\r\n",
      "-rw-r--r-- 1 ubuntu ubuntu  99M May  7 00:51 feature_VGG19_data_train_15_171023.h5\r\n",
      "-rw-r--r-- 1 ubuntu ubuntu 632K May  7 01:22 feature_VGG19_data_train_16_171023_class_indices.pkl\r\n",
      "-rw-r--r-- 1 ubuntu ubuntu  99M May  7 01:22 feature_VGG19_data_train_16_171023.h5\r\n",
      "-rw-r--r-- 1 ubuntu ubuntu 632K May  7 01:54 feature_VGG19_data_train_17_171023_class_indices.pkl\r\n",
      "-rw-r--r-- 1 ubuntu ubuntu  99M May  7 01:54 feature_VGG19_data_train_17_171023.h5\r\n",
      "-rw-r--r-- 1 ubuntu ubuntu 634K May  7 02:26 feature_VGG19_data_train_18_171023_class_indices.pkl\r\n",
      "-rw-r--r-- 1 ubuntu ubuntu  99M May  7 02:26 feature_VGG19_data_train_18_171023.h5\r\n",
      "-rw-r--r-- 1 ubuntu ubuntu 637K May  7 02:58 feature_VGG19_data_train_19_171023_class_indices.pkl\r\n",
      "-rw-r--r-- 1 ubuntu ubuntu  99M May  7 02:58 feature_VGG19_data_train_19_171023.h5\r\n",
      "-rw-r--r-- 1 ubuntu ubuntu 634K May  7 03:30 feature_VGG19_data_train_20_171023_class_indices.pkl\r\n",
      "-rw-r--r-- 1 ubuntu ubuntu  99M May  7 03:30 feature_VGG19_data_train_20_171023.h5\r\n",
      "-rw-r--r-- 1 ubuntu ubuntu 632K May  7 04:03 feature_VGG19_data_train_21_171023_class_indices.pkl\r\n",
      "-rw-r--r-- 1 ubuntu ubuntu  99M May  7 04:03 feature_VGG19_data_train_21_171023.h5\r\n",
      "-rw-r--r-- 1 ubuntu ubuntu 637K May  7 22:38 feature_VGG19_data_train_22_171023_class_indices.pkl\r\n",
      "-rw-r--r-- 1 ubuntu ubuntu  99M May  7 22:38 feature_VGG19_data_train_22_171023.h5\r\n",
      "-rw-r--r-- 1 ubuntu ubuntu 631K May  7 23:07 feature_VGG19_data_train_23_171023_class_indices.pkl\r\n",
      "-rw-r--r-- 1 ubuntu ubuntu  99M May  7 23:07 feature_VGG19_data_train_23_171023.h5\r\n",
      "-rw-r--r-- 1 ubuntu ubuntu 634K May  7 23:36 feature_VGG19_data_train_24_171023_class_indices.pkl\r\n",
      "-rw-r--r-- 1 ubuntu ubuntu  99M May  7 23:36 feature_VGG19_data_train_24_171023.h5\r\n",
      "-rw-r--r-- 1 ubuntu ubuntu 632K May  8 00:06 feature_VGG19_data_train_25_171023_class_indices.pkl\r\n",
      "-rw-r--r-- 1 ubuntu ubuntu  99M May  8 00:06 feature_VGG19_data_train_25_171023.h5\r\n",
      "-rw-r--r-- 1 ubuntu ubuntu 632K May  8 00:36 feature_VGG19_data_train_26_171023_class_indices.pkl\r\n",
      "-rw-r--r-- 1 ubuntu ubuntu  99M May  8 00:36 feature_VGG19_data_train_26_171023.h5\r\n",
      "-rw-r--r-- 1 ubuntu ubuntu 634K May  8 01:06 feature_VGG19_data_train_27_171023_class_indices.pkl\r\n",
      "-rw-r--r-- 1 ubuntu ubuntu  99M May  8 01:06 feature_VGG19_data_train_27_171023.h5\r\n",
      "-rw-r--r-- 1 ubuntu ubuntu 635K May  8 01:36 feature_VGG19_data_train_28_171023_class_indices.pkl\r\n",
      "-rw-r--r-- 1 ubuntu ubuntu  99M May  8 01:36 feature_VGG19_data_train_28_171023.h5\r\n",
      "-rw-r--r-- 1 ubuntu ubuntu 634K May  8 02:06 feature_VGG19_data_train_29_171023_class_indices.pkl\r\n",
      "-rw-r--r-- 1 ubuntu ubuntu  99M May  8 02:06 feature_VGG19_data_train_29_171023.h5\r\n",
      "-rw-r--r-- 1 ubuntu ubuntu 632K May  8 02:35 feature_VGG19_data_train_30_171023_class_indices.pkl\r\n",
      "-rw-r--r-- 1 ubuntu ubuntu  99M May  8 02:35 feature_VGG19_data_train_30_171023.h5\r\n",
      "-rw-r--r-- 1 ubuntu ubuntu 631K May  8 03:05 feature_VGG19_data_train_31_171023_class_indices.pkl\r\n",
      "-rw-r--r-- 1 ubuntu ubuntu  99M May  8 03:05 feature_VGG19_data_train_31_171023.h5\r\n",
      "-rw-r--r-- 1 ubuntu ubuntu 631K May  8 03:35 feature_VGG19_data_train_32_171023_class_indices.pkl\r\n",
      "-rw-r--r-- 1 ubuntu ubuntu  99M May  8 03:35 feature_VGG19_data_train_32_171023.h5\r\n",
      "-rw-r--r-- 1 ubuntu ubuntu 633K May  8 04:07 feature_VGG19_data_train_33_171023_class_indices.pkl\r\n",
      "-rw-r--r-- 1 ubuntu ubuntu  99M May  8 04:07 feature_VGG19_data_train_33_171023.h5\r\n",
      "-rw-r--r-- 1 ubuntu ubuntu 637K May  8 04:37 feature_VGG19_data_train_34_171023_class_indices.pkl\r\n",
      "-rw-r--r-- 1 ubuntu ubuntu  99M May  8 04:37 feature_VGG19_data_train_34_171023.h5\r\n",
      "-rw-r--r-- 1 ubuntu ubuntu 635K May  8 05:07 feature_VGG19_data_train_35_171023_class_indices.pkl\r\n",
      "-rw-r--r-- 1 ubuntu ubuntu  99M May  8 05:07 feature_VGG19_data_train_35_171023.h5\r\n",
      "-rw-r--r-- 1 ubuntu ubuntu 631K May  8 05:39 feature_VGG19_data_train_36_171023_class_indices.pkl\r\n",
      "-rw-r--r-- 1 ubuntu ubuntu  99M May  8 05:39 feature_VGG19_data_train_36_171023.h5\r\n",
      "-rw-r--r-- 1 ubuntu ubuntu 634K May  8 06:09 feature_VGG19_data_train_37_171023_class_indices.pkl\r\n",
      "-rw-r--r-- 1 ubuntu ubuntu  99M May  8 06:09 feature_VGG19_data_train_37_171023.h5\r\n",
      "-rw-r--r-- 1 ubuntu ubuntu 632K May  8 06:39 feature_VGG19_data_train_38_171023_class_indices.pkl\r\n",
      "-rw-r--r-- 1 ubuntu ubuntu  99M May  8 06:39 feature_VGG19_data_train_38_171023.h5\r\n",
      "-rw-r--r-- 1 ubuntu ubuntu 632K May  8 07:09 feature_VGG19_data_train_39_171023_class_indices.pkl\r\n",
      "-rw-r--r-- 1 ubuntu ubuntu  99M May  8 07:09 feature_VGG19_data_train_39_171023.h5\r\n",
      "-rw-r--r-- 1 ubuntu ubuntu 634K May  8 07:39 feature_VGG19_data_train_40_171023_class_indices.pkl\r\n",
      "-rw-r--r-- 1 ubuntu ubuntu  99M May  8 07:39 feature_VGG19_data_train_40_171023.h5\r\n",
      "-rw-r--r-- 1 ubuntu ubuntu 631K May  8 08:10 feature_VGG19_data_train_41_171023_class_indices.pkl\r\n",
      "-rw-r--r-- 1 ubuntu ubuntu  99M May  8 08:10 feature_VGG19_data_train_41_171023.h5\r\n",
      "-rw-r--r-- 1 ubuntu ubuntu 634K May  8 08:40 feature_VGG19_data_train_42_171023_class_indices.pkl\r\n",
      "-rw-r--r-- 1 ubuntu ubuntu  99M May  8 08:40 feature_VGG19_data_train_42_171023.h5\r\n",
      "-rw-r--r-- 1 ubuntu ubuntu 634K May  8 09:09 feature_VGG19_data_train_43_171023_class_indices.pkl\r\n",
      "-rw-r--r-- 1 ubuntu ubuntu  99M May  8 09:09 feature_VGG19_data_train_43_171023.h5\r\n",
      "-rw-r--r-- 1 ubuntu ubuntu 635K May  8 09:41 feature_VGG19_data_train_44_171023_class_indices.pkl\r\n",
      "-rw-r--r-- 1 ubuntu ubuntu  99M May  8 09:41 feature_VGG19_data_train_44_171023.h5\r\n",
      "-rw-r--r-- 1 ubuntu ubuntu 632K May  8 10:10 feature_VGG19_data_train_45_171023_class_indices.pkl\r\n",
      "-rw-r--r-- 1 ubuntu ubuntu  99M May  8 10:10 feature_VGG19_data_train_45_171023.h5\r\n",
      "-rw-r--r-- 1 ubuntu ubuntu 635K May  8 10:41 feature_VGG19_data_train_46_171023_class_indices.pkl\r\n",
      "-rw-r--r-- 1 ubuntu ubuntu  99M May  8 10:41 feature_VGG19_data_train_46_171023.h5\r\n",
      "-rw-r--r-- 1 ubuntu ubuntu 632K May  8 11:12 feature_VGG19_data_train_47_171023_class_indices.pkl\r\n",
      "-rw-r--r-- 1 ubuntu ubuntu  99M May  8 11:12 feature_VGG19_data_train_47_171023.h5\r\n",
      "-rw-r--r-- 1 ubuntu ubuntu 631K May  8 11:42 feature_VGG19_data_train_48_171023_class_indices.pkl\r\n",
      "-rw-r--r-- 1 ubuntu ubuntu  99M May  8 11:42 feature_VGG19_data_train_48_171023.h5\r\n",
      "-rw-r--r-- 1 ubuntu ubuntu 633K May  8 12:13 feature_VGG19_data_train_49_171023_class_indices.pkl\r\n",
      "-rw-r--r-- 1 ubuntu ubuntu  99M May  8 12:13 feature_VGG19_data_train_49_171023.h5\r\n",
      "-rw-r--r-- 1 ubuntu ubuntu 634K May  5 11:49 feature_VGG19_data_train_50_171023_class_indices.pkl\r\n",
      "-rw-r--r-- 1 ubuntu ubuntu  98M May  5 11:49 feature_VGG19_data_train_50_171023.h5\r\n",
      "-rw-r--r-- 1 ubuntu ubuntu 632K May  5 12:02 feature_VGG19_data_train_51_171023_class_indices.pkl\r\n",
      "-rw-r--r-- 1 ubuntu ubuntu  98M May  5 12:02 feature_VGG19_data_train_51_171023.h5\r\n",
      "-rw-r--r-- 1 ubuntu ubuntu 635K May  5 12:15 feature_VGG19_data_train_52_171023_class_indices.pkl\r\n",
      "-rw-r--r-- 1 ubuntu ubuntu  98M May  5 12:15 feature_VGG19_data_train_52_171023.h5\r\n",
      "-rw-r--r-- 1 ubuntu ubuntu 635K May  5 12:27 feature_VGG19_data_train_53_171023_class_indices.pkl\r\n",
      "-rw-r--r-- 1 ubuntu ubuntu  98M May  5 12:27 feature_VGG19_data_train_53_171023.h5\r\n",
      "-rw-r--r-- 1 ubuntu ubuntu 630K May  5 12:40 feature_VGG19_data_train_54_171023_class_indices.pkl\r\n",
      "-rw-r--r-- 1 ubuntu ubuntu  98M May  5 12:40 feature_VGG19_data_train_54_171023.h5\r\n",
      "-rw-r--r-- 1 ubuntu ubuntu 632K May  5 12:53 feature_VGG19_data_train_55_171023_class_indices.pkl\r\n",
      "-rw-r--r-- 1 ubuntu ubuntu  98M May  5 12:53 feature_VGG19_data_train_55_171023.h5\r\n",
      "-rw-r--r-- 1 ubuntu ubuntu 631K May  5 13:06 feature_VGG19_data_train_56_171023_class_indices.pkl\r\n",
      "-rw-r--r-- 1 ubuntu ubuntu  98M May  5 13:06 feature_VGG19_data_train_56_171023.h5\r\n",
      "-rw-r--r-- 1 ubuntu ubuntu 635K May  5 13:18 feature_VGG19_data_train_57_171023_class_indices.pkl\r\n",
      "-rw-r--r-- 1 ubuntu ubuntu  98M May  5 13:18 feature_VGG19_data_train_57_171023.h5\r\n",
      "-rw-r--r-- 1 ubuntu ubuntu 631K May  5 13:31 feature_VGG19_data_train_58_171023_class_indices.pkl\r\n",
      "-rw-r--r-- 1 ubuntu ubuntu  98M May  5 13:31 feature_VGG19_data_train_58_171023.h5\r\n",
      "-rw-r--r-- 1 ubuntu ubuntu 635K May  5 13:44 feature_VGG19_data_train_59_171023_class_indices.pkl\r\n",
      "-rw-r--r-- 1 ubuntu ubuntu  98M May  5 13:44 feature_VGG19_data_train_59_171023.h5\r\n",
      "-rw-r--r-- 1 ubuntu ubuntu 634K May  5 13:57 feature_VGG19_data_train_60_171023_class_indices.pkl\r\n",
      "-rw-r--r-- 1 ubuntu ubuntu  98M May  5 13:57 feature_VGG19_data_train_60_171023.h5\r\n",
      "-rw-r--r-- 1 ubuntu ubuntu 636K May  5 14:10 feature_VGG19_data_train_61_171023_class_indices.pkl\r\n",
      "-rw-r--r-- 1 ubuntu ubuntu  98M May  5 14:10 feature_VGG19_data_train_61_171023.h5\r\n",
      "-rw-r--r-- 1 ubuntu ubuntu 633K May  5 14:23 feature_VGG19_data_train_62_171023_class_indices.pkl\r\n",
      "-rw-r--r-- 1 ubuntu ubuntu  98M May  5 14:23 feature_VGG19_data_train_62_171023.h5\r\n",
      "-rw-r--r-- 1 ubuntu ubuntu 634K May  5 14:36 feature_VGG19_data_train_63_171023_class_indices.pkl\r\n",
      "-rw-r--r-- 1 ubuntu ubuntu  98M May  5 14:36 feature_VGG19_data_train_63_171023.h5\r\n",
      "-rw-r--r-- 1 ubuntu ubuntu 634K May  5 14:49 feature_VGG19_data_train_64_171023_class_indices.pkl\r\n",
      "-rw-r--r-- 1 ubuntu ubuntu  98M May  5 14:49 feature_VGG19_data_train_64_171023.h5\r\n",
      "-rw-r--r-- 1 ubuntu ubuntu 633K May  5 15:02 feature_VGG19_data_train_65_171023_class_indices.pkl\r\n",
      "-rw-r--r-- 1 ubuntu ubuntu  98M May  5 15:02 feature_VGG19_data_train_65_171023.h5\r\n",
      "-rw-r--r-- 1 ubuntu ubuntu 632K May  5 15:15 feature_VGG19_data_train_66_171023_class_indices.pkl\r\n",
      "-rw-r--r-- 1 ubuntu ubuntu  98M May  5 15:15 feature_VGG19_data_train_66_171023.h5\r\n",
      "-rw-r--r-- 1 ubuntu ubuntu 638K May  5 15:28 feature_VGG19_data_train_67_171023_class_indices.pkl\r\n",
      "-rw-r--r-- 1 ubuntu ubuntu  98M May  5 15:28 feature_VGG19_data_train_67_171023.h5\r\n",
      "-rw-r--r-- 1 ubuntu ubuntu 631K May  5 15:41 feature_VGG19_data_train_68_171023_class_indices.pkl\r\n",
      "-rw-r--r-- 1 ubuntu ubuntu  98M May  5 15:41 feature_VGG19_data_train_68_171023.h5\r\n",
      "-rw-r--r-- 1 ubuntu ubuntu 632K May  5 15:54 feature_VGG19_data_train_69_171023_class_indices.pkl\r\n",
      "-rw-r--r-- 1 ubuntu ubuntu  98M May  5 15:54 feature_VGG19_data_train_69_171023.h5\r\n",
      "-rw-r--r-- 1 ubuntu ubuntu 634K May  5 16:07 feature_VGG19_data_train_70_171023_class_indices.pkl\r\n",
      "-rw-r--r-- 1 ubuntu ubuntu  98M May  5 16:07 feature_VGG19_data_train_70_171023.h5\r\n",
      "-rw-r--r-- 1 ubuntu ubuntu 630K May  5 16:20 feature_VGG19_data_train_71_171023_class_indices.pkl\r\n",
      "-rw-r--r-- 1 ubuntu ubuntu  98M May  5 16:20 feature_VGG19_data_train_71_171023.h5\r\n",
      "-rw-r--r-- 1 ubuntu ubuntu 634K May  5 16:33 feature_VGG19_data_train_72_171023_class_indices.pkl\r\n",
      "-rw-r--r-- 1 ubuntu ubuntu  98M May  5 16:33 feature_VGG19_data_train_72_171023.h5\r\n",
      "-rw-r--r-- 1 ubuntu ubuntu 633K May  5 16:47 feature_VGG19_data_train_73_171023_class_indices.pkl\r\n",
      "-rw-r--r-- 1 ubuntu ubuntu  98M May  5 16:47 feature_VGG19_data_train_73_171023.h5\r\n",
      "-rw-r--r-- 1 ubuntu ubuntu 633K May  5 16:59 feature_VGG19_data_train_74_171023_class_indices.pkl\r\n",
      "-rw-r--r-- 1 ubuntu ubuntu  98M May  5 16:59 feature_VGG19_data_train_74_171023.h5\r\n",
      "-rw-r--r-- 1 ubuntu ubuntu 634K May  5 17:12 feature_VGG19_data_train_75_171023_class_indices.pkl\r\n",
      "-rw-r--r-- 1 ubuntu ubuntu  98M May  5 17:12 feature_VGG19_data_train_75_171023.h5\r\n",
      "-rw-r--r-- 1 ubuntu ubuntu 633K May  5 17:25 feature_VGG19_data_train_76_171023_class_indices.pkl\r\n",
      "-rw-r--r-- 1 ubuntu ubuntu  98M May  5 17:25 feature_VGG19_data_train_76_171023.h5\r\n",
      "-rw-r--r-- 1 ubuntu ubuntu 634K May  5 17:38 feature_VGG19_data_train_77_171023_class_indices.pkl\r\n",
      "-rw-r--r-- 1 ubuntu ubuntu  98M May  5 17:38 feature_VGG19_data_train_77_171023.h5\r\n",
      "-rw-r--r-- 1 ubuntu ubuntu 381K May  5 17:46 feature_VGG19_data_train_78_171023_class_indices.pkl\r\n",
      "-rw-r--r-- 1 ubuntu ubuntu  52M May  5 17:46 feature_VGG19_data_train_78_171023.h5\r\n",
      "-rw-r--r-- 1 ubuntu ubuntu 633K May  7 16:35 feature_VGG19_data_val_00_171023_class_indices.pkl\r\n",
      "-rw-r--r-- 1 ubuntu ubuntu  99M May  7 16:35 feature_VGG19_data_val_00_171023.h5\r\n",
      "-rw-r--r-- 1 ubuntu ubuntu 634K May  7 17:06 feature_VGG19_data_val_01_171023_class_indices.pkl\r\n",
      "-rw-r--r-- 1 ubuntu ubuntu  99M May  7 17:06 feature_VGG19_data_val_01_171023.h5\r\n",
      "-rw-r--r-- 1 ubuntu ubuntu 635K May  7 17:37 feature_VGG19_data_val_02_171023_class_indices.pkl\r\n",
      "-rw-r--r-- 1 ubuntu ubuntu  99M May  7 17:37 feature_VGG19_data_val_02_171023.h5\r\n",
      "-rw-r--r-- 1 ubuntu ubuntu 633K May  7 18:09 feature_VGG19_data_val_03_171023_class_indices.pkl\r\n",
      "-rw-r--r-- 1 ubuntu ubuntu  99M May  7 18:09 feature_VGG19_data_val_03_171023.h5\r\n",
      "-rw-r--r-- 1 ubuntu ubuntu 113K May  7 18:13 feature_VGG19_data_val_04_171023_class_indices.pkl\r\n",
      "-rw-r--r-- 1 ubuntu ubuntu  14M May  7 18:13 feature_VGG19_data_val_04_171023.h5\r\n",
      "-rw-r--r-- 1 ubuntu ubuntu 405M May  3 16:25 feature_VGG19_data_val_171023.h5\r\n",
      "-rw-r--r-- 1 root   root      6 May 10 13:53 feature_VGG19_test_image_171023_class_indices.pkl\r\n",
      "-rw-r--r-- 1 root   root   1.7K May 10 13:53 feature_VGG19_test_image_171023.h5\r\n"
     ]
    }
   ],
   "source": [
    "!ls ./feature -hl"
   ]
  },
  {
   "cell_type": "code",
   "execution_count": 15,
   "metadata": {},
   "outputs": [],
   "source": [
    "# list_dir = list(os.listdir(input_folder))\n",
    "# list_dir.sort()\n",
    "# count = 0\n",
    "# for sub_folder_name in list_dir:\n",
    "#     if not (sub_folder_name.startswith('data_train_')):\n",
    "#         continue\n",
    "#     print(sub_folder_name)\n",
    "#     sub_folder = os.path.join(input_folder, sub_folder_name)\n",
    "#     if not os.path.isdir(sub_folder):\n",
    "#         print('Folder don`t exists:', sub_folder)\n",
    "#         continue\n",
    "#     print(sub_folder)\n",
    "#     count += 1\n",
    "#     if count <= 22:\n",
    "#         continue\n",
    "#     get_features(VGG19, 'VGG19', (224, 224), sub_folder_name, 16, preprocess_input_vgg19)\n",
    "    \n",
    "# get_features(VGG19, 'VGG19', (224, 224), 'data_val', 1)"
   ]
  },
  {
   "cell_type": "code",
   "execution_count": 16,
   "metadata": {},
   "outputs": [],
   "source": [
    "# new_a = pickle_load('''/data/landmark-recognition-2019/feature/feature_VGG19_data_train_00_171023_class_indices.pkl''')\n",
    "# print(new_a)"
   ]
  },
  {
   "cell_type": "code",
   "execution_count": 17,
   "metadata": {},
   "outputs": [
    {
     "name": "stdout",
     "output_type": "stream",
     "text": [
      "VGG19 start.\n",
      "wrapper\n",
      "WARNING:tensorflow:From /home/ubuntu/anaconda3/envs/tensorflow_p36/lib/python3.6/site-packages/tensorflow/python/framework/op_def_library.py:263: colocate_with (from tensorflow.python.framework.ops) is deprecated and will be removed in a future version.\n",
      "Instructions for updating:\n",
      "Colocations handled automatically by placer.\n",
      "/data/landmark-recognition-2019/input/data_test\n",
      "image_amount: 112749, batch_size: 13\n",
      "Found 112749 images belonging to 1 classes.\n",
      "train_steps: 8673\n",
      "8673/8673 [==============================] - 8714s 1s/step\n",
      "/data/landmark-recognition-2019/feature/feature_VGG19_data_test_171023_class_indices.pkl\n",
      "/data/landmark-recognition-2019/feature/feature_VGG19_data_test_171023.h5\n",
      "(112749, 512)\n",
      "112749\n",
      "112749\n",
      "(224, 224, 3)\n",
      "[0 0 0 ... 0 0 0]\n",
      "1\n",
      "1\n",
      "<generator object Iterator._flow_index at 0x7f64ceea8308>\n",
      "[     0      1      2 ... 112746 112747 112748]\n",
      "<class 'dict'>\n",
      "Spend time: 8722.146973371506 s\n"
     ]
    }
   ],
   "source": [
    "get_features(VGG19, 'VGG19', (224, 224), 'data_test', 16, preprocess_input_vgg19)"
   ]
  },
  {
   "cell_type": "code",
   "execution_count": 18,
   "metadata": {},
   "outputs": [],
   "source": [
    "# get_features(ResNet50, (224, 224), 1)"
   ]
  },
  {
   "cell_type": "code",
   "execution_count": 19,
   "metadata": {},
   "outputs": [],
   "source": [
    "# get_features(Xception, (299, 299), 1, xception.preprocess_input)"
   ]
  },
  {
   "cell_type": "code",
   "execution_count": 20,
   "metadata": {},
   "outputs": [],
   "source": [
    "# get_features(InceptionV3, (299, 299), 1, inception_v3.preprocess_input)"
   ]
  },
  {
   "cell_type": "code",
   "execution_count": 21,
   "metadata": {},
   "outputs": [],
   "source": [
    "# get_features(InceptionResNetV2, (299, 299), 1, inception_v3.preprocess_input)"
   ]
  },
  {
   "cell_type": "code",
   "execution_count": 22,
   "metadata": {},
   "outputs": [
    {
     "name": "stdout",
     "output_type": "stream",
     "text": [
      "Time elapsed: 8728.4s\n",
      "Google-LandMark-Rec2019_2-Feature-Extraction-from-VGG16-to-InceptionV3_20190511-015852\n"
     ]
    }
   ],
   "source": [
    "print('Time elapsed: %.1fs' % (time.time() - t0))\n",
    "print(run_name)"
   ]
  },
  {
   "cell_type": "code",
   "execution_count": null,
   "metadata": {},
   "outputs": [],
   "source": []
  }
 ],
 "metadata": {
  "kernelspec": {
   "display_name": "Python 3",
   "language": "python",
   "name": "python3"
  },
  "language_info": {
   "codemirror_mode": {
    "name": "ipython",
    "version": 3
   },
   "file_extension": ".py",
   "mimetype": "text/x-python",
   "name": "python",
   "nbconvert_exporter": "python",
   "pygments_lexer": "ipython3",
   "version": "3.7.3"
  }
 },
 "nbformat": 4,
 "nbformat_minor": 2
}
